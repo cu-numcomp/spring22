{
 "cells": [
  {
   "cell_type": "markdown",
   "id": "4159be0e",
   "metadata": {
    "hideCode": false,
    "hidePrompt": false,
    "slideshow": {
     "slide_type": "slide"
    }
   },
   "source": [
    "# 2022-01-12 Functions\n",
    "\n",
    "* Using Julia\n",
    "* Plotting\n",
    "* Intro to floating point\n",
    "* Summing series\n",
    "* Relative vs absolute errors"
   ]
  },
  {
   "cell_type": "markdown",
   "id": "1f28cbbc",
   "metadata": {
    "hideCode": false,
    "hidePrompt": false,
    "slideshow": {
     "slide_type": "slide"
    }
   },
   "source": [
    "# Julia\n",
    "\n",
    "Julia is a relatively new programming language. Think of it as MATLAB done right, open source, and fast. It's nominally general-purpose, but mostly for numerical/scientific/statistical computing. There are great [learning resources](https://julialang.org/learning/). We'll introduce concepts and language features as we go."
   ]
  },
  {
   "cell_type": "code",
   "execution_count": 1,
   "id": "7ab85301",
   "metadata": {
    "hideCode": false,
    "hidePrompt": false
   },
   "outputs": [
    {
     "data": {
      "text/plain": [
       "4"
      ]
     },
     "execution_count": 1,
     "metadata": {},
     "output_type": "execute_result"
    }
   ],
   "source": [
    "# The last line of a cell is output by default\n",
    "x = 3\n",
    "y = 4"
   ]
  },
  {
   "cell_type": "code",
   "execution_count": 2,
   "id": "22875437",
   "metadata": {
    "hideCode": false,
    "hidePrompt": false,
    "slideshow": {
     "slide_type": "fragment"
    }
   },
   "outputs": [
    {
     "name": "stdout",
     "output_type": "stream",
     "text": [
      "3 + 4 = 7\n"
     ]
    }
   ],
   "source": [
    "println(\"$x + $y = $(x + y)\") # string formatting/interpolation\n",
    "4;  # trailing semicolon suppresses output"
   ]
  },
  {
   "cell_type": "code",
   "execution_count": 3,
   "id": "7773ba94",
   "metadata": {
    "hideCode": false,
    "hidePrompt": false,
    "slideshow": {
     "slide_type": "fragment"
    }
   },
   "outputs": [
    {
     "name": "stdout",
     "output_type": "stream",
     "text": [
      "x + y = 7\n"
     ]
    },
    {
     "data": {
      "text/plain": [
       "12"
      ]
     },
     "execution_count": 3,
     "metadata": {},
     "output_type": "execute_result"
    }
   ],
   "source": [
    "@show x + y\n",
    "x * y"
   ]
  },
  {
   "cell_type": "markdown",
   "id": "f8d9c948",
   "metadata": {
    "hideCode": false,
    "hidePrompt": false,
    "slideshow": {
     "slide_type": "slide"
    }
   },
   "source": [
    "# Numbers"
   ]
  },
  {
   "cell_type": "code",
   "execution_count": 4,
   "id": "a21a9aae",
   "metadata": {
    "hideCode": false,
    "hidePrompt": false
   },
   "outputs": [
    {
     "data": {
      "text/plain": [
       "(3, 3.0, 3.0f0)"
      ]
     },
     "execution_count": 4,
     "metadata": {},
     "output_type": "execute_result"
    }
   ],
   "source": [
    "3, 3.0, 3.0f0 # integers, double precision, and single precision"
   ]
  },
  {
   "cell_type": "code",
   "execution_count": 5,
   "id": "cad03c36",
   "metadata": {
    "hideCode": false,
    "hidePrompt": false,
    "slideshow": {
     "slide_type": "fragment"
    }
   },
   "outputs": [
    {
     "data": {
      "text/plain": [
       "(Int64, Float64, Float32)"
      ]
     },
     "execution_count": 5,
     "metadata": {},
     "output_type": "execute_result"
    }
   ],
   "source": [
    "typeof(3), typeof(3.0), typeof(3.0f0)"
   ]
  },
  {
   "cell_type": "code",
   "execution_count": 6,
   "id": "fc571720",
   "metadata": {
    "slideshow": {
     "slide_type": "fragment"
    }
   },
   "outputs": [
    {
     "name": "stdout",
     "output_type": "stream",
     "text": [
      "3 + 3.0 = 6.0\n",
      "3.0 + 3.0f0 = 6.0\n",
      "3 + 3.0f0 = 6.0f0\n"
     ]
    }
   ],
   "source": [
    "# automatic promotion\n",
    "@show 3 + 3.0\n",
    "@show 3.0 + 3.0f0\n",
    "@show 3 + 3.0f0;"
   ]
  },
  {
   "cell_type": "code",
   "execution_count": 7,
   "id": "941746b3",
   "metadata": {
    "slideshow": {
     "slide_type": "fragment"
    }
   },
   "outputs": [
    {
     "name": "stdout",
     "output_type": "stream",
     "text": [
      "3 / 2 = 1.5\n",
      "3 ÷ 2 = 1\n"
     ]
    }
   ],
   "source": [
    "# floating and integer division\n",
    "@show 3 / 2\n",
    "@show 3 ÷ 2; # type `\\div` and press TAB"
   ]
  },
  {
   "cell_type": "markdown",
   "id": "bcc583c4",
   "metadata": {
    "slideshow": {
     "slide_type": "slide"
    }
   },
   "source": [
    "# Arrays"
   ]
  },
  {
   "cell_type": "code",
   "execution_count": 8,
   "id": "f70c3592",
   "metadata": {
    "cell_style": "split"
   },
   "outputs": [
    {
     "data": {
      "text/plain": [
       "3-element Vector{Int64}:\n",
       " 1\n",
       " 2\n",
       " 3"
      ]
     },
     "execution_count": 8,
     "metadata": {},
     "output_type": "execute_result"
    }
   ],
   "source": [
    "[1,2,3]"
   ]
  },
  {
   "cell_type": "code",
   "execution_count": 9,
   "id": "8a45c6db",
   "metadata": {
    "cell_style": "split",
    "slideshow": {
     "slide_type": "fragment"
    }
   },
   "outputs": [
    {
     "data": {
      "text/plain": [
       "3-element Vector{Float64}:\n",
       " 1.0\n",
       " 2.0\n",
       " 3.0"
      ]
     },
     "execution_count": 9,
     "metadata": {},
     "output_type": "execute_result"
    }
   ],
   "source": [
    "# explcit typing\n",
    "Float64[1,2,3]"
   ]
  },
  {
   "cell_type": "code",
   "execution_count": 10,
   "id": "766b13cd",
   "metadata": {
    "cell_style": "split",
    "slideshow": {
     "slide_type": "fragment"
    }
   },
   "outputs": [
    {
     "data": {
      "text/plain": [
       "3-element Vector{Float64}:\n",
       " 1.0\n",
       " 2.0\n",
       " 3.0"
      ]
     },
     "execution_count": 10,
     "metadata": {},
     "output_type": "execute_result"
    }
   ],
   "source": [
    "# promotion rules similar to arithmetic\n",
    "[1,2,3.]"
   ]
  },
  {
   "cell_type": "code",
   "execution_count": 11,
   "id": "5742608a",
   "metadata": {
    "cell_style": "split",
    "slideshow": {
     "slide_type": "fragment"
    }
   },
   "outputs": [
    {
     "data": {
      "text/plain": [
       "20"
      ]
     },
     "execution_count": 11,
     "metadata": {},
     "output_type": "execute_result"
    }
   ],
   "source": [
    "x = [10, 20, 30]\n",
    "x[2] # one-based indexing"
   ]
  },
  {
   "cell_type": "code",
   "execution_count": 12,
   "id": "4b566b5e",
   "metadata": {
    "cell_style": "split",
    "slideshow": {
     "slide_type": "fragment"
    }
   },
   "outputs": [],
   "source": [
    "#x[2] = 3.5"
   ]
  },
  {
   "cell_type": "code",
   "execution_count": 13,
   "id": "6422ea69",
   "metadata": {
    "cell_style": "split",
    "slideshow": {
     "slide_type": "fragment"
    }
   },
   "outputs": [
    {
     "data": {
      "text/plain": [
       "2×3 Matrix{Int64}:\n",
       " 10  20  30\n",
       " 40  50  60"
      ]
     },
     "execution_count": 13,
     "metadata": {},
     "output_type": "execute_result"
    }
   ],
   "source": [
    "# multi-dimensional array\n",
    "A = [10 20 30; 40 50 60]"
   ]
  },
  {
   "cell_type": "markdown",
   "id": "c7027d32",
   "metadata": {
    "slideshow": {
     "slide_type": "slide"
    }
   },
   "source": [
    "# Functions"
   ]
  },
  {
   "cell_type": "code",
   "execution_count": 14,
   "id": "ce304d6a",
   "metadata": {
    "cell_style": "split"
   },
   "outputs": [
    {
     "data": {
      "text/plain": [
       "f (generic function with 1 method)"
      ]
     },
     "execution_count": 14,
     "metadata": {},
     "output_type": "execute_result"
    }
   ],
   "source": [
    "function f(x, y)\n",
    "    sqrt(x*x + y*y)\n",
    "end"
   ]
  },
  {
   "cell_type": "code",
   "execution_count": 15,
   "id": "b39fa552",
   "metadata": {
    "cell_style": "split"
   },
   "outputs": [
    {
     "data": {
      "text/plain": [
       "5.0"
      ]
     },
     "execution_count": 15,
     "metadata": {},
     "output_type": "execute_result"
    }
   ],
   "source": [
    "f(3, 4)"
   ]
  },
  {
   "cell_type": "code",
   "execution_count": 16,
   "id": "a51770d4",
   "metadata": {
    "cell_style": "split",
    "slideshow": {
     "slide_type": "fragment"
    }
   },
   "outputs": [
    {
     "data": {
      "text/plain": [
       "5.0"
      ]
     },
     "execution_count": 16,
     "metadata": {},
     "output_type": "execute_result"
    }
   ],
   "source": [
    "g(x, y) = sqrt(x^2 + y^2)\n",
    "g(3, 4)"
   ]
  },
  {
   "cell_type": "code",
   "execution_count": 17,
   "id": "350d604e",
   "metadata": {
    "cell_style": "split",
    "slideshow": {
     "slide_type": "fragment"
    }
   },
   "outputs": [
    {
     "data": {
      "text/plain": [
       "5.0"
      ]
     },
     "execution_count": 17,
     "metadata": {},
     "output_type": "execute_result"
    }
   ],
   "source": [
    "((x, y) -> sqrt(x^2 + y^2))(3, 4)"
   ]
  },
  {
   "cell_type": "markdown",
   "id": "ed443633",
   "metadata": {
    "slideshow": {
     "slide_type": "slide"
    }
   },
   "source": [
    "# Loops"
   ]
  },
  {
   "cell_type": "code",
   "execution_count": 18,
   "id": "a72a3693",
   "metadata": {
    "cell_style": "split"
   },
   "outputs": [
    {
     "data": {
      "text/plain": [
       "1:5"
      ]
     },
     "execution_count": 18,
     "metadata": {},
     "output_type": "execute_result"
    }
   ],
   "source": [
    "# ranges\n",
    "1:5"
   ]
  },
  {
   "cell_type": "code",
   "execution_count": 19,
   "id": "1cff5422",
   "metadata": {
    "cell_style": "split"
   },
   "outputs": [
    {
     "data": {
      "text/plain": [
       "5-element Vector{Int64}:\n",
       " 1\n",
       " 2\n",
       " 3\n",
       " 4\n",
       " 5"
      ]
     },
     "execution_count": 19,
     "metadata": {},
     "output_type": "execute_result"
    }
   ],
   "source": [
    "collect(1:5)"
   ]
  },
  {
   "cell_type": "code",
   "execution_count": 27,
   "id": "6d92702a",
   "metadata": {
    "cell_style": "split",
    "slideshow": {
     "slide_type": "fragment"
    }
   },
   "outputs": [
    {
     "name": "stdout",
     "output_type": "stream",
     "text": [
      "x = 1.4636111111111112\n"
     ]
    },
    {
     "data": {
      "text/plain": [
       "-0.1813229557371152"
      ]
     },
     "execution_count": 27,
     "metadata": {},
     "output_type": "execute_result"
    }
   ],
   "source": [
    "x = 0\n",
    "for n in 1:5\n",
    "    x += 1/n^2\n",
    "end\n",
    "@show x\n",
    "x - pi^2/6 # trivia you can easily look up if needed"
   ]
  },
  {
   "cell_type": "code",
   "execution_count": 24,
   "id": "65ed5f01",
   "metadata": {
    "cell_style": "split",
    "slideshow": {
     "slide_type": "fragment"
    }
   },
   "outputs": [
    {
     "data": {
      "text/plain": [
       "1.6439345666815612"
      ]
     },
     "execution_count": 24,
     "metadata": {},
     "output_type": "execute_result"
    }
   ],
   "source": [
    "# list comprehensions\n",
    "sum([1/n^2 for n in 1:1000])"
   ]
  },
  {
   "cell_type": "markdown",
   "id": "400fc848",
   "metadata": {
    "cell_style": "center",
    "hideCode": false,
    "hidePrompt": false,
    "slideshow": {
     "slide_type": "slide"
    }
   },
   "source": [
    "# Poll: What is floating point arithmetic?"
   ]
  },
  {
   "cell_type": "markdown",
   "id": "73e46069",
   "metadata": {
    "cell_style": "split",
    "hideCode": false,
    "hidePrompt": false,
    "slideshow": {
     "slide_type": ""
    }
   },
   "source": [
    "1. fuzzy arithmetic\n",
    "2. exact arithmetic, correctly rounded\n",
    "3. the primary focus of numerical analysis"
   ]
  },
  {
   "cell_type": "code",
   "execution_count": 14,
   "id": "b3206a55",
   "metadata": {
    "cell_style": "split",
    "hideCode": false,
    "hidePrompt": false
   },
   "outputs": [
    {
     "data": {
      "text/plain": [
       "0.30000000000000004"
      ]
     },
     "execution_count": 14,
     "metadata": {},
     "output_type": "execute_result"
    }
   ],
   "source": [
    "0.1 + 0.2\n"
   ]
  },
  {
   "cell_type": "code",
   "execution_count": 15,
   "id": "e2726136",
   "metadata": {
    "cell_style": "split",
    "hideCode": false,
    "hidePrompt": false,
    "slideshow": {
     "slide_type": "fragment"
    }
   },
   "outputs": [
    {
     "data": {
      "image/svg+xml": [
       "<?xml version=\"1.0\" encoding=\"utf-8\"?>\n",
       "<svg xmlns=\"http://www.w3.org/2000/svg\" xmlns:xlink=\"http://www.w3.org/1999/xlink\" width=\"600\" height=\"400\" viewBox=\"0 0 2400 1600\">\n",
       "<defs>\n",
       "  <clipPath id=\"clip040\">\n",
       "    <rect x=\"0\" y=\"0\" width=\"2400\" height=\"1600\"/>\n",
       "  </clipPath>\n",
       "</defs>\n",
       "<path clip-path=\"url(#clip040)\" d=\"\n",
       "M0 1600 L2400 1600 L2400 0 L0 0  Z\n",
       "  \" fill=\"#ffffff\" fill-rule=\"evenodd\" fill-opacity=\"1\"/>\n",
       "<defs>\n",
       "  <clipPath id=\"clip041\">\n",
       "    <rect x=\"480\" y=\"0\" width=\"1681\" height=\"1600\"/>\n",
       "  </clipPath>\n",
       "</defs>\n",
       "<path clip-path=\"url(#clip040)\" d=\"\n",
       "M192.941 1486.45 L2352.76 1486.45 L2352.76 47.2441 L192.941 47.2441  Z\n",
       "  \" fill=\"#ffffff\" fill-rule=\"evenodd\" fill-opacity=\"1\"/>\n",
       "<defs>\n",
       "  <clipPath id=\"clip042\">\n",
       "    <rect x=\"192\" y=\"47\" width=\"2161\" height=\"1440\"/>\n",
       "  </clipPath>\n",
       "</defs>\n",
       "<polyline clip-path=\"url(#clip042)\" style=\"stroke:#000000; stroke-linecap:butt; stroke-linejoin:round; stroke-width:2; stroke-opacity:0.1; fill:none\" points=\"\n",
       "  457.824,1486.45 457.824,47.2441 \n",
       "  \"/>\n",
       "<polyline clip-path=\"url(#clip042)\" style=\"stroke:#000000; stroke-linecap:butt; stroke-linejoin:round; stroke-width:2; stroke-opacity:0.1; fill:none\" points=\"\n",
       "  865.336,1486.45 865.336,47.2441 \n",
       "  \"/>\n",
       "<polyline clip-path=\"url(#clip042)\" style=\"stroke:#000000; stroke-linecap:butt; stroke-linejoin:round; stroke-width:2; stroke-opacity:0.1; fill:none\" points=\"\n",
       "  1272.85,1486.45 1272.85,47.2441 \n",
       "  \"/>\n",
       "<polyline clip-path=\"url(#clip042)\" style=\"stroke:#000000; stroke-linecap:butt; stroke-linejoin:round; stroke-width:2; stroke-opacity:0.1; fill:none\" points=\"\n",
       "  1680.36,1486.45 1680.36,47.2441 \n",
       "  \"/>\n",
       "<polyline clip-path=\"url(#clip042)\" style=\"stroke:#000000; stroke-linecap:butt; stroke-linejoin:round; stroke-width:2; stroke-opacity:0.1; fill:none\" points=\"\n",
       "  2087.87,1486.45 2087.87,47.2441 \n",
       "  \"/>\n",
       "<polyline clip-path=\"url(#clip040)\" style=\"stroke:#000000; stroke-linecap:butt; stroke-linejoin:round; stroke-width:4; stroke-opacity:1; fill:none\" points=\"\n",
       "  192.941,1486.45 2352.76,1486.45 \n",
       "  \"/>\n",
       "<polyline clip-path=\"url(#clip040)\" style=\"stroke:#000000; stroke-linecap:butt; stroke-linejoin:round; stroke-width:4; stroke-opacity:1; fill:none\" points=\"\n",
       "  457.824,1486.45 457.824,1467.55 \n",
       "  \"/>\n",
       "<polyline clip-path=\"url(#clip040)\" style=\"stroke:#000000; stroke-linecap:butt; stroke-linejoin:round; stroke-width:4; stroke-opacity:1; fill:none\" points=\"\n",
       "  865.336,1486.45 865.336,1467.55 \n",
       "  \"/>\n",
       "<polyline clip-path=\"url(#clip040)\" style=\"stroke:#000000; stroke-linecap:butt; stroke-linejoin:round; stroke-width:4; stroke-opacity:1; fill:none\" points=\"\n",
       "  1272.85,1486.45 1272.85,1467.55 \n",
       "  \"/>\n",
       "<polyline clip-path=\"url(#clip040)\" style=\"stroke:#000000; stroke-linecap:butt; stroke-linejoin:round; stroke-width:4; stroke-opacity:1; fill:none\" points=\"\n",
       "  1680.36,1486.45 1680.36,1467.55 \n",
       "  \"/>\n",
       "<polyline clip-path=\"url(#clip040)\" style=\"stroke:#000000; stroke-linecap:butt; stroke-linejoin:round; stroke-width:4; stroke-opacity:1; fill:none\" points=\"\n",
       "  2087.87,1486.45 2087.87,1467.55 \n",
       "  \"/>\n",
       "<path clip-path=\"url(#clip040)\" d=\"M426.724 1532.02 L456.4 1532.02 L456.4 1535.95 L426.724 1535.95 L426.724 1532.02 Z\" fill=\"#000000\" fill-rule=\"evenodd\" fill-opacity=\"1\" /><path clip-path=\"url(#clip040)\" d=\"M479.34 1518.36 L467.534 1536.81 L479.34 1536.81 L479.34 1518.36 M478.113 1514.29 L483.992 1514.29 L483.992 1536.81 L488.923 1536.81 L488.923 1540.7 L483.992 1540.7 L483.992 1548.85 L479.34 1548.85 L479.34 1540.7 L463.738 1540.7 L463.738 1536.19 L478.113 1514.29 Z\" fill=\"#000000\" fill-rule=\"evenodd\" fill-opacity=\"1\" /><path clip-path=\"url(#clip040)\" d=\"M835.278 1532.02 L864.954 1532.02 L864.954 1535.95 L835.278 1535.95 L835.278 1532.02 Z\" fill=\"#000000\" fill-rule=\"evenodd\" fill-opacity=\"1\" /><path clip-path=\"url(#clip040)\" d=\"M879.074 1544.91 L895.394 1544.91 L895.394 1548.85 L873.449 1548.85 L873.449 1544.91 Q876.111 1542.16 880.695 1537.53 Q885.301 1532.88 886.482 1531.53 Q888.727 1529.01 889.607 1527.27 Q890.509 1525.51 890.509 1523.82 Q890.509 1521.07 888.565 1519.33 Q886.644 1517.6 883.542 1517.6 Q881.343 1517.6 878.889 1518.36 Q876.459 1519.13 873.681 1520.68 L873.681 1515.95 Q876.505 1514.82 878.959 1514.24 Q881.412 1513.66 883.449 1513.66 Q888.82 1513.66 892.014 1516.35 Q895.208 1519.03 895.208 1523.52 Q895.208 1525.65 894.398 1527.57 Q893.611 1529.47 891.505 1532.07 Q890.926 1532.74 887.824 1535.95 Q884.722 1539.15 879.074 1544.91 Z\" fill=\"#000000\" fill-rule=\"evenodd\" fill-opacity=\"1\" /><path clip-path=\"url(#clip040)\" d=\"M1272.85 1517.37 Q1269.24 1517.37 1267.41 1520.93 Q1265.6 1524.47 1265.6 1531.6 Q1265.6 1538.71 1267.41 1542.27 Q1269.24 1545.82 1272.85 1545.82 Q1276.48 1545.82 1278.29 1542.27 Q1280.12 1538.71 1280.12 1531.6 Q1280.12 1524.47 1278.29 1520.93 Q1276.48 1517.37 1272.85 1517.37 M1272.85 1513.66 Q1278.66 1513.66 1281.71 1518.27 Q1284.79 1522.85 1284.79 1531.6 Q1284.79 1540.33 1281.71 1544.94 Q1278.66 1549.52 1272.85 1549.52 Q1267.04 1549.52 1263.96 1544.94 Q1260.9 1540.33 1260.9 1531.6 Q1260.9 1522.85 1263.96 1518.27 Q1267.04 1513.66 1272.85 1513.66 Z\" fill=\"#000000\" fill-rule=\"evenodd\" fill-opacity=\"1\" /><path clip-path=\"url(#clip040)\" d=\"M1675.01 1544.91 L1691.33 1544.91 L1691.33 1548.85 L1669.39 1548.85 L1669.39 1544.91 Q1672.05 1542.16 1676.63 1537.53 Q1681.24 1532.88 1682.42 1531.53 Q1684.67 1529.01 1685.55 1527.27 Q1686.45 1525.51 1686.45 1523.82 Q1686.45 1521.07 1684.5 1519.33 Q1682.58 1517.6 1679.48 1517.6 Q1677.28 1517.6 1674.83 1518.36 Q1672.4 1519.13 1669.62 1520.68 L1669.62 1515.95 Q1672.44 1514.82 1674.9 1514.24 Q1677.35 1513.66 1679.39 1513.66 Q1684.76 1513.66 1687.95 1516.35 Q1691.15 1519.03 1691.15 1523.52 Q1691.15 1525.65 1690.34 1527.57 Q1689.55 1529.47 1687.44 1532.07 Q1686.87 1532.74 1683.76 1535.95 Q1680.66 1539.15 1675.01 1544.91 Z\" fill=\"#000000\" fill-rule=\"evenodd\" fill-opacity=\"1\" /><path clip-path=\"url(#clip040)\" d=\"M2090.88 1518.36 L2079.08 1536.81 L2090.88 1536.81 L2090.88 1518.36 M2089.66 1514.29 L2095.53 1514.29 L2095.53 1536.81 L2100.47 1536.81 L2100.47 1540.7 L2095.53 1540.7 L2095.53 1548.85 L2090.88 1548.85 L2090.88 1540.7 L2075.28 1540.7 L2075.28 1536.19 L2089.66 1514.29 Z\" fill=\"#000000\" fill-rule=\"evenodd\" fill-opacity=\"1\" /><polyline clip-path=\"url(#clip042)\" style=\"stroke:#000000; stroke-linecap:butt; stroke-linejoin:round; stroke-width:2; stroke-opacity:0.1; fill:none\" points=\"\n",
       "  192.941,1242.05 2352.76,1242.05 \n",
       "  \"/>\n",
       "<polyline clip-path=\"url(#clip042)\" style=\"stroke:#000000; stroke-linecap:butt; stroke-linejoin:round; stroke-width:2; stroke-opacity:0.1; fill:none\" points=\"\n",
       "  192.941,902.62 2352.76,902.62 \n",
       "  \"/>\n",
       "<polyline clip-path=\"url(#clip042)\" style=\"stroke:#000000; stroke-linecap:butt; stroke-linejoin:round; stroke-width:2; stroke-opacity:0.1; fill:none\" points=\"\n",
       "  192.941,563.185 2352.76,563.185 \n",
       "  \"/>\n",
       "<polyline clip-path=\"url(#clip042)\" style=\"stroke:#000000; stroke-linecap:butt; stroke-linejoin:round; stroke-width:2; stroke-opacity:0.1; fill:none\" points=\"\n",
       "  192.941,223.75 2352.76,223.75 \n",
       "  \"/>\n",
       "<polyline clip-path=\"url(#clip040)\" style=\"stroke:#000000; stroke-linecap:butt; stroke-linejoin:round; stroke-width:4; stroke-opacity:1; fill:none\" points=\"\n",
       "  192.941,1486.45 192.941,47.2441 \n",
       "  \"/>\n",
       "<polyline clip-path=\"url(#clip040)\" style=\"stroke:#000000; stroke-linecap:butt; stroke-linejoin:round; stroke-width:4; stroke-opacity:1; fill:none\" points=\"\n",
       "  192.941,1242.05 211.838,1242.05 \n",
       "  \"/>\n",
       "<polyline clip-path=\"url(#clip040)\" style=\"stroke:#000000; stroke-linecap:butt; stroke-linejoin:round; stroke-width:4; stroke-opacity:1; fill:none\" points=\"\n",
       "  192.941,902.62 211.838,902.62 \n",
       "  \"/>\n",
       "<polyline clip-path=\"url(#clip040)\" style=\"stroke:#000000; stroke-linecap:butt; stroke-linejoin:round; stroke-width:4; stroke-opacity:1; fill:none\" points=\"\n",
       "  192.941,563.185 211.838,563.185 \n",
       "  \"/>\n",
       "<polyline clip-path=\"url(#clip040)\" style=\"stroke:#000000; stroke-linecap:butt; stroke-linejoin:round; stroke-width:4; stroke-opacity:1; fill:none\" points=\"\n",
       "  192.941,223.75 211.838,223.75 \n",
       "  \"/>\n",
       "<path clip-path=\"url(#clip040)\" d=\"M50.9921 1242.51 L80.6679 1242.51 L80.6679 1246.44 L50.9921 1246.44 L50.9921 1242.51 Z\" fill=\"#000000\" fill-rule=\"evenodd\" fill-opacity=\"1\" /><path clip-path=\"url(#clip040)\" d=\"M94.7882 1255.4 L111.108 1255.4 L111.108 1259.33 L89.1632 1259.33 L89.1632 1255.4 Q91.8252 1252.65 96.4085 1248.02 Q101.015 1243.36 102.196 1242.02 Q104.441 1239.5 105.321 1237.76 Q106.223 1236 106.223 1234.31 Q106.223 1231.56 104.279 1229.82 Q102.358 1228.08 99.2558 1228.08 Q97.0567 1228.08 94.603 1228.85 Q92.1725 1229.61 89.3947 1231.16 L89.3947 1226.44 Q92.2188 1225.31 94.6724 1224.73 Q97.1261 1224.15 99.1632 1224.15 Q104.534 1224.15 107.728 1226.83 Q110.922 1229.52 110.922 1234.01 Q110.922 1236.14 110.112 1238.06 Q109.325 1239.96 107.219 1242.55 Q106.64 1243.22 103.538 1246.44 Q100.436 1249.64 94.7882 1255.4 Z\" fill=\"#000000\" fill-rule=\"evenodd\" fill-opacity=\"1\" /><path clip-path=\"url(#clip040)\" d=\"M120.922 1253.46 L125.807 1253.46 L125.807 1259.33 L120.922 1259.33 L120.922 1253.46 Z\" fill=\"#000000\" fill-rule=\"evenodd\" fill-opacity=\"1\" /><path clip-path=\"url(#clip040)\" d=\"M136.038 1224.77 L154.394 1224.77 L154.394 1228.71 L140.32 1228.71 L140.32 1237.18 Q141.339 1236.83 142.357 1236.67 Q143.376 1236.49 144.394 1236.49 Q150.181 1236.49 153.561 1239.66 Q156.941 1242.83 156.941 1248.25 Q156.941 1253.83 153.468 1256.93 Q149.996 1260.01 143.677 1260.01 Q141.501 1260.01 139.232 1259.64 Q136.987 1259.27 134.58 1258.52 L134.58 1253.83 Q136.663 1254.96 138.885 1255.52 Q141.107 1256.07 143.584 1256.07 Q147.589 1256.07 149.927 1253.96 Q152.265 1251.86 152.265 1248.25 Q152.265 1244.64 149.927 1242.53 Q147.589 1240.42 143.584 1240.42 Q141.709 1240.42 139.834 1240.84 Q137.982 1241.26 136.038 1242.14 L136.038 1224.77 Z\" fill=\"#000000\" fill-rule=\"evenodd\" fill-opacity=\"1\" /><path clip-path=\"url(#clip040)\" d=\"M99.765 888.419 Q96.1539 888.419 94.3252 891.983 Q92.5197 895.525 92.5197 902.655 Q92.5197 909.761 94.3252 913.326 Q96.1539 916.868 99.765 916.868 Q103.399 916.868 105.205 913.326 Q107.033 909.761 107.033 902.655 Q107.033 895.525 105.205 891.983 Q103.399 888.419 99.765 888.419 M99.765 884.715 Q105.575 884.715 108.631 889.321 Q111.709 893.905 111.709 902.655 Q111.709 911.381 108.631 915.988 Q105.575 920.571 99.765 920.571 Q93.9549 920.571 90.8762 915.988 Q87.8206 911.381 87.8206 902.655 Q87.8206 893.905 90.8762 889.321 Q93.9549 884.715 99.765 884.715 Z\" fill=\"#000000\" fill-rule=\"evenodd\" fill-opacity=\"1\" /><path clip-path=\"url(#clip040)\" d=\"M119.927 914.02 L124.811 914.02 L124.811 919.9 L119.927 919.9 L119.927 914.02 Z\" fill=\"#000000\" fill-rule=\"evenodd\" fill-opacity=\"1\" /><path clip-path=\"url(#clip040)\" d=\"M144.996 888.419 Q141.385 888.419 139.556 891.983 Q137.751 895.525 137.751 902.655 Q137.751 909.761 139.556 913.326 Q141.385 916.868 144.996 916.868 Q148.63 916.868 150.436 913.326 Q152.265 909.761 152.265 902.655 Q152.265 895.525 150.436 891.983 Q148.63 888.419 144.996 888.419 M144.996 884.715 Q150.806 884.715 153.862 889.321 Q156.941 893.905 156.941 902.655 Q156.941 911.381 153.862 915.988 Q150.806 920.571 144.996 920.571 Q139.186 920.571 136.107 915.988 Q133.052 911.381 133.052 902.655 Q133.052 893.905 136.107 889.321 Q139.186 884.715 144.996 884.715 Z\" fill=\"#000000\" fill-rule=\"evenodd\" fill-opacity=\"1\" /><path clip-path=\"url(#clip040)\" d=\"M94.7882 576.53 L111.108 576.53 L111.108 580.465 L89.1632 580.465 L89.1632 576.53 Q91.8252 573.775 96.4085 569.146 Q101.015 564.493 102.196 563.15 Q104.441 560.627 105.321 558.891 Q106.223 557.132 106.223 555.442 Q106.223 552.687 104.279 550.951 Q102.358 549.215 99.2558 549.215 Q97.0567 549.215 94.603 549.979 Q92.1725 550.743 89.3947 552.294 L89.3947 547.572 Q92.2188 546.437 94.6724 545.859 Q97.1261 545.28 99.1632 545.28 Q104.534 545.28 107.728 547.965 Q110.922 550.65 110.922 555.141 Q110.922 557.271 110.112 559.192 Q109.325 561.09 107.219 563.683 Q106.64 564.354 103.538 567.572 Q100.436 570.766 94.7882 576.53 Z\" fill=\"#000000\" fill-rule=\"evenodd\" fill-opacity=\"1\" /><path clip-path=\"url(#clip040)\" d=\"M120.922 574.585 L125.807 574.585 L125.807 580.465 L120.922 580.465 L120.922 574.585 Z\" fill=\"#000000\" fill-rule=\"evenodd\" fill-opacity=\"1\" /><path clip-path=\"url(#clip040)\" d=\"M136.038 545.905 L154.394 545.905 L154.394 549.84 L140.32 549.84 L140.32 558.312 Q141.339 557.965 142.357 557.803 Q143.376 557.618 144.394 557.618 Q150.181 557.618 153.561 560.789 Q156.941 563.961 156.941 569.377 Q156.941 574.956 153.468 578.058 Q149.996 581.136 143.677 581.136 Q141.501 581.136 139.232 580.766 Q136.987 580.396 134.58 579.655 L134.58 574.956 Q136.663 576.09 138.885 576.646 Q141.107 577.201 143.584 577.201 Q147.589 577.201 149.927 575.095 Q152.265 572.988 152.265 569.377 Q152.265 565.766 149.927 563.66 Q147.589 561.553 143.584 561.553 Q141.709 561.553 139.834 561.97 Q137.982 562.386 136.038 563.266 L136.038 545.905 Z\" fill=\"#000000\" fill-rule=\"evenodd\" fill-opacity=\"1\" /><path clip-path=\"url(#clip040)\" d=\"M89.8114 206.47 L108.168 206.47 L108.168 210.405 L94.0937 210.405 L94.0937 218.878 Q95.1123 218.53 96.1308 218.368 Q97.1493 218.183 98.1678 218.183 Q103.955 218.183 107.334 221.354 Q110.714 224.526 110.714 229.942 Q110.714 235.521 107.242 238.623 Q103.77 241.702 97.4502 241.702 Q95.2743 241.702 93.0058 241.331 Q90.7604 240.961 88.353 240.22 L88.353 235.521 Q90.4364 236.655 92.6586 237.211 Q94.8808 237.766 97.3576 237.766 Q101.362 237.766 103.7 235.66 Q106.038 233.553 106.038 229.942 Q106.038 226.331 103.7 224.225 Q101.362 222.118 97.3576 222.118 Q95.4826 222.118 93.6076 222.535 Q91.7558 222.952 89.8114 223.831 L89.8114 206.47 Z\" fill=\"#000000\" fill-rule=\"evenodd\" fill-opacity=\"1\" /><path clip-path=\"url(#clip040)\" d=\"M119.927 235.151 L124.811 235.151 L124.811 241.03 L119.927 241.03 L119.927 235.151 Z\" fill=\"#000000\" fill-rule=\"evenodd\" fill-opacity=\"1\" /><path clip-path=\"url(#clip040)\" d=\"M144.996 209.549 Q141.385 209.549 139.556 213.114 Q137.751 216.655 137.751 223.785 Q137.751 230.891 139.556 234.456 Q141.385 237.998 144.996 237.998 Q148.63 237.998 150.436 234.456 Q152.265 230.891 152.265 223.785 Q152.265 216.655 150.436 213.114 Q148.63 209.549 144.996 209.549 M144.996 205.845 Q150.806 205.845 153.862 210.452 Q156.941 215.035 156.941 223.785 Q156.941 232.512 153.862 237.118 Q150.806 241.702 144.996 241.702 Q139.186 241.702 136.107 237.118 Q133.052 232.512 133.052 223.785 Q133.052 215.035 136.107 210.452 Q139.186 205.845 144.996 205.845 Z\" fill=\"#000000\" fill-rule=\"evenodd\" fill-opacity=\"1\" /><polyline clip-path=\"url(#clip042)\" style=\"stroke:#009af9; stroke-linecap:butt; stroke-linejoin:round; stroke-width:12; stroke-opacity:1; fill:none\" points=\"\n",
       "  254.067,1445.72 273.966,1432.46 457.956,1309.85 568.526,1236.17 662.012,1173.88 763.564,1106.21 857.186,1043.82 957.558,976.941 1073.85,899.45 1177.2,830.585 \n",
       "  1267.82,770.196 1366.63,704.357 1466.02,638.126 1575.91,564.899 1680.47,495.226 1789.19,422.781 1880.7,361.799 1992.43,287.346 2097.47,217.358 2265.73,105.232 \n",
       "  2291.63,87.9763 \n",
       "  \"/>\n",
       "<path clip-path=\"url(#clip040)\" d=\"\n",
       "M1988.35 198.898 L2280.76 198.898 L2280.76 95.2176 L1988.35 95.2176  Z\n",
       "  \" fill=\"#ffffff\" fill-rule=\"evenodd\" fill-opacity=\"1\"/>\n",
       "<polyline clip-path=\"url(#clip040)\" style=\"stroke:#000000; stroke-linecap:butt; stroke-linejoin:round; stroke-width:4; stroke-opacity:1; fill:none\" points=\"\n",
       "  1988.35,198.898 2280.76,198.898 2280.76,95.2176 1988.35,95.2176 1988.35,198.898 \n",
       "  \"/>\n",
       "<polyline clip-path=\"url(#clip040)\" style=\"stroke:#009af9; stroke-linecap:butt; stroke-linejoin:round; stroke-width:4; stroke-opacity:1; fill:none\" points=\"\n",
       "  2012.35,147.058 2156.34,147.058 \n",
       "  \"/>\n",
       "<path clip-path=\"url(#clip040)\" d=\"M2194.18 166.745 Q2192.37 171.375 2190.66 172.787 Q2188.95 174.199 2186.08 174.199 L2182.67 174.199 L2182.67 170.634 L2185.17 170.634 Q2186.93 170.634 2187.91 169.8 Q2188.88 168.967 2190.06 165.865 L2190.82 163.921 L2180.34 138.412 L2184.85 138.412 L2192.95 158.689 L2201.05 138.412 L2205.57 138.412 L2194.18 166.745 Z\" fill=\"#000000\" fill-rule=\"evenodd\" fill-opacity=\"1\" /><path clip-path=\"url(#clip040)\" d=\"M2212.86 160.402 L2220.5 160.402 L2220.5 134.037 L2212.19 135.703 L2212.19 131.444 L2220.45 129.778 L2225.13 129.778 L2225.13 160.402 L2232.77 160.402 L2232.77 164.338 L2212.86 164.338 L2212.86 160.402 Z\" fill=\"#000000\" fill-rule=\"evenodd\" fill-opacity=\"1\" /></svg>\n"
      ]
     },
     "execution_count": 15,
     "metadata": {},
     "output_type": "execute_result"
    }
   ],
   "source": [
    "plot(x -> 1 + x)"
   ]
  },
  {
   "cell_type": "markdown",
   "id": "c49bf903",
   "metadata": {
    "hideCode": false,
    "hidePrompt": false,
    "slideshow": {
     "slide_type": "slide"
    }
   },
   "source": [
    "# Machine epsilon\n",
    "\n",
    "We approximate real numbers with **floating point** arithmetic, which can only represent discrete values. In particular, there exists a largest number, which we call $\\epsilon_{\\text{machine}}$, such that\n",
    "$$ 1 \\oplus x = 1 \\quad \\text{for all}\\  \\lvert x \\rvert < \\epsilon_{\\text{machine}}.$$\n",
    "\n",
    "The notation $\\oplus, \\ominus, \\odot, \\oslash$ represent the elementary operation carried out in floating point arithmetic."
   ]
  },
  {
   "cell_type": "code",
   "execution_count": 17,
   "id": "86096208",
   "metadata": {
    "cell_style": "split",
    "hideCode": false,
    "hidePrompt": false,
    "slideshow": {
     "slide_type": "fragment"
    }
   },
   "outputs": [
    {
     "data": {
      "text/plain": [
       "1.1102230246251565e-16"
      ]
     },
     "execution_count": 17,
     "metadata": {},
     "output_type": "execute_result"
    }
   ],
   "source": [
    "eps = 1\n",
    "while 1 + eps != 1\n",
    "    eps = eps / 2\n",
    "end\n",
    "eps"
   ]
  },
  {
   "cell_type": "code",
   "execution_count": 30,
   "id": "0a14ea73",
   "metadata": {
    "cell_style": "split",
    "slideshow": {
     "slide_type": "fragment"
    }
   },
   "outputs": [
    {
     "data": {
      "text/plain": [
       "5.9604645f-8"
      ]
     },
     "execution_count": 30,
     "metadata": {},
     "output_type": "execute_result"
    }
   ],
   "source": [
    "eps = 1.f0\n",
    "while 1 + eps != 1\n",
    "    eps = eps / 2\n",
    "end\n",
    "eps"
   ]
  },
  {
   "cell_type": "markdown",
   "id": "56fade8b",
   "metadata": {
    "hideCode": false,
    "hidePrompt": false,
    "slideshow": {
     "slide_type": "slide"
    }
   },
   "source": [
    "# Beating `exp`\n",
    "\n",
    "$$e^x = 1 + x + \\frac{x^2}{2!} + \\frac{x^3}{3!} + \\dotsb$$\n",
    "\n",
    "Suppose we want to compute $f(x) = e^x - 1$ for small values of $x$."
   ]
  },
  {
   "cell_type": "code",
   "execution_count": 20,
   "id": "282ad48a",
   "metadata": {
    "cell_style": "split",
    "hideCode": false,
    "hidePrompt": false
   },
   "outputs": [
    {
     "data": {
      "text/plain": [
       "9.99999993922529e-9"
      ]
     },
     "execution_count": 20,
     "metadata": {},
     "output_type": "execute_result"
    }
   ],
   "source": [
    "f1(x) = exp(x) - 1\n",
    "y1 = f1(1e-8)"
   ]
  },
  {
   "cell_type": "code",
   "execution_count": 21,
   "id": "eff4a68c",
   "metadata": {
    "cell_style": "split",
    "hideCode": false,
    "hidePrompt": false
   },
   "outputs": [
    {
     "data": {
      "text/plain": [
       "1.000000005e-8"
      ]
     },
     "execution_count": 21,
     "metadata": {},
     "output_type": "execute_result"
    }
   ],
   "source": [
    "f2(x) = x + x^2/2 + x^3/6\n",
    "y2 = f2(1e-8)"
   ]
  },
  {
   "cell_type": "markdown",
   "id": "379682f9",
   "metadata": {
    "hideCode": false,
    "hidePrompt": false
   },
   "source": [
    "Which answer is more accurate?"
   ]
  },
  {
   "cell_type": "code",
   "execution_count": 27,
   "id": "6081053e",
   "metadata": {
    "hideCode": false,
    "hidePrompt": false
   },
   "outputs": [
    {
     "name": "stdout",
     "output_type": "stream",
     "text": [
      "y1 - y2 = -1.1077470910720506e-16\n",
      "(y1 - y2) / y2 = -1.1077470855333152e-8\n"
     ]
    }
   ],
   "source": [
    "@show (y1 - y2)        # Absolute difference\n",
    "@show (y1 - y2) / y2;  # Relative difference"
   ]
  }
 ],
 "metadata": {
  "celltoolbar": "Slideshow",
  "hide_code_all_hidden": false,
  "kernelspec": {
   "display_name": "Julia 1.7.1",
   "language": "julia",
   "name": "julia-1.7"
  },
  "language_info": {
   "file_extension": ".jl",
   "mimetype": "application/julia",
   "name": "julia",
   "version": "1.7.1"
  },
  "rise": {
   "enable_chalkboard": true
  }
 },
 "nbformat": 4,
 "nbformat_minor": 5
}
