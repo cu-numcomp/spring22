{
 "cells": [
  {
   "cell_type": "markdown",
   "id": "4159be0e",
   "metadata": {
    "hideCode": false,
    "hidePrompt": false,
    "slideshow": {
     "slide_type": "slide"
    }
   },
   "source": [
    "# 2022-01-12 Functions\n",
    "\n",
    "* Using Julia\n",
    "* Plotting\n",
    "* Intro to floating point\n",
    "* Summing series\n",
    "* Relative vs absolute errors"
   ]
  },
  {
   "cell_type": "markdown",
   "id": "1f28cbbc",
   "metadata": {
    "hideCode": false,
    "hidePrompt": false,
    "slideshow": {
     "slide_type": "slide"
    }
   },
   "source": [
    "# Julia\n",
    "\n",
    "Julia is a relatively new programming language. Think of it as MATLAB done right, open source, and fast. It's nominally general-purpose, but mostly for numerical/scientific/statistical computing. There are great [learning resources](https://julialang.org/learning/). We'll introduce concepts and language features as we go."
   ]
  },
  {
   "cell_type": "code",
   "execution_count": 33,
   "id": "7ab85301",
   "metadata": {
    "hideCode": false,
    "hidePrompt": false
   },
   "outputs": [
    {
     "data": {
      "text/plain": [
       "4"
      ]
     },
     "execution_count": 33,
     "metadata": {},
     "output_type": "execute_result"
    }
   ],
   "source": [
    "# The last line of a cell is output by default\n",
    "x = 3\n",
    "y = 4"
   ]
  },
  {
   "cell_type": "code",
   "execution_count": 34,
   "id": "22875437",
   "metadata": {
    "hideCode": false,
    "hidePrompt": false,
    "scrolled": true,
    "slideshow": {
     "slide_type": "fragment"
    }
   },
   "outputs": [
    {
     "name": "stdout",
     "output_type": "stream",
     "text": [
      "3 + 4 = 7\n"
     ]
    }
   ],
   "source": [
    "println(\"$x + $y = $(x + y)\") # string formatting/interpolation\n",
    "4;  # trailing semicolon suppresses output"
   ]
  },
  {
   "cell_type": "code",
   "execution_count": 3,
   "id": "7773ba94",
   "metadata": {
    "hideCode": false,
    "hidePrompt": false,
    "slideshow": {
     "slide_type": "fragment"
    }
   },
   "outputs": [
    {
     "name": "stdout",
     "output_type": "stream",
     "text": [
      "x + y = 7\n"
     ]
    },
    {
     "data": {
      "text/plain": [
       "12"
      ]
     },
     "execution_count": 3,
     "metadata": {},
     "output_type": "execute_result"
    }
   ],
   "source": [
    "@show x + y\n",
    "x * y"
   ]
  },
  {
   "cell_type": "markdown",
   "id": "f8d9c948",
   "metadata": {
    "hideCode": false,
    "hidePrompt": false,
    "slideshow": {
     "slide_type": "slide"
    }
   },
   "source": [
    "# Numbers"
   ]
  },
  {
   "cell_type": "code",
   "execution_count": 96,
   "id": "a21a9aae",
   "metadata": {
    "hideCode": false,
    "hidePrompt": false
   },
   "outputs": [
    {
     "data": {
      "text/plain": [
       "(3, 3.0, 3.0f0)"
      ]
     },
     "execution_count": 96,
     "metadata": {},
     "output_type": "execute_result"
    }
   ],
   "source": [
    "3, 3.0, 3.0f0 # integers, double precision, and single precision"
   ]
  },
  {
   "cell_type": "code",
   "execution_count": 95,
   "id": "cad03c36",
   "metadata": {
    "hideCode": false,
    "hidePrompt": false,
    "slideshow": {
     "slide_type": "fragment"
    }
   },
   "outputs": [
    {
     "data": {
      "text/plain": [
       "(Int64, Float64, Float32)"
      ]
     },
     "execution_count": 95,
     "metadata": {},
     "output_type": "execute_result"
    }
   ],
   "source": [
    "typeof(3), typeof(3.0), typeof(3.0f0)"
   ]
  },
  {
   "cell_type": "code",
   "execution_count": 6,
   "id": "fc571720",
   "metadata": {
    "slideshow": {
     "slide_type": "fragment"
    }
   },
   "outputs": [
    {
     "name": "stdout",
     "output_type": "stream",
     "text": [
      "3 + 3.0 = 6.0\n",
      "3.0 + 3.0f0 = 6.0\n",
      "3 + 3.0f0 = 6.0f0\n"
     ]
    }
   ],
   "source": [
    "# automatic promotion\n",
    "@show 3 + 3.0\n",
    "@show 3.0 + 3.0f0\n",
    "@show 3 + 3.0f0;"
   ]
  },
  {
   "cell_type": "code",
   "execution_count": 39,
   "id": "941746b3",
   "metadata": {
    "slideshow": {
     "slide_type": "fragment"
    }
   },
   "outputs": [
    {
     "name": "stdout",
     "output_type": "stream",
     "text": [
      "3 / 2 = 1.5\n",
      "-3 ÷ 2 = -1\n"
     ]
    }
   ],
   "source": [
    "# floating and integer division\n",
    "@show 3 / 2\n",
    "@show -3 ÷ 2; # type `\\div` and press TAB"
   ]
  },
  {
   "cell_type": "markdown",
   "id": "bcc583c4",
   "metadata": {
    "slideshow": {
     "slide_type": "slide"
    }
   },
   "source": [
    "# Arrays"
   ]
  },
  {
   "cell_type": "code",
   "execution_count": 44,
   "id": "f70c3592",
   "metadata": {
    "cell_style": "split"
   },
   "outputs": [
    {
     "data": {
      "text/plain": [
       "3-element Vector{Int64}:\n",
       " 1\n",
       " 2\n",
       " 3"
      ]
     },
     "execution_count": 44,
     "metadata": {},
     "output_type": "execute_result"
    }
   ],
   "source": [
    "[1,2,3]"
   ]
  },
  {
   "cell_type": "code",
   "execution_count": 9,
   "id": "8a45c6db",
   "metadata": {
    "cell_style": "split",
    "slideshow": {
     "slide_type": "fragment"
    }
   },
   "outputs": [
    {
     "data": {
      "text/plain": [
       "3-element Vector{Float64}:\n",
       " 1.0\n",
       " 2.0\n",
       " 3.0"
      ]
     },
     "execution_count": 9,
     "metadata": {},
     "output_type": "execute_result"
    }
   ],
   "source": [
    "# explcit typing\n",
    "Float64[1,2,3]"
   ]
  },
  {
   "cell_type": "code",
   "execution_count": 10,
   "id": "766b13cd",
   "metadata": {
    "cell_style": "split",
    "slideshow": {
     "slide_type": "fragment"
    }
   },
   "outputs": [
    {
     "data": {
      "text/plain": [
       "3-element Vector{Float64}:\n",
       " 1.0\n",
       " 2.0\n",
       " 3.0"
      ]
     },
     "execution_count": 10,
     "metadata": {},
     "output_type": "execute_result"
    }
   ],
   "source": [
    "# promotion rules similar to arithmetic\n",
    "[1,2,3.]"
   ]
  },
  {
   "cell_type": "code",
   "execution_count": 46,
   "id": "5742608a",
   "metadata": {
    "cell_style": "split",
    "slideshow": {
     "slide_type": "fragment"
    }
   },
   "outputs": [
    {
     "data": {
      "text/plain": [
       "20"
      ]
     },
     "execution_count": 46,
     "metadata": {},
     "output_type": "execute_result"
    }
   ],
   "source": [
    "x = [10, 20, 30]\n",
    "x[2] # one-based indexing"
   ]
  },
  {
   "cell_type": "code",
   "execution_count": 48,
   "id": "4b566b5e",
   "metadata": {
    "cell_style": "split",
    "slideshow": {
     "slide_type": "fragment"
    }
   },
   "outputs": [],
   "source": [
    "#x[2] = 3.5"
   ]
  },
  {
   "cell_type": "code",
   "execution_count": 13,
   "id": "6422ea69",
   "metadata": {
    "cell_style": "split",
    "slideshow": {
     "slide_type": "fragment"
    }
   },
   "outputs": [
    {
     "data": {
      "text/plain": [
       "2×3 Matrix{Int64}:\n",
       " 10  20  30\n",
       " 40  50  60"
      ]
     },
     "execution_count": 13,
     "metadata": {},
     "output_type": "execute_result"
    }
   ],
   "source": [
    "# multi-dimensional array\n",
    "A = [10 20 30; 40 50 60]"
   ]
  },
  {
   "cell_type": "markdown",
   "id": "c7027d32",
   "metadata": {
    "slideshow": {
     "slide_type": "slide"
    }
   },
   "source": [
    "# Functions"
   ]
  },
  {
   "cell_type": "code",
   "execution_count": 62,
   "id": "ce304d6a",
   "metadata": {
    "cell_style": "split"
   },
   "outputs": [
    {
     "data": {
      "text/plain": [
       "f (generic function with 2 methods)"
      ]
     },
     "execution_count": 62,
     "metadata": {},
     "output_type": "execute_result"
    }
   ],
   "source": [
    "function f(x, y; z=3)\n",
    "    sqrt(x*x + y*y) + z\n",
    "end"
   ]
  },
  {
   "cell_type": "code",
   "execution_count": 64,
   "id": "b39fa552",
   "metadata": {
    "cell_style": "split"
   },
   "outputs": [
    {
     "data": {
      "text/plain": [
       "10.0"
      ]
     },
     "execution_count": 64,
     "metadata": {},
     "output_type": "execute_result"
    }
   ],
   "source": [
    "f(3, 4, z=5)"
   ]
  },
  {
   "cell_type": "code",
   "execution_count": 65,
   "id": "a51770d4",
   "metadata": {
    "cell_style": "split",
    "slideshow": {
     "slide_type": "fragment"
    }
   },
   "outputs": [
    {
     "data": {
      "text/plain": [
       "5.0"
      ]
     },
     "execution_count": 65,
     "metadata": {},
     "output_type": "execute_result"
    }
   ],
   "source": [
    "g(x, y) = sqrt(x^2 + y^2)\n",
    "g(3, 4)"
   ]
  },
  {
   "cell_type": "code",
   "execution_count": 17,
   "id": "350d604e",
   "metadata": {
    "cell_style": "split",
    "slideshow": {
     "slide_type": "fragment"
    }
   },
   "outputs": [
    {
     "data": {
      "text/plain": [
       "5.0"
      ]
     },
     "execution_count": 17,
     "metadata": {},
     "output_type": "execute_result"
    }
   ],
   "source": [
    "((x, y) -> sqrt(x^2 + y^2))(3, 4)"
   ]
  },
  {
   "cell_type": "markdown",
   "id": "ed443633",
   "metadata": {
    "slideshow": {
     "slide_type": "slide"
    }
   },
   "source": [
    "# Loops"
   ]
  },
  {
   "cell_type": "code",
   "execution_count": 66,
   "id": "a72a3693",
   "metadata": {
    "cell_style": "split"
   },
   "outputs": [
    {
     "data": {
      "text/plain": [
       "1:5"
      ]
     },
     "execution_count": 66,
     "metadata": {},
     "output_type": "execute_result"
    }
   ],
   "source": [
    "# ranges\n",
    "1:5"
   ]
  },
  {
   "cell_type": "code",
   "execution_count": 19,
   "id": "1cff5422",
   "metadata": {
    "cell_style": "split"
   },
   "outputs": [
    {
     "data": {
      "text/plain": [
       "5-element Vector{Int64}:\n",
       " 1\n",
       " 2\n",
       " 3\n",
       " 4\n",
       " 5"
      ]
     },
     "execution_count": 19,
     "metadata": {},
     "output_type": "execute_result"
    }
   ],
   "source": [
    "collect(1:5)"
   ]
  },
  {
   "cell_type": "code",
   "execution_count": 68,
   "id": "6d92702a",
   "metadata": {
    "cell_style": "split",
    "slideshow": {
     "slide_type": "fragment"
    }
   },
   "outputs": [
    {
     "name": "stdout",
     "output_type": "stream",
     "text": [
      "x = 1.6447340868469014\n"
     ]
    },
    {
     "data": {
      "text/plain": [
       "-0.00019998000132503968"
      ]
     },
     "execution_count": 68,
     "metadata": {},
     "output_type": "execute_result"
    }
   ],
   "source": [
    "x = 0\n",
    "for n in 1:5000\n",
    "    x += 1/n^2\n",
    "end\n",
    "@show x\n",
    "x - pi^2/6 # trivia you can easily look up if needed"
   ]
  },
  {
   "cell_type": "code",
   "execution_count": 70,
   "id": "65ed5f01",
   "metadata": {
    "cell_style": "split",
    "slideshow": {
     "slide_type": "fragment"
    }
   },
   "outputs": [
    {
     "data": {
      "text/plain": [
       "1.6439345666815612"
      ]
     },
     "execution_count": 70,
     "metadata": {},
     "output_type": "execute_result"
    }
   ],
   "source": [
    "# list comprehensions\n",
    "sum([1/n^2 for n in 1:1000])"
   ]
  },
  {
   "cell_type": "markdown",
   "id": "400fc848",
   "metadata": {
    "cell_style": "center",
    "hideCode": false,
    "hidePrompt": false,
    "slideshow": {
     "slide_type": "slide"
    }
   },
   "source": [
    "# Poll: What is floating point arithmetic?"
   ]
  },
  {
   "cell_type": "markdown",
   "id": "73e46069",
   "metadata": {
    "cell_style": "split",
    "hideCode": false,
    "hidePrompt": false,
    "slideshow": {
     "slide_type": ""
    }
   },
   "source": [
    "1. fuzzy arithmetic\n",
    "2. exact arithmetic, correctly rounded\n",
    "3. the primary focus of numerical analysis"
   ]
  },
  {
   "cell_type": "code",
   "execution_count": 72,
   "id": "b3206a55",
   "metadata": {
    "cell_style": "split",
    "hideCode": false,
    "hidePrompt": false
   },
   "outputs": [
    {
     "data": {
      "text/plain": [
       "0.30000000000000004"
      ]
     },
     "execution_count": 72,
     "metadata": {},
     "output_type": "execute_result"
    }
   ],
   "source": [
    "0.1 + 0.2"
   ]
  },
  {
   "cell_type": "code",
   "execution_count": 82,
   "id": "e2726136",
   "metadata": {
    "cell_style": "split",
    "hideCode": false,
    "hidePrompt": false,
    "slideshow": {
     "slide_type": "fragment"
    }
   },
   "outputs": [
    {
     "data": {
      "image/svg+xml": [
       "<?xml version=\"1.0\" encoding=\"utf-8\"?>\n",
       "<svg xmlns=\"http://www.w3.org/2000/svg\" xmlns:xlink=\"http://www.w3.org/1999/xlink\" width=\"600\" height=\"400\" viewBox=\"0 0 2400 1600\">\n",
       "<defs>\n",
       "  <clipPath id=\"clip800\">\n",
       "    <rect x=\"0\" y=\"0\" width=\"2400\" height=\"1600\"/>\n",
       "  </clipPath>\n",
       "</defs>\n",
       "<path clip-path=\"url(#clip800)\" d=\"\n",
       "M0 1600 L2400 1600 L2400 0 L0 0  Z\n",
       "  \" fill=\"#ffffff\" fill-rule=\"evenodd\" fill-opacity=\"1\"/>\n",
       "<defs>\n",
       "  <clipPath id=\"clip801\">\n",
       "    <rect x=\"480\" y=\"0\" width=\"1681\" height=\"1600\"/>\n",
       "  </clipPath>\n",
       "</defs>\n",
       "<path clip-path=\"url(#clip800)\" d=\"\n",
       "M368.761 1474.16 L2352.76 1474.16 L2352.76 47.2441 L368.761 47.2441  Z\n",
       "  \" fill=\"#ffffff\" fill-rule=\"evenodd\" fill-opacity=\"1\"/>\n",
       "<defs>\n",
       "  <clipPath id=\"clip802\">\n",
       "    <rect x=\"368\" y=\"47\" width=\"1985\" height=\"1428\"/>\n",
       "  </clipPath>\n",
       "</defs>\n",
       "<polyline clip-path=\"url(#clip802)\" style=\"stroke:#000000; stroke-linecap:butt; stroke-linejoin:round; stroke-width:2; stroke-opacity:0.1; fill:none\" points=\"\n",
       "  -127.237,1474.16 -127.237,47.2441 \n",
       "  \"/>\n",
       "<polyline clip-path=\"url(#clip802)\" style=\"stroke:#000000; stroke-linecap:butt; stroke-linejoin:round; stroke-width:2; stroke-opacity:0.1; fill:none\" points=\"\n",
       "  1360.76,1474.16 1360.76,47.2441 \n",
       "  \"/>\n",
       "<polyline clip-path=\"url(#clip802)\" style=\"stroke:#000000; stroke-linecap:butt; stroke-linejoin:round; stroke-width:2; stroke-opacity:0.1; fill:none\" points=\"\n",
       "  2848.75,1474.16 2848.75,47.2441 \n",
       "  \"/>\n",
       "<polyline clip-path=\"url(#clip802)\" style=\"stroke:#000000; stroke-linecap:butt; stroke-linejoin:round; stroke-width:2; stroke-opacity:0.1; fill:none\" points=\"\n",
       "  4336.75,1474.16 4336.75,47.2441 \n",
       "  \"/>\n",
       "<polyline clip-path=\"url(#clip800)\" style=\"stroke:#000000; stroke-linecap:butt; stroke-linejoin:round; stroke-width:4; stroke-opacity:1; fill:none\" points=\"\n",
       "  368.761,1474.16 2352.76,1474.16 \n",
       "  \"/>\n",
       "<polyline clip-path=\"url(#clip800)\" style=\"stroke:#000000; stroke-linecap:butt; stroke-linejoin:round; stroke-width:4; stroke-opacity:1; fill:none\" points=\"\n",
       "  -127.237,1474.16 -127.237,1455.27 \n",
       "  \"/>\n",
       "<polyline clip-path=\"url(#clip800)\" style=\"stroke:#000000; stroke-linecap:butt; stroke-linejoin:round; stroke-width:4; stroke-opacity:1; fill:none\" points=\"\n",
       "  1360.76,1474.16 1360.76,1455.27 \n",
       "  \"/>\n",
       "<polyline clip-path=\"url(#clip800)\" style=\"stroke:#000000; stroke-linecap:butt; stroke-linejoin:round; stroke-width:4; stroke-opacity:1; fill:none\" points=\"\n",
       "  2848.75,1474.16 2848.75,1455.27 \n",
       "  \"/>\n",
       "<polyline clip-path=\"url(#clip800)\" style=\"stroke:#000000; stroke-linecap:butt; stroke-linejoin:round; stroke-width:4; stroke-opacity:1; fill:none\" points=\"\n",
       "  4336.75,1474.16 4336.75,1455.27 \n",
       "  \"/>\n",
       "<path clip-path=\"url(#clip800)\" d=\"M-268.122 1535.4 L-238.446 1535.4 L-238.446 1539.33 L-268.122 1539.33 L-268.122 1535.4 Z\" fill=\"#000000\" fill-rule=\"evenodd\" fill-opacity=\"1\" /><path clip-path=\"url(#clip800)\" d=\"M-214.187 1533.59 Q-210.83 1534.31 -208.955 1536.58 Q-207.057 1538.85 -207.057 1542.18 Q-207.057 1547.29 -210.576 1550.1 Q-214.094 1552.9 -220.576 1552.9 Q-222.752 1552.9 -225.067 1552.46 Q-227.358 1552.04 -229.812 1551.18 L-229.812 1546.67 Q-227.867 1547.8 -225.553 1548.38 Q-223.238 1548.96 -220.715 1548.96 Q-216.317 1548.96 -214.025 1547.22 Q-211.71 1545.49 -211.71 1542.18 Q-211.71 1539.12 -213.863 1537.41 Q-215.992 1535.67 -219.812 1535.67 L-223.84 1535.67 L-223.84 1531.83 L-219.627 1531.83 Q-216.178 1531.83 -214.349 1530.47 Q-212.52 1529.08 -212.52 1526.48 Q-212.52 1523.82 -214.418 1522.41 Q-216.293 1520.97 -219.812 1520.97 Q-221.733 1520.97 -223.932 1521.39 Q-226.131 1521.81 -228.77 1522.69 L-228.77 1518.52 Q-226.108 1517.78 -223.793 1517.41 Q-221.455 1517.04 -219.395 1517.04 Q-214.071 1517.04 -210.969 1519.47 Q-207.868 1521.88 -207.868 1526 Q-207.868 1528.87 -209.511 1530.86 Q-211.155 1532.83 -214.187 1533.59 Z\" fill=\"#000000\" fill-rule=\"evenodd\" fill-opacity=\"1\" /><path clip-path=\"url(#clip800)\" d=\"M-198.192 1546.35 L-193.307 1546.35 L-193.307 1552.22 L-198.192 1552.22 L-198.192 1546.35 Z\" fill=\"#000000\" fill-rule=\"evenodd\" fill-opacity=\"1\" /><path clip-path=\"url(#clip800)\" d=\"M-173.122 1520.74 Q-176.733 1520.74 -178.562 1524.31 Q-180.368 1527.85 -180.368 1534.98 Q-180.368 1542.09 -178.562 1545.65 Q-176.733 1549.19 -173.122 1549.19 Q-169.488 1549.19 -167.683 1545.65 Q-165.854 1542.09 -165.854 1534.98 Q-165.854 1527.85 -167.683 1524.31 Q-169.488 1520.74 -173.122 1520.74 M-173.122 1517.04 Q-167.312 1517.04 -164.257 1521.65 Q-161.178 1526.23 -161.178 1534.98 Q-161.178 1543.71 -164.257 1548.31 Q-167.312 1552.9 -173.122 1552.9 Q-178.932 1552.9 -182.011 1548.31 Q-185.067 1543.71 -185.067 1534.98 Q-185.067 1526.23 -182.011 1521.65 Q-178.932 1517.04 -173.122 1517.04 Z\" fill=\"#000000\" fill-rule=\"evenodd\" fill-opacity=\"1\" /><path clip-path=\"url(#clip800)\" d=\"M-124.789 1526.76 L-135.368 1537.39 L-124.789 1547.97 L-127.544 1550.77 L-138.169 1540.14 L-148.794 1550.77 L-151.525 1547.97 L-140.97 1537.39 L-151.525 1526.76 L-148.794 1523.96 L-138.169 1534.59 L-127.544 1523.96 L-124.789 1526.76 Z\" fill=\"#000000\" fill-rule=\"evenodd\" fill-opacity=\"1\" /><path clip-path=\"url(#clip800)\" d=\"M-112.428 1548.29 L-104.789 1548.29 L-104.789 1521.92 L-113.1 1523.59 L-113.1 1519.33 L-104.836 1517.66 L-100.16 1517.66 L-100.16 1548.29 L-92.5209 1548.29 L-92.5209 1552.22 L-112.428 1552.22 L-112.428 1548.29 Z\" fill=\"#000000\" fill-rule=\"evenodd\" fill-opacity=\"1\" /><path clip-path=\"url(#clip800)\" d=\"M-73.0766 1520.74 Q-76.6877 1520.74 -78.5164 1524.31 Q-80.3219 1527.85 -80.3219 1534.98 Q-80.3219 1542.09 -78.5164 1545.65 Q-76.6877 1549.19 -73.0766 1549.19 Q-69.4423 1549.19 -67.6368 1545.65 Q-65.8081 1542.09 -65.8081 1534.98 Q-65.8081 1527.85 -67.6368 1524.31 Q-69.4423 1520.74 -73.0766 1520.74 M-73.0766 1517.04 Q-67.2664 1517.04 -64.2109 1521.65 Q-61.1322 1526.23 -61.1322 1534.98 Q-61.1322 1543.71 -64.2109 1548.31 Q-67.2664 1552.9 -73.0766 1552.9 Q-78.8867 1552.9 -81.9654 1548.31 Q-85.021 1543.71 -85.021 1534.98 Q-85.021 1526.23 -81.9654 1521.65 Q-78.8867 1517.04 -73.0766 1517.04 Z\" fill=\"#000000\" fill-rule=\"evenodd\" fill-opacity=\"1\" /><path clip-path=\"url(#clip800)\" d=\"M-61.1322 1511.14 L-37.0206 1511.14 L-37.0206 1514.34 L-61.1322 1514.34 L-61.1322 1511.14 Z\" fill=\"#000000\" fill-rule=\"evenodd\" fill-opacity=\"1\" /><path clip-path=\"url(#clip800)\" d=\"M-28.1622 1521.62 L-21.9556 1521.62 L-21.9556 1500.19 L-28.7076 1501.55 L-28.7076 1498.09 L-21.9932 1496.73 L-18.1941 1496.73 L-18.1941 1521.62 L-11.9875 1521.62 L-11.9875 1524.81 L-28.1622 1524.81 L-28.1622 1521.62 Z\" fill=\"#000000\" fill-rule=\"evenodd\" fill-opacity=\"1\" /><path clip-path=\"url(#clip800)\" d=\"M4.28123 1509.26 Q1.72337 1509.26 0.21875 1511.01 Q-1.26706 1512.76 -1.26706 1515.81 Q-1.26706 1518.83 0.21875 1520.6 Q1.72337 1522.35 4.28123 1522.35 Q6.83908 1522.35 8.3249 1520.6 Q9.82952 1518.83 9.82952 1515.81 Q9.82952 1512.76 8.3249 1511.01 Q6.83908 1509.26 4.28123 1509.26 M11.8231 1497.35 L11.8231 1500.82 Q10.3938 1500.14 8.92675 1499.78 Q7.47855 1499.42 6.04916 1499.42 Q2.2876 1499.42 0.293981 1501.96 Q-1.68083 1504.5 -1.96295 1509.64 Q-0.853293 1508 0.820598 1507.13 Q2.49449 1506.25 4.50692 1506.25 Q8.73867 1506.25 11.1837 1508.83 Q13.6475 1511.39 13.6475 1515.81 Q13.6475 1520.13 11.0896 1522.75 Q8.53178 1525.36 4.28123 1525.36 Q-0.589984 1525.36 -3.16665 1521.64 Q-5.74331 1517.89 -5.74331 1510.8 Q-5.74331 1504.14 -2.58361 1500.19 Q0.576097 1496.23 5.8987 1496.23 Q7.32809 1496.23 8.77628 1496.51 Q10.2433 1496.79 11.8231 1497.35 Z\" fill=\"#000000\" fill-rule=\"evenodd\" fill-opacity=\"1\" /><path clip-path=\"url(#clip800)\" d=\"M1360.76 1505.08 Q1357.15 1505.08 1355.32 1508.65 Q1353.51 1512.19 1353.51 1519.32 Q1353.51 1526.43 1355.32 1529.99 Q1357.15 1533.53 1360.76 1533.53 Q1364.39 1533.53 1366.2 1529.99 Q1368.03 1526.43 1368.03 1519.32 Q1368.03 1512.19 1366.2 1508.65 Q1364.39 1505.08 1360.76 1505.08 M1360.76 1501.38 Q1366.57 1501.38 1369.62 1505.99 Q1372.7 1510.57 1372.7 1519.32 Q1372.7 1528.05 1369.62 1532.65 Q1366.57 1537.24 1360.76 1537.24 Q1354.95 1537.24 1351.87 1532.65 Q1348.81 1528.05 1348.81 1519.32 Q1348.81 1510.57 1351.87 1505.99 Q1354.95 1501.38 1360.76 1501.38 Z\" fill=\"#000000\" fill-rule=\"evenodd\" fill-opacity=\"1\" /><path clip-path=\"url(#clip800)\" d=\"M2742.65 1533.59 Q2746.01 1534.31 2747.88 1536.58 Q2749.78 1538.85 2749.78 1542.18 Q2749.78 1547.29 2746.26 1550.1 Q2742.74 1552.9 2736.26 1552.9 Q2734.08 1552.9 2731.77 1552.46 Q2729.48 1552.04 2727.02 1551.18 L2727.02 1546.67 Q2728.97 1547.8 2731.28 1548.38 Q2733.6 1548.96 2736.12 1548.96 Q2740.52 1548.96 2742.81 1547.22 Q2745.13 1545.49 2745.13 1542.18 Q2745.13 1539.12 2742.97 1537.41 Q2740.84 1535.67 2737.02 1535.67 L2733 1535.67 L2733 1531.83 L2737.21 1531.83 Q2740.66 1531.83 2742.49 1530.47 Q2744.32 1529.08 2744.32 1526.48 Q2744.32 1523.82 2742.42 1522.41 Q2740.54 1520.97 2737.02 1520.97 Q2735.1 1520.97 2732.9 1521.39 Q2730.71 1521.81 2728.07 1522.69 L2728.07 1518.52 Q2730.73 1517.78 2733.04 1517.41 Q2735.38 1517.04 2737.44 1517.04 Q2742.77 1517.04 2745.87 1519.47 Q2748.97 1521.88 2748.97 1526 Q2748.97 1528.87 2747.33 1530.86 Q2745.68 1532.83 2742.65 1533.59 Z\" fill=\"#000000\" fill-rule=\"evenodd\" fill-opacity=\"1\" /><path clip-path=\"url(#clip800)\" d=\"M2758.65 1546.35 L2763.53 1546.35 L2763.53 1552.22 L2758.65 1552.22 L2758.65 1546.35 Z\" fill=\"#000000\" fill-rule=\"evenodd\" fill-opacity=\"1\" /><path clip-path=\"url(#clip800)\" d=\"M2783.71 1520.74 Q2780.1 1520.74 2778.27 1524.31 Q2776.47 1527.85 2776.47 1534.98 Q2776.47 1542.09 2778.27 1545.65 Q2780.1 1549.19 2783.71 1549.19 Q2787.35 1549.19 2789.15 1545.65 Q2790.98 1542.09 2790.98 1534.98 Q2790.98 1527.85 2789.15 1524.31 Q2787.35 1520.74 2783.71 1520.74 M2783.71 1517.04 Q2789.52 1517.04 2792.58 1521.65 Q2795.66 1526.23 2795.66 1534.98 Q2795.66 1543.71 2792.58 1548.31 Q2789.52 1552.9 2783.71 1552.9 Q2777.9 1552.9 2774.83 1548.31 Q2771.77 1543.71 2771.77 1534.98 Q2771.77 1526.23 2774.83 1521.65 Q2777.9 1517.04 2783.71 1517.04 Z\" fill=\"#000000\" fill-rule=\"evenodd\" fill-opacity=\"1\" /><path clip-path=\"url(#clip800)\" d=\"M2832.05 1526.76 L2821.47 1537.39 L2832.05 1547.97 L2829.29 1550.77 L2818.67 1540.14 L2808.04 1550.77 L2805.31 1547.97 L2815.87 1537.39 L2805.31 1526.76 L2808.04 1523.96 L2818.67 1534.59 L2829.29 1523.96 L2832.05 1526.76 Z\" fill=\"#000000\" fill-rule=\"evenodd\" fill-opacity=\"1\" /><path clip-path=\"url(#clip800)\" d=\"M2844.41 1548.29 L2852.05 1548.29 L2852.05 1521.92 L2843.74 1523.59 L2843.74 1519.33 L2852 1517.66 L2856.68 1517.66 L2856.68 1548.29 L2864.32 1548.29 L2864.32 1552.22 L2844.41 1552.22 L2844.41 1548.29 Z\" fill=\"#000000\" fill-rule=\"evenodd\" fill-opacity=\"1\" /><path clip-path=\"url(#clip800)\" d=\"M2883.76 1520.74 Q2880.15 1520.74 2878.32 1524.31 Q2876.51 1527.85 2876.51 1534.98 Q2876.51 1542.09 2878.32 1545.65 Q2880.15 1549.19 2883.76 1549.19 Q2887.39 1549.19 2889.2 1545.65 Q2891.03 1542.09 2891.03 1534.98 Q2891.03 1527.85 2889.2 1524.31 Q2887.39 1520.74 2883.76 1520.74 M2883.76 1517.04 Q2889.57 1517.04 2892.63 1521.65 Q2895.7 1526.23 2895.7 1534.98 Q2895.7 1543.71 2892.63 1548.31 Q2889.57 1552.9 2883.76 1552.9 Q2877.95 1552.9 2874.87 1548.31 Q2871.82 1543.71 2871.82 1534.98 Q2871.82 1526.23 2874.87 1521.65 Q2877.95 1517.04 2883.76 1517.04 Z\" fill=\"#000000\" fill-rule=\"evenodd\" fill-opacity=\"1\" /><path clip-path=\"url(#clip800)\" d=\"M2895.7 1511.14 L2919.82 1511.14 L2919.82 1514.34 L2895.7 1514.34 L2895.7 1511.14 Z\" fill=\"#000000\" fill-rule=\"evenodd\" fill-opacity=\"1\" /><path clip-path=\"url(#clip800)\" d=\"M2928.67 1521.62 L2934.88 1521.62 L2934.88 1500.19 L2928.13 1501.55 L2928.13 1498.09 L2934.84 1496.73 L2938.64 1496.73 L2938.64 1521.62 L2944.85 1521.62 L2944.85 1524.81 L2928.67 1524.81 L2928.67 1521.62 Z\" fill=\"#000000\" fill-rule=\"evenodd\" fill-opacity=\"1\" /><path clip-path=\"url(#clip800)\" d=\"M2961.12 1509.26 Q2958.56 1509.26 2957.06 1511.01 Q2955.57 1512.76 2955.57 1515.81 Q2955.57 1518.83 2957.06 1520.6 Q2958.56 1522.35 2961.12 1522.35 Q2963.68 1522.35 2965.16 1520.6 Q2966.67 1518.83 2966.67 1515.81 Q2966.67 1512.76 2965.16 1511.01 Q2963.68 1509.26 2961.12 1509.26 M2968.66 1497.35 L2968.66 1500.82 Q2967.23 1500.14 2965.76 1499.78 Q2964.32 1499.42 2962.89 1499.42 Q2959.12 1499.42 2957.13 1501.96 Q2955.16 1504.5 2954.87 1509.64 Q2955.98 1508 2957.66 1507.13 Q2959.33 1506.25 2961.34 1506.25 Q2965.58 1506.25 2968.02 1508.83 Q2970.48 1511.39 2970.48 1515.81 Q2970.48 1520.13 2967.93 1522.75 Q2965.37 1525.36 2961.12 1525.36 Q2956.25 1525.36 2953.67 1521.64 Q2951.09 1517.89 2951.09 1510.8 Q2951.09 1504.14 2954.25 1500.19 Q2957.41 1496.23 2962.74 1496.23 Q2964.16 1496.23 2965.61 1496.51 Q2967.08 1496.79 2968.66 1497.35 Z\" fill=\"#000000\" fill-rule=\"evenodd\" fill-opacity=\"1\" /><path clip-path=\"url(#clip800)\" d=\"M4227.21 1533.08 Q4224.06 1533.08 4222.21 1535.23 Q4220.38 1537.39 4220.38 1541.14 Q4220.38 1544.86 4222.21 1547.04 Q4224.06 1549.19 4227.21 1549.19 Q4230.36 1549.19 4232.18 1547.04 Q4234.04 1544.86 4234.04 1541.14 Q4234.04 1537.39 4232.18 1535.23 Q4230.36 1533.08 4227.21 1533.08 M4236.49 1518.43 L4236.49 1522.69 Q4234.73 1521.85 4232.93 1521.41 Q4231.14 1520.97 4229.38 1520.97 Q4224.75 1520.97 4222.3 1524.1 Q4219.87 1527.22 4219.52 1533.54 Q4220.89 1531.53 4222.95 1530.47 Q4225.01 1529.38 4227.49 1529.38 Q4232.69 1529.38 4235.7 1532.55 Q4238.74 1535.7 4238.74 1541.14 Q4238.74 1546.46 4235.59 1549.68 Q4232.44 1552.9 4227.21 1552.9 Q4221.21 1552.9 4218.04 1548.31 Q4214.87 1543.71 4214.87 1534.98 Q4214.87 1526.78 4218.76 1521.92 Q4222.65 1517.04 4229.2 1517.04 Q4230.96 1517.04 4232.74 1517.39 Q4234.55 1517.73 4236.49 1518.43 Z\" fill=\"#000000\" fill-rule=\"evenodd\" fill-opacity=\"1\" /><path clip-path=\"url(#clip800)\" d=\"M4246.79 1546.35 L4251.68 1546.35 L4251.68 1552.22 L4246.79 1552.22 L4246.79 1546.35 Z\" fill=\"#000000\" fill-rule=\"evenodd\" fill-opacity=\"1\" /><path clip-path=\"url(#clip800)\" d=\"M4271.86 1520.74 Q4268.25 1520.74 4266.42 1524.31 Q4264.62 1527.85 4264.62 1534.98 Q4264.62 1542.09 4266.42 1545.65 Q4268.25 1549.19 4271.86 1549.19 Q4275.49 1549.19 4277.3 1545.65 Q4279.13 1542.09 4279.13 1534.98 Q4279.13 1527.85 4277.3 1524.31 Q4275.49 1520.74 4271.86 1520.74 M4271.86 1517.04 Q4277.67 1517.04 4280.73 1521.65 Q4283.81 1526.23 4283.81 1534.98 Q4283.81 1543.71 4280.73 1548.31 Q4277.67 1552.9 4271.86 1552.9 Q4266.05 1552.9 4262.97 1548.31 Q4259.92 1543.71 4259.92 1534.98 Q4259.92 1526.23 4262.97 1521.65 Q4266.05 1517.04 4271.86 1517.04 Z\" fill=\"#000000\" fill-rule=\"evenodd\" fill-opacity=\"1\" /><path clip-path=\"url(#clip800)\" d=\"M4320.19 1526.76 L4309.62 1537.39 L4320.19 1547.97 L4317.44 1550.77 L4306.81 1540.14 L4296.19 1550.77 L4293.46 1547.97 L4304.01 1537.39 L4293.46 1526.76 L4296.19 1523.96 L4306.81 1534.59 L4317.44 1523.96 L4320.19 1526.76 Z\" fill=\"#000000\" fill-rule=\"evenodd\" fill-opacity=\"1\" /><path clip-path=\"url(#clip800)\" d=\"M4332.55 1548.29 L4340.19 1548.29 L4340.19 1521.92 L4331.88 1523.59 L4331.88 1519.33 L4340.15 1517.66 L4344.82 1517.66 L4344.82 1548.29 L4352.46 1548.29 L4352.46 1552.22 L4332.55 1552.22 L4332.55 1548.29 Z\" fill=\"#000000\" fill-rule=\"evenodd\" fill-opacity=\"1\" /><path clip-path=\"url(#clip800)\" d=\"M4371.91 1520.74 Q4368.3 1520.74 4366.47 1524.31 Q4364.66 1527.85 4364.66 1534.98 Q4364.66 1542.09 4366.47 1545.65 Q4368.3 1549.19 4371.91 1549.19 Q4375.54 1549.19 4377.35 1545.65 Q4379.17 1542.09 4379.17 1534.98 Q4379.17 1527.85 4377.35 1524.31 Q4375.54 1520.74 4371.91 1520.74 M4371.91 1517.04 Q4377.72 1517.04 4380.77 1521.65 Q4383.85 1526.23 4383.85 1534.98 Q4383.85 1543.71 4380.77 1548.31 Q4377.72 1552.9 4371.91 1552.9 Q4366.1 1552.9 4363.02 1548.31 Q4359.96 1543.71 4359.96 1534.98 Q4359.96 1526.23 4363.02 1521.65 Q4366.1 1517.04 4371.91 1517.04 Z\" fill=\"#000000\" fill-rule=\"evenodd\" fill-opacity=\"1\" /><path clip-path=\"url(#clip800)\" d=\"M4383.85 1511.14 L4407.96 1511.14 L4407.96 1514.34 L4383.85 1514.34 L4383.85 1511.14 Z\" fill=\"#000000\" fill-rule=\"evenodd\" fill-opacity=\"1\" /><path clip-path=\"url(#clip800)\" d=\"M4416.82 1521.62 L4423.03 1521.62 L4423.03 1500.19 L4416.28 1501.55 L4416.28 1498.09 L4422.99 1496.73 L4426.79 1496.73 L4426.79 1521.62 L4433 1521.62 L4433 1524.81 L4416.82 1524.81 L4416.82 1521.62 Z\" fill=\"#000000\" fill-rule=\"evenodd\" fill-opacity=\"1\" /><path clip-path=\"url(#clip800)\" d=\"M4449.26 1509.26 Q4446.71 1509.26 4445.2 1511.01 Q4443.72 1512.76 4443.72 1515.81 Q4443.72 1518.83 4445.2 1520.6 Q4446.71 1522.35 4449.26 1522.35 Q4451.82 1522.35 4453.31 1520.6 Q4454.81 1518.83 4454.81 1515.81 Q4454.81 1512.76 4453.31 1511.01 Q4451.82 1509.26 4449.26 1509.26 M4456.81 1497.35 L4456.81 1500.82 Q4455.38 1500.14 4453.91 1499.78 Q4452.46 1499.42 4451.03 1499.42 Q4447.27 1499.42 4445.28 1501.96 Q4443.3 1504.5 4443.02 1509.64 Q4444.13 1508 4445.8 1507.13 Q4447.48 1506.25 4449.49 1506.25 Q4453.72 1506.25 4456.17 1508.83 Q4458.63 1511.39 4458.63 1515.81 Q4458.63 1520.13 4456.07 1522.75 Q4453.51 1525.36 4449.26 1525.36 Q4444.39 1525.36 4441.82 1521.64 Q4439.24 1517.89 4439.24 1510.8 Q4439.24 1504.14 4442.4 1500.19 Q4445.56 1496.23 4450.88 1496.23 Q4452.31 1496.23 4453.76 1496.51 Q4455.23 1496.79 4456.81 1497.35 Z\" fill=\"#000000\" fill-rule=\"evenodd\" fill-opacity=\"1\" /><polyline clip-path=\"url(#clip802)\" style=\"stroke:#000000; stroke-linecap:butt; stroke-linejoin:round; stroke-width:2; stroke-opacity:0.1; fill:none\" points=\"\n",
       "  368.761,2089.95 2352.76,2089.95 \n",
       "  \"/>\n",
       "<polyline clip-path=\"url(#clip802)\" style=\"stroke:#000000; stroke-linecap:butt; stroke-linejoin:round; stroke-width:2; stroke-opacity:0.1; fill:none\" points=\"\n",
       "  368.761,1425.33 2352.76,1425.33 \n",
       "  \"/>\n",
       "<polyline clip-path=\"url(#clip802)\" style=\"stroke:#000000; stroke-linecap:butt; stroke-linejoin:round; stroke-width:2; stroke-opacity:0.1; fill:none\" points=\"\n",
       "  368.761,760.704 2352.76,760.704 \n",
       "  \"/>\n",
       "<polyline clip-path=\"url(#clip802)\" style=\"stroke:#000000; stroke-linecap:butt; stroke-linejoin:round; stroke-width:2; stroke-opacity:0.1; fill:none\" points=\"\n",
       "  368.761,96.0819 2352.76,96.0819 \n",
       "  \"/>\n",
       "<polyline clip-path=\"url(#clip802)\" style=\"stroke:#000000; stroke-linecap:butt; stroke-linejoin:round; stroke-width:2; stroke-opacity:0.1; fill:none\" points=\"\n",
       "  368.761,-568.541 2352.76,-568.541 \n",
       "  \"/>\n",
       "<polyline clip-path=\"url(#clip800)\" style=\"stroke:#000000; stroke-linecap:butt; stroke-linejoin:round; stroke-width:4; stroke-opacity:1; fill:none\" points=\"\n",
       "  368.761,1474.16 368.761,47.2441 \n",
       "  \"/>\n",
       "<polyline clip-path=\"url(#clip800)\" style=\"stroke:#000000; stroke-linecap:butt; stroke-linejoin:round; stroke-width:4; stroke-opacity:1; fill:none\" points=\"\n",
       "  368.761,2089.95 387.659,2089.95 \n",
       "  \"/>\n",
       "<polyline clip-path=\"url(#clip800)\" style=\"stroke:#000000; stroke-linecap:butt; stroke-linejoin:round; stroke-width:4; stroke-opacity:1; fill:none\" points=\"\n",
       "  368.761,1425.33 387.659,1425.33 \n",
       "  \"/>\n",
       "<polyline clip-path=\"url(#clip800)\" style=\"stroke:#000000; stroke-linecap:butt; stroke-linejoin:round; stroke-width:4; stroke-opacity:1; fill:none\" points=\"\n",
       "  368.761,760.704 387.659,760.704 \n",
       "  \"/>\n",
       "<polyline clip-path=\"url(#clip800)\" style=\"stroke:#000000; stroke-linecap:butt; stroke-linejoin:round; stroke-width:4; stroke-opacity:1; fill:none\" points=\"\n",
       "  368.761,96.0819 387.659,96.0819 \n",
       "  \"/>\n",
       "<polyline clip-path=\"url(#clip800)\" style=\"stroke:#000000; stroke-linecap:butt; stroke-linejoin:round; stroke-width:4; stroke-opacity:1; fill:none\" points=\"\n",
       "  368.761,-568.541 387.659,-568.541 \n",
       "  \"/>\n",
       "<path clip-path=\"url(#clip800)\" d=\"M50.9921 2096.85 L80.6679 2096.85 L80.6679 2100.78 L50.9921 2100.78 L50.9921 2096.85 Z\" fill=\"#000000\" fill-rule=\"evenodd\" fill-opacity=\"1\" /><path clip-path=\"url(#clip800)\" d=\"M101.339 2094.53 Q98.1909 2094.53 96.3391 2096.69 Q94.5104 2098.84 94.5104 2102.59 Q94.5104 2106.32 96.3391 2108.49 Q98.1909 2110.64 101.339 2110.64 Q104.487 2110.64 106.316 2108.49 Q108.168 2106.32 108.168 2102.59 Q108.168 2098.84 106.316 2096.69 Q104.487 2094.53 101.339 2094.53 M110.621 2079.88 L110.621 2084.14 Q108.862 2083.31 107.057 2082.87 Q105.274 2082.43 103.515 2082.43 Q98.8854 2082.43 96.4317 2085.55 Q94.0012 2088.68 93.6539 2095 Q95.0197 2092.98 97.0798 2091.92 Q99.14 2090.83 101.617 2090.83 Q106.825 2090.83 109.834 2094 Q112.867 2097.15 112.867 2102.59 Q112.867 2107.91 109.719 2111.13 Q106.571 2114.35 101.339 2114.35 Q95.3437 2114.35 92.1725 2109.76 Q89.0012 2105.16 89.0012 2096.43 Q89.0012 2088.24 92.89 2083.38 Q96.7789 2078.49 103.33 2078.49 Q105.089 2078.49 106.871 2078.84 Q108.677 2079.19 110.621 2079.88 Z\" fill=\"#000000\" fill-rule=\"evenodd\" fill-opacity=\"1\" /><path clip-path=\"url(#clip800)\" d=\"M120.922 2107.8 L125.807 2107.8 L125.807 2113.68 L120.922 2113.68 L120.922 2107.8 Z\" fill=\"#000000\" fill-rule=\"evenodd\" fill-opacity=\"1\" /><path clip-path=\"url(#clip800)\" d=\"M145.992 2082.2 Q142.381 2082.2 140.552 2085.76 Q138.746 2089.3 138.746 2096.43 Q138.746 2103.54 140.552 2107.1 Q142.381 2110.64 145.992 2110.64 Q149.626 2110.64 151.431 2107.1 Q153.26 2103.54 153.26 2096.43 Q153.26 2089.3 151.431 2085.76 Q149.626 2082.2 145.992 2082.2 M145.992 2078.49 Q151.802 2078.49 154.857 2083.1 Q157.936 2087.68 157.936 2096.43 Q157.936 2105.16 154.857 2109.76 Q151.802 2114.35 145.992 2114.35 Q140.181 2114.35 137.103 2109.76 Q134.047 2105.16 134.047 2096.43 Q134.047 2087.68 137.103 2083.1 Q140.181 2078.49 145.992 2078.49 Z\" fill=\"#000000\" fill-rule=\"evenodd\" fill-opacity=\"1\" /><path clip-path=\"url(#clip800)\" d=\"M194.325 2088.21 L183.746 2098.84 L194.325 2109.42 L191.57 2112.22 L180.945 2101.59 L170.32 2112.22 L167.589 2109.42 L178.144 2098.84 L167.589 2088.21 L170.32 2085.41 L180.945 2096.04 L191.57 2085.41 L194.325 2088.21 Z\" fill=\"#000000\" fill-rule=\"evenodd\" fill-opacity=\"1\" /><path clip-path=\"url(#clip800)\" d=\"M206.686 2109.74 L214.325 2109.74 L214.325 2083.38 L206.014 2085.04 L206.014 2080.78 L214.278 2079.12 L218.954 2079.12 L218.954 2109.74 L226.593 2109.74 L226.593 2113.68 L206.686 2113.68 L206.686 2109.74 Z\" fill=\"#000000\" fill-rule=\"evenodd\" fill-opacity=\"1\" /><path clip-path=\"url(#clip800)\" d=\"M246.037 2082.2 Q242.426 2082.2 240.598 2085.76 Q238.792 2089.3 238.792 2096.43 Q238.792 2103.54 240.598 2107.1 Q242.426 2110.64 246.037 2110.64 Q249.672 2110.64 251.477 2107.1 Q253.306 2103.54 253.306 2096.43 Q253.306 2089.3 251.477 2085.76 Q249.672 2082.2 246.037 2082.2 M246.037 2078.49 Q251.848 2078.49 254.903 2083.1 Q257.982 2087.68 257.982 2096.43 Q257.982 2105.16 254.903 2109.76 Q251.848 2114.35 246.037 2114.35 Q240.227 2114.35 237.149 2109.76 Q234.093 2105.16 234.093 2096.43 Q234.093 2087.68 237.149 2083.1 Q240.227 2078.49 246.037 2078.49 Z\" fill=\"#000000\" fill-rule=\"evenodd\" fill-opacity=\"1\" /><path clip-path=\"url(#clip800)\" d=\"M257.982 2072.59 L282.093 2072.59 L282.093 2075.79 L257.982 2075.79 L257.982 2072.59 Z\" fill=\"#000000\" fill-rule=\"evenodd\" fill-opacity=\"1\" /><path clip-path=\"url(#clip800)\" d=\"M290.952 2083.07 L297.158 2083.07 L297.158 2061.65 L290.406 2063 L290.406 2059.54 L297.121 2058.19 L300.92 2058.19 L300.92 2083.07 L307.126 2083.07 L307.126 2086.27 L290.952 2086.27 L290.952 2083.07 Z\" fill=\"#000000\" fill-rule=\"evenodd\" fill-opacity=\"1\" /><path clip-path=\"url(#clip800)\" d=\"M323.395 2070.71 Q320.837 2070.71 319.333 2072.46 Q317.847 2074.21 317.847 2077.26 Q317.847 2080.29 319.333 2082.05 Q320.837 2083.8 323.395 2083.8 Q325.953 2083.8 327.439 2082.05 Q328.943 2080.29 328.943 2077.26 Q328.943 2074.21 327.439 2072.46 Q325.953 2070.71 323.395 2070.71 M330.937 2058.81 L330.937 2062.27 Q329.508 2061.59 328.041 2061.23 Q326.593 2060.88 325.163 2060.88 Q321.402 2060.88 319.408 2063.42 Q317.433 2065.95 317.151 2071.09 Q318.261 2069.45 319.935 2068.59 Q321.608 2067.7 323.621 2067.7 Q327.853 2067.7 330.298 2070.28 Q332.761 2072.84 332.761 2077.26 Q332.761 2081.58 330.204 2084.2 Q327.646 2086.81 323.395 2086.81 Q318.524 2086.81 315.947 2083.09 Q313.371 2079.35 313.371 2072.25 Q313.371 2065.6 316.53 2061.65 Q319.69 2057.68 325.013 2057.68 Q326.442 2057.68 327.89 2057.96 Q329.357 2058.24 330.937 2058.81 Z\" fill=\"#000000\" fill-rule=\"evenodd\" fill-opacity=\"1\" /><path clip-path=\"url(#clip800)\" d=\"M50.9921 1432.23 L80.6679 1432.23 L80.6679 1436.16 L50.9921 1436.16 L50.9921 1432.23 Z\" fill=\"#000000\" fill-rule=\"evenodd\" fill-opacity=\"1\" /><path clip-path=\"url(#clip800)\" d=\"M104.927 1430.42 Q108.283 1431.14 110.158 1433.41 Q112.057 1435.67 112.057 1439.01 Q112.057 1444.12 108.538 1446.92 Q105.02 1449.73 98.5382 1449.73 Q96.3623 1449.73 94.0475 1449.29 Q91.7558 1448.87 89.3021 1448.01 L89.3021 1443.5 Q91.2465 1444.63 93.5613 1445.21 Q95.8761 1445.79 98.3993 1445.79 Q102.797 1445.79 105.089 1444.05 Q107.404 1442.32 107.404 1439.01 Q107.404 1435.95 105.251 1434.24 Q103.121 1432.5 99.3021 1432.5 L95.2743 1432.5 L95.2743 1428.66 L99.4872 1428.66 Q102.936 1428.66 104.765 1427.3 Q106.594 1425.91 106.594 1423.31 Q106.594 1420.65 104.696 1419.24 Q102.821 1417.8 99.3021 1417.8 Q97.3808 1417.8 95.1817 1418.22 Q92.9826 1418.64 90.3438 1419.52 L90.3438 1415.35 Q93.0058 1414.61 95.3206 1414.24 Q97.6585 1413.87 99.7187 1413.87 Q105.043 1413.87 108.145 1416.3 Q111.246 1418.71 111.246 1422.83 Q111.246 1425.7 109.603 1427.69 Q107.959 1429.66 104.927 1430.42 Z\" fill=\"#000000\" fill-rule=\"evenodd\" fill-opacity=\"1\" /><path clip-path=\"url(#clip800)\" d=\"M120.922 1443.17 L125.807 1443.17 L125.807 1449.05 L120.922 1449.05 L120.922 1443.17 Z\" fill=\"#000000\" fill-rule=\"evenodd\" fill-opacity=\"1\" /><path clip-path=\"url(#clip800)\" d=\"M145.992 1417.57 Q142.381 1417.57 140.552 1421.14 Q138.746 1424.68 138.746 1431.81 Q138.746 1438.92 140.552 1442.48 Q142.381 1446.02 145.992 1446.02 Q149.626 1446.02 151.431 1442.48 Q153.26 1438.92 153.26 1431.81 Q153.26 1424.68 151.431 1421.14 Q149.626 1417.57 145.992 1417.57 M145.992 1413.87 Q151.802 1413.87 154.857 1418.48 Q157.936 1423.06 157.936 1431.81 Q157.936 1440.54 154.857 1445.14 Q151.802 1449.73 145.992 1449.73 Q140.181 1449.73 137.103 1445.14 Q134.047 1440.54 134.047 1431.81 Q134.047 1423.06 137.103 1418.48 Q140.181 1413.87 145.992 1413.87 Z\" fill=\"#000000\" fill-rule=\"evenodd\" fill-opacity=\"1\" /><path clip-path=\"url(#clip800)\" d=\"M194.325 1423.59 L183.746 1434.22 L194.325 1444.8 L191.57 1447.6 L180.945 1436.97 L170.32 1447.6 L167.589 1444.8 L178.144 1434.22 L167.589 1423.59 L170.32 1420.79 L180.945 1431.42 L191.57 1420.79 L194.325 1423.59 Z\" fill=\"#000000\" fill-rule=\"evenodd\" fill-opacity=\"1\" /><path clip-path=\"url(#clip800)\" d=\"M206.686 1445.12 L214.325 1445.12 L214.325 1418.75 L206.014 1420.42 L206.014 1416.16 L214.278 1414.49 L218.954 1414.49 L218.954 1445.12 L226.593 1445.12 L226.593 1449.05 L206.686 1449.05 L206.686 1445.12 Z\" fill=\"#000000\" fill-rule=\"evenodd\" fill-opacity=\"1\" /><path clip-path=\"url(#clip800)\" d=\"M246.037 1417.57 Q242.426 1417.57 240.598 1421.14 Q238.792 1424.68 238.792 1431.81 Q238.792 1438.92 240.598 1442.48 Q242.426 1446.02 246.037 1446.02 Q249.672 1446.02 251.477 1442.48 Q253.306 1438.92 253.306 1431.81 Q253.306 1424.68 251.477 1421.14 Q249.672 1417.57 246.037 1417.57 M246.037 1413.87 Q251.848 1413.87 254.903 1418.48 Q257.982 1423.06 257.982 1431.81 Q257.982 1440.54 254.903 1445.14 Q251.848 1449.73 246.037 1449.73 Q240.227 1449.73 237.149 1445.14 Q234.093 1440.54 234.093 1431.81 Q234.093 1423.06 237.149 1418.48 Q240.227 1413.87 246.037 1413.87 Z\" fill=\"#000000\" fill-rule=\"evenodd\" fill-opacity=\"1\" /><path clip-path=\"url(#clip800)\" d=\"M257.982 1407.97 L282.093 1407.97 L282.093 1411.17 L257.982 1411.17 L257.982 1407.97 Z\" fill=\"#000000\" fill-rule=\"evenodd\" fill-opacity=\"1\" /><path clip-path=\"url(#clip800)\" d=\"M290.952 1418.45 L297.158 1418.45 L297.158 1397.02 L290.406 1398.38 L290.406 1394.92 L297.121 1393.56 L300.92 1393.56 L300.92 1418.45 L307.126 1418.45 L307.126 1421.64 L290.952 1421.64 L290.952 1418.45 Z\" fill=\"#000000\" fill-rule=\"evenodd\" fill-opacity=\"1\" /><path clip-path=\"url(#clip800)\" d=\"M323.395 1406.09 Q320.837 1406.09 319.333 1407.84 Q317.847 1409.59 317.847 1412.64 Q317.847 1415.66 319.333 1417.43 Q320.837 1419.18 323.395 1419.18 Q325.953 1419.18 327.439 1417.43 Q328.943 1415.66 328.943 1412.64 Q328.943 1409.59 327.439 1407.84 Q325.953 1406.09 323.395 1406.09 M330.937 1394.18 L330.937 1397.65 Q329.508 1396.97 328.041 1396.61 Q326.593 1396.25 325.163 1396.25 Q321.402 1396.25 319.408 1398.79 Q317.433 1401.33 317.151 1406.47 Q318.261 1404.83 319.935 1403.96 Q321.608 1403.08 323.621 1403.08 Q327.853 1403.08 330.298 1405.66 Q332.761 1408.22 332.761 1412.64 Q332.761 1416.96 330.204 1419.58 Q327.646 1422.19 323.395 1422.19 Q318.524 1422.19 315.947 1418.47 Q313.371 1414.72 313.371 1407.63 Q313.371 1400.97 316.53 1397.02 Q319.69 1393.06 325.013 1393.06 Q326.442 1393.06 327.89 1393.34 Q329.357 1393.62 330.937 1394.18 Z\" fill=\"#000000\" fill-rule=\"evenodd\" fill-opacity=\"1\" /><path clip-path=\"url(#clip800)\" d=\"M320.817 746.503 Q317.206 746.503 315.377 750.068 Q313.572 753.61 313.572 760.739 Q313.572 767.846 315.377 771.41 Q317.206 774.952 320.817 774.952 Q324.451 774.952 326.257 771.41 Q328.086 767.846 328.086 760.739 Q328.086 753.61 326.257 750.068 Q324.451 746.503 320.817 746.503 M320.817 742.799 Q326.627 742.799 329.683 747.406 Q332.761 751.989 332.761 760.739 Q332.761 769.466 329.683 774.072 Q326.627 778.656 320.817 778.656 Q315.007 778.656 311.928 774.072 Q308.873 769.466 308.873 760.739 Q308.873 751.989 311.928 747.406 Q315.007 742.799 320.817 742.799 Z\" fill=\"#000000\" fill-rule=\"evenodd\" fill-opacity=\"1\" /><path clip-path=\"url(#clip800)\" d=\"M104.927 101.175 Q108.283 101.893 110.158 104.161 Q112.057 106.43 112.057 109.763 Q112.057 114.879 108.538 117.68 Q105.02 120.481 98.5382 120.481 Q96.3623 120.481 94.0475 120.041 Q91.7558 119.624 89.3021 118.768 L89.3021 114.254 Q91.2465 115.388 93.5613 115.967 Q95.8761 116.546 98.3993 116.546 Q102.797 116.546 105.089 114.81 Q107.404 113.073 107.404 109.763 Q107.404 106.708 105.251 104.995 Q103.121 103.259 99.3021 103.259 L95.2743 103.259 L95.2743 99.4161 L99.4872 99.4161 Q102.936 99.4161 104.765 98.0504 Q106.594 96.6615 106.594 94.0689 Q106.594 91.4069 104.696 89.9948 Q102.821 88.5597 99.3021 88.5597 Q97.3808 88.5597 95.1817 88.9763 Q92.9826 89.393 90.3438 90.2726 L90.3438 86.106 Q93.0058 85.3652 95.3206 84.9949 Q97.6585 84.6245 99.7187 84.6245 Q105.043 84.6245 108.145 87.055 Q111.246 89.4624 111.246 93.5828 Q111.246 96.4531 109.603 98.4439 Q107.959 100.411 104.927 101.175 Z\" fill=\"#000000\" fill-rule=\"evenodd\" fill-opacity=\"1\" /><path clip-path=\"url(#clip800)\" d=\"M120.922 113.93 L125.807 113.93 L125.807 119.809 L120.922 119.809 L120.922 113.93 Z\" fill=\"#000000\" fill-rule=\"evenodd\" fill-opacity=\"1\" /><path clip-path=\"url(#clip800)\" d=\"M145.992 88.3282 Q142.381 88.3282 140.552 91.893 Q138.746 95.4346 138.746 102.564 Q138.746 109.671 140.552 113.235 Q142.381 116.777 145.992 116.777 Q149.626 116.777 151.431 113.235 Q153.26 109.671 153.26 102.564 Q153.26 95.4346 151.431 91.893 Q149.626 88.3282 145.992 88.3282 M145.992 84.6245 Q151.802 84.6245 154.857 89.231 Q157.936 93.8143 157.936 102.564 Q157.936 111.291 154.857 115.897 Q151.802 120.481 145.992 120.481 Q140.181 120.481 137.103 115.897 Q134.047 111.291 134.047 102.564 Q134.047 93.8143 137.103 89.231 Q140.181 84.6245 145.992 84.6245 Z\" fill=\"#000000\" fill-rule=\"evenodd\" fill-opacity=\"1\" /><path clip-path=\"url(#clip800)\" d=\"M194.325 94.3467 L183.746 104.972 L194.325 115.55 L191.57 118.351 L180.945 107.726 L170.32 118.351 L167.589 115.55 L178.144 104.972 L167.589 94.3467 L170.32 91.5458 L180.945 102.171 L191.57 91.5458 L194.325 94.3467 Z\" fill=\"#000000\" fill-rule=\"evenodd\" fill-opacity=\"1\" /><path clip-path=\"url(#clip800)\" d=\"M206.686 115.874 L214.325 115.874 L214.325 89.5087 L206.014 91.1754 L206.014 86.9162 L214.278 85.2495 L218.954 85.2495 L218.954 115.874 L226.593 115.874 L226.593 119.809 L206.686 119.809 L206.686 115.874 Z\" fill=\"#000000\" fill-rule=\"evenodd\" fill-opacity=\"1\" /><path clip-path=\"url(#clip800)\" d=\"M246.037 88.3282 Q242.426 88.3282 240.598 91.893 Q238.792 95.4346 238.792 102.564 Q238.792 109.671 240.598 113.235 Q242.426 116.777 246.037 116.777 Q249.672 116.777 251.477 113.235 Q253.306 109.671 253.306 102.564 Q253.306 95.4346 251.477 91.893 Q249.672 88.3282 246.037 88.3282 M246.037 84.6245 Q251.848 84.6245 254.903 89.231 Q257.982 93.8143 257.982 102.564 Q257.982 111.291 254.903 115.897 Q251.848 120.481 246.037 120.481 Q240.227 120.481 237.149 115.897 Q234.093 111.291 234.093 102.564 Q234.093 93.8143 237.149 89.231 Q240.227 84.6245 246.037 84.6245 Z\" fill=\"#000000\" fill-rule=\"evenodd\" fill-opacity=\"1\" /><path clip-path=\"url(#clip800)\" d=\"M257.982 78.7258 L282.093 78.7258 L282.093 81.9232 L257.982 81.9232 L257.982 78.7258 Z\" fill=\"#000000\" fill-rule=\"evenodd\" fill-opacity=\"1\" /><path clip-path=\"url(#clip800)\" d=\"M290.952 89.2018 L297.158 89.2018 L297.158 67.7797 L290.406 69.1339 L290.406 65.6733 L297.121 64.3191 L300.92 64.3191 L300.92 89.2018 L307.126 89.2018 L307.126 92.3991 L290.952 92.3991 L290.952 89.2018 Z\" fill=\"#000000\" fill-rule=\"evenodd\" fill-opacity=\"1\" /><path clip-path=\"url(#clip800)\" d=\"M323.395 76.8451 Q320.837 76.8451 319.333 78.5942 Q317.847 80.3433 317.847 83.3902 Q317.847 86.4182 319.333 88.1862 Q320.837 89.9353 323.395 89.9353 Q325.953 89.9353 327.439 88.1862 Q328.943 86.4182 328.943 83.3902 Q328.943 80.3433 327.439 78.5942 Q325.953 76.8451 323.395 76.8451 M330.937 64.9398 L330.937 68.4004 Q329.508 67.7233 328.041 67.366 Q326.593 67.0086 325.163 67.0086 Q321.402 67.0086 319.408 69.5477 Q317.433 72.0867 317.151 77.2212 Q318.261 75.5849 319.935 74.7198 Q321.608 73.8358 323.621 73.8358 Q327.853 73.8358 330.298 76.4125 Q332.761 78.9703 332.761 83.3902 Q332.761 87.716 330.204 90.3302 Q327.646 92.9445 323.395 92.9445 Q318.524 92.9445 315.947 89.2206 Q313.371 85.4778 313.371 78.3873 Q313.371 71.7294 316.53 67.7797 Q319.69 63.8113 325.013 63.8113 Q326.442 63.8113 327.89 64.0934 Q329.357 64.3755 330.937 64.9398 Z\" fill=\"#000000\" fill-rule=\"evenodd\" fill-opacity=\"1\" /><path clip-path=\"url(#clip800)\" d=\"M101.339 -563.956 Q98.1909 -563.956 96.3391 -561.804 Q94.5104 -559.651 94.5104 -555.901 Q94.5104 -552.174 96.3391 -549.998 Q98.1909 -547.845 101.339 -547.845 Q104.487 -547.845 106.316 -549.998 Q108.168 -552.174 108.168 -555.901 Q108.168 -559.651 106.316 -561.804 Q104.487 -563.956 101.339 -563.956 M110.621 -578.609 L110.621 -574.35 Q108.862 -575.183 107.057 -575.623 Q105.274 -576.063 103.515 -576.063 Q98.8854 -576.063 96.4317 -572.938 Q94.0012 -569.813 93.6539 -563.493 Q95.0197 -565.507 97.0798 -566.572 Q99.14 -567.66 101.617 -567.66 Q106.825 -567.66 109.834 -564.489 Q112.867 -561.341 112.867 -555.901 Q112.867 -550.577 109.719 -547.359 Q106.571 -544.142 101.339 -544.142 Q95.3437 -544.142 92.1725 -548.725 Q89.0012 -553.331 89.0012 -562.058 Q89.0012 -570.253 92.89 -575.114 Q96.7789 -579.998 103.33 -579.998 Q105.089 -579.998 106.871 -579.651 Q108.677 -579.304 110.621 -578.609 Z\" fill=\"#000000\" fill-rule=\"evenodd\" fill-opacity=\"1\" /><path clip-path=\"url(#clip800)\" d=\"M120.922 -550.693 L125.807 -550.693 L125.807 -544.813 L120.922 -544.813 L120.922 -550.693 Z\" fill=\"#000000\" fill-rule=\"evenodd\" fill-opacity=\"1\" /><path clip-path=\"url(#clip800)\" d=\"M145.992 -576.294 Q142.381 -576.294 140.552 -572.73 Q138.746 -569.188 138.746 -562.058 Q138.746 -554.952 140.552 -551.387 Q142.381 -547.845 145.992 -547.845 Q149.626 -547.845 151.431 -551.387 Q153.26 -554.952 153.26 -562.058 Q153.26 -569.188 151.431 -572.73 Q149.626 -576.294 145.992 -576.294 M145.992 -579.998 Q151.802 -579.998 154.857 -575.392 Q157.936 -570.808 157.936 -562.058 Q157.936 -553.331 154.857 -548.725 Q151.802 -544.142 145.992 -544.142 Q140.181 -544.142 137.103 -548.725 Q134.047 -553.331 134.047 -562.058 Q134.047 -570.808 137.103 -575.392 Q140.181 -579.998 145.992 -579.998 Z\" fill=\"#000000\" fill-rule=\"evenodd\" fill-opacity=\"1\" /><path clip-path=\"url(#clip800)\" d=\"M194.325 -570.276 L183.746 -559.651 L194.325 -549.072 L191.57 -546.271 L180.945 -556.896 L170.32 -546.271 L167.589 -549.072 L178.144 -559.651 L167.589 -570.276 L170.32 -573.077 L180.945 -562.452 L191.57 -573.077 L194.325 -570.276 Z\" fill=\"#000000\" fill-rule=\"evenodd\" fill-opacity=\"1\" /><path clip-path=\"url(#clip800)\" d=\"M206.686 -548.748 L214.325 -548.748 L214.325 -575.114 L206.014 -573.447 L206.014 -577.706 L214.278 -579.373 L218.954 -579.373 L218.954 -548.748 L226.593 -548.748 L226.593 -544.813 L206.686 -544.813 L206.686 -548.748 Z\" fill=\"#000000\" fill-rule=\"evenodd\" fill-opacity=\"1\" /><path clip-path=\"url(#clip800)\" d=\"M246.037 -576.294 Q242.426 -576.294 240.598 -572.73 Q238.792 -569.188 238.792 -562.058 Q238.792 -554.952 240.598 -551.387 Q242.426 -547.845 246.037 -547.845 Q249.672 -547.845 251.477 -551.387 Q253.306 -554.952 253.306 -562.058 Q253.306 -569.188 251.477 -572.73 Q249.672 -576.294 246.037 -576.294 M246.037 -579.998 Q251.848 -579.998 254.903 -575.392 Q257.982 -570.808 257.982 -562.058 Q257.982 -553.331 254.903 -548.725 Q251.848 -544.142 246.037 -544.142 Q240.227 -544.142 237.149 -548.725 Q234.093 -553.331 234.093 -562.058 Q234.093 -570.808 237.149 -575.392 Q240.227 -579.998 246.037 -579.998 Z\" fill=\"#000000\" fill-rule=\"evenodd\" fill-opacity=\"1\" /><path clip-path=\"url(#clip800)\" d=\"M257.982 -585.897 L282.093 -585.897 L282.093 -582.699 L257.982 -582.699 L257.982 -585.897 Z\" fill=\"#000000\" fill-rule=\"evenodd\" fill-opacity=\"1\" /><path clip-path=\"url(#clip800)\" d=\"M290.952 -575.421 L297.158 -575.421 L297.158 -596.843 L290.406 -595.489 L290.406 -598.949 L297.121 -600.303 L300.92 -600.303 L300.92 -575.421 L307.126 -575.421 L307.126 -572.223 L290.952 -572.223 L290.952 -575.421 Z\" fill=\"#000000\" fill-rule=\"evenodd\" fill-opacity=\"1\" /><path clip-path=\"url(#clip800)\" d=\"M323.395 -587.777 Q320.837 -587.777 319.333 -586.028 Q317.847 -584.279 317.847 -581.232 Q317.847 -578.204 319.333 -576.436 Q320.837 -574.687 323.395 -574.687 Q325.953 -574.687 327.439 -576.436 Q328.943 -578.204 328.943 -581.232 Q328.943 -584.279 327.439 -586.028 Q325.953 -587.777 323.395 -587.777 M330.937 -599.683 L330.937 -596.222 Q329.508 -596.899 328.041 -597.257 Q326.593 -597.614 325.163 -597.614 Q321.402 -597.614 319.408 -595.075 Q317.433 -592.536 317.151 -587.401 Q318.261 -589.038 319.935 -589.903 Q321.608 -590.787 323.621 -590.787 Q327.853 -590.787 330.298 -588.21 Q332.761 -585.652 332.761 -581.232 Q332.761 -576.907 330.204 -574.292 Q327.646 -571.678 323.395 -571.678 Q318.524 -571.678 315.947 -575.402 Q313.371 -579.145 313.371 -586.235 Q313.371 -592.893 316.53 -596.843 Q319.69 -600.811 325.013 -600.811 Q326.442 -600.811 327.89 -600.529 Q329.357 -600.247 330.937 -599.683 Z\" fill=\"#000000\" fill-rule=\"evenodd\" fill-opacity=\"1\" /><polyline clip-path=\"url(#clip802)\" style=\"stroke:#009af9; stroke-linecap:butt; stroke-linejoin:round; stroke-width:16; stroke-opacity:1; fill:none\" points=\"\n",
       "  368.761,1252.62 373.605,1252.62 378.449,1252.62 383.293,1252.62 388.137,1252.62 432.925,1252.62 477.713,1252.62 488.91,1252.62 500.107,1252.62 511.304,1252.62 \n",
       "  522.501,1252.62 525.301,1252.62 528.1,1252.62 529.5,1252.62 530.899,1252.62 532.299,1252.62 533.699,1252.62 535.098,1006.66 536.498,1006.66 537.897,1006.66 \n",
       "  539.297,1006.66 542.096,1006.66 544.896,1006.66 550.494,1006.66 556.093,1006.66 561.691,1006.66 567.29,1006.66 580.748,1006.66 594.206,1006.66 607.663,1006.66 \n",
       "  621.121,1006.66 648.037,1006.66 674.953,1006.66 720.467,1006.66 765.981,1006.66 864.863,1006.66 956.024,1006.66 980.457,1006.66 1004.89,1006.66 1029.32,1006.66 \n",
       "  1053.76,1006.66 1060.83,1006.66 1067.91,1006.66 1071.45,1006.66 1074.99,1006.66 1076.76,1006.66 1078.53,1006.66 1080.3,1006.66 1082.07,1006.66 1082.95,1006.66 \n",
       "  1083.84,1006.66 1084.72,1006.66 1085.6,760.704 1086.49,760.704 1087.37,760.704 1088.26,760.704 1089.14,760.704 1092.68,760.704 1096.22,760.704 1103.3,760.704 \n",
       "  1110.37,760.704 1124.53,760.704 1138.68,760.704 1152.84,760.704 1166.99,760.704 1217.31,760.704 1267.62,760.704 1311.74,760.704 1355.86,760.704 1452.07,760.704 \n",
       "  1548.85,760.704 1655.85,760.704 1757.66,760.704 1810.59,760.704 1863.52,760.704 1874.66,760.704 1885.8,760.704 1891.37,760.704 1896.94,760.704 1899.72,760.704 \n",
       "  1902.51,760.704 1905.29,760.704 1908.08,760.704 1908.77,760.704 1909.47,760.704 1910.17,760.704 1910.86,760.704 1911.56,268.785 1912.26,268.785 1912.95,268.785 \n",
       "  1913.65,268.785 1915.04,268.785 1916.43,268.785 1917.82,268.785 1919.22,268.785 1924.79,268.785 1930.36,268.785 1941.49,268.785 1952.63,268.785 1979.83,268.785 \n",
       "  2007.03,268.785 2034.23,268.785 2061.43,268.785 2112.56,268.785 2163.7,268.785 2245.62,268.785 2327.54,268.785 2340.15,268.785 2352.76,268.785 \n",
       "  \"/>\n",
       "<polyline clip-path=\"url(#clip802)\" style=\"stroke:#e26f46; stroke-linecap:butt; stroke-linejoin:round; stroke-width:16; stroke-opacity:1; fill:none\" points=\"\n",
       "  368.761,1203.79 388.137,1195.13 567.29,1115.11 674.953,1067.02 765.981,1026.37 864.863,982.199 956.024,941.482 1053.76,897.828 1166.99,847.252 1267.62,802.305 \n",
       "  1355.86,762.891 1452.07,719.919 1548.85,676.692 1655.85,628.899 1757.66,583.424 1863.52,536.142 1952.63,496.34 2061.43,447.746 2163.7,402.067 2327.54,328.885 \n",
       "  2352.76,317.623 \n",
       "  \"/>\n",
       "<path clip-path=\"url(#clip800)\" d=\"\n",
       "M2013.75 250.328 L2286.62 250.328 L2286.62 94.8081 L2013.75 94.8081  Z\n",
       "  \" fill=\"#ffffff\" fill-rule=\"evenodd\" fill-opacity=\"1\"/>\n",
       "<polyline clip-path=\"url(#clip800)\" style=\"stroke:#000000; stroke-linecap:butt; stroke-linejoin:round; stroke-width:4; stroke-opacity:1; fill:none\" points=\"\n",
       "  2013.75,250.328 2286.62,250.328 2286.62,94.8081 2013.75,94.8081 2013.75,250.328 \n",
       "  \"/>\n",
       "<polyline clip-path=\"url(#clip800)\" style=\"stroke:#009af9; stroke-linecap:butt; stroke-linejoin:round; stroke-width:4; stroke-opacity:1; fill:none\" points=\"\n",
       "  2035.79,146.648 2168.06,146.648 \n",
       "  \"/>\n",
       "<path clip-path=\"url(#clip800)\" d=\"M2203.95 166.336 Q2202.14 170.965 2200.43 172.377 Q2198.71 173.789 2195.84 173.789 L2192.44 173.789 L2192.44 170.224 L2194.94 170.224 Q2196.7 170.224 2197.67 169.391 Q2198.65 168.558 2199.83 165.456 L2200.59 163.511 L2190.1 138.002 L2194.62 138.002 L2202.72 158.28 L2210.82 138.002 L2215.34 138.002 L2203.95 166.336 Z\" fill=\"#000000\" fill-rule=\"evenodd\" fill-opacity=\"1\" /><path clip-path=\"url(#clip800)\" d=\"M2222.63 159.993 L2230.27 159.993 L2230.27 133.627 L2221.96 135.294 L2221.96 131.035 L2230.22 129.368 L2234.9 129.368 L2234.9 159.993 L2242.53 159.993 L2242.53 163.928 L2222.63 163.928 L2222.63 159.993 Z\" fill=\"#000000\" fill-rule=\"evenodd\" fill-opacity=\"1\" /><polyline clip-path=\"url(#clip800)\" style=\"stroke:#e26f46; stroke-linecap:butt; stroke-linejoin:round; stroke-width:4; stroke-opacity:1; fill:none\" points=\"\n",
       "  2035.79,198.488 2168.06,198.488 \n",
       "  \"/>\n",
       "<path clip-path=\"url(#clip800)\" d=\"M2203.95 218.176 Q2202.14 222.805 2200.43 224.217 Q2198.71 225.629 2195.84 225.629 L2192.44 225.629 L2192.44 222.064 L2194.94 222.064 Q2196.7 222.064 2197.67 221.231 Q2198.65 220.398 2199.83 217.296 L2200.59 215.351 L2190.1 189.842 L2194.62 189.842 L2202.72 210.12 L2210.82 189.842 L2215.34 189.842 L2203.95 218.176 Z\" fill=\"#000000\" fill-rule=\"evenodd\" fill-opacity=\"1\" /><path clip-path=\"url(#clip800)\" d=\"M2225.84 211.833 L2242.16 211.833 L2242.16 215.768 L2220.22 215.768 L2220.22 211.833 Q2222.88 209.078 2227.46 204.449 Q2232.07 199.796 2233.25 198.453 Q2235.5 195.93 2236.38 194.194 Q2237.28 192.435 2237.28 190.745 Q2237.28 187.99 2235.33 186.254 Q2233.41 184.518 2230.31 184.518 Q2228.11 184.518 2225.66 185.282 Q2223.23 186.046 2220.45 187.597 L2220.45 182.875 Q2223.27 181.741 2225.73 181.162 Q2228.18 180.583 2230.22 180.583 Q2235.59 180.583 2238.78 183.268 Q2241.98 185.953 2241.98 190.444 Q2241.98 192.574 2241.17 194.495 Q2240.38 196.393 2238.27 198.986 Q2237.7 199.657 2234.59 202.875 Q2231.49 206.069 2225.84 211.833 Z\" fill=\"#000000\" fill-rule=\"evenodd\" fill-opacity=\"1\" /></svg>\n"
      ]
     },
     "execution_count": 82,
     "metadata": {},
     "output_type": "execute_result"
    },
    {
     "name": "stderr",
     "output_type": "stream",
     "text": [
      "┌ Warning: No strict ticks found\n",
      "└ @ PlotUtils /home/jed/.julia/packages/PlotUtils/xekml/src/ticks.jl:333\n",
      "┌ Warning: No strict ticks found\n",
      "└ @ PlotUtils /home/jed/.julia/packages/PlotUtils/xekml/src/ticks.jl:333\n",
      "┌ Warning: No strict ticks found\n",
      "└ @ PlotUtils /home/jed/.julia/packages/PlotUtils/xekml/src/ticks.jl:333\n",
      "┌ Warning: No strict ticks found\n",
      "└ @ PlotUtils /home/jed/.julia/packages/PlotUtils/xekml/src/ticks.jl:333\n"
     ]
    }
   ],
   "source": [
    "using Plots\n",
    "default(linewidth=4)\n",
    "plot(x -> (1 + x) - 1, xlims=(-2e-16, 2e-16))\n",
    "plot!(x -> x)"
   ]
  },
  {
   "cell_type": "markdown",
   "id": "c49bf903",
   "metadata": {
    "hideCode": false,
    "hidePrompt": false,
    "slideshow": {
     "slide_type": "slide"
    }
   },
   "source": [
    "# Machine epsilon\n",
    "\n",
    "We approximate real numbers with **floating point** arithmetic, which can only represent discrete values. In particular, there exists a largest number, which we call $\\epsilon_{\\text{machine}}$, such that\n",
    "$$ 1 \\oplus x = 1 \\quad \\text{for all}\\  \\lvert x \\rvert < \\epsilon_{\\text{machine}}.$$\n",
    "\n",
    "The notation $\\oplus, \\ominus, \\odot, \\oslash$ represent the elementary operation carried out in floating point arithmetic."
   ]
  },
  {
   "cell_type": "code",
   "execution_count": 80,
   "id": "86096208",
   "metadata": {
    "cell_style": "split",
    "hideCode": false,
    "hidePrompt": false,
    "slideshow": {
     "slide_type": "fragment"
    }
   },
   "outputs": [
    {
     "data": {
      "text/plain": [
       "1.1102230246251565e-16"
      ]
     },
     "execution_count": 80,
     "metadata": {},
     "output_type": "execute_result"
    }
   ],
   "source": [
    "eps = 1\n",
    "while 1 + eps != 1\n",
    "    eps = eps / 2\n",
    "end\n",
    "eps"
   ]
  },
  {
   "cell_type": "code",
   "execution_count": 81,
   "id": "0a14ea73",
   "metadata": {
    "cell_style": "split",
    "slideshow": {
     "slide_type": "fragment"
    }
   },
   "outputs": [
    {
     "data": {
      "text/plain": [
       "5.9604645f-8"
      ]
     },
     "execution_count": 81,
     "metadata": {},
     "output_type": "execute_result"
    }
   ],
   "source": [
    "eps = 1.f0\n",
    "while 1 + eps != 1\n",
    "    eps = eps / 2\n",
    "end\n",
    "eps"
   ]
  },
  {
   "cell_type": "markdown",
   "id": "56fade8b",
   "metadata": {
    "hideCode": false,
    "hidePrompt": false,
    "slideshow": {
     "slide_type": "slide"
    }
   },
   "source": [
    "# Beating `exp`\n",
    "\n",
    "$$e^x = 1 + x + \\frac{x^2}{2!} + \\frac{x^3}{3!} + \\dotsb$$\n",
    "\n",
    "Suppose we want to compute $f(x) = e^x - 1$ for small values of $x$."
   ]
  },
  {
   "cell_type": "code",
   "execution_count": 89,
   "id": "282ad48a",
   "metadata": {
    "cell_style": "split",
    "hideCode": false,
    "hidePrompt": false
   },
   "outputs": [
    {
     "data": {
      "text/plain": [
       "9.99999993922529e-9"
      ]
     },
     "execution_count": 89,
     "metadata": {},
     "output_type": "execute_result"
    }
   ],
   "source": [
    "f1(x) = exp(x) - 1\n",
    "y1 = f1(1e-8)"
   ]
  },
  {
   "cell_type": "code",
   "execution_count": 87,
   "id": "eff4a68c",
   "metadata": {
    "cell_style": "split",
    "hideCode": false,
    "hidePrompt": false
   },
   "outputs": [
    {
     "data": {
      "text/plain": [
       "1.000000005e-8"
      ]
     },
     "execution_count": 87,
     "metadata": {},
     "output_type": "execute_result"
    }
   ],
   "source": [
    "f2(x) = x + x^2/2 + x^3/6\n",
    "y2 = f2(1e-8)"
   ]
  },
  {
   "cell_type": "markdown",
   "id": "379682f9",
   "metadata": {
    "hideCode": false,
    "hidePrompt": false
   },
   "source": [
    "Which answer is more accurate?"
   ]
  },
  {
   "cell_type": "code",
   "execution_count": 27,
   "id": "6081053e",
   "metadata": {
    "hideCode": false,
    "hidePrompt": false
   },
   "outputs": [
    {
     "name": "stdout",
     "output_type": "stream",
     "text": [
      "y1 - y2 = -1.1077470910720506e-16\n",
      "(y1 - y2) / y2 = -1.1077470855333152e-8\n"
     ]
    }
   ],
   "source": [
    "@show (y1 - y2)        # Absolute difference\n",
    "@show (y1 - y2) / y2;  # Relative difference"
   ]
  },
  {
   "cell_type": "code",
   "execution_count": 91,
   "id": "72039c6a",
   "metadata": {},
   "outputs": [
    {
     "data": {
      "text/plain": [
       "NaN"
      ]
     },
     "execution_count": 91,
     "metadata": {},
     "output_type": "execute_result"
    }
   ],
   "source": [
    "0 / 0"
   ]
  }
 ],
 "metadata": {
  "celltoolbar": "Slideshow",
  "hide_code_all_hidden": false,
  "kernelspec": {
   "display_name": "Julia 1.7.1",
   "language": "julia",
   "name": "julia-1.7"
  },
  "language_info": {
   "file_extension": ".jl",
   "mimetype": "application/julia",
   "name": "julia",
   "version": "1.7.1"
  },
  "rise": {
   "enable_chalkboard": true
  }
 },
 "nbformat": 4,
 "nbformat_minor": 5
}
