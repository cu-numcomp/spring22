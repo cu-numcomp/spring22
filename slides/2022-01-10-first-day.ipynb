{
 "cells": [
  {
   "cell_type": "markdown",
   "id": "4159be0e",
   "metadata": {
    "slideshow": {
     "slide_type": "slide"
    }
   },
   "source": [
    "# 2022-01-10 First Day\n",
    "## CSCI-3656: Numerical Computation\n",
    "\n",
    "## Instructor: Jed Brown, jed.brown@colorado.edu, ECOT 824\n",
    "## Meeting: Mon, Wed, Fri at 1:25-12:20 in ECEE 283 (and virtually)\n",
    "\n",
    "1. Who am I?\n",
    "2. What is this course about?\n",
    "3. How will it work?\n",
    "4. Discussion\n",
    "5. (maybe) First activity"
   ]
  },
  {
   "cell_type": "markdown",
   "id": "0a453c86",
   "metadata": {
    "slideshow": {
     "slide_type": "slide"
    }
   },
   "source": [
    "# Who am I?\n",
    "\n",
    "* Jed Brown (he/him); you can call me Jed\n",
    "* Math + Physics undergrad, MS Math, Dr.Sc. Environmental Engineering (Computational Glaciology)\n",
    "* Postdoc and staff at Argonne National Laboratory (DOE Office of Science)\n",
    "* CU since 2015\n",
    "\n",
    "## Physical Prediction, Inference, and Design Group\n",
    "* Develop and maintain open source libraries\n",
    "* Research in fast/parallel algorithms, extensible software\n",
    "* Partner with scientists and engineers in many disciplines: geoscience, aerospace, civil engineering, fusion\n",
    "* Listen, learn about computational bottlenecks, build technology and communities"
   ]
  },
  {
   "cell_type": "markdown",
   "id": "39ed2ce7",
   "metadata": {
    "slideshow": {
     "slide_type": "slide"
    }
   },
   "source": [
    "# Prerequisites"
   ]
  },
  {
   "cell_type": "markdown",
   "id": "55403dd0",
   "metadata": {
    "cell_style": "split",
    "slideshow": {
     "slide_type": ""
    }
   },
   "source": [
    "## Calculus\n",
    "\n",
    "* Fundamental Theorem of Calculus\n",
    "* Differentiate and integrate polynomials\n",
    "* Taylor series\n",
    "* Gradients (we'll introduce and discuss)\n",
    "\n",
    "We won't use integral tricks (and any time you spent on that was a waste; sorry)"
   ]
  },
  {
   "cell_type": "markdown",
   "id": "b6f62c3d",
   "metadata": {
    "cell_style": "split"
   },
   "source": [
    "## Linear Algebra\n",
    "\n",
    "* vector spaces, orthogonality\n",
    "* QR factorization\n",
    "* projectors, reflectors, and rotations (will teach)\n",
    "\n",
    "We'll never compute RREF or eigenvalues by hand (and any time you spent on that was a waste; sorry)"
   ]
  },
  {
   "cell_type": "markdown",
   "id": "c36b9e42",
   "metadata": {
    "slideshow": {
     "slide_type": "slide"
    }
   },
   "source": [
    "# What is Numerical Computation?"
   ]
  },
  {
   "cell_type": "markdown",
   "id": "2950b2a2",
   "metadata": {
    "cell_style": "split"
   },
   "source": [
    "From [Trefethen (1992)](https://people.maths.ox.ac.uk/trefethen/publication/PDF/1992_55.pdf)\n",
    "\n",
    "> Here is the wrong answer:\n",
    ">> Numerical analysis is the study of rounding errors."
   ]
  },
  {
   "cell_type": "markdown",
   "id": "2b929de0",
   "metadata": {
    "cell_style": "split",
    "slideshow": {
     "slide_type": "fragment"
    }
   },
   "source": [
    "Trefethen goes on to propose\n",
    ">> Numerical analysis is the study of algorithms for the problems of continuous mathematics."
   ]
  },
  {
   "cell_type": "markdown",
   "id": "c275df7f",
   "metadata": {
    "cell_style": "split",
    "slideshow": {
     "slide_type": "fragment"
    }
   },
   "source": [
    "## Continuous mathematics\n",
    "\n",
    "* real and complex numbers $a \\in \\mathbb R$\n",
    "* vectors $\\mathbf x \\in \\mathbb R^n$\n",
    "* matrices $A \\in \\mathbb R^{m\\times n}$\n",
    "* functions $f: \\mathbb R \\to \\mathbb R$\n",
    "* higher order functions: $g(f)$"
   ]
  },
  {
   "cell_type": "markdown",
   "id": "5fde36ac",
   "metadata": {
    "cell_style": "split"
   },
   "source": [
    "## Finite vs Infinite algorithms\n",
    "\n",
    "* Compute the matrix product $A B$\n",
    "* Solve $A x = b$ for $x$\n",
    "* Compute the eigenvalues $\\lambda$ of $A \\in \\mathbb R^{10\\times 10}$\n",
    "* Compute $\\int_a^b f(x)$"
   ]
  },
  {
   "cell_type": "markdown",
   "id": "f2c670fc",
   "metadata": {
    "cell_style": "split",
    "slideshow": {
     "slide_type": "slide"
    }
   },
   "source": [
    "# Rootfinding\n",
    "\n",
    "Given $f(x)$, find $x$ such that $f(x) = 0$.\n",
    "\n",
    "* Cost\n",
    "  * Evaluation of $f(x)$ and perhaps derivatives $f'(x)$.\n",
    "  * Other arithmetic\n",
    "* Convergence: how many evaluations to reach a given accuracy?\n",
    "* Robustness: does the algorithm always converge?"
   ]
  },
  {
   "cell_type": "code",
   "execution_count": 11,
   "id": "0360bd37",
   "metadata": {
    "cell_style": "split",
    "slideshow": {
     "slide_type": "fragment"
    }
   },
   "outputs": [
    {
     "data": {
      "image/svg+xml": [
       "<?xml version=\"1.0\" encoding=\"utf-8\"?>\n",
       "<svg xmlns=\"http://www.w3.org/2000/svg\" xmlns:xlink=\"http://www.w3.org/1999/xlink\" width=\"600\" height=\"400\" viewBox=\"0 0 2400 1600\">\n",
       "<defs>\n",
       "  <clipPath id=\"clip960\">\n",
       "    <rect x=\"0\" y=\"0\" width=\"2400\" height=\"1600\"/>\n",
       "  </clipPath>\n",
       "</defs>\n",
       "<path clip-path=\"url(#clip960)\" d=\"\n",
       "M0 1600 L2400 1600 L2400 0 L0 0  Z\n",
       "  \" fill=\"#ffffff\" fill-rule=\"evenodd\" fill-opacity=\"1\"/>\n",
       "<defs>\n",
       "  <clipPath id=\"clip961\">\n",
       "    <rect x=\"480\" y=\"0\" width=\"1681\" height=\"1600\"/>\n",
       "  </clipPath>\n",
       "</defs>\n",
       "<path clip-path=\"url(#clip960)\" d=\"\n",
       "M193.936 1486.45 L2352.76 1486.45 L2352.76 47.2441 L193.936 47.2441  Z\n",
       "  \" fill=\"#ffffff\" fill-rule=\"evenodd\" fill-opacity=\"1\"/>\n",
       "<defs>\n",
       "  <clipPath id=\"clip962\">\n",
       "    <rect x=\"193\" y=\"47\" width=\"2160\" height=\"1440\"/>\n",
       "  </clipPath>\n",
       "</defs>\n",
       "<polyline clip-path=\"url(#clip962)\" style=\"stroke:#000000; stroke-linecap:butt; stroke-linejoin:round; stroke-width:2; stroke-opacity:0.1; fill:none\" points=\"\n",
       "  458.697,1486.45 458.697,47.2441 \n",
       "  \"/>\n",
       "<polyline clip-path=\"url(#clip962)\" style=\"stroke:#000000; stroke-linecap:butt; stroke-linejoin:round; stroke-width:2; stroke-opacity:0.1; fill:none\" points=\"\n",
       "  866.021,1486.45 866.021,47.2441 \n",
       "  \"/>\n",
       "<polyline clip-path=\"url(#clip962)\" style=\"stroke:#000000; stroke-linecap:butt; stroke-linejoin:round; stroke-width:2; stroke-opacity:0.1; fill:none\" points=\"\n",
       "  1273.35,1486.45 1273.35,47.2441 \n",
       "  \"/>\n",
       "<polyline clip-path=\"url(#clip962)\" style=\"stroke:#000000; stroke-linecap:butt; stroke-linejoin:round; stroke-width:2; stroke-opacity:0.1; fill:none\" points=\"\n",
       "  1680.67,1486.45 1680.67,47.2441 \n",
       "  \"/>\n",
       "<polyline clip-path=\"url(#clip962)\" style=\"stroke:#000000; stroke-linecap:butt; stroke-linejoin:round; stroke-width:2; stroke-opacity:0.1; fill:none\" points=\"\n",
       "  2087.99,1486.45 2087.99,47.2441 \n",
       "  \"/>\n",
       "<polyline clip-path=\"url(#clip960)\" style=\"stroke:#000000; stroke-linecap:butt; stroke-linejoin:round; stroke-width:4; stroke-opacity:1; fill:none\" points=\"\n",
       "  193.936,1486.45 2352.76,1486.45 \n",
       "  \"/>\n",
       "<polyline clip-path=\"url(#clip960)\" style=\"stroke:#000000; stroke-linecap:butt; stroke-linejoin:round; stroke-width:4; stroke-opacity:1; fill:none\" points=\"\n",
       "  458.697,1486.45 458.697,1467.55 \n",
       "  \"/>\n",
       "<polyline clip-path=\"url(#clip960)\" style=\"stroke:#000000; stroke-linecap:butt; stroke-linejoin:round; stroke-width:4; stroke-opacity:1; fill:none\" points=\"\n",
       "  866.021,1486.45 866.021,1467.55 \n",
       "  \"/>\n",
       "<polyline clip-path=\"url(#clip960)\" style=\"stroke:#000000; stroke-linecap:butt; stroke-linejoin:round; stroke-width:4; stroke-opacity:1; fill:none\" points=\"\n",
       "  1273.35,1486.45 1273.35,1467.55 \n",
       "  \"/>\n",
       "<polyline clip-path=\"url(#clip960)\" style=\"stroke:#000000; stroke-linecap:butt; stroke-linejoin:round; stroke-width:4; stroke-opacity:1; fill:none\" points=\"\n",
       "  1680.67,1486.45 1680.67,1467.55 \n",
       "  \"/>\n",
       "<polyline clip-path=\"url(#clip960)\" style=\"stroke:#000000; stroke-linecap:butt; stroke-linejoin:round; stroke-width:4; stroke-opacity:1; fill:none\" points=\"\n",
       "  2087.99,1486.45 2087.99,1467.55 \n",
       "  \"/>\n",
       "<path clip-path=\"url(#clip960)\" d=\"M428.639 1532.02 L458.315 1532.02 L458.315 1535.95 L428.639 1535.95 L428.639 1532.02 Z\" fill=\"#000000\" fill-rule=\"evenodd\" fill-opacity=\"1\" /><path clip-path=\"url(#clip960)\" d=\"M472.435 1544.91 L488.755 1544.91 L488.755 1548.85 L466.81 1548.85 L466.81 1544.91 Q469.472 1542.16 474.056 1537.53 Q478.662 1532.88 479.843 1531.53 Q482.088 1529.01 482.968 1527.27 Q483.87 1525.51 483.87 1523.82 Q483.87 1521.07 481.926 1519.33 Q480.005 1517.6 476.903 1517.6 Q474.704 1517.6 472.25 1518.36 Q469.82 1519.13 467.042 1520.68 L467.042 1515.95 Q469.866 1514.82 472.32 1514.24 Q474.773 1513.66 476.81 1513.66 Q482.181 1513.66 485.375 1516.35 Q488.569 1519.03 488.569 1523.52 Q488.569 1525.65 487.759 1527.57 Q486.972 1529.47 484.866 1532.07 Q484.287 1532.74 481.185 1535.95 Q478.083 1539.15 472.435 1544.91 Z\" fill=\"#000000\" fill-rule=\"evenodd\" fill-opacity=\"1\" /><path clip-path=\"url(#clip960)\" d=\"M835.779 1532.02 L865.454 1532.02 L865.454 1535.95 L835.779 1535.95 L835.779 1532.02 Z\" fill=\"#000000\" fill-rule=\"evenodd\" fill-opacity=\"1\" /><path clip-path=\"url(#clip960)\" d=\"M876.357 1544.91 L883.996 1544.91 L883.996 1518.55 L875.686 1520.21 L875.686 1515.95 L883.95 1514.29 L888.625 1514.29 L888.625 1544.91 L896.264 1544.91 L896.264 1548.85 L876.357 1548.85 L876.357 1544.91 Z\" fill=\"#000000\" fill-rule=\"evenodd\" fill-opacity=\"1\" /><path clip-path=\"url(#clip960)\" d=\"M1273.35 1517.37 Q1269.73 1517.37 1267.91 1520.93 Q1266.1 1524.47 1266.1 1531.6 Q1266.1 1538.71 1267.91 1542.27 Q1269.73 1545.82 1273.35 1545.82 Q1276.98 1545.82 1278.79 1542.27 Q1280.61 1538.71 1280.61 1531.6 Q1280.61 1524.47 1278.79 1520.93 Q1276.98 1517.37 1273.35 1517.37 M1273.35 1513.66 Q1279.16 1513.66 1282.21 1518.27 Q1285.29 1522.85 1285.29 1531.6 Q1285.29 1540.33 1282.21 1544.94 Q1279.16 1549.52 1273.35 1549.52 Q1267.54 1549.52 1264.46 1544.94 Q1261.4 1540.33 1261.4 1531.6 Q1261.4 1522.85 1264.46 1518.27 Q1267.54 1513.66 1273.35 1513.66 Z\" fill=\"#000000\" fill-rule=\"evenodd\" fill-opacity=\"1\" /><path clip-path=\"url(#clip960)\" d=\"M1671.05 1544.91 L1678.69 1544.91 L1678.69 1518.55 L1670.38 1520.21 L1670.38 1515.95 L1678.65 1514.29 L1683.32 1514.29 L1683.32 1544.91 L1690.96 1544.91 L1690.96 1548.85 L1671.05 1548.85 L1671.05 1544.91 Z\" fill=\"#000000\" fill-rule=\"evenodd\" fill-opacity=\"1\" /><path clip-path=\"url(#clip960)\" d=\"M2082.65 1544.91 L2098.97 1544.91 L2098.97 1548.85 L2077.02 1548.85 L2077.02 1544.91 Q2079.68 1542.16 2084.27 1537.53 Q2088.87 1532.88 2090.06 1531.53 Q2092.3 1529.01 2093.18 1527.27 Q2094.08 1525.51 2094.08 1523.82 Q2094.08 1521.07 2092.14 1519.33 Q2090.22 1517.6 2087.12 1517.6 Q2084.92 1517.6 2082.46 1518.36 Q2080.03 1519.13 2077.25 1520.68 L2077.25 1515.95 Q2080.08 1514.82 2082.53 1514.24 Q2084.99 1513.66 2087.02 1513.66 Q2092.39 1513.66 2095.59 1516.35 Q2098.78 1519.03 2098.78 1523.52 Q2098.78 1525.65 2097.97 1527.57 Q2097.18 1529.47 2095.08 1532.07 Q2094.5 1532.74 2091.4 1535.95 Q2088.3 1539.15 2082.65 1544.91 Z\" fill=\"#000000\" fill-rule=\"evenodd\" fill-opacity=\"1\" /><polyline clip-path=\"url(#clip962)\" style=\"stroke:#000000; stroke-linecap:butt; stroke-linejoin:round; stroke-width:2; stroke-opacity:0.1; fill:none\" points=\"\n",
       "  193.936,1294.44 2352.76,1294.44 \n",
       "  \"/>\n",
       "<polyline clip-path=\"url(#clip962)\" style=\"stroke:#000000; stroke-linecap:butt; stroke-linejoin:round; stroke-width:2; stroke-opacity:0.1; fill:none\" points=\"\n",
       "  193.936,994.273 2352.76,994.273 \n",
       "  \"/>\n",
       "<polyline clip-path=\"url(#clip962)\" style=\"stroke:#000000; stroke-linecap:butt; stroke-linejoin:round; stroke-width:2; stroke-opacity:0.1; fill:none\" points=\"\n",
       "  193.936,694.105 2352.76,694.105 \n",
       "  \"/>\n",
       "<polyline clip-path=\"url(#clip962)\" style=\"stroke:#000000; stroke-linecap:butt; stroke-linejoin:round; stroke-width:2; stroke-opacity:0.1; fill:none\" points=\"\n",
       "  193.936,393.938 2352.76,393.938 \n",
       "  \"/>\n",
       "<polyline clip-path=\"url(#clip962)\" style=\"stroke:#000000; stroke-linecap:butt; stroke-linejoin:round; stroke-width:2; stroke-opacity:0.1; fill:none\" points=\"\n",
       "  193.936,93.7706 2352.76,93.7706 \n",
       "  \"/>\n",
       "<polyline clip-path=\"url(#clip960)\" style=\"stroke:#000000; stroke-linecap:butt; stroke-linejoin:round; stroke-width:4; stroke-opacity:1; fill:none\" points=\"\n",
       "  193.936,1486.45 193.936,47.2441 \n",
       "  \"/>\n",
       "<polyline clip-path=\"url(#clip960)\" style=\"stroke:#000000; stroke-linecap:butt; stroke-linejoin:round; stroke-width:4; stroke-opacity:1; fill:none\" points=\"\n",
       "  193.936,1294.44 212.834,1294.44 \n",
       "  \"/>\n",
       "<polyline clip-path=\"url(#clip960)\" style=\"stroke:#000000; stroke-linecap:butt; stroke-linejoin:round; stroke-width:4; stroke-opacity:1; fill:none\" points=\"\n",
       "  193.936,994.273 212.834,994.273 \n",
       "  \"/>\n",
       "<polyline clip-path=\"url(#clip960)\" style=\"stroke:#000000; stroke-linecap:butt; stroke-linejoin:round; stroke-width:4; stroke-opacity:1; fill:none\" points=\"\n",
       "  193.936,694.105 212.834,694.105 \n",
       "  \"/>\n",
       "<polyline clip-path=\"url(#clip960)\" style=\"stroke:#000000; stroke-linecap:butt; stroke-linejoin:round; stroke-width:4; stroke-opacity:1; fill:none\" points=\"\n",
       "  193.936,393.938 212.834,393.938 \n",
       "  \"/>\n",
       "<polyline clip-path=\"url(#clip960)\" style=\"stroke:#000000; stroke-linecap:butt; stroke-linejoin:round; stroke-width:4; stroke-opacity:1; fill:none\" points=\"\n",
       "  193.936,93.7706 212.834,93.7706 \n",
       "  \"/>\n",
       "<path clip-path=\"url(#clip960)\" d=\"M51.9875 1294.89 L81.6633 1294.89 L81.6633 1298.83 L51.9875 1298.83 L51.9875 1294.89 Z\" fill=\"#000000\" fill-rule=\"evenodd\" fill-opacity=\"1\" /><path clip-path=\"url(#clip960)\" d=\"M90.5752 1277.16 L112.797 1277.16 L112.797 1279.15 L100.251 1311.72 L95.3669 1311.72 L107.172 1281.1 L90.5752 1281.1 L90.5752 1277.16 Z\" fill=\"#000000\" fill-rule=\"evenodd\" fill-opacity=\"1\" /><path clip-path=\"url(#clip960)\" d=\"M121.918 1305.84 L126.802 1305.84 L126.802 1311.72 L121.918 1311.72 L121.918 1305.84 Z\" fill=\"#000000\" fill-rule=\"evenodd\" fill-opacity=\"1\" /><path clip-path=\"url(#clip960)\" d=\"M137.033 1277.16 L155.39 1277.16 L155.39 1281.1 L141.316 1281.1 L141.316 1289.57 Q142.334 1289.22 143.353 1289.06 Q144.371 1288.87 145.39 1288.87 Q151.177 1288.87 154.556 1292.04 Q157.936 1295.22 157.936 1300.63 Q157.936 1306.21 154.464 1309.31 Q150.992 1312.39 144.672 1312.39 Q142.496 1312.39 140.228 1312.02 Q137.982 1311.65 135.575 1310.91 L135.575 1306.21 Q137.658 1307.35 139.881 1307.9 Q142.103 1308.46 144.58 1308.46 Q148.584 1308.46 150.922 1306.35 Q153.26 1304.24 153.26 1300.63 Q153.26 1297.02 150.922 1294.91 Q148.584 1292.81 144.58 1292.81 Q142.705 1292.81 140.83 1293.22 Q138.978 1293.64 137.033 1294.52 L137.033 1277.16 Z\" fill=\"#000000\" fill-rule=\"evenodd\" fill-opacity=\"1\" /><path clip-path=\"url(#clip960)\" d=\"M50.9921 994.724 L80.6679 994.724 L80.6679 998.659 L50.9921 998.659 L50.9921 994.724 Z\" fill=\"#000000\" fill-rule=\"evenodd\" fill-opacity=\"1\" /><path clip-path=\"url(#clip960)\" d=\"M90.8067 976.993 L109.163 976.993 L109.163 980.928 L95.0891 980.928 L95.0891 989.4 Q96.1076 989.053 97.1261 988.891 Q98.1447 988.706 99.1632 988.706 Q104.95 988.706 108.33 991.877 Q111.709 995.048 111.709 1000.46 Q111.709 1006.04 108.237 1009.15 Q104.765 1012.22 98.4456 1012.22 Q96.2697 1012.22 94.0012 1011.85 Q91.7558 1011.48 89.3484 1010.74 L89.3484 1006.04 Q91.4317 1007.18 93.6539 1007.73 Q95.8761 1008.29 98.353 1008.29 Q102.358 1008.29 104.696 1006.18 Q107.033 1004.08 107.033 1000.46 Q107.033 996.854 104.696 994.747 Q102.358 992.641 98.353 992.641 Q96.478 992.641 94.603 993.057 Q92.7512 993.474 90.8067 994.354 L90.8067 976.993 Z\" fill=\"#000000\" fill-rule=\"evenodd\" fill-opacity=\"1\" /><path clip-path=\"url(#clip960)\" d=\"M120.922 1005.67 L125.807 1005.67 L125.807 1011.55 L120.922 1011.55 L120.922 1005.67 Z\" fill=\"#000000\" fill-rule=\"evenodd\" fill-opacity=\"1\" /><path clip-path=\"url(#clip960)\" d=\"M145.992 980.071 Q142.381 980.071 140.552 983.636 Q138.746 987.178 138.746 994.307 Q138.746 1001.41 140.552 1004.98 Q142.381 1008.52 145.992 1008.52 Q149.626 1008.52 151.431 1004.98 Q153.26 1001.41 153.26 994.307 Q153.26 987.178 151.431 983.636 Q149.626 980.071 145.992 980.071 M145.992 976.368 Q151.802 976.368 154.857 980.974 Q157.936 985.557 157.936 994.307 Q157.936 1003.03 154.857 1007.64 Q151.802 1012.22 145.992 1012.22 Q140.181 1012.22 137.103 1007.64 Q134.047 1003.03 134.047 994.307 Q134.047 985.557 137.103 980.974 Q140.181 976.368 145.992 976.368 Z\" fill=\"#000000\" fill-rule=\"evenodd\" fill-opacity=\"1\" /><path clip-path=\"url(#clip960)\" d=\"M51.9875 694.557 L81.6633 694.557 L81.6633 698.492 L51.9875 698.492 L51.9875 694.557 Z\" fill=\"#000000\" fill-rule=\"evenodd\" fill-opacity=\"1\" /><path clip-path=\"url(#clip960)\" d=\"M95.7836 707.45 L112.103 707.45 L112.103 711.385 L90.1586 711.385 L90.1586 707.45 Q92.8206 704.696 97.4039 700.066 Q102.01 695.413 103.191 694.071 Q105.436 691.547 106.316 689.811 Q107.219 688.052 107.219 686.362 Q107.219 683.608 105.274 681.872 Q103.353 680.136 100.251 680.136 Q98.0521 680.136 95.5984 680.899 Q93.1678 681.663 90.3901 683.214 L90.3901 678.492 Q93.2141 677.358 95.6678 676.779 Q98.1215 676.2 100.159 676.2 Q105.529 676.2 108.723 678.886 Q111.918 681.571 111.918 686.061 Q111.918 688.191 111.108 690.112 Q110.321 692.01 108.214 694.603 Q107.635 695.274 104.534 698.492 Q101.432 701.686 95.7836 707.45 Z\" fill=\"#000000\" fill-rule=\"evenodd\" fill-opacity=\"1\" /><path clip-path=\"url(#clip960)\" d=\"M121.918 705.506 L126.802 705.506 L126.802 711.385 L121.918 711.385 L121.918 705.506 Z\" fill=\"#000000\" fill-rule=\"evenodd\" fill-opacity=\"1\" /><path clip-path=\"url(#clip960)\" d=\"M137.033 676.825 L155.39 676.825 L155.39 680.761 L141.316 680.761 L141.316 689.233 Q142.334 688.885 143.353 688.723 Q144.371 688.538 145.39 688.538 Q151.177 688.538 154.556 691.71 Q157.936 694.881 157.936 700.297 Q157.936 705.876 154.464 708.978 Q150.992 712.057 144.672 712.057 Q142.496 712.057 140.228 711.686 Q137.982 711.316 135.575 710.575 L135.575 705.876 Q137.658 707.01 139.881 707.566 Q142.103 708.121 144.58 708.121 Q148.584 708.121 150.922 706.015 Q153.26 703.909 153.26 700.297 Q153.26 696.686 150.922 694.58 Q148.584 692.473 144.58 692.473 Q142.705 692.473 140.83 692.89 Q138.978 693.307 137.033 694.186 L137.033 676.825 Z\" fill=\"#000000\" fill-rule=\"evenodd\" fill-opacity=\"1\" /><path clip-path=\"url(#clip960)\" d=\"M100.76 379.737 Q97.1493 379.737 95.3206 383.301 Q93.515 386.843 93.515 393.973 Q93.515 401.079 95.3206 404.644 Q97.1493 408.186 100.76 408.186 Q104.395 408.186 106.2 404.644 Q108.029 401.079 108.029 393.973 Q108.029 386.843 106.2 383.301 Q104.395 379.737 100.76 379.737 M100.76 376.033 Q106.571 376.033 109.626 380.639 Q112.705 385.223 112.705 393.973 Q112.705 402.7 109.626 407.306 Q106.571 411.889 100.76 411.889 Q94.9502 411.889 91.8715 407.306 Q88.816 402.7 88.816 393.973 Q88.816 385.223 91.8715 380.639 Q94.9502 376.033 100.76 376.033 Z\" fill=\"#000000\" fill-rule=\"evenodd\" fill-opacity=\"1\" /><path clip-path=\"url(#clip960)\" d=\"M120.922 405.338 L125.807 405.338 L125.807 411.218 L120.922 411.218 L120.922 405.338 Z\" fill=\"#000000\" fill-rule=\"evenodd\" fill-opacity=\"1\" /><path clip-path=\"url(#clip960)\" d=\"M145.992 379.737 Q142.381 379.737 140.552 383.301 Q138.746 386.843 138.746 393.973 Q138.746 401.079 140.552 404.644 Q142.381 408.186 145.992 408.186 Q149.626 408.186 151.431 404.644 Q153.26 401.079 153.26 393.973 Q153.26 386.843 151.431 383.301 Q149.626 379.737 145.992 379.737 M145.992 376.033 Q151.802 376.033 154.857 380.639 Q157.936 385.223 157.936 393.973 Q157.936 402.7 154.857 407.306 Q151.802 411.889 145.992 411.889 Q140.181 411.889 137.103 407.306 Q134.047 402.7 134.047 393.973 Q134.047 385.223 137.103 380.639 Q140.181 376.033 145.992 376.033 Z\" fill=\"#000000\" fill-rule=\"evenodd\" fill-opacity=\"1\" /><path clip-path=\"url(#clip960)\" d=\"M95.7836 107.115 L112.103 107.115 L112.103 111.051 L90.1586 111.051 L90.1586 107.115 Q92.8206 104.361 97.4039 99.7312 Q102.01 95.0785 103.191 93.7359 Q105.436 91.2128 106.316 89.4767 Q107.219 87.7174 107.219 86.0276 Q107.219 83.273 105.274 81.5369 Q103.353 79.8008 100.251 79.8008 Q98.0521 79.8008 95.5984 80.5647 Q93.1678 81.3286 90.3901 82.8795 L90.3901 78.1573 Q93.2141 77.023 95.6678 76.4443 Q98.1215 75.8656 100.159 75.8656 Q105.529 75.8656 108.723 78.5508 Q111.918 81.236 111.918 85.7267 Q111.918 87.8563 111.108 89.7776 Q110.321 91.6757 108.214 94.2683 Q107.635 94.9396 104.534 98.1572 Q101.432 101.352 95.7836 107.115 Z\" fill=\"#000000\" fill-rule=\"evenodd\" fill-opacity=\"1\" /><path clip-path=\"url(#clip960)\" d=\"M121.918 105.171 L126.802 105.171 L126.802 111.051 L121.918 111.051 L121.918 105.171 Z\" fill=\"#000000\" fill-rule=\"evenodd\" fill-opacity=\"1\" /><path clip-path=\"url(#clip960)\" d=\"M137.033 76.4906 L155.39 76.4906 L155.39 80.4258 L141.316 80.4258 L141.316 88.898 Q142.334 88.5508 143.353 88.3887 Q144.371 88.2035 145.39 88.2035 Q151.177 88.2035 154.556 91.3748 Q157.936 94.5461 157.936 99.9627 Q157.936 105.541 154.464 108.643 Q150.992 111.722 144.672 111.722 Q142.496 111.722 140.228 111.352 Q137.982 110.981 135.575 110.24 L135.575 105.541 Q137.658 106.676 139.881 107.231 Q142.103 107.787 144.58 107.787 Q148.584 107.787 150.922 105.68 Q153.26 103.574 153.26 99.9627 Q153.26 96.3516 150.922 94.2452 Q148.584 92.1387 144.58 92.1387 Q142.705 92.1387 140.83 92.5554 Q138.978 92.972 137.033 93.8516 L137.033 76.4906 Z\" fill=\"#000000\" fill-rule=\"evenodd\" fill-opacity=\"1\" /><polyline clip-path=\"url(#clip962)\" style=\"stroke:#009af9; stroke-linecap:butt; stroke-linejoin:round; stroke-width:12; stroke-opacity:1; fill:none\" points=\"\n",
       "  255.035,281.767 274.924,281.85 458.829,280.631 569.348,277.216 662.791,271.946 764.296,263.013 857.875,251.212 958.201,234.251 1074.44,208.803 1177.74,181.527 \n",
       "  1268.32,155.285 1367.08,126.72 1466.43,102.257 1521.35,92.8119 1576.27,87.9763 1628.52,89.1394 1680.78,97.5557 1735.11,115.942 1789.45,146.371 1835.18,183.114 \n",
       "  1880.92,231.668 1908.84,267.798 1936.76,309.298 1964.68,356.539 1992.6,409.889 2018.85,465.933 2045.09,527.984 2071.34,596.32 2097.58,671.199 2139.63,805.381 \n",
       "  2181.68,957.774 2223.73,1128.95 2265.77,1319.18 2272.24,1350.14 2278.72,1381.56 2285.19,1413.41 2291.66,1445.72 \n",
       "  \"/>\n",
       "<polyline clip-path=\"url(#clip962)\" style=\"stroke:#e26f46; stroke-linecap:butt; stroke-linejoin:round; stroke-width:12; stroke-opacity:1; fill:none\" points=\"\n",
       "  255.035,393.938 274.924,393.938 458.829,393.938 569.348,393.938 662.791,393.938 764.296,393.938 857.875,393.938 958.201,393.938 1074.44,393.938 1177.74,393.938 \n",
       "  1268.32,393.938 1367.08,393.938 1466.43,393.938 1576.27,393.938 1680.78,393.938 1789.45,393.938 1880.92,393.938 1992.6,393.938 2097.58,393.938 2265.77,393.938 \n",
       "  2291.66,393.938 \n",
       "  \"/>\n",
       "<path clip-path=\"url(#clip960)\" d=\"\n",
       "M1988.5 250.738 L2280.8 250.738 L2280.8 95.2176 L1988.5 95.2176  Z\n",
       "  \" fill=\"#ffffff\" fill-rule=\"evenodd\" fill-opacity=\"1\"/>\n",
       "<polyline clip-path=\"url(#clip960)\" style=\"stroke:#000000; stroke-linecap:butt; stroke-linejoin:round; stroke-width:4; stroke-opacity:1; fill:none\" points=\"\n",
       "  1988.5,250.738 2280.8,250.738 2280.8,95.2176 1988.5,95.2176 1988.5,250.738 \n",
       "  \"/>\n",
       "<polyline clip-path=\"url(#clip960)\" style=\"stroke:#009af9; stroke-linecap:butt; stroke-linejoin:round; stroke-width:4; stroke-opacity:1; fill:none\" points=\"\n",
       "  2012.48,147.058 2156.4,147.058 \n",
       "  \"/>\n",
       "<path clip-path=\"url(#clip960)\" d=\"M2194.23 166.745 Q2192.43 171.375 2190.72 172.787 Q2189 174.199 2186.13 174.199 L2182.73 174.199 L2182.73 170.634 L2185.23 170.634 Q2186.99 170.634 2187.96 169.8 Q2188.93 168.967 2190.11 165.865 L2190.88 163.921 L2180.39 138.412 L2184.91 138.412 L2193.01 158.689 L2201.11 138.412 L2205.62 138.412 L2194.23 166.745 Z\" fill=\"#000000\" fill-rule=\"evenodd\" fill-opacity=\"1\" /><path clip-path=\"url(#clip960)\" d=\"M2212.91 160.402 L2220.55 160.402 L2220.55 134.037 L2212.24 135.703 L2212.24 131.444 L2220.51 129.778 L2225.18 129.778 L2225.18 160.402 L2232.82 160.402 L2232.82 164.338 L2212.91 164.338 L2212.91 160.402 Z\" fill=\"#000000\" fill-rule=\"evenodd\" fill-opacity=\"1\" /><polyline clip-path=\"url(#clip960)\" style=\"stroke:#e26f46; stroke-linecap:butt; stroke-linejoin:round; stroke-width:4; stroke-opacity:1; fill:none\" points=\"\n",
       "  2012.48,198.898 2156.4,198.898 \n",
       "  \"/>\n",
       "<path clip-path=\"url(#clip960)\" d=\"M2194.23 218.585 Q2192.43 223.215 2190.72 224.627 Q2189 226.039 2186.13 226.039 L2182.73 226.039 L2182.73 222.474 L2185.23 222.474 Q2186.99 222.474 2187.96 221.64 Q2188.93 220.807 2190.11 217.705 L2190.88 215.761 L2180.39 190.252 L2184.91 190.252 L2193.01 210.529 L2201.11 190.252 L2205.62 190.252 L2194.23 218.585 Z\" fill=\"#000000\" fill-rule=\"evenodd\" fill-opacity=\"1\" /><path clip-path=\"url(#clip960)\" d=\"M2216.13 212.242 L2232.45 212.242 L2232.45 216.178 L2210.51 216.178 L2210.51 212.242 Q2213.17 209.488 2217.75 204.858 Q2222.36 200.205 2223.54 198.863 Q2225.78 196.34 2226.66 194.604 Q2227.57 192.844 2227.57 191.155 Q2227.57 188.4 2225.62 186.664 Q2223.7 184.928 2220.6 184.928 Q2218.4 184.928 2215.95 185.692 Q2213.52 186.455 2210.74 188.006 L2210.74 183.284 Q2213.56 182.15 2216.02 181.571 Q2218.47 180.993 2220.51 180.993 Q2225.88 180.993 2229.07 183.678 Q2232.27 186.363 2232.27 190.854 Q2232.27 192.983 2231.46 194.905 Q2230.67 196.803 2228.56 199.395 Q2227.98 200.067 2224.88 203.284 Q2221.78 206.479 2216.13 212.242 Z\" fill=\"#000000\" fill-rule=\"evenodd\" fill-opacity=\"1\" /></svg>\n"
      ]
     },
     "execution_count": 11,
     "metadata": {},
     "output_type": "execute_result"
    }
   ],
   "source": [
    "using Plots\n",
    "default(linewidth=3)\n",
    "\n",
    "f(x) = exp(x) * cos(x) + 1\n",
    "plot([f, x -> 0], xlims=[-2.5, 2.5])"
   ]
  },
  {
   "cell_type": "markdown",
   "id": "b6d7a91e",
   "metadata": {
    "slideshow": {
     "slide_type": "slide"
    }
   },
   "source": [
    "# Numerical linear algebra"
   ]
  },
  {
   "cell_type": "markdown",
   "id": "ba6d4a80",
   "metadata": {
    "cell_style": "split"
   },
   "source": [
    "## Finite algorithms for factorization\n",
    "* $QR = A$, such that $Q^T Q = I$ and $R$ is right-triangular.\n",
    "* $L U = A$, such that $L$ and $U$ are lower and upper triangular, respectively.\n",
    "\n",
    "## Infinite (iterative) algorithms\n",
    "\n",
    "* $X \\Lambda X^{-1} = A$ where $\\Lambda$ is diagonal.\n",
    "* $U \\Sigma V^T = A$, such that $U^T U = I$, $V^T V = I$, and $\\Sigma$ is diagonal with nonnegative entries.\n",
    "* Iterative solution of $Ax=b$ using Krylov basis $\\{b, Ab, A^2b, \\dotsc \\}$"
   ]
  },
  {
   "cell_type": "markdown",
   "id": "f301b595",
   "metadata": {
    "cell_style": "split"
   },
   "source": [
    "## Concepts\n",
    "* Accurate estimates of cost\n",
    "* Orthogonality, null spaces, projections\n",
    "* Geometry and modeling\n",
    "* Stable and backwards-stable algorithms\n",
    "* Conditioning\n",
    "* Develop a language in which to frame many concepts in the course"
   ]
  },
  {
   "cell_type": "markdown",
   "id": "84ed2fbe",
   "metadata": {
    "slideshow": {
     "slide_type": "slide"
    }
   },
   "source": [
    "# Approximating functions from data"
   ]
  },
  {
   "cell_type": "markdown",
   "id": "7b1864c9",
   "metadata": {
    "cell_style": "split"
   },
   "source": [
    "## Interpolation\n",
    "\n",
    "Given samples $(x_0, f(x_0)), (x_1, f(x_1)), \\dotsc$, determine an easily-computable function $g(x)$ that **exactly** fits these samples and behaves **sensibly** in between."
   ]
  },
  {
   "cell_type": "markdown",
   "id": "b6f245d7",
   "metadata": {
    "cell_style": "split"
   },
   "source": [
    "## Regression\n",
    "\n",
    "Given **noisy** data $(x_0, y_0), (x_1, y_1), \\dotsc$, determine an easily-computable function $g(x)$ that **explains** these data."
   ]
  },
  {
   "cell_type": "markdown",
   "id": "2e24bcd8",
   "metadata": {},
   "source": [
    "We will need to make subjective choices to specify a problem with a unique solution."
   ]
  },
  {
   "cell_type": "markdown",
   "id": "e34bca56",
   "metadata": {
    "slideshow": {
     "slide_type": "slide"
    }
   },
   "source": [
    "# Calculus: functions of functions"
   ]
  },
  {
   "cell_type": "markdown",
   "id": "f86371c6",
   "metadata": {
    "cell_style": "split"
   },
   "source": [
    "## Differentiation\n",
    "\n",
    "Given a function $f(x)$ (as a computer program or callable function), define a new function\n",
    "\n",
    "$$g(x) \\approx f'(x). $$\n",
    "\n",
    "We can do this\n",
    "* Numerically (black box)\n",
    "* By-hand code transformation\n",
    "* Automatic code transformation"
   ]
  },
  {
   "cell_type": "markdown",
   "id": "1ce81a2f",
   "metadata": {
    "cell_style": "split"
   },
   "source": [
    "## Integration\n",
    "Given a function $f(x)$ (as a computer program or callable function), approximate the integral\n",
    "\n",
    "$$ \\int_a^b f(x) . $$"
   ]
  },
  {
   "cell_type": "markdown",
   "id": "ba6af93a",
   "metadata": {
    "slideshow": {
     "slide_type": "slide"
    }
   },
   "source": [
    "# Numerical optimization\n",
    "\n",
    "Given a scalar function $f(x)$ (and perhaps its gradient $f'(x)$), determine\n",
    "$$ x_* = \\operatorname{argmin}_x f(x) . $$"
   ]
  },
  {
   "cell_type": "markdown",
   "id": "ee5b74a8",
   "metadata": {
    "slideshow": {
     "slide_type": "slide"
    }
   },
   "source": [
    "# Differential equations\n",
    "\n",
    "Given a dynamical system\n",
    "$$ \\frac{\\partial u(t)}{\\partial t} = f(u(t)), $$\n",
    "and initial condition $u(0) = u_0$, estimate $u(t)$ for arbitrary $t$."
   ]
  },
  {
   "cell_type": "markdown",
   "id": "9b3fabb0",
   "metadata": {
    "slideshow": {
     "slide_type": "slide"
    }
   },
   "source": [
    "# Higher dimensions\n",
    "\n",
    "Many of these algorithms will generalize to functions of multiple variables.  Different algorithms may be needed for such \"high-dimensional\" problems."
   ]
  },
  {
   "cell_type": "markdown",
   "id": "a181eea5",
   "metadata": {
    "slideshow": {
     "slide_type": "slide"
    }
   },
   "source": [
    "# Computer Science = Runnable Abstraction Science"
   ]
  },
  {
   "cell_type": "markdown",
   "id": "b66498d2",
   "metadata": {
    "cell_style": "split"
   },
   "source": [
    "## In the \"grinder\"\n",
    "* Mathematical language and principles for each major class of method\n",
    "  * What is covered by theory\n",
    "  * When you're venturing off-trail\n",
    "  * Analytic tools to predict and debug\n",
    "* Realistic cost and exploitable structure\n",
    "  * Performance on modern hardware\n",
    "* Write/modify stand-alone code\n",
    "* Select and use (parallel) libraries"
   ]
  },
  {
   "cell_type": "markdown",
   "id": "ad132037",
   "metadata": {
    "cell_style": "split"
   },
   "source": [
    "## How can you trust the solution?\n",
    "* Verification: solving the problem right\n",
    "* Validation: solving the right problem\n",
    "\n",
    "## Abstractions/collaboration\n",
    "* Domain scientists, engineers\n",
    "* Optimizers, statisticians\n",
    "* Abstractions that reduce cognitive load\n",
    "* Metrics/visualization for decisions"
   ]
  },
  {
   "cell_type": "markdown",
   "id": "d910b1c2",
   "metadata": {
    "slideshow": {
     "slide_type": "slide"
    }
   },
   "source": [
    "# On programming languages"
   ]
  },
  {
   "cell_type": "markdown",
   "id": "1b6d3017",
   "metadata": {
    "cell_style": "split"
   },
   "source": [
    "## C\n",
    "Reliable and popular for libraries (PETSc, etc.). \"Simple\", unsafe, capable of encapsulation.\n",
    "\n",
    "## C++\n",
    "Popular with applications and some libraries. Powerful, but complicated and unsafe.\n",
    "\n",
    "## Fortran\n",
    "The OG of numerical computing. Good for \"array programming\", but encapsulation is hard. Unsafe depending on dialect."
   ]
  },
  {
   "cell_type": "markdown",
   "id": "19695d74",
   "metadata": {
    "cell_style": "split"
   },
   "source": [
    "## Julia\n",
    "For ground-up examples in class and in activities. Capable of high performance, expressive multiple dispatch, works well in a notebook. Error messages are not great.\n",
    "\n",
    "## Python\n",
    "Good access to JIT, though with sharp edges. Poor native performance, but good libraries to compiled code.\n",
    "\n",
    "## Rust\n",
    "New compiled language. Good performance, encapsulation, safety, static analysis. Poor libraries (so far)."
   ]
  },
  {
   "cell_type": "markdown",
   "id": "9e462589",
   "metadata": {},
   "source": [
    "You don't need to know any of these well and you can choose the language for your project."
   ]
  },
  {
   "cell_type": "markdown",
   "id": "51106d86",
   "metadata": {
    "slideshow": {
     "slide_type": "slide"
    }
   },
   "source": [
    "<img src=\"../img/Butler1988-Table1.png\" width=\"80%\" />"
   ]
  },
  {
   "cell_type": "markdown",
   "id": "a69f134c",
   "metadata": {
    "slideshow": {
     "slide_type": "slide"
    }
   },
   "source": [
    "# I won't grade and I won't waste your time"
   ]
  },
  {
   "cell_type": "markdown",
   "id": "1ad89faa",
   "metadata": {
    "cell_style": "center",
    "slideshow": {
     "slide_type": "fragment"
    }
   },
   "source": [
    "<div class=\"floatleft70\"\n",
    "\n",
    "  * I will provide feedback   \n",
    "  * I will be a mentor and guide navigating this field\n",
    "  * I will help you get what you want out of the class (with a dash of wholesome context)\n",
    "\n",
    "  > My mom said, \"basically, your professor is asking you to be an adult\". That was too flexible.\n",
    "\n",
    "  > In other classes, I didn’t feel like I could bounce back, but in this one I did.\n",
    "</div>\n",
    "\n",
    "<div class=\"floatright30\">\n",
    "<a href=\"https://www.wvupressonline.com/ungrading\"><img src=\"../img/Ungrading.jpg\" width=\"100%\" /></a>\n",
    "</div>"
   ]
  },
  {
   "cell_type": "markdown",
   "id": "8b1167b9",
   "metadata": {
    "slideshow": {
     "slide_type": "slide"
    }
   },
   "source": [
    "# What about the letter grade?"
   ]
  },
  {
   "cell_type": "markdown",
   "id": "748b2379",
   "metadata": {
    "slideshow": {
     "slide_type": "fragment"
    }
   },
   "source": [
    "* Collect a portfolio of the work and insights you're most proud of\n",
    "* Individual meetings during the last week of the semester (mid-term preview)\n",
    "* We'll have a conversation and you'll propose a grade based on your portfolio\n",
    "  * I'll trust you."
   ]
  },
  {
   "cell_type": "markdown",
   "id": "6e66274a",
   "metadata": {
    "slideshow": {
     "slide_type": "fragment"
    }
   },
   "source": [
    "*I can nudge upward when students are too modest -- pretty common. In rare cases, I may adjust down.*"
   ]
  },
  {
   "cell_type": "markdown",
   "id": "123c7b1c",
   "metadata": {
    "slideshow": {
     "slide_type": "slide"
    }
   },
   "source": [
    "# What I need from you: Growth Mindset\n",
    "\n",
    "<img src=\"../img/Henry2019-Table1.png\" width=\"90%\" />"
   ]
  },
  {
   "cell_type": "markdown",
   "id": "47fe3ae4",
   "metadata": {
    "slideshow": {
     "slide_type": "slide"
    }
   },
   "source": [
    "# How will the semester look?"
   ]
  },
  {
   "cell_type": "markdown",
   "id": "583d6bfb",
   "metadata": {
    "cell_style": "split"
   },
   "source": [
    "## Lecture periods\n",
    "* Refresh, introduce, activity/group discussion, reflect\n",
    "* Pointers to further resources/activities\n",
    "\n",
    "## In-class and homework activities\n",
    "* (Short) coding, experiments, presentation of results\n",
    "* Use the math and programming tools of the field\n",
    "* Open-ended, go further occasionally\n",
    "\n",
    "## Learning plans\n",
    "* Write, track, and revise a personal learning plan.\n",
    "* Meet/chat approx weekly to check in with partner"
   ]
  },
  {
   "cell_type": "markdown",
   "id": "c3f5351b",
   "metadata": {
    "cell_style": "split"
   },
   "source": [
    "## Projects (second half of semester)\n",
    "* Dig into community software that implements or relies on numerical computation\n",
    "* Short presentation on how the community works\n",
    " * Key stakeholders\n",
    " * Strengths and weaknesses\n",
    "* Discuss and critique\n",
    "\n",
    "## Original study or contribution\n",
    "* Tutorial, documentation, performance study, comparison, new features, new application\n",
    "* Reflect in a short presentation"
   ]
  },
  {
   "cell_type": "markdown",
   "id": "5e2750e3",
   "metadata": {
    "slideshow": {
     "slide_type": "slide"
    }
   },
   "source": [
    "# Expectations"
   ]
  },
  {
   "cell_type": "markdown",
   "id": "18ccdcc0",
   "metadata": {
    "cell_style": "split"
   },
   "source": [
    "1. Attend class (in-person or virtual) and participate in discussions\n",
    "2. Make an honest attempt on activities\n",
    "3. Interact with the class notebooks and read reference material\n",
    "4. Set goals and track your progress\n",
    "  * revise these goals as you learn more\n",
    "5. Meet/chat with your partner weekly for at least a few minutes\n",
    "  * share how lecture and activities are going\n",
    "  * share your goals and how you're progressing\n",
    "  * identify questions"
   ]
  },
  {
   "cell_type": "markdown",
   "id": "2b86aacd",
   "metadata": {
    "cell_style": "split"
   },
   "source": [
    "6. Ask or answer at least one question per week\n",
    "  * ask a question that you don't know the answer to\n",
    "  * ask a question that you do know the answer to, but you think will be a good exercise/seed for discussion \n",
    "  * ask me during office hours, write up your best understanding\n",
    "  * make a meme relevant to the class\n",
    "  * raise a concern or suggestion that you and/or peers have\n",
    "  * contribute an answer or relevant discussion to any of the above\n",
    "7. Individual and group projects\n"
   ]
  },
  {
   "cell_type": "markdown",
   "id": "a473030e",
   "metadata": {
    "slideshow": {
     "slide_type": "slide"
    }
   },
   "source": [
    "# Tools"
   ]
  },
  {
   "cell_type": "markdown",
   "id": "61105cbb",
   "metadata": {
    "cell_style": "split"
   },
   "source": [
    "## Git and GitHub\n",
    "\n",
    "* GitHub Classroom to manage repositories\n",
    "* Write using notebooks and markdown\n",
    "* Review using GitHub tools and nbgrader\n",
    "\n",
    "## Zulip\n",
    "\n",
    "* math- and code-aware team chat\n",
    "* live, informal\n",
    "* thread managemnet so a question in class can spin off into a deeper asynchronous conversation"
   ]
  },
  {
   "cell_type": "markdown",
   "id": "7850eace",
   "metadata": {
    "cell_style": "split"
   },
   "source": [
    "## Jupyter\n",
    "\n",
    "* RISE slides available on website\n",
    "* Activities with scaffolding\n",
    "* Nbgrader for writing feedback\n",
    "* Works with many languages; we'll mostly use Julia\n",
    "* Collaborative mode (new)\n",
    "\n",
    "## JupyterHub: [coding.csel.io](https://coding.csel.io)\n",
    "* Nothing to install, persistent storage\n",
    "* Select CSCI-3656 tile"
   ]
  },
  {
   "cell_type": "markdown",
   "id": "b5c127a2",
   "metadata": {
    "slideshow": {
     "slide_type": "slide"
    }
   },
   "source": [
    "# A note about COVID"
   ]
  },
  {
   "cell_type": "markdown",
   "id": "857b4dec",
   "metadata": {
    "cell_style": "split"
   },
   "source": [
    "![](../img/boulder-county-cases-2022-01-09.png)"
   ]
  },
  {
   "cell_type": "markdown",
   "id": "9044801a",
   "metadata": {
    "cell_style": "split"
   },
   "source": [
    "* Boulder County cases are high and increasing\n",
    "* Breakthrough cases are very common with Omicron\n",
    "* I have a 1yo and 4yo in childcare\n",
    "* Pediatric hospitals are overwhelmed\n",
    "* They need to stay home and be tested any time they have symptoms\n",
    "\n",
    "![](../img/neve-testing-2022-01-09.png)"
   ]
  },
  {
   "cell_type": "markdown",
   "id": "d210807d",
   "metadata": {},
   "source": [
    "* I'd prefer to do virtual office hours until 7-day average new cases drops below 30/day or my child can be vaccinated.\n",
    "* I'll likely be home with a kid and need to teach remotely or otherwise make it up to you"
   ]
  },
  {
   "cell_type": "markdown",
   "id": "18dc89b9",
   "metadata": {
    "cell_style": "split",
    "slideshow": {
     "slide_type": "slide"
    }
   },
   "source": [
    "# Poll: What is floating point arithmetic?"
   ]
  },
  {
   "cell_type": "markdown",
   "id": "e057a86a",
   "metadata": {
    "cell_style": "split",
    "slideshow": {
     "slide_type": ""
    }
   },
   "source": [
    "1. fuzzy arithmetic\n",
    "2. exact arithmetic, correctly rounded\n",
    "3. the primary focus of numerical analysis"
   ]
  },
  {
   "cell_type": "code",
   "execution_count": 14,
   "id": "c69d7391",
   "metadata": {
    "cell_style": "split"
   },
   "outputs": [
    {
     "data": {
      "text/plain": [
       "0.30000000000000004"
      ]
     },
     "execution_count": 14,
     "metadata": {},
     "output_type": "execute_result"
    }
   ],
   "source": [
    "0.1 + 0.2\n"
   ]
  },
  {
   "cell_type": "code",
   "execution_count": 15,
   "id": "7a842a01",
   "metadata": {
    "cell_style": "split",
    "slideshow": {
     "slide_type": "fragment"
    }
   },
   "outputs": [
    {
     "data": {
      "image/svg+xml": [
       "<?xml version=\"1.0\" encoding=\"utf-8\"?>\n",
       "<svg xmlns=\"http://www.w3.org/2000/svg\" xmlns:xlink=\"http://www.w3.org/1999/xlink\" width=\"600\" height=\"400\" viewBox=\"0 0 2400 1600\">\n",
       "<defs>\n",
       "  <clipPath id=\"clip040\">\n",
       "    <rect x=\"0\" y=\"0\" width=\"2400\" height=\"1600\"/>\n",
       "  </clipPath>\n",
       "</defs>\n",
       "<path clip-path=\"url(#clip040)\" d=\"\n",
       "M0 1600 L2400 1600 L2400 0 L0 0  Z\n",
       "  \" fill=\"#ffffff\" fill-rule=\"evenodd\" fill-opacity=\"1\"/>\n",
       "<defs>\n",
       "  <clipPath id=\"clip041\">\n",
       "    <rect x=\"480\" y=\"0\" width=\"1681\" height=\"1600\"/>\n",
       "  </clipPath>\n",
       "</defs>\n",
       "<path clip-path=\"url(#clip040)\" d=\"\n",
       "M192.941 1486.45 L2352.76 1486.45 L2352.76 47.2441 L192.941 47.2441  Z\n",
       "  \" fill=\"#ffffff\" fill-rule=\"evenodd\" fill-opacity=\"1\"/>\n",
       "<defs>\n",
       "  <clipPath id=\"clip042\">\n",
       "    <rect x=\"192\" y=\"47\" width=\"2161\" height=\"1440\"/>\n",
       "  </clipPath>\n",
       "</defs>\n",
       "<polyline clip-path=\"url(#clip042)\" style=\"stroke:#000000; stroke-linecap:butt; stroke-linejoin:round; stroke-width:2; stroke-opacity:0.1; fill:none\" points=\"\n",
       "  457.824,1486.45 457.824,47.2441 \n",
       "  \"/>\n",
       "<polyline clip-path=\"url(#clip042)\" style=\"stroke:#000000; stroke-linecap:butt; stroke-linejoin:round; stroke-width:2; stroke-opacity:0.1; fill:none\" points=\"\n",
       "  865.336,1486.45 865.336,47.2441 \n",
       "  \"/>\n",
       "<polyline clip-path=\"url(#clip042)\" style=\"stroke:#000000; stroke-linecap:butt; stroke-linejoin:round; stroke-width:2; stroke-opacity:0.1; fill:none\" points=\"\n",
       "  1272.85,1486.45 1272.85,47.2441 \n",
       "  \"/>\n",
       "<polyline clip-path=\"url(#clip042)\" style=\"stroke:#000000; stroke-linecap:butt; stroke-linejoin:round; stroke-width:2; stroke-opacity:0.1; fill:none\" points=\"\n",
       "  1680.36,1486.45 1680.36,47.2441 \n",
       "  \"/>\n",
       "<polyline clip-path=\"url(#clip042)\" style=\"stroke:#000000; stroke-linecap:butt; stroke-linejoin:round; stroke-width:2; stroke-opacity:0.1; fill:none\" points=\"\n",
       "  2087.87,1486.45 2087.87,47.2441 \n",
       "  \"/>\n",
       "<polyline clip-path=\"url(#clip040)\" style=\"stroke:#000000; stroke-linecap:butt; stroke-linejoin:round; stroke-width:4; stroke-opacity:1; fill:none\" points=\"\n",
       "  192.941,1486.45 2352.76,1486.45 \n",
       "  \"/>\n",
       "<polyline clip-path=\"url(#clip040)\" style=\"stroke:#000000; stroke-linecap:butt; stroke-linejoin:round; stroke-width:4; stroke-opacity:1; fill:none\" points=\"\n",
       "  457.824,1486.45 457.824,1467.55 \n",
       "  \"/>\n",
       "<polyline clip-path=\"url(#clip040)\" style=\"stroke:#000000; stroke-linecap:butt; stroke-linejoin:round; stroke-width:4; stroke-opacity:1; fill:none\" points=\"\n",
       "  865.336,1486.45 865.336,1467.55 \n",
       "  \"/>\n",
       "<polyline clip-path=\"url(#clip040)\" style=\"stroke:#000000; stroke-linecap:butt; stroke-linejoin:round; stroke-width:4; stroke-opacity:1; fill:none\" points=\"\n",
       "  1272.85,1486.45 1272.85,1467.55 \n",
       "  \"/>\n",
       "<polyline clip-path=\"url(#clip040)\" style=\"stroke:#000000; stroke-linecap:butt; stroke-linejoin:round; stroke-width:4; stroke-opacity:1; fill:none\" points=\"\n",
       "  1680.36,1486.45 1680.36,1467.55 \n",
       "  \"/>\n",
       "<polyline clip-path=\"url(#clip040)\" style=\"stroke:#000000; stroke-linecap:butt; stroke-linejoin:round; stroke-width:4; stroke-opacity:1; fill:none\" points=\"\n",
       "  2087.87,1486.45 2087.87,1467.55 \n",
       "  \"/>\n",
       "<path clip-path=\"url(#clip040)\" d=\"M426.724 1532.02 L456.4 1532.02 L456.4 1535.95 L426.724 1535.95 L426.724 1532.02 Z\" fill=\"#000000\" fill-rule=\"evenodd\" fill-opacity=\"1\" /><path clip-path=\"url(#clip040)\" d=\"M479.34 1518.36 L467.534 1536.81 L479.34 1536.81 L479.34 1518.36 M478.113 1514.29 L483.992 1514.29 L483.992 1536.81 L488.923 1536.81 L488.923 1540.7 L483.992 1540.7 L483.992 1548.85 L479.34 1548.85 L479.34 1540.7 L463.738 1540.7 L463.738 1536.19 L478.113 1514.29 Z\" fill=\"#000000\" fill-rule=\"evenodd\" fill-opacity=\"1\" /><path clip-path=\"url(#clip040)\" d=\"M835.278 1532.02 L864.954 1532.02 L864.954 1535.95 L835.278 1535.95 L835.278 1532.02 Z\" fill=\"#000000\" fill-rule=\"evenodd\" fill-opacity=\"1\" /><path clip-path=\"url(#clip040)\" d=\"M879.074 1544.91 L895.394 1544.91 L895.394 1548.85 L873.449 1548.85 L873.449 1544.91 Q876.111 1542.16 880.695 1537.53 Q885.301 1532.88 886.482 1531.53 Q888.727 1529.01 889.607 1527.27 Q890.509 1525.51 890.509 1523.82 Q890.509 1521.07 888.565 1519.33 Q886.644 1517.6 883.542 1517.6 Q881.343 1517.6 878.889 1518.36 Q876.459 1519.13 873.681 1520.68 L873.681 1515.95 Q876.505 1514.82 878.959 1514.24 Q881.412 1513.66 883.449 1513.66 Q888.82 1513.66 892.014 1516.35 Q895.208 1519.03 895.208 1523.52 Q895.208 1525.65 894.398 1527.57 Q893.611 1529.47 891.505 1532.07 Q890.926 1532.74 887.824 1535.95 Q884.722 1539.15 879.074 1544.91 Z\" fill=\"#000000\" fill-rule=\"evenodd\" fill-opacity=\"1\" /><path clip-path=\"url(#clip040)\" d=\"M1272.85 1517.37 Q1269.24 1517.37 1267.41 1520.93 Q1265.6 1524.47 1265.6 1531.6 Q1265.6 1538.71 1267.41 1542.27 Q1269.24 1545.82 1272.85 1545.82 Q1276.48 1545.82 1278.29 1542.27 Q1280.12 1538.71 1280.12 1531.6 Q1280.12 1524.47 1278.29 1520.93 Q1276.48 1517.37 1272.85 1517.37 M1272.85 1513.66 Q1278.66 1513.66 1281.71 1518.27 Q1284.79 1522.85 1284.79 1531.6 Q1284.79 1540.33 1281.71 1544.94 Q1278.66 1549.52 1272.85 1549.52 Q1267.04 1549.52 1263.96 1544.94 Q1260.9 1540.33 1260.9 1531.6 Q1260.9 1522.85 1263.96 1518.27 Q1267.04 1513.66 1272.85 1513.66 Z\" fill=\"#000000\" fill-rule=\"evenodd\" fill-opacity=\"1\" /><path clip-path=\"url(#clip040)\" d=\"M1675.01 1544.91 L1691.33 1544.91 L1691.33 1548.85 L1669.39 1548.85 L1669.39 1544.91 Q1672.05 1542.16 1676.63 1537.53 Q1681.24 1532.88 1682.42 1531.53 Q1684.67 1529.01 1685.55 1527.27 Q1686.45 1525.51 1686.45 1523.82 Q1686.45 1521.07 1684.5 1519.33 Q1682.58 1517.6 1679.48 1517.6 Q1677.28 1517.6 1674.83 1518.36 Q1672.4 1519.13 1669.62 1520.68 L1669.62 1515.95 Q1672.44 1514.82 1674.9 1514.24 Q1677.35 1513.66 1679.39 1513.66 Q1684.76 1513.66 1687.95 1516.35 Q1691.15 1519.03 1691.15 1523.52 Q1691.15 1525.65 1690.34 1527.57 Q1689.55 1529.47 1687.44 1532.07 Q1686.87 1532.74 1683.76 1535.95 Q1680.66 1539.15 1675.01 1544.91 Z\" fill=\"#000000\" fill-rule=\"evenodd\" fill-opacity=\"1\" /><path clip-path=\"url(#clip040)\" d=\"M2090.88 1518.36 L2079.08 1536.81 L2090.88 1536.81 L2090.88 1518.36 M2089.66 1514.29 L2095.53 1514.29 L2095.53 1536.81 L2100.47 1536.81 L2100.47 1540.7 L2095.53 1540.7 L2095.53 1548.85 L2090.88 1548.85 L2090.88 1540.7 L2075.28 1540.7 L2075.28 1536.19 L2089.66 1514.29 Z\" fill=\"#000000\" fill-rule=\"evenodd\" fill-opacity=\"1\" /><polyline clip-path=\"url(#clip042)\" style=\"stroke:#000000; stroke-linecap:butt; stroke-linejoin:round; stroke-width:2; stroke-opacity:0.1; fill:none\" points=\"\n",
       "  192.941,1242.05 2352.76,1242.05 \n",
       "  \"/>\n",
       "<polyline clip-path=\"url(#clip042)\" style=\"stroke:#000000; stroke-linecap:butt; stroke-linejoin:round; stroke-width:2; stroke-opacity:0.1; fill:none\" points=\"\n",
       "  192.941,902.62 2352.76,902.62 \n",
       "  \"/>\n",
       "<polyline clip-path=\"url(#clip042)\" style=\"stroke:#000000; stroke-linecap:butt; stroke-linejoin:round; stroke-width:2; stroke-opacity:0.1; fill:none\" points=\"\n",
       "  192.941,563.185 2352.76,563.185 \n",
       "  \"/>\n",
       "<polyline clip-path=\"url(#clip042)\" style=\"stroke:#000000; stroke-linecap:butt; stroke-linejoin:round; stroke-width:2; stroke-opacity:0.1; fill:none\" points=\"\n",
       "  192.941,223.75 2352.76,223.75 \n",
       "  \"/>\n",
       "<polyline clip-path=\"url(#clip040)\" style=\"stroke:#000000; stroke-linecap:butt; stroke-linejoin:round; stroke-width:4; stroke-opacity:1; fill:none\" points=\"\n",
       "  192.941,1486.45 192.941,47.2441 \n",
       "  \"/>\n",
       "<polyline clip-path=\"url(#clip040)\" style=\"stroke:#000000; stroke-linecap:butt; stroke-linejoin:round; stroke-width:4; stroke-opacity:1; fill:none\" points=\"\n",
       "  192.941,1242.05 211.838,1242.05 \n",
       "  \"/>\n",
       "<polyline clip-path=\"url(#clip040)\" style=\"stroke:#000000; stroke-linecap:butt; stroke-linejoin:round; stroke-width:4; stroke-opacity:1; fill:none\" points=\"\n",
       "  192.941,902.62 211.838,902.62 \n",
       "  \"/>\n",
       "<polyline clip-path=\"url(#clip040)\" style=\"stroke:#000000; stroke-linecap:butt; stroke-linejoin:round; stroke-width:4; stroke-opacity:1; fill:none\" points=\"\n",
       "  192.941,563.185 211.838,563.185 \n",
       "  \"/>\n",
       "<polyline clip-path=\"url(#clip040)\" style=\"stroke:#000000; stroke-linecap:butt; stroke-linejoin:round; stroke-width:4; stroke-opacity:1; fill:none\" points=\"\n",
       "  192.941,223.75 211.838,223.75 \n",
       "  \"/>\n",
       "<path clip-path=\"url(#clip040)\" d=\"M50.9921 1242.51 L80.6679 1242.51 L80.6679 1246.44 L50.9921 1246.44 L50.9921 1242.51 Z\" fill=\"#000000\" fill-rule=\"evenodd\" fill-opacity=\"1\" /><path clip-path=\"url(#clip040)\" d=\"M94.7882 1255.4 L111.108 1255.4 L111.108 1259.33 L89.1632 1259.33 L89.1632 1255.4 Q91.8252 1252.65 96.4085 1248.02 Q101.015 1243.36 102.196 1242.02 Q104.441 1239.5 105.321 1237.76 Q106.223 1236 106.223 1234.31 Q106.223 1231.56 104.279 1229.82 Q102.358 1228.08 99.2558 1228.08 Q97.0567 1228.08 94.603 1228.85 Q92.1725 1229.61 89.3947 1231.16 L89.3947 1226.44 Q92.2188 1225.31 94.6724 1224.73 Q97.1261 1224.15 99.1632 1224.15 Q104.534 1224.15 107.728 1226.83 Q110.922 1229.52 110.922 1234.01 Q110.922 1236.14 110.112 1238.06 Q109.325 1239.96 107.219 1242.55 Q106.64 1243.22 103.538 1246.44 Q100.436 1249.64 94.7882 1255.4 Z\" fill=\"#000000\" fill-rule=\"evenodd\" fill-opacity=\"1\" /><path clip-path=\"url(#clip040)\" d=\"M120.922 1253.46 L125.807 1253.46 L125.807 1259.33 L120.922 1259.33 L120.922 1253.46 Z\" fill=\"#000000\" fill-rule=\"evenodd\" fill-opacity=\"1\" /><path clip-path=\"url(#clip040)\" d=\"M136.038 1224.77 L154.394 1224.77 L154.394 1228.71 L140.32 1228.71 L140.32 1237.18 Q141.339 1236.83 142.357 1236.67 Q143.376 1236.49 144.394 1236.49 Q150.181 1236.49 153.561 1239.66 Q156.941 1242.83 156.941 1248.25 Q156.941 1253.83 153.468 1256.93 Q149.996 1260.01 143.677 1260.01 Q141.501 1260.01 139.232 1259.64 Q136.987 1259.27 134.58 1258.52 L134.58 1253.83 Q136.663 1254.96 138.885 1255.52 Q141.107 1256.07 143.584 1256.07 Q147.589 1256.07 149.927 1253.96 Q152.265 1251.86 152.265 1248.25 Q152.265 1244.64 149.927 1242.53 Q147.589 1240.42 143.584 1240.42 Q141.709 1240.42 139.834 1240.84 Q137.982 1241.26 136.038 1242.14 L136.038 1224.77 Z\" fill=\"#000000\" fill-rule=\"evenodd\" fill-opacity=\"1\" /><path clip-path=\"url(#clip040)\" d=\"M99.765 888.419 Q96.1539 888.419 94.3252 891.983 Q92.5197 895.525 92.5197 902.655 Q92.5197 909.761 94.3252 913.326 Q96.1539 916.868 99.765 916.868 Q103.399 916.868 105.205 913.326 Q107.033 909.761 107.033 902.655 Q107.033 895.525 105.205 891.983 Q103.399 888.419 99.765 888.419 M99.765 884.715 Q105.575 884.715 108.631 889.321 Q111.709 893.905 111.709 902.655 Q111.709 911.381 108.631 915.988 Q105.575 920.571 99.765 920.571 Q93.9549 920.571 90.8762 915.988 Q87.8206 911.381 87.8206 902.655 Q87.8206 893.905 90.8762 889.321 Q93.9549 884.715 99.765 884.715 Z\" fill=\"#000000\" fill-rule=\"evenodd\" fill-opacity=\"1\" /><path clip-path=\"url(#clip040)\" d=\"M119.927 914.02 L124.811 914.02 L124.811 919.9 L119.927 919.9 L119.927 914.02 Z\" fill=\"#000000\" fill-rule=\"evenodd\" fill-opacity=\"1\" /><path clip-path=\"url(#clip040)\" d=\"M144.996 888.419 Q141.385 888.419 139.556 891.983 Q137.751 895.525 137.751 902.655 Q137.751 909.761 139.556 913.326 Q141.385 916.868 144.996 916.868 Q148.63 916.868 150.436 913.326 Q152.265 909.761 152.265 902.655 Q152.265 895.525 150.436 891.983 Q148.63 888.419 144.996 888.419 M144.996 884.715 Q150.806 884.715 153.862 889.321 Q156.941 893.905 156.941 902.655 Q156.941 911.381 153.862 915.988 Q150.806 920.571 144.996 920.571 Q139.186 920.571 136.107 915.988 Q133.052 911.381 133.052 902.655 Q133.052 893.905 136.107 889.321 Q139.186 884.715 144.996 884.715 Z\" fill=\"#000000\" fill-rule=\"evenodd\" fill-opacity=\"1\" /><path clip-path=\"url(#clip040)\" d=\"M94.7882 576.53 L111.108 576.53 L111.108 580.465 L89.1632 580.465 L89.1632 576.53 Q91.8252 573.775 96.4085 569.146 Q101.015 564.493 102.196 563.15 Q104.441 560.627 105.321 558.891 Q106.223 557.132 106.223 555.442 Q106.223 552.687 104.279 550.951 Q102.358 549.215 99.2558 549.215 Q97.0567 549.215 94.603 549.979 Q92.1725 550.743 89.3947 552.294 L89.3947 547.572 Q92.2188 546.437 94.6724 545.859 Q97.1261 545.28 99.1632 545.28 Q104.534 545.28 107.728 547.965 Q110.922 550.65 110.922 555.141 Q110.922 557.271 110.112 559.192 Q109.325 561.09 107.219 563.683 Q106.64 564.354 103.538 567.572 Q100.436 570.766 94.7882 576.53 Z\" fill=\"#000000\" fill-rule=\"evenodd\" fill-opacity=\"1\" /><path clip-path=\"url(#clip040)\" d=\"M120.922 574.585 L125.807 574.585 L125.807 580.465 L120.922 580.465 L120.922 574.585 Z\" fill=\"#000000\" fill-rule=\"evenodd\" fill-opacity=\"1\" /><path clip-path=\"url(#clip040)\" d=\"M136.038 545.905 L154.394 545.905 L154.394 549.84 L140.32 549.84 L140.32 558.312 Q141.339 557.965 142.357 557.803 Q143.376 557.618 144.394 557.618 Q150.181 557.618 153.561 560.789 Q156.941 563.961 156.941 569.377 Q156.941 574.956 153.468 578.058 Q149.996 581.136 143.677 581.136 Q141.501 581.136 139.232 580.766 Q136.987 580.396 134.58 579.655 L134.58 574.956 Q136.663 576.09 138.885 576.646 Q141.107 577.201 143.584 577.201 Q147.589 577.201 149.927 575.095 Q152.265 572.988 152.265 569.377 Q152.265 565.766 149.927 563.66 Q147.589 561.553 143.584 561.553 Q141.709 561.553 139.834 561.97 Q137.982 562.386 136.038 563.266 L136.038 545.905 Z\" fill=\"#000000\" fill-rule=\"evenodd\" fill-opacity=\"1\" /><path clip-path=\"url(#clip040)\" d=\"M89.8114 206.47 L108.168 206.47 L108.168 210.405 L94.0937 210.405 L94.0937 218.878 Q95.1123 218.53 96.1308 218.368 Q97.1493 218.183 98.1678 218.183 Q103.955 218.183 107.334 221.354 Q110.714 224.526 110.714 229.942 Q110.714 235.521 107.242 238.623 Q103.77 241.702 97.4502 241.702 Q95.2743 241.702 93.0058 241.331 Q90.7604 240.961 88.353 240.22 L88.353 235.521 Q90.4364 236.655 92.6586 237.211 Q94.8808 237.766 97.3576 237.766 Q101.362 237.766 103.7 235.66 Q106.038 233.553 106.038 229.942 Q106.038 226.331 103.7 224.225 Q101.362 222.118 97.3576 222.118 Q95.4826 222.118 93.6076 222.535 Q91.7558 222.952 89.8114 223.831 L89.8114 206.47 Z\" fill=\"#000000\" fill-rule=\"evenodd\" fill-opacity=\"1\" /><path clip-path=\"url(#clip040)\" d=\"M119.927 235.151 L124.811 235.151 L124.811 241.03 L119.927 241.03 L119.927 235.151 Z\" fill=\"#000000\" fill-rule=\"evenodd\" fill-opacity=\"1\" /><path clip-path=\"url(#clip040)\" d=\"M144.996 209.549 Q141.385 209.549 139.556 213.114 Q137.751 216.655 137.751 223.785 Q137.751 230.891 139.556 234.456 Q141.385 237.998 144.996 237.998 Q148.63 237.998 150.436 234.456 Q152.265 230.891 152.265 223.785 Q152.265 216.655 150.436 213.114 Q148.63 209.549 144.996 209.549 M144.996 205.845 Q150.806 205.845 153.862 210.452 Q156.941 215.035 156.941 223.785 Q156.941 232.512 153.862 237.118 Q150.806 241.702 144.996 241.702 Q139.186 241.702 136.107 237.118 Q133.052 232.512 133.052 223.785 Q133.052 215.035 136.107 210.452 Q139.186 205.845 144.996 205.845 Z\" fill=\"#000000\" fill-rule=\"evenodd\" fill-opacity=\"1\" /><polyline clip-path=\"url(#clip042)\" style=\"stroke:#009af9; stroke-linecap:butt; stroke-linejoin:round; stroke-width:12; stroke-opacity:1; fill:none\" points=\"\n",
       "  254.067,1445.72 273.966,1432.46 457.956,1309.85 568.526,1236.17 662.012,1173.88 763.564,1106.21 857.186,1043.82 957.558,976.941 1073.85,899.45 1177.2,830.585 \n",
       "  1267.82,770.196 1366.63,704.357 1466.02,638.126 1575.91,564.899 1680.47,495.226 1789.19,422.781 1880.7,361.799 1992.43,287.346 2097.47,217.358 2265.73,105.232 \n",
       "  2291.63,87.9763 \n",
       "  \"/>\n",
       "<path clip-path=\"url(#clip040)\" d=\"\n",
       "M1988.35 198.898 L2280.76 198.898 L2280.76 95.2176 L1988.35 95.2176  Z\n",
       "  \" fill=\"#ffffff\" fill-rule=\"evenodd\" fill-opacity=\"1\"/>\n",
       "<polyline clip-path=\"url(#clip040)\" style=\"stroke:#000000; stroke-linecap:butt; stroke-linejoin:round; stroke-width:4; stroke-opacity:1; fill:none\" points=\"\n",
       "  1988.35,198.898 2280.76,198.898 2280.76,95.2176 1988.35,95.2176 1988.35,198.898 \n",
       "  \"/>\n",
       "<polyline clip-path=\"url(#clip040)\" style=\"stroke:#009af9; stroke-linecap:butt; stroke-linejoin:round; stroke-width:4; stroke-opacity:1; fill:none\" points=\"\n",
       "  2012.35,147.058 2156.34,147.058 \n",
       "  \"/>\n",
       "<path clip-path=\"url(#clip040)\" d=\"M2194.18 166.745 Q2192.37 171.375 2190.66 172.787 Q2188.95 174.199 2186.08 174.199 L2182.67 174.199 L2182.67 170.634 L2185.17 170.634 Q2186.93 170.634 2187.91 169.8 Q2188.88 168.967 2190.06 165.865 L2190.82 163.921 L2180.34 138.412 L2184.85 138.412 L2192.95 158.689 L2201.05 138.412 L2205.57 138.412 L2194.18 166.745 Z\" fill=\"#000000\" fill-rule=\"evenodd\" fill-opacity=\"1\" /><path clip-path=\"url(#clip040)\" d=\"M2212.86 160.402 L2220.5 160.402 L2220.5 134.037 L2212.19 135.703 L2212.19 131.444 L2220.45 129.778 L2225.13 129.778 L2225.13 160.402 L2232.77 160.402 L2232.77 164.338 L2212.86 164.338 L2212.86 160.402 Z\" fill=\"#000000\" fill-rule=\"evenodd\" fill-opacity=\"1\" /></svg>\n"
      ]
     },
     "execution_count": 15,
     "metadata": {},
     "output_type": "execute_result"
    }
   ],
   "source": [
    "plot(x -> 1 + x)"
   ]
  },
  {
   "cell_type": "code",
   "execution_count": 17,
   "id": "128f2b12",
   "metadata": {
    "cell_style": "split",
    "slideshow": {
     "slide_type": "fragment"
    }
   },
   "outputs": [
    {
     "data": {
      "text/plain": [
       "1.1102230246251565e-16"
      ]
     },
     "execution_count": 17,
     "metadata": {},
     "output_type": "execute_result"
    }
   ],
   "source": [
    "eps = 1\n",
    "while 1 + eps != 1\n",
    "    eps = eps / 2\n",
    "end\n",
    "eps"
   ]
  },
  {
   "cell_type": "markdown",
   "id": "d2ca0321",
   "metadata": {
    "slideshow": {
     "slide_type": "slide"
    }
   },
   "source": [
    "# Beating `exp`\n",
    "\n",
    "$$e^x = 1 + x + \\frac{x^2}{2!} + \\frac{x^3}{3!} + \\dotsb$$\n",
    "\n",
    "Suppose we want to compute $f(x) = e^x - 1$ for small values of $x$."
   ]
  },
  {
   "cell_type": "code",
   "execution_count": 20,
   "id": "f9abe98c",
   "metadata": {
    "cell_style": "split"
   },
   "outputs": [
    {
     "data": {
      "text/plain": [
       "9.99999993922529e-9"
      ]
     },
     "execution_count": 20,
     "metadata": {},
     "output_type": "execute_result"
    }
   ],
   "source": [
    "f1(x) = exp(x) - 1\n",
    "y1 = f1(1e-8)"
   ]
  },
  {
   "cell_type": "code",
   "execution_count": 21,
   "id": "6b651c2a",
   "metadata": {
    "cell_style": "split"
   },
   "outputs": [
    {
     "data": {
      "text/plain": [
       "1.000000005e-8"
      ]
     },
     "execution_count": 21,
     "metadata": {},
     "output_type": "execute_result"
    }
   ],
   "source": [
    "f2(x) = x + x^2/2 + x^3/6\n",
    "y2 = f2(1e-8)"
   ]
  },
  {
   "cell_type": "markdown",
   "id": "9c3f48b4",
   "metadata": {},
   "source": [
    "Which answer is more accurate?"
   ]
  },
  {
   "cell_type": "code",
   "execution_count": 27,
   "id": "c0d6e6e4",
   "metadata": {},
   "outputs": [
    {
     "name": "stdout",
     "output_type": "stream",
     "text": [
      "y1 - y2 = -1.1077470910720506e-16\n",
      "(y1 - y2) / y2 = -1.1077470855333152e-8\n"
     ]
    }
   ],
   "source": [
    "@show (y1 - y2)        # Absolute difference\n",
    "@show (y1 - y2) / y2;  # Relative difference"
   ]
  }
 ],
 "metadata": {
  "celltoolbar": "Slideshow",
  "kernelspec": {
   "display_name": "Julia 1.6.2",
   "language": "julia",
   "name": "julia-1.6"
  },
  "language_info": {
   "file_extension": ".jl",
   "mimetype": "application/julia",
   "name": "julia",
   "version": "1.7.1"
  },
  "rise": {
   "enable_chalkboard": true
  }
 },
 "nbformat": 4,
 "nbformat_minor": 5
}
