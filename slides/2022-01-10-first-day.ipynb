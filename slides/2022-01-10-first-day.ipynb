{
 "cells": [
  {
   "cell_type": "markdown",
   "id": "4159be0e",
   "metadata": {
    "slideshow": {
     "slide_type": "slide"
    }
   },
   "source": [
    "# 2022-01-10 First Day\n",
    "## CSCI-3656: Numerical Computation\n",
    "\n",
    "## Instructor: Jed Brown, jed.brown@colorado.edu, ECOT 824\n",
    "## Meeting: Mon, Wed, Fri at 1:25-2:15 in FLMG 157 (and virtually)\n",
    "\n",
    "1. Who am I?\n",
    "2. What is this course about?\n",
    "3. How will it work?\n",
    "4. Discussion\n",
    "5. (maybe) First activity"
   ]
  },
  {
   "cell_type": "code",
   "execution_count": null,
   "id": "7c171511",
   "metadata": {},
   "outputs": [],
   "source": []
  },
  {
   "cell_type": "markdown",
   "id": "ece03c41",
   "metadata": {
    "slideshow": {
     "slide_type": "slide"
    }
   },
   "source": [
    "# Who am I?\n",
    "\n",
    "* Jed Brown (he/him); you can call me Jed\n",
    "* Math + Physics undergrad, MS Math, Dr.Sc. Environmental Engineering (Computational Glaciology)\n",
    "* Postdoc and staff at Argonne National Laboratory (DOE Office of Science)\n",
    "* CU since 2015\n",
    "\n",
    "## Physical Prediction, Inference, and Design Group\n",
    "* Develop and maintain open source libraries\n",
    "* Research in fast/parallel algorithms, extensible software\n",
    "* Partner with scientists and engineers in many disciplines: geoscience, aerospace, civil engineering, fusion\n",
    "* Listen, learn about computational bottlenecks, build technology and communities"
   ]
  },
  {
   "cell_type": "markdown",
   "id": "b1decb86",
   "metadata": {
    "slideshow": {
     "slide_type": "slide"
    }
   },
   "source": [
    "# Prerequisites"
   ]
  },
  {
   "cell_type": "markdown",
   "id": "0d6e6809",
   "metadata": {
    "cell_style": "split",
    "slideshow": {
     "slide_type": ""
    }
   },
   "source": [
    "## Calculus\n",
    "\n",
    "* Fundamental Theorem of Calculus\n",
    "* Differentiate and integrate polynomials\n",
    "* Taylor series\n",
    "* Gradients (we'll introduce and discuss)\n",
    "\n",
    "We won't use integral tricks (and any time you spent on that was a waste; sorry)"
   ]
  },
  {
   "cell_type": "markdown",
   "id": "008e0174",
   "metadata": {
    "cell_style": "split"
   },
   "source": [
    "## Linear Algebra\n",
    "\n",
    "* vector spaces, orthogonality\n",
    "* QR factorization\n",
    "* projectors, reflectors, and rotations (will teach)\n",
    "\n",
    "We'll never compute RREF or eigenvalues by hand (and any time you spent on that was a waste; sorry)"
   ]
  },
  {
   "cell_type": "markdown",
   "id": "7d4939f4",
   "metadata": {
    "slideshow": {
     "slide_type": "slide"
    }
   },
   "source": [
    "# What is Numerical Computation?"
   ]
  },
  {
   "cell_type": "markdown",
   "id": "c138664f",
   "metadata": {
    "cell_style": "split"
   },
   "source": [
    "From [Trefethen (1992)](https://people.maths.ox.ac.uk/trefethen/publication/PDF/1992_55.pdf)\n",
    "\n",
    "> Here is the wrong answer:\n",
    ">> Numerical analysis is the study of rounding errors."
   ]
  },
  {
   "cell_type": "markdown",
   "id": "8ea0f7cc",
   "metadata": {
    "cell_style": "split",
    "slideshow": {
     "slide_type": "fragment"
    }
   },
   "source": [
    "Trefethen goes on to propose\n",
    ">> Numerical analysis is the study of algorithms for the problems of continuous mathematics."
   ]
  },
  {
   "cell_type": "markdown",
   "id": "e3ddf39b",
   "metadata": {
    "cell_style": "split",
    "slideshow": {
     "slide_type": "fragment"
    }
   },
   "source": [
    "## Continuous mathematics\n",
    "\n",
    "* real and complex numbers $a \\in \\mathbb R$\n",
    "* vectors $\\mathbf x \\in \\mathbb R^n$\n",
    "* matrices $A \\in \\mathbb R^{m\\times n}$\n",
    "* functions $f: \\mathbb R \\to \\mathbb R$\n",
    "* higher order functions: $g(f)$"
   ]
  },
  {
   "cell_type": "markdown",
   "id": "c5a8bd60",
   "metadata": {
    "cell_style": "split"
   },
   "source": [
    "## Finite vs Infinite algorithms\n",
    "\n",
    "* Compute the matrix product $A B$\n",
    "* Solve $A x = b$ for $x$\n",
    "* Compute the eigenvalues $\\lambda$ of $A \\in \\mathbb R^{10\\times 10}$\n",
    "* Compute $\\int_a^b f(x)$"
   ]
  },
  {
   "cell_type": "markdown",
   "id": "347a2da3",
   "metadata": {
    "cell_style": "split",
    "slideshow": {
     "slide_type": "slide"
    }
   },
   "source": [
    "# Rootfinding\n",
    "\n",
    "Given $f(x)$, find $x$ such that $f(x) = 0$.\n",
    "\n",
    "* Cost\n",
    "  * Evaluation of $f(x)$ and perhaps derivatives $f'(x)$.\n",
    "  * Other arithmetic\n",
    "* Convergence: how many evaluations to reach a given accuracy?\n",
    "* Robustness: does the algorithm always converge?"
   ]
  },
  {
   "cell_type": "code",
   "execution_count": 3,
   "id": "7e55dd6f",
   "metadata": {
    "cell_style": "split",
    "slideshow": {
     "slide_type": "fragment"
    }
   },
   "outputs": [
    {
     "data": {
      "image/svg+xml": [
       "<?xml version=\"1.0\" encoding=\"utf-8\"?>\n",
       "<svg xmlns=\"http://www.w3.org/2000/svg\" xmlns:xlink=\"http://www.w3.org/1999/xlink\" width=\"600\" height=\"400\" viewBox=\"0 0 2400 1600\">\n",
       "<defs>\n",
       "  <clipPath id=\"clip210\">\n",
       "    <rect x=\"0\" y=\"0\" width=\"2400\" height=\"1600\"/>\n",
       "  </clipPath>\n",
       "</defs>\n",
       "<path clip-path=\"url(#clip210)\" d=\"\n",
       "M0 1600 L2400 1600 L2400 0 L0 0  Z\n",
       "  \" fill=\"#ffffff\" fill-rule=\"evenodd\" fill-opacity=\"1\"/>\n",
       "<defs>\n",
       "  <clipPath id=\"clip211\">\n",
       "    <rect x=\"480\" y=\"0\" width=\"1681\" height=\"1600\"/>\n",
       "  </clipPath>\n",
       "</defs>\n",
       "<path clip-path=\"url(#clip210)\" d=\"\n",
       "M178.867 1486.45 L2352.76 1486.45 L2352.76 47.2441 L178.867 47.2441  Z\n",
       "  \" fill=\"#ffffff\" fill-rule=\"evenodd\" fill-opacity=\"1\"/>\n",
       "<defs>\n",
       "  <clipPath id=\"clip212\">\n",
       "    <rect x=\"178\" y=\"47\" width=\"2175\" height=\"1440\"/>\n",
       "  </clipPath>\n",
       "</defs>\n",
       "<polyline clip-path=\"url(#clip212)\" style=\"stroke:#000000; stroke-linecap:butt; stroke-linejoin:round; stroke-width:2; stroke-opacity:0.1; fill:none\" points=\"\n",
       "  377.114,1486.45 377.114,47.2441 \n",
       "  \"/>\n",
       "<polyline clip-path=\"url(#clip212)\" style=\"stroke:#000000; stroke-linecap:butt; stroke-linejoin:round; stroke-width:2; stroke-opacity:0.1; fill:none\" points=\"\n",
       "  924.005,1486.45 924.005,47.2441 \n",
       "  \"/>\n",
       "<polyline clip-path=\"url(#clip212)\" style=\"stroke:#000000; stroke-linecap:butt; stroke-linejoin:round; stroke-width:2; stroke-opacity:0.1; fill:none\" points=\"\n",
       "  1470.9,1486.45 1470.9,47.2441 \n",
       "  \"/>\n",
       "<polyline clip-path=\"url(#clip212)\" style=\"stroke:#000000; stroke-linecap:butt; stroke-linejoin:round; stroke-width:2; stroke-opacity:0.1; fill:none\" points=\"\n",
       "  2017.79,1486.45 2017.79,47.2441 \n",
       "  \"/>\n",
       "<polyline clip-path=\"url(#clip210)\" style=\"stroke:#000000; stroke-linecap:butt; stroke-linejoin:round; stroke-width:4; stroke-opacity:1; fill:none\" points=\"\n",
       "  178.867,1486.45 2352.76,1486.45 \n",
       "  \"/>\n",
       "<polyline clip-path=\"url(#clip210)\" style=\"stroke:#000000; stroke-linecap:butt; stroke-linejoin:round; stroke-width:4; stroke-opacity:1; fill:none\" points=\"\n",
       "  377.114,1486.45 377.114,1467.55 \n",
       "  \"/>\n",
       "<polyline clip-path=\"url(#clip210)\" style=\"stroke:#000000; stroke-linecap:butt; stroke-linejoin:round; stroke-width:4; stroke-opacity:1; fill:none\" points=\"\n",
       "  924.005,1486.45 924.005,1467.55 \n",
       "  \"/>\n",
       "<polyline clip-path=\"url(#clip210)\" style=\"stroke:#000000; stroke-linecap:butt; stroke-linejoin:round; stroke-width:4; stroke-opacity:1; fill:none\" points=\"\n",
       "  1470.9,1486.45 1470.9,1467.55 \n",
       "  \"/>\n",
       "<polyline clip-path=\"url(#clip210)\" style=\"stroke:#000000; stroke-linecap:butt; stroke-linejoin:round; stroke-width:4; stroke-opacity:1; fill:none\" points=\"\n",
       "  2017.79,1486.45 2017.79,1467.55 \n",
       "  \"/>\n",
       "<path clip-path=\"url(#clip210)\" d=\"M347.057 1532.02 L376.732 1532.02 L376.732 1535.95 L347.057 1535.95 L347.057 1532.02 Z\" fill=\"#000000\" fill-rule=\"evenodd\" fill-opacity=\"1\" /><path clip-path=\"url(#clip210)\" d=\"M390.853 1544.91 L407.172 1544.91 L407.172 1548.85 L385.228 1548.85 L385.228 1544.91 Q387.89 1542.16 392.473 1537.53 Q397.08 1532.88 398.26 1531.53 Q400.505 1529.01 401.385 1527.27 Q402.288 1525.51 402.288 1523.82 Q402.288 1521.07 400.343 1519.33 Q398.422 1517.6 395.32 1517.6 Q393.121 1517.6 390.668 1518.36 Q388.237 1519.13 385.459 1520.68 L385.459 1515.95 Q388.283 1514.82 390.737 1514.24 Q393.191 1513.66 395.228 1513.66 Q400.598 1513.66 403.792 1516.35 Q406.987 1519.03 406.987 1523.52 Q406.987 1525.65 406.177 1527.57 Q405.39 1529.47 403.283 1532.07 Q402.705 1532.74 399.603 1535.95 Q396.501 1539.15 390.853 1544.91 Z\" fill=\"#000000\" fill-rule=\"evenodd\" fill-opacity=\"1\" /><path clip-path=\"url(#clip210)\" d=\"M924.005 1517.37 Q920.394 1517.37 918.565 1520.93 Q916.759 1524.47 916.759 1531.6 Q916.759 1538.71 918.565 1542.27 Q920.394 1545.82 924.005 1545.82 Q927.639 1545.82 929.445 1542.27 Q931.273 1538.71 931.273 1531.6 Q931.273 1524.47 929.445 1520.93 Q927.639 1517.37 924.005 1517.37 M924.005 1513.66 Q929.815 1513.66 932.87 1518.27 Q935.949 1522.85 935.949 1531.6 Q935.949 1540.33 932.87 1544.94 Q929.815 1549.52 924.005 1549.52 Q918.195 1549.52 915.116 1544.94 Q912.06 1540.33 912.06 1531.6 Q912.06 1522.85 915.116 1518.27 Q918.195 1513.66 924.005 1513.66 Z\" fill=\"#000000\" fill-rule=\"evenodd\" fill-opacity=\"1\" /><path clip-path=\"url(#clip210)\" d=\"M1465.55 1544.91 L1481.87 1544.91 L1481.87 1548.85 L1459.92 1548.85 L1459.92 1544.91 Q1462.59 1542.16 1467.17 1537.53 Q1471.77 1532.88 1472.96 1531.53 Q1475.2 1529.01 1476.08 1527.27 Q1476.98 1525.51 1476.98 1523.82 Q1476.98 1521.07 1475.04 1519.33 Q1473.12 1517.6 1470.02 1517.6 Q1467.82 1517.6 1465.36 1518.36 Q1462.93 1519.13 1460.15 1520.68 L1460.15 1515.95 Q1462.98 1514.82 1465.43 1514.24 Q1467.89 1513.66 1469.92 1513.66 Q1475.29 1513.66 1478.49 1516.35 Q1481.68 1519.03 1481.68 1523.52 Q1481.68 1525.65 1480.87 1527.57 Q1480.08 1529.47 1477.98 1532.07 Q1477.4 1532.74 1474.3 1535.95 Q1471.2 1539.15 1465.55 1544.91 Z\" fill=\"#000000\" fill-rule=\"evenodd\" fill-opacity=\"1\" /><path clip-path=\"url(#clip210)\" d=\"M2020.79 1518.36 L2008.99 1536.81 L2020.79 1536.81 L2020.79 1518.36 M2019.57 1514.29 L2025.45 1514.29 L2025.45 1536.81 L2030.38 1536.81 L2030.38 1540.7 L2025.45 1540.7 L2025.45 1548.85 L2020.79 1548.85 L2020.79 1540.7 L2005.19 1540.7 L2005.19 1536.19 L2019.57 1514.29 Z\" fill=\"#000000\" fill-rule=\"evenodd\" fill-opacity=\"1\" /><polyline clip-path=\"url(#clip212)\" style=\"stroke:#000000; stroke-linecap:butt; stroke-linejoin:round; stroke-width:2; stroke-opacity:0.1; fill:none\" points=\"\n",
       "  178.867,1186.91 2352.76,1186.91 \n",
       "  \"/>\n",
       "<polyline clip-path=\"url(#clip212)\" style=\"stroke:#000000; stroke-linecap:butt; stroke-linejoin:round; stroke-width:2; stroke-opacity:0.1; fill:none\" points=\"\n",
       "  178.867,838.59 2352.76,838.59 \n",
       "  \"/>\n",
       "<polyline clip-path=\"url(#clip212)\" style=\"stroke:#000000; stroke-linecap:butt; stroke-linejoin:round; stroke-width:2; stroke-opacity:0.1; fill:none\" points=\"\n",
       "  178.867,490.271 2352.76,490.271 \n",
       "  \"/>\n",
       "<polyline clip-path=\"url(#clip212)\" style=\"stroke:#000000; stroke-linecap:butt; stroke-linejoin:round; stroke-width:2; stroke-opacity:0.1; fill:none\" points=\"\n",
       "  178.867,141.952 2352.76,141.952 \n",
       "  \"/>\n",
       "<polyline clip-path=\"url(#clip210)\" style=\"stroke:#000000; stroke-linecap:butt; stroke-linejoin:round; stroke-width:4; stroke-opacity:1; fill:none\" points=\"\n",
       "  178.867,1486.45 178.867,47.2441 \n",
       "  \"/>\n",
       "<polyline clip-path=\"url(#clip210)\" style=\"stroke:#000000; stroke-linecap:butt; stroke-linejoin:round; stroke-width:4; stroke-opacity:1; fill:none\" points=\"\n",
       "  178.867,1186.91 197.764,1186.91 \n",
       "  \"/>\n",
       "<polyline clip-path=\"url(#clip210)\" style=\"stroke:#000000; stroke-linecap:butt; stroke-linejoin:round; stroke-width:4; stroke-opacity:1; fill:none\" points=\"\n",
       "  178.867,838.59 197.764,838.59 \n",
       "  \"/>\n",
       "<polyline clip-path=\"url(#clip210)\" style=\"stroke:#000000; stroke-linecap:butt; stroke-linejoin:round; stroke-width:4; stroke-opacity:1; fill:none\" points=\"\n",
       "  178.867,490.271 197.764,490.271 \n",
       "  \"/>\n",
       "<polyline clip-path=\"url(#clip210)\" style=\"stroke:#000000; stroke-linecap:butt; stroke-linejoin:round; stroke-width:4; stroke-opacity:1; fill:none\" points=\"\n",
       "  178.867,141.952 197.764,141.952 \n",
       "  \"/>\n",
       "<path clip-path=\"url(#clip210)\" d=\"M50.9921 1187.36 L80.6679 1187.36 L80.6679 1191.3 L50.9921 1191.3 L50.9921 1187.36 Z\" fill=\"#000000\" fill-rule=\"evenodd\" fill-opacity=\"1\" /><path clip-path=\"url(#clip210)\" d=\"M94.7882 1200.25 L111.108 1200.25 L111.108 1204.19 L89.1632 1204.19 L89.1632 1200.25 Q91.8252 1197.5 96.4085 1192.87 Q101.015 1188.22 102.196 1186.87 Q104.441 1184.35 105.321 1182.61 Q106.223 1180.86 106.223 1179.17 Q106.223 1176.41 104.279 1174.68 Q102.358 1172.94 99.2558 1172.94 Q97.0567 1172.94 94.603 1173.7 Q92.1725 1174.47 89.3947 1176.02 L89.3947 1171.3 Q92.2188 1170.16 94.6724 1169.58 Q97.1261 1169 99.1632 1169 Q104.534 1169 107.728 1171.69 Q110.922 1174.37 110.922 1178.86 Q110.922 1180.99 110.112 1182.92 Q109.325 1184.81 107.219 1187.41 Q106.64 1188.08 103.538 1191.3 Q100.436 1194.49 94.7882 1200.25 Z\" fill=\"#000000\" fill-rule=\"evenodd\" fill-opacity=\"1\" /><path clip-path=\"url(#clip210)\" d=\"M130.922 1172.71 Q127.311 1172.71 125.482 1176.27 Q123.677 1179.81 123.677 1186.94 Q123.677 1194.05 125.482 1197.61 Q127.311 1201.16 130.922 1201.16 Q134.556 1201.16 136.362 1197.61 Q138.191 1194.05 138.191 1186.94 Q138.191 1179.81 136.362 1176.27 Q134.556 1172.71 130.922 1172.71 M130.922 1169 Q136.732 1169 139.788 1173.61 Q142.867 1178.19 142.867 1186.94 Q142.867 1195.67 139.788 1200.28 Q136.732 1204.86 130.922 1204.86 Q125.112 1204.86 122.033 1200.28 Q118.978 1195.67 118.978 1186.94 Q118.978 1178.19 122.033 1173.61 Q125.112 1169 130.922 1169 Z\" fill=\"#000000\" fill-rule=\"evenodd\" fill-opacity=\"1\" /><path clip-path=\"url(#clip210)\" d=\"M130.922 824.389 Q127.311 824.389 125.482 827.953 Q123.677 831.495 123.677 838.625 Q123.677 845.731 125.482 849.296 Q127.311 852.837 130.922 852.837 Q134.556 852.837 136.362 849.296 Q138.191 845.731 138.191 838.625 Q138.191 831.495 136.362 827.953 Q134.556 824.389 130.922 824.389 M130.922 820.685 Q136.732 820.685 139.788 825.291 Q142.867 829.875 142.867 838.625 Q142.867 847.351 139.788 851.958 Q136.732 856.541 130.922 856.541 Q125.112 856.541 122.033 851.958 Q118.978 847.351 118.978 838.625 Q118.978 829.875 122.033 825.291 Q125.112 820.685 130.922 820.685 Z\" fill=\"#000000\" fill-rule=\"evenodd\" fill-opacity=\"1\" /><path clip-path=\"url(#clip210)\" d=\"M94.7882 503.616 L111.108 503.616 L111.108 507.551 L89.1632 507.551 L89.1632 503.616 Q91.8252 500.861 96.4085 496.231 Q101.015 491.579 102.196 490.236 Q104.441 487.713 105.321 485.977 Q106.223 484.218 106.223 482.528 Q106.223 479.773 104.279 478.037 Q102.358 476.301 99.2558 476.301 Q97.0567 476.301 94.603 477.065 Q92.1725 477.829 89.3947 479.38 L89.3947 474.657 Q92.2188 473.523 94.6724 472.945 Q97.1261 472.366 99.1632 472.366 Q104.534 472.366 107.728 475.051 Q110.922 477.736 110.922 482.227 Q110.922 484.356 110.112 486.278 Q109.325 488.176 107.219 490.769 Q106.64 491.44 103.538 494.657 Q100.436 497.852 94.7882 503.616 Z\" fill=\"#000000\" fill-rule=\"evenodd\" fill-opacity=\"1\" /><path clip-path=\"url(#clip210)\" d=\"M130.922 476.07 Q127.311 476.07 125.482 479.634 Q123.677 483.176 123.677 490.306 Q123.677 497.412 125.482 500.977 Q127.311 504.518 130.922 504.518 Q134.556 504.518 136.362 500.977 Q138.191 497.412 138.191 490.306 Q138.191 483.176 136.362 479.634 Q134.556 476.07 130.922 476.07 M130.922 472.366 Q136.732 472.366 139.788 476.972 Q142.867 481.556 142.867 490.306 Q142.867 499.032 139.788 503.639 Q136.732 508.222 130.922 508.222 Q125.112 508.222 122.033 503.639 Q118.978 499.032 118.978 490.306 Q118.978 481.556 122.033 476.972 Q125.112 472.366 130.922 472.366 Z\" fill=\"#000000\" fill-rule=\"evenodd\" fill-opacity=\"1\" /><path clip-path=\"url(#clip210)\" d=\"M103.608 128.746 L91.8021 147.195 L103.608 147.195 L103.608 128.746 M102.381 124.672 L108.26 124.672 L108.26 147.195 L113.191 147.195 L113.191 151.084 L108.26 151.084 L108.26 159.232 L103.608 159.232 L103.608 151.084 L88.0058 151.084 L88.0058 146.57 L102.381 124.672 Z\" fill=\"#000000\" fill-rule=\"evenodd\" fill-opacity=\"1\" /><path clip-path=\"url(#clip210)\" d=\"M130.922 127.75 Q127.311 127.75 125.482 131.315 Q123.677 134.857 123.677 141.987 Q123.677 149.093 125.482 152.658 Q127.311 156.199 130.922 156.199 Q134.556 156.199 136.362 152.658 Q138.191 149.093 138.191 141.987 Q138.191 134.857 136.362 131.315 Q134.556 127.75 130.922 127.75 M130.922 124.047 Q136.732 124.047 139.788 128.653 Q142.867 133.237 142.867 141.987 Q142.867 150.713 139.788 155.32 Q136.732 159.903 130.922 159.903 Q125.112 159.903 122.033 155.32 Q118.978 150.713 118.978 141.987 Q118.978 133.237 122.033 128.653 Q125.112 124.047 130.922 124.047 Z\" fill=\"#000000\" fill-rule=\"evenodd\" fill-opacity=\"1\" /><polyline clip-path=\"url(#clip212)\" style=\"stroke:#009af9; stroke-linecap:butt; stroke-linejoin:round; stroke-width:12; stroke-opacity:1; fill:none\" points=\"\n",
       "  240.392,822.319 260.42,822.336 445.609,821.712 556.9,820.144 650.995,817.698 753.208,813.609 847.44,808.524 948.466,802.204 1065.52,795.779 1169.53,794.532 \n",
       "  1260.75,801.313 1310.48,809.951 1360.2,823.267 1410.22,842.391 1460.24,868.257 1515.54,905.783 1570.85,953.543 1623.47,1008.79 1676.09,1073.13 1730.8,1148.02 \n",
       "  1785.51,1227.81 1831.57,1294.87 1877.63,1356.99 1905.74,1389.91 1933.86,1417.03 1961.97,1436.37 1990.09,1445.72 2016.52,1443.15 2042.94,1427.24 2056.16,1413.5 \n",
       "  2069.37,1395.46 2082.59,1372.78 2095.8,1345.09 2116.97,1289.36 2138.14,1218.23 2148.73,1176.37 2159.31,1130.04 2169.9,1079.02 2180.48,1023.09 2191.07,962.028 \n",
       "  2201.65,895.611 2212.24,823.616 2222.83,745.817 2233.41,661.991 2244,571.913 2254.58,475.36 2265.17,372.112 2271.68,305.131 2278.2,235.481 2284.71,163.112 \n",
       "  2291.23,87.9763 \n",
       "  \"/>\n",
       "<polyline clip-path=\"url(#clip212)\" style=\"stroke:#e26f46; stroke-linecap:butt; stroke-linejoin:round; stroke-width:12; stroke-opacity:1; fill:none\" points=\"\n",
       "  240.392,838.59 260.42,838.59 445.609,838.59 556.9,838.59 650.995,838.59 753.208,838.59 847.44,838.59 948.466,838.59 1065.52,838.59 1169.53,838.59 \n",
       "  1260.75,838.59 1360.2,838.59 1460.24,838.59 1570.85,838.59 1676.09,838.59 1785.51,838.59 1877.63,838.59 1990.09,838.59 2095.8,838.59 2265.17,838.59 \n",
       "  2291.23,838.59 \n",
       "  \"/>\n",
       "<path clip-path=\"url(#clip210)\" d=\"\n",
       "M1986.32 250.738 L2280.29 250.738 L2280.29 95.2176 L1986.32 95.2176  Z\n",
       "  \" fill=\"#ffffff\" fill-rule=\"evenodd\" fill-opacity=\"1\"/>\n",
       "<polyline clip-path=\"url(#clip210)\" style=\"stroke:#000000; stroke-linecap:butt; stroke-linejoin:round; stroke-width:4; stroke-opacity:1; fill:none\" points=\"\n",
       "  1986.32,250.738 2280.29,250.738 2280.29,95.2176 1986.32,95.2176 1986.32,250.738 \n",
       "  \"/>\n",
       "<polyline clip-path=\"url(#clip210)\" style=\"stroke:#009af9; stroke-linecap:butt; stroke-linejoin:round; stroke-width:4; stroke-opacity:1; fill:none\" points=\"\n",
       "  2010.47,147.058 2155.4,147.058 \n",
       "  \"/>\n",
       "<path clip-path=\"url(#clip210)\" d=\"M2193.4 166.745 Q2191.59 171.375 2189.88 172.787 Q2188.17 174.199 2185.29 174.199 L2181.89 174.199 L2181.89 170.634 L2184.39 170.634 Q2186.15 170.634 2187.12 169.8 Q2188.1 168.967 2189.28 165.865 L2190.04 163.921 L2179.55 138.412 L2184.07 138.412 L2192.17 158.689 L2200.27 138.412 L2204.79 138.412 L2193.4 166.745 Z\" fill=\"#000000\" fill-rule=\"evenodd\" fill-opacity=\"1\" /><path clip-path=\"url(#clip210)\" d=\"M2212.08 160.402 L2219.72 160.402 L2219.72 134.037 L2211.41 135.703 L2211.41 131.444 L2219.67 129.778 L2224.35 129.778 L2224.35 160.402 L2231.98 160.402 L2231.98 164.338 L2212.08 164.338 L2212.08 160.402 Z\" fill=\"#000000\" fill-rule=\"evenodd\" fill-opacity=\"1\" /><polyline clip-path=\"url(#clip210)\" style=\"stroke:#e26f46; stroke-linecap:butt; stroke-linejoin:round; stroke-width:4; stroke-opacity:1; fill:none\" points=\"\n",
       "  2010.47,198.898 2155.4,198.898 \n",
       "  \"/>\n",
       "<path clip-path=\"url(#clip210)\" d=\"M2193.4 218.585 Q2191.59 223.215 2189.88 224.627 Q2188.17 226.039 2185.29 226.039 L2181.89 226.039 L2181.89 222.474 L2184.39 222.474 Q2186.15 222.474 2187.12 221.64 Q2188.1 220.807 2189.28 217.705 L2190.04 215.761 L2179.55 190.252 L2184.07 190.252 L2192.17 210.529 L2200.27 190.252 L2204.79 190.252 L2193.4 218.585 Z\" fill=\"#000000\" fill-rule=\"evenodd\" fill-opacity=\"1\" /><path clip-path=\"url(#clip210)\" d=\"M2215.29 212.242 L2231.61 212.242 L2231.61 216.178 L2209.67 216.178 L2209.67 212.242 Q2212.33 209.488 2216.91 204.858 Q2221.52 200.205 2222.7 198.863 Q2224.95 196.34 2225.83 194.604 Q2226.73 192.844 2226.73 191.155 Q2226.73 188.4 2224.79 186.664 Q2222.86 184.928 2219.76 184.928 Q2217.56 184.928 2215.11 185.692 Q2212.68 186.455 2209.9 188.006 L2209.9 183.284 Q2212.73 182.15 2215.18 181.571 Q2217.63 180.993 2219.67 180.993 Q2225.04 180.993 2228.23 183.678 Q2231.43 186.363 2231.43 190.854 Q2231.43 192.983 2230.62 194.905 Q2229.83 196.803 2227.73 199.395 Q2227.15 200.067 2224.04 203.284 Q2220.94 206.479 2215.29 212.242 Z\" fill=\"#000000\" fill-rule=\"evenodd\" fill-opacity=\"1\" /></svg>\n"
      ]
     },
     "execution_count": 3,
     "metadata": {},
     "output_type": "execute_result"
    }
   ],
   "source": [
    "using Plots\n",
    "default(linewidth=3)\n",
    "\n",
    "f(x) = exp(x) * cos(x) + 1\n",
    "plot([f, x -> 0], xlims=[-2.5, 5])"
   ]
  },
  {
   "cell_type": "markdown",
   "id": "53f643a4",
   "metadata": {
    "slideshow": {
     "slide_type": "slide"
    }
   },
   "source": [
    "# Numerical linear algebra"
   ]
  },
  {
   "cell_type": "markdown",
   "id": "c1e9f4c2",
   "metadata": {
    "cell_style": "split"
   },
   "source": [
    "## Finite algorithms for factorization\n",
    "* $QR = A$, such that $Q^T Q = I$ and $R$ is right-triangular.\n",
    "* $L U = A$, such that $L$ and $U$ are lower and upper triangular, respectively.\n",
    "\n",
    "## Infinite (iterative) algorithms\n",
    "\n",
    "* $X \\Lambda X^{-1} = A$ where $\\Lambda$ is diagonal.\n",
    "* $U \\Sigma V^T = A$, such that $U^T U = I$, $V^T V = I$, and $\\Sigma$ is diagonal with nonnegative entries.\n",
    "* Iterative solution of $Ax=b$ using Krylov basis $\\{b, Ab, A^2b, \\dotsc \\}$"
   ]
  },
  {
   "cell_type": "markdown",
   "id": "8b37a91a",
   "metadata": {
    "cell_style": "split"
   },
   "source": [
    "## Concepts\n",
    "* Accurate estimates of cost\n",
    "* Orthogonality, null spaces, projections\n",
    "* Geometry and modeling\n",
    "* Stable and backwards-stable algorithms\n",
    "* Conditioning\n",
    "* Develop a language in which to frame many concepts in the course"
   ]
  },
  {
   "cell_type": "markdown",
   "id": "8733c954",
   "metadata": {
    "slideshow": {
     "slide_type": "slide"
    }
   },
   "source": [
    "# Approximating functions from data"
   ]
  },
  {
   "cell_type": "markdown",
   "id": "32c2308d",
   "metadata": {
    "cell_style": "split"
   },
   "source": [
    "## Interpolation\n",
    "\n",
    "Given samples $(x_0, f(x_0)), (x_1, f(x_1)), \\dotsc$, determine an easily-computable function $g(x)$ that **exactly** fits these samples and behaves **sensibly** in between."
   ]
  },
  {
   "cell_type": "markdown",
   "id": "b4d7c50f",
   "metadata": {
    "cell_style": "split"
   },
   "source": [
    "## Regression\n",
    "\n",
    "Given **noisy** data $(x_0, y_0), (x_1, y_1), \\dotsc$, determine an easily-computable function $g(x)$ that **explains** these data."
   ]
  },
  {
   "cell_type": "markdown",
   "id": "47155e79",
   "metadata": {},
   "source": [
    "We will need to make subjective choices to specify a problem with a unique solution."
   ]
  },
  {
   "cell_type": "markdown",
   "id": "9dc52632",
   "metadata": {
    "slideshow": {
     "slide_type": "slide"
    }
   },
   "source": [
    "# Calculus: functions of functions"
   ]
  },
  {
   "cell_type": "markdown",
   "id": "52ddbd39",
   "metadata": {
    "cell_style": "split"
   },
   "source": [
    "## Differentiation\n",
    "\n",
    "Given a function $f(x)$ (as a computer program or callable function), define a new function\n",
    "\n",
    "$$g(x) \\approx f'(x). $$\n",
    "\n",
    "We can do this\n",
    "* Numerically (black box)\n",
    "* By-hand code transformation\n",
    "* Automatic code transformation"
   ]
  },
  {
   "cell_type": "markdown",
   "id": "86575335",
   "metadata": {
    "cell_style": "split"
   },
   "source": [
    "## Integration\n",
    "Given a function $f(x)$ (as a computer program or callable function), approximate the integral\n",
    "\n",
    "$$ \\int_a^b f(x) . $$"
   ]
  },
  {
   "cell_type": "markdown",
   "id": "585e42e5",
   "metadata": {
    "slideshow": {
     "slide_type": "slide"
    }
   },
   "source": [
    "# Numerical optimization\n",
    "\n",
    "Given a scalar function $f(x)$ (and perhaps its gradient $f'(x)$), determine\n",
    "$$ x_* = \\operatorname{argmin}_x f(x) . $$"
   ]
  },
  {
   "cell_type": "markdown",
   "id": "e74328db",
   "metadata": {
    "slideshow": {
     "slide_type": "slide"
    }
   },
   "source": [
    "# Differential equations\n",
    "\n",
    "Given a dynamical system\n",
    "$$ \\frac{\\partial u(t)}{\\partial t} = f(u(t)), $$\n",
    "and initial condition $u(0) = u_0$, estimate $u(t)$ for arbitrary $t$."
   ]
  },
  {
   "cell_type": "markdown",
   "id": "6d0376df",
   "metadata": {
    "slideshow": {
     "slide_type": "slide"
    }
   },
   "source": [
    "# Higher dimensions\n",
    "\n",
    "Many of these algorithms will generalize to functions of multiple variables.  Different algorithms may be needed for such \"high-dimensional\" problems."
   ]
  },
  {
   "cell_type": "markdown",
   "id": "a181eea5",
   "metadata": {
    "slideshow": {
     "slide_type": "slide"
    }
   },
   "source": [
    "# Computer Science = Runnable Abstraction Science"
   ]
  },
  {
   "cell_type": "markdown",
   "id": "b66498d2",
   "metadata": {
    "cell_style": "split"
   },
   "source": [
    "## In the \"grinder\"\n",
    "* Mathematical language and principles for each major class of method\n",
    "  * What is covered by theory\n",
    "  * When you're venturing off-trail\n",
    "  * Analytic tools to predict and debug\n",
    "* Realistic cost and exploitable structure\n",
    "  * Performance on modern hardware\n",
    "* Write/modify stand-alone code\n",
    "* Select and use (parallel) libraries"
   ]
  },
  {
   "cell_type": "markdown",
   "id": "ad132037",
   "metadata": {
    "cell_style": "split"
   },
   "source": [
    "## How can you trust the solution?\n",
    "* Verification: solving the problem right\n",
    "* Validation: solving the right problem\n",
    "\n",
    "## Abstractions/collaboration\n",
    "* Domain scientists, engineers\n",
    "* Optimizers, statisticians\n",
    "* Abstractions that reduce cognitive load\n",
    "* Metrics/visualization for decisions"
   ]
  },
  {
   "cell_type": "markdown",
   "id": "d910b1c2",
   "metadata": {
    "slideshow": {
     "slide_type": "slide"
    }
   },
   "source": [
    "# On programming languages"
   ]
  },
  {
   "cell_type": "markdown",
   "id": "1b6d3017",
   "metadata": {
    "cell_style": "split"
   },
   "source": [
    "## C\n",
    "Reliable and popular for libraries (PETSc, etc.). \"Simple\", unsafe, capable of encapsulation.\n",
    "\n",
    "## C++\n",
    "Popular with applications and some libraries. Powerful, but complicated and unsafe.\n",
    "\n",
    "## Fortran\n",
    "The OG of numerical computing. Good for \"array programming\", but encapsulation is hard. Unsafe depending on dialect."
   ]
  },
  {
   "cell_type": "markdown",
   "id": "19695d74",
   "metadata": {
    "cell_style": "split"
   },
   "source": [
    "## Julia\n",
    "For ground-up examples in class and in activities. Capable of high performance, expressive multiple dispatch, works well in a notebook. Error messages are not great.\n",
    "\n",
    "## Python\n",
    "Good access to JIT, though with sharp edges. Poor native performance, but good libraries to compiled code.\n",
    "\n",
    "## Rust\n",
    "New compiled language. Good performance, encapsulation, safety, static analysis. Poor libraries (so far)."
   ]
  },
  {
   "cell_type": "markdown",
   "id": "9e462589",
   "metadata": {},
   "source": [
    "You don't need to know any of these well and you can choose the language for your project."
   ]
  },
  {
   "cell_type": "markdown",
   "id": "51106d86",
   "metadata": {
    "slideshow": {
     "slide_type": "slide"
    }
   },
   "source": [
    "<img src=\"../img/Butler1988-Table1.png\" width=\"80%\" />"
   ]
  },
  {
   "cell_type": "markdown",
   "id": "a69f134c",
   "metadata": {
    "slideshow": {
     "slide_type": "slide"
    }
   },
   "source": [
    "# I won't grade and I won't waste your time"
   ]
  },
  {
   "cell_type": "markdown",
   "id": "1ad89faa",
   "metadata": {
    "cell_style": "center",
    "slideshow": {
     "slide_type": "fragment"
    }
   },
   "source": [
    "<div class=\"floatleft70\"\n",
    "\n",
    "  * I will provide feedback   \n",
    "  * I will be a mentor and guide navigating this field\n",
    "  * I will help you get what you want out of the class (with a dash of wholesome context)\n",
    "\n",
    "  > My mom said, \"basically, your professor is asking you to be an adult\". That was too flexible.\n",
    "\n",
    "  > In other classes, I didn’t feel like I could bounce back, but in this one I did.\n",
    "</div>\n",
    "\n",
    "<div class=\"floatright30\">\n",
    "<a href=\"https://www.wvupressonline.com/ungrading\"><img src=\"../img/Ungrading.jpg\" width=\"100%\" /></a>\n",
    "</div>"
   ]
  },
  {
   "cell_type": "markdown",
   "id": "8b1167b9",
   "metadata": {
    "slideshow": {
     "slide_type": "slide"
    }
   },
   "source": [
    "# What about the letter grade?"
   ]
  },
  {
   "cell_type": "markdown",
   "id": "748b2379",
   "metadata": {
    "slideshow": {
     "slide_type": "fragment"
    }
   },
   "source": [
    "* Collect a portfolio of the work and insights you're most proud of\n",
    "* Individual meetings during the last week of the semester (mid-term preview)\n",
    "* We'll have a conversation and you'll propose a grade based on your portfolio\n",
    "  * I'll trust you."
   ]
  },
  {
   "cell_type": "markdown",
   "id": "6e66274a",
   "metadata": {
    "slideshow": {
     "slide_type": "fragment"
    }
   },
   "source": [
    "*I can nudge upward when students are too modest -- pretty common. In rare cases, I may adjust down.*"
   ]
  },
  {
   "cell_type": "markdown",
   "id": "123c7b1c",
   "metadata": {
    "slideshow": {
     "slide_type": "slide"
    }
   },
   "source": [
    "# What I need from you: Growth Mindset\n",
    "\n",
    "<img src=\"../img/Henry2019-Table1.png\" width=\"90%\" />"
   ]
  },
  {
   "cell_type": "markdown",
   "id": "47fe3ae4",
   "metadata": {
    "slideshow": {
     "slide_type": "slide"
    }
   },
   "source": [
    "# How will the semester look?"
   ]
  },
  {
   "cell_type": "markdown",
   "id": "583d6bfb",
   "metadata": {
    "cell_style": "split"
   },
   "source": [
    "## Lecture periods\n",
    "* Refresh, introduce, activity/group discussion, reflect\n",
    "* Pointers to further resources/activities\n",
    "\n",
    "## In-class and homework activities\n",
    "* (Short) coding, experiments, presentation of results\n",
    "* Use the math and programming tools of the field\n",
    "* Open-ended, go further occasionally\n",
    "\n",
    "## Learning plans\n",
    "* Write, track, and revise a personal learning plan.\n",
    "* Meet/chat approx weekly to check in with partner"
   ]
  },
  {
   "cell_type": "markdown",
   "id": "c3f5351b",
   "metadata": {
    "cell_style": "split"
   },
   "source": [
    "## Projects (second half of semester)\n",
    "* Dig into community software that implements or relies on numerical computation\n",
    "* Short presentation on how the community works\n",
    " * Key stakeholders\n",
    " * Strengths and weaknesses\n",
    "* Discuss and critique\n",
    "\n",
    "## Original study or contribution\n",
    "* Tutorial, documentation, performance study, comparison, new features, new application\n",
    "* Reflect in a short presentation"
   ]
  },
  {
   "cell_type": "markdown",
   "id": "fc3d6bd3",
   "metadata": {
    "slideshow": {
     "slide_type": "slide"
    }
   },
   "source": [
    "# Expectations"
   ]
  },
  {
   "cell_type": "markdown",
   "id": "36d6ec3a",
   "metadata": {
    "cell_style": "split"
   },
   "source": [
    "1. Attend class (in-person or virtual) and participate in discussions\n",
    "2. Make an honest attempt on activities\n",
    "3. Interact with the class notebooks and read reference material\n",
    "4. Set goals and track your progress\n",
    "  * revise these goals as you learn more\n",
    "5. Meet/chat with your partner weekly for at least a few minutes\n",
    "  * share how lecture and activities are going\n",
    "  * share your goals and how you're progressing\n",
    "  * identify questions"
   ]
  },
  {
   "cell_type": "markdown",
   "id": "df6203f5",
   "metadata": {
    "cell_style": "split"
   },
   "source": [
    "6. Ask or answer at least one question per week\n",
    "  * ask a question that you don't know the answer to\n",
    "  * ask a question that you do know the answer to, but you think will be a good exercise/seed for discussion \n",
    "  * ask me during office hours, write up your best understanding\n",
    "  * make a meme relevant to the class\n",
    "  * raise a concern or suggestion that you and/or peers have\n",
    "  * contribute an answer or relevant discussion to any of the above\n",
    "7. Individual and group projects\n"
   ]
  },
  {
   "cell_type": "markdown",
   "id": "a473030e",
   "metadata": {
    "slideshow": {
     "slide_type": "slide"
    }
   },
   "source": [
    "# Tools"
   ]
  },
  {
   "cell_type": "markdown",
   "id": "61105cbb",
   "metadata": {
    "cell_style": "split"
   },
   "source": [
    "## Git and GitHub\n",
    "\n",
    "* GitHub Classroom to manage repositories\n",
    "* Write using notebooks and markdown\n",
    "* Review using GitHub tools and nbgrader\n",
    "\n",
    "## Zulip\n",
    "\n",
    "* math- and code-aware team chat\n",
    "* live, informal\n",
    "* thread managemnet so a question in class can spin off into a deeper asynchronous conversation"
   ]
  },
  {
   "cell_type": "markdown",
   "id": "7850eace",
   "metadata": {
    "cell_style": "split"
   },
   "source": [
    "## Jupyter\n",
    "\n",
    "* RISE slides available on website\n",
    "* Activities with scaffolding\n",
    "* Nbgrader for writing feedback\n",
    "* Works with many languages; we'll mostly use Julia\n",
    "* Collaborative mode (new)\n",
    "\n",
    "## JupyterHub: [coding.csel.io](https://coding.csel.io)\n",
    "* Nothing to install, persistent storage\n",
    "* Select CSCI-3656 tile"
   ]
  },
  {
   "cell_type": "markdown",
   "id": "b5c127a2",
   "metadata": {
    "slideshow": {
     "slide_type": "slide"
    }
   },
   "source": [
    "# A note about COVID"
   ]
  },
  {
   "cell_type": "markdown",
   "id": "857b4dec",
   "metadata": {
    "cell_style": "split"
   },
   "source": [
    "![](../img/boulder-county-cases-2022-01-09.png)"
   ]
  },
  {
   "cell_type": "markdown",
   "id": "9044801a",
   "metadata": {
    "cell_style": "split"
   },
   "source": [
    "* Boulder County cases are high and increasing\n",
    "* Breakthrough cases are very common with Omicron\n",
    "* I have a 1yo and 4yo in childcare\n",
    "* Pediatric hospitals are overwhelmed\n",
    "* They need to stay home and be tested any time they have symptoms\n",
    "\n",
    "![](../img/neve-testing-2022-01-09.png)"
   ]
  },
  {
   "cell_type": "markdown",
   "id": "d210807d",
   "metadata": {},
   "source": [
    "* I'd prefer to do virtual office hours until 7-day average new cases drops below 30/day or my child can be vaccinated.\n",
    "* I'll likely be home with a kid and need to teach remotely or otherwise make it up to you"
   ]
  },
  {
   "cell_type": "markdown",
   "id": "400fc848",
   "metadata": {
    "cell_style": "split",
    "slideshow": {
     "slide_type": "slide"
    }
   },
   "source": [
    "# Poll: What is floating point arithmetic?"
   ]
  },
  {
   "cell_type": "markdown",
   "id": "73e46069",
   "metadata": {
    "cell_style": "split",
    "slideshow": {
     "slide_type": ""
    }
   },
   "source": [
    "1. fuzzy arithmetic\n",
    "2. exact arithmetic, correctly rounded\n",
    "3. the primary focus of numerical analysis"
   ]
  },
  {
   "cell_type": "code",
   "execution_count": 14,
   "id": "b3206a55",
   "metadata": {
    "cell_style": "split"
   },
   "outputs": [
    {
     "data": {
      "text/plain": [
       "0.30000000000000004"
      ]
     },
     "execution_count": 14,
     "metadata": {},
     "output_type": "execute_result"
    }
   ],
   "source": [
    "0.1 + 0.2\n"
   ]
  },
  {
   "cell_type": "code",
   "execution_count": 15,
   "id": "e2726136",
   "metadata": {
    "cell_style": "split",
    "slideshow": {
     "slide_type": "fragment"
    }
   },
   "outputs": [
    {
     "data": {
      "image/svg+xml": [
       "<?xml version=\"1.0\" encoding=\"utf-8\"?>\n",
       "<svg xmlns=\"http://www.w3.org/2000/svg\" xmlns:xlink=\"http://www.w3.org/1999/xlink\" width=\"600\" height=\"400\" viewBox=\"0 0 2400 1600\">\n",
       "<defs>\n",
       "  <clipPath id=\"clip040\">\n",
       "    <rect x=\"0\" y=\"0\" width=\"2400\" height=\"1600\"/>\n",
       "  </clipPath>\n",
       "</defs>\n",
       "<path clip-path=\"url(#clip040)\" d=\"\n",
       "M0 1600 L2400 1600 L2400 0 L0 0  Z\n",
       "  \" fill=\"#ffffff\" fill-rule=\"evenodd\" fill-opacity=\"1\"/>\n",
       "<defs>\n",
       "  <clipPath id=\"clip041\">\n",
       "    <rect x=\"480\" y=\"0\" width=\"1681\" height=\"1600\"/>\n",
       "  </clipPath>\n",
       "</defs>\n",
       "<path clip-path=\"url(#clip040)\" d=\"\n",
       "M192.941 1486.45 L2352.76 1486.45 L2352.76 47.2441 L192.941 47.2441  Z\n",
       "  \" fill=\"#ffffff\" fill-rule=\"evenodd\" fill-opacity=\"1\"/>\n",
       "<defs>\n",
       "  <clipPath id=\"clip042\">\n",
       "    <rect x=\"192\" y=\"47\" width=\"2161\" height=\"1440\"/>\n",
       "  </clipPath>\n",
       "</defs>\n",
       "<polyline clip-path=\"url(#clip042)\" style=\"stroke:#000000; stroke-linecap:butt; stroke-linejoin:round; stroke-width:2; stroke-opacity:0.1; fill:none\" points=\"\n",
       "  457.824,1486.45 457.824,47.2441 \n",
       "  \"/>\n",
       "<polyline clip-path=\"url(#clip042)\" style=\"stroke:#000000; stroke-linecap:butt; stroke-linejoin:round; stroke-width:2; stroke-opacity:0.1; fill:none\" points=\"\n",
       "  865.336,1486.45 865.336,47.2441 \n",
       "  \"/>\n",
       "<polyline clip-path=\"url(#clip042)\" style=\"stroke:#000000; stroke-linecap:butt; stroke-linejoin:round; stroke-width:2; stroke-opacity:0.1; fill:none\" points=\"\n",
       "  1272.85,1486.45 1272.85,47.2441 \n",
       "  \"/>\n",
       "<polyline clip-path=\"url(#clip042)\" style=\"stroke:#000000; stroke-linecap:butt; stroke-linejoin:round; stroke-width:2; stroke-opacity:0.1; fill:none\" points=\"\n",
       "  1680.36,1486.45 1680.36,47.2441 \n",
       "  \"/>\n",
       "<polyline clip-path=\"url(#clip042)\" style=\"stroke:#000000; stroke-linecap:butt; stroke-linejoin:round; stroke-width:2; stroke-opacity:0.1; fill:none\" points=\"\n",
       "  2087.87,1486.45 2087.87,47.2441 \n",
       "  \"/>\n",
       "<polyline clip-path=\"url(#clip040)\" style=\"stroke:#000000; stroke-linecap:butt; stroke-linejoin:round; stroke-width:4; stroke-opacity:1; fill:none\" points=\"\n",
       "  192.941,1486.45 2352.76,1486.45 \n",
       "  \"/>\n",
       "<polyline clip-path=\"url(#clip040)\" style=\"stroke:#000000; stroke-linecap:butt; stroke-linejoin:round; stroke-width:4; stroke-opacity:1; fill:none\" points=\"\n",
       "  457.824,1486.45 457.824,1467.55 \n",
       "  \"/>\n",
       "<polyline clip-path=\"url(#clip040)\" style=\"stroke:#000000; stroke-linecap:butt; stroke-linejoin:round; stroke-width:4; stroke-opacity:1; fill:none\" points=\"\n",
       "  865.336,1486.45 865.336,1467.55 \n",
       "  \"/>\n",
       "<polyline clip-path=\"url(#clip040)\" style=\"stroke:#000000; stroke-linecap:butt; stroke-linejoin:round; stroke-width:4; stroke-opacity:1; fill:none\" points=\"\n",
       "  1272.85,1486.45 1272.85,1467.55 \n",
       "  \"/>\n",
       "<polyline clip-path=\"url(#clip040)\" style=\"stroke:#000000; stroke-linecap:butt; stroke-linejoin:round; stroke-width:4; stroke-opacity:1; fill:none\" points=\"\n",
       "  1680.36,1486.45 1680.36,1467.55 \n",
       "  \"/>\n",
       "<polyline clip-path=\"url(#clip040)\" style=\"stroke:#000000; stroke-linecap:butt; stroke-linejoin:round; stroke-width:4; stroke-opacity:1; fill:none\" points=\"\n",
       "  2087.87,1486.45 2087.87,1467.55 \n",
       "  \"/>\n",
       "<path clip-path=\"url(#clip040)\" d=\"M426.724 1532.02 L456.4 1532.02 L456.4 1535.95 L426.724 1535.95 L426.724 1532.02 Z\" fill=\"#000000\" fill-rule=\"evenodd\" fill-opacity=\"1\" /><path clip-path=\"url(#clip040)\" d=\"M479.34 1518.36 L467.534 1536.81 L479.34 1536.81 L479.34 1518.36 M478.113 1514.29 L483.992 1514.29 L483.992 1536.81 L488.923 1536.81 L488.923 1540.7 L483.992 1540.7 L483.992 1548.85 L479.34 1548.85 L479.34 1540.7 L463.738 1540.7 L463.738 1536.19 L478.113 1514.29 Z\" fill=\"#000000\" fill-rule=\"evenodd\" fill-opacity=\"1\" /><path clip-path=\"url(#clip040)\" d=\"M835.278 1532.02 L864.954 1532.02 L864.954 1535.95 L835.278 1535.95 L835.278 1532.02 Z\" fill=\"#000000\" fill-rule=\"evenodd\" fill-opacity=\"1\" /><path clip-path=\"url(#clip040)\" d=\"M879.074 1544.91 L895.394 1544.91 L895.394 1548.85 L873.449 1548.85 L873.449 1544.91 Q876.111 1542.16 880.695 1537.53 Q885.301 1532.88 886.482 1531.53 Q888.727 1529.01 889.607 1527.27 Q890.509 1525.51 890.509 1523.82 Q890.509 1521.07 888.565 1519.33 Q886.644 1517.6 883.542 1517.6 Q881.343 1517.6 878.889 1518.36 Q876.459 1519.13 873.681 1520.68 L873.681 1515.95 Q876.505 1514.82 878.959 1514.24 Q881.412 1513.66 883.449 1513.66 Q888.82 1513.66 892.014 1516.35 Q895.208 1519.03 895.208 1523.52 Q895.208 1525.65 894.398 1527.57 Q893.611 1529.47 891.505 1532.07 Q890.926 1532.74 887.824 1535.95 Q884.722 1539.15 879.074 1544.91 Z\" fill=\"#000000\" fill-rule=\"evenodd\" fill-opacity=\"1\" /><path clip-path=\"url(#clip040)\" d=\"M1272.85 1517.37 Q1269.24 1517.37 1267.41 1520.93 Q1265.6 1524.47 1265.6 1531.6 Q1265.6 1538.71 1267.41 1542.27 Q1269.24 1545.82 1272.85 1545.82 Q1276.48 1545.82 1278.29 1542.27 Q1280.12 1538.71 1280.12 1531.6 Q1280.12 1524.47 1278.29 1520.93 Q1276.48 1517.37 1272.85 1517.37 M1272.85 1513.66 Q1278.66 1513.66 1281.71 1518.27 Q1284.79 1522.85 1284.79 1531.6 Q1284.79 1540.33 1281.71 1544.94 Q1278.66 1549.52 1272.85 1549.52 Q1267.04 1549.52 1263.96 1544.94 Q1260.9 1540.33 1260.9 1531.6 Q1260.9 1522.85 1263.96 1518.27 Q1267.04 1513.66 1272.85 1513.66 Z\" fill=\"#000000\" fill-rule=\"evenodd\" fill-opacity=\"1\" /><path clip-path=\"url(#clip040)\" d=\"M1675.01 1544.91 L1691.33 1544.91 L1691.33 1548.85 L1669.39 1548.85 L1669.39 1544.91 Q1672.05 1542.16 1676.63 1537.53 Q1681.24 1532.88 1682.42 1531.53 Q1684.67 1529.01 1685.55 1527.27 Q1686.45 1525.51 1686.45 1523.82 Q1686.45 1521.07 1684.5 1519.33 Q1682.58 1517.6 1679.48 1517.6 Q1677.28 1517.6 1674.83 1518.36 Q1672.4 1519.13 1669.62 1520.68 L1669.62 1515.95 Q1672.44 1514.82 1674.9 1514.24 Q1677.35 1513.66 1679.39 1513.66 Q1684.76 1513.66 1687.95 1516.35 Q1691.15 1519.03 1691.15 1523.52 Q1691.15 1525.65 1690.34 1527.57 Q1689.55 1529.47 1687.44 1532.07 Q1686.87 1532.74 1683.76 1535.95 Q1680.66 1539.15 1675.01 1544.91 Z\" fill=\"#000000\" fill-rule=\"evenodd\" fill-opacity=\"1\" /><path clip-path=\"url(#clip040)\" d=\"M2090.88 1518.36 L2079.08 1536.81 L2090.88 1536.81 L2090.88 1518.36 M2089.66 1514.29 L2095.53 1514.29 L2095.53 1536.81 L2100.47 1536.81 L2100.47 1540.7 L2095.53 1540.7 L2095.53 1548.85 L2090.88 1548.85 L2090.88 1540.7 L2075.28 1540.7 L2075.28 1536.19 L2089.66 1514.29 Z\" fill=\"#000000\" fill-rule=\"evenodd\" fill-opacity=\"1\" /><polyline clip-path=\"url(#clip042)\" style=\"stroke:#000000; stroke-linecap:butt; stroke-linejoin:round; stroke-width:2; stroke-opacity:0.1; fill:none\" points=\"\n",
       "  192.941,1242.05 2352.76,1242.05 \n",
       "  \"/>\n",
       "<polyline clip-path=\"url(#clip042)\" style=\"stroke:#000000; stroke-linecap:butt; stroke-linejoin:round; stroke-width:2; stroke-opacity:0.1; fill:none\" points=\"\n",
       "  192.941,902.62 2352.76,902.62 \n",
       "  \"/>\n",
       "<polyline clip-path=\"url(#clip042)\" style=\"stroke:#000000; stroke-linecap:butt; stroke-linejoin:round; stroke-width:2; stroke-opacity:0.1; fill:none\" points=\"\n",
       "  192.941,563.185 2352.76,563.185 \n",
       "  \"/>\n",
       "<polyline clip-path=\"url(#clip042)\" style=\"stroke:#000000; stroke-linecap:butt; stroke-linejoin:round; stroke-width:2; stroke-opacity:0.1; fill:none\" points=\"\n",
       "  192.941,223.75 2352.76,223.75 \n",
       "  \"/>\n",
       "<polyline clip-path=\"url(#clip040)\" style=\"stroke:#000000; stroke-linecap:butt; stroke-linejoin:round; stroke-width:4; stroke-opacity:1; fill:none\" points=\"\n",
       "  192.941,1486.45 192.941,47.2441 \n",
       "  \"/>\n",
       "<polyline clip-path=\"url(#clip040)\" style=\"stroke:#000000; stroke-linecap:butt; stroke-linejoin:round; stroke-width:4; stroke-opacity:1; fill:none\" points=\"\n",
       "  192.941,1242.05 211.838,1242.05 \n",
       "  \"/>\n",
       "<polyline clip-path=\"url(#clip040)\" style=\"stroke:#000000; stroke-linecap:butt; stroke-linejoin:round; stroke-width:4; stroke-opacity:1; fill:none\" points=\"\n",
       "  192.941,902.62 211.838,902.62 \n",
       "  \"/>\n",
       "<polyline clip-path=\"url(#clip040)\" style=\"stroke:#000000; stroke-linecap:butt; stroke-linejoin:round; stroke-width:4; stroke-opacity:1; fill:none\" points=\"\n",
       "  192.941,563.185 211.838,563.185 \n",
       "  \"/>\n",
       "<polyline clip-path=\"url(#clip040)\" style=\"stroke:#000000; stroke-linecap:butt; stroke-linejoin:round; stroke-width:4; stroke-opacity:1; fill:none\" points=\"\n",
       "  192.941,223.75 211.838,223.75 \n",
       "  \"/>\n",
       "<path clip-path=\"url(#clip040)\" d=\"M50.9921 1242.51 L80.6679 1242.51 L80.6679 1246.44 L50.9921 1246.44 L50.9921 1242.51 Z\" fill=\"#000000\" fill-rule=\"evenodd\" fill-opacity=\"1\" /><path clip-path=\"url(#clip040)\" d=\"M94.7882 1255.4 L111.108 1255.4 L111.108 1259.33 L89.1632 1259.33 L89.1632 1255.4 Q91.8252 1252.65 96.4085 1248.02 Q101.015 1243.36 102.196 1242.02 Q104.441 1239.5 105.321 1237.76 Q106.223 1236 106.223 1234.31 Q106.223 1231.56 104.279 1229.82 Q102.358 1228.08 99.2558 1228.08 Q97.0567 1228.08 94.603 1228.85 Q92.1725 1229.61 89.3947 1231.16 L89.3947 1226.44 Q92.2188 1225.31 94.6724 1224.73 Q97.1261 1224.15 99.1632 1224.15 Q104.534 1224.15 107.728 1226.83 Q110.922 1229.52 110.922 1234.01 Q110.922 1236.14 110.112 1238.06 Q109.325 1239.96 107.219 1242.55 Q106.64 1243.22 103.538 1246.44 Q100.436 1249.64 94.7882 1255.4 Z\" fill=\"#000000\" fill-rule=\"evenodd\" fill-opacity=\"1\" /><path clip-path=\"url(#clip040)\" d=\"M120.922 1253.46 L125.807 1253.46 L125.807 1259.33 L120.922 1259.33 L120.922 1253.46 Z\" fill=\"#000000\" fill-rule=\"evenodd\" fill-opacity=\"1\" /><path clip-path=\"url(#clip040)\" d=\"M136.038 1224.77 L154.394 1224.77 L154.394 1228.71 L140.32 1228.71 L140.32 1237.18 Q141.339 1236.83 142.357 1236.67 Q143.376 1236.49 144.394 1236.49 Q150.181 1236.49 153.561 1239.66 Q156.941 1242.83 156.941 1248.25 Q156.941 1253.83 153.468 1256.93 Q149.996 1260.01 143.677 1260.01 Q141.501 1260.01 139.232 1259.64 Q136.987 1259.27 134.58 1258.52 L134.58 1253.83 Q136.663 1254.96 138.885 1255.52 Q141.107 1256.07 143.584 1256.07 Q147.589 1256.07 149.927 1253.96 Q152.265 1251.86 152.265 1248.25 Q152.265 1244.64 149.927 1242.53 Q147.589 1240.42 143.584 1240.42 Q141.709 1240.42 139.834 1240.84 Q137.982 1241.26 136.038 1242.14 L136.038 1224.77 Z\" fill=\"#000000\" fill-rule=\"evenodd\" fill-opacity=\"1\" /><path clip-path=\"url(#clip040)\" d=\"M99.765 888.419 Q96.1539 888.419 94.3252 891.983 Q92.5197 895.525 92.5197 902.655 Q92.5197 909.761 94.3252 913.326 Q96.1539 916.868 99.765 916.868 Q103.399 916.868 105.205 913.326 Q107.033 909.761 107.033 902.655 Q107.033 895.525 105.205 891.983 Q103.399 888.419 99.765 888.419 M99.765 884.715 Q105.575 884.715 108.631 889.321 Q111.709 893.905 111.709 902.655 Q111.709 911.381 108.631 915.988 Q105.575 920.571 99.765 920.571 Q93.9549 920.571 90.8762 915.988 Q87.8206 911.381 87.8206 902.655 Q87.8206 893.905 90.8762 889.321 Q93.9549 884.715 99.765 884.715 Z\" fill=\"#000000\" fill-rule=\"evenodd\" fill-opacity=\"1\" /><path clip-path=\"url(#clip040)\" d=\"M119.927 914.02 L124.811 914.02 L124.811 919.9 L119.927 919.9 L119.927 914.02 Z\" fill=\"#000000\" fill-rule=\"evenodd\" fill-opacity=\"1\" /><path clip-path=\"url(#clip040)\" d=\"M144.996 888.419 Q141.385 888.419 139.556 891.983 Q137.751 895.525 137.751 902.655 Q137.751 909.761 139.556 913.326 Q141.385 916.868 144.996 916.868 Q148.63 916.868 150.436 913.326 Q152.265 909.761 152.265 902.655 Q152.265 895.525 150.436 891.983 Q148.63 888.419 144.996 888.419 M144.996 884.715 Q150.806 884.715 153.862 889.321 Q156.941 893.905 156.941 902.655 Q156.941 911.381 153.862 915.988 Q150.806 920.571 144.996 920.571 Q139.186 920.571 136.107 915.988 Q133.052 911.381 133.052 902.655 Q133.052 893.905 136.107 889.321 Q139.186 884.715 144.996 884.715 Z\" fill=\"#000000\" fill-rule=\"evenodd\" fill-opacity=\"1\" /><path clip-path=\"url(#clip040)\" d=\"M94.7882 576.53 L111.108 576.53 L111.108 580.465 L89.1632 580.465 L89.1632 576.53 Q91.8252 573.775 96.4085 569.146 Q101.015 564.493 102.196 563.15 Q104.441 560.627 105.321 558.891 Q106.223 557.132 106.223 555.442 Q106.223 552.687 104.279 550.951 Q102.358 549.215 99.2558 549.215 Q97.0567 549.215 94.603 549.979 Q92.1725 550.743 89.3947 552.294 L89.3947 547.572 Q92.2188 546.437 94.6724 545.859 Q97.1261 545.28 99.1632 545.28 Q104.534 545.28 107.728 547.965 Q110.922 550.65 110.922 555.141 Q110.922 557.271 110.112 559.192 Q109.325 561.09 107.219 563.683 Q106.64 564.354 103.538 567.572 Q100.436 570.766 94.7882 576.53 Z\" fill=\"#000000\" fill-rule=\"evenodd\" fill-opacity=\"1\" /><path clip-path=\"url(#clip040)\" d=\"M120.922 574.585 L125.807 574.585 L125.807 580.465 L120.922 580.465 L120.922 574.585 Z\" fill=\"#000000\" fill-rule=\"evenodd\" fill-opacity=\"1\" /><path clip-path=\"url(#clip040)\" d=\"M136.038 545.905 L154.394 545.905 L154.394 549.84 L140.32 549.84 L140.32 558.312 Q141.339 557.965 142.357 557.803 Q143.376 557.618 144.394 557.618 Q150.181 557.618 153.561 560.789 Q156.941 563.961 156.941 569.377 Q156.941 574.956 153.468 578.058 Q149.996 581.136 143.677 581.136 Q141.501 581.136 139.232 580.766 Q136.987 580.396 134.58 579.655 L134.58 574.956 Q136.663 576.09 138.885 576.646 Q141.107 577.201 143.584 577.201 Q147.589 577.201 149.927 575.095 Q152.265 572.988 152.265 569.377 Q152.265 565.766 149.927 563.66 Q147.589 561.553 143.584 561.553 Q141.709 561.553 139.834 561.97 Q137.982 562.386 136.038 563.266 L136.038 545.905 Z\" fill=\"#000000\" fill-rule=\"evenodd\" fill-opacity=\"1\" /><path clip-path=\"url(#clip040)\" d=\"M89.8114 206.47 L108.168 206.47 L108.168 210.405 L94.0937 210.405 L94.0937 218.878 Q95.1123 218.53 96.1308 218.368 Q97.1493 218.183 98.1678 218.183 Q103.955 218.183 107.334 221.354 Q110.714 224.526 110.714 229.942 Q110.714 235.521 107.242 238.623 Q103.77 241.702 97.4502 241.702 Q95.2743 241.702 93.0058 241.331 Q90.7604 240.961 88.353 240.22 L88.353 235.521 Q90.4364 236.655 92.6586 237.211 Q94.8808 237.766 97.3576 237.766 Q101.362 237.766 103.7 235.66 Q106.038 233.553 106.038 229.942 Q106.038 226.331 103.7 224.225 Q101.362 222.118 97.3576 222.118 Q95.4826 222.118 93.6076 222.535 Q91.7558 222.952 89.8114 223.831 L89.8114 206.47 Z\" fill=\"#000000\" fill-rule=\"evenodd\" fill-opacity=\"1\" /><path clip-path=\"url(#clip040)\" d=\"M119.927 235.151 L124.811 235.151 L124.811 241.03 L119.927 241.03 L119.927 235.151 Z\" fill=\"#000000\" fill-rule=\"evenodd\" fill-opacity=\"1\" /><path clip-path=\"url(#clip040)\" d=\"M144.996 209.549 Q141.385 209.549 139.556 213.114 Q137.751 216.655 137.751 223.785 Q137.751 230.891 139.556 234.456 Q141.385 237.998 144.996 237.998 Q148.63 237.998 150.436 234.456 Q152.265 230.891 152.265 223.785 Q152.265 216.655 150.436 213.114 Q148.63 209.549 144.996 209.549 M144.996 205.845 Q150.806 205.845 153.862 210.452 Q156.941 215.035 156.941 223.785 Q156.941 232.512 153.862 237.118 Q150.806 241.702 144.996 241.702 Q139.186 241.702 136.107 237.118 Q133.052 232.512 133.052 223.785 Q133.052 215.035 136.107 210.452 Q139.186 205.845 144.996 205.845 Z\" fill=\"#000000\" fill-rule=\"evenodd\" fill-opacity=\"1\" /><polyline clip-path=\"url(#clip042)\" style=\"stroke:#009af9; stroke-linecap:butt; stroke-linejoin:round; stroke-width:12; stroke-opacity:1; fill:none\" points=\"\n",
       "  254.067,1445.72 273.966,1432.46 457.956,1309.85 568.526,1236.17 662.012,1173.88 763.564,1106.21 857.186,1043.82 957.558,976.941 1073.85,899.45 1177.2,830.585 \n",
       "  1267.82,770.196 1366.63,704.357 1466.02,638.126 1575.91,564.899 1680.47,495.226 1789.19,422.781 1880.7,361.799 1992.43,287.346 2097.47,217.358 2265.73,105.232 \n",
       "  2291.63,87.9763 \n",
       "  \"/>\n",
       "<path clip-path=\"url(#clip040)\" d=\"\n",
       "M1988.35 198.898 L2280.76 198.898 L2280.76 95.2176 L1988.35 95.2176  Z\n",
       "  \" fill=\"#ffffff\" fill-rule=\"evenodd\" fill-opacity=\"1\"/>\n",
       "<polyline clip-path=\"url(#clip040)\" style=\"stroke:#000000; stroke-linecap:butt; stroke-linejoin:round; stroke-width:4; stroke-opacity:1; fill:none\" points=\"\n",
       "  1988.35,198.898 2280.76,198.898 2280.76,95.2176 1988.35,95.2176 1988.35,198.898 \n",
       "  \"/>\n",
       "<polyline clip-path=\"url(#clip040)\" style=\"stroke:#009af9; stroke-linecap:butt; stroke-linejoin:round; stroke-width:4; stroke-opacity:1; fill:none\" points=\"\n",
       "  2012.35,147.058 2156.34,147.058 \n",
       "  \"/>\n",
       "<path clip-path=\"url(#clip040)\" d=\"M2194.18 166.745 Q2192.37 171.375 2190.66 172.787 Q2188.95 174.199 2186.08 174.199 L2182.67 174.199 L2182.67 170.634 L2185.17 170.634 Q2186.93 170.634 2187.91 169.8 Q2188.88 168.967 2190.06 165.865 L2190.82 163.921 L2180.34 138.412 L2184.85 138.412 L2192.95 158.689 L2201.05 138.412 L2205.57 138.412 L2194.18 166.745 Z\" fill=\"#000000\" fill-rule=\"evenodd\" fill-opacity=\"1\" /><path clip-path=\"url(#clip040)\" d=\"M2212.86 160.402 L2220.5 160.402 L2220.5 134.037 L2212.19 135.703 L2212.19 131.444 L2220.45 129.778 L2225.13 129.778 L2225.13 160.402 L2232.77 160.402 L2232.77 164.338 L2212.86 164.338 L2212.86 160.402 Z\" fill=\"#000000\" fill-rule=\"evenodd\" fill-opacity=\"1\" /></svg>\n"
      ]
     },
     "execution_count": 15,
     "metadata": {},
     "output_type": "execute_result"
    }
   ],
   "source": [
    "plot(x -> 1 + x)"
   ]
  },
  {
   "cell_type": "markdown",
   "id": "c49bf903",
   "metadata": {
    "slideshow": {
     "slide_type": "slide"
    }
   },
   "source": [
    "# Machine epsilon\n",
    "\n",
    "We approximate real numbers with **floating point** arithmetic, which can only represent discrete values. In particular, there exists a largest number, which we call $\\epsilon_{\\text{machine}}$, such that\n",
    "$$ 1 \\oplus x = 1 \\quad \\text{for all}\\  \\lvert x \\rvert < \\epsilon_{\\text{machine}}.$$\n",
    "\n",
    "The notation $\\oplus, \\ominus, \\odot, \\oslash$ represent the elementary operation carried out in floating point arithmetic."
   ]
  },
  {
   "cell_type": "code",
   "execution_count": 17,
   "id": "86096208",
   "metadata": {
    "cell_style": "split",
    "slideshow": {
     "slide_type": "fragment"
    }
   },
   "outputs": [
    {
     "data": {
      "text/plain": [
       "1.1102230246251565e-16"
      ]
     },
     "execution_count": 17,
     "metadata": {},
     "output_type": "execute_result"
    }
   ],
   "source": [
    "eps = 1\n",
    "while 1 + eps != 1\n",
    "    eps = eps / 2\n",
    "end\n",
    "eps"
   ]
  },
  {
   "cell_type": "markdown",
   "id": "56fade8b",
   "metadata": {
    "slideshow": {
     "slide_type": "slide"
    }
   },
   "source": [
    "# Beating `exp`\n",
    "\n",
    "$$e^x = 1 + x + \\frac{x^2}{2!} + \\frac{x^3}{3!} + \\dotsb$$\n",
    "\n",
    "Suppose we want to compute $f(x) = e^x - 1$ for small values of $x$."
   ]
  },
  {
   "cell_type": "code",
   "execution_count": 20,
   "id": "282ad48a",
   "metadata": {
    "cell_style": "split"
   },
   "outputs": [
    {
     "data": {
      "text/plain": [
       "9.99999993922529e-9"
      ]
     },
     "execution_count": 20,
     "metadata": {},
     "output_type": "execute_result"
    }
   ],
   "source": [
    "f1(x) = exp(x) - 1\n",
    "y1 = f1(1e-8)"
   ]
  },
  {
   "cell_type": "code",
   "execution_count": 21,
   "id": "eff4a68c",
   "metadata": {
    "cell_style": "split"
   },
   "outputs": [
    {
     "data": {
      "text/plain": [
       "1.000000005e-8"
      ]
     },
     "execution_count": 21,
     "metadata": {},
     "output_type": "execute_result"
    }
   ],
   "source": [
    "f2(x) = x + x^2/2 + x^3/6\n",
    "y2 = f2(1e-8)"
   ]
  },
  {
   "cell_type": "markdown",
   "id": "379682f9",
   "metadata": {},
   "source": [
    "Which answer is more accurate?"
   ]
  },
  {
   "cell_type": "code",
   "execution_count": 27,
   "id": "6081053e",
   "metadata": {},
   "outputs": [
    {
     "name": "stdout",
     "output_type": "stream",
     "text": [
      "y1 - y2 = -1.1077470910720506e-16\n",
      "(y1 - y2) / y2 = -1.1077470855333152e-8\n"
     ]
    }
   ],
   "source": [
    "@show (y1 - y2)        # Absolute difference\n",
    "@show (y1 - y2) / y2;  # Relative difference"
   ]
  }
 ],
 "metadata": {
  "celltoolbar": "Slideshow",
  "kernelspec": {
   "display_name": "Julia 1.6.2",
   "language": "julia",
   "name": "julia-1.6"
  },
  "language_info": {
   "file_extension": ".jl",
   "mimetype": "application/julia",
   "name": "julia",
   "version": "1.7.1"
  },
  "rise": {
   "enable_chalkboard": true
  }
 },
 "nbformat": 4,
 "nbformat_minor": 5
}
