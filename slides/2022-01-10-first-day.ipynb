{
 "cells": [
  {
   "cell_type": "markdown",
   "id": "4159be0e",
   "metadata": {
    "slideshow": {
     "slide_type": "slide"
    }
   },
   "source": [
    "# 2022-01-10 First Day\n",
    "## CSCI-3656: Numerical Computation\n",
    "\n",
    "## Instructor: Jed Brown, jed.brown@colorado.edu, ECOT 824\n",
    "## Meeting: Mon, Wed, Fri at 1:25-12:20 in ECEE 283 (and virtually)\n",
    "\n",
    "1. Who am I?\n",
    "2. What is this course about?\n",
    "3. How will it work?\n",
    "4. Discussion\n",
    "5. (maybe) First activity"
   ]
  },
  {
   "cell_type": "markdown",
   "id": "95019bdd",
   "metadata": {
    "slideshow": {
     "slide_type": "slide"
    }
   },
   "source": [
    "# Who am I?\n",
    "\n",
    "* Jed Brown (he/him); you can call me Jed\n",
    "* Math + Physics undergrad, MS Math, Dr.Sc. Environmental Engineering (Computational Glaciology)\n",
    "* Postdoc and staff at Argonne National Laboratory (DOE Office of Science)\n",
    "* CU since 2015\n",
    "\n",
    "## Physical Prediction, Inference, and Design Group\n",
    "* Develop and maintain open source libraries\n",
    "* Research in fast/parallel algorithms, extensible software\n",
    "* Partner with scientists and engineers in many disciplines: geoscience, aerospace, civil engineering, fusion\n",
    "* Listen, learn about computational bottlenecks, build technology and communities"
   ]
  },
  {
   "cell_type": "markdown",
   "id": "f388545b",
   "metadata": {
    "slideshow": {
     "slide_type": "slide"
    }
   },
   "source": [
    "# Prerequisites"
   ]
  },
  {
   "cell_type": "markdown",
   "id": "1de01fcf",
   "metadata": {
    "cell_style": "split",
    "slideshow": {
     "slide_type": ""
    }
   },
   "source": [
    "## Calculus\n",
    "\n",
    "* Fundamental Theorem of Calculus\n",
    "* Differentiate and integrate polynomials\n",
    "* Taylor series\n",
    "* Gradients (we'll introduce and discuss)\n",
    "\n",
    "We won't use integral tricks (and any time you spent on that was a waste; sorry)"
   ]
  },
  {
   "cell_type": "markdown",
   "id": "b9f2c163",
   "metadata": {
    "cell_style": "split"
   },
   "source": [
    "## Linear Algebra\n",
    "\n",
    "* vector spaces, orthogonality\n",
    "* QR factorization\n",
    "* projectors, reflectors, and rotations (will teach)\n",
    "\n",
    "We'll never compute RREF or eigenvalues by hand (and any time you spent on that was a waste; sorry)"
   ]
  },
  {
   "cell_type": "markdown",
   "id": "c9e89b4e",
   "metadata": {
    "slideshow": {
     "slide_type": "slide"
    }
   },
   "source": [
    "# What is Numerical Computation?"
   ]
  },
  {
   "cell_type": "markdown",
   "id": "8df68434",
   "metadata": {
    "cell_style": "split"
   },
   "source": [
    "From [Trefethen (1992)](https://people.maths.ox.ac.uk/trefethen/publication/PDF/1992_55.pdf)\n",
    "\n",
    "> Here is the wrong answer:\n",
    ">> Numerical analysis is the study of rounding errors."
   ]
  },
  {
   "cell_type": "markdown",
   "id": "e7001c60",
   "metadata": {
    "cell_style": "split",
    "slideshow": {
     "slide_type": "fragment"
    }
   },
   "source": [
    "Trefethen goes on to propose\n",
    ">> Numerical analysis is the study of algorithms for the problems of continuous mathematics."
   ]
  },
  {
   "cell_type": "markdown",
   "id": "83705535",
   "metadata": {
    "cell_style": "split",
    "slideshow": {
     "slide_type": "fragment"
    }
   },
   "source": [
    "## Continuous mathematics\n",
    "\n",
    "* real and complex numbers $a \\in \\mathbb R$\n",
    "* vectors $\\mathbf x \\in \\mathbb R^n$\n",
    "* matrices $A \\in \\mathbb R^{m\\times n}$\n",
    "* functions $f: \\mathbb R \\to \\mathbb R$\n",
    "* higher order functions: $g(f)$"
   ]
  },
  {
   "cell_type": "markdown",
   "id": "ce20ad65",
   "metadata": {
    "cell_style": "split"
   },
   "source": [
    "## Finite vs Infinite algorithms\n",
    "\n",
    "* Compute the matrix product $A B$\n",
    "* Solve $A x = b$ for $x$\n",
    "* Compute the eigenvalues $\\lambda$ of $A \\in \\mathbb R^{10\\times 10}$\n",
    "* Compute $\\int_a^b f(x)$"
   ]
  },
  {
   "cell_type": "markdown",
   "id": "bf7fb315",
   "metadata": {
    "slideshow": {
     "slide_type": "slide"
    }
   },
   "source": [
    "# Kinds of problems"
   ]
  },
  {
   "cell_type": "markdown",
   "id": "a181eea5",
   "metadata": {
    "slideshow": {
     "slide_type": "slide"
    }
   },
   "source": [
    "# Computer Science = Runnable Abstraction Science"
   ]
  },
  {
   "cell_type": "markdown",
   "id": "b66498d2",
   "metadata": {
    "cell_style": "split"
   },
   "source": [
    "## In the \"grinder\"\n",
    "* Mathematical language and principles for each major class of method\n",
    "  * What is covered by theory\n",
    "  * When you're venturing off-trail\n",
    "  * Analytic tools to predict and debug\n",
    "* Realistic cost and exploitable structure\n",
    "  * Performance on modern hardware\n",
    "* Write/modify stand-alone code\n",
    "* Select and use (parallel) libraries"
   ]
  },
  {
   "cell_type": "markdown",
   "id": "ad132037",
   "metadata": {
    "cell_style": "split"
   },
   "source": [
    "## How can you trust the solution?\n",
    "* Verification: solving the problem right\n",
    "* Validation: solving the right problem\n",
    "\n",
    "## Abstractions/collaboration\n",
    "* Domain scientists, engineers\n",
    "* Optimizers, statisticians\n",
    "* Abstractions that reduce cognitive load\n",
    "* Metrics/visualization for decisions"
   ]
  },
  {
   "cell_type": "markdown",
   "id": "d910b1c2",
   "metadata": {
    "slideshow": {
     "slide_type": "slide"
    }
   },
   "source": [
    "# On programming languages"
   ]
  },
  {
   "cell_type": "markdown",
   "id": "1b6d3017",
   "metadata": {
    "cell_style": "split"
   },
   "source": [
    "## C\n",
    "Reliable and popular for libraries (PETSc, etc.). \"Simple\", unsafe, capable of encapsulation.\n",
    "\n",
    "## C++\n",
    "Popular with applications and some libraries. Powerful, but complicated and unsafe.\n",
    "\n",
    "## Fortran\n",
    "The OG of numerical computing. Good for \"array programming\", but encapsulation is hard. Unsafe depending on dialect."
   ]
  },
  {
   "cell_type": "markdown",
   "id": "19695d74",
   "metadata": {
    "cell_style": "split"
   },
   "source": [
    "## Julia\n",
    "For ground-up examples in class and in activities. Capable of high performance, expressive multiple dispatch, works well in a notebook. Error messages are not great.\n",
    "\n",
    "## Python\n",
    "Good access to JIT, though with sharp edges. Poor native performance, but good libraries to compiled code.\n",
    "\n",
    "## Rust\n",
    "New compiled language. Good performance, encapsulation, safety, static analysis. Poor libraries (so far)."
   ]
  },
  {
   "cell_type": "markdown",
   "id": "9e462589",
   "metadata": {},
   "source": [
    "You don't need to know any of these well and you can choose the language for your project."
   ]
  },
  {
   "cell_type": "markdown",
   "id": "51106d86",
   "metadata": {
    "slideshow": {
     "slide_type": "slide"
    }
   },
   "source": [
    "<img src=\"../img/Butler1988-Table1.png\" width=\"80%\" />"
   ]
  },
  {
   "cell_type": "markdown",
   "id": "a69f134c",
   "metadata": {
    "slideshow": {
     "slide_type": "slide"
    }
   },
   "source": [
    "# I won't grade and I won't waste your time"
   ]
  },
  {
   "cell_type": "markdown",
   "id": "1ad89faa",
   "metadata": {
    "cell_style": "center",
    "slideshow": {
     "slide_type": "fragment"
    }
   },
   "source": [
    "<div class=\"floatleft70\"\n",
    "\n",
    "  * I will provide feedback   \n",
    "  * I will be a mentor and guide navigating this field\n",
    "  * I will help you get what you want out of the class (with a dash of wholesome context)\n",
    "\n",
    "  > My mom said, \"basically, your professor is asking you to be an adult\". That was too flexible.\n",
    "\n",
    "  > In other classes, I didn’t feel like I could bounce back, but in this one I did.\n",
    "</div>\n",
    "\n",
    "<div class=\"floatright30\">\n",
    "<a href=\"https://www.wvupressonline.com/ungrading\"><img src=\"../img/Ungrading.jpg\" width=\"100%\" /></a>\n",
    "</div>"
   ]
  },
  {
   "cell_type": "markdown",
   "id": "8b1167b9",
   "metadata": {
    "slideshow": {
     "slide_type": "slide"
    }
   },
   "source": [
    "# What about the letter grade?"
   ]
  },
  {
   "cell_type": "markdown",
   "id": "748b2379",
   "metadata": {
    "slideshow": {
     "slide_type": "fragment"
    }
   },
   "source": [
    "* Collect a portfolio of the work and insights you're most proud of\n",
    "* Individual meetings during the last week of the semester (mid-term preview)\n",
    "* We'll have a conversation and you'll propose a grade based on your portfolio\n",
    "  * I'll trust you."
   ]
  },
  {
   "cell_type": "markdown",
   "id": "6e66274a",
   "metadata": {
    "slideshow": {
     "slide_type": "fragment"
    }
   },
   "source": [
    "*I can nudge upward when students are too modest -- pretty common. In rare cases, I may adjust down.*"
   ]
  },
  {
   "cell_type": "markdown",
   "id": "123c7b1c",
   "metadata": {
    "slideshow": {
     "slide_type": "slide"
    }
   },
   "source": [
    "# What I need from you: Growth Mindset\n",
    "\n",
    "<img src=\"../img/Henry2019-Table1.png\" width=\"90%\" />"
   ]
  },
  {
   "cell_type": "markdown",
   "id": "47fe3ae4",
   "metadata": {
    "slideshow": {
     "slide_type": "slide"
    }
   },
   "source": [
    "# How will the semester look?"
   ]
  },
  {
   "cell_type": "markdown",
   "id": "583d6bfb",
   "metadata": {
    "cell_style": "split"
   },
   "source": [
    "## Lecture periods\n",
    "* Refresh, introduce, activity/group discussion, reflect\n",
    "* Pointers to further resources/activities\n",
    "\n",
    "## In-class and homework activities\n",
    "* (Short) coding, experiments, presentation of results\n",
    "* Use the math and programming tools of the field\n",
    "* Open-ended, go further occasionally\n",
    "\n",
    "## Learning plans\n",
    "* Write, track, and revise a personal learning plan.\n",
    "* Meet/chat approx weekly to check in with partner"
   ]
  },
  {
   "cell_type": "markdown",
   "id": "c3f5351b",
   "metadata": {
    "cell_style": "split"
   },
   "source": [
    "## Projects (second half of semester)\n",
    "* Dig into community software for solving PDEs\n",
    "* Short presentation on how the community works\n",
    " * Key stakeholders\n",
    " * Strengths and weaknesses\n",
    "* Discuss and critique\n",
    "\n",
    "## Community contribution\n",
    "* Tutorial, documentation, performance study, comparison, new features, new application\n",
    "* Reflect in a short presentation"
   ]
  },
  {
   "cell_type": "markdown",
   "id": "a473030e",
   "metadata": {
    "slideshow": {
     "slide_type": "slide"
    }
   },
   "source": [
    "# Tools"
   ]
  },
  {
   "cell_type": "markdown",
   "id": "61105cbb",
   "metadata": {
    "cell_style": "split"
   },
   "source": [
    "## Git and GitHub\n",
    "\n",
    "* GitHub Classroom to manage repositories\n",
    "* Write using notebooks and markdown\n",
    "* Review using GitHub tools and nbgrader\n",
    "\n",
    "## Zulip\n",
    "\n",
    "* math- and code-aware team chat\n",
    "* live, informal\n",
    "* thread managemnet so a question in class can spin off into a deeper asynchronous conversation"
   ]
  },
  {
   "cell_type": "markdown",
   "id": "7850eace",
   "metadata": {
    "cell_style": "split"
   },
   "source": [
    "## Jupyter\n",
    "\n",
    "* RISE slides available on website\n",
    "* Activities with scaffolding\n",
    "* Nbgrader for writing feedback\n",
    "* Works with many languages; we'll mostly use Julia\n",
    "* Collaborative mode (new)\n",
    "\n",
    "## JupyterHub: [coding.csel.io](https://coding.csel.io)\n",
    "* Nothing to install, persistent storage\n",
    "* Select CSCI-3656 tile"
   ]
  },
  {
   "cell_type": "markdown",
   "id": "b5c127a2",
   "metadata": {
    "slideshow": {
     "slide_type": "slide"
    }
   },
   "source": [
    "# A note about COVID"
   ]
  },
  {
   "cell_type": "markdown",
   "id": "857b4dec",
   "metadata": {
    "cell_style": "split"
   },
   "source": [
    "![](../img/boulder-county-cases-2022-01-09.png)"
   ]
  },
  {
   "cell_type": "markdown",
   "id": "9044801a",
   "metadata": {
    "cell_style": "split"
   },
   "source": [
    "* Boulder County cases are high and increasing\n",
    "* Breakthrough cases are very common with Omicron\n",
    "* I have a 1yo and 4yo in childcare\n",
    "* Pediatric hospitals are overwhelmed\n",
    "* They need to stay home and be tested any time they have symptoms\n",
    "\n",
    "![](../img/neve-testing-2022-01-09.png)"
   ]
  },
  {
   "cell_type": "markdown",
   "id": "d210807d",
   "metadata": {},
   "source": [
    "* I'd prefer to do virtual office hours until 7-day average new cases drops below 30/day or my child can be vaccinated.\n",
    "* I'll likely be home with a kid and need to teach remotely or otherwise make it up to you"
   ]
  }
 ],
 "metadata": {
  "celltoolbar": "Slideshow",
  "kernelspec": {
   "display_name": "Julia 1.6.2",
   "language": "julia",
   "name": "julia-1.6"
  },
  "language_info": {
   "file_extension": ".jl",
   "mimetype": "application/julia",
   "name": "julia",
   "version": "1.7.1"
  },
  "rise": {
   "enable_chalkboard": true
  }
 },
 "nbformat": 4,
 "nbformat_minor": 5
}
