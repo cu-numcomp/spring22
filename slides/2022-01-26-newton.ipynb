{
 "cells": [
  {
   "cell_type": "markdown",
   "id": "4159be0e",
   "metadata": {
    "hideCode": false,
    "hidePrompt": false,
    "slideshow": {
     "slide_type": "slide"
    }
   },
   "source": [
    "# 2022-01-26 Newton methods\n",
    "\n",
    "* Office hours: Monday 9-10pm, Tuesday 2-3pm, Thursday 2-3pm\n",
    "* This week will stay virtual. Plan is to start in-person the following Monday (Jan 31)\n",
    "\n",
    "## Last time\n",
    "\n",
    "* Discuss rootfinding as a modeling tool\n",
    "* Limitations of bisection\n",
    "* Convergence classes\n",
    "* Intro to Newton methods\n",
    "\n",
    "## Today\n",
    "\n",
    "* Newton's method via Taylor series\n",
    "* Convergence theory for fixed point methods\n",
    "* Derive Newton's method via convergence theory\n",
    "* Newton methods in computing culture\n",
    "* Breaking Newton's method"
   ]
  },
  {
   "cell_type": "code",
   "execution_count": 56,
   "id": "eb781a7a",
   "metadata": {
    "slideshow": {
     "slide_type": "skip"
    }
   },
   "outputs": [
    {
     "data": {
      "text/plain": [
       "bisect_iter (generic function with 1 method)"
      ]
     },
     "execution_count": 56,
     "metadata": {},
     "output_type": "execute_result"
    }
   ],
   "source": [
    "using Plots\n",
    "default(linewidth=4, legendfontsize=12)\n",
    "\n",
    "f(x) = cos(x) - x\n",
    "hasroot(f, a, b) = f(a) * f(b) < 0\n",
    "function bisect_iter(f, a, b, tol)\n",
    "    hist = Float64[]\n",
    "    while abs(b - a) > tol\n",
    "        mid = (a + b) / 2\n",
    "        push!(hist, mid)\n",
    "        if hasroot(f, a, mid)\n",
    "            b = mid\n",
    "        else\n",
    "            a = mid\n",
    "        end\n",
    "    end\n",
    "    hist\n",
    "end"
   ]
  },
  {
   "cell_type": "markdown",
   "id": "0809feac",
   "metadata": {
    "slideshow": {
     "slide_type": "slide"
    }
   },
   "source": [
    "# Convergence classes"
   ]
  },
  {
   "cell_type": "markdown",
   "id": "63b0c695",
   "metadata": {
    "cell_style": "split",
    "slideshow": {
     "slide_type": ""
    }
   },
   "source": [
    "A convergent rootfinding algorithm produces a sequence of approximations $x_k$ such that $$\\lim_{k \\to \\infty} x_k \\to x_*$$ where $f(x_*) = 0$.  For analysis, it is convenient to define the errors $e_k = x_k - x_*$. We say that an iterative algorithm is **$q$-linearly convergent** if $$\\lim_{k \\to \\infty} |e_{k+1}| / |e_k| = \\rho < 1.$$  (The $q$ is for \"quotient\".)  A smaller convergence factor $\\rho$ represents faster convergence.  A slightly weaker condition ($r$-linear convergence or just **linear convergence**) is that\n",
    "$$ |e_k| \\le \\epsilon_k $$\n",
    "for all sufficiently large $k$ when the sequence $\\{\\epsilon_k\\}$ converges $q$-linearly to 0."
   ]
  },
  {
   "cell_type": "code",
   "execution_count": 2,
   "id": "300477cf",
   "metadata": {
    "cell_style": "split"
   },
   "outputs": [
    {
     "data": {
      "image/svg+xml": [
       "<?xml version=\"1.0\" encoding=\"utf-8\"?>\n",
       "<svg xmlns=\"http://www.w3.org/2000/svg\" xmlns:xlink=\"http://www.w3.org/1999/xlink\" width=\"600\" height=\"400\" viewBox=\"0 0 2400 1600\">\n",
       "<defs>\n",
       "  <clipPath id=\"clip660\">\n",
       "    <rect x=\"0\" y=\"0\" width=\"2400\" height=\"1600\"/>\n",
       "  </clipPath>\n",
       "</defs>\n",
       "<path clip-path=\"url(#clip660)\" d=\"\n",
       "M0 1600 L2400 1600 L2400 0 L0 0  Z\n",
       "  \" fill=\"#ffffff\" fill-rule=\"evenodd\" fill-opacity=\"1\"/>\n",
       "<defs>\n",
       "  <clipPath id=\"clip661\">\n",
       "    <rect x=\"480\" y=\"0\" width=\"1681\" height=\"1600\"/>\n",
       "  </clipPath>\n",
       "</defs>\n",
       "<path clip-path=\"url(#clip660)\" d=\"\n",
       "M213.607 1486.45 L2352.76 1486.45 L2352.76 47.2441 L213.607 47.2441  Z\n",
       "  \" fill=\"#ffffff\" fill-rule=\"evenodd\" fill-opacity=\"1\"/>\n",
       "<defs>\n",
       "  <clipPath id=\"clip662\">\n",
       "    <rect x=\"213\" y=\"47\" width=\"2140\" height=\"1440\"/>\n",
       "  </clipPath>\n",
       "</defs>\n",
       "<polyline clip-path=\"url(#clip662)\" style=\"stroke:#000000; stroke-linecap:butt; stroke-linejoin:round; stroke-width:2; stroke-opacity:0.1; fill:none\" points=\"\n",
       "  214.795,1486.45 214.795,47.2441 \n",
       "  \"/>\n",
       "<polyline clip-path=\"url(#clip662)\" style=\"stroke:#000000; stroke-linecap:butt; stroke-linejoin:round; stroke-width:2; stroke-opacity:0.1; fill:none\" points=\"\n",
       "  808.343,1486.45 808.343,47.2441 \n",
       "  \"/>\n",
       "<polyline clip-path=\"url(#clip662)\" style=\"stroke:#000000; stroke-linecap:butt; stroke-linejoin:round; stroke-width:2; stroke-opacity:0.1; fill:none\" points=\"\n",
       "  1401.89,1486.45 1401.89,47.2441 \n",
       "  \"/>\n",
       "<polyline clip-path=\"url(#clip662)\" style=\"stroke:#000000; stroke-linecap:butt; stroke-linejoin:round; stroke-width:2; stroke-opacity:0.1; fill:none\" points=\"\n",
       "  1995.44,1486.45 1995.44,47.2441 \n",
       "  \"/>\n",
       "<polyline clip-path=\"url(#clip660)\" style=\"stroke:#000000; stroke-linecap:butt; stroke-linejoin:round; stroke-width:4; stroke-opacity:1; fill:none\" points=\"\n",
       "  213.607,1486.45 2352.76,1486.45 \n",
       "  \"/>\n",
       "<polyline clip-path=\"url(#clip660)\" style=\"stroke:#000000; stroke-linecap:butt; stroke-linejoin:round; stroke-width:4; stroke-opacity:1; fill:none\" points=\"\n",
       "  214.795,1486.45 214.795,1467.55 \n",
       "  \"/>\n",
       "<polyline clip-path=\"url(#clip660)\" style=\"stroke:#000000; stroke-linecap:butt; stroke-linejoin:round; stroke-width:4; stroke-opacity:1; fill:none\" points=\"\n",
       "  808.343,1486.45 808.343,1467.55 \n",
       "  \"/>\n",
       "<polyline clip-path=\"url(#clip660)\" style=\"stroke:#000000; stroke-linecap:butt; stroke-linejoin:round; stroke-width:4; stroke-opacity:1; fill:none\" points=\"\n",
       "  1401.89,1486.45 1401.89,1467.55 \n",
       "  \"/>\n",
       "<polyline clip-path=\"url(#clip660)\" style=\"stroke:#000000; stroke-linecap:butt; stroke-linejoin:round; stroke-width:4; stroke-opacity:1; fill:none\" points=\"\n",
       "  1995.44,1486.45 1995.44,1467.55 \n",
       "  \"/>\n",
       "<path clip-path=\"url(#clip660)\" d=\"M214.795 1517.37 Q211.183 1517.37 209.355 1520.93 Q207.549 1524.47 207.549 1531.6 Q207.549 1538.71 209.355 1542.27 Q211.183 1545.82 214.795 1545.82 Q218.429 1545.82 220.234 1542.27 Q222.063 1538.71 222.063 1531.6 Q222.063 1524.47 220.234 1520.93 Q218.429 1517.37 214.795 1517.37 M214.795 1513.66 Q220.605 1513.66 223.66 1518.27 Q226.739 1522.85 226.739 1531.6 Q226.739 1540.33 223.66 1544.94 Q220.605 1549.52 214.795 1549.52 Q208.984 1549.52 205.906 1544.94 Q202.85 1540.33 202.85 1531.6 Q202.85 1522.85 205.906 1518.27 Q208.984 1513.66 214.795 1513.66 Z\" fill=\"#000000\" fill-rule=\"evenodd\" fill-opacity=\"1\" /><path clip-path=\"url(#clip660)\" d=\"M783.031 1544.91 L790.669 1544.91 L790.669 1518.55 L782.359 1520.21 L782.359 1515.95 L790.623 1514.29 L795.299 1514.29 L795.299 1544.91 L802.938 1544.91 L802.938 1548.85 L783.031 1548.85 L783.031 1544.91 Z\" fill=\"#000000\" fill-rule=\"evenodd\" fill-opacity=\"1\" /><path clip-path=\"url(#clip660)\" d=\"M822.382 1517.37 Q818.771 1517.37 816.942 1520.93 Q815.137 1524.47 815.137 1531.6 Q815.137 1538.71 816.942 1542.27 Q818.771 1545.82 822.382 1545.82 Q826.016 1545.82 827.822 1542.27 Q829.651 1538.71 829.651 1531.6 Q829.651 1524.47 827.822 1520.93 Q826.016 1517.37 822.382 1517.37 M822.382 1513.66 Q828.192 1513.66 831.248 1518.27 Q834.327 1522.85 834.327 1531.6 Q834.327 1540.33 831.248 1544.94 Q828.192 1549.52 822.382 1549.52 Q816.572 1549.52 813.493 1544.94 Q810.438 1540.33 810.438 1531.6 Q810.438 1522.85 813.493 1518.27 Q816.572 1513.66 822.382 1513.66 Z\" fill=\"#000000\" fill-rule=\"evenodd\" fill-opacity=\"1\" /><path clip-path=\"url(#clip660)\" d=\"M1380.66 1544.91 L1396.98 1544.91 L1396.98 1548.85 L1375.04 1548.85 L1375.04 1544.91 Q1377.7 1542.16 1382.28 1537.53 Q1386.89 1532.88 1388.07 1531.53 Q1390.32 1529.01 1391.2 1527.27 Q1392.1 1525.51 1392.1 1523.82 Q1392.1 1521.07 1390.16 1519.33 Q1388.23 1517.6 1385.13 1517.6 Q1382.93 1517.6 1380.48 1518.36 Q1378.05 1519.13 1375.27 1520.68 L1375.27 1515.95 Q1378.1 1514.82 1380.55 1514.24 Q1383 1513.66 1385.04 1513.66 Q1390.41 1513.66 1393.6 1516.35 Q1396.8 1519.03 1396.8 1523.52 Q1396.8 1525.65 1395.99 1527.57 Q1395.2 1529.47 1393.1 1532.07 Q1392.52 1532.74 1389.41 1535.95 Q1386.31 1539.15 1380.66 1544.91 Z\" fill=\"#000000\" fill-rule=\"evenodd\" fill-opacity=\"1\" /><path clip-path=\"url(#clip660)\" d=\"M1416.8 1517.37 Q1413.19 1517.37 1411.36 1520.93 Q1409.55 1524.47 1409.55 1531.6 Q1409.55 1538.71 1411.36 1542.27 Q1413.19 1545.82 1416.8 1545.82 Q1420.43 1545.82 1422.24 1542.27 Q1424.07 1538.71 1424.07 1531.6 Q1424.07 1524.47 1422.24 1520.93 Q1420.43 1517.37 1416.8 1517.37 M1416.8 1513.66 Q1422.61 1513.66 1425.66 1518.27 Q1428.74 1522.85 1428.74 1531.6 Q1428.74 1540.33 1425.66 1544.94 Q1422.61 1549.52 1416.8 1549.52 Q1410.99 1549.52 1407.91 1544.94 Q1404.85 1540.33 1404.85 1531.6 Q1404.85 1522.85 1407.91 1518.27 Q1410.99 1513.66 1416.8 1513.66 Z\" fill=\"#000000\" fill-rule=\"evenodd\" fill-opacity=\"1\" /><path clip-path=\"url(#clip660)\" d=\"M1984.28 1530.21 Q1987.64 1530.93 1989.51 1533.2 Q1991.41 1535.47 1991.41 1538.8 Q1991.41 1543.92 1987.89 1546.72 Q1984.38 1549.52 1977.89 1549.52 Q1975.72 1549.52 1973.4 1549.08 Q1971.11 1548.66 1968.66 1547.81 L1968.66 1543.29 Q1970.6 1544.43 1972.92 1545.01 Q1975.23 1545.58 1977.75 1545.58 Q1982.15 1545.58 1984.44 1543.85 Q1986.76 1542.11 1986.76 1538.8 Q1986.76 1535.75 1984.61 1534.03 Q1982.48 1532.3 1978.66 1532.3 L1974.63 1532.3 L1974.63 1528.45 L1978.84 1528.45 Q1982.29 1528.45 1984.12 1527.09 Q1985.95 1525.7 1985.95 1523.11 Q1985.95 1520.45 1984.05 1519.03 Q1982.18 1517.6 1978.66 1517.6 Q1976.74 1517.6 1974.54 1518.01 Q1972.34 1518.43 1969.7 1519.31 L1969.7 1515.14 Q1972.36 1514.4 1974.68 1514.03 Q1977.01 1513.66 1979.07 1513.66 Q1984.4 1513.66 1987.5 1516.09 Q1990.6 1518.5 1990.6 1522.62 Q1990.6 1525.49 1988.96 1527.48 Q1987.31 1529.45 1984.28 1530.21 Z\" fill=\"#000000\" fill-rule=\"evenodd\" fill-opacity=\"1\" /><path clip-path=\"url(#clip660)\" d=\"M2010.28 1517.37 Q2006.67 1517.37 2004.84 1520.93 Q2003.03 1524.47 2003.03 1531.6 Q2003.03 1538.71 2004.84 1542.27 Q2006.67 1545.82 2010.28 1545.82 Q2013.91 1545.82 2015.72 1542.27 Q2017.55 1538.71 2017.55 1531.6 Q2017.55 1524.47 2015.72 1520.93 Q2013.91 1517.37 2010.28 1517.37 M2010.28 1513.66 Q2016.09 1513.66 2019.14 1518.27 Q2022.22 1522.85 2022.22 1531.6 Q2022.22 1540.33 2019.14 1544.94 Q2016.09 1549.52 2010.28 1549.52 Q2004.47 1549.52 2001.39 1544.94 Q1998.33 1540.33 1998.33 1531.6 Q1998.33 1522.85 2001.39 1518.27 Q2004.47 1513.66 2010.28 1513.66 Z\" fill=\"#000000\" fill-rule=\"evenodd\" fill-opacity=\"1\" /><polyline clip-path=\"url(#clip662)\" style=\"stroke:#000000; stroke-linecap:butt; stroke-linejoin:round; stroke-width:2; stroke-opacity:0.1; fill:none\" points=\"\n",
       "  213.607,1415.43 2352.76,1415.43 \n",
       "  \"/>\n",
       "<polyline clip-path=\"url(#clip662)\" style=\"stroke:#000000; stroke-linecap:butt; stroke-linejoin:round; stroke-width:2; stroke-opacity:0.1; fill:none\" points=\"\n",
       "  213.607,771.099 2352.76,771.099 \n",
       "  \"/>\n",
       "<polyline clip-path=\"url(#clip662)\" style=\"stroke:#000000; stroke-linecap:butt; stroke-linejoin:round; stroke-width:2; stroke-opacity:0.1; fill:none\" points=\"\n",
       "  213.607,126.769 2352.76,126.769 \n",
       "  \"/>\n",
       "<polyline clip-path=\"url(#clip660)\" style=\"stroke:#000000; stroke-linecap:butt; stroke-linejoin:round; stroke-width:4; stroke-opacity:1; fill:none\" points=\"\n",
       "  213.607,1486.45 213.607,47.2441 \n",
       "  \"/>\n",
       "<polyline clip-path=\"url(#clip660)\" style=\"stroke:#000000; stroke-linecap:butt; stroke-linejoin:round; stroke-width:4; stroke-opacity:1; fill:none\" points=\"\n",
       "  213.607,1415.43 232.505,1415.43 \n",
       "  \"/>\n",
       "<polyline clip-path=\"url(#clip660)\" style=\"stroke:#000000; stroke-linecap:butt; stroke-linejoin:round; stroke-width:4; stroke-opacity:1; fill:none\" points=\"\n",
       "  213.607,771.099 232.505,771.099 \n",
       "  \"/>\n",
       "<polyline clip-path=\"url(#clip660)\" style=\"stroke:#000000; stroke-linecap:butt; stroke-linejoin:round; stroke-width:4; stroke-opacity:1; fill:none\" points=\"\n",
       "  213.607,126.769 232.505,126.769 \n",
       "  \"/>\n",
       "<path clip-path=\"url(#clip660)\" d=\"M51.6634 1435.22 L59.3023 1435.22 L59.3023 1408.86 L50.9921 1410.52 L50.9921 1406.26 L59.256 1404.6 L63.9319 1404.6 L63.9319 1435.22 L71.5707 1435.22 L71.5707 1439.16 L51.6634 1439.16 L51.6634 1435.22 Z\" fill=\"#000000\" fill-rule=\"evenodd\" fill-opacity=\"1\" /><path clip-path=\"url(#clip660)\" d=\"M91.0151 1407.68 Q87.404 1407.68 85.5753 1411.24 Q83.7697 1414.78 83.7697 1421.91 Q83.7697 1429.02 85.5753 1432.58 Q87.404 1436.12 91.0151 1436.12 Q94.6493 1436.12 96.4548 1432.58 Q98.2835 1429.02 98.2835 1421.91 Q98.2835 1414.78 96.4548 1411.24 Q94.6493 1407.68 91.0151 1407.68 M91.0151 1403.97 Q96.8252 1403.97 99.8808 1408.58 Q102.959 1413.16 102.959 1421.91 Q102.959 1430.64 99.8808 1435.25 Q96.8252 1439.83 91.0151 1439.83 Q85.2049 1439.83 82.1262 1435.25 Q79.0707 1430.64 79.0707 1421.91 Q79.0707 1413.16 82.1262 1408.58 Q85.2049 1403.97 91.0151 1403.97 Z\" fill=\"#000000\" fill-rule=\"evenodd\" fill-opacity=\"1\" /><path clip-path=\"url(#clip660)\" d=\"M102.959 1398.07 L127.071 1398.07 L127.071 1401.27 L102.959 1401.27 L102.959 1398.07 Z\" fill=\"#000000\" fill-rule=\"evenodd\" fill-opacity=\"1\" /><path clip-path=\"url(#clip660)\" d=\"M135.929 1408.55 L142.136 1408.55 L142.136 1387.13 L135.384 1388.48 L135.384 1385.02 L142.098 1383.67 L145.898 1383.67 L145.898 1408.55 L152.104 1408.55 L152.104 1411.75 L135.929 1411.75 L135.929 1408.55 Z\" fill=\"#000000\" fill-rule=\"evenodd\" fill-opacity=\"1\" /><path clip-path=\"url(#clip660)\" d=\"M167.903 1386.17 Q164.969 1386.17 163.483 1389.06 Q162.016 1391.94 162.016 1397.74 Q162.016 1403.51 163.483 1406.41 Q164.969 1409.28 167.903 1409.28 Q170.855 1409.28 172.322 1406.41 Q173.808 1403.51 173.808 1397.74 Q173.808 1391.94 172.322 1389.06 Q170.855 1386.17 167.903 1386.17 M167.903 1383.16 Q172.623 1383.16 175.106 1386.9 Q177.607 1390.63 177.607 1397.74 Q177.607 1404.83 175.106 1408.57 Q172.623 1412.29 167.903 1412.29 Q163.182 1412.29 160.68 1408.57 Q158.198 1404.83 158.198 1397.74 Q158.198 1390.63 160.68 1386.9 Q163.182 1383.16 167.903 1383.16 Z\" fill=\"#000000\" fill-rule=\"evenodd\" fill-opacity=\"1\" /><path clip-path=\"url(#clip660)\" d=\"M76.9787 790.892 L84.6175 790.892 L84.6175 764.526 L76.3074 766.193 L76.3074 761.933 L84.5712 760.267 L89.2471 760.267 L89.2471 790.892 L96.886 790.892 L96.886 794.827 L76.9787 794.827 L76.9787 790.892 Z\" fill=\"#000000\" fill-rule=\"evenodd\" fill-opacity=\"1\" /><path clip-path=\"url(#clip660)\" d=\"M116.33 763.346 Q112.719 763.346 110.891 766.91 Q109.085 770.452 109.085 777.582 Q109.085 784.688 110.891 788.253 Q112.719 791.794 116.33 791.794 Q119.965 791.794 121.77 788.253 Q123.599 784.688 123.599 777.582 Q123.599 770.452 121.77 766.91 Q119.965 763.346 116.33 763.346 M116.33 759.642 Q122.14 759.642 125.196 764.248 Q128.275 768.832 128.275 777.582 Q128.275 786.308 125.196 790.915 Q122.14 795.498 116.33 795.498 Q110.52 795.498 107.441 790.915 Q104.386 786.308 104.386 777.582 Q104.386 768.832 107.441 764.248 Q110.52 759.642 116.33 759.642 Z\" fill=\"#000000\" fill-rule=\"evenodd\" fill-opacity=\"1\" /><path clip-path=\"url(#clip660)\" d=\"M128.275 753.743 L152.386 753.743 L152.386 756.94 L128.275 756.94 L128.275 753.743 Z\" fill=\"#000000\" fill-rule=\"evenodd\" fill-opacity=\"1\" /><path clip-path=\"url(#clip660)\" d=\"M160.624 739.336 L175.539 739.336 L175.539 742.534 L164.103 742.534 L164.103 749.417 Q164.931 749.135 165.759 749.004 Q166.586 748.853 167.414 748.853 Q172.116 748.853 174.862 751.43 Q177.607 754.006 177.607 758.407 Q177.607 762.94 174.786 765.46 Q171.965 767.962 166.831 767.962 Q165.063 767.962 163.22 767.661 Q161.395 767.36 159.439 766.758 L159.439 762.94 Q161.132 763.862 162.937 764.313 Q164.743 764.765 166.755 764.765 Q170.009 764.765 171.909 763.053 Q173.808 761.342 173.808 758.407 Q173.808 755.473 171.909 753.762 Q170.009 752.05 166.755 752.05 Q165.232 752.05 163.709 752.389 Q162.204 752.728 160.624 753.442 L160.624 739.336 Z\" fill=\"#000000\" fill-rule=\"evenodd\" fill-opacity=\"1\" /><path clip-path=\"url(#clip660)\" d=\"M106.902 146.561 L114.541 146.561 L114.541 120.196 L106.231 121.862 L106.231 117.603 L114.494 115.936 L119.17 115.936 L119.17 146.561 L126.809 146.561 L126.809 150.496 L106.902 150.496 L106.902 146.561 Z\" fill=\"#000000\" fill-rule=\"evenodd\" fill-opacity=\"1\" /><path clip-path=\"url(#clip660)\" d=\"M146.253 119.015 Q142.642 119.015 140.814 122.58 Q139.008 126.122 139.008 133.251 Q139.008 140.358 140.814 143.922 Q142.642 147.464 146.253 147.464 Q149.888 147.464 151.693 143.922 Q153.522 140.358 153.522 133.251 Q153.522 126.122 151.693 122.58 Q149.888 119.015 146.253 119.015 M146.253 115.311 Q152.064 115.311 155.119 119.918 Q158.198 124.501 158.198 133.251 Q158.198 141.978 155.119 146.584 Q152.064 151.168 146.253 151.168 Q140.443 151.168 137.365 146.584 Q134.309 141.978 134.309 133.251 Q134.309 124.501 137.365 119.918 Q140.443 115.311 146.253 115.311 Z\" fill=\"#000000\" fill-rule=\"evenodd\" fill-opacity=\"1\" /><path clip-path=\"url(#clip660)\" d=\"M167.903 97.5075 Q164.969 97.5075 163.483 100.404 Q162.016 103.281 162.016 109.074 Q162.016 114.848 163.483 117.745 Q164.969 120.622 167.903 120.622 Q170.855 120.622 172.322 117.745 Q173.808 114.848 173.808 109.074 Q173.808 103.281 172.322 100.404 Q170.855 97.5075 167.903 97.5075 M167.903 94.4982 Q172.623 94.4982 175.106 98.241 Q177.607 101.965 177.607 109.074 Q177.607 116.165 175.106 119.908 Q172.623 123.631 167.903 123.631 Q163.182 123.631 160.68 119.908 Q158.198 116.165 158.198 109.074 Q158.198 101.965 160.68 98.241 Q163.182 94.4982 167.903 94.4982 Z\" fill=\"#000000\" fill-rule=\"evenodd\" fill-opacity=\"1\" /><circle clip-path=\"url(#clip662)\" cx=\"274.149\" cy=\"201.962\" r=\"14\" fill=\"#009af9\" fill-rule=\"evenodd\" fill-opacity=\"1\" stroke=\"#000000\" stroke-opacity=\"1\" stroke-width=\"3.2\"/>\n",
       "<circle clip-path=\"url(#clip662)\" cx=\"333.504\" cy=\"143.69\" r=\"14\" fill=\"#009af9\" fill-rule=\"evenodd\" fill-opacity=\"1\" stroke=\"#000000\" stroke-opacity=\"1\" stroke-width=\"3.2\"/>\n",
       "<circle clip-path=\"url(#clip662)\" cx=\"392.859\" cy=\"206.852\" r=\"14\" fill=\"#009af9\" fill-rule=\"evenodd\" fill-opacity=\"1\" stroke=\"#000000\" stroke-opacity=\"1\" stroke-width=\"3.2\"/>\n",
       "<circle clip-path=\"url(#clip662)\" cx=\"452.214\" cy=\"379.602\" r=\"14\" fill=\"#009af9\" fill-rule=\"evenodd\" fill-opacity=\"1\" stroke=\"#000000\" stroke-opacity=\"1\" stroke-width=\"3.2\"/>\n",
       "<circle clip-path=\"url(#clip662)\" cx=\"511.569\" cy=\"248.26\" r=\"14\" fill=\"#009af9\" fill-rule=\"evenodd\" fill-opacity=\"1\" stroke=\"#000000\" stroke-opacity=\"1\" stroke-width=\"3.2\"/>\n",
       "<circle clip-path=\"url(#clip662)\" cx=\"570.924\" cy=\"292.681\" r=\"14\" fill=\"#009af9\" fill-rule=\"evenodd\" fill-opacity=\"1\" stroke=\"#000000\" stroke-opacity=\"1\" stroke-width=\"3.2\"/>\n",
       "<circle clip-path=\"url(#clip662)\" cx=\"630.278\" cy=\"344.778\" r=\"14\" fill=\"#009af9\" fill-rule=\"evenodd\" fill-opacity=\"1\" stroke=\"#000000\" stroke-opacity=\"1\" stroke-width=\"3.2\"/>\n",
       "<circle clip-path=\"url(#clip662)\" cx=\"689.633\" cy=\"426.636\" r=\"14\" fill=\"#009af9\" fill-rule=\"evenodd\" fill-opacity=\"1\" stroke=\"#000000\" stroke-opacity=\"1\" stroke-width=\"3.2\"/>\n",
       "<circle clip-path=\"url(#clip662)\" cx=\"748.988\" cy=\"450.004\" r=\"14\" fill=\"#009af9\" fill-rule=\"evenodd\" fill-opacity=\"1\" stroke=\"#000000\" stroke-opacity=\"1\" stroke-width=\"3.2\"/>\n",
       "<circle clip-path=\"url(#clip662)\" cx=\"808.343\" cy=\"525.584\" r=\"14\" fill=\"#009af9\" fill-rule=\"evenodd\" fill-opacity=\"1\" stroke=\"#000000\" stroke-opacity=\"1\" stroke-width=\"3.2\"/>\n",
       "<circle clip-path=\"url(#clip662)\" cx=\"867.698\" cy=\"505.582\" r=\"14\" fill=\"#009af9\" fill-rule=\"evenodd\" fill-opacity=\"1\" stroke=\"#000000\" stroke-opacity=\"1\" stroke-width=\"3.2\"/>\n",
       "<circle clip-path=\"url(#clip662)\" cx=\"927.053\" cy=\"611.661\" r=\"14\" fill=\"#009af9\" fill-rule=\"evenodd\" fill-opacity=\"1\" stroke=\"#000000\" stroke-opacity=\"1\" stroke-width=\"3.2\"/>\n",
       "<circle clip-path=\"url(#clip662)\" cx=\"986.407\" cy=\"577.911\" r=\"14\" fill=\"#009af9\" fill-rule=\"evenodd\" fill-opacity=\"1\" stroke=\"#000000\" stroke-opacity=\"1\" stroke-width=\"3.2\"/>\n",
       "<circle clip-path=\"url(#clip662)\" cx=\"1045.76\" cy=\"661.038\" r=\"14\" fill=\"#009af9\" fill-rule=\"evenodd\" fill-opacity=\"1\" stroke=\"#000000\" stroke-opacity=\"1\" stroke-width=\"3.2\"/>\n",
       "<circle clip-path=\"url(#clip662)\" cx=\"1105.12\" cy=\"680.348\" r=\"14\" fill=\"#009af9\" fill-rule=\"evenodd\" fill-opacity=\"1\" stroke=\"#000000\" stroke-opacity=\"1\" stroke-width=\"3.2\"/>\n",
       "<circle clip-path=\"url(#clip662)\" cx=\"1164.47\" cy=\"768.763\" r=\"14\" fill=\"#009af9\" fill-rule=\"evenodd\" fill-opacity=\"1\" stroke=\"#000000\" stroke-opacity=\"1\" stroke-width=\"3.2\"/>\n",
       "<circle clip-path=\"url(#clip662)\" cx=\"1223.83\" cy=\"732.052\" r=\"14\" fill=\"#009af9\" fill-rule=\"evenodd\" fill-opacity=\"1\" stroke=\"#000000\" stroke-opacity=\"1\" stroke-width=\"3.2\"/>\n",
       "<circle clip-path=\"url(#clip662)\" cx=\"1283.18\" cy=\"811.798\" r=\"14\" fill=\"#009af9\" fill-rule=\"evenodd\" fill-opacity=\"1\" stroke=\"#000000\" stroke-opacity=\"1\" stroke-width=\"3.2\"/>\n",
       "<circle clip-path=\"url(#clip662)\" cx=\"1342.54\" cy=\"842.405\" r=\"14\" fill=\"#009af9\" fill-rule=\"evenodd\" fill-opacity=\"1\" stroke=\"#000000\" stroke-opacity=\"1\" stroke-width=\"3.2\"/>\n",
       "<circle clip-path=\"url(#clip662)\" cx=\"1401.89\" cy=\"898.974\" r=\"14\" fill=\"#009af9\" fill-rule=\"evenodd\" fill-opacity=\"1\" stroke=\"#000000\" stroke-opacity=\"1\" stroke-width=\"3.2\"/>\n",
       "<circle clip-path=\"url(#clip662)\" cx=\"1461.25\" cy=\"906.52\" r=\"14\" fill=\"#009af9\" fill-rule=\"evenodd\" fill-opacity=\"1\" stroke=\"#000000\" stroke-opacity=\"1\" stroke-width=\"3.2\"/>\n",
       "<circle clip-path=\"url(#clip662)\" cx=\"1520.6\" cy=\"1053.63\" r=\"14\" fill=\"#009af9\" fill-rule=\"evenodd\" fill-opacity=\"1\" stroke=\"#000000\" stroke-opacity=\"1\" stroke-width=\"3.2\"/>\n",
       "<circle clip-path=\"url(#clip662)\" cx=\"1579.96\" cy=\"949.506\" r=\"14\" fill=\"#009af9\" fill-rule=\"evenodd\" fill-opacity=\"1\" stroke=\"#000000\" stroke-opacity=\"1\" stroke-width=\"3.2\"/>\n",
       "<circle clip-path=\"url(#clip662)\" cx=\"1639.31\" cy=\"997.763\" r=\"14\" fill=\"#009af9\" fill-rule=\"evenodd\" fill-opacity=\"1\" stroke=\"#000000\" stroke-opacity=\"1\" stroke-width=\"3.2\"/>\n",
       "<circle clip-path=\"url(#clip662)\" cx=\"1698.67\" cy=\"1062.28\" r=\"14\" fill=\"#009af9\" fill-rule=\"evenodd\" fill-opacity=\"1\" stroke=\"#000000\" stroke-opacity=\"1\" stroke-width=\"3.2\"/>\n",
       "<circle clip-path=\"url(#clip662)\" cx=\"1758.02\" cy=\"1201.18\" r=\"14\" fill=\"#009af9\" fill-rule=\"evenodd\" fill-opacity=\"1\" stroke=\"#000000\" stroke-opacity=\"1\" stroke-width=\"3.2\"/>\n",
       "<circle clip-path=\"url(#clip662)\" cx=\"1817.38\" cy=\"1105.96\" r=\"14\" fill=\"#009af9\" fill-rule=\"evenodd\" fill-opacity=\"1\" stroke=\"#000000\" stroke-opacity=\"1\" stroke-width=\"3.2\"/>\n",
       "<circle clip-path=\"url(#clip662)\" cx=\"1876.73\" cy=\"1156.03\" r=\"14\" fill=\"#009af9\" fill-rule=\"evenodd\" fill-opacity=\"1\" stroke=\"#000000\" stroke-opacity=\"1\" stroke-width=\"3.2\"/>\n",
       "<circle clip-path=\"url(#clip662)\" cx=\"1936.08\" cy=\"1227.91\" r=\"14\" fill=\"#009af9\" fill-rule=\"evenodd\" fill-opacity=\"1\" stroke=\"#000000\" stroke-opacity=\"1\" stroke-width=\"3.2\"/>\n",
       "<circle clip-path=\"url(#clip662)\" cx=\"1995.44\" cy=\"1294.16\" r=\"14\" fill=\"#009af9\" fill-rule=\"evenodd\" fill-opacity=\"1\" stroke=\"#000000\" stroke-opacity=\"1\" stroke-width=\"3.2\"/>\n",
       "<circle clip-path=\"url(#clip662)\" cx=\"2054.79\" cy=\"1287.15\" r=\"14\" fill=\"#009af9\" fill-rule=\"evenodd\" fill-opacity=\"1\" stroke=\"#000000\" stroke-opacity=\"1\" stroke-width=\"3.2\"/>\n",
       "<circle clip-path=\"url(#clip662)\" cx=\"2114.15\" cy=\"1445.72\" r=\"14\" fill=\"#009af9\" fill-rule=\"evenodd\" fill-opacity=\"1\" stroke=\"#000000\" stroke-opacity=\"1\" stroke-width=\"3.2\"/>\n",
       "<circle clip-path=\"url(#clip662)\" cx=\"2173.5\" cy=\"1336.81\" r=\"14\" fill=\"#009af9\" fill-rule=\"evenodd\" fill-opacity=\"1\" stroke=\"#000000\" stroke-opacity=\"1\" stroke-width=\"3.2\"/>\n",
       "<circle clip-path=\"url(#clip662)\" cx=\"2232.86\" cy=\"1384.23\" r=\"14\" fill=\"#009af9\" fill-rule=\"evenodd\" fill-opacity=\"1\" stroke=\"#000000\" stroke-opacity=\"1\" stroke-width=\"3.2\"/>\n",
       "<circle clip-path=\"url(#clip662)\" cx=\"2292.21\" cy=\"1445.72\" r=\"14\" fill=\"#009af9\" fill-rule=\"evenodd\" fill-opacity=\"1\" stroke=\"#000000\" stroke-opacity=\"1\" stroke-width=\"3.2\"/>\n",
       "<polyline clip-path=\"url(#clip662)\" style=\"stroke:#e26f46; stroke-linecap:butt; stroke-linejoin:round; stroke-width:16; stroke-opacity:1; fill:none\" points=\"\n",
       "  274.149,87.9763 333.504,126.769 392.859,165.561 452.214,204.354 511.569,243.146 570.924,281.939 630.278,320.732 689.633,359.524 748.988,398.317 808.343,437.109 \n",
       "  867.698,475.902 927.053,514.694 986.407,553.487 1045.76,592.279 1105.12,631.072 1164.47,669.865 1223.83,708.657 1283.18,747.45 1342.54,786.242 1401.89,825.035 \n",
       "  1461.25,863.827 1520.6,902.62 1579.96,941.412 1639.31,980.205 1698.67,1019 1758.02,1057.79 1817.38,1096.58 1876.73,1135.38 1936.08,1174.17 1995.44,1212.96 \n",
       "  2054.79,1251.75 2114.15,1290.55 2173.5,1329.34 2232.86,1368.13 2292.21,1406.92 \n",
       "  \"/>\n",
       "<path clip-path=\"url(#clip660)\" d=\"\n",
       "M1991.34 250.738 L2281.45 250.738 L2281.45 95.2176 L1991.34 95.2176  Z\n",
       "  \" fill=\"#ffffff\" fill-rule=\"evenodd\" fill-opacity=\"1\"/>\n",
       "<polyline clip-path=\"url(#clip660)\" style=\"stroke:#000000; stroke-linecap:butt; stroke-linejoin:round; stroke-width:4; stroke-opacity:1; fill:none\" points=\"\n",
       "  1991.34,250.738 2281.45,250.738 2281.45,95.2176 1991.34,95.2176 1991.34,250.738 \n",
       "  \"/>\n",
       "<circle clip-path=\"url(#clip660)\" cx=\"2086.41\" cy=\"147.058\" r=\"23\" fill=\"#009af9\" fill-rule=\"evenodd\" fill-opacity=\"1\" stroke=\"#000000\" stroke-opacity=\"1\" stroke-width=\"5.12\"/>\n",
       "<path clip-path=\"url(#clip660)\" d=\"M2195.33 166.745 Q2193.52 171.375 2191.81 172.787 Q2190.1 174.199 2187.22 174.199 L2183.82 174.199 L2183.82 170.634 L2186.32 170.634 Q2188.08 170.634 2189.05 169.8 Q2190.03 168.967 2191.21 165.865 L2191.97 163.921 L2181.48 138.412 L2186 138.412 L2194.1 158.689 L2202.2 138.412 L2206.72 138.412 L2195.33 166.745 Z\" fill=\"#000000\" fill-rule=\"evenodd\" fill-opacity=\"1\" /><path clip-path=\"url(#clip660)\" d=\"M2214.01 160.402 L2221.65 160.402 L2221.65 134.037 L2213.34 135.703 L2213.34 131.444 L2221.6 129.778 L2226.28 129.778 L2226.28 160.402 L2233.91 160.402 L2233.91 164.338 L2214.01 164.338 L2214.01 160.402 Z\" fill=\"#000000\" fill-rule=\"evenodd\" fill-opacity=\"1\" /><polyline clip-path=\"url(#clip660)\" style=\"stroke:#e26f46; stroke-linecap:butt; stroke-linejoin:round; stroke-width:4; stroke-opacity:1; fill:none\" points=\"\n",
       "  2015.11,198.898 2157.72,198.898 \n",
       "  \"/>\n",
       "<path clip-path=\"url(#clip660)\" d=\"M2195.33 218.585 Q2193.52 223.215 2191.81 224.627 Q2190.1 226.039 2187.22 226.039 L2183.82 226.039 L2183.82 222.474 L2186.32 222.474 Q2188.08 222.474 2189.05 221.64 Q2190.03 220.807 2191.21 217.705 L2191.97 215.761 L2181.48 190.252 L2186 190.252 L2194.1 210.529 L2202.2 190.252 L2206.72 190.252 L2195.33 218.585 Z\" fill=\"#000000\" fill-rule=\"evenodd\" fill-opacity=\"1\" /><path clip-path=\"url(#clip660)\" d=\"M2217.22 212.242 L2233.54 212.242 L2233.54 216.178 L2211.6 216.178 L2211.6 212.242 Q2214.26 209.488 2218.84 204.858 Q2223.45 200.205 2224.63 198.863 Q2226.88 196.34 2227.76 194.604 Q2228.66 192.844 2228.66 191.155 Q2228.66 188.4 2226.72 186.664 Q2224.79 184.928 2221.69 184.928 Q2219.49 184.928 2217.04 185.692 Q2214.61 186.455 2211.83 188.006 L2211.83 183.284 Q2214.66 182.15 2217.11 181.571 Q2219.56 180.993 2221.6 180.993 Q2226.97 180.993 2230.16 183.678 Q2233.36 186.363 2233.36 190.854 Q2233.36 192.983 2232.55 194.905 Q2231.76 196.803 2229.66 199.395 Q2229.08 200.067 2225.97 203.284 Q2222.87 206.479 2217.22 212.242 Z\" fill=\"#000000\" fill-rule=\"evenodd\" fill-opacity=\"1\" /></svg>\n"
      ]
     },
     "execution_count": 2,
     "metadata": {},
     "output_type": "execute_result"
    }
   ],
   "source": [
    "hist = bisect_iter(f, -1, 3, 1e-10)\n",
    "r = hist[end] # What are we trusting?\n",
    "hist = hist[1:end-1]\n",
    "scatter( abs.(hist .- r), yscale=:log10)\n",
    "ks = 1:length(hist)\n",
    "ρ = 0.5\n",
    "plot!(ks, 4 * (ρ .^ ks))"
   ]
  },
  {
   "cell_type": "markdown",
   "id": "ca87ee9c",
   "metadata": {
    "slideshow": {
     "slide_type": "slide"
    }
   },
   "source": [
    "# Newton-Raphson Method\n",
    "\n",
    "Much of numerical analysis reduces to [Taylor series](https://en.wikipedia.org/wiki/Taylor_series), the approximation\n",
    "$$ f(x) = f(x_0) + f'(x_0) (x-x_0) + f''(x_0) (x - x_0)^2 / 2 + \\underbrace{\\dotsb}_{O((x-x_0)^3)} $$\n",
    "centered on some reference point $x_0$.\n",
    "\n",
    "In numerical computation, it is exceedingly rare to look beyond the first-order approximation\n",
    "$$ \\tilde f_{x_0}(x) = f(x_0) + f'(x_0)(x - x_0) . $$\n",
    "Since $\\tilde f_{x_0}(x)$ is a linear function, we can explicitly compute the unique solution of $\\tilde f_{x_0}(x) = 0$ as\n",
    "$$ x = x_0 - \\frac{f(x_0)}{f'(x_0)} . $$\n",
    "This is Newton's Method (aka Newton-Raphson or Newton-Raphson-Simpson) for finding the roots of differentiable functions."
   ]
  },
  {
   "cell_type": "markdown",
   "id": "d1dc047b",
   "metadata": {
    "slideshow": {
     "slide_type": "slide"
    }
   },
   "source": [
    "# An implementation"
   ]
  },
  {
   "cell_type": "code",
   "execution_count": 88,
   "id": "03a8b234",
   "metadata": {
    "cell_style": "center"
   },
   "outputs": [
    {
     "name": "stdout",
     "output_type": "stream",
     "text": [
      "[1] x=1  f(x)=-0.45969769413186023  f'(x)=-1.8414709848078965\n",
      "[2] x=0.7503638678402439  f(x)=-0.018923073822117442  f'(x)=-1.6819049529414878\n",
      "[3] x=0.7391128909113617  f(x)=-4.6455898990771516e-5  f'(x)=-1.6736325442243012\n",
      "[4] x=0.739085133385284  f(x)=-2.847205804457076e-10  f'(x)=-1.6736120293089505\n",
      "[5] x=0.7390851332151607  f(x)=0.0  f'(x)=-1.6736120291832148\n"
     ]
    },
    {
     "data": {
      "text/plain": [
       "(0.7390851332151607, 0.0, 5)"
      ]
     },
     "execution_count": 88,
     "metadata": {},
     "output_type": "execute_result"
    }
   ],
   "source": [
    "function newton(f, fp, x0; tol=1e-8, verbose=false)\n",
    "    x = x0\n",
    "    for k in 1:100 # max number of iterations\n",
    "        fx = f(x)\n",
    "        fpx = fp(x)\n",
    "        if verbose\n",
    "            println(\"[$k] x=$x  f(x)=$fx  f'(x)=$fpx\")\n",
    "        end\n",
    "        if abs(fx) < tol\n",
    "            return x, fx, k\n",
    "        end\n",
    "        x = x - fx / fpx\n",
    "    end  \n",
    "end\n",
    "\n",
    "f(x) = cos(x) - x\n",
    "fp(x) = -sin(x) - 1\n",
    "newton(f, fp, 1; tol=1e-15, verbose=true)"
   ]
  },
  {
   "cell_type": "markdown",
   "id": "1131d864",
   "metadata": {
    "slideshow": {
     "slide_type": "slide"
    }
   },
   "source": [
    "# That's really fast!\n",
    "\n",
    "* 10 digits of accuracy in 4 iterations.\n",
    "* How is this convergence test different from the one we used for bisection?\n",
    "* How can this break down?\n",
    "\n",
    "$$ x_{k+1} = x_k - \\frac{f(x_k)}{f'(x_k)} $$"
   ]
  },
  {
   "cell_type": "code",
   "execution_count": 115,
   "id": "c7f32a67",
   "metadata": {
    "slideshow": {
     "slide_type": "fragment"
    }
   },
   "outputs": [
    {
     "name": "stdout",
     "output_type": "stream",
     "text": [
      "[1] x=-1.4707963267948965  f(x)=1.5706297434417247  f'(x)=-0.0049958347219742905\n",
      "[2] x=312.9170549232224  f(x)=-312.59435002533314  f'(x)=-0.05350037037604283\n",
      "[3] x=-5529.927542752894  f(x)=5530.676391917825  f'(x)=-0.33725953180603474\n",
      "[4] x=10868.945936970244  f(x)=-10868.376227850798  f'(x)=-0.17815359146505727\n",
      "[5] x=-50136.70732252356  f(x)=50135.70777741902  f'(x)=-1.0301593101044748\n",
      "[6] x=-1468.7903453577164  f(x)=1468.8859787856973  f'(x)=-1.9954166200403913\n",
      "[7] x=-732.6603742863299  f(x)=731.8761094362295  f'(x)=-1.6204261800544972\n",
      "[8] x=-281.0038172368656  f(x)=280.8358913898124  f'(x)=-1.9857996296872256\n",
      "[9] x=-139.58174866993488  f(x)=139.79912372811944  f'(x)=-0.02391184615360531\n",
      "[10] x=5706.856156210999  f(x)=-5707.008659764705  f'(x)=-1.9883029222393844\n",
      "[11] x=2836.5648158265976  f(x)=-2837.5220962814674  f'(x)=-1.2891610809292957\n",
      "[12] x=635.503879177757  f(x)=-634.8839651181479  f'(x)=-1.784669713127157\n",
      "[13] x=279.7607629875442  f(x)=-280.7481464325292  f'(x)=-0.8416524942745961\n",
      "[14] x=-53.80700796583557  f(x)=52.88592082634005  f'(x)=-1.3893564966145653\n",
      "[15] x=-15.74196061822768  f(x)=14.742538472479499  f'(x)=-1.0339908015219368\n",
      "[16] x=-1.4840596284124175  f(x)=1.5706876106501757  f'(x)=-0.0037592697076601622\n",
      "[17] x=416.333158287511  f(x)=-416.4052274406877  f'(x)=-1.99739963763799\n",
      "[18] x=207.8594910282616  f(x)=-206.9888910802111  f'(x)=-1.4919915959184906\n",
      "[19] x=69.12620885264326  f(x)=-68.1262712417355  f'(x)=-1.0111702413616044\n",
      "[20] x=1.7525179991632598  f(x)=-1.933241162917233  f'(x)=-1.9835340045381016\n",
      "[21] x=0.7778731690296721  f(x)=-0.0654654835715871  f'(x)=-1.7017658368004631\n",
      "[22] x=0.7394040200105153  f(x)=-0.0005337303513481828  f'(x)=-1.6738476794194503\n",
      "[23] x=0.7390851556610822  f(x)=-3.756576461011463e-8  f'(x)=-1.6736120457726615\n",
      "[24] x=0.7390851332151608  f(x)=-2.220446049250313e-16  f'(x)=-1.6736120291832148\n"
     ]
    },
    {
     "data": {
      "text/plain": [
       "(0.7390851332151608, -2.220446049250313e-16, 24)"
      ]
     },
     "execution_count": 115,
     "metadata": {},
     "output_type": "execute_result"
    }
   ],
   "source": [
    "newton(f, fp, -pi/2+.1; verbose=true)"
   ]
  },
  {
   "cell_type": "markdown",
   "id": "7b3f62a6",
   "metadata": {
    "slideshow": {
     "slide_type": "slide"
    }
   },
   "source": [
    "# Convergence of fixed-point (by mean value theorem)"
   ]
  },
  {
   "cell_type": "markdown",
   "id": "1bcd43ed",
   "metadata": {
    "cell_style": "split"
   },
   "source": [
    "Consider the iteration\n",
    "$$x_{k+1} = g(x_k)$$\n",
    "where $g$ is a continuously differentiable function.\n",
    "Suppose that there exists a fixed point $x_* = g(x_*)$.  By the [mean value theorem](https://en.wikipedia.org/wiki/Mean_value_theorem), we have that\n",
    "$$ x_{k+1} - x_* = g(x_k) - g(x_*) = g'(c_k) (x_k - x_*) $$\n",
    "for some $c_i$ between $x_k$ and $x_*$.\n",
    "\n",
    "Taking absolute values, $$|e_{k+1}| = |g'(c_k)| |e_k|,$$ which converges to zero if $|g'(c_k)| < 1$."
   ]
  },
  {
   "cell_type": "markdown",
   "id": "eae4816b",
   "metadata": {
    "cell_style": "split"
   },
   "source": [
    "![](https://upload.wikimedia.org/wikipedia/commons/e/ee/Mvt2.svg)"
   ]
  },
  {
   "cell_type": "markdown",
   "id": "28c45386",
   "metadata": {
    "slideshow": {
     "slide_type": "slide"
    }
   },
   "source": [
    "# Convergence of fixed-point (by Taylor series)"
   ]
  },
  {
   "cell_type": "markdown",
   "id": "5b341cff",
   "metadata": {
    "cell_style": "split"
   },
   "source": [
    "Consider the iteration\n",
    "$$x_{k+1} = g(x_k)$$\n",
    "where $g$ is a continuously differentiable function.\n",
    "Suppose that there exists a fixed point $x_* = g(x_*)$. There exists a Taylor series at $x_*$,\n",
    "$$ g(x_k) = g(x_*) + g'(x_*)(x_k - x_*) + O((x_k-x_*)^2) $$\n",
    "and thus\n",
    "\\begin{align}\n",
    "x_{k+1} - x_* &= g(x_k) - g(x_*) \\\\\n",
    "&= g'(x_*) (x_k - x_*) + O((x_k - x_*)^2).\n",
    "\\end{align}"
   ]
  },
  {
   "cell_type": "markdown",
   "id": "a489e86f",
   "metadata": {
    "cell_style": "split"
   },
   "source": [
    "In terms of the error $e_k = x_k - x_*$,\n",
    "$$ \\left\\lvert \\frac{e_{k+1}}{e_k} \\right\\rvert = \\lvert g'(x_*) \\rvert + O(e_k).$$\n"
   ]
  },
  {
   "cell_type": "markdown",
   "id": "f78e8439",
   "metadata": {
    "slideshow": {
     "slide_type": "fragment"
    }
   },
   "source": [
    "## Poll: Is this convergence A=q-linear, B=r-linear, C=neither?"
   ]
  },
  {
   "cell_type": "markdown",
   "id": "ce948740",
   "metadata": {
    "slideshow": {
     "slide_type": "fragment"
    }
   },
   "source": [
    "\n",
    "Recall the definition of q-linear convergence\n",
    "$$ \\lim_{k\\to\\infty} \\left\\lvert \\frac{e_{k+1}}{e_k} \\right\\rvert = \\rho < 1. $$"
   ]
  },
  {
   "cell_type": "markdown",
   "id": "e3a42b5c",
   "metadata": {
    "slideshow": {
     "slide_type": "slide"
    }
   },
   "source": [
    "# Aside: [Big $O$ (\"big oh\") notation](https://en.wikipedia.org/wiki/Big_O_notation)"
   ]
  },
  {
   "cell_type": "markdown",
   "id": "2ff93ddc",
   "metadata": {
    "cell_style": "split"
   },
   "source": [
    "## Limit $n\\to\\infty$\n",
    "\n",
    "We'd say an algorithm costs $O(n^2)$ if its running time on input of size $n$ is less than $c n^2$ for some constant $c$ and sufficiently large $n$.\n",
    "\n",
    "Sometimes we write $\\operatorname{cost}(\\texttt{algorithm}, n) = O(n^2)$ or (preferably) $\\operatorname{cost}(\\texttt{algorithm}) \\in O(n^2)$.\n",
    "\n",
    "Note that $O(\\log n) \\subset O(n) \\subset O(n\\log n) \\subset O(n^2) \\subset \\dotsb$ so it's correct to say \"binary search is in $O(n^2)$\", even though a sharper statement is also true.\n",
    "\n",
    "We say the algorithm is in $\\Theta(n^2)$ (\"big theta\") if\n",
    "$$ c_1 n^2 < \\operatorname{cost}(\\texttt{algorithm}) < c_2 n^2 $$\n",
    "for some positive constants $c_1,c_2$ and sufficiently large $n$."
   ]
  },
  {
   "cell_type": "markdown",
   "id": "88413003",
   "metadata": {
    "cell_style": "split",
    "slideshow": {
     "slide_type": "fragment"
    }
   },
   "source": [
    "## Limit $h \\to 0$\n",
    "\n",
    "In numerical analysis, we often have a small real number, and now the definitions take the limit as the small number goes to zero. So we say a term in an expression is in $O(h^2)$ if\n",
    "\n",
    "$$ \\lim_{h\\to 0} \\frac{\\operatorname{term}(h)}{h^2} < \\infty . $$\n",
    "\n",
    "Big $O$ terms can be manipulated as\n",
    "\n",
    "\\begin{align}\n",
    "h O(h^k) &= O(h^{k+1}) \\\\\n",
    "O(h^k)/h &= O(h^{k-1}) \\\\\n",
    "c O(h^k) &= O(h^k) \\\\\n",
    "O(h^k) - O(h^k) &= ?\n",
    "\\end{align}"
   ]
  },
  {
   "cell_type": "markdown",
   "id": "ebfdc94f",
   "metadata": {
    "slideshow": {
     "slide_type": "slide"
    }
   },
   "source": [
    "# Example of a fixed point iteration\n",
    "\n",
    "We wanted to solve $\\cos x - x = 0$, which occurs when $g(x) = \\cos x$ is a fixed point."
   ]
  },
  {
   "cell_type": "code",
   "execution_count": 116,
   "id": "1fafaa6b",
   "metadata": {
    "cell_style": "split"
   },
   "outputs": [
    {
     "name": "stdout",
     "output_type": "stream",
     "text": [
      "xstar = 0.739085133385284\n",
      "gp(xstar) = -0.6736120293089505\n"
     ]
    },
    {
     "data": {
      "image/svg+xml": [
       "<?xml version=\"1.0\" encoding=\"utf-8\"?>\n",
       "<svg xmlns=\"http://www.w3.org/2000/svg\" xmlns:xlink=\"http://www.w3.org/1999/xlink\" width=\"600\" height=\"400\" viewBox=\"0 0 2400 1600\">\n",
       "<defs>\n",
       "  <clipPath id=\"clip060\">\n",
       "    <rect x=\"0\" y=\"0\" width=\"2400\" height=\"1600\"/>\n",
       "  </clipPath>\n",
       "</defs>\n",
       "<path clip-path=\"url(#clip060)\" d=\"\n",
       "M0 1600 L2400 1600 L2400 0 L0 0  Z\n",
       "  \" fill=\"#ffffff\" fill-rule=\"evenodd\" fill-opacity=\"1\"/>\n",
       "<defs>\n",
       "  <clipPath id=\"clip061\">\n",
       "    <rect x=\"480\" y=\"0\" width=\"1681\" height=\"1600\"/>\n",
       "  </clipPath>\n",
       "</defs>\n",
       "<defs>\n",
       "  <clipPath id=\"clip062\">\n",
       "    <rect x=\"193\" y=\"47\" width=\"2160\" height=\"1440\"/>\n",
       "  </clipPath>\n",
       "</defs>\n",
       "<path clip-path=\"url(#clip060)\" d=\"\n",
       "M147.478 1486.45 L2352.76 1486.45 L2352.76 47.2441 L147.478 47.2441  Z\n",
       "  \" fill=\"#ffffff\" fill-rule=\"evenodd\" fill-opacity=\"1\"/>\n",
       "<defs>\n",
       "  <clipPath id=\"clip063\">\n",
       "    <rect x=\"147\" y=\"47\" width=\"2206\" height=\"1440\"/>\n",
       "  </clipPath>\n",
       "</defs>\n",
       "<polyline clip-path=\"url(#clip063)\" style=\"stroke:#000000; stroke-linecap:butt; stroke-linejoin:round; stroke-width:2; stroke-opacity:0.1; fill:none\" points=\"\n",
       "  147.478,1486.45 147.478,47.2441 \n",
       "  \"/>\n",
       "<polyline clip-path=\"url(#clip063)\" style=\"stroke:#000000; stroke-linecap:butt; stroke-linejoin:round; stroke-width:2; stroke-opacity:0.1; fill:none\" points=\"\n",
       "  588.534,1486.45 588.534,47.2441 \n",
       "  \"/>\n",
       "<polyline clip-path=\"url(#clip063)\" style=\"stroke:#000000; stroke-linecap:butt; stroke-linejoin:round; stroke-width:2; stroke-opacity:0.1; fill:none\" points=\"\n",
       "  1029.59,1486.45 1029.59,47.2441 \n",
       "  \"/>\n",
       "<polyline clip-path=\"url(#clip063)\" style=\"stroke:#000000; stroke-linecap:butt; stroke-linejoin:round; stroke-width:2; stroke-opacity:0.1; fill:none\" points=\"\n",
       "  1470.64,1486.45 1470.64,47.2441 \n",
       "  \"/>\n",
       "<polyline clip-path=\"url(#clip063)\" style=\"stroke:#000000; stroke-linecap:butt; stroke-linejoin:round; stroke-width:2; stroke-opacity:0.1; fill:none\" points=\"\n",
       "  1911.7,1486.45 1911.7,47.2441 \n",
       "  \"/>\n",
       "<polyline clip-path=\"url(#clip063)\" style=\"stroke:#000000; stroke-linecap:butt; stroke-linejoin:round; stroke-width:2; stroke-opacity:0.1; fill:none\" points=\"\n",
       "  2352.76,1486.45 2352.76,47.2441 \n",
       "  \"/>\n",
       "<polyline clip-path=\"url(#clip060)\" style=\"stroke:#000000; stroke-linecap:butt; stroke-linejoin:round; stroke-width:4; stroke-opacity:1; fill:none\" points=\"\n",
       "  147.478,1486.45 2352.76,1486.45 \n",
       "  \"/>\n",
       "<polyline clip-path=\"url(#clip060)\" style=\"stroke:#000000; stroke-linecap:butt; stroke-linejoin:round; stroke-width:4; stroke-opacity:1; fill:none\" points=\"\n",
       "  147.478,1486.45 147.478,1467.55 \n",
       "  \"/>\n",
       "<polyline clip-path=\"url(#clip060)\" style=\"stroke:#000000; stroke-linecap:butt; stroke-linejoin:round; stroke-width:4; stroke-opacity:1; fill:none\" points=\"\n",
       "  588.534,1486.45 588.534,1467.55 \n",
       "  \"/>\n",
       "<polyline clip-path=\"url(#clip060)\" style=\"stroke:#000000; stroke-linecap:butt; stroke-linejoin:round; stroke-width:4; stroke-opacity:1; fill:none\" points=\"\n",
       "  1029.59,1486.45 1029.59,1467.55 \n",
       "  \"/>\n",
       "<polyline clip-path=\"url(#clip060)\" style=\"stroke:#000000; stroke-linecap:butt; stroke-linejoin:round; stroke-width:4; stroke-opacity:1; fill:none\" points=\"\n",
       "  1470.64,1486.45 1470.64,1467.55 \n",
       "  \"/>\n",
       "<polyline clip-path=\"url(#clip060)\" style=\"stroke:#000000; stroke-linecap:butt; stroke-linejoin:round; stroke-width:4; stroke-opacity:1; fill:none\" points=\"\n",
       "  1911.7,1486.45 1911.7,1467.55 \n",
       "  \"/>\n",
       "<polyline clip-path=\"url(#clip060)\" style=\"stroke:#000000; stroke-linecap:butt; stroke-linejoin:round; stroke-width:4; stroke-opacity:1; fill:none\" points=\"\n",
       "  2352.76,1486.45 2352.76,1467.55 \n",
       "  \"/>\n",
       "<path clip-path=\"url(#clip060)\" d=\"M117.42 1532.02 L147.096 1532.02 L147.096 1535.95 L117.42 1535.95 L117.42 1532.02 Z\" fill=\"#000000\" fill-rule=\"evenodd\" fill-opacity=\"1\" /><path clip-path=\"url(#clip060)\" d=\"M161.216 1544.91 L177.536 1544.91 L177.536 1548.85 L155.591 1548.85 L155.591 1544.91 Q158.253 1542.16 162.837 1537.53 Q167.443 1532.88 168.624 1531.53 Q170.869 1529.01 171.749 1527.27 Q172.651 1525.51 172.651 1523.82 Q172.651 1521.07 170.707 1519.33 Q168.786 1517.6 165.684 1517.6 Q163.485 1517.6 161.031 1518.36 Q158.601 1519.13 155.823 1520.68 L155.823 1515.95 Q158.647 1514.82 161.101 1514.24 Q163.554 1513.66 165.591 1513.66 Q170.962 1513.66 174.156 1516.35 Q177.35 1519.03 177.35 1523.52 Q177.35 1525.65 176.54 1527.57 Q175.753 1529.47 173.647 1532.07 Q173.068 1532.74 169.966 1535.95 Q166.864 1539.15 161.216 1544.91 Z\" fill=\"#000000\" fill-rule=\"evenodd\" fill-opacity=\"1\" /><path clip-path=\"url(#clip060)\" d=\"M558.291 1532.02 L587.966 1532.02 L587.966 1535.95 L558.291 1535.95 L558.291 1532.02 Z\" fill=\"#000000\" fill-rule=\"evenodd\" fill-opacity=\"1\" /><path clip-path=\"url(#clip060)\" d=\"M598.869 1544.91 L606.508 1544.91 L606.508 1518.55 L598.198 1520.21 L598.198 1515.95 L606.462 1514.29 L611.138 1514.29 L611.138 1544.91 L618.776 1544.91 L618.776 1548.85 L598.869 1548.85 L598.869 1544.91 Z\" fill=\"#000000\" fill-rule=\"evenodd\" fill-opacity=\"1\" /><path clip-path=\"url(#clip060)\" d=\"M1029.59 1517.37 Q1025.98 1517.37 1024.15 1520.93 Q1022.34 1524.47 1022.34 1531.6 Q1022.34 1538.71 1024.15 1542.27 Q1025.98 1545.82 1029.59 1545.82 Q1033.22 1545.82 1035.03 1542.27 Q1036.86 1538.71 1036.86 1531.6 Q1036.86 1524.47 1035.03 1520.93 Q1033.22 1517.37 1029.59 1517.37 M1029.59 1513.66 Q1035.4 1513.66 1038.45 1518.27 Q1041.53 1522.85 1041.53 1531.6 Q1041.53 1540.33 1038.45 1544.94 Q1035.4 1549.52 1029.59 1549.52 Q1023.78 1549.52 1020.7 1544.94 Q1017.64 1540.33 1017.64 1531.6 Q1017.64 1522.85 1020.7 1518.27 Q1023.78 1513.66 1029.59 1513.66 Z\" fill=\"#000000\" fill-rule=\"evenodd\" fill-opacity=\"1\" /><path clip-path=\"url(#clip060)\" d=\"M1461.03 1544.91 L1468.67 1544.91 L1468.67 1518.55 L1460.36 1520.21 L1460.36 1515.95 L1468.62 1514.29 L1473.3 1514.29 L1473.3 1544.91 L1480.93 1544.91 L1480.93 1548.85 L1461.03 1548.85 L1461.03 1544.91 Z\" fill=\"#000000\" fill-rule=\"evenodd\" fill-opacity=\"1\" /><path clip-path=\"url(#clip060)\" d=\"M1906.35 1544.91 L1922.67 1544.91 L1922.67 1548.85 L1900.73 1548.85 L1900.73 1544.91 Q1903.39 1542.16 1907.97 1537.53 Q1912.58 1532.88 1913.76 1531.53 Q1916.01 1529.01 1916.89 1527.27 Q1917.79 1525.51 1917.79 1523.82 Q1917.79 1521.07 1915.84 1519.33 Q1913.92 1517.6 1910.82 1517.6 Q1908.62 1517.6 1906.17 1518.36 Q1903.74 1519.13 1900.96 1520.68 L1900.96 1515.95 Q1903.78 1514.82 1906.24 1514.24 Q1908.69 1513.66 1910.73 1513.66 Q1916.1 1513.66 1919.29 1516.35 Q1922.49 1519.03 1922.49 1523.52 Q1922.49 1525.65 1921.68 1527.57 Q1920.89 1529.47 1918.78 1532.07 Q1918.2 1532.74 1915.1 1535.95 Q1912 1539.15 1906.35 1544.91 Z\" fill=\"#000000\" fill-rule=\"evenodd\" fill-opacity=\"1\" /><path clip-path=\"url(#clip060)\" d=\"M2357 1530.21 Q2360.36 1530.93 2362.24 1533.2 Q2364.13 1535.47 2364.13 1538.8 Q2364.13 1543.92 2360.61 1546.72 Q2357.1 1549.52 2350.61 1549.52 Q2348.44 1549.52 2346.12 1549.08 Q2343.83 1548.66 2341.38 1547.81 L2341.38 1543.29 Q2343.32 1544.43 2345.64 1545.01 Q2347.95 1545.58 2350.48 1545.58 Q2354.87 1545.58 2357.17 1543.85 Q2359.48 1542.11 2359.48 1538.8 Q2359.48 1535.75 2357.33 1534.03 Q2355.2 1532.3 2351.38 1532.3 L2347.35 1532.3 L2347.35 1528.45 L2351.56 1528.45 Q2355.01 1528.45 2356.84 1527.09 Q2358.67 1525.7 2358.67 1523.11 Q2358.67 1520.45 2356.77 1519.03 Q2354.9 1517.6 2351.38 1517.6 Q2349.46 1517.6 2347.26 1518.01 Q2345.06 1518.43 2342.42 1519.31 L2342.42 1515.14 Q2345.08 1514.4 2347.4 1514.03 Q2349.74 1513.66 2351.8 1513.66 Q2357.12 1513.66 2360.22 1516.09 Q2363.32 1518.5 2363.32 1522.62 Q2363.32 1525.49 2361.68 1527.48 Q2360.04 1529.45 2357 1530.21 Z\" fill=\"#000000\" fill-rule=\"evenodd\" fill-opacity=\"1\" /><polyline clip-path=\"url(#clip063)\" style=\"stroke:#000000; stroke-linecap:butt; stroke-linejoin:round; stroke-width:2; stroke-opacity:0.1; fill:none\" points=\"\n",
       "  147.478,1445.72 2352.76,1445.72 \n",
       "  \"/>\n",
       "<polyline clip-path=\"url(#clip063)\" style=\"stroke:#000000; stroke-linecap:butt; stroke-linejoin:round; stroke-width:2; stroke-opacity:0.1; fill:none\" points=\"\n",
       "  147.478,1174.17 2352.76,1174.17 \n",
       "  \"/>\n",
       "<polyline clip-path=\"url(#clip063)\" style=\"stroke:#000000; stroke-linecap:butt; stroke-linejoin:round; stroke-width:2; stroke-opacity:0.1; fill:none\" points=\"\n",
       "  147.478,902.62 2352.76,902.62 \n",
       "  \"/>\n",
       "<polyline clip-path=\"url(#clip063)\" style=\"stroke:#000000; stroke-linecap:butt; stroke-linejoin:round; stroke-width:2; stroke-opacity:0.1; fill:none\" points=\"\n",
       "  147.478,631.072 2352.76,631.072 \n",
       "  \"/>\n",
       "<polyline clip-path=\"url(#clip063)\" style=\"stroke:#000000; stroke-linecap:butt; stroke-linejoin:round; stroke-width:2; stroke-opacity:0.1; fill:none\" points=\"\n",
       "  147.478,359.524 2352.76,359.524 \n",
       "  \"/>\n",
       "<polyline clip-path=\"url(#clip063)\" style=\"stroke:#000000; stroke-linecap:butt; stroke-linejoin:round; stroke-width:2; stroke-opacity:0.1; fill:none\" points=\"\n",
       "  147.478,87.9763 2352.76,87.9763 \n",
       "  \"/>\n",
       "<polyline clip-path=\"url(#clip060)\" style=\"stroke:#000000; stroke-linecap:butt; stroke-linejoin:round; stroke-width:4; stroke-opacity:1; fill:none\" points=\"\n",
       "  147.478,1486.45 147.478,47.2441 \n",
       "  \"/>\n",
       "<polyline clip-path=\"url(#clip060)\" style=\"stroke:#000000; stroke-linecap:butt; stroke-linejoin:round; stroke-width:4; stroke-opacity:1; fill:none\" points=\"\n",
       "  147.478,1445.72 166.376,1445.72 \n",
       "  \"/>\n",
       "<polyline clip-path=\"url(#clip060)\" style=\"stroke:#000000; stroke-linecap:butt; stroke-linejoin:round; stroke-width:4; stroke-opacity:1; fill:none\" points=\"\n",
       "  147.478,1174.17 166.376,1174.17 \n",
       "  \"/>\n",
       "<polyline clip-path=\"url(#clip060)\" style=\"stroke:#000000; stroke-linecap:butt; stroke-linejoin:round; stroke-width:4; stroke-opacity:1; fill:none\" points=\"\n",
       "  147.478,902.62 166.376,902.62 \n",
       "  \"/>\n",
       "<polyline clip-path=\"url(#clip060)\" style=\"stroke:#000000; stroke-linecap:butt; stroke-linejoin:round; stroke-width:4; stroke-opacity:1; fill:none\" points=\"\n",
       "  147.478,631.072 166.376,631.072 \n",
       "  \"/>\n",
       "<polyline clip-path=\"url(#clip060)\" style=\"stroke:#000000; stroke-linecap:butt; stroke-linejoin:round; stroke-width:4; stroke-opacity:1; fill:none\" points=\"\n",
       "  147.478,359.524 166.376,359.524 \n",
       "  \"/>\n",
       "<polyline clip-path=\"url(#clip060)\" style=\"stroke:#000000; stroke-linecap:butt; stroke-linejoin:round; stroke-width:4; stroke-opacity:1; fill:none\" points=\"\n",
       "  147.478,87.9763 166.376,87.9763 \n",
       "  \"/>\n",
       "<path clip-path=\"url(#clip060)\" d=\"M51.3625 1446.17 L81.0383 1446.17 L81.0383 1450.1 L51.3625 1450.1 L51.3625 1446.17 Z\" fill=\"#000000\" fill-rule=\"evenodd\" fill-opacity=\"1\" /><path clip-path=\"url(#clip060)\" d=\"M95.1586 1459.06 L111.478 1459.06 L111.478 1463 L89.5336 1463 L89.5336 1459.06 Q92.1956 1456.31 96.7789 1451.68 Q101.385 1447.02 102.566 1445.68 Q104.811 1443.16 105.691 1441.42 Q106.594 1439.66 106.594 1437.97 Q106.594 1435.22 104.649 1433.48 Q102.728 1431.75 99.6261 1431.75 Q97.4271 1431.75 94.9734 1432.51 Q92.5428 1433.27 89.7651 1434.82 L89.7651 1430.1 Q92.5891 1428.97 95.0428 1428.39 Q97.4965 1427.81 99.5335 1427.81 Q104.904 1427.81 108.098 1430.5 Q111.293 1433.18 111.293 1437.67 Q111.293 1439.8 110.483 1441.72 Q109.696 1443.62 107.589 1446.21 Q107.01 1446.88 103.909 1450.1 Q100.807 1453.3 95.1586 1459.06 Z\" fill=\"#000000\" fill-rule=\"evenodd\" fill-opacity=\"1\" /><path clip-path=\"url(#clip060)\" d=\"M50.9921 1174.62 L80.6679 1174.62 L80.6679 1178.55 L50.9921 1178.55 L50.9921 1174.62 Z\" fill=\"#000000\" fill-rule=\"evenodd\" fill-opacity=\"1\" /><path clip-path=\"url(#clip060)\" d=\"M91.5706 1187.51 L99.2095 1187.51 L99.2095 1161.15 L90.8993 1162.81 L90.8993 1158.55 L99.1632 1156.89 L103.839 1156.89 L103.839 1187.51 L111.478 1187.51 L111.478 1191.45 L91.5706 1191.45 L91.5706 1187.51 Z\" fill=\"#000000\" fill-rule=\"evenodd\" fill-opacity=\"1\" /><path clip-path=\"url(#clip060)\" d=\"M99.5335 888.419 Q95.9224 888.419 94.0937 891.983 Q92.2882 895.525 92.2882 902.655 Q92.2882 909.761 94.0937 913.326 Q95.9224 916.868 99.5335 916.868 Q103.168 916.868 104.973 913.326 Q106.802 909.761 106.802 902.655 Q106.802 895.525 104.973 891.983 Q103.168 888.419 99.5335 888.419 M99.5335 884.715 Q105.344 884.715 108.399 889.321 Q111.478 893.905 111.478 902.655 Q111.478 911.381 108.399 915.988 Q105.344 920.571 99.5335 920.571 Q93.7234 920.571 90.6447 915.988 Q87.5892 911.381 87.5892 902.655 Q87.5892 893.905 90.6447 889.321 Q93.7234 884.715 99.5335 884.715 Z\" fill=\"#000000\" fill-rule=\"evenodd\" fill-opacity=\"1\" /><path clip-path=\"url(#clip060)\" d=\"M91.5706 644.417 L99.2095 644.417 L99.2095 618.051 L90.8993 619.718 L90.8993 615.459 L99.1632 613.792 L103.839 613.792 L103.839 644.417 L111.478 644.417 L111.478 648.352 L91.5706 648.352 L91.5706 644.417 Z\" fill=\"#000000\" fill-rule=\"evenodd\" fill-opacity=\"1\" /><path clip-path=\"url(#clip060)\" d=\"M95.1586 372.869 L111.478 372.869 L111.478 376.804 L89.5336 376.804 L89.5336 372.869 Q92.1956 370.114 96.7789 365.485 Q101.385 360.832 102.566 359.489 Q104.811 356.966 105.691 355.23 Q106.594 353.471 106.594 351.781 Q106.594 349.027 104.649 347.29 Q102.728 345.554 99.6261 345.554 Q97.4271 345.554 94.9734 346.318 Q92.5428 347.082 89.7651 348.633 L89.7651 343.911 Q92.5891 342.777 95.0428 342.198 Q97.4965 341.619 99.5335 341.619 Q104.904 341.619 108.098 344.304 Q111.293 346.99 111.293 351.48 Q111.293 353.61 110.483 355.531 Q109.696 357.429 107.589 360.022 Q107.01 360.693 103.909 363.911 Q100.807 367.105 95.1586 372.869 Z\" fill=\"#000000\" fill-rule=\"evenodd\" fill-opacity=\"1\" /><path clip-path=\"url(#clip060)\" d=\"M104.348 86.6221 Q107.705 87.3397 109.58 89.6082 Q111.478 91.8767 111.478 95.21 Q111.478 100.326 107.959 103.127 Q104.441 105.928 97.9595 105.928 Q95.7836 105.928 93.4688 105.488 Q91.1771 105.071 88.7234 104.215 L88.7234 99.7008 Q90.6678 100.835 92.9826 101.414 Q95.2974 101.992 97.8206 101.992 Q102.219 101.992 104.51 100.256 Q106.825 98.5202 106.825 95.21 Q106.825 92.1545 104.672 90.4415 Q102.543 88.7054 98.7234 88.7054 L94.6956 88.7054 L94.6956 84.8629 L98.9085 84.8629 Q102.358 84.8629 104.186 83.4971 Q106.015 82.1083 106.015 79.5157 Q106.015 76.8537 104.117 75.4416 Q102.242 74.0064 98.7234 74.0064 Q96.8021 74.0064 94.603 74.4231 Q92.4039 74.8398 89.7651 75.7194 L89.7651 71.5528 Q92.4271 70.812 94.7419 70.4416 Q97.0798 70.0713 99.14 70.0713 Q104.464 70.0713 107.566 72.5018 Q110.668 74.9092 110.668 79.0296 Q110.668 81.8999 109.024 83.8907 Q107.381 85.8582 104.348 86.6221 Z\" fill=\"#000000\" fill-rule=\"evenodd\" fill-opacity=\"1\" /><polyline clip-path=\"url(#clip063)\" style=\"stroke:#009af9; stroke-linecap:butt; stroke-linejoin:round; stroke-width:16; stroke-opacity:1; fill:none\" points=\"\n",
       "  147.478,1445.72 169.014,1432.46 368.149,1309.85 487.82,1236.17 589.001,1173.88 698.912,1106.21 800.24,1043.82 908.874,976.941 1034.74,899.45 1146.59,830.585 \n",
       "  1244.68,770.196 1351.61,704.357 1459.19,638.126 1578.12,564.899 1691.29,495.226 1808.96,422.781 1908.01,361.799 2028.93,287.346 2142.61,217.358 2324.73,105.232 \n",
       "  2352.76,87.9763 \n",
       "  \"/>\n",
       "<polyline clip-path=\"url(#clip063)\" style=\"stroke:#e26f46; stroke-linecap:butt; stroke-linejoin:round; stroke-width:16; stroke-opacity:1; fill:none\" points=\"\n",
       "  147.478,1015.62 169.014,1003.44 368.149,883.323 487.82,811.435 589.001,755.66 643.957,728.421 698.912,703.883 749.576,683.984 800.24,666.966 854.557,652.176 \n",
       "  908.874,641.179 971.806,633.399 1034.74,631.091 1090.66,633.671 1146.59,640.571 1195.63,650.089 1244.68,662.726 1298.14,679.874 1351.61,700.292 1405.4,723.826 \n",
       "  1459.19,750.017 1578.12,815.37 1691.29,883.484 1808.96,955.571 1908.01,1013.55 1968.47,1046.38 2028.93,1076.52 2085.77,1101.88 2142.61,1123.93 2188.14,1138.97 \n",
       "  2233.67,1151.49 2279.2,1161.36 2324.73,1168.47 2331.74,1169.32 2338.74,1170.1 2345.75,1170.81 2352.76,1171.45 \n",
       "  \"/>\n",
       "<circle clip-path=\"url(#clip063)\" cx=\"1355.57\" cy=\"701.923\" r=\"14\" fill=\"#3da44d\" fill-rule=\"evenodd\" fill-opacity=\"1\" stroke=\"#000000\" stroke-opacity=\"1\" stroke-width=\"3.2\"/>\n",
       "<path clip-path=\"url(#clip060)\" d=\"\n",
       "M1930.48 406.258 L2279.25 406.258 L2279.25 95.2176 L1930.48 95.2176  Z\n",
       "  \" fill=\"#ffffff\" fill-rule=\"evenodd\" fill-opacity=\"1\"/>\n",
       "<polyline clip-path=\"url(#clip060)\" style=\"stroke:#000000; stroke-linecap:butt; stroke-linejoin:round; stroke-width:4; stroke-opacity:1; fill:none\" points=\"\n",
       "  1930.48,406.258 2279.25,406.258 2279.25,95.2176 1930.48,95.2176 1930.48,406.258 \n",
       "  \"/>\n",
       "<polyline clip-path=\"url(#clip060)\" style=\"stroke:#009af9; stroke-linecap:butt; stroke-linejoin:round; stroke-width:6; stroke-opacity:1; fill:none\" points=\"\n",
       "  1954.99,172.978 2102,172.978 \n",
       "  \"/>\n",
       "<path clip-path=\"url(#clip060)\" d=\"M2147.27 202.509 Q2144.56 209.453 2141.99 211.571 Q2139.42 213.689 2135.12 213.689 L2130.01 213.689 L2130.01 208.342 L2133.76 208.342 Q2136.4 208.342 2137.86 207.092 Q2139.32 205.842 2141.09 201.189 L2142.24 198.273 L2126.51 160.009 L2133.28 160.009 L2145.43 190.425 L2157.58 160.009 L2164.35 160.009 L2147.27 202.509 Z\" fill=\"#000000\" fill-rule=\"evenodd\" fill-opacity=\"1\" /><path clip-path=\"url(#clip060)\" d=\"M2175.29 192.995 L2186.75 192.995 L2186.75 153.446 L2174.28 155.946 L2174.28 149.558 L2186.68 147.058 L2193.69 147.058 L2193.69 192.995 L2205.15 192.995 L2205.15 198.898 L2175.29 198.898 L2175.29 192.995 Z\" fill=\"#000000\" fill-rule=\"evenodd\" fill-opacity=\"1\" /><polyline clip-path=\"url(#clip060)\" style=\"stroke:#e26f46; stroke-linecap:butt; stroke-linejoin:round; stroke-width:6; stroke-opacity:1; fill:none\" points=\"\n",
       "  1954.99,250.738 2102,250.738 \n",
       "  \"/>\n",
       "<path clip-path=\"url(#clip060)\" d=\"M2147.27 280.269 Q2144.56 287.213 2141.99 289.331 Q2139.42 291.449 2135.12 291.449 L2130.01 291.449 L2130.01 286.102 L2133.76 286.102 Q2136.4 286.102 2137.86 284.852 Q2139.32 283.602 2141.09 278.949 L2142.24 276.033 L2126.51 237.769 L2133.28 237.769 L2145.43 268.185 L2157.58 237.769 L2164.35 237.769 L2147.27 280.269 Z\" fill=\"#000000\" fill-rule=\"evenodd\" fill-opacity=\"1\" /><path clip-path=\"url(#clip060)\" d=\"M2180.12 270.755 L2204.6 270.755 L2204.6 276.658 L2171.68 276.658 L2171.68 270.755 Q2175.67 266.623 2182.55 259.678 Q2189.46 252.699 2191.23 250.685 Q2194.6 246.901 2195.92 244.297 Q2197.27 241.658 2197.27 239.123 Q2197.27 234.991 2194.35 232.387 Q2191.47 229.783 2186.82 229.783 Q2183.52 229.783 2179.84 230.929 Q2176.19 232.074 2172.03 234.401 L2172.03 227.318 Q2176.26 225.616 2179.94 224.748 Q2183.62 223.88 2186.68 223.88 Q2194.74 223.88 2199.53 227.908 Q2204.32 231.936 2204.32 238.672 Q2204.32 241.866 2203.1 244.748 Q2201.92 247.595 2198.76 251.484 Q2197.9 252.491 2193.24 257.317 Q2188.59 262.109 2180.12 270.755 Z\" fill=\"#000000\" fill-rule=\"evenodd\" fill-opacity=\"1\" /><circle clip-path=\"url(#clip060)\" cx=\"2028.49\" cy=\"328.498\" r=\"34\" fill=\"#3da44d\" fill-rule=\"evenodd\" fill-opacity=\"1\" stroke=\"#000000\" stroke-opacity=\"1\" stroke-width=\"7.68\"/>\n",
       "<path clip-path=\"url(#clip060)\" d=\"M2162.34 313.351 Q2162.34 315.318 2161.11 316.443 Q2159.88 317.532 2158.48 317.532 Q2157.14 317.532 2156.44 316.759 Q2155.74 315.986 2155.74 315.002 Q2155.74 313.667 2156.72 312.508 Q2157.71 311.348 2159.18 311.102 Q2157.74 310.189 2155.6 310.189 Q2154.19 310.189 2152.96 310.927 Q2151.77 311.664 2151.03 312.613 Q2150.33 313.562 2149.7 314.932 Q2149.1 316.267 2148.85 317.075 Q2148.64 317.848 2148.47 318.691 L2146.01 328.528 Q2144.81 333.201 2144.81 334.853 Q2144.81 336.89 2145.8 338.261 Q2146.78 339.596 2148.75 339.596 Q2149.52 339.596 2150.4 339.385 Q2151.28 339.139 2152.4 338.506 Q2153.56 337.839 2154.58 336.855 Q2155.63 335.836 2156.65 334.115 Q2157.67 332.393 2158.34 330.18 Q2158.55 329.407 2159.25 329.407 Q2160.13 329.407 2160.13 330.11 Q2160.13 330.707 2159.64 331.972 Q2159.18 333.201 2158.16 334.817 Q2157.18 336.398 2155.88 337.839 Q2154.58 339.244 2152.65 340.228 Q2150.71 341.212 2148.61 341.212 Q2145.58 341.212 2143.58 339.596 Q2141.58 337.979 2140.84 335.731 Q2140.67 336.047 2140.42 336.469 Q2140.17 336.89 2139.44 337.839 Q2138.73 338.752 2137.93 339.455 Q2137.12 340.123 2135.85 340.65 Q2134.62 341.212 2133.29 341.212 Q2131.6 341.212 2130.09 340.72 Q2128.61 340.228 2127.56 339.104 Q2126.51 337.979 2126.51 336.434 Q2126.51 334.712 2127.67 333.517 Q2128.86 332.288 2130.48 332.288 Q2131.5 332.288 2132.3 332.885 Q2133.15 333.482 2133.15 334.782 Q2133.15 336.223 2132.16 337.312 Q2131.18 338.401 2129.77 338.682 Q2131.21 339.596 2133.36 339.596 Q2135.68 339.596 2137.5 337.558 Q2139.33 335.52 2140.21 332.112 Q2142.39 323.926 2143.23 320.272 Q2144.07 316.583 2144.07 315.002 Q2144.07 313.526 2143.69 312.508 Q2143.3 311.489 2142.63 311.032 Q2142 310.54 2141.4 310.364 Q2140.84 310.189 2140.21 310.189 Q2139.15 310.189 2137.96 310.61 Q2136.8 311.032 2135.4 312.016 Q2134.03 312.964 2132.73 314.932 Q2131.43 316.899 2130.55 319.605 Q2130.37 320.413 2129.6 320.413 Q2128.76 320.377 2128.76 319.675 Q2128.76 319.078 2129.21 317.848 Q2129.7 316.583 2130.69 315.002 Q2131.71 313.421 2133.01 312.016 Q2134.34 310.575 2136.27 309.591 Q2138.24 308.608 2140.35 308.608 Q2141.3 308.608 2142.21 308.819 Q2143.16 308.994 2144.28 309.521 Q2145.44 310.048 2146.46 311.208 Q2147.48 312.367 2148.11 314.053 Q2148.54 313.245 2149.1 312.472 Q2149.7 311.699 2150.61 310.751 Q2151.56 309.767 2152.86 309.205 Q2154.19 308.608 2155.67 308.608 Q2157.11 308.608 2158.51 308.994 Q2159.92 309.346 2161.11 310.505 Q2162.34 311.629 2162.34 313.351 Z\" fill=\"#000000\" fill-rule=\"evenodd\" fill-opacity=\"1\" /><path clip-path=\"url(#clip060)\" d=\"M2183.64 346.604 Q2183.64 345.743 2184.8 345.177 L2191.81 341.857 L2184.7 338.537 Q2183.64 338.045 2183.64 337.184 Q2183.64 336.693 2184.04 336.25 Q2184.46 335.783 2185 335.783 Q2185.39 335.783 2186.1 336.324 L2192.35 340.849 Q2191.59 332.536 2191.61 332.29 Q2191.61 331.798 2191.98 331.43 Q2192.35 331.036 2192.97 331.036 Q2193.46 331.036 2193.85 331.405 Q2194.27 331.749 2194.27 332.29 L2193.53 340.849 L2199.11 336.717 Q2200.42 335.758 2200.88 335.783 Q2201.45 335.783 2201.84 336.225 Q2202.24 336.668 2202.24 337.184 Q2202.24 338.045 2201.08 338.586 L2194.07 341.906 L2201.18 345.251 Q2202.24 345.743 2202.24 346.604 Q2202.24 347.096 2201.82 347.563 Q2201.43 348.006 2200.88 348.006 Q2200.59 348.006 2200.07 347.711 Q2199.97 347.661 2198.92 346.874 Q2197.86 346.087 2196.21 344.882 Q2194.59 343.677 2193.53 342.915 Q2194.29 351.227 2194.27 351.473 Q2194.27 351.965 2193.9 352.359 Q2193.53 352.752 2192.92 352.752 Q2192.42 352.752 2192.01 352.408 Q2191.61 352.039 2191.61 351.473 L2192.35 342.915 L2185.32 348.006 Q2184.55 348.006 2184.14 347.637 Q2183.74 347.243 2183.69 347.022 Q2183.64 346.801 2183.64 346.604 Z\" fill=\"#000000\" fill-rule=\"evenodd\" fill-opacity=\"1\" /></svg>\n"
      ]
     },
     "execution_count": 116,
     "metadata": {},
     "output_type": "execute_result"
    }
   ],
   "source": [
    "xstar, _ = newton(f, fp, 1.)\n",
    "g(x) = cos(x)\n",
    "gp(x) = -sin(x)\n",
    "@show xstar\n",
    "@show gp(xstar)\n",
    "plot([x->x, g], xlims=(-2, 3))\n",
    "scatter!([xstar], [xstar],\n",
    "    label=\"\\$x_*\\$\")"
   ]
  },
  {
   "cell_type": "code",
   "execution_count": 117,
   "id": "72c73e83",
   "metadata": {
    "cell_style": "split"
   },
   "outputs": [
    {
     "data": {
      "image/svg+xml": [
       "<?xml version=\"1.0\" encoding=\"utf-8\"?>\n",
       "<svg xmlns=\"http://www.w3.org/2000/svg\" xmlns:xlink=\"http://www.w3.org/1999/xlink\" width=\"600\" height=\"400\" viewBox=\"0 0 2400 1600\">\n",
       "<defs>\n",
       "  <clipPath id=\"clip100\">\n",
       "    <rect x=\"0\" y=\"0\" width=\"2400\" height=\"1600\"/>\n",
       "  </clipPath>\n",
       "</defs>\n",
       "<path clip-path=\"url(#clip100)\" d=\"\n",
       "M0 1600 L2400 1600 L2400 0 L0 0  Z\n",
       "  \" fill=\"#ffffff\" fill-rule=\"evenodd\" fill-opacity=\"1\"/>\n",
       "<defs>\n",
       "  <clipPath id=\"clip101\">\n",
       "    <rect x=\"480\" y=\"0\" width=\"1681\" height=\"1600\"/>\n",
       "  </clipPath>\n",
       "</defs>\n",
       "<defs>\n",
       "  <clipPath id=\"clip102\">\n",
       "    <rect x=\"147\" y=\"47\" width=\"2206\" height=\"1440\"/>\n",
       "  </clipPath>\n",
       "</defs>\n",
       "<path clip-path=\"url(#clip100)\" d=\"\n",
       "M147.478 1486.45 L2352.76 1486.45 L2352.76 47.2441 L147.478 47.2441  Z\n",
       "  \" fill=\"#ffffff\" fill-rule=\"evenodd\" fill-opacity=\"1\"/>\n",
       "<polyline clip-path=\"url(#clip102)\" style=\"stroke:#000000; stroke-linecap:butt; stroke-linejoin:round; stroke-width:2; stroke-opacity:0.1; fill:none\" points=\"\n",
       "  147.478,1486.45 147.478,47.2441 \n",
       "  \"/>\n",
       "<polyline clip-path=\"url(#clip102)\" style=\"stroke:#000000; stroke-linecap:butt; stroke-linejoin:round; stroke-width:2; stroke-opacity:0.1; fill:none\" points=\"\n",
       "  588.534,1486.45 588.534,47.2441 \n",
       "  \"/>\n",
       "<polyline clip-path=\"url(#clip102)\" style=\"stroke:#000000; stroke-linecap:butt; stroke-linejoin:round; stroke-width:2; stroke-opacity:0.1; fill:none\" points=\"\n",
       "  1029.59,1486.45 1029.59,47.2441 \n",
       "  \"/>\n",
       "<polyline clip-path=\"url(#clip102)\" style=\"stroke:#000000; stroke-linecap:butt; stroke-linejoin:round; stroke-width:2; stroke-opacity:0.1; fill:none\" points=\"\n",
       "  1470.64,1486.45 1470.64,47.2441 \n",
       "  \"/>\n",
       "<polyline clip-path=\"url(#clip102)\" style=\"stroke:#000000; stroke-linecap:butt; stroke-linejoin:round; stroke-width:2; stroke-opacity:0.1; fill:none\" points=\"\n",
       "  1911.7,1486.45 1911.7,47.2441 \n",
       "  \"/>\n",
       "<polyline clip-path=\"url(#clip102)\" style=\"stroke:#000000; stroke-linecap:butt; stroke-linejoin:round; stroke-width:2; stroke-opacity:0.1; fill:none\" points=\"\n",
       "  2352.76,1486.45 2352.76,47.2441 \n",
       "  \"/>\n",
       "<polyline clip-path=\"url(#clip100)\" style=\"stroke:#000000; stroke-linecap:butt; stroke-linejoin:round; stroke-width:4; stroke-opacity:1; fill:none\" points=\"\n",
       "  147.478,1486.45 2352.76,1486.45 \n",
       "  \"/>\n",
       "<polyline clip-path=\"url(#clip100)\" style=\"stroke:#000000; stroke-linecap:butt; stroke-linejoin:round; stroke-width:4; stroke-opacity:1; fill:none\" points=\"\n",
       "  147.478,1486.45 147.478,1467.55 \n",
       "  \"/>\n",
       "<polyline clip-path=\"url(#clip100)\" style=\"stroke:#000000; stroke-linecap:butt; stroke-linejoin:round; stroke-width:4; stroke-opacity:1; fill:none\" points=\"\n",
       "  588.534,1486.45 588.534,1467.55 \n",
       "  \"/>\n",
       "<polyline clip-path=\"url(#clip100)\" style=\"stroke:#000000; stroke-linecap:butt; stroke-linejoin:round; stroke-width:4; stroke-opacity:1; fill:none\" points=\"\n",
       "  1029.59,1486.45 1029.59,1467.55 \n",
       "  \"/>\n",
       "<polyline clip-path=\"url(#clip100)\" style=\"stroke:#000000; stroke-linecap:butt; stroke-linejoin:round; stroke-width:4; stroke-opacity:1; fill:none\" points=\"\n",
       "  1470.64,1486.45 1470.64,1467.55 \n",
       "  \"/>\n",
       "<polyline clip-path=\"url(#clip100)\" style=\"stroke:#000000; stroke-linecap:butt; stroke-linejoin:round; stroke-width:4; stroke-opacity:1; fill:none\" points=\"\n",
       "  1911.7,1486.45 1911.7,1467.55 \n",
       "  \"/>\n",
       "<polyline clip-path=\"url(#clip100)\" style=\"stroke:#000000; stroke-linecap:butt; stroke-linejoin:round; stroke-width:4; stroke-opacity:1; fill:none\" points=\"\n",
       "  2352.76,1486.45 2352.76,1467.55 \n",
       "  \"/>\n",
       "<path clip-path=\"url(#clip100)\" d=\"M117.42 1532.02 L147.096 1532.02 L147.096 1535.95 L117.42 1535.95 L117.42 1532.02 Z\" fill=\"#000000\" fill-rule=\"evenodd\" fill-opacity=\"1\" /><path clip-path=\"url(#clip100)\" d=\"M161.216 1544.91 L177.536 1544.91 L177.536 1548.85 L155.591 1548.85 L155.591 1544.91 Q158.253 1542.16 162.837 1537.53 Q167.443 1532.88 168.624 1531.53 Q170.869 1529.01 171.749 1527.27 Q172.651 1525.51 172.651 1523.82 Q172.651 1521.07 170.707 1519.33 Q168.786 1517.6 165.684 1517.6 Q163.485 1517.6 161.031 1518.36 Q158.601 1519.13 155.823 1520.68 L155.823 1515.95 Q158.647 1514.82 161.101 1514.24 Q163.554 1513.66 165.591 1513.66 Q170.962 1513.66 174.156 1516.35 Q177.35 1519.03 177.35 1523.52 Q177.35 1525.65 176.54 1527.57 Q175.753 1529.47 173.647 1532.07 Q173.068 1532.74 169.966 1535.95 Q166.864 1539.15 161.216 1544.91 Z\" fill=\"#000000\" fill-rule=\"evenodd\" fill-opacity=\"1\" /><path clip-path=\"url(#clip100)\" d=\"M558.291 1532.02 L587.966 1532.02 L587.966 1535.95 L558.291 1535.95 L558.291 1532.02 Z\" fill=\"#000000\" fill-rule=\"evenodd\" fill-opacity=\"1\" /><path clip-path=\"url(#clip100)\" d=\"M598.869 1544.91 L606.508 1544.91 L606.508 1518.55 L598.198 1520.21 L598.198 1515.95 L606.462 1514.29 L611.138 1514.29 L611.138 1544.91 L618.776 1544.91 L618.776 1548.85 L598.869 1548.85 L598.869 1544.91 Z\" fill=\"#000000\" fill-rule=\"evenodd\" fill-opacity=\"1\" /><path clip-path=\"url(#clip100)\" d=\"M1029.59 1517.37 Q1025.98 1517.37 1024.15 1520.93 Q1022.34 1524.47 1022.34 1531.6 Q1022.34 1538.71 1024.15 1542.27 Q1025.98 1545.82 1029.59 1545.82 Q1033.22 1545.82 1035.03 1542.27 Q1036.86 1538.71 1036.86 1531.6 Q1036.86 1524.47 1035.03 1520.93 Q1033.22 1517.37 1029.59 1517.37 M1029.59 1513.66 Q1035.4 1513.66 1038.45 1518.27 Q1041.53 1522.85 1041.53 1531.6 Q1041.53 1540.33 1038.45 1544.94 Q1035.4 1549.52 1029.59 1549.52 Q1023.78 1549.52 1020.7 1544.94 Q1017.64 1540.33 1017.64 1531.6 Q1017.64 1522.85 1020.7 1518.27 Q1023.78 1513.66 1029.59 1513.66 Z\" fill=\"#000000\" fill-rule=\"evenodd\" fill-opacity=\"1\" /><path clip-path=\"url(#clip100)\" d=\"M1461.03 1544.91 L1468.67 1544.91 L1468.67 1518.55 L1460.36 1520.21 L1460.36 1515.95 L1468.62 1514.29 L1473.3 1514.29 L1473.3 1544.91 L1480.93 1544.91 L1480.93 1548.85 L1461.03 1548.85 L1461.03 1544.91 Z\" fill=\"#000000\" fill-rule=\"evenodd\" fill-opacity=\"1\" /><path clip-path=\"url(#clip100)\" d=\"M1906.35 1544.91 L1922.67 1544.91 L1922.67 1548.85 L1900.73 1548.85 L1900.73 1544.91 Q1903.39 1542.16 1907.97 1537.53 Q1912.58 1532.88 1913.76 1531.53 Q1916.01 1529.01 1916.89 1527.27 Q1917.79 1525.51 1917.79 1523.82 Q1917.79 1521.07 1915.84 1519.33 Q1913.92 1517.6 1910.82 1517.6 Q1908.62 1517.6 1906.17 1518.36 Q1903.74 1519.13 1900.96 1520.68 L1900.96 1515.95 Q1903.78 1514.82 1906.24 1514.24 Q1908.69 1513.66 1910.73 1513.66 Q1916.1 1513.66 1919.29 1516.35 Q1922.49 1519.03 1922.49 1523.52 Q1922.49 1525.65 1921.68 1527.57 Q1920.89 1529.47 1918.78 1532.07 Q1918.2 1532.74 1915.1 1535.95 Q1912 1539.15 1906.35 1544.91 Z\" fill=\"#000000\" fill-rule=\"evenodd\" fill-opacity=\"1\" /><path clip-path=\"url(#clip100)\" d=\"M2357 1530.21 Q2360.36 1530.93 2362.24 1533.2 Q2364.13 1535.47 2364.13 1538.8 Q2364.13 1543.92 2360.61 1546.72 Q2357.1 1549.52 2350.61 1549.52 Q2348.44 1549.52 2346.12 1549.08 Q2343.83 1548.66 2341.38 1547.81 L2341.38 1543.29 Q2343.32 1544.43 2345.64 1545.01 Q2347.95 1545.58 2350.48 1545.58 Q2354.87 1545.58 2357.17 1543.85 Q2359.48 1542.11 2359.48 1538.8 Q2359.48 1535.75 2357.33 1534.03 Q2355.2 1532.3 2351.38 1532.3 L2347.35 1532.3 L2347.35 1528.45 L2351.56 1528.45 Q2355.01 1528.45 2356.84 1527.09 Q2358.67 1525.7 2358.67 1523.11 Q2358.67 1520.45 2356.77 1519.03 Q2354.9 1517.6 2351.38 1517.6 Q2349.46 1517.6 2347.26 1518.01 Q2345.06 1518.43 2342.42 1519.31 L2342.42 1515.14 Q2345.08 1514.4 2347.4 1514.03 Q2349.74 1513.66 2351.8 1513.66 Q2357.12 1513.66 2360.22 1516.09 Q2363.32 1518.5 2363.32 1522.62 Q2363.32 1525.49 2361.68 1527.48 Q2360.04 1529.45 2357 1530.21 Z\" fill=\"#000000\" fill-rule=\"evenodd\" fill-opacity=\"1\" /><polyline clip-path=\"url(#clip102)\" style=\"stroke:#000000; stroke-linecap:butt; stroke-linejoin:round; stroke-width:2; stroke-opacity:0.1; fill:none\" points=\"\n",
       "  147.478,1445.72 2352.76,1445.72 \n",
       "  \"/>\n",
       "<polyline clip-path=\"url(#clip102)\" style=\"stroke:#000000; stroke-linecap:butt; stroke-linejoin:round; stroke-width:2; stroke-opacity:0.1; fill:none\" points=\"\n",
       "  147.478,1174.17 2352.76,1174.17 \n",
       "  \"/>\n",
       "<polyline clip-path=\"url(#clip102)\" style=\"stroke:#000000; stroke-linecap:butt; stroke-linejoin:round; stroke-width:2; stroke-opacity:0.1; fill:none\" points=\"\n",
       "  147.478,902.62 2352.76,902.62 \n",
       "  \"/>\n",
       "<polyline clip-path=\"url(#clip102)\" style=\"stroke:#000000; stroke-linecap:butt; stroke-linejoin:round; stroke-width:2; stroke-opacity:0.1; fill:none\" points=\"\n",
       "  147.478,631.072 2352.76,631.072 \n",
       "  \"/>\n",
       "<polyline clip-path=\"url(#clip102)\" style=\"stroke:#000000; stroke-linecap:butt; stroke-linejoin:round; stroke-width:2; stroke-opacity:0.1; fill:none\" points=\"\n",
       "  147.478,359.524 2352.76,359.524 \n",
       "  \"/>\n",
       "<polyline clip-path=\"url(#clip102)\" style=\"stroke:#000000; stroke-linecap:butt; stroke-linejoin:round; stroke-width:2; stroke-opacity:0.1; fill:none\" points=\"\n",
       "  147.478,87.9763 2352.76,87.9763 \n",
       "  \"/>\n",
       "<polyline clip-path=\"url(#clip100)\" style=\"stroke:#000000; stroke-linecap:butt; stroke-linejoin:round; stroke-width:4; stroke-opacity:1; fill:none\" points=\"\n",
       "  147.478,1486.45 147.478,47.2441 \n",
       "  \"/>\n",
       "<polyline clip-path=\"url(#clip100)\" style=\"stroke:#000000; stroke-linecap:butt; stroke-linejoin:round; stroke-width:4; stroke-opacity:1; fill:none\" points=\"\n",
       "  147.478,1445.72 166.376,1445.72 \n",
       "  \"/>\n",
       "<polyline clip-path=\"url(#clip100)\" style=\"stroke:#000000; stroke-linecap:butt; stroke-linejoin:round; stroke-width:4; stroke-opacity:1; fill:none\" points=\"\n",
       "  147.478,1174.17 166.376,1174.17 \n",
       "  \"/>\n",
       "<polyline clip-path=\"url(#clip100)\" style=\"stroke:#000000; stroke-linecap:butt; stroke-linejoin:round; stroke-width:4; stroke-opacity:1; fill:none\" points=\"\n",
       "  147.478,902.62 166.376,902.62 \n",
       "  \"/>\n",
       "<polyline clip-path=\"url(#clip100)\" style=\"stroke:#000000; stroke-linecap:butt; stroke-linejoin:round; stroke-width:4; stroke-opacity:1; fill:none\" points=\"\n",
       "  147.478,631.072 166.376,631.072 \n",
       "  \"/>\n",
       "<polyline clip-path=\"url(#clip100)\" style=\"stroke:#000000; stroke-linecap:butt; stroke-linejoin:round; stroke-width:4; stroke-opacity:1; fill:none\" points=\"\n",
       "  147.478,359.524 166.376,359.524 \n",
       "  \"/>\n",
       "<polyline clip-path=\"url(#clip100)\" style=\"stroke:#000000; stroke-linecap:butt; stroke-linejoin:round; stroke-width:4; stroke-opacity:1; fill:none\" points=\"\n",
       "  147.478,87.9763 166.376,87.9763 \n",
       "  \"/>\n",
       "<path clip-path=\"url(#clip100)\" d=\"M51.3625 1446.17 L81.0383 1446.17 L81.0383 1450.1 L51.3625 1450.1 L51.3625 1446.17 Z\" fill=\"#000000\" fill-rule=\"evenodd\" fill-opacity=\"1\" /><path clip-path=\"url(#clip100)\" d=\"M95.1586 1459.06 L111.478 1459.06 L111.478 1463 L89.5336 1463 L89.5336 1459.06 Q92.1956 1456.31 96.7789 1451.68 Q101.385 1447.02 102.566 1445.68 Q104.811 1443.16 105.691 1441.42 Q106.594 1439.66 106.594 1437.97 Q106.594 1435.22 104.649 1433.48 Q102.728 1431.75 99.6261 1431.75 Q97.4271 1431.75 94.9734 1432.51 Q92.5428 1433.27 89.7651 1434.82 L89.7651 1430.1 Q92.5891 1428.97 95.0428 1428.39 Q97.4965 1427.81 99.5335 1427.81 Q104.904 1427.81 108.098 1430.5 Q111.293 1433.18 111.293 1437.67 Q111.293 1439.8 110.483 1441.72 Q109.696 1443.62 107.589 1446.21 Q107.01 1446.88 103.909 1450.1 Q100.807 1453.3 95.1586 1459.06 Z\" fill=\"#000000\" fill-rule=\"evenodd\" fill-opacity=\"1\" /><path clip-path=\"url(#clip100)\" d=\"M50.9921 1174.62 L80.6679 1174.62 L80.6679 1178.55 L50.9921 1178.55 L50.9921 1174.62 Z\" fill=\"#000000\" fill-rule=\"evenodd\" fill-opacity=\"1\" /><path clip-path=\"url(#clip100)\" d=\"M91.5706 1187.51 L99.2095 1187.51 L99.2095 1161.15 L90.8993 1162.81 L90.8993 1158.55 L99.1632 1156.89 L103.839 1156.89 L103.839 1187.51 L111.478 1187.51 L111.478 1191.45 L91.5706 1191.45 L91.5706 1187.51 Z\" fill=\"#000000\" fill-rule=\"evenodd\" fill-opacity=\"1\" /><path clip-path=\"url(#clip100)\" d=\"M99.5335 888.419 Q95.9224 888.419 94.0937 891.983 Q92.2882 895.525 92.2882 902.655 Q92.2882 909.761 94.0937 913.326 Q95.9224 916.868 99.5335 916.868 Q103.168 916.868 104.973 913.326 Q106.802 909.761 106.802 902.655 Q106.802 895.525 104.973 891.983 Q103.168 888.419 99.5335 888.419 M99.5335 884.715 Q105.344 884.715 108.399 889.321 Q111.478 893.905 111.478 902.655 Q111.478 911.381 108.399 915.988 Q105.344 920.571 99.5335 920.571 Q93.7234 920.571 90.6447 915.988 Q87.5892 911.381 87.5892 902.655 Q87.5892 893.905 90.6447 889.321 Q93.7234 884.715 99.5335 884.715 Z\" fill=\"#000000\" fill-rule=\"evenodd\" fill-opacity=\"1\" /><path clip-path=\"url(#clip100)\" d=\"M91.5706 644.417 L99.2095 644.417 L99.2095 618.051 L90.8993 619.718 L90.8993 615.459 L99.1632 613.792 L103.839 613.792 L103.839 644.417 L111.478 644.417 L111.478 648.352 L91.5706 648.352 L91.5706 644.417 Z\" fill=\"#000000\" fill-rule=\"evenodd\" fill-opacity=\"1\" /><path clip-path=\"url(#clip100)\" d=\"M95.1586 372.869 L111.478 372.869 L111.478 376.804 L89.5336 376.804 L89.5336 372.869 Q92.1956 370.114 96.7789 365.485 Q101.385 360.832 102.566 359.489 Q104.811 356.966 105.691 355.23 Q106.594 353.471 106.594 351.781 Q106.594 349.027 104.649 347.29 Q102.728 345.554 99.6261 345.554 Q97.4271 345.554 94.9734 346.318 Q92.5428 347.082 89.7651 348.633 L89.7651 343.911 Q92.5891 342.777 95.0428 342.198 Q97.4965 341.619 99.5335 341.619 Q104.904 341.619 108.098 344.304 Q111.293 346.99 111.293 351.48 Q111.293 353.61 110.483 355.531 Q109.696 357.429 107.589 360.022 Q107.01 360.693 103.909 363.911 Q100.807 367.105 95.1586 372.869 Z\" fill=\"#000000\" fill-rule=\"evenodd\" fill-opacity=\"1\" /><path clip-path=\"url(#clip100)\" d=\"M104.348 86.6221 Q107.705 87.3397 109.58 89.6082 Q111.478 91.8767 111.478 95.21 Q111.478 100.326 107.959 103.127 Q104.441 105.928 97.9595 105.928 Q95.7836 105.928 93.4688 105.488 Q91.1771 105.071 88.7234 104.215 L88.7234 99.7008 Q90.6678 100.835 92.9826 101.414 Q95.2974 101.992 97.8206 101.992 Q102.219 101.992 104.51 100.256 Q106.825 98.5202 106.825 95.21 Q106.825 92.1545 104.672 90.4415 Q102.543 88.7054 98.7234 88.7054 L94.6956 88.7054 L94.6956 84.8629 L98.9085 84.8629 Q102.358 84.8629 104.186 83.4971 Q106.015 82.1083 106.015 79.5157 Q106.015 76.8537 104.117 75.4416 Q102.242 74.0064 98.7234 74.0064 Q96.8021 74.0064 94.603 74.4231 Q92.4039 74.8398 89.7651 75.7194 L89.7651 71.5528 Q92.4271 70.812 94.7419 70.4416 Q97.0798 70.0713 99.14 70.0713 Q104.464 70.0713 107.566 72.5018 Q110.668 74.9092 110.668 79.0296 Q110.668 81.8999 109.024 83.8907 Q107.381 85.8582 104.348 86.6221 Z\" fill=\"#000000\" fill-rule=\"evenodd\" fill-opacity=\"1\" /><polyline clip-path=\"url(#clip102)\" style=\"stroke:#009af9; stroke-linecap:butt; stroke-linejoin:round; stroke-width:16; stroke-opacity:1; fill:none\" points=\"\n",
       "  147.478,1445.72 169.014,1432.46 368.149,1309.85 487.82,1236.17 589.001,1173.88 698.912,1106.21 800.24,1043.82 908.874,976.941 1034.74,899.45 1146.59,830.585 \n",
       "  1244.68,770.196 1351.61,704.357 1459.19,638.126 1578.12,564.899 1691.29,495.226 1808.96,422.781 1908.01,361.799 2028.93,287.346 2142.61,217.358 2324.73,105.232 \n",
       "  2352.76,87.9763 \n",
       "  \"/>\n",
       "<polyline clip-path=\"url(#clip102)\" style=\"stroke:#e26f46; stroke-linecap:butt; stroke-linejoin:round; stroke-width:16; stroke-opacity:1; fill:none\" points=\"\n",
       "  147.478,1015.62 169.014,1003.44 368.149,883.323 487.82,811.435 589.001,755.66 643.957,728.421 698.912,703.883 749.576,683.984 800.24,666.966 854.557,652.176 \n",
       "  908.874,641.179 971.806,633.399 1034.74,631.091 1090.66,633.671 1146.59,640.571 1195.63,650.089 1244.68,662.726 1298.14,679.874 1351.61,700.292 1405.4,723.826 \n",
       "  1459.19,750.017 1578.12,815.37 1691.29,883.484 1808.96,955.571 1908.01,1013.55 1968.47,1046.38 2028.93,1076.52 2085.77,1101.88 2142.61,1123.93 2188.14,1138.97 \n",
       "  2233.67,1151.49 2279.2,1161.36 2324.73,1168.47 2331.74,1169.32 2338.74,1170.1 2345.75,1170.81 2352.76,1171.45 \n",
       "  \"/>\n",
       "<circle clip-path=\"url(#clip102)\" cx=\"1355.57\" cy=\"701.923\" r=\"14\" fill=\"#3da44d\" fill-rule=\"evenodd\" fill-opacity=\"1\" stroke=\"#000000\" stroke-opacity=\"1\" stroke-width=\"3.2\"/>\n",
       "<polyline clip-path=\"url(#clip102)\" style=\"stroke:#c271d2; stroke-linecap:butt; stroke-linejoin:round; stroke-width:16; stroke-opacity:1; fill:none\" points=\"\n",
       "  1911.7,1015.62 846.045,654.248 1433,736.958 1298.66,680.056 1391.08,717.287 1330.61,691.9 1371.85,708.809 1344.38,697.349 1363,705.032 1350.52,699.842 \n",
       "  1358.95,703.331 1353.28,700.977 1357.1,702.561 1354.53,701.494 1356.26,702.212 1355.1,701.728 \n",
       "  \"/>\n",
       "<path clip-path=\"url(#clip102)\" d=\"M1911.7 999.624 L1895.7 1015.62 L1911.7 1031.62 L1927.7 1015.62 L1911.7 999.624 Z\" fill=\"#c271d2\" fill-rule=\"evenodd\" fill-opacity=\"1\" stroke=\"#000000\" stroke-opacity=\"1\" stroke-width=\"3.2\"/>\n",
       "<path clip-path=\"url(#clip102)\" d=\"M846.045 638.248 L830.045 654.248 L846.045 670.248 L862.045 654.248 L846.045 638.248 Z\" fill=\"#c271d2\" fill-rule=\"evenodd\" fill-opacity=\"1\" stroke=\"#000000\" stroke-opacity=\"1\" stroke-width=\"3.2\"/>\n",
       "<path clip-path=\"url(#clip102)\" d=\"M1433 720.958 L1417 736.958 L1433 752.958 L1449 736.958 L1433 720.958 Z\" fill=\"#c271d2\" fill-rule=\"evenodd\" fill-opacity=\"1\" stroke=\"#000000\" stroke-opacity=\"1\" stroke-width=\"3.2\"/>\n",
       "<path clip-path=\"url(#clip102)\" d=\"M1298.66 664.056 L1282.66 680.056 L1298.66 696.056 L1314.66 680.056 L1298.66 664.056 Z\" fill=\"#c271d2\" fill-rule=\"evenodd\" fill-opacity=\"1\" stroke=\"#000000\" stroke-opacity=\"1\" stroke-width=\"3.2\"/>\n",
       "<path clip-path=\"url(#clip102)\" d=\"M1391.08 701.287 L1375.08 717.287 L1391.08 733.287 L1407.08 717.287 L1391.08 701.287 Z\" fill=\"#c271d2\" fill-rule=\"evenodd\" fill-opacity=\"1\" stroke=\"#000000\" stroke-opacity=\"1\" stroke-width=\"3.2\"/>\n",
       "<path clip-path=\"url(#clip102)\" d=\"M1330.61 675.9 L1314.61 691.9 L1330.61 707.9 L1346.61 691.9 L1330.61 675.9 Z\" fill=\"#c271d2\" fill-rule=\"evenodd\" fill-opacity=\"1\" stroke=\"#000000\" stroke-opacity=\"1\" stroke-width=\"3.2\"/>\n",
       "<path clip-path=\"url(#clip102)\" d=\"M1371.85 692.809 L1355.85 708.809 L1371.85 724.809 L1387.85 708.809 L1371.85 692.809 Z\" fill=\"#c271d2\" fill-rule=\"evenodd\" fill-opacity=\"1\" stroke=\"#000000\" stroke-opacity=\"1\" stroke-width=\"3.2\"/>\n",
       "<path clip-path=\"url(#clip102)\" d=\"M1344.38 681.349 L1328.38 697.349 L1344.38 713.349 L1360.38 697.349 L1344.38 681.349 Z\" fill=\"#c271d2\" fill-rule=\"evenodd\" fill-opacity=\"1\" stroke=\"#000000\" stroke-opacity=\"1\" stroke-width=\"3.2\"/>\n",
       "<path clip-path=\"url(#clip102)\" d=\"M1363 689.032 L1347 705.032 L1363 721.032 L1379 705.032 L1363 689.032 Z\" fill=\"#c271d2\" fill-rule=\"evenodd\" fill-opacity=\"1\" stroke=\"#000000\" stroke-opacity=\"1\" stroke-width=\"3.2\"/>\n",
       "<path clip-path=\"url(#clip102)\" d=\"M1350.52 683.842 L1334.52 699.842 L1350.52 715.842 L1366.52 699.842 L1350.52 683.842 Z\" fill=\"#c271d2\" fill-rule=\"evenodd\" fill-opacity=\"1\" stroke=\"#000000\" stroke-opacity=\"1\" stroke-width=\"3.2\"/>\n",
       "<path clip-path=\"url(#clip102)\" d=\"M1358.95 687.331 L1342.95 703.331 L1358.95 719.331 L1374.95 703.331 L1358.95 687.331 Z\" fill=\"#c271d2\" fill-rule=\"evenodd\" fill-opacity=\"1\" stroke=\"#000000\" stroke-opacity=\"1\" stroke-width=\"3.2\"/>\n",
       "<path clip-path=\"url(#clip102)\" d=\"M1353.28 684.977 L1337.28 700.977 L1353.28 716.977 L1369.28 700.977 L1353.28 684.977 Z\" fill=\"#c271d2\" fill-rule=\"evenodd\" fill-opacity=\"1\" stroke=\"#000000\" stroke-opacity=\"1\" stroke-width=\"3.2\"/>\n",
       "<path clip-path=\"url(#clip102)\" d=\"M1357.1 686.561 L1341.1 702.561 L1357.1 718.561 L1373.1 702.561 L1357.1 686.561 Z\" fill=\"#c271d2\" fill-rule=\"evenodd\" fill-opacity=\"1\" stroke=\"#000000\" stroke-opacity=\"1\" stroke-width=\"3.2\"/>\n",
       "<path clip-path=\"url(#clip102)\" d=\"M1354.53 685.494 L1338.53 701.494 L1354.53 717.494 L1370.53 701.494 L1354.53 685.494 Z\" fill=\"#c271d2\" fill-rule=\"evenodd\" fill-opacity=\"1\" stroke=\"#000000\" stroke-opacity=\"1\" stroke-width=\"3.2\"/>\n",
       "<path clip-path=\"url(#clip102)\" d=\"M1356.26 686.212 L1340.26 702.212 L1356.26 718.212 L1372.26 702.212 L1356.26 686.212 Z\" fill=\"#c271d2\" fill-rule=\"evenodd\" fill-opacity=\"1\" stroke=\"#000000\" stroke-opacity=\"1\" stroke-width=\"3.2\"/>\n",
       "<path clip-path=\"url(#clip102)\" d=\"M1355.1 685.728 L1339.1 701.728 L1355.1 717.728 L1371.1 701.728 L1355.1 685.728 Z\" fill=\"#c271d2\" fill-rule=\"evenodd\" fill-opacity=\"1\" stroke=\"#000000\" stroke-opacity=\"1\" stroke-width=\"3.2\"/>\n",
       "<path clip-path=\"url(#clip100)\" d=\"\n",
       "M1930.48 484.018 L2279.25 484.018 L2279.25 95.2176 L1930.48 95.2176  Z\n",
       "  \" fill=\"#ffffff\" fill-rule=\"evenodd\" fill-opacity=\"1\"/>\n",
       "<polyline clip-path=\"url(#clip100)\" style=\"stroke:#000000; stroke-linecap:butt; stroke-linejoin:round; stroke-width:4; stroke-opacity:1; fill:none\" points=\"\n",
       "  1930.48,484.018 2279.25,484.018 2279.25,95.2176 1930.48,95.2176 1930.48,484.018 \n",
       "  \"/>\n",
       "<polyline clip-path=\"url(#clip100)\" style=\"stroke:#009af9; stroke-linecap:butt; stroke-linejoin:round; stroke-width:6; stroke-opacity:1; fill:none\" points=\"\n",
       "  1954.99,172.978 2102,172.978 \n",
       "  \"/>\n",
       "<path clip-path=\"url(#clip100)\" d=\"M2147.27 202.509 Q2144.56 209.453 2141.99 211.571 Q2139.42 213.689 2135.12 213.689 L2130.01 213.689 L2130.01 208.342 L2133.76 208.342 Q2136.4 208.342 2137.86 207.092 Q2139.32 205.842 2141.09 201.189 L2142.24 198.273 L2126.51 160.009 L2133.28 160.009 L2145.43 190.425 L2157.58 160.009 L2164.35 160.009 L2147.27 202.509 Z\" fill=\"#000000\" fill-rule=\"evenodd\" fill-opacity=\"1\" /><path clip-path=\"url(#clip100)\" d=\"M2175.29 192.995 L2186.75 192.995 L2186.75 153.446 L2174.28 155.946 L2174.28 149.558 L2186.68 147.058 L2193.69 147.058 L2193.69 192.995 L2205.15 192.995 L2205.15 198.898 L2175.29 198.898 L2175.29 192.995 Z\" fill=\"#000000\" fill-rule=\"evenodd\" fill-opacity=\"1\" /><polyline clip-path=\"url(#clip100)\" style=\"stroke:#e26f46; stroke-linecap:butt; stroke-linejoin:round; stroke-width:6; stroke-opacity:1; fill:none\" points=\"\n",
       "  1954.99,250.738 2102,250.738 \n",
       "  \"/>\n",
       "<path clip-path=\"url(#clip100)\" d=\"M2147.27 280.269 Q2144.56 287.213 2141.99 289.331 Q2139.42 291.449 2135.12 291.449 L2130.01 291.449 L2130.01 286.102 L2133.76 286.102 Q2136.4 286.102 2137.86 284.852 Q2139.32 283.602 2141.09 278.949 L2142.24 276.033 L2126.51 237.769 L2133.28 237.769 L2145.43 268.185 L2157.58 237.769 L2164.35 237.769 L2147.27 280.269 Z\" fill=\"#000000\" fill-rule=\"evenodd\" fill-opacity=\"1\" /><path clip-path=\"url(#clip100)\" d=\"M2180.12 270.755 L2204.6 270.755 L2204.6 276.658 L2171.68 276.658 L2171.68 270.755 Q2175.67 266.623 2182.55 259.678 Q2189.46 252.699 2191.23 250.685 Q2194.6 246.901 2195.92 244.297 Q2197.27 241.658 2197.27 239.123 Q2197.27 234.991 2194.35 232.387 Q2191.47 229.783 2186.82 229.783 Q2183.52 229.783 2179.84 230.929 Q2176.19 232.074 2172.03 234.401 L2172.03 227.318 Q2176.26 225.616 2179.94 224.748 Q2183.62 223.88 2186.68 223.88 Q2194.74 223.88 2199.53 227.908 Q2204.32 231.936 2204.32 238.672 Q2204.32 241.866 2203.1 244.748 Q2201.92 247.595 2198.76 251.484 Q2197.9 252.491 2193.24 257.317 Q2188.59 262.109 2180.12 270.755 Z\" fill=\"#000000\" fill-rule=\"evenodd\" fill-opacity=\"1\" /><circle clip-path=\"url(#clip100)\" cx=\"2028.49\" cy=\"328.498\" r=\"34\" fill=\"#3da44d\" fill-rule=\"evenodd\" fill-opacity=\"1\" stroke=\"#000000\" stroke-opacity=\"1\" stroke-width=\"7.68\"/>\n",
       "<path clip-path=\"url(#clip100)\" d=\"M2162.34 313.351 Q2162.34 315.318 2161.11 316.443 Q2159.88 317.532 2158.48 317.532 Q2157.14 317.532 2156.44 316.759 Q2155.74 315.986 2155.74 315.002 Q2155.74 313.667 2156.72 312.508 Q2157.71 311.348 2159.18 311.102 Q2157.74 310.189 2155.6 310.189 Q2154.19 310.189 2152.96 310.927 Q2151.77 311.664 2151.03 312.613 Q2150.33 313.562 2149.7 314.932 Q2149.1 316.267 2148.85 317.075 Q2148.64 317.848 2148.47 318.691 L2146.01 328.528 Q2144.81 333.201 2144.81 334.853 Q2144.81 336.89 2145.8 338.261 Q2146.78 339.596 2148.75 339.596 Q2149.52 339.596 2150.4 339.385 Q2151.28 339.139 2152.4 338.506 Q2153.56 337.839 2154.58 336.855 Q2155.63 335.836 2156.65 334.115 Q2157.67 332.393 2158.34 330.18 Q2158.55 329.407 2159.25 329.407 Q2160.13 329.407 2160.13 330.11 Q2160.13 330.707 2159.64 331.972 Q2159.18 333.201 2158.16 334.817 Q2157.18 336.398 2155.88 337.839 Q2154.58 339.244 2152.65 340.228 Q2150.71 341.212 2148.61 341.212 Q2145.58 341.212 2143.58 339.596 Q2141.58 337.979 2140.84 335.731 Q2140.67 336.047 2140.42 336.469 Q2140.17 336.89 2139.44 337.839 Q2138.73 338.752 2137.93 339.455 Q2137.12 340.123 2135.85 340.65 Q2134.62 341.212 2133.29 341.212 Q2131.6 341.212 2130.09 340.72 Q2128.61 340.228 2127.56 339.104 Q2126.51 337.979 2126.51 336.434 Q2126.51 334.712 2127.67 333.517 Q2128.86 332.288 2130.48 332.288 Q2131.5 332.288 2132.3 332.885 Q2133.15 333.482 2133.15 334.782 Q2133.15 336.223 2132.16 337.312 Q2131.18 338.401 2129.77 338.682 Q2131.21 339.596 2133.36 339.596 Q2135.68 339.596 2137.5 337.558 Q2139.33 335.52 2140.21 332.112 Q2142.39 323.926 2143.23 320.272 Q2144.07 316.583 2144.07 315.002 Q2144.07 313.526 2143.69 312.508 Q2143.3 311.489 2142.63 311.032 Q2142 310.54 2141.4 310.364 Q2140.84 310.189 2140.21 310.189 Q2139.15 310.189 2137.96 310.61 Q2136.8 311.032 2135.4 312.016 Q2134.03 312.964 2132.73 314.932 Q2131.43 316.899 2130.55 319.605 Q2130.37 320.413 2129.6 320.413 Q2128.76 320.377 2128.76 319.675 Q2128.76 319.078 2129.21 317.848 Q2129.7 316.583 2130.69 315.002 Q2131.71 313.421 2133.01 312.016 Q2134.34 310.575 2136.27 309.591 Q2138.24 308.608 2140.35 308.608 Q2141.3 308.608 2142.21 308.819 Q2143.16 308.994 2144.28 309.521 Q2145.44 310.048 2146.46 311.208 Q2147.48 312.367 2148.11 314.053 Q2148.54 313.245 2149.1 312.472 Q2149.7 311.699 2150.61 310.751 Q2151.56 309.767 2152.86 309.205 Q2154.19 308.608 2155.67 308.608 Q2157.11 308.608 2158.51 308.994 Q2159.92 309.346 2161.11 310.505 Q2162.34 311.629 2162.34 313.351 Z\" fill=\"#000000\" fill-rule=\"evenodd\" fill-opacity=\"1\" /><path clip-path=\"url(#clip100)\" d=\"M2183.64 346.604 Q2183.64 345.743 2184.8 345.177 L2191.81 341.857 L2184.7 338.537 Q2183.64 338.045 2183.64 337.184 Q2183.64 336.693 2184.04 336.25 Q2184.46 335.783 2185 335.783 Q2185.39 335.783 2186.1 336.324 L2192.35 340.849 Q2191.59 332.536 2191.61 332.29 Q2191.61 331.798 2191.98 331.43 Q2192.35 331.036 2192.97 331.036 Q2193.46 331.036 2193.85 331.405 Q2194.27 331.749 2194.27 332.29 L2193.53 340.849 L2199.11 336.717 Q2200.42 335.758 2200.88 335.783 Q2201.45 335.783 2201.84 336.225 Q2202.24 336.668 2202.24 337.184 Q2202.24 338.045 2201.08 338.586 L2194.07 341.906 L2201.18 345.251 Q2202.24 345.743 2202.24 346.604 Q2202.24 347.096 2201.82 347.563 Q2201.43 348.006 2200.88 348.006 Q2200.59 348.006 2200.07 347.711 Q2199.97 347.661 2198.92 346.874 Q2197.86 346.087 2196.21 344.882 Q2194.59 343.677 2193.53 342.915 Q2194.29 351.227 2194.27 351.473 Q2194.27 351.965 2193.9 352.359 Q2193.53 352.752 2192.92 352.752 Q2192.42 352.752 2192.01 352.408 Q2191.61 352.039 2191.61 351.473 L2192.35 342.915 L2185.32 348.006 Q2184.55 348.006 2184.14 347.637 Q2183.74 347.243 2183.69 347.022 Q2183.64 346.801 2183.64 346.604 Z\" fill=\"#000000\" fill-rule=\"evenodd\" fill-opacity=\"1\" /><polyline clip-path=\"url(#clip100)\" style=\"stroke:#c271d2; stroke-linecap:butt; stroke-linejoin:round; stroke-width:6; stroke-opacity:1; fill:none\" points=\"\n",
       "  1954.99,406.258 2102,406.258 \n",
       "  \"/>\n",
       "<path clip-path=\"url(#clip100)\" d=\"M2028.49 367.858 L1990.09 406.258 L2028.49 444.658 L2066.89 406.258 L2028.49 367.858 Z\" fill=\"#c271d2\" fill-rule=\"evenodd\" fill-opacity=\"1\" stroke=\"#000000\" stroke-opacity=\"1\" stroke-width=\"7.68\"/>\n",
       "<path clip-path=\"url(#clip100)\" d=\"M2147.27 435.789 Q2144.56 442.733 2141.99 444.851 Q2139.42 446.969 2135.12 446.969 L2130.01 446.969 L2130.01 441.622 L2133.76 441.622 Q2136.4 441.622 2137.86 440.372 Q2139.32 439.122 2141.09 434.469 L2142.24 431.553 L2126.51 393.289 L2133.28 393.289 L2145.43 423.705 L2157.58 393.289 L2164.35 393.289 L2147.27 435.789 Z\" fill=\"#000000\" fill-rule=\"evenodd\" fill-opacity=\"1\" /><path clip-path=\"url(#clip100)\" d=\"M2193.35 386.449 L2175.64 414.122 L2193.35 414.122 L2193.35 386.449 M2191.51 380.338 L2200.33 380.338 L2200.33 414.122 L2207.72 414.122 L2207.72 419.955 L2200.33 419.955 L2200.33 432.178 L2193.35 432.178 L2193.35 419.955 L2169.94 419.955 L2169.94 413.185 L2191.51 380.338 Z\" fill=\"#000000\" fill-rule=\"evenodd\" fill-opacity=\"1\" /></svg>\n"
      ]
     },
     "execution_count": 117,
     "metadata": {},
     "output_type": "execute_result"
    }
   ],
   "source": [
    "function fixed_point(g, x, n)\n",
    "    xs = [x]\n",
    "    for k in 1:n\n",
    "        x = g(x)\n",
    "        append!(xs, x)\n",
    "    end\n",
    "    xs\n",
    "end\n",
    "\n",
    "xs = fixed_point(g, 2., 15)\n",
    "plot!(xs, g.(xs), seriestype=:path, marker=:auto)"
   ]
  },
  {
   "cell_type": "markdown",
   "id": "26eda74e",
   "metadata": {
    "slideshow": {
     "slide_type": "slide"
    }
   },
   "source": [
    "# Verifying fixed point convergence theory\n",
    "\n",
    "\n",
    "$$ \\left\\lvert \\frac{e_{k+1}}{e_k} \\right\\rvert \\to \\lvert g'(x_*) \\rvert $$"
   ]
  },
  {
   "cell_type": "code",
   "execution_count": 118,
   "id": "ba29642e",
   "metadata": {
    "cell_style": "split"
   },
   "outputs": [
    {
     "name": "stdout",
     "output_type": "stream",
     "text": [
      "gp(xstar) = -0.6736120293089505\n"
     ]
    },
    {
     "data": {
      "text/plain": [
       "15-element Vector{Float64}:\n",
       " -0.9161855415615605\n",
       " -0.15197657010596488\n",
       " -0.734870205299266\n",
       " -0.624132525531327\n",
       " -0.7026257933893496\n",
       " -0.6523498121376077\n",
       " -0.6870971782336925\n",
       " -0.664168570025122\n",
       " -0.6798044680427148\n",
       " -0.6693659427636027\n",
       " -0.6764378047956165\n",
       " -0.6716930541785153\n",
       " -0.6748976495459512\n",
       " -0.6727427617641084\n",
       " -0.6741962236114177"
      ]
     },
     "execution_count": 118,
     "metadata": {},
     "output_type": "execute_result"
    }
   ],
   "source": [
    "@show gp(xstar)\n",
    "es = xs .- xstar\n",
    "es[2:end] ./ es[1:end-1]"
   ]
  },
  {
   "cell_type": "code",
   "execution_count": 119,
   "id": "b353d06d",
   "metadata": {
    "cell_style": "split"
   },
   "outputs": [
    {
     "data": {
      "image/svg+xml": [
       "<?xml version=\"1.0\" encoding=\"utf-8\"?>\n",
       "<svg xmlns=\"http://www.w3.org/2000/svg\" xmlns:xlink=\"http://www.w3.org/1999/xlink\" width=\"600\" height=\"400\" viewBox=\"0 0 2400 1600\">\n",
       "<defs>\n",
       "  <clipPath id=\"clip140\">\n",
       "    <rect x=\"0\" y=\"0\" width=\"2400\" height=\"1600\"/>\n",
       "  </clipPath>\n",
       "</defs>\n",
       "<path clip-path=\"url(#clip140)\" d=\"\n",
       "M0 1600 L2400 1600 L2400 0 L0 0  Z\n",
       "  \" fill=\"#ffffff\" fill-rule=\"evenodd\" fill-opacity=\"1\"/>\n",
       "<defs>\n",
       "  <clipPath id=\"clip141\">\n",
       "    <rect x=\"480\" y=\"0\" width=\"1681\" height=\"1600\"/>\n",
       "  </clipPath>\n",
       "</defs>\n",
       "<defs>\n",
       "  <clipPath id=\"clip142\">\n",
       "    <rect x=\"147\" y=\"47\" width=\"2206\" height=\"1440\"/>\n",
       "  </clipPath>\n",
       "</defs>\n",
       "<path clip-path=\"url(#clip140)\" d=\"\n",
       "M187.803 1486.45 L2352.76 1486.45 L2352.76 47.2441 L187.803 47.2441  Z\n",
       "  \" fill=\"#ffffff\" fill-rule=\"evenodd\" fill-opacity=\"1\"/>\n",
       "<defs>\n",
       "  <clipPath id=\"clip143\">\n",
       "    <rect x=\"187\" y=\"47\" width=\"2166\" height=\"1440\"/>\n",
       "  </clipPath>\n",
       "</defs>\n",
       "<polyline clip-path=\"url(#clip143)\" style=\"stroke:#000000; stroke-linecap:butt; stroke-linejoin:round; stroke-width:2; stroke-opacity:0.1; fill:none\" points=\"\n",
       "  521.397,1486.45 521.397,47.2441 \n",
       "  \"/>\n",
       "<polyline clip-path=\"url(#clip143)\" style=\"stroke:#000000; stroke-linecap:butt; stroke-linejoin:round; stroke-width:2; stroke-opacity:0.1; fill:none\" points=\"\n",
       "  929.878,1486.45 929.878,47.2441 \n",
       "  \"/>\n",
       "<polyline clip-path=\"url(#clip143)\" style=\"stroke:#000000; stroke-linecap:butt; stroke-linejoin:round; stroke-width:2; stroke-opacity:0.1; fill:none\" points=\"\n",
       "  1338.36,1486.45 1338.36,47.2441 \n",
       "  \"/>\n",
       "<polyline clip-path=\"url(#clip143)\" style=\"stroke:#000000; stroke-linecap:butt; stroke-linejoin:round; stroke-width:2; stroke-opacity:0.1; fill:none\" points=\"\n",
       "  1746.84,1486.45 1746.84,47.2441 \n",
       "  \"/>\n",
       "<polyline clip-path=\"url(#clip143)\" style=\"stroke:#000000; stroke-linecap:butt; stroke-linejoin:round; stroke-width:2; stroke-opacity:0.1; fill:none\" points=\"\n",
       "  2155.32,1486.45 2155.32,47.2441 \n",
       "  \"/>\n",
       "<polyline clip-path=\"url(#clip140)\" style=\"stroke:#000000; stroke-linecap:butt; stroke-linejoin:round; stroke-width:4; stroke-opacity:1; fill:none\" points=\"\n",
       "  187.803,1486.45 2352.76,1486.45 \n",
       "  \"/>\n",
       "<polyline clip-path=\"url(#clip140)\" style=\"stroke:#000000; stroke-linecap:butt; stroke-linejoin:round; stroke-width:4; stroke-opacity:1; fill:none\" points=\"\n",
       "  521.397,1486.45 521.397,1467.55 \n",
       "  \"/>\n",
       "<polyline clip-path=\"url(#clip140)\" style=\"stroke:#000000; stroke-linecap:butt; stroke-linejoin:round; stroke-width:4; stroke-opacity:1; fill:none\" points=\"\n",
       "  929.878,1486.45 929.878,1467.55 \n",
       "  \"/>\n",
       "<polyline clip-path=\"url(#clip140)\" style=\"stroke:#000000; stroke-linecap:butt; stroke-linejoin:round; stroke-width:4; stroke-opacity:1; fill:none\" points=\"\n",
       "  1338.36,1486.45 1338.36,1467.55 \n",
       "  \"/>\n",
       "<polyline clip-path=\"url(#clip140)\" style=\"stroke:#000000; stroke-linecap:butt; stroke-linejoin:round; stroke-width:4; stroke-opacity:1; fill:none\" points=\"\n",
       "  1746.84,1486.45 1746.84,1467.55 \n",
       "  \"/>\n",
       "<polyline clip-path=\"url(#clip140)\" style=\"stroke:#000000; stroke-linecap:butt; stroke-linejoin:round; stroke-width:4; stroke-opacity:1; fill:none\" points=\"\n",
       "  2155.32,1486.45 2155.32,1467.55 \n",
       "  \"/>\n",
       "<path clip-path=\"url(#clip140)\" d=\"M525.644 1530.21 Q529.001 1530.93 530.876 1533.2 Q532.774 1535.47 532.774 1538.8 Q532.774 1543.92 529.255 1546.72 Q525.737 1549.52 519.255 1549.52 Q517.079 1549.52 514.765 1549.08 Q512.473 1548.66 510.019 1547.81 L510.019 1543.29 Q511.964 1544.43 514.279 1545.01 Q516.593 1545.58 519.116 1545.58 Q523.515 1545.58 525.806 1543.85 Q528.121 1542.11 528.121 1538.8 Q528.121 1535.75 525.968 1534.03 Q523.839 1532.3 520.019 1532.3 L515.991 1532.3 L515.991 1528.45 L520.204 1528.45 Q523.653 1528.45 525.482 1527.09 Q527.311 1525.7 527.311 1523.11 Q527.311 1520.45 525.413 1519.03 Q523.538 1517.6 520.019 1517.6 Q518.098 1517.6 515.899 1518.01 Q513.7 1518.43 511.061 1519.31 L511.061 1515.14 Q513.723 1514.4 516.038 1514.03 Q518.376 1513.66 520.436 1513.66 Q525.76 1513.66 528.862 1516.09 Q531.964 1518.5 531.964 1522.62 Q531.964 1525.49 530.32 1527.48 Q528.677 1529.45 525.644 1530.21 Z\" fill=\"#000000\" fill-rule=\"evenodd\" fill-opacity=\"1\" /><path clip-path=\"url(#clip140)\" d=\"M930.283 1529.7 Q927.135 1529.7 925.283 1531.86 Q923.455 1534.01 923.455 1537.76 Q923.455 1541.49 925.283 1543.66 Q927.135 1545.82 930.283 1545.82 Q933.431 1545.82 935.26 1543.66 Q937.112 1541.49 937.112 1537.76 Q937.112 1534.01 935.26 1531.86 Q933.431 1529.7 930.283 1529.7 M939.566 1515.05 L939.566 1519.31 Q937.806 1518.48 936.001 1518.04 Q934.218 1517.6 932.459 1517.6 Q927.83 1517.6 925.376 1520.72 Q922.945 1523.85 922.598 1530.17 Q923.964 1528.15 926.024 1527.09 Q928.084 1526 930.561 1526 Q935.769 1526 938.779 1529.17 Q941.811 1532.32 941.811 1537.76 Q941.811 1543.08 938.663 1546.3 Q935.515 1549.52 930.283 1549.52 Q924.288 1549.52 921.117 1544.94 Q917.945 1540.33 917.945 1531.6 Q917.945 1523.41 921.834 1518.55 Q925.723 1513.66 932.274 1513.66 Q934.033 1513.66 935.816 1514.01 Q937.621 1514.36 939.566 1515.05 Z\" fill=\"#000000\" fill-rule=\"evenodd\" fill-opacity=\"1\" /><path clip-path=\"url(#clip140)\" d=\"M1328.66 1548.13 L1328.66 1543.87 Q1330.42 1544.7 1332.23 1545.14 Q1334.03 1545.58 1335.77 1545.58 Q1340.4 1545.58 1342.83 1542.48 Q1345.28 1539.36 1345.63 1533.01 Q1344.29 1535.01 1342.23 1536.07 Q1340.17 1537.13 1337.67 1537.13 Q1332.48 1537.13 1329.45 1534.01 Q1326.44 1530.86 1326.44 1525.42 Q1326.44 1520.1 1329.59 1516.88 Q1332.73 1513.66 1337.97 1513.66 Q1343.96 1513.66 1347.11 1518.27 Q1350.28 1522.85 1350.28 1531.6 Q1350.28 1539.77 1346.39 1544.66 Q1342.53 1549.52 1335.98 1549.52 Q1334.22 1549.52 1332.41 1549.17 Q1330.61 1548.82 1328.66 1548.13 M1337.97 1533.48 Q1341.11 1533.48 1342.94 1531.32 Q1344.79 1529.17 1344.79 1525.42 Q1344.79 1521.7 1342.94 1519.54 Q1341.11 1517.37 1337.97 1517.37 Q1334.82 1517.37 1332.97 1519.54 Q1331.14 1521.7 1331.14 1525.42 Q1331.14 1529.17 1332.97 1531.32 Q1334.82 1533.48 1337.97 1533.48 Z\" fill=\"#000000\" fill-rule=\"evenodd\" fill-opacity=\"1\" /><path clip-path=\"url(#clip140)\" d=\"M1722.33 1544.91 L1729.97 1544.91 L1729.97 1518.55 L1721.66 1520.21 L1721.66 1515.95 L1729.92 1514.29 L1734.6 1514.29 L1734.6 1544.91 L1742.24 1544.91 L1742.24 1548.85 L1722.33 1548.85 L1722.33 1544.91 Z\" fill=\"#000000\" fill-rule=\"evenodd\" fill-opacity=\"1\" /><path clip-path=\"url(#clip140)\" d=\"M1755.71 1544.91 L1772.03 1544.91 L1772.03 1548.85 L1750.08 1548.85 L1750.08 1544.91 Q1752.74 1542.16 1757.33 1537.53 Q1761.93 1532.88 1763.11 1531.53 Q1765.36 1529.01 1766.24 1527.27 Q1767.14 1525.51 1767.14 1523.82 Q1767.14 1521.07 1765.2 1519.33 Q1763.28 1517.6 1760.17 1517.6 Q1757.98 1517.6 1755.52 1518.36 Q1753.09 1519.13 1750.31 1520.68 L1750.31 1515.95 Q1753.14 1514.82 1755.59 1514.24 Q1758.05 1513.66 1760.08 1513.66 Q1765.45 1513.66 1768.65 1516.35 Q1771.84 1519.03 1771.84 1523.52 Q1771.84 1525.65 1771.03 1527.57 Q1770.24 1529.47 1768.14 1532.07 Q1767.56 1532.74 1764.46 1535.95 Q1761.36 1539.15 1755.71 1544.91 Z\" fill=\"#000000\" fill-rule=\"evenodd\" fill-opacity=\"1\" /><path clip-path=\"url(#clip140)\" d=\"M2130.51 1544.91 L2138.15 1544.91 L2138.15 1518.55 L2129.84 1520.21 L2129.84 1515.95 L2138.1 1514.29 L2142.78 1514.29 L2142.78 1544.91 L2150.42 1544.91 L2150.42 1548.85 L2130.51 1548.85 L2130.51 1544.91 Z\" fill=\"#000000\" fill-rule=\"evenodd\" fill-opacity=\"1\" /><path clip-path=\"url(#clip140)\" d=\"M2159.91 1514.29 L2178.26 1514.29 L2178.26 1518.22 L2164.19 1518.22 L2164.19 1526.7 Q2165.21 1526.35 2166.23 1526.19 Q2167.24 1526 2168.26 1526 Q2174.05 1526 2177.43 1529.17 Q2180.81 1532.34 2180.81 1537.76 Q2180.81 1543.34 2177.34 1546.44 Q2173.86 1549.52 2167.55 1549.52 Q2165.37 1549.52 2163.1 1549.15 Q2160.86 1548.78 2158.45 1548.04 L2158.45 1543.34 Q2160.53 1544.47 2162.75 1545.03 Q2164.98 1545.58 2167.45 1545.58 Q2171.46 1545.58 2173.8 1543.48 Q2176.13 1541.37 2176.13 1537.76 Q2176.13 1534.15 2173.8 1532.04 Q2171.46 1529.94 2167.45 1529.94 Q2165.58 1529.94 2163.7 1530.35 Q2161.85 1530.77 2159.91 1531.65 L2159.91 1514.29 Z\" fill=\"#000000\" fill-rule=\"evenodd\" fill-opacity=\"1\" /><polyline clip-path=\"url(#clip143)\" style=\"stroke:#000000; stroke-linecap:butt; stroke-linejoin:round; stroke-width:2; stroke-opacity:0.1; fill:none\" points=\"\n",
       "  187.803,1016.14 2352.76,1016.14 \n",
       "  \"/>\n",
       "<polyline clip-path=\"url(#clip143)\" style=\"stroke:#000000; stroke-linecap:butt; stroke-linejoin:round; stroke-width:2; stroke-opacity:0.1; fill:none\" points=\"\n",
       "  187.803,132.463 2352.76,132.463 \n",
       "  \"/>\n",
       "<polyline clip-path=\"url(#clip140)\" style=\"stroke:#000000; stroke-linecap:butt; stroke-linejoin:round; stroke-width:4; stroke-opacity:1; fill:none\" points=\"\n",
       "  187.803,1486.45 187.803,47.2441 \n",
       "  \"/>\n",
       "<polyline clip-path=\"url(#clip140)\" style=\"stroke:#000000; stroke-linecap:butt; stroke-linejoin:round; stroke-width:4; stroke-opacity:1; fill:none\" points=\"\n",
       "  187.803,1016.14 206.701,1016.14 \n",
       "  \"/>\n",
       "<polyline clip-path=\"url(#clip140)\" style=\"stroke:#000000; stroke-linecap:butt; stroke-linejoin:round; stroke-width:4; stroke-opacity:1; fill:none\" points=\"\n",
       "  187.803,132.463 206.701,132.463 \n",
       "  \"/>\n",
       "<path clip-path=\"url(#clip140)\" d=\"M51.6634 1035.93 L59.3023 1035.93 L59.3023 1009.57 L50.9921 1011.23 L50.9921 1006.97 L59.256 1005.31 L63.9319 1005.31 L63.9319 1035.93 L71.5707 1035.93 L71.5707 1039.87 L51.6634 1039.87 L51.6634 1035.93 Z\" fill=\"#000000\" fill-rule=\"evenodd\" fill-opacity=\"1\" /><path clip-path=\"url(#clip140)\" d=\"M91.0151 1008.39 Q87.404 1008.39 85.5753 1011.95 Q83.7697 1015.49 83.7697 1022.62 Q83.7697 1029.73 85.5753 1033.29 Q87.404 1036.84 91.0151 1036.84 Q94.6493 1036.84 96.4548 1033.29 Q98.2835 1029.73 98.2835 1022.62 Q98.2835 1015.49 96.4548 1011.95 Q94.6493 1008.39 91.0151 1008.39 M91.0151 1004.68 Q96.8252 1004.68 99.8808 1009.29 Q102.959 1013.87 102.959 1022.62 Q102.959 1031.35 99.8808 1035.96 Q96.8252 1040.54 91.0151 1040.54 Q85.2049 1040.54 82.1262 1035.96 Q79.0707 1031.35 79.0707 1022.62 Q79.0707 1013.87 82.1262 1009.29 Q85.2049 1004.68 91.0151 1004.68 Z\" fill=\"#000000\" fill-rule=\"evenodd\" fill-opacity=\"1\" /><path clip-path=\"url(#clip140)\" d=\"M102.959 998.784 L127.071 998.784 L127.071 1001.98 L102.959 1001.98 L102.959 998.784 Z\" fill=\"#000000\" fill-rule=\"evenodd\" fill-opacity=\"1\" /><path clip-path=\"url(#clip140)\" d=\"M138.544 1009.26 L151.803 1009.26 L151.803 1012.46 L133.973 1012.46 L133.973 1009.26 Q136.136 1007.02 139.86 1003.26 Q143.603 999.48 144.562 998.389 Q146.387 996.339 147.101 994.928 Q147.835 993.499 147.835 992.126 Q147.835 989.888 146.255 988.477 Q144.694 987.067 142.174 987.067 Q140.387 987.067 138.393 987.687 Q136.418 988.308 134.162 989.568 L134.162 985.731 Q136.456 984.81 138.45 984.34 Q140.443 983.869 142.098 983.869 Q146.462 983.869 149.057 986.051 Q151.653 988.233 151.653 991.882 Q151.653 993.612 150.994 995.173 Q150.355 996.715 148.644 998.822 Q148.173 999.367 145.653 1001.98 Q143.133 1004.58 138.544 1009.26 Z\" fill=\"#000000\" fill-rule=\"evenodd\" fill-opacity=\"1\" /><path clip-path=\"url(#clip140)\" d=\"M81.0976 152.256 L88.7364 152.256 L88.7364 125.89 L80.4263 127.557 L80.4263 123.297 L88.6901 121.631 L93.366 121.631 L93.366 152.256 L101.005 152.256 L101.005 156.191 L81.0976 156.191 L81.0976 152.256 Z\" fill=\"#000000\" fill-rule=\"evenodd\" fill-opacity=\"1\" /><path clip-path=\"url(#clip140)\" d=\"M120.449 124.709 Q116.838 124.709 115.009 128.274 Q113.204 131.816 113.204 138.945 Q113.204 146.052 115.009 149.617 Q116.838 153.158 120.449 153.158 Q124.083 153.158 125.889 149.617 Q127.718 146.052 127.718 138.945 Q127.718 131.816 125.889 128.274 Q124.083 124.709 120.449 124.709 M120.449 121.006 Q126.259 121.006 129.315 125.612 Q132.394 130.195 132.394 138.945 Q132.394 147.672 129.315 152.279 Q126.259 156.862 120.449 156.862 Q114.639 156.862 111.56 152.279 Q108.505 147.672 108.505 138.945 Q108.505 130.195 111.56 125.612 Q114.639 121.006 120.449 121.006 Z\" fill=\"#000000\" fill-rule=\"evenodd\" fill-opacity=\"1\" /><path clip-path=\"url(#clip140)\" d=\"M142.098 103.202 Q139.164 103.202 137.679 106.098 Q136.212 108.976 136.212 114.769 Q136.212 120.543 137.679 123.439 Q139.164 126.317 142.098 126.317 Q145.051 126.317 146.518 123.439 Q148.004 120.543 148.004 114.769 Q148.004 108.976 146.518 106.098 Q145.051 103.202 142.098 103.202 M142.098 100.193 Q146.819 100.193 149.302 103.935 Q151.803 107.659 151.803 114.769 Q151.803 121.859 149.302 125.602 Q146.819 129.326 142.098 129.326 Q137.378 129.326 134.876 125.602 Q132.394 121.859 132.394 114.769 Q132.394 107.659 134.876 103.935 Q137.378 100.193 142.098 100.193 Z\" fill=\"#000000\" fill-rule=\"evenodd\" fill-opacity=\"1\" /><circle clip-path=\"url(#clip143)\" cx=\"249.075\" cy=\"87.9763\" r=\"14\" fill=\"#009af9\" fill-rule=\"evenodd\" fill-opacity=\"1\" stroke=\"#000000\" stroke-opacity=\"1\" stroke-width=\"3.2\"/>\n",
       "<circle clip-path=\"url(#clip143)\" cx=\"385.236\" cy=\"104.773\" r=\"14\" fill=\"#009af9\" fill-rule=\"evenodd\" fill-opacity=\"1\" stroke=\"#000000\" stroke-opacity=\"1\" stroke-width=\"3.2\"/>\n",
       "<circle clip-path=\"url(#clip143)\" cx=\"521.397\" cy=\"466.296\" r=\"14\" fill=\"#009af9\" fill-rule=\"evenodd\" fill-opacity=\"1\" stroke=\"#000000\" stroke-opacity=\"1\" stroke-width=\"3.2\"/>\n",
       "<circle clip-path=\"url(#clip143)\" cx=\"657.557\" cy=\"525.409\" r=\"14\" fill=\"#009af9\" fill-rule=\"evenodd\" fill-opacity=\"1\" stroke=\"#000000\" stroke-opacity=\"1\" stroke-width=\"3.2\"/>\n",
       "<circle clip-path=\"url(#clip143)\" cx=\"793.718\" cy=\"615.864\" r=\"14\" fill=\"#009af9\" fill-rule=\"evenodd\" fill-opacity=\"1\" stroke=\"#000000\" stroke-opacity=\"1\" stroke-width=\"3.2\"/>\n",
       "<circle clip-path=\"url(#clip143)\" cx=\"929.878\" cy=\"683.587\" r=\"14\" fill=\"#009af9\" fill-rule=\"evenodd\" fill-opacity=\"1\" stroke=\"#000000\" stroke-opacity=\"1\" stroke-width=\"3.2\"/>\n",
       "<circle clip-path=\"url(#clip143)\" cx=\"1066.04\" cy=\"765.557\" r=\"14\" fill=\"#009af9\" fill-rule=\"evenodd\" fill-opacity=\"1\" stroke=\"#000000\" stroke-opacity=\"1\" stroke-width=\"3.2\"/>\n",
       "<circle clip-path=\"url(#clip143)\" cx=\"1202.2\" cy=\"837.568\" r=\"14\" fill=\"#009af9\" fill-rule=\"evenodd\" fill-opacity=\"1\" stroke=\"#000000\" stroke-opacity=\"1\" stroke-width=\"3.2\"/>\n",
       "<circle clip-path=\"url(#clip143)\" cx=\"1338.36\" cy=\"916.093\" r=\"14\" fill=\"#009af9\" fill-rule=\"evenodd\" fill-opacity=\"1\" stroke=\"#000000\" stroke-opacity=\"1\" stroke-width=\"3.2\"/>\n",
       "<circle clip-path=\"url(#clip143)\" cx=\"1474.52\" cy=\"990.152\" r=\"14\" fill=\"#009af9\" fill-rule=\"evenodd\" fill-opacity=\"1\" stroke=\"#000000\" stroke-opacity=\"1\" stroke-width=\"3.2\"/>\n",
       "<circle clip-path=\"url(#clip143)\" cx=\"1610.68\" cy=\"1067.18\" r=\"14\" fill=\"#009af9\" fill-rule=\"evenodd\" fill-opacity=\"1\" stroke=\"#000000\" stroke-opacity=\"1\" stroke-width=\"3.2\"/>\n",
       "<circle clip-path=\"url(#clip143)\" cx=\"1746.84\" cy=\"1142.19\" r=\"14\" fill=\"#009af9\" fill-rule=\"evenodd\" fill-opacity=\"1\" stroke=\"#000000\" stroke-opacity=\"1\" stroke-width=\"3.2\"/>\n",
       "<circle clip-path=\"url(#clip143)\" cx=\"1883\" cy=\"1218.55\" r=\"14\" fill=\"#009af9\" fill-rule=\"evenodd\" fill-opacity=\"1\" stroke=\"#000000\" stroke-opacity=\"1\" stroke-width=\"3.2\"/>\n",
       "<circle clip-path=\"url(#clip143)\" cx=\"2019.16\" cy=\"1294\" r=\"14\" fill=\"#009af9\" fill-rule=\"evenodd\" fill-opacity=\"1\" stroke=\"#000000\" stroke-opacity=\"1\" stroke-width=\"3.2\"/>\n",
       "<circle clip-path=\"url(#clip143)\" cx=\"2155.32\" cy=\"1370.07\" r=\"14\" fill=\"#009af9\" fill-rule=\"evenodd\" fill-opacity=\"1\" stroke=\"#000000\" stroke-opacity=\"1\" stroke-width=\"3.2\"/>\n",
       "<circle clip-path=\"url(#clip143)\" cx=\"2291.48\" cy=\"1445.72\" r=\"14\" fill=\"#009af9\" fill-rule=\"evenodd\" fill-opacity=\"1\" stroke=\"#000000\" stroke-opacity=\"1\" stroke-width=\"3.2\"/>\n",
       "<polyline clip-path=\"url(#clip143)\" style=\"stroke:#e26f46; stroke-linecap:butt; stroke-linejoin:round; stroke-width:16; stroke-opacity:1; fill:none\" points=\"\n",
       "  249.075,208.278 254.062,211.055 259.048,213.831 264.035,216.608 269.021,219.384 315.128,245.057 361.235,270.729 407.342,296.402 453.449,322.075 481.157,337.503 \n",
       "  508.866,352.931 536.574,368.359 564.282,383.788 611.136,409.876 657.99,435.965 708.887,464.304 759.784,492.644 806.706,518.771 853.628,544.897 954.239,600.918 \n",
       "  1070.81,665.824 1174.4,723.505 1265.24,774.085 1364.28,829.232 1463.91,884.706 1574.06,946.04 1678.87,1004.4 1787.85,1065.08 1879.58,1116.15 1991.58,1178.52 \n",
       "  2096.86,1237.14 2265.53,1331.05 2291.48,1345.51 \n",
       "  \"/>\n",
       "<path clip-path=\"url(#clip140)\" d=\"\n",
       "M1665.84 382.962 L2280.59 382.962 L2280.59 95.2176 L1665.84 95.2176  Z\n",
       "  \" fill=\"#ffffff\" fill-rule=\"evenodd\" fill-opacity=\"1\"/>\n",
       "<polyline clip-path=\"url(#clip140)\" style=\"stroke:#000000; stroke-linecap:butt; stroke-linejoin:round; stroke-width:4; stroke-opacity:1; fill:none\" points=\"\n",
       "  1665.84,382.962 2280.59,382.962 2280.59,95.2176 1665.84,95.2176 1665.84,382.962 \n",
       "  \"/>\n",
       "<circle clip-path=\"url(#clip140)\" cx=\"1762.06\" cy=\"191.132\" r=\"34\" fill=\"#009af9\" fill-rule=\"evenodd\" fill-opacity=\"1\" stroke=\"#000000\" stroke-opacity=\"1\" stroke-width=\"7.68\"/>\n",
       "<path clip-path=\"url(#clip140)\" d=\"M1883.04 163.025 L1883.04 168.337 L1876.93 168.337 Q1873.49 168.337 1872.14 169.726 Q1870.82 171.115 1870.82 174.726 L1870.82 178.164 L1881.34 178.164 L1881.34 183.129 L1870.82 183.129 L1870.82 217.052 L1864.39 217.052 L1864.39 183.129 L1858.28 183.129 L1858.28 178.164 L1864.39 178.164 L1864.39 175.455 Q1864.39 168.962 1867.41 166.011 Q1870.43 163.025 1877 163.025 L1883.04 163.025 Z\" fill=\"#000000\" fill-rule=\"evenodd\" fill-opacity=\"1\" /><path clip-path=\"url(#clip140)\" d=\"M1888.39 178.164 L1894.77 178.164 L1894.77 217.052 L1888.39 217.052 L1888.39 178.164 M1888.39 163.025 L1894.77 163.025 L1894.77 171.115 L1888.39 171.115 L1888.39 163.025 Z\" fill=\"#000000\" fill-rule=\"evenodd\" fill-opacity=\"1\" /><path clip-path=\"url(#clip140)\" d=\"M1940.47 178.164 L1926.41 197.087 L1941.2 217.052 L1933.66 217.052 L1922.34 201.775 L1911.02 217.052 L1903.49 217.052 L1918.59 196.705 L1904.77 178.164 L1912.31 178.164 L1922.62 192.018 L1932.93 178.164 L1940.47 178.164 Z\" fill=\"#000000\" fill-rule=\"evenodd\" fill-opacity=\"1\" /><path clip-path=\"url(#clip140)\" d=\"M1981.3 196.011 L1981.3 199.136 L1951.93 199.136 Q1952.34 205.733 1955.89 209.205 Q1959.46 212.643 1965.82 212.643 Q1969.5 212.643 1972.93 211.74 Q1976.41 210.837 1979.81 209.032 L1979.81 215.073 Q1976.37 216.532 1972.76 217.295 Q1969.15 218.059 1965.43 218.059 Q1956.13 218.059 1950.68 212.643 Q1945.26 207.226 1945.26 197.99 Q1945.26 188.441 1950.4 182.851 Q1955.57 177.226 1964.32 177.226 Q1972.17 177.226 1976.72 182.296 Q1981.3 187.33 1981.3 196.011 M1974.91 194.136 Q1974.84 188.893 1971.96 185.768 Q1969.11 182.643 1964.39 182.643 Q1959.04 182.643 1955.82 185.664 Q1952.62 188.684 1952.14 194.171 L1974.91 194.136 Z\" fill=\"#000000\" fill-rule=\"evenodd\" fill-opacity=\"1\" /><path clip-path=\"url(#clip140)\" d=\"M2017.38 184.066 L2017.38 163.025 L2023.77 163.025 L2023.77 217.052 L2017.38 217.052 L2017.38 211.219 Q2015.36 214.691 2012.27 216.393 Q2009.22 218.059 2004.91 218.059 Q1997.86 218.059 1993.42 212.434 Q1989.01 206.809 1989.01 197.643 Q1989.01 188.476 1993.42 182.851 Q1997.86 177.226 2004.91 177.226 Q2009.22 177.226 2012.27 178.928 Q2015.36 180.594 2017.38 184.066 M1995.61 197.643 Q1995.61 204.691 1998.49 208.719 Q2001.41 212.712 2006.48 212.712 Q2011.54 212.712 2014.46 208.719 Q2017.38 204.691 2017.38 197.643 Q2017.38 190.594 2014.46 186.601 Q2011.54 182.573 2006.48 182.573 Q2001.41 182.573 1998.49 186.601 Q1995.61 190.594 1995.61 197.643 Z\" fill=\"#000000\" fill-rule=\"evenodd\" fill-opacity=\"1\" /><path clip-path=\"url(#clip140)\" d=\"M2065.71 211.219 L2065.71 231.844 L2059.29 231.844 L2059.29 178.164 L2065.71 178.164 L2065.71 184.066 Q2067.72 180.594 2070.78 178.928 Q2073.87 177.226 2078.14 177.226 Q2085.22 177.226 2089.63 182.851 Q2094.08 188.476 2094.08 197.643 Q2094.08 206.809 2089.63 212.434 Q2085.22 218.059 2078.14 218.059 Q2073.87 218.059 2070.78 216.393 Q2067.72 214.691 2065.71 211.219 M2087.45 197.643 Q2087.45 190.594 2084.53 186.601 Q2081.65 182.573 2076.58 182.573 Q2071.51 182.573 2068.59 186.601 Q2065.71 190.594 2065.71 197.643 Q2065.71 204.691 2068.59 208.719 Q2071.51 212.712 2076.58 212.712 Q2081.65 212.712 2084.53 208.719 Q2087.45 204.691 2087.45 197.643 Z\" fill=\"#000000\" fill-rule=\"evenodd\" fill-opacity=\"1\" /><path clip-path=\"url(#clip140)\" d=\"M2119.74 182.643 Q2114.6 182.643 2111.61 186.671 Q2108.63 190.664 2108.63 197.643 Q2108.63 204.622 2111.58 208.65 Q2114.56 212.643 2119.74 212.643 Q2124.84 212.643 2127.83 208.615 Q2130.81 204.587 2130.81 197.643 Q2130.81 190.733 2127.83 186.705 Q2124.84 182.643 2119.74 182.643 M2119.74 177.226 Q2128.07 177.226 2132.83 182.643 Q2137.59 188.059 2137.59 197.643 Q2137.59 207.191 2132.83 212.643 Q2128.07 218.059 2119.74 218.059 Q2111.37 218.059 2106.61 212.643 Q2101.89 207.191 2101.89 197.643 Q2101.89 188.059 2106.61 182.643 Q2111.37 177.226 2119.74 177.226 Z\" fill=\"#000000\" fill-rule=\"evenodd\" fill-opacity=\"1\" /><path clip-path=\"url(#clip140)\" d=\"M2148.18 178.164 L2154.56 178.164 L2154.56 217.052 L2148.18 217.052 L2148.18 178.164 M2148.18 163.025 L2154.56 163.025 L2154.56 171.115 L2148.18 171.115 L2148.18 163.025 Z\" fill=\"#000000\" fill-rule=\"evenodd\" fill-opacity=\"1\" /><path clip-path=\"url(#clip140)\" d=\"M2200.26 193.58 L2200.26 217.052 L2193.87 217.052 L2193.87 193.789 Q2193.87 188.268 2191.72 185.525 Q2189.56 182.782 2185.26 182.782 Q2180.09 182.782 2177.1 186.08 Q2174.11 189.379 2174.11 195.073 L2174.11 217.052 L2167.69 217.052 L2167.69 178.164 L2174.11 178.164 L2174.11 184.205 Q2176.4 180.698 2179.49 178.962 Q2182.62 177.226 2186.68 177.226 Q2193.38 177.226 2196.82 181.393 Q2200.26 185.525 2200.26 193.58 Z\" fill=\"#000000\" fill-rule=\"evenodd\" fill-opacity=\"1\" /><path clip-path=\"url(#clip140)\" d=\"M2219.32 167.122 L2219.32 178.164 L2232.48 178.164 L2232.48 183.129 L2219.32 183.129 L2219.32 204.24 Q2219.32 208.997 2220.61 210.351 Q2221.93 211.705 2225.92 211.705 L2232.48 211.705 L2232.48 217.052 L2225.92 217.052 Q2218.52 217.052 2215.71 214.309 Q2212.9 211.532 2212.9 204.24 L2212.9 183.129 L2208.21 183.129 L2208.21 178.164 L2212.9 178.164 L2212.9 167.122 L2219.32 167.122 Z\" fill=\"#000000\" fill-rule=\"evenodd\" fill-opacity=\"1\" /><polyline clip-path=\"url(#clip140)\" style=\"stroke:#e26f46; stroke-linecap:butt; stroke-linejoin:round; stroke-width:6; stroke-opacity:1; fill:none\" points=\"\n",
       "  1689.9,287.047 1834.23,287.047 \n",
       "  \"/>\n",
       "<path clip-path=\"url(#clip140)\" d=\"M1858.28 343.398 L1858.28 276.398 Q1858.28 273.728 1859.72 273.728 Q1861.16 273.728 1861.16 275.871 L1861.16 342.871 Q1861.16 345.541 1859.72 345.541 Q1858.28 345.541 1858.28 343.398 Z\" fill=\"#000000\" fill-rule=\"evenodd\" fill-opacity=\"1\" /><path clip-path=\"url(#clip140)\" d=\"M1902.57 299.2 Q1902.57 299.235 1902.36 300.499 L1894.35 332.436 Q1893.93 334.122 1892.74 335.809 Q1891.58 337.53 1889.72 339.006 Q1887.89 340.517 1885.08 341.43 Q1882.3 342.379 1879.11 342.379 Q1874.01 342.379 1871.76 341.29 Q1869.55 340.236 1869.55 337.987 Q1869.55 336.02 1870.78 334.895 Q1872.01 333.806 1873.41 333.806 Q1874.75 333.806 1875.45 334.579 Q1876.15 335.352 1876.15 336.336 Q1876.15 337.425 1875.42 338.514 Q1874.68 339.638 1873.2 340.06 Q1875.56 340.798 1878.96 340.798 Q1886.17 340.798 1889.26 333.174 Q1889.33 333.068 1889.33 333.033 L1891.72 323.512 L1891.61 323.442 Q1891.02 324.144 1890.07 324.953 Q1889.15 325.725 1887.19 326.674 Q1885.22 327.623 1883.29 327.623 Q1879.25 327.623 1876.47 324.531 Q1873.73 321.404 1873.73 316.239 Q1873.73 312.48 1875.24 308.721 Q1876.79 304.926 1879.18 302.151 Q1881.6 299.34 1884.69 297.583 Q1887.82 295.827 1890.84 295.827 Q1892.95 295.827 1894.74 297.092 Q1896.53 298.321 1897.52 300.359 Q1897.69 298.673 1898.64 297.97 Q1899.62 297.267 1900.47 297.267 Q1901.42 297.267 1901.98 297.794 Q1902.57 298.286 1902.57 299.2 M1896.67 303.591 Q1896.67 303.38 1896.53 302.818 Q1896.39 302.221 1895.97 301.272 Q1895.58 300.324 1894.99 299.481 Q1894.39 298.637 1893.3 298.04 Q1892.25 297.408 1890.91 297.408 Q1888.73 297.408 1886.55 299.235 Q1884.38 301.026 1882.86 303.802 Q1881.46 306.472 1880.12 311.637 Q1878.82 316.801 1878.82 319.437 Q1878.82 322.036 1879.95 324.039 Q1881.07 326.042 1883.5 326.042 Q1886.31 326.042 1889.33 323.442 Q1892.46 320.736 1892.98 318.418 L1896.46 304.68 Q1896.67 303.837 1896.67 303.591 Z\" fill=\"#000000\" fill-rule=\"evenodd\" fill-opacity=\"1\" /><path clip-path=\"url(#clip140)\" d=\"M1909.22 279.841 Q1909.22 278.049 1910.3 277.311 Q1911.39 276.538 1912.55 276.538 Q1913.99 276.538 1914.91 277.417 Q1915.86 278.26 1915.86 279.841 Q1915.86 280.544 1915.79 280.93 L1913.4 302.643 L1911.74 302.643 L1909.29 280.93 Q1909.22 280.544 1909.22 279.841 Z\" fill=\"#000000\" fill-rule=\"evenodd\" fill-opacity=\"1\" /><path clip-path=\"url(#clip140)\" d=\"M1929.01 343.398 L1929.01 276.398 Q1929.01 273.728 1930.46 273.728 Q1931.9 273.728 1931.9 275.871 L1931.9 342.871 Q1931.9 345.541 1930.46 345.541 Q1929.01 345.541 1929.01 343.398 Z\" fill=\"#000000\" fill-rule=\"evenodd\" fill-opacity=\"1\" /><path clip-path=\"url(#clip140)\" d=\"M1962.34 264.99 Q1962.34 266.392 1961.48 267.228 Q1960.64 268.065 1959.58 268.065 Q1958.65 268.065 1958.16 267.524 Q1957.66 266.982 1957.66 266.294 Q1957.66 265.999 1957.79 265.63 Q1957.91 265.236 1958.18 264.769 Q1958.48 264.302 1959.09 263.957 Q1959.71 263.613 1960.54 263.564 Q1960.37 263.392 1960.32 263.367 Q1959.95 263.072 1959.26 262.974 Q1959.16 262.925 1958.82 262.925 Q1957.12 262.925 1955.4 264.179 Q1953.7 265.408 1951.61 267.745 Q1948.98 270.475 1947.29 271.483 Q1954.74 272.467 1954.74 276.771 Q1954.74 277.484 1954.54 278.345 Q1954.15 279.968 1954.15 281.148 Q1954.15 283.509 1955.75 283.509 Q1957.3 283.509 1958.28 281.935 Q1959.29 280.361 1960.12 277.287 Q1960.25 276.722 1960.37 276.549 Q1960.49 276.377 1960.84 276.377 Q1961.45 276.377 1961.45 276.869 Q1960.89 279.747 1959.63 281.96 Q1958.03 284.641 1955.65 284.641 Q1953.66 284.641 1952.33 283.263 Q1951.02 281.862 1951.02 279.648 Q1951.02 279.107 1951.22 277.877 Q1951.37 277.386 1951.37 276.82 Q1951.37 275.664 1950.73 274.803 Q1950.09 273.918 1949.06 273.475 Q1948.02 273.032 1947.16 272.836 Q1946.33 272.614 1945.51 272.541 Q1943.06 282.944 1942.71 283.583 Q1942.49 284.026 1942 284.321 Q1941.51 284.641 1940.99 284.641 Q1940.5 284.641 1940.01 284.296 Q1939.54 283.977 1939.54 283.214 Q1939.54 282.821 1939.74 282.108 L1947.04 253.087 L1947.19 252.103 Q1947.19 251.808 1947.06 251.661 Q1946.97 251.489 1946.38 251.366 Q1945.81 251.243 1944.68 251.243 Q1944.21 251.243 1943.99 251.218 Q1943.79 251.193 1943.62 251.07 Q1943.45 250.923 1943.45 250.628 Q1943.45 250.21 1943.62 249.988 Q1943.82 249.742 1943.97 249.693 Q1944.11 249.644 1944.41 249.619 Q1944.83 249.595 1946.23 249.472 Q1947.63 249.324 1948.83 249.226 Q1950.04 249.128 1950.56 249.128 Q1950.85 249.128 1951 249.275 Q1951.17 249.398 1951.2 249.546 L1951.22 249.669 L1945.98 270.917 Q1948.15 270.057 1951.56 266.245 Q1955.52 261.818 1958.92 261.818 Q1960.52 261.818 1961.43 262.802 Q1962.34 263.761 1962.34 264.99 Z\" fill=\"#000000\" fill-rule=\"evenodd\" fill-opacity=\"1\" /></svg>\n"
      ]
     },
     "execution_count": 119,
     "metadata": {},
     "output_type": "execute_result"
    }
   ],
   "source": [
    "scatter(abs.(es), yscale=:log10, label=\"fixed point\")\n",
    "plot!(k -> abs(gp(xstar))^k, label=\"\\$|g'|^k\\$\")"
   ]
  },
  {
   "cell_type": "markdown",
   "id": "265cad05",
   "metadata": {
    "slideshow": {
     "slide_type": "slide"
    }
   },
   "source": [
    "# Plotting Newton convergence"
   ]
  },
  {
   "cell_type": "code",
   "execution_count": 38,
   "id": "a67b8eff",
   "metadata": {
    "cell_style": "split"
   },
   "outputs": [
    {
     "data": {
      "text/plain": [
       "newton_hist (generic function with 1 method)"
      ]
     },
     "execution_count": 38,
     "metadata": {},
     "output_type": "execute_result"
    }
   ],
   "source": [
    "function newton_hist(f, fp, x0; tol=1e-12)\n",
    "    x = x0\n",
    "    hist = []\n",
    "    for k in 1:100 # max number of iterations\n",
    "        fx = f(x)\n",
    "        fpx = fp(x)\n",
    "        push!(hist, [x fx fpx])\n",
    "        if abs(fx) < tol\n",
    "            return vcat(hist...)\n",
    "        end\n",
    "        x = x - fx / fpx\n",
    "    end\n",
    "end"
   ]
  },
  {
   "cell_type": "code",
   "execution_count": 39,
   "id": "2ed9af8b",
   "metadata": {
    "cell_style": "split"
   },
   "outputs": [
    {
     "name": "stdout",
     "output_type": "stream",
     "text": [
      "x_star = xs[end, 1] = 0.7390851332151607\n"
     ]
    },
    {
     "data": {
      "image/svg+xml": [
       "<?xml version=\"1.0\" encoding=\"utf-8\"?>\n",
       "<svg xmlns=\"http://www.w3.org/2000/svg\" xmlns:xlink=\"http://www.w3.org/1999/xlink\" width=\"600\" height=\"400\" viewBox=\"0 0 2400 1600\">\n",
       "<defs>\n",
       "  <clipPath id=\"clip740\">\n",
       "    <rect x=\"0\" y=\"0\" width=\"2400\" height=\"1600\"/>\n",
       "  </clipPath>\n",
       "</defs>\n",
       "<path clip-path=\"url(#clip740)\" d=\"\n",
       "M0 1600 L2400 1600 L2400 0 L0 0  Z\n",
       "  \" fill=\"#ffffff\" fill-rule=\"evenodd\" fill-opacity=\"1\"/>\n",
       "<defs>\n",
       "  <clipPath id=\"clip741\">\n",
       "    <rect x=\"480\" y=\"0\" width=\"1681\" height=\"1600\"/>\n",
       "  </clipPath>\n",
       "</defs>\n",
       "<path clip-path=\"url(#clip740)\" d=\"\n",
       "M213.607 1486.45 L2352.76 1486.45 L2352.76 47.2441 L213.607 47.2441  Z\n",
       "  \" fill=\"#ffffff\" fill-rule=\"evenodd\" fill-opacity=\"1\"/>\n",
       "<defs>\n",
       "  <clipPath id=\"clip742\">\n",
       "    <rect x=\"213\" y=\"47\" width=\"2140\" height=\"1440\"/>\n",
       "  </clipPath>\n",
       "</defs>\n",
       "<polyline clip-path=\"url(#clip742)\" style=\"stroke:#000000; stroke-linecap:butt; stroke-linejoin:round; stroke-width:2; stroke-opacity:0.1; fill:none\" points=\"\n",
       "  274.149,1486.45 274.149,47.2441 \n",
       "  \"/>\n",
       "<polyline clip-path=\"url(#clip742)\" style=\"stroke:#000000; stroke-linecap:butt; stroke-linejoin:round; stroke-width:2; stroke-opacity:0.1; fill:none\" points=\"\n",
       "  946.838,1486.45 946.838,47.2441 \n",
       "  \"/>\n",
       "<polyline clip-path=\"url(#clip742)\" style=\"stroke:#000000; stroke-linecap:butt; stroke-linejoin:round; stroke-width:2; stroke-opacity:0.1; fill:none\" points=\"\n",
       "  1619.53,1486.45 1619.53,47.2441 \n",
       "  \"/>\n",
       "<polyline clip-path=\"url(#clip742)\" style=\"stroke:#000000; stroke-linecap:butt; stroke-linejoin:round; stroke-width:2; stroke-opacity:0.1; fill:none\" points=\"\n",
       "  2292.21,1486.45 2292.21,47.2441 \n",
       "  \"/>\n",
       "<polyline clip-path=\"url(#clip740)\" style=\"stroke:#000000; stroke-linecap:butt; stroke-linejoin:round; stroke-width:4; stroke-opacity:1; fill:none\" points=\"\n",
       "  213.607,1486.45 2352.76,1486.45 \n",
       "  \"/>\n",
       "<polyline clip-path=\"url(#clip740)\" style=\"stroke:#000000; stroke-linecap:butt; stroke-linejoin:round; stroke-width:4; stroke-opacity:1; fill:none\" points=\"\n",
       "  274.149,1486.45 274.149,1467.55 \n",
       "  \"/>\n",
       "<polyline clip-path=\"url(#clip740)\" style=\"stroke:#000000; stroke-linecap:butt; stroke-linejoin:round; stroke-width:4; stroke-opacity:1; fill:none\" points=\"\n",
       "  946.838,1486.45 946.838,1467.55 \n",
       "  \"/>\n",
       "<polyline clip-path=\"url(#clip740)\" style=\"stroke:#000000; stroke-linecap:butt; stroke-linejoin:round; stroke-width:4; stroke-opacity:1; fill:none\" points=\"\n",
       "  1619.53,1486.45 1619.53,1467.55 \n",
       "  \"/>\n",
       "<polyline clip-path=\"url(#clip740)\" style=\"stroke:#000000; stroke-linecap:butt; stroke-linejoin:round; stroke-width:4; stroke-opacity:1; fill:none\" points=\"\n",
       "  2292.21,1486.45 2292.21,1467.55 \n",
       "  \"/>\n",
       "<path clip-path=\"url(#clip740)\" d=\"M264.531 1544.91 L272.17 1544.91 L272.17 1518.55 L263.86 1520.21 L263.86 1515.95 L272.124 1514.29 L276.8 1514.29 L276.8 1544.91 L284.439 1544.91 L284.439 1548.85 L264.531 1548.85 L264.531 1544.91 Z\" fill=\"#000000\" fill-rule=\"evenodd\" fill-opacity=\"1\" /><path clip-path=\"url(#clip740)\" d=\"M941.49 1544.91 L957.81 1544.91 L957.81 1548.85 L935.865 1548.85 L935.865 1544.91 Q938.527 1542.16 943.111 1537.53 Q947.717 1532.88 948.898 1531.53 Q951.143 1529.01 952.023 1527.27 Q952.926 1525.51 952.926 1523.82 Q952.926 1521.07 950.981 1519.33 Q949.06 1517.6 945.958 1517.6 Q943.759 1517.6 941.305 1518.36 Q938.875 1519.13 936.097 1520.68 L936.097 1515.95 Q938.921 1514.82 941.375 1514.24 Q943.828 1513.66 945.865 1513.66 Q951.236 1513.66 954.43 1516.35 Q957.625 1519.03 957.625 1523.52 Q957.625 1525.65 956.814 1527.57 Q956.027 1529.47 953.921 1532.07 Q953.342 1532.74 950.24 1535.95 Q947.139 1539.15 941.49 1544.91 Z\" fill=\"#000000\" fill-rule=\"evenodd\" fill-opacity=\"1\" /><path clip-path=\"url(#clip740)\" d=\"M1623.77 1530.21 Q1627.13 1530.93 1629 1533.2 Q1630.9 1535.47 1630.9 1538.8 Q1630.9 1543.92 1627.38 1546.72 Q1623.87 1549.52 1617.38 1549.52 Q1615.21 1549.52 1612.89 1549.08 Q1610.6 1548.66 1608.15 1547.81 L1608.15 1543.29 Q1610.09 1544.43 1612.41 1545.01 Q1614.72 1545.58 1617.25 1545.58 Q1621.64 1545.58 1623.94 1543.85 Q1626.25 1542.11 1626.25 1538.8 Q1626.25 1535.75 1624.1 1534.03 Q1621.97 1532.3 1618.15 1532.3 L1614.12 1532.3 L1614.12 1528.45 L1618.33 1528.45 Q1621.78 1528.45 1623.61 1527.09 Q1625.44 1525.7 1625.44 1523.11 Q1625.44 1520.45 1623.54 1519.03 Q1621.67 1517.6 1618.15 1517.6 Q1616.23 1517.6 1614.03 1518.01 Q1611.83 1518.43 1609.19 1519.31 L1609.19 1515.14 Q1611.85 1514.4 1614.17 1514.03 Q1616.5 1513.66 1618.57 1513.66 Q1623.89 1513.66 1626.99 1516.09 Q1630.09 1518.5 1630.09 1522.62 Q1630.09 1525.49 1628.45 1527.48 Q1626.81 1529.45 1623.77 1530.21 Z\" fill=\"#000000\" fill-rule=\"evenodd\" fill-opacity=\"1\" /><path clip-path=\"url(#clip740)\" d=\"M2295.22 1518.36 L2283.42 1536.81 L2295.22 1536.81 L2295.22 1518.36 M2294 1514.29 L2299.88 1514.29 L2299.88 1536.81 L2304.81 1536.81 L2304.81 1540.7 L2299.88 1540.7 L2299.88 1548.85 L2295.22 1548.85 L2295.22 1540.7 L2279.62 1540.7 L2279.62 1536.19 L2294 1514.29 Z\" fill=\"#000000\" fill-rule=\"evenodd\" fill-opacity=\"1\" /><polyline clip-path=\"url(#clip742)\" style=\"stroke:#000000; stroke-linecap:butt; stroke-linejoin:round; stroke-width:2; stroke-opacity:0.1; fill:none\" points=\"\n",
       "  213.607,1231.34 2352.76,1231.34 \n",
       "  \"/>\n",
       "<polyline clip-path=\"url(#clip742)\" style=\"stroke:#000000; stroke-linecap:butt; stroke-linejoin:round; stroke-width:2; stroke-opacity:0.1; fill:none\" points=\"\n",
       "  213.607,664.771 2352.76,664.771 \n",
       "  \"/>\n",
       "<polyline clip-path=\"url(#clip742)\" style=\"stroke:#000000; stroke-linecap:butt; stroke-linejoin:round; stroke-width:2; stroke-opacity:0.1; fill:none\" points=\"\n",
       "  213.607,98.2004 2352.76,98.2004 \n",
       "  \"/>\n",
       "<polyline clip-path=\"url(#clip740)\" style=\"stroke:#000000; stroke-linecap:butt; stroke-linejoin:round; stroke-width:4; stroke-opacity:1; fill:none\" points=\"\n",
       "  213.607,1486.45 213.607,47.2441 \n",
       "  \"/>\n",
       "<polyline clip-path=\"url(#clip740)\" style=\"stroke:#000000; stroke-linecap:butt; stroke-linejoin:round; stroke-width:4; stroke-opacity:1; fill:none\" points=\"\n",
       "  213.607,1231.34 232.505,1231.34 \n",
       "  \"/>\n",
       "<polyline clip-path=\"url(#clip740)\" style=\"stroke:#000000; stroke-linecap:butt; stroke-linejoin:round; stroke-width:4; stroke-opacity:1; fill:none\" points=\"\n",
       "  213.607,664.771 232.505,664.771 \n",
       "  \"/>\n",
       "<polyline clip-path=\"url(#clip740)\" style=\"stroke:#000000; stroke-linecap:butt; stroke-linejoin:round; stroke-width:4; stroke-opacity:1; fill:none\" points=\"\n",
       "  213.607,98.2004 232.505,98.2004 \n",
       "  \"/>\n",
       "<path clip-path=\"url(#clip740)\" d=\"M51.6634 1251.13 L59.3023 1251.13 L59.3023 1224.77 L50.9921 1226.44 L50.9921 1222.18 L59.256 1220.51 L63.9319 1220.51 L63.9319 1251.13 L71.5707 1251.13 L71.5707 1255.07 L51.6634 1255.07 L51.6634 1251.13 Z\" fill=\"#000000\" fill-rule=\"evenodd\" fill-opacity=\"1\" /><path clip-path=\"url(#clip740)\" d=\"M91.0151 1223.59 Q87.404 1223.59 85.5753 1227.15 Q83.7697 1230.69 83.7697 1237.82 Q83.7697 1244.93 85.5753 1248.5 Q87.404 1252.04 91.0151 1252.04 Q94.6493 1252.04 96.4548 1248.5 Q98.2835 1244.93 98.2835 1237.82 Q98.2835 1230.69 96.4548 1227.15 Q94.6493 1223.59 91.0151 1223.59 M91.0151 1219.88 Q96.8252 1219.88 99.8808 1224.49 Q102.959 1229.07 102.959 1237.82 Q102.959 1246.55 99.8808 1251.16 Q96.8252 1255.74 91.0151 1255.74 Q85.2049 1255.74 82.1262 1251.16 Q79.0707 1246.55 79.0707 1237.82 Q79.0707 1229.07 82.1262 1224.49 Q85.2049 1219.88 91.0151 1219.88 Z\" fill=\"#000000\" fill-rule=\"evenodd\" fill-opacity=\"1\" /><path clip-path=\"url(#clip740)\" d=\"M102.959 1213.99 L127.071 1213.99 L127.071 1217.18 L102.959 1217.18 L102.959 1213.99 Z\" fill=\"#000000\" fill-rule=\"evenodd\" fill-opacity=\"1\" /><path clip-path=\"url(#clip740)\" d=\"M135.929 1224.46 L142.136 1224.46 L142.136 1203.04 L135.384 1204.39 L135.384 1200.93 L142.098 1199.58 L145.898 1199.58 L145.898 1224.46 L152.104 1224.46 L152.104 1227.66 L135.929 1227.66 L135.929 1224.46 Z\" fill=\"#000000\" fill-rule=\"evenodd\" fill-opacity=\"1\" /><path clip-path=\"url(#clip740)\" d=\"M167.903 1202.08 Q164.969 1202.08 163.483 1204.98 Q162.016 1207.85 162.016 1213.65 Q162.016 1219.42 163.483 1222.32 Q164.969 1225.19 167.903 1225.19 Q170.855 1225.19 172.322 1222.32 Q173.808 1219.42 173.808 1213.65 Q173.808 1207.85 172.322 1204.98 Q170.855 1202.08 167.903 1202.08 M167.903 1199.07 Q172.623 1199.07 175.106 1202.81 Q177.607 1206.54 177.607 1213.65 Q177.607 1220.74 175.106 1224.48 Q172.623 1228.2 167.903 1228.2 Q163.182 1228.2 160.68 1224.48 Q158.198 1220.74 158.198 1213.65 Q158.198 1206.54 160.68 1202.81 Q163.182 1199.07 167.903 1199.07 Z\" fill=\"#000000\" fill-rule=\"evenodd\" fill-opacity=\"1\" /><path clip-path=\"url(#clip740)\" d=\"M76.9787 684.563 L84.6175 684.563 L84.6175 658.198 L76.3074 659.864 L76.3074 655.605 L84.5712 653.939 L89.2471 653.939 L89.2471 684.563 L96.886 684.563 L96.886 688.499 L76.9787 688.499 L76.9787 684.563 Z\" fill=\"#000000\" fill-rule=\"evenodd\" fill-opacity=\"1\" /><path clip-path=\"url(#clip740)\" d=\"M116.33 657.017 Q112.719 657.017 110.891 660.582 Q109.085 664.124 109.085 671.253 Q109.085 678.36 110.891 681.925 Q112.719 685.466 116.33 685.466 Q119.965 685.466 121.77 681.925 Q123.599 678.36 123.599 671.253 Q123.599 664.124 121.77 660.582 Q119.965 657.017 116.33 657.017 M116.33 653.314 Q122.14 653.314 125.196 657.92 Q128.275 662.503 128.275 671.253 Q128.275 679.98 125.196 684.587 Q122.14 689.17 116.33 689.17 Q110.52 689.17 107.441 684.587 Q104.386 679.98 104.386 671.253 Q104.386 662.503 107.441 657.92 Q110.52 653.314 116.33 653.314 Z\" fill=\"#000000\" fill-rule=\"evenodd\" fill-opacity=\"1\" /><path clip-path=\"url(#clip740)\" d=\"M128.275 647.415 L152.386 647.415 L152.386 650.612 L128.275 650.612 L128.275 647.415 Z\" fill=\"#000000\" fill-rule=\"evenodd\" fill-opacity=\"1\" /><path clip-path=\"url(#clip740)\" d=\"M160.624 633.008 L175.539 633.008 L175.539 636.205 L164.103 636.205 L164.103 643.089 Q164.931 642.807 165.759 642.675 Q166.586 642.525 167.414 642.525 Q172.116 642.525 174.862 645.102 Q177.607 647.678 177.607 652.079 Q177.607 656.612 174.786 659.132 Q171.965 661.634 166.831 661.634 Q165.063 661.634 163.22 661.333 Q161.395 661.032 159.439 660.43 L159.439 656.612 Q161.132 657.533 162.937 657.985 Q164.743 658.436 166.755 658.436 Q170.009 658.436 171.909 656.725 Q173.808 655.013 173.808 652.079 Q173.808 649.145 171.909 647.434 Q170.009 645.722 166.755 645.722 Q165.232 645.722 163.709 646.061 Q162.204 646.399 160.624 647.114 L160.624 633.008 Z\" fill=\"#000000\" fill-rule=\"evenodd\" fill-opacity=\"1\" /><path clip-path=\"url(#clip740)\" d=\"M106.902 117.993 L114.541 117.993 L114.541 91.6272 L106.231 93.2939 L106.231 89.0346 L114.494 87.368 L119.17 87.368 L119.17 117.993 L126.809 117.993 L126.809 121.928 L106.902 121.928 L106.902 117.993 Z\" fill=\"#000000\" fill-rule=\"evenodd\" fill-opacity=\"1\" /><path clip-path=\"url(#clip740)\" d=\"M146.253 90.4467 Q142.642 90.4467 140.814 94.0115 Q139.008 97.5531 139.008 104.683 Q139.008 111.789 140.814 115.354 Q142.642 118.896 146.253 118.896 Q149.888 118.896 151.693 115.354 Q153.522 111.789 153.522 104.683 Q153.522 97.5531 151.693 94.0115 Q149.888 90.4467 146.253 90.4467 M146.253 86.743 Q152.064 86.743 155.119 91.3494 Q158.198 95.9328 158.198 104.683 Q158.198 113.41 155.119 118.016 Q152.064 122.599 146.253 122.599 Q140.443 122.599 137.365 118.016 Q134.309 113.41 134.309 104.683 Q134.309 95.9328 137.365 91.3494 Q140.443 86.743 146.253 86.743 Z\" fill=\"#000000\" fill-rule=\"evenodd\" fill-opacity=\"1\" /><path clip-path=\"url(#clip740)\" d=\"M167.903 68.939 Q164.969 68.939 163.483 71.8354 Q162.016 74.713 162.016 80.5058 Q162.016 86.2798 163.483 89.1762 Q164.969 92.0538 167.903 92.0538 Q170.855 92.0538 172.322 89.1762 Q173.808 86.2798 173.808 80.5058 Q173.808 74.713 172.322 71.8354 Q170.855 68.939 167.903 68.939 M167.903 65.9298 Q172.623 65.9298 175.106 69.6725 Q177.607 73.3965 177.607 80.5058 Q177.607 87.5963 175.106 91.3391 Q172.623 95.063 167.903 95.063 Q163.182 95.063 160.68 91.3391 Q158.198 87.5963 158.198 80.5058 Q158.198 73.3965 160.68 69.6725 Q163.182 65.9298 167.903 65.9298 Z\" fill=\"#000000\" fill-rule=\"evenodd\" fill-opacity=\"1\" /><polyline clip-path=\"url(#clip742)\" style=\"stroke:#009af9; stroke-linecap:butt; stroke-linejoin:round; stroke-width:16; stroke-opacity:1; fill:none\" points=\"\n",
       "  274.149,87.9763 946.838,379.244 1619.53,734.791 2292.21,1445.72 \n",
       "  \"/>\n",
       "<circle clip-path=\"url(#clip742)\" cx=\"274.149\" cy=\"87.9763\" r=\"14\" fill=\"#009af9\" fill-rule=\"evenodd\" fill-opacity=\"1\" stroke=\"#000000\" stroke-opacity=\"1\" stroke-width=\"3.2\"/>\n",
       "<circle clip-path=\"url(#clip742)\" cx=\"946.838\" cy=\"379.244\" r=\"14\" fill=\"#009af9\" fill-rule=\"evenodd\" fill-opacity=\"1\" stroke=\"#000000\" stroke-opacity=\"1\" stroke-width=\"3.2\"/>\n",
       "<circle clip-path=\"url(#clip742)\" cx=\"1619.53\" cy=\"734.791\" r=\"14\" fill=\"#009af9\" fill-rule=\"evenodd\" fill-opacity=\"1\" stroke=\"#000000\" stroke-opacity=\"1\" stroke-width=\"3.2\"/>\n",
       "<circle clip-path=\"url(#clip742)\" cx=\"2292.21\" cy=\"1445.72\" r=\"14\" fill=\"#009af9\" fill-rule=\"evenodd\" fill-opacity=\"1\" stroke=\"#000000\" stroke-opacity=\"1\" stroke-width=\"3.2\"/>\n",
       "<path clip-path=\"url(#clip740)\" d=\"\n",
       "M1991.34 198.898 L2281.45 198.898 L2281.45 95.2176 L1991.34 95.2176  Z\n",
       "  \" fill=\"#ffffff\" fill-rule=\"evenodd\" fill-opacity=\"1\"/>\n",
       "<polyline clip-path=\"url(#clip740)\" style=\"stroke:#000000; stroke-linecap:butt; stroke-linejoin:round; stroke-width:4; stroke-opacity:1; fill:none\" points=\"\n",
       "  1991.34,198.898 2281.45,198.898 2281.45,95.2176 1991.34,95.2176 1991.34,198.898 \n",
       "  \"/>\n",
       "<polyline clip-path=\"url(#clip740)\" style=\"stroke:#009af9; stroke-linecap:butt; stroke-linejoin:round; stroke-width:4; stroke-opacity:1; fill:none\" points=\"\n",
       "  2015.11,147.058 2157.72,147.058 \n",
       "  \"/>\n",
       "<circle clip-path=\"url(#clip740)\" cx=\"2086.41\" cy=\"147.058\" r=\"23\" fill=\"#009af9\" fill-rule=\"evenodd\" fill-opacity=\"1\" stroke=\"#000000\" stroke-opacity=\"1\" stroke-width=\"5.12\"/>\n",
       "<path clip-path=\"url(#clip740)\" d=\"M2195.33 166.745 Q2193.52 171.375 2191.81 172.787 Q2190.1 174.199 2187.22 174.199 L2183.82 174.199 L2183.82 170.634 L2186.32 170.634 Q2188.08 170.634 2189.05 169.8 Q2190.03 168.967 2191.21 165.865 L2191.97 163.921 L2181.48 138.412 L2186 138.412 L2194.1 158.689 L2202.2 138.412 L2206.72 138.412 L2195.33 166.745 Z\" fill=\"#000000\" fill-rule=\"evenodd\" fill-opacity=\"1\" /><path clip-path=\"url(#clip740)\" d=\"M2214.01 160.402 L2221.65 160.402 L2221.65 134.037 L2213.34 135.703 L2213.34 131.444 L2221.6 129.778 L2226.28 129.778 L2226.28 160.402 L2233.91 160.402 L2233.91 164.338 L2214.01 164.338 L2214.01 160.402 Z\" fill=\"#000000\" fill-rule=\"evenodd\" fill-opacity=\"1\" /></svg>\n"
      ]
     },
     "execution_count": 39,
     "metadata": {},
     "output_type": "execute_result"
    }
   ],
   "source": [
    "xs = newton_hist(f, fp, 1.97)\n",
    "@show x_star = xs[end,1]\n",
    "plot(xs[1:end-1,1] .- x_star, yscale=:log10, marker=:auto)"
   ]
  },
  {
   "cell_type": "markdown",
   "id": "51533606",
   "metadata": {},
   "source": [
    "## Poll: Is this convergence A=q-linear, B=r-linear, C=neither?"
   ]
  },
  {
   "cell_type": "markdown",
   "id": "d9a040d3",
   "metadata": {
    "slideshow": {
     "slide_type": "slide"
    }
   },
   "source": [
    "# Formulations are not unique (constants)\n",
    "\n",
    "If $x = g(x)$ then\n",
    "$$x = \\underbrace{x + c(g(x) - x)}_{g_2}$$\n",
    "for any constant $c \\ne 0$. Can we choose $c$ to make $\\lvert g_2'(x_*) \\rvert$ small?"
   ]
  },
  {
   "cell_type": "code",
   "execution_count": 66,
   "id": "b6f9472b",
   "metadata": {
    "cell_style": "split"
   },
   "outputs": [
    {
     "name": "stdout",
     "output_type": "stream",
     "text": [
      "g2p(xstar) = 0.16319398534552476\n"
     ]
    },
    {
     "data": {
      "image/svg+xml": [
       "<?xml version=\"1.0\" encoding=\"utf-8\"?>\n",
       "<svg xmlns=\"http://www.w3.org/2000/svg\" xmlns:xlink=\"http://www.w3.org/1999/xlink\" width=\"600\" height=\"400\" viewBox=\"0 0 2400 1600\">\n",
       "<defs>\n",
       "  <clipPath id=\"clip700\">\n",
       "    <rect x=\"0\" y=\"0\" width=\"2400\" height=\"1600\"/>\n",
       "  </clipPath>\n",
       "</defs>\n",
       "<path clip-path=\"url(#clip700)\" d=\"\n",
       "M0 1600 L2400 1600 L2400 0 L0 0  Z\n",
       "  \" fill=\"#ffffff\" fill-rule=\"evenodd\" fill-opacity=\"1\"/>\n",
       "<defs>\n",
       "  <clipPath id=\"clip701\">\n",
       "    <rect x=\"480\" y=\"0\" width=\"1681\" height=\"1600\"/>\n",
       "  </clipPath>\n",
       "</defs>\n",
       "<path clip-path=\"url(#clip700)\" d=\"\n",
       "M193.936 1486.45 L2352.76 1486.45 L2352.76 47.2441 L193.936 47.2441  Z\n",
       "  \" fill=\"#ffffff\" fill-rule=\"evenodd\" fill-opacity=\"1\"/>\n",
       "<defs>\n",
       "  <clipPath id=\"clip702\">\n",
       "    <rect x=\"193\" y=\"47\" width=\"2160\" height=\"1440\"/>\n",
       "  </clipPath>\n",
       "</defs>\n",
       "<polyline clip-path=\"url(#clip702)\" style=\"stroke:#000000; stroke-linecap:butt; stroke-linejoin:round; stroke-width:2; stroke-opacity:0.1; fill:none\" points=\"\n",
       "  458.697,1486.45 458.697,47.2441 \n",
       "  \"/>\n",
       "<polyline clip-path=\"url(#clip702)\" style=\"stroke:#000000; stroke-linecap:butt; stroke-linejoin:round; stroke-width:2; stroke-opacity:0.1; fill:none\" points=\"\n",
       "  866.021,1486.45 866.021,47.2441 \n",
       "  \"/>\n",
       "<polyline clip-path=\"url(#clip702)\" style=\"stroke:#000000; stroke-linecap:butt; stroke-linejoin:round; stroke-width:2; stroke-opacity:0.1; fill:none\" points=\"\n",
       "  1273.35,1486.45 1273.35,47.2441 \n",
       "  \"/>\n",
       "<polyline clip-path=\"url(#clip702)\" style=\"stroke:#000000; stroke-linecap:butt; stroke-linejoin:round; stroke-width:2; stroke-opacity:0.1; fill:none\" points=\"\n",
       "  1680.67,1486.45 1680.67,47.2441 \n",
       "  \"/>\n",
       "<polyline clip-path=\"url(#clip702)\" style=\"stroke:#000000; stroke-linecap:butt; stroke-linejoin:round; stroke-width:2; stroke-opacity:0.1; fill:none\" points=\"\n",
       "  2087.99,1486.45 2087.99,47.2441 \n",
       "  \"/>\n",
       "<polyline clip-path=\"url(#clip700)\" style=\"stroke:#000000; stroke-linecap:butt; stroke-linejoin:round; stroke-width:4; stroke-opacity:1; fill:none\" points=\"\n",
       "  193.936,1486.45 2352.76,1486.45 \n",
       "  \"/>\n",
       "<polyline clip-path=\"url(#clip700)\" style=\"stroke:#000000; stroke-linecap:butt; stroke-linejoin:round; stroke-width:4; stroke-opacity:1; fill:none\" points=\"\n",
       "  458.697,1486.45 458.697,1467.55 \n",
       "  \"/>\n",
       "<polyline clip-path=\"url(#clip700)\" style=\"stroke:#000000; stroke-linecap:butt; stroke-linejoin:round; stroke-width:4; stroke-opacity:1; fill:none\" points=\"\n",
       "  866.021,1486.45 866.021,1467.55 \n",
       "  \"/>\n",
       "<polyline clip-path=\"url(#clip700)\" style=\"stroke:#000000; stroke-linecap:butt; stroke-linejoin:round; stroke-width:4; stroke-opacity:1; fill:none\" points=\"\n",
       "  1273.35,1486.45 1273.35,1467.55 \n",
       "  \"/>\n",
       "<polyline clip-path=\"url(#clip700)\" style=\"stroke:#000000; stroke-linecap:butt; stroke-linejoin:round; stroke-width:4; stroke-opacity:1; fill:none\" points=\"\n",
       "  1680.67,1486.45 1680.67,1467.55 \n",
       "  \"/>\n",
       "<polyline clip-path=\"url(#clip700)\" style=\"stroke:#000000; stroke-linecap:butt; stroke-linejoin:round; stroke-width:4; stroke-opacity:1; fill:none\" points=\"\n",
       "  2087.99,1486.45 2087.99,1467.55 \n",
       "  \"/>\n",
       "<path clip-path=\"url(#clip700)\" d=\"M427.598 1532.02 L457.273 1532.02 L457.273 1535.95 L427.598 1535.95 L427.598 1532.02 Z\" fill=\"#000000\" fill-rule=\"evenodd\" fill-opacity=\"1\" /><path clip-path=\"url(#clip700)\" d=\"M480.213 1518.36 L468.408 1536.81 L480.213 1536.81 L480.213 1518.36 M478.986 1514.29 L484.866 1514.29 L484.866 1536.81 L489.796 1536.81 L489.796 1540.7 L484.866 1540.7 L484.866 1548.85 L480.213 1548.85 L480.213 1540.7 L464.611 1540.7 L464.611 1536.19 L478.986 1514.29 Z\" fill=\"#000000\" fill-rule=\"evenodd\" fill-opacity=\"1\" /><path clip-path=\"url(#clip700)\" d=\"M835.964 1532.02 L865.639 1532.02 L865.639 1535.95 L835.964 1535.95 L835.964 1532.02 Z\" fill=\"#000000\" fill-rule=\"evenodd\" fill-opacity=\"1\" /><path clip-path=\"url(#clip700)\" d=\"M879.76 1544.91 L896.079 1544.91 L896.079 1548.85 L874.135 1548.85 L874.135 1544.91 Q876.797 1542.16 881.38 1537.53 Q885.987 1532.88 887.167 1531.53 Q889.413 1529.01 890.292 1527.27 Q891.195 1525.51 891.195 1523.82 Q891.195 1521.07 889.25 1519.33 Q887.329 1517.6 884.227 1517.6 Q882.028 1517.6 879.575 1518.36 Q877.144 1519.13 874.366 1520.68 L874.366 1515.95 Q877.19 1514.82 879.644 1514.24 Q882.098 1513.66 884.135 1513.66 Q889.505 1513.66 892.7 1516.35 Q895.894 1519.03 895.894 1523.52 Q895.894 1525.65 895.084 1527.57 Q894.297 1529.47 892.19 1532.07 Q891.612 1532.74 888.51 1535.95 Q885.408 1539.15 879.76 1544.91 Z\" fill=\"#000000\" fill-rule=\"evenodd\" fill-opacity=\"1\" /><path clip-path=\"url(#clip700)\" d=\"M1273.35 1517.37 Q1269.73 1517.37 1267.91 1520.93 Q1266.1 1524.47 1266.1 1531.6 Q1266.1 1538.71 1267.91 1542.27 Q1269.73 1545.82 1273.35 1545.82 Q1276.98 1545.82 1278.79 1542.27 Q1280.61 1538.71 1280.61 1531.6 Q1280.61 1524.47 1278.79 1520.93 Q1276.98 1517.37 1273.35 1517.37 M1273.35 1513.66 Q1279.16 1513.66 1282.21 1518.27 Q1285.29 1522.85 1285.29 1531.6 Q1285.29 1540.33 1282.21 1544.94 Q1279.16 1549.52 1273.35 1549.52 Q1267.54 1549.52 1264.46 1544.94 Q1261.4 1540.33 1261.4 1531.6 Q1261.4 1522.85 1264.46 1518.27 Q1267.54 1513.66 1273.35 1513.66 Z\" fill=\"#000000\" fill-rule=\"evenodd\" fill-opacity=\"1\" /><path clip-path=\"url(#clip700)\" d=\"M1675.32 1544.91 L1691.64 1544.91 L1691.64 1548.85 L1669.7 1548.85 L1669.7 1544.91 Q1672.36 1542.16 1676.94 1537.53 Q1681.55 1532.88 1682.73 1531.53 Q1684.98 1529.01 1685.86 1527.27 Q1686.76 1525.51 1686.76 1523.82 Q1686.76 1521.07 1684.81 1519.33 Q1682.89 1517.6 1679.79 1517.6 Q1677.59 1517.6 1675.14 1518.36 Q1672.71 1519.13 1669.93 1520.68 L1669.93 1515.95 Q1672.75 1514.82 1675.21 1514.24 Q1677.66 1513.66 1679.7 1513.66 Q1685.07 1513.66 1688.26 1516.35 Q1691.46 1519.03 1691.46 1523.52 Q1691.46 1525.65 1690.65 1527.57 Q1689.86 1529.47 1687.75 1532.07 Q1687.18 1532.74 1684.07 1535.95 Q1680.97 1539.15 1675.32 1544.91 Z\" fill=\"#000000\" fill-rule=\"evenodd\" fill-opacity=\"1\" /><path clip-path=\"url(#clip700)\" d=\"M2091 1518.36 L2079.2 1536.81 L2091 1536.81 L2091 1518.36 M2089.78 1514.29 L2095.66 1514.29 L2095.66 1536.81 L2100.59 1536.81 L2100.59 1540.7 L2095.66 1540.7 L2095.66 1548.85 L2091 1548.85 L2091 1540.7 L2075.4 1540.7 L2075.4 1536.19 L2089.78 1514.29 Z\" fill=\"#000000\" fill-rule=\"evenodd\" fill-opacity=\"1\" /><polyline clip-path=\"url(#clip702)\" style=\"stroke:#000000; stroke-linecap:butt; stroke-linejoin:round; stroke-width:2; stroke-opacity:0.1; fill:none\" points=\"\n",
       "  193.936,1486.45 2352.76,1486.45 \n",
       "  \"/>\n",
       "<polyline clip-path=\"url(#clip702)\" style=\"stroke:#000000; stroke-linecap:butt; stroke-linejoin:round; stroke-width:2; stroke-opacity:0.1; fill:none\" points=\"\n",
       "  193.936,1126.65 2352.76,1126.65 \n",
       "  \"/>\n",
       "<polyline clip-path=\"url(#clip702)\" style=\"stroke:#000000; stroke-linecap:butt; stroke-linejoin:round; stroke-width:2; stroke-opacity:0.1; fill:none\" points=\"\n",
       "  193.936,766.846 2352.76,766.846 \n",
       "  \"/>\n",
       "<polyline clip-path=\"url(#clip702)\" style=\"stroke:#000000; stroke-linecap:butt; stroke-linejoin:round; stroke-width:2; stroke-opacity:0.1; fill:none\" points=\"\n",
       "  193.936,407.045 2352.76,407.045 \n",
       "  \"/>\n",
       "<polyline clip-path=\"url(#clip702)\" style=\"stroke:#000000; stroke-linecap:butt; stroke-linejoin:round; stroke-width:2; stroke-opacity:0.1; fill:none\" points=\"\n",
       "  193.936,47.2441 2352.76,47.2441 \n",
       "  \"/>\n",
       "<polyline clip-path=\"url(#clip700)\" style=\"stroke:#000000; stroke-linecap:butt; stroke-linejoin:round; stroke-width:4; stroke-opacity:1; fill:none\" points=\"\n",
       "  193.936,1486.45 193.936,47.2441 \n",
       "  \"/>\n",
       "<polyline clip-path=\"url(#clip700)\" style=\"stroke:#000000; stroke-linecap:butt; stroke-linejoin:round; stroke-width:4; stroke-opacity:1; fill:none\" points=\"\n",
       "  193.936,1486.45 212.834,1486.45 \n",
       "  \"/>\n",
       "<polyline clip-path=\"url(#clip700)\" style=\"stroke:#000000; stroke-linecap:butt; stroke-linejoin:round; stroke-width:4; stroke-opacity:1; fill:none\" points=\"\n",
       "  193.936,1126.65 212.834,1126.65 \n",
       "  \"/>\n",
       "<polyline clip-path=\"url(#clip700)\" style=\"stroke:#000000; stroke-linecap:butt; stroke-linejoin:round; stroke-width:4; stroke-opacity:1; fill:none\" points=\"\n",
       "  193.936,766.846 212.834,766.846 \n",
       "  \"/>\n",
       "<polyline clip-path=\"url(#clip700)\" style=\"stroke:#000000; stroke-linecap:butt; stroke-linejoin:round; stroke-width:4; stroke-opacity:1; fill:none\" points=\"\n",
       "  193.936,407.045 212.834,407.045 \n",
       "  \"/>\n",
       "<polyline clip-path=\"url(#clip700)\" style=\"stroke:#000000; stroke-linecap:butt; stroke-linejoin:round; stroke-width:4; stroke-opacity:1; fill:none\" points=\"\n",
       "  193.936,47.2441 212.834,47.2441 \n",
       "  \"/>\n",
       "<path clip-path=\"url(#clip700)\" d=\"M50.9921 1486.9 L80.6679 1486.9 L80.6679 1490.83 L50.9921 1490.83 L50.9921 1486.9 Z\" fill=\"#000000\" fill-rule=\"evenodd\" fill-opacity=\"1\" /><path clip-path=\"url(#clip700)\" d=\"M90.8067 1469.17 L109.163 1469.17 L109.163 1473.1 L95.0891 1473.1 L95.0891 1481.58 Q96.1076 1481.23 97.1261 1481.07 Q98.1447 1480.88 99.1632 1480.88 Q104.95 1480.88 108.33 1484.05 Q111.709 1487.22 111.709 1492.64 Q111.709 1498.22 108.237 1501.32 Q104.765 1504.4 98.4456 1504.4 Q96.2697 1504.4 94.0012 1504.03 Q91.7558 1503.66 89.3484 1502.92 L89.3484 1498.22 Q91.4317 1499.35 93.6539 1499.91 Q95.8761 1500.46 98.353 1500.46 Q102.358 1500.46 104.696 1498.36 Q107.033 1496.25 107.033 1492.64 Q107.033 1489.03 104.696 1486.92 Q102.358 1484.82 98.353 1484.82 Q96.478 1484.82 94.603 1485.23 Q92.7512 1485.65 90.8067 1486.53 L90.8067 1469.17 Z\" fill=\"#000000\" fill-rule=\"evenodd\" fill-opacity=\"1\" /><path clip-path=\"url(#clip700)\" d=\"M120.922 1497.85 L125.807 1497.85 L125.807 1503.73 L120.922 1503.73 L120.922 1497.85 Z\" fill=\"#000000\" fill-rule=\"evenodd\" fill-opacity=\"1\" /><path clip-path=\"url(#clip700)\" d=\"M145.992 1472.25 Q142.381 1472.25 140.552 1475.81 Q138.746 1479.35 138.746 1486.48 Q138.746 1493.59 140.552 1497.15 Q142.381 1500.7 145.992 1500.7 Q149.626 1500.7 151.431 1497.15 Q153.26 1493.59 153.26 1486.48 Q153.26 1479.35 151.431 1475.81 Q149.626 1472.25 145.992 1472.25 M145.992 1468.54 Q151.802 1468.54 154.857 1473.15 Q157.936 1477.73 157.936 1486.48 Q157.936 1495.21 154.857 1499.82 Q151.802 1504.4 145.992 1504.4 Q140.181 1504.4 137.103 1499.82 Q134.047 1495.21 134.047 1486.48 Q134.047 1477.73 137.103 1473.15 Q140.181 1468.54 145.992 1468.54 Z\" fill=\"#000000\" fill-rule=\"evenodd\" fill-opacity=\"1\" /><path clip-path=\"url(#clip700)\" d=\"M51.9875 1127.1 L81.6633 1127.1 L81.6633 1131.03 L51.9875 1131.03 L51.9875 1127.1 Z\" fill=\"#000000\" fill-rule=\"evenodd\" fill-opacity=\"1\" /><path clip-path=\"url(#clip700)\" d=\"M95.7836 1139.99 L112.103 1139.99 L112.103 1143.93 L90.1586 1143.93 L90.1586 1139.99 Q92.8206 1137.24 97.4039 1132.61 Q102.01 1127.95 103.191 1126.61 Q105.436 1124.09 106.316 1122.35 Q107.219 1120.59 107.219 1118.9 Q107.219 1116.15 105.274 1114.41 Q103.353 1112.68 100.251 1112.68 Q98.0521 1112.68 95.5984 1113.44 Q93.1678 1114.2 90.3901 1115.76 L90.3901 1111.03 Q93.2141 1109.9 95.6678 1109.32 Q98.1215 1108.74 100.159 1108.74 Q105.529 1108.74 108.723 1111.43 Q111.918 1114.11 111.918 1118.6 Q111.918 1120.73 111.108 1122.65 Q110.321 1124.55 108.214 1127.14 Q107.635 1127.82 104.534 1131.03 Q101.432 1134.23 95.7836 1139.99 Z\" fill=\"#000000\" fill-rule=\"evenodd\" fill-opacity=\"1\" /><path clip-path=\"url(#clip700)\" d=\"M121.918 1138.05 L126.802 1138.05 L126.802 1143.93 L121.918 1143.93 L121.918 1138.05 Z\" fill=\"#000000\" fill-rule=\"evenodd\" fill-opacity=\"1\" /><path clip-path=\"url(#clip700)\" d=\"M137.033 1109.37 L155.39 1109.37 L155.39 1113.3 L141.316 1113.3 L141.316 1121.77 Q142.334 1121.43 143.353 1121.27 Q144.371 1121.08 145.39 1121.08 Q151.177 1121.08 154.556 1124.25 Q157.936 1127.42 157.936 1132.84 Q157.936 1138.42 154.464 1141.52 Q150.992 1144.6 144.672 1144.6 Q142.496 1144.6 140.228 1144.23 Q137.982 1143.86 135.575 1143.12 L135.575 1138.42 Q137.658 1139.55 139.881 1140.11 Q142.103 1140.66 144.58 1140.66 Q148.584 1140.66 150.922 1138.56 Q153.26 1136.45 153.26 1132.84 Q153.26 1129.23 150.922 1127.12 Q148.584 1125.01 144.58 1125.01 Q142.705 1125.01 140.83 1125.43 Q138.978 1125.85 137.033 1126.73 L137.033 1109.37 Z\" fill=\"#000000\" fill-rule=\"evenodd\" fill-opacity=\"1\" /><path clip-path=\"url(#clip700)\" d=\"M100.76 752.645 Q97.1493 752.645 95.3206 756.209 Q93.515 759.751 93.515 766.881 Q93.515 773.987 95.3206 777.552 Q97.1493 781.094 100.76 781.094 Q104.395 781.094 106.2 777.552 Q108.029 773.987 108.029 766.881 Q108.029 759.751 106.2 756.209 Q104.395 752.645 100.76 752.645 M100.76 748.941 Q106.571 748.941 109.626 753.547 Q112.705 758.131 112.705 766.881 Q112.705 775.608 109.626 780.214 Q106.571 784.797 100.76 784.797 Q94.9502 784.797 91.8715 780.214 Q88.816 775.608 88.816 766.881 Q88.816 758.131 91.8715 753.547 Q94.9502 748.941 100.76 748.941 Z\" fill=\"#000000\" fill-rule=\"evenodd\" fill-opacity=\"1\" /><path clip-path=\"url(#clip700)\" d=\"M120.922 778.246 L125.807 778.246 L125.807 784.126 L120.922 784.126 L120.922 778.246 Z\" fill=\"#000000\" fill-rule=\"evenodd\" fill-opacity=\"1\" /><path clip-path=\"url(#clip700)\" d=\"M145.992 752.645 Q142.381 752.645 140.552 756.209 Q138.746 759.751 138.746 766.881 Q138.746 773.987 140.552 777.552 Q142.381 781.094 145.992 781.094 Q149.626 781.094 151.431 777.552 Q153.26 773.987 153.26 766.881 Q153.26 759.751 151.431 756.209 Q149.626 752.645 145.992 752.645 M145.992 748.941 Q151.802 748.941 154.857 753.547 Q157.936 758.131 157.936 766.881 Q157.936 775.608 154.857 780.214 Q151.802 784.797 145.992 784.797 Q140.181 784.797 137.103 780.214 Q134.047 775.608 134.047 766.881 Q134.047 758.131 137.103 753.547 Q140.181 748.941 145.992 748.941 Z\" fill=\"#000000\" fill-rule=\"evenodd\" fill-opacity=\"1\" /><path clip-path=\"url(#clip700)\" d=\"M95.7836 420.39 L112.103 420.39 L112.103 424.325 L90.1586 424.325 L90.1586 420.39 Q92.8206 417.635 97.4039 413.006 Q102.01 408.353 103.191 407.01 Q105.436 404.487 106.316 402.751 Q107.219 400.992 107.219 399.302 Q107.219 396.547 105.274 394.811 Q103.353 393.075 100.251 393.075 Q98.0521 393.075 95.5984 393.839 Q93.1678 394.603 90.3901 396.154 L90.3901 391.432 Q93.2141 390.297 95.6678 389.719 Q98.1215 389.14 100.159 389.14 Q105.529 389.14 108.723 391.825 Q111.918 394.51 111.918 399.001 Q111.918 401.131 111.108 403.052 Q110.321 404.95 108.214 407.543 Q107.635 408.214 104.534 411.432 Q101.432 414.626 95.7836 420.39 Z\" fill=\"#000000\" fill-rule=\"evenodd\" fill-opacity=\"1\" /><path clip-path=\"url(#clip700)\" d=\"M121.918 418.445 L126.802 418.445 L126.802 424.325 L121.918 424.325 L121.918 418.445 Z\" fill=\"#000000\" fill-rule=\"evenodd\" fill-opacity=\"1\" /><path clip-path=\"url(#clip700)\" d=\"M137.033 389.765 L155.39 389.765 L155.39 393.7 L141.316 393.7 L141.316 402.172 Q142.334 401.825 143.353 401.663 Q144.371 401.478 145.39 401.478 Q151.177 401.478 154.556 404.649 Q157.936 407.82 157.936 413.237 Q157.936 418.816 154.464 421.918 Q150.992 424.996 144.672 424.996 Q142.496 424.996 140.228 424.626 Q137.982 424.256 135.575 423.515 L135.575 418.816 Q137.658 419.95 139.881 420.506 Q142.103 421.061 144.58 421.061 Q148.584 421.061 150.922 418.955 Q153.26 416.848 153.26 413.237 Q153.26 409.626 150.922 407.52 Q148.584 405.413 144.58 405.413 Q142.705 405.413 140.83 405.83 Q138.978 406.246 137.033 407.126 L137.033 389.765 Z\" fill=\"#000000\" fill-rule=\"evenodd\" fill-opacity=\"1\" /><path clip-path=\"url(#clip700)\" d=\"M90.8067 29.9641 L109.163 29.9641 L109.163 33.8993 L95.0891 33.8993 L95.0891 42.3714 Q96.1076 42.0242 97.1261 41.8622 Q98.1447 41.677 99.1632 41.677 Q104.95 41.677 108.33 44.8483 Q111.709 48.0196 111.709 53.4362 Q111.709 59.0149 108.237 62.1167 Q104.765 65.1954 98.4456 65.1954 Q96.2697 65.1954 94.0012 64.825 Q91.7558 64.4547 89.3484 63.7139 L89.3484 59.0149 Q91.4317 60.1491 93.6539 60.7047 Q95.8761 61.2602 98.353 61.2602 Q102.358 61.2602 104.696 59.1538 Q107.033 57.0473 107.033 53.4362 Q107.033 49.8251 104.696 47.7186 Q102.358 45.6122 98.353 45.6122 Q96.478 45.6122 94.603 46.0288 Q92.7512 46.4455 90.8067 47.3251 L90.8067 29.9641 Z\" fill=\"#000000\" fill-rule=\"evenodd\" fill-opacity=\"1\" /><path clip-path=\"url(#clip700)\" d=\"M120.922 58.6445 L125.807 58.6445 L125.807 64.5241 L120.922 64.5241 L120.922 58.6445 Z\" fill=\"#000000\" fill-rule=\"evenodd\" fill-opacity=\"1\" /><path clip-path=\"url(#clip700)\" d=\"M145.992 33.0428 Q142.381 33.0428 140.552 36.6076 Q138.746 40.1492 138.746 47.2788 Q138.746 54.3853 140.552 57.9501 Q142.381 61.4917 145.992 61.4917 Q149.626 61.4917 151.431 57.9501 Q153.26 54.3853 153.26 47.2788 Q153.26 40.1492 151.431 36.6076 Q149.626 33.0428 145.992 33.0428 M145.992 29.3391 Q151.802 29.3391 154.857 33.9456 Q157.936 38.5289 157.936 47.2788 Q157.936 56.0056 154.857 60.6121 Q151.802 65.1954 145.992 65.1954 Q140.181 65.1954 137.103 60.6121 Q134.047 56.0056 134.047 47.2788 Q134.047 38.5289 137.103 33.9456 Q140.181 29.3391 145.992 29.3391 Z\" fill=\"#000000\" fill-rule=\"evenodd\" fill-opacity=\"1\" /><polyline clip-path=\"url(#clip702)\" style=\"stroke:#009af9; stroke-linecap:butt; stroke-linejoin:round; stroke-width:16; stroke-opacity:1; fill:none\" points=\"\n",
       "  255.035,1486.45 274.924,1472.39 458.829,1342.43 569.348,1264.33 662.791,1198.3 764.296,1126.57 857.875,1060.44 958.201,989.547 1074.44,907.406 1177.74,834.409 \n",
       "  1268.32,770.397 1367.08,700.607 1466.43,630.403 1576.27,552.782 1680.78,478.928 1789.45,402.137 1880.92,337.496 1992.6,258.576 2097.58,184.389 2265.77,65.5351 \n",
       "  2291.66,47.2441 \n",
       "  \"/>\n",
       "<polyline clip-path=\"url(#clip702)\" style=\"stroke:#e26f46; stroke-linecap:butt; stroke-linejoin:round; stroke-width:16; stroke-opacity:1; fill:none\" points=\"\n",
       "  255.035,726.021 260.007,729.402 264.979,732.806 269.952,736.23 274.924,739.672 320.9,771.997 366.877,804.06 412.853,834.234 458.829,860.989 486.459,874.847 \n",
       "  514.089,886.721 541.719,896.391 569.348,903.681 592.709,907.886 616.07,910.238 639.431,910.706 662.791,909.283 688.167,905.617 713.544,899.799 738.92,891.92 \n",
       "  764.296,882.102 787.691,871.463 811.085,859.446 834.48,846.208 857.875,831.923 908.038,798.661 958.201,763.478 1016.32,723.11 1074.44,686.279 1100.26,671.845 \n",
       "  1126.09,658.936 1151.91,647.759 1177.74,638.495 1200.38,632.063 1223.03,627.296 1245.67,624.252 1268.32,622.969 1293.01,623.596 1317.7,626.325 1342.39,631.117 \n",
       "  1367.08,637.901 1391.92,646.635 1416.75,657.155 1441.59,669.304 1466.43,682.902 1521.35,717.079 1576.27,754.854 1628.52,791.643 1680.78,826.808 1707.95,843.676 \n",
       "  1735.11,859.178 1762.28,873.041 1789.45,885.016 1812.31,893.477 1835.18,900.343 1858.05,905.528 1880.92,908.966 1908.84,910.734 1936.76,909.802 1964.68,906.188 \n",
       "  1992.6,899.958 2018.85,891.823 2045.09,881.614 2071.34,869.503 2097.58,855.688 2139.63,830.591 2181.68,802.786 2223.73,773.455 2265.77,743.843 2272.24,739.341 \n",
       "  2278.72,734.868 2285.19,730.426 2291.66,726.021 \n",
       "  \"/>\n",
       "<polyline clip-path=\"url(#clip702)\" style=\"stroke:#3da44d; stroke-linecap:butt; stroke-linejoin:round; stroke-width:16; stroke-opacity:1; fill:none\" points=\"\n",
       "  255.035,1106.23 264.979,1106.11 274.924,1106.03 366.877,1105.74 458.829,1101.71 514.089,1095.05 569.348,1084.01 616.07,1070.78 662.791,1053.79 713.544,1031.12 \n",
       "  764.296,1004.34 811.085,976.477 857.875,946.184 958.201,876.512 1074.44,796.843 1126.09,764.922 1177.74,736.452 1223.03,714.85 1268.32,696.683 1317.7,680.914 \n",
       "  1367.08,669.254 1416.75,661.33 1466.43,656.652 1576.27,653.818 1680.78,652.868 1735.11,649.856 1789.45,643.577 1835.18,635.08 1880.92,623.231 1936.76,603.919 \n",
       "  1992.6,579.267 2045.09,551.548 2097.58,520.039 2181.68,463.874 2265.77,404.689 2278.72,395.629 2291.66,386.633 \n",
       "  \"/>\n",
       "<path clip-path=\"url(#clip700)\" d=\"\n",
       "M1961.59 406.258 L2280.8 406.258 L2280.8 95.2176 L1961.59 95.2176  Z\n",
       "  \" fill=\"#ffffff\" fill-rule=\"evenodd\" fill-opacity=\"1\"/>\n",
       "<polyline clip-path=\"url(#clip700)\" style=\"stroke:#000000; stroke-linecap:butt; stroke-linejoin:round; stroke-width:4; stroke-opacity:1; fill:none\" points=\"\n",
       "  1961.59,406.258 2280.8,406.258 2280.8,95.2176 1961.59,95.2176 1961.59,406.258 \n",
       "  \"/>\n",
       "<polyline clip-path=\"url(#clip700)\" style=\"stroke:#009af9; stroke-linecap:butt; stroke-linejoin:round; stroke-width:6; stroke-opacity:1; fill:none\" points=\"\n",
       "  1985.57,172.978 2129.49,172.978 \n",
       "  \"/>\n",
       "<path clip-path=\"url(#clip700)\" d=\"M2190.46 160.009 L2176.4 178.932 L2191.19 198.898 L2183.66 198.898 L2172.34 183.62 L2161.02 198.898 L2153.48 198.898 L2168.59 178.55 L2154.77 160.009 L2162.3 160.009 L2172.61 173.863 L2182.93 160.009 L2190.46 160.009 Z\" fill=\"#000000\" fill-rule=\"evenodd\" fill-opacity=\"1\" /><polyline clip-path=\"url(#clip700)\" style=\"stroke:#e26f46; stroke-linecap:butt; stroke-linejoin:round; stroke-width:6; stroke-opacity:1; fill:none\" points=\"\n",
       "  1985.57,250.738 2129.49,250.738 \n",
       "  \"/>\n",
       "<path clip-path=\"url(#clip700)\" d=\"M2181.85 256.762 Q2181.85 249.817 2178.97 245.998 Q2176.12 242.179 2170.95 242.179 Q2165.81 242.179 2162.93 245.998 Q2160.08 249.817 2160.08 256.762 Q2160.08 263.672 2162.93 267.491 Q2165.81 271.31 2170.95 271.31 Q2176.12 271.31 2178.97 267.491 Q2181.85 263.672 2181.85 256.762 M2188.24 271.831 Q2188.24 281.762 2183.83 286.588 Q2179.42 291.449 2170.32 291.449 Q2166.95 291.449 2163.97 290.928 Q2160.98 290.442 2158.17 289.401 L2158.17 283.185 Q2160.98 284.713 2163.72 285.442 Q2166.47 286.171 2169.31 286.171 Q2175.6 286.171 2178.72 282.873 Q2181.85 279.609 2181.85 272.977 L2181.85 269.817 Q2179.87 273.255 2176.78 274.956 Q2173.69 276.658 2169.38 276.658 Q2162.23 276.658 2157.86 271.206 Q2153.48 265.755 2153.48 256.762 Q2153.48 247.734 2157.86 242.283 Q2162.23 236.831 2169.38 236.831 Q2173.69 236.831 2176.78 238.533 Q2179.87 240.234 2181.85 243.672 L2181.85 237.769 L2188.24 237.769 L2188.24 271.831 Z\" fill=\"#000000\" fill-rule=\"evenodd\" fill-opacity=\"1\" /><polyline clip-path=\"url(#clip700)\" style=\"stroke:#3da44d; stroke-linecap:butt; stroke-linejoin:round; stroke-width:6; stroke-opacity:1; fill:none\" points=\"\n",
       "  1985.57,328.498 2129.49,328.498 \n",
       "  \"/>\n",
       "<path clip-path=\"url(#clip700)\" d=\"M2181.85 334.522 Q2181.85 327.577 2178.97 323.758 Q2176.12 319.939 2170.95 319.939 Q2165.81 319.939 2162.93 323.758 Q2160.08 327.577 2160.08 334.522 Q2160.08 341.432 2162.93 345.251 Q2165.81 349.07 2170.95 349.07 Q2176.12 349.07 2178.97 345.251 Q2181.85 341.432 2181.85 334.522 M2188.24 349.591 Q2188.24 359.522 2183.83 364.348 Q2179.42 369.209 2170.32 369.209 Q2166.95 369.209 2163.97 368.688 Q2160.98 368.202 2158.17 367.161 L2158.17 360.945 Q2160.98 362.473 2163.72 363.202 Q2166.47 363.931 2169.31 363.931 Q2175.6 363.931 2178.72 360.633 Q2181.85 357.369 2181.85 350.737 L2181.85 347.577 Q2179.87 351.015 2176.78 352.716 Q2173.69 354.418 2169.38 354.418 Q2162.23 354.418 2157.86 348.966 Q2153.48 343.515 2153.48 334.522 Q2153.48 325.494 2157.86 320.043 Q2162.23 314.591 2169.38 314.591 Q2173.69 314.591 2176.78 316.293 Q2179.87 317.994 2181.85 321.432 L2181.85 315.529 L2188.24 315.529 L2188.24 349.591 Z\" fill=\"#000000\" fill-rule=\"evenodd\" fill-opacity=\"1\" /><path clip-path=\"url(#clip700)\" d=\"M2208.34 348.515 L2232.82 348.515 L2232.82 354.418 L2199.9 354.418 L2199.9 348.515 Q2203.9 344.383 2210.77 337.438 Q2217.68 330.459 2219.45 328.445 Q2222.82 324.661 2224.14 322.057 Q2225.5 319.418 2225.5 316.883 Q2225.5 312.751 2222.58 310.147 Q2219.7 307.543 2215.04 307.543 Q2211.75 307.543 2208.06 308.689 Q2204.42 309.834 2200.25 312.161 L2200.25 305.078 Q2204.49 303.376 2208.17 302.508 Q2211.85 301.64 2214.9 301.64 Q2222.96 301.64 2227.75 305.668 Q2232.54 309.696 2232.54 316.432 Q2232.54 319.626 2231.33 322.508 Q2230.15 325.355 2226.99 329.244 Q2226.12 330.251 2221.47 335.077 Q2216.81 339.869 2208.34 348.515 Z\" fill=\"#000000\" fill-rule=\"evenodd\" fill-opacity=\"1\" /></svg>\n"
      ]
     },
     "execution_count": 66,
     "metadata": {},
     "output_type": "execute_result"
    }
   ],
   "source": [
    "c = .5\n",
    "g2(x) = x + c * (cos(x) - x)\n",
    "g2p(x) = 1 + c * (-sin(x) - 1)\n",
    "@show g2p(xstar)\n",
    "plot([x->x, g, g2], ylims=(-5, 5), label=[\"x\" \"g\" \"g2\"])"
   ]
  },
  {
   "cell_type": "code",
   "execution_count": 67,
   "id": "c7ee64b2",
   "metadata": {
    "cell_style": "split",
    "slideshow": {
     "slide_type": "fragment"
    }
   },
   "outputs": [
    {
     "data": {
      "text/plain": [
       "16-element Vector{Float64}:\n",
       "  0.26091486661471597\n",
       "  0.03106601954878585\n",
       "  0.004893162344945079\n",
       "  0.0007941171212053622\n",
       "  0.00012947850276123773\n",
       "  2.112687301181193e-5\n",
       "  3.4475537732392425e-6\n",
       "  5.62475483634195e-7\n",
       "  9.16501970982253e-8\n",
       "  1.4814399151852342e-8\n",
       "  2.2752605355336186e-9\n",
       "  2.2894852680366284e-10\n",
       " -1.0499723313017739e-10\n",
       " -1.594951948291623e-10\n",
       " -1.683889694348295e-10\n",
       " -1.6984036399492197e-10"
      ]
     },
     "execution_count": 67,
     "metadata": {},
     "output_type": "execute_result"
    }
   ],
   "source": [
    "xs = fixed_point(g2, 1., 15)\n",
    "xs .- xstar"
   ]
  },
  {
   "cell_type": "markdown",
   "id": "71c6fde1",
   "metadata": {
    "slideshow": {
     "slide_type": "slide"
    }
   },
   "source": [
    "# Formulations are not unique (functions)\n",
    "\n",
    "If $x = g(x)$ then\n",
    "$$x = \\underbrace{x + h(x) \\big(g(x) - x\\big)}_{g_3(x)}$$\n",
    "for any smooth $h(x) \\ne 0$. Can we choose $h(x)$ to make $\\lvert g_3'(x) \\rvert$ small?"
   ]
  },
  {
   "cell_type": "code",
   "execution_count": 84,
   "id": "8fd20aa4",
   "metadata": {
    "cell_style": "split",
    "scrolled": false,
    "slideshow": {
     "slide_type": ""
    }
   },
   "outputs": [
    {
     "data": {
      "image/svg+xml": [
       "<?xml version=\"1.0\" encoding=\"utf-8\"?>\n",
       "<svg xmlns=\"http://www.w3.org/2000/svg\" xmlns:xlink=\"http://www.w3.org/1999/xlink\" width=\"600\" height=\"400\" viewBox=\"0 0 2400 1600\">\n",
       "<defs>\n",
       "  <clipPath id=\"clip020\">\n",
       "    <rect x=\"0\" y=\"0\" width=\"2400\" height=\"1600\"/>\n",
       "  </clipPath>\n",
       "</defs>\n",
       "<path clip-path=\"url(#clip020)\" d=\"\n",
       "M0 1600 L2400 1600 L2400 0 L0 0  Z\n",
       "  \" fill=\"#ffffff\" fill-rule=\"evenodd\" fill-opacity=\"1\"/>\n",
       "<defs>\n",
       "  <clipPath id=\"clip021\">\n",
       "    <rect x=\"480\" y=\"0\" width=\"1681\" height=\"1600\"/>\n",
       "  </clipPath>\n",
       "</defs>\n",
       "<path clip-path=\"url(#clip020)\" d=\"\n",
       "M193.936 1486.45 L2352.76 1486.45 L2352.76 47.2441 L193.936 47.2441  Z\n",
       "  \" fill=\"#ffffff\" fill-rule=\"evenodd\" fill-opacity=\"1\"/>\n",
       "<defs>\n",
       "  <clipPath id=\"clip022\">\n",
       "    <rect x=\"193\" y=\"47\" width=\"2160\" height=\"1440\"/>\n",
       "  </clipPath>\n",
       "</defs>\n",
       "<polyline clip-path=\"url(#clip022)\" style=\"stroke:#000000; stroke-linecap:butt; stroke-linejoin:round; stroke-width:2; stroke-opacity:0.1; fill:none\" points=\"\n",
       "  458.697,1486.45 458.697,47.2441 \n",
       "  \"/>\n",
       "<polyline clip-path=\"url(#clip022)\" style=\"stroke:#000000; stroke-linecap:butt; stroke-linejoin:round; stroke-width:2; stroke-opacity:0.1; fill:none\" points=\"\n",
       "  866.021,1486.45 866.021,47.2441 \n",
       "  \"/>\n",
       "<polyline clip-path=\"url(#clip022)\" style=\"stroke:#000000; stroke-linecap:butt; stroke-linejoin:round; stroke-width:2; stroke-opacity:0.1; fill:none\" points=\"\n",
       "  1273.35,1486.45 1273.35,47.2441 \n",
       "  \"/>\n",
       "<polyline clip-path=\"url(#clip022)\" style=\"stroke:#000000; stroke-linecap:butt; stroke-linejoin:round; stroke-width:2; stroke-opacity:0.1; fill:none\" points=\"\n",
       "  1680.67,1486.45 1680.67,47.2441 \n",
       "  \"/>\n",
       "<polyline clip-path=\"url(#clip022)\" style=\"stroke:#000000; stroke-linecap:butt; stroke-linejoin:round; stroke-width:2; stroke-opacity:0.1; fill:none\" points=\"\n",
       "  2087.99,1486.45 2087.99,47.2441 \n",
       "  \"/>\n",
       "<polyline clip-path=\"url(#clip020)\" style=\"stroke:#000000; stroke-linecap:butt; stroke-linejoin:round; stroke-width:4; stroke-opacity:1; fill:none\" points=\"\n",
       "  193.936,1486.45 2352.76,1486.45 \n",
       "  \"/>\n",
       "<polyline clip-path=\"url(#clip020)\" style=\"stroke:#000000; stroke-linecap:butt; stroke-linejoin:round; stroke-width:4; stroke-opacity:1; fill:none\" points=\"\n",
       "  458.697,1486.45 458.697,1467.55 \n",
       "  \"/>\n",
       "<polyline clip-path=\"url(#clip020)\" style=\"stroke:#000000; stroke-linecap:butt; stroke-linejoin:round; stroke-width:4; stroke-opacity:1; fill:none\" points=\"\n",
       "  866.021,1486.45 866.021,1467.55 \n",
       "  \"/>\n",
       "<polyline clip-path=\"url(#clip020)\" style=\"stroke:#000000; stroke-linecap:butt; stroke-linejoin:round; stroke-width:4; stroke-opacity:1; fill:none\" points=\"\n",
       "  1273.35,1486.45 1273.35,1467.55 \n",
       "  \"/>\n",
       "<polyline clip-path=\"url(#clip020)\" style=\"stroke:#000000; stroke-linecap:butt; stroke-linejoin:round; stroke-width:4; stroke-opacity:1; fill:none\" points=\"\n",
       "  1680.67,1486.45 1680.67,1467.55 \n",
       "  \"/>\n",
       "<polyline clip-path=\"url(#clip020)\" style=\"stroke:#000000; stroke-linecap:butt; stroke-linejoin:round; stroke-width:4; stroke-opacity:1; fill:none\" points=\"\n",
       "  2087.99,1486.45 2087.99,1467.55 \n",
       "  \"/>\n",
       "<path clip-path=\"url(#clip020)\" d=\"M427.598 1532.02 L457.273 1532.02 L457.273 1535.95 L427.598 1535.95 L427.598 1532.02 Z\" fill=\"#000000\" fill-rule=\"evenodd\" fill-opacity=\"1\" /><path clip-path=\"url(#clip020)\" d=\"M480.213 1518.36 L468.408 1536.81 L480.213 1536.81 L480.213 1518.36 M478.986 1514.29 L484.866 1514.29 L484.866 1536.81 L489.796 1536.81 L489.796 1540.7 L484.866 1540.7 L484.866 1548.85 L480.213 1548.85 L480.213 1540.7 L464.611 1540.7 L464.611 1536.19 L478.986 1514.29 Z\" fill=\"#000000\" fill-rule=\"evenodd\" fill-opacity=\"1\" /><path clip-path=\"url(#clip020)\" d=\"M835.964 1532.02 L865.639 1532.02 L865.639 1535.95 L835.964 1535.95 L835.964 1532.02 Z\" fill=\"#000000\" fill-rule=\"evenodd\" fill-opacity=\"1\" /><path clip-path=\"url(#clip020)\" d=\"M879.76 1544.91 L896.079 1544.91 L896.079 1548.85 L874.135 1548.85 L874.135 1544.91 Q876.797 1542.16 881.38 1537.53 Q885.987 1532.88 887.167 1531.53 Q889.413 1529.01 890.292 1527.27 Q891.195 1525.51 891.195 1523.82 Q891.195 1521.07 889.25 1519.33 Q887.329 1517.6 884.227 1517.6 Q882.028 1517.6 879.575 1518.36 Q877.144 1519.13 874.366 1520.68 L874.366 1515.95 Q877.19 1514.82 879.644 1514.24 Q882.098 1513.66 884.135 1513.66 Q889.505 1513.66 892.7 1516.35 Q895.894 1519.03 895.894 1523.52 Q895.894 1525.65 895.084 1527.57 Q894.297 1529.47 892.19 1532.07 Q891.612 1532.74 888.51 1535.95 Q885.408 1539.15 879.76 1544.91 Z\" fill=\"#000000\" fill-rule=\"evenodd\" fill-opacity=\"1\" /><path clip-path=\"url(#clip020)\" d=\"M1273.35 1517.37 Q1269.73 1517.37 1267.91 1520.93 Q1266.1 1524.47 1266.1 1531.6 Q1266.1 1538.71 1267.91 1542.27 Q1269.73 1545.82 1273.35 1545.82 Q1276.98 1545.82 1278.79 1542.27 Q1280.61 1538.71 1280.61 1531.6 Q1280.61 1524.47 1278.79 1520.93 Q1276.98 1517.37 1273.35 1517.37 M1273.35 1513.66 Q1279.16 1513.66 1282.21 1518.27 Q1285.29 1522.85 1285.29 1531.6 Q1285.29 1540.33 1282.21 1544.94 Q1279.16 1549.52 1273.35 1549.52 Q1267.54 1549.52 1264.46 1544.94 Q1261.4 1540.33 1261.4 1531.6 Q1261.4 1522.85 1264.46 1518.27 Q1267.54 1513.66 1273.35 1513.66 Z\" fill=\"#000000\" fill-rule=\"evenodd\" fill-opacity=\"1\" /><path clip-path=\"url(#clip020)\" d=\"M1675.32 1544.91 L1691.64 1544.91 L1691.64 1548.85 L1669.7 1548.85 L1669.7 1544.91 Q1672.36 1542.16 1676.94 1537.53 Q1681.55 1532.88 1682.73 1531.53 Q1684.98 1529.01 1685.86 1527.27 Q1686.76 1525.51 1686.76 1523.82 Q1686.76 1521.07 1684.81 1519.33 Q1682.89 1517.6 1679.79 1517.6 Q1677.59 1517.6 1675.14 1518.36 Q1672.71 1519.13 1669.93 1520.68 L1669.93 1515.95 Q1672.75 1514.82 1675.21 1514.24 Q1677.66 1513.66 1679.7 1513.66 Q1685.07 1513.66 1688.26 1516.35 Q1691.46 1519.03 1691.46 1523.52 Q1691.46 1525.65 1690.65 1527.57 Q1689.86 1529.47 1687.75 1532.07 Q1687.18 1532.74 1684.07 1535.95 Q1680.97 1539.15 1675.32 1544.91 Z\" fill=\"#000000\" fill-rule=\"evenodd\" fill-opacity=\"1\" /><path clip-path=\"url(#clip020)\" d=\"M2091 1518.36 L2079.2 1536.81 L2091 1536.81 L2091 1518.36 M2089.78 1514.29 L2095.66 1514.29 L2095.66 1536.81 L2100.59 1536.81 L2100.59 1540.7 L2095.66 1540.7 L2095.66 1548.85 L2091 1548.85 L2091 1540.7 L2075.4 1540.7 L2075.4 1536.19 L2089.78 1514.29 Z\" fill=\"#000000\" fill-rule=\"evenodd\" fill-opacity=\"1\" /><polyline clip-path=\"url(#clip022)\" style=\"stroke:#000000; stroke-linecap:butt; stroke-linejoin:round; stroke-width:2; stroke-opacity:0.1; fill:none\" points=\"\n",
       "  193.936,1486.45 2352.76,1486.45 \n",
       "  \"/>\n",
       "<polyline clip-path=\"url(#clip022)\" style=\"stroke:#000000; stroke-linecap:butt; stroke-linejoin:round; stroke-width:2; stroke-opacity:0.1; fill:none\" points=\"\n",
       "  193.936,1126.65 2352.76,1126.65 \n",
       "  \"/>\n",
       "<polyline clip-path=\"url(#clip022)\" style=\"stroke:#000000; stroke-linecap:butt; stroke-linejoin:round; stroke-width:2; stroke-opacity:0.1; fill:none\" points=\"\n",
       "  193.936,766.846 2352.76,766.846 \n",
       "  \"/>\n",
       "<polyline clip-path=\"url(#clip022)\" style=\"stroke:#000000; stroke-linecap:butt; stroke-linejoin:round; stroke-width:2; stroke-opacity:0.1; fill:none\" points=\"\n",
       "  193.936,407.045 2352.76,407.045 \n",
       "  \"/>\n",
       "<polyline clip-path=\"url(#clip022)\" style=\"stroke:#000000; stroke-linecap:butt; stroke-linejoin:round; stroke-width:2; stroke-opacity:0.1; fill:none\" points=\"\n",
       "  193.936,47.2441 2352.76,47.2441 \n",
       "  \"/>\n",
       "<polyline clip-path=\"url(#clip020)\" style=\"stroke:#000000; stroke-linecap:butt; stroke-linejoin:round; stroke-width:4; stroke-opacity:1; fill:none\" points=\"\n",
       "  193.936,1486.45 193.936,47.2441 \n",
       "  \"/>\n",
       "<polyline clip-path=\"url(#clip020)\" style=\"stroke:#000000; stroke-linecap:butt; stroke-linejoin:round; stroke-width:4; stroke-opacity:1; fill:none\" points=\"\n",
       "  193.936,1486.45 212.834,1486.45 \n",
       "  \"/>\n",
       "<polyline clip-path=\"url(#clip020)\" style=\"stroke:#000000; stroke-linecap:butt; stroke-linejoin:round; stroke-width:4; stroke-opacity:1; fill:none\" points=\"\n",
       "  193.936,1126.65 212.834,1126.65 \n",
       "  \"/>\n",
       "<polyline clip-path=\"url(#clip020)\" style=\"stroke:#000000; stroke-linecap:butt; stroke-linejoin:round; stroke-width:4; stroke-opacity:1; fill:none\" points=\"\n",
       "  193.936,766.846 212.834,766.846 \n",
       "  \"/>\n",
       "<polyline clip-path=\"url(#clip020)\" style=\"stroke:#000000; stroke-linecap:butt; stroke-linejoin:round; stroke-width:4; stroke-opacity:1; fill:none\" points=\"\n",
       "  193.936,407.045 212.834,407.045 \n",
       "  \"/>\n",
       "<polyline clip-path=\"url(#clip020)\" style=\"stroke:#000000; stroke-linecap:butt; stroke-linejoin:round; stroke-width:4; stroke-opacity:1; fill:none\" points=\"\n",
       "  193.936,47.2441 212.834,47.2441 \n",
       "  \"/>\n",
       "<path clip-path=\"url(#clip020)\" d=\"M50.9921 1486.9 L80.6679 1486.9 L80.6679 1490.83 L50.9921 1490.83 L50.9921 1486.9 Z\" fill=\"#000000\" fill-rule=\"evenodd\" fill-opacity=\"1\" /><path clip-path=\"url(#clip020)\" d=\"M90.8067 1469.17 L109.163 1469.17 L109.163 1473.1 L95.0891 1473.1 L95.0891 1481.58 Q96.1076 1481.23 97.1261 1481.07 Q98.1447 1480.88 99.1632 1480.88 Q104.95 1480.88 108.33 1484.05 Q111.709 1487.22 111.709 1492.64 Q111.709 1498.22 108.237 1501.32 Q104.765 1504.4 98.4456 1504.4 Q96.2697 1504.4 94.0012 1504.03 Q91.7558 1503.66 89.3484 1502.92 L89.3484 1498.22 Q91.4317 1499.35 93.6539 1499.91 Q95.8761 1500.46 98.353 1500.46 Q102.358 1500.46 104.696 1498.36 Q107.033 1496.25 107.033 1492.64 Q107.033 1489.03 104.696 1486.92 Q102.358 1484.82 98.353 1484.82 Q96.478 1484.82 94.603 1485.23 Q92.7512 1485.65 90.8067 1486.53 L90.8067 1469.17 Z\" fill=\"#000000\" fill-rule=\"evenodd\" fill-opacity=\"1\" /><path clip-path=\"url(#clip020)\" d=\"M120.922 1497.85 L125.807 1497.85 L125.807 1503.73 L120.922 1503.73 L120.922 1497.85 Z\" fill=\"#000000\" fill-rule=\"evenodd\" fill-opacity=\"1\" /><path clip-path=\"url(#clip020)\" d=\"M145.992 1472.25 Q142.381 1472.25 140.552 1475.81 Q138.746 1479.35 138.746 1486.48 Q138.746 1493.59 140.552 1497.15 Q142.381 1500.7 145.992 1500.7 Q149.626 1500.7 151.431 1497.15 Q153.26 1493.59 153.26 1486.48 Q153.26 1479.35 151.431 1475.81 Q149.626 1472.25 145.992 1472.25 M145.992 1468.54 Q151.802 1468.54 154.857 1473.15 Q157.936 1477.73 157.936 1486.48 Q157.936 1495.21 154.857 1499.82 Q151.802 1504.4 145.992 1504.4 Q140.181 1504.4 137.103 1499.82 Q134.047 1495.21 134.047 1486.48 Q134.047 1477.73 137.103 1473.15 Q140.181 1468.54 145.992 1468.54 Z\" fill=\"#000000\" fill-rule=\"evenodd\" fill-opacity=\"1\" /><path clip-path=\"url(#clip020)\" d=\"M51.9875 1127.1 L81.6633 1127.1 L81.6633 1131.03 L51.9875 1131.03 L51.9875 1127.1 Z\" fill=\"#000000\" fill-rule=\"evenodd\" fill-opacity=\"1\" /><path clip-path=\"url(#clip020)\" d=\"M95.7836 1139.99 L112.103 1139.99 L112.103 1143.93 L90.1586 1143.93 L90.1586 1139.99 Q92.8206 1137.24 97.4039 1132.61 Q102.01 1127.95 103.191 1126.61 Q105.436 1124.09 106.316 1122.35 Q107.219 1120.59 107.219 1118.9 Q107.219 1116.15 105.274 1114.41 Q103.353 1112.68 100.251 1112.68 Q98.0521 1112.68 95.5984 1113.44 Q93.1678 1114.2 90.3901 1115.76 L90.3901 1111.03 Q93.2141 1109.9 95.6678 1109.32 Q98.1215 1108.74 100.159 1108.74 Q105.529 1108.74 108.723 1111.43 Q111.918 1114.11 111.918 1118.6 Q111.918 1120.73 111.108 1122.65 Q110.321 1124.55 108.214 1127.14 Q107.635 1127.82 104.534 1131.03 Q101.432 1134.23 95.7836 1139.99 Z\" fill=\"#000000\" fill-rule=\"evenodd\" fill-opacity=\"1\" /><path clip-path=\"url(#clip020)\" d=\"M121.918 1138.05 L126.802 1138.05 L126.802 1143.93 L121.918 1143.93 L121.918 1138.05 Z\" fill=\"#000000\" fill-rule=\"evenodd\" fill-opacity=\"1\" /><path clip-path=\"url(#clip020)\" d=\"M137.033 1109.37 L155.39 1109.37 L155.39 1113.3 L141.316 1113.3 L141.316 1121.77 Q142.334 1121.43 143.353 1121.27 Q144.371 1121.08 145.39 1121.08 Q151.177 1121.08 154.556 1124.25 Q157.936 1127.42 157.936 1132.84 Q157.936 1138.42 154.464 1141.52 Q150.992 1144.6 144.672 1144.6 Q142.496 1144.6 140.228 1144.23 Q137.982 1143.86 135.575 1143.12 L135.575 1138.42 Q137.658 1139.55 139.881 1140.11 Q142.103 1140.66 144.58 1140.66 Q148.584 1140.66 150.922 1138.56 Q153.26 1136.45 153.26 1132.84 Q153.26 1129.23 150.922 1127.12 Q148.584 1125.01 144.58 1125.01 Q142.705 1125.01 140.83 1125.43 Q138.978 1125.85 137.033 1126.73 L137.033 1109.37 Z\" fill=\"#000000\" fill-rule=\"evenodd\" fill-opacity=\"1\" /><path clip-path=\"url(#clip020)\" d=\"M100.76 752.645 Q97.1493 752.645 95.3206 756.209 Q93.515 759.751 93.515 766.881 Q93.515 773.987 95.3206 777.552 Q97.1493 781.094 100.76 781.094 Q104.395 781.094 106.2 777.552 Q108.029 773.987 108.029 766.881 Q108.029 759.751 106.2 756.209 Q104.395 752.645 100.76 752.645 M100.76 748.941 Q106.571 748.941 109.626 753.547 Q112.705 758.131 112.705 766.881 Q112.705 775.608 109.626 780.214 Q106.571 784.797 100.76 784.797 Q94.9502 784.797 91.8715 780.214 Q88.816 775.608 88.816 766.881 Q88.816 758.131 91.8715 753.547 Q94.9502 748.941 100.76 748.941 Z\" fill=\"#000000\" fill-rule=\"evenodd\" fill-opacity=\"1\" /><path clip-path=\"url(#clip020)\" d=\"M120.922 778.246 L125.807 778.246 L125.807 784.126 L120.922 784.126 L120.922 778.246 Z\" fill=\"#000000\" fill-rule=\"evenodd\" fill-opacity=\"1\" /><path clip-path=\"url(#clip020)\" d=\"M145.992 752.645 Q142.381 752.645 140.552 756.209 Q138.746 759.751 138.746 766.881 Q138.746 773.987 140.552 777.552 Q142.381 781.094 145.992 781.094 Q149.626 781.094 151.431 777.552 Q153.26 773.987 153.26 766.881 Q153.26 759.751 151.431 756.209 Q149.626 752.645 145.992 752.645 M145.992 748.941 Q151.802 748.941 154.857 753.547 Q157.936 758.131 157.936 766.881 Q157.936 775.608 154.857 780.214 Q151.802 784.797 145.992 784.797 Q140.181 784.797 137.103 780.214 Q134.047 775.608 134.047 766.881 Q134.047 758.131 137.103 753.547 Q140.181 748.941 145.992 748.941 Z\" fill=\"#000000\" fill-rule=\"evenodd\" fill-opacity=\"1\" /><path clip-path=\"url(#clip020)\" d=\"M95.7836 420.39 L112.103 420.39 L112.103 424.325 L90.1586 424.325 L90.1586 420.39 Q92.8206 417.635 97.4039 413.006 Q102.01 408.353 103.191 407.01 Q105.436 404.487 106.316 402.751 Q107.219 400.992 107.219 399.302 Q107.219 396.547 105.274 394.811 Q103.353 393.075 100.251 393.075 Q98.0521 393.075 95.5984 393.839 Q93.1678 394.603 90.3901 396.154 L90.3901 391.432 Q93.2141 390.297 95.6678 389.719 Q98.1215 389.14 100.159 389.14 Q105.529 389.14 108.723 391.825 Q111.918 394.51 111.918 399.001 Q111.918 401.131 111.108 403.052 Q110.321 404.95 108.214 407.543 Q107.635 408.214 104.534 411.432 Q101.432 414.626 95.7836 420.39 Z\" fill=\"#000000\" fill-rule=\"evenodd\" fill-opacity=\"1\" /><path clip-path=\"url(#clip020)\" d=\"M121.918 418.445 L126.802 418.445 L126.802 424.325 L121.918 424.325 L121.918 418.445 Z\" fill=\"#000000\" fill-rule=\"evenodd\" fill-opacity=\"1\" /><path clip-path=\"url(#clip020)\" d=\"M137.033 389.765 L155.39 389.765 L155.39 393.7 L141.316 393.7 L141.316 402.172 Q142.334 401.825 143.353 401.663 Q144.371 401.478 145.39 401.478 Q151.177 401.478 154.556 404.649 Q157.936 407.82 157.936 413.237 Q157.936 418.816 154.464 421.918 Q150.992 424.996 144.672 424.996 Q142.496 424.996 140.228 424.626 Q137.982 424.256 135.575 423.515 L135.575 418.816 Q137.658 419.95 139.881 420.506 Q142.103 421.061 144.58 421.061 Q148.584 421.061 150.922 418.955 Q153.26 416.848 153.26 413.237 Q153.26 409.626 150.922 407.52 Q148.584 405.413 144.58 405.413 Q142.705 405.413 140.83 405.83 Q138.978 406.246 137.033 407.126 L137.033 389.765 Z\" fill=\"#000000\" fill-rule=\"evenodd\" fill-opacity=\"1\" /><path clip-path=\"url(#clip020)\" d=\"M90.8067 29.9641 L109.163 29.9641 L109.163 33.8993 L95.0891 33.8993 L95.0891 42.3714 Q96.1076 42.0242 97.1261 41.8622 Q98.1447 41.677 99.1632 41.677 Q104.95 41.677 108.33 44.8483 Q111.709 48.0196 111.709 53.4362 Q111.709 59.0149 108.237 62.1167 Q104.765 65.1954 98.4456 65.1954 Q96.2697 65.1954 94.0012 64.825 Q91.7558 64.4547 89.3484 63.7139 L89.3484 59.0149 Q91.4317 60.1491 93.6539 60.7047 Q95.8761 61.2602 98.353 61.2602 Q102.358 61.2602 104.696 59.1538 Q107.033 57.0473 107.033 53.4362 Q107.033 49.8251 104.696 47.7186 Q102.358 45.6122 98.353 45.6122 Q96.478 45.6122 94.603 46.0288 Q92.7512 46.4455 90.8067 47.3251 L90.8067 29.9641 Z\" fill=\"#000000\" fill-rule=\"evenodd\" fill-opacity=\"1\" /><path clip-path=\"url(#clip020)\" d=\"M120.922 58.6445 L125.807 58.6445 L125.807 64.5241 L120.922 64.5241 L120.922 58.6445 Z\" fill=\"#000000\" fill-rule=\"evenodd\" fill-opacity=\"1\" /><path clip-path=\"url(#clip020)\" d=\"M145.992 33.0428 Q142.381 33.0428 140.552 36.6076 Q138.746 40.1492 138.746 47.2788 Q138.746 54.3853 140.552 57.9501 Q142.381 61.4917 145.992 61.4917 Q149.626 61.4917 151.431 57.9501 Q153.26 54.3853 153.26 47.2788 Q153.26 40.1492 151.431 36.6076 Q149.626 33.0428 145.992 33.0428 M145.992 29.3391 Q151.802 29.3391 154.857 33.9456 Q157.936 38.5289 157.936 47.2788 Q157.936 56.0056 154.857 60.6121 Q151.802 65.1954 145.992 65.1954 Q140.181 65.1954 137.103 60.6121 Q134.047 56.0056 134.047 47.2788 Q134.047 38.5289 137.103 33.9456 Q140.181 29.3391 145.992 29.3391 Z\" fill=\"#000000\" fill-rule=\"evenodd\" fill-opacity=\"1\" /><polyline clip-path=\"url(#clip022)\" style=\"stroke:#009af9; stroke-linecap:butt; stroke-linejoin:round; stroke-width:16; stroke-opacity:1; fill:none\" points=\"\n",
       "  255.035,1486.45 274.924,1472.39 458.829,1342.43 569.348,1264.33 662.791,1198.3 764.296,1126.57 857.875,1060.44 958.201,989.547 1074.44,907.406 1177.74,834.409 \n",
       "  1268.32,770.397 1367.08,700.607 1466.43,630.403 1576.27,552.782 1680.78,478.928 1789.45,402.137 1880.92,337.496 1992.6,258.576 2097.58,184.389 2265.77,65.5351 \n",
       "  2291.66,47.2441 \n",
       "  \"/>\n",
       "<polyline clip-path=\"url(#clip022)\" style=\"stroke:#e26f46; stroke-linecap:butt; stroke-linejoin:round; stroke-width:16; stroke-opacity:1; fill:none\" points=\"\n",
       "  255.035,726.021 260.007,729.402 264.979,732.806 269.952,736.23 274.924,739.672 320.9,771.997 366.877,804.06 412.853,834.234 458.829,860.989 486.459,874.847 \n",
       "  514.089,886.721 541.719,896.391 569.348,903.681 592.709,907.886 616.07,910.238 639.431,910.706 662.791,909.283 688.167,905.617 713.544,899.799 738.92,891.92 \n",
       "  764.296,882.102 787.691,871.463 811.085,859.446 834.48,846.208 857.875,831.923 908.038,798.661 958.201,763.478 1016.32,723.11 1074.44,686.279 1100.26,671.845 \n",
       "  1126.09,658.936 1151.91,647.759 1177.74,638.495 1200.38,632.063 1223.03,627.296 1245.67,624.252 1268.32,622.969 1293.01,623.596 1317.7,626.325 1342.39,631.117 \n",
       "  1367.08,637.901 1391.92,646.635 1416.75,657.155 1441.59,669.304 1466.43,682.902 1521.35,717.079 1576.27,754.854 1628.52,791.643 1680.78,826.808 1707.95,843.676 \n",
       "  1735.11,859.178 1762.28,873.041 1789.45,885.016 1812.31,893.477 1835.18,900.343 1858.05,905.528 1880.92,908.966 1908.84,910.734 1936.76,909.802 1964.68,906.188 \n",
       "  1992.6,899.958 2018.85,891.823 2045.09,881.614 2071.34,869.503 2097.58,855.688 2139.63,830.591 2181.68,802.786 2223.73,773.455 2265.77,743.843 2272.24,739.341 \n",
       "  2278.72,734.868 2285.19,730.426 2291.66,726.021 \n",
       "  \"/>\n",
       "<polyline clip-path=\"url(#clip022)\" style=\"stroke:#3da44d; stroke-linecap:butt; stroke-linejoin:round; stroke-width:16; stroke-opacity:1; fill:none\" points=\"\n",
       "  255.035,1106.23 264.979,1106.11 274.924,1106.03 366.877,1105.74 458.829,1101.71 514.089,1095.05 569.348,1084.01 616.07,1070.78 662.791,1053.79 713.544,1031.12 \n",
       "  764.296,1004.34 811.085,976.477 857.875,946.184 958.201,876.512 1074.44,796.843 1126.09,764.922 1177.74,736.452 1223.03,714.85 1268.32,696.683 1317.7,680.914 \n",
       "  1367.08,669.254 1416.75,661.33 1466.43,656.652 1576.27,653.818 1680.78,652.868 1735.11,649.856 1789.45,643.577 1835.18,635.08 1880.92,623.231 1936.76,603.919 \n",
       "  1992.6,579.267 2045.09,551.548 2097.58,520.039 2181.68,463.874 2265.77,404.689 2278.72,395.629 2291.66,386.633 \n",
       "  \"/>\n",
       "<polyline clip-path=\"url(#clip022)\" style=\"stroke:#c271d2; stroke-linecap:butt; stroke-linejoin:round; stroke-width:16; stroke-opacity:1; fill:none\" points=\"\n",
       "  255.035,1098.26 274.924,1102.71 458.829,1068.32 569.348,989.007 662.791,860.97 713.544,736.85 764.296,517.091 811.085,95.2821 857.875,-1054.08 882.956,-2787.48 \n",
       "  908.038,-8123.76 914.308,-11277.3 920.579,-16402.5 926.849,-25567.2 933.119,-44479 936.255,-62580.6 939.39,-94119.3 940.957,-119513 942.525,-156625 944.093,-213953 \n",
       "  945.66,-309366 947.228,-485929 948.795,-870609 949.579,-1.26106e+06 950.363,-1.98745e+06 951.147,-3.58368e+06 951.931,-8.29529e+06 952.714,-3.62048e+07 953.498,-4.56605e+09 954.282,-2.60857e+07 \n",
       "  955.066,-7.04307e+06 955.85,-3.21334e+06 956.633,-1.83131e+06 957.417,-1.18115e+06 958.201,-824373 960.017,-431794 961.833,-264880 963.65,-178760 965.466,-128600 969.098,-75484.8 \n",
       "  972.731,-49419.3 979.995,-25639.4 987.26,-15450.9 1001.79,-7087.96 1016.32,-3816.82 1045.38,-1306.7 1074.44,-382.929 1126.09,244.374 1177.74,476.644 1223.03,570.609 \n",
       "  1268.32,619.24 1367.08,657.187 1466.43,659.371 1576.27,653.994 1680.78,661.152 1789.45,709.545 1880.92,831.128 1992.6,1293.4 2097.58,3331.98 2265.77,52829 \n",
       "  2291.66,16572.3 \n",
       "  \"/>\n",
       "<path clip-path=\"url(#clip020)\" d=\"\n",
       "M1959.71 484.018 L2280.8 484.018 L2280.8 95.2176 L1959.71 95.2176  Z\n",
       "  \" fill=\"#ffffff\" fill-rule=\"evenodd\" fill-opacity=\"1\"/>\n",
       "<polyline clip-path=\"url(#clip020)\" style=\"stroke:#000000; stroke-linecap:butt; stroke-linejoin:round; stroke-width:4; stroke-opacity:1; fill:none\" points=\"\n",
       "  1959.71,484.018 2280.8,484.018 2280.8,95.2176 1959.71,95.2176 1959.71,484.018 \n",
       "  \"/>\n",
       "<polyline clip-path=\"url(#clip020)\" style=\"stroke:#009af9; stroke-linecap:butt; stroke-linejoin:round; stroke-width:6; stroke-opacity:1; fill:none\" points=\"\n",
       "  1983.7,172.978 2127.62,172.978 \n",
       "  \"/>\n",
       "<path clip-path=\"url(#clip020)\" d=\"M2172.37 202.509 Q2169.66 209.453 2167.09 211.571 Q2164.52 213.689 2160.22 213.689 L2155.11 213.689 L2155.11 208.342 L2158.86 208.342 Q2161.5 208.342 2162.96 207.092 Q2164.42 205.842 2166.19 201.189 L2167.34 198.273 L2151.61 160.009 L2158.38 160.009 L2170.53 190.425 L2182.68 160.009 L2189.45 160.009 L2172.37 202.509 Z\" fill=\"#000000\" fill-rule=\"evenodd\" fill-opacity=\"1\" /><path clip-path=\"url(#clip020)\" d=\"M2200.39 192.995 L2211.85 192.995 L2211.85 153.446 L2199.38 155.946 L2199.38 149.558 L2211.78 147.058 L2218.79 147.058 L2218.79 192.995 L2230.25 192.995 L2230.25 198.898 L2200.39 198.898 L2200.39 192.995 Z\" fill=\"#000000\" fill-rule=\"evenodd\" fill-opacity=\"1\" /><polyline clip-path=\"url(#clip020)\" style=\"stroke:#e26f46; stroke-linecap:butt; stroke-linejoin:round; stroke-width:6; stroke-opacity:1; fill:none\" points=\"\n",
       "  1983.7,250.738 2127.62,250.738 \n",
       "  \"/>\n",
       "<path clip-path=\"url(#clip020)\" d=\"M2172.37 280.269 Q2169.66 287.213 2167.09 289.331 Q2164.52 291.449 2160.22 291.449 L2155.11 291.449 L2155.11 286.102 L2158.86 286.102 Q2161.5 286.102 2162.96 284.852 Q2164.42 283.602 2166.19 278.949 L2167.34 276.033 L2151.61 237.769 L2158.38 237.769 L2170.53 268.185 L2182.68 237.769 L2189.45 237.769 L2172.37 280.269 Z\" fill=\"#000000\" fill-rule=\"evenodd\" fill-opacity=\"1\" /><path clip-path=\"url(#clip020)\" d=\"M2205.22 270.755 L2229.7 270.755 L2229.7 276.658 L2196.78 276.658 L2196.78 270.755 Q2200.77 266.623 2207.65 259.678 Q2214.56 252.699 2216.33 250.685 Q2219.7 246.901 2221.02 244.297 Q2222.37 241.658 2222.37 239.123 Q2222.37 234.991 2219.45 232.387 Q2216.57 229.783 2211.92 229.783 Q2208.62 229.783 2204.94 230.929 Q2201.29 232.074 2197.13 234.401 L2197.13 227.318 Q2201.36 225.616 2205.04 224.748 Q2208.72 223.88 2211.78 223.88 Q2219.84 223.88 2224.63 227.908 Q2229.42 231.936 2229.42 238.672 Q2229.42 241.866 2228.2 244.748 Q2227.02 247.595 2223.86 251.484 Q2223 252.491 2218.34 257.317 Q2213.69 262.109 2205.22 270.755 Z\" fill=\"#000000\" fill-rule=\"evenodd\" fill-opacity=\"1\" /><polyline clip-path=\"url(#clip020)\" style=\"stroke:#3da44d; stroke-linecap:butt; stroke-linejoin:round; stroke-width:6; stroke-opacity:1; fill:none\" points=\"\n",
       "  1983.7,328.498 2127.62,328.498 \n",
       "  \"/>\n",
       "<path clip-path=\"url(#clip020)\" d=\"M2172.37 358.029 Q2169.66 364.973 2167.09 367.091 Q2164.52 369.209 2160.22 369.209 L2155.11 369.209 L2155.11 363.862 L2158.86 363.862 Q2161.5 363.862 2162.96 362.612 Q2164.42 361.362 2166.19 356.709 L2167.34 353.793 L2151.61 315.529 L2158.38 315.529 L2170.53 345.945 L2182.68 315.529 L2189.45 315.529 L2172.37 358.029 Z\" fill=\"#000000\" fill-rule=\"evenodd\" fill-opacity=\"1\" /><path clip-path=\"url(#clip020)\" d=\"M2220.43 326.466 Q2225.46 327.543 2228.27 330.945 Q2231.12 334.348 2231.12 339.348 Q2231.12 347.022 2225.84 351.223 Q2220.56 355.424 2210.84 355.424 Q2207.58 355.424 2204.11 354.765 Q2200.67 354.14 2196.99 352.855 L2196.99 346.084 Q2199.9 347.786 2203.38 348.654 Q2206.85 349.522 2210.63 349.522 Q2217.23 349.522 2220.67 346.918 Q2224.14 344.313 2224.14 339.348 Q2224.14 334.765 2220.91 332.195 Q2217.72 329.591 2211.99 329.591 L2205.95 329.591 L2205.95 323.827 L2212.27 323.827 Q2217.44 323.827 2220.18 321.779 Q2222.93 319.696 2222.93 315.807 Q2222.93 311.814 2220.08 309.696 Q2217.27 307.543 2211.99 307.543 Q2209.11 307.543 2205.81 308.168 Q2202.51 308.793 2198.55 310.112 L2198.55 303.862 Q2202.54 302.751 2206.02 302.196 Q2209.52 301.64 2212.61 301.64 Q2220.6 301.64 2225.25 305.286 Q2229.9 308.897 2229.9 315.077 Q2229.9 319.383 2227.44 322.369 Q2224.97 325.32 2220.43 326.466 Z\" fill=\"#000000\" fill-rule=\"evenodd\" fill-opacity=\"1\" /><polyline clip-path=\"url(#clip020)\" style=\"stroke:#c271d2; stroke-linecap:butt; stroke-linejoin:round; stroke-width:6; stroke-opacity:1; fill:none\" points=\"\n",
       "  1983.7,406.258 2127.62,406.258 \n",
       "  \"/>\n",
       "<path clip-path=\"url(#clip020)\" d=\"M2172.37 435.789 Q2169.66 442.733 2167.09 444.851 Q2164.52 446.969 2160.22 446.969 L2155.11 446.969 L2155.11 441.622 L2158.86 441.622 Q2161.5 441.622 2162.96 440.372 Q2164.42 439.122 2166.19 434.469 L2167.34 431.553 L2151.61 393.289 L2158.38 393.289 L2170.53 423.705 L2182.68 393.289 L2189.45 393.289 L2172.37 435.789 Z\" fill=\"#000000\" fill-rule=\"evenodd\" fill-opacity=\"1\" /><path clip-path=\"url(#clip020)\" d=\"M2218.45 386.449 L2200.74 414.122 L2218.45 414.122 L2218.45 386.449 M2216.61 380.338 L2225.43 380.338 L2225.43 414.122 L2232.82 414.122 L2232.82 419.955 L2225.43 419.955 L2225.43 432.178 L2218.45 432.178 L2218.45 419.955 L2195.04 419.955 L2195.04 413.185 L2216.61 380.338 Z\" fill=\"#000000\" fill-rule=\"evenodd\" fill-opacity=\"1\" /></svg>\n"
      ]
     },
     "execution_count": 84,
     "metadata": {},
     "output_type": "execute_result"
    }
   ],
   "source": [
    "h(x) = -1 / (gp(x) - 1)\n",
    "g3(x) = x + h(x) * (g(x) - x)\n",
    "plot([x-> x, cos, g2, g3], ylims=(-5, 5))"
   ]
  },
  {
   "cell_type": "markdown",
   "id": "b01ca4b8",
   "metadata": {
    "cell_style": "split"
   },
   "source": [
    "* We don't know $g'(x_*)$ in advance because we don't know $x_*$ yet.\n",
    "* This method converges very fast\n",
    "* We actually just derived Newton's method."
   ]
  },
  {
   "cell_type": "markdown",
   "id": "6ff62d33",
   "metadata": {
    "slideshow": {
     "slide_type": "slide"
    }
   },
   "source": [
    "# A fresh derivation of Newton's method\n",
    "\n",
    "* A rootfinding problem $f(x) = 0$ can be converted to a fixed point problem $$x = x + f(x) =: g(x)$$ but there is no guarantee that $g'(x_*) = 1 + f'(x_*)$ will have magnitude less than 1.\n",
    "* Problem-specific algebraic manipulation can be used to make $|g'(x_*)|$ small.\n",
    "* $x = x + h(x) f(x)$ is also a valid formulation for any $h(x)$ bounded away from $0$.\n",
    "* Can we choose $h(x)$ such that $$ g'(x) = 1 + h'(x) f(x) + h(x) f'(x) = 0$$ when $f(x) = 0$?\n",
    "\n",
    "In other words,\n",
    "$$ x_{k+1} = x_k + \\underbrace{\\frac{-1}{f'(x_k)}}_{h(x_k)} f(x_k)  . $$"
   ]
  },
  {
   "cell_type": "markdown",
   "id": "e0f835bc",
   "metadata": {
    "slideshow": {
     "slide_type": "slide"
    }
   },
   "source": [
    "# Quadratic convergence!\n",
    "\n",
    "$$ \\left\\lvert \\frac{e_{k+1}}{e_k} \\right\\rvert \\to \\lvert g'(x_*) \\rvert $$\n",
    "\n",
    "* What does it mean that $g'(x_*) = 0$?\n",
    "* It turns out that Newton's method has _locally quadratic_ convergence to simple roots,\n",
    "$$\\lim_{k \\to \\infty} \\frac{|e_{k+1}|}{|e_k|^2} < \\infty.$$\n",
    "* \"The number of correct digits doubles each iteration.\"\n",
    "* Now that we know how to make a good guess accurate, the effort lies in getting a good guess."
   ]
  },
  {
   "cell_type": "markdown",
   "id": "6f47e2cc",
   "metadata": {
    "slideshow": {
     "slide_type": "slide"
    }
   },
   "source": [
    "# Culture: fast inverse square root\n",
    "\n",
    "The following code appeared literally (including comments) in the Quake III Arena source code (late 1990s).\n",
    "\n",
    "```C\n",
    "float Q_rsqrt( float number )\n",
    "{\n",
    "\tlong i;\n",
    "\tfloat x2, y;\n",
    "\tconst float threehalfs = 1.5F;\n",
    "\n",
    "\tx2 = number * 0.5F;\n",
    "\ty  = number;\n",
    "\ti  = * ( long * ) &y;                       // evil floating point bit level hacking\n",
    "\ti  = 0x5f3759df - ( i >> 1 );               // what the fuck? \n",
    "\ty  = * ( float * ) &i;\n",
    "    y  = y * ( threehalfs - ( x2 * y * y ) );   // 1st iteration\n",
    "//  y  = y * ( threehalfs - ( x2 * y * y ) );   // 2nd iteration, this can be removed\n",
    "\n",
    "\treturn y;\n",
    "}\n",
    "```\n",
    "\n",
    "We now have [vector instructions](https://software.intel.com/sites/landingpage/IntrinsicsGuide/#text=rsqrt&expand=2989,1224,4470) for approximate inverse square root.\n",
    "More at https://en.wikipedia.org/wiki/Fast_inverse_square_root"
   ]
  },
  {
   "cell_type": "markdown",
   "id": "1d438c27",
   "metadata": {
    "slideshow": {
     "slide_type": "slide"
    }
   },
   "source": [
    "# How does it work?\n",
    "\n",
    "Let's look at the last line\n",
    "```c\n",
    "y  = y * ( threehalfs - ( x2 * y * y ) );   // 1st iteration\n",
    "```"
   ]
  },
  {
   "cell_type": "markdown",
   "id": "bfc55b58",
   "metadata": {
    "cell_style": "split"
   },
   "source": [
    "We want a function $f(y)$ such that $f(1/\\sqrt{x}) = 0$. One such function is\n",
    "$$ f(y) = 1/y^2 - x, \\quad f'(y) = -2/y^3.$$\n",
    "\n",
    "There are others, e.g.,\n",
    "$$f_1(y) = y^2 - 1/x,\\quad f'(y) = 2 y,$$\n",
    "but this would require a division."
   ]
  },
  {
   "cell_type": "markdown",
   "id": "2acdd512",
   "metadata": {
    "cell_style": "split"
   },
   "source": [
    "Newton's method is\n",
    "\\begin{align}\n",
    "y_{k+1} &= y_k - \\frac{f(y_k)}{f'(y_k)} \\\\\n",
    "&= y_k - \\frac{1/y_k^2 - x}{-2/y_k^3} \\\\\n",
    "&= y_k + \\frac 1 2 (y_k - x y_k^3) \\\\\n",
    "&= y_k \\left(\\frac 3 2 - \\frac 1 2 x y_k^2\\right)\n",
    "\\end{align}"
   ]
  },
  {
   "cell_type": "markdown",
   "id": "350da54a",
   "metadata": {
    "slideshow": {
     "slide_type": "slide"
    }
   },
   "source": [
    "# Rootfinding outlook\n",
    "\n",
    "* Newton methods are immensely successful\n",
    "  * Convergence theory is local; we need good initial guesses (activity)\n",
    "  * Computing the derivative $f'(x)$ is *intrusive*\n",
    "    * Avoided by secant methods (approximate the derivative; activity)\n",
    "    * Algorithmic or numerical differentiation (future topics)\n",
    "  * Bisection is robust when conditions are met\n",
    "  * Line search (activity)\n",
    "  * When does Newton diverge?\n",
    "\n",
    "* More topics\n",
    "  * Find *all* the roots\n",
    "  * Use Newton-type methods with bounds\n",
    "  * Times when Newton converges slowly"
   ]
  }
 ],
 "metadata": {
  "@webio": {
   "lastCommId": "cd1892c1e2064686902fbdf399e6e3e3",
   "lastKernelId": "6eae1736-6531-4224-a6c2-38e7ff163d19"
  },
  "celltoolbar": "Slideshow",
  "hide_code_all_hidden": false,
  "kernelspec": {
   "display_name": "Julia 1.7.1",
   "language": "julia",
   "name": "julia-1.7"
  },
  "language_info": {
   "file_extension": ".jl",
   "mimetype": "application/julia",
   "name": "julia",
   "version": "1.7.1"
  },
  "rise": {
   "enable_chalkboard": true
  }
 },
 "nbformat": 4,
 "nbformat_minor": 5
}
