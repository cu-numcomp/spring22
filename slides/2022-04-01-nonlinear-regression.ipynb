{
 "cells": [
  {
   "cell_type": "markdown",
   "id": "4159be0e",
   "metadata": {
    "hideCode": false,
    "hidePrompt": false,
    "slideshow": {
     "slide_type": "slide"
    }
   },
   "source": [
    "# 2022-04-01 Nonlinear Regression\n",
    "\n",
    "## Last time\n",
    "\n",
    "* Discuss projects\n",
    "* Gradient-based optimization for linear models\n",
    "* Effect of conditioning on convergence rate\n",
    "\n",
    "## Today\n",
    "* Nonlinear models\n",
    "* Computing derivatives\n",
    "  * numeric\n",
    "  * analytic by hand\n",
    "  * algorithmic (automatic) differentiation"
   ]
  },
  {
   "cell_type": "code",
   "execution_count": 1,
   "id": "eb781a7a",
   "metadata": {
    "slideshow": {
     "slide_type": "skip"
    }
   },
   "outputs": [
    {
     "data": {
      "text/plain": [
       "vcond (generic function with 1 method)"
      ]
     },
     "execution_count": 1,
     "metadata": {},
     "output_type": "execute_result"
    }
   ],
   "source": [
    "using LinearAlgebra\n",
    "using Plots\n",
    "default(linewidth=4, legendfontsize=12)\n",
    "\n",
    "function vander(x, k=nothing)\n",
    "    if isnothing(k)\n",
    "        k = length(x)\n",
    "    end\n",
    "    m = length(x)\n",
    "    V = ones(m, k)\n",
    "    for j in 2:k\n",
    "        V[:, j] = V[:, j-1] .* x\n",
    "    end\n",
    "    V\n",
    "end\n",
    "\n",
    "function vander_chebyshev(x, n=nothing)\n",
    "    if isnothing(n)\n",
    "        n = length(x) # Square by default\n",
    "    end\n",
    "    m = length(x)\n",
    "    T = ones(m, n)\n",
    "    if n > 1\n",
    "        T[:, 2] = x\n",
    "    end\n",
    "    for k in 3:n\n",
    "        #T[:, k] = x .* T[:, k-1]\n",
    "        T[:, k] = 2 * x .* T[:,k-1] - T[:, k-2]\n",
    "    end\n",
    "    T\n",
    "end\n",
    "\n",
    "function chebyshev_regress_eval(x, xx, n)\n",
    "    V = vander_chebyshev(x, n)\n",
    "    vander_chebyshev(xx, n) / V\n",
    "end\n",
    "\n",
    "runge(x) = 1 / (1 + 10*x^2)\n",
    "runge_noisy(x, sigma) = runge.(x) + randn(size(x)) * sigma\n",
    "\n",
    "CosRange(a, b, n) = (a + b)/2 .+ (b - a)/2 * cos.(LinRange(-pi, 0, n))\n",
    "\n",
    "vcond(mat, points, nmax) = [cond(mat(points(-1, 1, n))) for n in 2:nmax]"
   ]
  },
  {
   "cell_type": "markdown",
   "id": "ab251374",
   "metadata": {
    "slideshow": {
     "slide_type": "slide"
    }
   },
   "source": [
    "## Gradient descent\n",
    "\n",
    "Instead of solving the least squares problem using linear algebra (QR factorization), we could solve it using gradient descent.  That is, on each iteration, we'll take a step in the direction of the negative gradient."
   ]
  },
  {
   "cell_type": "code",
   "execution_count": 2,
   "id": "04841eea",
   "metadata": {
    "cell_style": "center"
   },
   "outputs": [
    {
     "data": {
      "text/plain": [
       "grad_descent (generic function with 1 method)"
      ]
     },
     "execution_count": 2,
     "metadata": {},
     "output_type": "execute_result"
    }
   ],
   "source": [
    "function grad_descent(loss, grad, c0; gamma=1e-3, tol=1e-5)\n",
    "    \"\"\"Minimize loss(c) via gradient descent with initial guess c0\n",
    "    using learning rate gamma.  Declares convergence when gradient\n",
    "    is less than tol or after 500 steps.\n",
    "    \"\"\"\n",
    "    c = copy(c0)\n",
    "    chist = [copy(c)]\n",
    "    lhist = [loss(c)]\n",
    "    for it in 1:500\n",
    "        g = grad(c)\n",
    "        c -= gamma * g\n",
    "        push!(chist, copy(c))\n",
    "        push!(lhist, loss(c))\n",
    "        if norm(g) < tol\n",
    "            break\n",
    "        end\n",
    "    end\n",
    "    (c, hcat(chist...), lhist)\n",
    "end"
   ]
  },
  {
   "cell_type": "markdown",
   "id": "ca23b5fe",
   "metadata": {
    "slideshow": {
     "slide_type": "slide"
    }
   },
   "source": [
    "## Quadratic model"
   ]
  },
  {
   "cell_type": "code",
   "execution_count": 3,
   "id": "ab3a31f0",
   "metadata": {
    "cell_style": "split",
    "hideCode": false,
    "scrolled": true
   },
   "outputs": [
    {
     "name": "stdout",
     "output_type": "stream",
     "text": [
      "cond(A) = 9.46578492882319\n"
     ]
    },
    {
     "data": {
      "image/svg+xml": [
       "<?xml version=\"1.0\" encoding=\"utf-8\"?>\n",
       "<svg xmlns=\"http://www.w3.org/2000/svg\" xmlns:xlink=\"http://www.w3.org/1999/xlink\" width=\"600\" height=\"400\" viewBox=\"0 0 2400 1600\">\n",
       "<defs>\n",
       "  <clipPath id=\"clip040\">\n",
       "    <rect x=\"0\" y=\"0\" width=\"2400\" height=\"1600\"/>\n",
       "  </clipPath>\n",
       "</defs>\n",
       "<path clip-path=\"url(#clip040)\" d=\"\n",
       "M0 1600 L2400 1600 L2400 0 L0 0  Z\n",
       "  \" fill=\"#ffffff\" fill-rule=\"evenodd\" fill-opacity=\"1\"/>\n",
       "<defs>\n",
       "  <clipPath id=\"clip041\">\n",
       "    <rect x=\"480\" y=\"0\" width=\"1681\" height=\"1600\"/>\n",
       "  </clipPath>\n",
       "</defs>\n",
       "<path clip-path=\"url(#clip040)\" d=\"\n",
       "M213.607 1486.45 L2352.76 1486.45 L2352.76 47.2441 L213.607 47.2441  Z\n",
       "  \" fill=\"#ffffff\" fill-rule=\"evenodd\" fill-opacity=\"1\"/>\n",
       "<defs>\n",
       "  <clipPath id=\"clip042\">\n",
       "    <rect x=\"213\" y=\"47\" width=\"2140\" height=\"1440\"/>\n",
       "  </clipPath>\n",
       "</defs>\n",
       "<polyline clip-path=\"url(#clip042)\" style=\"stroke:#000000; stroke-linecap:butt; stroke-linejoin:round; stroke-width:2; stroke-opacity:0.1; fill:none\" points=\"\n",
       "  213.607,1486.45 213.607,47.2441 \n",
       "  \"/>\n",
       "<polyline clip-path=\"url(#clip042)\" style=\"stroke:#000000; stroke-linecap:butt; stroke-linejoin:round; stroke-width:2; stroke-opacity:0.1; fill:none\" points=\"\n",
       "  748.395,1486.45 748.395,47.2441 \n",
       "  \"/>\n",
       "<polyline clip-path=\"url(#clip042)\" style=\"stroke:#000000; stroke-linecap:butt; stroke-linejoin:round; stroke-width:2; stroke-opacity:0.1; fill:none\" points=\"\n",
       "  1283.18,1486.45 1283.18,47.2441 \n",
       "  \"/>\n",
       "<polyline clip-path=\"url(#clip042)\" style=\"stroke:#000000; stroke-linecap:butt; stroke-linejoin:round; stroke-width:2; stroke-opacity:0.1; fill:none\" points=\"\n",
       "  1817.97,1486.45 1817.97,47.2441 \n",
       "  \"/>\n",
       "<polyline clip-path=\"url(#clip042)\" style=\"stroke:#000000; stroke-linecap:butt; stroke-linejoin:round; stroke-width:2; stroke-opacity:0.1; fill:none\" points=\"\n",
       "  2352.76,1486.45 2352.76,47.2441 \n",
       "  \"/>\n",
       "<polyline clip-path=\"url(#clip040)\" style=\"stroke:#000000; stroke-linecap:butt; stroke-linejoin:round; stroke-width:4; stroke-opacity:1; fill:none\" points=\"\n",
       "  213.607,1486.45 2352.76,1486.45 \n",
       "  \"/>\n",
       "<polyline clip-path=\"url(#clip040)\" style=\"stroke:#000000; stroke-linecap:butt; stroke-linejoin:round; stroke-width:4; stroke-opacity:1; fill:none\" points=\"\n",
       "  213.607,1486.45 213.607,1467.55 \n",
       "  \"/>\n",
       "<polyline clip-path=\"url(#clip040)\" style=\"stroke:#000000; stroke-linecap:butt; stroke-linejoin:round; stroke-width:4; stroke-opacity:1; fill:none\" points=\"\n",
       "  748.395,1486.45 748.395,1467.55 \n",
       "  \"/>\n",
       "<polyline clip-path=\"url(#clip040)\" style=\"stroke:#000000; stroke-linecap:butt; stroke-linejoin:round; stroke-width:4; stroke-opacity:1; fill:none\" points=\"\n",
       "  1283.18,1486.45 1283.18,1467.55 \n",
       "  \"/>\n",
       "<polyline clip-path=\"url(#clip040)\" style=\"stroke:#000000; stroke-linecap:butt; stroke-linejoin:round; stroke-width:4; stroke-opacity:1; fill:none\" points=\"\n",
       "  1817.97,1486.45 1817.97,1467.55 \n",
       "  \"/>\n",
       "<polyline clip-path=\"url(#clip040)\" style=\"stroke:#000000; stroke-linecap:butt; stroke-linejoin:round; stroke-width:4; stroke-opacity:1; fill:none\" points=\"\n",
       "  2352.76,1486.45 2352.76,1467.55 \n",
       "  \"/>\n",
       "<path clip-path=\"url(#clip040)\" d=\"M213.607 1517.37 Q209.996 1517.37 208.168 1520.93 Q206.362 1524.47 206.362 1531.6 Q206.362 1538.71 208.168 1542.27 Q209.996 1545.82 213.607 1545.82 Q217.242 1545.82 219.047 1542.27 Q220.876 1538.71 220.876 1531.6 Q220.876 1524.47 219.047 1520.93 Q217.242 1517.37 213.607 1517.37 M213.607 1513.66 Q219.418 1513.66 222.473 1518.27 Q225.552 1522.85 225.552 1531.6 Q225.552 1540.33 222.473 1544.94 Q219.418 1549.52 213.607 1549.52 Q207.797 1549.52 204.719 1544.94 Q201.663 1540.33 201.663 1531.6 Q201.663 1522.85 204.719 1518.27 Q207.797 1513.66 213.607 1513.66 Z\" fill=\"#000000\" fill-rule=\"evenodd\" fill-opacity=\"1\" /><path clip-path=\"url(#clip040)\" d=\"M727.168 1544.91 L743.487 1544.91 L743.487 1548.85 L721.543 1548.85 L721.543 1544.91 Q724.205 1542.16 728.788 1537.53 Q733.395 1532.88 734.575 1531.53 Q736.821 1529.01 737.7 1527.27 Q738.603 1525.51 738.603 1523.82 Q738.603 1521.07 736.659 1519.33 Q734.737 1517.6 731.635 1517.6 Q729.436 1517.6 726.983 1518.36 Q724.552 1519.13 721.774 1520.68 L721.774 1515.95 Q724.598 1514.82 727.052 1514.24 Q729.506 1513.66 731.543 1513.66 Q736.913 1513.66 740.108 1516.35 Q743.302 1519.03 743.302 1523.52 Q743.302 1525.65 742.492 1527.57 Q741.705 1529.47 739.598 1532.07 Q739.02 1532.74 735.918 1535.95 Q732.816 1539.15 727.168 1544.91 Z\" fill=\"#000000\" fill-rule=\"evenodd\" fill-opacity=\"1\" /><path clip-path=\"url(#clip040)\" d=\"M763.302 1517.37 Q759.691 1517.37 757.862 1520.93 Q756.057 1524.47 756.057 1531.6 Q756.057 1538.71 757.862 1542.27 Q759.691 1545.82 763.302 1545.82 Q766.936 1545.82 768.742 1542.27 Q770.57 1538.71 770.57 1531.6 Q770.57 1524.47 768.742 1520.93 Q766.936 1517.37 763.302 1517.37 M763.302 1513.66 Q769.112 1513.66 772.168 1518.27 Q775.246 1522.85 775.246 1531.6 Q775.246 1540.33 772.168 1544.94 Q769.112 1549.52 763.302 1549.52 Q757.492 1549.52 754.413 1544.94 Q751.358 1540.33 751.358 1531.6 Q751.358 1522.85 754.413 1518.27 Q757.492 1513.66 763.302 1513.66 Z\" fill=\"#000000\" fill-rule=\"evenodd\" fill-opacity=\"1\" /><path clip-path=\"url(#clip040)\" d=\"M1271.35 1518.36 L1259.55 1536.81 L1271.35 1536.81 L1271.35 1518.36 M1270.13 1514.29 L1276.01 1514.29 L1276.01 1536.81 L1280.94 1536.81 L1280.94 1540.7 L1276.01 1540.7 L1276.01 1548.85 L1271.35 1548.85 L1271.35 1540.7 L1255.75 1540.7 L1255.75 1536.19 L1270.13 1514.29 Z\" fill=\"#000000\" fill-rule=\"evenodd\" fill-opacity=\"1\" /><path clip-path=\"url(#clip040)\" d=\"M1298.67 1517.37 Q1295.06 1517.37 1293.23 1520.93 Q1291.42 1524.47 1291.42 1531.6 Q1291.42 1538.71 1293.23 1542.27 Q1295.06 1545.82 1298.67 1545.82 Q1302.3 1545.82 1304.11 1542.27 Q1305.94 1538.71 1305.94 1531.6 Q1305.94 1524.47 1304.11 1520.93 Q1302.3 1517.37 1298.67 1517.37 M1298.67 1513.66 Q1304.48 1513.66 1307.53 1518.27 Q1310.61 1522.85 1310.61 1531.6 Q1310.61 1540.33 1307.53 1544.94 Q1304.48 1549.52 1298.67 1549.52 Q1292.86 1549.52 1289.78 1544.94 Q1286.72 1540.33 1286.72 1531.6 Q1286.72 1522.85 1289.78 1518.27 Q1292.86 1513.66 1298.67 1513.66 Z\" fill=\"#000000\" fill-rule=\"evenodd\" fill-opacity=\"1\" /><path clip-path=\"url(#clip040)\" d=\"M1803.37 1529.7 Q1800.23 1529.7 1798.37 1531.86 Q1796.55 1534.01 1796.55 1537.76 Q1796.55 1541.49 1798.37 1543.66 Q1800.23 1545.82 1803.37 1545.82 Q1806.52 1545.82 1808.35 1543.66 Q1810.2 1541.49 1810.2 1537.76 Q1810.2 1534.01 1808.35 1531.86 Q1806.52 1529.7 1803.37 1529.7 M1812.66 1515.05 L1812.66 1519.31 Q1810.9 1518.48 1809.09 1518.04 Q1807.31 1517.6 1805.55 1517.6 Q1800.92 1517.6 1798.47 1520.72 Q1796.04 1523.85 1795.69 1530.17 Q1797.05 1528.15 1799.11 1527.09 Q1801.17 1526 1803.65 1526 Q1808.86 1526 1811.87 1529.17 Q1814.9 1532.32 1814.9 1537.76 Q1814.9 1543.08 1811.75 1546.3 Q1808.61 1549.52 1803.37 1549.52 Q1797.38 1549.52 1794.21 1544.94 Q1791.04 1540.33 1791.04 1531.6 Q1791.04 1523.41 1794.92 1518.55 Q1798.81 1513.66 1805.36 1513.66 Q1807.12 1513.66 1808.91 1514.01 Q1810.71 1514.36 1812.66 1515.05 Z\" fill=\"#000000\" fill-rule=\"evenodd\" fill-opacity=\"1\" /><path clip-path=\"url(#clip040)\" d=\"M1832.96 1517.37 Q1829.35 1517.37 1827.52 1520.93 Q1825.71 1524.47 1825.71 1531.6 Q1825.71 1538.71 1827.52 1542.27 Q1829.35 1545.82 1832.96 1545.82 Q1836.59 1545.82 1838.4 1542.27 Q1840.23 1538.71 1840.23 1531.6 Q1840.23 1524.47 1838.4 1520.93 Q1836.59 1517.37 1832.96 1517.37 M1832.96 1513.66 Q1838.77 1513.66 1841.82 1518.27 Q1844.9 1522.85 1844.9 1531.6 Q1844.9 1540.33 1841.82 1544.94 Q1838.77 1549.52 1832.96 1549.52 Q1827.15 1549.52 1824.07 1544.94 Q1821.01 1540.33 1821.01 1531.6 Q1821.01 1522.85 1824.07 1518.27 Q1827.15 1513.66 1832.96 1513.66 Z\" fill=\"#000000\" fill-rule=\"evenodd\" fill-opacity=\"1\" /><path clip-path=\"url(#clip040)\" d=\"M2337.63 1532.44 Q2334.3 1532.44 2332.37 1534.22 Q2330.48 1536 2330.48 1539.13 Q2330.48 1542.25 2332.37 1544.03 Q2334.3 1545.82 2337.63 1545.82 Q2340.96 1545.82 2342.88 1544.03 Q2344.8 1542.23 2344.8 1539.13 Q2344.8 1536 2342.88 1534.22 Q2340.99 1532.44 2337.63 1532.44 M2332.95 1530.45 Q2329.94 1529.7 2328.25 1527.64 Q2326.59 1525.58 2326.59 1522.62 Q2326.59 1518.48 2329.53 1516.07 Q2332.49 1513.66 2337.63 1513.66 Q2342.79 1513.66 2345.73 1516.07 Q2348.67 1518.48 2348.67 1522.62 Q2348.67 1525.58 2346.98 1527.64 Q2345.31 1529.7 2342.33 1530.45 Q2345.71 1531.23 2347.58 1533.52 Q2349.48 1535.82 2349.48 1539.13 Q2349.48 1544.15 2346.4 1546.83 Q2343.35 1549.52 2337.63 1549.52 Q2331.91 1549.52 2328.83 1546.83 Q2325.78 1544.15 2325.78 1539.13 Q2325.78 1535.82 2327.68 1533.52 Q2329.57 1531.23 2332.95 1530.45 M2331.24 1523.06 Q2331.24 1525.75 2332.91 1527.25 Q2334.6 1528.76 2337.63 1528.76 Q2340.64 1528.76 2342.33 1527.25 Q2344.04 1525.75 2344.04 1523.06 Q2344.04 1520.38 2342.33 1518.87 Q2340.64 1517.37 2337.63 1517.37 Q2334.6 1517.37 2332.91 1518.87 Q2331.24 1520.38 2331.24 1523.06 Z\" fill=\"#000000\" fill-rule=\"evenodd\" fill-opacity=\"1\" /><path clip-path=\"url(#clip040)\" d=\"M2367.79 1517.37 Q2364.18 1517.37 2362.35 1520.93 Q2360.55 1524.47 2360.55 1531.6 Q2360.55 1538.71 2362.35 1542.27 Q2364.18 1545.82 2367.79 1545.82 Q2371.42 1545.82 2373.23 1542.27 Q2375.06 1538.71 2375.06 1531.6 Q2375.06 1524.47 2373.23 1520.93 Q2371.42 1517.37 2367.79 1517.37 M2367.79 1513.66 Q2373.6 1513.66 2376.66 1518.27 Q2379.73 1522.85 2379.73 1531.6 Q2379.73 1540.33 2376.66 1544.94 Q2373.6 1549.52 2367.79 1549.52 Q2361.98 1549.52 2358.9 1544.94 Q2355.85 1540.33 2355.85 1531.6 Q2355.85 1522.85 2358.9 1518.27 Q2361.98 1513.66 2367.79 1513.66 Z\" fill=\"#000000\" fill-rule=\"evenodd\" fill-opacity=\"1\" /><polyline clip-path=\"url(#clip042)\" style=\"stroke:#000000; stroke-linecap:butt; stroke-linejoin:round; stroke-width:2; stroke-opacity:0.1; fill:none\" points=\"\n",
       "  213.607,1301.6 2352.76,1301.6 \n",
       "  \"/>\n",
       "<polyline clip-path=\"url(#clip042)\" style=\"stroke:#000000; stroke-linecap:butt; stroke-linejoin:round; stroke-width:2; stroke-opacity:0.1; fill:none\" points=\"\n",
       "  213.607,731.762 2352.76,731.762 \n",
       "  \"/>\n",
       "<polyline clip-path=\"url(#clip042)\" style=\"stroke:#000000; stroke-linecap:butt; stroke-linejoin:round; stroke-width:2; stroke-opacity:0.1; fill:none\" points=\"\n",
       "  213.607,161.924 2352.76,161.924 \n",
       "  \"/>\n",
       "<polyline clip-path=\"url(#clip040)\" style=\"stroke:#000000; stroke-linecap:butt; stroke-linejoin:round; stroke-width:4; stroke-opacity:1; fill:none\" points=\"\n",
       "  213.607,1486.45 213.607,47.2441 \n",
       "  \"/>\n",
       "<polyline clip-path=\"url(#clip040)\" style=\"stroke:#000000; stroke-linecap:butt; stroke-linejoin:round; stroke-width:4; stroke-opacity:1; fill:none\" points=\"\n",
       "  213.607,1301.6 232.505,1301.6 \n",
       "  \"/>\n",
       "<polyline clip-path=\"url(#clip040)\" style=\"stroke:#000000; stroke-linecap:butt; stroke-linejoin:round; stroke-width:4; stroke-opacity:1; fill:none\" points=\"\n",
       "  213.607,731.762 232.505,731.762 \n",
       "  \"/>\n",
       "<polyline clip-path=\"url(#clip040)\" style=\"stroke:#000000; stroke-linecap:butt; stroke-linejoin:round; stroke-width:4; stroke-opacity:1; fill:none\" points=\"\n",
       "  213.607,161.924 232.505,161.924 \n",
       "  \"/>\n",
       "<path clip-path=\"url(#clip040)\" d=\"M51.6634 1321.39 L59.3023 1321.39 L59.3023 1295.03 L50.9921 1296.69 L50.9921 1292.43 L59.256 1290.77 L63.9319 1290.77 L63.9319 1321.39 L71.5707 1321.39 L71.5707 1325.33 L51.6634 1325.33 L51.6634 1321.39 Z\" fill=\"#000000\" fill-rule=\"evenodd\" fill-opacity=\"1\" /><path clip-path=\"url(#clip040)\" d=\"M91.0151 1293.85 Q87.404 1293.85 85.5753 1297.41 Q83.7697 1300.95 83.7697 1308.08 Q83.7697 1315.19 85.5753 1318.75 Q87.404 1322.3 91.0151 1322.3 Q94.6493 1322.3 96.4548 1318.75 Q98.2835 1315.19 98.2835 1308.08 Q98.2835 1300.95 96.4548 1297.41 Q94.6493 1293.85 91.0151 1293.85 M91.0151 1290.14 Q96.8252 1290.14 99.8808 1294.75 Q102.959 1299.33 102.959 1308.08 Q102.959 1316.81 99.8808 1321.42 Q96.8252 1326 91.0151 1326 Q85.2049 1326 82.1262 1321.42 Q79.0707 1316.81 79.0707 1308.08 Q79.0707 1299.33 82.1262 1294.75 Q85.2049 1290.14 91.0151 1290.14 Z\" fill=\"#000000\" fill-rule=\"evenodd\" fill-opacity=\"1\" /><path clip-path=\"url(#clip040)\" d=\"M102.959 1284.24 L127.071 1284.24 L127.071 1287.44 L102.959 1287.44 L102.959 1284.24 Z\" fill=\"#000000\" fill-rule=\"evenodd\" fill-opacity=\"1\" /><path clip-path=\"url(#clip040)\" d=\"M135.929 1294.72 L142.136 1294.72 L142.136 1273.3 L135.384 1274.65 L135.384 1271.19 L142.098 1269.84 L145.898 1269.84 L145.898 1294.72 L152.104 1294.72 L152.104 1297.92 L135.929 1297.92 L135.929 1294.72 Z\" fill=\"#000000\" fill-rule=\"evenodd\" fill-opacity=\"1\" /><path clip-path=\"url(#clip040)\" d=\"M167.903 1272.34 Q164.969 1272.34 163.483 1275.24 Q162.016 1278.11 162.016 1283.91 Q162.016 1289.68 163.483 1292.58 Q164.969 1295.45 167.903 1295.45 Q170.855 1295.45 172.322 1292.58 Q173.808 1289.68 173.808 1283.91 Q173.808 1278.11 172.322 1275.24 Q170.855 1272.34 167.903 1272.34 M167.903 1269.33 Q172.623 1269.33 175.106 1273.07 Q177.607 1276.8 177.607 1283.91 Q177.607 1291 175.106 1294.74 Q172.623 1298.46 167.903 1298.46 Q163.182 1298.46 160.68 1294.74 Q158.198 1291 158.198 1283.91 Q158.198 1276.8 160.68 1273.07 Q163.182 1269.33 167.903 1269.33 Z\" fill=\"#000000\" fill-rule=\"evenodd\" fill-opacity=\"1\" /><path clip-path=\"url(#clip040)\" d=\"M76.9787 751.555 L84.6175 751.555 L84.6175 725.189 L76.3074 726.856 L76.3074 722.596 L84.5712 720.93 L89.2471 720.93 L89.2471 751.555 L96.886 751.555 L96.886 755.49 L76.9787 755.49 L76.9787 751.555 Z\" fill=\"#000000\" fill-rule=\"evenodd\" fill-opacity=\"1\" /><path clip-path=\"url(#clip040)\" d=\"M116.33 724.008 Q112.719 724.008 110.891 727.573 Q109.085 731.115 109.085 738.244 Q109.085 745.351 110.891 748.916 Q112.719 752.457 116.33 752.457 Q119.965 752.457 121.77 748.916 Q123.599 745.351 123.599 738.244 Q123.599 731.115 121.77 727.573 Q119.965 724.008 116.33 724.008 M116.33 720.305 Q122.14 720.305 125.196 724.911 Q128.275 729.494 128.275 738.244 Q128.275 746.971 125.196 751.578 Q122.14 756.161 116.33 756.161 Q110.52 756.161 107.441 751.578 Q104.386 746.971 104.386 738.244 Q104.386 729.494 107.441 724.911 Q110.52 720.305 116.33 720.305 Z\" fill=\"#000000\" fill-rule=\"evenodd\" fill-opacity=\"1\" /><path clip-path=\"url(#clip040)\" d=\"M128.275 714.406 L152.386 714.406 L152.386 717.603 L128.275 717.603 L128.275 714.406 Z\" fill=\"#000000\" fill-rule=\"evenodd\" fill-opacity=\"1\" /><path clip-path=\"url(#clip040)\" d=\"M160.624 699.999 L175.539 699.999 L175.539 703.197 L164.103 703.197 L164.103 710.08 Q164.931 709.798 165.759 709.666 Q166.586 709.516 167.414 709.516 Q172.116 709.516 174.862 712.093 Q177.607 714.669 177.607 719.07 Q177.607 723.603 174.786 726.123 Q171.965 728.625 166.831 728.625 Q165.063 728.625 163.22 728.324 Q161.395 728.023 159.439 727.421 L159.439 723.603 Q161.132 724.525 162.937 724.976 Q164.743 725.427 166.755 725.427 Q170.009 725.427 171.909 723.716 Q173.808 722.004 173.808 719.07 Q173.808 716.136 171.909 714.425 Q170.009 712.713 166.755 712.713 Q165.232 712.713 163.709 713.052 Q162.204 713.39 160.624 714.105 L160.624 699.999 Z\" fill=\"#000000\" fill-rule=\"evenodd\" fill-opacity=\"1\" /><path clip-path=\"url(#clip040)\" d=\"M106.902 181.716 L114.541 181.716 L114.541 155.351 L106.231 157.017 L106.231 152.758 L114.494 151.092 L119.17 151.092 L119.17 181.716 L126.809 181.716 L126.809 185.652 L106.902 185.652 L106.902 181.716 Z\" fill=\"#000000\" fill-rule=\"evenodd\" fill-opacity=\"1\" /><path clip-path=\"url(#clip040)\" d=\"M146.253 154.17 Q142.642 154.17 140.814 157.735 Q139.008 161.277 139.008 168.406 Q139.008 175.513 140.814 179.077 Q142.642 182.619 146.253 182.619 Q149.888 182.619 151.693 179.077 Q153.522 175.513 153.522 168.406 Q153.522 161.277 151.693 157.735 Q149.888 154.17 146.253 154.17 M146.253 150.467 Q152.064 150.467 155.119 155.073 Q158.198 159.656 158.198 168.406 Q158.198 177.133 155.119 181.739 Q152.064 186.323 146.253 186.323 Q140.443 186.323 137.365 181.739 Q134.309 177.133 134.309 168.406 Q134.309 159.656 137.365 155.073 Q140.443 150.467 146.253 150.467 Z\" fill=\"#000000\" fill-rule=\"evenodd\" fill-opacity=\"1\" /><path clip-path=\"url(#clip040)\" d=\"M167.903 132.663 Q164.969 132.663 163.483 135.559 Q162.016 138.437 162.016 144.229 Q162.016 150.003 163.483 152.9 Q164.969 155.777 167.903 155.777 Q170.855 155.777 172.322 152.9 Q173.808 150.003 173.808 144.229 Q173.808 138.437 172.322 135.559 Q170.855 132.663 167.903 132.663 M167.903 129.653 Q172.623 129.653 175.106 133.396 Q177.607 137.12 177.607 144.229 Q177.607 151.32 175.106 155.063 Q172.623 158.787 167.903 158.787 Q163.182 158.787 160.68 155.063 Q158.198 151.32 158.198 144.229 Q158.198 137.12 160.68 133.396 Q163.182 129.653 167.903 129.653 Z\" fill=\"#000000\" fill-rule=\"evenodd\" fill-opacity=\"1\" /><polyline clip-path=\"url(#clip042)\" style=\"stroke:#009af9; stroke-linecap:butt; stroke-linejoin:round; stroke-width:16; stroke-opacity:1; fill:none\" points=\"\n",
       "  240.347,87.9763 267.086,111.065 293.826,134.148 320.565,157.223 347.304,180.29 374.044,203.35 400.783,226.401 427.522,249.444 454.262,272.478 481.001,295.503 \n",
       "  507.74,318.517 534.48,341.522 561.219,364.516 587.958,387.5 614.698,410.471 641.437,433.431 668.177,456.379 694.916,479.313 721.655,502.235 748.395,525.142 \n",
       "  775.134,548.035 801.873,570.913 828.613,593.776 855.352,616.623 882.091,639.453 908.831,662.266 935.57,685.062 962.309,707.839 989.049,730.597 1015.79,753.336 \n",
       "  1042.53,776.055 1069.27,798.753 1096.01,821.43 1122.75,844.085 1149.48,866.718 1176.22,889.328 1202.96,911.914 1229.7,934.476 1256.44,957.013 1283.18,979.525 \n",
       "  1309.92,1002.01 1336.66,1024.47 1363.4,1046.91 1390.14,1069.31 1416.88,1091.69 1443.62,1114.04 1470.36,1136.36 1497.1,1158.65 1523.84,1180.92 1550.58,1203.15 \n",
       "  1577.31,1225.36 1604.05,1247.53 1630.79,1269.67 1657.53,1291.79 1684.27,1313.87 1711.01,1335.92 1737.75,1357.94 1764.49,1379.93 1791.23,1401.89 1817.97,1423.82 \n",
       "  1844.71,1445.72 \n",
       "  \"/>\n",
       "<path clip-path=\"url(#clip040)\" d=\"\n",
       "M1965.12 250.738 L2281.45 250.738 L2281.45 95.2176 L1965.12 95.2176  Z\n",
       "  \" fill=\"#ffffff\" fill-rule=\"evenodd\" fill-opacity=\"1\"/>\n",
       "<polyline clip-path=\"url(#clip040)\" style=\"stroke:#000000; stroke-linecap:butt; stroke-linejoin:round; stroke-width:4; stroke-opacity:1; fill:none\" points=\"\n",
       "  1965.12,250.738 2281.45,250.738 2281.45,95.2176 1965.12,95.2176 1965.12,250.738 \n",
       "  \"/>\n",
       "<polyline clip-path=\"url(#clip040)\" style=\"stroke:#009af9; stroke-linecap:butt; stroke-linejoin:round; stroke-width:6; stroke-opacity:1; fill:none\" points=\"\n",
       "  1988.89,172.978 2131.5,172.978 \n",
       "  \"/>\n",
       "<path clip-path=\"url(#clip040)\" d=\"M2176.03 202.509 Q2173.32 209.453 2170.75 211.571 Q2168.19 213.689 2163.88 213.689 L2158.78 213.689 L2158.78 208.342 L2162.53 208.342 Q2165.16 208.342 2166.62 207.092 Q2168.08 205.842 2169.85 201.189 L2171 198.273 L2155.27 160.009 L2162.04 160.009 L2174.19 190.425 L2186.35 160.009 L2193.12 160.009 L2176.03 202.509 Z\" fill=\"#000000\" fill-rule=\"evenodd\" fill-opacity=\"1\" /><path clip-path=\"url(#clip040)\" d=\"M2204.05 192.995 L2215.51 192.995 L2215.51 153.446 L2203.05 155.946 L2203.05 149.558 L2215.44 147.058 L2222.46 147.058 L2222.46 192.995 L2233.91 192.995 L2233.91 198.898 L2204.05 198.898 L2204.05 192.995 Z\" fill=\"#000000\" fill-rule=\"evenodd\" fill-opacity=\"1\" /></svg>\n"
      ]
     },
     "execution_count": 3,
     "metadata": {},
     "output_type": "execute_result"
    }
   ],
   "source": [
    "A = [1 1; 1 8]\n",
    "@show cond(A)\n",
    "loss(c) = .5 * c' * A * c\n",
    "grad(c) = A * c\n",
    "\n",
    "c, chist, lhist = grad_descent(loss, grad, [.9, .9],\n",
    "    gamma=.22)\n",
    "plot(lhist, yscale=:log10, xlims=(0, 80))"
   ]
  },
  {
   "cell_type": "code",
   "execution_count": 4,
   "id": "7909e35d",
   "metadata": {
    "cell_style": "split"
   },
   "outputs": [
    {
     "data": {
      "image/svg+xml": [
       "<?xml version=\"1.0\" encoding=\"utf-8\"?>\n",
       "<svg xmlns=\"http://www.w3.org/2000/svg\" xmlns:xlink=\"http://www.w3.org/1999/xlink\" width=\"600\" height=\"400\" viewBox=\"0 0 2400 1600\">\n",
       "<defs>\n",
       "  <clipPath id=\"clip080\">\n",
       "    <rect x=\"0\" y=\"0\" width=\"2400\" height=\"1600\"/>\n",
       "  </clipPath>\n",
       "</defs>\n",
       "<path clip-path=\"url(#clip080)\" d=\"\n",
       "M0 1600 L2400 1600 L2400 0 L0 0  Z\n",
       "  \" fill=\"#ffffff\" fill-rule=\"evenodd\" fill-opacity=\"1\"/>\n",
       "<defs>\n",
       "  <clipPath id=\"clip081\">\n",
       "    <rect x=\"480\" y=\"0\" width=\"1681\" height=\"1600\"/>\n",
       "  </clipPath>\n",
       "</defs>\n",
       "<path clip-path=\"url(#clip080)\" d=\"\n",
       "M193.936 1486.45 L2112.76 1486.45 L2112.76 47.2441 L193.936 47.2441  Z\n",
       "  \" fill=\"#ffffff\" fill-rule=\"evenodd\" fill-opacity=\"1\"/>\n",
       "<defs>\n",
       "  <clipPath id=\"clip082\">\n",
       "    <rect x=\"193\" y=\"47\" width=\"1920\" height=\"1440\"/>\n",
       "  </clipPath>\n",
       "</defs>\n",
       "<polyline clip-path=\"url(#clip082)\" style=\"stroke:#000000; stroke-linecap:butt; stroke-linejoin:round; stroke-width:2; stroke-opacity:0.1; fill:none\" points=\"\n",
       "  248.242,1486.45 248.242,47.2441 \n",
       "  \"/>\n",
       "<polyline clip-path=\"url(#clip082)\" style=\"stroke:#000000; stroke-linecap:butt; stroke-linejoin:round; stroke-width:2; stroke-opacity:0.1; fill:none\" points=\"\n",
       "  700.794,1486.45 700.794,47.2441 \n",
       "  \"/>\n",
       "<polyline clip-path=\"url(#clip082)\" style=\"stroke:#000000; stroke-linecap:butt; stroke-linejoin:round; stroke-width:2; stroke-opacity:0.1; fill:none\" points=\"\n",
       "  1153.35,1486.45 1153.35,47.2441 \n",
       "  \"/>\n",
       "<polyline clip-path=\"url(#clip082)\" style=\"stroke:#000000; stroke-linecap:butt; stroke-linejoin:round; stroke-width:2; stroke-opacity:0.1; fill:none\" points=\"\n",
       "  1605.9,1486.45 1605.9,47.2441 \n",
       "  \"/>\n",
       "<polyline clip-path=\"url(#clip082)\" style=\"stroke:#000000; stroke-linecap:butt; stroke-linejoin:round; stroke-width:2; stroke-opacity:0.1; fill:none\" points=\"\n",
       "  2058.45,1486.45 2058.45,47.2441 \n",
       "  \"/>\n",
       "<polyline clip-path=\"url(#clip080)\" style=\"stroke:#000000; stroke-linecap:butt; stroke-linejoin:round; stroke-width:4; stroke-opacity:1; fill:none\" points=\"\n",
       "  193.936,1486.45 2112.76,1486.45 \n",
       "  \"/>\n",
       "<polyline clip-path=\"url(#clip080)\" style=\"stroke:#000000; stroke-linecap:butt; stroke-linejoin:round; stroke-width:4; stroke-opacity:1; fill:none\" points=\"\n",
       "  248.242,1486.45 248.242,1467.55 \n",
       "  \"/>\n",
       "<polyline clip-path=\"url(#clip080)\" style=\"stroke:#000000; stroke-linecap:butt; stroke-linejoin:round; stroke-width:4; stroke-opacity:1; fill:none\" points=\"\n",
       "  700.794,1486.45 700.794,1467.55 \n",
       "  \"/>\n",
       "<polyline clip-path=\"url(#clip080)\" style=\"stroke:#000000; stroke-linecap:butt; stroke-linejoin:round; stroke-width:4; stroke-opacity:1; fill:none\" points=\"\n",
       "  1153.35,1486.45 1153.35,1467.55 \n",
       "  \"/>\n",
       "<polyline clip-path=\"url(#clip080)\" style=\"stroke:#000000; stroke-linecap:butt; stroke-linejoin:round; stroke-width:4; stroke-opacity:1; fill:none\" points=\"\n",
       "  1605.9,1486.45 1605.9,1467.55 \n",
       "  \"/>\n",
       "<polyline clip-path=\"url(#clip080)\" style=\"stroke:#000000; stroke-linecap:butt; stroke-linejoin:round; stroke-width:4; stroke-opacity:1; fill:none\" points=\"\n",
       "  2058.45,1486.45 2058.45,1467.55 \n",
       "  \"/>\n",
       "<path clip-path=\"url(#clip080)\" d=\"M194.77 1532.02 L224.446 1532.02 L224.446 1535.95 L194.77 1535.95 L194.77 1532.02 Z\" fill=\"#000000\" fill-rule=\"evenodd\" fill-opacity=\"1\" /><path clip-path=\"url(#clip080)\" d=\"M235.349 1544.91 L242.988 1544.91 L242.988 1518.55 L234.677 1520.21 L234.677 1515.95 L242.941 1514.29 L247.617 1514.29 L247.617 1544.91 L255.256 1544.91 L255.256 1548.85 L235.349 1548.85 L235.349 1544.91 Z\" fill=\"#000000\" fill-rule=\"evenodd\" fill-opacity=\"1\" /><path clip-path=\"url(#clip080)\" d=\"M264.7 1542.97 L269.585 1542.97 L269.585 1548.85 L264.7 1548.85 L264.7 1542.97 Z\" fill=\"#000000\" fill-rule=\"evenodd\" fill-opacity=\"1\" /><path clip-path=\"url(#clip080)\" d=\"M289.77 1517.37 Q286.159 1517.37 284.33 1520.93 Q282.524 1524.47 282.524 1531.6 Q282.524 1538.71 284.33 1542.27 Q286.159 1545.82 289.77 1545.82 Q293.404 1545.82 295.21 1542.27 Q297.038 1538.71 297.038 1531.6 Q297.038 1524.47 295.21 1520.93 Q293.404 1517.37 289.77 1517.37 M289.77 1513.66 Q295.58 1513.66 298.635 1518.27 Q301.714 1522.85 301.714 1531.6 Q301.714 1540.33 298.635 1544.94 Q295.58 1549.52 289.77 1549.52 Q283.96 1549.52 280.881 1544.94 Q277.825 1540.33 277.825 1531.6 Q277.825 1522.85 280.881 1518.27 Q283.96 1513.66 289.77 1513.66 Z\" fill=\"#000000\" fill-rule=\"evenodd\" fill-opacity=\"1\" /><path clip-path=\"url(#clip080)\" d=\"M647.82 1532.02 L677.496 1532.02 L677.496 1535.95 L647.82 1535.95 L647.82 1532.02 Z\" fill=\"#000000\" fill-rule=\"evenodd\" fill-opacity=\"1\" /><path clip-path=\"url(#clip080)\" d=\"M697.588 1517.37 Q693.977 1517.37 692.148 1520.93 Q690.343 1524.47 690.343 1531.6 Q690.343 1538.71 692.148 1542.27 Q693.977 1545.82 697.588 1545.82 Q701.222 1545.82 703.028 1542.27 Q704.857 1538.71 704.857 1531.6 Q704.857 1524.47 703.028 1520.93 Q701.222 1517.37 697.588 1517.37 M697.588 1513.66 Q703.398 1513.66 706.454 1518.27 Q709.532 1522.85 709.532 1531.6 Q709.532 1540.33 706.454 1544.94 Q703.398 1549.52 697.588 1549.52 Q691.778 1549.52 688.699 1544.94 Q685.644 1540.33 685.644 1531.6 Q685.644 1522.85 688.699 1518.27 Q691.778 1513.66 697.588 1513.66 Z\" fill=\"#000000\" fill-rule=\"evenodd\" fill-opacity=\"1\" /><path clip-path=\"url(#clip080)\" d=\"M717.75 1542.97 L722.634 1542.97 L722.634 1548.85 L717.75 1548.85 L717.75 1542.97 Z\" fill=\"#000000\" fill-rule=\"evenodd\" fill-opacity=\"1\" /><path clip-path=\"url(#clip080)\" d=\"M732.866 1514.29 L751.222 1514.29 L751.222 1518.22 L737.148 1518.22 L737.148 1526.7 Q738.167 1526.35 739.185 1526.19 Q740.204 1526 741.222 1526 Q747.009 1526 750.389 1529.17 Q753.768 1532.34 753.768 1537.76 Q753.768 1543.34 750.296 1546.44 Q746.824 1549.52 740.505 1549.52 Q738.329 1549.52 736.06 1549.15 Q733.815 1548.78 731.407 1548.04 L731.407 1543.34 Q733.491 1544.47 735.713 1545.03 Q737.935 1545.58 740.412 1545.58 Q744.417 1545.58 746.754 1543.48 Q749.092 1541.37 749.092 1537.76 Q749.092 1534.15 746.754 1532.04 Q744.417 1529.94 740.412 1529.94 Q738.537 1529.94 736.662 1530.35 Q734.81 1530.77 732.866 1531.65 L732.866 1514.29 Z\" fill=\"#000000\" fill-rule=\"evenodd\" fill-opacity=\"1\" /><path clip-path=\"url(#clip080)\" d=\"M1130.73 1517.37 Q1127.12 1517.37 1125.29 1520.93 Q1123.49 1524.47 1123.49 1531.6 Q1123.49 1538.71 1125.29 1542.27 Q1127.12 1545.82 1130.73 1545.82 Q1134.36 1545.82 1136.17 1542.27 Q1138 1538.71 1138 1531.6 Q1138 1524.47 1136.17 1520.93 Q1134.36 1517.37 1130.73 1517.37 M1130.73 1513.66 Q1136.54 1513.66 1139.6 1518.27 Q1142.67 1522.85 1142.67 1531.6 Q1142.67 1540.33 1139.6 1544.94 Q1136.54 1549.52 1130.73 1549.52 Q1124.92 1549.52 1121.84 1544.94 Q1118.79 1540.33 1118.79 1531.6 Q1118.79 1522.85 1121.84 1518.27 Q1124.92 1513.66 1130.73 1513.66 Z\" fill=\"#000000\" fill-rule=\"evenodd\" fill-opacity=\"1\" /><path clip-path=\"url(#clip080)\" d=\"M1150.89 1542.97 L1155.78 1542.97 L1155.78 1548.85 L1150.89 1548.85 L1150.89 1542.97 Z\" fill=\"#000000\" fill-rule=\"evenodd\" fill-opacity=\"1\" /><path clip-path=\"url(#clip080)\" d=\"M1175.96 1517.37 Q1172.35 1517.37 1170.52 1520.93 Q1168.72 1524.47 1168.72 1531.6 Q1168.72 1538.71 1170.52 1542.27 Q1172.35 1545.82 1175.96 1545.82 Q1179.6 1545.82 1181.4 1542.27 Q1183.23 1538.71 1183.23 1531.6 Q1183.23 1524.47 1181.4 1520.93 Q1179.6 1517.37 1175.96 1517.37 M1175.96 1513.66 Q1181.77 1513.66 1184.83 1518.27 Q1187.91 1522.85 1187.91 1531.6 Q1187.91 1540.33 1184.83 1544.94 Q1181.77 1549.52 1175.96 1549.52 Q1170.15 1549.52 1167.07 1544.94 Q1164.02 1540.33 1164.02 1531.6 Q1164.02 1522.85 1167.07 1518.27 Q1170.15 1513.66 1175.96 1513.66 Z\" fill=\"#000000\" fill-rule=\"evenodd\" fill-opacity=\"1\" /><path clip-path=\"url(#clip080)\" d=\"M1583.78 1517.37 Q1580.17 1517.37 1578.34 1520.93 Q1576.53 1524.47 1576.53 1531.6 Q1576.53 1538.71 1578.34 1542.27 Q1580.17 1545.82 1583.78 1545.82 Q1587.41 1545.82 1589.22 1542.27 Q1591.05 1538.71 1591.05 1531.6 Q1591.05 1524.47 1589.22 1520.93 Q1587.41 1517.37 1583.78 1517.37 M1583.78 1513.66 Q1589.59 1513.66 1592.65 1518.27 Q1595.72 1522.85 1595.72 1531.6 Q1595.72 1540.33 1592.65 1544.94 Q1589.59 1549.52 1583.78 1549.52 Q1577.97 1549.52 1574.89 1544.94 Q1571.84 1540.33 1571.84 1531.6 Q1571.84 1522.85 1574.89 1518.27 Q1577.97 1513.66 1583.78 1513.66 Z\" fill=\"#000000\" fill-rule=\"evenodd\" fill-opacity=\"1\" /><path clip-path=\"url(#clip080)\" d=\"M1603.94 1542.97 L1608.83 1542.97 L1608.83 1548.85 L1603.94 1548.85 L1603.94 1542.97 Z\" fill=\"#000000\" fill-rule=\"evenodd\" fill-opacity=\"1\" /><path clip-path=\"url(#clip080)\" d=\"M1619.06 1514.29 L1637.41 1514.29 L1637.41 1518.22 L1623.34 1518.22 L1623.34 1526.7 Q1624.36 1526.35 1625.38 1526.19 Q1626.4 1526 1627.41 1526 Q1633.2 1526 1636.58 1529.17 Q1639.96 1532.34 1639.96 1537.76 Q1639.96 1543.34 1636.49 1546.44 Q1633.02 1549.52 1626.7 1549.52 Q1624.52 1549.52 1622.25 1549.15 Q1620.01 1548.78 1617.6 1548.04 L1617.6 1543.34 Q1619.68 1544.47 1621.9 1545.03 Q1624.13 1545.58 1626.6 1545.58 Q1630.61 1545.58 1632.95 1543.48 Q1635.28 1541.37 1635.28 1537.76 Q1635.28 1534.15 1632.95 1532.04 Q1630.61 1529.94 1626.6 1529.94 Q1624.73 1529.94 1622.85 1530.35 Q1621 1530.77 1619.06 1531.65 L1619.06 1514.29 Z\" fill=\"#000000\" fill-rule=\"evenodd\" fill-opacity=\"1\" /><path clip-path=\"url(#clip080)\" d=\"M2025.6 1544.91 L2033.24 1544.91 L2033.24 1518.55 L2024.93 1520.21 L2024.93 1515.95 L2033.2 1514.29 L2037.87 1514.29 L2037.87 1544.91 L2045.51 1544.91 L2045.51 1548.85 L2025.6 1548.85 L2025.6 1544.91 Z\" fill=\"#000000\" fill-rule=\"evenodd\" fill-opacity=\"1\" /><path clip-path=\"url(#clip080)\" d=\"M2054.95 1542.97 L2059.84 1542.97 L2059.84 1548.85 L2054.95 1548.85 L2054.95 1542.97 Z\" fill=\"#000000\" fill-rule=\"evenodd\" fill-opacity=\"1\" /><path clip-path=\"url(#clip080)\" d=\"M2080.02 1517.37 Q2076.41 1517.37 2074.58 1520.93 Q2072.78 1524.47 2072.78 1531.6 Q2072.78 1538.71 2074.58 1542.27 Q2076.41 1545.82 2080.02 1545.82 Q2083.66 1545.82 2085.46 1542.27 Q2087.29 1538.71 2087.29 1531.6 Q2087.29 1524.47 2085.46 1520.93 Q2083.66 1517.37 2080.02 1517.37 M2080.02 1513.66 Q2085.83 1513.66 2088.89 1518.27 Q2091.97 1522.85 2091.97 1531.6 Q2091.97 1540.33 2088.89 1544.94 Q2085.83 1549.52 2080.02 1549.52 Q2074.21 1549.52 2071.13 1544.94 Q2068.08 1540.33 2068.08 1531.6 Q2068.08 1522.85 2071.13 1518.27 Q2074.21 1513.66 2080.02 1513.66 Z\" fill=\"#000000\" fill-rule=\"evenodd\" fill-opacity=\"1\" /><polyline clip-path=\"url(#clip082)\" style=\"stroke:#000000; stroke-linecap:butt; stroke-linejoin:round; stroke-width:2; stroke-opacity:0.1; fill:none\" points=\"\n",
       "  193.936,1445.72 2112.76,1445.72 \n",
       "  \"/>\n",
       "<polyline clip-path=\"url(#clip082)\" style=\"stroke:#000000; stroke-linecap:butt; stroke-linejoin:round; stroke-width:2; stroke-opacity:0.1; fill:none\" points=\"\n",
       "  193.936,1106.28 2112.76,1106.28 \n",
       "  \"/>\n",
       "<polyline clip-path=\"url(#clip082)\" style=\"stroke:#000000; stroke-linecap:butt; stroke-linejoin:round; stroke-width:2; stroke-opacity:0.1; fill:none\" points=\"\n",
       "  193.936,766.846 2112.76,766.846 \n",
       "  \"/>\n",
       "<polyline clip-path=\"url(#clip082)\" style=\"stroke:#000000; stroke-linecap:butt; stroke-linejoin:round; stroke-width:2; stroke-opacity:0.1; fill:none\" points=\"\n",
       "  193.936,427.411 2112.76,427.411 \n",
       "  \"/>\n",
       "<polyline clip-path=\"url(#clip082)\" style=\"stroke:#000000; stroke-linecap:butt; stroke-linejoin:round; stroke-width:2; stroke-opacity:0.1; fill:none\" points=\"\n",
       "  193.936,87.9763 2112.76,87.9763 \n",
       "  \"/>\n",
       "<polyline clip-path=\"url(#clip080)\" style=\"stroke:#000000; stroke-linecap:butt; stroke-linejoin:round; stroke-width:4; stroke-opacity:1; fill:none\" points=\"\n",
       "  193.936,1486.45 193.936,47.2441 \n",
       "  \"/>\n",
       "<polyline clip-path=\"url(#clip080)\" style=\"stroke:#000000; stroke-linecap:butt; stroke-linejoin:round; stroke-width:4; stroke-opacity:1; fill:none\" points=\"\n",
       "  193.936,1445.72 210.733,1445.72 \n",
       "  \"/>\n",
       "<polyline clip-path=\"url(#clip080)\" style=\"stroke:#000000; stroke-linecap:butt; stroke-linejoin:round; stroke-width:4; stroke-opacity:1; fill:none\" points=\"\n",
       "  193.936,1106.28 210.733,1106.28 \n",
       "  \"/>\n",
       "<polyline clip-path=\"url(#clip080)\" style=\"stroke:#000000; stroke-linecap:butt; stroke-linejoin:round; stroke-width:4; stroke-opacity:1; fill:none\" points=\"\n",
       "  193.936,766.846 210.733,766.846 \n",
       "  \"/>\n",
       "<polyline clip-path=\"url(#clip080)\" style=\"stroke:#000000; stroke-linecap:butt; stroke-linejoin:round; stroke-width:4; stroke-opacity:1; fill:none\" points=\"\n",
       "  193.936,427.411 210.733,427.411 \n",
       "  \"/>\n",
       "<polyline clip-path=\"url(#clip080)\" style=\"stroke:#000000; stroke-linecap:butt; stroke-linejoin:round; stroke-width:4; stroke-opacity:1; fill:none\" points=\"\n",
       "  193.936,87.9763 210.733,87.9763 \n",
       "  \"/>\n",
       "<path clip-path=\"url(#clip080)\" d=\"M50.9921 1446.17 L80.6679 1446.17 L80.6679 1450.1 L50.9921 1450.1 L50.9921 1446.17 Z\" fill=\"#000000\" fill-rule=\"evenodd\" fill-opacity=\"1\" /><path clip-path=\"url(#clip080)\" d=\"M91.5706 1459.06 L99.2095 1459.06 L99.2095 1432.69 L90.8993 1434.36 L90.8993 1430.1 L99.1632 1428.44 L103.839 1428.44 L103.839 1459.06 L111.478 1459.06 L111.478 1463 L91.5706 1463 L91.5706 1459.06 Z\" fill=\"#000000\" fill-rule=\"evenodd\" fill-opacity=\"1\" /><path clip-path=\"url(#clip080)\" d=\"M120.922 1457.12 L125.807 1457.12 L125.807 1463 L120.922 1463 L120.922 1457.12 Z\" fill=\"#000000\" fill-rule=\"evenodd\" fill-opacity=\"1\" /><path clip-path=\"url(#clip080)\" d=\"M145.992 1431.51 Q142.381 1431.51 140.552 1435.08 Q138.746 1438.62 138.746 1445.75 Q138.746 1452.86 140.552 1456.42 Q142.381 1459.96 145.992 1459.96 Q149.626 1459.96 151.431 1456.42 Q153.26 1452.86 153.26 1445.75 Q153.26 1438.62 151.431 1435.08 Q149.626 1431.51 145.992 1431.51 M145.992 1427.81 Q151.802 1427.81 154.857 1432.42 Q157.936 1437 157.936 1445.75 Q157.936 1454.48 154.857 1459.08 Q151.802 1463.67 145.992 1463.67 Q140.181 1463.67 137.103 1459.08 Q134.047 1454.48 134.047 1445.75 Q134.047 1437 137.103 1432.42 Q140.181 1427.81 145.992 1427.81 Z\" fill=\"#000000\" fill-rule=\"evenodd\" fill-opacity=\"1\" /><path clip-path=\"url(#clip080)\" d=\"M51.9875 1106.73 L81.6633 1106.73 L81.6633 1110.67 L51.9875 1110.67 L51.9875 1106.73 Z\" fill=\"#000000\" fill-rule=\"evenodd\" fill-opacity=\"1\" /><path clip-path=\"url(#clip080)\" d=\"M101.756 1092.08 Q98.1447 1092.08 96.316 1095.64 Q94.5104 1099.19 94.5104 1106.32 Q94.5104 1113.42 96.316 1116.99 Q98.1447 1120.53 101.756 1120.53 Q105.39 1120.53 107.196 1116.99 Q109.024 1113.42 109.024 1106.32 Q109.024 1099.19 107.196 1095.64 Q105.39 1092.08 101.756 1092.08 M101.756 1088.38 Q107.566 1088.38 110.621 1092.98 Q113.7 1097.57 113.7 1106.32 Q113.7 1115.04 110.621 1119.65 Q107.566 1124.23 101.756 1124.23 Q95.9456 1124.23 92.8669 1119.65 Q89.8114 1115.04 89.8114 1106.32 Q89.8114 1097.57 92.8669 1092.98 Q95.9456 1088.38 101.756 1088.38 Z\" fill=\"#000000\" fill-rule=\"evenodd\" fill-opacity=\"1\" /><path clip-path=\"url(#clip080)\" d=\"M121.918 1117.68 L126.802 1117.68 L126.802 1123.56 L121.918 1123.56 L121.918 1117.68 Z\" fill=\"#000000\" fill-rule=\"evenodd\" fill-opacity=\"1\" /><path clip-path=\"url(#clip080)\" d=\"M137.033 1089 L155.39 1089 L155.39 1092.94 L141.316 1092.94 L141.316 1101.41 Q142.334 1101.06 143.353 1100.9 Q144.371 1100.71 145.39 1100.71 Q151.177 1100.71 154.556 1103.89 Q157.936 1107.06 157.936 1112.47 Q157.936 1118.05 154.464 1121.15 Q150.992 1124.23 144.672 1124.23 Q142.496 1124.23 140.228 1123.86 Q137.982 1123.49 135.575 1122.75 L135.575 1118.05 Q137.658 1119.19 139.881 1119.74 Q142.103 1120.3 144.58 1120.3 Q148.584 1120.3 150.922 1118.19 Q153.26 1116.08 153.26 1112.47 Q153.26 1108.86 150.922 1106.76 Q148.584 1104.65 144.58 1104.65 Q142.705 1104.65 140.83 1105.07 Q138.978 1105.48 137.033 1106.36 L137.033 1089 Z\" fill=\"#000000\" fill-rule=\"evenodd\" fill-opacity=\"1\" /><path clip-path=\"url(#clip080)\" d=\"M100.76 752.645 Q97.1493 752.645 95.3206 756.209 Q93.515 759.751 93.515 766.881 Q93.515 773.987 95.3206 777.552 Q97.1493 781.094 100.76 781.094 Q104.395 781.094 106.2 777.552 Q108.029 773.987 108.029 766.881 Q108.029 759.751 106.2 756.209 Q104.395 752.645 100.76 752.645 M100.76 748.941 Q106.571 748.941 109.626 753.547 Q112.705 758.131 112.705 766.881 Q112.705 775.608 109.626 780.214 Q106.571 784.797 100.76 784.797 Q94.9502 784.797 91.8715 780.214 Q88.816 775.608 88.816 766.881 Q88.816 758.131 91.8715 753.547 Q94.9502 748.941 100.76 748.941 Z\" fill=\"#000000\" fill-rule=\"evenodd\" fill-opacity=\"1\" /><path clip-path=\"url(#clip080)\" d=\"M120.922 778.246 L125.807 778.246 L125.807 784.126 L120.922 784.126 L120.922 778.246 Z\" fill=\"#000000\" fill-rule=\"evenodd\" fill-opacity=\"1\" /><path clip-path=\"url(#clip080)\" d=\"M145.992 752.645 Q142.381 752.645 140.552 756.209 Q138.746 759.751 138.746 766.881 Q138.746 773.987 140.552 777.552 Q142.381 781.094 145.992 781.094 Q149.626 781.094 151.431 777.552 Q153.26 773.987 153.26 766.881 Q153.26 759.751 151.431 756.209 Q149.626 752.645 145.992 752.645 M145.992 748.941 Q151.802 748.941 154.857 753.547 Q157.936 758.131 157.936 766.881 Q157.936 775.608 154.857 780.214 Q151.802 784.797 145.992 784.797 Q140.181 784.797 137.103 780.214 Q134.047 775.608 134.047 766.881 Q134.047 758.131 137.103 753.547 Q140.181 748.941 145.992 748.941 Z\" fill=\"#000000\" fill-rule=\"evenodd\" fill-opacity=\"1\" /><path clip-path=\"url(#clip080)\" d=\"M101.756 413.21 Q98.1447 413.21 96.316 416.775 Q94.5104 420.316 94.5104 427.446 Q94.5104 434.552 96.316 438.117 Q98.1447 441.659 101.756 441.659 Q105.39 441.659 107.196 438.117 Q109.024 434.552 109.024 427.446 Q109.024 420.316 107.196 416.775 Q105.39 413.21 101.756 413.21 M101.756 409.506 Q107.566 409.506 110.621 414.113 Q113.7 418.696 113.7 427.446 Q113.7 436.173 110.621 440.779 Q107.566 445.362 101.756 445.362 Q95.9456 445.362 92.8669 440.779 Q89.8114 436.173 89.8114 427.446 Q89.8114 418.696 92.8669 414.113 Q95.9456 409.506 101.756 409.506 Z\" fill=\"#000000\" fill-rule=\"evenodd\" fill-opacity=\"1\" /><path clip-path=\"url(#clip080)\" d=\"M121.918 438.812 L126.802 438.812 L126.802 444.691 L121.918 444.691 L121.918 438.812 Z\" fill=\"#000000\" fill-rule=\"evenodd\" fill-opacity=\"1\" /><path clip-path=\"url(#clip080)\" d=\"M137.033 410.131 L155.39 410.131 L155.39 414.066 L141.316 414.066 L141.316 422.538 Q142.334 422.191 143.353 422.029 Q144.371 421.844 145.39 421.844 Q151.177 421.844 154.556 425.015 Q157.936 428.187 157.936 433.603 Q157.936 439.182 154.464 442.284 Q150.992 445.362 144.672 445.362 Q142.496 445.362 140.228 444.992 Q137.982 444.622 135.575 443.881 L135.575 439.182 Q137.658 440.316 139.881 440.872 Q142.103 441.427 144.58 441.427 Q148.584 441.427 150.922 439.321 Q153.26 437.214 153.26 433.603 Q153.26 429.992 150.922 427.886 Q148.584 425.779 144.58 425.779 Q142.705 425.779 140.83 426.196 Q138.978 426.613 137.033 427.492 L137.033 410.131 Z\" fill=\"#000000\" fill-rule=\"evenodd\" fill-opacity=\"1\" /><path clip-path=\"url(#clip080)\" d=\"M91.5706 101.321 L99.2095 101.321 L99.2095 74.9555 L90.8993 76.6222 L90.8993 72.3629 L99.1632 70.6963 L103.839 70.6963 L103.839 101.321 L111.478 101.321 L111.478 105.256 L91.5706 105.256 L91.5706 101.321 Z\" fill=\"#000000\" fill-rule=\"evenodd\" fill-opacity=\"1\" /><path clip-path=\"url(#clip080)\" d=\"M120.922 99.3767 L125.807 99.3767 L125.807 105.256 L120.922 105.256 L120.922 99.3767 Z\" fill=\"#000000\" fill-rule=\"evenodd\" fill-opacity=\"1\" /><path clip-path=\"url(#clip080)\" d=\"M145.992 73.775 Q142.381 73.775 140.552 77.3398 Q138.746 80.8814 138.746 88.011 Q138.746 95.1174 140.552 98.6822 Q142.381 102.224 145.992 102.224 Q149.626 102.224 151.431 98.6822 Q153.26 95.1174 153.26 88.011 Q153.26 80.8814 151.431 77.3398 Q149.626 73.775 145.992 73.775 M145.992 70.0713 Q151.802 70.0713 154.857 74.6777 Q157.936 79.261 157.936 88.011 Q157.936 96.7378 154.857 101.344 Q151.802 105.928 145.992 105.928 Q140.181 105.928 137.103 101.344 Q134.047 96.7378 134.047 88.011 Q134.047 79.261 137.103 74.6777 Q140.181 70.0713 145.992 70.0713 Z\" fill=\"#000000\" fill-rule=\"evenodd\" fill-opacity=\"1\" /><polyline clip-path=\"url(#clip082)\" style=\"stroke:#009af9; stroke-linecap:butt; stroke-linejoin:round; stroke-width:16; stroke-opacity:1; fill:none\" points=\"\n",
       "  1967.94,155.863 1609.52,1365.61 1684.79,387.059 1456.47,1143.18 1500.17,530.853 1354.65,1003.43 1379.75,620.259 1286.95,915.612 1301.19,675.83 1241.97,860.414 \n",
       "  1249.92,710.358 1212.1,825.712 1216.44,731.803 1192.28,803.89 1194.58,745.117 1179.14,790.164 1180.3,753.38 1170.42,781.528 1170.97,758.505 1164.65,776.093 \n",
       "  1164.87,761.683 1160.82,772.672 1160.89,763.652 1158.29,770.518 1158.28,764.871 1156.62,769.161 1156.58,765.626 1155.51,768.306 1155.46,766.093 1154.77,767.767 \n",
       "  1154.73,766.382 1154.29,767.427 1154.25,766.56 1153.97,767.213 1153.94,766.67 1153.76,767.078 1153.73,766.738 1153.62,766.992 1153.6,766.779 1153.53,766.939 \n",
       "  1153.51,766.805 1153.46,766.905 1153.46,766.821 1153.42,766.883 1153.42,766.831 1153.4,766.869 1153.39,766.837 1153.38,766.861 1153.38,766.84 1153.37,766.855 \n",
       "  1153.37,766.843 1153.36,766.852 1153.36,766.844 1153.36,766.85 1153.35,766.845 1153.35,766.848 1153.35,766.845 1153.35,766.848 1153.35,766.846 1153.35,766.847 \n",
       "  1153.35,766.846 \n",
       "  \"/>\n",
       "<circle clip-path=\"url(#clip082)\" cx=\"1967.94\" cy=\"155.863\" r=\"14\" fill=\"#009af9\" fill-rule=\"evenodd\" fill-opacity=\"1\" stroke=\"#000000\" stroke-opacity=\"1\" stroke-width=\"3.2\"/>\n",
       "<circle clip-path=\"url(#clip082)\" cx=\"1609.52\" cy=\"1365.61\" r=\"14\" fill=\"#009af9\" fill-rule=\"evenodd\" fill-opacity=\"1\" stroke=\"#000000\" stroke-opacity=\"1\" stroke-width=\"3.2\"/>\n",
       "<circle clip-path=\"url(#clip082)\" cx=\"1684.79\" cy=\"387.059\" r=\"14\" fill=\"#009af9\" fill-rule=\"evenodd\" fill-opacity=\"1\" stroke=\"#000000\" stroke-opacity=\"1\" stroke-width=\"3.2\"/>\n",
       "<circle clip-path=\"url(#clip082)\" cx=\"1456.47\" cy=\"1143.18\" r=\"14\" fill=\"#009af9\" fill-rule=\"evenodd\" fill-opacity=\"1\" stroke=\"#000000\" stroke-opacity=\"1\" stroke-width=\"3.2\"/>\n",
       "<circle clip-path=\"url(#clip082)\" cx=\"1500.17\" cy=\"530.853\" r=\"14\" fill=\"#009af9\" fill-rule=\"evenodd\" fill-opacity=\"1\" stroke=\"#000000\" stroke-opacity=\"1\" stroke-width=\"3.2\"/>\n",
       "<circle clip-path=\"url(#clip082)\" cx=\"1354.65\" cy=\"1003.43\" r=\"14\" fill=\"#009af9\" fill-rule=\"evenodd\" fill-opacity=\"1\" stroke=\"#000000\" stroke-opacity=\"1\" stroke-width=\"3.2\"/>\n",
       "<circle clip-path=\"url(#clip082)\" cx=\"1379.75\" cy=\"620.259\" r=\"14\" fill=\"#009af9\" fill-rule=\"evenodd\" fill-opacity=\"1\" stroke=\"#000000\" stroke-opacity=\"1\" stroke-width=\"3.2\"/>\n",
       "<circle clip-path=\"url(#clip082)\" cx=\"1286.95\" cy=\"915.612\" r=\"14\" fill=\"#009af9\" fill-rule=\"evenodd\" fill-opacity=\"1\" stroke=\"#000000\" stroke-opacity=\"1\" stroke-width=\"3.2\"/>\n",
       "<circle clip-path=\"url(#clip082)\" cx=\"1301.19\" cy=\"675.83\" r=\"14\" fill=\"#009af9\" fill-rule=\"evenodd\" fill-opacity=\"1\" stroke=\"#000000\" stroke-opacity=\"1\" stroke-width=\"3.2\"/>\n",
       "<circle clip-path=\"url(#clip082)\" cx=\"1241.97\" cy=\"860.414\" r=\"14\" fill=\"#009af9\" fill-rule=\"evenodd\" fill-opacity=\"1\" stroke=\"#000000\" stroke-opacity=\"1\" stroke-width=\"3.2\"/>\n",
       "<circle clip-path=\"url(#clip082)\" cx=\"1249.92\" cy=\"710.358\" r=\"14\" fill=\"#009af9\" fill-rule=\"evenodd\" fill-opacity=\"1\" stroke=\"#000000\" stroke-opacity=\"1\" stroke-width=\"3.2\"/>\n",
       "<circle clip-path=\"url(#clip082)\" cx=\"1212.1\" cy=\"825.712\" r=\"14\" fill=\"#009af9\" fill-rule=\"evenodd\" fill-opacity=\"1\" stroke=\"#000000\" stroke-opacity=\"1\" stroke-width=\"3.2\"/>\n",
       "<circle clip-path=\"url(#clip082)\" cx=\"1216.44\" cy=\"731.803\" r=\"14\" fill=\"#009af9\" fill-rule=\"evenodd\" fill-opacity=\"1\" stroke=\"#000000\" stroke-opacity=\"1\" stroke-width=\"3.2\"/>\n",
       "<circle clip-path=\"url(#clip082)\" cx=\"1192.28\" cy=\"803.89\" r=\"14\" fill=\"#009af9\" fill-rule=\"evenodd\" fill-opacity=\"1\" stroke=\"#000000\" stroke-opacity=\"1\" stroke-width=\"3.2\"/>\n",
       "<circle clip-path=\"url(#clip082)\" cx=\"1194.58\" cy=\"745.117\" r=\"14\" fill=\"#009af9\" fill-rule=\"evenodd\" fill-opacity=\"1\" stroke=\"#000000\" stroke-opacity=\"1\" stroke-width=\"3.2\"/>\n",
       "<circle clip-path=\"url(#clip082)\" cx=\"1179.14\" cy=\"790.164\" r=\"14\" fill=\"#009af9\" fill-rule=\"evenodd\" fill-opacity=\"1\" stroke=\"#000000\" stroke-opacity=\"1\" stroke-width=\"3.2\"/>\n",
       "<circle clip-path=\"url(#clip082)\" cx=\"1180.3\" cy=\"753.38\" r=\"14\" fill=\"#009af9\" fill-rule=\"evenodd\" fill-opacity=\"1\" stroke=\"#000000\" stroke-opacity=\"1\" stroke-width=\"3.2\"/>\n",
       "<circle clip-path=\"url(#clip082)\" cx=\"1170.42\" cy=\"781.528\" r=\"14\" fill=\"#009af9\" fill-rule=\"evenodd\" fill-opacity=\"1\" stroke=\"#000000\" stroke-opacity=\"1\" stroke-width=\"3.2\"/>\n",
       "<circle clip-path=\"url(#clip082)\" cx=\"1170.97\" cy=\"758.505\" r=\"14\" fill=\"#009af9\" fill-rule=\"evenodd\" fill-opacity=\"1\" stroke=\"#000000\" stroke-opacity=\"1\" stroke-width=\"3.2\"/>\n",
       "<circle clip-path=\"url(#clip082)\" cx=\"1164.65\" cy=\"776.093\" r=\"14\" fill=\"#009af9\" fill-rule=\"evenodd\" fill-opacity=\"1\" stroke=\"#000000\" stroke-opacity=\"1\" stroke-width=\"3.2\"/>\n",
       "<circle clip-path=\"url(#clip082)\" cx=\"1164.87\" cy=\"761.683\" r=\"14\" fill=\"#009af9\" fill-rule=\"evenodd\" fill-opacity=\"1\" stroke=\"#000000\" stroke-opacity=\"1\" stroke-width=\"3.2\"/>\n",
       "<circle clip-path=\"url(#clip082)\" cx=\"1160.82\" cy=\"772.672\" r=\"14\" fill=\"#009af9\" fill-rule=\"evenodd\" fill-opacity=\"1\" stroke=\"#000000\" stroke-opacity=\"1\" stroke-width=\"3.2\"/>\n",
       "<circle clip-path=\"url(#clip082)\" cx=\"1160.89\" cy=\"763.652\" r=\"14\" fill=\"#009af9\" fill-rule=\"evenodd\" fill-opacity=\"1\" stroke=\"#000000\" stroke-opacity=\"1\" stroke-width=\"3.2\"/>\n",
       "<circle clip-path=\"url(#clip082)\" cx=\"1158.29\" cy=\"770.518\" r=\"14\" fill=\"#009af9\" fill-rule=\"evenodd\" fill-opacity=\"1\" stroke=\"#000000\" stroke-opacity=\"1\" stroke-width=\"3.2\"/>\n",
       "<circle clip-path=\"url(#clip082)\" cx=\"1158.28\" cy=\"764.871\" r=\"14\" fill=\"#009af9\" fill-rule=\"evenodd\" fill-opacity=\"1\" stroke=\"#000000\" stroke-opacity=\"1\" stroke-width=\"3.2\"/>\n",
       "<circle clip-path=\"url(#clip082)\" cx=\"1156.62\" cy=\"769.161\" r=\"14\" fill=\"#009af9\" fill-rule=\"evenodd\" fill-opacity=\"1\" stroke=\"#000000\" stroke-opacity=\"1\" stroke-width=\"3.2\"/>\n",
       "<circle clip-path=\"url(#clip082)\" cx=\"1156.58\" cy=\"765.626\" r=\"14\" fill=\"#009af9\" fill-rule=\"evenodd\" fill-opacity=\"1\" stroke=\"#000000\" stroke-opacity=\"1\" stroke-width=\"3.2\"/>\n",
       "<circle clip-path=\"url(#clip082)\" cx=\"1155.51\" cy=\"768.306\" r=\"14\" fill=\"#009af9\" fill-rule=\"evenodd\" fill-opacity=\"1\" stroke=\"#000000\" stroke-opacity=\"1\" stroke-width=\"3.2\"/>\n",
       "<circle clip-path=\"url(#clip082)\" cx=\"1155.46\" cy=\"766.093\" r=\"14\" fill=\"#009af9\" fill-rule=\"evenodd\" fill-opacity=\"1\" stroke=\"#000000\" stroke-opacity=\"1\" stroke-width=\"3.2\"/>\n",
       "<circle clip-path=\"url(#clip082)\" cx=\"1154.77\" cy=\"767.767\" r=\"14\" fill=\"#009af9\" fill-rule=\"evenodd\" fill-opacity=\"1\" stroke=\"#000000\" stroke-opacity=\"1\" stroke-width=\"3.2\"/>\n",
       "<circle clip-path=\"url(#clip082)\" cx=\"1154.73\" cy=\"766.382\" r=\"14\" fill=\"#009af9\" fill-rule=\"evenodd\" fill-opacity=\"1\" stroke=\"#000000\" stroke-opacity=\"1\" stroke-width=\"3.2\"/>\n",
       "<circle clip-path=\"url(#clip082)\" cx=\"1154.29\" cy=\"767.427\" r=\"14\" fill=\"#009af9\" fill-rule=\"evenodd\" fill-opacity=\"1\" stroke=\"#000000\" stroke-opacity=\"1\" stroke-width=\"3.2\"/>\n",
       "<circle clip-path=\"url(#clip082)\" cx=\"1154.25\" cy=\"766.56\" r=\"14\" fill=\"#009af9\" fill-rule=\"evenodd\" fill-opacity=\"1\" stroke=\"#000000\" stroke-opacity=\"1\" stroke-width=\"3.2\"/>\n",
       "<circle clip-path=\"url(#clip082)\" cx=\"1153.97\" cy=\"767.213\" r=\"14\" fill=\"#009af9\" fill-rule=\"evenodd\" fill-opacity=\"1\" stroke=\"#000000\" stroke-opacity=\"1\" stroke-width=\"3.2\"/>\n",
       "<circle clip-path=\"url(#clip082)\" cx=\"1153.94\" cy=\"766.67\" r=\"14\" fill=\"#009af9\" fill-rule=\"evenodd\" fill-opacity=\"1\" stroke=\"#000000\" stroke-opacity=\"1\" stroke-width=\"3.2\"/>\n",
       "<circle clip-path=\"url(#clip082)\" cx=\"1153.76\" cy=\"767.078\" r=\"14\" fill=\"#009af9\" fill-rule=\"evenodd\" fill-opacity=\"1\" stroke=\"#000000\" stroke-opacity=\"1\" stroke-width=\"3.2\"/>\n",
       "<circle clip-path=\"url(#clip082)\" cx=\"1153.73\" cy=\"766.738\" r=\"14\" fill=\"#009af9\" fill-rule=\"evenodd\" fill-opacity=\"1\" stroke=\"#000000\" stroke-opacity=\"1\" stroke-width=\"3.2\"/>\n",
       "<circle clip-path=\"url(#clip082)\" cx=\"1153.62\" cy=\"766.992\" r=\"14\" fill=\"#009af9\" fill-rule=\"evenodd\" fill-opacity=\"1\" stroke=\"#000000\" stroke-opacity=\"1\" stroke-width=\"3.2\"/>\n",
       "<circle clip-path=\"url(#clip082)\" cx=\"1153.6\" cy=\"766.779\" r=\"14\" fill=\"#009af9\" fill-rule=\"evenodd\" fill-opacity=\"1\" stroke=\"#000000\" stroke-opacity=\"1\" stroke-width=\"3.2\"/>\n",
       "<circle clip-path=\"url(#clip082)\" cx=\"1153.53\" cy=\"766.939\" r=\"14\" fill=\"#009af9\" fill-rule=\"evenodd\" fill-opacity=\"1\" stroke=\"#000000\" stroke-opacity=\"1\" stroke-width=\"3.2\"/>\n",
       "<circle clip-path=\"url(#clip082)\" cx=\"1153.51\" cy=\"766.805\" r=\"14\" fill=\"#009af9\" fill-rule=\"evenodd\" fill-opacity=\"1\" stroke=\"#000000\" stroke-opacity=\"1\" stroke-width=\"3.2\"/>\n",
       "<circle clip-path=\"url(#clip082)\" cx=\"1153.46\" cy=\"766.905\" r=\"14\" fill=\"#009af9\" fill-rule=\"evenodd\" fill-opacity=\"1\" stroke=\"#000000\" stroke-opacity=\"1\" stroke-width=\"3.2\"/>\n",
       "<circle clip-path=\"url(#clip082)\" cx=\"1153.46\" cy=\"766.821\" r=\"14\" fill=\"#009af9\" fill-rule=\"evenodd\" fill-opacity=\"1\" stroke=\"#000000\" stroke-opacity=\"1\" stroke-width=\"3.2\"/>\n",
       "<circle clip-path=\"url(#clip082)\" cx=\"1153.42\" cy=\"766.883\" r=\"14\" fill=\"#009af9\" fill-rule=\"evenodd\" fill-opacity=\"1\" stroke=\"#000000\" stroke-opacity=\"1\" stroke-width=\"3.2\"/>\n",
       "<circle clip-path=\"url(#clip082)\" cx=\"1153.42\" cy=\"766.831\" r=\"14\" fill=\"#009af9\" fill-rule=\"evenodd\" fill-opacity=\"1\" stroke=\"#000000\" stroke-opacity=\"1\" stroke-width=\"3.2\"/>\n",
       "<circle clip-path=\"url(#clip082)\" cx=\"1153.4\" cy=\"766.869\" r=\"14\" fill=\"#009af9\" fill-rule=\"evenodd\" fill-opacity=\"1\" stroke=\"#000000\" stroke-opacity=\"1\" stroke-width=\"3.2\"/>\n",
       "<circle clip-path=\"url(#clip082)\" cx=\"1153.39\" cy=\"766.837\" r=\"14\" fill=\"#009af9\" fill-rule=\"evenodd\" fill-opacity=\"1\" stroke=\"#000000\" stroke-opacity=\"1\" stroke-width=\"3.2\"/>\n",
       "<circle clip-path=\"url(#clip082)\" cx=\"1153.38\" cy=\"766.861\" r=\"14\" fill=\"#009af9\" fill-rule=\"evenodd\" fill-opacity=\"1\" stroke=\"#000000\" stroke-opacity=\"1\" stroke-width=\"3.2\"/>\n",
       "<circle clip-path=\"url(#clip082)\" cx=\"1153.38\" cy=\"766.84\" r=\"14\" fill=\"#009af9\" fill-rule=\"evenodd\" fill-opacity=\"1\" stroke=\"#000000\" stroke-opacity=\"1\" stroke-width=\"3.2\"/>\n",
       "<circle clip-path=\"url(#clip082)\" cx=\"1153.37\" cy=\"766.855\" r=\"14\" fill=\"#009af9\" fill-rule=\"evenodd\" fill-opacity=\"1\" stroke=\"#000000\" stroke-opacity=\"1\" stroke-width=\"3.2\"/>\n",
       "<circle clip-path=\"url(#clip082)\" cx=\"1153.37\" cy=\"766.843\" r=\"14\" fill=\"#009af9\" fill-rule=\"evenodd\" fill-opacity=\"1\" stroke=\"#000000\" stroke-opacity=\"1\" stroke-width=\"3.2\"/>\n",
       "<circle clip-path=\"url(#clip082)\" cx=\"1153.36\" cy=\"766.852\" r=\"14\" fill=\"#009af9\" fill-rule=\"evenodd\" fill-opacity=\"1\" stroke=\"#000000\" stroke-opacity=\"1\" stroke-width=\"3.2\"/>\n",
       "<circle clip-path=\"url(#clip082)\" cx=\"1153.36\" cy=\"766.844\" r=\"14\" fill=\"#009af9\" fill-rule=\"evenodd\" fill-opacity=\"1\" stroke=\"#000000\" stroke-opacity=\"1\" stroke-width=\"3.2\"/>\n",
       "<circle clip-path=\"url(#clip082)\" cx=\"1153.36\" cy=\"766.85\" r=\"14\" fill=\"#009af9\" fill-rule=\"evenodd\" fill-opacity=\"1\" stroke=\"#000000\" stroke-opacity=\"1\" stroke-width=\"3.2\"/>\n",
       "<circle clip-path=\"url(#clip082)\" cx=\"1153.35\" cy=\"766.845\" r=\"14\" fill=\"#009af9\" fill-rule=\"evenodd\" fill-opacity=\"1\" stroke=\"#000000\" stroke-opacity=\"1\" stroke-width=\"3.2\"/>\n",
       "<circle clip-path=\"url(#clip082)\" cx=\"1153.35\" cy=\"766.848\" r=\"14\" fill=\"#009af9\" fill-rule=\"evenodd\" fill-opacity=\"1\" stroke=\"#000000\" stroke-opacity=\"1\" stroke-width=\"3.2\"/>\n",
       "<circle clip-path=\"url(#clip082)\" cx=\"1153.35\" cy=\"766.845\" r=\"14\" fill=\"#009af9\" fill-rule=\"evenodd\" fill-opacity=\"1\" stroke=\"#000000\" stroke-opacity=\"1\" stroke-width=\"3.2\"/>\n",
       "<circle clip-path=\"url(#clip082)\" cx=\"1153.35\" cy=\"766.848\" r=\"14\" fill=\"#009af9\" fill-rule=\"evenodd\" fill-opacity=\"1\" stroke=\"#000000\" stroke-opacity=\"1\" stroke-width=\"3.2\"/>\n",
       "<circle clip-path=\"url(#clip082)\" cx=\"1153.35\" cy=\"766.846\" r=\"14\" fill=\"#009af9\" fill-rule=\"evenodd\" fill-opacity=\"1\" stroke=\"#000000\" stroke-opacity=\"1\" stroke-width=\"3.2\"/>\n",
       "<circle clip-path=\"url(#clip082)\" cx=\"1153.35\" cy=\"766.847\" r=\"14\" fill=\"#009af9\" fill-rule=\"evenodd\" fill-opacity=\"1\" stroke=\"#000000\" stroke-opacity=\"1\" stroke-width=\"3.2\"/>\n",
       "<circle clip-path=\"url(#clip082)\" cx=\"1153.35\" cy=\"766.846\" r=\"14\" fill=\"#009af9\" fill-rule=\"evenodd\" fill-opacity=\"1\" stroke=\"#000000\" stroke-opacity=\"1\" stroke-width=\"3.2\"/>\n",
       "<polyline clip-path=\"url(#clip082)\" style=\"stroke:#f1e864; stroke-linecap:butt; stroke-linejoin:round; stroke-width:16; stroke-opacity:1; fill:none\" points=\"\n",
       "  248.242,1418.99 310.663,1429.41 373.084,1439.62 411.288,1445.72 \n",
       "  \"/>\n",
       "<polyline clip-path=\"url(#clip082)\" style=\"stroke:#f98c09; stroke-linecap:butt; stroke-linejoin:round; stroke-width:16; stroke-opacity:1; fill:none\" points=\"\n",
       "  248.242,1333.49 310.663,1344.65 353.195,1352.08 373.084,1355.34 435.505,1365.3 497.926,1375.03 560.347,1384.51 622.768,1393.75 658.696,1398.9 685.189,1402.47 \n",
       "  747.61,1410.6 810.031,1418.47 872.452,1426.07 934.873,1433.4 997.294,1440.45 1046,1445.72 \n",
       "  \"/>\n",
       "<polyline clip-path=\"url(#clip082)\" style=\"stroke:#fbaa0e; stroke-linecap:butt; stroke-linejoin:round; stroke-width:16; stroke-opacity:1; fill:none\" points=\"\n",
       "  798.327,1445.72 747.61,1439.13 685.189,1430.77 622.768,1422.15 560.347,1413.29 497.926,1404.19 462.655,1398.9 435.505,1394.58 373.084,1384.37 310.663,1373.93 \n",
       "  248.242,1363.28 \n",
       "  \"/>\n",
       "<polyline clip-path=\"url(#clip082)\" style=\"stroke:#f8c931; stroke-linecap:butt; stroke-linejoin:round; stroke-width:16; stroke-opacity:1; fill:none\" points=\"\n",
       "  248.242,1391.81 288.958,1398.9 310.663,1402.46 373.084,1412.46 435.505,1422.24 497.926,1431.79 560.347,1441.12 592.055,1445.72 \n",
       "  \"/>\n",
       "<polyline clip-path=\"url(#clip082)\" style=\"stroke:#ba3655; stroke-linecap:butt; stroke-linejoin:round; stroke-width:16; stroke-opacity:1; fill:none\" points=\"\n",
       "  248.242,1197.96 310.663,1210.66 315.518,1211.62 373.084,1222.13 435.505,1233.24 497.926,1244.09 560.347,1254.65 583.555,1258.44 622.768,1264.38 685.189,1273.52 \n",
       "  747.61,1282.35 810.031,1290.86 872.452,1299.06 921.784,1305.26 934.873,1306.79 997.294,1313.7 1059.71,1320.27 1122.14,1326.49 1184.56,1332.35 1246.98,1337.83 \n",
       "  1309.4,1342.94 1371.82,1347.65 1434.24,1351.95 1436.32,1352.08 1496.66,1355.52 1559.08,1358.68 1621.5,1361.42 1683.92,1363.72 1746.34,1365.58 1808.77,1366.98 \n",
       "  1871.19,1367.9 1933.61,1368.32 1996.03,1368.25 2058.45,1367.64 \n",
       "  \"/>\n",
       "<polyline clip-path=\"url(#clip082)\" style=\"stroke:#a12b61; stroke-linecap:butt; stroke-linejoin:round; stroke-width:16; stroke-opacity:1; fill:none\" points=\"\n",
       "  2058.45,1327.68 1996.03,1328.83 1933.61,1329.39 1871.19,1329.38 1808.77,1328.82 1746.34,1327.74 1683.92,1326.14 1621.5,1324.06 1559.08,1321.49 1496.66,1318.47 \n",
       "  1434.24,1315 1371.82,1311.1 1309.4,1306.78 1289.48,1305.26 1246.98,1301.76 1184.56,1296.18 1122.14,1290.2 1059.71,1283.83 997.294,1277.08 934.873,1269.97 \n",
       "  872.452,1262.51 840.109,1258.44 810.031,1254.35 747.61,1245.47 685.189,1236.25 622.768,1226.72 560.347,1216.87 528.236,1211.62 497.926,1206.25 435.505,1194.82 \n",
       "  373.084,1183.11 310.663,1171.12 278.672,1164.8 248.242,1158.26 \n",
       "  \"/>\n",
       "<polyline clip-path=\"url(#clip082)\" style=\"stroke:#88216a; stroke-linecap:butt; stroke-linejoin:round; stroke-width:16; stroke-opacity:1; fill:none\" points=\"\n",
       "  248.242,1114.87 261.851,1117.99 310.663,1128.14 373.084,1140.82 435.505,1153.22 495.325,1164.8 497.926,1165.27 560.347,1175.9 622.768,1186.21 685.189,1196.2 \n",
       "  747.61,1205.84 786.623,1211.62 810.031,1214.81 872.452,1222.88 934.873,1230.58 997.294,1237.9 1059.71,1244.83 1122.14,1251.35 1184.56,1257.45 1195.64,1258.44 \n",
       "  1246.98,1262.67 1309.4,1267.37 1371.82,1271.63 1434.24,1275.44 1496.66,1278.76 1559.08,1281.6 1621.5,1283.92 1683.92,1285.72 1746.34,1286.96 1808.77,1287.63 \n",
       "  1871.19,1287.7 1933.61,1287.16 1996.03,1285.97 2058.45,1284.12 \n",
       "  \"/>\n",
       "<polyline clip-path=\"url(#clip082)\" style=\"stroke:#6e186e; stroke-linecap:butt; stroke-linejoin:round; stroke-width:16; stroke-opacity:1; fill:none\" points=\"\n",
       "  2058.45,1235.64 1996.03,1238.44 1933.61,1240.47 1871.19,1241.76 1808.77,1242.34 1746.34,1242.23 1683.92,1241.48 1621.5,1240.1 1559.08,1238.12 1496.66,1235.56 \n",
       "  1434.24,1232.45 1371.82,1228.82 1309.4,1224.67 1246.98,1220.03 1184.56,1214.92 1147.8,1211.62 1122.14,1209.1 1059.71,1202.45 997.294,1195.34 934.873,1187.81 \n",
       "  872.452,1179.86 810.031,1171.51 762.273,1164.8 747.61,1162.54 685.189,1152.42 622.768,1141.94 560.347,1131.1 497.926,1119.93 487.487,1117.99 435.505,1107.3 \n",
       "  373.084,1094.13 310.663,1080.66 267.749,1071.17 248.242,1066.37 \n",
       "  \"/>\n",
       "<polyline clip-path=\"url(#clip082)\" style=\"stroke:#550f6d; stroke-linecap:butt; stroke-linejoin:round; stroke-width:16; stroke-opacity:1; fill:none\" points=\"\n",
       "  248.242,1010.5 299.86,1024.35 310.663,1026.92 373.084,1041.28 435.505,1055.33 497.926,1069.07 507.857,1071.17 560.347,1081.08 622.768,1092.49 685.189,1103.52 \n",
       "  747.61,1114.15 771.307,1117.99 810.031,1123.63 872.452,1132.25 934.873,1140.44 997.294,1148.17 1059.71,1155.42 1122.14,1162.17 1148.76,1164.8 1184.56,1168 \n",
       "  1246.98,1173.02 1309.4,1177.52 1371.82,1181.46 1434.24,1184.83 1496.66,1187.6 1559.08,1189.73 1621.5,1191.21 1683.92,1191.99 1746.34,1192.05 1808.77,1191.35 \n",
       "  1871.19,1189.86 1933.61,1187.52 1996.03,1184.31 2058.45,1180.17 \n",
       "  \"/>\n",
       "<polyline clip-path=\"url(#clip082)\" style=\"stroke:#3b0964; stroke-linecap:butt; stroke-linejoin:round; stroke-width:16; stroke-opacity:1; fill:none\" points=\"\n",
       "  2058.45,1113.65 2021.54,1117.99 1996.03,1120.45 1933.61,1125.4 1871.19,1129.27 1808.77,1132.12 1746.34,1134.01 1683.92,1134.99 1621.5,1135.1 1559.08,1134.4 \n",
       "  1496.66,1132.92 1434.24,1130.7 1371.82,1127.78 1309.4,1124.19 1246.98,1119.98 1221.47,1117.99 1184.56,1114.74 1122.14,1108.59 1059.71,1101.83 997.294,1094.5 \n",
       "  934.873,1086.63 872.452,1078.25 822.752,1071.17 810.031,1069.12 747.61,1058.42 685.189,1047.26 622.768,1035.66 563.979,1024.35 560.347,1023.55 497.926,1009.2 \n",
       "  435.505,994.49 373.084,979.453 365.393,977.53 310.663,961.741 248.242,943.454 \n",
       "  \"/>\n",
       "<polyline clip-path=\"url(#clip082)\" style=\"stroke:#1f0c47; stroke-linecap:butt; stroke-linejoin:round; stroke-width:16; stroke-opacity:1; fill:none\" points=\"\n",
       "  248.242,851.561 310.663,876.651 329.037,883.892 373.084,897.922 435.505,917.44 478.823,930.711 497.926,935.599 560.347,950.947 622.768,965.897 673.017,977.53 \n",
       "  685.189,979.932 747.61,991.563 810.031,1002.68 872.452,1013.24 934.873,1023.2 942.675,1024.35 997.294,1031.24 1059.71,1038.48 1122.14,1045.04 1184.56,1050.9 \n",
       "  1246.98,1056 1309.4,1060.3 1371.82,1063.74 1434.24,1066.26 1496.66,1067.79 1559.08,1068.28 1621.5,1067.63 1683.92,1065.76 1746.34,1062.58 1808.77,1057.98 \n",
       "  1871.19,1051.85 1933.61,1044.05 1996.03,1034.44 2050.65,1024.35 2058.45,1022.4 \n",
       "  \"/>\n",
       "<polyline clip-path=\"url(#clip082)\" style=\"stroke:#1f0c47; stroke-linecap:butt; stroke-linejoin:round; stroke-width:16; stroke-opacity:1; fill:none\" points=\"\n",
       "  2058.45,682.131 1996.03,657.04 1977.65,649.799 1933.61,635.77 1871.19,616.252 1827.87,602.981 1808.77,598.092 1746.34,582.745 1683.92,567.795 1633.68,556.162 \n",
       "  1621.5,553.76 1559.08,542.129 1496.66,531.017 1434.24,520.457 1371.82,510.487 1364.02,509.344 1309.4,502.448 1246.98,495.215 1184.56,488.649 1122.14,482.793 \n",
       "  1059.71,477.691 997.294,473.394 934.873,469.956 872.452,467.436 810.031,465.899 747.61,465.416 685.189,466.065 622.768,467.933 560.347,471.114 497.926,475.712 \n",
       "  435.505,481.846 373.084,489.644 310.663,499.251 256.045,509.344 248.242,511.294 \n",
       "  \"/>\n",
       "<polyline clip-path=\"url(#clip082)\" style=\"stroke:#3b0964; stroke-linecap:butt; stroke-linejoin:round; stroke-width:16; stroke-opacity:1; fill:none\" points=\"\n",
       "  248.242,420.043 285.155,415.706 310.663,413.244 373.084,408.292 435.505,404.42 497.926,401.568 560.347,399.68 622.768,398.703 685.189,398.59 747.61,399.295 \n",
       "  810.031,400.776 872.452,402.994 934.873,405.912 997.294,409.497 1059.71,413.717 1085.22,415.706 1122.14,418.949 1184.56,425.106 1246.98,431.864 1309.4,439.191 \n",
       "  1371.82,447.058 1434.24,455.439 1483.94,462.525 1496.66,464.576 1559.08,475.277 1621.5,486.435 1683.92,498.027 1742.71,509.344 1746.34,510.142 1808.77,524.496 \n",
       "  1871.19,539.202 1933.61,554.239 1941.3,556.162 1996.03,571.951 2058.45,590.238 \n",
       "  \"/>\n",
       "<polyline clip-path=\"url(#clip082)\" style=\"stroke:#550f6d; stroke-linecap:butt; stroke-linejoin:round; stroke-width:16; stroke-opacity:1; fill:none\" points=\"\n",
       "  2058.45,523.196 2006.83,509.344 1996.03,506.774 1933.61,492.415 1871.19,478.361 1808.77,464.626 1798.84,462.525 1746.34,452.607 1683.92,441.203 1621.5,430.176 \n",
       "  1559.08,419.546 1535.39,415.706 1496.66,410.065 1434.24,401.439 1371.82,393.251 1309.4,385.521 1246.98,378.269 1184.56,371.519 1157.94,368.888 1122.14,365.696 \n",
       "  1059.71,360.67 997.294,356.173 934.873,352.228 872.452,348.86 810.031,346.095 747.61,343.96 685.189,342.484 622.768,341.7 560.347,341.639 497.926,342.338 \n",
       "  435.505,343.834 373.084,346.167 310.663,349.38 248.242,353.519 \n",
       "  \"/>\n",
       "<polyline clip-path=\"url(#clip082)\" style=\"stroke:#6e186e; stroke-linecap:butt; stroke-linejoin:round; stroke-width:16; stroke-opacity:1; fill:none\" points=\"\n",
       "  248.242,298.057 310.663,295.25 373.084,293.219 435.505,291.932 497.926,291.355 560.347,291.459 622.768,292.214 685.189,293.595 747.61,295.575 810.031,298.13 \n",
       "  872.452,301.237 934.873,304.876 997.294,309.024 1059.71,313.664 1122.14,318.775 1158.89,322.069 1184.56,324.592 1246.98,331.246 1309.4,338.35 1371.82,345.886 \n",
       "  1434.24,353.836 1496.66,362.186 1544.42,368.888 1559.08,371.15 1621.5,381.268 1683.92,391.752 1746.34,402.589 1808.77,413.762 1819.2,415.706 1871.19,426.392 \n",
       "  1933.61,439.564 1996.03,453.031 2038.94,462.525 2058.45,467.324 \n",
       "  \"/>\n",
       "<polyline clip-path=\"url(#clip082)\" style=\"stroke:#88216a; stroke-linecap:butt; stroke-linejoin:round; stroke-width:16; stroke-opacity:1; fill:none\" points=\"\n",
       "  2058.45,418.819 2044.84,415.706 1996.03,405.55 1933.61,392.871 1871.19,380.476 1811.37,368.888 1808.77,368.427 1746.34,357.794 1683.92,347.478 1621.5,337.491 \n",
       "  1559.08,327.847 1520.07,322.069 1496.66,318.886 1434.24,310.815 1371.82,303.111 1309.4,295.787 1246.98,288.858 1184.56,282.339 1122.14,276.244 1111.05,275.251 \n",
       "  1059.71,271.022 997.294,266.318 934.873,262.057 872.452,258.254 810.031,254.927 747.61,252.093 685.189,249.769 622.768,247.977 560.347,246.735 497.926,246.065 \n",
       "  435.505,245.989 373.084,246.532 310.663,247.717 248.242,249.572 \n",
       "  \"/>\n",
       "<polyline clip-path=\"url(#clip082)\" style=\"stroke:#a12b61; stroke-linecap:butt; stroke-linejoin:round; stroke-width:16; stroke-opacity:1; fill:none\" points=\"\n",
       "  248.242,206.01 310.663,204.863 373.084,204.304 435.505,204.313 497.926,204.869 560.347,205.953 622.768,207.548 685.189,209.635 747.61,212.199 810.031,215.224 \n",
       "  872.452,218.694 934.873,222.596 997.294,226.914 1017.21,228.432 1059.71,231.933 1122.14,237.512 1184.56,243.493 1246.98,249.863 1309.4,256.611 1371.82,263.722 \n",
       "  1434.24,271.186 1466.58,275.251 1496.66,279.34 1559.08,288.224 1621.5,297.439 1683.92,306.976 1746.34,316.822 1778.46,322.069 1808.77,327.443 1871.19,338.873 \n",
       "  1933.61,350.586 1996.03,362.574 2028.02,368.888 2058.45,375.43 \n",
       "  \"/>\n",
       "<polyline clip-path=\"url(#clip082)\" style=\"stroke:#ba3655; stroke-linecap:butt; stroke-linejoin:round; stroke-width:16; stroke-opacity:1; fill:none\" points=\"\n",
       "  2058.45,335.736 1996.03,323.028 1991.17,322.069 1933.61,311.567 1871.19,300.451 1808.77,289.607 1746.34,279.043 1723.14,275.251 1683.92,269.307 1621.5,260.176 \n",
       "  1559.08,251.346 1496.66,242.828 1434.24,234.632 1384.91,228.432 1371.82,226.903 1309.4,219.995 1246.98,213.426 1184.56,207.206 1122.14,201.346 1059.71,195.857 \n",
       "  997.294,190.752 934.873,186.042 872.452,181.741 870.371,181.613 810.031,178.167 747.61,175.011 685.189,172.274 622.768,169.97 560.347,168.113 497.926,166.717 \n",
       "  435.505,165.796 373.084,165.368 310.663,165.447 248.242,166.051 \n",
       "  \"/>\n",
       "<polyline clip-path=\"url(#clip082)\" style=\"stroke:#d04544; stroke-linecap:butt; stroke-linejoin:round; stroke-width:16; stroke-opacity:1; fill:none\" points=\"\n",
       "  248.242,128.807 310.663,128.631 373.084,128.928 435.505,129.685 497.926,130.889 560.347,132.525 622.768,134.583 628.088,134.795 685.189,137.236 747.61,140.332 \n",
       "  810.031,143.841 872.452,147.749 934.873,152.046 997.294,156.719 1059.71,161.758 1122.14,167.152 1184.56,172.891 1246.98,178.965 1272.67,181.613 1309.4,185.669 \n",
       "  1371.82,192.921 1434.24,200.495 1496.66,208.381 1559.08,216.57 1621.5,225.054 1645.41,228.432 1683.92,234.269 1746.34,244.053 1808.77,254.114 1871.19,264.443 \n",
       "  1933.61,275.032 1934.85,275.251 1996.03,286.783 2058.45,298.799 \n",
       "  \"/>\n",
       "<polyline clip-path=\"url(#clip082)\" style=\"stroke:#e35832; stroke-linecap:butt; stroke-linejoin:round; stroke-width:16; stroke-opacity:1; fill:none\" points=\"\n",
       "  2058.45,263.974 1996.03,252.562 1933.61,241.389 1871.19,230.461 1859.22,228.432 1808.77,220.437 1746.34,210.82 1683.92,201.467 1621.5,192.385 1559.08,183.583 \n",
       "  1544.53,181.613 1496.66,175.547 1434.24,167.94 1371.82,160.627 1309.4,153.616 1246.98,146.916 1184.56,140.535 1125.31,134.795 1122.14,134.506 1059.71,129.207 \n",
       "  997.294,124.239 934.873,119.611 872.452,115.332 810.031,111.413 747.61,107.863 685.189,104.693 622.768,101.914 560.347,99.5382 497.926,97.5764 435.505,96.0414 \n",
       "  373.084,94.9461 310.663,94.3039 248.242,94.1287 \n",
       "  \"/>\n",
       "<polyline clip-path=\"url(#clip082)\" style=\"stroke:#f0701e; stroke-linecap:butt; stroke-linejoin:round; stroke-width:16; stroke-opacity:1; fill:none\" points=\"\n",
       "  928.37,87.9763 934.873,88.4482 997.294,93.361 1059.71,98.6084 1122.14,104.182 1184.56,110.072 1246.98,116.271 1309.4,122.771 1371.82,129.563 1417.85,134.795 \n",
       "  1434.24,136.777 1496.66,144.669 1559.08,152.842 1621.5,161.288 1683.92,170 1746.34,178.971 1764.12,181.613 1808.77,188.688 1871.19,198.857 1933.61,209.27 \n",
       "  1996.03,219.921 2044.76,228.432 2058.45,230.987 \n",
       "  \"/>\n",
       "<polyline clip-path=\"url(#clip082)\" style=\"stroke:#f98c09; stroke-linecap:butt; stroke-linejoin:round; stroke-width:16; stroke-opacity:1; fill:none\" points=\"\n",
       "  2058.45,200.203 1996.03,189.042 1953.5,181.613 1933.61,178.348 1871.19,168.389 1808.77,158.664 1746.34,149.181 1683.92,139.945 1648,134.795 1621.5,131.22 \n",
       "  1559.08,123.09 1496.66,115.221 1434.24,107.618 1371.82,100.289 1309.4,93.2408 1260.69,87.9763 \n",
       "  \"/>\n",
       "<polyline clip-path=\"url(#clip082)\" style=\"stroke:#fbaa0e; stroke-linecap:butt; stroke-linejoin:round; stroke-width:16; stroke-opacity:1; fill:none\" points=\"\n",
       "  1508.37,87.9763 1559.08,94.5571 1621.5,102.925 1683.92,111.543 1746.34,120.405 1808.77,129.504 1844.04,134.795 1871.19,139.114 1933.61,149.325 1996.03,159.761 \n",
       "  2058.45,170.415 \n",
       "  \"/>\n",
       "<polyline clip-path=\"url(#clip082)\" style=\"stroke:#f8c931; stroke-linecap:butt; stroke-linejoin:round; stroke-width:16; stroke-opacity:1; fill:none\" points=\"\n",
       "  2058.45,141.882 2017.73,134.795 \n",
       "  \"/>\n",
       "<polyline clip-path=\"url(#clip082)\" style=\"stroke:#f8c931; stroke-linecap:butt; stroke-linejoin:round; stroke-width:16; stroke-opacity:1; fill:none\" points=\"\n",
       "  1996.03,131.228 1933.61,121.233 1871.19,111.457 1808.77,101.902 1746.34,92.5763 1714.64,87.9763 \n",
       "  \"/>\n",
       "<polyline clip-path=\"url(#clip082)\" style=\"stroke:#f1e864; stroke-linecap:butt; stroke-linejoin:round; stroke-width:16; stroke-opacity:1; fill:none\" points=\"\n",
       "  1895.4,87.9763 1933.61,94.0754 1996.03,104.286 \n",
       "  \"/>\n",
       "<polyline clip-path=\"url(#clip082)\" style=\"stroke:#f1e864; stroke-linecap:butt; stroke-linejoin:round; stroke-width:16; stroke-opacity:1; fill:none\" points=\"\n",
       "  2058.45,114.705 1996.03,104.286 \n",
       "  \"/>\n",
       "<polyline clip-path=\"url(#clip082)\" style=\"stroke:#d04544; stroke-linecap:butt; stroke-linejoin:round; stroke-width:16; stroke-opacity:1; fill:none\" points=\"\n",
       "  248.242,1234.89 310.663,1246.91 371.839,1258.44 373.084,1258.66 435.505,1269.25 497.926,1279.58 560.347,1289.64 622.768,1299.42 661.281,1305.26 685.189,1308.64 \n",
       "  747.61,1317.12 810.031,1325.31 872.452,1333.2 934.873,1340.77 997.294,1348.02 1034.02,1352.08 1059.71,1354.73 1122.14,1360.8 1184.56,1366.54 1246.98,1371.93 \n",
       "  1309.4,1376.97 1371.82,1381.65 1434.24,1385.94 1496.66,1389.85 1559.08,1393.36 1621.5,1396.46 1678.6,1398.9 1683.92,1399.11 1746.34,1401.17 1808.77,1402.8 \n",
       "  1871.19,1404.01 1933.61,1404.76 1996.03,1405.06 2058.45,1404.88 \n",
       "  \"/>\n",
       "<polyline clip-path=\"url(#clip082)\" style=\"stroke:#e35832; stroke-linecap:butt; stroke-linejoin:round; stroke-width:16; stroke-opacity:1; fill:none\" points=\"\n",
       "  2058.45,1439.56 1996.03,1439.39 1933.61,1438.75 1871.19,1437.65 1808.77,1436.12 1746.34,1434.15 1683.92,1431.78 1621.5,1429 1559.08,1425.83 1496.66,1422.28 \n",
       "  1434.24,1418.36 1371.82,1414.08 1309.4,1409.45 1246.98,1404.48 1184.56,1399.19 1181.38,1398.9 1122.14,1393.16 1059.71,1386.78 997.294,1380.08 934.873,1373.07 \n",
       "  872.452,1365.75 810.031,1358.14 762.161,1352.08 747.61,1350.11 685.189,1341.31 622.768,1332.23 560.347,1322.87 497.926,1313.26 447.469,1305.26 435.505,1303.23 \n",
       "  373.084,1292.3 310.663,1281.13 248.242,1269.72 \n",
       "  \"/>\n",
       "<polyline clip-path=\"url(#clip082)\" style=\"stroke:#f0701e; stroke-linecap:butt; stroke-linejoin:round; stroke-width:16; stroke-opacity:1; fill:none\" points=\"\n",
       "  248.242,1302.7 261.935,1305.26 310.663,1313.77 373.084,1324.42 435.505,1334.83 497.926,1345 542.574,1352.08 560.347,1354.72 622.768,1363.69 685.189,1372.4 \n",
       "  747.61,1380.85 810.031,1389.02 872.452,1396.91 888.837,1398.9 934.873,1404.13 997.294,1410.92 1059.71,1417.42 1122.14,1423.62 1184.56,1429.51 1246.98,1435.08 \n",
       "  1309.4,1440.33 1371.82,1445.24 1378.32,1445.72 \n",
       "  \"/>\n",
       "<polyline clip-path=\"url(#clip082)\" style=\"stroke:#090621; stroke-linecap:butt; stroke-linejoin:round; stroke-width:16; stroke-opacity:1; fill:none\" points=\"\n",
       "  1559.08,977.835 1496.66,979.862 1434.24,980.456 1371.82,979.734 1309.4,977.803 1303.94,977.53 1246.98,974.028 1184.56,968.937 1122.14,962.719 1059.71,955.474 \n",
       "  997.294,947.293 934.873,938.253 887.277,930.711 872.452,927.785 810.031,914.394 747.61,900.346 685.189,885.704 677.944,883.892 622.768,866.156 560.347,845.738 \n",
       "  534.734,837.074 497.926,819.912 435.505,790.78 434.413,790.255 373.084,744.256 371.992,743.437 347.471,696.618 365.839,649.799 373.084,644.838 435.505,609.653 \n",
       "  450.33,602.981 497.926,590.528 560.347,577.556 622.768,567.68 685.189,560.522 742.148,556.162 747.61,555.857 810.031,553.83 872.452,553.236 934.873,553.958 \n",
       "  997.294,555.889 1002.76,556.162 1059.71,559.664 1122.14,564.755 1184.56,570.973 1246.98,578.218 1309.4,586.399 1371.82,595.439 1419.42,602.981 1434.24,605.907 \n",
       "  1496.66,619.298 1559.08,633.346 1621.5,647.988 1628.75,649.799 1683.92,667.536 1746.34,687.954 1771.96,696.618 1808.77,713.78 1871.19,742.911 1872.28,743.437 \n",
       "  1933.61,789.436 1934.7,790.255 1959.22,837.074 1940.85,883.892 1933.61,888.854 1871.19,924.039 1856.36,930.711 1808.77,943.164 1746.34,956.136 1683.92,966.012 \n",
       "  1621.5,973.17 1564.54,977.53 1559.08,977.835 \n",
       "  \"/>\n",
       "<defs>\n",
       "  <clipPath id=\"clip083\">\n",
       "    <rect x=\"2160\" y=\"47\" width=\"73\" height=\"1440\"/>\n",
       "  </clipPath>\n",
       "</defs>\n",
       "<polyline clip-path=\"url(#clip083)\" style=\"stroke:#0a0723; stroke-linecap:butt; stroke-linejoin:round; stroke-width:16; stroke-opacity:1; fill:none\" points=\"\n",
       "  2160.76,1396.5 2232.76,1396.5 \n",
       "  \"/>\n",
       "<polyline clip-path=\"url(#clip083)\" style=\"stroke:#200c4a; stroke-linecap:butt; stroke-linejoin:round; stroke-width:16; stroke-opacity:1; fill:none\" points=\"\n",
       "  2160.76,1306.55 2232.76,1306.55 \n",
       "  \"/>\n",
       "<polyline clip-path=\"url(#clip083)\" style=\"stroke:#3c0965; stroke-linecap:butt; stroke-linejoin:round; stroke-width:16; stroke-opacity:1; fill:none\" points=\"\n",
       "  2160.76,1216.6 2232.76,1216.6 \n",
       "  \"/>\n",
       "<polyline clip-path=\"url(#clip083)\" style=\"stroke:#570f6d; stroke-linecap:butt; stroke-linejoin:round; stroke-width:16; stroke-opacity:1; fill:none\" points=\"\n",
       "  2160.76,1126.65 2232.76,1126.65 \n",
       "  \"/>\n",
       "<polyline clip-path=\"url(#clip083)\" style=\"stroke:#70196e; stroke-linecap:butt; stroke-linejoin:round; stroke-width:16; stroke-opacity:1; fill:none\" points=\"\n",
       "  2160.76,1036.7 2232.76,1036.7 \n",
       "  \"/>\n",
       "<polyline clip-path=\"url(#clip083)\" style=\"stroke:#892269; stroke-linecap:butt; stroke-linejoin:round; stroke-width:16; stroke-opacity:1; fill:none\" points=\"\n",
       "  2160.76,946.746 2232.76,946.746 \n",
       "  \"/>\n",
       "<polyline clip-path=\"url(#clip083)\" style=\"stroke:#a32b61; stroke-linecap:butt; stroke-linejoin:round; stroke-width:16; stroke-opacity:1; fill:none\" points=\"\n",
       "  2160.76,856.796 2232.76,856.796 \n",
       "  \"/>\n",
       "<polyline clip-path=\"url(#clip083)\" style=\"stroke:#bb3754; stroke-linecap:butt; stroke-linejoin:round; stroke-width:16; stroke-opacity:1; fill:none\" points=\"\n",
       "  2160.76,766.846 2232.76,766.846 \n",
       "  \"/>\n",
       "<polyline clip-path=\"url(#clip083)\" style=\"stroke:#d04544; stroke-linecap:butt; stroke-linejoin:round; stroke-width:16; stroke-opacity:1; fill:none\" points=\"\n",
       "  2160.76,676.896 2232.76,676.896 \n",
       "  \"/>\n",
       "<polyline clip-path=\"url(#clip083)\" style=\"stroke:#e35832; stroke-linecap:butt; stroke-linejoin:round; stroke-width:16; stroke-opacity:1; fill:none\" points=\"\n",
       "  2160.76,586.946 2232.76,586.946 \n",
       "  \"/>\n",
       "<polyline clip-path=\"url(#clip083)\" style=\"stroke:#f0701e; stroke-linecap:butt; stroke-linejoin:round; stroke-width:16; stroke-opacity:1; fill:none\" points=\"\n",
       "  2160.76,496.995 2232.76,496.995 \n",
       "  \"/>\n",
       "<polyline clip-path=\"url(#clip083)\" style=\"stroke:#f98c09; stroke-linecap:butt; stroke-linejoin:round; stroke-width:16; stroke-opacity:1; fill:none\" points=\"\n",
       "  2160.76,407.045 2232.76,407.045 \n",
       "  \"/>\n",
       "<polyline clip-path=\"url(#clip083)\" style=\"stroke:#fbaa0e; stroke-linecap:butt; stroke-linejoin:round; stroke-width:16; stroke-opacity:1; fill:none\" points=\"\n",
       "  2160.76,317.095 2232.76,317.095 \n",
       "  \"/>\n",
       "<polyline clip-path=\"url(#clip083)\" style=\"stroke:#f8c931; stroke-linecap:butt; stroke-linejoin:round; stroke-width:16; stroke-opacity:1; fill:none\" points=\"\n",
       "  2160.76,227.145 2232.76,227.145 \n",
       "  \"/>\n",
       "<polyline clip-path=\"url(#clip083)\" style=\"stroke:#f1e864; stroke-linecap:butt; stroke-linejoin:round; stroke-width:16; stroke-opacity:1; fill:none\" points=\"\n",
       "  2160.76,137.194 2232.76,137.194 \n",
       "  \"/>\n",
       "<path clip-path=\"url(#clip080)\" d=\"M2269.43 1235.38 L2277.07 1235.38 L2277.07 1209.02 L2268.76 1210.68 L2268.76 1206.42 L2277.02 1204.76 L2281.7 1204.76 L2281.7 1235.38 L2289.33 1235.38 L2289.33 1239.32 L2269.43 1239.32 L2269.43 1235.38 Z\" fill=\"#000000\" fill-rule=\"evenodd\" fill-opacity=\"1\" /><path clip-path=\"url(#clip080)\" d=\"M2274.38 973.511 L2290.7 973.511 L2290.7 977.446 L2268.76 977.446 L2268.76 973.511 Q2271.42 970.756 2276 966.126 Q2280.61 961.474 2281.79 960.131 Q2284.03 957.608 2284.91 955.872 Q2285.82 954.113 2285.82 952.423 Q2285.82 949.668 2283.87 947.932 Q2281.95 946.196 2278.85 946.196 Q2276.65 946.196 2274.2 946.96 Q2271.77 947.724 2268.99 949.275 L2268.99 944.552 Q2271.81 943.418 2274.27 942.839 Q2276.72 942.261 2278.76 942.261 Q2284.13 942.261 2287.32 944.946 Q2290.52 947.631 2290.52 952.122 Q2290.52 954.251 2289.7 956.173 Q2288.92 958.071 2286.81 960.663 Q2286.23 961.335 2283.13 964.552 Q2280.03 967.747 2274.38 973.511 Z\" fill=\"#000000\" fill-rule=\"evenodd\" fill-opacity=\"1\" /><path clip-path=\"url(#clip080)\" d=\"M2284.38 696.94 Q2287.74 697.658 2289.61 699.926 Q2291.51 702.195 2291.51 705.528 Q2291.51 710.644 2287.99 713.445 Q2284.47 716.246 2277.99 716.246 Q2275.82 716.246 2273.5 715.806 Q2271.21 715.389 2268.76 714.533 L2268.76 710.019 Q2270.7 711.153 2273.02 711.732 Q2275.33 712.31 2277.85 712.31 Q2282.25 712.31 2284.54 710.574 Q2286.86 708.838 2286.86 705.528 Q2286.86 702.472 2284.7 700.759 Q2282.58 699.023 2278.76 699.023 L2274.73 699.023 L2274.73 695.181 L2278.94 695.181 Q2282.39 695.181 2284.22 693.815 Q2286.05 692.426 2286.05 689.834 Q2286.05 687.172 2284.15 685.76 Q2282.27 684.324 2278.76 684.324 Q2276.83 684.324 2274.64 684.741 Q2272.44 685.158 2269.8 686.037 L2269.8 681.871 Q2272.46 681.13 2274.77 680.76 Q2277.11 680.389 2279.17 680.389 Q2284.5 680.389 2287.6 682.82 Q2290.7 685.227 2290.7 689.347 Q2290.7 692.218 2289.06 694.209 Q2287.41 696.176 2284.38 696.94 Z\" fill=\"#000000\" fill-rule=\"evenodd\" fill-opacity=\"1\" /><path clip-path=\"url(#clip080)\" d=\"M2284.36 423.217 L2272.55 441.666 L2284.36 441.666 L2284.36 423.217 M2283.13 419.143 L2289.01 419.143 L2289.01 441.666 L2293.94 441.666 L2293.94 445.555 L2289.01 445.555 L2289.01 453.703 L2284.36 453.703 L2284.36 445.555 L2268.76 445.555 L2268.76 441.041 L2283.13 419.143 Z\" fill=\"#000000\" fill-rule=\"evenodd\" fill-opacity=\"1\" /><path clip-path=\"url(#clip080)\" d=\"M2270.21 157.271 L2288.57 157.271 L2288.57 161.206 L2274.5 161.206 L2274.5 169.678 Q2275.52 169.331 2276.53 169.169 Q2277.55 168.984 2278.57 168.984 Q2284.36 168.984 2287.74 172.155 Q2291.12 175.327 2291.12 180.743 Q2291.12 186.322 2287.64 189.424 Q2284.17 192.502 2277.85 192.502 Q2275.68 192.502 2273.41 192.132 Q2271.16 191.762 2268.76 191.021 L2268.76 186.322 Q2270.84 187.456 2273.06 188.012 Q2275.28 188.567 2277.76 188.567 Q2281.77 188.567 2284.1 186.461 Q2286.44 184.354 2286.44 180.743 Q2286.44 177.132 2284.1 175.026 Q2281.77 172.919 2277.76 172.919 Q2275.89 172.919 2274.01 173.336 Q2272.16 173.752 2270.21 174.632 L2270.21 157.271 Z\" fill=\"#000000\" fill-rule=\"evenodd\" fill-opacity=\"1\" /><polyline clip-path=\"url(#clip080)\" style=\"stroke:#000000; stroke-linecap:butt; stroke-linejoin:round; stroke-width:4; stroke-opacity:1; fill:none\" points=\"\n",
       "  2232.76,1486.45 2232.76,1225.67 2256.76,1225.67 2232.76,1225.67 2232.76,963.795 2256.76,963.795 2232.76,963.795 2232.76,701.923 2256.76,701.923 2232.76,701.923 \n",
       "  2232.76,440.051 2256.76,440.051 2232.76,440.051 2232.76,178.18 2256.76,178.18 2232.76,178.18 2232.76,47.2441 \n",
       "  \"/>\n",
       "<path clip-path=\"url(#clip080)\" d=\"\n",
       "M1756.95 250.738 L2048.8 250.738 L2048.8 95.2176 L1756.95 95.2176  Z\n",
       "  \" fill=\"#ffffff\" fill-rule=\"evenodd\" fill-opacity=\"1\"/>\n",
       "<polyline clip-path=\"url(#clip080)\" style=\"stroke:#000000; stroke-linecap:butt; stroke-linejoin:round; stroke-width:4; stroke-opacity:1; fill:none\" points=\"\n",
       "  1756.95,250.738 2048.8,250.738 2048.8,95.2176 1756.95,95.2176 1756.95,250.738 \n",
       "  \"/>\n",
       "<polyline clip-path=\"url(#clip080)\" style=\"stroke:#009af9; stroke-linecap:butt; stroke-linejoin:round; stroke-width:6; stroke-opacity:1; fill:none\" points=\"\n",
       "  1778.27,172.978 1906.19,172.978 \n",
       "  \"/>\n",
       "<circle clip-path=\"url(#clip080)\" cx=\"1842.23\" cy=\"172.978\" r=\"34\" fill=\"#009af9\" fill-rule=\"evenodd\" fill-opacity=\"1\" stroke=\"#000000\" stroke-opacity=\"1\" stroke-width=\"7.68\"/>\n",
       "<path clip-path=\"url(#clip080)\" d=\"M1948.27 202.509 Q1945.56 209.453 1943 211.571 Q1940.43 213.689 1936.12 213.689 L1931.02 213.689 L1931.02 208.342 L1934.77 208.342 Q1937.41 208.342 1938.86 207.092 Q1940.32 205.842 1942.09 201.189 L1943.24 198.273 L1927.51 160.009 L1934.28 160.009 L1946.43 190.425 L1958.59 160.009 L1965.36 160.009 L1948.27 202.509 Z\" fill=\"#000000\" fill-rule=\"evenodd\" fill-opacity=\"1\" /><path clip-path=\"url(#clip080)\" d=\"M1976.29 192.995 L1987.75 192.995 L1987.75 153.446 L1975.29 155.946 L1975.29 149.558 L1987.68 147.058 L1994.7 147.058 L1994.7 192.995 L2006.15 192.995 L2006.15 198.898 L1976.29 198.898 L1976.29 192.995 Z\" fill=\"#000000\" fill-rule=\"evenodd\" fill-opacity=\"1\" /></svg>\n"
      ]
     },
     "execution_count": 4,
     "metadata": {},
     "output_type": "execute_result"
    }
   ],
   "source": [
    "plot(chist[1, :], chist[2, :], marker=:circle)\n",
    "x = LinRange(-1, 1, 30)\n",
    "contour!(x, x, (x,y) -> loss([x, y]))"
   ]
  },
  {
   "cell_type": "markdown",
   "id": "ddd68837",
   "metadata": {
    "slideshow": {
     "slide_type": "slide"
    }
   },
   "source": [
    "# Chebyshev regression via optimization\n",
    "\n"
   ]
  },
  {
   "cell_type": "code",
   "execution_count": 5,
   "id": "5520e580",
   "metadata": {
    "cell_style": "split"
   },
   "outputs": [
    {
     "data": {
      "text/plain": [
       "8-element Vector{Float64}:\n",
       "  0.8677467205692958\n",
       "  0.3792490927453809\n",
       " -2.250020235459981\n",
       " -0.609824417536345\n",
       "  0.9368814190340152\n",
       " -0.31798585950121505\n",
       "  0.7342746792588999\n",
       "  0.6971032905286769"
      ]
     },
     "execution_count": 5,
     "metadata": {},
     "output_type": "execute_result"
    }
   ],
   "source": [
    "x = LinRange(-1, 1, 200)\n",
    "sigma = 0.5; n = 8\n",
    "y = runge_noisy(x, sigma)\n",
    "V = vander(x, n)\n",
    "function loss(c)\n",
    "    r = V * c - y\n",
    "    .5 * r' * r\n",
    "end\n",
    "function grad(c)\n",
    "    r = V * c - y\n",
    "    V' * r\n",
    "end\n",
    "c, _, lhist = grad_descent(loss, grad, ones(n),\n",
    "    gamma=0.008)\n",
    "c"
   ]
  },
  {
   "cell_type": "code",
   "execution_count": 6,
   "id": "77957be4",
   "metadata": {
    "cell_style": "split"
   },
   "outputs": [
    {
     "name": "stdout",
     "output_type": "stream",
     "text": [
      "cond(V' * V) = 52902.52994792632\n"
     ]
    },
    {
     "data": {
      "image/svg+xml": [
       "<?xml version=\"1.0\" encoding=\"utf-8\"?>\n",
       "<svg xmlns=\"http://www.w3.org/2000/svg\" xmlns:xlink=\"http://www.w3.org/1999/xlink\" width=\"600\" height=\"400\" viewBox=\"0 0 2400 1600\">\n",
       "<defs>\n",
       "  <clipPath id=\"clip120\">\n",
       "    <rect x=\"0\" y=\"0\" width=\"2400\" height=\"1600\"/>\n",
       "  </clipPath>\n",
       "</defs>\n",
       "<path clip-path=\"url(#clip120)\" d=\"\n",
       "M0 1600 L2400 1600 L2400 0 L0 0  Z\n",
       "  \" fill=\"#ffffff\" fill-rule=\"evenodd\" fill-opacity=\"1\"/>\n",
       "<defs>\n",
       "  <clipPath id=\"clip121\">\n",
       "    <rect x=\"480\" y=\"0\" width=\"1681\" height=\"1600\"/>\n",
       "  </clipPath>\n",
       "</defs>\n",
       "<path clip-path=\"url(#clip120)\" d=\"\n",
       "M219.344 1486.45 L2352.76 1486.45 L2352.76 47.2441 L219.344 47.2441  Z\n",
       "  \" fill=\"#ffffff\" fill-rule=\"evenodd\" fill-opacity=\"1\"/>\n",
       "<defs>\n",
       "  <clipPath id=\"clip122\">\n",
       "    <rect x=\"219\" y=\"47\" width=\"2134\" height=\"1440\"/>\n",
       "  </clipPath>\n",
       "</defs>\n",
       "<polyline clip-path=\"url(#clip122)\" style=\"stroke:#000000; stroke-linecap:butt; stroke-linejoin:round; stroke-width:2; stroke-opacity:0.1; fill:none\" points=\"\n",
       "  275.698,1486.45 275.698,47.2441 \n",
       "  \"/>\n",
       "<polyline clip-path=\"url(#clip122)\" style=\"stroke:#000000; stroke-linecap:butt; stroke-linejoin:round; stroke-width:2; stroke-opacity:0.1; fill:none\" points=\"\n",
       "  678.229,1486.45 678.229,47.2441 \n",
       "  \"/>\n",
       "<polyline clip-path=\"url(#clip122)\" style=\"stroke:#000000; stroke-linecap:butt; stroke-linejoin:round; stroke-width:2; stroke-opacity:0.1; fill:none\" points=\"\n",
       "  1080.76,1486.45 1080.76,47.2441 \n",
       "  \"/>\n",
       "<polyline clip-path=\"url(#clip122)\" style=\"stroke:#000000; stroke-linecap:butt; stroke-linejoin:round; stroke-width:2; stroke-opacity:0.1; fill:none\" points=\"\n",
       "  1483.29,1486.45 1483.29,47.2441 \n",
       "  \"/>\n",
       "<polyline clip-path=\"url(#clip122)\" style=\"stroke:#000000; stroke-linecap:butt; stroke-linejoin:round; stroke-width:2; stroke-opacity:0.1; fill:none\" points=\"\n",
       "  1885.82,1486.45 1885.82,47.2441 \n",
       "  \"/>\n",
       "<polyline clip-path=\"url(#clip122)\" style=\"stroke:#000000; stroke-linecap:butt; stroke-linejoin:round; stroke-width:2; stroke-opacity:0.1; fill:none\" points=\"\n",
       "  2288.35,1486.45 2288.35,47.2441 \n",
       "  \"/>\n",
       "<polyline clip-path=\"url(#clip120)\" style=\"stroke:#000000; stroke-linecap:butt; stroke-linejoin:round; stroke-width:4; stroke-opacity:1; fill:none\" points=\"\n",
       "  219.344,1486.45 2352.76,1486.45 \n",
       "  \"/>\n",
       "<polyline clip-path=\"url(#clip120)\" style=\"stroke:#000000; stroke-linecap:butt; stroke-linejoin:round; stroke-width:4; stroke-opacity:1; fill:none\" points=\"\n",
       "  275.698,1486.45 275.698,1467.55 \n",
       "  \"/>\n",
       "<polyline clip-path=\"url(#clip120)\" style=\"stroke:#000000; stroke-linecap:butt; stroke-linejoin:round; stroke-width:4; stroke-opacity:1; fill:none\" points=\"\n",
       "  678.229,1486.45 678.229,1467.55 \n",
       "  \"/>\n",
       "<polyline clip-path=\"url(#clip120)\" style=\"stroke:#000000; stroke-linecap:butt; stroke-linejoin:round; stroke-width:4; stroke-opacity:1; fill:none\" points=\"\n",
       "  1080.76,1486.45 1080.76,1467.55 \n",
       "  \"/>\n",
       "<polyline clip-path=\"url(#clip120)\" style=\"stroke:#000000; stroke-linecap:butt; stroke-linejoin:round; stroke-width:4; stroke-opacity:1; fill:none\" points=\"\n",
       "  1483.29,1486.45 1483.29,1467.55 \n",
       "  \"/>\n",
       "<polyline clip-path=\"url(#clip120)\" style=\"stroke:#000000; stroke-linecap:butt; stroke-linejoin:round; stroke-width:4; stroke-opacity:1; fill:none\" points=\"\n",
       "  1885.82,1486.45 1885.82,1467.55 \n",
       "  \"/>\n",
       "<polyline clip-path=\"url(#clip120)\" style=\"stroke:#000000; stroke-linecap:butt; stroke-linejoin:round; stroke-width:4; stroke-opacity:1; fill:none\" points=\"\n",
       "  2288.35,1486.45 2288.35,1467.55 \n",
       "  \"/>\n",
       "<path clip-path=\"url(#clip120)\" d=\"M275.698 1517.37 Q272.087 1517.37 270.258 1520.93 Q268.453 1524.47 268.453 1531.6 Q268.453 1538.71 270.258 1542.27 Q272.087 1545.82 275.698 1545.82 Q279.332 1545.82 281.138 1542.27 Q282.967 1538.71 282.967 1531.6 Q282.967 1524.47 281.138 1520.93 Q279.332 1517.37 275.698 1517.37 M275.698 1513.66 Q281.508 1513.66 284.564 1518.27 Q287.643 1522.85 287.643 1531.6 Q287.643 1540.33 284.564 1544.94 Q281.508 1549.52 275.698 1549.52 Q269.888 1549.52 266.809 1544.94 Q263.754 1540.33 263.754 1531.6 Q263.754 1522.85 266.809 1518.27 Q269.888 1513.66 275.698 1513.66 Z\" fill=\"#000000\" fill-rule=\"evenodd\" fill-opacity=\"1\" /><path clip-path=\"url(#clip120)\" d=\"M637.835 1544.91 L645.474 1544.91 L645.474 1518.55 L637.164 1520.21 L637.164 1515.95 L645.428 1514.29 L650.104 1514.29 L650.104 1544.91 L657.743 1544.91 L657.743 1548.85 L637.835 1548.85 L637.835 1544.91 Z\" fill=\"#000000\" fill-rule=\"evenodd\" fill-opacity=\"1\" /><path clip-path=\"url(#clip120)\" d=\"M677.187 1517.37 Q673.576 1517.37 671.747 1520.93 Q669.942 1524.47 669.942 1531.6 Q669.942 1538.71 671.747 1542.27 Q673.576 1545.82 677.187 1545.82 Q680.821 1545.82 682.627 1542.27 Q684.456 1538.71 684.456 1531.6 Q684.456 1524.47 682.627 1520.93 Q680.821 1517.37 677.187 1517.37 M677.187 1513.66 Q682.997 1513.66 686.053 1518.27 Q689.131 1522.85 689.131 1531.6 Q689.131 1540.33 686.053 1544.94 Q682.997 1549.52 677.187 1549.52 Q671.377 1549.52 668.298 1544.94 Q665.243 1540.33 665.243 1531.6 Q665.243 1522.85 668.298 1518.27 Q671.377 1513.66 677.187 1513.66 Z\" fill=\"#000000\" fill-rule=\"evenodd\" fill-opacity=\"1\" /><path clip-path=\"url(#clip120)\" d=\"M707.349 1517.37 Q703.738 1517.37 701.909 1520.93 Q700.104 1524.47 700.104 1531.6 Q700.104 1538.71 701.909 1542.27 Q703.738 1545.82 707.349 1545.82 Q710.983 1545.82 712.789 1542.27 Q714.617 1538.71 714.617 1531.6 Q714.617 1524.47 712.789 1520.93 Q710.983 1517.37 707.349 1517.37 M707.349 1513.66 Q713.159 1513.66 716.215 1518.27 Q719.293 1522.85 719.293 1531.6 Q719.293 1540.33 716.215 1544.94 Q713.159 1549.52 707.349 1549.52 Q701.539 1549.52 698.46 1544.94 Q695.405 1540.33 695.405 1531.6 Q695.405 1522.85 698.46 1518.27 Q701.539 1513.66 707.349 1513.66 Z\" fill=\"#000000\" fill-rule=\"evenodd\" fill-opacity=\"1\" /><path clip-path=\"url(#clip120)\" d=\"M1044.45 1544.91 L1060.77 1544.91 L1060.77 1548.85 L1038.83 1548.85 L1038.83 1544.91 Q1041.49 1542.16 1046.07 1537.53 Q1050.68 1532.88 1051.86 1531.53 Q1054.1 1529.01 1054.98 1527.27 Q1055.89 1525.51 1055.89 1523.82 Q1055.89 1521.07 1053.94 1519.33 Q1052.02 1517.6 1048.92 1517.6 Q1046.72 1517.6 1044.27 1518.36 Q1041.84 1519.13 1039.06 1520.68 L1039.06 1515.95 Q1041.88 1514.82 1044.34 1514.24 Q1046.79 1513.66 1048.83 1513.66 Q1054.2 1513.66 1057.39 1516.35 Q1060.59 1519.03 1060.59 1523.52 Q1060.59 1525.65 1059.78 1527.57 Q1058.99 1529.47 1056.88 1532.07 Q1056.3 1532.74 1053.2 1535.95 Q1050.1 1539.15 1044.45 1544.91 Z\" fill=\"#000000\" fill-rule=\"evenodd\" fill-opacity=\"1\" /><path clip-path=\"url(#clip120)\" d=\"M1080.59 1517.37 Q1076.97 1517.37 1075.15 1520.93 Q1073.34 1524.47 1073.34 1531.6 Q1073.34 1538.71 1075.15 1542.27 Q1076.97 1545.82 1080.59 1545.82 Q1084.22 1545.82 1086.03 1542.27 Q1087.85 1538.71 1087.85 1531.6 Q1087.85 1524.47 1086.03 1520.93 Q1084.22 1517.37 1080.59 1517.37 M1080.59 1513.66 Q1086.4 1513.66 1089.45 1518.27 Q1092.53 1522.85 1092.53 1531.6 Q1092.53 1540.33 1089.45 1544.94 Q1086.4 1549.52 1080.59 1549.52 Q1074.78 1549.52 1071.7 1544.94 Q1068.64 1540.33 1068.64 1531.6 Q1068.64 1522.85 1071.7 1518.27 Q1074.78 1513.66 1080.59 1513.66 Z\" fill=\"#000000\" fill-rule=\"evenodd\" fill-opacity=\"1\" /><path clip-path=\"url(#clip120)\" d=\"M1110.75 1517.37 Q1107.14 1517.37 1105.31 1520.93 Q1103.5 1524.47 1103.5 1531.6 Q1103.5 1538.71 1105.31 1542.27 Q1107.14 1545.82 1110.75 1545.82 Q1114.38 1545.82 1116.19 1542.27 Q1118.02 1538.71 1118.02 1531.6 Q1118.02 1524.47 1116.19 1520.93 Q1114.38 1517.37 1110.75 1517.37 M1110.75 1513.66 Q1116.56 1513.66 1119.61 1518.27 Q1122.69 1522.85 1122.69 1531.6 Q1122.69 1540.33 1119.61 1544.94 Q1116.56 1549.52 1110.75 1549.52 Q1104.94 1549.52 1101.86 1544.94 Q1098.8 1540.33 1098.8 1531.6 Q1098.8 1522.85 1101.86 1518.27 Q1104.94 1513.66 1110.75 1513.66 Z\" fill=\"#000000\" fill-rule=\"evenodd\" fill-opacity=\"1\" /><path clip-path=\"url(#clip120)\" d=\"M1457.05 1530.21 Q1460.41 1530.93 1462.28 1533.2 Q1464.18 1535.47 1464.18 1538.8 Q1464.18 1543.92 1460.66 1546.72 Q1457.14 1549.52 1450.66 1549.52 Q1448.49 1549.52 1446.17 1549.08 Q1443.88 1548.66 1441.43 1547.81 L1441.43 1543.29 Q1443.37 1544.43 1445.69 1545.01 Q1448 1545.58 1450.52 1545.58 Q1454.92 1545.58 1457.21 1543.85 Q1459.53 1542.11 1459.53 1538.8 Q1459.53 1535.75 1457.38 1534.03 Q1455.25 1532.3 1451.43 1532.3 L1447.4 1532.3 L1447.4 1528.45 L1451.61 1528.45 Q1455.06 1528.45 1456.89 1527.09 Q1458.72 1525.7 1458.72 1523.11 Q1458.72 1520.45 1456.82 1519.03 Q1454.95 1517.6 1451.43 1517.6 Q1449.51 1517.6 1447.31 1518.01 Q1445.11 1518.43 1442.47 1519.31 L1442.47 1515.14 Q1445.13 1514.4 1447.45 1514.03 Q1449.78 1513.66 1451.84 1513.66 Q1457.17 1513.66 1460.27 1516.09 Q1463.37 1518.5 1463.37 1522.62 Q1463.37 1525.49 1461.73 1527.48 Q1460.08 1529.45 1457.05 1530.21 Z\" fill=\"#000000\" fill-rule=\"evenodd\" fill-opacity=\"1\" /><path clip-path=\"url(#clip120)\" d=\"M1483.05 1517.37 Q1479.44 1517.37 1477.61 1520.93 Q1475.8 1524.47 1475.8 1531.6 Q1475.8 1538.71 1477.61 1542.27 Q1479.44 1545.82 1483.05 1545.82 Q1486.68 1545.82 1488.49 1542.27 Q1490.32 1538.71 1490.32 1531.6 Q1490.32 1524.47 1488.49 1520.93 Q1486.68 1517.37 1483.05 1517.37 M1483.05 1513.66 Q1488.86 1513.66 1491.91 1518.27 Q1494.99 1522.85 1494.99 1531.6 Q1494.99 1540.33 1491.91 1544.94 Q1488.86 1549.52 1483.05 1549.52 Q1477.24 1549.52 1474.16 1544.94 Q1471.1 1540.33 1471.1 1531.6 Q1471.1 1522.85 1474.16 1518.27 Q1477.24 1513.66 1483.05 1513.66 Z\" fill=\"#000000\" fill-rule=\"evenodd\" fill-opacity=\"1\" /><path clip-path=\"url(#clip120)\" d=\"M1513.21 1517.37 Q1509.6 1517.37 1507.77 1520.93 Q1505.96 1524.47 1505.96 1531.6 Q1505.96 1538.71 1507.77 1542.27 Q1509.6 1545.82 1513.21 1545.82 Q1516.84 1545.82 1518.65 1542.27 Q1520.48 1538.71 1520.48 1531.6 Q1520.48 1524.47 1518.65 1520.93 Q1516.84 1517.37 1513.21 1517.37 M1513.21 1513.66 Q1519.02 1513.66 1522.07 1518.27 Q1525.15 1522.85 1525.15 1531.6 Q1525.15 1540.33 1522.07 1544.94 Q1519.02 1549.52 1513.21 1549.52 Q1507.4 1549.52 1504.32 1544.94 Q1501.26 1540.33 1501.26 1531.6 Q1501.26 1522.85 1504.32 1518.27 Q1507.4 1513.66 1513.21 1513.66 Z\" fill=\"#000000\" fill-rule=\"evenodd\" fill-opacity=\"1\" /><path clip-path=\"url(#clip120)\" d=\"M1858.91 1518.36 L1847.11 1536.81 L1858.91 1536.81 L1858.91 1518.36 M1857.68 1514.29 L1863.56 1514.29 L1863.56 1536.81 L1868.49 1536.81 L1868.49 1540.7 L1863.56 1540.7 L1863.56 1548.85 L1858.91 1548.85 L1858.91 1540.7 L1843.31 1540.7 L1843.31 1536.19 L1857.68 1514.29 Z\" fill=\"#000000\" fill-rule=\"evenodd\" fill-opacity=\"1\" /><path clip-path=\"url(#clip120)\" d=\"M1886.23 1517.37 Q1882.61 1517.37 1880.79 1520.93 Q1878.98 1524.47 1878.98 1531.6 Q1878.98 1538.71 1880.79 1542.27 Q1882.61 1545.82 1886.23 1545.82 Q1889.86 1545.82 1891.67 1542.27 Q1893.49 1538.71 1893.49 1531.6 Q1893.49 1524.47 1891.67 1520.93 Q1889.86 1517.37 1886.23 1517.37 M1886.23 1513.66 Q1892.04 1513.66 1895.09 1518.27 Q1898.17 1522.85 1898.17 1531.6 Q1898.17 1540.33 1895.09 1544.94 Q1892.04 1549.52 1886.23 1549.52 Q1880.42 1549.52 1877.34 1544.94 Q1874.28 1540.33 1874.28 1531.6 Q1874.28 1522.85 1877.34 1518.27 Q1880.42 1513.66 1886.23 1513.66 Z\" fill=\"#000000\" fill-rule=\"evenodd\" fill-opacity=\"1\" /><path clip-path=\"url(#clip120)\" d=\"M1916.39 1517.37 Q1912.78 1517.37 1910.95 1520.93 Q1909.14 1524.47 1909.14 1531.6 Q1909.14 1538.71 1910.95 1542.27 Q1912.78 1545.82 1916.39 1545.82 Q1920.02 1545.82 1921.83 1542.27 Q1923.66 1538.71 1923.66 1531.6 Q1923.66 1524.47 1921.83 1520.93 Q1920.02 1517.37 1916.39 1517.37 M1916.39 1513.66 Q1922.2 1513.66 1925.25 1518.27 Q1928.33 1522.85 1928.33 1531.6 Q1928.33 1540.33 1925.25 1544.94 Q1922.2 1549.52 1916.39 1549.52 Q1910.58 1549.52 1907.5 1544.94 Q1904.44 1540.33 1904.44 1531.6 Q1904.44 1522.85 1907.5 1518.27 Q1910.58 1513.66 1916.39 1513.66 Z\" fill=\"#000000\" fill-rule=\"evenodd\" fill-opacity=\"1\" /><path clip-path=\"url(#clip120)\" d=\"M2247.97 1514.29 L2266.33 1514.29 L2266.33 1518.22 L2252.25 1518.22 L2252.25 1526.7 Q2253.27 1526.35 2254.29 1526.19 Q2255.31 1526 2256.33 1526 Q2262.11 1526 2265.49 1529.17 Q2268.87 1532.34 2268.87 1537.76 Q2268.87 1543.34 2265.4 1546.44 Q2261.93 1549.52 2255.61 1549.52 Q2253.43 1549.52 2251.16 1549.15 Q2248.92 1548.78 2246.51 1548.04 L2246.51 1543.34 Q2248.59 1544.47 2250.82 1545.03 Q2253.04 1545.58 2255.52 1545.58 Q2259.52 1545.58 2261.86 1543.48 Q2264.2 1541.37 2264.2 1537.76 Q2264.2 1534.15 2261.86 1532.04 Q2259.52 1529.94 2255.52 1529.94 Q2253.64 1529.94 2251.77 1530.35 Q2249.91 1530.77 2247.97 1531.65 L2247.97 1514.29 Z\" fill=\"#000000\" fill-rule=\"evenodd\" fill-opacity=\"1\" /><path clip-path=\"url(#clip120)\" d=\"M2288.08 1517.37 Q2284.47 1517.37 2282.65 1520.93 Q2280.84 1524.47 2280.84 1531.6 Q2280.84 1538.71 2282.65 1542.27 Q2284.47 1545.82 2288.08 1545.82 Q2291.72 1545.82 2293.52 1542.27 Q2295.35 1538.71 2295.35 1531.6 Q2295.35 1524.47 2293.52 1520.93 Q2291.72 1517.37 2288.08 1517.37 M2288.08 1513.66 Q2293.89 1513.66 2296.95 1518.27 Q2300.03 1522.85 2300.03 1531.6 Q2300.03 1540.33 2296.95 1544.94 Q2293.89 1549.52 2288.08 1549.52 Q2282.27 1549.52 2279.2 1544.94 Q2276.14 1540.33 2276.14 1531.6 Q2276.14 1522.85 2279.2 1518.27 Q2282.27 1513.66 2288.08 1513.66 Z\" fill=\"#000000\" fill-rule=\"evenodd\" fill-opacity=\"1\" /><path clip-path=\"url(#clip120)\" d=\"M2318.25 1517.37 Q2314.64 1517.37 2312.81 1520.93 Q2311 1524.47 2311 1531.6 Q2311 1538.71 2312.81 1542.27 Q2314.64 1545.82 2318.25 1545.82 Q2321.88 1545.82 2323.69 1542.27 Q2325.52 1538.71 2325.52 1531.6 Q2325.52 1524.47 2323.69 1520.93 Q2321.88 1517.37 2318.25 1517.37 M2318.25 1513.66 Q2324.06 1513.66 2327.11 1518.27 Q2330.19 1522.85 2330.19 1531.6 Q2330.19 1540.33 2327.11 1544.94 Q2324.06 1549.52 2318.25 1549.52 Q2312.44 1549.52 2309.36 1544.94 Q2306.3 1540.33 2306.3 1531.6 Q2306.3 1522.85 2309.36 1518.27 Q2312.44 1513.66 2318.25 1513.66 Z\" fill=\"#000000\" fill-rule=\"evenodd\" fill-opacity=\"1\" /><polyline clip-path=\"url(#clip122)\" style=\"stroke:#000000; stroke-linecap:butt; stroke-linejoin:round; stroke-width:2; stroke-opacity:0.1; fill:none\" points=\"\n",
       "  219.344,1388.19 2352.76,1388.19 \n",
       "  \"/>\n",
       "<polyline clip-path=\"url(#clip122)\" style=\"stroke:#000000; stroke-linecap:butt; stroke-linejoin:round; stroke-width:2; stroke-opacity:0.1; fill:none\" points=\"\n",
       "  219.344,1118.47 2352.76,1118.47 \n",
       "  \"/>\n",
       "<polyline clip-path=\"url(#clip122)\" style=\"stroke:#000000; stroke-linecap:butt; stroke-linejoin:round; stroke-width:2; stroke-opacity:0.1; fill:none\" points=\"\n",
       "  219.344,848.754 2352.76,848.754 \n",
       "  \"/>\n",
       "<polyline clip-path=\"url(#clip122)\" style=\"stroke:#000000; stroke-linecap:butt; stroke-linejoin:round; stroke-width:2; stroke-opacity:0.1; fill:none\" points=\"\n",
       "  219.344,579.038 2352.76,579.038 \n",
       "  \"/>\n",
       "<polyline clip-path=\"url(#clip122)\" style=\"stroke:#000000; stroke-linecap:butt; stroke-linejoin:round; stroke-width:2; stroke-opacity:0.1; fill:none\" points=\"\n",
       "  219.344,309.321 2352.76,309.321 \n",
       "  \"/>\n",
       "<polyline clip-path=\"url(#clip120)\" style=\"stroke:#000000; stroke-linecap:butt; stroke-linejoin:round; stroke-width:4; stroke-opacity:1; fill:none\" points=\"\n",
       "  219.344,1486.45 219.344,47.2441 \n",
       "  \"/>\n",
       "<polyline clip-path=\"url(#clip120)\" style=\"stroke:#000000; stroke-linecap:butt; stroke-linejoin:round; stroke-width:4; stroke-opacity:1; fill:none\" points=\"\n",
       "  219.344,1388.19 238.241,1388.19 \n",
       "  \"/>\n",
       "<polyline clip-path=\"url(#clip120)\" style=\"stroke:#000000; stroke-linecap:butt; stroke-linejoin:round; stroke-width:4; stroke-opacity:1; fill:none\" points=\"\n",
       "  219.344,1118.47 238.241,1118.47 \n",
       "  \"/>\n",
       "<polyline clip-path=\"url(#clip120)\" style=\"stroke:#000000; stroke-linecap:butt; stroke-linejoin:round; stroke-width:4; stroke-opacity:1; fill:none\" points=\"\n",
       "  219.344,848.754 238.241,848.754 \n",
       "  \"/>\n",
       "<polyline clip-path=\"url(#clip120)\" style=\"stroke:#000000; stroke-linecap:butt; stroke-linejoin:round; stroke-width:4; stroke-opacity:1; fill:none\" points=\"\n",
       "  219.344,579.038 238.241,579.038 \n",
       "  \"/>\n",
       "<polyline clip-path=\"url(#clip120)\" style=\"stroke:#000000; stroke-linecap:butt; stroke-linejoin:round; stroke-width:4; stroke-opacity:1; fill:none\" points=\"\n",
       "  219.344,309.321 238.241,309.321 \n",
       "  \"/>\n",
       "<path clip-path=\"url(#clip120)\" d=\"M53.074 1407.98 L60.7128 1407.98 L60.7128 1381.61 L52.4027 1383.28 L52.4027 1379.02 L60.6666 1377.36 L65.3425 1377.36 L65.3425 1407.98 L72.9813 1407.98 L72.9813 1411.92 L53.074 1411.92 L53.074 1407.98 Z\" fill=\"#000000\" fill-rule=\"evenodd\" fill-opacity=\"1\" /><path clip-path=\"url(#clip120)\" d=\"M92.4256 1380.43 Q88.8146 1380.43 86.9859 1384 Q85.1803 1387.54 85.1803 1394.67 Q85.1803 1401.78 86.9859 1405.34 Q88.8146 1408.88 92.4256 1408.88 Q96.0599 1408.88 97.8654 1405.34 Q99.6941 1401.78 99.6941 1394.67 Q99.6941 1387.54 97.8654 1384 Q96.0599 1380.43 92.4256 1380.43 M92.4256 1376.73 Q98.2358 1376.73 101.291 1381.34 Q104.37 1385.92 104.37 1394.67 Q104.37 1403.4 101.291 1408 Q98.2358 1412.59 92.4256 1412.59 Q86.6155 1412.59 83.5368 1408 Q80.4813 1403.4 80.4813 1394.67 Q80.4813 1385.92 83.5368 1381.34 Q86.6155 1376.73 92.4256 1376.73 Z\" fill=\"#000000\" fill-rule=\"evenodd\" fill-opacity=\"1\" /><path clip-path=\"url(#clip120)\" d=\"M104.915 1381.31 L111.122 1381.31 L111.122 1359.89 L104.37 1361.24 L104.37 1357.78 L111.084 1356.42 L114.884 1356.42 L114.884 1381.31 L121.09 1381.31 L121.09 1384.5 L104.915 1384.5 L104.915 1381.31 Z\" fill=\"#000000\" fill-rule=\"evenodd\" fill-opacity=\"1\" /><path clip-path=\"url(#clip120)\" d=\"M128.764 1379.73 L132.732 1379.73 L132.732 1384.5 L128.764 1384.5 L128.764 1379.73 Z\" fill=\"#000000\" fill-rule=\"evenodd\" fill-opacity=\"1\" /><path clip-path=\"url(#clip120)\" d=\"M141.045 1356.42 L155.96 1356.42 L155.96 1359.62 L144.525 1359.62 L144.525 1366.51 Q145.352 1366.22 146.18 1366.09 Q147.007 1365.94 147.835 1365.94 Q152.537 1365.94 155.283 1368.52 Q158.029 1371.09 158.029 1375.5 Q158.029 1380.03 155.207 1382.55 Q152.386 1385.05 147.252 1385.05 Q145.484 1385.05 143.641 1384.75 Q141.816 1384.45 139.86 1383.85 L139.86 1380.03 Q141.553 1380.95 143.359 1381.4 Q145.164 1381.85 147.177 1381.85 Q150.43 1381.85 152.33 1380.14 Q154.229 1378.43 154.229 1375.5 Q154.229 1372.56 152.33 1370.85 Q150.43 1369.14 147.177 1369.14 Q145.653 1369.14 144.13 1369.48 Q142.625 1369.82 141.045 1370.53 L141.045 1356.42 Z\" fill=\"#000000\" fill-rule=\"evenodd\" fill-opacity=\"1\" /><path clip-path=\"url(#clip120)\" d=\"M173.639 1358.93 Q170.705 1358.93 169.219 1361.82 Q167.752 1364.7 167.752 1370.49 Q167.752 1376.27 169.219 1379.16 Q170.705 1382.04 173.639 1382.04 Q176.592 1382.04 178.059 1379.16 Q179.545 1376.27 179.545 1370.49 Q179.545 1364.7 178.059 1361.82 Q176.592 1358.93 173.639 1358.93 M173.639 1355.92 Q178.36 1355.92 180.842 1359.66 Q183.344 1363.38 183.344 1370.49 Q183.344 1377.58 180.842 1381.33 Q178.36 1385.05 173.639 1385.05 Q168.918 1385.05 166.417 1381.33 Q163.934 1377.58 163.934 1370.49 Q163.934 1363.38 166.417 1359.66 Q168.918 1355.92 173.639 1355.92 Z\" fill=\"#000000\" fill-rule=\"evenodd\" fill-opacity=\"1\" /><path clip-path=\"url(#clip120)\" d=\"M53.8827 1138.26 L61.5216 1138.26 L61.5216 1111.9 L53.2114 1113.56 L53.2114 1109.31 L61.4753 1107.64 L66.1512 1107.64 L66.1512 1138.26 L73.79 1138.26 L73.79 1142.2 L53.8827 1142.2 L53.8827 1138.26 Z\" fill=\"#000000\" fill-rule=\"evenodd\" fill-opacity=\"1\" /><path clip-path=\"url(#clip120)\" d=\"M93.2344 1110.72 Q89.6233 1110.72 87.7946 1114.28 Q85.989 1117.82 85.989 1124.95 Q85.989 1132.06 87.7946 1135.62 Q89.6233 1139.17 93.2344 1139.17 Q96.8686 1139.17 98.6742 1135.62 Q100.503 1132.06 100.503 1124.95 Q100.503 1117.82 98.6742 1114.28 Q96.8686 1110.72 93.2344 1110.72 M93.2344 1107.01 Q99.0445 1107.01 102.1 1111.62 Q105.179 1116.2 105.179 1124.95 Q105.179 1133.68 102.1 1138.29 Q99.0445 1142.87 93.2344 1142.87 Q87.4242 1142.87 84.3455 1138.29 Q81.29 1133.68 81.29 1124.95 Q81.29 1116.2 84.3455 1111.62 Q87.4242 1107.01 93.2344 1107.01 Z\" fill=\"#000000\" fill-rule=\"evenodd\" fill-opacity=\"1\" /><path clip-path=\"url(#clip120)\" d=\"M105.724 1111.59 L111.931 1111.59 L111.931 1090.17 L105.179 1091.52 L105.179 1088.06 L111.893 1086.71 L115.692 1086.71 L115.692 1111.59 L121.899 1111.59 L121.899 1114.79 L105.724 1114.79 L105.724 1111.59 Z\" fill=\"#000000\" fill-rule=\"evenodd\" fill-opacity=\"1\" /><path clip-path=\"url(#clip120)\" d=\"M129.572 1110.01 L133.541 1110.01 L133.541 1114.79 L129.572 1114.79 L129.572 1110.01 Z\" fill=\"#000000\" fill-rule=\"evenodd\" fill-opacity=\"1\" /><path clip-path=\"url(#clip120)\" d=\"M140.857 1086.71 L158.913 1086.71 L158.913 1088.33 L148.719 1114.79 L144.75 1114.79 L154.342 1089.91 L140.857 1089.91 L140.857 1086.71 Z\" fill=\"#000000\" fill-rule=\"evenodd\" fill-opacity=\"1\" /><path clip-path=\"url(#clip120)\" d=\"M166.36 1086.71 L181.275 1086.71 L181.275 1089.91 L169.84 1089.91 L169.84 1096.79 Q170.667 1096.51 171.495 1096.38 Q172.322 1096.22 173.15 1096.22 Q177.852 1096.22 180.598 1098.8 Q183.344 1101.38 183.344 1105.78 Q183.344 1110.31 180.523 1112.83 Q177.702 1115.33 172.567 1115.33 Q170.799 1115.33 168.956 1115.03 Q167.132 1114.73 165.176 1114.13 L165.176 1110.31 Q166.868 1111.23 168.674 1111.68 Q170.479 1112.14 172.492 1112.14 Q175.746 1112.14 177.645 1110.42 Q179.545 1108.71 179.545 1105.78 Q179.545 1102.85 177.645 1101.13 Q175.746 1099.42 172.492 1099.42 Q170.968 1099.42 169.445 1099.76 Q167.94 1100.1 166.36 1100.81 L166.36 1086.71 Z\" fill=\"#000000\" fill-rule=\"evenodd\" fill-opacity=\"1\" /><path clip-path=\"url(#clip120)\" d=\"M51.6634 868.547 L59.3023 868.547 L59.3023 842.181 L50.9921 843.848 L50.9921 839.589 L59.256 837.922 L63.9319 837.922 L63.9319 868.547 L71.5707 868.547 L71.5707 872.482 L51.6634 872.482 L51.6634 868.547 Z\" fill=\"#000000\" fill-rule=\"evenodd\" fill-opacity=\"1\" /><path clip-path=\"url(#clip120)\" d=\"M91.0151 841.001 Q87.404 841.001 85.5753 844.565 Q83.7697 848.107 83.7697 855.237 Q83.7697 862.343 85.5753 865.908 Q87.404 869.45 91.0151 869.45 Q94.6493 869.45 96.4548 865.908 Q98.2835 862.343 98.2835 855.237 Q98.2835 848.107 96.4548 844.565 Q94.6493 841.001 91.0151 841.001 M91.0151 837.297 Q96.8252 837.297 99.8808 841.903 Q102.959 846.487 102.959 855.237 Q102.959 863.964 99.8808 868.57 Q96.8252 873.153 91.0151 873.153 Q85.2049 873.153 82.1262 868.57 Q79.0707 863.964 79.0707 855.237 Q79.0707 846.487 82.1262 841.903 Q85.2049 837.297 91.0151 837.297 Z\" fill=\"#000000\" fill-rule=\"evenodd\" fill-opacity=\"1\" /><path clip-path=\"url(#clip120)\" d=\"M107.53 841.874 L120.789 841.874 L120.789 845.072 L102.959 845.072 L102.959 841.874 Q105.122 839.636 108.846 835.875 Q112.589 832.094 113.548 831.003 Q115.373 828.953 116.087 827.543 Q116.821 826.113 116.821 824.74 Q116.821 822.502 115.241 821.092 Q113.68 819.681 111.16 819.681 Q109.373 819.681 107.379 820.302 Q105.404 820.922 103.148 822.183 L103.148 818.346 Q105.442 817.424 107.436 816.954 Q109.429 816.484 111.084 816.484 Q115.448 816.484 118.043 818.665 Q120.639 820.847 120.639 824.496 Q120.639 826.226 119.98 827.787 Q119.341 829.329 117.63 831.436 Q117.159 831.981 114.639 834.596 Q112.119 837.191 107.53 841.874 Z\" fill=\"#000000\" fill-rule=\"evenodd\" fill-opacity=\"1\" /><path clip-path=\"url(#clip120)\" d=\"M128.764 840.294 L132.732 840.294 L132.732 845.072 L128.764 845.072 L128.764 840.294 Z\" fill=\"#000000\" fill-rule=\"evenodd\" fill-opacity=\"1\" /><path clip-path=\"url(#clip120)\" d=\"M149.133 819.493 Q146.199 819.493 144.713 822.389 Q143.246 825.267 143.246 831.06 Q143.246 836.834 144.713 839.73 Q146.199 842.608 149.133 842.608 Q152.085 842.608 153.552 839.73 Q155.038 836.834 155.038 831.06 Q155.038 825.267 153.552 822.389 Q152.085 819.493 149.133 819.493 M149.133 816.484 Q153.853 816.484 156.336 820.227 Q158.837 823.95 158.837 831.06 Q158.837 838.15 156.336 841.893 Q153.853 845.617 149.133 845.617 Q144.412 845.617 141.91 841.893 Q139.428 838.15 139.428 831.06 Q139.428 823.95 141.91 820.227 Q144.412 816.484 149.133 816.484 Z\" fill=\"#000000\" fill-rule=\"evenodd\" fill-opacity=\"1\" /><path clip-path=\"url(#clip120)\" d=\"M173.639 819.493 Q170.705 819.493 169.219 822.389 Q167.752 825.267 167.752 831.06 Q167.752 836.834 169.219 839.73 Q170.705 842.608 173.639 842.608 Q176.592 842.608 178.059 839.73 Q179.545 836.834 179.545 831.06 Q179.545 825.267 178.059 822.389 Q176.592 819.493 173.639 819.493 M173.639 816.484 Q178.36 816.484 180.842 820.227 Q183.344 823.95 183.344 831.06 Q183.344 838.15 180.842 841.893 Q178.36 845.617 173.639 845.617 Q168.918 845.617 166.417 841.893 Q163.934 838.15 163.934 831.06 Q163.934 823.95 166.417 820.227 Q168.918 816.484 173.639 816.484 Z\" fill=\"#000000\" fill-rule=\"evenodd\" fill-opacity=\"1\" /><path clip-path=\"url(#clip120)\" d=\"M52.4722 598.83 L60.111 598.83 L60.111 572.465 L51.8009 574.131 L51.8009 569.872 L60.0647 568.205 L64.7406 568.205 L64.7406 598.83 L72.3795 598.83 L72.3795 602.765 L52.4722 602.765 L52.4722 598.83 Z\" fill=\"#000000\" fill-rule=\"evenodd\" fill-opacity=\"1\" /><path clip-path=\"url(#clip120)\" d=\"M91.8238 571.284 Q88.2127 571.284 86.384 574.849 Q84.5785 578.391 84.5785 585.52 Q84.5785 592.627 86.384 596.191 Q88.2127 599.733 91.8238 599.733 Q95.458 599.733 97.2636 596.191 Q99.0923 592.627 99.0923 585.52 Q99.0923 578.391 97.2636 574.849 Q95.458 571.284 91.8238 571.284 M91.8238 567.58 Q97.6339 567.58 100.689 572.187 Q103.768 576.77 103.768 585.52 Q103.768 594.247 100.689 598.853 Q97.6339 603.437 91.8238 603.437 Q86.0136 603.437 82.935 598.853 Q79.8794 594.247 79.8794 585.52 Q79.8794 576.77 82.935 572.187 Q86.0136 567.58 91.8238 567.58 Z\" fill=\"#000000\" fill-rule=\"evenodd\" fill-opacity=\"1\" /><path clip-path=\"url(#clip120)\" d=\"M108.338 572.158 L121.598 572.158 L121.598 575.355 L103.768 575.355 L103.768 572.158 Q105.931 569.92 109.655 566.158 Q113.398 562.378 114.357 561.287 Q116.181 559.237 116.896 557.826 Q117.63 556.397 117.63 555.024 Q117.63 552.786 116.05 551.375 Q114.489 549.965 111.968 549.965 Q110.182 549.965 108.188 550.585 Q106.213 551.206 103.956 552.466 L103.956 548.629 Q106.251 547.708 108.244 547.237 Q110.238 546.767 111.893 546.767 Q116.257 546.767 118.852 548.949 Q121.447 551.131 121.447 554.779 Q121.447 556.51 120.789 558.071 Q120.15 559.613 118.438 561.719 Q117.968 562.265 115.448 564.879 Q112.928 567.475 108.338 572.158 Z\" fill=\"#000000\" fill-rule=\"evenodd\" fill-opacity=\"1\" /><path clip-path=\"url(#clip120)\" d=\"M129.572 570.578 L133.541 570.578 L133.541 575.355 L129.572 575.355 L129.572 570.578 Z\" fill=\"#000000\" fill-rule=\"evenodd\" fill-opacity=\"1\" /><path clip-path=\"url(#clip120)\" d=\"M145.089 572.158 L158.348 572.158 L158.348 575.355 L140.519 575.355 L140.519 572.158 Q142.681 569.92 146.405 566.158 Q150.148 562.378 151.107 561.287 Q152.932 559.237 153.646 557.826 Q154.38 556.397 154.38 555.024 Q154.38 552.786 152.8 551.375 Q151.239 549.965 148.719 549.965 Q146.932 549.965 144.938 550.585 Q142.964 551.206 140.707 552.466 L140.707 548.629 Q143.001 547.708 144.995 547.237 Q146.988 546.767 148.644 546.767 Q153.007 546.767 155.602 548.949 Q158.198 551.131 158.198 554.779 Q158.198 556.51 157.54 558.071 Q156.9 559.613 155.189 561.719 Q154.718 562.265 152.198 564.879 Q149.678 567.475 145.089 572.158 Z\" fill=\"#000000\" fill-rule=\"evenodd\" fill-opacity=\"1\" /><path clip-path=\"url(#clip120)\" d=\"M166.36 547.275 L181.275 547.275 L181.275 550.472 L169.84 550.472 L169.84 557.356 Q170.667 557.074 171.495 556.942 Q172.322 556.792 173.15 556.792 Q177.852 556.792 180.598 559.368 Q183.344 561.945 183.344 566.346 Q183.344 570.879 180.523 573.399 Q177.702 575.901 172.567 575.901 Q170.799 575.901 168.956 575.6 Q167.132 575.299 165.176 574.697 L165.176 570.879 Q166.868 571.8 168.674 572.252 Q170.479 572.703 172.492 572.703 Q175.746 572.703 177.645 570.992 Q179.545 569.28 179.545 566.346 Q179.545 563.412 177.645 561.701 Q175.746 559.989 172.492 559.989 Q170.968 559.989 169.445 560.328 Q167.94 560.666 166.36 561.381 L166.36 547.275 Z\" fill=\"#000000\" fill-rule=\"evenodd\" fill-opacity=\"1\" /><path clip-path=\"url(#clip120)\" d=\"M51.6634 329.114 L59.3023 329.114 L59.3023 302.748 L50.9921 304.415 L50.9921 300.156 L59.256 298.489 L63.9319 298.489 L63.9319 329.114 L71.5707 329.114 L71.5707 333.049 L51.6634 333.049 L51.6634 329.114 Z\" fill=\"#000000\" fill-rule=\"evenodd\" fill-opacity=\"1\" /><path clip-path=\"url(#clip120)\" d=\"M91.0151 301.568 Q87.404 301.568 85.5753 305.132 Q83.7697 308.674 83.7697 315.804 Q83.7697 322.91 85.5753 326.475 Q87.404 330.017 91.0151 330.017 Q94.6493 330.017 96.4548 326.475 Q98.2835 322.91 98.2835 315.804 Q98.2835 308.674 96.4548 305.132 Q94.6493 301.568 91.0151 301.568 M91.0151 297.864 Q96.8252 297.864 99.8808 302.47 Q102.959 307.054 102.959 315.804 Q102.959 324.53 99.8808 329.137 Q96.8252 333.72 91.0151 333.72 Q85.2049 333.72 82.1262 329.137 Q79.0707 324.53 79.0707 315.804 Q79.0707 307.054 82.1262 302.47 Q85.2049 297.864 91.0151 297.864 Z\" fill=\"#000000\" fill-rule=\"evenodd\" fill-opacity=\"1\" /><path clip-path=\"url(#clip120)\" d=\"M107.53 302.441 L120.789 302.441 L120.789 305.639 L102.959 305.639 L102.959 302.441 Q105.122 300.203 108.846 296.442 Q112.589 292.661 113.548 291.57 Q115.373 289.52 116.087 288.11 Q116.821 286.68 116.821 285.307 Q116.821 283.069 115.241 281.659 Q113.68 280.248 111.16 280.248 Q109.373 280.248 107.379 280.869 Q105.404 281.489 103.148 282.75 L103.148 278.913 Q105.442 277.991 107.436 277.521 Q109.429 277.051 111.084 277.051 Q115.448 277.051 118.043 279.232 Q120.639 281.414 120.639 285.063 Q120.639 286.793 119.98 288.354 Q119.341 289.896 117.63 292.003 Q117.159 292.548 114.639 295.163 Q112.119 297.758 107.53 302.441 Z\" fill=\"#000000\" fill-rule=\"evenodd\" fill-opacity=\"1\" /><path clip-path=\"url(#clip120)\" d=\"M128.764 300.861 L132.732 300.861 L132.732 305.639 L128.764 305.639 L128.764 300.861 Z\" fill=\"#000000\" fill-rule=\"evenodd\" fill-opacity=\"1\" /><path clip-path=\"url(#clip120)\" d=\"M141.045 277.559 L155.96 277.559 L155.96 280.756 L144.525 280.756 L144.525 287.64 Q145.352 287.357 146.18 287.226 Q147.007 287.075 147.835 287.075 Q152.537 287.075 155.283 289.652 Q158.029 292.229 158.029 296.63 Q158.029 301.162 155.207 303.683 Q152.386 306.184 147.252 306.184 Q145.484 306.184 143.641 305.883 Q141.816 305.582 139.86 304.98 L139.86 301.162 Q141.553 302.084 143.359 302.535 Q145.164 302.987 147.177 302.987 Q150.43 302.987 152.33 301.275 Q154.229 299.564 154.229 296.63 Q154.229 293.696 152.33 291.984 Q150.43 290.273 147.177 290.273 Q145.653 290.273 144.13 290.611 Q142.625 290.95 141.045 291.664 L141.045 277.559 Z\" fill=\"#000000\" fill-rule=\"evenodd\" fill-opacity=\"1\" /><path clip-path=\"url(#clip120)\" d=\"M173.639 280.06 Q170.705 280.06 169.219 282.956 Q167.752 285.834 167.752 291.627 Q167.752 297.401 169.219 300.297 Q170.705 303.175 173.639 303.175 Q176.592 303.175 178.059 300.297 Q179.545 297.401 179.545 291.627 Q179.545 285.834 178.059 282.956 Q176.592 280.06 173.639 280.06 M173.639 277.051 Q178.36 277.051 180.842 280.793 Q183.344 284.517 183.344 291.627 Q183.344 298.717 180.842 302.46 Q178.36 306.184 173.639 306.184 Q168.918 306.184 166.417 302.46 Q163.934 298.717 163.934 291.627 Q163.934 284.517 166.417 280.793 Q168.918 277.051 173.639 277.051 Z\" fill=\"#000000\" fill-rule=\"evenodd\" fill-opacity=\"1\" /><polyline clip-path=\"url(#clip122)\" style=\"stroke:#009af9; stroke-linecap:butt; stroke-linejoin:round; stroke-width:16; stroke-opacity:1; fill:none\" points=\"\n",
       "  279.723,87.9763 283.749,412.734 287.774,487.742 291.799,550.623 295.825,606.106 299.85,656.736 303.875,704.013 307.901,748.78 311.926,791.491 315.951,832.371 \n",
       "  319.976,871.522 324.002,908.976 328.027,944.734 332.052,978.78 336.078,1011.1 340.103,1041.67 344.128,1070.5 348.154,1097.59 352.179,1122.96 356.204,1146.63 \n",
       "  360.23,1168.65 364.255,1189.06 368.28,1207.92 372.305,1225.31 376.331,1241.29 380.356,1255.93 384.381,1269.32 388.407,1281.54 392.432,1292.67 396.457,1302.79 \n",
       "  400.483,1311.97 404.508,1320.29 408.533,1327.83 412.559,1334.65 416.584,1340.81 420.609,1346.37 424.634,1351.4 428.66,1355.94 432.685,1360.04 436.71,1363.74 \n",
       "  440.736,1367.09 444.761,1370.11 448.786,1372.85 452.812,1375.33 456.837,1377.57 460.862,1379.61 464.887,1381.46 468.913,1383.14 472.938,1384.67 476.963,1386.07 \n",
       "  480.989,1387.35 485.014,1388.53 489.039,1389.6 493.065,1390.59 497.09,1391.51 501.115,1392.35 505.141,1393.13 509.166,1393.86 513.191,1394.53 517.216,1395.16 \n",
       "  521.242,1395.75 525.267,1396.3 529.292,1396.81 533.318,1397.3 537.343,1397.76 541.368,1398.2 545.394,1398.61 549.419,1399 553.444,1399.37 557.47,1399.72 \n",
       "  561.495,1400.06 565.52,1400.38 569.545,1400.69 573.571,1400.99 577.596,1401.28 581.621,1401.55 585.647,1401.82 589.672,1402.07 593.697,1402.32 597.723,1402.56 \n",
       "  601.748,1402.79 605.773,1403.01 609.799,1403.23 613.824,1403.44 617.849,1403.64 621.874,1403.84 625.9,1404.03 629.925,1404.22 633.95,1404.4 637.976,1404.58 \n",
       "  642.001,1404.75 646.026,1404.92 650.052,1405.08 654.077,1405.24 658.102,1405.4 662.127,1405.55 666.153,1405.7 670.178,1405.85 674.203,1405.99 678.229,1406.13 \n",
       "  682.254,1406.26 686.279,1406.39 690.305,1406.52 694.33,1406.65 698.355,1406.77 702.381,1406.89 706.406,1407.01 710.431,1407.12 714.456,1407.24 718.482,1407.35 \n",
       "  722.507,1407.45 726.532,1407.56 730.558,1407.66 734.583,1407.76 738.608,1407.86 742.634,1407.96 746.659,1408.05 750.684,1408.15 754.71,1408.24 758.735,1408.33 \n",
       "  762.76,1408.41 766.785,1408.5 770.811,1408.58 774.836,1408.66 778.861,1408.74 782.887,1408.82 786.912,1408.9 790.937,1408.97 794.963,1409.05 798.988,1409.12 \n",
       "  803.013,1409.19 807.038,1409.26 811.064,1409.33 815.089,1409.4 819.114,1409.46 823.14,1409.53 827.165,1409.59 831.19,1409.65 835.216,1409.71 839.241,1409.77 \n",
       "  843.266,1409.83 847.292,1409.89 851.317,1409.95 855.342,1410 859.367,1410.06 863.393,1410.11 867.418,1410.16 871.443,1410.21 875.469,1410.26 879.494,1410.31 \n",
       "  883.519,1410.36 887.545,1410.41 891.57,1410.46 895.595,1410.51 899.621,1410.55 903.646,1410.6 907.671,1410.64 911.696,1410.68 915.722,1410.73 919.747,1410.77 \n",
       "  923.772,1410.81 927.798,1410.85 931.823,1410.89 935.848,1410.93 939.874,1410.97 943.899,1411.01 947.924,1411.04 951.949,1411.08 955.975,1411.12 960,1411.15 \n",
       "  964.025,1411.19 968.051,1411.22 972.076,1411.26 976.101,1411.29 980.127,1411.33 984.152,1411.36 988.177,1411.39 992.203,1411.42 996.228,1411.45 1000.25,1411.49 \n",
       "  1004.28,1411.52 1008.3,1411.55 1012.33,1411.58 1016.35,1411.61 1020.38,1411.63 1024.41,1411.66 1028.43,1411.69 1032.46,1411.72 1036.48,1411.75 1040.51,1411.77 \n",
       "  1044.53,1411.8 1048.56,1411.83 1052.58,1411.85 1056.61,1411.88 1060.63,1411.91 1064.66,1411.93 1068.68,1411.96 1072.71,1411.98 1076.73,1412.01 1080.76,1412.03 \n",
       "  1084.78,1412.05 1088.81,1412.08 1092.84,1412.1 1096.86,1412.12 1100.89,1412.15 1104.91,1412.17 1108.94,1412.19 1112.96,1412.21 1116.99,1412.24 1121.01,1412.26 \n",
       "  1125.04,1412.28 1129.06,1412.3 1133.09,1412.32 1137.11,1412.34 1141.14,1412.36 1145.16,1412.38 1149.19,1412.4 1153.21,1412.42 1157.24,1412.44 1161.27,1412.46 \n",
       "  1165.29,1412.48 1169.32,1412.5 1173.34,1412.52 1177.37,1412.54 1181.39,1412.56 1185.42,1412.58 1189.44,1412.6 1193.47,1412.62 1197.49,1412.64 1201.52,1412.65 \n",
       "  1205.54,1412.67 1209.57,1412.69 1213.59,1412.71 1217.62,1412.73 1221.64,1412.74 1225.67,1412.76 1229.7,1412.78 1233.72,1412.8 1237.75,1412.81 1241.77,1412.83 \n",
       "  1245.8,1412.85 1249.82,1412.86 1253.85,1412.88 1257.87,1412.9 1261.9,1412.91 1265.92,1412.93 1269.95,1412.95 1273.97,1412.96 1278,1412.98 1282.02,1412.99 \n",
       "  1286.05,1413.01 1290.08,1413.03 1294.1,1413.04 1298.13,1413.06 1302.15,1413.07 1306.18,1413.09 1310.2,1413.1 1314.23,1413.12 1318.25,1413.13 1322.28,1413.15 \n",
       "  1326.3,1413.16 1330.33,1413.18 1334.35,1413.19 1338.38,1413.21 1342.4,1413.22 1346.43,1413.24 1350.45,1413.25 1354.48,1413.27 1358.51,1413.28 1362.53,1413.29 \n",
       "  1366.56,1413.31 1370.58,1413.32 1374.61,1413.34 1378.63,1413.35 1382.66,1413.37 1386.68,1413.38 1390.71,1413.39 1394.73,1413.41 1398.76,1413.42 1402.78,1413.44 \n",
       "  1406.81,1413.45 1410.83,1413.46 1414.86,1413.48 1418.88,1413.49 1422.91,1413.5 1426.94,1413.52 1430.96,1413.53 1434.99,1413.54 1439.01,1413.56 1443.04,1413.57 \n",
       "  1447.06,1413.58 1451.09,1413.6 1455.11,1413.61 1459.14,1413.62 1463.16,1413.64 1467.19,1413.65 1471.21,1413.66 1475.24,1413.67 1479.26,1413.69 1483.29,1413.7 \n",
       "  1487.32,1413.71 1491.34,1413.72 1495.37,1413.74 1499.39,1413.75 1503.42,1413.76 1507.44,1413.78 1511.47,1413.79 1515.49,1413.8 1519.52,1413.81 1523.54,1413.83 \n",
       "  1527.57,1413.84 1531.59,1413.85 1535.62,1413.86 1539.64,1413.87 1543.67,1413.89 1547.69,1413.9 1551.72,1413.91 1555.75,1413.92 1559.77,1413.94 1563.8,1413.95 \n",
       "  1567.82,1413.96 1571.85,1413.97 1575.87,1413.98 1579.9,1414 1583.92,1414.01 1587.95,1414.02 1591.97,1414.03 1596,1414.04 1600.02,1414.05 1604.05,1414.07 \n",
       "  1608.07,1414.08 1612.1,1414.09 1616.12,1414.1 1620.15,1414.11 1624.18,1414.12 1628.2,1414.14 1632.23,1414.15 1636.25,1414.16 1640.28,1414.17 1644.3,1414.18 \n",
       "  1648.33,1414.19 1652.35,1414.21 1656.38,1414.22 1660.4,1414.23 1664.43,1414.24 1668.45,1414.25 1672.48,1414.26 1676.5,1414.27 1680.53,1414.28 1684.56,1414.3 \n",
       "  1688.58,1414.31 1692.61,1414.32 1696.63,1414.33 1700.66,1414.34 1704.68,1414.35 1708.71,1414.36 1712.73,1414.37 1716.76,1414.38 1720.78,1414.4 1724.81,1414.41 \n",
       "  1728.83,1414.42 1732.86,1414.43 1736.88,1414.44 1740.91,1414.45 1744.93,1414.46 1748.96,1414.47 1752.99,1414.48 1757.01,1414.49 1761.04,1414.5 1765.06,1414.52 \n",
       "  1769.09,1414.53 1773.11,1414.54 1777.14,1414.55 1781.16,1414.56 1785.19,1414.57 1789.21,1414.58 1793.24,1414.59 1797.26,1414.6 1801.29,1414.61 1805.31,1414.62 \n",
       "  1809.34,1414.63 1813.36,1414.64 1817.39,1414.65 1821.42,1414.66 1825.44,1414.68 1829.47,1414.69 1833.49,1414.7 1837.52,1414.71 1841.54,1414.72 1845.57,1414.73 \n",
       "  1849.59,1414.74 1853.62,1414.75 1857.64,1414.76 1861.67,1414.77 1865.69,1414.78 1869.72,1414.79 1873.74,1414.8 1877.77,1414.81 1881.8,1414.82 1885.82,1414.83 \n",
       "  1889.85,1414.84 1893.87,1414.85 1897.9,1414.86 1901.92,1414.87 1905.95,1414.88 1909.97,1414.89 1914,1414.9 1918.02,1414.91 1922.05,1414.92 1926.07,1414.93 \n",
       "  1930.1,1414.94 1934.12,1414.95 1938.15,1414.96 1942.17,1414.97 1946.2,1414.98 1950.23,1414.99 1954.25,1415 1958.28,1415.01 1962.3,1415.02 1966.33,1415.03 \n",
       "  1970.35,1415.04 1974.38,1415.05 1978.4,1415.06 1982.43,1415.07 1986.45,1415.08 1990.48,1415.09 1994.5,1415.1 1998.53,1415.11 2002.55,1415.12 2006.58,1415.13 \n",
       "  2010.6,1415.14 2014.63,1415.15 2018.66,1415.16 2022.68,1415.17 2026.71,1415.18 2030.73,1415.19 2034.76,1415.2 2038.78,1415.21 2042.81,1415.22 2046.83,1415.23 \n",
       "  2050.86,1415.24 2054.88,1415.25 2058.91,1415.26 2062.93,1415.27 2066.96,1415.28 2070.98,1415.29 2075.01,1415.3 2079.04,1415.31 2083.06,1415.32 2087.09,1415.33 \n",
       "  2091.11,1415.34 2095.14,1415.35 2099.16,1415.35 2103.19,1415.36 2107.21,1415.37 2111.24,1415.38 2115.26,1415.39 2119.29,1415.4 2123.31,1415.41 2127.34,1415.42 \n",
       "  2131.36,1415.43 2135.39,1415.44 2139.41,1415.45 2143.44,1415.46 2147.47,1415.47 2151.49,1415.48 2155.52,1415.49 2159.54,1415.5 2163.57,1415.51 2167.59,1415.52 \n",
       "  2171.62,1415.52 2175.64,1415.53 2179.67,1415.54 2183.69,1415.55 2187.72,1415.56 2191.74,1415.57 2195.77,1415.58 2199.79,1415.59 2203.82,1415.6 2207.84,1415.61 \n",
       "  2211.87,1415.62 2215.9,1415.63 2219.92,1415.64 2223.95,1415.64 2227.97,1415.65 2232,1415.66 2236.02,1415.67 2240.05,1415.68 2244.07,1415.69 2248.1,1415.7 \n",
       "  2252.12,1415.71 2256.15,1415.72 2260.17,1415.73 2264.2,1415.74 2268.22,1415.75 2272.25,1415.75 2276.28,1415.76 2280.3,1415.77 2284.33,1415.78 2288.35,1415.79 \n",
       "  2292.38,1415.8 \n",
       "  \"/>\n",
       "<polyline clip-path=\"url(#clip122)\" style=\"stroke:#000000; stroke-linecap:butt; stroke-linejoin:round; stroke-width:16; stroke-opacity:1; fill:none\" points=\"\n",
       "  279.723,1445.72 299.379,1445.72 481.119,1445.72 590.338,1445.72 682.681,1445.72 782.991,1445.72 875.468,1445.72 974.614,1445.72 1089.48,1445.72 1191.57,1445.72 \n",
       "  1281.08,1445.72 1378.68,1445.72 1476.86,1445.72 1585.41,1445.72 1688.69,1445.72 1796.08,1445.72 1886.47,1445.72 1996.84,1445.72 2100.59,1445.72 2266.8,1445.72 \n",
       "  2292.38,1445.72 \n",
       "  \"/>\n",
       "<path clip-path=\"url(#clip120)\" d=\"\n",
       "M1965.95 328.498 L2281.64 328.498 L2281.64 95.2176 L1965.95 95.2176  Z\n",
       "  \" fill=\"#ffffff\" fill-rule=\"evenodd\" fill-opacity=\"1\"/>\n",
       "<polyline clip-path=\"url(#clip120)\" style=\"stroke:#000000; stroke-linecap:butt; stroke-linejoin:round; stroke-width:4; stroke-opacity:1; fill:none\" points=\"\n",
       "  1965.95,328.498 2281.64,328.498 2281.64,95.2176 1965.95,95.2176 1965.95,328.498 \n",
       "  \"/>\n",
       "<polyline clip-path=\"url(#clip120)\" style=\"stroke:#009af9; stroke-linecap:butt; stroke-linejoin:round; stroke-width:6; stroke-opacity:1; fill:none\" points=\"\n",
       "  1989.66,172.978 2131.88,172.978 \n",
       "  \"/>\n",
       "<path clip-path=\"url(#clip120)\" d=\"M2176.35 202.509 Q2173.64 209.453 2171.07 211.571 Q2168.5 213.689 2164.2 213.689 L2159.09 213.689 L2159.09 208.342 L2162.84 208.342 Q2165.48 208.342 2166.94 207.092 Q2168.4 205.842 2170.17 201.189 L2171.32 198.273 L2155.59 160.009 L2162.36 160.009 L2174.51 190.425 L2186.66 160.009 L2193.43 160.009 L2176.35 202.509 Z\" fill=\"#000000\" fill-rule=\"evenodd\" fill-opacity=\"1\" /><path clip-path=\"url(#clip120)\" d=\"M2204.37 192.995 L2215.83 192.995 L2215.83 153.446 L2203.37 155.946 L2203.37 149.558 L2215.76 147.058 L2222.77 147.058 L2222.77 192.995 L2234.23 192.995 L2234.23 198.898 L2204.37 198.898 L2204.37 192.995 Z\" fill=\"#000000\" fill-rule=\"evenodd\" fill-opacity=\"1\" /><polyline clip-path=\"url(#clip120)\" style=\"stroke:#000000; stroke-linecap:butt; stroke-linejoin:round; stroke-width:6; stroke-opacity:1; fill:none\" points=\"\n",
       "  1989.66,250.738 2131.88,250.738 \n",
       "  \"/>\n",
       "<path clip-path=\"url(#clip120)\" d=\"M2176.35 280.269 Q2173.64 287.213 2171.07 289.331 Q2168.5 291.449 2164.2 291.449 L2159.09 291.449 L2159.09 286.102 L2162.84 286.102 Q2165.48 286.102 2166.94 284.852 Q2168.4 283.602 2170.17 278.949 L2171.32 276.033 L2155.59 237.769 L2162.36 237.769 L2174.51 268.185 L2186.66 237.769 L2193.43 237.769 L2176.35 280.269 Z\" fill=\"#000000\" fill-rule=\"evenodd\" fill-opacity=\"1\" /><path clip-path=\"url(#clip120)\" d=\"M2209.2 270.755 L2233.68 270.755 L2233.68 276.658 L2200.76 276.658 L2200.76 270.755 Q2204.75 266.623 2211.63 259.678 Q2218.54 252.699 2220.31 250.685 Q2223.68 246.901 2225 244.297 Q2226.35 241.658 2226.35 239.123 Q2226.35 234.991 2223.43 232.387 Q2220.55 229.783 2215.9 229.783 Q2212.6 229.783 2208.92 230.929 Q2205.27 232.074 2201.11 234.401 L2201.11 227.318 Q2205.34 225.616 2209.02 224.748 Q2212.71 223.88 2215.76 223.88 Q2223.82 223.88 2228.61 227.908 Q2233.4 231.936 2233.4 238.672 Q2233.4 241.866 2232.18 244.748 Q2231 247.595 2227.84 251.484 Q2226.98 252.491 2222.32 257.317 Q2217.67 262.109 2209.2 270.755 Z\" fill=\"#000000\" fill-rule=\"evenodd\" fill-opacity=\"1\" /></svg>\n"
      ]
     },
     "execution_count": 6,
     "metadata": {},
     "output_type": "execute_result"
    }
   ],
   "source": [
    "c0 = V \\ y\n",
    "l0 = 0.5 * norm(V * c0 - y)^2\n",
    "@show cond(V' * V)\n",
    "plot(lhist, yscale=:log10)\n",
    "plot!(i -> l0, color=:black)"
   ]
  },
  {
   "cell_type": "markdown",
   "id": "8c8e60c7",
   "metadata": {
    "slideshow": {
     "slide_type": "slide"
    }
   },
   "source": [
    "# Why use QR vs gradient-based optimization?"
   ]
  },
  {
   "cell_type": "markdown",
   "id": "7a95e2e9",
   "metadata": {
    "slideshow": {
     "slide_type": "slide"
    }
   },
   "source": [
    "# Nonlinear models\n",
    "\n",
    "Instead of the linear model\n",
    "$$ f(x,c) = V(x) c = c_0 + c_1 \\underbrace{x}_{T_1(x)} + c_2 T_2(x) + \\dotsb $$\n",
    "let's consider a rational model with only three parameters\n",
    "$$ f(x,c) = \\frac{1}{c_1 + c_2 x + c_3 x^2} = (c_1 + c_2 x + c_3 x^2)^{-1} . $$\n",
    "We'll use the same loss function\n",
    "$$ L(c; x,y) = \\frac 1 2 \\lVert f(x,c) - y \\rVert^2 . $$\n",
    "\n",
    "We will also need the gradient\n",
    "$$ \\nabla_c L(c; x,y) = \\big( f(x,c) - y \\big)^T \\nabla_c f(x,c) $$\n",
    "where\n",
    "\\begin{align}\n",
    "\\frac{\\partial f(x,c)}{\\partial c_1} &= -(c_1 + c_2 x + c_3 x^2)^{-2} = - f(x,c)^2 \\\\\n",
    "\\frac{\\partial f(x,c)}{\\partial c_2} &= -(c_1 + c_2 x + c_3 x^2)^{-2} x = - f(x,c)^2 x \\\\\n",
    "\\frac{\\partial f(x,c)}{\\partial c_3} &= -(c_1 + c_2 x + c_3 x^2)^{-2} x^2 = - f(x,c)^2 x^2 .\n",
    "\\end{align}"
   ]
  },
  {
   "cell_type": "markdown",
   "id": "247e6403",
   "metadata": {
    "slideshow": {
     "slide_type": "slide"
    }
   },
   "source": [
    "# Fitting a rational function"
   ]
  },
  {
   "cell_type": "code",
   "execution_count": 7,
   "id": "d6c610e7",
   "metadata": {
    "cell_style": "split"
   },
   "outputs": [
    {
     "data": {
      "text/plain": [
       "gradient (generic function with 1 method)"
      ]
     },
     "execution_count": 7,
     "metadata": {},
     "output_type": "execute_result"
    }
   ],
   "source": [
    "f(x, c) = 1 ./ (c[1] .+ c[2].*x + c[3].*x.^2)\n",
    "function gradf(x, c)\n",
    "    f2 = f(x, c).^2\n",
    "    [-f2 -f2.*x -f2.*x.^2]\n",
    "end\n",
    "function loss(c)\n",
    "    r = f(x, c) - y\n",
    "    0.5 * r' * r\n",
    "end\n",
    "function gradient(c)\n",
    "    r = f(x, c) - y\n",
    "    vec(r' * gradf(x, c))\n",
    "end"
   ]
  },
  {
   "cell_type": "code",
   "execution_count": 8,
   "id": "ffd37ce6",
   "metadata": {
    "cell_style": "split"
   },
   "outputs": [
    {
     "data": {
      "image/svg+xml": [
       "<?xml version=\"1.0\" encoding=\"utf-8\"?>\n",
       "<svg xmlns=\"http://www.w3.org/2000/svg\" xmlns:xlink=\"http://www.w3.org/1999/xlink\" width=\"600\" height=\"400\" viewBox=\"0 0 2400 1600\">\n",
       "<defs>\n",
       "  <clipPath id=\"clip160\">\n",
       "    <rect x=\"0\" y=\"0\" width=\"2400\" height=\"1600\"/>\n",
       "  </clipPath>\n",
       "</defs>\n",
       "<path clip-path=\"url(#clip160)\" d=\"\n",
       "M0 1600 L2400 1600 L2400 0 L0 0  Z\n",
       "  \" fill=\"#ffffff\" fill-rule=\"evenodd\" fill-opacity=\"1\"/>\n",
       "<defs>\n",
       "  <clipPath id=\"clip161\">\n",
       "    <rect x=\"480\" y=\"0\" width=\"1681\" height=\"1600\"/>\n",
       "  </clipPath>\n",
       "</defs>\n",
       "<path clip-path=\"url(#clip160)\" d=\"\n",
       "M193.558 1486.45 L2352.76 1486.45 L2352.76 47.2441 L193.558 47.2441  Z\n",
       "  \" fill=\"#ffffff\" fill-rule=\"evenodd\" fill-opacity=\"1\"/>\n",
       "<defs>\n",
       "  <clipPath id=\"clip162\">\n",
       "    <rect x=\"193\" y=\"47\" width=\"2160\" height=\"1440\"/>\n",
       "  </clipPath>\n",
       "</defs>\n",
       "<polyline clip-path=\"url(#clip162)\" style=\"stroke:#000000; stroke-linecap:butt; stroke-linejoin:round; stroke-width:2; stroke-opacity:0.1; fill:none\" points=\"\n",
       "  250.594,1486.45 250.594,47.2441 \n",
       "  \"/>\n",
       "<polyline clip-path=\"url(#clip162)\" style=\"stroke:#000000; stroke-linecap:butt; stroke-linejoin:round; stroke-width:2; stroke-opacity:0.1; fill:none\" points=\"\n",
       "  657.99,1486.45 657.99,47.2441 \n",
       "  \"/>\n",
       "<polyline clip-path=\"url(#clip162)\" style=\"stroke:#000000; stroke-linecap:butt; stroke-linejoin:round; stroke-width:2; stroke-opacity:0.1; fill:none\" points=\"\n",
       "  1065.39,1486.45 1065.39,47.2441 \n",
       "  \"/>\n",
       "<polyline clip-path=\"url(#clip162)\" style=\"stroke:#000000; stroke-linecap:butt; stroke-linejoin:round; stroke-width:2; stroke-opacity:0.1; fill:none\" points=\"\n",
       "  1472.78,1486.45 1472.78,47.2441 \n",
       "  \"/>\n",
       "<polyline clip-path=\"url(#clip162)\" style=\"stroke:#000000; stroke-linecap:butt; stroke-linejoin:round; stroke-width:2; stroke-opacity:0.1; fill:none\" points=\"\n",
       "  1880.18,1486.45 1880.18,47.2441 \n",
       "  \"/>\n",
       "<polyline clip-path=\"url(#clip162)\" style=\"stroke:#000000; stroke-linecap:butt; stroke-linejoin:round; stroke-width:2; stroke-opacity:0.1; fill:none\" points=\"\n",
       "  2287.57,1486.45 2287.57,47.2441 \n",
       "  \"/>\n",
       "<polyline clip-path=\"url(#clip160)\" style=\"stroke:#000000; stroke-linecap:butt; stroke-linejoin:round; stroke-width:4; stroke-opacity:1; fill:none\" points=\"\n",
       "  193.558,1486.45 2352.76,1486.45 \n",
       "  \"/>\n",
       "<polyline clip-path=\"url(#clip160)\" style=\"stroke:#000000; stroke-linecap:butt; stroke-linejoin:round; stroke-width:4; stroke-opacity:1; fill:none\" points=\"\n",
       "  250.594,1486.45 250.594,1467.55 \n",
       "  \"/>\n",
       "<polyline clip-path=\"url(#clip160)\" style=\"stroke:#000000; stroke-linecap:butt; stroke-linejoin:round; stroke-width:4; stroke-opacity:1; fill:none\" points=\"\n",
       "  657.99,1486.45 657.99,1467.55 \n",
       "  \"/>\n",
       "<polyline clip-path=\"url(#clip160)\" style=\"stroke:#000000; stroke-linecap:butt; stroke-linejoin:round; stroke-width:4; stroke-opacity:1; fill:none\" points=\"\n",
       "  1065.39,1486.45 1065.39,1467.55 \n",
       "  \"/>\n",
       "<polyline clip-path=\"url(#clip160)\" style=\"stroke:#000000; stroke-linecap:butt; stroke-linejoin:round; stroke-width:4; stroke-opacity:1; fill:none\" points=\"\n",
       "  1472.78,1486.45 1472.78,1467.55 \n",
       "  \"/>\n",
       "<polyline clip-path=\"url(#clip160)\" style=\"stroke:#000000; stroke-linecap:butt; stroke-linejoin:round; stroke-width:4; stroke-opacity:1; fill:none\" points=\"\n",
       "  1880.18,1486.45 1880.18,1467.55 \n",
       "  \"/>\n",
       "<polyline clip-path=\"url(#clip160)\" style=\"stroke:#000000; stroke-linecap:butt; stroke-linejoin:round; stroke-width:4; stroke-opacity:1; fill:none\" points=\"\n",
       "  2287.57,1486.45 2287.57,1467.55 \n",
       "  \"/>\n",
       "<path clip-path=\"url(#clip160)\" d=\"M250.594 1517.37 Q246.983 1517.37 245.154 1520.93 Q243.348 1524.47 243.348 1531.6 Q243.348 1538.71 245.154 1542.27 Q246.983 1545.82 250.594 1545.82 Q254.228 1545.82 256.034 1542.27 Q257.862 1538.71 257.862 1531.6 Q257.862 1524.47 256.034 1520.93 Q254.228 1517.37 250.594 1517.37 M250.594 1513.66 Q256.404 1513.66 259.459 1518.27 Q262.538 1522.85 262.538 1531.6 Q262.538 1540.33 259.459 1544.94 Q256.404 1549.52 250.594 1549.52 Q244.784 1549.52 241.705 1544.94 Q238.649 1540.33 238.649 1531.6 Q238.649 1522.85 241.705 1518.27 Q244.784 1513.66 250.594 1513.66 Z\" fill=\"#000000\" fill-rule=\"evenodd\" fill-opacity=\"1\" /><path clip-path=\"url(#clip160)\" d=\"M617.596 1544.91 L625.235 1544.91 L625.235 1518.55 L616.925 1520.21 L616.925 1515.95 L625.189 1514.29 L629.865 1514.29 L629.865 1544.91 L637.504 1544.91 L637.504 1548.85 L617.596 1548.85 L617.596 1544.91 Z\" fill=\"#000000\" fill-rule=\"evenodd\" fill-opacity=\"1\" /><path clip-path=\"url(#clip160)\" d=\"M656.948 1517.37 Q653.337 1517.37 651.508 1520.93 Q649.703 1524.47 649.703 1531.6 Q649.703 1538.71 651.508 1542.27 Q653.337 1545.82 656.948 1545.82 Q660.582 1545.82 662.388 1542.27 Q664.216 1538.71 664.216 1531.6 Q664.216 1524.47 662.388 1520.93 Q660.582 1517.37 656.948 1517.37 M656.948 1513.66 Q662.758 1513.66 665.814 1518.27 Q668.892 1522.85 668.892 1531.6 Q668.892 1540.33 665.814 1544.94 Q662.758 1549.52 656.948 1549.52 Q651.138 1549.52 648.059 1544.94 Q645.004 1540.33 645.004 1531.6 Q645.004 1522.85 648.059 1518.27 Q651.138 1513.66 656.948 1513.66 Z\" fill=\"#000000\" fill-rule=\"evenodd\" fill-opacity=\"1\" /><path clip-path=\"url(#clip160)\" d=\"M687.11 1517.37 Q683.499 1517.37 681.67 1520.93 Q679.864 1524.47 679.864 1531.6 Q679.864 1538.71 681.67 1542.27 Q683.499 1545.82 687.11 1545.82 Q690.744 1545.82 692.55 1542.27 Q694.378 1538.71 694.378 1531.6 Q694.378 1524.47 692.55 1520.93 Q690.744 1517.37 687.11 1517.37 M687.11 1513.66 Q692.92 1513.66 695.975 1518.27 Q699.054 1522.85 699.054 1531.6 Q699.054 1540.33 695.975 1544.94 Q692.92 1549.52 687.11 1549.52 Q681.3 1549.52 678.221 1544.94 Q675.165 1540.33 675.165 1531.6 Q675.165 1522.85 678.221 1518.27 Q681.3 1513.66 687.11 1513.66 Z\" fill=\"#000000\" fill-rule=\"evenodd\" fill-opacity=\"1\" /><path clip-path=\"url(#clip160)\" d=\"M1029.08 1544.91 L1045.4 1544.91 L1045.4 1548.85 L1023.45 1548.85 L1023.45 1544.91 Q1026.11 1542.16 1030.7 1537.53 Q1035.3 1532.88 1036.49 1531.53 Q1038.73 1529.01 1039.61 1527.27 Q1040.51 1525.51 1040.51 1523.82 Q1040.51 1521.07 1038.57 1519.33 Q1036.65 1517.6 1033.55 1517.6 Q1031.35 1517.6 1028.89 1518.36 Q1026.46 1519.13 1023.68 1520.68 L1023.68 1515.95 Q1026.51 1514.82 1028.96 1514.24 Q1031.42 1513.66 1033.45 1513.66 Q1038.82 1513.66 1042.02 1516.35 Q1045.21 1519.03 1045.21 1523.52 Q1045.21 1525.65 1044.4 1527.57 Q1043.61 1529.47 1041.51 1532.07 Q1040.93 1532.74 1037.83 1535.95 Q1034.73 1539.15 1029.08 1544.91 Z\" fill=\"#000000\" fill-rule=\"evenodd\" fill-opacity=\"1\" /><path clip-path=\"url(#clip160)\" d=\"M1065.21 1517.37 Q1061.6 1517.37 1059.77 1520.93 Q1057.97 1524.47 1057.97 1531.6 Q1057.97 1538.71 1059.77 1542.27 Q1061.6 1545.82 1065.21 1545.82 Q1068.85 1545.82 1070.65 1542.27 Q1072.48 1538.71 1072.48 1531.6 Q1072.48 1524.47 1070.65 1520.93 Q1068.85 1517.37 1065.21 1517.37 M1065.21 1513.66 Q1071.02 1513.66 1074.08 1518.27 Q1077.16 1522.85 1077.16 1531.6 Q1077.16 1540.33 1074.08 1544.94 Q1071.02 1549.52 1065.21 1549.52 Q1059.4 1549.52 1056.32 1544.94 Q1053.27 1540.33 1053.27 1531.6 Q1053.27 1522.85 1056.32 1518.27 Q1059.4 1513.66 1065.21 1513.66 Z\" fill=\"#000000\" fill-rule=\"evenodd\" fill-opacity=\"1\" /><path clip-path=\"url(#clip160)\" d=\"M1095.37 1517.37 Q1091.76 1517.37 1089.93 1520.93 Q1088.13 1524.47 1088.13 1531.6 Q1088.13 1538.71 1089.93 1542.27 Q1091.76 1545.82 1095.37 1545.82 Q1099.01 1545.82 1100.81 1542.27 Q1102.64 1538.71 1102.64 1531.6 Q1102.64 1524.47 1100.81 1520.93 Q1099.01 1517.37 1095.37 1517.37 M1095.37 1513.66 Q1101.18 1513.66 1104.24 1518.27 Q1107.32 1522.85 1107.32 1531.6 Q1107.32 1540.33 1104.24 1544.94 Q1101.18 1549.52 1095.37 1549.52 Q1089.56 1549.52 1086.48 1544.94 Q1083.43 1540.33 1083.43 1531.6 Q1083.43 1522.85 1086.48 1518.27 Q1089.56 1513.66 1095.37 1513.66 Z\" fill=\"#000000\" fill-rule=\"evenodd\" fill-opacity=\"1\" /><path clip-path=\"url(#clip160)\" d=\"M1446.54 1530.21 Q1449.9 1530.93 1451.77 1533.2 Q1453.67 1535.47 1453.67 1538.8 Q1453.67 1543.92 1450.15 1546.72 Q1446.64 1549.52 1440.15 1549.52 Q1437.98 1549.52 1435.66 1549.08 Q1433.37 1548.66 1430.92 1547.81 L1430.92 1543.29 Q1432.86 1544.43 1435.18 1545.01 Q1437.49 1545.58 1440.02 1545.58 Q1444.41 1545.58 1446.7 1543.85 Q1449.02 1542.11 1449.02 1538.8 Q1449.02 1535.75 1446.87 1534.03 Q1444.74 1532.3 1440.92 1532.3 L1436.89 1532.3 L1436.89 1528.45 L1441.1 1528.45 Q1444.55 1528.45 1446.38 1527.09 Q1448.21 1525.7 1448.21 1523.11 Q1448.21 1520.45 1446.31 1519.03 Q1444.44 1517.6 1440.92 1517.6 Q1439 1517.6 1436.8 1518.01 Q1434.6 1518.43 1431.96 1519.31 L1431.96 1515.14 Q1434.62 1514.4 1436.94 1514.03 Q1439.27 1513.66 1441.33 1513.66 Q1446.66 1513.66 1449.76 1516.09 Q1452.86 1518.5 1452.86 1522.62 Q1452.86 1525.49 1451.22 1527.48 Q1449.58 1529.45 1446.54 1530.21 Z\" fill=\"#000000\" fill-rule=\"evenodd\" fill-opacity=\"1\" /><path clip-path=\"url(#clip160)\" d=\"M1472.54 1517.37 Q1468.93 1517.37 1467.1 1520.93 Q1465.29 1524.47 1465.29 1531.6 Q1465.29 1538.71 1467.1 1542.27 Q1468.93 1545.82 1472.54 1545.82 Q1476.17 1545.82 1477.98 1542.27 Q1479.81 1538.71 1479.81 1531.6 Q1479.81 1524.47 1477.98 1520.93 Q1476.17 1517.37 1472.54 1517.37 M1472.54 1513.66 Q1478.35 1513.66 1481.4 1518.27 Q1484.48 1522.85 1484.48 1531.6 Q1484.48 1540.33 1481.4 1544.94 Q1478.35 1549.52 1472.54 1549.52 Q1466.73 1549.52 1463.65 1544.94 Q1460.59 1540.33 1460.59 1531.6 Q1460.59 1522.85 1463.65 1518.27 Q1466.73 1513.66 1472.54 1513.66 Z\" fill=\"#000000\" fill-rule=\"evenodd\" fill-opacity=\"1\" /><path clip-path=\"url(#clip160)\" d=\"M1502.7 1517.37 Q1499.09 1517.37 1497.26 1520.93 Q1495.45 1524.47 1495.45 1531.6 Q1495.45 1538.71 1497.26 1542.27 Q1499.09 1545.82 1502.7 1545.82 Q1506.33 1545.82 1508.14 1542.27 Q1509.97 1538.71 1509.97 1531.6 Q1509.97 1524.47 1508.14 1520.93 Q1506.33 1517.37 1502.7 1517.37 M1502.7 1513.66 Q1508.51 1513.66 1511.57 1518.27 Q1514.64 1522.85 1514.64 1531.6 Q1514.64 1540.33 1511.57 1544.94 Q1508.51 1549.52 1502.7 1549.52 Q1496.89 1549.52 1493.81 1544.94 Q1490.76 1540.33 1490.76 1531.6 Q1490.76 1522.85 1493.81 1518.27 Q1496.89 1513.66 1502.7 1513.66 Z\" fill=\"#000000\" fill-rule=\"evenodd\" fill-opacity=\"1\" /><path clip-path=\"url(#clip160)\" d=\"M1853.27 1518.36 L1841.46 1536.81 L1853.27 1536.81 L1853.27 1518.36 M1852.04 1514.29 L1857.92 1514.29 L1857.92 1536.81 L1862.85 1536.81 L1862.85 1540.7 L1857.92 1540.7 L1857.92 1548.85 L1853.27 1548.85 L1853.27 1540.7 L1837.67 1540.7 L1837.67 1536.19 L1852.04 1514.29 Z\" fill=\"#000000\" fill-rule=\"evenodd\" fill-opacity=\"1\" /><path clip-path=\"url(#clip160)\" d=\"M1880.58 1517.37 Q1876.97 1517.37 1875.14 1520.93 Q1873.34 1524.47 1873.34 1531.6 Q1873.34 1538.71 1875.14 1542.27 Q1876.97 1545.82 1880.58 1545.82 Q1884.22 1545.82 1886.02 1542.27 Q1887.85 1538.71 1887.85 1531.6 Q1887.85 1524.47 1886.02 1520.93 Q1884.22 1517.37 1880.58 1517.37 M1880.58 1513.66 Q1886.39 1513.66 1889.45 1518.27 Q1892.53 1522.85 1892.53 1531.6 Q1892.53 1540.33 1889.45 1544.94 Q1886.39 1549.52 1880.58 1549.52 Q1874.77 1549.52 1871.69 1544.94 Q1868.64 1540.33 1868.64 1531.6 Q1868.64 1522.85 1871.69 1518.27 Q1874.77 1513.66 1880.58 1513.66 Z\" fill=\"#000000\" fill-rule=\"evenodd\" fill-opacity=\"1\" /><path clip-path=\"url(#clip160)\" d=\"M1910.74 1517.37 Q1907.13 1517.37 1905.3 1520.93 Q1903.5 1524.47 1903.5 1531.6 Q1903.5 1538.71 1905.3 1542.27 Q1907.13 1545.82 1910.74 1545.82 Q1914.38 1545.82 1916.18 1542.27 Q1918.01 1538.71 1918.01 1531.6 Q1918.01 1524.47 1916.18 1520.93 Q1914.38 1517.37 1910.74 1517.37 M1910.74 1513.66 Q1916.55 1513.66 1919.61 1518.27 Q1922.69 1522.85 1922.69 1531.6 Q1922.69 1540.33 1919.61 1544.94 Q1916.55 1549.52 1910.74 1549.52 Q1904.93 1549.52 1901.85 1544.94 Q1898.8 1540.33 1898.8 1531.6 Q1898.8 1522.85 1901.85 1518.27 Q1904.93 1513.66 1910.74 1513.66 Z\" fill=\"#000000\" fill-rule=\"evenodd\" fill-opacity=\"1\" /><path clip-path=\"url(#clip160)\" d=\"M2247.19 1514.29 L2265.55 1514.29 L2265.55 1518.22 L2251.47 1518.22 L2251.47 1526.7 Q2252.49 1526.35 2253.51 1526.19 Q2254.53 1526 2255.55 1526 Q2261.33 1526 2264.71 1529.17 Q2268.09 1532.34 2268.09 1537.76 Q2268.09 1543.34 2264.62 1546.44 Q2261.15 1549.52 2254.83 1549.52 Q2252.65 1549.52 2250.39 1549.15 Q2248.14 1548.78 2245.73 1548.04 L2245.73 1543.34 Q2247.82 1544.47 2250.04 1545.03 Q2252.26 1545.58 2254.74 1545.58 Q2258.74 1545.58 2261.08 1543.48 Q2263.42 1541.37 2263.42 1537.76 Q2263.42 1534.15 2261.08 1532.04 Q2258.74 1529.94 2254.74 1529.94 Q2252.86 1529.94 2250.99 1530.35 Q2249.14 1530.77 2247.19 1531.65 L2247.19 1514.29 Z\" fill=\"#000000\" fill-rule=\"evenodd\" fill-opacity=\"1\" /><path clip-path=\"url(#clip160)\" d=\"M2287.31 1517.37 Q2283.7 1517.37 2281.87 1520.93 Q2280.06 1524.47 2280.06 1531.6 Q2280.06 1538.71 2281.87 1542.27 Q2283.7 1545.82 2287.31 1545.82 Q2290.94 1545.82 2292.75 1542.27 Q2294.57 1538.71 2294.57 1531.6 Q2294.57 1524.47 2292.75 1520.93 Q2290.94 1517.37 2287.31 1517.37 M2287.31 1513.66 Q2293.12 1513.66 2296.17 1518.27 Q2299.25 1522.85 2299.25 1531.6 Q2299.25 1540.33 2296.17 1544.94 Q2293.12 1549.52 2287.31 1549.52 Q2281.5 1549.52 2278.42 1544.94 Q2275.36 1540.33 2275.36 1531.6 Q2275.36 1522.85 2278.42 1518.27 Q2281.5 1513.66 2287.31 1513.66 Z\" fill=\"#000000\" fill-rule=\"evenodd\" fill-opacity=\"1\" /><path clip-path=\"url(#clip160)\" d=\"M2317.47 1517.37 Q2313.86 1517.37 2312.03 1520.93 Q2310.22 1524.47 2310.22 1531.6 Q2310.22 1538.71 2312.03 1542.27 Q2313.86 1545.82 2317.47 1545.82 Q2321.1 1545.82 2322.91 1542.27 Q2324.74 1538.71 2324.74 1531.6 Q2324.74 1524.47 2322.91 1520.93 Q2321.1 1517.37 2317.47 1517.37 M2317.47 1513.66 Q2323.28 1513.66 2326.33 1518.27 Q2329.41 1522.85 2329.41 1531.6 Q2329.41 1540.33 2326.33 1544.94 Q2323.28 1549.52 2317.47 1549.52 Q2311.66 1549.52 2308.58 1544.94 Q2305.52 1540.33 2305.52 1531.6 Q2305.52 1522.85 2308.58 1518.27 Q2311.66 1513.66 2317.47 1513.66 Z\" fill=\"#000000\" fill-rule=\"evenodd\" fill-opacity=\"1\" /><polyline clip-path=\"url(#clip162)\" style=\"stroke:#000000; stroke-linecap:butt; stroke-linejoin:round; stroke-width:2; stroke-opacity:0.1; fill:none\" points=\"\n",
       "  193.558,1016.74 2352.76,1016.74 \n",
       "  \"/>\n",
       "<polyline clip-path=\"url(#clip162)\" style=\"stroke:#000000; stroke-linecap:butt; stroke-linejoin:round; stroke-width:2; stroke-opacity:0.1; fill:none\" points=\"\n",
       "  193.558,358.394 2352.76,358.394 \n",
       "  \"/>\n",
       "<polyline clip-path=\"url(#clip160)\" style=\"stroke:#000000; stroke-linecap:butt; stroke-linejoin:round; stroke-width:4; stroke-opacity:1; fill:none\" points=\"\n",
       "  193.558,1486.45 193.558,47.2441 \n",
       "  \"/>\n",
       "<polyline clip-path=\"url(#clip160)\" style=\"stroke:#000000; stroke-linecap:butt; stroke-linejoin:round; stroke-width:4; stroke-opacity:1; fill:none\" points=\"\n",
       "  193.558,1016.74 212.456,1016.74 \n",
       "  \"/>\n",
       "<polyline clip-path=\"url(#clip160)\" style=\"stroke:#000000; stroke-linecap:butt; stroke-linejoin:round; stroke-width:4; stroke-opacity:1; fill:none\" points=\"\n",
       "  193.558,358.394 212.456,358.394 \n",
       "  \"/>\n",
       "<path clip-path=\"url(#clip160)\" d=\"M51.6634 1036.53 L59.3023 1036.53 L59.3023 1010.16 L50.9921 1011.83 L50.9921 1007.57 L59.256 1005.9 L63.9319 1005.9 L63.9319 1036.53 L71.5707 1036.53 L71.5707 1040.46 L51.6634 1040.46 L51.6634 1036.53 Z\" fill=\"#000000\" fill-rule=\"evenodd\" fill-opacity=\"1\" /><path clip-path=\"url(#clip160)\" d=\"M91.0151 1008.98 Q87.404 1008.98 85.5753 1012.55 Q83.7697 1016.09 83.7697 1023.22 Q83.7697 1030.32 85.5753 1033.89 Q87.404 1037.43 91.0151 1037.43 Q94.6493 1037.43 96.4548 1033.89 Q98.2835 1030.32 98.2835 1023.22 Q98.2835 1016.09 96.4548 1012.55 Q94.6493 1008.98 91.0151 1008.98 M91.0151 1005.28 Q96.8252 1005.28 99.8808 1009.88 Q102.959 1014.47 102.959 1023.22 Q102.959 1031.94 99.8808 1036.55 Q96.8252 1041.13 91.0151 1041.13 Q85.2049 1041.13 82.1262 1036.55 Q79.0707 1031.94 79.0707 1023.22 Q79.0707 1014.47 82.1262 1009.88 Q85.2049 1005.28 91.0151 1005.28 Z\" fill=\"#000000\" fill-rule=\"evenodd\" fill-opacity=\"1\" /><path clip-path=\"url(#clip160)\" d=\"M103.505 1009.85 L109.711 1009.85 L109.711 988.433 L102.959 989.787 L102.959 986.326 L109.674 984.972 L113.473 984.972 L113.473 1009.85 L119.68 1009.85 L119.68 1013.05 L103.505 1013.05 L103.505 1009.85 Z\" fill=\"#000000\" fill-rule=\"evenodd\" fill-opacity=\"1\" /><path clip-path=\"url(#clip160)\" d=\"M127.353 1008.28 L131.322 1008.28 L131.322 1013.05 L127.353 1013.05 L127.353 1008.28 Z\" fill=\"#000000\" fill-rule=\"evenodd\" fill-opacity=\"1\" /><path clip-path=\"url(#clip160)\" d=\"M148.192 997.498 Q145.634 997.498 144.13 999.247 Q142.644 1001 142.644 1004.04 Q142.644 1007.07 144.13 1008.84 Q145.634 1010.59 148.192 1010.59 Q150.75 1010.59 152.236 1008.84 Q153.74 1007.07 153.74 1004.04 Q153.74 1001 152.236 999.247 Q150.75 997.498 148.192 997.498 M155.734 985.593 L155.734 989.054 Q154.305 988.377 152.838 988.019 Q151.389 987.662 149.96 987.662 Q146.199 987.662 144.205 990.201 Q142.23 992.74 141.948 997.874 Q143.058 996.238 144.731 995.373 Q146.405 994.489 148.418 994.489 Q152.65 994.489 155.095 997.066 Q157.558 999.624 157.558 1004.04 Q157.558 1008.37 155.001 1010.98 Q152.443 1013.6 148.192 1013.6 Q143.321 1013.6 140.744 1009.87 Q138.168 1006.13 138.168 999.041 Q138.168 992.383 141.327 988.433 Q144.487 984.465 149.81 984.465 Q151.239 984.465 152.687 984.747 Q154.154 985.029 155.734 985.593 Z\" fill=\"#000000\" fill-rule=\"evenodd\" fill-opacity=\"1\" /><path clip-path=\"url(#clip160)\" d=\"M51.8703 378.187 L59.5092 378.187 L59.5092 351.821 L51.199 353.488 L51.199 349.228 L59.4629 347.562 L64.1388 347.562 L64.1388 378.187 L71.7776 378.187 L71.7776 382.122 L51.8703 382.122 L51.8703 378.187 Z\" fill=\"#000000\" fill-rule=\"evenodd\" fill-opacity=\"1\" /><path clip-path=\"url(#clip160)\" d=\"M91.2219 350.64 Q87.6109 350.64 85.7822 354.205 Q83.9766 357.747 83.9766 364.876 Q83.9766 371.983 85.7822 375.548 Q87.6109 379.089 91.2219 379.089 Q94.8562 379.089 96.6617 375.548 Q98.4904 371.983 98.4904 364.876 Q98.4904 357.747 96.6617 354.205 Q94.8562 350.64 91.2219 350.64 M91.2219 346.937 Q97.0321 346.937 100.088 351.543 Q103.166 356.126 103.166 364.876 Q103.166 373.603 100.088 378.21 Q97.0321 382.793 91.2219 382.793 Q85.4118 382.793 82.3331 378.21 Q79.2776 373.603 79.2776 364.876 Q79.2776 356.126 82.3331 351.543 Q85.4118 346.937 91.2219 346.937 Z\" fill=\"#000000\" fill-rule=\"evenodd\" fill-opacity=\"1\" /><path clip-path=\"url(#clip160)\" d=\"M103.712 351.514 L109.918 351.514 L109.918 330.092 L103.166 331.446 L103.166 327.985 L109.881 326.631 L113.68 326.631 L113.68 351.514 L119.886 351.514 L119.886 354.711 L103.712 354.711 L103.712 351.514 Z\" fill=\"#000000\" fill-rule=\"evenodd\" fill-opacity=\"1\" /><path clip-path=\"url(#clip160)\" d=\"M127.56 349.934 L131.528 349.934 L131.528 354.711 L127.56 354.711 L127.56 349.934 Z\" fill=\"#000000\" fill-rule=\"evenodd\" fill-opacity=\"1\" /><path clip-path=\"url(#clip160)\" d=\"M147.929 341.377 Q145.22 341.377 143.659 342.825 Q142.117 344.273 142.117 346.812 Q142.117 349.351 143.659 350.799 Q145.22 352.247 147.929 352.247 Q150.637 352.247 152.198 350.799 Q153.759 349.332 153.759 346.812 Q153.759 344.273 152.198 342.825 Q150.656 341.377 147.929 341.377 M144.13 339.759 Q141.685 339.157 140.312 337.483 Q138.958 335.809 138.958 333.402 Q138.958 330.036 141.346 328.079 Q143.753 326.123 147.929 326.123 Q152.123 326.123 154.512 328.079 Q156.9 330.036 156.9 333.402 Q156.9 335.809 155.527 337.483 Q154.173 339.157 151.747 339.759 Q154.493 340.399 156.016 342.261 Q157.558 344.123 157.558 346.812 Q157.558 350.893 155.057 353.075 Q152.574 355.257 147.929 355.257 Q143.283 355.257 140.782 353.075 Q138.299 350.893 138.299 346.812 Q138.299 344.123 139.841 342.261 Q141.384 340.399 144.13 339.759 M142.738 333.759 Q142.738 335.941 144.092 337.164 Q145.465 338.386 147.929 338.386 Q150.374 338.386 151.747 337.164 Q153.139 335.941 153.139 333.759 Q153.139 331.578 151.747 330.355 Q150.374 329.133 147.929 329.133 Q145.465 329.133 144.092 330.355 Q142.738 331.578 142.738 333.759 Z\" fill=\"#000000\" fill-rule=\"evenodd\" fill-opacity=\"1\" /><polyline clip-path=\"url(#clip162)\" style=\"stroke:#009af9; stroke-linecap:butt; stroke-linejoin:round; stroke-width:16; stroke-opacity:1; fill:none\" points=\"\n",
       "  254.668,87.9763 258.742,661.88 262.816,662.416 266.89,662.959 270.964,663.509 275.038,664.066 279.112,664.631 283.185,665.203 287.259,665.782 291.333,666.369 \n",
       "  295.407,666.965 299.481,667.568 303.555,668.18 307.629,668.8 311.703,669.429 315.777,670.067 319.851,670.714 323.925,671.37 327.999,672.036 332.073,672.712 \n",
       "  336.147,673.399 340.221,674.095 344.295,674.802 348.369,675.521 352.443,676.25 356.517,676.991 360.591,677.744 364.665,678.509 368.739,679.287 372.813,680.078 \n",
       "  376.886,680.881 380.96,681.699 385.034,682.531 389.108,683.377 393.182,684.238 397.256,685.114 401.33,686.007 405.404,686.915 409.478,687.841 413.552,688.784 \n",
       "  417.626,689.745 421.7,690.724 425.774,691.723 429.848,692.741 433.922,693.78 437.996,694.84 442.07,695.923 446.144,697.028 450.218,698.156 454.292,699.309 \n",
       "  458.366,700.488 462.44,701.692 466.514,702.924 470.588,704.185 474.661,705.474 478.735,706.795 482.809,708.147 486.883,709.533 490.957,710.953 495.031,712.41 \n",
       "  499.105,713.904 503.179,715.438 507.253,717.012 511.327,718.63 515.401,720.293 519.475,722.003 523.549,723.762 527.623,725.573 531.697,727.438 535.771,729.36 \n",
       "  539.845,731.342 543.919,733.388 547.993,735.5 552.067,737.682 556.141,739.938 560.215,742.272 564.289,744.689 568.362,747.193 572.436,749.79 576.51,752.485 \n",
       "  580.584,755.284 584.658,758.193 588.732,761.22 592.806,764.372 596.88,767.658 600.954,771.085 605.028,774.663 609.102,778.403 613.176,782.315 617.25,786.41 \n",
       "  621.324,790.701 625.398,795.201 629.472,799.922 633.546,804.879 637.62,810.086 641.694,815.556 645.768,821.302 649.842,827.335 653.916,833.663 657.99,840.293 \n",
       "  662.064,847.223 666.137,854.447 670.211,861.949 674.285,869.705 678.359,877.681 682.433,885.842 686.507,894.149 690.581,902.579 694.655,911.128 698.729,919.825 \n",
       "  702.803,928.73 706.877,937.93 710.951,947.522 715.025,957.599 719.099,968.244 723.173,979.527 727.247,991.506 731.321,1004.23 735.395,1017.74 739.469,1032.07 \n",
       "  743.543,1047.25 747.617,1063.29 751.691,1080.17 755.765,1097.88 759.838,1116.36 763.912,1135.51 767.986,1155.22 772.06,1175.33 776.134,1195.63 780.208,1215.91 \n",
       "  784.282,1235.92 788.356,1255.42 792.43,1274.18 796.504,1291.99 800.578,1308.68 804.652,1324.15 808.726,1338.31 812.8,1351.15 816.874,1362.68 820.948,1372.93 \n",
       "  825.022,1381.99 829.096,1389.94 833.17,1396.87 837.244,1402.89 841.318,1408.09 845.392,1412.56 849.466,1416.41 853.54,1419.7 857.613,1422.51 861.687,1424.91 \n",
       "  865.761,1426.97 869.835,1428.72 873.909,1430.22 877.983,1431.5 882.057,1432.59 886.131,1433.54 890.205,1434.35 894.279,1435.05 898.353,1435.66 902.427,1436.19 \n",
       "  906.501,1436.65 910.575,1437.06 914.649,1437.42 918.723,1437.74 922.797,1438.03 926.871,1438.29 930.945,1438.52 935.019,1438.74 939.093,1438.94 943.167,1439.12 \n",
       "  947.241,1439.28 951.315,1439.4 955.388,1439.38 959.462,1438.73 963.536,1435.74 967.61,1419.63 971.684,1399.05 975.758,1258.87 979.832,1400.56 983.906,1400.18 \n",
       "  987.98,1262.13 992.054,1404.09 996.128,1398.5 1000.2,1255.17 1004.28,1396.93 1008.35,1402.35 1012.42,1268.6 1016.5,1410.75 1020.57,1396.63 1024.65,1246.93 \n",
       "  1028.72,1387.95 1032.79,1408.97 1036.87,1292.74 1040.94,1430.13 1045.02,1409.74 1049.09,1295.01 1053.16,1431.68 1057.24,1412.36 1061.31,1304.86 1065.39,1436.79 \n",
       "  1069.46,1424.62 1073.53,1357.79 1077.61,1432.14 1081.68,1393.46 1085.76,1404.92 1089.83,1273.41 1093.9,1416.17 1097.98,1396.26 1102.05,1241.03 1106.12,1381.81 \n",
       "  1110.2,1414.39 1114.27,1310.28 1118.35,1439.45 1122.42,1431.57 1126.49,1388.17 1130.57,1409.18 1134.64,1287.75 1138.72,1428.09 1142.79,1404.55 1146.86,1269.16 \n",
       "  1150.94,1412.85 1155.01,1395.61 1159.09,1236.11 1163.16,1376.25 1167.23,1419.31 1171.31,1328.68 1175.38,1442.66 1179.46,1442.56 1183.53,1441.89 1187.6,1438.22 \n",
       "  1191.68,1425.49 1195.75,1355.28 1199.83,1434.67 1203.9,1399.89 1207.97,1400.4 1212.05,1250.64 1216.12,1394.1 1220.2,1404.53 1224.27,1265.65 1228.34,1410.17 \n",
       "  1232.42,1395.55 1236.49,1232.7 1240.57,1372.54 1244.64,1422.71 1248.71,1340.51 1252.79,1441.38 1256.86,1433.05 1260.94,1411.1 1265.01,1289.93 1269.08,1430.78 \n",
       "  1273.16,1406.71 1277.23,1272.15 1281.31,1416.74 1285.38,1394.9 1289.45,1228.69 1293.53,1367.7 1297.6,1426.74 1301.67,1357.45 1305.75,1433.94 1309.82,1392.55 \n",
       "  1313.9,1405.73 1317.97,1267.15 1322.04,1412.29 1326.12,1394.67 1330.19,1226.79 1334.27,1365.43 1338.34,1428.59 1342.41,1365.11 1346.49,1428.86 1350.56,1366.13 \n",
       "  1354.64,1428.12 1358.71,1362.28 1362.78,1430.96 1366.86,1375.87 1370.93,1420.22 1375.01,1325.2 1379.08,1444.19 1383.15,1444.18 1387.23,1443.98 1391.3,1442.92 \n",
       "  1395.38,1437.09 1399.45,1418.52 1403.52,1316.62 1407.6,1443.48 1411.67,1440.19 1415.75,1421.84 1419.82,1395.57 1423.89,1226.94 1427.97,1366.2 1432.04,1428.28 \n",
       "  1436.12,1360.57 1440.19,1432.41 1444.26,1380.66 1448.34,1416.06 1452.41,1304.77 1456.49,1440.11 1460.56,1426.7 1464.63,1352.25 1468.71,1437.59 1472.78,1406.69 \n",
       "  1476.86,1395.68 1480.93,1226.03 1485,1365.25 1489.08,1429.12 1493.15,1363.29 1497.22,1430.6 1501.3,1370.34 1505.37,1425.08 1509.45,1343.65 1513.52,1441.64 \n",
       "  1517.59,1427.46 1521.67,1399.46 1525.74,1238.45 1529.82,1381.37 1533.89,1415.41 1537.96,1300.24 1542.04,1438.43 1546.11,1420.54 1550.19,1322.19 1554.26,1444.9 \n",
       "  1558.33,1444.37 1562.41,1441.39 1566.48,1429.76 1570.56,1364.7 1574.63,1429.66 1578.7,1364.02 1582.78,1430.18 1586.85,1366.43 1590.93,1428.33 1595,1357.22 \n",
       "  1599.07,1434.95 1603.15,1390.21 1607.22,1407.28 1611.3,1265.85 1615.37,1412.61 1619.44,1393.05 1623.52,1214.4 1627.59,1350.05 1631.67,1439.12 1635.74,1411.82 \n",
       "  1639.81,1393.16 1643.89,1214.55 1647.96,1350.29 1652.04,1439.02 1656.11,1411.08 1660.18,1393.29 1664.26,1214.78 1668.33,1350.66 1672.4,1438.85 1676.48,1409.99 \n",
       "  1680.55,1393.58 1684.63,1215.54 1688.7,1351.75 1692.77,1438.3 1696.85,1406.8 1700.92,1394.87 1705,1219.71 1709.07,1357.5 1713.14,1434.88 1717.22,1388.61 \n",
       "  1721.29,1408.61 1725.37,1269.78 1729.44,1416.7 1733.51,1392.42 1737.59,1211.15 1741.66,1345.76 1745.74,1441.26 1749.81,1422.29 1753.88,1393.99 1757.96,1216.23 \n",
       "  1762.03,1352.85 1766.11,1437.76 1770.18,1403.22 1774.25,1396.74 1778.33,1225.47 1782.4,1365.37 1786.48,1429.24 1790.55,1359.55 1794.62,1433.56 1798.7,1380.97 \n",
       "  1802.77,1415.61 1806.85,1297.4 1810.92,1437.76 1814.99,1416.82 1819.07,1302.38 1823.14,1440.28 1827.22,1424.21 1831.29,1335.04 1835.36,1444.77 1839.44,1440.6 \n",
       "  1843.51,1425.08 1847.59,1338.81 1851.66,1443.89 1855.73,1435.56 1859.81,1410.98 1863.88,1277.52 1867.95,1424.03 1872.03,1394.51 1876.1,1216.6 1880.18,1353.65 \n",
       "  1884.25,1437.4 1888.32,1399.99 1892.4,1398.65 1896.47,1230.81 1900.55,1372.69 1904.62,1423.1 1908.69,1329.16 1912.77,1445.72 1916.84,1445.1 1920.92,1442.16 \n",
       "  1924.99,1425.45 1929.06,1395.38 1933.14,1219.01 1937.21,1357.06 1941.29,1435.3 1945.36,1388.39 1949.43,1408.46 1953.51,1266.79 1957.58,1414.4 1961.66,1391.66 \n",
       "  1965.73,1206.32 1969.8,1339.45 1973.88,1443.83 1977.95,1434.4 1982.03,1407.97 1986.1,1264.67 1990.17,1412.33 1994.25,1391.96 1998.32,1207.1 2002.4,1340.59 \n",
       "  2006.47,1443.5 2010.54,1432.39 2014.62,1404.03 2018.69,1249.47 2022.77,1395.89 2026.84,1401.68 2030.91,1240.77 2034.99,1385.5 2039.06,1411.11 2043.14,1276.83 \n",
       "  2047.21,1423.74 2051.28,1393.82 2055.36,1213.08 2059.43,1349.03 2063.5,1440.01 2067.58,1412.95 2071.65,1391.69 2075.73,1205.85 2079.8,1338.89 2083.87,1444.06 \n",
       "  2087.95,1435.22 2092.02,1409.45 2096.1,1269.9 2100.17,1417.57 2104.24,1391.38 2108.32,1204.65 2112.39,1337.23 2116.47,1444.54 2120.54,1437.72 2124.61,1415.45 \n",
       "  2128.69,1294.16 2132.76,1436.5 2136.84,1412.29 2140.91,1281.01 2144.98,1427.34 2149.06,1396.65 2153.13,1222.2 2157.21,1361.66 2161.28,1432.11 2165.35,1370.83 \n",
       "  2169.43,1424.64 2173.5,1334.55 2177.58,1445.21 2181.65,1441.07 2185.72,1425.29 2189.8,1337.42 2193.87,1444.57 2197.95,1437.36 2202.02,1414.16 2206.09,1288.13 \n",
       "  2210.17,1432.77 2214.24,1404.1 2218.32,1248.49 2222.39,1395.05 2226.46,1402.09 2230.54,1241.05 2234.61,1386.14 2238.69,1410.3 2242.76,1272.36 2246.83,1420.08 \n",
       "  2250.91,1391.54 2254.98,1204.32 2259.05,1336.93 2263.13,1444.72 2267.2,1438.02 2271.28,1415.81 2275.35,1294.84 2279.42,1437.1 2283.5,1413.34 2287.57,1284.47 \n",
       "  2291.65,1430.21 \n",
       "  \"/>\n",
       "<path clip-path=\"url(#clip160)\" d=\"\n",
       "M1962.23 250.738 L2280.78 250.738 L2280.78 95.2176 L1962.23 95.2176  Z\n",
       "  \" fill=\"#ffffff\" fill-rule=\"evenodd\" fill-opacity=\"1\"/>\n",
       "<polyline clip-path=\"url(#clip160)\" style=\"stroke:#000000; stroke-linecap:butt; stroke-linejoin:round; stroke-width:4; stroke-opacity:1; fill:none\" points=\"\n",
       "  1962.23,250.738 2280.78,250.738 2280.78,95.2176 1962.23,95.2176 1962.23,250.738 \n",
       "  \"/>\n",
       "<polyline clip-path=\"url(#clip160)\" style=\"stroke:#009af9; stroke-linecap:butt; stroke-linejoin:round; stroke-width:6; stroke-opacity:1; fill:none\" points=\"\n",
       "  1986.22,172.978 2130.16,172.978 \n",
       "  \"/>\n",
       "<path clip-path=\"url(#clip160)\" d=\"M2174.92 202.509 Q2172.21 209.453 2169.64 211.571 Q2167.07 213.689 2162.77 213.689 L2157.66 213.689 L2157.66 208.342 L2161.41 208.342 Q2164.05 208.342 2165.51 207.092 Q2166.97 205.842 2168.74 201.189 L2169.88 198.273 L2154.16 160.009 L2160.93 160.009 L2173.08 190.425 L2185.23 160.009 L2192 160.009 L2174.92 202.509 Z\" fill=\"#000000\" fill-rule=\"evenodd\" fill-opacity=\"1\" /><path clip-path=\"url(#clip160)\" d=\"M2202.94 192.995 L2214.4 192.995 L2214.4 153.446 L2201.93 155.946 L2201.93 149.558 L2214.33 147.058 L2221.34 147.058 L2221.34 192.995 L2232.8 192.995 L2232.8 198.898 L2202.94 198.898 L2202.94 192.995 Z\" fill=\"#000000\" fill-rule=\"evenodd\" fill-opacity=\"1\" /></svg>\n"
      ]
     },
     "execution_count": 8,
     "metadata": {},
     "output_type": "execute_result"
    }
   ],
   "source": [
    "c, _, lhist = grad_descent(loss, gradient, ones(3), gamma=8e-2)\n",
    "plot(lhist, yscale=:log10)"
   ]
  },
  {
   "cell_type": "markdown",
   "id": "7f4be7cd",
   "metadata": {
    "slideshow": {
     "slide_type": "slide"
    }
   },
   "source": [
    "# Compare fits on noisy data"
   ]
  },
  {
   "cell_type": "code",
   "execution_count": 9,
   "id": "11ab1f9e",
   "metadata": {
    "slideshow": {
     "slide_type": ""
    }
   },
   "outputs": [
    {
     "data": {
      "image/svg+xml": [
       "<?xml version=\"1.0\" encoding=\"utf-8\"?>\n",
       "<svg xmlns=\"http://www.w3.org/2000/svg\" xmlns:xlink=\"http://www.w3.org/1999/xlink\" width=\"600\" height=\"400\" viewBox=\"0 0 2400 1600\">\n",
       "<defs>\n",
       "  <clipPath id=\"clip200\">\n",
       "    <rect x=\"0\" y=\"0\" width=\"2400\" height=\"1600\"/>\n",
       "  </clipPath>\n",
       "</defs>\n",
       "<path clip-path=\"url(#clip200)\" d=\"\n",
       "M0 1600 L2400 1600 L2400 0 L0 0  Z\n",
       "  \" fill=\"#ffffff\" fill-rule=\"evenodd\" fill-opacity=\"1\"/>\n",
       "<defs>\n",
       "  <clipPath id=\"clip201\">\n",
       "    <rect x=\"480\" y=\"0\" width=\"1681\" height=\"1600\"/>\n",
       "  </clipPath>\n",
       "</defs>\n",
       "<path clip-path=\"url(#clip200)\" d=\"\n",
       "M147.478 1486.45 L2352.76 1486.45 L2352.76 47.2441 L147.478 47.2441  Z\n",
       "  \" fill=\"#ffffff\" fill-rule=\"evenodd\" fill-opacity=\"1\"/>\n",
       "<defs>\n",
       "  <clipPath id=\"clip202\">\n",
       "    <rect x=\"147\" y=\"47\" width=\"2206\" height=\"1440\"/>\n",
       "  </clipPath>\n",
       "</defs>\n",
       "<polyline clip-path=\"url(#clip202)\" style=\"stroke:#000000; stroke-linecap:butt; stroke-linejoin:round; stroke-width:2; stroke-opacity:0.1; fill:none\" points=\"\n",
       "  209.891,1486.45 209.891,47.2441 \n",
       "  \"/>\n",
       "<polyline clip-path=\"url(#clip202)\" style=\"stroke:#000000; stroke-linecap:butt; stroke-linejoin:round; stroke-width:2; stroke-opacity:0.1; fill:none\" points=\"\n",
       "  730.004,1486.45 730.004,47.2441 \n",
       "  \"/>\n",
       "<polyline clip-path=\"url(#clip202)\" style=\"stroke:#000000; stroke-linecap:butt; stroke-linejoin:round; stroke-width:2; stroke-opacity:0.1; fill:none\" points=\"\n",
       "  1250.12,1486.45 1250.12,47.2441 \n",
       "  \"/>\n",
       "<polyline clip-path=\"url(#clip202)\" style=\"stroke:#000000; stroke-linecap:butt; stroke-linejoin:round; stroke-width:2; stroke-opacity:0.1; fill:none\" points=\"\n",
       "  1770.23,1486.45 1770.23,47.2441 \n",
       "  \"/>\n",
       "<polyline clip-path=\"url(#clip202)\" style=\"stroke:#000000; stroke-linecap:butt; stroke-linejoin:round; stroke-width:2; stroke-opacity:0.1; fill:none\" points=\"\n",
       "  2290.34,1486.45 2290.34,47.2441 \n",
       "  \"/>\n",
       "<polyline clip-path=\"url(#clip200)\" style=\"stroke:#000000; stroke-linecap:butt; stroke-linejoin:round; stroke-width:4; stroke-opacity:1; fill:none\" points=\"\n",
       "  147.478,1486.45 2352.76,1486.45 \n",
       "  \"/>\n",
       "<polyline clip-path=\"url(#clip200)\" style=\"stroke:#000000; stroke-linecap:butt; stroke-linejoin:round; stroke-width:4; stroke-opacity:1; fill:none\" points=\"\n",
       "  209.891,1486.45 209.891,1467.55 \n",
       "  \"/>\n",
       "<polyline clip-path=\"url(#clip200)\" style=\"stroke:#000000; stroke-linecap:butt; stroke-linejoin:round; stroke-width:4; stroke-opacity:1; fill:none\" points=\"\n",
       "  730.004,1486.45 730.004,1467.55 \n",
       "  \"/>\n",
       "<polyline clip-path=\"url(#clip200)\" style=\"stroke:#000000; stroke-linecap:butt; stroke-linejoin:round; stroke-width:4; stroke-opacity:1; fill:none\" points=\"\n",
       "  1250.12,1486.45 1250.12,1467.55 \n",
       "  \"/>\n",
       "<polyline clip-path=\"url(#clip200)\" style=\"stroke:#000000; stroke-linecap:butt; stroke-linejoin:round; stroke-width:4; stroke-opacity:1; fill:none\" points=\"\n",
       "  1770.23,1486.45 1770.23,1467.55 \n",
       "  \"/>\n",
       "<polyline clip-path=\"url(#clip200)\" style=\"stroke:#000000; stroke-linecap:butt; stroke-linejoin:round; stroke-width:4; stroke-opacity:1; fill:none\" points=\"\n",
       "  2290.34,1486.45 2290.34,1467.55 \n",
       "  \"/>\n",
       "<path clip-path=\"url(#clip200)\" d=\"M156.42 1532.02 L186.095 1532.02 L186.095 1535.95 L156.42 1535.95 L156.42 1532.02 Z\" fill=\"#000000\" fill-rule=\"evenodd\" fill-opacity=\"1\" /><path clip-path=\"url(#clip200)\" d=\"M196.998 1544.91 L204.637 1544.91 L204.637 1518.55 L196.327 1520.21 L196.327 1515.95 L204.591 1514.29 L209.266 1514.29 L209.266 1544.91 L216.905 1544.91 L216.905 1548.85 L196.998 1548.85 L196.998 1544.91 Z\" fill=\"#000000\" fill-rule=\"evenodd\" fill-opacity=\"1\" /><path clip-path=\"url(#clip200)\" d=\"M226.35 1542.97 L231.234 1542.97 L231.234 1548.85 L226.35 1548.85 L226.35 1542.97 Z\" fill=\"#000000\" fill-rule=\"evenodd\" fill-opacity=\"1\" /><path clip-path=\"url(#clip200)\" d=\"M251.419 1517.37 Q247.808 1517.37 245.979 1520.93 Q244.174 1524.47 244.174 1531.6 Q244.174 1538.71 245.979 1542.27 Q247.808 1545.82 251.419 1545.82 Q255.053 1545.82 256.859 1542.27 Q258.687 1538.71 258.687 1531.6 Q258.687 1524.47 256.859 1520.93 Q255.053 1517.37 251.419 1517.37 M251.419 1513.66 Q257.229 1513.66 260.285 1518.27 Q263.363 1522.85 263.363 1531.6 Q263.363 1540.33 260.285 1544.94 Q257.229 1549.52 251.419 1549.52 Q245.609 1549.52 242.53 1544.94 Q239.475 1540.33 239.475 1531.6 Q239.475 1522.85 242.53 1518.27 Q245.609 1513.66 251.419 1513.66 Z\" fill=\"#000000\" fill-rule=\"evenodd\" fill-opacity=\"1\" /><path clip-path=\"url(#clip200)\" d=\"M677.03 1532.02 L706.706 1532.02 L706.706 1535.95 L677.03 1535.95 L677.03 1532.02 Z\" fill=\"#000000\" fill-rule=\"evenodd\" fill-opacity=\"1\" /><path clip-path=\"url(#clip200)\" d=\"M726.798 1517.37 Q723.187 1517.37 721.358 1520.93 Q719.553 1524.47 719.553 1531.6 Q719.553 1538.71 721.358 1542.27 Q723.187 1545.82 726.798 1545.82 Q730.432 1545.82 732.238 1542.27 Q734.067 1538.71 734.067 1531.6 Q734.067 1524.47 732.238 1520.93 Q730.432 1517.37 726.798 1517.37 M726.798 1513.66 Q732.608 1513.66 735.664 1518.27 Q738.743 1522.85 738.743 1531.6 Q738.743 1540.33 735.664 1544.94 Q732.608 1549.52 726.798 1549.52 Q720.988 1549.52 717.909 1544.94 Q714.854 1540.33 714.854 1531.6 Q714.854 1522.85 717.909 1518.27 Q720.988 1513.66 726.798 1513.66 Z\" fill=\"#000000\" fill-rule=\"evenodd\" fill-opacity=\"1\" /><path clip-path=\"url(#clip200)\" d=\"M746.96 1542.97 L751.844 1542.97 L751.844 1548.85 L746.96 1548.85 L746.96 1542.97 Z\" fill=\"#000000\" fill-rule=\"evenodd\" fill-opacity=\"1\" /><path clip-path=\"url(#clip200)\" d=\"M762.076 1514.29 L780.432 1514.29 L780.432 1518.22 L766.358 1518.22 L766.358 1526.7 Q767.377 1526.35 768.395 1526.19 Q769.414 1526 770.432 1526 Q776.219 1526 779.599 1529.17 Q782.978 1532.34 782.978 1537.76 Q782.978 1543.34 779.506 1546.44 Q776.034 1549.52 769.715 1549.52 Q767.539 1549.52 765.27 1549.15 Q763.025 1548.78 760.617 1548.04 L760.617 1543.34 Q762.701 1544.47 764.923 1545.03 Q767.145 1545.58 769.622 1545.58 Q773.627 1545.58 775.965 1543.48 Q778.303 1541.37 778.303 1537.76 Q778.303 1534.15 775.965 1532.04 Q773.627 1529.94 769.622 1529.94 Q767.747 1529.94 765.872 1530.35 Q764.02 1530.77 762.076 1531.65 L762.076 1514.29 Z\" fill=\"#000000\" fill-rule=\"evenodd\" fill-opacity=\"1\" /><path clip-path=\"url(#clip200)\" d=\"M1227.5 1517.37 Q1223.89 1517.37 1222.06 1520.93 Q1220.26 1524.47 1220.26 1531.6 Q1220.26 1538.71 1222.06 1542.27 Q1223.89 1545.82 1227.5 1545.82 Q1231.14 1545.82 1232.94 1542.27 Q1234.77 1538.71 1234.77 1531.6 Q1234.77 1524.47 1232.94 1520.93 Q1231.14 1517.37 1227.5 1517.37 M1227.5 1513.66 Q1233.31 1513.66 1236.37 1518.27 Q1239.45 1522.85 1239.45 1531.6 Q1239.45 1540.33 1236.37 1544.94 Q1233.31 1549.52 1227.5 1549.52 Q1221.69 1549.52 1218.61 1544.94 Q1215.56 1540.33 1215.56 1531.6 Q1215.56 1522.85 1218.61 1518.27 Q1221.69 1513.66 1227.5 1513.66 Z\" fill=\"#000000\" fill-rule=\"evenodd\" fill-opacity=\"1\" /><path clip-path=\"url(#clip200)\" d=\"M1247.66 1542.97 L1252.55 1542.97 L1252.55 1548.85 L1247.66 1548.85 L1247.66 1542.97 Z\" fill=\"#000000\" fill-rule=\"evenodd\" fill-opacity=\"1\" /><path clip-path=\"url(#clip200)\" d=\"M1272.73 1517.37 Q1269.12 1517.37 1267.29 1520.93 Q1265.49 1524.47 1265.49 1531.6 Q1265.49 1538.71 1267.29 1542.27 Q1269.12 1545.82 1272.73 1545.82 Q1276.37 1545.82 1278.17 1542.27 Q1280 1538.71 1280 1531.6 Q1280 1524.47 1278.17 1520.93 Q1276.37 1517.37 1272.73 1517.37 M1272.73 1513.66 Q1278.54 1513.66 1281.6 1518.27 Q1284.68 1522.85 1284.68 1531.6 Q1284.68 1540.33 1281.6 1544.94 Q1278.54 1549.52 1272.73 1549.52 Q1266.92 1549.52 1263.84 1544.94 Q1260.79 1540.33 1260.79 1531.6 Q1260.79 1522.85 1263.84 1518.27 Q1266.92 1513.66 1272.73 1513.66 Z\" fill=\"#000000\" fill-rule=\"evenodd\" fill-opacity=\"1\" /><path clip-path=\"url(#clip200)\" d=\"M1748.11 1517.37 Q1744.5 1517.37 1742.67 1520.93 Q1740.87 1524.47 1740.87 1531.6 Q1740.87 1538.71 1742.67 1542.27 Q1744.5 1545.82 1748.11 1545.82 Q1751.75 1545.82 1753.55 1542.27 Q1755.38 1538.71 1755.38 1531.6 Q1755.38 1524.47 1753.55 1520.93 Q1751.75 1517.37 1748.11 1517.37 M1748.11 1513.66 Q1753.92 1513.66 1756.98 1518.27 Q1760.06 1522.85 1760.06 1531.6 Q1760.06 1540.33 1756.98 1544.94 Q1753.92 1549.52 1748.11 1549.52 Q1742.3 1549.52 1739.22 1544.94 Q1736.17 1540.33 1736.17 1531.6 Q1736.17 1522.85 1739.22 1518.27 Q1742.3 1513.66 1748.11 1513.66 Z\" fill=\"#000000\" fill-rule=\"evenodd\" fill-opacity=\"1\" /><path clip-path=\"url(#clip200)\" d=\"M1768.27 1542.97 L1773.16 1542.97 L1773.16 1548.85 L1768.27 1548.85 L1768.27 1542.97 Z\" fill=\"#000000\" fill-rule=\"evenodd\" fill-opacity=\"1\" /><path clip-path=\"url(#clip200)\" d=\"M1783.39 1514.29 L1801.75 1514.29 L1801.75 1518.22 L1787.67 1518.22 L1787.67 1526.7 Q1788.69 1526.35 1789.71 1526.19 Q1790.73 1526 1791.75 1526 Q1797.53 1526 1800.91 1529.17 Q1804.29 1532.34 1804.29 1537.76 Q1804.29 1543.34 1800.82 1546.44 Q1797.35 1549.52 1791.03 1549.52 Q1788.85 1549.52 1786.58 1549.15 Q1784.34 1548.78 1781.93 1548.04 L1781.93 1543.34 Q1784.01 1544.47 1786.24 1545.03 Q1788.46 1545.58 1790.94 1545.58 Q1794.94 1545.58 1797.28 1543.48 Q1799.62 1541.37 1799.62 1537.76 Q1799.62 1534.15 1797.28 1532.04 Q1794.94 1529.94 1790.94 1529.94 Q1789.06 1529.94 1787.19 1530.35 Q1785.33 1530.77 1783.39 1531.65 L1783.39 1514.29 Z\" fill=\"#000000\" fill-rule=\"evenodd\" fill-opacity=\"1\" /><path clip-path=\"url(#clip200)\" d=\"M2257.5 1544.91 L2265.13 1544.91 L2265.13 1518.55 L2256.82 1520.21 L2256.82 1515.95 L2265.09 1514.29 L2269.76 1514.29 L2269.76 1544.91 L2277.4 1544.91 L2277.4 1548.85 L2257.5 1548.85 L2257.5 1544.91 Z\" fill=\"#000000\" fill-rule=\"evenodd\" fill-opacity=\"1\" /><path clip-path=\"url(#clip200)\" d=\"M2286.85 1542.97 L2291.73 1542.97 L2291.73 1548.85 L2286.85 1548.85 L2286.85 1542.97 Z\" fill=\"#000000\" fill-rule=\"evenodd\" fill-opacity=\"1\" /><path clip-path=\"url(#clip200)\" d=\"M2311.92 1517.37 Q2308.31 1517.37 2306.48 1520.93 Q2304.67 1524.47 2304.67 1531.6 Q2304.67 1538.71 2306.48 1542.27 Q2308.31 1545.82 2311.92 1545.82 Q2315.55 1545.82 2317.36 1542.27 Q2319.18 1538.71 2319.18 1531.6 Q2319.18 1524.47 2317.36 1520.93 Q2315.55 1517.37 2311.92 1517.37 M2311.92 1513.66 Q2317.73 1513.66 2320.78 1518.27 Q2323.86 1522.85 2323.86 1531.6 Q2323.86 1540.33 2320.78 1544.94 Q2317.73 1549.52 2311.92 1549.52 Q2306.11 1549.52 2303.03 1544.94 Q2299.97 1540.33 2299.97 1531.6 Q2299.97 1522.85 2303.03 1518.27 Q2306.11 1513.66 2311.92 1513.66 Z\" fill=\"#000000\" fill-rule=\"evenodd\" fill-opacity=\"1\" /><polyline clip-path=\"url(#clip202)\" style=\"stroke:#000000; stroke-linecap:butt; stroke-linejoin:round; stroke-width:2; stroke-opacity:0.1; fill:none\" points=\"\n",
       "  147.478,1405.46 2352.76,1405.46 \n",
       "  \"/>\n",
       "<polyline clip-path=\"url(#clip202)\" style=\"stroke:#000000; stroke-linecap:butt; stroke-linejoin:round; stroke-width:2; stroke-opacity:0.1; fill:none\" points=\"\n",
       "  147.478,997.708 2352.76,997.708 \n",
       "  \"/>\n",
       "<polyline clip-path=\"url(#clip202)\" style=\"stroke:#000000; stroke-linecap:butt; stroke-linejoin:round; stroke-width:2; stroke-opacity:0.1; fill:none\" points=\"\n",
       "  147.478,589.951 2352.76,589.951 \n",
       "  \"/>\n",
       "<polyline clip-path=\"url(#clip202)\" style=\"stroke:#000000; stroke-linecap:butt; stroke-linejoin:round; stroke-width:2; stroke-opacity:0.1; fill:none\" points=\"\n",
       "  147.478,182.195 2352.76,182.195 \n",
       "  \"/>\n",
       "<polyline clip-path=\"url(#clip200)\" style=\"stroke:#000000; stroke-linecap:butt; stroke-linejoin:round; stroke-width:4; stroke-opacity:1; fill:none\" points=\"\n",
       "  147.478,1486.45 147.478,47.2441 \n",
       "  \"/>\n",
       "<polyline clip-path=\"url(#clip200)\" style=\"stroke:#000000; stroke-linecap:butt; stroke-linejoin:round; stroke-width:4; stroke-opacity:1; fill:none\" points=\"\n",
       "  147.478,1405.46 166.376,1405.46 \n",
       "  \"/>\n",
       "<polyline clip-path=\"url(#clip200)\" style=\"stroke:#000000; stroke-linecap:butt; stroke-linejoin:round; stroke-width:4; stroke-opacity:1; fill:none\" points=\"\n",
       "  147.478,997.708 166.376,997.708 \n",
       "  \"/>\n",
       "<polyline clip-path=\"url(#clip200)\" style=\"stroke:#000000; stroke-linecap:butt; stroke-linejoin:round; stroke-width:4; stroke-opacity:1; fill:none\" points=\"\n",
       "  147.478,589.951 166.376,589.951 \n",
       "  \"/>\n",
       "<polyline clip-path=\"url(#clip200)\" style=\"stroke:#000000; stroke-linecap:butt; stroke-linejoin:round; stroke-width:4; stroke-opacity:1; fill:none\" points=\"\n",
       "  147.478,182.195 166.376,182.195 \n",
       "  \"/>\n",
       "<path clip-path=\"url(#clip200)\" d=\"M50.9921 1405.92 L80.6679 1405.92 L80.6679 1409.85 L50.9921 1409.85 L50.9921 1405.92 Z\" fill=\"#000000\" fill-rule=\"evenodd\" fill-opacity=\"1\" /><path clip-path=\"url(#clip200)\" d=\"M91.5706 1418.81 L99.2095 1418.81 L99.2095 1392.44 L90.8993 1394.11 L90.8993 1389.85 L99.1632 1388.18 L103.839 1388.18 L103.839 1418.81 L111.478 1418.81 L111.478 1422.74 L91.5706 1422.74 L91.5706 1418.81 Z\" fill=\"#000000\" fill-rule=\"evenodd\" fill-opacity=\"1\" /><path clip-path=\"url(#clip200)\" d=\"M99.5335 983.507 Q95.9224 983.507 94.0937 987.071 Q92.2882 990.613 92.2882 997.743 Q92.2882 1004.85 94.0937 1008.41 Q95.9224 1011.96 99.5335 1011.96 Q103.168 1011.96 104.973 1008.41 Q106.802 1004.85 106.802 997.743 Q106.802 990.613 104.973 987.071 Q103.168 983.507 99.5335 983.507 M99.5335 979.803 Q105.344 979.803 108.399 984.409 Q111.478 988.993 111.478 997.743 Q111.478 1006.47 108.399 1011.08 Q105.344 1015.66 99.5335 1015.66 Q93.7234 1015.66 90.6447 1011.08 Q87.5892 1006.47 87.5892 997.743 Q87.5892 988.993 90.6447 984.409 Q93.7234 979.803 99.5335 979.803 Z\" fill=\"#000000\" fill-rule=\"evenodd\" fill-opacity=\"1\" /><path clip-path=\"url(#clip200)\" d=\"M91.5706 603.296 L99.2095 603.296 L99.2095 576.931 L90.8993 578.597 L90.8993 574.338 L99.1632 572.671 L103.839 572.671 L103.839 603.296 L111.478 603.296 L111.478 607.231 L91.5706 607.231 L91.5706 603.296 Z\" fill=\"#000000\" fill-rule=\"evenodd\" fill-opacity=\"1\" /><path clip-path=\"url(#clip200)\" d=\"M95.1586 195.54 L111.478 195.54 L111.478 199.475 L89.5336 199.475 L89.5336 195.54 Q92.1956 192.785 96.7789 188.155 Q101.385 183.503 102.566 182.16 Q104.811 179.637 105.691 177.901 Q106.594 176.142 106.594 174.452 Q106.594 171.697 104.649 169.961 Q102.728 168.225 99.6261 168.225 Q97.4271 168.225 94.9734 168.989 Q92.5428 169.753 89.7651 171.304 L89.7651 166.581 Q92.5891 165.447 95.0428 164.869 Q97.4965 164.29 99.5335 164.29 Q104.904 164.29 108.098 166.975 Q111.293 169.66 111.293 174.151 Q111.293 176.281 110.483 178.202 Q109.696 180.1 107.589 182.693 Q107.01 183.364 103.909 186.581 Q100.807 189.776 95.1586 195.54 Z\" fill=\"#000000\" fill-rule=\"evenodd\" fill-opacity=\"1\" /><circle clip-path=\"url(#clip202)\" cx=\"209.891\" cy=\"944.695\" r=\"14\" fill=\"#009af9\" fill-rule=\"evenodd\" fill-opacity=\"1\" stroke=\"#000000\" stroke-opacity=\"1\" stroke-width=\"3.2\"/>\n",
       "<circle clip-path=\"url(#clip202)\" cx=\"220.346\" cy=\"1321.67\" r=\"14\" fill=\"#009af9\" fill-rule=\"evenodd\" fill-opacity=\"1\" stroke=\"#000000\" stroke-opacity=\"1\" stroke-width=\"3.2\"/>\n",
       "<circle clip-path=\"url(#clip202)\" cx=\"230.8\" cy=\"1209.79\" r=\"14\" fill=\"#009af9\" fill-rule=\"evenodd\" fill-opacity=\"1\" stroke=\"#000000\" stroke-opacity=\"1\" stroke-width=\"3.2\"/>\n",
       "<circle clip-path=\"url(#clip202)\" cx=\"241.255\" cy=\"1121.59\" r=\"14\" fill=\"#009af9\" fill-rule=\"evenodd\" fill-opacity=\"1\" stroke=\"#000000\" stroke-opacity=\"1\" stroke-width=\"3.2\"/>\n",
       "<circle clip-path=\"url(#clip202)\" cx=\"251.71\" cy=\"938.32\" r=\"14\" fill=\"#009af9\" fill-rule=\"evenodd\" fill-opacity=\"1\" stroke=\"#000000\" stroke-opacity=\"1\" stroke-width=\"3.2\"/>\n",
       "<circle clip-path=\"url(#clip202)\" cx=\"262.164\" cy=\"1143.99\" r=\"14\" fill=\"#009af9\" fill-rule=\"evenodd\" fill-opacity=\"1\" stroke=\"#000000\" stroke-opacity=\"1\" stroke-width=\"3.2\"/>\n",
       "<circle clip-path=\"url(#clip202)\" cx=\"272.619\" cy=\"745.484\" r=\"14\" fill=\"#009af9\" fill-rule=\"evenodd\" fill-opacity=\"1\" stroke=\"#000000\" stroke-opacity=\"1\" stroke-width=\"3.2\"/>\n",
       "<circle clip-path=\"url(#clip202)\" cx=\"283.073\" cy=\"875.314\" r=\"14\" fill=\"#009af9\" fill-rule=\"evenodd\" fill-opacity=\"1\" stroke=\"#000000\" stroke-opacity=\"1\" stroke-width=\"3.2\"/>\n",
       "<circle clip-path=\"url(#clip202)\" cx=\"293.528\" cy=\"888.922\" r=\"14\" fill=\"#009af9\" fill-rule=\"evenodd\" fill-opacity=\"1\" stroke=\"#000000\" stroke-opacity=\"1\" stroke-width=\"3.2\"/>\n",
       "<circle clip-path=\"url(#clip202)\" cx=\"303.982\" cy=\"742.1\" r=\"14\" fill=\"#009af9\" fill-rule=\"evenodd\" fill-opacity=\"1\" stroke=\"#000000\" stroke-opacity=\"1\" stroke-width=\"3.2\"/>\n",
       "<circle clip-path=\"url(#clip202)\" cx=\"314.437\" cy=\"1198.64\" r=\"14\" fill=\"#009af9\" fill-rule=\"evenodd\" fill-opacity=\"1\" stroke=\"#000000\" stroke-opacity=\"1\" stroke-width=\"3.2\"/>\n",
       "<circle clip-path=\"url(#clip202)\" cx=\"324.891\" cy=\"804.41\" r=\"14\" fill=\"#009af9\" fill-rule=\"evenodd\" fill-opacity=\"1\" stroke=\"#000000\" stroke-opacity=\"1\" stroke-width=\"3.2\"/>\n",
       "<circle clip-path=\"url(#clip202)\" cx=\"335.346\" cy=\"962.547\" r=\"14\" fill=\"#009af9\" fill-rule=\"evenodd\" fill-opacity=\"1\" stroke=\"#000000\" stroke-opacity=\"1\" stroke-width=\"3.2\"/>\n",
       "<circle clip-path=\"url(#clip202)\" cx=\"345.8\" cy=\"884.456\" r=\"14\" fill=\"#009af9\" fill-rule=\"evenodd\" fill-opacity=\"1\" stroke=\"#000000\" stroke-opacity=\"1\" stroke-width=\"3.2\"/>\n",
       "<circle clip-path=\"url(#clip202)\" cx=\"356.255\" cy=\"454.792\" r=\"14\" fill=\"#009af9\" fill-rule=\"evenodd\" fill-opacity=\"1\" stroke=\"#000000\" stroke-opacity=\"1\" stroke-width=\"3.2\"/>\n",
       "<circle clip-path=\"url(#clip202)\" cx=\"366.709\" cy=\"914.258\" r=\"14\" fill=\"#009af9\" fill-rule=\"evenodd\" fill-opacity=\"1\" stroke=\"#000000\" stroke-opacity=\"1\" stroke-width=\"3.2\"/>\n",
       "<circle clip-path=\"url(#clip202)\" cx=\"377.164\" cy=\"822.197\" r=\"14\" fill=\"#009af9\" fill-rule=\"evenodd\" fill-opacity=\"1\" stroke=\"#000000\" stroke-opacity=\"1\" stroke-width=\"3.2\"/>\n",
       "<circle clip-path=\"url(#clip202)\" cx=\"387.618\" cy=\"1126.52\" r=\"14\" fill=\"#009af9\" fill-rule=\"evenodd\" fill-opacity=\"1\" stroke=\"#000000\" stroke-opacity=\"1\" stroke-width=\"3.2\"/>\n",
       "<circle clip-path=\"url(#clip202)\" cx=\"398.073\" cy=\"1052.98\" r=\"14\" fill=\"#009af9\" fill-rule=\"evenodd\" fill-opacity=\"1\" stroke=\"#000000\" stroke-opacity=\"1\" stroke-width=\"3.2\"/>\n",
       "<circle clip-path=\"url(#clip202)\" cx=\"408.527\" cy=\"1128.06\" r=\"14\" fill=\"#009af9\" fill-rule=\"evenodd\" fill-opacity=\"1\" stroke=\"#000000\" stroke-opacity=\"1\" stroke-width=\"3.2\"/>\n",
       "<circle clip-path=\"url(#clip202)\" cx=\"418.982\" cy=\"940.099\" r=\"14\" fill=\"#009af9\" fill-rule=\"evenodd\" fill-opacity=\"1\" stroke=\"#000000\" stroke-opacity=\"1\" stroke-width=\"3.2\"/>\n",
       "<circle clip-path=\"url(#clip202)\" cx=\"429.437\" cy=\"718.38\" r=\"14\" fill=\"#009af9\" fill-rule=\"evenodd\" fill-opacity=\"1\" stroke=\"#000000\" stroke-opacity=\"1\" stroke-width=\"3.2\"/>\n",
       "<circle clip-path=\"url(#clip202)\" cx=\"439.891\" cy=\"843.242\" r=\"14\" fill=\"#009af9\" fill-rule=\"evenodd\" fill-opacity=\"1\" stroke=\"#000000\" stroke-opacity=\"1\" stroke-width=\"3.2\"/>\n",
       "<circle clip-path=\"url(#clip202)\" cx=\"450.346\" cy=\"486.999\" r=\"14\" fill=\"#009af9\" fill-rule=\"evenodd\" fill-opacity=\"1\" stroke=\"#000000\" stroke-opacity=\"1\" stroke-width=\"3.2\"/>\n",
       "<circle clip-path=\"url(#clip202)\" cx=\"460.8\" cy=\"1336.6\" r=\"14\" fill=\"#009af9\" fill-rule=\"evenodd\" fill-opacity=\"1\" stroke=\"#000000\" stroke-opacity=\"1\" stroke-width=\"3.2\"/>\n",
       "<circle clip-path=\"url(#clip202)\" cx=\"471.255\" cy=\"976.571\" r=\"14\" fill=\"#009af9\" fill-rule=\"evenodd\" fill-opacity=\"1\" stroke=\"#000000\" stroke-opacity=\"1\" stroke-width=\"3.2\"/>\n",
       "<circle clip-path=\"url(#clip202)\" cx=\"481.709\" cy=\"1011.4\" r=\"14\" fill=\"#009af9\" fill-rule=\"evenodd\" fill-opacity=\"1\" stroke=\"#000000\" stroke-opacity=\"1\" stroke-width=\"3.2\"/>\n",
       "<circle clip-path=\"url(#clip202)\" cx=\"492.164\" cy=\"907.234\" r=\"14\" fill=\"#009af9\" fill-rule=\"evenodd\" fill-opacity=\"1\" stroke=\"#000000\" stroke-opacity=\"1\" stroke-width=\"3.2\"/>\n",
       "<circle clip-path=\"url(#clip202)\" cx=\"502.618\" cy=\"1065.71\" r=\"14\" fill=\"#009af9\" fill-rule=\"evenodd\" fill-opacity=\"1\" stroke=\"#000000\" stroke-opacity=\"1\" stroke-width=\"3.2\"/>\n",
       "<circle clip-path=\"url(#clip202)\" cx=\"513.073\" cy=\"1327.55\" r=\"14\" fill=\"#009af9\" fill-rule=\"evenodd\" fill-opacity=\"1\" stroke=\"#000000\" stroke-opacity=\"1\" stroke-width=\"3.2\"/>\n",
       "<circle clip-path=\"url(#clip202)\" cx=\"523.527\" cy=\"940.631\" r=\"14\" fill=\"#009af9\" fill-rule=\"evenodd\" fill-opacity=\"1\" stroke=\"#000000\" stroke-opacity=\"1\" stroke-width=\"3.2\"/>\n",
       "<circle clip-path=\"url(#clip202)\" cx=\"533.982\" cy=\"927.241\" r=\"14\" fill=\"#009af9\" fill-rule=\"evenodd\" fill-opacity=\"1\" stroke=\"#000000\" stroke-opacity=\"1\" stroke-width=\"3.2\"/>\n",
       "<circle clip-path=\"url(#clip202)\" cx=\"544.436\" cy=\"1276.19\" r=\"14\" fill=\"#009af9\" fill-rule=\"evenodd\" fill-opacity=\"1\" stroke=\"#000000\" stroke-opacity=\"1\" stroke-width=\"3.2\"/>\n",
       "<circle clip-path=\"url(#clip202)\" cx=\"554.891\" cy=\"859.341\" r=\"14\" fill=\"#009af9\" fill-rule=\"evenodd\" fill-opacity=\"1\" stroke=\"#000000\" stroke-opacity=\"1\" stroke-width=\"3.2\"/>\n",
       "<circle clip-path=\"url(#clip202)\" cx=\"565.345\" cy=\"937.818\" r=\"14\" fill=\"#009af9\" fill-rule=\"evenodd\" fill-opacity=\"1\" stroke=\"#000000\" stroke-opacity=\"1\" stroke-width=\"3.2\"/>\n",
       "<circle clip-path=\"url(#clip202)\" cx=\"575.8\" cy=\"656.352\" r=\"14\" fill=\"#009af9\" fill-rule=\"evenodd\" fill-opacity=\"1\" stroke=\"#000000\" stroke-opacity=\"1\" stroke-width=\"3.2\"/>\n",
       "<circle clip-path=\"url(#clip202)\" cx=\"586.254\" cy=\"1214.12\" r=\"14\" fill=\"#009af9\" fill-rule=\"evenodd\" fill-opacity=\"1\" stroke=\"#000000\" stroke-opacity=\"1\" stroke-width=\"3.2\"/>\n",
       "<circle clip-path=\"url(#clip202)\" cx=\"596.709\" cy=\"1445.72\" r=\"14\" fill=\"#009af9\" fill-rule=\"evenodd\" fill-opacity=\"1\" stroke=\"#000000\" stroke-opacity=\"1\" stroke-width=\"3.2\"/>\n",
       "<circle clip-path=\"url(#clip202)\" cx=\"607.163\" cy=\"1284.86\" r=\"14\" fill=\"#009af9\" fill-rule=\"evenodd\" fill-opacity=\"1\" stroke=\"#000000\" stroke-opacity=\"1\" stroke-width=\"3.2\"/>\n",
       "<circle clip-path=\"url(#clip202)\" cx=\"617.618\" cy=\"848.157\" r=\"14\" fill=\"#009af9\" fill-rule=\"evenodd\" fill-opacity=\"1\" stroke=\"#000000\" stroke-opacity=\"1\" stroke-width=\"3.2\"/>\n",
       "<circle clip-path=\"url(#clip202)\" cx=\"628.073\" cy=\"1160.69\" r=\"14\" fill=\"#009af9\" fill-rule=\"evenodd\" fill-opacity=\"1\" stroke=\"#000000\" stroke-opacity=\"1\" stroke-width=\"3.2\"/>\n",
       "<circle clip-path=\"url(#clip202)\" cx=\"638.527\" cy=\"1035.66\" r=\"14\" fill=\"#009af9\" fill-rule=\"evenodd\" fill-opacity=\"1\" stroke=\"#000000\" stroke-opacity=\"1\" stroke-width=\"3.2\"/>\n",
       "<circle clip-path=\"url(#clip202)\" cx=\"648.982\" cy=\"821.312\" r=\"14\" fill=\"#009af9\" fill-rule=\"evenodd\" fill-opacity=\"1\" stroke=\"#000000\" stroke-opacity=\"1\" stroke-width=\"3.2\"/>\n",
       "<circle clip-path=\"url(#clip202)\" cx=\"659.436\" cy=\"963.054\" r=\"14\" fill=\"#009af9\" fill-rule=\"evenodd\" fill-opacity=\"1\" stroke=\"#000000\" stroke-opacity=\"1\" stroke-width=\"3.2\"/>\n",
       "<circle clip-path=\"url(#clip202)\" cx=\"669.891\" cy=\"994.678\" r=\"14\" fill=\"#009af9\" fill-rule=\"evenodd\" fill-opacity=\"1\" stroke=\"#000000\" stroke-opacity=\"1\" stroke-width=\"3.2\"/>\n",
       "<circle clip-path=\"url(#clip202)\" cx=\"680.345\" cy=\"1164.73\" r=\"14\" fill=\"#009af9\" fill-rule=\"evenodd\" fill-opacity=\"1\" stroke=\"#000000\" stroke-opacity=\"1\" stroke-width=\"3.2\"/>\n",
       "<circle clip-path=\"url(#clip202)\" cx=\"690.8\" cy=\"1004.59\" r=\"14\" fill=\"#009af9\" fill-rule=\"evenodd\" fill-opacity=\"1\" stroke=\"#000000\" stroke-opacity=\"1\" stroke-width=\"3.2\"/>\n",
       "<circle clip-path=\"url(#clip202)\" cx=\"701.254\" cy=\"958.281\" r=\"14\" fill=\"#009af9\" fill-rule=\"evenodd\" fill-opacity=\"1\" stroke=\"#000000\" stroke-opacity=\"1\" stroke-width=\"3.2\"/>\n",
       "<circle clip-path=\"url(#clip202)\" cx=\"711.709\" cy=\"985.107\" r=\"14\" fill=\"#009af9\" fill-rule=\"evenodd\" fill-opacity=\"1\" stroke=\"#000000\" stroke-opacity=\"1\" stroke-width=\"3.2\"/>\n",
       "<circle clip-path=\"url(#clip202)\" cx=\"722.163\" cy=\"876.042\" r=\"14\" fill=\"#009af9\" fill-rule=\"evenodd\" fill-opacity=\"1\" stroke=\"#000000\" stroke-opacity=\"1\" stroke-width=\"3.2\"/>\n",
       "<circle clip-path=\"url(#clip202)\" cx=\"732.618\" cy=\"852.693\" r=\"14\" fill=\"#009af9\" fill-rule=\"evenodd\" fill-opacity=\"1\" stroke=\"#000000\" stroke-opacity=\"1\" stroke-width=\"3.2\"/>\n",
       "<circle clip-path=\"url(#clip202)\" cx=\"743.072\" cy=\"869.092\" r=\"14\" fill=\"#009af9\" fill-rule=\"evenodd\" fill-opacity=\"1\" stroke=\"#000000\" stroke-opacity=\"1\" stroke-width=\"3.2\"/>\n",
       "<circle clip-path=\"url(#clip202)\" cx=\"753.527\" cy=\"1079.56\" r=\"14\" fill=\"#009af9\" fill-rule=\"evenodd\" fill-opacity=\"1\" stroke=\"#000000\" stroke-opacity=\"1\" stroke-width=\"3.2\"/>\n",
       "<circle clip-path=\"url(#clip202)\" cx=\"763.981\" cy=\"939.284\" r=\"14\" fill=\"#009af9\" fill-rule=\"evenodd\" fill-opacity=\"1\" stroke=\"#000000\" stroke-opacity=\"1\" stroke-width=\"3.2\"/>\n",
       "<circle clip-path=\"url(#clip202)\" cx=\"774.436\" cy=\"942.308\" r=\"14\" fill=\"#009af9\" fill-rule=\"evenodd\" fill-opacity=\"1\" stroke=\"#000000\" stroke-opacity=\"1\" stroke-width=\"3.2\"/>\n",
       "<circle clip-path=\"url(#clip202)\" cx=\"784.89\" cy=\"1129.22\" r=\"14\" fill=\"#009af9\" fill-rule=\"evenodd\" fill-opacity=\"1\" stroke=\"#000000\" stroke-opacity=\"1\" stroke-width=\"3.2\"/>\n",
       "<circle clip-path=\"url(#clip202)\" cx=\"795.345\" cy=\"768.77\" r=\"14\" fill=\"#009af9\" fill-rule=\"evenodd\" fill-opacity=\"1\" stroke=\"#000000\" stroke-opacity=\"1\" stroke-width=\"3.2\"/>\n",
       "<circle clip-path=\"url(#clip202)\" cx=\"805.799\" cy=\"735.059\" r=\"14\" fill=\"#009af9\" fill-rule=\"evenodd\" fill-opacity=\"1\" stroke=\"#000000\" stroke-opacity=\"1\" stroke-width=\"3.2\"/>\n",
       "<circle clip-path=\"url(#clip202)\" cx=\"816.254\" cy=\"912.039\" r=\"14\" fill=\"#009af9\" fill-rule=\"evenodd\" fill-opacity=\"1\" stroke=\"#000000\" stroke-opacity=\"1\" stroke-width=\"3.2\"/>\n",
       "<circle clip-path=\"url(#clip202)\" cx=\"826.709\" cy=\"643.206\" r=\"14\" fill=\"#009af9\" fill-rule=\"evenodd\" fill-opacity=\"1\" stroke=\"#000000\" stroke-opacity=\"1\" stroke-width=\"3.2\"/>\n",
       "<circle clip-path=\"url(#clip202)\" cx=\"837.163\" cy=\"554.141\" r=\"14\" fill=\"#009af9\" fill-rule=\"evenodd\" fill-opacity=\"1\" stroke=\"#000000\" stroke-opacity=\"1\" stroke-width=\"3.2\"/>\n",
       "<circle clip-path=\"url(#clip202)\" cx=\"847.618\" cy=\"1173.98\" r=\"14\" fill=\"#009af9\" fill-rule=\"evenodd\" fill-opacity=\"1\" stroke=\"#000000\" stroke-opacity=\"1\" stroke-width=\"3.2\"/>\n",
       "<circle clip-path=\"url(#clip202)\" cx=\"858.072\" cy=\"466.68\" r=\"14\" fill=\"#009af9\" fill-rule=\"evenodd\" fill-opacity=\"1\" stroke=\"#000000\" stroke-opacity=\"1\" stroke-width=\"3.2\"/>\n",
       "<circle clip-path=\"url(#clip202)\" cx=\"868.527\" cy=\"909.437\" r=\"14\" fill=\"#009af9\" fill-rule=\"evenodd\" fill-opacity=\"1\" stroke=\"#000000\" stroke-opacity=\"1\" stroke-width=\"3.2\"/>\n",
       "<circle clip-path=\"url(#clip202)\" cx=\"878.981\" cy=\"832.069\" r=\"14\" fill=\"#009af9\" fill-rule=\"evenodd\" fill-opacity=\"1\" stroke=\"#000000\" stroke-opacity=\"1\" stroke-width=\"3.2\"/>\n",
       "<circle clip-path=\"url(#clip202)\" cx=\"889.436\" cy=\"450.489\" r=\"14\" fill=\"#009af9\" fill-rule=\"evenodd\" fill-opacity=\"1\" stroke=\"#000000\" stroke-opacity=\"1\" stroke-width=\"3.2\"/>\n",
       "<circle clip-path=\"url(#clip202)\" cx=\"899.89\" cy=\"627.487\" r=\"14\" fill=\"#009af9\" fill-rule=\"evenodd\" fill-opacity=\"1\" stroke=\"#000000\" stroke-opacity=\"1\" stroke-width=\"3.2\"/>\n",
       "<circle clip-path=\"url(#clip202)\" cx=\"910.345\" cy=\"719.758\" r=\"14\" fill=\"#009af9\" fill-rule=\"evenodd\" fill-opacity=\"1\" stroke=\"#000000\" stroke-opacity=\"1\" stroke-width=\"3.2\"/>\n",
       "<circle clip-path=\"url(#clip202)\" cx=\"920.799\" cy=\"891.466\" r=\"14\" fill=\"#009af9\" fill-rule=\"evenodd\" fill-opacity=\"1\" stroke=\"#000000\" stroke-opacity=\"1\" stroke-width=\"3.2\"/>\n",
       "<circle clip-path=\"url(#clip202)\" cx=\"931.254\" cy=\"1031.04\" r=\"14\" fill=\"#009af9\" fill-rule=\"evenodd\" fill-opacity=\"1\" stroke=\"#000000\" stroke-opacity=\"1\" stroke-width=\"3.2\"/>\n",
       "<circle clip-path=\"url(#clip202)\" cx=\"941.708\" cy=\"917.933\" r=\"14\" fill=\"#009af9\" fill-rule=\"evenodd\" fill-opacity=\"1\" stroke=\"#000000\" stroke-opacity=\"1\" stroke-width=\"3.2\"/>\n",
       "<circle clip-path=\"url(#clip202)\" cx=\"952.163\" cy=\"842.439\" r=\"14\" fill=\"#009af9\" fill-rule=\"evenodd\" fill-opacity=\"1\" stroke=\"#000000\" stroke-opacity=\"1\" stroke-width=\"3.2\"/>\n",
       "<circle clip-path=\"url(#clip202)\" cx=\"962.617\" cy=\"494.578\" r=\"14\" fill=\"#009af9\" fill-rule=\"evenodd\" fill-opacity=\"1\" stroke=\"#000000\" stroke-opacity=\"1\" stroke-width=\"3.2\"/>\n",
       "<circle clip-path=\"url(#clip202)\" cx=\"973.072\" cy=\"1018.87\" r=\"14\" fill=\"#009af9\" fill-rule=\"evenodd\" fill-opacity=\"1\" stroke=\"#000000\" stroke-opacity=\"1\" stroke-width=\"3.2\"/>\n",
       "<circle clip-path=\"url(#clip202)\" cx=\"983.526\" cy=\"1098.71\" r=\"14\" fill=\"#009af9\" fill-rule=\"evenodd\" fill-opacity=\"1\" stroke=\"#000000\" stroke-opacity=\"1\" stroke-width=\"3.2\"/>\n",
       "<circle clip-path=\"url(#clip202)\" cx=\"993.981\" cy=\"138.393\" r=\"14\" fill=\"#009af9\" fill-rule=\"evenodd\" fill-opacity=\"1\" stroke=\"#000000\" stroke-opacity=\"1\" stroke-width=\"3.2\"/>\n",
       "<circle clip-path=\"url(#clip202)\" cx=\"1004.44\" cy=\"1213.92\" r=\"14\" fill=\"#009af9\" fill-rule=\"evenodd\" fill-opacity=\"1\" stroke=\"#000000\" stroke-opacity=\"1\" stroke-width=\"3.2\"/>\n",
       "<circle clip-path=\"url(#clip202)\" cx=\"1014.89\" cy=\"587.1\" r=\"14\" fill=\"#009af9\" fill-rule=\"evenodd\" fill-opacity=\"1\" stroke=\"#000000\" stroke-opacity=\"1\" stroke-width=\"3.2\"/>\n",
       "<circle clip-path=\"url(#clip202)\" cx=\"1025.34\" cy=\"746.297\" r=\"14\" fill=\"#009af9\" fill-rule=\"evenodd\" fill-opacity=\"1\" stroke=\"#000000\" stroke-opacity=\"1\" stroke-width=\"3.2\"/>\n",
       "<circle clip-path=\"url(#clip202)\" cx=\"1035.8\" cy=\"882.478\" r=\"14\" fill=\"#009af9\" fill-rule=\"evenodd\" fill-opacity=\"1\" stroke=\"#000000\" stroke-opacity=\"1\" stroke-width=\"3.2\"/>\n",
       "<circle clip-path=\"url(#clip202)\" cx=\"1046.25\" cy=\"712.035\" r=\"14\" fill=\"#009af9\" fill-rule=\"evenodd\" fill-opacity=\"1\" stroke=\"#000000\" stroke-opacity=\"1\" stroke-width=\"3.2\"/>\n",
       "<circle clip-path=\"url(#clip202)\" cx=\"1056.71\" cy=\"535.346\" r=\"14\" fill=\"#009af9\" fill-rule=\"evenodd\" fill-opacity=\"1\" stroke=\"#000000\" stroke-opacity=\"1\" stroke-width=\"3.2\"/>\n",
       "<circle clip-path=\"url(#clip202)\" cx=\"1067.16\" cy=\"749.782\" r=\"14\" fill=\"#009af9\" fill-rule=\"evenodd\" fill-opacity=\"1\" stroke=\"#000000\" stroke-opacity=\"1\" stroke-width=\"3.2\"/>\n",
       "<circle clip-path=\"url(#clip202)\" cx=\"1077.62\" cy=\"800.352\" r=\"14\" fill=\"#009af9\" fill-rule=\"evenodd\" fill-opacity=\"1\" stroke=\"#000000\" stroke-opacity=\"1\" stroke-width=\"3.2\"/>\n",
       "<circle clip-path=\"url(#clip202)\" cx=\"1088.07\" cy=\"773.847\" r=\"14\" fill=\"#009af9\" fill-rule=\"evenodd\" fill-opacity=\"1\" stroke=\"#000000\" stroke-opacity=\"1\" stroke-width=\"3.2\"/>\n",
       "<circle clip-path=\"url(#clip202)\" cx=\"1098.53\" cy=\"120.405\" r=\"14\" fill=\"#009af9\" fill-rule=\"evenodd\" fill-opacity=\"1\" stroke=\"#000000\" stroke-opacity=\"1\" stroke-width=\"3.2\"/>\n",
       "<circle clip-path=\"url(#clip202)\" cx=\"1108.98\" cy=\"645.269\" r=\"14\" fill=\"#009af9\" fill-rule=\"evenodd\" fill-opacity=\"1\" stroke=\"#000000\" stroke-opacity=\"1\" stroke-width=\"3.2\"/>\n",
       "<circle clip-path=\"url(#clip202)\" cx=\"1119.44\" cy=\"556.263\" r=\"14\" fill=\"#009af9\" fill-rule=\"evenodd\" fill-opacity=\"1\" stroke=\"#000000\" stroke-opacity=\"1\" stroke-width=\"3.2\"/>\n",
       "<circle clip-path=\"url(#clip202)\" cx=\"1129.89\" cy=\"868.366\" r=\"14\" fill=\"#009af9\" fill-rule=\"evenodd\" fill-opacity=\"1\" stroke=\"#000000\" stroke-opacity=\"1\" stroke-width=\"3.2\"/>\n",
       "<circle clip-path=\"url(#clip202)\" cx=\"1140.34\" cy=\"512.135\" r=\"14\" fill=\"#009af9\" fill-rule=\"evenodd\" fill-opacity=\"1\" stroke=\"#000000\" stroke-opacity=\"1\" stroke-width=\"3.2\"/>\n",
       "<circle clip-path=\"url(#clip202)\" cx=\"1150.8\" cy=\"402.464\" r=\"14\" fill=\"#009af9\" fill-rule=\"evenodd\" fill-opacity=\"1\" stroke=\"#000000\" stroke-opacity=\"1\" stroke-width=\"3.2\"/>\n",
       "<circle clip-path=\"url(#clip202)\" cx=\"1161.25\" cy=\"545.229\" r=\"14\" fill=\"#009af9\" fill-rule=\"evenodd\" fill-opacity=\"1\" stroke=\"#000000\" stroke-opacity=\"1\" stroke-width=\"3.2\"/>\n",
       "<circle clip-path=\"url(#clip202)\" cx=\"1171.71\" cy=\"542.388\" r=\"14\" fill=\"#009af9\" fill-rule=\"evenodd\" fill-opacity=\"1\" stroke=\"#000000\" stroke-opacity=\"1\" stroke-width=\"3.2\"/>\n",
       "<circle clip-path=\"url(#clip202)\" cx=\"1182.16\" cy=\"528.352\" r=\"14\" fill=\"#009af9\" fill-rule=\"evenodd\" fill-opacity=\"1\" stroke=\"#000000\" stroke-opacity=\"1\" stroke-width=\"3.2\"/>\n",
       "<circle clip-path=\"url(#clip202)\" cx=\"1192.62\" cy=\"538.982\" r=\"14\" fill=\"#009af9\" fill-rule=\"evenodd\" fill-opacity=\"1\" stroke=\"#000000\" stroke-opacity=\"1\" stroke-width=\"3.2\"/>\n",
       "<circle clip-path=\"url(#clip202)\" cx=\"1203.07\" cy=\"676.706\" r=\"14\" fill=\"#009af9\" fill-rule=\"evenodd\" fill-opacity=\"1\" stroke=\"#000000\" stroke-opacity=\"1\" stroke-width=\"3.2\"/>\n",
       "<circle clip-path=\"url(#clip202)\" cx=\"1213.53\" cy=\"840.342\" r=\"14\" fill=\"#009af9\" fill-rule=\"evenodd\" fill-opacity=\"1\" stroke=\"#000000\" stroke-opacity=\"1\" stroke-width=\"3.2\"/>\n",
       "<circle clip-path=\"url(#clip202)\" cx=\"1223.98\" cy=\"626.904\" r=\"14\" fill=\"#009af9\" fill-rule=\"evenodd\" fill-opacity=\"1\" stroke=\"#000000\" stroke-opacity=\"1\" stroke-width=\"3.2\"/>\n",
       "<circle clip-path=\"url(#clip202)\" cx=\"1234.44\" cy=\"538.377\" r=\"14\" fill=\"#009af9\" fill-rule=\"evenodd\" fill-opacity=\"1\" stroke=\"#000000\" stroke-opacity=\"1\" stroke-width=\"3.2\"/>\n",
       "<circle clip-path=\"url(#clip202)\" cx=\"1244.89\" cy=\"628.867\" r=\"14\" fill=\"#009af9\" fill-rule=\"evenodd\" fill-opacity=\"1\" stroke=\"#000000\" stroke-opacity=\"1\" stroke-width=\"3.2\"/>\n",
       "<circle clip-path=\"url(#clip202)\" cx=\"1255.34\" cy=\"517.283\" r=\"14\" fill=\"#009af9\" fill-rule=\"evenodd\" fill-opacity=\"1\" stroke=\"#000000\" stroke-opacity=\"1\" stroke-width=\"3.2\"/>\n",
       "<circle clip-path=\"url(#clip202)\" cx=\"1265.8\" cy=\"910.912\" r=\"14\" fill=\"#009af9\" fill-rule=\"evenodd\" fill-opacity=\"1\" stroke=\"#000000\" stroke-opacity=\"1\" stroke-width=\"3.2\"/>\n",
       "<circle clip-path=\"url(#clip202)\" cx=\"1276.25\" cy=\"674.94\" r=\"14\" fill=\"#009af9\" fill-rule=\"evenodd\" fill-opacity=\"1\" stroke=\"#000000\" stroke-opacity=\"1\" stroke-width=\"3.2\"/>\n",
       "<circle clip-path=\"url(#clip202)\" cx=\"1286.71\" cy=\"396.308\" r=\"14\" fill=\"#009af9\" fill-rule=\"evenodd\" fill-opacity=\"1\" stroke=\"#000000\" stroke-opacity=\"1\" stroke-width=\"3.2\"/>\n",
       "<circle clip-path=\"url(#clip202)\" cx=\"1297.16\" cy=\"493.32\" r=\"14\" fill=\"#009af9\" fill-rule=\"evenodd\" fill-opacity=\"1\" stroke=\"#000000\" stroke-opacity=\"1\" stroke-width=\"3.2\"/>\n",
       "<circle clip-path=\"url(#clip202)\" cx=\"1307.62\" cy=\"129.36\" r=\"14\" fill=\"#009af9\" fill-rule=\"evenodd\" fill-opacity=\"1\" stroke=\"#000000\" stroke-opacity=\"1\" stroke-width=\"3.2\"/>\n",
       "<circle clip-path=\"url(#clip202)\" cx=\"1318.07\" cy=\"313.833\" r=\"14\" fill=\"#009af9\" fill-rule=\"evenodd\" fill-opacity=\"1\" stroke=\"#000000\" stroke-opacity=\"1\" stroke-width=\"3.2\"/>\n",
       "<circle clip-path=\"url(#clip202)\" cx=\"1328.53\" cy=\"468.081\" r=\"14\" fill=\"#009af9\" fill-rule=\"evenodd\" fill-opacity=\"1\" stroke=\"#000000\" stroke-opacity=\"1\" stroke-width=\"3.2\"/>\n",
       "<circle clip-path=\"url(#clip202)\" cx=\"1338.98\" cy=\"87.9763\" r=\"14\" fill=\"#009af9\" fill-rule=\"evenodd\" fill-opacity=\"1\" stroke=\"#000000\" stroke-opacity=\"1\" stroke-width=\"3.2\"/>\n",
       "<circle clip-path=\"url(#clip202)\" cx=\"1349.43\" cy=\"820.771\" r=\"14\" fill=\"#009af9\" fill-rule=\"evenodd\" fill-opacity=\"1\" stroke=\"#000000\" stroke-opacity=\"1\" stroke-width=\"3.2\"/>\n",
       "<circle clip-path=\"url(#clip202)\" cx=\"1359.89\" cy=\"1075.39\" r=\"14\" fill=\"#009af9\" fill-rule=\"evenodd\" fill-opacity=\"1\" stroke=\"#000000\" stroke-opacity=\"1\" stroke-width=\"3.2\"/>\n",
       "<circle clip-path=\"url(#clip202)\" cx=\"1370.34\" cy=\"988.443\" r=\"14\" fill=\"#009af9\" fill-rule=\"evenodd\" fill-opacity=\"1\" stroke=\"#000000\" stroke-opacity=\"1\" stroke-width=\"3.2\"/>\n",
       "<circle clip-path=\"url(#clip202)\" cx=\"1380.8\" cy=\"978.729\" r=\"14\" fill=\"#009af9\" fill-rule=\"evenodd\" fill-opacity=\"1\" stroke=\"#000000\" stroke-opacity=\"1\" stroke-width=\"3.2\"/>\n",
       "<circle clip-path=\"url(#clip202)\" cx=\"1391.25\" cy=\"518.506\" r=\"14\" fill=\"#009af9\" fill-rule=\"evenodd\" fill-opacity=\"1\" stroke=\"#000000\" stroke-opacity=\"1\" stroke-width=\"3.2\"/>\n",
       "<circle clip-path=\"url(#clip202)\" cx=\"1401.71\" cy=\"629.99\" r=\"14\" fill=\"#009af9\" fill-rule=\"evenodd\" fill-opacity=\"1\" stroke=\"#000000\" stroke-opacity=\"1\" stroke-width=\"3.2\"/>\n",
       "<circle clip-path=\"url(#clip202)\" cx=\"1412.16\" cy=\"796.891\" r=\"14\" fill=\"#009af9\" fill-rule=\"evenodd\" fill-opacity=\"1\" stroke=\"#000000\" stroke-opacity=\"1\" stroke-width=\"3.2\"/>\n",
       "<circle clip-path=\"url(#clip202)\" cx=\"1422.62\" cy=\"488.909\" r=\"14\" fill=\"#009af9\" fill-rule=\"evenodd\" fill-opacity=\"1\" stroke=\"#000000\" stroke-opacity=\"1\" stroke-width=\"3.2\"/>\n",
       "<circle clip-path=\"url(#clip202)\" cx=\"1433.07\" cy=\"846.22\" r=\"14\" fill=\"#009af9\" fill-rule=\"evenodd\" fill-opacity=\"1\" stroke=\"#000000\" stroke-opacity=\"1\" stroke-width=\"3.2\"/>\n",
       "<circle clip-path=\"url(#clip202)\" cx=\"1443.53\" cy=\"258.586\" r=\"14\" fill=\"#009af9\" fill-rule=\"evenodd\" fill-opacity=\"1\" stroke=\"#000000\" stroke-opacity=\"1\" stroke-width=\"3.2\"/>\n",
       "<circle clip-path=\"url(#clip202)\" cx=\"1453.98\" cy=\"893.82\" r=\"14\" fill=\"#009af9\" fill-rule=\"evenodd\" fill-opacity=\"1\" stroke=\"#000000\" stroke-opacity=\"1\" stroke-width=\"3.2\"/>\n",
       "<circle clip-path=\"url(#clip202)\" cx=\"1464.43\" cy=\"1023.97\" r=\"14\" fill=\"#009af9\" fill-rule=\"evenodd\" fill-opacity=\"1\" stroke=\"#000000\" stroke-opacity=\"1\" stroke-width=\"3.2\"/>\n",
       "<circle clip-path=\"url(#clip202)\" cx=\"1474.89\" cy=\"381.07\" r=\"14\" fill=\"#009af9\" fill-rule=\"evenodd\" fill-opacity=\"1\" stroke=\"#000000\" stroke-opacity=\"1\" stroke-width=\"3.2\"/>\n",
       "<circle clip-path=\"url(#clip202)\" cx=\"1485.34\" cy=\"468.254\" r=\"14\" fill=\"#009af9\" fill-rule=\"evenodd\" fill-opacity=\"1\" stroke=\"#000000\" stroke-opacity=\"1\" stroke-width=\"3.2\"/>\n",
       "<circle clip-path=\"url(#clip202)\" cx=\"1495.8\" cy=\"766.639\" r=\"14\" fill=\"#009af9\" fill-rule=\"evenodd\" fill-opacity=\"1\" stroke=\"#000000\" stroke-opacity=\"1\" stroke-width=\"3.2\"/>\n",
       "<circle clip-path=\"url(#clip202)\" cx=\"1506.25\" cy=\"331.176\" r=\"14\" fill=\"#009af9\" fill-rule=\"evenodd\" fill-opacity=\"1\" stroke=\"#000000\" stroke-opacity=\"1\" stroke-width=\"3.2\"/>\n",
       "<circle clip-path=\"url(#clip202)\" cx=\"1516.71\" cy=\"250.945\" r=\"14\" fill=\"#009af9\" fill-rule=\"evenodd\" fill-opacity=\"1\" stroke=\"#000000\" stroke-opacity=\"1\" stroke-width=\"3.2\"/>\n",
       "<circle clip-path=\"url(#clip202)\" cx=\"1527.16\" cy=\"964.796\" r=\"14\" fill=\"#009af9\" fill-rule=\"evenodd\" fill-opacity=\"1\" stroke=\"#000000\" stroke-opacity=\"1\" stroke-width=\"3.2\"/>\n",
       "<circle clip-path=\"url(#clip202)\" cx=\"1537.62\" cy=\"784.473\" r=\"14\" fill=\"#009af9\" fill-rule=\"evenodd\" fill-opacity=\"1\" stroke=\"#000000\" stroke-opacity=\"1\" stroke-width=\"3.2\"/>\n",
       "<circle clip-path=\"url(#clip202)\" cx=\"1548.07\" cy=\"936.866\" r=\"14\" fill=\"#009af9\" fill-rule=\"evenodd\" fill-opacity=\"1\" stroke=\"#000000\" stroke-opacity=\"1\" stroke-width=\"3.2\"/>\n",
       "<circle clip-path=\"url(#clip202)\" cx=\"1558.53\" cy=\"582.821\" r=\"14\" fill=\"#009af9\" fill-rule=\"evenodd\" fill-opacity=\"1\" stroke=\"#000000\" stroke-opacity=\"1\" stroke-width=\"3.2\"/>\n",
       "<circle clip-path=\"url(#clip202)\" cx=\"1568.98\" cy=\"1056.54\" r=\"14\" fill=\"#009af9\" fill-rule=\"evenodd\" fill-opacity=\"1\" stroke=\"#000000\" stroke-opacity=\"1\" stroke-width=\"3.2\"/>\n",
       "<circle clip-path=\"url(#clip202)\" cx=\"1579.43\" cy=\"874.588\" r=\"14\" fill=\"#009af9\" fill-rule=\"evenodd\" fill-opacity=\"1\" stroke=\"#000000\" stroke-opacity=\"1\" stroke-width=\"3.2\"/>\n",
       "<circle clip-path=\"url(#clip202)\" cx=\"1589.89\" cy=\"472.965\" r=\"14\" fill=\"#009af9\" fill-rule=\"evenodd\" fill-opacity=\"1\" stroke=\"#000000\" stroke-opacity=\"1\" stroke-width=\"3.2\"/>\n",
       "<circle clip-path=\"url(#clip202)\" cx=\"1600.34\" cy=\"612.109\" r=\"14\" fill=\"#009af9\" fill-rule=\"evenodd\" fill-opacity=\"1\" stroke=\"#000000\" stroke-opacity=\"1\" stroke-width=\"3.2\"/>\n",
       "<circle clip-path=\"url(#clip202)\" cx=\"1610.8\" cy=\"637.301\" r=\"14\" fill=\"#009af9\" fill-rule=\"evenodd\" fill-opacity=\"1\" stroke=\"#000000\" stroke-opacity=\"1\" stroke-width=\"3.2\"/>\n",
       "<circle clip-path=\"url(#clip202)\" cx=\"1621.25\" cy=\"864.857\" r=\"14\" fill=\"#009af9\" fill-rule=\"evenodd\" fill-opacity=\"1\" stroke=\"#000000\" stroke-opacity=\"1\" stroke-width=\"3.2\"/>\n",
       "<circle clip-path=\"url(#clip202)\" cx=\"1631.71\" cy=\"858.043\" r=\"14\" fill=\"#009af9\" fill-rule=\"evenodd\" fill-opacity=\"1\" stroke=\"#000000\" stroke-opacity=\"1\" stroke-width=\"3.2\"/>\n",
       "<circle clip-path=\"url(#clip202)\" cx=\"1642.16\" cy=\"631.475\" r=\"14\" fill=\"#009af9\" fill-rule=\"evenodd\" fill-opacity=\"1\" stroke=\"#000000\" stroke-opacity=\"1\" stroke-width=\"3.2\"/>\n",
       "<circle clip-path=\"url(#clip202)\" cx=\"1652.62\" cy=\"635.452\" r=\"14\" fill=\"#009af9\" fill-rule=\"evenodd\" fill-opacity=\"1\" stroke=\"#000000\" stroke-opacity=\"1\" stroke-width=\"3.2\"/>\n",
       "<circle clip-path=\"url(#clip202)\" cx=\"1663.07\" cy=\"602.727\" r=\"14\" fill=\"#009af9\" fill-rule=\"evenodd\" fill-opacity=\"1\" stroke=\"#000000\" stroke-opacity=\"1\" stroke-width=\"3.2\"/>\n",
       "<circle clip-path=\"url(#clip202)\" cx=\"1673.53\" cy=\"639.3\" r=\"14\" fill=\"#009af9\" fill-rule=\"evenodd\" fill-opacity=\"1\" stroke=\"#000000\" stroke-opacity=\"1\" stroke-width=\"3.2\"/>\n",
       "<circle clip-path=\"url(#clip202)\" cx=\"1683.98\" cy=\"978.459\" r=\"14\" fill=\"#009af9\" fill-rule=\"evenodd\" fill-opacity=\"1\" stroke=\"#000000\" stroke-opacity=\"1\" stroke-width=\"3.2\"/>\n",
       "<circle clip-path=\"url(#clip202)\" cx=\"1694.43\" cy=\"869.293\" r=\"14\" fill=\"#009af9\" fill-rule=\"evenodd\" fill-opacity=\"1\" stroke=\"#000000\" stroke-opacity=\"1\" stroke-width=\"3.2\"/>\n",
       "<circle clip-path=\"url(#clip202)\" cx=\"1704.89\" cy=\"1215.65\" r=\"14\" fill=\"#009af9\" fill-rule=\"evenodd\" fill-opacity=\"1\" stroke=\"#000000\" stroke-opacity=\"1\" stroke-width=\"3.2\"/>\n",
       "<circle clip-path=\"url(#clip202)\" cx=\"1715.34\" cy=\"804.414\" r=\"14\" fill=\"#009af9\" fill-rule=\"evenodd\" fill-opacity=\"1\" stroke=\"#000000\" stroke-opacity=\"1\" stroke-width=\"3.2\"/>\n",
       "<circle clip-path=\"url(#clip202)\" cx=\"1725.8\" cy=\"871.21\" r=\"14\" fill=\"#009af9\" fill-rule=\"evenodd\" fill-opacity=\"1\" stroke=\"#000000\" stroke-opacity=\"1\" stroke-width=\"3.2\"/>\n",
       "<circle clip-path=\"url(#clip202)\" cx=\"1736.25\" cy=\"1152.27\" r=\"14\" fill=\"#009af9\" fill-rule=\"evenodd\" fill-opacity=\"1\" stroke=\"#000000\" stroke-opacity=\"1\" stroke-width=\"3.2\"/>\n",
       "<circle clip-path=\"url(#clip202)\" cx=\"1746.71\" cy=\"610.753\" r=\"14\" fill=\"#009af9\" fill-rule=\"evenodd\" fill-opacity=\"1\" stroke=\"#000000\" stroke-opacity=\"1\" stroke-width=\"3.2\"/>\n",
       "<circle clip-path=\"url(#clip202)\" cx=\"1757.16\" cy=\"519.059\" r=\"14\" fill=\"#009af9\" fill-rule=\"evenodd\" fill-opacity=\"1\" stroke=\"#000000\" stroke-opacity=\"1\" stroke-width=\"3.2\"/>\n",
       "<circle clip-path=\"url(#clip202)\" cx=\"1767.62\" cy=\"1055.49\" r=\"14\" fill=\"#009af9\" fill-rule=\"evenodd\" fill-opacity=\"1\" stroke=\"#000000\" stroke-opacity=\"1\" stroke-width=\"3.2\"/>\n",
       "<circle clip-path=\"url(#clip202)\" cx=\"1778.07\" cy=\"973.83\" r=\"14\" fill=\"#009af9\" fill-rule=\"evenodd\" fill-opacity=\"1\" stroke=\"#000000\" stroke-opacity=\"1\" stroke-width=\"3.2\"/>\n",
       "<circle clip-path=\"url(#clip202)\" cx=\"1788.53\" cy=\"871.754\" r=\"14\" fill=\"#009af9\" fill-rule=\"evenodd\" fill-opacity=\"1\" stroke=\"#000000\" stroke-opacity=\"1\" stroke-width=\"3.2\"/>\n",
       "<circle clip-path=\"url(#clip202)\" cx=\"1798.98\" cy=\"1187.05\" r=\"14\" fill=\"#009af9\" fill-rule=\"evenodd\" fill-opacity=\"1\" stroke=\"#000000\" stroke-opacity=\"1\" stroke-width=\"3.2\"/>\n",
       "<circle clip-path=\"url(#clip202)\" cx=\"1809.43\" cy=\"969.599\" r=\"14\" fill=\"#009af9\" fill-rule=\"evenodd\" fill-opacity=\"1\" stroke=\"#000000\" stroke-opacity=\"1\" stroke-width=\"3.2\"/>\n",
       "<circle clip-path=\"url(#clip202)\" cx=\"1819.89\" cy=\"1098.96\" r=\"14\" fill=\"#009af9\" fill-rule=\"evenodd\" fill-opacity=\"1\" stroke=\"#000000\" stroke-opacity=\"1\" stroke-width=\"3.2\"/>\n",
       "<circle clip-path=\"url(#clip202)\" cx=\"1830.34\" cy=\"597.733\" r=\"14\" fill=\"#009af9\" fill-rule=\"evenodd\" fill-opacity=\"1\" stroke=\"#000000\" stroke-opacity=\"1\" stroke-width=\"3.2\"/>\n",
       "<circle clip-path=\"url(#clip202)\" cx=\"1840.8\" cy=\"836.367\" r=\"14\" fill=\"#009af9\" fill-rule=\"evenodd\" fill-opacity=\"1\" stroke=\"#000000\" stroke-opacity=\"1\" stroke-width=\"3.2\"/>\n",
       "<circle clip-path=\"url(#clip202)\" cx=\"1851.25\" cy=\"696.302\" r=\"14\" fill=\"#009af9\" fill-rule=\"evenodd\" fill-opacity=\"1\" stroke=\"#000000\" stroke-opacity=\"1\" stroke-width=\"3.2\"/>\n",
       "<circle clip-path=\"url(#clip202)\" cx=\"1861.71\" cy=\"1245.57\" r=\"14\" fill=\"#009af9\" fill-rule=\"evenodd\" fill-opacity=\"1\" stroke=\"#000000\" stroke-opacity=\"1\" stroke-width=\"3.2\"/>\n",
       "<circle clip-path=\"url(#clip202)\" cx=\"1872.16\" cy=\"639.084\" r=\"14\" fill=\"#009af9\" fill-rule=\"evenodd\" fill-opacity=\"1\" stroke=\"#000000\" stroke-opacity=\"1\" stroke-width=\"3.2\"/>\n",
       "<circle clip-path=\"url(#clip202)\" cx=\"1882.62\" cy=\"812.003\" r=\"14\" fill=\"#009af9\" fill-rule=\"evenodd\" fill-opacity=\"1\" stroke=\"#000000\" stroke-opacity=\"1\" stroke-width=\"3.2\"/>\n",
       "<circle clip-path=\"url(#clip202)\" cx=\"1893.07\" cy=\"671.082\" r=\"14\" fill=\"#009af9\" fill-rule=\"evenodd\" fill-opacity=\"1\" stroke=\"#000000\" stroke-opacity=\"1\" stroke-width=\"3.2\"/>\n",
       "<circle clip-path=\"url(#clip202)\" cx=\"1903.52\" cy=\"982.061\" r=\"14\" fill=\"#009af9\" fill-rule=\"evenodd\" fill-opacity=\"1\" stroke=\"#000000\" stroke-opacity=\"1\" stroke-width=\"3.2\"/>\n",
       "<circle clip-path=\"url(#clip202)\" cx=\"1913.98\" cy=\"870.869\" r=\"14\" fill=\"#009af9\" fill-rule=\"evenodd\" fill-opacity=\"1\" stroke=\"#000000\" stroke-opacity=\"1\" stroke-width=\"3.2\"/>\n",
       "<circle clip-path=\"url(#clip202)\" cx=\"1924.43\" cy=\"721.731\" r=\"14\" fill=\"#009af9\" fill-rule=\"evenodd\" fill-opacity=\"1\" stroke=\"#000000\" stroke-opacity=\"1\" stroke-width=\"3.2\"/>\n",
       "<circle clip-path=\"url(#clip202)\" cx=\"1934.89\" cy=\"635.899\" r=\"14\" fill=\"#009af9\" fill-rule=\"evenodd\" fill-opacity=\"1\" stroke=\"#000000\" stroke-opacity=\"1\" stroke-width=\"3.2\"/>\n",
       "<circle clip-path=\"url(#clip202)\" cx=\"1945.34\" cy=\"873.727\" r=\"14\" fill=\"#009af9\" fill-rule=\"evenodd\" fill-opacity=\"1\" stroke=\"#000000\" stroke-opacity=\"1\" stroke-width=\"3.2\"/>\n",
       "<circle clip-path=\"url(#clip202)\" cx=\"1955.8\" cy=\"863.313\" r=\"14\" fill=\"#009af9\" fill-rule=\"evenodd\" fill-opacity=\"1\" stroke=\"#000000\" stroke-opacity=\"1\" stroke-width=\"3.2\"/>\n",
       "<circle clip-path=\"url(#clip202)\" cx=\"1966.25\" cy=\"822.245\" r=\"14\" fill=\"#009af9\" fill-rule=\"evenodd\" fill-opacity=\"1\" stroke=\"#000000\" stroke-opacity=\"1\" stroke-width=\"3.2\"/>\n",
       "<circle clip-path=\"url(#clip202)\" cx=\"1976.71\" cy=\"768.057\" r=\"14\" fill=\"#009af9\" fill-rule=\"evenodd\" fill-opacity=\"1\" stroke=\"#000000\" stroke-opacity=\"1\" stroke-width=\"3.2\"/>\n",
       "<circle clip-path=\"url(#clip202)\" cx=\"1987.16\" cy=\"1331.37\" r=\"14\" fill=\"#009af9\" fill-rule=\"evenodd\" fill-opacity=\"1\" stroke=\"#000000\" stroke-opacity=\"1\" stroke-width=\"3.2\"/>\n",
       "<circle clip-path=\"url(#clip202)\" cx=\"1997.62\" cy=\"745.985\" r=\"14\" fill=\"#009af9\" fill-rule=\"evenodd\" fill-opacity=\"1\" stroke=\"#000000\" stroke-opacity=\"1\" stroke-width=\"3.2\"/>\n",
       "<circle clip-path=\"url(#clip202)\" cx=\"2008.07\" cy=\"1091.23\" r=\"14\" fill=\"#009af9\" fill-rule=\"evenodd\" fill-opacity=\"1\" stroke=\"#000000\" stroke-opacity=\"1\" stroke-width=\"3.2\"/>\n",
       "<circle clip-path=\"url(#clip202)\" cx=\"2018.52\" cy=\"570.143\" r=\"14\" fill=\"#009af9\" fill-rule=\"evenodd\" fill-opacity=\"1\" stroke=\"#000000\" stroke-opacity=\"1\" stroke-width=\"3.2\"/>\n",
       "<circle clip-path=\"url(#clip202)\" cx=\"2028.98\" cy=\"743.062\" r=\"14\" fill=\"#009af9\" fill-rule=\"evenodd\" fill-opacity=\"1\" stroke=\"#000000\" stroke-opacity=\"1\" stroke-width=\"3.2\"/>\n",
       "<circle clip-path=\"url(#clip202)\" cx=\"2039.43\" cy=\"839.308\" r=\"14\" fill=\"#009af9\" fill-rule=\"evenodd\" fill-opacity=\"1\" stroke=\"#000000\" stroke-opacity=\"1\" stroke-width=\"3.2\"/>\n",
       "<circle clip-path=\"url(#clip202)\" cx=\"2049.89\" cy=\"886.332\" r=\"14\" fill=\"#009af9\" fill-rule=\"evenodd\" fill-opacity=\"1\" stroke=\"#000000\" stroke-opacity=\"1\" stroke-width=\"3.2\"/>\n",
       "<circle clip-path=\"url(#clip202)\" cx=\"2060.34\" cy=\"1022.58\" r=\"14\" fill=\"#009af9\" fill-rule=\"evenodd\" fill-opacity=\"1\" stroke=\"#000000\" stroke-opacity=\"1\" stroke-width=\"3.2\"/>\n",
       "<circle clip-path=\"url(#clip202)\" cx=\"2070.8\" cy=\"1234.5\" r=\"14\" fill=\"#009af9\" fill-rule=\"evenodd\" fill-opacity=\"1\" stroke=\"#000000\" stroke-opacity=\"1\" stroke-width=\"3.2\"/>\n",
       "<circle clip-path=\"url(#clip202)\" cx=\"2081.25\" cy=\"589.022\" r=\"14\" fill=\"#009af9\" fill-rule=\"evenodd\" fill-opacity=\"1\" stroke=\"#000000\" stroke-opacity=\"1\" stroke-width=\"3.2\"/>\n",
       "<circle clip-path=\"url(#clip202)\" cx=\"2091.71\" cy=\"817.096\" r=\"14\" fill=\"#009af9\" fill-rule=\"evenodd\" fill-opacity=\"1\" stroke=\"#000000\" stroke-opacity=\"1\" stroke-width=\"3.2\"/>\n",
       "<circle clip-path=\"url(#clip202)\" cx=\"2102.16\" cy=\"1042.63\" r=\"14\" fill=\"#009af9\" fill-rule=\"evenodd\" fill-opacity=\"1\" stroke=\"#000000\" stroke-opacity=\"1\" stroke-width=\"3.2\"/>\n",
       "<circle clip-path=\"url(#clip202)\" cx=\"2112.62\" cy=\"942.051\" r=\"14\" fill=\"#009af9\" fill-rule=\"evenodd\" fill-opacity=\"1\" stroke=\"#000000\" stroke-opacity=\"1\" stroke-width=\"3.2\"/>\n",
       "<circle clip-path=\"url(#clip202)\" cx=\"2123.07\" cy=\"1203.85\" r=\"14\" fill=\"#009af9\" fill-rule=\"evenodd\" fill-opacity=\"1\" stroke=\"#000000\" stroke-opacity=\"1\" stroke-width=\"3.2\"/>\n",
       "<circle clip-path=\"url(#clip202)\" cx=\"2133.52\" cy=\"1266.91\" r=\"14\" fill=\"#009af9\" fill-rule=\"evenodd\" fill-opacity=\"1\" stroke=\"#000000\" stroke-opacity=\"1\" stroke-width=\"3.2\"/>\n",
       "<circle clip-path=\"url(#clip202)\" cx=\"2143.98\" cy=\"1259.57\" r=\"14\" fill=\"#009af9\" fill-rule=\"evenodd\" fill-opacity=\"1\" stroke=\"#000000\" stroke-opacity=\"1\" stroke-width=\"3.2\"/>\n",
       "<circle clip-path=\"url(#clip202)\" cx=\"2154.43\" cy=\"918.345\" r=\"14\" fill=\"#009af9\" fill-rule=\"evenodd\" fill-opacity=\"1\" stroke=\"#000000\" stroke-opacity=\"1\" stroke-width=\"3.2\"/>\n",
       "<circle clip-path=\"url(#clip202)\" cx=\"2164.89\" cy=\"1105.92\" r=\"14\" fill=\"#009af9\" fill-rule=\"evenodd\" fill-opacity=\"1\" stroke=\"#000000\" stroke-opacity=\"1\" stroke-width=\"3.2\"/>\n",
       "<circle clip-path=\"url(#clip202)\" cx=\"2175.34\" cy=\"999.373\" r=\"14\" fill=\"#009af9\" fill-rule=\"evenodd\" fill-opacity=\"1\" stroke=\"#000000\" stroke-opacity=\"1\" stroke-width=\"3.2\"/>\n",
       "<circle clip-path=\"url(#clip202)\" cx=\"2185.8\" cy=\"1105.74\" r=\"14\" fill=\"#009af9\" fill-rule=\"evenodd\" fill-opacity=\"1\" stroke=\"#000000\" stroke-opacity=\"1\" stroke-width=\"3.2\"/>\n",
       "<circle clip-path=\"url(#clip202)\" cx=\"2196.25\" cy=\"891.212\" r=\"14\" fill=\"#009af9\" fill-rule=\"evenodd\" fill-opacity=\"1\" stroke=\"#000000\" stroke-opacity=\"1\" stroke-width=\"3.2\"/>\n",
       "<circle clip-path=\"url(#clip202)\" cx=\"2206.71\" cy=\"1003.23\" r=\"14\" fill=\"#009af9\" fill-rule=\"evenodd\" fill-opacity=\"1\" stroke=\"#000000\" stroke-opacity=\"1\" stroke-width=\"3.2\"/>\n",
       "<circle clip-path=\"url(#clip202)\" cx=\"2217.16\" cy=\"1089.09\" r=\"14\" fill=\"#009af9\" fill-rule=\"evenodd\" fill-opacity=\"1\" stroke=\"#000000\" stroke-opacity=\"1\" stroke-width=\"3.2\"/>\n",
       "<circle clip-path=\"url(#clip202)\" cx=\"2227.62\" cy=\"655.321\" r=\"14\" fill=\"#009af9\" fill-rule=\"evenodd\" fill-opacity=\"1\" stroke=\"#000000\" stroke-opacity=\"1\" stroke-width=\"3.2\"/>\n",
       "<circle clip-path=\"url(#clip202)\" cx=\"2238.07\" cy=\"656.312\" r=\"14\" fill=\"#009af9\" fill-rule=\"evenodd\" fill-opacity=\"1\" stroke=\"#000000\" stroke-opacity=\"1\" stroke-width=\"3.2\"/>\n",
       "<circle clip-path=\"url(#clip202)\" cx=\"2248.52\" cy=\"820.722\" r=\"14\" fill=\"#009af9\" fill-rule=\"evenodd\" fill-opacity=\"1\" stroke=\"#000000\" stroke-opacity=\"1\" stroke-width=\"3.2\"/>\n",
       "<circle clip-path=\"url(#clip202)\" cx=\"2258.98\" cy=\"1091.34\" r=\"14\" fill=\"#009af9\" fill-rule=\"evenodd\" fill-opacity=\"1\" stroke=\"#000000\" stroke-opacity=\"1\" stroke-width=\"3.2\"/>\n",
       "<circle clip-path=\"url(#clip202)\" cx=\"2269.43\" cy=\"557.062\" r=\"14\" fill=\"#009af9\" fill-rule=\"evenodd\" fill-opacity=\"1\" stroke=\"#000000\" stroke-opacity=\"1\" stroke-width=\"3.2\"/>\n",
       "<circle clip-path=\"url(#clip202)\" cx=\"2279.89\" cy=\"935.934\" r=\"14\" fill=\"#009af9\" fill-rule=\"evenodd\" fill-opacity=\"1\" stroke=\"#000000\" stroke-opacity=\"1\" stroke-width=\"3.2\"/>\n",
       "<circle clip-path=\"url(#clip202)\" cx=\"2290.34\" cy=\"996.079\" r=\"14\" fill=\"#009af9\" fill-rule=\"evenodd\" fill-opacity=\"1\" stroke=\"#000000\" stroke-opacity=\"1\" stroke-width=\"3.2\"/>\n",
       "<polyline clip-path=\"url(#clip202)\" style=\"stroke:#000000; stroke-linecap:butt; stroke-linejoin:round; stroke-width:16; stroke-opacity:1; fill:none\" points=\"\n",
       "  209.891,960.639 220.05,959.972 230.209,959.288 324.14,952.016 418.072,942.59 474.52,935.543 530.969,927.156 578.696,918.779 626.423,908.967 678.268,896.329 \n",
       "  730.112,881.171 777.909,864.484 825.705,844.683 851.326,832.606 876.947,819.41 902.569,805.032 928.19,789.432 987.559,748.632 1046.93,702.562 1099.69,660.474 \n",
       "  1152.45,622.984 1175.58,609.863 1198.72,599.67 1221.85,592.94 1244.98,590.051 1270.2,591.466 1295.43,597.543 1320.65,607.873 1345.87,621.802 1396.61,657.437 \n",
       "  1447.35,697.781 1503.46,741.761 1559.56,781.382 1586.25,798.233 1612.94,813.748 1639.63,827.959 1666.32,840.93 1721.82,864.292 1777.32,883.448 1824.05,896.881 \n",
       "  1870.77,908.286 1927.81,919.956 1984.85,929.623 2038.47,937.243 2092.09,943.711 2178,952.182 2263.9,958.867 2277.12,959.768 2290.34,960.639 \n",
       "  \"/>\n",
       "<polyline clip-path=\"url(#clip202)\" style=\"stroke:#3da44d; stroke-linecap:butt; stroke-linejoin:round; stroke-width:16; stroke-opacity:1; fill:none\" points=\"\n",
       "  209.891,1049.38 220.346,1032.1 230.8,1016.91 241.255,1003.68 251.71,992.254 262.164,982.494 272.619,974.267 283.073,967.447 293.528,961.912 303.982,957.545 \n",
       "  314.437,954.237 324.891,951.88 335.346,950.376 345.8,949.626 356.255,949.542 366.709,950.037 377.164,951.029 387.618,952.44 398.073,954.199 408.527,956.236 \n",
       "  418.982,958.487 429.437,960.891 439.891,963.391 450.346,965.935 460.8,968.473 471.255,970.959 481.709,973.35 492.164,975.608 502.618,977.696 513.073,979.581 \n",
       "  523.527,981.234 533.982,982.628 544.436,983.737 554.891,984.541 565.345,985.021 575.8,985.16 586.254,984.943 596.709,984.36 607.163,983.4 617.618,982.056 \n",
       "  628.073,980.322 638.527,978.195 648.982,975.672 659.436,972.755 669.891,969.445 680.345,965.744 690.8,961.659 701.254,957.194 711.709,952.358 722.163,947.159 \n",
       "  732.618,941.608 743.072,935.716 753.527,929.494 763.981,922.956 774.436,916.117 784.89,908.99 795.345,901.593 805.799,893.94 816.254,886.05 826.709,877.94 \n",
       "  837.163,869.628 847.618,861.132 858.072,852.473 868.527,843.668 878.981,834.737 889.436,825.701 899.89,816.58 910.345,807.392 920.799,798.16 931.254,788.902 \n",
       "  941.708,779.639 952.163,770.392 962.617,761.179 973.072,752.021 983.526,742.938 993.981,733.948 1004.44,725.071 1014.89,716.326 1025.34,707.73 1035.8,699.302 \n",
       "  1046.25,691.059 1056.71,683.018 1067.16,675.196 1077.62,667.608 1088.07,660.271 1098.53,653.198 1108.98,646.405 1119.44,639.904 1129.89,633.708 1140.34,627.83 \n",
       "  1150.8,622.282 1161.25,617.073 1171.71,612.214 1182.16,607.715 1192.62,603.583 1203.07,599.827 1213.53,596.453 1223.98,593.468 1234.44,590.876 1244.89,588.682 \n",
       "  1255.34,586.89 1265.8,585.503 1276.25,584.521 1286.71,583.948 1297.16,583.781 1307.62,584.022 1318.07,584.668 1328.53,585.718 1338.98,587.167 1349.43,589.012 \n",
       "  1359.89,591.248 1370.34,593.87 1380.8,596.871 1391.25,600.243 1401.71,603.979 1412.16,608.069 1422.62,612.505 1433.07,617.276 1443.53,622.37 1453.98,627.777 \n",
       "  1464.43,633.483 1474.89,639.475 1485.34,645.741 1495.8,652.265 1506.25,659.032 1516.71,666.028 1527.16,673.235 1537.62,680.639 1548.07,688.221 1558.53,695.964 \n",
       "  1568.98,703.851 1579.43,711.863 1589.89,719.982 1600.34,728.189 1610.8,736.465 1621.25,744.792 1631.71,753.149 1642.16,761.517 1652.62,769.877 1663.07,778.209 \n",
       "  1673.53,786.495 1683.98,794.713 1694.43,802.845 1704.89,810.873 1715.34,818.776 1725.8,826.537 1736.25,834.138 1746.71,841.56 1757.16,848.786 1767.62,855.799 \n",
       "  1778.07,862.584 1788.53,869.124 1798.98,875.406 1809.43,881.414 1819.89,887.136 1830.34,892.559 1840.8,897.673 1851.25,902.466 1861.71,906.931 1872.16,911.059 \n",
       "  1882.62,914.843 1893.07,918.28 1903.52,921.364 1913.98,924.094 1924.43,926.469 1934.89,928.49 1945.34,930.162 1955.8,931.487 1966.25,932.473 1976.71,933.13 \n",
       "  1987.16,933.467 1997.62,933.498 2008.07,933.239 2018.52,932.707 2028.98,931.924 2039.43,930.912 2049.89,929.696 2060.34,928.306 2070.8,926.773 2081.25,925.132 \n",
       "  2091.71,923.42 2102.16,921.678 2112.62,919.95 2123.07,918.284 2133.52,916.731 2143.98,915.345 2154.43,914.187 2164.89,913.317 2175.34,912.803 2185.8,912.715 \n",
       "  2196.25,913.128 2206.71,914.121 2217.16,915.778 2227.62,918.187 2238.07,921.441 2248.52,925.638 2258.98,930.881 2269.43,937.278 2279.89,944.942 2290.34,953.991 \n",
       "  \n",
       "  \"/>\n",
       "<polyline clip-path=\"url(#clip202)\" style=\"stroke:#c271d2; stroke-linecap:butt; stroke-linejoin:round; stroke-width:16; stroke-opacity:1; fill:none\" points=\"\n",
       "  209.891,960.305 230.209,959.007 418.072,943.236 474.52,936.71 530.969,929.031 578.696,921.451 626.423,912.672 678.268,901.512 730.112,888.32 777.909,874.007 \n",
       "  825.705,857.264 876.947,836.196 928.19,811.515 987.559,778.17 1046.93,740.265 1099.69,704.46 1152.45,669.88 1175.58,656.271 1198.72,644.257 1221.85,634.298 \n",
       "  1244.98,626.816 1270.2,621.879 1295.43,620.57 1320.65,622.964 1345.87,628.924 1371.24,638.178 1396.61,650.208 1421.98,664.428 1447.35,680.223 1503.46,717.902 \n",
       "  1559.56,755.436 1612.94,788.27 1666.32,817.172 1721.82,842.866 1777.32,864.447 1824.05,879.823 1870.77,893.011 1927.81,906.615 1984.85,917.951 2038.47,926.921 \n",
       "  2092.09,934.553 2178,944.561 2263.9,952.462 2277.12,953.526 2290.34,954.556 \n",
       "  \"/>\n",
       "<path clip-path=\"url(#clip200)\" d=\"\n",
       "M1550.99 484.018 L2279.25 484.018 L2279.25 95.2176 L1550.99 95.2176  Z\n",
       "  \" fill=\"#ffffff\" fill-rule=\"evenodd\" fill-opacity=\"1\"/>\n",
       "<polyline clip-path=\"url(#clip200)\" style=\"stroke:#000000; stroke-linecap:butt; stroke-linejoin:round; stroke-width:4; stroke-opacity:1; fill:none\" points=\"\n",
       "  1550.99,484.018 2279.25,484.018 2279.25,95.2176 1550.99,95.2176 1550.99,484.018 \n",
       "  \"/>\n",
       "<circle clip-path=\"url(#clip200)\" cx=\"1649\" cy=\"172.978\" r=\"34\" fill=\"#009af9\" fill-rule=\"evenodd\" fill-opacity=\"1\" stroke=\"#000000\" stroke-opacity=\"1\" stroke-width=\"7.68\"/>\n",
       "<path clip-path=\"url(#clip200)\" d=\"M1767.78 202.509 Q1765.07 209.453 1762.5 211.571 Q1759.93 213.689 1755.62 213.689 L1750.52 213.689 L1750.52 208.342 L1754.27 208.342 Q1756.91 208.342 1758.37 207.092 Q1759.83 205.842 1761.6 201.189 L1762.74 198.273 L1747.01 160.009 L1753.78 160.009 L1765.94 190.425 L1778.09 160.009 L1784.86 160.009 L1767.78 202.509 Z\" fill=\"#000000\" fill-rule=\"evenodd\" fill-opacity=\"1\" /><path clip-path=\"url(#clip200)\" d=\"M1795.8 192.995 L1807.26 192.995 L1807.26 153.446 L1794.79 155.946 L1794.79 149.558 L1807.19 147.058 L1814.2 147.058 L1814.2 192.995 L1825.66 192.995 L1825.66 198.898 L1795.8 198.898 L1795.8 192.995 Z\" fill=\"#000000\" fill-rule=\"evenodd\" fill-opacity=\"1\" /><polyline clip-path=\"url(#clip200)\" style=\"stroke:#000000; stroke-linecap:butt; stroke-linejoin:round; stroke-width:6; stroke-opacity:1; fill:none\" points=\"\n",
       "  1575.49,250.738 1722.51,250.738 \n",
       "  \"/>\n",
       "<path clip-path=\"url(#clip200)\" d=\"M1771.6 252.352 Q1773.85 253.116 1775.97 255.616 Q1778.12 258.116 1780.28 262.491 L1787.4 276.658 L1779.86 276.658 L1773.23 263.359 Q1770.66 258.151 1768.23 256.449 Q1765.83 254.748 1761.67 254.748 L1754.03 254.748 L1754.03 276.658 L1747.01 276.658 L1747.01 224.818 L1762.85 224.818 Q1771.74 224.818 1776.11 228.533 Q1780.49 232.248 1780.49 239.748 Q1780.49 244.644 1778.19 247.873 Q1775.94 251.102 1771.6 252.352 M1754.03 230.581 L1754.03 248.984 L1762.85 248.984 Q1767.92 248.984 1770.49 246.658 Q1773.09 244.297 1773.09 239.748 Q1773.09 235.199 1770.49 232.908 Q1767.92 230.581 1762.85 230.581 L1754.03 230.581 Z\" fill=\"#000000\" fill-rule=\"evenodd\" fill-opacity=\"1\" /><path clip-path=\"url(#clip200)\" d=\"M1792.29 261.31 L1792.29 237.769 L1798.68 237.769 L1798.68 261.067 Q1798.68 266.588 1800.83 269.366 Q1802.99 272.109 1807.29 272.109 Q1812.46 272.109 1815.45 268.81 Q1818.47 265.512 1818.47 259.817 L1818.47 237.769 L1824.86 237.769 L1824.86 276.658 L1818.47 276.658 L1818.47 270.685 Q1816.15 274.227 1813.06 275.963 Q1810 277.664 1805.94 277.664 Q1799.24 277.664 1795.76 273.498 Q1792.29 269.331 1792.29 261.31 M1808.37 236.831 L1808.37 236.831 Z\" fill=\"#000000\" fill-rule=\"evenodd\" fill-opacity=\"1\" /><path clip-path=\"url(#clip200)\" d=\"M1870.35 253.185 L1870.35 276.658 L1863.96 276.658 L1863.96 253.394 Q1863.96 247.873 1861.8 245.13 Q1859.65 242.387 1855.35 242.387 Q1850.17 242.387 1847.19 245.685 Q1844.2 248.984 1844.2 254.679 L1844.2 276.658 L1837.78 276.658 L1837.78 237.769 L1844.2 237.769 L1844.2 243.811 Q1846.49 240.304 1849.58 238.567 Q1852.71 236.831 1856.77 236.831 Q1863.47 236.831 1866.91 240.998 Q1870.35 245.13 1870.35 253.185 Z\" fill=\"#000000\" fill-rule=\"evenodd\" fill-opacity=\"1\" /><path clip-path=\"url(#clip200)\" d=\"M1908.68 256.762 Q1908.68 249.817 1905.8 245.998 Q1902.95 242.179 1897.78 242.179 Q1892.64 242.179 1889.76 245.998 Q1886.91 249.817 1886.91 256.762 Q1886.91 263.672 1889.76 267.491 Q1892.64 271.31 1897.78 271.31 Q1902.95 271.31 1905.8 267.491 Q1908.68 263.672 1908.68 256.762 M1915.07 271.831 Q1915.07 281.762 1910.66 286.588 Q1906.25 291.449 1897.15 291.449 Q1893.78 291.449 1890.8 290.928 Q1887.81 290.442 1885 289.401 L1885 283.185 Q1887.81 284.713 1890.55 285.442 Q1893.3 286.171 1896.15 286.171 Q1902.43 286.171 1905.55 282.873 Q1908.68 279.609 1908.68 272.977 L1908.68 269.817 Q1906.7 273.255 1903.61 274.956 Q1900.52 276.658 1896.21 276.658 Q1889.06 276.658 1884.69 271.206 Q1880.31 265.755 1880.31 256.762 Q1880.31 247.734 1884.69 242.283 Q1889.06 236.831 1896.21 236.831 Q1900.52 236.831 1903.61 238.533 Q1906.7 240.234 1908.68 243.672 L1908.68 237.769 L1915.07 237.769 L1915.07 271.831 Z\" fill=\"#000000\" fill-rule=\"evenodd\" fill-opacity=\"1\" /><path clip-path=\"url(#clip200)\" d=\"M1961.49 255.616 L1961.49 258.741 L1932.12 258.741 Q1932.53 265.338 1936.08 268.81 Q1939.65 272.248 1946.01 272.248 Q1949.69 272.248 1953.12 271.345 Q1956.6 270.442 1960 268.637 L1960 274.678 Q1956.56 276.137 1952.95 276.901 Q1949.34 277.664 1945.62 277.664 Q1936.32 277.664 1930.87 272.248 Q1925.45 266.831 1925.45 257.595 Q1925.45 248.047 1930.59 242.456 Q1935.76 236.831 1944.51 236.831 Q1952.36 236.831 1956.91 241.901 Q1961.49 246.935 1961.49 255.616 M1955.1 253.741 Q1955.03 248.498 1952.15 245.373 Q1949.3 242.248 1944.58 242.248 Q1939.24 242.248 1936.01 245.269 Q1932.81 248.29 1932.33 253.776 L1955.1 253.741 Z\" fill=\"#000000\" fill-rule=\"evenodd\" fill-opacity=\"1\" /><polyline clip-path=\"url(#clip200)\" style=\"stroke:#3da44d; stroke-linecap:butt; stroke-linejoin:round; stroke-width:6; stroke-opacity:1; fill:none\" points=\"\n",
       "  1575.49,328.498 1722.51,328.498 \n",
       "  \"/>\n",
       "<path clip-path=\"url(#clip200)\" d=\"M1788.82 306.571 L1788.82 313.966 Q1785.28 310.668 1781.25 309.036 Q1777.26 307.404 1772.74 307.404 Q1763.85 307.404 1759.13 312.855 Q1754.41 318.272 1754.41 328.55 Q1754.41 338.793 1759.13 344.244 Q1763.85 349.661 1772.74 349.661 Q1777.26 349.661 1781.25 348.029 Q1785.28 346.397 1788.82 343.098 L1788.82 350.425 Q1785.14 352.925 1781.01 354.174 Q1776.91 355.424 1772.33 355.424 Q1760.56 355.424 1753.78 348.237 Q1747.01 341.015 1747.01 328.55 Q1747.01 316.05 1753.78 308.862 Q1760.56 301.64 1772.33 301.64 Q1776.98 301.64 1781.08 302.89 Q1785.21 304.105 1788.82 306.571 Z\" fill=\"#000000\" fill-rule=\"evenodd\" fill-opacity=\"1\" /><path clip-path=\"url(#clip200)\" d=\"M1831.7 330.945 L1831.7 354.418 L1825.31 354.418 L1825.31 331.154 Q1825.31 325.633 1823.16 322.89 Q1821.01 320.147 1816.7 320.147 Q1811.53 320.147 1808.54 323.445 Q1805.56 326.744 1805.56 332.439 L1805.56 354.418 L1799.13 354.418 L1799.13 300.39 L1805.56 300.39 L1805.56 321.571 Q1807.85 318.064 1810.94 316.327 Q1814.06 314.591 1818.12 314.591 Q1824.83 314.591 1828.26 318.758 Q1831.7 322.89 1831.7 330.945 Z\" fill=\"#000000\" fill-rule=\"evenodd\" fill-opacity=\"1\" /><path clip-path=\"url(#clip200)\" d=\"M1877.71 333.376 L1877.71 336.501 L1848.33 336.501 Q1848.75 343.098 1852.29 346.57 Q1855.87 350.008 1862.22 350.008 Q1865.9 350.008 1869.34 349.105 Q1872.81 348.202 1876.21 346.397 L1876.21 352.438 Q1872.78 353.897 1869.17 354.661 Q1865.55 355.424 1861.84 355.424 Q1852.53 355.424 1847.08 350.008 Q1841.67 344.591 1841.67 335.355 Q1841.67 325.807 1846.81 320.216 Q1851.98 314.591 1860.73 314.591 Q1868.58 314.591 1873.12 319.661 Q1877.71 324.695 1877.71 333.376 M1871.32 331.501 Q1871.25 326.258 1868.37 323.133 Q1865.52 320.008 1860.8 320.008 Q1855.45 320.008 1852.22 323.029 Q1849.03 326.05 1848.54 331.536 L1871.32 331.501 Z\" fill=\"#000000\" fill-rule=\"evenodd\" fill-opacity=\"1\" /><path clip-path=\"url(#clip200)\" d=\"M1916.11 335.008 Q1916.11 327.959 1913.19 323.966 Q1910.31 319.939 1905.24 319.939 Q1900.17 319.939 1897.26 323.966 Q1894.37 327.959 1894.37 335.008 Q1894.37 342.057 1897.26 346.084 Q1900.17 350.077 1905.24 350.077 Q1910.31 350.077 1913.19 346.084 Q1916.11 342.057 1916.11 335.008 M1894.37 321.432 Q1896.39 317.959 1899.44 316.293 Q1902.53 314.591 1906.8 314.591 Q1913.89 314.591 1918.3 320.216 Q1922.74 325.841 1922.74 335.008 Q1922.74 344.175 1918.3 349.8 Q1913.89 355.424 1906.8 355.424 Q1902.53 355.424 1899.44 353.758 Q1896.39 352.056 1894.37 348.584 L1894.37 354.418 L1887.95 354.418 L1887.95 300.39 L1894.37 300.39 L1894.37 321.432 Z\" fill=\"#000000\" fill-rule=\"evenodd\" fill-opacity=\"1\" /><path clip-path=\"url(#clip200)\" d=\"M1949.51 358.029 Q1946.8 364.973 1944.24 367.091 Q1941.67 369.209 1937.36 369.209 L1932.26 369.209 L1932.26 363.862 L1936.01 363.862 Q1938.64 363.862 1940.1 362.612 Q1941.56 361.362 1943.33 356.709 L1944.48 353.793 L1928.75 315.529 L1935.52 315.529 L1947.67 345.945 L1959.83 315.529 L1966.6 315.529 L1949.51 358.029 Z\" fill=\"#000000\" fill-rule=\"evenodd\" fill-opacity=\"1\" /><path clip-path=\"url(#clip200)\" d=\"M2000.21 316.675 L2000.21 322.716 Q1997.5 321.327 1994.58 320.633 Q1991.67 319.939 1988.54 319.939 Q1983.78 319.939 1981.39 321.397 Q1979.03 322.855 1979.03 325.772 Q1979.03 327.994 1980.73 329.279 Q1982.43 330.529 1987.57 331.675 L1989.76 332.161 Q1996.56 333.619 1999.41 336.293 Q2002.29 338.932 2002.29 343.688 Q2002.29 349.105 1997.98 352.265 Q1993.71 355.424 1986.21 355.424 Q1983.09 355.424 1979.69 354.799 Q1976.32 354.209 1972.57 352.994 L1972.57 346.397 Q1976.11 348.237 1979.55 349.175 Q1982.98 350.077 1986.35 350.077 Q1990.87 350.077 1993.3 348.55 Q1995.73 346.987 1995.73 344.175 Q1995.73 341.57 1993.96 340.182 Q1992.22 338.793 1986.28 337.508 L1984.06 336.987 Q1978.12 335.737 1975.48 333.168 Q1972.85 330.564 1972.85 326.05 Q1972.85 320.564 1976.73 317.577 Q1980.62 314.591 1987.78 314.591 Q1991.32 314.591 1994.44 315.112 Q1997.57 315.633 2000.21 316.675 Z\" fill=\"#000000\" fill-rule=\"evenodd\" fill-opacity=\"1\" /><path clip-path=\"url(#clip200)\" d=\"M2044.79 330.945 L2044.79 354.418 L2038.4 354.418 L2038.4 331.154 Q2038.4 325.633 2036.25 322.89 Q2034.1 320.147 2029.79 320.147 Q2024.62 320.147 2021.63 323.445 Q2018.64 326.744 2018.64 332.439 L2018.64 354.418 L2012.22 354.418 L2012.22 300.39 L2018.64 300.39 L2018.64 321.571 Q2020.94 318.064 2024.03 316.327 Q2027.15 314.591 2031.21 314.591 Q2037.92 314.591 2041.35 318.758 Q2044.79 322.89 2044.79 330.945 Z\" fill=\"#000000\" fill-rule=\"evenodd\" fill-opacity=\"1\" /><path clip-path=\"url(#clip200)\" d=\"M2090.8 333.376 L2090.8 336.501 L2061.42 336.501 Q2061.84 343.098 2065.38 346.57 Q2068.96 350.008 2075.31 350.008 Q2078.99 350.008 2082.43 349.105 Q2085.9 348.202 2089.3 346.397 L2089.3 352.438 Q2085.87 353.897 2082.26 354.661 Q2078.64 355.424 2074.93 355.424 Q2065.62 355.424 2060.17 350.008 Q2054.76 344.591 2054.76 335.355 Q2054.76 325.807 2059.89 320.216 Q2065.07 314.591 2073.82 314.591 Q2081.66 314.591 2086.21 319.661 Q2090.8 324.695 2090.8 333.376 M2084.41 331.501 Q2084.34 326.258 2081.46 323.133 Q2078.61 320.008 2073.89 320.008 Q2068.54 320.008 2065.31 323.029 Q2062.12 326.05 2061.63 331.536 L2084.41 331.501 Z\" fill=\"#000000\" fill-rule=\"evenodd\" fill-opacity=\"1\" /><path clip-path=\"url(#clip200)\" d=\"M2096.7 315.529 L2103.47 315.529 L2115.62 348.168 L2127.78 315.529 L2134.55 315.529 L2119.96 354.418 L2111.28 354.418 L2096.7 315.529 Z\" fill=\"#000000\" fill-rule=\"evenodd\" fill-opacity=\"1\" /><path clip-path=\"url(#clip200)\" d=\"M2185.66 300.39 L2185.66 305.703 L2179.55 305.703 Q2176.11 305.703 2174.75 307.091 Q2173.44 308.48 2173.44 312.091 L2173.44 315.529 L2183.96 315.529 L2183.96 320.494 L2173.44 320.494 L2173.44 354.418 L2167.01 354.418 L2167.01 320.494 L2160.9 320.494 L2160.9 315.529 L2167.01 315.529 L2167.01 312.821 Q2167.01 306.328 2170.03 303.376 Q2173.05 300.39 2179.62 300.39 L2185.66 300.39 Z\" fill=\"#000000\" fill-rule=\"evenodd\" fill-opacity=\"1\" /><path clip-path=\"url(#clip200)\" d=\"M2191 315.529 L2197.39 315.529 L2197.39 354.418 L2191 354.418 L2191 315.529 M2191 300.39 L2197.39 300.39 L2197.39 308.48 L2191 308.48 L2191 300.39 Z\" fill=\"#000000\" fill-rule=\"evenodd\" fill-opacity=\"1\" /><path clip-path=\"url(#clip200)\" d=\"M2217.08 304.487 L2217.08 315.529 L2230.24 315.529 L2230.24 320.494 L2217.08 320.494 L2217.08 341.605 Q2217.08 346.362 2218.37 347.716 Q2219.68 349.07 2223.68 349.07 L2230.24 349.07 L2230.24 354.418 L2223.68 354.418 Q2216.28 354.418 2213.47 351.675 Q2210.66 348.897 2210.66 341.605 L2210.66 320.494 L2205.97 320.494 L2205.97 315.529 L2210.66 315.529 L2210.66 304.487 L2217.08 304.487 Z\" fill=\"#000000\" fill-rule=\"evenodd\" fill-opacity=\"1\" /><polyline clip-path=\"url(#clip200)\" style=\"stroke:#c271d2; stroke-linecap:butt; stroke-linejoin:round; stroke-width:6; stroke-opacity:1; fill:none\" points=\"\n",
       "  1575.49,406.258 1722.51,406.258 \n",
       "  \"/>\n",
       "<path clip-path=\"url(#clip200)\" d=\"M1771.6 407.872 Q1773.85 408.636 1775.97 411.136 Q1778.12 413.636 1780.28 418.011 L1787.4 432.178 L1779.86 432.178 L1773.23 418.879 Q1770.66 413.671 1768.23 411.969 Q1765.83 410.268 1761.67 410.268 L1754.03 410.268 L1754.03 432.178 L1747.01 432.178 L1747.01 380.338 L1762.85 380.338 Q1771.74 380.338 1776.11 384.053 Q1780.49 387.768 1780.49 395.268 Q1780.49 400.164 1778.19 403.393 Q1775.94 406.622 1771.6 407.872 M1754.03 386.101 L1754.03 404.504 L1762.85 404.504 Q1767.92 404.504 1770.49 402.178 Q1773.09 399.817 1773.09 395.268 Q1773.09 390.719 1770.49 388.428 Q1767.92 386.101 1762.85 386.101 L1754.03 386.101 Z\" fill=\"#000000\" fill-rule=\"evenodd\" fill-opacity=\"1\" /><path clip-path=\"url(#clip200)\" d=\"M1812.26 412.629 Q1804.51 412.629 1801.53 414.4 Q1798.54 416.171 1798.54 420.442 Q1798.54 423.844 1800.76 425.858 Q1803.02 427.837 1806.87 427.837 Q1812.19 427.837 1815.38 424.087 Q1818.61 420.303 1818.61 414.053 L1818.61 412.629 L1812.26 412.629 M1825 409.99 L1825 432.178 L1818.61 432.178 L1818.61 426.275 Q1816.42 429.816 1813.16 431.518 Q1809.9 433.184 1805.17 433.184 Q1799.2 433.184 1795.66 429.851 Q1792.15 426.483 1792.15 420.858 Q1792.15 414.296 1796.53 410.962 Q1800.94 407.629 1809.65 407.629 L1818.61 407.629 L1818.61 407.004 Q1818.61 402.594 1815.69 400.199 Q1812.81 397.768 1807.57 397.768 Q1804.24 397.768 1801.08 398.567 Q1797.92 399.365 1795 400.962 L1795 395.06 Q1798.51 393.706 1801.81 393.046 Q1805.1 392.351 1808.23 392.351 Q1816.67 392.351 1820.83 396.726 Q1825 401.101 1825 409.99 Z\" fill=\"#000000\" fill-rule=\"evenodd\" fill-opacity=\"1\" /><path clip-path=\"url(#clip200)\" d=\"M1844.48 382.247 L1844.48 393.289 L1857.64 393.289 L1857.64 398.254 L1844.48 398.254 L1844.48 419.365 Q1844.48 424.122 1845.76 425.476 Q1847.08 426.83 1851.08 426.83 L1857.64 426.83 L1857.64 432.178 L1851.08 432.178 Q1843.68 432.178 1840.87 429.435 Q1838.06 426.657 1838.06 419.365 L1838.06 398.254 L1833.37 398.254 L1833.37 393.289 L1838.06 393.289 L1838.06 382.247 L1844.48 382.247 Z\" fill=\"#000000\" fill-rule=\"evenodd\" fill-opacity=\"1\" /><path clip-path=\"url(#clip200)\" d=\"M1866.04 393.289 L1872.43 393.289 L1872.43 432.178 L1866.04 432.178 L1866.04 393.289 M1866.04 378.15 L1872.43 378.15 L1872.43 386.24 L1866.04 386.24 L1866.04 378.15 Z\" fill=\"#000000\" fill-rule=\"evenodd\" fill-opacity=\"1\" /><path clip-path=\"url(#clip200)\" d=\"M1900.87 397.768 Q1895.73 397.768 1892.74 401.796 Q1889.76 405.789 1889.76 412.768 Q1889.76 419.747 1892.71 423.775 Q1895.69 427.768 1900.87 427.768 Q1905.97 427.768 1908.96 423.74 Q1911.94 419.712 1911.94 412.768 Q1911.94 405.858 1908.96 401.83 Q1905.97 397.768 1900.87 397.768 M1900.87 392.351 Q1909.2 392.351 1913.96 397.768 Q1918.71 403.185 1918.71 412.768 Q1918.71 422.316 1913.96 427.768 Q1909.2 433.184 1900.87 433.184 Q1892.5 433.184 1887.74 427.768 Q1883.02 422.316 1883.02 412.768 Q1883.02 403.185 1887.74 397.768 Q1892.5 392.351 1900.87 392.351 Z\" fill=\"#000000\" fill-rule=\"evenodd\" fill-opacity=\"1\" /><path clip-path=\"url(#clip200)\" d=\"M1961.63 408.705 L1961.63 432.178 L1955.24 432.178 L1955.24 408.914 Q1955.24 403.393 1953.09 400.65 Q1950.94 397.907 1946.63 397.907 Q1941.46 397.907 1938.47 401.205 Q1935.49 404.504 1935.49 410.199 L1935.49 432.178 L1929.06 432.178 L1929.06 393.289 L1935.49 393.289 L1935.49 399.331 Q1937.78 395.824 1940.87 394.087 Q1943.99 392.351 1948.05 392.351 Q1954.76 392.351 1958.19 396.518 Q1961.63 400.65 1961.63 408.705 Z\" fill=\"#000000\" fill-rule=\"evenodd\" fill-opacity=\"1\" /><path clip-path=\"url(#clip200)\" d=\"M1992.05 412.629 Q1984.3 412.629 1981.32 414.4 Q1978.33 416.171 1978.33 420.442 Q1978.33 423.844 1980.55 425.858 Q1982.81 427.837 1986.67 427.837 Q1991.98 427.837 1995.17 424.087 Q1998.4 420.303 1998.4 414.053 L1998.4 412.629 L1992.05 412.629 M2004.79 409.99 L2004.79 432.178 L1998.4 432.178 L1998.4 426.275 Q1996.21 429.816 1992.95 431.518 Q1989.69 433.184 1984.96 433.184 Q1978.99 433.184 1975.45 429.851 Q1971.94 426.483 1971.94 420.858 Q1971.94 414.296 1976.32 410.962 Q1980.73 407.629 1989.44 407.629 L1998.4 407.629 L1998.4 407.004 Q1998.4 402.594 1995.48 400.199 Q1992.6 397.768 1987.36 397.768 Q1984.03 397.768 1980.87 398.567 Q1977.71 399.365 1974.79 400.962 L1974.79 395.06 Q1978.3 393.706 1981.6 393.046 Q1984.89 392.351 1988.02 392.351 Q1996.46 392.351 2000.62 396.726 Q2004.79 401.101 2004.79 409.99 Z\" fill=\"#000000\" fill-rule=\"evenodd\" fill-opacity=\"1\" /><path clip-path=\"url(#clip200)\" d=\"M2017.95 378.15 L2024.34 378.15 L2024.34 432.178 L2017.95 432.178 L2017.95 378.15 Z\" fill=\"#000000\" fill-rule=\"evenodd\" fill-opacity=\"1\" /><path clip-path=\"url(#clip200)\" d=\"M2080 378.15 L2080 383.463 L2073.89 383.463 Q2070.45 383.463 2069.1 384.851 Q2067.78 386.24 2067.78 389.851 L2067.78 393.289 L2078.3 393.289 L2078.3 398.254 L2067.78 398.254 L2067.78 432.178 L2061.35 432.178 L2061.35 398.254 L2055.24 398.254 L2055.24 393.289 L2061.35 393.289 L2061.35 390.581 Q2061.35 384.088 2064.37 381.136 Q2067.39 378.15 2073.96 378.15 L2080 378.15 Z\" fill=\"#000000\" fill-rule=\"evenodd\" fill-opacity=\"1\" /><path clip-path=\"url(#clip200)\" d=\"M2085.35 393.289 L2091.73 393.289 L2091.73 432.178 L2085.35 432.178 L2085.35 393.289 M2085.35 378.15 L2091.73 378.15 L2091.73 386.24 L2085.35 386.24 L2085.35 378.15 Z\" fill=\"#000000\" fill-rule=\"evenodd\" fill-opacity=\"1\" /><path clip-path=\"url(#clip200)\" d=\"M2111.42 382.247 L2111.42 393.289 L2124.58 393.289 L2124.58 398.254 L2111.42 398.254 L2111.42 419.365 Q2111.42 424.122 2112.71 425.476 Q2114.03 426.83 2118.02 426.83 L2124.58 426.83 L2124.58 432.178 L2118.02 432.178 Q2110.62 432.178 2107.81 429.435 Q2105 426.657 2105 419.365 L2105 398.254 L2100.31 398.254 L2100.31 393.289 L2105 393.289 L2105 382.247 L2111.42 382.247 Z\" fill=\"#000000\" fill-rule=\"evenodd\" fill-opacity=\"1\" /></svg>\n"
      ]
     },
     "execution_count": 9,
     "metadata": {},
     "output_type": "execute_result"
    }
   ],
   "source": [
    "scatter(x, y)\n",
    "V = vander_chebyshev(x, 7)\n",
    "plot!(x -> runge(x), color=:black, label=\"Runge\")\n",
    "plot!(x, V * (V \\ y), label=\"Chebyshev fit\")\n",
    "plot!(x -> f(x, c), label=\"Rational fit\")"
   ]
  },
  {
   "cell_type": "markdown",
   "id": "627277ab",
   "metadata": {
    "slideshow": {
     "slide_type": "slide"
    }
   },
   "source": [
    "# How do we compute those derivatives as the model gets complicated?"
   ]
  },
  {
   "cell_type": "markdown",
   "id": "a8f69462",
   "metadata": {
    "slideshow": {
     "slide_type": "fragment"
    }
   },
   "source": [
    "$$\\lim_{h\\to 0} \\frac{f(x+h) - f(x)}{h}$$"
   ]
  },
  {
   "cell_type": "markdown",
   "id": "73b1b145",
   "metadata": {
    "slideshow": {
     "slide_type": "fragment"
    }
   },
   "source": [
    "* How should we choose $h$?"
   ]
  },
  {
   "cell_type": "markdown",
   "id": "6a6d0812",
   "metadata": {
    "slideshow": {
     "slide_type": "slide"
    }
   },
   "source": [
    "# Taylor series\n",
    "\n",
    "Classical accuracy analysis assumes that functions are sufficiently smooth, meaning that derivatives exist and Taylor expansions are valid within a neighborhood.  In particular,\n",
    "$$ f(x+h) = f(x) + f'(x) h + f''(x) \\frac{h^2}{2!} + \\underbrace{f'''(x) \\frac{h^3}{3!} + \\dotsb}_{O(h^3)} . $$\n",
    "\n",
    "The big-$O$ notation is meant in the limit $h\\to 0$.  Specifically, a function $g(h) \\in O(h^p)$ (sometimes written $g(h) = O(h^p)$) when\n",
    "there exists a constant $C$ such that\n",
    "$$ g(h) \\le C h^p $$\n",
    "for all sufficiently *small* $h$."
   ]
  },
  {
   "cell_type": "markdown",
   "id": "9c564912",
   "metadata": {
    "slideshow": {
     "slide_type": "slide"
    }
   },
   "source": [
    "# Rounding error\n",
    "\n",
    "We have an additional source of error, *rounding error*, which comes from not being able to compute $f(x)$ or $f(x+h)$ exactly, nor subtract them exactly.  Suppose that we can, however, compute these functions with a relative error on the order of $\\epsilon_{\\text{machine}}$.  This leads to\n",
    "$$ \\begin{split}\n",
    "\\tilde f(x) &= f(x)(1 + \\epsilon_1) \\\\\n",
    "\\tilde f(x \\oplus h) &= \\tilde f((x+h)(1 + \\epsilon_2)) \\\\\n",
    "&= f((x + h)(1 + \\epsilon_2))(1 + \\epsilon_3) \\\\\n",
    "&= [f(x+h) + f'(x+h)(x+h)\\epsilon_2 + O(\\epsilon_2^2)](1 + \\epsilon_3) \\\\\n",
    "&= f(x+h)(1 + \\epsilon_3) + f'(x+h)x\\epsilon_2 + O(\\epsilon_{\\text{machine}}^2 + \\epsilon_{\\text{machine}} h)\n",
    "\\end{split}\n",
    "$$"
   ]
  },
  {
   "cell_type": "markdown",
   "id": "a3b39cf8",
   "metadata": {
    "slideshow": {
     "slide_type": "slide"
    }
   },
   "source": [
    "# Tedious error propagation\n",
    "$$ \\begin{split}\n",
    "\\left\\lvert \\frac{\\tilde f(x+h) \\ominus \\tilde f(x)}{h} - \\frac{f(x+h) - f(x)}{h} \\right\\rvert &=\n",
    "  \\left\\lvert \\frac{f(x+h)(1 + \\epsilon_3) + f'(x+h)x\\epsilon_2 + O(\\epsilon_{\\text{machine}}^2 + \\epsilon_{\\text{machine}} h) - f(x)(1 + \\epsilon_1) - f(x+h) + f(x)}{h} \\right\\rvert \\\\\n",
    "  &\\le \\frac{|f(x+h)\\epsilon_3| + |f'(x+h)x\\epsilon_2| + |f(x)\\epsilon_1| + O(\\epsilon_{\\text{machine}}^2 + \\epsilon_{\\text{machine}}h)}{h} \\\\\n",
    "  &\\le \\frac{(2 \\max_{[x,x+h]} |f| + \\max_{[x,x+h]} |f' x| \\epsilon_{\\text{machine}} + O(\\epsilon_{\\text{machine}}^2 + \\epsilon_{\\text{machine}} h)}{h} \\\\\n",
    "  &= (2\\max|f| + \\max|f'x|) \\frac{\\epsilon_{\\text{machine}}}{h} + O(\\epsilon_{\\text{machine}}) \\\\\n",
    "\\end{split} $$\n",
    "where we have assumed that $h \\ge \\epsilon_{\\text{machine}}$.\n",
    "This error becomes large (relative to $f'$ -- we are concerned with relative error after all)\n",
    "* $f$ is large compared to $f'$\n",
    "* $x$ is large\n",
    "* $h$ is too small"
   ]
  },
  {
   "cell_type": "markdown",
   "id": "6d442032",
   "metadata": {
    "slideshow": {
     "slide_type": "slide"
    }
   },
   "source": [
    "# Automatic step size selection\n",
    "\n",
    "* Walker and Pernice\n",
    "* Dennis and Schnabel"
   ]
  },
  {
   "cell_type": "code",
   "execution_count": 10,
   "id": "2508cef2",
   "metadata": {
    "cell_style": "center",
    "slideshow": {
     "slide_type": ""
    }
   },
   "outputs": [
    {
     "data": {
      "text/plain": [
       "-4.139506408429305e-6"
      ]
     },
     "execution_count": 10,
     "metadata": {},
     "output_type": "execute_result"
    }
   ],
   "source": [
    "diff(f, x; h=1e-8) = (f(x+h) - f(x)) / h\n",
    "\n",
    "function diff_wp(f, x; eps=1e-8)\n",
    "    \"\"\"Diff using Walker and Pernice (1998) choice of step\"\"\"\n",
    "    h = eps * (1 + abs(x))\n",
    "    (f(x+h) - f(x)) / h\n",
    "end\n",
    "\n",
    "x = 1000\n",
    "diff_wp(sin, x) - cos(x)"
   ]
  },
  {
   "cell_type": "markdown",
   "id": "13598631",
   "metadata": {
    "slideshow": {
     "slide_type": "slide"
    }
   },
   "source": [
    "# Symbolic differentiation"
   ]
  },
  {
   "cell_type": "code",
   "execution_count": 11,
   "id": "fa185815",
   "metadata": {
    "cell_style": "split"
   },
   "outputs": [
    {
     "data": {
      "text/latex": [
       "\\begin{equation}\n",
       "\\frac{dsin(x)}{dx}\n",
       "\\end{equation}\n"
      ],
      "text/plain": [
       "Differential(x)(sin(x))"
      ]
     },
     "execution_count": 11,
     "metadata": {},
     "output_type": "execute_result"
    }
   ],
   "source": [
    "using Symbolics\n",
    "\n",
    "@variables x\n",
    "Dx = Differential(x)\n",
    "\n",
    "y = sin(x)\n",
    "Dx(y)"
   ]
  },
  {
   "cell_type": "code",
   "execution_count": 12,
   "id": "537e4153",
   "metadata": {
    "cell_style": "split"
   },
   "outputs": [
    {
     "data": {
      "text/latex": [
       "\\begin{equation}\n",
       "\\cos\\left( x \\right)\n",
       "\\end{equation}\n"
      ],
      "text/plain": [
       "cos(x)"
      ]
     },
     "execution_count": 12,
     "metadata": {},
     "output_type": "execute_result"
    }
   ],
   "source": [
    "expand_derivatives(Dx(y))"
   ]
  },
  {
   "cell_type": "markdown",
   "id": "55f8ae35",
   "metadata": {
    "slideshow": {
     "slide_type": "slide"
    }
   },
   "source": [
    "# Awesome, what about products?"
   ]
  },
  {
   "cell_type": "code",
   "execution_count": 14,
   "id": "0a4243eb",
   "metadata": {},
   "outputs": [
    {
     "data": {
      "text/latex": [
       "\\begin{equation}\n",
       "\\frac{\\cos\\left( x^{\\pi} \\right)}{x} - 3.141592653589793 x^{2.141592653589793} \\log\\left( x \\right) \\sin\\left( x^{\\pi} \\right)\n",
       "\\end{equation}\n"
      ],
      "text/plain": [
       "(x^-1)*cos(x^π) - 3.141592653589793(x^2.141592653589793)*log(x)*sin(x^π)"
      ]
     },
     "execution_count": 14,
     "metadata": {},
     "output_type": "execute_result"
    }
   ],
   "source": [
    "y = x\n",
    "for _ in 1:1\n",
    "    y = cos(y^pi) * log(y)\n",
    "end\n",
    "expand_derivatives(Dx(y))"
   ]
  },
  {
   "cell_type": "markdown",
   "id": "34b799be",
   "metadata": {
    "slideshow": {
     "slide_type": "fragment"
    }
   },
   "source": [
    "* The size of these expressions can grow **exponentially**"
   ]
  },
  {
   "cell_type": "markdown",
   "id": "d0a680f1",
   "metadata": {
    "slideshow": {
     "slide_type": "slide"
    }
   },
   "source": [
    "# Hand-coding derivatives\n",
    "\n",
    "$$ df = f'(x) dx $$"
   ]
  },
  {
   "cell_type": "code",
   "execution_count": 15,
   "id": "c24fb506",
   "metadata": {
    "cell_style": "split"
   },
   "outputs": [
    {
     "data": {
      "text/plain": [
       "(-1.5346823414986814, -34.032439961925064)"
      ]
     },
     "execution_count": 15,
     "metadata": {},
     "output_type": "execute_result"
    }
   ],
   "source": [
    "function f(x)\n",
    "    y = x\n",
    "    for _ in 1:2\n",
    "        a = y^pi\n",
    "        b = cos(a)\n",
    "        c = log(y)\n",
    "        y = b * c\n",
    "    end\n",
    "    y\n",
    "end\n",
    "\n",
    "f(1.9), diff_wp(f, 1.9)"
   ]
  },
  {
   "cell_type": "code",
   "execution_count": 23,
   "id": "d8dec50b",
   "metadata": {
    "cell_style": "split",
    "slideshow": {
     "slide_type": "fragment"
    }
   },
   "outputs": [
    {
     "data": {
      "text/plain": [
       "(-1.5346823414986814, -34.03241959914048)"
      ]
     },
     "execution_count": 23,
     "metadata": {},
     "output_type": "execute_result"
    }
   ],
   "source": [
    "function df(x, dx)\n",
    "    y = x\n",
    "    dy = dx\n",
    "    for _ in 1:2\n",
    "        a = y ^ pi\n",
    "        da = pi * y^(pi - 1) * dy\n",
    "\n",
    "        \n",
    "    end\n",
    "    y, dy\n",
    "end\n",
    "\n",
    "df(1.9, 1)"
   ]
  },
  {
   "cell_type": "markdown",
   "id": "3fb72ae9",
   "metadata": {
    "slideshow": {
     "slide_type": "slide"
    }
   },
   "source": [
    "# We can go the other way\n",
    "\n",
    "We can differentiate a composition $h(g(f(x)))$ as\n",
    "\n",
    "\\begin{align}\n",
    "  \\operatorname{d} h &= h' \\operatorname{d} g \\\\\n",
    "  \\operatorname{d} g &= g' \\operatorname{d} f \\\\\n",
    "  \\operatorname{d} f &= f' \\operatorname{d} x.\n",
    "\\end{align}\n",
    "\n",
    "What we've done above is called \"forward mode\", and amounts to placing the parentheses in the chain rule like\n",
    "\n",
    "$$ \\operatorname d h = \\frac{dh}{dg} \\left(\\frac{dg}{df} \\left(\\frac{df}{dx} \\operatorname d x \\right) \\right) .$$\n",
    "\n",
    "The expression means the same thing if we rearrange the parentheses,\n",
    "\n",
    "$$ \\operatorname d h = \\left( \\left( \\left( \\frac{dh}{dg} \\right) \\frac{dg}{df} \\right) \\frac{df}{dx} \\right) \\operatorname d x .$$"
   ]
  },
  {
   "cell_type": "markdown",
   "id": "12e01ae1",
   "metadata": {
    "slideshow": {
     "slide_type": "slide"
    }
   },
   "source": [
    "# Automatic differentiation"
   ]
  },
  {
   "cell_type": "code",
   "execution_count": 18,
   "id": "7052e15a",
   "metadata": {},
   "outputs": [
    {
     "name": "stderr",
     "output_type": "stream",
     "text": [
      "WARNING: using Zygote.gradient in module Main conflicts with an existing identifier.\n"
     ]
    }
   ],
   "source": [
    "using Zygote"
   ]
  },
  {
   "cell_type": "code",
   "execution_count": 19,
   "id": "2aabcb46",
   "metadata": {},
   "outputs": [
    {
     "data": {
      "text/plain": [
       "(-34.03241959914049,)"
      ]
     },
     "execution_count": 19,
     "metadata": {},
     "output_type": "execute_result"
    }
   ],
   "source": [
    "Zygote.gradient(f, 1.9)"
   ]
  }
 ],
 "metadata": {
  "@webio": {
   "lastCommId": null,
   "lastKernelId": null
  },
  "celltoolbar": "Slideshow",
  "hide_code_all_hidden": false,
  "kernelspec": {
   "display_name": "Julia 1.7.2",
   "language": "julia",
   "name": "julia-1.7"
  },
  "language_info": {
   "file_extension": ".jl",
   "mimetype": "application/julia",
   "name": "julia",
   "version": "1.7.2"
  },
  "rise": {
   "enable_chalkboard": true
  }
 },
 "nbformat": 4,
 "nbformat_minor": 5
}
