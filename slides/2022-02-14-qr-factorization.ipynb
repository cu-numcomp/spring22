{
 "cells": [
  {
   "cell_type": "markdown",
   "id": "4159be0e",
   "metadata": {
    "hideCode": false,
    "hidePrompt": false,
    "slideshow": {
     "slide_type": "slide"
    }
   },
   "source": [
    "# 2022-02-14 QR Factorization\n",
    "\n",
    "\n",
    "## Last time\n",
    "\n",
    "* Revisit projections, rotations, and reflections\n",
    "* Constructing orthogonal bases\n",
    "\n",
    "## Today\n",
    "\n",
    "* Gram-Schmidt process\n",
    "* QR factorization\n",
    "* Stability and ill conditioning\n",
    "* Intro to performance modeling"
   ]
  },
  {
   "cell_type": "code",
   "execution_count": 2,
   "id": "eb781a7a",
   "metadata": {
    "slideshow": {
     "slide_type": "skip"
    }
   },
   "outputs": [
    {
     "data": {
      "text/plain": [
       "vander (generic function with 2 methods)"
      ]
     },
     "execution_count": 2,
     "metadata": {},
     "output_type": "execute_result"
    }
   ],
   "source": [
    "using LinearAlgebra\n",
    "using Plots\n",
    "using Polynomials\n",
    "default(linewidth=4, legendfontsize=12)\n",
    "\n",
    "function vander(x, k=nothing)\n",
    "    if isnothing(k)\n",
    "        k = length(x)\n",
    "    end\n",
    "    m = length(x)\n",
    "    V = ones(m, k)\n",
    "    for j in 2:k\n",
    "        V[:, j] = V[:, j-1] .* x\n",
    "    end\n",
    "    V\n",
    "end"
   ]
  },
  {
   "cell_type": "markdown",
   "id": "08572038",
   "metadata": {
    "slideshow": {
     "slide_type": "slide"
    }
   },
   "source": [
    "# Gram-Schmidt orthogonalization\n",
    "\n",
    "Suppose we're given some vectors and want to find an orthogonal basis for their span.\n",
    "\n",
    "$$ \\Bigg[ a_1 \\Bigg| a_2 \\Bigg] = \\Bigg[ q_1 \\Bigg| q_2 \\Bigg] \\begin{bmatrix} r_{11} & r_{12} \\\\ 0 & r_{22} \\end{bmatrix} $$"
   ]
  },
  {
   "cell_type": "markdown",
   "id": "bfe2f87a",
   "metadata": {
    "cell_style": "center",
    "slideshow": {
     "slide_type": "slide"
    }
   },
   "source": [
    "# A naive algorithm"
   ]
  },
  {
   "cell_type": "code",
   "execution_count": 8,
   "id": "fdc56e08",
   "metadata": {
    "cell_style": "split"
   },
   "outputs": [
    {
     "data": {
      "text/plain": [
       "gram_schmidt_naive (generic function with 1 method)"
      ]
     },
     "execution_count": 8,
     "metadata": {},
     "output_type": "execute_result"
    }
   ],
   "source": [
    "function gram_schmidt_naive(A)\n",
    "    m, n = size(A)\n",
    "    Q = zeros(m, n)\n",
    "    R = zeros(n, n)\n",
    "    for j in 1:n\n",
    "        v = A[:,j]\n",
    "        for k in 1:j-1\n",
    "            r = Q[:,k]' * v\n",
    "            v -= Q[:,k] * r\n",
    "            R[k,j] = r\n",
    "        end\n",
    "        R[j,j] = norm(v)\n",
    "        Q[:,j] = v / R[j,j]\n",
    "    end\n",
    "    Q, R\n",
    "end"
   ]
  },
  {
   "cell_type": "code",
   "execution_count": 10,
   "id": "967f69c1",
   "metadata": {
    "cell_style": "split",
    "slideshow": {
     "slide_type": "fragment"
    }
   },
   "outputs": [
    {
     "name": "stdout",
     "output_type": "stream",
     "text": [
      "norm(Q' * Q - I) = 6.609184312080184e-16\n",
      "norm(Q * R - A) = 2.500206551829073e-16\n"
     ]
    }
   ],
   "source": [
    "A = vander(x, 4)\n",
    "Q, R = gram_schmidt_naive(A)\n",
    "@show norm(Q' * Q - I)\n",
    "@show norm(Q * R - A);"
   ]
  },
  {
   "cell_type": "markdown",
   "id": "913dbe1e",
   "metadata": {
    "cell_style": "center",
    "slideshow": {
     "slide_type": "slide"
    }
   },
   "source": [
    "# What do orthogonal polynomials look like?"
   ]
  },
  {
   "cell_type": "code",
   "execution_count": 13,
   "id": "c5c93439",
   "metadata": {
    "scrolled": false
   },
   "outputs": [
    {
     "data": {
      "image/svg+xml": [
       "<?xml version=\"1.0\" encoding=\"utf-8\"?>\n",
       "<svg xmlns=\"http://www.w3.org/2000/svg\" xmlns:xlink=\"http://www.w3.org/1999/xlink\" width=\"600\" height=\"400\" viewBox=\"0 0 2400 1600\">\n",
       "<defs>\n",
       "  <clipPath id=\"clip130\">\n",
       "    <rect x=\"0\" y=\"0\" width=\"2400\" height=\"1600\"/>\n",
       "  </clipPath>\n",
       "</defs>\n",
       "<path clip-path=\"url(#clip130)\" d=\"\n",
       "M0 1600 L2400 1600 L2400 0 L0 0  Z\n",
       "  \" fill=\"#ffffff\" fill-rule=\"evenodd\" fill-opacity=\"1\"/>\n",
       "<defs>\n",
       "  <clipPath id=\"clip131\">\n",
       "    <rect x=\"480\" y=\"0\" width=\"1681\" height=\"1600\"/>\n",
       "  </clipPath>\n",
       "</defs>\n",
       "<path clip-path=\"url(#clip130)\" d=\"\n",
       "M193.288 1486.45 L2352.76 1486.45 L2352.76 47.2441 L193.288 47.2441  Z\n",
       "  \" fill=\"#ffffff\" fill-rule=\"evenodd\" fill-opacity=\"1\"/>\n",
       "<defs>\n",
       "  <clipPath id=\"clip132\">\n",
       "    <rect x=\"193\" y=\"47\" width=\"2160\" height=\"1440\"/>\n",
       "  </clipPath>\n",
       "</defs>\n",
       "<polyline clip-path=\"url(#clip132)\" style=\"stroke:#000000; stroke-linecap:butt; stroke-linejoin:round; stroke-width:2; stroke-opacity:0.1; fill:none\" points=\"\n",
       "  254.405,1486.45 254.405,47.2441 \n",
       "  \"/>\n",
       "<polyline clip-path=\"url(#clip132)\" style=\"stroke:#000000; stroke-linecap:butt; stroke-linejoin:round; stroke-width:2; stroke-opacity:0.1; fill:none\" points=\"\n",
       "  763.713,1486.45 763.713,47.2441 \n",
       "  \"/>\n",
       "<polyline clip-path=\"url(#clip132)\" style=\"stroke:#000000; stroke-linecap:butt; stroke-linejoin:round; stroke-width:2; stroke-opacity:0.1; fill:none\" points=\"\n",
       "  1273.02,1486.45 1273.02,47.2441 \n",
       "  \"/>\n",
       "<polyline clip-path=\"url(#clip132)\" style=\"stroke:#000000; stroke-linecap:butt; stroke-linejoin:round; stroke-width:2; stroke-opacity:0.1; fill:none\" points=\"\n",
       "  1782.33,1486.45 1782.33,47.2441 \n",
       "  \"/>\n",
       "<polyline clip-path=\"url(#clip132)\" style=\"stroke:#000000; stroke-linecap:butt; stroke-linejoin:round; stroke-width:2; stroke-opacity:0.1; fill:none\" points=\"\n",
       "  2291.64,1486.45 2291.64,47.2441 \n",
       "  \"/>\n",
       "<polyline clip-path=\"url(#clip130)\" style=\"stroke:#000000; stroke-linecap:butt; stroke-linejoin:round; stroke-width:4; stroke-opacity:1; fill:none\" points=\"\n",
       "  193.288,1486.45 2352.76,1486.45 \n",
       "  \"/>\n",
       "<polyline clip-path=\"url(#clip130)\" style=\"stroke:#000000; stroke-linecap:butt; stroke-linejoin:round; stroke-width:4; stroke-opacity:1; fill:none\" points=\"\n",
       "  254.405,1486.45 254.405,1467.55 \n",
       "  \"/>\n",
       "<polyline clip-path=\"url(#clip130)\" style=\"stroke:#000000; stroke-linecap:butt; stroke-linejoin:round; stroke-width:4; stroke-opacity:1; fill:none\" points=\"\n",
       "  763.713,1486.45 763.713,1467.55 \n",
       "  \"/>\n",
       "<polyline clip-path=\"url(#clip130)\" style=\"stroke:#000000; stroke-linecap:butt; stroke-linejoin:round; stroke-width:4; stroke-opacity:1; fill:none\" points=\"\n",
       "  1273.02,1486.45 1273.02,1467.55 \n",
       "  \"/>\n",
       "<polyline clip-path=\"url(#clip130)\" style=\"stroke:#000000; stroke-linecap:butt; stroke-linejoin:round; stroke-width:4; stroke-opacity:1; fill:none\" points=\"\n",
       "  1782.33,1486.45 1782.33,1467.55 \n",
       "  \"/>\n",
       "<polyline clip-path=\"url(#clip130)\" style=\"stroke:#000000; stroke-linecap:butt; stroke-linejoin:round; stroke-width:4; stroke-opacity:1; fill:none\" points=\"\n",
       "  2291.64,1486.45 2291.64,1467.55 \n",
       "  \"/>\n",
       "<path clip-path=\"url(#clip130)\" d=\"M200.933 1532.02 L230.609 1532.02 L230.609 1535.95 L200.933 1535.95 L200.933 1532.02 Z\" fill=\"#000000\" fill-rule=\"evenodd\" fill-opacity=\"1\" /><path clip-path=\"url(#clip130)\" d=\"M241.511 1544.91 L249.15 1544.91 L249.15 1518.55 L240.84 1520.21 L240.84 1515.95 L249.104 1514.29 L253.78 1514.29 L253.78 1544.91 L261.419 1544.91 L261.419 1548.85 L241.511 1548.85 L241.511 1544.91 Z\" fill=\"#000000\" fill-rule=\"evenodd\" fill-opacity=\"1\" /><path clip-path=\"url(#clip130)\" d=\"M270.863 1542.97 L275.747 1542.97 L275.747 1548.85 L270.863 1548.85 L270.863 1542.97 Z\" fill=\"#000000\" fill-rule=\"evenodd\" fill-opacity=\"1\" /><path clip-path=\"url(#clip130)\" d=\"M295.932 1517.37 Q292.321 1517.37 290.493 1520.93 Q288.687 1524.47 288.687 1531.6 Q288.687 1538.71 290.493 1542.27 Q292.321 1545.82 295.932 1545.82 Q299.567 1545.82 301.372 1542.27 Q303.201 1538.71 303.201 1531.6 Q303.201 1524.47 301.372 1520.93 Q299.567 1517.37 295.932 1517.37 M295.932 1513.66 Q301.743 1513.66 304.798 1518.27 Q307.877 1522.85 307.877 1531.6 Q307.877 1540.33 304.798 1544.94 Q301.743 1549.52 295.932 1549.52 Q290.122 1549.52 287.044 1544.94 Q283.988 1540.33 283.988 1531.6 Q283.988 1522.85 287.044 1518.27 Q290.122 1513.66 295.932 1513.66 Z\" fill=\"#000000\" fill-rule=\"evenodd\" fill-opacity=\"1\" /><path clip-path=\"url(#clip130)\" d=\"M710.739 1532.02 L740.415 1532.02 L740.415 1535.95 L710.739 1535.95 L710.739 1532.02 Z\" fill=\"#000000\" fill-rule=\"evenodd\" fill-opacity=\"1\" /><path clip-path=\"url(#clip130)\" d=\"M760.507 1517.37 Q756.896 1517.37 755.068 1520.93 Q753.262 1524.47 753.262 1531.6 Q753.262 1538.71 755.068 1542.27 Q756.896 1545.82 760.507 1545.82 Q764.142 1545.82 765.947 1542.27 Q767.776 1538.71 767.776 1531.6 Q767.776 1524.47 765.947 1520.93 Q764.142 1517.37 760.507 1517.37 M760.507 1513.66 Q766.318 1513.66 769.373 1518.27 Q772.452 1522.85 772.452 1531.6 Q772.452 1540.33 769.373 1544.94 Q766.318 1549.52 760.507 1549.52 Q754.697 1549.52 751.619 1544.94 Q748.563 1540.33 748.563 1531.6 Q748.563 1522.85 751.619 1518.27 Q754.697 1513.66 760.507 1513.66 Z\" fill=\"#000000\" fill-rule=\"evenodd\" fill-opacity=\"1\" /><path clip-path=\"url(#clip130)\" d=\"M780.669 1542.97 L785.554 1542.97 L785.554 1548.85 L780.669 1548.85 L780.669 1542.97 Z\" fill=\"#000000\" fill-rule=\"evenodd\" fill-opacity=\"1\" /><path clip-path=\"url(#clip130)\" d=\"M795.785 1514.29 L814.141 1514.29 L814.141 1518.22 L800.067 1518.22 L800.067 1526.7 Q801.086 1526.35 802.104 1526.19 Q803.123 1526 804.141 1526 Q809.928 1526 813.308 1529.17 Q816.688 1532.34 816.688 1537.76 Q816.688 1543.34 813.215 1546.44 Q809.743 1549.52 803.424 1549.52 Q801.248 1549.52 798.979 1549.15 Q796.734 1548.78 794.327 1548.04 L794.327 1543.34 Q796.41 1544.47 798.632 1545.03 Q800.854 1545.58 803.331 1545.58 Q807.336 1545.58 809.674 1543.48 Q812.012 1541.37 812.012 1537.76 Q812.012 1534.15 809.674 1532.04 Q807.336 1529.94 803.331 1529.94 Q801.456 1529.94 799.581 1530.35 Q797.729 1530.77 795.785 1531.65 L795.785 1514.29 Z\" fill=\"#000000\" fill-rule=\"evenodd\" fill-opacity=\"1\" /><path clip-path=\"url(#clip130)\" d=\"M1250.41 1517.37 Q1246.8 1517.37 1244.97 1520.93 Q1243.16 1524.47 1243.16 1531.6 Q1243.16 1538.71 1244.97 1542.27 Q1246.8 1545.82 1250.41 1545.82 Q1254.04 1545.82 1255.85 1542.27 Q1257.67 1538.71 1257.67 1531.6 Q1257.67 1524.47 1255.85 1520.93 Q1254.04 1517.37 1250.41 1517.37 M1250.41 1513.66 Q1256.22 1513.66 1259.27 1518.27 Q1262.35 1522.85 1262.35 1531.6 Q1262.35 1540.33 1259.27 1544.94 Q1256.22 1549.52 1250.41 1549.52 Q1244.6 1549.52 1241.52 1544.94 Q1238.46 1540.33 1238.46 1531.6 Q1238.46 1522.85 1241.52 1518.27 Q1244.6 1513.66 1250.41 1513.66 Z\" fill=\"#000000\" fill-rule=\"evenodd\" fill-opacity=\"1\" /><path clip-path=\"url(#clip130)\" d=\"M1270.57 1542.97 L1275.45 1542.97 L1275.45 1548.85 L1270.57 1548.85 L1270.57 1542.97 Z\" fill=\"#000000\" fill-rule=\"evenodd\" fill-opacity=\"1\" /><path clip-path=\"url(#clip130)\" d=\"M1295.64 1517.37 Q1292.03 1517.37 1290.2 1520.93 Q1288.39 1524.47 1288.39 1531.6 Q1288.39 1538.71 1290.2 1542.27 Q1292.03 1545.82 1295.64 1545.82 Q1299.27 1545.82 1301.08 1542.27 Q1302.91 1538.71 1302.91 1531.6 Q1302.91 1524.47 1301.08 1520.93 Q1299.27 1517.37 1295.64 1517.37 M1295.64 1513.66 Q1301.45 1513.66 1304.5 1518.27 Q1307.58 1522.85 1307.58 1531.6 Q1307.58 1540.33 1304.5 1544.94 Q1301.45 1549.52 1295.64 1549.52 Q1289.83 1549.52 1286.75 1544.94 Q1283.69 1540.33 1283.69 1531.6 Q1283.69 1522.85 1286.75 1518.27 Q1289.83 1513.66 1295.64 1513.66 Z\" fill=\"#000000\" fill-rule=\"evenodd\" fill-opacity=\"1\" /><path clip-path=\"url(#clip130)\" d=\"M1760.21 1517.37 Q1756.6 1517.37 1754.77 1520.93 Q1752.97 1524.47 1752.97 1531.6 Q1752.97 1538.71 1754.77 1542.27 Q1756.6 1545.82 1760.21 1545.82 Q1763.85 1545.82 1765.65 1542.27 Q1767.48 1538.71 1767.48 1531.6 Q1767.48 1524.47 1765.65 1520.93 Q1763.85 1517.37 1760.21 1517.37 M1760.21 1513.66 Q1766.02 1513.66 1769.08 1518.27 Q1772.16 1522.85 1772.16 1531.6 Q1772.16 1540.33 1769.08 1544.94 Q1766.02 1549.52 1760.21 1549.52 Q1754.4 1549.52 1751.32 1544.94 Q1748.27 1540.33 1748.27 1531.6 Q1748.27 1522.85 1751.32 1518.27 Q1754.4 1513.66 1760.21 1513.66 Z\" fill=\"#000000\" fill-rule=\"evenodd\" fill-opacity=\"1\" /><path clip-path=\"url(#clip130)\" d=\"M1780.37 1542.97 L1785.26 1542.97 L1785.26 1548.85 L1780.37 1548.85 L1780.37 1542.97 Z\" fill=\"#000000\" fill-rule=\"evenodd\" fill-opacity=\"1\" /><path clip-path=\"url(#clip130)\" d=\"M1795.49 1514.29 L1813.85 1514.29 L1813.85 1518.22 L1799.77 1518.22 L1799.77 1526.7 Q1800.79 1526.35 1801.81 1526.19 Q1802.83 1526 1803.85 1526 Q1809.63 1526 1813.01 1529.17 Q1816.39 1532.34 1816.39 1537.76 Q1816.39 1543.34 1812.92 1546.44 Q1809.45 1549.52 1803.13 1549.52 Q1800.95 1549.52 1798.68 1549.15 Q1796.44 1548.78 1794.03 1548.04 L1794.03 1543.34 Q1796.12 1544.47 1798.34 1545.03 Q1800.56 1545.58 1803.04 1545.58 Q1807.04 1545.58 1809.38 1543.48 Q1811.72 1541.37 1811.72 1537.76 Q1811.72 1534.15 1809.38 1532.04 Q1807.04 1529.94 1803.04 1529.94 Q1801.16 1529.94 1799.29 1530.35 Q1797.43 1530.77 1795.49 1531.65 L1795.49 1514.29 Z\" fill=\"#000000\" fill-rule=\"evenodd\" fill-opacity=\"1\" /><path clip-path=\"url(#clip130)\" d=\"M2258.79 1544.91 L2266.43 1544.91 L2266.43 1518.55 L2258.12 1520.21 L2258.12 1515.95 L2266.38 1514.29 L2271.06 1514.29 L2271.06 1544.91 L2278.7 1544.91 L2278.7 1548.85 L2258.79 1548.85 L2258.79 1544.91 Z\" fill=\"#000000\" fill-rule=\"evenodd\" fill-opacity=\"1\" /><path clip-path=\"url(#clip130)\" d=\"M2288.14 1542.97 L2293.03 1542.97 L2293.03 1548.85 L2288.14 1548.85 L2288.14 1542.97 Z\" fill=\"#000000\" fill-rule=\"evenodd\" fill-opacity=\"1\" /><path clip-path=\"url(#clip130)\" d=\"M2313.21 1517.37 Q2309.6 1517.37 2307.77 1520.93 Q2305.97 1524.47 2305.97 1531.6 Q2305.97 1538.71 2307.77 1542.27 Q2309.6 1545.82 2313.21 1545.82 Q2316.85 1545.82 2318.65 1542.27 Q2320.48 1538.71 2320.48 1531.6 Q2320.48 1524.47 2318.65 1520.93 Q2316.85 1517.37 2313.21 1517.37 M2313.21 1513.66 Q2319.02 1513.66 2322.08 1518.27 Q2325.16 1522.85 2325.16 1531.6 Q2325.16 1540.33 2322.08 1544.94 Q2319.02 1549.52 2313.21 1549.52 Q2307.4 1549.52 2304.32 1544.94 Q2301.27 1540.33 2301.27 1531.6 Q2301.27 1522.85 2304.32 1518.27 Q2307.4 1513.66 2313.21 1513.66 Z\" fill=\"#000000\" fill-rule=\"evenodd\" fill-opacity=\"1\" /><polyline clip-path=\"url(#clip132)\" style=\"stroke:#000000; stroke-linecap:butt; stroke-linejoin:round; stroke-width:2; stroke-opacity:0.1; fill:none\" points=\"\n",
       "  193.288,1382.09 2352.76,1382.09 \n",
       "  \"/>\n",
       "<polyline clip-path=\"url(#clip132)\" style=\"stroke:#000000; stroke-linecap:butt; stroke-linejoin:round; stroke-width:2; stroke-opacity:0.1; fill:none\" points=\"\n",
       "  193.288,1182.15 2352.76,1182.15 \n",
       "  \"/>\n",
       "<polyline clip-path=\"url(#clip132)\" style=\"stroke:#000000; stroke-linecap:butt; stroke-linejoin:round; stroke-width:2; stroke-opacity:0.1; fill:none\" points=\"\n",
       "  193.288,982.218 2352.76,982.218 \n",
       "  \"/>\n",
       "<polyline clip-path=\"url(#clip132)\" style=\"stroke:#000000; stroke-linecap:butt; stroke-linejoin:round; stroke-width:2; stroke-opacity:0.1; fill:none\" points=\"\n",
       "  193.288,782.283 2352.76,782.283 \n",
       "  \"/>\n",
       "<polyline clip-path=\"url(#clip132)\" style=\"stroke:#000000; stroke-linecap:butt; stroke-linejoin:round; stroke-width:2; stroke-opacity:0.1; fill:none\" points=\"\n",
       "  193.288,582.347 2352.76,582.347 \n",
       "  \"/>\n",
       "<polyline clip-path=\"url(#clip132)\" style=\"stroke:#000000; stroke-linecap:butt; stroke-linejoin:round; stroke-width:2; stroke-opacity:0.1; fill:none\" points=\"\n",
       "  193.288,382.412 2352.76,382.412 \n",
       "  \"/>\n",
       "<polyline clip-path=\"url(#clip132)\" style=\"stroke:#000000; stroke-linecap:butt; stroke-linejoin:round; stroke-width:2; stroke-opacity:0.1; fill:none\" points=\"\n",
       "  193.288,182.476 2352.76,182.476 \n",
       "  \"/>\n",
       "<polyline clip-path=\"url(#clip130)\" style=\"stroke:#000000; stroke-linecap:butt; stroke-linejoin:round; stroke-width:4; stroke-opacity:1; fill:none\" points=\"\n",
       "  193.288,1486.45 193.288,47.2441 \n",
       "  \"/>\n",
       "<polyline clip-path=\"url(#clip130)\" style=\"stroke:#000000; stroke-linecap:butt; stroke-linejoin:round; stroke-width:4; stroke-opacity:1; fill:none\" points=\"\n",
       "  193.288,1382.09 212.185,1382.09 \n",
       "  \"/>\n",
       "<polyline clip-path=\"url(#clip130)\" style=\"stroke:#000000; stroke-linecap:butt; stroke-linejoin:round; stroke-width:4; stroke-opacity:1; fill:none\" points=\"\n",
       "  193.288,1182.15 212.185,1182.15 \n",
       "  \"/>\n",
       "<polyline clip-path=\"url(#clip130)\" style=\"stroke:#000000; stroke-linecap:butt; stroke-linejoin:round; stroke-width:4; stroke-opacity:1; fill:none\" points=\"\n",
       "  193.288,982.218 212.185,982.218 \n",
       "  \"/>\n",
       "<polyline clip-path=\"url(#clip130)\" style=\"stroke:#000000; stroke-linecap:butt; stroke-linejoin:round; stroke-width:4; stroke-opacity:1; fill:none\" points=\"\n",
       "  193.288,782.283 212.185,782.283 \n",
       "  \"/>\n",
       "<polyline clip-path=\"url(#clip130)\" style=\"stroke:#000000; stroke-linecap:butt; stroke-linejoin:round; stroke-width:4; stroke-opacity:1; fill:none\" points=\"\n",
       "  193.288,582.347 212.185,582.347 \n",
       "  \"/>\n",
       "<polyline clip-path=\"url(#clip130)\" style=\"stroke:#000000; stroke-linecap:butt; stroke-linejoin:round; stroke-width:4; stroke-opacity:1; fill:none\" points=\"\n",
       "  193.288,382.412 212.185,382.412 \n",
       "  \"/>\n",
       "<polyline clip-path=\"url(#clip130)\" style=\"stroke:#000000; stroke-linecap:butt; stroke-linejoin:round; stroke-width:4; stroke-opacity:1; fill:none\" points=\"\n",
       "  193.288,182.476 212.185,182.476 \n",
       "  \"/>\n",
       "<path clip-path=\"url(#clip130)\" d=\"M50.9921 1382.54 L80.6679 1382.54 L80.6679 1386.48 L50.9921 1386.48 L50.9921 1382.54 Z\" fill=\"#000000\" fill-rule=\"evenodd\" fill-opacity=\"1\" /><path clip-path=\"url(#clip130)\" d=\"M100.76 1367.89 Q97.1493 1367.89 95.3206 1371.45 Q93.515 1374.99 93.515 1382.12 Q93.515 1389.23 95.3206 1392.8 Q97.1493 1396.34 100.76 1396.34 Q104.395 1396.34 106.2 1392.8 Q108.029 1389.23 108.029 1382.12 Q108.029 1374.99 106.2 1371.45 Q104.395 1367.89 100.76 1367.89 M100.76 1364.18 Q106.571 1364.18 109.626 1368.79 Q112.705 1373.37 112.705 1382.12 Q112.705 1390.85 109.626 1395.46 Q106.571 1400.04 100.76 1400.04 Q94.9502 1400.04 91.8715 1395.46 Q88.816 1390.85 88.816 1382.12 Q88.816 1373.37 91.8715 1368.79 Q94.9502 1364.18 100.76 1364.18 Z\" fill=\"#000000\" fill-rule=\"evenodd\" fill-opacity=\"1\" /><path clip-path=\"url(#clip130)\" d=\"M120.922 1393.49 L125.807 1393.49 L125.807 1399.37 L120.922 1399.37 L120.922 1393.49 Z\" fill=\"#000000\" fill-rule=\"evenodd\" fill-opacity=\"1\" /><path clip-path=\"url(#clip130)\" d=\"M150.158 1380.74 Q153.515 1381.45 155.39 1383.72 Q157.288 1385.99 157.288 1389.32 Q157.288 1394.44 153.769 1397.24 Q150.251 1400.04 143.769 1400.04 Q141.593 1400.04 139.279 1399.6 Q136.987 1399.18 134.533 1398.33 L134.533 1393.81 Q136.478 1394.95 138.793 1395.53 Q141.107 1396.11 143.631 1396.11 Q148.029 1396.11 150.32 1394.37 Q152.635 1392.63 152.635 1389.32 Q152.635 1386.27 150.482 1384.55 Q148.353 1382.82 144.533 1382.82 L140.506 1382.82 L140.506 1378.98 L144.718 1378.98 Q148.168 1378.98 149.996 1377.61 Q151.825 1376.22 151.825 1373.63 Q151.825 1370.97 149.927 1369.55 Q148.052 1368.12 144.533 1368.12 Q142.612 1368.12 140.413 1368.54 Q138.214 1368.95 135.575 1369.83 L135.575 1365.67 Q138.237 1364.93 140.552 1364.55 Q142.89 1364.18 144.95 1364.18 Q150.274 1364.18 153.376 1366.62 Q156.478 1369.02 156.478 1373.14 Q156.478 1376.01 154.834 1378 Q153.191 1379.97 150.158 1380.74 Z\" fill=\"#000000\" fill-rule=\"evenodd\" fill-opacity=\"1\" /><path clip-path=\"url(#clip130)\" d=\"M51.9412 1182.61 L81.617 1182.61 L81.617 1186.54 L51.9412 1186.54 L51.9412 1182.61 Z\" fill=\"#000000\" fill-rule=\"evenodd\" fill-opacity=\"1\" /><path clip-path=\"url(#clip130)\" d=\"M101.709 1167.95 Q98.0984 1167.95 96.2697 1171.52 Q94.4641 1175.06 94.4641 1182.19 Q94.4641 1189.3 96.2697 1192.86 Q98.0984 1196.4 101.709 1196.4 Q105.344 1196.4 107.149 1192.86 Q108.978 1189.3 108.978 1182.19 Q108.978 1175.06 107.149 1171.52 Q105.344 1167.95 101.709 1167.95 M101.709 1164.25 Q107.52 1164.25 110.575 1168.86 Q113.654 1173.44 113.654 1182.19 Q113.654 1190.92 110.575 1195.52 Q107.52 1200.11 101.709 1200.11 Q95.8993 1200.11 92.8206 1195.52 Q89.7651 1190.92 89.7651 1182.19 Q89.7651 1173.44 92.8206 1168.86 Q95.8993 1164.25 101.709 1164.25 Z\" fill=\"#000000\" fill-rule=\"evenodd\" fill-opacity=\"1\" /><path clip-path=\"url(#clip130)\" d=\"M121.871 1193.55 L126.756 1193.55 L126.756 1199.43 L121.871 1199.43 L121.871 1193.55 Z\" fill=\"#000000\" fill-rule=\"evenodd\" fill-opacity=\"1\" /><path clip-path=\"url(#clip130)\" d=\"M140.968 1195.5 L157.288 1195.5 L157.288 1199.43 L135.344 1199.43 L135.344 1195.5 Q138.006 1192.74 142.589 1188.11 Q147.195 1183.46 148.376 1182.12 Q150.621 1179.6 151.501 1177.86 Q152.404 1176.1 152.404 1174.41 Q152.404 1171.66 150.459 1169.92 Q148.538 1168.18 145.436 1168.18 Q143.237 1168.18 140.783 1168.95 Q138.353 1169.71 135.575 1171.26 L135.575 1166.54 Q138.399 1165.41 140.853 1164.83 Q143.306 1164.25 145.343 1164.25 Q150.714 1164.25 153.908 1166.93 Q157.103 1169.62 157.103 1174.11 Q157.103 1176.24 156.292 1178.16 Q155.505 1180.06 153.399 1182.65 Q152.82 1183.32 149.718 1186.54 Q146.617 1189.73 140.968 1195.5 Z\" fill=\"#000000\" fill-rule=\"evenodd\" fill-opacity=\"1\" /><path clip-path=\"url(#clip130)\" d=\"M51.5708 982.67 L81.2466 982.67 L81.2466 986.605 L51.5708 986.605 L51.5708 982.67 Z\" fill=\"#000000\" fill-rule=\"evenodd\" fill-opacity=\"1\" /><path clip-path=\"url(#clip130)\" d=\"M101.339 968.017 Q97.728 968.017 95.8993 971.582 Q94.0937 975.124 94.0937 982.253 Q94.0937 989.36 95.8993 992.924 Q97.728 996.466 101.339 996.466 Q104.973 996.466 106.779 992.924 Q108.608 989.36 108.608 982.253 Q108.608 975.124 106.779 971.582 Q104.973 968.017 101.339 968.017 M101.339 964.313 Q107.149 964.313 110.205 968.92 Q113.283 973.503 113.283 982.253 Q113.283 990.98 110.205 995.586 Q107.149 1000.17 101.339 1000.17 Q95.5289 1000.17 92.4502 995.586 Q89.3947 990.98 89.3947 982.253 Q89.3947 973.503 92.4502 968.92 Q95.5289 964.313 101.339 964.313 Z\" fill=\"#000000\" fill-rule=\"evenodd\" fill-opacity=\"1\" /><path clip-path=\"url(#clip130)\" d=\"M121.501 993.619 L126.385 993.619 L126.385 999.498 L121.501 999.498 L121.501 993.619 Z\" fill=\"#000000\" fill-rule=\"evenodd\" fill-opacity=\"1\" /><path clip-path=\"url(#clip130)\" d=\"M137.381 995.563 L145.019 995.563 L145.019 969.198 L136.709 970.864 L136.709 966.605 L144.973 964.938 L149.649 964.938 L149.649 995.563 L157.288 995.563 L157.288 999.498 L137.381 999.498 L137.381 995.563 Z\" fill=\"#000000\" fill-rule=\"evenodd\" fill-opacity=\"1\" /><path clip-path=\"url(#clip130)\" d=\"M100.112 768.082 Q96.5011 768.082 94.6724 771.646 Q92.8669 775.188 92.8669 782.318 Q92.8669 789.424 94.6724 792.989 Q96.5011 796.53 100.112 796.53 Q103.746 796.53 105.552 792.989 Q107.381 789.424 107.381 782.318 Q107.381 775.188 105.552 771.646 Q103.746 768.082 100.112 768.082 M100.112 764.378 Q105.922 764.378 108.978 768.984 Q112.057 773.568 112.057 782.318 Q112.057 791.044 108.978 795.651 Q105.922 800.234 100.112 800.234 Q94.3021 800.234 91.2234 795.651 Q88.1679 791.044 88.1679 782.318 Q88.1679 773.568 91.2234 768.984 Q94.3021 764.378 100.112 764.378 Z\" fill=\"#000000\" fill-rule=\"evenodd\" fill-opacity=\"1\" /><path clip-path=\"url(#clip130)\" d=\"M120.274 793.683 L125.158 793.683 L125.158 799.563 L120.274 799.563 L120.274 793.683 Z\" fill=\"#000000\" fill-rule=\"evenodd\" fill-opacity=\"1\" /><path clip-path=\"url(#clip130)\" d=\"M145.343 768.082 Q141.732 768.082 139.904 771.646 Q138.098 775.188 138.098 782.318 Q138.098 789.424 139.904 792.989 Q141.732 796.53 145.343 796.53 Q148.978 796.53 150.783 792.989 Q152.612 789.424 152.612 782.318 Q152.612 775.188 150.783 771.646 Q148.978 768.082 145.343 768.082 M145.343 764.378 Q151.154 764.378 154.209 768.984 Q157.288 773.568 157.288 782.318 Q157.288 791.044 154.209 795.651 Q151.154 800.234 145.343 800.234 Q139.533 800.234 136.455 795.651 Q133.399 791.044 133.399 782.318 Q133.399 773.568 136.455 768.984 Q139.533 764.378 145.343 764.378 Z\" fill=\"#000000\" fill-rule=\"evenodd\" fill-opacity=\"1\" /><path clip-path=\"url(#clip130)\" d=\"M101.339 568.146 Q97.728 568.146 95.8993 571.711 Q94.0937 575.252 94.0937 582.382 Q94.0937 589.488 95.8993 593.053 Q97.728 596.595 101.339 596.595 Q104.973 596.595 106.779 593.053 Q108.608 589.488 108.608 582.382 Q108.608 575.252 106.779 571.711 Q104.973 568.146 101.339 568.146 M101.339 564.442 Q107.149 564.442 110.205 569.049 Q113.283 573.632 113.283 582.382 Q113.283 591.109 110.205 595.715 Q107.149 600.299 101.339 600.299 Q95.5289 600.299 92.4502 595.715 Q89.3947 591.109 89.3947 582.382 Q89.3947 573.632 92.4502 569.049 Q95.5289 564.442 101.339 564.442 Z\" fill=\"#000000\" fill-rule=\"evenodd\" fill-opacity=\"1\" /><path clip-path=\"url(#clip130)\" d=\"M121.501 593.748 L126.385 593.748 L126.385 599.627 L121.501 599.627 L121.501 593.748 Z\" fill=\"#000000\" fill-rule=\"evenodd\" fill-opacity=\"1\" /><path clip-path=\"url(#clip130)\" d=\"M137.381 595.692 L145.019 595.692 L145.019 569.326 L136.709 570.993 L136.709 566.734 L144.973 565.067 L149.649 565.067 L149.649 595.692 L157.288 595.692 L157.288 599.627 L137.381 599.627 L137.381 595.692 Z\" fill=\"#000000\" fill-rule=\"evenodd\" fill-opacity=\"1\" /><path clip-path=\"url(#clip130)\" d=\"M101.709 368.21 Q98.0984 368.21 96.2697 371.775 Q94.4641 375.317 94.4641 382.446 Q94.4641 389.553 96.2697 393.118 Q98.0984 396.659 101.709 396.659 Q105.344 396.659 107.149 393.118 Q108.978 389.553 108.978 382.446 Q108.978 375.317 107.149 371.775 Q105.344 368.21 101.709 368.21 M101.709 364.507 Q107.52 364.507 110.575 369.113 Q113.654 373.696 113.654 382.446 Q113.654 391.173 110.575 395.78 Q107.52 400.363 101.709 400.363 Q95.8993 400.363 92.8206 395.78 Q89.7651 391.173 89.7651 382.446 Q89.7651 373.696 92.8206 369.113 Q95.8993 364.507 101.709 364.507 Z\" fill=\"#000000\" fill-rule=\"evenodd\" fill-opacity=\"1\" /><path clip-path=\"url(#clip130)\" d=\"M121.871 393.812 L126.756 393.812 L126.756 399.692 L121.871 399.692 L121.871 393.812 Z\" fill=\"#000000\" fill-rule=\"evenodd\" fill-opacity=\"1\" /><path clip-path=\"url(#clip130)\" d=\"M140.968 395.757 L157.288 395.757 L157.288 399.692 L135.344 399.692 L135.344 395.757 Q138.006 393.002 142.589 388.372 Q147.195 383.72 148.376 382.377 Q150.621 379.854 151.501 378.118 Q152.404 376.358 152.404 374.669 Q152.404 371.914 150.459 370.178 Q148.538 368.442 145.436 368.442 Q143.237 368.442 140.783 369.206 Q138.353 369.97 135.575 371.521 L135.575 366.798 Q138.399 365.664 140.853 365.085 Q143.306 364.507 145.343 364.507 Q150.714 364.507 153.908 367.192 Q157.103 369.877 157.103 374.368 Q157.103 376.497 156.292 378.419 Q155.505 380.317 153.399 382.909 Q152.82 383.581 149.718 386.798 Q146.617 389.993 140.968 395.757 Z\" fill=\"#000000\" fill-rule=\"evenodd\" fill-opacity=\"1\" /><path clip-path=\"url(#clip130)\" d=\"M100.76 168.275 Q97.1493 168.275 95.3206 171.84 Q93.515 175.381 93.515 182.511 Q93.515 189.617 95.3206 193.182 Q97.1493 196.724 100.76 196.724 Q104.395 196.724 106.2 193.182 Q108.029 189.617 108.029 182.511 Q108.029 175.381 106.2 171.84 Q104.395 168.275 100.76 168.275 M100.76 164.571 Q106.571 164.571 109.626 169.178 Q112.705 173.761 112.705 182.511 Q112.705 191.238 109.626 195.844 Q106.571 200.427 100.76 200.427 Q94.9502 200.427 91.8715 195.844 Q88.816 191.238 88.816 182.511 Q88.816 173.761 91.8715 169.178 Q94.9502 164.571 100.76 164.571 Z\" fill=\"#000000\" fill-rule=\"evenodd\" fill-opacity=\"1\" /><path clip-path=\"url(#clip130)\" d=\"M120.922 193.876 L125.807 193.876 L125.807 199.756 L120.922 199.756 L120.922 193.876 Z\" fill=\"#000000\" fill-rule=\"evenodd\" fill-opacity=\"1\" /><path clip-path=\"url(#clip130)\" d=\"M150.158 181.122 Q153.515 181.84 155.39 184.108 Q157.288 186.377 157.288 189.71 Q157.288 194.826 153.769 197.626 Q150.251 200.427 143.769 200.427 Q141.593 200.427 139.279 199.988 Q136.987 199.571 134.533 198.714 L134.533 194.201 Q136.478 195.335 138.793 195.914 Q141.107 196.492 143.631 196.492 Q148.029 196.492 150.32 194.756 Q152.635 193.02 152.635 189.71 Q152.635 186.654 150.482 184.941 Q148.353 183.205 144.533 183.205 L140.506 183.205 L140.506 179.363 L144.718 179.363 Q148.168 179.363 149.996 177.997 Q151.825 176.608 151.825 174.015 Q151.825 171.353 149.927 169.941 Q148.052 168.506 144.533 168.506 Q142.612 168.506 140.413 168.923 Q138.214 169.34 135.575 170.219 L135.575 166.053 Q138.237 165.312 140.552 164.941 Q142.89 164.571 144.95 164.571 Q150.274 164.571 153.376 167.002 Q156.478 169.409 156.478 173.529 Q156.478 176.4 154.834 178.39 Q153.191 180.358 150.158 181.122 Z\" fill=\"#000000\" fill-rule=\"evenodd\" fill-opacity=\"1\" /><polyline clip-path=\"url(#clip132)\" style=\"stroke:#009af9; stroke-linecap:butt; stroke-linejoin:round; stroke-width:16; stroke-opacity:1; fill:none\" points=\"\n",
       "  254.405,499.531 295.981,499.531 337.557,499.531 379.133,499.531 420.71,499.531 462.286,499.531 503.862,499.531 545.438,499.531 587.015,499.531 628.591,499.531 \n",
       "  670.167,499.531 711.743,499.531 753.319,499.531 794.896,499.531 836.472,499.531 878.048,499.531 919.624,499.531 961.2,499.531 1002.78,499.531 1044.35,499.531 \n",
       "  1085.93,499.531 1127.51,499.531 1169.08,499.531 1210.66,499.531 1252.23,499.531 1293.81,499.531 1335.39,499.531 1376.96,499.531 1418.54,499.531 1460.11,499.531 \n",
       "  1501.69,499.531 1543.27,499.531 1584.84,499.531 1626.42,499.531 1668,499.531 1709.57,499.531 1751.15,499.531 1792.72,499.531 1834.3,499.531 1875.88,499.531 \n",
       "  1917.45,499.531 1959.03,499.531 2000.61,499.531 2042.18,499.531 2083.76,499.531 2125.33,499.531 2166.91,499.531 2208.49,499.531 2250.06,499.531 2291.64,499.531 \n",
       "  \n",
       "  \"/>\n",
       "<circle clip-path=\"url(#clip132)\" cx=\"254.405\" cy=\"499.531\" r=\"14\" fill=\"#009af9\" fill-rule=\"evenodd\" fill-opacity=\"1\" stroke=\"#000000\" stroke-opacity=\"1\" stroke-width=\"3.2\"/>\n",
       "<circle clip-path=\"url(#clip132)\" cx=\"295.981\" cy=\"499.531\" r=\"14\" fill=\"#009af9\" fill-rule=\"evenodd\" fill-opacity=\"1\" stroke=\"#000000\" stroke-opacity=\"1\" stroke-width=\"3.2\"/>\n",
       "<circle clip-path=\"url(#clip132)\" cx=\"337.557\" cy=\"499.531\" r=\"14\" fill=\"#009af9\" fill-rule=\"evenodd\" fill-opacity=\"1\" stroke=\"#000000\" stroke-opacity=\"1\" stroke-width=\"3.2\"/>\n",
       "<circle clip-path=\"url(#clip132)\" cx=\"379.133\" cy=\"499.531\" r=\"14\" fill=\"#009af9\" fill-rule=\"evenodd\" fill-opacity=\"1\" stroke=\"#000000\" stroke-opacity=\"1\" stroke-width=\"3.2\"/>\n",
       "<circle clip-path=\"url(#clip132)\" cx=\"420.71\" cy=\"499.531\" r=\"14\" fill=\"#009af9\" fill-rule=\"evenodd\" fill-opacity=\"1\" stroke=\"#000000\" stroke-opacity=\"1\" stroke-width=\"3.2\"/>\n",
       "<circle clip-path=\"url(#clip132)\" cx=\"462.286\" cy=\"499.531\" r=\"14\" fill=\"#009af9\" fill-rule=\"evenodd\" fill-opacity=\"1\" stroke=\"#000000\" stroke-opacity=\"1\" stroke-width=\"3.2\"/>\n",
       "<circle clip-path=\"url(#clip132)\" cx=\"503.862\" cy=\"499.531\" r=\"14\" fill=\"#009af9\" fill-rule=\"evenodd\" fill-opacity=\"1\" stroke=\"#000000\" stroke-opacity=\"1\" stroke-width=\"3.2\"/>\n",
       "<circle clip-path=\"url(#clip132)\" cx=\"545.438\" cy=\"499.531\" r=\"14\" fill=\"#009af9\" fill-rule=\"evenodd\" fill-opacity=\"1\" stroke=\"#000000\" stroke-opacity=\"1\" stroke-width=\"3.2\"/>\n",
       "<circle clip-path=\"url(#clip132)\" cx=\"587.015\" cy=\"499.531\" r=\"14\" fill=\"#009af9\" fill-rule=\"evenodd\" fill-opacity=\"1\" stroke=\"#000000\" stroke-opacity=\"1\" stroke-width=\"3.2\"/>\n",
       "<circle clip-path=\"url(#clip132)\" cx=\"628.591\" cy=\"499.531\" r=\"14\" fill=\"#009af9\" fill-rule=\"evenodd\" fill-opacity=\"1\" stroke=\"#000000\" stroke-opacity=\"1\" stroke-width=\"3.2\"/>\n",
       "<circle clip-path=\"url(#clip132)\" cx=\"670.167\" cy=\"499.531\" r=\"14\" fill=\"#009af9\" fill-rule=\"evenodd\" fill-opacity=\"1\" stroke=\"#000000\" stroke-opacity=\"1\" stroke-width=\"3.2\"/>\n",
       "<circle clip-path=\"url(#clip132)\" cx=\"711.743\" cy=\"499.531\" r=\"14\" fill=\"#009af9\" fill-rule=\"evenodd\" fill-opacity=\"1\" stroke=\"#000000\" stroke-opacity=\"1\" stroke-width=\"3.2\"/>\n",
       "<circle clip-path=\"url(#clip132)\" cx=\"753.319\" cy=\"499.531\" r=\"14\" fill=\"#009af9\" fill-rule=\"evenodd\" fill-opacity=\"1\" stroke=\"#000000\" stroke-opacity=\"1\" stroke-width=\"3.2\"/>\n",
       "<circle clip-path=\"url(#clip132)\" cx=\"794.896\" cy=\"499.531\" r=\"14\" fill=\"#009af9\" fill-rule=\"evenodd\" fill-opacity=\"1\" stroke=\"#000000\" stroke-opacity=\"1\" stroke-width=\"3.2\"/>\n",
       "<circle clip-path=\"url(#clip132)\" cx=\"836.472\" cy=\"499.531\" r=\"14\" fill=\"#009af9\" fill-rule=\"evenodd\" fill-opacity=\"1\" stroke=\"#000000\" stroke-opacity=\"1\" stroke-width=\"3.2\"/>\n",
       "<circle clip-path=\"url(#clip132)\" cx=\"878.048\" cy=\"499.531\" r=\"14\" fill=\"#009af9\" fill-rule=\"evenodd\" fill-opacity=\"1\" stroke=\"#000000\" stroke-opacity=\"1\" stroke-width=\"3.2\"/>\n",
       "<circle clip-path=\"url(#clip132)\" cx=\"919.624\" cy=\"499.531\" r=\"14\" fill=\"#009af9\" fill-rule=\"evenodd\" fill-opacity=\"1\" stroke=\"#000000\" stroke-opacity=\"1\" stroke-width=\"3.2\"/>\n",
       "<circle clip-path=\"url(#clip132)\" cx=\"961.2\" cy=\"499.531\" r=\"14\" fill=\"#009af9\" fill-rule=\"evenodd\" fill-opacity=\"1\" stroke=\"#000000\" stroke-opacity=\"1\" stroke-width=\"3.2\"/>\n",
       "<circle clip-path=\"url(#clip132)\" cx=\"1002.78\" cy=\"499.531\" r=\"14\" fill=\"#009af9\" fill-rule=\"evenodd\" fill-opacity=\"1\" stroke=\"#000000\" stroke-opacity=\"1\" stroke-width=\"3.2\"/>\n",
       "<circle clip-path=\"url(#clip132)\" cx=\"1044.35\" cy=\"499.531\" r=\"14\" fill=\"#009af9\" fill-rule=\"evenodd\" fill-opacity=\"1\" stroke=\"#000000\" stroke-opacity=\"1\" stroke-width=\"3.2\"/>\n",
       "<circle clip-path=\"url(#clip132)\" cx=\"1085.93\" cy=\"499.531\" r=\"14\" fill=\"#009af9\" fill-rule=\"evenodd\" fill-opacity=\"1\" stroke=\"#000000\" stroke-opacity=\"1\" stroke-width=\"3.2\"/>\n",
       "<circle clip-path=\"url(#clip132)\" cx=\"1127.51\" cy=\"499.531\" r=\"14\" fill=\"#009af9\" fill-rule=\"evenodd\" fill-opacity=\"1\" stroke=\"#000000\" stroke-opacity=\"1\" stroke-width=\"3.2\"/>\n",
       "<circle clip-path=\"url(#clip132)\" cx=\"1169.08\" cy=\"499.531\" r=\"14\" fill=\"#009af9\" fill-rule=\"evenodd\" fill-opacity=\"1\" stroke=\"#000000\" stroke-opacity=\"1\" stroke-width=\"3.2\"/>\n",
       "<circle clip-path=\"url(#clip132)\" cx=\"1210.66\" cy=\"499.531\" r=\"14\" fill=\"#009af9\" fill-rule=\"evenodd\" fill-opacity=\"1\" stroke=\"#000000\" stroke-opacity=\"1\" stroke-width=\"3.2\"/>\n",
       "<circle clip-path=\"url(#clip132)\" cx=\"1252.23\" cy=\"499.531\" r=\"14\" fill=\"#009af9\" fill-rule=\"evenodd\" fill-opacity=\"1\" stroke=\"#000000\" stroke-opacity=\"1\" stroke-width=\"3.2\"/>\n",
       "<circle clip-path=\"url(#clip132)\" cx=\"1293.81\" cy=\"499.531\" r=\"14\" fill=\"#009af9\" fill-rule=\"evenodd\" fill-opacity=\"1\" stroke=\"#000000\" stroke-opacity=\"1\" stroke-width=\"3.2\"/>\n",
       "<circle clip-path=\"url(#clip132)\" cx=\"1335.39\" cy=\"499.531\" r=\"14\" fill=\"#009af9\" fill-rule=\"evenodd\" fill-opacity=\"1\" stroke=\"#000000\" stroke-opacity=\"1\" stroke-width=\"3.2\"/>\n",
       "<circle clip-path=\"url(#clip132)\" cx=\"1376.96\" cy=\"499.531\" r=\"14\" fill=\"#009af9\" fill-rule=\"evenodd\" fill-opacity=\"1\" stroke=\"#000000\" stroke-opacity=\"1\" stroke-width=\"3.2\"/>\n",
       "<circle clip-path=\"url(#clip132)\" cx=\"1418.54\" cy=\"499.531\" r=\"14\" fill=\"#009af9\" fill-rule=\"evenodd\" fill-opacity=\"1\" stroke=\"#000000\" stroke-opacity=\"1\" stroke-width=\"3.2\"/>\n",
       "<circle clip-path=\"url(#clip132)\" cx=\"1460.11\" cy=\"499.531\" r=\"14\" fill=\"#009af9\" fill-rule=\"evenodd\" fill-opacity=\"1\" stroke=\"#000000\" stroke-opacity=\"1\" stroke-width=\"3.2\"/>\n",
       "<circle clip-path=\"url(#clip132)\" cx=\"1501.69\" cy=\"499.531\" r=\"14\" fill=\"#009af9\" fill-rule=\"evenodd\" fill-opacity=\"1\" stroke=\"#000000\" stroke-opacity=\"1\" stroke-width=\"3.2\"/>\n",
       "<circle clip-path=\"url(#clip132)\" cx=\"1543.27\" cy=\"499.531\" r=\"14\" fill=\"#009af9\" fill-rule=\"evenodd\" fill-opacity=\"1\" stroke=\"#000000\" stroke-opacity=\"1\" stroke-width=\"3.2\"/>\n",
       "<circle clip-path=\"url(#clip132)\" cx=\"1584.84\" cy=\"499.531\" r=\"14\" fill=\"#009af9\" fill-rule=\"evenodd\" fill-opacity=\"1\" stroke=\"#000000\" stroke-opacity=\"1\" stroke-width=\"3.2\"/>\n",
       "<circle clip-path=\"url(#clip132)\" cx=\"1626.42\" cy=\"499.531\" r=\"14\" fill=\"#009af9\" fill-rule=\"evenodd\" fill-opacity=\"1\" stroke=\"#000000\" stroke-opacity=\"1\" stroke-width=\"3.2\"/>\n",
       "<circle clip-path=\"url(#clip132)\" cx=\"1668\" cy=\"499.531\" r=\"14\" fill=\"#009af9\" fill-rule=\"evenodd\" fill-opacity=\"1\" stroke=\"#000000\" stroke-opacity=\"1\" stroke-width=\"3.2\"/>\n",
       "<circle clip-path=\"url(#clip132)\" cx=\"1709.57\" cy=\"499.531\" r=\"14\" fill=\"#009af9\" fill-rule=\"evenodd\" fill-opacity=\"1\" stroke=\"#000000\" stroke-opacity=\"1\" stroke-width=\"3.2\"/>\n",
       "<circle clip-path=\"url(#clip132)\" cx=\"1751.15\" cy=\"499.531\" r=\"14\" fill=\"#009af9\" fill-rule=\"evenodd\" fill-opacity=\"1\" stroke=\"#000000\" stroke-opacity=\"1\" stroke-width=\"3.2\"/>\n",
       "<circle clip-path=\"url(#clip132)\" cx=\"1792.72\" cy=\"499.531\" r=\"14\" fill=\"#009af9\" fill-rule=\"evenodd\" fill-opacity=\"1\" stroke=\"#000000\" stroke-opacity=\"1\" stroke-width=\"3.2\"/>\n",
       "<circle clip-path=\"url(#clip132)\" cx=\"1834.3\" cy=\"499.531\" r=\"14\" fill=\"#009af9\" fill-rule=\"evenodd\" fill-opacity=\"1\" stroke=\"#000000\" stroke-opacity=\"1\" stroke-width=\"3.2\"/>\n",
       "<circle clip-path=\"url(#clip132)\" cx=\"1875.88\" cy=\"499.531\" r=\"14\" fill=\"#009af9\" fill-rule=\"evenodd\" fill-opacity=\"1\" stroke=\"#000000\" stroke-opacity=\"1\" stroke-width=\"3.2\"/>\n",
       "<circle clip-path=\"url(#clip132)\" cx=\"1917.45\" cy=\"499.531\" r=\"14\" fill=\"#009af9\" fill-rule=\"evenodd\" fill-opacity=\"1\" stroke=\"#000000\" stroke-opacity=\"1\" stroke-width=\"3.2\"/>\n",
       "<circle clip-path=\"url(#clip132)\" cx=\"1959.03\" cy=\"499.531\" r=\"14\" fill=\"#009af9\" fill-rule=\"evenodd\" fill-opacity=\"1\" stroke=\"#000000\" stroke-opacity=\"1\" stroke-width=\"3.2\"/>\n",
       "<circle clip-path=\"url(#clip132)\" cx=\"2000.61\" cy=\"499.531\" r=\"14\" fill=\"#009af9\" fill-rule=\"evenodd\" fill-opacity=\"1\" stroke=\"#000000\" stroke-opacity=\"1\" stroke-width=\"3.2\"/>\n",
       "<circle clip-path=\"url(#clip132)\" cx=\"2042.18\" cy=\"499.531\" r=\"14\" fill=\"#009af9\" fill-rule=\"evenodd\" fill-opacity=\"1\" stroke=\"#000000\" stroke-opacity=\"1\" stroke-width=\"3.2\"/>\n",
       "<circle clip-path=\"url(#clip132)\" cx=\"2083.76\" cy=\"499.531\" r=\"14\" fill=\"#009af9\" fill-rule=\"evenodd\" fill-opacity=\"1\" stroke=\"#000000\" stroke-opacity=\"1\" stroke-width=\"3.2\"/>\n",
       "<circle clip-path=\"url(#clip132)\" cx=\"2125.33\" cy=\"499.531\" r=\"14\" fill=\"#009af9\" fill-rule=\"evenodd\" fill-opacity=\"1\" stroke=\"#000000\" stroke-opacity=\"1\" stroke-width=\"3.2\"/>\n",
       "<circle clip-path=\"url(#clip132)\" cx=\"2166.91\" cy=\"499.531\" r=\"14\" fill=\"#009af9\" fill-rule=\"evenodd\" fill-opacity=\"1\" stroke=\"#000000\" stroke-opacity=\"1\" stroke-width=\"3.2\"/>\n",
       "<circle clip-path=\"url(#clip132)\" cx=\"2208.49\" cy=\"499.531\" r=\"14\" fill=\"#009af9\" fill-rule=\"evenodd\" fill-opacity=\"1\" stroke=\"#000000\" stroke-opacity=\"1\" stroke-width=\"3.2\"/>\n",
       "<circle clip-path=\"url(#clip132)\" cx=\"2250.06\" cy=\"499.531\" r=\"14\" fill=\"#009af9\" fill-rule=\"evenodd\" fill-opacity=\"1\" stroke=\"#000000\" stroke-opacity=\"1\" stroke-width=\"3.2\"/>\n",
       "<circle clip-path=\"url(#clip132)\" cx=\"2291.64\" cy=\"499.531\" r=\"14\" fill=\"#009af9\" fill-rule=\"evenodd\" fill-opacity=\"1\" stroke=\"#000000\" stroke-opacity=\"1\" stroke-width=\"3.2\"/>\n",
       "<polyline clip-path=\"url(#clip132)\" style=\"stroke:#e26f46; stroke-linecap:butt; stroke-linejoin:round; stroke-width:16; stroke-opacity:1; fill:none\" points=\"\n",
       "  254.405,1262.32 295.981,1242.73 337.557,1223.14 379.133,1203.54 420.71,1183.95 462.286,1164.36 503.862,1144.76 545.438,1125.17 587.015,1105.58 628.591,1085.98 \n",
       "  670.167,1066.39 711.743,1046.8 753.319,1027.2 794.896,1007.61 836.472,988.015 878.048,968.421 919.624,948.828 961.2,929.234 1002.78,909.641 1044.35,890.047 \n",
       "  1085.93,870.454 1127.51,850.86 1169.08,831.267 1210.66,811.673 1252.23,792.08 1293.81,772.486 1335.39,752.893 1376.96,733.299 1418.54,713.705 1460.11,694.112 \n",
       "  1501.69,674.518 1543.27,654.925 1584.84,635.331 1626.42,615.738 1668,596.144 1709.57,576.551 1751.15,556.957 1792.72,537.364 1834.3,517.77 1875.88,498.177 \n",
       "  1917.45,478.583 1959.03,458.99 2000.61,439.396 2042.18,419.803 2083.76,400.209 2125.33,380.616 2166.91,361.022 2208.49,341.429 2250.06,321.835 2291.64,302.241 \n",
       "  \n",
       "  \"/>\n",
       "<path clip-path=\"url(#clip132)\" d=\"M238.405 1246.32 L238.405 1278.32 L270.405 1278.32 L270.405 1246.32 L238.405 1246.32 Z\" fill=\"#e26f46\" fill-rule=\"evenodd\" fill-opacity=\"1\" stroke=\"#000000\" stroke-opacity=\"1\" stroke-width=\"3.2\"/>\n",
       "<path clip-path=\"url(#clip132)\" d=\"M279.981 1226.73 L279.981 1258.73 L311.981 1258.73 L311.981 1226.73 L279.981 1226.73 Z\" fill=\"#e26f46\" fill-rule=\"evenodd\" fill-opacity=\"1\" stroke=\"#000000\" stroke-opacity=\"1\" stroke-width=\"3.2\"/>\n",
       "<path clip-path=\"url(#clip132)\" d=\"M321.557 1207.14 L321.557 1239.14 L353.557 1239.14 L353.557 1207.14 L321.557 1207.14 Z\" fill=\"#e26f46\" fill-rule=\"evenodd\" fill-opacity=\"1\" stroke=\"#000000\" stroke-opacity=\"1\" stroke-width=\"3.2\"/>\n",
       "<path clip-path=\"url(#clip132)\" d=\"M363.133 1187.54 L363.133 1219.54 L395.133 1219.54 L395.133 1187.54 L363.133 1187.54 Z\" fill=\"#e26f46\" fill-rule=\"evenodd\" fill-opacity=\"1\" stroke=\"#000000\" stroke-opacity=\"1\" stroke-width=\"3.2\"/>\n",
       "<path clip-path=\"url(#clip132)\" d=\"M404.71 1167.95 L404.71 1199.95 L436.71 1199.95 L436.71 1167.95 L404.71 1167.95 Z\" fill=\"#e26f46\" fill-rule=\"evenodd\" fill-opacity=\"1\" stroke=\"#000000\" stroke-opacity=\"1\" stroke-width=\"3.2\"/>\n",
       "<path clip-path=\"url(#clip132)\" d=\"M446.286 1148.36 L446.286 1180.36 L478.286 1180.36 L478.286 1148.36 L446.286 1148.36 Z\" fill=\"#e26f46\" fill-rule=\"evenodd\" fill-opacity=\"1\" stroke=\"#000000\" stroke-opacity=\"1\" stroke-width=\"3.2\"/>\n",
       "<path clip-path=\"url(#clip132)\" d=\"M487.862 1128.76 L487.862 1160.76 L519.862 1160.76 L519.862 1128.76 L487.862 1128.76 Z\" fill=\"#e26f46\" fill-rule=\"evenodd\" fill-opacity=\"1\" stroke=\"#000000\" stroke-opacity=\"1\" stroke-width=\"3.2\"/>\n",
       "<path clip-path=\"url(#clip132)\" d=\"M529.438 1109.17 L529.438 1141.17 L561.438 1141.17 L561.438 1109.17 L529.438 1109.17 Z\" fill=\"#e26f46\" fill-rule=\"evenodd\" fill-opacity=\"1\" stroke=\"#000000\" stroke-opacity=\"1\" stroke-width=\"3.2\"/>\n",
       "<path clip-path=\"url(#clip132)\" d=\"M571.015 1089.58 L571.015 1121.58 L603.015 1121.58 L603.015 1089.58 L571.015 1089.58 Z\" fill=\"#e26f46\" fill-rule=\"evenodd\" fill-opacity=\"1\" stroke=\"#000000\" stroke-opacity=\"1\" stroke-width=\"3.2\"/>\n",
       "<path clip-path=\"url(#clip132)\" d=\"M612.591 1069.98 L612.591 1101.98 L644.591 1101.98 L644.591 1069.98 L612.591 1069.98 Z\" fill=\"#e26f46\" fill-rule=\"evenodd\" fill-opacity=\"1\" stroke=\"#000000\" stroke-opacity=\"1\" stroke-width=\"3.2\"/>\n",
       "<path clip-path=\"url(#clip132)\" d=\"M654.167 1050.39 L654.167 1082.39 L686.167 1082.39 L686.167 1050.39 L654.167 1050.39 Z\" fill=\"#e26f46\" fill-rule=\"evenodd\" fill-opacity=\"1\" stroke=\"#000000\" stroke-opacity=\"1\" stroke-width=\"3.2\"/>\n",
       "<path clip-path=\"url(#clip132)\" d=\"M695.743 1030.8 L695.743 1062.8 L727.743 1062.8 L727.743 1030.8 L695.743 1030.8 Z\" fill=\"#e26f46\" fill-rule=\"evenodd\" fill-opacity=\"1\" stroke=\"#000000\" stroke-opacity=\"1\" stroke-width=\"3.2\"/>\n",
       "<path clip-path=\"url(#clip132)\" d=\"M737.319 1011.2 L737.319 1043.2 L769.319 1043.2 L769.319 1011.2 L737.319 1011.2 Z\" fill=\"#e26f46\" fill-rule=\"evenodd\" fill-opacity=\"1\" stroke=\"#000000\" stroke-opacity=\"1\" stroke-width=\"3.2\"/>\n",
       "<path clip-path=\"url(#clip132)\" d=\"M778.896 991.608 L778.896 1023.61 L810.896 1023.61 L810.896 991.608 L778.896 991.608 Z\" fill=\"#e26f46\" fill-rule=\"evenodd\" fill-opacity=\"1\" stroke=\"#000000\" stroke-opacity=\"1\" stroke-width=\"3.2\"/>\n",
       "<path clip-path=\"url(#clip132)\" d=\"M820.472 972.015 L820.472 1004.01 L852.472 1004.01 L852.472 972.015 L820.472 972.015 Z\" fill=\"#e26f46\" fill-rule=\"evenodd\" fill-opacity=\"1\" stroke=\"#000000\" stroke-opacity=\"1\" stroke-width=\"3.2\"/>\n",
       "<path clip-path=\"url(#clip132)\" d=\"M862.048 952.421 L862.048 984.421 L894.048 984.421 L894.048 952.421 L862.048 952.421 Z\" fill=\"#e26f46\" fill-rule=\"evenodd\" fill-opacity=\"1\" stroke=\"#000000\" stroke-opacity=\"1\" stroke-width=\"3.2\"/>\n",
       "<path clip-path=\"url(#clip132)\" d=\"M903.624 932.828 L903.624 964.828 L935.624 964.828 L935.624 932.828 L903.624 932.828 Z\" fill=\"#e26f46\" fill-rule=\"evenodd\" fill-opacity=\"1\" stroke=\"#000000\" stroke-opacity=\"1\" stroke-width=\"3.2\"/>\n",
       "<path clip-path=\"url(#clip132)\" d=\"M945.2 913.234 L945.2 945.234 L977.2 945.234 L977.2 913.234 L945.2 913.234 Z\" fill=\"#e26f46\" fill-rule=\"evenodd\" fill-opacity=\"1\" stroke=\"#000000\" stroke-opacity=\"1\" stroke-width=\"3.2\"/>\n",
       "<path clip-path=\"url(#clip132)\" d=\"M986.777 893.641 L986.777 925.641 L1018.78 925.641 L1018.78 893.641 L986.777 893.641 Z\" fill=\"#e26f46\" fill-rule=\"evenodd\" fill-opacity=\"1\" stroke=\"#000000\" stroke-opacity=\"1\" stroke-width=\"3.2\"/>\n",
       "<path clip-path=\"url(#clip132)\" d=\"M1028.35 874.047 L1028.35 906.047 L1060.35 906.047 L1060.35 874.047 L1028.35 874.047 Z\" fill=\"#e26f46\" fill-rule=\"evenodd\" fill-opacity=\"1\" stroke=\"#000000\" stroke-opacity=\"1\" stroke-width=\"3.2\"/>\n",
       "<path clip-path=\"url(#clip132)\" d=\"M1069.93 854.454 L1069.93 886.454 L1101.93 886.454 L1101.93 854.454 L1069.93 854.454 Z\" fill=\"#e26f46\" fill-rule=\"evenodd\" fill-opacity=\"1\" stroke=\"#000000\" stroke-opacity=\"1\" stroke-width=\"3.2\"/>\n",
       "<path clip-path=\"url(#clip132)\" d=\"M1111.51 834.86 L1111.51 866.86 L1143.51 866.86 L1143.51 834.86 L1111.51 834.86 Z\" fill=\"#e26f46\" fill-rule=\"evenodd\" fill-opacity=\"1\" stroke=\"#000000\" stroke-opacity=\"1\" stroke-width=\"3.2\"/>\n",
       "<path clip-path=\"url(#clip132)\" d=\"M1153.08 815.267 L1153.08 847.267 L1185.08 847.267 L1185.08 815.267 L1153.08 815.267 Z\" fill=\"#e26f46\" fill-rule=\"evenodd\" fill-opacity=\"1\" stroke=\"#000000\" stroke-opacity=\"1\" stroke-width=\"3.2\"/>\n",
       "<path clip-path=\"url(#clip132)\" d=\"M1194.66 795.673 L1194.66 827.673 L1226.66 827.673 L1226.66 795.673 L1194.66 795.673 Z\" fill=\"#e26f46\" fill-rule=\"evenodd\" fill-opacity=\"1\" stroke=\"#000000\" stroke-opacity=\"1\" stroke-width=\"3.2\"/>\n",
       "<path clip-path=\"url(#clip132)\" d=\"M1236.23 776.08 L1236.23 808.08 L1268.23 808.08 L1268.23 776.08 L1236.23 776.08 Z\" fill=\"#e26f46\" fill-rule=\"evenodd\" fill-opacity=\"1\" stroke=\"#000000\" stroke-opacity=\"1\" stroke-width=\"3.2\"/>\n",
       "<path clip-path=\"url(#clip132)\" d=\"M1277.81 756.486 L1277.81 788.486 L1309.81 788.486 L1309.81 756.486 L1277.81 756.486 Z\" fill=\"#e26f46\" fill-rule=\"evenodd\" fill-opacity=\"1\" stroke=\"#000000\" stroke-opacity=\"1\" stroke-width=\"3.2\"/>\n",
       "<path clip-path=\"url(#clip132)\" d=\"M1319.39 736.893 L1319.39 768.893 L1351.39 768.893 L1351.39 736.893 L1319.39 736.893 Z\" fill=\"#e26f46\" fill-rule=\"evenodd\" fill-opacity=\"1\" stroke=\"#000000\" stroke-opacity=\"1\" stroke-width=\"3.2\"/>\n",
       "<path clip-path=\"url(#clip132)\" d=\"M1360.96 717.299 L1360.96 749.299 L1392.96 749.299 L1392.96 717.299 L1360.96 717.299 Z\" fill=\"#e26f46\" fill-rule=\"evenodd\" fill-opacity=\"1\" stroke=\"#000000\" stroke-opacity=\"1\" stroke-width=\"3.2\"/>\n",
       "<path clip-path=\"url(#clip132)\" d=\"M1402.54 697.705 L1402.54 729.705 L1434.54 729.705 L1434.54 697.705 L1402.54 697.705 Z\" fill=\"#e26f46\" fill-rule=\"evenodd\" fill-opacity=\"1\" stroke=\"#000000\" stroke-opacity=\"1\" stroke-width=\"3.2\"/>\n",
       "<path clip-path=\"url(#clip132)\" d=\"M1444.11 678.112 L1444.11 710.112 L1476.11 710.112 L1476.11 678.112 L1444.11 678.112 Z\" fill=\"#e26f46\" fill-rule=\"evenodd\" fill-opacity=\"1\" stroke=\"#000000\" stroke-opacity=\"1\" stroke-width=\"3.2\"/>\n",
       "<path clip-path=\"url(#clip132)\" d=\"M1485.69 658.518 L1485.69 690.518 L1517.69 690.518 L1517.69 658.518 L1485.69 658.518 Z\" fill=\"#e26f46\" fill-rule=\"evenodd\" fill-opacity=\"1\" stroke=\"#000000\" stroke-opacity=\"1\" stroke-width=\"3.2\"/>\n",
       "<path clip-path=\"url(#clip132)\" d=\"M1527.27 638.925 L1527.27 670.925 L1559.27 670.925 L1559.27 638.925 L1527.27 638.925 Z\" fill=\"#e26f46\" fill-rule=\"evenodd\" fill-opacity=\"1\" stroke=\"#000000\" stroke-opacity=\"1\" stroke-width=\"3.2\"/>\n",
       "<path clip-path=\"url(#clip132)\" d=\"M1568.84 619.331 L1568.84 651.331 L1600.84 651.331 L1600.84 619.331 L1568.84 619.331 Z\" fill=\"#e26f46\" fill-rule=\"evenodd\" fill-opacity=\"1\" stroke=\"#000000\" stroke-opacity=\"1\" stroke-width=\"3.2\"/>\n",
       "<path clip-path=\"url(#clip132)\" d=\"M1610.42 599.738 L1610.42 631.738 L1642.42 631.738 L1642.42 599.738 L1610.42 599.738 Z\" fill=\"#e26f46\" fill-rule=\"evenodd\" fill-opacity=\"1\" stroke=\"#000000\" stroke-opacity=\"1\" stroke-width=\"3.2\"/>\n",
       "<path clip-path=\"url(#clip132)\" d=\"M1652 580.144 L1652 612.144 L1684 612.144 L1684 580.144 L1652 580.144 Z\" fill=\"#e26f46\" fill-rule=\"evenodd\" fill-opacity=\"1\" stroke=\"#000000\" stroke-opacity=\"1\" stroke-width=\"3.2\"/>\n",
       "<path clip-path=\"url(#clip132)\" d=\"M1693.57 560.551 L1693.57 592.551 L1725.57 592.551 L1725.57 560.551 L1693.57 560.551 Z\" fill=\"#e26f46\" fill-rule=\"evenodd\" fill-opacity=\"1\" stroke=\"#000000\" stroke-opacity=\"1\" stroke-width=\"3.2\"/>\n",
       "<path clip-path=\"url(#clip132)\" d=\"M1735.15 540.957 L1735.15 572.957 L1767.15 572.957 L1767.15 540.957 L1735.15 540.957 Z\" fill=\"#e26f46\" fill-rule=\"evenodd\" fill-opacity=\"1\" stroke=\"#000000\" stroke-opacity=\"1\" stroke-width=\"3.2\"/>\n",
       "<path clip-path=\"url(#clip132)\" d=\"M1776.72 521.364 L1776.72 553.364 L1808.72 553.364 L1808.72 521.364 L1776.72 521.364 Z\" fill=\"#e26f46\" fill-rule=\"evenodd\" fill-opacity=\"1\" stroke=\"#000000\" stroke-opacity=\"1\" stroke-width=\"3.2\"/>\n",
       "<path clip-path=\"url(#clip132)\" d=\"M1818.3 501.77 L1818.3 533.77 L1850.3 533.77 L1850.3 501.77 L1818.3 501.77 Z\" fill=\"#e26f46\" fill-rule=\"evenodd\" fill-opacity=\"1\" stroke=\"#000000\" stroke-opacity=\"1\" stroke-width=\"3.2\"/>\n",
       "<path clip-path=\"url(#clip132)\" d=\"M1859.88 482.177 L1859.88 514.177 L1891.88 514.177 L1891.88 482.177 L1859.88 482.177 Z\" fill=\"#e26f46\" fill-rule=\"evenodd\" fill-opacity=\"1\" stroke=\"#000000\" stroke-opacity=\"1\" stroke-width=\"3.2\"/>\n",
       "<path clip-path=\"url(#clip132)\" d=\"M1901.45 462.583 L1901.45 494.583 L1933.45 494.583 L1933.45 462.583 L1901.45 462.583 Z\" fill=\"#e26f46\" fill-rule=\"evenodd\" fill-opacity=\"1\" stroke=\"#000000\" stroke-opacity=\"1\" stroke-width=\"3.2\"/>\n",
       "<path clip-path=\"url(#clip132)\" d=\"M1943.03 442.99 L1943.03 474.99 L1975.03 474.99 L1975.03 442.99 L1943.03 442.99 Z\" fill=\"#e26f46\" fill-rule=\"evenodd\" fill-opacity=\"1\" stroke=\"#000000\" stroke-opacity=\"1\" stroke-width=\"3.2\"/>\n",
       "<path clip-path=\"url(#clip132)\" d=\"M1984.61 423.396 L1984.61 455.396 L2016.61 455.396 L2016.61 423.396 L1984.61 423.396 Z\" fill=\"#e26f46\" fill-rule=\"evenodd\" fill-opacity=\"1\" stroke=\"#000000\" stroke-opacity=\"1\" stroke-width=\"3.2\"/>\n",
       "<path clip-path=\"url(#clip132)\" d=\"M2026.18 403.803 L2026.18 435.803 L2058.18 435.803 L2058.18 403.803 L2026.18 403.803 Z\" fill=\"#e26f46\" fill-rule=\"evenodd\" fill-opacity=\"1\" stroke=\"#000000\" stroke-opacity=\"1\" stroke-width=\"3.2\"/>\n",
       "<path clip-path=\"url(#clip132)\" d=\"M2067.76 384.209 L2067.76 416.209 L2099.76 416.209 L2099.76 384.209 L2067.76 384.209 Z\" fill=\"#e26f46\" fill-rule=\"evenodd\" fill-opacity=\"1\" stroke=\"#000000\" stroke-opacity=\"1\" stroke-width=\"3.2\"/>\n",
       "<path clip-path=\"url(#clip132)\" d=\"M2109.33 364.616 L2109.33 396.616 L2141.33 396.616 L2141.33 364.616 L2109.33 364.616 Z\" fill=\"#e26f46\" fill-rule=\"evenodd\" fill-opacity=\"1\" stroke=\"#000000\" stroke-opacity=\"1\" stroke-width=\"3.2\"/>\n",
       "<path clip-path=\"url(#clip132)\" d=\"M2150.91 345.022 L2150.91 377.022 L2182.91 377.022 L2182.91 345.022 L2150.91 345.022 Z\" fill=\"#e26f46\" fill-rule=\"evenodd\" fill-opacity=\"1\" stroke=\"#000000\" stroke-opacity=\"1\" stroke-width=\"3.2\"/>\n",
       "<path clip-path=\"url(#clip132)\" d=\"M2192.49 325.429 L2192.49 357.429 L2224.49 357.429 L2224.49 325.429 L2192.49 325.429 Z\" fill=\"#e26f46\" fill-rule=\"evenodd\" fill-opacity=\"1\" stroke=\"#000000\" stroke-opacity=\"1\" stroke-width=\"3.2\"/>\n",
       "<path clip-path=\"url(#clip132)\" d=\"M2234.06 305.835 L2234.06 337.835 L2266.06 337.835 L2266.06 305.835 L2234.06 305.835 Z\" fill=\"#e26f46\" fill-rule=\"evenodd\" fill-opacity=\"1\" stroke=\"#000000\" stroke-opacity=\"1\" stroke-width=\"3.2\"/>\n",
       "<path clip-path=\"url(#clip132)\" d=\"M2275.64 286.241 L2275.64 318.241 L2307.64 318.241 L2307.64 286.241 L2275.64 286.241 Z\" fill=\"#e26f46\" fill-rule=\"evenodd\" fill-opacity=\"1\" stroke=\"#000000\" stroke-opacity=\"1\" stroke-width=\"3.2\"/>\n",
       "<polyline clip-path=\"url(#clip132)\" style=\"stroke:#3da44d; stroke-linecap:butt; stroke-linejoin:round; stroke-width:16; stroke-opacity:1; fill:none\" points=\"\n",
       "  254.405,186.865 295.981,259.773 337.557,329.644 379.133,396.476 420.71,460.271 462.286,521.028 503.862,578.747 545.438,633.428 587.015,685.072 628.591,733.677 \n",
       "  670.167,779.245 711.743,821.775 753.319,861.267 794.896,897.721 836.472,931.137 878.048,961.516 919.624,988.856 961.2,1013.16 1002.78,1034.42 1044.35,1052.65 \n",
       "  1085.93,1067.84 1127.51,1079.99 1169.08,1089.11 1210.66,1095.18 1252.23,1098.22 1293.81,1098.22 1335.39,1095.18 1376.96,1089.11 1418.54,1079.99 1460.11,1067.84 \n",
       "  1501.69,1052.65 1543.27,1034.42 1584.84,1013.16 1626.42,988.856 1668,961.516 1709.57,931.137 1751.15,897.721 1792.72,861.267 1834.3,821.775 1875.88,779.245 \n",
       "  1917.45,733.677 1959.03,685.072 2000.61,633.428 2042.18,578.747 2083.76,521.028 2125.33,460.271 2166.91,396.476 2208.49,329.644 2250.06,259.773 2291.64,186.865 \n",
       "  \n",
       "  \"/>\n",
       "<path clip-path=\"url(#clip132)\" d=\"M254.405 170.865 L250.645 181.681 L239.189 181.921 L248.325 188.849 L244.997 199.809 L254.405 193.265 L263.813 199.809 L260.485 188.849 L269.621 181.921 L258.165 181.681 L254.405 170.865 Z\" fill=\"#3da44d\" fill-rule=\"evenodd\" fill-opacity=\"1\" stroke=\"#000000\" stroke-opacity=\"1\" stroke-width=\"3.2\"/>\n",
       "<path clip-path=\"url(#clip132)\" d=\"M295.981 243.773 L292.221 254.589 L280.765 254.829 L289.901 261.757 L286.573 272.717 L295.981 266.173 L305.389 272.717 L302.061 261.757 L311.197 254.829 L299.741 254.589 L295.981 243.773 Z\" fill=\"#3da44d\" fill-rule=\"evenodd\" fill-opacity=\"1\" stroke=\"#000000\" stroke-opacity=\"1\" stroke-width=\"3.2\"/>\n",
       "<path clip-path=\"url(#clip132)\" d=\"M337.557 313.644 L333.797 324.46 L322.341 324.7 L331.477 331.628 L328.149 342.588 L337.557 336.044 L346.965 342.588 L343.637 331.628 L352.773 324.7 L341.317 324.46 L337.557 313.644 Z\" fill=\"#3da44d\" fill-rule=\"evenodd\" fill-opacity=\"1\" stroke=\"#000000\" stroke-opacity=\"1\" stroke-width=\"3.2\"/>\n",
       "<path clip-path=\"url(#clip132)\" d=\"M379.133 380.476 L375.373 391.292 L363.917 391.532 L373.053 398.46 L369.725 409.42 L379.133 402.876 L388.541 409.42 L385.213 398.46 L394.349 391.532 L382.893 391.292 L379.133 380.476 Z\" fill=\"#3da44d\" fill-rule=\"evenodd\" fill-opacity=\"1\" stroke=\"#000000\" stroke-opacity=\"1\" stroke-width=\"3.2\"/>\n",
       "<path clip-path=\"url(#clip132)\" d=\"M420.71 444.271 L416.95 455.087 L405.494 455.327 L414.63 462.255 L411.302 473.215 L420.71 466.671 L430.118 473.215 L426.79 462.255 L435.926 455.327 L424.47 455.087 L420.71 444.271 Z\" fill=\"#3da44d\" fill-rule=\"evenodd\" fill-opacity=\"1\" stroke=\"#000000\" stroke-opacity=\"1\" stroke-width=\"3.2\"/>\n",
       "<path clip-path=\"url(#clip132)\" d=\"M462.286 505.028 L458.526 515.844 L447.07 516.084 L456.206 523.012 L452.878 533.972 L462.286 527.428 L471.694 533.972 L468.366 523.012 L477.502 516.084 L466.046 515.844 L462.286 505.028 Z\" fill=\"#3da44d\" fill-rule=\"evenodd\" fill-opacity=\"1\" stroke=\"#000000\" stroke-opacity=\"1\" stroke-width=\"3.2\"/>\n",
       "<path clip-path=\"url(#clip132)\" d=\"M503.862 562.747 L500.102 573.563 L488.646 573.803 L497.782 580.731 L494.454 591.691 L503.862 585.147 L513.27 591.691 L509.942 580.731 L519.078 573.803 L507.622 573.563 L503.862 562.747 Z\" fill=\"#3da44d\" fill-rule=\"evenodd\" fill-opacity=\"1\" stroke=\"#000000\" stroke-opacity=\"1\" stroke-width=\"3.2\"/>\n",
       "<path clip-path=\"url(#clip132)\" d=\"M545.438 617.428 L541.678 628.244 L530.222 628.484 L539.358 635.412 L536.03 646.372 L545.438 639.828 L554.846 646.372 L551.518 635.412 L560.654 628.484 L549.198 628.244 L545.438 617.428 Z\" fill=\"#3da44d\" fill-rule=\"evenodd\" fill-opacity=\"1\" stroke=\"#000000\" stroke-opacity=\"1\" stroke-width=\"3.2\"/>\n",
       "<path clip-path=\"url(#clip132)\" d=\"M587.015 669.072 L583.255 679.888 L571.799 680.128 L580.935 687.056 L577.607 698.016 L587.015 691.472 L596.423 698.016 L593.095 687.056 L602.231 680.128 L590.775 679.888 L587.015 669.072 Z\" fill=\"#3da44d\" fill-rule=\"evenodd\" fill-opacity=\"1\" stroke=\"#000000\" stroke-opacity=\"1\" stroke-width=\"3.2\"/>\n",
       "<path clip-path=\"url(#clip132)\" d=\"M628.591 717.677 L624.831 728.493 L613.375 728.733 L622.511 735.661 L619.183 746.621 L628.591 740.077 L637.999 746.621 L634.671 735.661 L643.807 728.733 L632.351 728.493 L628.591 717.677 Z\" fill=\"#3da44d\" fill-rule=\"evenodd\" fill-opacity=\"1\" stroke=\"#000000\" stroke-opacity=\"1\" stroke-width=\"3.2\"/>\n",
       "<path clip-path=\"url(#clip132)\" d=\"M670.167 763.245 L666.407 774.061 L654.951 774.301 L664.087 781.229 L660.759 792.189 L670.167 785.645 L679.575 792.189 L676.247 781.229 L685.383 774.301 L673.927 774.061 L670.167 763.245 Z\" fill=\"#3da44d\" fill-rule=\"evenodd\" fill-opacity=\"1\" stroke=\"#000000\" stroke-opacity=\"1\" stroke-width=\"3.2\"/>\n",
       "<path clip-path=\"url(#clip132)\" d=\"M711.743 805.775 L707.983 816.591 L696.527 816.831 L705.663 823.759 L702.335 834.719 L711.743 828.175 L721.151 834.719 L717.823 823.759 L726.959 816.831 L715.503 816.591 L711.743 805.775 Z\" fill=\"#3da44d\" fill-rule=\"evenodd\" fill-opacity=\"1\" stroke=\"#000000\" stroke-opacity=\"1\" stroke-width=\"3.2\"/>\n",
       "<path clip-path=\"url(#clip132)\" d=\"M753.319 845.267 L749.559 856.083 L738.103 856.323 L747.239 863.251 L743.911 874.211 L753.319 867.667 L762.727 874.211 L759.399 863.251 L768.535 856.323 L757.079 856.083 L753.319 845.267 Z\" fill=\"#3da44d\" fill-rule=\"evenodd\" fill-opacity=\"1\" stroke=\"#000000\" stroke-opacity=\"1\" stroke-width=\"3.2\"/>\n",
       "<path clip-path=\"url(#clip132)\" d=\"M794.896 881.721 L791.136 892.537 L779.68 892.777 L788.816 899.705 L785.488 910.665 L794.896 904.121 L804.304 910.665 L800.976 899.705 L810.112 892.777 L798.656 892.537 L794.896 881.721 Z\" fill=\"#3da44d\" fill-rule=\"evenodd\" fill-opacity=\"1\" stroke=\"#000000\" stroke-opacity=\"1\" stroke-width=\"3.2\"/>\n",
       "<path clip-path=\"url(#clip132)\" d=\"M836.472 915.137 L832.712 925.953 L821.256 926.193 L830.392 933.121 L827.064 944.081 L836.472 937.537 L845.88 944.081 L842.552 933.121 L851.688 926.193 L840.232 925.953 L836.472 915.137 Z\" fill=\"#3da44d\" fill-rule=\"evenodd\" fill-opacity=\"1\" stroke=\"#000000\" stroke-opacity=\"1\" stroke-width=\"3.2\"/>\n",
       "<path clip-path=\"url(#clip132)\" d=\"M878.048 945.516 L874.288 956.332 L862.832 956.572 L871.968 963.5 L868.64 974.46 L878.048 967.916 L887.456 974.46 L884.128 963.5 L893.264 956.572 L881.808 956.332 L878.048 945.516 Z\" fill=\"#3da44d\" fill-rule=\"evenodd\" fill-opacity=\"1\" stroke=\"#000000\" stroke-opacity=\"1\" stroke-width=\"3.2\"/>\n",
       "<path clip-path=\"url(#clip132)\" d=\"M919.624 972.856 L915.864 983.672 L904.408 983.912 L913.544 990.84 L910.216 1001.8 L919.624 995.256 L929.032 1001.8 L925.704 990.84 L934.84 983.912 L923.384 983.672 L919.624 972.856 Z\" fill=\"#3da44d\" fill-rule=\"evenodd\" fill-opacity=\"1\" stroke=\"#000000\" stroke-opacity=\"1\" stroke-width=\"3.2\"/>\n",
       "<path clip-path=\"url(#clip132)\" d=\"M961.2 997.159 L957.44 1007.98 L945.984 1008.22 L955.12 1015.14 L951.792 1026.1 L961.2 1019.56 L970.608 1026.1 L967.28 1015.14 L976.416 1008.22 L964.96 1007.98 L961.2 997.159 Z\" fill=\"#3da44d\" fill-rule=\"evenodd\" fill-opacity=\"1\" stroke=\"#000000\" stroke-opacity=\"1\" stroke-width=\"3.2\"/>\n",
       "<path clip-path=\"url(#clip132)\" d=\"M1002.78 1018.42 L999.017 1029.24 L987.561 1029.48 L996.697 1036.41 L993.369 1047.37 L1002.78 1040.82 L1012.18 1047.37 L1008.86 1036.41 L1017.99 1029.48 L1006.54 1029.24 L1002.78 1018.42 Z\" fill=\"#3da44d\" fill-rule=\"evenodd\" fill-opacity=\"1\" stroke=\"#000000\" stroke-opacity=\"1\" stroke-width=\"3.2\"/>\n",
       "<path clip-path=\"url(#clip132)\" d=\"M1044.35 1036.65 L1040.59 1047.47 L1029.14 1047.71 L1038.27 1054.64 L1034.94 1065.6 L1044.35 1059.05 L1053.76 1065.6 L1050.43 1054.64 L1059.57 1047.71 L1048.11 1047.47 L1044.35 1036.65 Z\" fill=\"#3da44d\" fill-rule=\"evenodd\" fill-opacity=\"1\" stroke=\"#000000\" stroke-opacity=\"1\" stroke-width=\"3.2\"/>\n",
       "<path clip-path=\"url(#clip132)\" d=\"M1085.93 1051.84 L1082.17 1062.66 L1070.71 1062.9 L1079.85 1069.82 L1076.52 1080.78 L1085.93 1074.24 L1095.34 1080.78 L1092.01 1069.82 L1101.14 1062.9 L1089.69 1062.66 L1085.93 1051.84 Z\" fill=\"#3da44d\" fill-rule=\"evenodd\" fill-opacity=\"1\" stroke=\"#000000\" stroke-opacity=\"1\" stroke-width=\"3.2\"/>\n",
       "<path clip-path=\"url(#clip132)\" d=\"M1127.51 1063.99 L1123.75 1074.81 L1112.29 1075.05 L1121.43 1081.98 L1118.1 1092.94 L1127.51 1086.39 L1136.91 1092.94 L1133.59 1081.98 L1142.72 1075.05 L1131.27 1074.81 L1127.51 1063.99 Z\" fill=\"#3da44d\" fill-rule=\"evenodd\" fill-opacity=\"1\" stroke=\"#000000\" stroke-opacity=\"1\" stroke-width=\"3.2\"/>\n",
       "<path clip-path=\"url(#clip132)\" d=\"M1169.08 1073.11 L1165.32 1083.92 L1153.87 1084.16 L1163 1091.09 L1159.67 1102.05 L1169.08 1095.51 L1178.49 1102.05 L1175.16 1091.09 L1184.3 1084.16 L1172.84 1083.92 L1169.08 1073.11 Z\" fill=\"#3da44d\" fill-rule=\"evenodd\" fill-opacity=\"1\" stroke=\"#000000\" stroke-opacity=\"1\" stroke-width=\"3.2\"/>\n",
       "<path clip-path=\"url(#clip132)\" d=\"M1210.66 1079.18 L1206.9 1090 L1195.44 1090.24 L1204.58 1097.17 L1201.25 1108.13 L1210.66 1101.58 L1220.07 1108.13 L1216.74 1097.17 L1225.87 1090.24 L1214.42 1090 L1210.66 1079.18 Z\" fill=\"#3da44d\" fill-rule=\"evenodd\" fill-opacity=\"1\" stroke=\"#000000\" stroke-opacity=\"1\" stroke-width=\"3.2\"/>\n",
       "<path clip-path=\"url(#clip132)\" d=\"M1252.23 1082.22 L1248.47 1093.03 L1237.02 1093.27 L1246.15 1100.2 L1242.83 1111.16 L1252.23 1104.62 L1261.64 1111.16 L1258.31 1100.2 L1267.45 1093.27 L1255.99 1093.03 L1252.23 1082.22 Z\" fill=\"#3da44d\" fill-rule=\"evenodd\" fill-opacity=\"1\" stroke=\"#000000\" stroke-opacity=\"1\" stroke-width=\"3.2\"/>\n",
       "<path clip-path=\"url(#clip132)\" d=\"M1293.81 1082.22 L1290.05 1093.03 L1278.59 1093.27 L1287.73 1100.2 L1284.4 1111.16 L1293.81 1104.62 L1303.22 1111.16 L1299.89 1100.2 L1309.03 1093.27 L1297.57 1093.03 L1293.81 1082.22 Z\" fill=\"#3da44d\" fill-rule=\"evenodd\" fill-opacity=\"1\" stroke=\"#000000\" stroke-opacity=\"1\" stroke-width=\"3.2\"/>\n",
       "<path clip-path=\"url(#clip132)\" d=\"M1335.39 1079.18 L1331.63 1090 L1320.17 1090.24 L1329.31 1097.17 L1325.98 1108.13 L1335.39 1101.58 L1344.79 1108.13 L1341.47 1097.17 L1350.6 1090.24 L1339.15 1090 L1335.39 1079.18 Z\" fill=\"#3da44d\" fill-rule=\"evenodd\" fill-opacity=\"1\" stroke=\"#000000\" stroke-opacity=\"1\" stroke-width=\"3.2\"/>\n",
       "<path clip-path=\"url(#clip132)\" d=\"M1376.96 1073.11 L1373.2 1083.92 L1361.75 1084.16 L1370.88 1091.09 L1367.55 1102.05 L1376.96 1095.51 L1386.37 1102.05 L1383.04 1091.09 L1392.18 1084.16 L1380.72 1083.92 L1376.96 1073.11 Z\" fill=\"#3da44d\" fill-rule=\"evenodd\" fill-opacity=\"1\" stroke=\"#000000\" stroke-opacity=\"1\" stroke-width=\"3.2\"/>\n",
       "<path clip-path=\"url(#clip132)\" d=\"M1418.54 1063.99 L1414.78 1074.81 L1403.32 1075.05 L1412.46 1081.98 L1409.13 1092.94 L1418.54 1086.39 L1427.95 1092.94 L1424.62 1081.98 L1433.75 1075.05 L1422.3 1074.81 L1418.54 1063.99 Z\" fill=\"#3da44d\" fill-rule=\"evenodd\" fill-opacity=\"1\" stroke=\"#000000\" stroke-opacity=\"1\" stroke-width=\"3.2\"/>\n",
       "<path clip-path=\"url(#clip132)\" d=\"M1460.11 1051.84 L1456.35 1062.66 L1444.9 1062.9 L1454.03 1069.82 L1450.71 1080.78 L1460.11 1074.24 L1469.52 1080.78 L1466.19 1069.82 L1475.33 1062.9 L1463.87 1062.66 L1460.11 1051.84 Z\" fill=\"#3da44d\" fill-rule=\"evenodd\" fill-opacity=\"1\" stroke=\"#000000\" stroke-opacity=\"1\" stroke-width=\"3.2\"/>\n",
       "<path clip-path=\"url(#clip132)\" d=\"M1501.69 1036.65 L1497.93 1047.47 L1486.48 1047.71 L1495.61 1054.64 L1492.28 1065.6 L1501.69 1059.05 L1511.1 1065.6 L1507.77 1054.64 L1516.91 1047.71 L1505.45 1047.47 L1501.69 1036.65 Z\" fill=\"#3da44d\" fill-rule=\"evenodd\" fill-opacity=\"1\" stroke=\"#000000\" stroke-opacity=\"1\" stroke-width=\"3.2\"/>\n",
       "<path clip-path=\"url(#clip132)\" d=\"M1543.27 1018.42 L1539.51 1029.24 L1528.05 1029.48 L1537.19 1036.41 L1533.86 1047.37 L1543.27 1040.82 L1552.68 1047.37 L1549.35 1036.41 L1558.48 1029.48 L1547.03 1029.24 L1543.27 1018.42 Z\" fill=\"#3da44d\" fill-rule=\"evenodd\" fill-opacity=\"1\" stroke=\"#000000\" stroke-opacity=\"1\" stroke-width=\"3.2\"/>\n",
       "<path clip-path=\"url(#clip132)\" d=\"M1584.84 997.159 L1581.08 1007.98 L1569.63 1008.22 L1578.76 1015.14 L1575.44 1026.1 L1584.84 1019.56 L1594.25 1026.1 L1590.92 1015.14 L1600.06 1008.22 L1588.6 1007.98 L1584.84 997.159 Z\" fill=\"#3da44d\" fill-rule=\"evenodd\" fill-opacity=\"1\" stroke=\"#000000\" stroke-opacity=\"1\" stroke-width=\"3.2\"/>\n",
       "<path clip-path=\"url(#clip132)\" d=\"M1626.42 972.856 L1622.66 983.672 L1611.2 983.912 L1620.34 990.84 L1617.01 1001.8 L1626.42 995.256 L1635.83 1001.8 L1632.5 990.84 L1641.64 983.912 L1630.18 983.672 L1626.42 972.856 Z\" fill=\"#3da44d\" fill-rule=\"evenodd\" fill-opacity=\"1\" stroke=\"#000000\" stroke-opacity=\"1\" stroke-width=\"3.2\"/>\n",
       "<path clip-path=\"url(#clip132)\" d=\"M1668 945.516 L1664.24 956.332 L1652.78 956.572 L1661.92 963.5 L1658.59 974.46 L1668 967.916 L1677.4 974.46 L1674.08 963.5 L1683.21 956.572 L1671.76 956.332 L1668 945.516 Z\" fill=\"#3da44d\" fill-rule=\"evenodd\" fill-opacity=\"1\" stroke=\"#000000\" stroke-opacity=\"1\" stroke-width=\"3.2\"/>\n",
       "<path clip-path=\"url(#clip132)\" d=\"M1709.57 915.137 L1705.81 925.953 L1694.36 926.193 L1703.49 933.121 L1700.16 944.081 L1709.57 937.537 L1718.98 944.081 L1715.65 933.121 L1724.79 926.193 L1713.33 925.953 L1709.57 915.137 Z\" fill=\"#3da44d\" fill-rule=\"evenodd\" fill-opacity=\"1\" stroke=\"#000000\" stroke-opacity=\"1\" stroke-width=\"3.2\"/>\n",
       "<path clip-path=\"url(#clip132)\" d=\"M1751.15 881.721 L1747.39 892.537 L1735.93 892.777 L1745.07 899.705 L1741.74 910.665 L1751.15 904.121 L1760.56 910.665 L1757.23 899.705 L1766.36 892.777 L1754.91 892.537 L1751.15 881.721 Z\" fill=\"#3da44d\" fill-rule=\"evenodd\" fill-opacity=\"1\" stroke=\"#000000\" stroke-opacity=\"1\" stroke-width=\"3.2\"/>\n",
       "<path clip-path=\"url(#clip132)\" d=\"M1792.72 845.267 L1788.96 856.083 L1777.51 856.323 L1786.64 863.251 L1783.32 874.211 L1792.72 867.667 L1802.13 874.211 L1798.8 863.251 L1807.94 856.323 L1796.48 856.083 L1792.72 845.267 Z\" fill=\"#3da44d\" fill-rule=\"evenodd\" fill-opacity=\"1\" stroke=\"#000000\" stroke-opacity=\"1\" stroke-width=\"3.2\"/>\n",
       "<path clip-path=\"url(#clip132)\" d=\"M1834.3 805.775 L1830.54 816.591 L1819.08 816.831 L1828.22 823.759 L1824.89 834.719 L1834.3 828.175 L1843.71 834.719 L1840.38 823.759 L1849.52 816.831 L1838.06 816.591 L1834.3 805.775 Z\" fill=\"#3da44d\" fill-rule=\"evenodd\" fill-opacity=\"1\" stroke=\"#000000\" stroke-opacity=\"1\" stroke-width=\"3.2\"/>\n",
       "<path clip-path=\"url(#clip132)\" d=\"M1875.88 763.245 L1872.12 774.061 L1860.66 774.301 L1869.8 781.229 L1866.47 792.189 L1875.88 785.645 L1885.28 792.189 L1881.96 781.229 L1891.09 774.301 L1879.64 774.061 L1875.88 763.245 Z\" fill=\"#3da44d\" fill-rule=\"evenodd\" fill-opacity=\"1\" stroke=\"#000000\" stroke-opacity=\"1\" stroke-width=\"3.2\"/>\n",
       "<path clip-path=\"url(#clip132)\" d=\"M1917.45 717.677 L1913.69 728.493 L1902.24 728.733 L1911.37 735.661 L1908.05 746.621 L1917.45 740.077 L1926.86 746.621 L1923.53 735.661 L1932.67 728.733 L1921.21 728.493 L1917.45 717.677 Z\" fill=\"#3da44d\" fill-rule=\"evenodd\" fill-opacity=\"1\" stroke=\"#000000\" stroke-opacity=\"1\" stroke-width=\"3.2\"/>\n",
       "<path clip-path=\"url(#clip132)\" d=\"M1959.03 669.072 L1955.27 679.888 L1943.81 680.128 L1952.95 687.056 L1949.62 698.016 L1959.03 691.472 L1968.44 698.016 L1965.11 687.056 L1974.25 680.128 L1962.79 679.888 L1959.03 669.072 Z\" fill=\"#3da44d\" fill-rule=\"evenodd\" fill-opacity=\"1\" stroke=\"#000000\" stroke-opacity=\"1\" stroke-width=\"3.2\"/>\n",
       "<path clip-path=\"url(#clip132)\" d=\"M2000.61 617.428 L1996.85 628.244 L1985.39 628.484 L1994.53 635.412 L1991.2 646.372 L2000.61 639.828 L2010.01 646.372 L2006.69 635.412 L2015.82 628.484 L2004.37 628.244 L2000.61 617.428 Z\" fill=\"#3da44d\" fill-rule=\"evenodd\" fill-opacity=\"1\" stroke=\"#000000\" stroke-opacity=\"1\" stroke-width=\"3.2\"/>\n",
       "<path clip-path=\"url(#clip132)\" d=\"M2042.18 562.747 L2038.42 573.563 L2026.97 573.803 L2036.1 580.731 L2032.77 591.691 L2042.18 585.147 L2051.59 591.691 L2048.26 580.731 L2057.4 573.803 L2045.94 573.563 L2042.18 562.747 Z\" fill=\"#3da44d\" fill-rule=\"evenodd\" fill-opacity=\"1\" stroke=\"#000000\" stroke-opacity=\"1\" stroke-width=\"3.2\"/>\n",
       "<path clip-path=\"url(#clip132)\" d=\"M2083.76 505.028 L2080 515.844 L2068.54 516.084 L2077.68 523.012 L2074.35 533.972 L2083.76 527.428 L2093.17 533.972 L2089.84 523.012 L2098.97 516.084 L2087.52 515.844 L2083.76 505.028 Z\" fill=\"#3da44d\" fill-rule=\"evenodd\" fill-opacity=\"1\" stroke=\"#000000\" stroke-opacity=\"1\" stroke-width=\"3.2\"/>\n",
       "<path clip-path=\"url(#clip132)\" d=\"M2125.33 444.271 L2121.57 455.087 L2110.12 455.327 L2119.25 462.255 L2115.93 473.215 L2125.33 466.671 L2134.74 473.215 L2131.41 462.255 L2140.55 455.327 L2129.09 455.087 L2125.33 444.271 Z\" fill=\"#3da44d\" fill-rule=\"evenodd\" fill-opacity=\"1\" stroke=\"#000000\" stroke-opacity=\"1\" stroke-width=\"3.2\"/>\n",
       "<path clip-path=\"url(#clip132)\" d=\"M2166.91 380.476 L2163.15 391.292 L2151.69 391.532 L2160.83 398.46 L2157.5 409.42 L2166.91 402.876 L2176.32 409.42 L2172.99 398.46 L2182.13 391.532 L2170.67 391.292 L2166.91 380.476 Z\" fill=\"#3da44d\" fill-rule=\"evenodd\" fill-opacity=\"1\" stroke=\"#000000\" stroke-opacity=\"1\" stroke-width=\"3.2\"/>\n",
       "<path clip-path=\"url(#clip132)\" d=\"M2208.49 313.644 L2204.73 324.46 L2193.27 324.7 L2202.41 331.628 L2199.08 342.588 L2208.49 336.044 L2217.89 342.588 L2214.57 331.628 L2223.7 324.7 L2212.25 324.46 L2208.49 313.644 Z\" fill=\"#3da44d\" fill-rule=\"evenodd\" fill-opacity=\"1\" stroke=\"#000000\" stroke-opacity=\"1\" stroke-width=\"3.2\"/>\n",
       "<path clip-path=\"url(#clip132)\" d=\"M2250.06 243.773 L2246.3 254.589 L2234.85 254.829 L2243.98 261.757 L2240.65 272.717 L2250.06 266.173 L2259.47 272.717 L2256.14 261.757 L2265.28 254.829 L2253.82 254.589 L2250.06 243.773 Z\" fill=\"#3da44d\" fill-rule=\"evenodd\" fill-opacity=\"1\" stroke=\"#000000\" stroke-opacity=\"1\" stroke-width=\"3.2\"/>\n",
       "<path clip-path=\"url(#clip132)\" d=\"M2291.64 170.865 L2287.88 181.681 L2276.42 181.921 L2285.56 188.849 L2282.23 199.809 L2291.64 193.265 L2301.05 199.809 L2297.72 188.849 L2306.85 181.921 L2295.4 181.681 L2291.64 170.865 Z\" fill=\"#3da44d\" fill-rule=\"evenodd\" fill-opacity=\"1\" stroke=\"#000000\" stroke-opacity=\"1\" stroke-width=\"3.2\"/>\n",
       "<polyline clip-path=\"url(#clip132)\" style=\"stroke:#c271d2; stroke-linecap:butt; stroke-linejoin:round; stroke-width:16; stroke-opacity:1; fill:none\" points=\"\n",
       "  254.405,1445.72 295.981,1283.24 337.557,1137.69 379.133,1008.35 420.71,894.487 462.286,795.39 503.862,710.337 545.438,638.606 587.015,579.479 628.591,532.235 \n",
       "  670.167,496.154 711.743,470.515 753.319,454.599 794.896,447.686 836.472,449.054 878.048,457.984 919.624,473.756 961.2,495.65 1002.78,522.945 1044.35,554.921 \n",
       "  1085.93,590.858 1127.51,630.036 1169.08,671.735 1210.66,715.234 1252.23,759.813 1293.81,804.753 1335.39,849.332 1376.96,892.831 1418.54,934.53 1460.11,973.708 \n",
       "  1501.69,1009.64 1543.27,1041.62 1584.84,1068.92 1626.42,1090.81 1668,1106.58 1709.57,1115.51 1751.15,1116.88 1792.72,1109.97 1834.3,1094.05 1875.88,1068.41 \n",
       "  1917.45,1032.33 1959.03,985.086 2000.61,925.959 2042.18,854.229 2083.76,769.175 2125.33,670.078 2166.91,556.217 2208.49,426.872 2250.06,281.323 2291.64,118.85 \n",
       "  \n",
       "  \"/>\n",
       "<path clip-path=\"url(#clip132)\" d=\"M254.405 1429.72 L238.405 1445.72 L254.405 1461.72 L270.405 1445.72 L254.405 1429.72 Z\" fill=\"#c271d2\" fill-rule=\"evenodd\" fill-opacity=\"1\" stroke=\"#000000\" stroke-opacity=\"1\" stroke-width=\"3.2\"/>\n",
       "<path clip-path=\"url(#clip132)\" d=\"M295.981 1267.24 L279.981 1283.24 L295.981 1299.24 L311.981 1283.24 L295.981 1267.24 Z\" fill=\"#c271d2\" fill-rule=\"evenodd\" fill-opacity=\"1\" stroke=\"#000000\" stroke-opacity=\"1\" stroke-width=\"3.2\"/>\n",
       "<path clip-path=\"url(#clip132)\" d=\"M337.557 1121.69 L321.557 1137.69 L337.557 1153.69 L353.557 1137.69 L337.557 1121.69 Z\" fill=\"#c271d2\" fill-rule=\"evenodd\" fill-opacity=\"1\" stroke=\"#000000\" stroke-opacity=\"1\" stroke-width=\"3.2\"/>\n",
       "<path clip-path=\"url(#clip132)\" d=\"M379.133 992.348 L363.133 1008.35 L379.133 1024.35 L395.133 1008.35 L379.133 992.348 Z\" fill=\"#c271d2\" fill-rule=\"evenodd\" fill-opacity=\"1\" stroke=\"#000000\" stroke-opacity=\"1\" stroke-width=\"3.2\"/>\n",
       "<path clip-path=\"url(#clip132)\" d=\"M420.71 878.487 L404.71 894.487 L420.71 910.487 L436.71 894.487 L420.71 878.487 Z\" fill=\"#c271d2\" fill-rule=\"evenodd\" fill-opacity=\"1\" stroke=\"#000000\" stroke-opacity=\"1\" stroke-width=\"3.2\"/>\n",
       "<path clip-path=\"url(#clip132)\" d=\"M462.286 779.39 L446.286 795.39 L462.286 811.39 L478.286 795.39 L462.286 779.39 Z\" fill=\"#c271d2\" fill-rule=\"evenodd\" fill-opacity=\"1\" stroke=\"#000000\" stroke-opacity=\"1\" stroke-width=\"3.2\"/>\n",
       "<path clip-path=\"url(#clip132)\" d=\"M503.862 694.337 L487.862 710.337 L503.862 726.337 L519.862 710.337 L503.862 694.337 Z\" fill=\"#c271d2\" fill-rule=\"evenodd\" fill-opacity=\"1\" stroke=\"#000000\" stroke-opacity=\"1\" stroke-width=\"3.2\"/>\n",
       "<path clip-path=\"url(#clip132)\" d=\"M545.438 622.606 L529.438 638.606 L545.438 654.606 L561.438 638.606 L545.438 622.606 Z\" fill=\"#c271d2\" fill-rule=\"evenodd\" fill-opacity=\"1\" stroke=\"#000000\" stroke-opacity=\"1\" stroke-width=\"3.2\"/>\n",
       "<path clip-path=\"url(#clip132)\" d=\"M587.015 563.479 L571.015 579.479 L587.015 595.479 L603.015 579.479 L587.015 563.479 Z\" fill=\"#c271d2\" fill-rule=\"evenodd\" fill-opacity=\"1\" stroke=\"#000000\" stroke-opacity=\"1\" stroke-width=\"3.2\"/>\n",
       "<path clip-path=\"url(#clip132)\" d=\"M628.591 516.235 L612.591 532.235 L628.591 548.235 L644.591 532.235 L628.591 516.235 Z\" fill=\"#c271d2\" fill-rule=\"evenodd\" fill-opacity=\"1\" stroke=\"#000000\" stroke-opacity=\"1\" stroke-width=\"3.2\"/>\n",
       "<path clip-path=\"url(#clip132)\" d=\"M670.167 480.154 L654.167 496.154 L670.167 512.154 L686.167 496.154 L670.167 480.154 Z\" fill=\"#c271d2\" fill-rule=\"evenodd\" fill-opacity=\"1\" stroke=\"#000000\" stroke-opacity=\"1\" stroke-width=\"3.2\"/>\n",
       "<path clip-path=\"url(#clip132)\" d=\"M711.743 454.515 L695.743 470.515 L711.743 486.515 L727.743 470.515 L711.743 454.515 Z\" fill=\"#c271d2\" fill-rule=\"evenodd\" fill-opacity=\"1\" stroke=\"#000000\" stroke-opacity=\"1\" stroke-width=\"3.2\"/>\n",
       "<path clip-path=\"url(#clip132)\" d=\"M753.319 438.599 L737.319 454.599 L753.319 470.599 L769.319 454.599 L753.319 438.599 Z\" fill=\"#c271d2\" fill-rule=\"evenodd\" fill-opacity=\"1\" stroke=\"#000000\" stroke-opacity=\"1\" stroke-width=\"3.2\"/>\n",
       "<path clip-path=\"url(#clip132)\" d=\"M794.896 431.686 L778.896 447.686 L794.896 463.686 L810.896 447.686 L794.896 431.686 Z\" fill=\"#c271d2\" fill-rule=\"evenodd\" fill-opacity=\"1\" stroke=\"#000000\" stroke-opacity=\"1\" stroke-width=\"3.2\"/>\n",
       "<path clip-path=\"url(#clip132)\" d=\"M836.472 433.054 L820.472 449.054 L836.472 465.054 L852.472 449.054 L836.472 433.054 Z\" fill=\"#c271d2\" fill-rule=\"evenodd\" fill-opacity=\"1\" stroke=\"#000000\" stroke-opacity=\"1\" stroke-width=\"3.2\"/>\n",
       "<path clip-path=\"url(#clip132)\" d=\"M878.048 441.984 L862.048 457.984 L878.048 473.984 L894.048 457.984 L878.048 441.984 Z\" fill=\"#c271d2\" fill-rule=\"evenodd\" fill-opacity=\"1\" stroke=\"#000000\" stroke-opacity=\"1\" stroke-width=\"3.2\"/>\n",
       "<path clip-path=\"url(#clip132)\" d=\"M919.624 457.756 L903.624 473.756 L919.624 489.756 L935.624 473.756 L919.624 457.756 Z\" fill=\"#c271d2\" fill-rule=\"evenodd\" fill-opacity=\"1\" stroke=\"#000000\" stroke-opacity=\"1\" stroke-width=\"3.2\"/>\n",
       "<path clip-path=\"url(#clip132)\" d=\"M961.2 479.65 L945.2 495.65 L961.2 511.65 L977.2 495.65 L961.2 479.65 Z\" fill=\"#c271d2\" fill-rule=\"evenodd\" fill-opacity=\"1\" stroke=\"#000000\" stroke-opacity=\"1\" stroke-width=\"3.2\"/>\n",
       "<path clip-path=\"url(#clip132)\" d=\"M1002.78 506.945 L986.777 522.945 L1002.78 538.945 L1018.78 522.945 L1002.78 506.945 Z\" fill=\"#c271d2\" fill-rule=\"evenodd\" fill-opacity=\"1\" stroke=\"#000000\" stroke-opacity=\"1\" stroke-width=\"3.2\"/>\n",
       "<path clip-path=\"url(#clip132)\" d=\"M1044.35 538.921 L1028.35 554.921 L1044.35 570.921 L1060.35 554.921 L1044.35 538.921 Z\" fill=\"#c271d2\" fill-rule=\"evenodd\" fill-opacity=\"1\" stroke=\"#000000\" stroke-opacity=\"1\" stroke-width=\"3.2\"/>\n",
       "<path clip-path=\"url(#clip132)\" d=\"M1085.93 574.858 L1069.93 590.858 L1085.93 606.858 L1101.93 590.858 L1085.93 574.858 Z\" fill=\"#c271d2\" fill-rule=\"evenodd\" fill-opacity=\"1\" stroke=\"#000000\" stroke-opacity=\"1\" stroke-width=\"3.2\"/>\n",
       "<path clip-path=\"url(#clip132)\" d=\"M1127.51 614.036 L1111.51 630.036 L1127.51 646.036 L1143.51 630.036 L1127.51 614.036 Z\" fill=\"#c271d2\" fill-rule=\"evenodd\" fill-opacity=\"1\" stroke=\"#000000\" stroke-opacity=\"1\" stroke-width=\"3.2\"/>\n",
       "<path clip-path=\"url(#clip132)\" d=\"M1169.08 655.735 L1153.08 671.735 L1169.08 687.735 L1185.08 671.735 L1169.08 655.735 Z\" fill=\"#c271d2\" fill-rule=\"evenodd\" fill-opacity=\"1\" stroke=\"#000000\" stroke-opacity=\"1\" stroke-width=\"3.2\"/>\n",
       "<path clip-path=\"url(#clip132)\" d=\"M1210.66 699.234 L1194.66 715.234 L1210.66 731.234 L1226.66 715.234 L1210.66 699.234 Z\" fill=\"#c271d2\" fill-rule=\"evenodd\" fill-opacity=\"1\" stroke=\"#000000\" stroke-opacity=\"1\" stroke-width=\"3.2\"/>\n",
       "<path clip-path=\"url(#clip132)\" d=\"M1252.23 743.813 L1236.23 759.813 L1252.23 775.813 L1268.23 759.813 L1252.23 743.813 Z\" fill=\"#c271d2\" fill-rule=\"evenodd\" fill-opacity=\"1\" stroke=\"#000000\" stroke-opacity=\"1\" stroke-width=\"3.2\"/>\n",
       "<path clip-path=\"url(#clip132)\" d=\"M1293.81 788.753 L1277.81 804.753 L1293.81 820.753 L1309.81 804.753 L1293.81 788.753 Z\" fill=\"#c271d2\" fill-rule=\"evenodd\" fill-opacity=\"1\" stroke=\"#000000\" stroke-opacity=\"1\" stroke-width=\"3.2\"/>\n",
       "<path clip-path=\"url(#clip132)\" d=\"M1335.39 833.332 L1319.39 849.332 L1335.39 865.332 L1351.39 849.332 L1335.39 833.332 Z\" fill=\"#c271d2\" fill-rule=\"evenodd\" fill-opacity=\"1\" stroke=\"#000000\" stroke-opacity=\"1\" stroke-width=\"3.2\"/>\n",
       "<path clip-path=\"url(#clip132)\" d=\"M1376.96 876.831 L1360.96 892.831 L1376.96 908.831 L1392.96 892.831 L1376.96 876.831 Z\" fill=\"#c271d2\" fill-rule=\"evenodd\" fill-opacity=\"1\" stroke=\"#000000\" stroke-opacity=\"1\" stroke-width=\"3.2\"/>\n",
       "<path clip-path=\"url(#clip132)\" d=\"M1418.54 918.53 L1402.54 934.53 L1418.54 950.53 L1434.54 934.53 L1418.54 918.53 Z\" fill=\"#c271d2\" fill-rule=\"evenodd\" fill-opacity=\"1\" stroke=\"#000000\" stroke-opacity=\"1\" stroke-width=\"3.2\"/>\n",
       "<path clip-path=\"url(#clip132)\" d=\"M1460.11 957.708 L1444.11 973.708 L1460.11 989.708 L1476.11 973.708 L1460.11 957.708 Z\" fill=\"#c271d2\" fill-rule=\"evenodd\" fill-opacity=\"1\" stroke=\"#000000\" stroke-opacity=\"1\" stroke-width=\"3.2\"/>\n",
       "<path clip-path=\"url(#clip132)\" d=\"M1501.69 993.645 L1485.69 1009.64 L1501.69 1025.64 L1517.69 1009.64 L1501.69 993.645 Z\" fill=\"#c271d2\" fill-rule=\"evenodd\" fill-opacity=\"1\" stroke=\"#000000\" stroke-opacity=\"1\" stroke-width=\"3.2\"/>\n",
       "<path clip-path=\"url(#clip132)\" d=\"M1543.27 1025.62 L1527.27 1041.62 L1543.27 1057.62 L1559.27 1041.62 L1543.27 1025.62 Z\" fill=\"#c271d2\" fill-rule=\"evenodd\" fill-opacity=\"1\" stroke=\"#000000\" stroke-opacity=\"1\" stroke-width=\"3.2\"/>\n",
       "<path clip-path=\"url(#clip132)\" d=\"M1584.84 1052.92 L1568.84 1068.92 L1584.84 1084.92 L1600.84 1068.92 L1584.84 1052.92 Z\" fill=\"#c271d2\" fill-rule=\"evenodd\" fill-opacity=\"1\" stroke=\"#000000\" stroke-opacity=\"1\" stroke-width=\"3.2\"/>\n",
       "<path clip-path=\"url(#clip132)\" d=\"M1626.42 1074.81 L1610.42 1090.81 L1626.42 1106.81 L1642.42 1090.81 L1626.42 1074.81 Z\" fill=\"#c271d2\" fill-rule=\"evenodd\" fill-opacity=\"1\" stroke=\"#000000\" stroke-opacity=\"1\" stroke-width=\"3.2\"/>\n",
       "<path clip-path=\"url(#clip132)\" d=\"M1668 1090.58 L1652 1106.58 L1668 1122.58 L1684 1106.58 L1668 1090.58 Z\" fill=\"#c271d2\" fill-rule=\"evenodd\" fill-opacity=\"1\" stroke=\"#000000\" stroke-opacity=\"1\" stroke-width=\"3.2\"/>\n",
       "<path clip-path=\"url(#clip132)\" d=\"M1709.57 1099.51 L1693.57 1115.51 L1709.57 1131.51 L1725.57 1115.51 L1709.57 1099.51 Z\" fill=\"#c271d2\" fill-rule=\"evenodd\" fill-opacity=\"1\" stroke=\"#000000\" stroke-opacity=\"1\" stroke-width=\"3.2\"/>\n",
       "<path clip-path=\"url(#clip132)\" d=\"M1751.15 1100.88 L1735.15 1116.88 L1751.15 1132.88 L1767.15 1116.88 L1751.15 1100.88 Z\" fill=\"#c271d2\" fill-rule=\"evenodd\" fill-opacity=\"1\" stroke=\"#000000\" stroke-opacity=\"1\" stroke-width=\"3.2\"/>\n",
       "<path clip-path=\"url(#clip132)\" d=\"M1792.72 1093.97 L1776.72 1109.97 L1792.72 1125.97 L1808.72 1109.97 L1792.72 1093.97 Z\" fill=\"#c271d2\" fill-rule=\"evenodd\" fill-opacity=\"1\" stroke=\"#000000\" stroke-opacity=\"1\" stroke-width=\"3.2\"/>\n",
       "<path clip-path=\"url(#clip132)\" d=\"M1834.3 1078.05 L1818.3 1094.05 L1834.3 1110.05 L1850.3 1094.05 L1834.3 1078.05 Z\" fill=\"#c271d2\" fill-rule=\"evenodd\" fill-opacity=\"1\" stroke=\"#000000\" stroke-opacity=\"1\" stroke-width=\"3.2\"/>\n",
       "<path clip-path=\"url(#clip132)\" d=\"M1875.88 1052.41 L1859.88 1068.41 L1875.88 1084.41 L1891.88 1068.41 L1875.88 1052.41 Z\" fill=\"#c271d2\" fill-rule=\"evenodd\" fill-opacity=\"1\" stroke=\"#000000\" stroke-opacity=\"1\" stroke-width=\"3.2\"/>\n",
       "<path clip-path=\"url(#clip132)\" d=\"M1917.45 1016.33 L1901.45 1032.33 L1917.45 1048.33 L1933.45 1032.33 L1917.45 1016.33 Z\" fill=\"#c271d2\" fill-rule=\"evenodd\" fill-opacity=\"1\" stroke=\"#000000\" stroke-opacity=\"1\" stroke-width=\"3.2\"/>\n",
       "<path clip-path=\"url(#clip132)\" d=\"M1959.03 969.086 L1943.03 985.086 L1959.03 1001.09 L1975.03 985.086 L1959.03 969.086 Z\" fill=\"#c271d2\" fill-rule=\"evenodd\" fill-opacity=\"1\" stroke=\"#000000\" stroke-opacity=\"1\" stroke-width=\"3.2\"/>\n",
       "<path clip-path=\"url(#clip132)\" d=\"M2000.61 909.959 L1984.61 925.959 L2000.61 941.959 L2016.61 925.959 L2000.61 909.959 Z\" fill=\"#c271d2\" fill-rule=\"evenodd\" fill-opacity=\"1\" stroke=\"#000000\" stroke-opacity=\"1\" stroke-width=\"3.2\"/>\n",
       "<path clip-path=\"url(#clip132)\" d=\"M2042.18 838.229 L2026.18 854.229 L2042.18 870.229 L2058.18 854.229 L2042.18 838.229 Z\" fill=\"#c271d2\" fill-rule=\"evenodd\" fill-opacity=\"1\" stroke=\"#000000\" stroke-opacity=\"1\" stroke-width=\"3.2\"/>\n",
       "<path clip-path=\"url(#clip132)\" d=\"M2083.76 753.175 L2067.76 769.175 L2083.76 785.175 L2099.76 769.175 L2083.76 753.175 Z\" fill=\"#c271d2\" fill-rule=\"evenodd\" fill-opacity=\"1\" stroke=\"#000000\" stroke-opacity=\"1\" stroke-width=\"3.2\"/>\n",
       "<path clip-path=\"url(#clip132)\" d=\"M2125.33 654.078 L2109.33 670.078 L2125.33 686.078 L2141.33 670.078 L2125.33 654.078 Z\" fill=\"#c271d2\" fill-rule=\"evenodd\" fill-opacity=\"1\" stroke=\"#000000\" stroke-opacity=\"1\" stroke-width=\"3.2\"/>\n",
       "<path clip-path=\"url(#clip132)\" d=\"M2166.91 540.217 L2150.91 556.217 L2166.91 572.217 L2182.91 556.217 L2166.91 540.217 Z\" fill=\"#c271d2\" fill-rule=\"evenodd\" fill-opacity=\"1\" stroke=\"#000000\" stroke-opacity=\"1\" stroke-width=\"3.2\"/>\n",
       "<path clip-path=\"url(#clip132)\" d=\"M2208.49 410.872 L2192.49 426.872 L2208.49 442.872 L2224.49 426.872 L2208.49 410.872 Z\" fill=\"#c271d2\" fill-rule=\"evenodd\" fill-opacity=\"1\" stroke=\"#000000\" stroke-opacity=\"1\" stroke-width=\"3.2\"/>\n",
       "<path clip-path=\"url(#clip132)\" d=\"M2250.06 265.323 L2234.06 281.323 L2250.06 297.323 L2266.06 281.323 L2250.06 265.323 Z\" fill=\"#c271d2\" fill-rule=\"evenodd\" fill-opacity=\"1\" stroke=\"#000000\" stroke-opacity=\"1\" stroke-width=\"3.2\"/>\n",
       "<path clip-path=\"url(#clip132)\" d=\"M2291.64 102.85 L2275.64 118.85 L2291.64 134.85 L2307.64 118.85 L2291.64 102.85 Z\" fill=\"#c271d2\" fill-rule=\"evenodd\" fill-opacity=\"1\" stroke=\"#000000\" stroke-opacity=\"1\" stroke-width=\"3.2\"/>\n",
       "<polyline clip-path=\"url(#clip132)\" style=\"stroke:#ac8d18; stroke-linecap:butt; stroke-linejoin:round; stroke-width:16; stroke-opacity:1; fill:none\" points=\"\n",
       "  254.405,87.9763 295.981,371.367 337.557,601.621 379.133,784.016 420.71,923.598 462.286,1025.18 503.862,1093.36 545.438,1132.49 587.015,1146.69 628.591,1139.88 \n",
       "  670.167,1115.71 711.743,1077.63 753.319,1028.85 794.896,972.359 836.472,910.9 878.048,846.999 919.624,782.951 961.2,720.82 1002.78,662.442 1044.35,609.421 \n",
       "  1085.93,563.134 1127.51,524.728 1169.08,495.121 1210.66,475 1252.23,464.825 1293.81,464.825 1335.39,475 1376.96,495.121 1418.54,524.728 1460.11,563.134 \n",
       "  1501.69,609.421 1543.27,662.442 1584.84,720.82 1626.42,782.951 1668,846.999 1709.57,910.9 1751.15,972.359 1792.72,1028.85 1834.3,1077.63 1875.88,1115.71 \n",
       "  1917.45,1139.88 1959.03,1146.69 2000.61,1132.49 2042.18,1093.36 2083.76,1025.18 2125.33,923.598 2166.91,784.016 2208.49,601.621 2250.06,371.367 2291.64,87.9763 \n",
       "  \n",
       "  \"/>\n",
       "<path clip-path=\"url(#clip132)\" d=\"M254.405 103.976 L240.549 95.9763 L240.549 79.9763 L254.405 71.9763 L268.261 79.9763 L268.261 95.9763 Z\" fill=\"#ac8d18\" fill-rule=\"evenodd\" fill-opacity=\"1\" stroke=\"#000000\" stroke-opacity=\"1\" stroke-width=\"3.2\"/>\n",
       "<path clip-path=\"url(#clip132)\" d=\"M295.981 387.367 L282.125 379.367 L282.125 363.367 L295.981 355.367 L309.837 363.367 L309.837 379.367 Z\" fill=\"#ac8d18\" fill-rule=\"evenodd\" fill-opacity=\"1\" stroke=\"#000000\" stroke-opacity=\"1\" stroke-width=\"3.2\"/>\n",
       "<path clip-path=\"url(#clip132)\" d=\"M337.557 617.621 L323.701 609.621 L323.701 593.621 L337.557 585.621 L351.413 593.621 L351.413 609.621 Z\" fill=\"#ac8d18\" fill-rule=\"evenodd\" fill-opacity=\"1\" stroke=\"#000000\" stroke-opacity=\"1\" stroke-width=\"3.2\"/>\n",
       "<path clip-path=\"url(#clip132)\" d=\"M379.133 800.016 L365.277 792.016 L365.277 776.016 L379.133 768.016 L392.989 776.016 L392.989 792.016 Z\" fill=\"#ac8d18\" fill-rule=\"evenodd\" fill-opacity=\"1\" stroke=\"#000000\" stroke-opacity=\"1\" stroke-width=\"3.2\"/>\n",
       "<path clip-path=\"url(#clip132)\" d=\"M420.71 939.598 L406.854 931.598 L406.854 915.598 L420.71 907.598 L434.566 915.598 L434.566 931.598 Z\" fill=\"#ac8d18\" fill-rule=\"evenodd\" fill-opacity=\"1\" stroke=\"#000000\" stroke-opacity=\"1\" stroke-width=\"3.2\"/>\n",
       "<path clip-path=\"url(#clip132)\" d=\"M462.286 1041.18 L448.43 1033.18 L448.43 1017.18 L462.286 1009.18 L476.142 1017.18 L476.142 1033.18 Z\" fill=\"#ac8d18\" fill-rule=\"evenodd\" fill-opacity=\"1\" stroke=\"#000000\" stroke-opacity=\"1\" stroke-width=\"3.2\"/>\n",
       "<path clip-path=\"url(#clip132)\" d=\"M503.862 1109.36 L490.006 1101.36 L490.006 1085.36 L503.862 1077.36 L517.718 1085.36 L517.718 1101.36 Z\" fill=\"#ac8d18\" fill-rule=\"evenodd\" fill-opacity=\"1\" stroke=\"#000000\" stroke-opacity=\"1\" stroke-width=\"3.2\"/>\n",
       "<path clip-path=\"url(#clip132)\" d=\"M545.438 1148.49 L531.582 1140.49 L531.582 1124.49 L545.438 1116.49 L559.294 1124.49 L559.294 1140.49 Z\" fill=\"#ac8d18\" fill-rule=\"evenodd\" fill-opacity=\"1\" stroke=\"#000000\" stroke-opacity=\"1\" stroke-width=\"3.2\"/>\n",
       "<path clip-path=\"url(#clip132)\" d=\"M587.015 1162.69 L573.159 1154.69 L573.159 1138.69 L587.015 1130.69 L600.871 1138.69 L600.871 1154.69 Z\" fill=\"#ac8d18\" fill-rule=\"evenodd\" fill-opacity=\"1\" stroke=\"#000000\" stroke-opacity=\"1\" stroke-width=\"3.2\"/>\n",
       "<path clip-path=\"url(#clip132)\" d=\"M628.591 1155.88 L614.735 1147.88 L614.735 1131.88 L628.591 1123.88 L642.447 1131.88 L642.447 1147.88 Z\" fill=\"#ac8d18\" fill-rule=\"evenodd\" fill-opacity=\"1\" stroke=\"#000000\" stroke-opacity=\"1\" stroke-width=\"3.2\"/>\n",
       "<path clip-path=\"url(#clip132)\" d=\"M670.167 1131.71 L656.311 1123.71 L656.311 1107.71 L670.167 1099.71 L684.023 1107.71 L684.023 1123.71 Z\" fill=\"#ac8d18\" fill-rule=\"evenodd\" fill-opacity=\"1\" stroke=\"#000000\" stroke-opacity=\"1\" stroke-width=\"3.2\"/>\n",
       "<path clip-path=\"url(#clip132)\" d=\"M711.743 1093.63 L697.887 1085.63 L697.887 1069.63 L711.743 1061.63 L725.599 1069.63 L725.599 1085.63 Z\" fill=\"#ac8d18\" fill-rule=\"evenodd\" fill-opacity=\"1\" stroke=\"#000000\" stroke-opacity=\"1\" stroke-width=\"3.2\"/>\n",
       "<path clip-path=\"url(#clip132)\" d=\"M753.319 1044.85 L739.463 1036.85 L739.463 1020.85 L753.319 1012.85 L767.175 1020.85 L767.175 1036.85 Z\" fill=\"#ac8d18\" fill-rule=\"evenodd\" fill-opacity=\"1\" stroke=\"#000000\" stroke-opacity=\"1\" stroke-width=\"3.2\"/>\n",
       "<path clip-path=\"url(#clip132)\" d=\"M794.896 988.359 L781.04 980.359 L781.04 964.359 L794.896 956.359 L808.752 964.359 L808.752 980.359 Z\" fill=\"#ac8d18\" fill-rule=\"evenodd\" fill-opacity=\"1\" stroke=\"#000000\" stroke-opacity=\"1\" stroke-width=\"3.2\"/>\n",
       "<path clip-path=\"url(#clip132)\" d=\"M836.472 926.9 L822.616 918.9 L822.616 902.9 L836.472 894.9 L850.328 902.9 L850.328 918.9 Z\" fill=\"#ac8d18\" fill-rule=\"evenodd\" fill-opacity=\"1\" stroke=\"#000000\" stroke-opacity=\"1\" stroke-width=\"3.2\"/>\n",
       "<path clip-path=\"url(#clip132)\" d=\"M878.048 862.999 L864.192 854.999 L864.192 838.999 L878.048 830.999 L891.904 838.999 L891.904 854.999 Z\" fill=\"#ac8d18\" fill-rule=\"evenodd\" fill-opacity=\"1\" stroke=\"#000000\" stroke-opacity=\"1\" stroke-width=\"3.2\"/>\n",
       "<path clip-path=\"url(#clip132)\" d=\"M919.624 798.951 L905.768 790.951 L905.768 774.951 L919.624 766.951 L933.48 774.951 L933.48 790.951 Z\" fill=\"#ac8d18\" fill-rule=\"evenodd\" fill-opacity=\"1\" stroke=\"#000000\" stroke-opacity=\"1\" stroke-width=\"3.2\"/>\n",
       "<path clip-path=\"url(#clip132)\" d=\"M961.2 736.82 L947.344 728.82 L947.344 712.82 L961.2 704.82 L975.056 712.82 L975.056 728.82 Z\" fill=\"#ac8d18\" fill-rule=\"evenodd\" fill-opacity=\"1\" stroke=\"#000000\" stroke-opacity=\"1\" stroke-width=\"3.2\"/>\n",
       "<path clip-path=\"url(#clip132)\" d=\"M1002.78 678.442 L988.921 670.442 L988.921 654.442 L1002.78 646.442 L1016.63 654.442 L1016.63 670.442 Z\" fill=\"#ac8d18\" fill-rule=\"evenodd\" fill-opacity=\"1\" stroke=\"#000000\" stroke-opacity=\"1\" stroke-width=\"3.2\"/>\n",
       "<path clip-path=\"url(#clip132)\" d=\"M1044.35 625.421 L1030.5 617.421 L1030.5 601.421 L1044.35 593.421 L1058.21 601.421 L1058.21 617.421 Z\" fill=\"#ac8d18\" fill-rule=\"evenodd\" fill-opacity=\"1\" stroke=\"#000000\" stroke-opacity=\"1\" stroke-width=\"3.2\"/>\n",
       "<path clip-path=\"url(#clip132)\" d=\"M1085.93 579.134 L1072.07 571.134 L1072.07 555.134 L1085.93 547.134 L1099.78 555.134 L1099.78 571.134 Z\" fill=\"#ac8d18\" fill-rule=\"evenodd\" fill-opacity=\"1\" stroke=\"#000000\" stroke-opacity=\"1\" stroke-width=\"3.2\"/>\n",
       "<path clip-path=\"url(#clip132)\" d=\"M1127.51 540.728 L1113.65 532.728 L1113.65 516.728 L1127.51 508.728 L1141.36 516.728 L1141.36 532.728 Z\" fill=\"#ac8d18\" fill-rule=\"evenodd\" fill-opacity=\"1\" stroke=\"#000000\" stroke-opacity=\"1\" stroke-width=\"3.2\"/>\n",
       "<path clip-path=\"url(#clip132)\" d=\"M1169.08 511.121 L1155.23 503.121 L1155.23 487.121 L1169.08 479.121 L1182.94 487.121 L1182.94 503.121 Z\" fill=\"#ac8d18\" fill-rule=\"evenodd\" fill-opacity=\"1\" stroke=\"#000000\" stroke-opacity=\"1\" stroke-width=\"3.2\"/>\n",
       "<path clip-path=\"url(#clip132)\" d=\"M1210.66 491 L1196.8 483 L1196.8 467 L1210.66 459 L1224.51 467 L1224.51 483 Z\" fill=\"#ac8d18\" fill-rule=\"evenodd\" fill-opacity=\"1\" stroke=\"#000000\" stroke-opacity=\"1\" stroke-width=\"3.2\"/>\n",
       "<path clip-path=\"url(#clip132)\" d=\"M1252.23 480.825 L1238.38 472.825 L1238.38 456.825 L1252.23 448.825 L1266.09 456.825 L1266.09 472.825 Z\" fill=\"#ac8d18\" fill-rule=\"evenodd\" fill-opacity=\"1\" stroke=\"#000000\" stroke-opacity=\"1\" stroke-width=\"3.2\"/>\n",
       "<path clip-path=\"url(#clip132)\" d=\"M1293.81 480.825 L1279.95 472.825 L1279.95 456.825 L1293.81 448.825 L1307.67 456.825 L1307.67 472.825 Z\" fill=\"#ac8d18\" fill-rule=\"evenodd\" fill-opacity=\"1\" stroke=\"#000000\" stroke-opacity=\"1\" stroke-width=\"3.2\"/>\n",
       "<path clip-path=\"url(#clip132)\" d=\"M1335.39 491 L1321.53 483 L1321.53 467 L1335.39 459 L1349.24 467 L1349.24 483 Z\" fill=\"#ac8d18\" fill-rule=\"evenodd\" fill-opacity=\"1\" stroke=\"#000000\" stroke-opacity=\"1\" stroke-width=\"3.2\"/>\n",
       "<path clip-path=\"url(#clip132)\" d=\"M1376.96 511.121 L1363.11 503.121 L1363.11 487.121 L1376.96 479.121 L1390.82 487.121 L1390.82 503.121 Z\" fill=\"#ac8d18\" fill-rule=\"evenodd\" fill-opacity=\"1\" stroke=\"#000000\" stroke-opacity=\"1\" stroke-width=\"3.2\"/>\n",
       "<path clip-path=\"url(#clip132)\" d=\"M1418.54 540.728 L1404.68 532.728 L1404.68 516.728 L1418.54 508.728 L1432.39 516.728 L1432.39 532.728 Z\" fill=\"#ac8d18\" fill-rule=\"evenodd\" fill-opacity=\"1\" stroke=\"#000000\" stroke-opacity=\"1\" stroke-width=\"3.2\"/>\n",
       "<path clip-path=\"url(#clip132)\" d=\"M1460.11 579.134 L1446.26 571.134 L1446.26 555.134 L1460.11 547.134 L1473.97 555.134 L1473.97 571.134 Z\" fill=\"#ac8d18\" fill-rule=\"evenodd\" fill-opacity=\"1\" stroke=\"#000000\" stroke-opacity=\"1\" stroke-width=\"3.2\"/>\n",
       "<path clip-path=\"url(#clip132)\" d=\"M1501.69 625.421 L1487.84 617.421 L1487.84 601.421 L1501.69 593.421 L1515.55 601.421 L1515.55 617.421 Z\" fill=\"#ac8d18\" fill-rule=\"evenodd\" fill-opacity=\"1\" stroke=\"#000000\" stroke-opacity=\"1\" stroke-width=\"3.2\"/>\n",
       "<path clip-path=\"url(#clip132)\" d=\"M1543.27 678.442 L1529.41 670.442 L1529.41 654.442 L1543.27 646.442 L1557.12 654.442 L1557.12 670.442 Z\" fill=\"#ac8d18\" fill-rule=\"evenodd\" fill-opacity=\"1\" stroke=\"#000000\" stroke-opacity=\"1\" stroke-width=\"3.2\"/>\n",
       "<path clip-path=\"url(#clip132)\" d=\"M1584.84 736.82 L1570.99 728.82 L1570.99 712.82 L1584.84 704.82 L1598.7 712.82 L1598.7 728.82 Z\" fill=\"#ac8d18\" fill-rule=\"evenodd\" fill-opacity=\"1\" stroke=\"#000000\" stroke-opacity=\"1\" stroke-width=\"3.2\"/>\n",
       "<path clip-path=\"url(#clip132)\" d=\"M1626.42 798.951 L1612.56 790.951 L1612.56 774.951 L1626.42 766.951 L1640.28 774.951 L1640.28 790.951 Z\" fill=\"#ac8d18\" fill-rule=\"evenodd\" fill-opacity=\"1\" stroke=\"#000000\" stroke-opacity=\"1\" stroke-width=\"3.2\"/>\n",
       "<path clip-path=\"url(#clip132)\" d=\"M1668 862.999 L1654.14 854.999 L1654.14 838.999 L1668 830.999 L1681.85 838.999 L1681.85 854.999 Z\" fill=\"#ac8d18\" fill-rule=\"evenodd\" fill-opacity=\"1\" stroke=\"#000000\" stroke-opacity=\"1\" stroke-width=\"3.2\"/>\n",
       "<path clip-path=\"url(#clip132)\" d=\"M1709.57 926.9 L1695.72 918.9 L1695.72 902.9 L1709.57 894.9 L1723.43 902.9 L1723.43 918.9 Z\" fill=\"#ac8d18\" fill-rule=\"evenodd\" fill-opacity=\"1\" stroke=\"#000000\" stroke-opacity=\"1\" stroke-width=\"3.2\"/>\n",
       "<path clip-path=\"url(#clip132)\" d=\"M1751.15 988.359 L1737.29 980.359 L1737.29 964.359 L1751.15 956.359 L1765 964.359 L1765 980.359 Z\" fill=\"#ac8d18\" fill-rule=\"evenodd\" fill-opacity=\"1\" stroke=\"#000000\" stroke-opacity=\"1\" stroke-width=\"3.2\"/>\n",
       "<path clip-path=\"url(#clip132)\" d=\"M1792.72 1044.85 L1778.87 1036.85 L1778.87 1020.85 L1792.72 1012.85 L1806.58 1020.85 L1806.58 1036.85 Z\" fill=\"#ac8d18\" fill-rule=\"evenodd\" fill-opacity=\"1\" stroke=\"#000000\" stroke-opacity=\"1\" stroke-width=\"3.2\"/>\n",
       "<path clip-path=\"url(#clip132)\" d=\"M1834.3 1093.63 L1820.44 1085.63 L1820.44 1069.63 L1834.3 1061.63 L1848.16 1069.63 L1848.16 1085.63 Z\" fill=\"#ac8d18\" fill-rule=\"evenodd\" fill-opacity=\"1\" stroke=\"#000000\" stroke-opacity=\"1\" stroke-width=\"3.2\"/>\n",
       "<path clip-path=\"url(#clip132)\" d=\"M1875.88 1131.71 L1862.02 1123.71 L1862.02 1107.71 L1875.88 1099.71 L1889.73 1107.71 L1889.73 1123.71 Z\" fill=\"#ac8d18\" fill-rule=\"evenodd\" fill-opacity=\"1\" stroke=\"#000000\" stroke-opacity=\"1\" stroke-width=\"3.2\"/>\n",
       "<path clip-path=\"url(#clip132)\" d=\"M1917.45 1155.88 L1903.6 1147.88 L1903.6 1131.88 L1917.45 1123.88 L1931.31 1131.88 L1931.31 1147.88 Z\" fill=\"#ac8d18\" fill-rule=\"evenodd\" fill-opacity=\"1\" stroke=\"#000000\" stroke-opacity=\"1\" stroke-width=\"3.2\"/>\n",
       "<path clip-path=\"url(#clip132)\" d=\"M1959.03 1162.69 L1945.17 1154.69 L1945.17 1138.69 L1959.03 1130.69 L1972.89 1138.69 L1972.89 1154.69 Z\" fill=\"#ac8d18\" fill-rule=\"evenodd\" fill-opacity=\"1\" stroke=\"#000000\" stroke-opacity=\"1\" stroke-width=\"3.2\"/>\n",
       "<path clip-path=\"url(#clip132)\" d=\"M2000.61 1148.49 L1986.75 1140.49 L1986.75 1124.49 L2000.61 1116.49 L2014.46 1124.49 L2014.46 1140.49 Z\" fill=\"#ac8d18\" fill-rule=\"evenodd\" fill-opacity=\"1\" stroke=\"#000000\" stroke-opacity=\"1\" stroke-width=\"3.2\"/>\n",
       "<path clip-path=\"url(#clip132)\" d=\"M2042.18 1109.36 L2028.33 1101.36 L2028.33 1085.36 L2042.18 1077.36 L2056.04 1085.36 L2056.04 1101.36 Z\" fill=\"#ac8d18\" fill-rule=\"evenodd\" fill-opacity=\"1\" stroke=\"#000000\" stroke-opacity=\"1\" stroke-width=\"3.2\"/>\n",
       "<path clip-path=\"url(#clip132)\" d=\"M2083.76 1041.18 L2069.9 1033.18 L2069.9 1017.18 L2083.76 1009.18 L2097.61 1017.18 L2097.61 1033.18 Z\" fill=\"#ac8d18\" fill-rule=\"evenodd\" fill-opacity=\"1\" stroke=\"#000000\" stroke-opacity=\"1\" stroke-width=\"3.2\"/>\n",
       "<path clip-path=\"url(#clip132)\" d=\"M2125.33 939.598 L2111.48 931.598 L2111.48 915.598 L2125.33 907.598 L2139.19 915.598 L2139.19 931.598 Z\" fill=\"#ac8d18\" fill-rule=\"evenodd\" fill-opacity=\"1\" stroke=\"#000000\" stroke-opacity=\"1\" stroke-width=\"3.2\"/>\n",
       "<path clip-path=\"url(#clip132)\" d=\"M2166.91 800.016 L2153.05 792.016 L2153.05 776.016 L2166.91 768.016 L2180.77 776.016 L2180.77 792.016 Z\" fill=\"#ac8d18\" fill-rule=\"evenodd\" fill-opacity=\"1\" stroke=\"#000000\" stroke-opacity=\"1\" stroke-width=\"3.2\"/>\n",
       "<path clip-path=\"url(#clip132)\" d=\"M2208.49 617.621 L2194.63 609.621 L2194.63 593.621 L2208.49 585.621 L2222.34 593.621 L2222.34 609.621 Z\" fill=\"#ac8d18\" fill-rule=\"evenodd\" fill-opacity=\"1\" stroke=\"#000000\" stroke-opacity=\"1\" stroke-width=\"3.2\"/>\n",
       "<path clip-path=\"url(#clip132)\" d=\"M2250.06 387.367 L2236.21 379.367 L2236.21 363.367 L2250.06 355.367 L2263.92 363.367 L2263.92 379.367 Z\" fill=\"#ac8d18\" fill-rule=\"evenodd\" fill-opacity=\"1\" stroke=\"#000000\" stroke-opacity=\"1\" stroke-width=\"3.2\"/>\n",
       "<path clip-path=\"url(#clip132)\" d=\"M2291.64 103.976 L2277.78 95.9763 L2277.78 79.9763 L2291.64 71.9763 L2305.49 79.9763 L2305.49 95.9763 Z\" fill=\"#ac8d18\" fill-rule=\"evenodd\" fill-opacity=\"1\" stroke=\"#000000\" stroke-opacity=\"1\" stroke-width=\"3.2\"/>\n",
       "<path clip-path=\"url(#clip130)\" d=\"\n",
       "M1959.62 561.778 L2280.77 561.778 L2280.77 95.2176 L1959.62 95.2176  Z\n",
       "  \" fill=\"#ffffff\" fill-rule=\"evenodd\" fill-opacity=\"1\"/>\n",
       "<polyline clip-path=\"url(#clip130)\" style=\"stroke:#000000; stroke-linecap:butt; stroke-linejoin:round; stroke-width:4; stroke-opacity:1; fill:none\" points=\"\n",
       "  1959.62,561.778 2280.77,561.778 2280.77,95.2176 1959.62,95.2176 1959.62,561.778 \n",
       "  \"/>\n",
       "<polyline clip-path=\"url(#clip130)\" style=\"stroke:#009af9; stroke-linecap:butt; stroke-linejoin:round; stroke-width:6; stroke-opacity:1; fill:none\" points=\"\n",
       "  1983.61,172.978 2127.58,172.978 \n",
       "  \"/>\n",
       "<circle clip-path=\"url(#clip130)\" cx=\"2055.59\" cy=\"172.978\" r=\"34\" fill=\"#009af9\" fill-rule=\"evenodd\" fill-opacity=\"1\" stroke=\"#000000\" stroke-opacity=\"1\" stroke-width=\"7.68\"/>\n",
       "<path clip-path=\"url(#clip130)\" d=\"M2172.33 202.509 Q2169.63 209.453 2167.06 211.571 Q2164.49 213.689 2160.18 213.689 L2155.08 213.689 L2155.08 208.342 L2158.83 208.342 Q2161.47 208.342 2162.92 207.092 Q2164.38 205.842 2166.15 201.189 L2167.3 198.273 L2151.57 160.009 L2158.34 160.009 L2170.49 190.425 L2182.65 160.009 L2189.42 160.009 L2172.33 202.509 Z\" fill=\"#000000\" fill-rule=\"evenodd\" fill-opacity=\"1\" /><path clip-path=\"url(#clip130)\" d=\"M2200.36 192.995 L2211.81 192.995 L2211.81 153.446 L2199.35 155.946 L2199.35 149.558 L2211.74 147.058 L2218.76 147.058 L2218.76 192.995 L2230.22 192.995 L2230.22 198.898 L2200.36 198.898 L2200.36 192.995 Z\" fill=\"#000000\" fill-rule=\"evenodd\" fill-opacity=\"1\" /><polyline clip-path=\"url(#clip130)\" style=\"stroke:#e26f46; stroke-linecap:butt; stroke-linejoin:round; stroke-width:6; stroke-opacity:1; fill:none\" points=\"\n",
       "  1983.61,250.738 2127.58,250.738 \n",
       "  \"/>\n",
       "<path clip-path=\"url(#clip130)\" d=\"M2017.19 212.338 L2017.19 289.138 L2093.99 289.138 L2093.99 212.338 L2017.19 212.338 Z\" fill=\"#e26f46\" fill-rule=\"evenodd\" fill-opacity=\"1\" stroke=\"#000000\" stroke-opacity=\"1\" stroke-width=\"7.68\"/>\n",
       "<path clip-path=\"url(#clip130)\" d=\"M2172.33 280.269 Q2169.63 287.213 2167.06 289.331 Q2164.49 291.449 2160.18 291.449 L2155.08 291.449 L2155.08 286.102 L2158.83 286.102 Q2161.47 286.102 2162.92 284.852 Q2164.38 283.602 2166.15 278.949 L2167.3 276.033 L2151.57 237.769 L2158.34 237.769 L2170.49 268.185 L2182.65 237.769 L2189.42 237.769 L2172.33 280.269 Z\" fill=\"#000000\" fill-rule=\"evenodd\" fill-opacity=\"1\" /><path clip-path=\"url(#clip130)\" d=\"M2205.18 270.755 L2229.66 270.755 L2229.66 276.658 L2196.74 276.658 L2196.74 270.755 Q2200.74 266.623 2207.61 259.678 Q2214.52 252.699 2216.29 250.685 Q2219.66 246.901 2220.98 244.297 Q2222.33 241.658 2222.33 239.123 Q2222.33 234.991 2219.42 232.387 Q2216.54 229.783 2211.88 229.783 Q2208.58 229.783 2204.9 230.929 Q2201.26 232.074 2197.09 234.401 L2197.09 227.318 Q2201.33 225.616 2205.01 224.748 Q2208.69 223.88 2211.74 223.88 Q2219.8 223.88 2224.59 227.908 Q2229.38 231.936 2229.38 238.672 Q2229.38 241.866 2228.17 244.748 Q2226.99 247.595 2223.83 251.484 Q2222.96 252.491 2218.31 257.317 Q2213.65 262.109 2205.18 270.755 Z\" fill=\"#000000\" fill-rule=\"evenodd\" fill-opacity=\"1\" /><polyline clip-path=\"url(#clip130)\" style=\"stroke:#3da44d; stroke-linecap:butt; stroke-linejoin:round; stroke-width:6; stroke-opacity:1; fill:none\" points=\"\n",
       "  1983.61,328.498 2127.58,328.498 \n",
       "  \"/>\n",
       "<path clip-path=\"url(#clip130)\" d=\"M2055.59 290.098 L2046.57 316.056 L2019.08 316.632 L2041 333.259 L2033.02 359.563 L2055.59 343.858 L2078.17 359.563 L2070.19 333.259 L2092.11 316.632 L2064.62 316.056 L2055.59 290.098 Z\" fill=\"#3da44d\" fill-rule=\"evenodd\" fill-opacity=\"1\" stroke=\"#000000\" stroke-opacity=\"1\" stroke-width=\"7.68\"/>\n",
       "<path clip-path=\"url(#clip130)\" d=\"M2172.33 358.029 Q2169.63 364.973 2167.06 367.091 Q2164.49 369.209 2160.18 369.209 L2155.08 369.209 L2155.08 363.862 L2158.83 363.862 Q2161.47 363.862 2162.92 362.612 Q2164.38 361.362 2166.15 356.709 L2167.3 353.793 L2151.57 315.529 L2158.34 315.529 L2170.49 345.945 L2182.65 315.529 L2189.42 315.529 L2172.33 358.029 Z\" fill=\"#000000\" fill-rule=\"evenodd\" fill-opacity=\"1\" /><path clip-path=\"url(#clip130)\" d=\"M2220.39 326.466 Q2225.42 327.543 2228.24 330.945 Q2231.08 334.348 2231.08 339.348 Q2231.08 347.022 2225.81 351.223 Q2220.53 355.424 2210.81 355.424 Q2207.54 355.424 2204.07 354.765 Q2200.63 354.14 2196.95 352.855 L2196.95 346.084 Q2199.87 347.786 2203.34 348.654 Q2206.81 349.522 2210.6 349.522 Q2217.2 349.522 2220.63 346.918 Q2224.1 344.313 2224.1 339.348 Q2224.1 334.765 2220.88 332.195 Q2217.68 329.591 2211.95 329.591 L2205.91 329.591 L2205.91 323.827 L2212.23 323.827 Q2217.4 323.827 2220.15 321.779 Q2222.89 319.696 2222.89 315.807 Q2222.89 311.814 2220.04 309.696 Q2217.23 307.543 2211.95 307.543 Q2209.07 307.543 2205.77 308.168 Q2202.47 308.793 2198.51 310.112 L2198.51 303.862 Q2202.51 302.751 2205.98 302.196 Q2209.49 301.64 2212.58 301.64 Q2220.56 301.64 2225.22 305.286 Q2229.87 308.897 2229.87 315.077 Q2229.87 319.383 2227.4 322.369 Q2224.94 325.32 2220.39 326.466 Z\" fill=\"#000000\" fill-rule=\"evenodd\" fill-opacity=\"1\" /><polyline clip-path=\"url(#clip130)\" style=\"stroke:#c271d2; stroke-linecap:butt; stroke-linejoin:round; stroke-width:6; stroke-opacity:1; fill:none\" points=\"\n",
       "  1983.61,406.258 2127.58,406.258 \n",
       "  \"/>\n",
       "<path clip-path=\"url(#clip130)\" d=\"M2055.59 367.858 L2017.19 406.258 L2055.59 444.658 L2093.99 406.258 L2055.59 367.858 Z\" fill=\"#c271d2\" fill-rule=\"evenodd\" fill-opacity=\"1\" stroke=\"#000000\" stroke-opacity=\"1\" stroke-width=\"7.68\"/>\n",
       "<path clip-path=\"url(#clip130)\" d=\"M2172.33 435.789 Q2169.63 442.733 2167.06 444.851 Q2164.49 446.969 2160.18 446.969 L2155.08 446.969 L2155.08 441.622 L2158.83 441.622 Q2161.47 441.622 2162.92 440.372 Q2164.38 439.122 2166.15 434.469 L2167.3 431.553 L2151.57 393.289 L2158.34 393.289 L2170.49 423.705 L2182.65 393.289 L2189.42 393.289 L2172.33 435.789 Z\" fill=\"#000000\" fill-rule=\"evenodd\" fill-opacity=\"1\" /><path clip-path=\"url(#clip130)\" d=\"M2218.41 386.449 L2200.7 414.122 L2218.41 414.122 L2218.41 386.449 M2216.57 380.338 L2225.39 380.338 L2225.39 414.122 L2232.79 414.122 L2232.79 419.955 L2225.39 419.955 L2225.39 432.178 L2218.41 432.178 L2218.41 419.955 L2195.01 419.955 L2195.01 413.185 L2216.57 380.338 Z\" fill=\"#000000\" fill-rule=\"evenodd\" fill-opacity=\"1\" /><polyline clip-path=\"url(#clip130)\" style=\"stroke:#ac8d18; stroke-linecap:butt; stroke-linejoin:round; stroke-width:6; stroke-opacity:1; fill:none\" points=\"\n",
       "  1983.61,484.018 2127.58,484.018 \n",
       "  \"/>\n",
       "<path clip-path=\"url(#clip130)\" d=\"M2055.59 522.418 L2022.34 503.218 L2022.34 464.818 L2055.59 445.618 L2088.85 464.818 L2088.85 503.218 Z\" fill=\"#ac8d18\" fill-rule=\"evenodd\" fill-opacity=\"1\" stroke=\"#000000\" stroke-opacity=\"1\" stroke-width=\"7.68\"/>\n",
       "<path clip-path=\"url(#clip130)\" d=\"M2172.33 513.549 Q2169.63 520.493 2167.06 522.611 Q2164.49 524.729 2160.18 524.729 L2155.08 524.729 L2155.08 519.382 L2158.83 519.382 Q2161.47 519.382 2162.92 518.132 Q2164.38 516.882 2166.15 512.229 L2167.3 509.313 L2151.57 471.049 L2158.34 471.049 L2170.49 501.465 L2182.65 471.049 L2189.42 471.049 L2172.33 513.549 Z\" fill=\"#000000\" fill-rule=\"evenodd\" fill-opacity=\"1\" /><path clip-path=\"url(#clip130)\" d=\"M2199.21 458.098 L2226.74 458.098 L2226.74 464 L2205.63 464 L2205.63 476.709 Q2207.16 476.188 2208.69 475.945 Q2210.22 475.667 2211.74 475.667 Q2220.42 475.667 2225.49 480.424 Q2230.56 485.181 2230.56 493.306 Q2230.56 501.674 2225.35 506.326 Q2220.15 510.944 2210.67 510.944 Q2207.4 510.944 2204 510.389 Q2200.63 509.833 2197.02 508.722 L2197.02 501.674 Q2200.15 503.375 2203.48 504.208 Q2206.81 505.042 2210.53 505.042 Q2216.54 505.042 2220.04 501.882 Q2223.55 498.722 2223.55 493.306 Q2223.55 487.889 2220.04 484.729 Q2216.54 481.57 2210.53 481.57 Q2207.72 481.57 2204.9 482.195 Q2202.13 482.82 2199.21 484.139 L2199.21 458.098 Z\" fill=\"#000000\" fill-rule=\"evenodd\" fill-opacity=\"1\" /></svg>\n"
      ]
     },
     "execution_count": 13,
     "metadata": {},
     "output_type": "execute_result"
    }
   ],
   "source": [
    "A = vander(x, 5)\n",
    "Q, R = gram_schmidt_naive(A)\n",
    "plot(x, Q, marker=:auto)"
   ]
  },
  {
   "cell_type": "markdown",
   "id": "e970788d",
   "metadata": {
    "slideshow": {
     "slide_type": "fragment"
    }
   },
   "source": [
    "What happens if we use more than 50 values of $x$? Is there a continuous limit?"
   ]
  },
  {
   "cell_type": "markdown",
   "id": "25b1f7e8",
   "metadata": {
    "cell_style": "center",
    "slideshow": {
     "slide_type": "slide"
    }
   },
   "source": [
    "# Theorem\n",
    "## Every full-rank $m\\times n$ matrix ($m \\ge n$) has a unique reduced $Q R$ factorization with $R_{j,j} > 0$\n",
    "\n",
    "The algorithm we're using generates this matrix due to the line:\n",
    "```julia\n",
    "        R[j,j] = norm(v)\n",
    "```"
   ]
  },
  {
   "cell_type": "markdown",
   "id": "3c5838b3",
   "metadata": {
    "slideshow": {
     "slide_type": "slide"
    }
   },
   "source": [
    "# Solving equations using $QR = A$\n",
    "\n",
    "If $A x = b$ then $Rx = Q^T b$."
   ]
  },
  {
   "cell_type": "code",
   "execution_count": 14,
   "id": "8ee71b61",
   "metadata": {},
   "outputs": [
    {
     "data": {
      "image/svg+xml": [
       "<?xml version=\"1.0\" encoding=\"utf-8\"?>\n",
       "<svg xmlns=\"http://www.w3.org/2000/svg\" xmlns:xlink=\"http://www.w3.org/1999/xlink\" width=\"600\" height=\"400\" viewBox=\"0 0 2400 1600\">\n",
       "<defs>\n",
       "  <clipPath id=\"clip170\">\n",
       "    <rect x=\"0\" y=\"0\" width=\"2400\" height=\"1600\"/>\n",
       "  </clipPath>\n",
       "</defs>\n",
       "<path clip-path=\"url(#clip170)\" d=\"\n",
       "M0 1600 L2400 1600 L2400 0 L0 0  Z\n",
       "  \" fill=\"#ffffff\" fill-rule=\"evenodd\" fill-opacity=\"1\"/>\n",
       "<defs>\n",
       "  <clipPath id=\"clip171\">\n",
       "    <rect x=\"480\" y=\"0\" width=\"1681\" height=\"1600\"/>\n",
       "  </clipPath>\n",
       "</defs>\n",
       "<path clip-path=\"url(#clip170)\" d=\"\n",
       "M156.112 1486.45 L2352.76 1486.45 L2352.76 47.2441 L156.112 47.2441  Z\n",
       "  \" fill=\"#ffffff\" fill-rule=\"evenodd\" fill-opacity=\"1\"/>\n",
       "<defs>\n",
       "  <clipPath id=\"clip172\">\n",
       "    <rect x=\"156\" y=\"47\" width=\"2198\" height=\"1440\"/>\n",
       "  </clipPath>\n",
       "</defs>\n",
       "<polyline clip-path=\"url(#clip172)\" style=\"stroke:#000000; stroke-linecap:butt; stroke-linejoin:round; stroke-width:2; stroke-opacity:0.1; fill:none\" points=\"\n",
       "  218.281,1486.45 218.281,47.2441 \n",
       "  \"/>\n",
       "<polyline clip-path=\"url(#clip172)\" style=\"stroke:#000000; stroke-linecap:butt; stroke-linejoin:round; stroke-width:2; stroke-opacity:0.1; fill:none\" points=\"\n",
       "  736.358,1486.45 736.358,47.2441 \n",
       "  \"/>\n",
       "<polyline clip-path=\"url(#clip172)\" style=\"stroke:#000000; stroke-linecap:butt; stroke-linejoin:round; stroke-width:2; stroke-opacity:0.1; fill:none\" points=\"\n",
       "  1254.43,1486.45 1254.43,47.2441 \n",
       "  \"/>\n",
       "<polyline clip-path=\"url(#clip172)\" style=\"stroke:#000000; stroke-linecap:butt; stroke-linejoin:round; stroke-width:2; stroke-opacity:0.1; fill:none\" points=\"\n",
       "  1772.51,1486.45 1772.51,47.2441 \n",
       "  \"/>\n",
       "<polyline clip-path=\"url(#clip172)\" style=\"stroke:#000000; stroke-linecap:butt; stroke-linejoin:round; stroke-width:2; stroke-opacity:0.1; fill:none\" points=\"\n",
       "  2290.59,1486.45 2290.59,47.2441 \n",
       "  \"/>\n",
       "<polyline clip-path=\"url(#clip170)\" style=\"stroke:#000000; stroke-linecap:butt; stroke-linejoin:round; stroke-width:4; stroke-opacity:1; fill:none\" points=\"\n",
       "  156.112,1486.45 2352.76,1486.45 \n",
       "  \"/>\n",
       "<polyline clip-path=\"url(#clip170)\" style=\"stroke:#000000; stroke-linecap:butt; stroke-linejoin:round; stroke-width:4; stroke-opacity:1; fill:none\" points=\"\n",
       "  218.281,1486.45 218.281,1467.55 \n",
       "  \"/>\n",
       "<polyline clip-path=\"url(#clip170)\" style=\"stroke:#000000; stroke-linecap:butt; stroke-linejoin:round; stroke-width:4; stroke-opacity:1; fill:none\" points=\"\n",
       "  736.358,1486.45 736.358,1467.55 \n",
       "  \"/>\n",
       "<polyline clip-path=\"url(#clip170)\" style=\"stroke:#000000; stroke-linecap:butt; stroke-linejoin:round; stroke-width:4; stroke-opacity:1; fill:none\" points=\"\n",
       "  1254.43,1486.45 1254.43,1467.55 \n",
       "  \"/>\n",
       "<polyline clip-path=\"url(#clip170)\" style=\"stroke:#000000; stroke-linecap:butt; stroke-linejoin:round; stroke-width:4; stroke-opacity:1; fill:none\" points=\"\n",
       "  1772.51,1486.45 1772.51,1467.55 \n",
       "  \"/>\n",
       "<polyline clip-path=\"url(#clip170)\" style=\"stroke:#000000; stroke-linecap:butt; stroke-linejoin:round; stroke-width:4; stroke-opacity:1; fill:none\" points=\"\n",
       "  2290.59,1486.45 2290.59,1467.55 \n",
       "  \"/>\n",
       "<path clip-path=\"url(#clip170)\" d=\"M164.809 1532.02 L194.485 1532.02 L194.485 1535.95 L164.809 1535.95 L164.809 1532.02 Z\" fill=\"#000000\" fill-rule=\"evenodd\" fill-opacity=\"1\" /><path clip-path=\"url(#clip170)\" d=\"M205.388 1544.91 L213.027 1544.91 L213.027 1518.55 L204.717 1520.21 L204.717 1515.95 L212.98 1514.29 L217.656 1514.29 L217.656 1544.91 L225.295 1544.91 L225.295 1548.85 L205.388 1548.85 L205.388 1544.91 Z\" fill=\"#000000\" fill-rule=\"evenodd\" fill-opacity=\"1\" /><path clip-path=\"url(#clip170)\" d=\"M234.74 1542.97 L239.624 1542.97 L239.624 1548.85 L234.74 1548.85 L234.74 1542.97 Z\" fill=\"#000000\" fill-rule=\"evenodd\" fill-opacity=\"1\" /><path clip-path=\"url(#clip170)\" d=\"M259.809 1517.37 Q256.198 1517.37 254.369 1520.93 Q252.564 1524.47 252.564 1531.6 Q252.564 1538.71 254.369 1542.27 Q256.198 1545.82 259.809 1545.82 Q263.443 1545.82 265.249 1542.27 Q267.077 1538.71 267.077 1531.6 Q267.077 1524.47 265.249 1520.93 Q263.443 1517.37 259.809 1517.37 M259.809 1513.66 Q265.619 1513.66 268.675 1518.27 Q271.753 1522.85 271.753 1531.6 Q271.753 1540.33 268.675 1544.94 Q265.619 1549.52 259.809 1549.52 Q253.999 1549.52 250.92 1544.94 Q247.864 1540.33 247.864 1531.6 Q247.864 1522.85 250.92 1518.27 Q253.999 1513.66 259.809 1513.66 Z\" fill=\"#000000\" fill-rule=\"evenodd\" fill-opacity=\"1\" /><path clip-path=\"url(#clip170)\" d=\"M683.383 1532.02 L713.059 1532.02 L713.059 1535.95 L683.383 1535.95 L683.383 1532.02 Z\" fill=\"#000000\" fill-rule=\"evenodd\" fill-opacity=\"1\" /><path clip-path=\"url(#clip170)\" d=\"M733.152 1517.37 Q729.541 1517.37 727.712 1520.93 Q725.906 1524.47 725.906 1531.6 Q725.906 1538.71 727.712 1542.27 Q729.541 1545.82 733.152 1545.82 Q736.786 1545.82 738.591 1542.27 Q740.42 1538.71 740.42 1531.6 Q740.42 1524.47 738.591 1520.93 Q736.786 1517.37 733.152 1517.37 M733.152 1513.66 Q738.962 1513.66 742.017 1518.27 Q745.096 1522.85 745.096 1531.6 Q745.096 1540.33 742.017 1544.94 Q738.962 1549.52 733.152 1549.52 Q727.341 1549.52 724.263 1544.94 Q721.207 1540.33 721.207 1531.6 Q721.207 1522.85 724.263 1518.27 Q727.341 1513.66 733.152 1513.66 Z\" fill=\"#000000\" fill-rule=\"evenodd\" fill-opacity=\"1\" /><path clip-path=\"url(#clip170)\" d=\"M753.314 1542.97 L758.198 1542.97 L758.198 1548.85 L753.314 1548.85 L753.314 1542.97 Z\" fill=\"#000000\" fill-rule=\"evenodd\" fill-opacity=\"1\" /><path clip-path=\"url(#clip170)\" d=\"M768.429 1514.29 L786.786 1514.29 L786.786 1518.22 L772.712 1518.22 L772.712 1526.7 Q773.73 1526.35 774.749 1526.19 Q775.767 1526 776.786 1526 Q782.573 1526 785.952 1529.17 Q789.332 1532.34 789.332 1537.76 Q789.332 1543.34 785.86 1546.44 Q782.387 1549.52 776.068 1549.52 Q773.892 1549.52 771.624 1549.15 Q769.378 1548.78 766.971 1548.04 L766.971 1543.34 Q769.054 1544.47 771.276 1545.03 Q773.499 1545.58 775.975 1545.58 Q779.98 1545.58 782.318 1543.48 Q784.656 1541.37 784.656 1537.76 Q784.656 1534.15 782.318 1532.04 Q779.98 1529.94 775.975 1529.94 Q774.101 1529.94 772.226 1530.35 Q770.374 1530.77 768.429 1531.65 L768.429 1514.29 Z\" fill=\"#000000\" fill-rule=\"evenodd\" fill-opacity=\"1\" /><path clip-path=\"url(#clip170)\" d=\"M1231.82 1517.37 Q1228.21 1517.37 1226.38 1520.93 Q1224.57 1524.47 1224.57 1531.6 Q1224.57 1538.71 1226.38 1542.27 Q1228.21 1545.82 1231.82 1545.82 Q1235.45 1545.82 1237.26 1542.27 Q1239.09 1538.71 1239.09 1531.6 Q1239.09 1524.47 1237.26 1520.93 Q1235.45 1517.37 1231.82 1517.37 M1231.82 1513.66 Q1237.63 1513.66 1240.68 1518.27 Q1243.76 1522.85 1243.76 1531.6 Q1243.76 1540.33 1240.68 1544.94 Q1237.63 1549.52 1231.82 1549.52 Q1226.01 1549.52 1222.93 1544.94 Q1219.87 1540.33 1219.87 1531.6 Q1219.87 1522.85 1222.93 1518.27 Q1226.01 1513.66 1231.82 1513.66 Z\" fill=\"#000000\" fill-rule=\"evenodd\" fill-opacity=\"1\" /><path clip-path=\"url(#clip170)\" d=\"M1251.98 1542.97 L1256.86 1542.97 L1256.86 1548.85 L1251.98 1548.85 L1251.98 1542.97 Z\" fill=\"#000000\" fill-rule=\"evenodd\" fill-opacity=\"1\" /><path clip-path=\"url(#clip170)\" d=\"M1277.05 1517.37 Q1273.44 1517.37 1271.61 1520.93 Q1269.8 1524.47 1269.8 1531.6 Q1269.8 1538.71 1271.61 1542.27 Q1273.44 1545.82 1277.05 1545.82 Q1280.68 1545.82 1282.49 1542.27 Q1284.32 1538.71 1284.32 1531.6 Q1284.32 1524.47 1282.49 1520.93 Q1280.68 1517.37 1277.05 1517.37 M1277.05 1513.66 Q1282.86 1513.66 1285.92 1518.27 Q1288.99 1522.85 1288.99 1531.6 Q1288.99 1540.33 1285.92 1544.94 Q1282.86 1549.52 1277.05 1549.52 Q1271.24 1549.52 1268.16 1544.94 Q1265.11 1540.33 1265.11 1531.6 Q1265.11 1522.85 1268.16 1518.27 Q1271.24 1513.66 1277.05 1513.66 Z\" fill=\"#000000\" fill-rule=\"evenodd\" fill-opacity=\"1\" /><path clip-path=\"url(#clip170)\" d=\"M1750.39 1517.37 Q1746.78 1517.37 1744.95 1520.93 Q1743.15 1524.47 1743.15 1531.6 Q1743.15 1538.71 1744.95 1542.27 Q1746.78 1545.82 1750.39 1545.82 Q1754.03 1545.82 1755.83 1542.27 Q1757.66 1538.71 1757.66 1531.6 Q1757.66 1524.47 1755.83 1520.93 Q1754.03 1517.37 1750.39 1517.37 M1750.39 1513.66 Q1756.2 1513.66 1759.26 1518.27 Q1762.34 1522.85 1762.34 1531.6 Q1762.34 1540.33 1759.26 1544.94 Q1756.2 1549.52 1750.39 1549.52 Q1744.58 1549.52 1741.5 1544.94 Q1738.45 1540.33 1738.45 1531.6 Q1738.45 1522.85 1741.5 1518.27 Q1744.58 1513.66 1750.39 1513.66 Z\" fill=\"#000000\" fill-rule=\"evenodd\" fill-opacity=\"1\" /><path clip-path=\"url(#clip170)\" d=\"M1770.55 1542.97 L1775.44 1542.97 L1775.44 1548.85 L1770.55 1548.85 L1770.55 1542.97 Z\" fill=\"#000000\" fill-rule=\"evenodd\" fill-opacity=\"1\" /><path clip-path=\"url(#clip170)\" d=\"M1785.67 1514.29 L1804.03 1514.29 L1804.03 1518.22 L1789.95 1518.22 L1789.95 1526.7 Q1790.97 1526.35 1791.99 1526.19 Q1793.01 1526 1794.03 1526 Q1799.81 1526 1803.19 1529.17 Q1806.57 1532.34 1806.57 1537.76 Q1806.57 1543.34 1803.1 1546.44 Q1799.63 1549.52 1793.31 1549.52 Q1791.13 1549.52 1788.86 1549.15 Q1786.62 1548.78 1784.21 1548.04 L1784.21 1543.34 Q1786.3 1544.47 1788.52 1545.03 Q1790.74 1545.58 1793.22 1545.58 Q1797.22 1545.58 1799.56 1543.48 Q1801.9 1541.37 1801.9 1537.76 Q1801.9 1534.15 1799.56 1532.04 Q1797.22 1529.94 1793.22 1529.94 Q1791.34 1529.94 1789.47 1530.35 Q1787.61 1530.77 1785.67 1531.65 L1785.67 1514.29 Z\" fill=\"#000000\" fill-rule=\"evenodd\" fill-opacity=\"1\" /><path clip-path=\"url(#clip170)\" d=\"M2257.74 1544.91 L2265.38 1544.91 L2265.38 1518.55 L2257.07 1520.21 L2257.07 1515.95 L2265.33 1514.29 L2270.01 1514.29 L2270.01 1544.91 L2277.65 1544.91 L2277.65 1548.85 L2257.74 1548.85 L2257.74 1544.91 Z\" fill=\"#000000\" fill-rule=\"evenodd\" fill-opacity=\"1\" /><path clip-path=\"url(#clip170)\" d=\"M2287.09 1542.97 L2291.98 1542.97 L2291.98 1548.85 L2287.09 1548.85 L2287.09 1542.97 Z\" fill=\"#000000\" fill-rule=\"evenodd\" fill-opacity=\"1\" /><path clip-path=\"url(#clip170)\" d=\"M2312.16 1517.37 Q2308.55 1517.37 2306.72 1520.93 Q2304.92 1524.47 2304.92 1531.6 Q2304.92 1538.71 2306.72 1542.27 Q2308.55 1545.82 2312.16 1545.82 Q2315.79 1545.82 2317.6 1542.27 Q2319.43 1538.71 2319.43 1531.6 Q2319.43 1524.47 2317.6 1520.93 Q2315.79 1517.37 2312.16 1517.37 M2312.16 1513.66 Q2317.97 1513.66 2321.03 1518.27 Q2324.11 1522.85 2324.11 1531.6 Q2324.11 1540.33 2321.03 1544.94 Q2317.97 1549.52 2312.16 1549.52 Q2306.35 1549.52 2303.27 1544.94 Q2300.22 1540.33 2300.22 1531.6 Q2300.22 1522.85 2303.27 1518.27 Q2306.35 1513.66 2312.16 1513.66 Z\" fill=\"#000000\" fill-rule=\"evenodd\" fill-opacity=\"1\" /><polyline clip-path=\"url(#clip172)\" style=\"stroke:#000000; stroke-linecap:butt; stroke-linejoin:round; stroke-width:2; stroke-opacity:0.1; fill:none\" points=\"\n",
       "  156.112,1341.27 2352.76,1341.27 \n",
       "  \"/>\n",
       "<polyline clip-path=\"url(#clip172)\" style=\"stroke:#000000; stroke-linecap:butt; stroke-linejoin:round; stroke-width:2; stroke-opacity:0.1; fill:none\" points=\"\n",
       "  156.112,1080.17 2352.76,1080.17 \n",
       "  \"/>\n",
       "<polyline clip-path=\"url(#clip172)\" style=\"stroke:#000000; stroke-linecap:butt; stroke-linejoin:round; stroke-width:2; stroke-opacity:0.1; fill:none\" points=\"\n",
       "  156.112,819.067 2352.76,819.067 \n",
       "  \"/>\n",
       "<polyline clip-path=\"url(#clip172)\" style=\"stroke:#000000; stroke-linecap:butt; stroke-linejoin:round; stroke-width:2; stroke-opacity:0.1; fill:none\" points=\"\n",
       "  156.112,557.963 2352.76,557.963 \n",
       "  \"/>\n",
       "<polyline clip-path=\"url(#clip172)\" style=\"stroke:#000000; stroke-linecap:butt; stroke-linejoin:round; stroke-width:2; stroke-opacity:0.1; fill:none\" points=\"\n",
       "  156.112,296.859 2352.76,296.859 \n",
       "  \"/>\n",
       "<polyline clip-path=\"url(#clip170)\" style=\"stroke:#000000; stroke-linecap:butt; stroke-linejoin:round; stroke-width:4; stroke-opacity:1; fill:none\" points=\"\n",
       "  156.112,1486.45 156.112,47.2441 \n",
       "  \"/>\n",
       "<polyline clip-path=\"url(#clip170)\" style=\"stroke:#000000; stroke-linecap:butt; stroke-linejoin:round; stroke-width:4; stroke-opacity:1; fill:none\" points=\"\n",
       "  156.112,1341.27 175.01,1341.27 \n",
       "  \"/>\n",
       "<polyline clip-path=\"url(#clip170)\" style=\"stroke:#000000; stroke-linecap:butt; stroke-linejoin:round; stroke-width:4; stroke-opacity:1; fill:none\" points=\"\n",
       "  156.112,1080.17 175.01,1080.17 \n",
       "  \"/>\n",
       "<polyline clip-path=\"url(#clip170)\" style=\"stroke:#000000; stroke-linecap:butt; stroke-linejoin:round; stroke-width:4; stroke-opacity:1; fill:none\" points=\"\n",
       "  156.112,819.067 175.01,819.067 \n",
       "  \"/>\n",
       "<polyline clip-path=\"url(#clip170)\" style=\"stroke:#000000; stroke-linecap:butt; stroke-linejoin:round; stroke-width:4; stroke-opacity:1; fill:none\" points=\"\n",
       "  156.112,557.963 175.01,557.963 \n",
       "  \"/>\n",
       "<polyline clip-path=\"url(#clip170)\" style=\"stroke:#000000; stroke-linecap:butt; stroke-linejoin:round; stroke-width:4; stroke-opacity:1; fill:none\" points=\"\n",
       "  156.112,296.859 175.01,296.859 \n",
       "  \"/>\n",
       "<path clip-path=\"url(#clip170)\" d=\"M62.9365 1327.07 Q59.3254 1327.07 57.4967 1330.64 Q55.6912 1334.18 55.6912 1341.31 Q55.6912 1348.42 57.4967 1351.98 Q59.3254 1355.52 62.9365 1355.52 Q66.5707 1355.52 68.3763 1351.98 Q70.205 1348.42 70.205 1341.31 Q70.205 1334.18 68.3763 1330.64 Q66.5707 1327.07 62.9365 1327.07 M62.9365 1323.37 Q68.7467 1323.37 71.8022 1327.98 Q74.8809 1332.56 74.8809 1341.31 Q74.8809 1350.04 71.8022 1354.64 Q68.7467 1359.23 62.9365 1359.23 Q57.1264 1359.23 54.0477 1354.64 Q50.9921 1350.04 50.9921 1341.31 Q50.9921 1332.56 54.0477 1327.98 Q57.1264 1323.37 62.9365 1323.37 Z\" fill=\"#000000\" fill-rule=\"evenodd\" fill-opacity=\"1\" /><path clip-path=\"url(#clip170)\" d=\"M83.0984 1352.67 L87.9827 1352.67 L87.9827 1358.55 L83.0984 1358.55 L83.0984 1352.67 Z\" fill=\"#000000\" fill-rule=\"evenodd\" fill-opacity=\"1\" /><path clip-path=\"url(#clip170)\" d=\"M108.168 1327.07 Q104.557 1327.07 102.728 1330.64 Q100.922 1334.18 100.922 1341.31 Q100.922 1348.42 102.728 1351.98 Q104.557 1355.52 108.168 1355.52 Q111.802 1355.52 113.608 1351.98 Q115.436 1348.42 115.436 1341.31 Q115.436 1334.18 113.608 1330.64 Q111.802 1327.07 108.168 1327.07 M108.168 1323.37 Q113.978 1323.37 117.033 1327.98 Q120.112 1332.56 120.112 1341.31 Q120.112 1350.04 117.033 1354.64 Q113.978 1359.23 108.168 1359.23 Q102.358 1359.23 99.2789 1354.64 Q96.2234 1350.04 96.2234 1341.31 Q96.2234 1332.56 99.2789 1327.98 Q102.358 1323.37 108.168 1323.37 Z\" fill=\"#000000\" fill-rule=\"evenodd\" fill-opacity=\"1\" /><path clip-path=\"url(#clip170)\" d=\"M63.9319 1065.97 Q60.3208 1065.97 58.4921 1069.53 Q56.6865 1073.08 56.6865 1080.21 Q56.6865 1087.31 58.4921 1090.88 Q60.3208 1094.42 63.9319 1094.42 Q67.5661 1094.42 69.3717 1090.88 Q71.2004 1087.31 71.2004 1080.21 Q71.2004 1073.08 69.3717 1069.53 Q67.5661 1065.97 63.9319 1065.97 M63.9319 1062.27 Q69.742 1062.27 72.7976 1066.87 Q75.8763 1071.46 75.8763 1080.21 Q75.8763 1088.93 72.7976 1093.54 Q69.742 1098.12 63.9319 1098.12 Q58.1217 1098.12 55.043 1093.54 Q51.9875 1088.93 51.9875 1080.21 Q51.9875 1071.46 55.043 1066.87 Q58.1217 1062.27 63.9319 1062.27 Z\" fill=\"#000000\" fill-rule=\"evenodd\" fill-opacity=\"1\" /><path clip-path=\"url(#clip170)\" d=\"M84.0938 1091.57 L88.978 1091.57 L88.978 1097.45 L84.0938 1097.45 L84.0938 1091.57 Z\" fill=\"#000000\" fill-rule=\"evenodd\" fill-opacity=\"1\" /><path clip-path=\"url(#clip170)\" d=\"M99.2095 1062.89 L117.566 1062.89 L117.566 1066.83 L103.492 1066.83 L103.492 1075.3 Q104.51 1074.95 105.529 1074.79 Q106.547 1074.6 107.566 1074.6 Q113.353 1074.6 116.733 1077.77 Q120.112 1080.95 120.112 1086.36 Q120.112 1091.94 116.64 1095.04 Q113.168 1098.12 106.848 1098.12 Q104.672 1098.12 102.404 1097.75 Q100.159 1097.38 97.7511 1096.64 L97.7511 1091.94 Q99.8345 1093.08 102.057 1093.63 Q104.279 1094.19 106.756 1094.19 Q110.76 1094.19 113.098 1092.08 Q115.436 1089.97 115.436 1086.36 Q115.436 1082.75 113.098 1080.64 Q110.76 1078.54 106.756 1078.54 Q104.881 1078.54 103.006 1078.96 Q101.154 1079.37 99.2095 1080.25 L99.2095 1062.89 Z\" fill=\"#000000\" fill-rule=\"evenodd\" fill-opacity=\"1\" /><path clip-path=\"url(#clip170)\" d=\"M53.7467 832.412 L61.3856 832.412 L61.3856 806.046 L53.0754 807.713 L53.0754 803.453 L61.3393 801.787 L66.0152 801.787 L66.0152 832.412 L73.654 832.412 L73.654 836.347 L53.7467 836.347 L53.7467 832.412 Z\" fill=\"#000000\" fill-rule=\"evenodd\" fill-opacity=\"1\" /><path clip-path=\"url(#clip170)\" d=\"M83.0984 830.467 L87.9827 830.467 L87.9827 836.347 L83.0984 836.347 L83.0984 830.467 Z\" fill=\"#000000\" fill-rule=\"evenodd\" fill-opacity=\"1\" /><path clip-path=\"url(#clip170)\" d=\"M108.168 804.865 Q104.557 804.865 102.728 808.43 Q100.922 811.972 100.922 819.101 Q100.922 826.208 102.728 829.773 Q104.557 833.314 108.168 833.314 Q111.802 833.314 113.608 829.773 Q115.436 826.208 115.436 819.101 Q115.436 811.972 113.608 808.43 Q111.802 804.865 108.168 804.865 M108.168 801.162 Q113.978 801.162 117.033 805.768 Q120.112 810.351 120.112 819.101 Q120.112 827.828 117.033 832.435 Q113.978 837.018 108.168 837.018 Q102.358 837.018 99.2789 832.435 Q96.2234 827.828 96.2234 819.101 Q96.2234 810.351 99.2789 805.768 Q102.358 801.162 108.168 801.162 Z\" fill=\"#000000\" fill-rule=\"evenodd\" fill-opacity=\"1\" /><path clip-path=\"url(#clip170)\" d=\"M54.7421 571.308 L62.381 571.308 L62.381 544.942 L54.0708 546.609 L54.0708 542.35 L62.3347 540.683 L67.0106 540.683 L67.0106 571.308 L74.6494 571.308 L74.6494 575.243 L54.7421 575.243 L54.7421 571.308 Z\" fill=\"#000000\" fill-rule=\"evenodd\" fill-opacity=\"1\" /><path clip-path=\"url(#clip170)\" d=\"M84.0938 569.363 L88.978 569.363 L88.978 575.243 L84.0938 575.243 L84.0938 569.363 Z\" fill=\"#000000\" fill-rule=\"evenodd\" fill-opacity=\"1\" /><path clip-path=\"url(#clip170)\" d=\"M99.2095 540.683 L117.566 540.683 L117.566 544.618 L103.492 544.618 L103.492 553.09 Q104.51 552.743 105.529 552.581 Q106.547 552.396 107.566 552.396 Q113.353 552.396 116.733 555.567 Q120.112 558.738 120.112 564.155 Q120.112 569.734 116.64 572.836 Q113.168 575.914 106.848 575.914 Q104.672 575.914 102.404 575.544 Q100.159 575.174 97.7511 574.433 L97.7511 569.734 Q99.8345 570.868 102.057 571.424 Q104.279 571.979 106.756 571.979 Q110.76 571.979 113.098 569.873 Q115.436 567.766 115.436 564.155 Q115.436 560.544 113.098 558.438 Q110.76 556.331 106.756 556.331 Q104.881 556.331 103.006 556.748 Q101.154 557.164 99.2095 558.044 L99.2095 540.683 Z\" fill=\"#000000\" fill-rule=\"evenodd\" fill-opacity=\"1\" /><path clip-path=\"url(#clip170)\" d=\"M56.9643 310.204 L73.2837 310.204 L73.2837 314.139 L51.3393 314.139 L51.3393 310.204 Q54.0014 307.449 58.5847 302.82 Q63.1911 298.167 64.3717 296.825 Q66.617 294.301 67.4967 292.565 Q68.3994 290.806 68.3994 289.116 Q68.3994 286.362 66.455 284.626 Q64.5337 282.889 61.4319 282.889 Q59.2328 282.889 56.7791 283.653 Q54.3486 284.417 51.5708 285.968 L51.5708 281.246 Q54.3949 280.112 56.8486 279.533 Q59.3023 278.954 61.3393 278.954 Q66.7096 278.954 69.9041 281.639 Q73.0985 284.325 73.0985 288.815 Q73.0985 290.945 72.2883 292.866 Q71.5013 294.764 69.3948 297.357 Q68.8161 298.028 65.7143 301.246 Q62.6124 304.44 56.9643 310.204 Z\" fill=\"#000000\" fill-rule=\"evenodd\" fill-opacity=\"1\" /><path clip-path=\"url(#clip170)\" d=\"M83.0984 308.26 L87.9827 308.26 L87.9827 314.139 L83.0984 314.139 L83.0984 308.26 Z\" fill=\"#000000\" fill-rule=\"evenodd\" fill-opacity=\"1\" /><path clip-path=\"url(#clip170)\" d=\"M108.168 282.658 Q104.557 282.658 102.728 286.223 Q100.922 289.764 100.922 296.894 Q100.922 304 102.728 307.565 Q104.557 311.107 108.168 311.107 Q111.802 311.107 113.608 307.565 Q115.436 304 115.436 296.894 Q115.436 289.764 113.608 286.223 Q111.802 282.658 108.168 282.658 M108.168 278.954 Q113.978 278.954 117.033 283.561 Q120.112 288.144 120.112 296.894 Q120.112 305.621 117.033 310.227 Q113.978 314.811 108.168 314.811 Q102.358 314.811 99.2789 310.227 Q96.2234 305.621 96.2234 296.894 Q96.2234 288.144 99.2789 283.561 Q102.358 278.954 108.168 278.954 Z\" fill=\"#000000\" fill-rule=\"evenodd\" fill-opacity=\"1\" /><circle clip-path=\"url(#clip172)\" cx=\"321.897\" cy=\"819.067\" r=\"14\" fill=\"#009af9\" fill-rule=\"evenodd\" fill-opacity=\"1\" stroke=\"#000000\" stroke-opacity=\"1\" stroke-width=\"3.2\"/>\n",
       "<circle clip-path=\"url(#clip172)\" cx=\"1358.05\" cy=\"87.9763\" r=\"14\" fill=\"#009af9\" fill-rule=\"evenodd\" fill-opacity=\"1\" stroke=\"#000000\" stroke-opacity=\"1\" stroke-width=\"3.2\"/>\n",
       "<circle clip-path=\"url(#clip172)\" cx=\"1772.51\" cy=\"1445.72\" r=\"14\" fill=\"#009af9\" fill-rule=\"evenodd\" fill-opacity=\"1\" stroke=\"#000000\" stroke-opacity=\"1\" stroke-width=\"3.2\"/>\n",
       "<circle clip-path=\"url(#clip172)\" cx=\"2083.36\" cy=\"662.404\" r=\"14\" fill=\"#009af9\" fill-rule=\"evenodd\" fill-opacity=\"1\" stroke=\"#000000\" stroke-opacity=\"1\" stroke-width=\"3.2\"/>\n",
       "<polyline clip-path=\"url(#clip172)\" style=\"stroke:#e26f46; stroke-linecap:butt; stroke-linejoin:round; stroke-width:16; stroke-opacity:1; fill:none\" points=\"\n",
       "  218.281,854.01 260.573,817.729 302.865,783.286 345.157,750.68 387.449,719.912 429.741,690.981 472.033,663.888 514.325,638.632 556.617,615.213 598.909,593.632 \n",
       "  641.201,573.889 683.493,555.983 725.785,539.914 768.077,525.683 810.369,513.289 852.661,502.733 894.952,494.014 937.244,487.133 979.536,482.089 1021.83,478.883 \n",
       "  1064.12,477.514 1106.41,477.983 1148.7,480.289 1191,484.433 1233.29,490.414 1275.58,498.232 1317.87,507.888 1360.16,519.382 1402.46,532.712 1444.75,547.881 \n",
       "  1487.04,564.887 1529.33,583.73 1571.62,604.411 1613.92,626.929 1656.21,651.285 1698.5,677.478 1740.79,705.509 1783.08,735.377 1825.38,767.082 1867.67,800.625 \n",
       "  1909.96,836.006 1952.25,873.224 1994.54,912.279 2036.84,953.172 2079.13,995.903 2121.42,1040.47 2163.71,1086.88 2206,1135.12 2248.29,1185.2 2290.59,1237.12 \n",
       "  \n",
       "  \"/>\n",
       "<path clip-path=\"url(#clip170)\" d=\"\n",
       "M1956.82 328.498 L2279.53 328.498 L2279.53 95.2176 L1956.82 95.2176  Z\n",
       "  \" fill=\"#ffffff\" fill-rule=\"evenodd\" fill-opacity=\"1\"/>\n",
       "<polyline clip-path=\"url(#clip170)\" style=\"stroke:#000000; stroke-linecap:butt; stroke-linejoin:round; stroke-width:4; stroke-opacity:1; fill:none\" points=\"\n",
       "  1956.82,328.498 2279.53,328.498 2279.53,95.2176 1956.82,95.2176 1956.82,328.498 \n",
       "  \"/>\n",
       "<circle clip-path=\"url(#clip170)\" cx=\"2054.45\" cy=\"172.978\" r=\"34\" fill=\"#009af9\" fill-rule=\"evenodd\" fill-opacity=\"1\" stroke=\"#000000\" stroke-opacity=\"1\" stroke-width=\"7.68\"/>\n",
       "<path clip-path=\"url(#clip170)\" d=\"M2172.84 202.509 Q2170.13 209.453 2167.56 211.571 Q2164.99 213.689 2160.69 213.689 L2155.58 213.689 L2155.58 208.342 L2159.33 208.342 Q2161.97 208.342 2163.43 207.092 Q2164.89 205.842 2166.66 201.189 L2167.8 198.273 L2152.07 160.009 L2158.85 160.009 L2171 190.425 L2183.15 160.009 L2189.92 160.009 L2172.84 202.509 Z\" fill=\"#000000\" fill-rule=\"evenodd\" fill-opacity=\"1\" /><path clip-path=\"url(#clip170)\" d=\"M2200.86 192.995 L2212.32 192.995 L2212.32 153.446 L2199.85 155.946 L2199.85 149.558 L2212.25 147.058 L2219.26 147.058 L2219.26 192.995 L2230.72 192.995 L2230.72 198.898 L2200.86 198.898 L2200.86 192.995 Z\" fill=\"#000000\" fill-rule=\"evenodd\" fill-opacity=\"1\" /><polyline clip-path=\"url(#clip170)\" style=\"stroke:#e26f46; stroke-linecap:butt; stroke-linejoin:round; stroke-width:6; stroke-opacity:1; fill:none\" points=\"\n",
       "  1981.22,250.738 2127.67,250.738 \n",
       "  \"/>\n",
       "<path clip-path=\"url(#clip170)\" d=\"M2172.84 280.269 Q2170.13 287.213 2167.56 289.331 Q2164.99 291.449 2160.69 291.449 L2155.58 291.449 L2155.58 286.102 L2159.33 286.102 Q2161.97 286.102 2163.43 284.852 Q2164.89 283.602 2166.66 278.949 L2167.8 276.033 L2152.07 237.769 L2158.85 237.769 L2171 268.185 L2183.15 237.769 L2189.92 237.769 L2172.84 280.269 Z\" fill=\"#000000\" fill-rule=\"evenodd\" fill-opacity=\"1\" /><path clip-path=\"url(#clip170)\" d=\"M2205.69 270.755 L2230.16 270.755 L2230.16 276.658 L2197.25 276.658 L2197.25 270.755 Q2201.24 266.623 2208.12 259.678 Q2215.03 252.699 2216.8 250.685 Q2220.16 246.901 2221.48 244.297 Q2222.84 241.658 2222.84 239.123 Q2222.84 234.991 2219.92 232.387 Q2217.04 229.783 2212.39 229.783 Q2209.09 229.783 2205.41 230.929 Q2201.76 232.074 2197.6 234.401 L2197.6 227.318 Q2201.83 225.616 2205.51 224.748 Q2209.19 223.88 2212.25 223.88 Q2220.3 223.88 2225.1 227.908 Q2229.89 231.936 2229.89 238.672 Q2229.89 241.866 2228.67 244.748 Q2227.49 247.595 2224.33 251.484 Q2223.46 252.491 2218.81 257.317 Q2214.16 262.109 2205.69 270.755 Z\" fill=\"#000000\" fill-rule=\"evenodd\" fill-opacity=\"1\" /></svg>\n"
      ]
     },
     "execution_count": 14,
     "metadata": {},
     "output_type": "execute_result"
    }
   ],
   "source": [
    "x1 = [-0.9, 0.1, 0.5, 0.8] # points where we know values\n",
    "y1 = [1, 2.4, -0.2, 1.3]\n",
    "scatter(x1, y1)\n",
    "Q, R = gram_schmidt_naive(vander(x1, 3))\n",
    "p = R \\ (Q' * y1)\n",
    "plot!(x, vander(x, 3) * p)"
   ]
  },
  {
   "cell_type": "markdown",
   "id": "39e38b8b",
   "metadata": {
    "slideshow": {
     "slide_type": "slide"
    }
   },
   "source": [
    "# How accurate is it?"
   ]
  },
  {
   "cell_type": "code",
   "execution_count": 15,
   "id": "94fd9d57",
   "metadata": {},
   "outputs": [
    {
     "name": "stdout",
     "output_type": "stream",
     "text": [
      "norm(Q' * Q - I) = 1.073721107832196e-8\n",
      "norm(Q * R - A) = 8.268821431611631e-16\n"
     ]
    },
    {
     "data": {
      "text/plain": [
       "8.268821431611631e-16"
      ]
     },
     "execution_count": 15,
     "metadata": {},
     "output_type": "execute_result"
    }
   ],
   "source": [
    "m = 20\n",
    "x = LinRange(-1, 1, m)\n",
    "A = vander(x, m)\n",
    "Q, R = gram_schmidt_naive(A)\n",
    "@show norm(Q' * Q - I)\n",
    "@show norm(Q * R - A)"
   ]
  },
  {
   "cell_type": "markdown",
   "id": "efc14559",
   "metadata": {
    "slideshow": {
     "slide_type": "slide"
    }
   },
   "source": [
    "# A variant with more parallelism\n",
    "\n",
    "\\begin{align}\n",
    "(I - q_2 q_2^T) (I - q_1 q_1^T) v &= (I - q_1 q_1^T - q_2 q_2^T + q_2 q_2^T q_1 q_1^T) v \\\\\n",
    "&= \\Bigg( I - \\Big[ q_1 \\Big| q_2 \\Big] \\begin{bmatrix} q_1^T \\\\ q_2^T \\end{bmatrix} \\Bigg) v\n",
    "\\end{align}"
   ]
  },
  {
   "cell_type": "code",
   "execution_count": 16,
   "id": "3ac43046",
   "metadata": {
    "cell_style": "split"
   },
   "outputs": [
    {
     "data": {
      "text/plain": [
       "gram_schmidt_classical (generic function with 1 method)"
      ]
     },
     "execution_count": 16,
     "metadata": {},
     "output_type": "execute_result"
    }
   ],
   "source": [
    "function gram_schmidt_classical(A)\n",
    "    m, n = size(A)\n",
    "    Q = zeros(m, n)\n",
    "    R = zeros(n, n)\n",
    "    for j in 1:n\n",
    "        v = A[:,j]\n",
    "        R[1:j-1,j] = Q[:,1:j-1]' * v\n",
    "        v -= Q[:,1:j-1] * R[1:j-1,j]\n",
    "        R[j,j] = norm(v)\n",
    "        Q[:,j] = v / norm(v)\n",
    "    end\n",
    "    Q, R\n",
    "end"
   ]
  },
  {
   "cell_type": "code",
   "execution_count": 17,
   "id": "18964396",
   "metadata": {
    "cell_style": "split"
   },
   "outputs": [
    {
     "name": "stdout",
     "output_type": "stream",
     "text": [
      "norm(Q' * Q - I) = 6.339875256299394e-11\n",
      "norm(Q * R - A) = 1.217027619812654e-16\n"
     ]
    },
    {
     "data": {
      "text/plain": [
       "1.217027619812654e-16"
      ]
     },
     "execution_count": 17,
     "metadata": {},
     "output_type": "execute_result"
    }
   ],
   "source": [
    "m = 10\n",
    "x = LinRange(-1, 1, m)\n",
    "A = vander(x, m)\n",
    "Q, R = gram_schmidt_classical(A)\n",
    "@show norm(Q' * Q - I)\n",
    "@show norm(Q * R - A)"
   ]
  },
  {
   "cell_type": "markdown",
   "id": "0bb95800",
   "metadata": {
    "slideshow": {
     "slide_type": "slide"
    }
   },
   "source": [
    "# Cost of Gram-Schmidt?\n",
    "\n",
    "* We'll count flops (addition, multiplication, division*)\n",
    "* Inner product $\\sum_{i=1}^m x_i y_i$?\n",
    "* Vector \"axpy\": $y_i = a x_i + y_i$, $i \\in [1, 2, \\dotsc, m]$.\n",
    "* Look at the inner loop:\n",
    "```julia\n",
    "for k in 1:j-1\n",
    "    r = Q[:,k]' * v\n",
    "    v -= Q[:,k] * r\n",
    "    R[k,j] = r\n",
    "end\n",
    "```"
   ]
  },
  {
   "cell_type": "markdown",
   "id": "af8205fe",
   "metadata": {
    "slideshow": {
     "slide_type": "slide"
    }
   },
   "source": [
    "<img src=\"../img/flop-per-byte-dp.png\" width=\"90%\" />"
   ]
  },
  {
   "cell_type": "markdown",
   "id": "964f91c5",
   "metadata": {
    "slideshow": {
     "slide_type": "slide"
    }
   },
   "source": [
    "# Counting flops is a bad model\n"
   ]
  },
  {
   "cell_type": "markdown",
   "id": "bde661f5",
   "metadata": {
    "cell_style": "split"
   },
   "source": [
    "* We load a single entry (8 bytes) and do 2 flops (add + multiply). That's an **arithmetic intensity** of 0.25 flops/byte.\n",
    "* Current hardware can do about 10 flops per byte, so our best algorithms will run at about 2% efficiency.\n",
    "* Need to focus on memory bandwidth, not flops.\n",
    "\n",
    "## Dense matrix-matrix mulitply\n",
    "\n",
    "* [BLIS project](https://github.com/flame/blis/)\n",
    "* [Analytic modeling](https://www.cs.utexas.edu/users/flame/pubs/TOMS-BLIS-Analytical.pdf)"
   ]
  },
  {
   "cell_type": "markdown",
   "id": "0532eaaf",
   "metadata": {
    "cell_style": "split"
   },
   "source": [
    "<img src=\"../img/blis-microkernel-stack.png\" width=\"70%\" />"
   ]
  }
 ],
 "metadata": {
  "@webio": {
   "lastCommId": "cd1892c1e2064686902fbdf399e6e3e3",
   "lastKernelId": "6eae1736-6531-4224-a6c2-38e7ff163d19"
  },
  "celltoolbar": "Slideshow",
  "hide_code_all_hidden": false,
  "kernelspec": {
   "display_name": "Julia 1.7.1",
   "language": "julia",
   "name": "julia-1.7"
  },
  "language_info": {
   "file_extension": ".jl",
   "mimetype": "application/julia",
   "name": "julia",
   "version": "1.7.2"
  },
  "rise": {
   "enable_chalkboard": true
  }
 },
 "nbformat": 4,
 "nbformat_minor": 5
}
