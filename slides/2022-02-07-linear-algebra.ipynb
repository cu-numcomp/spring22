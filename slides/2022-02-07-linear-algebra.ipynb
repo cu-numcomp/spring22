{
 "cells": [
  {
   "cell_type": "markdown",
   "id": "4159be0e",
   "metadata": {
    "hideCode": false,
    "hidePrompt": false,
    "slideshow": {
     "slide_type": "slide"
    }
   },
   "source": [
    "# 2022-02-07 Linear Algebra\n",
    "\n",
    "\n",
    "## Last time\n",
    "\n",
    "* Forward and backward stability\n",
    "* Beyond IEEE double precision\n",
    "* Discuss [portfolios](https://classroom.github.com/a/strHwkaV)\n",
    "\n",
    "## Today\n",
    "\n",
    "* Algebra of linear transformations\n",
    "* Polynomial evaluation and fitting\n",
    "* Orthogonality"
   ]
  },
  {
   "cell_type": "code",
   "execution_count": 7,
   "id": "eb781a7a",
   "metadata": {
    "slideshow": {
     "slide_type": "skip"
    }
   },
   "outputs": [],
   "source": [
    "using Plots\n",
    "default(linewidth=4, legendfontsize=12)"
   ]
  },
  {
   "cell_type": "markdown",
   "id": "1f18c04a",
   "metadata": {
    "slideshow": {
     "slide_type": "slide"
    }
   },
   "source": [
    "# Matrices as linear transformations\n",
    "\n",
    "Linear algebra is the study of linear transformations on vectors, which represent points in a finite dimensional space.  The matrix-vector product $y = A x$ is a linear combination of the columns of $A$.  The familiar definition,\n",
    "\n",
    "$$ y_i = \\sum_j A_{i,j} x_j $$\n",
    "\n",
    "can also be viewed as\n",
    "\n",
    "$$ y = \\Bigg[ A_{:,1} \\Bigg| A_{:,2} \\Bigg| \\dotsm \\Bigg] \\begin{bmatrix} x_1 \\\\ x_2 \\\\ \\vdots \\end{bmatrix}\n",
    "= \\Bigg[ A_{:,1} \\Bigg] x_1 + \\Bigg[ A_{:,2} \\Bigg] x_2 + \\dotsb . $$"
   ]
  },
  {
   "cell_type": "markdown",
   "id": "47d22601",
   "metadata": {
    "slideshow": {
     "slide_type": "slide"
    }
   },
   "source": [
    "# Math and Julia Notation\n",
    "\n",
    "The notation $A_{i,j}$ corresponds to the Julia syntax `A[i,j]` and the colon `:` means the entire range (row or column).  So $A_{:,j}$ is the $j$th column and $A_{i,:}$ is the $i$th row.  The corresponding Julia syntax is `A[:,j]` and `A[i,:]`.\n",
    "\n",
    "Julia has syntax for row vectors, column vectors, and arrays."
   ]
  },
  {
   "cell_type": "code",
   "execution_count": 44,
   "id": "ff3361f2",
   "metadata": {
    "cell_style": "split"
   },
   "outputs": [
    {
     "data": {
      "text/plain": [
       "1×3 Matrix{Float64}:\n",
       " 1.0  2.0  3.0"
      ]
     },
     "execution_count": 44,
     "metadata": {},
     "output_type": "execute_result"
    }
   ],
   "source": [
    "[1. 2 3]"
   ]
  },
  {
   "cell_type": "code",
   "execution_count": 9,
   "id": "d35b1571",
   "metadata": {
    "cell_style": "split"
   },
   "outputs": [
    {
     "data": {
      "text/plain": [
       "3-element Vector{Int64}:\n",
       " 1\n",
       " 2\n",
       " 3"
      ]
     },
     "execution_count": 9,
     "metadata": {},
     "output_type": "execute_result"
    }
   ],
   "source": [
    "[1, 2, 3]"
   ]
  },
  {
   "cell_type": "code",
   "execution_count": 10,
   "id": "a32da848",
   "metadata": {
    "cell_style": "split"
   },
   "outputs": [
    {
     "data": {
      "text/plain": [
       "3×2 Matrix{Int64}:\n",
       "  1  0\n",
       "  0  2\n",
       " 10  3"
      ]
     },
     "execution_count": 10,
     "metadata": {},
     "output_type": "execute_result"
    }
   ],
   "source": [
    "[1 0; 0 2; 10 3]"
   ]
  },
  {
   "cell_type": "code",
   "execution_count": 46,
   "id": "bc208ae0",
   "metadata": {
    "cell_style": "split"
   },
   "outputs": [
    {
     "data": {
      "text/plain": [
       "1×3 adjoint(::Vector{Int64}) with eltype Int64:\n",
       " 1  2  3"
      ]
     },
     "execution_count": 46,
     "metadata": {},
     "output_type": "execute_result"
    }
   ],
   "source": [
    "[1; 2; 3]' # transpose"
   ]
  },
  {
   "cell_type": "markdown",
   "id": "5ac73ba3",
   "metadata": {
    "slideshow": {
     "slide_type": "slide"
    }
   },
   "source": [
    "# Implementing multiplication by row"
   ]
  },
  {
   "cell_type": "code",
   "execution_count": 51,
   "id": "32665740",
   "metadata": {
    "cell_style": "split"
   },
   "outputs": [
    {
     "data": {
      "text/plain": [
       "3×4 reshape(::StepRangeLen{Float64, Base.TwicePrecision{Float64}, Base.TwicePrecision{Float64}, Int64}, 3, 4) with eltype Float64:\n",
       " 1.0  4.0  7.0  10.0\n",
       " 2.0  5.0  8.0  11.0\n",
       " 3.0  6.0  9.0  12.0"
      ]
     },
     "execution_count": 51,
     "metadata": {},
     "output_type": "execute_result"
    }
   ],
   "source": [
    "function matmult1(A, x)\n",
    "    m, n = size(A)\n",
    "    y = zeros(m)\n",
    "    for i in 1:m\n",
    "        for j in 1:n\n",
    "            y[i] += A[i,j] * x[j]\n",
    "        end\n",
    "    end\n",
    "    y\n",
    "end\n",
    "\n",
    "A = reshape(1.:12, 3, 4) # 3x4 matrix\n",
    "#x = [10., 0, 0, 0]\n",
    "#matmult1(A, x)"
   ]
  },
  {
   "cell_type": "code",
   "execution_count": 57,
   "id": "1e791ea6",
   "metadata": {
    "cell_style": "split"
   },
   "outputs": [
    {
     "data": {
      "text/plain": [
       "20.0"
      ]
     },
     "execution_count": 57,
     "metadata": {},
     "output_type": "execute_result"
    }
   ],
   "source": [
    "# Dot product\n",
    "A[2,:]' * x"
   ]
  },
  {
   "cell_type": "code",
   "execution_count": 58,
   "id": "a0cf9482",
   "metadata": {
    "cell_style": "split"
   },
   "outputs": [
    {
     "data": {
      "text/plain": [
       "3-element Vector{Float64}:\n",
       " 10.0\n",
       " 20.0\n",
       " 30.0"
      ]
     },
     "execution_count": 58,
     "metadata": {},
     "output_type": "execute_result"
    }
   ],
   "source": [
    "function matmult2(A, x)\n",
    "    m, n = size(A)\n",
    "    y = zeros(m)\n",
    "    for i in 1:m\n",
    "        y[i] = A[i,:]' * x\n",
    "    end\n",
    "    y\n",
    "end\n",
    "\n",
    "matmult2(A, x)"
   ]
  },
  {
   "cell_type": "markdown",
   "id": "4f3af7b3",
   "metadata": {
    "slideshow": {
     "slide_type": "slide"
    }
   },
   "source": [
    "# Implementing multiplication by column\n"
   ]
  },
  {
   "cell_type": "code",
   "execution_count": 15,
   "id": "12c1dea5",
   "metadata": {
    "cell_style": "split"
   },
   "outputs": [
    {
     "data": {
      "text/plain": [
       "3-element Vector{Float64}:\n",
       " 10.0\n",
       " 20.0\n",
       " 30.0"
      ]
     },
     "execution_count": 15,
     "metadata": {},
     "output_type": "execute_result"
    }
   ],
   "source": [
    "function matmult3(A, x)\n",
    "    m, n = size(A)\n",
    "    y = zeros(m)\n",
    "    for j in 1:n\n",
    "        y += A[:, j] * x[j]\n",
    "    end\n",
    "    y\n",
    "end\n",
    "\n",
    "matmult3(A, x)"
   ]
  },
  {
   "cell_type": "code",
   "execution_count": 16,
   "id": "b573daf7",
   "metadata": {
    "cell_style": "split"
   },
   "outputs": [
    {
     "data": {
      "text/plain": [
       "3-element Vector{Float64}:\n",
       " 10.0\n",
       " 20.0\n",
       " 30.0"
      ]
     },
     "execution_count": 16,
     "metadata": {},
     "output_type": "execute_result"
    }
   ],
   "source": [
    "A * x # We'll use this version "
   ]
  },
  {
   "cell_type": "markdown",
   "id": "ffa46c2c",
   "metadata": {
    "slideshow": {
     "slide_type": "slide"
    }
   },
   "source": [
    "# Polynomial evaluation is (continuous) linear algebra\n",
    "We can evaluate polynomials using matrix-vector multiplication.\n",
    "For example,\n",
    "$$ 5x^3 - 3x = \\Bigg[ 1 \\Bigg|\\, x \\Bigg|\\, x^2 \\,\\Bigg|\\, x^3 \\Bigg] \\begin{bmatrix}0 \\\\ -3 \\\\ 0 \\\\ 5 \\end{bmatrix} . $$"
   ]
  },
  {
   "cell_type": "code",
   "execution_count": 59,
   "id": "a7e1f3dc",
   "metadata": {
    "cell_style": "split"
   },
   "outputs": [
    {
     "name": "stdout",
     "output_type": "stream",
     "text": [
      "f = Polynomial(1 - x + 3*x^2 + 9*x^3)\n",
      "P(p + q) = Polynomial(1 - x + 3*x^2 + 9*x^3)\n"
     ]
    },
    {
     "data": {
      "text/plain": [
       "3-element Vector{Float64}:\n",
       "  1.0\n",
       " 12.0\n",
       " 83.0"
      ]
     },
     "execution_count": 59,
     "metadata": {},
     "output_type": "execute_result"
    }
   ],
   "source": [
    "using Polynomials\n",
    "P(x) = Polynomial(x)\n",
    "\n",
    "p = [0, -3, 0, 5]\n",
    "q = [1, 2, 3, 4]\n",
    "f = P(p) + P(q)\n",
    "@show f\n",
    "@show P(p+q)\n",
    "x = [0., 1, 2]\n",
    "f.(x)"
   ]
  },
  {
   "cell_type": "code",
   "execution_count": 65,
   "id": "3c90d1af",
   "metadata": {
    "cell_style": "split"
   },
   "outputs": [
    {
     "data": {
      "image/svg+xml": [
       "<?xml version=\"1.0\" encoding=\"utf-8\"?>\n",
       "<svg xmlns=\"http://www.w3.org/2000/svg\" xmlns:xlink=\"http://www.w3.org/1999/xlink\" width=\"600\" height=\"400\" viewBox=\"0 0 2400 1600\">\n",
       "<defs>\n",
       "  <clipPath id=\"clip470\">\n",
       "    <rect x=\"0\" y=\"0\" width=\"2400\" height=\"1600\"/>\n",
       "  </clipPath>\n",
       "</defs>\n",
       "<path clip-path=\"url(#clip470)\" d=\"\n",
       "M0 1600 L2400 1600 L2400 0 L0 0  Z\n",
       "  \" fill=\"#ffffff\" fill-rule=\"evenodd\" fill-opacity=\"1\"/>\n",
       "<defs>\n",
       "  <clipPath id=\"clip471\">\n",
       "    <rect x=\"480\" y=\"0\" width=\"1681\" height=\"1600\"/>\n",
       "  </clipPath>\n",
       "</defs>\n",
       "<path clip-path=\"url(#clip470)\" d=\"\n",
       "M147.478 1486.45 L2352.76 1486.45 L2352.76 47.2441 L147.478 47.2441  Z\n",
       "  \" fill=\"#ffffff\" fill-rule=\"evenodd\" fill-opacity=\"1\"/>\n",
       "<defs>\n",
       "  <clipPath id=\"clip472\">\n",
       "    <rect x=\"147\" y=\"47\" width=\"2206\" height=\"1440\"/>\n",
       "  </clipPath>\n",
       "</defs>\n",
       "<polyline clip-path=\"url(#clip472)\" style=\"stroke:#000000; stroke-linecap:butt; stroke-linejoin:round; stroke-width:2; stroke-opacity:0.1; fill:none\" points=\"\n",
       "  436.638,1486.45 436.638,47.2441 \n",
       "  \"/>\n",
       "<polyline clip-path=\"url(#clip472)\" style=\"stroke:#000000; stroke-linecap:butt; stroke-linejoin:round; stroke-width:2; stroke-opacity:0.1; fill:none\" points=\"\n",
       "  888.08,1486.45 888.08,47.2441 \n",
       "  \"/>\n",
       "<polyline clip-path=\"url(#clip472)\" style=\"stroke:#000000; stroke-linecap:butt; stroke-linejoin:round; stroke-width:2; stroke-opacity:0.1; fill:none\" points=\"\n",
       "  1339.52,1486.45 1339.52,47.2441 \n",
       "  \"/>\n",
       "<polyline clip-path=\"url(#clip472)\" style=\"stroke:#000000; stroke-linecap:butt; stroke-linejoin:round; stroke-width:2; stroke-opacity:0.1; fill:none\" points=\"\n",
       "  1790.96,1486.45 1790.96,47.2441 \n",
       "  \"/>\n",
       "<polyline clip-path=\"url(#clip472)\" style=\"stroke:#000000; stroke-linecap:butt; stroke-linejoin:round; stroke-width:2; stroke-opacity:0.1; fill:none\" points=\"\n",
       "  2242.4,1486.45 2242.4,47.2441 \n",
       "  \"/>\n",
       "<polyline clip-path=\"url(#clip470)\" style=\"stroke:#000000; stroke-linecap:butt; stroke-linejoin:round; stroke-width:4; stroke-opacity:1; fill:none\" points=\"\n",
       "  147.478,1486.45 2352.76,1486.45 \n",
       "  \"/>\n",
       "<polyline clip-path=\"url(#clip470)\" style=\"stroke:#000000; stroke-linecap:butt; stroke-linejoin:round; stroke-width:4; stroke-opacity:1; fill:none\" points=\"\n",
       "  436.638,1486.45 436.638,1467.55 \n",
       "  \"/>\n",
       "<polyline clip-path=\"url(#clip470)\" style=\"stroke:#000000; stroke-linecap:butt; stroke-linejoin:round; stroke-width:4; stroke-opacity:1; fill:none\" points=\"\n",
       "  888.08,1486.45 888.08,1467.55 \n",
       "  \"/>\n",
       "<polyline clip-path=\"url(#clip470)\" style=\"stroke:#000000; stroke-linecap:butt; stroke-linejoin:round; stroke-width:4; stroke-opacity:1; fill:none\" points=\"\n",
       "  1339.52,1486.45 1339.52,1467.55 \n",
       "  \"/>\n",
       "<polyline clip-path=\"url(#clip470)\" style=\"stroke:#000000; stroke-linecap:butt; stroke-linejoin:round; stroke-width:4; stroke-opacity:1; fill:none\" points=\"\n",
       "  1790.96,1486.45 1790.96,1467.55 \n",
       "  \"/>\n",
       "<polyline clip-path=\"url(#clip470)\" style=\"stroke:#000000; stroke-linecap:butt; stroke-linejoin:round; stroke-width:4; stroke-opacity:1; fill:none\" points=\"\n",
       "  2242.4,1486.45 2242.4,1467.55 \n",
       "  \"/>\n",
       "<path clip-path=\"url(#clip470)\" d=\"M368.583 1532.02 L398.259 1532.02 L398.259 1535.95 L368.583 1535.95 L368.583 1532.02 Z\" fill=\"#000000\" fill-rule=\"evenodd\" fill-opacity=\"1\" /><path clip-path=\"url(#clip470)\" d=\"M418.351 1517.37 Q414.74 1517.37 412.912 1520.93 Q411.106 1524.47 411.106 1531.6 Q411.106 1538.71 412.912 1542.27 Q414.74 1545.82 418.351 1545.82 Q421.986 1545.82 423.791 1542.27 Q425.62 1538.71 425.62 1531.6 Q425.62 1524.47 423.791 1520.93 Q421.986 1517.37 418.351 1517.37 M418.351 1513.66 Q424.162 1513.66 427.217 1518.27 Q430.296 1522.85 430.296 1531.6 Q430.296 1540.33 427.217 1544.94 Q424.162 1549.52 418.351 1549.52 Q412.541 1549.52 409.463 1544.94 Q406.407 1540.33 406.407 1531.6 Q406.407 1522.85 409.463 1518.27 Q412.541 1513.66 418.351 1513.66 Z\" fill=\"#000000\" fill-rule=\"evenodd\" fill-opacity=\"1\" /><path clip-path=\"url(#clip470)\" d=\"M438.513 1542.97 L443.398 1542.97 L443.398 1548.85 L438.513 1548.85 L438.513 1542.97 Z\" fill=\"#000000\" fill-rule=\"evenodd\" fill-opacity=\"1\" /><path clip-path=\"url(#clip470)\" d=\"M452.402 1514.29 L474.624 1514.29 L474.624 1516.28 L462.078 1548.85 L457.194 1548.85 L468.999 1518.22 L452.402 1518.22 L452.402 1514.29 Z\" fill=\"#000000\" fill-rule=\"evenodd\" fill-opacity=\"1\" /><path clip-path=\"url(#clip470)\" d=\"M483.791 1514.29 L502.147 1514.29 L502.147 1518.22 L488.073 1518.22 L488.073 1526.7 Q489.092 1526.35 490.11 1526.19 Q491.129 1526 492.147 1526 Q497.934 1526 501.314 1529.17 Q504.694 1532.34 504.694 1537.76 Q504.694 1543.34 501.221 1546.44 Q497.749 1549.52 491.43 1549.52 Q489.254 1549.52 486.985 1549.15 Q484.74 1548.78 482.333 1548.04 L482.333 1543.34 Q484.416 1544.47 486.638 1545.03 Q488.86 1545.58 491.337 1545.58 Q495.342 1545.58 497.68 1543.48 Q500.018 1541.37 500.018 1537.76 Q500.018 1534.15 497.68 1532.04 Q495.342 1529.94 491.337 1529.94 Q489.462 1529.94 487.587 1530.35 Q485.735 1530.77 483.791 1531.65 L483.791 1514.29 Z\" fill=\"#000000\" fill-rule=\"evenodd\" fill-opacity=\"1\" /><path clip-path=\"url(#clip470)\" d=\"M819.527 1532.02 L849.203 1532.02 L849.203 1535.95 L819.527 1535.95 L819.527 1532.02 Z\" fill=\"#000000\" fill-rule=\"evenodd\" fill-opacity=\"1\" /><path clip-path=\"url(#clip470)\" d=\"M869.295 1517.37 Q865.684 1517.37 863.855 1520.93 Q862.05 1524.47 862.05 1531.6 Q862.05 1538.71 863.855 1542.27 Q865.684 1545.82 869.295 1545.82 Q872.929 1545.82 874.735 1542.27 Q876.564 1538.71 876.564 1531.6 Q876.564 1524.47 874.735 1520.93 Q872.929 1517.37 869.295 1517.37 M869.295 1513.66 Q875.105 1513.66 878.161 1518.27 Q881.239 1522.85 881.239 1531.6 Q881.239 1540.33 878.161 1544.94 Q875.105 1549.52 869.295 1549.52 Q863.485 1549.52 860.406 1544.94 Q857.351 1540.33 857.351 1531.6 Q857.351 1522.85 860.406 1518.27 Q863.485 1513.66 869.295 1513.66 Z\" fill=\"#000000\" fill-rule=\"evenodd\" fill-opacity=\"1\" /><path clip-path=\"url(#clip470)\" d=\"M889.457 1542.97 L894.341 1542.97 L894.341 1548.85 L889.457 1548.85 L889.457 1542.97 Z\" fill=\"#000000\" fill-rule=\"evenodd\" fill-opacity=\"1\" /><path clip-path=\"url(#clip470)\" d=\"M904.573 1514.29 L922.929 1514.29 L922.929 1518.22 L908.855 1518.22 L908.855 1526.7 Q909.874 1526.35 910.892 1526.19 Q911.911 1526 912.929 1526 Q918.716 1526 922.096 1529.17 Q925.475 1532.34 925.475 1537.76 Q925.475 1543.34 922.003 1546.44 Q918.531 1549.52 912.211 1549.52 Q910.036 1549.52 907.767 1549.15 Q905.522 1548.78 903.114 1548.04 L903.114 1543.34 Q905.198 1544.47 907.42 1545.03 Q909.642 1545.58 912.119 1545.58 Q916.124 1545.58 918.461 1543.48 Q920.799 1541.37 920.799 1537.76 Q920.799 1534.15 918.461 1532.04 Q916.124 1529.94 912.119 1529.94 Q910.244 1529.94 908.369 1530.35 Q906.517 1530.77 904.573 1531.65 L904.573 1514.29 Z\" fill=\"#000000\" fill-rule=\"evenodd\" fill-opacity=\"1\" /><path clip-path=\"url(#clip470)\" d=\"M944.688 1517.37 Q941.077 1517.37 939.248 1520.93 Q937.443 1524.47 937.443 1531.6 Q937.443 1538.71 939.248 1542.27 Q941.077 1545.82 944.688 1545.82 Q948.322 1545.82 950.128 1542.27 Q951.957 1538.71 951.957 1531.6 Q951.957 1524.47 950.128 1520.93 Q948.322 1517.37 944.688 1517.37 M944.688 1513.66 Q950.498 1513.66 953.554 1518.27 Q956.633 1522.85 956.633 1531.6 Q956.633 1540.33 953.554 1544.94 Q950.498 1549.52 944.688 1549.52 Q938.878 1549.52 935.799 1544.94 Q932.744 1540.33 932.744 1531.6 Q932.744 1522.85 935.799 1518.27 Q938.878 1513.66 944.688 1513.66 Z\" fill=\"#000000\" fill-rule=\"evenodd\" fill-opacity=\"1\" /><path clip-path=\"url(#clip470)\" d=\"M1271.47 1532.02 L1301.14 1532.02 L1301.14 1535.95 L1271.47 1535.95 L1271.47 1532.02 Z\" fill=\"#000000\" fill-rule=\"evenodd\" fill-opacity=\"1\" /><path clip-path=\"url(#clip470)\" d=\"M1321.23 1517.37 Q1317.62 1517.37 1315.79 1520.93 Q1313.99 1524.47 1313.99 1531.6 Q1313.99 1538.71 1315.79 1542.27 Q1317.62 1545.82 1321.23 1545.82 Q1324.87 1545.82 1326.67 1542.27 Q1328.5 1538.71 1328.5 1531.6 Q1328.5 1524.47 1326.67 1520.93 Q1324.87 1517.37 1321.23 1517.37 M1321.23 1513.66 Q1327.04 1513.66 1330.1 1518.27 Q1333.18 1522.85 1333.18 1531.6 Q1333.18 1540.33 1330.1 1544.94 Q1327.04 1549.52 1321.23 1549.52 Q1315.42 1549.52 1312.35 1544.94 Q1309.29 1540.33 1309.29 1531.6 Q1309.29 1522.85 1312.35 1518.27 Q1315.42 1513.66 1321.23 1513.66 Z\" fill=\"#000000\" fill-rule=\"evenodd\" fill-opacity=\"1\" /><path clip-path=\"url(#clip470)\" d=\"M1341.4 1542.97 L1346.28 1542.97 L1346.28 1548.85 L1341.4 1548.85 L1341.4 1542.97 Z\" fill=\"#000000\" fill-rule=\"evenodd\" fill-opacity=\"1\" /><path clip-path=\"url(#clip470)\" d=\"M1360.49 1544.91 L1376.81 1544.91 L1376.81 1548.85 L1354.87 1548.85 L1354.87 1544.91 Q1357.53 1542.16 1362.11 1537.53 Q1366.72 1532.88 1367.9 1531.53 Q1370.15 1529.01 1371.03 1527.27 Q1371.93 1525.51 1371.93 1523.82 Q1371.93 1521.07 1369.98 1519.33 Q1368.06 1517.6 1364.96 1517.6 Q1362.76 1517.6 1360.31 1518.36 Q1357.88 1519.13 1355.1 1520.68 L1355.1 1515.95 Q1357.92 1514.82 1360.38 1514.24 Q1362.83 1513.66 1364.87 1513.66 Q1370.24 1513.66 1373.43 1516.35 Q1376.63 1519.03 1376.63 1523.52 Q1376.63 1525.65 1375.82 1527.57 Q1375.03 1529.47 1372.92 1532.07 Q1372.34 1532.74 1369.24 1535.95 Q1366.14 1539.15 1360.49 1544.91 Z\" fill=\"#000000\" fill-rule=\"evenodd\" fill-opacity=\"1\" /><path clip-path=\"url(#clip470)\" d=\"M1386.67 1514.29 L1405.03 1514.29 L1405.03 1518.22 L1390.96 1518.22 L1390.96 1526.7 Q1391.97 1526.35 1392.99 1526.19 Q1394.01 1526 1395.03 1526 Q1400.82 1526 1404.2 1529.17 Q1407.58 1532.34 1407.58 1537.76 Q1407.58 1543.34 1404.1 1546.44 Q1400.63 1549.52 1394.31 1549.52 Q1392.14 1549.52 1389.87 1549.15 Q1387.62 1548.78 1385.22 1548.04 L1385.22 1543.34 Q1387.3 1544.47 1389.52 1545.03 Q1391.74 1545.58 1394.22 1545.58 Q1398.22 1545.58 1400.56 1543.48 Q1402.9 1541.37 1402.9 1537.76 Q1402.9 1534.15 1400.56 1532.04 Q1398.22 1529.94 1394.22 1529.94 Q1392.34 1529.94 1390.47 1530.35 Q1388.62 1530.77 1386.67 1531.65 L1386.67 1514.29 Z\" fill=\"#000000\" fill-rule=\"evenodd\" fill-opacity=\"1\" /><path clip-path=\"url(#clip470)\" d=\"M1753.27 1517.37 Q1749.65 1517.37 1747.83 1520.93 Q1746.02 1524.47 1746.02 1531.6 Q1746.02 1538.71 1747.83 1542.27 Q1749.65 1545.82 1753.27 1545.82 Q1756.9 1545.82 1758.71 1542.27 Q1760.53 1538.71 1760.53 1531.6 Q1760.53 1524.47 1758.71 1520.93 Q1756.9 1517.37 1753.27 1517.37 M1753.27 1513.66 Q1759.08 1513.66 1762.13 1518.27 Q1765.21 1522.85 1765.21 1531.6 Q1765.21 1540.33 1762.13 1544.94 Q1759.08 1549.52 1753.27 1549.52 Q1747.46 1549.52 1744.38 1544.94 Q1741.32 1540.33 1741.32 1531.6 Q1741.32 1522.85 1744.38 1518.27 Q1747.46 1513.66 1753.27 1513.66 Z\" fill=\"#000000\" fill-rule=\"evenodd\" fill-opacity=\"1\" /><path clip-path=\"url(#clip470)\" d=\"M1773.43 1542.97 L1778.31 1542.97 L1778.31 1548.85 L1773.43 1548.85 L1773.43 1542.97 Z\" fill=\"#000000\" fill-rule=\"evenodd\" fill-opacity=\"1\" /><path clip-path=\"url(#clip470)\" d=\"M1798.5 1517.37 Q1794.89 1517.37 1793.06 1520.93 Q1791.25 1524.47 1791.25 1531.6 Q1791.25 1538.71 1793.06 1542.27 Q1794.89 1545.82 1798.5 1545.82 Q1802.13 1545.82 1803.94 1542.27 Q1805.77 1538.71 1805.77 1531.6 Q1805.77 1524.47 1803.94 1520.93 Q1802.13 1517.37 1798.5 1517.37 M1798.5 1513.66 Q1804.31 1513.66 1807.36 1518.27 Q1810.44 1522.85 1810.44 1531.6 Q1810.44 1540.33 1807.36 1544.94 Q1804.31 1549.52 1798.5 1549.52 Q1792.69 1549.52 1789.61 1544.94 Q1786.55 1540.33 1786.55 1531.6 Q1786.55 1522.85 1789.61 1518.27 Q1792.69 1513.66 1798.5 1513.66 Z\" fill=\"#000000\" fill-rule=\"evenodd\" fill-opacity=\"1\" /><path clip-path=\"url(#clip470)\" d=\"M1828.66 1517.37 Q1825.05 1517.37 1823.22 1520.93 Q1821.41 1524.47 1821.41 1531.6 Q1821.41 1538.71 1823.22 1542.27 Q1825.05 1545.82 1828.66 1545.82 Q1832.29 1545.82 1834.1 1542.27 Q1835.93 1538.71 1835.93 1531.6 Q1835.93 1524.47 1834.1 1520.93 Q1832.29 1517.37 1828.66 1517.37 M1828.66 1513.66 Q1834.47 1513.66 1837.52 1518.27 Q1840.6 1522.85 1840.6 1531.6 Q1840.6 1540.33 1837.52 1544.94 Q1834.47 1549.52 1828.66 1549.52 Q1822.85 1549.52 1819.77 1544.94 Q1816.71 1540.33 1816.71 1531.6 Q1816.71 1522.85 1819.77 1518.27 Q1822.85 1513.66 1828.66 1513.66 Z\" fill=\"#000000\" fill-rule=\"evenodd\" fill-opacity=\"1\" /><path clip-path=\"url(#clip470)\" d=\"M2205.2 1517.37 Q2201.59 1517.37 2199.76 1520.93 Q2197.96 1524.47 2197.96 1531.6 Q2197.96 1538.71 2199.76 1542.27 Q2201.59 1545.82 2205.2 1545.82 Q2208.84 1545.82 2210.64 1542.27 Q2212.47 1538.71 2212.47 1531.6 Q2212.47 1524.47 2210.64 1520.93 Q2208.84 1517.37 2205.2 1517.37 M2205.2 1513.66 Q2211.01 1513.66 2214.07 1518.27 Q2217.15 1522.85 2217.15 1531.6 Q2217.15 1540.33 2214.07 1544.94 Q2211.01 1549.52 2205.2 1549.52 Q2199.39 1549.52 2196.32 1544.94 Q2193.26 1540.33 2193.26 1531.6 Q2193.26 1522.85 2196.32 1518.27 Q2199.39 1513.66 2205.2 1513.66 Z\" fill=\"#000000\" fill-rule=\"evenodd\" fill-opacity=\"1\" /><path clip-path=\"url(#clip470)\" d=\"M2225.37 1542.97 L2230.25 1542.97 L2230.25 1548.85 L2225.37 1548.85 L2225.37 1542.97 Z\" fill=\"#000000\" fill-rule=\"evenodd\" fill-opacity=\"1\" /><path clip-path=\"url(#clip470)\" d=\"M2244.46 1544.91 L2260.78 1544.91 L2260.78 1548.85 L2238.84 1548.85 L2238.84 1544.91 Q2241.5 1542.16 2246.08 1537.53 Q2250.69 1532.88 2251.87 1531.53 Q2254.12 1529.01 2255 1527.27 Q2255.9 1525.51 2255.9 1523.82 Q2255.9 1521.07 2253.95 1519.33 Q2252.03 1517.6 2248.93 1517.6 Q2246.73 1517.6 2244.28 1518.36 Q2241.85 1519.13 2239.07 1520.68 L2239.07 1515.95 Q2241.89 1514.82 2244.35 1514.24 Q2246.8 1513.66 2248.84 1513.66 Q2254.21 1513.66 2257.4 1516.35 Q2260.6 1519.03 2260.6 1523.52 Q2260.6 1525.65 2259.79 1527.57 Q2259 1529.47 2256.89 1532.07 Q2256.32 1532.74 2253.21 1535.95 Q2250.11 1539.15 2244.46 1544.91 Z\" fill=\"#000000\" fill-rule=\"evenodd\" fill-opacity=\"1\" /><path clip-path=\"url(#clip470)\" d=\"M2270.64 1514.29 L2289 1514.29 L2289 1518.22 L2274.93 1518.22 L2274.93 1526.7 Q2275.95 1526.35 2276.96 1526.19 Q2277.98 1526 2279 1526 Q2284.79 1526 2288.17 1529.17 Q2291.55 1532.34 2291.55 1537.76 Q2291.55 1543.34 2288.07 1546.44 Q2284.6 1549.52 2278.28 1549.52 Q2276.11 1549.52 2273.84 1549.15 Q2271.59 1548.78 2269.19 1548.04 L2269.19 1543.34 Q2271.27 1544.47 2273.49 1545.03 Q2275.71 1545.58 2278.19 1545.58 Q2282.2 1545.58 2284.53 1543.48 Q2286.87 1541.37 2286.87 1537.76 Q2286.87 1534.15 2284.53 1532.04 Q2282.2 1529.94 2278.19 1529.94 Q2276.32 1529.94 2274.44 1530.35 Q2272.59 1530.77 2270.64 1531.65 L2270.64 1514.29 Z\" fill=\"#000000\" fill-rule=\"evenodd\" fill-opacity=\"1\" /><polyline clip-path=\"url(#clip472)\" style=\"stroke:#000000; stroke-linecap:butt; stroke-linejoin:round; stroke-width:2; stroke-opacity:0.1; fill:none\" points=\"\n",
       "  147.478,1303.39 2352.76,1303.39 \n",
       "  \"/>\n",
       "<polyline clip-path=\"url(#clip472)\" style=\"stroke:#000000; stroke-linecap:butt; stroke-linejoin:round; stroke-width:2; stroke-opacity:0.1; fill:none\" points=\"\n",
       "  147.478,938.39 2352.76,938.39 \n",
       "  \"/>\n",
       "<polyline clip-path=\"url(#clip472)\" style=\"stroke:#000000; stroke-linecap:butt; stroke-linejoin:round; stroke-width:2; stroke-opacity:0.1; fill:none\" points=\"\n",
       "  147.478,573.39 2352.76,573.39 \n",
       "  \"/>\n",
       "<polyline clip-path=\"url(#clip472)\" style=\"stroke:#000000; stroke-linecap:butt; stroke-linejoin:round; stroke-width:2; stroke-opacity:0.1; fill:none\" points=\"\n",
       "  147.478,208.39 2352.76,208.39 \n",
       "  \"/>\n",
       "<polyline clip-path=\"url(#clip470)\" style=\"stroke:#000000; stroke-linecap:butt; stroke-linejoin:round; stroke-width:4; stroke-opacity:1; fill:none\" points=\"\n",
       "  147.478,1486.45 147.478,47.2441 \n",
       "  \"/>\n",
       "<polyline clip-path=\"url(#clip470)\" style=\"stroke:#000000; stroke-linecap:butt; stroke-linejoin:round; stroke-width:4; stroke-opacity:1; fill:none\" points=\"\n",
       "  147.478,1303.39 166.376,1303.39 \n",
       "  \"/>\n",
       "<polyline clip-path=\"url(#clip470)\" style=\"stroke:#000000; stroke-linecap:butt; stroke-linejoin:round; stroke-width:4; stroke-opacity:1; fill:none\" points=\"\n",
       "  147.478,938.39 166.376,938.39 \n",
       "  \"/>\n",
       "<polyline clip-path=\"url(#clip470)\" style=\"stroke:#000000; stroke-linecap:butt; stroke-linejoin:round; stroke-width:4; stroke-opacity:1; fill:none\" points=\"\n",
       "  147.478,573.39 166.376,573.39 \n",
       "  \"/>\n",
       "<polyline clip-path=\"url(#clip470)\" style=\"stroke:#000000; stroke-linecap:butt; stroke-linejoin:round; stroke-width:4; stroke-opacity:1; fill:none\" points=\"\n",
       "  147.478,208.39 166.376,208.39 \n",
       "  \"/>\n",
       "<path clip-path=\"url(#clip470)\" d=\"M51.3625 1303.84 L81.0383 1303.84 L81.0383 1307.78 L51.3625 1307.78 L51.3625 1303.84 Z\" fill=\"#000000\" fill-rule=\"evenodd\" fill-opacity=\"1\" /><path clip-path=\"url(#clip470)\" d=\"M95.1586 1316.73 L111.478 1316.73 L111.478 1320.67 L89.5336 1320.67 L89.5336 1316.73 Q92.1956 1313.98 96.7789 1309.35 Q101.385 1304.7 102.566 1303.35 Q104.811 1300.83 105.691 1299.1 Q106.594 1297.34 106.594 1295.65 Q106.594 1292.89 104.649 1291.16 Q102.728 1289.42 99.6261 1289.42 Q97.4271 1289.42 94.9734 1290.18 Q92.5428 1290.95 89.7651 1292.5 L89.7651 1287.78 Q92.5891 1286.64 95.0428 1286.06 Q97.4965 1285.48 99.5335 1285.48 Q104.904 1285.48 108.098 1288.17 Q111.293 1290.85 111.293 1295.35 Q111.293 1297.48 110.483 1299.4 Q109.696 1301.29 107.589 1303.89 Q107.01 1304.56 103.909 1307.78 Q100.807 1310.97 95.1586 1316.73 Z\" fill=\"#000000\" fill-rule=\"evenodd\" fill-opacity=\"1\" /><path clip-path=\"url(#clip470)\" d=\"M50.9921 938.841 L80.6679 938.841 L80.6679 942.776 L50.9921 942.776 L50.9921 938.841 Z\" fill=\"#000000\" fill-rule=\"evenodd\" fill-opacity=\"1\" /><path clip-path=\"url(#clip470)\" d=\"M91.5706 951.734 L99.2095 951.734 L99.2095 925.369 L90.8993 927.036 L90.8993 922.776 L99.1632 921.11 L103.839 921.11 L103.839 951.734 L111.478 951.734 L111.478 955.67 L91.5706 955.67 L91.5706 951.734 Z\" fill=\"#000000\" fill-rule=\"evenodd\" fill-opacity=\"1\" /><path clip-path=\"url(#clip470)\" d=\"M99.5335 559.188 Q95.9224 559.188 94.0937 562.753 Q92.2882 566.295 92.2882 573.425 Q92.2882 580.531 94.0937 584.096 Q95.9224 587.637 99.5335 587.637 Q103.168 587.637 104.973 584.096 Q106.802 580.531 106.802 573.425 Q106.802 566.295 104.973 562.753 Q103.168 559.188 99.5335 559.188 M99.5335 555.485 Q105.344 555.485 108.399 560.091 Q111.478 564.675 111.478 573.425 Q111.478 582.151 108.399 586.758 Q105.344 591.341 99.5335 591.341 Q93.7234 591.341 90.6447 586.758 Q87.5892 582.151 87.5892 573.425 Q87.5892 564.675 90.6447 560.091 Q93.7234 555.485 99.5335 555.485 Z\" fill=\"#000000\" fill-rule=\"evenodd\" fill-opacity=\"1\" /><path clip-path=\"url(#clip470)\" d=\"M91.5706 221.735 L99.2095 221.735 L99.2095 195.369 L90.8993 197.036 L90.8993 192.777 L99.1632 191.11 L103.839 191.11 L103.839 221.735 L111.478 221.735 L111.478 225.67 L91.5706 225.67 L91.5706 221.735 Z\" fill=\"#000000\" fill-rule=\"evenodd\" fill-opacity=\"1\" /><polyline clip-path=\"url(#clip472)\" style=\"stroke:#009af9; stroke-linecap:butt; stroke-linejoin:round; stroke-width:16; stroke-opacity:1; fill:none\" points=\"\n",
       "  147.478,1445.72 152.862,1428.48 158.246,1411.38 163.63,1394.42 169.014,1377.6 218.798,1228.52 268.582,1090.82 318.365,964.09 368.149,847.91 427.985,721.652 \n",
       "  487.82,609.323 538.411,524.689 589.001,449.066 643.957,376.624 698.912,313.75 749.576,263.782 800.24,221.038 854.557,182.741 908.874,151.709 971.806,124.137 \n",
       "  1034.74,104.764 1146.59,87.9763 1244.68,88.7061 1351.61,102.077 1459.19,124.739 1578.12,155.536 1691.29,185.46 1808.96,211.915 1908.01,226.553 1968.47,230.568 \n",
       "  2028.93,229.956 2085.77,224.499 2142.61,213.685 2233.67,183.653 2324.73,135.765 2338.74,126.649 2352.76,117.041 \n",
       "  \"/>\n",
       "<path clip-path=\"url(#clip470)\" d=\"\n",
       "M1224.53 1438.47 L2279.25 1438.47 L2279.25 1282.95 L1224.53 1282.95  Z\n",
       "  \" fill=\"#ffffff\" fill-rule=\"evenodd\" fill-opacity=\"1\"/>\n",
       "<polyline clip-path=\"url(#clip470)\" style=\"stroke:#000000; stroke-linecap:butt; stroke-linejoin:round; stroke-width:4; stroke-opacity:1; fill:none\" points=\"\n",
       "  1224.53,1438.47 2279.25,1438.47 2279.25,1282.95 1224.53,1282.95 1224.53,1438.47 \n",
       "  \"/>\n",
       "<polyline clip-path=\"url(#clip470)\" style=\"stroke:#009af9; stroke-linecap:butt; stroke-linejoin:round; stroke-width:6; stroke-opacity:1; fill:none\" points=\"\n",
       "  1249.04,1360.71 1396.05,1360.71 \n",
       "  \"/>\n",
       "<path clip-path=\"url(#clip470)\" d=\"M1421.56 1380.73 L1433.02 1380.73 L1433.02 1341.18 L1420.56 1343.68 L1420.56 1337.29 L1432.95 1334.79 L1439.97 1334.79 L1439.97 1380.73 L1451.43 1380.73 L1451.43 1386.63 L1421.56 1386.63 L1421.56 1380.73 Z\" fill=\"#000000\" fill-rule=\"evenodd\" fill-opacity=\"1\" /><path clip-path=\"url(#clip470)\" d=\"M1484.06 1364.31 L1502.78 1364.31 L1502.78 1370 L1484.06 1370 L1484.06 1364.31 Z\" fill=\"#000000\" fill-rule=\"evenodd\" fill-opacity=\"1\" /><path clip-path=\"url(#clip470)\" d=\"M1567.88 1347.75 L1553.82 1366.67 L1568.61 1386.63 L1561.08 1386.63 L1549.76 1371.36 L1538.44 1386.63 L1530.9 1386.63 L1546.01 1366.29 L1532.19 1347.75 L1539.72 1347.75 L1550.04 1361.6 L1560.35 1347.75 L1567.88 1347.75 Z\" fill=\"#000000\" fill-rule=\"evenodd\" fill-opacity=\"1\" /><path clip-path=\"url(#clip470)\" d=\"M1626.25 1342.05 L1626.25 1361.39 L1645.59 1361.39 L1645.59 1367.29 L1626.25 1367.29 L1626.25 1386.63 L1620.42 1386.63 L1620.42 1367.29 L1601.08 1367.29 L1601.08 1361.39 L1620.42 1361.39 L1620.42 1342.05 L1626.25 1342.05 Z\" fill=\"#000000\" fill-rule=\"evenodd\" fill-opacity=\"1\" /><path clip-path=\"url(#clip470)\" d=\"M1704.58 1358.68 Q1709.62 1359.76 1712.43 1363.16 Q1715.28 1366.57 1715.28 1371.57 Q1715.28 1379.24 1710 1383.44 Q1704.72 1387.64 1695 1387.64 Q1691.74 1387.64 1688.26 1386.98 Q1684.83 1386.36 1681.15 1385.07 L1681.15 1378.3 Q1684.06 1380 1687.54 1380.87 Q1691.01 1381.74 1694.79 1381.74 Q1701.39 1381.74 1704.83 1379.13 Q1708.3 1376.53 1708.3 1371.57 Q1708.3 1366.98 1705.07 1364.41 Q1701.88 1361.81 1696.15 1361.81 L1690.1 1361.81 L1690.1 1356.04 L1696.42 1356.04 Q1701.6 1356.04 1704.34 1354 Q1707.08 1351.91 1707.08 1348.02 Q1707.08 1344.03 1704.24 1341.91 Q1701.42 1339.76 1696.15 1339.76 Q1693.26 1339.76 1689.97 1340.38 Q1686.67 1341.01 1682.71 1342.33 L1682.71 1336.08 Q1686.7 1334.97 1690.17 1334.41 Q1693.68 1333.86 1696.77 1333.86 Q1704.76 1333.86 1709.41 1337.5 Q1714.06 1341.11 1714.06 1347.29 Q1714.06 1351.6 1711.6 1354.59 Q1709.13 1357.54 1704.58 1358.68 Z\" fill=\"#000000\" fill-rule=\"evenodd\" fill-opacity=\"1\" /><path clip-path=\"url(#clip470)\" d=\"M1754.41 1343.34 L1741.94 1350.07 L1754.41 1356.84 L1752.4 1360.25 L1740.73 1353.2 L1740.73 1366.29 L1736.77 1366.29 L1736.77 1353.2 L1725.1 1360.25 L1723.09 1356.84 L1735.56 1350.07 L1723.09 1343.34 L1725.1 1339.9 L1736.77 1346.95 L1736.77 1333.86 L1740.73 1333.86 L1740.73 1346.95 L1752.4 1339.9 L1754.41 1343.34 Z\" fill=\"#000000\" fill-rule=\"evenodd\" fill-opacity=\"1\" /><path clip-path=\"url(#clip470)\" d=\"M1795.56 1347.75 L1781.49 1366.67 L1796.28 1386.63 L1788.75 1386.63 L1777.43 1371.36 L1766.11 1386.63 L1758.58 1386.63 L1773.68 1366.29 L1759.86 1347.75 L1767.4 1347.75 L1777.71 1361.6 L1788.02 1347.75 L1795.56 1347.75 Z\" fill=\"#000000\" fill-rule=\"evenodd\" fill-opacity=\"1\" /><path clip-path=\"url(#clip470)\" d=\"M1831.81 1334.79 L1850.66 1354.13 L1843.68 1354.13 L1828.4 1340.42 L1813.12 1354.13 L1806.15 1354.13 L1825 1334.79 L1831.81 1334.79 Z\" fill=\"#000000\" fill-rule=\"evenodd\" fill-opacity=\"1\" /><path clip-path=\"url(#clip470)\" d=\"M1871.84 1380.73 L1896.32 1380.73 L1896.32 1386.63 L1863.4 1386.63 L1863.4 1380.73 Q1867.4 1376.6 1874.27 1369.66 Q1881.18 1362.68 1882.95 1360.66 Q1886.32 1356.88 1887.64 1354.27 Q1888.99 1351.63 1888.99 1349.1 Q1888.99 1344.97 1886.08 1342.36 Q1883.19 1339.76 1878.54 1339.76 Q1875.24 1339.76 1871.56 1340.91 Q1867.92 1342.05 1863.75 1344.38 L1863.75 1337.29 Q1867.99 1335.59 1871.67 1334.72 Q1875.35 1333.86 1878.4 1333.86 Q1886.46 1333.86 1891.25 1337.88 Q1896.04 1341.91 1896.04 1348.65 Q1896.04 1351.84 1894.83 1354.72 Q1893.65 1357.57 1890.49 1361.46 Q1889.62 1362.47 1884.96 1367.29 Q1880.31 1372.09 1871.84 1380.73 Z\" fill=\"#000000\" fill-rule=\"evenodd\" fill-opacity=\"1\" /><path clip-path=\"url(#clip470)\" d=\"M1958.75 1342.05 L1958.75 1361.39 L1978.09 1361.39 L1978.09 1367.29 L1958.75 1367.29 L1958.75 1386.63 L1952.92 1386.63 L1952.92 1367.29 L1933.58 1367.29 L1933.58 1361.39 L1952.92 1361.39 L1952.92 1342.05 L1958.75 1342.05 Z\" fill=\"#000000\" fill-rule=\"evenodd\" fill-opacity=\"1\" /><path clip-path=\"url(#clip470)\" d=\"M2016.04 1385.56 L2016.04 1379.17 Q2018.68 1380.42 2021.39 1381.08 Q2024.1 1381.74 2026.7 1381.74 Q2033.64 1381.74 2037.29 1377.09 Q2040.97 1372.4 2041.49 1362.88 Q2039.48 1365.87 2036.39 1367.47 Q2033.3 1369.07 2029.55 1369.07 Q2021.77 1369.07 2017.22 1364.38 Q2012.71 1359.66 2012.71 1351.5 Q2012.71 1343.51 2017.43 1338.68 Q2022.15 1333.86 2030 1333.86 Q2038.99 1333.86 2043.71 1340.77 Q2048.47 1347.64 2048.47 1360.77 Q2048.47 1373.02 2042.64 1380.35 Q2036.84 1387.64 2027.01 1387.64 Q2024.37 1387.64 2021.67 1387.12 Q2018.96 1386.6 2016.04 1385.56 M2030 1363.58 Q2034.72 1363.58 2037.46 1360.35 Q2040.24 1357.12 2040.24 1351.5 Q2040.24 1345.91 2037.46 1342.68 Q2034.72 1339.41 2030 1339.41 Q2025.28 1339.41 2022.5 1342.68 Q2019.76 1345.91 2019.76 1351.5 Q2019.76 1357.12 2022.5 1360.35 Q2025.28 1363.58 2030 1363.58 Z\" fill=\"#000000\" fill-rule=\"evenodd\" fill-opacity=\"1\" /><path clip-path=\"url(#clip470)\" d=\"M2086.91 1343.34 L2074.44 1350.07 L2086.91 1356.84 L2084.89 1360.25 L2073.23 1353.2 L2073.23 1366.29 L2069.27 1366.29 L2069.27 1353.2 L2057.6 1360.25 L2055.59 1356.84 L2068.05 1350.07 L2055.59 1343.34 L2057.6 1339.9 L2069.27 1346.95 L2069.27 1333.86 L2073.23 1333.86 L2073.23 1346.95 L2084.89 1339.9 L2086.91 1343.34 Z\" fill=\"#000000\" fill-rule=\"evenodd\" fill-opacity=\"1\" /><path clip-path=\"url(#clip470)\" d=\"M2128.05 1347.75 L2113.99 1366.67 L2128.78 1386.63 L2121.25 1386.63 L2109.93 1371.36 L2098.61 1386.63 L2091.07 1386.63 L2106.18 1366.29 L2092.36 1347.75 L2099.89 1347.75 L2110.21 1361.6 L2120.52 1347.75 L2128.05 1347.75 Z\" fill=\"#000000\" fill-rule=\"evenodd\" fill-opacity=\"1\" /><path clip-path=\"url(#clip470)\" d=\"M2164.3 1334.79 L2183.16 1354.13 L2176.18 1354.13 L2160.9 1340.42 L2145.62 1354.13 L2138.64 1354.13 L2157.5 1334.79 L2164.3 1334.79 Z\" fill=\"#000000\" fill-rule=\"evenodd\" fill-opacity=\"1\" /><path clip-path=\"url(#clip470)\" d=\"M2219.55 1358.68 Q2224.58 1359.76 2227.39 1363.16 Q2230.24 1366.57 2230.24 1371.57 Q2230.24 1379.24 2224.96 1383.44 Q2219.68 1387.64 2209.96 1387.64 Q2206.7 1387.64 2203.23 1386.98 Q2199.79 1386.36 2196.11 1385.07 L2196.11 1378.3 Q2199.03 1380 2202.5 1380.87 Q2205.97 1381.74 2209.75 1381.74 Q2216.35 1381.74 2219.79 1379.13 Q2223.26 1376.53 2223.26 1371.57 Q2223.26 1366.98 2220.03 1364.41 Q2216.84 1361.81 2211.11 1361.81 L2205.07 1361.81 L2205.07 1356.04 L2211.39 1356.04 Q2216.56 1356.04 2219.3 1354 Q2222.05 1351.91 2222.05 1348.02 Q2222.05 1344.03 2219.2 1341.91 Q2216.39 1339.76 2211.11 1339.76 Q2208.23 1339.76 2204.93 1340.38 Q2201.63 1341.01 2197.67 1342.33 L2197.67 1336.08 Q2201.66 1334.97 2205.14 1334.41 Q2208.64 1333.86 2211.73 1333.86 Q2219.72 1333.86 2224.37 1337.5 Q2229.03 1341.11 2229.03 1347.29 Q2229.03 1351.6 2226.56 1354.59 Q2224.09 1357.54 2219.55 1358.68 Z\" fill=\"#000000\" fill-rule=\"evenodd\" fill-opacity=\"1\" /></svg>\n"
      ]
     },
     "execution_count": 65,
     "metadata": {},
     "output_type": "execute_result"
    }
   ],
   "source": [
    "plot(f, legend=:bottomright)"
   ]
  },
  {
   "cell_type": "markdown",
   "id": "68418fd7",
   "metadata": {
    "slideshow": {
     "slide_type": "slide"
    }
   },
   "source": [
    "# Polynomial evaluation is (discrete) linear algebra"
   ]
  },
  {
   "cell_type": "code",
   "execution_count": 66,
   "id": "6fdc3793",
   "metadata": {
    "cell_style": "split"
   },
   "outputs": [
    {
     "data": {
      "text/plain": [
       "3×4 Matrix{Float64}:\n",
       " 1.0  0.0  0.0  0.0\n",
       " 1.0  1.0  1.0  1.0\n",
       " 1.0  2.0  4.0  8.0"
      ]
     },
     "execution_count": 66,
     "metadata": {},
     "output_type": "execute_result"
    }
   ],
   "source": [
    "V = [one.(x) x x.^2 x.^3]"
   ]
  },
  {
   "cell_type": "code",
   "execution_count": 20,
   "id": "a7bd6f28",
   "metadata": {
    "cell_style": "split"
   },
   "outputs": [
    {
     "data": {
      "text/plain": [
       "3-element Vector{Float64}:\n",
       "  1.0\n",
       " 12.0\n",
       " 83.0"
      ]
     },
     "execution_count": 20,
     "metadata": {},
     "output_type": "execute_result"
    }
   ],
   "source": [
    "V * p + V * q"
   ]
  },
  {
   "cell_type": "code",
   "execution_count": 21,
   "id": "c18070be",
   "metadata": {
    "cell_style": "split"
   },
   "outputs": [
    {
     "data": {
      "text/plain": [
       "3-element Vector{Float64}:\n",
       "  1.0\n",
       " 12.0\n",
       " 83.0"
      ]
     },
     "execution_count": 21,
     "metadata": {},
     "output_type": "execute_result"
    }
   ],
   "source": [
    "V * (p + q)"
   ]
  },
  {
   "cell_type": "markdown",
   "id": "bcac861a",
   "metadata": {
    "slideshow": {
     "slide_type": "slide"
    }
   },
   "source": [
    "# Vandermonde matrices\n",
    "\n",
    "A Vandermonde matrix is one whose columns are functions evaluated at discrete points.\n",
    "\n",
    "$$V(x) = \\begin{bmatrix} 1 \\Bigg| x \\Bigg| x^2 \\Bigg| x^3 \\Bigg| \\dotsb \\end{bmatrix}$$"
   ]
  },
  {
   "cell_type": "code",
   "execution_count": 67,
   "id": "55291bbf",
   "metadata": {
    "cell_style": "split"
   },
   "outputs": [
    {
     "data": {
      "text/plain": [
       "vander (generic function with 2 methods)"
      ]
     },
     "execution_count": 67,
     "metadata": {},
     "output_type": "execute_result"
    }
   ],
   "source": [
    "function vander(x, k=nothing)\n",
    "    if isnothing(k)\n",
    "        k = length(x)\n",
    "    end\n",
    "    m = length(x)\n",
    "    V = ones(m, k)\n",
    "    for j in 2:k\n",
    "        V[:, j] = V[:, j-1] .* x\n",
    "    end\n",
    "    V\n",
    "end"
   ]
  },
  {
   "cell_type": "code",
   "execution_count": 68,
   "id": "6151d57b",
   "metadata": {
    "cell_style": "split"
   },
   "outputs": [
    {
     "data": {
      "image/svg+xml": [
       "<?xml version=\"1.0\" encoding=\"utf-8\"?>\n",
       "<svg xmlns=\"http://www.w3.org/2000/svg\" xmlns:xlink=\"http://www.w3.org/1999/xlink\" width=\"600\" height=\"400\" viewBox=\"0 0 2400 1600\">\n",
       "<defs>\n",
       "  <clipPath id=\"clip510\">\n",
       "    <rect x=\"0\" y=\"0\" width=\"2400\" height=\"1600\"/>\n",
       "  </clipPath>\n",
       "</defs>\n",
       "<path clip-path=\"url(#clip510)\" d=\"\n",
       "M0 1600 L2400 1600 L2400 0 L0 0  Z\n",
       "  \" fill=\"#ffffff\" fill-rule=\"evenodd\" fill-opacity=\"1\"/>\n",
       "<defs>\n",
       "  <clipPath id=\"clip511\">\n",
       "    <rect x=\"480\" y=\"0\" width=\"1681\" height=\"1600\"/>\n",
       "  </clipPath>\n",
       "</defs>\n",
       "<path clip-path=\"url(#clip510)\" d=\"\n",
       "M193.936 1486.45 L2352.76 1486.45 L2352.76 47.2441 L193.936 47.2441  Z\n",
       "  \" fill=\"#ffffff\" fill-rule=\"evenodd\" fill-opacity=\"1\"/>\n",
       "<defs>\n",
       "  <clipPath id=\"clip512\">\n",
       "    <rect x=\"193\" y=\"47\" width=\"2160\" height=\"1440\"/>\n",
       "  </clipPath>\n",
       "</defs>\n",
       "<polyline clip-path=\"url(#clip512)\" style=\"stroke:#000000; stroke-linecap:butt; stroke-linejoin:round; stroke-width:2; stroke-opacity:0.1; fill:none\" points=\"\n",
       "  255.035,1486.45 255.035,47.2441 \n",
       "  \"/>\n",
       "<polyline clip-path=\"url(#clip512)\" style=\"stroke:#000000; stroke-linecap:butt; stroke-linejoin:round; stroke-width:2; stroke-opacity:0.1; fill:none\" points=\"\n",
       "  764.19,1486.45 764.19,47.2441 \n",
       "  \"/>\n",
       "<polyline clip-path=\"url(#clip512)\" style=\"stroke:#000000; stroke-linecap:butt; stroke-linejoin:round; stroke-width:2; stroke-opacity:0.1; fill:none\" points=\"\n",
       "  1273.35,1486.45 1273.35,47.2441 \n",
       "  \"/>\n",
       "<polyline clip-path=\"url(#clip512)\" style=\"stroke:#000000; stroke-linecap:butt; stroke-linejoin:round; stroke-width:2; stroke-opacity:0.1; fill:none\" points=\"\n",
       "  1782.5,1486.45 1782.5,47.2441 \n",
       "  \"/>\n",
       "<polyline clip-path=\"url(#clip512)\" style=\"stroke:#000000; stroke-linecap:butt; stroke-linejoin:round; stroke-width:2; stroke-opacity:0.1; fill:none\" points=\"\n",
       "  2291.66,1486.45 2291.66,47.2441 \n",
       "  \"/>\n",
       "<polyline clip-path=\"url(#clip510)\" style=\"stroke:#000000; stroke-linecap:butt; stroke-linejoin:round; stroke-width:4; stroke-opacity:1; fill:none\" points=\"\n",
       "  193.936,1486.45 2352.76,1486.45 \n",
       "  \"/>\n",
       "<polyline clip-path=\"url(#clip510)\" style=\"stroke:#000000; stroke-linecap:butt; stroke-linejoin:round; stroke-width:4; stroke-opacity:1; fill:none\" points=\"\n",
       "  255.035,1486.45 255.035,1467.55 \n",
       "  \"/>\n",
       "<polyline clip-path=\"url(#clip510)\" style=\"stroke:#000000; stroke-linecap:butt; stroke-linejoin:round; stroke-width:4; stroke-opacity:1; fill:none\" points=\"\n",
       "  764.19,1486.45 764.19,1467.55 \n",
       "  \"/>\n",
       "<polyline clip-path=\"url(#clip510)\" style=\"stroke:#000000; stroke-linecap:butt; stroke-linejoin:round; stroke-width:4; stroke-opacity:1; fill:none\" points=\"\n",
       "  1273.35,1486.45 1273.35,1467.55 \n",
       "  \"/>\n",
       "<polyline clip-path=\"url(#clip510)\" style=\"stroke:#000000; stroke-linecap:butt; stroke-linejoin:round; stroke-width:4; stroke-opacity:1; fill:none\" points=\"\n",
       "  1782.5,1486.45 1782.5,1467.55 \n",
       "  \"/>\n",
       "<polyline clip-path=\"url(#clip510)\" style=\"stroke:#000000; stroke-linecap:butt; stroke-linejoin:round; stroke-width:4; stroke-opacity:1; fill:none\" points=\"\n",
       "  2291.66,1486.45 2291.66,1467.55 \n",
       "  \"/>\n",
       "<path clip-path=\"url(#clip510)\" d=\"M201.563 1532.02 L231.239 1532.02 L231.239 1535.95 L201.563 1535.95 L201.563 1532.02 Z\" fill=\"#000000\" fill-rule=\"evenodd\" fill-opacity=\"1\" /><path clip-path=\"url(#clip510)\" d=\"M242.141 1544.91 L249.78 1544.91 L249.78 1518.55 L241.47 1520.21 L241.47 1515.95 L249.734 1514.29 L254.41 1514.29 L254.41 1544.91 L262.049 1544.91 L262.049 1548.85 L242.141 1548.85 L242.141 1544.91 Z\" fill=\"#000000\" fill-rule=\"evenodd\" fill-opacity=\"1\" /><path clip-path=\"url(#clip510)\" d=\"M271.493 1542.97 L276.377 1542.97 L276.377 1548.85 L271.493 1548.85 L271.493 1542.97 Z\" fill=\"#000000\" fill-rule=\"evenodd\" fill-opacity=\"1\" /><path clip-path=\"url(#clip510)\" d=\"M296.562 1517.37 Q292.951 1517.37 291.122 1520.93 Q289.317 1524.47 289.317 1531.6 Q289.317 1538.71 291.122 1542.27 Q292.951 1545.82 296.562 1545.82 Q300.196 1545.82 302.002 1542.27 Q303.831 1538.71 303.831 1531.6 Q303.831 1524.47 302.002 1520.93 Q300.196 1517.37 296.562 1517.37 M296.562 1513.66 Q302.372 1513.66 305.428 1518.27 Q308.507 1522.85 308.507 1531.6 Q308.507 1540.33 305.428 1544.94 Q302.372 1549.52 296.562 1549.52 Q290.752 1549.52 287.673 1544.94 Q284.618 1540.33 284.618 1531.6 Q284.618 1522.85 287.673 1518.27 Q290.752 1513.66 296.562 1513.66 Z\" fill=\"#000000\" fill-rule=\"evenodd\" fill-opacity=\"1\" /><path clip-path=\"url(#clip510)\" d=\"M711.216 1532.02 L740.892 1532.02 L740.892 1535.95 L711.216 1535.95 L711.216 1532.02 Z\" fill=\"#000000\" fill-rule=\"evenodd\" fill-opacity=\"1\" /><path clip-path=\"url(#clip510)\" d=\"M760.984 1517.37 Q757.373 1517.37 755.545 1520.93 Q753.739 1524.47 753.739 1531.6 Q753.739 1538.71 755.545 1542.27 Q757.373 1545.82 760.984 1545.82 Q764.619 1545.82 766.424 1542.27 Q768.253 1538.71 768.253 1531.6 Q768.253 1524.47 766.424 1520.93 Q764.619 1517.37 760.984 1517.37 M760.984 1513.66 Q766.794 1513.66 769.85 1518.27 Q772.929 1522.85 772.929 1531.6 Q772.929 1540.33 769.85 1544.94 Q766.794 1549.52 760.984 1549.52 Q755.174 1549.52 752.095 1544.94 Q749.04 1540.33 749.04 1531.6 Q749.04 1522.85 752.095 1518.27 Q755.174 1513.66 760.984 1513.66 Z\" fill=\"#000000\" fill-rule=\"evenodd\" fill-opacity=\"1\" /><path clip-path=\"url(#clip510)\" d=\"M781.146 1542.97 L786.03 1542.97 L786.03 1548.85 L781.146 1548.85 L781.146 1542.97 Z\" fill=\"#000000\" fill-rule=\"evenodd\" fill-opacity=\"1\" /><path clip-path=\"url(#clip510)\" d=\"M796.262 1514.29 L814.618 1514.29 L814.618 1518.22 L800.544 1518.22 L800.544 1526.7 Q801.563 1526.35 802.581 1526.19 Q803.6 1526 804.618 1526 Q810.405 1526 813.785 1529.17 Q817.165 1532.34 817.165 1537.76 Q817.165 1543.34 813.692 1546.44 Q810.22 1549.52 803.901 1549.52 Q801.725 1549.52 799.456 1549.15 Q797.211 1548.78 794.804 1548.04 L794.804 1543.34 Q796.887 1544.47 799.109 1545.03 Q801.331 1545.58 803.808 1545.58 Q807.813 1545.58 810.151 1543.48 Q812.489 1541.37 812.489 1537.76 Q812.489 1534.15 810.151 1532.04 Q807.813 1529.94 803.808 1529.94 Q801.933 1529.94 800.058 1530.35 Q798.206 1530.77 796.262 1531.65 L796.262 1514.29 Z\" fill=\"#000000\" fill-rule=\"evenodd\" fill-opacity=\"1\" /><path clip-path=\"url(#clip510)\" d=\"M1250.73 1517.37 Q1247.12 1517.37 1245.29 1520.93 Q1243.49 1524.47 1243.49 1531.6 Q1243.49 1538.71 1245.29 1542.27 Q1247.12 1545.82 1250.73 1545.82 Q1254.36 1545.82 1256.17 1542.27 Q1258 1538.71 1258 1531.6 Q1258 1524.47 1256.17 1520.93 Q1254.36 1517.37 1250.73 1517.37 M1250.73 1513.66 Q1256.54 1513.66 1259.6 1518.27 Q1262.67 1522.85 1262.67 1531.6 Q1262.67 1540.33 1259.6 1544.94 Q1256.54 1549.52 1250.73 1549.52 Q1244.92 1549.52 1241.84 1544.94 Q1238.79 1540.33 1238.79 1531.6 Q1238.79 1522.85 1241.84 1518.27 Q1244.92 1513.66 1250.73 1513.66 Z\" fill=\"#000000\" fill-rule=\"evenodd\" fill-opacity=\"1\" /><path clip-path=\"url(#clip510)\" d=\"M1270.89 1542.97 L1275.78 1542.97 L1275.78 1548.85 L1270.89 1548.85 L1270.89 1542.97 Z\" fill=\"#000000\" fill-rule=\"evenodd\" fill-opacity=\"1\" /><path clip-path=\"url(#clip510)\" d=\"M1295.96 1517.37 Q1292.35 1517.37 1290.52 1520.93 Q1288.72 1524.47 1288.72 1531.6 Q1288.72 1538.71 1290.52 1542.27 Q1292.35 1545.82 1295.96 1545.82 Q1299.6 1545.82 1301.4 1542.27 Q1303.23 1538.71 1303.23 1531.6 Q1303.23 1524.47 1301.4 1520.93 Q1299.6 1517.37 1295.96 1517.37 M1295.96 1513.66 Q1301.77 1513.66 1304.83 1518.27 Q1307.91 1522.85 1307.91 1531.6 Q1307.91 1540.33 1304.83 1544.94 Q1301.77 1549.52 1295.96 1549.52 Q1290.15 1549.52 1287.07 1544.94 Q1284.02 1540.33 1284.02 1531.6 Q1284.02 1522.85 1287.07 1518.27 Q1290.15 1513.66 1295.96 1513.66 Z\" fill=\"#000000\" fill-rule=\"evenodd\" fill-opacity=\"1\" /><path clip-path=\"url(#clip510)\" d=\"M1760.38 1517.37 Q1756.77 1517.37 1754.94 1520.93 Q1753.14 1524.47 1753.14 1531.6 Q1753.14 1538.71 1754.94 1542.27 Q1756.77 1545.82 1760.38 1545.82 Q1764.02 1545.82 1765.82 1542.27 Q1767.65 1538.71 1767.65 1531.6 Q1767.65 1524.47 1765.82 1520.93 Q1764.02 1517.37 1760.38 1517.37 M1760.38 1513.66 Q1766.19 1513.66 1769.25 1518.27 Q1772.33 1522.85 1772.33 1531.6 Q1772.33 1540.33 1769.25 1544.94 Q1766.19 1549.52 1760.38 1549.52 Q1754.57 1549.52 1751.49 1544.94 Q1748.44 1540.33 1748.44 1531.6 Q1748.44 1522.85 1751.49 1518.27 Q1754.57 1513.66 1760.38 1513.66 Z\" fill=\"#000000\" fill-rule=\"evenodd\" fill-opacity=\"1\" /><path clip-path=\"url(#clip510)\" d=\"M1780.55 1542.97 L1785.43 1542.97 L1785.43 1548.85 L1780.55 1548.85 L1780.55 1542.97 Z\" fill=\"#000000\" fill-rule=\"evenodd\" fill-opacity=\"1\" /><path clip-path=\"url(#clip510)\" d=\"M1795.66 1514.29 L1814.02 1514.29 L1814.02 1518.22 L1799.94 1518.22 L1799.94 1526.7 Q1800.96 1526.35 1801.98 1526.19 Q1803 1526 1804.02 1526 Q1809.8 1526 1813.18 1529.17 Q1816.56 1532.34 1816.56 1537.76 Q1816.56 1543.34 1813.09 1546.44 Q1809.62 1549.52 1803.3 1549.52 Q1801.12 1549.52 1798.86 1549.15 Q1796.61 1548.78 1794.2 1548.04 L1794.2 1543.34 Q1796.29 1544.47 1798.51 1545.03 Q1800.73 1545.58 1803.21 1545.58 Q1807.21 1545.58 1809.55 1543.48 Q1811.89 1541.37 1811.89 1537.76 Q1811.89 1534.15 1809.55 1532.04 Q1807.21 1529.94 1803.21 1529.94 Q1801.33 1529.94 1799.46 1530.35 Q1797.61 1530.77 1795.66 1531.65 L1795.66 1514.29 Z\" fill=\"#000000\" fill-rule=\"evenodd\" fill-opacity=\"1\" /><path clip-path=\"url(#clip510)\" d=\"M2258.81 1544.91 L2266.45 1544.91 L2266.45 1518.55 L2258.14 1520.21 L2258.14 1515.95 L2266.4 1514.29 L2271.08 1514.29 L2271.08 1544.91 L2278.72 1544.91 L2278.72 1548.85 L2258.81 1548.85 L2258.81 1544.91 Z\" fill=\"#000000\" fill-rule=\"evenodd\" fill-opacity=\"1\" /><path clip-path=\"url(#clip510)\" d=\"M2288.16 1542.97 L2293.05 1542.97 L2293.05 1548.85 L2288.16 1548.85 L2288.16 1542.97 Z\" fill=\"#000000\" fill-rule=\"evenodd\" fill-opacity=\"1\" /><path clip-path=\"url(#clip510)\" d=\"M2313.23 1517.37 Q2309.62 1517.37 2307.79 1520.93 Q2305.99 1524.47 2305.99 1531.6 Q2305.99 1538.71 2307.79 1542.27 Q2309.62 1545.82 2313.23 1545.82 Q2316.87 1545.82 2318.67 1542.27 Q2320.5 1538.71 2320.5 1531.6 Q2320.5 1524.47 2318.67 1520.93 Q2316.87 1517.37 2313.23 1517.37 M2313.23 1513.66 Q2319.04 1513.66 2322.1 1518.27 Q2325.18 1522.85 2325.18 1531.6 Q2325.18 1540.33 2322.1 1544.94 Q2319.04 1549.52 2313.23 1549.52 Q2307.42 1549.52 2304.34 1544.94 Q2301.29 1540.33 2301.29 1531.6 Q2301.29 1522.85 2304.34 1518.27 Q2307.42 1513.66 2313.23 1513.66 Z\" fill=\"#000000\" fill-rule=\"evenodd\" fill-opacity=\"1\" /><polyline clip-path=\"url(#clip512)\" style=\"stroke:#000000; stroke-linecap:butt; stroke-linejoin:round; stroke-width:2; stroke-opacity:0.1; fill:none\" points=\"\n",
       "  193.936,1445.72 2352.76,1445.72 \n",
       "  \"/>\n",
       "<polyline clip-path=\"url(#clip512)\" style=\"stroke:#000000; stroke-linecap:butt; stroke-linejoin:round; stroke-width:2; stroke-opacity:0.1; fill:none\" points=\"\n",
       "  193.936,1106.28 2352.76,1106.28 \n",
       "  \"/>\n",
       "<polyline clip-path=\"url(#clip512)\" style=\"stroke:#000000; stroke-linecap:butt; stroke-linejoin:round; stroke-width:2; stroke-opacity:0.1; fill:none\" points=\"\n",
       "  193.936,766.846 2352.76,766.846 \n",
       "  \"/>\n",
       "<polyline clip-path=\"url(#clip512)\" style=\"stroke:#000000; stroke-linecap:butt; stroke-linejoin:round; stroke-width:2; stroke-opacity:0.1; fill:none\" points=\"\n",
       "  193.936,427.411 2352.76,427.411 \n",
       "  \"/>\n",
       "<polyline clip-path=\"url(#clip512)\" style=\"stroke:#000000; stroke-linecap:butt; stroke-linejoin:round; stroke-width:2; stroke-opacity:0.1; fill:none\" points=\"\n",
       "  193.936,87.9763 2352.76,87.9763 \n",
       "  \"/>\n",
       "<polyline clip-path=\"url(#clip510)\" style=\"stroke:#000000; stroke-linecap:butt; stroke-linejoin:round; stroke-width:4; stroke-opacity:1; fill:none\" points=\"\n",
       "  193.936,1486.45 193.936,47.2441 \n",
       "  \"/>\n",
       "<polyline clip-path=\"url(#clip510)\" style=\"stroke:#000000; stroke-linecap:butt; stroke-linejoin:round; stroke-width:4; stroke-opacity:1; fill:none\" points=\"\n",
       "  193.936,1445.72 212.834,1445.72 \n",
       "  \"/>\n",
       "<polyline clip-path=\"url(#clip510)\" style=\"stroke:#000000; stroke-linecap:butt; stroke-linejoin:round; stroke-width:4; stroke-opacity:1; fill:none\" points=\"\n",
       "  193.936,1106.28 212.834,1106.28 \n",
       "  \"/>\n",
       "<polyline clip-path=\"url(#clip510)\" style=\"stroke:#000000; stroke-linecap:butt; stroke-linejoin:round; stroke-width:4; stroke-opacity:1; fill:none\" points=\"\n",
       "  193.936,766.846 212.834,766.846 \n",
       "  \"/>\n",
       "<polyline clip-path=\"url(#clip510)\" style=\"stroke:#000000; stroke-linecap:butt; stroke-linejoin:round; stroke-width:4; stroke-opacity:1; fill:none\" points=\"\n",
       "  193.936,427.411 212.834,427.411 \n",
       "  \"/>\n",
       "<polyline clip-path=\"url(#clip510)\" style=\"stroke:#000000; stroke-linecap:butt; stroke-linejoin:round; stroke-width:4; stroke-opacity:1; fill:none\" points=\"\n",
       "  193.936,87.9763 212.834,87.9763 \n",
       "  \"/>\n",
       "<path clip-path=\"url(#clip510)\" d=\"M50.9921 1446.17 L80.6679 1446.17 L80.6679 1450.1 L50.9921 1450.1 L50.9921 1446.17 Z\" fill=\"#000000\" fill-rule=\"evenodd\" fill-opacity=\"1\" /><path clip-path=\"url(#clip510)\" d=\"M91.5706 1459.06 L99.2095 1459.06 L99.2095 1432.69 L90.8993 1434.36 L90.8993 1430.1 L99.1632 1428.44 L103.839 1428.44 L103.839 1459.06 L111.478 1459.06 L111.478 1463 L91.5706 1463 L91.5706 1459.06 Z\" fill=\"#000000\" fill-rule=\"evenodd\" fill-opacity=\"1\" /><path clip-path=\"url(#clip510)\" d=\"M120.922 1457.12 L125.807 1457.12 L125.807 1463 L120.922 1463 L120.922 1457.12 Z\" fill=\"#000000\" fill-rule=\"evenodd\" fill-opacity=\"1\" /><path clip-path=\"url(#clip510)\" d=\"M145.992 1431.51 Q142.381 1431.51 140.552 1435.08 Q138.746 1438.62 138.746 1445.75 Q138.746 1452.86 140.552 1456.42 Q142.381 1459.96 145.992 1459.96 Q149.626 1459.96 151.431 1456.42 Q153.26 1452.86 153.26 1445.75 Q153.26 1438.62 151.431 1435.08 Q149.626 1431.51 145.992 1431.51 M145.992 1427.81 Q151.802 1427.81 154.857 1432.42 Q157.936 1437 157.936 1445.75 Q157.936 1454.48 154.857 1459.08 Q151.802 1463.67 145.992 1463.67 Q140.181 1463.67 137.103 1459.08 Q134.047 1454.48 134.047 1445.75 Q134.047 1437 137.103 1432.42 Q140.181 1427.81 145.992 1427.81 Z\" fill=\"#000000\" fill-rule=\"evenodd\" fill-opacity=\"1\" /><path clip-path=\"url(#clip510)\" d=\"M51.9875 1106.73 L81.6633 1106.73 L81.6633 1110.67 L51.9875 1110.67 L51.9875 1106.73 Z\" fill=\"#000000\" fill-rule=\"evenodd\" fill-opacity=\"1\" /><path clip-path=\"url(#clip510)\" d=\"M101.756 1092.08 Q98.1447 1092.08 96.316 1095.64 Q94.5104 1099.19 94.5104 1106.32 Q94.5104 1113.42 96.316 1116.99 Q98.1447 1120.53 101.756 1120.53 Q105.39 1120.53 107.196 1116.99 Q109.024 1113.42 109.024 1106.32 Q109.024 1099.19 107.196 1095.64 Q105.39 1092.08 101.756 1092.08 M101.756 1088.38 Q107.566 1088.38 110.621 1092.98 Q113.7 1097.57 113.7 1106.32 Q113.7 1115.04 110.621 1119.65 Q107.566 1124.23 101.756 1124.23 Q95.9456 1124.23 92.8669 1119.65 Q89.8114 1115.04 89.8114 1106.32 Q89.8114 1097.57 92.8669 1092.98 Q95.9456 1088.38 101.756 1088.38 Z\" fill=\"#000000\" fill-rule=\"evenodd\" fill-opacity=\"1\" /><path clip-path=\"url(#clip510)\" d=\"M121.918 1117.68 L126.802 1117.68 L126.802 1123.56 L121.918 1123.56 L121.918 1117.68 Z\" fill=\"#000000\" fill-rule=\"evenodd\" fill-opacity=\"1\" /><path clip-path=\"url(#clip510)\" d=\"M137.033 1089 L155.39 1089 L155.39 1092.94 L141.316 1092.94 L141.316 1101.41 Q142.334 1101.06 143.353 1100.9 Q144.371 1100.71 145.39 1100.71 Q151.177 1100.71 154.556 1103.89 Q157.936 1107.06 157.936 1112.47 Q157.936 1118.05 154.464 1121.15 Q150.992 1124.23 144.672 1124.23 Q142.496 1124.23 140.228 1123.86 Q137.982 1123.49 135.575 1122.75 L135.575 1118.05 Q137.658 1119.19 139.881 1119.74 Q142.103 1120.3 144.58 1120.3 Q148.584 1120.3 150.922 1118.19 Q153.26 1116.08 153.26 1112.47 Q153.26 1108.86 150.922 1106.76 Q148.584 1104.65 144.58 1104.65 Q142.705 1104.65 140.83 1105.07 Q138.978 1105.48 137.033 1106.36 L137.033 1089 Z\" fill=\"#000000\" fill-rule=\"evenodd\" fill-opacity=\"1\" /><path clip-path=\"url(#clip510)\" d=\"M100.76 752.645 Q97.1493 752.645 95.3206 756.209 Q93.515 759.751 93.515 766.881 Q93.515 773.987 95.3206 777.552 Q97.1493 781.094 100.76 781.094 Q104.395 781.094 106.2 777.552 Q108.029 773.987 108.029 766.881 Q108.029 759.751 106.2 756.209 Q104.395 752.645 100.76 752.645 M100.76 748.941 Q106.571 748.941 109.626 753.547 Q112.705 758.131 112.705 766.881 Q112.705 775.608 109.626 780.214 Q106.571 784.797 100.76 784.797 Q94.9502 784.797 91.8715 780.214 Q88.816 775.608 88.816 766.881 Q88.816 758.131 91.8715 753.547 Q94.9502 748.941 100.76 748.941 Z\" fill=\"#000000\" fill-rule=\"evenodd\" fill-opacity=\"1\" /><path clip-path=\"url(#clip510)\" d=\"M120.922 778.246 L125.807 778.246 L125.807 784.126 L120.922 784.126 L120.922 778.246 Z\" fill=\"#000000\" fill-rule=\"evenodd\" fill-opacity=\"1\" /><path clip-path=\"url(#clip510)\" d=\"M145.992 752.645 Q142.381 752.645 140.552 756.209 Q138.746 759.751 138.746 766.881 Q138.746 773.987 140.552 777.552 Q142.381 781.094 145.992 781.094 Q149.626 781.094 151.431 777.552 Q153.26 773.987 153.26 766.881 Q153.26 759.751 151.431 756.209 Q149.626 752.645 145.992 752.645 M145.992 748.941 Q151.802 748.941 154.857 753.547 Q157.936 758.131 157.936 766.881 Q157.936 775.608 154.857 780.214 Q151.802 784.797 145.992 784.797 Q140.181 784.797 137.103 780.214 Q134.047 775.608 134.047 766.881 Q134.047 758.131 137.103 753.547 Q140.181 748.941 145.992 748.941 Z\" fill=\"#000000\" fill-rule=\"evenodd\" fill-opacity=\"1\" /><path clip-path=\"url(#clip510)\" d=\"M101.756 413.21 Q98.1447 413.21 96.316 416.775 Q94.5104 420.316 94.5104 427.446 Q94.5104 434.552 96.316 438.117 Q98.1447 441.659 101.756 441.659 Q105.39 441.659 107.196 438.117 Q109.024 434.552 109.024 427.446 Q109.024 420.316 107.196 416.775 Q105.39 413.21 101.756 413.21 M101.756 409.506 Q107.566 409.506 110.621 414.113 Q113.7 418.696 113.7 427.446 Q113.7 436.173 110.621 440.779 Q107.566 445.362 101.756 445.362 Q95.9456 445.362 92.8669 440.779 Q89.8114 436.173 89.8114 427.446 Q89.8114 418.696 92.8669 414.113 Q95.9456 409.506 101.756 409.506 Z\" fill=\"#000000\" fill-rule=\"evenodd\" fill-opacity=\"1\" /><path clip-path=\"url(#clip510)\" d=\"M121.918 438.812 L126.802 438.812 L126.802 444.691 L121.918 444.691 L121.918 438.812 Z\" fill=\"#000000\" fill-rule=\"evenodd\" fill-opacity=\"1\" /><path clip-path=\"url(#clip510)\" d=\"M137.033 410.131 L155.39 410.131 L155.39 414.066 L141.316 414.066 L141.316 422.538 Q142.334 422.191 143.353 422.029 Q144.371 421.844 145.39 421.844 Q151.177 421.844 154.556 425.015 Q157.936 428.187 157.936 433.603 Q157.936 439.182 154.464 442.284 Q150.992 445.362 144.672 445.362 Q142.496 445.362 140.228 444.992 Q137.982 444.622 135.575 443.881 L135.575 439.182 Q137.658 440.316 139.881 440.872 Q142.103 441.427 144.58 441.427 Q148.584 441.427 150.922 439.321 Q153.26 437.214 153.26 433.603 Q153.26 429.992 150.922 427.886 Q148.584 425.779 144.58 425.779 Q142.705 425.779 140.83 426.196 Q138.978 426.613 137.033 427.492 L137.033 410.131 Z\" fill=\"#000000\" fill-rule=\"evenodd\" fill-opacity=\"1\" /><path clip-path=\"url(#clip510)\" d=\"M91.5706 101.321 L99.2095 101.321 L99.2095 74.9555 L90.8993 76.6222 L90.8993 72.3629 L99.1632 70.6963 L103.839 70.6963 L103.839 101.321 L111.478 101.321 L111.478 105.256 L91.5706 105.256 L91.5706 101.321 Z\" fill=\"#000000\" fill-rule=\"evenodd\" fill-opacity=\"1\" /><path clip-path=\"url(#clip510)\" d=\"M120.922 99.3767 L125.807 99.3767 L125.807 105.256 L120.922 105.256 L120.922 99.3767 Z\" fill=\"#000000\" fill-rule=\"evenodd\" fill-opacity=\"1\" /><path clip-path=\"url(#clip510)\" d=\"M145.992 73.775 Q142.381 73.775 140.552 77.3398 Q138.746 80.8814 138.746 88.011 Q138.746 95.1174 140.552 98.6822 Q142.381 102.224 145.992 102.224 Q149.626 102.224 151.431 98.6822 Q153.26 95.1174 153.26 88.011 Q153.26 80.8814 151.431 77.3398 Q149.626 73.775 145.992 73.775 M145.992 70.0713 Q151.802 70.0713 154.857 74.6777 Q157.936 79.261 157.936 88.011 Q157.936 96.7378 154.857 101.344 Q151.802 105.928 145.992 105.928 Q140.181 105.928 137.103 101.344 Q134.047 96.7378 134.047 88.011 Q134.047 79.261 137.103 74.6777 Q140.181 70.0713 145.992 70.0713 Z\" fill=\"#000000\" fill-rule=\"evenodd\" fill-opacity=\"1\" /><polyline clip-path=\"url(#clip512)\" style=\"stroke:#009af9; stroke-linecap:butt; stroke-linejoin:round; stroke-width:16; stroke-opacity:1; fill:none\" points=\"\n",
       "  255.035,87.9763 296.598,87.9763 338.162,87.9763 379.726,87.9763 421.29,87.9763 462.853,87.9763 504.417,87.9763 545.981,87.9763 587.544,87.9763 629.108,87.9763 \n",
       "  670.672,87.9763 712.236,87.9763 753.799,87.9763 795.363,87.9763 836.927,87.9763 878.491,87.9763 920.054,87.9763 961.618,87.9763 1003.18,87.9763 1044.75,87.9763 \n",
       "  1086.31,87.9763 1127.87,87.9763 1169.44,87.9763 1211,87.9763 1252.56,87.9763 1294.13,87.9763 1335.69,87.9763 1377.26,87.9763 1418.82,87.9763 1460.38,87.9763 \n",
       "  1501.95,87.9763 1543.51,87.9763 1585.07,87.9763 1626.64,87.9763 1668.2,87.9763 1709.77,87.9763 1751.33,87.9763 1792.89,87.9763 1834.46,87.9763 1876.02,87.9763 \n",
       "  1917.58,87.9763 1959.15,87.9763 2000.71,87.9763 2042.27,87.9763 2083.84,87.9763 2125.4,87.9763 2166.97,87.9763 2208.53,87.9763 2250.09,87.9763 2291.66,87.9763 \n",
       "  \n",
       "  \"/>\n",
       "<polyline clip-path=\"url(#clip512)\" style=\"stroke:#e26f46; stroke-linecap:butt; stroke-linejoin:round; stroke-width:16; stroke-opacity:1; fill:none\" points=\"\n",
       "  255.035,1445.72 296.598,1418.01 338.162,1390.3 379.726,1362.59 421.29,1334.88 462.853,1307.17 504.417,1279.46 545.981,1251.75 587.544,1224.04 629.108,1196.33 \n",
       "  670.672,1168.63 712.236,1140.92 753.799,1113.21 795.363,1085.5 836.927,1057.79 878.491,1030.08 920.054,1002.37 961.618,974.663 1003.18,946.954 1044.75,919.245 \n",
       "  1086.31,891.536 1127.87,863.827 1169.44,836.118 1211,808.409 1252.56,780.7 1294.13,752.992 1335.69,725.283 1377.26,697.574 1418.82,669.865 1460.38,642.156 \n",
       "  1501.95,614.447 1543.51,586.738 1585.07,559.029 1626.64,531.32 1668.2,503.611 1709.77,475.902 1751.33,448.193 1792.89,420.484 1834.46,392.775 1876.02,365.066 \n",
       "  1917.58,337.357 1959.15,309.648 2000.71,281.939 2042.27,254.23 2083.84,226.521 2125.4,198.812 2166.97,171.103 2208.53,143.394 2250.09,115.685 2291.66,87.9763 \n",
       "  \n",
       "  \"/>\n",
       "<polyline clip-path=\"url(#clip512)\" style=\"stroke:#3da44d; stroke-linecap:butt; stroke-linejoin:round; stroke-width:16; stroke-opacity:1; fill:none\" points=\"\n",
       "  255.035,87.9763 296.598,142.263 338.162,194.288 379.726,244.051 421.29,291.552 462.853,336.791 504.417,379.769 545.981,420.484 587.544,458.937 629.108,495.128 \n",
       "  670.672,529.058 712.236,560.725 753.799,590.131 795.363,617.274 836.927,642.156 878.491,664.775 920.054,685.133 961.618,703.228 1003.18,719.062 1044.75,732.634 \n",
       "  1086.31,743.944 1127.87,752.992 1169.44,759.777 1211,764.301 1252.56,766.563 1294.13,766.563 1335.69,764.301 1377.26,759.777 1418.82,752.992 1460.38,743.944 \n",
       "  1501.95,732.634 1543.51,719.062 1585.07,703.228 1626.64,685.133 1668.2,664.775 1709.77,642.156 1751.33,617.274 1792.89,590.131 1834.46,560.725 1876.02,529.058 \n",
       "  1917.58,495.128 1959.15,458.937 2000.71,420.484 2042.27,379.769 2083.84,336.791 2125.4,291.552 2166.97,244.051 2208.53,194.288 2250.09,142.263 2291.66,87.9763 \n",
       "  \n",
       "  \"/>\n",
       "<polyline clip-path=\"url(#clip512)\" style=\"stroke:#c271d2; stroke-linecap:butt; stroke-linejoin:round; stroke-width:16; stroke-opacity:1; fill:none\" points=\"\n",
       "  255.035,1445.72 296.598,1365.94 338.162,1292.66 379.726,1225.63 421.29,1164.54 462.853,1109.13 504.417,1059.13 545.981,1014.25 587.544,974.213 629.108,938.749 \n",
       "  670.672,907.578 712.236,880.423 753.799,857.007 795.363,837.053 836.927,820.285 878.491,806.424 920.054,795.195 961.618,786.321 1003.18,779.523 1044.75,774.526 \n",
       "  1086.31,771.053 1127.87,768.825 1169.44,767.567 1211,767.002 1252.56,766.852 1294.13,766.84 1335.69,766.69 1377.26,766.125 1418.82,764.867 1460.38,762.639 \n",
       "  1501.95,759.166 1543.51,754.169 1585.07,747.371 1626.64,738.497 1668.2,727.268 1709.77,713.407 1751.33,696.639 1792.89,676.685 1834.46,653.269 1876.02,626.114 \n",
       "  1917.58,594.943 1959.15,559.479 2000.71,519.444 2042.27,474.563 2083.84,424.558 2125.4,369.151 2166.97,308.067 2208.53,241.028 2250.09,167.756 2291.66,87.9763 \n",
       "  \n",
       "  \"/>\n",
       "<path clip-path=\"url(#clip510)\" d=\"\n",
       "M1959.71 484.018 L2280.8 484.018 L2280.8 95.2176 L1959.71 95.2176  Z\n",
       "  \" fill=\"#ffffff\" fill-rule=\"evenodd\" fill-opacity=\"1\"/>\n",
       "<polyline clip-path=\"url(#clip510)\" style=\"stroke:#000000; stroke-linecap:butt; stroke-linejoin:round; stroke-width:4; stroke-opacity:1; fill:none\" points=\"\n",
       "  1959.71,484.018 2280.8,484.018 2280.8,95.2176 1959.71,95.2176 1959.71,484.018 \n",
       "  \"/>\n",
       "<polyline clip-path=\"url(#clip510)\" style=\"stroke:#009af9; stroke-linecap:butt; stroke-linejoin:round; stroke-width:6; stroke-opacity:1; fill:none\" points=\"\n",
       "  1983.7,172.978 2127.62,172.978 \n",
       "  \"/>\n",
       "<path clip-path=\"url(#clip510)\" d=\"M2172.37 202.509 Q2169.66 209.453 2167.09 211.571 Q2164.52 213.689 2160.22 213.689 L2155.11 213.689 L2155.11 208.342 L2158.86 208.342 Q2161.5 208.342 2162.96 207.092 Q2164.42 205.842 2166.19 201.189 L2167.34 198.273 L2151.61 160.009 L2158.38 160.009 L2170.53 190.425 L2182.68 160.009 L2189.45 160.009 L2172.37 202.509 Z\" fill=\"#000000\" fill-rule=\"evenodd\" fill-opacity=\"1\" /><path clip-path=\"url(#clip510)\" d=\"M2200.39 192.995 L2211.85 192.995 L2211.85 153.446 L2199.38 155.946 L2199.38 149.558 L2211.78 147.058 L2218.79 147.058 L2218.79 192.995 L2230.25 192.995 L2230.25 198.898 L2200.39 198.898 L2200.39 192.995 Z\" fill=\"#000000\" fill-rule=\"evenodd\" fill-opacity=\"1\" /><polyline clip-path=\"url(#clip510)\" style=\"stroke:#e26f46; stroke-linecap:butt; stroke-linejoin:round; stroke-width:6; stroke-opacity:1; fill:none\" points=\"\n",
       "  1983.7,250.738 2127.62,250.738 \n",
       "  \"/>\n",
       "<path clip-path=\"url(#clip510)\" d=\"M2172.37 280.269 Q2169.66 287.213 2167.09 289.331 Q2164.52 291.449 2160.22 291.449 L2155.11 291.449 L2155.11 286.102 L2158.86 286.102 Q2161.5 286.102 2162.96 284.852 Q2164.42 283.602 2166.19 278.949 L2167.34 276.033 L2151.61 237.769 L2158.38 237.769 L2170.53 268.185 L2182.68 237.769 L2189.45 237.769 L2172.37 280.269 Z\" fill=\"#000000\" fill-rule=\"evenodd\" fill-opacity=\"1\" /><path clip-path=\"url(#clip510)\" d=\"M2205.22 270.755 L2229.7 270.755 L2229.7 276.658 L2196.78 276.658 L2196.78 270.755 Q2200.77 266.623 2207.65 259.678 Q2214.56 252.699 2216.33 250.685 Q2219.7 246.901 2221.02 244.297 Q2222.37 241.658 2222.37 239.123 Q2222.37 234.991 2219.45 232.387 Q2216.57 229.783 2211.92 229.783 Q2208.62 229.783 2204.94 230.929 Q2201.29 232.074 2197.13 234.401 L2197.13 227.318 Q2201.36 225.616 2205.04 224.748 Q2208.72 223.88 2211.78 223.88 Q2219.84 223.88 2224.63 227.908 Q2229.42 231.936 2229.42 238.672 Q2229.42 241.866 2228.2 244.748 Q2227.02 247.595 2223.86 251.484 Q2223 252.491 2218.34 257.317 Q2213.69 262.109 2205.22 270.755 Z\" fill=\"#000000\" fill-rule=\"evenodd\" fill-opacity=\"1\" /><polyline clip-path=\"url(#clip510)\" style=\"stroke:#3da44d; stroke-linecap:butt; stroke-linejoin:round; stroke-width:6; stroke-opacity:1; fill:none\" points=\"\n",
       "  1983.7,328.498 2127.62,328.498 \n",
       "  \"/>\n",
       "<path clip-path=\"url(#clip510)\" d=\"M2172.37 358.029 Q2169.66 364.973 2167.09 367.091 Q2164.52 369.209 2160.22 369.209 L2155.11 369.209 L2155.11 363.862 L2158.86 363.862 Q2161.5 363.862 2162.96 362.612 Q2164.42 361.362 2166.19 356.709 L2167.34 353.793 L2151.61 315.529 L2158.38 315.529 L2170.53 345.945 L2182.68 315.529 L2189.45 315.529 L2172.37 358.029 Z\" fill=\"#000000\" fill-rule=\"evenodd\" fill-opacity=\"1\" /><path clip-path=\"url(#clip510)\" d=\"M2220.43 326.466 Q2225.46 327.543 2228.27 330.945 Q2231.12 334.348 2231.12 339.348 Q2231.12 347.022 2225.84 351.223 Q2220.56 355.424 2210.84 355.424 Q2207.58 355.424 2204.11 354.765 Q2200.67 354.14 2196.99 352.855 L2196.99 346.084 Q2199.9 347.786 2203.38 348.654 Q2206.85 349.522 2210.63 349.522 Q2217.23 349.522 2220.67 346.918 Q2224.14 344.313 2224.14 339.348 Q2224.14 334.765 2220.91 332.195 Q2217.72 329.591 2211.99 329.591 L2205.95 329.591 L2205.95 323.827 L2212.27 323.827 Q2217.44 323.827 2220.18 321.779 Q2222.93 319.696 2222.93 315.807 Q2222.93 311.814 2220.08 309.696 Q2217.27 307.543 2211.99 307.543 Q2209.11 307.543 2205.81 308.168 Q2202.51 308.793 2198.55 310.112 L2198.55 303.862 Q2202.54 302.751 2206.02 302.196 Q2209.52 301.64 2212.61 301.64 Q2220.6 301.64 2225.25 305.286 Q2229.9 308.897 2229.9 315.077 Q2229.9 319.383 2227.44 322.369 Q2224.97 325.32 2220.43 326.466 Z\" fill=\"#000000\" fill-rule=\"evenodd\" fill-opacity=\"1\" /><polyline clip-path=\"url(#clip510)\" style=\"stroke:#c271d2; stroke-linecap:butt; stroke-linejoin:round; stroke-width:6; stroke-opacity:1; fill:none\" points=\"\n",
       "  1983.7,406.258 2127.62,406.258 \n",
       "  \"/>\n",
       "<path clip-path=\"url(#clip510)\" d=\"M2172.37 435.789 Q2169.66 442.733 2167.09 444.851 Q2164.52 446.969 2160.22 446.969 L2155.11 446.969 L2155.11 441.622 L2158.86 441.622 Q2161.5 441.622 2162.96 440.372 Q2164.42 439.122 2166.19 434.469 L2167.34 431.553 L2151.61 393.289 L2158.38 393.289 L2170.53 423.705 L2182.68 393.289 L2189.45 393.289 L2172.37 435.789 Z\" fill=\"#000000\" fill-rule=\"evenodd\" fill-opacity=\"1\" /><path clip-path=\"url(#clip510)\" d=\"M2218.45 386.449 L2200.74 414.122 L2218.45 414.122 L2218.45 386.449 M2216.61 380.338 L2225.43 380.338 L2225.43 414.122 L2232.82 414.122 L2232.82 419.955 L2225.43 419.955 L2225.43 432.178 L2218.45 432.178 L2218.45 419.955 L2195.04 419.955 L2195.04 413.185 L2216.61 380.338 Z\" fill=\"#000000\" fill-rule=\"evenodd\" fill-opacity=\"1\" /></svg>\n"
      ]
     },
     "execution_count": 68,
     "metadata": {},
     "output_type": "execute_result"
    }
   ],
   "source": [
    "x = LinRange(-1, 1, 50)\n",
    "V = vander(x, 4)\n",
    "plot(x, V)"
   ]
  },
  {
   "cell_type": "markdown",
   "id": "ce88943a",
   "metadata": {
    "slideshow": {
     "slide_type": "slide"
    }
   },
   "source": [
    "# Fitting is linear algebra\n",
    "\n",
    "$$ \\underbrace{\\begin{bmatrix} 1 \\Bigg| x \\Bigg| x^2 \\Bigg| x^3 \\Bigg| \\dotsb \\end{bmatrix}}_{V(x)} \\Big[ p \\Big] = \\Bigg[ y \\Bigg]$$"
   ]
  },
  {
   "cell_type": "code",
   "execution_count": 69,
   "id": "451865ac",
   "metadata": {
    "cell_style": "split"
   },
   "outputs": [
    {
     "data": {
      "image/svg+xml": [
       "<?xml version=\"1.0\" encoding=\"utf-8\"?>\n",
       "<svg xmlns=\"http://www.w3.org/2000/svg\" xmlns:xlink=\"http://www.w3.org/1999/xlink\" width=\"600\" height=\"400\" viewBox=\"0 0 2400 1600\">\n",
       "<defs>\n",
       "  <clipPath id=\"clip550\">\n",
       "    <rect x=\"0\" y=\"0\" width=\"2400\" height=\"1600\"/>\n",
       "  </clipPath>\n",
       "</defs>\n",
       "<path clip-path=\"url(#clip550)\" d=\"\n",
       "M0 1600 L2400 1600 L2400 0 L0 0  Z\n",
       "  \" fill=\"#ffffff\" fill-rule=\"evenodd\" fill-opacity=\"1\"/>\n",
       "<defs>\n",
       "  <clipPath id=\"clip551\">\n",
       "    <rect x=\"480\" y=\"0\" width=\"1681\" height=\"1600\"/>\n",
       "  </clipPath>\n",
       "</defs>\n",
       "<path clip-path=\"url(#clip550)\" d=\"\n",
       "M156.112 1486.45 L2352.76 1486.45 L2352.76 47.2441 L156.112 47.2441  Z\n",
       "  \" fill=\"#ffffff\" fill-rule=\"evenodd\" fill-opacity=\"1\"/>\n",
       "<defs>\n",
       "  <clipPath id=\"clip552\">\n",
       "    <rect x=\"156\" y=\"47\" width=\"2198\" height=\"1440\"/>\n",
       "  </clipPath>\n",
       "</defs>\n",
       "<polyline clip-path=\"url(#clip552)\" style=\"stroke:#000000; stroke-linecap:butt; stroke-linejoin:round; stroke-width:2; stroke-opacity:0.1; fill:none\" points=\"\n",
       "  401.132,1486.45 401.132,47.2441 \n",
       "  \"/>\n",
       "<polyline clip-path=\"url(#clip552)\" style=\"stroke:#000000; stroke-linecap:butt; stroke-linejoin:round; stroke-width:2; stroke-opacity:0.1; fill:none\" points=\"\n",
       "  705.883,1486.45 705.883,47.2441 \n",
       "  \"/>\n",
       "<polyline clip-path=\"url(#clip552)\" style=\"stroke:#000000; stroke-linecap:butt; stroke-linejoin:round; stroke-width:2; stroke-opacity:0.1; fill:none\" points=\"\n",
       "  1010.63,1486.45 1010.63,47.2441 \n",
       "  \"/>\n",
       "<polyline clip-path=\"url(#clip552)\" style=\"stroke:#000000; stroke-linecap:butt; stroke-linejoin:round; stroke-width:2; stroke-opacity:0.1; fill:none\" points=\"\n",
       "  1315.38,1486.45 1315.38,47.2441 \n",
       "  \"/>\n",
       "<polyline clip-path=\"url(#clip552)\" style=\"stroke:#000000; stroke-linecap:butt; stroke-linejoin:round; stroke-width:2; stroke-opacity:0.1; fill:none\" points=\"\n",
       "  1620.13,1486.45 1620.13,47.2441 \n",
       "  \"/>\n",
       "<polyline clip-path=\"url(#clip552)\" style=\"stroke:#000000; stroke-linecap:butt; stroke-linejoin:round; stroke-width:2; stroke-opacity:0.1; fill:none\" points=\"\n",
       "  1924.89,1486.45 1924.89,47.2441 \n",
       "  \"/>\n",
       "<polyline clip-path=\"url(#clip552)\" style=\"stroke:#000000; stroke-linecap:butt; stroke-linejoin:round; stroke-width:2; stroke-opacity:0.1; fill:none\" points=\"\n",
       "  2229.64,1486.45 2229.64,47.2441 \n",
       "  \"/>\n",
       "<polyline clip-path=\"url(#clip550)\" style=\"stroke:#000000; stroke-linecap:butt; stroke-linejoin:round; stroke-width:4; stroke-opacity:1; fill:none\" points=\"\n",
       "  156.112,1486.45 2352.76,1486.45 \n",
       "  \"/>\n",
       "<polyline clip-path=\"url(#clip550)\" style=\"stroke:#000000; stroke-linecap:butt; stroke-linejoin:round; stroke-width:4; stroke-opacity:1; fill:none\" points=\"\n",
       "  401.132,1486.45 401.132,1467.55 \n",
       "  \"/>\n",
       "<polyline clip-path=\"url(#clip550)\" style=\"stroke:#000000; stroke-linecap:butt; stroke-linejoin:round; stroke-width:4; stroke-opacity:1; fill:none\" points=\"\n",
       "  705.883,1486.45 705.883,1467.55 \n",
       "  \"/>\n",
       "<polyline clip-path=\"url(#clip550)\" style=\"stroke:#000000; stroke-linecap:butt; stroke-linejoin:round; stroke-width:4; stroke-opacity:1; fill:none\" points=\"\n",
       "  1010.63,1486.45 1010.63,1467.55 \n",
       "  \"/>\n",
       "<polyline clip-path=\"url(#clip550)\" style=\"stroke:#000000; stroke-linecap:butt; stroke-linejoin:round; stroke-width:4; stroke-opacity:1; fill:none\" points=\"\n",
       "  1315.38,1486.45 1315.38,1467.55 \n",
       "  \"/>\n",
       "<polyline clip-path=\"url(#clip550)\" style=\"stroke:#000000; stroke-linecap:butt; stroke-linejoin:round; stroke-width:4; stroke-opacity:1; fill:none\" points=\"\n",
       "  1620.13,1486.45 1620.13,1467.55 \n",
       "  \"/>\n",
       "<polyline clip-path=\"url(#clip550)\" style=\"stroke:#000000; stroke-linecap:butt; stroke-linejoin:round; stroke-width:4; stroke-opacity:1; fill:none\" points=\"\n",
       "  1924.89,1486.45 1924.89,1467.55 \n",
       "  \"/>\n",
       "<polyline clip-path=\"url(#clip550)\" style=\"stroke:#000000; stroke-linecap:butt; stroke-linejoin:round; stroke-width:4; stroke-opacity:1; fill:none\" points=\"\n",
       "  2229.64,1486.45 2229.64,1467.55 \n",
       "  \"/>\n",
       "<path clip-path=\"url(#clip550)\" d=\"M333.077 1532.02 L362.752 1532.02 L362.752 1535.95 L333.077 1535.95 L333.077 1532.02 Z\" fill=\"#000000\" fill-rule=\"evenodd\" fill-opacity=\"1\" /><path clip-path=\"url(#clip550)\" d=\"M382.845 1517.37 Q379.234 1517.37 377.405 1520.93 Q375.6 1524.47 375.6 1531.6 Q375.6 1538.71 377.405 1542.27 Q379.234 1545.82 382.845 1545.82 Q386.479 1545.82 388.285 1542.27 Q390.113 1538.71 390.113 1531.6 Q390.113 1524.47 388.285 1520.93 Q386.479 1517.37 382.845 1517.37 M382.845 1513.66 Q388.655 1513.66 391.711 1518.27 Q394.789 1522.85 394.789 1531.6 Q394.789 1540.33 391.711 1544.94 Q388.655 1549.52 382.845 1549.52 Q377.035 1549.52 373.956 1544.94 Q370.9 1540.33 370.9 1531.6 Q370.9 1522.85 373.956 1518.27 Q377.035 1513.66 382.845 1513.66 Z\" fill=\"#000000\" fill-rule=\"evenodd\" fill-opacity=\"1\" /><path clip-path=\"url(#clip550)\" d=\"M403.007 1542.97 L407.891 1542.97 L407.891 1548.85 L403.007 1548.85 L403.007 1542.97 Z\" fill=\"#000000\" fill-rule=\"evenodd\" fill-opacity=\"1\" /><path clip-path=\"url(#clip550)\" d=\"M416.896 1514.29 L439.118 1514.29 L439.118 1516.28 L426.571 1548.85 L421.687 1548.85 L433.493 1518.22 L416.896 1518.22 L416.896 1514.29 Z\" fill=\"#000000\" fill-rule=\"evenodd\" fill-opacity=\"1\" /><path clip-path=\"url(#clip550)\" d=\"M448.284 1514.29 L466.641 1514.29 L466.641 1518.22 L452.567 1518.22 L452.567 1526.7 Q453.585 1526.35 454.604 1526.19 Q455.622 1526 456.641 1526 Q462.428 1526 465.807 1529.17 Q469.187 1532.34 469.187 1537.76 Q469.187 1543.34 465.715 1546.44 Q462.243 1549.52 455.923 1549.52 Q453.747 1549.52 451.479 1549.15 Q449.233 1548.78 446.826 1548.04 L446.826 1543.34 Q448.909 1544.47 451.132 1545.03 Q453.354 1545.58 455.831 1545.58 Q459.835 1545.58 462.173 1543.48 Q464.511 1541.37 464.511 1537.76 Q464.511 1534.15 462.173 1532.04 Q459.835 1529.94 455.831 1529.94 Q453.956 1529.94 452.081 1530.35 Q450.229 1530.77 448.284 1531.65 L448.284 1514.29 Z\" fill=\"#000000\" fill-rule=\"evenodd\" fill-opacity=\"1\" /><path clip-path=\"url(#clip550)\" d=\"M637.33 1532.02 L667.005 1532.02 L667.005 1535.95 L637.33 1535.95 L637.33 1532.02 Z\" fill=\"#000000\" fill-rule=\"evenodd\" fill-opacity=\"1\" /><path clip-path=\"url(#clip550)\" d=\"M687.098 1517.37 Q683.487 1517.37 681.658 1520.93 Q679.853 1524.47 679.853 1531.6 Q679.853 1538.71 681.658 1542.27 Q683.487 1545.82 687.098 1545.82 Q690.732 1545.82 692.538 1542.27 Q694.366 1538.71 694.366 1531.6 Q694.366 1524.47 692.538 1520.93 Q690.732 1517.37 687.098 1517.37 M687.098 1513.66 Q692.908 1513.66 695.964 1518.27 Q699.042 1522.85 699.042 1531.6 Q699.042 1540.33 695.964 1544.94 Q692.908 1549.52 687.098 1549.52 Q681.288 1549.52 678.209 1544.94 Q675.154 1540.33 675.154 1531.6 Q675.154 1522.85 678.209 1518.27 Q681.288 1513.66 687.098 1513.66 Z\" fill=\"#000000\" fill-rule=\"evenodd\" fill-opacity=\"1\" /><path clip-path=\"url(#clip550)\" d=\"M707.26 1542.97 L712.144 1542.97 L712.144 1548.85 L707.26 1548.85 L707.26 1542.97 Z\" fill=\"#000000\" fill-rule=\"evenodd\" fill-opacity=\"1\" /><path clip-path=\"url(#clip550)\" d=\"M722.376 1514.29 L740.732 1514.29 L740.732 1518.22 L726.658 1518.22 L726.658 1526.7 Q727.676 1526.35 728.695 1526.19 Q729.713 1526 730.732 1526 Q736.519 1526 739.899 1529.17 Q743.278 1532.34 743.278 1537.76 Q743.278 1543.34 739.806 1546.44 Q736.334 1549.52 730.014 1549.52 Q727.838 1549.52 725.57 1549.15 Q723.325 1548.78 720.917 1548.04 L720.917 1543.34 Q723.001 1544.47 725.223 1545.03 Q727.445 1545.58 729.922 1545.58 Q733.926 1545.58 736.264 1543.48 Q738.602 1541.37 738.602 1537.76 Q738.602 1534.15 736.264 1532.04 Q733.926 1529.94 729.922 1529.94 Q728.047 1529.94 726.172 1530.35 Q724.32 1530.77 722.376 1531.65 L722.376 1514.29 Z\" fill=\"#000000\" fill-rule=\"evenodd\" fill-opacity=\"1\" /><path clip-path=\"url(#clip550)\" d=\"M762.491 1517.37 Q758.88 1517.37 757.051 1520.93 Q755.246 1524.47 755.246 1531.6 Q755.246 1538.71 757.051 1542.27 Q758.88 1545.82 762.491 1545.82 Q766.125 1545.82 767.931 1542.27 Q769.76 1538.71 769.76 1531.6 Q769.76 1524.47 767.931 1520.93 Q766.125 1517.37 762.491 1517.37 M762.491 1513.66 Q768.301 1513.66 771.357 1518.27 Q774.435 1522.85 774.435 1531.6 Q774.435 1540.33 771.357 1544.94 Q768.301 1549.52 762.491 1549.52 Q756.681 1549.52 753.602 1544.94 Q750.547 1540.33 750.547 1531.6 Q750.547 1522.85 753.602 1518.27 Q756.681 1513.66 762.491 1513.66 Z\" fill=\"#000000\" fill-rule=\"evenodd\" fill-opacity=\"1\" /><path clip-path=\"url(#clip550)\" d=\"M942.578 1532.02 L972.254 1532.02 L972.254 1535.95 L942.578 1535.95 L942.578 1532.02 Z\" fill=\"#000000\" fill-rule=\"evenodd\" fill-opacity=\"1\" /><path clip-path=\"url(#clip550)\" d=\"M992.346 1517.37 Q988.735 1517.37 986.907 1520.93 Q985.101 1524.47 985.101 1531.6 Q985.101 1538.71 986.907 1542.27 Q988.735 1545.82 992.346 1545.82 Q995.981 1545.82 997.786 1542.27 Q999.615 1538.71 999.615 1531.6 Q999.615 1524.47 997.786 1520.93 Q995.981 1517.37 992.346 1517.37 M992.346 1513.66 Q998.157 1513.66 1001.21 1518.27 Q1004.29 1522.85 1004.29 1531.6 Q1004.29 1540.33 1001.21 1544.94 Q998.157 1549.52 992.346 1549.52 Q986.536 1549.52 983.458 1544.94 Q980.402 1540.33 980.402 1531.6 Q980.402 1522.85 983.458 1518.27 Q986.536 1513.66 992.346 1513.66 Z\" fill=\"#000000\" fill-rule=\"evenodd\" fill-opacity=\"1\" /><path clip-path=\"url(#clip550)\" d=\"M1012.51 1542.97 L1017.39 1542.97 L1017.39 1548.85 L1012.51 1548.85 L1012.51 1542.97 Z\" fill=\"#000000\" fill-rule=\"evenodd\" fill-opacity=\"1\" /><path clip-path=\"url(#clip550)\" d=\"M1031.61 1544.91 L1047.92 1544.91 L1047.92 1548.85 L1025.98 1548.85 L1025.98 1544.91 Q1028.64 1542.16 1033.23 1537.53 Q1037.83 1532.88 1039.01 1531.53 Q1041.26 1529.01 1042.14 1527.27 Q1043.04 1525.51 1043.04 1523.82 Q1043.04 1521.07 1041.1 1519.33 Q1039.17 1517.6 1036.07 1517.6 Q1033.87 1517.6 1031.42 1518.36 Q1028.99 1519.13 1026.21 1520.68 L1026.21 1515.95 Q1029.04 1514.82 1031.49 1514.24 Q1033.94 1513.66 1035.98 1513.66 Q1041.35 1513.66 1044.55 1516.35 Q1047.74 1519.03 1047.74 1523.52 Q1047.74 1525.65 1046.93 1527.57 Q1046.14 1529.47 1044.04 1532.07 Q1043.46 1532.74 1040.36 1535.95 Q1037.25 1539.15 1031.61 1544.91 Z\" fill=\"#000000\" fill-rule=\"evenodd\" fill-opacity=\"1\" /><path clip-path=\"url(#clip550)\" d=\"M1057.79 1514.29 L1076.14 1514.29 L1076.14 1518.22 L1062.07 1518.22 L1062.07 1526.7 Q1063.09 1526.35 1064.11 1526.19 Q1065.12 1526 1066.14 1526 Q1071.93 1526 1075.31 1529.17 Q1078.69 1532.34 1078.69 1537.76 Q1078.69 1543.34 1075.22 1546.44 Q1071.74 1549.52 1065.42 1549.52 Q1063.25 1549.52 1060.98 1549.15 Q1058.73 1548.78 1056.33 1548.04 L1056.33 1543.34 Q1058.41 1544.47 1060.63 1545.03 Q1062.86 1545.58 1065.33 1545.58 Q1069.34 1545.58 1071.67 1543.48 Q1074.01 1541.37 1074.01 1537.76 Q1074.01 1534.15 1071.67 1532.04 Q1069.34 1529.94 1065.33 1529.94 Q1063.46 1529.94 1061.58 1530.35 Q1059.73 1530.77 1057.79 1531.65 L1057.79 1514.29 Z\" fill=\"#000000\" fill-rule=\"evenodd\" fill-opacity=\"1\" /><path clip-path=\"url(#clip550)\" d=\"M1277.69 1517.37 Q1274.08 1517.37 1272.25 1520.93 Q1270.44 1524.47 1270.44 1531.6 Q1270.44 1538.71 1272.25 1542.27 Q1274.08 1545.82 1277.69 1545.82 Q1281.32 1545.82 1283.13 1542.27 Q1284.96 1538.71 1284.96 1531.6 Q1284.96 1524.47 1283.13 1520.93 Q1281.32 1517.37 1277.69 1517.37 M1277.69 1513.66 Q1283.5 1513.66 1286.55 1518.27 Q1289.63 1522.85 1289.63 1531.6 Q1289.63 1540.33 1286.55 1544.94 Q1283.5 1549.52 1277.69 1549.52 Q1271.88 1549.52 1268.8 1544.94 Q1265.74 1540.33 1265.74 1531.6 Q1265.74 1522.85 1268.8 1518.27 Q1271.88 1513.66 1277.69 1513.66 Z\" fill=\"#000000\" fill-rule=\"evenodd\" fill-opacity=\"1\" /><path clip-path=\"url(#clip550)\" d=\"M1297.85 1542.97 L1302.73 1542.97 L1302.73 1548.85 L1297.85 1548.85 L1297.85 1542.97 Z\" fill=\"#000000\" fill-rule=\"evenodd\" fill-opacity=\"1\" /><path clip-path=\"url(#clip550)\" d=\"M1322.92 1517.37 Q1319.31 1517.37 1317.48 1520.93 Q1315.67 1524.47 1315.67 1531.6 Q1315.67 1538.71 1317.48 1542.27 Q1319.31 1545.82 1322.92 1545.82 Q1326.55 1545.82 1328.36 1542.27 Q1330.19 1538.71 1330.19 1531.6 Q1330.19 1524.47 1328.36 1520.93 Q1326.55 1517.37 1322.92 1517.37 M1322.92 1513.66 Q1328.73 1513.66 1331.78 1518.27 Q1334.86 1522.85 1334.86 1531.6 Q1334.86 1540.33 1331.78 1544.94 Q1328.73 1549.52 1322.92 1549.52 Q1317.11 1549.52 1314.03 1544.94 Q1310.97 1540.33 1310.97 1531.6 Q1310.97 1522.85 1314.03 1518.27 Q1317.11 1513.66 1322.92 1513.66 Z\" fill=\"#000000\" fill-rule=\"evenodd\" fill-opacity=\"1\" /><path clip-path=\"url(#clip550)\" d=\"M1353.08 1517.37 Q1349.47 1517.37 1347.64 1520.93 Q1345.84 1524.47 1345.84 1531.6 Q1345.84 1538.71 1347.64 1542.27 Q1349.47 1545.82 1353.08 1545.82 Q1356.71 1545.82 1358.52 1542.27 Q1360.35 1538.71 1360.35 1531.6 Q1360.35 1524.47 1358.52 1520.93 Q1356.71 1517.37 1353.08 1517.37 M1353.08 1513.66 Q1358.89 1513.66 1361.95 1518.27 Q1365.03 1522.85 1365.03 1531.6 Q1365.03 1540.33 1361.95 1544.94 Q1358.89 1549.52 1353.08 1549.52 Q1347.27 1549.52 1344.19 1544.94 Q1341.14 1540.33 1341.14 1531.6 Q1341.14 1522.85 1344.19 1518.27 Q1347.27 1513.66 1353.08 1513.66 Z\" fill=\"#000000\" fill-rule=\"evenodd\" fill-opacity=\"1\" /><path clip-path=\"url(#clip550)\" d=\"M1582.94 1517.37 Q1579.33 1517.37 1577.5 1520.93 Q1575.69 1524.47 1575.69 1531.6 Q1575.69 1538.71 1577.5 1542.27 Q1579.33 1545.82 1582.94 1545.82 Q1586.57 1545.82 1588.38 1542.27 Q1590.2 1538.71 1590.2 1531.6 Q1590.2 1524.47 1588.38 1520.93 Q1586.57 1517.37 1582.94 1517.37 M1582.94 1513.66 Q1588.75 1513.66 1591.8 1518.27 Q1594.88 1522.85 1594.88 1531.6 Q1594.88 1540.33 1591.8 1544.94 Q1588.75 1549.52 1582.94 1549.52 Q1577.13 1549.52 1574.05 1544.94 Q1570.99 1540.33 1570.99 1531.6 Q1570.99 1522.85 1574.05 1518.27 Q1577.13 1513.66 1582.94 1513.66 Z\" fill=\"#000000\" fill-rule=\"evenodd\" fill-opacity=\"1\" /><path clip-path=\"url(#clip550)\" d=\"M1603.1 1542.97 L1607.98 1542.97 L1607.98 1548.85 L1603.1 1548.85 L1603.1 1542.97 Z\" fill=\"#000000\" fill-rule=\"evenodd\" fill-opacity=\"1\" /><path clip-path=\"url(#clip550)\" d=\"M1622.2 1544.91 L1638.51 1544.91 L1638.51 1548.85 L1616.57 1548.85 L1616.57 1544.91 Q1619.23 1542.16 1623.82 1537.53 Q1628.42 1532.88 1629.6 1531.53 Q1631.85 1529.01 1632.73 1527.27 Q1633.63 1525.51 1633.63 1523.82 Q1633.63 1521.07 1631.69 1519.33 Q1629.76 1517.6 1626.66 1517.6 Q1624.46 1517.6 1622.01 1518.36 Q1619.58 1519.13 1616.8 1520.68 L1616.8 1515.95 Q1619.63 1514.82 1622.08 1514.24 Q1624.53 1513.66 1626.57 1513.66 Q1631.94 1513.66 1635.13 1516.35 Q1638.33 1519.03 1638.33 1523.52 Q1638.33 1525.65 1637.52 1527.57 Q1636.73 1529.47 1634.63 1532.07 Q1634.05 1532.74 1630.95 1535.95 Q1627.84 1539.15 1622.2 1544.91 Z\" fill=\"#000000\" fill-rule=\"evenodd\" fill-opacity=\"1\" /><path clip-path=\"url(#clip550)\" d=\"M1648.38 1514.29 L1666.73 1514.29 L1666.73 1518.22 L1652.66 1518.22 L1652.66 1526.7 Q1653.68 1526.35 1654.69 1526.19 Q1655.71 1526 1656.73 1526 Q1662.52 1526 1665.9 1529.17 Q1669.28 1532.34 1669.28 1537.76 Q1669.28 1543.34 1665.81 1546.44 Q1662.33 1549.52 1656.01 1549.52 Q1653.84 1549.52 1651.57 1549.15 Q1649.32 1548.78 1646.92 1548.04 L1646.92 1543.34 Q1649 1544.47 1651.22 1545.03 Q1653.44 1545.58 1655.92 1545.58 Q1659.93 1545.58 1662.26 1543.48 Q1664.6 1541.37 1664.6 1537.76 Q1664.6 1534.15 1662.26 1532.04 Q1659.93 1529.94 1655.92 1529.94 Q1654.05 1529.94 1652.17 1530.35 Q1650.32 1530.77 1648.38 1531.65 L1648.38 1514.29 Z\" fill=\"#000000\" fill-rule=\"evenodd\" fill-opacity=\"1\" /><path clip-path=\"url(#clip550)\" d=\"M1887.19 1517.37 Q1883.58 1517.37 1881.75 1520.93 Q1879.94 1524.47 1879.94 1531.6 Q1879.94 1538.71 1881.75 1542.27 Q1883.58 1545.82 1887.19 1545.82 Q1890.82 1545.82 1892.63 1542.27 Q1894.46 1538.71 1894.46 1531.6 Q1894.46 1524.47 1892.63 1520.93 Q1890.82 1517.37 1887.19 1517.37 M1887.19 1513.66 Q1893 1513.66 1896.05 1518.27 Q1899.13 1522.85 1899.13 1531.6 Q1899.13 1540.33 1896.05 1544.94 Q1893 1549.52 1887.19 1549.52 Q1881.38 1549.52 1878.3 1544.94 Q1875.24 1540.33 1875.24 1531.6 Q1875.24 1522.85 1878.3 1518.27 Q1881.38 1513.66 1887.19 1513.66 Z\" fill=\"#000000\" fill-rule=\"evenodd\" fill-opacity=\"1\" /><path clip-path=\"url(#clip550)\" d=\"M1907.35 1542.97 L1912.24 1542.97 L1912.24 1548.85 L1907.35 1548.85 L1907.35 1542.97 Z\" fill=\"#000000\" fill-rule=\"evenodd\" fill-opacity=\"1\" /><path clip-path=\"url(#clip550)\" d=\"M1922.47 1514.29 L1940.82 1514.29 L1940.82 1518.22 L1926.75 1518.22 L1926.75 1526.7 Q1927.77 1526.35 1928.79 1526.19 Q1929.8 1526 1930.82 1526 Q1936.61 1526 1939.99 1529.17 Q1943.37 1532.34 1943.37 1537.76 Q1943.37 1543.34 1939.9 1546.44 Q1936.43 1549.52 1930.11 1549.52 Q1927.93 1549.52 1925.66 1549.15 Q1923.42 1548.78 1921.01 1548.04 L1921.01 1543.34 Q1923.09 1544.47 1925.31 1545.03 Q1927.54 1545.58 1930.01 1545.58 Q1934.02 1545.58 1936.36 1543.48 Q1938.69 1541.37 1938.69 1537.76 Q1938.69 1534.15 1936.36 1532.04 Q1934.02 1529.94 1930.01 1529.94 Q1928.14 1529.94 1926.26 1530.35 Q1924.41 1530.77 1922.47 1531.65 L1922.47 1514.29 Z\" fill=\"#000000\" fill-rule=\"evenodd\" fill-opacity=\"1\" /><path clip-path=\"url(#clip550)\" d=\"M1962.58 1517.37 Q1958.97 1517.37 1957.14 1520.93 Q1955.34 1524.47 1955.34 1531.6 Q1955.34 1538.71 1957.14 1542.27 Q1958.97 1545.82 1962.58 1545.82 Q1966.22 1545.82 1968.02 1542.27 Q1969.85 1538.71 1969.85 1531.6 Q1969.85 1524.47 1968.02 1520.93 Q1966.22 1517.37 1962.58 1517.37 M1962.58 1513.66 Q1968.39 1513.66 1971.45 1518.27 Q1974.53 1522.85 1974.53 1531.6 Q1974.53 1540.33 1971.45 1544.94 Q1968.39 1549.52 1962.58 1549.52 Q1956.77 1549.52 1953.69 1544.94 Q1950.64 1540.33 1950.64 1531.6 Q1950.64 1522.85 1953.69 1518.27 Q1956.77 1513.66 1962.58 1513.66 Z\" fill=\"#000000\" fill-rule=\"evenodd\" fill-opacity=\"1\" /><path clip-path=\"url(#clip550)\" d=\"M2192.44 1517.37 Q2188.83 1517.37 2187 1520.93 Q2185.19 1524.47 2185.19 1531.6 Q2185.19 1538.71 2187 1542.27 Q2188.83 1545.82 2192.44 1545.82 Q2196.07 1545.82 2197.88 1542.27 Q2199.71 1538.71 2199.71 1531.6 Q2199.71 1524.47 2197.88 1520.93 Q2196.07 1517.37 2192.44 1517.37 M2192.44 1513.66 Q2198.25 1513.66 2201.3 1518.27 Q2204.38 1522.85 2204.38 1531.6 Q2204.38 1540.33 2201.3 1544.94 Q2198.25 1549.52 2192.44 1549.52 Q2186.63 1549.52 2183.55 1544.94 Q2180.49 1540.33 2180.49 1531.6 Q2180.49 1522.85 2183.55 1518.27 Q2186.63 1513.66 2192.44 1513.66 Z\" fill=\"#000000\" fill-rule=\"evenodd\" fill-opacity=\"1\" /><path clip-path=\"url(#clip550)\" d=\"M2212.6 1542.97 L2217.48 1542.97 L2217.48 1548.85 L2212.6 1548.85 L2212.6 1542.97 Z\" fill=\"#000000\" fill-rule=\"evenodd\" fill-opacity=\"1\" /><path clip-path=\"url(#clip550)\" d=\"M2226.49 1514.29 L2248.71 1514.29 L2248.71 1516.28 L2236.16 1548.85 L2231.28 1548.85 L2243.09 1518.22 L2226.49 1518.22 L2226.49 1514.29 Z\" fill=\"#000000\" fill-rule=\"evenodd\" fill-opacity=\"1\" /><path clip-path=\"url(#clip550)\" d=\"M2257.88 1514.29 L2276.23 1514.29 L2276.23 1518.22 L2262.16 1518.22 L2262.16 1526.7 Q2263.18 1526.35 2264.2 1526.19 Q2265.22 1526 2266.23 1526 Q2272.02 1526 2275.4 1529.17 Q2278.78 1532.34 2278.78 1537.76 Q2278.78 1543.34 2275.31 1546.44 Q2271.84 1549.52 2265.52 1549.52 Q2263.34 1549.52 2261.07 1549.15 Q2258.83 1548.78 2256.42 1548.04 L2256.42 1543.34 Q2258.5 1544.47 2260.72 1545.03 Q2262.95 1545.58 2265.42 1545.58 Q2269.43 1545.58 2271.77 1543.48 Q2274.1 1541.37 2274.1 1537.76 Q2274.1 1534.15 2271.77 1532.04 Q2269.43 1529.94 2265.42 1529.94 Q2263.55 1529.94 2261.67 1530.35 Q2259.82 1530.77 2257.88 1531.65 L2257.88 1514.29 Z\" fill=\"#000000\" fill-rule=\"evenodd\" fill-opacity=\"1\" /><polyline clip-path=\"url(#clip552)\" style=\"stroke:#000000; stroke-linecap:butt; stroke-linejoin:round; stroke-width:2; stroke-opacity:0.1; fill:none\" points=\"\n",
       "  156.112,1341.27 2352.76,1341.27 \n",
       "  \"/>\n",
       "<polyline clip-path=\"url(#clip552)\" style=\"stroke:#000000; stroke-linecap:butt; stroke-linejoin:round; stroke-width:2; stroke-opacity:0.1; fill:none\" points=\"\n",
       "  156.112,1080.17 2352.76,1080.17 \n",
       "  \"/>\n",
       "<polyline clip-path=\"url(#clip552)\" style=\"stroke:#000000; stroke-linecap:butt; stroke-linejoin:round; stroke-width:2; stroke-opacity:0.1; fill:none\" points=\"\n",
       "  156.112,819.067 2352.76,819.067 \n",
       "  \"/>\n",
       "<polyline clip-path=\"url(#clip552)\" style=\"stroke:#000000; stroke-linecap:butt; stroke-linejoin:round; stroke-width:2; stroke-opacity:0.1; fill:none\" points=\"\n",
       "  156.112,557.963 2352.76,557.963 \n",
       "  \"/>\n",
       "<polyline clip-path=\"url(#clip552)\" style=\"stroke:#000000; stroke-linecap:butt; stroke-linejoin:round; stroke-width:2; stroke-opacity:0.1; fill:none\" points=\"\n",
       "  156.112,296.859 2352.76,296.859 \n",
       "  \"/>\n",
       "<polyline clip-path=\"url(#clip550)\" style=\"stroke:#000000; stroke-linecap:butt; stroke-linejoin:round; stroke-width:4; stroke-opacity:1; fill:none\" points=\"\n",
       "  156.112,1486.45 156.112,47.2441 \n",
       "  \"/>\n",
       "<polyline clip-path=\"url(#clip550)\" style=\"stroke:#000000; stroke-linecap:butt; stroke-linejoin:round; stroke-width:4; stroke-opacity:1; fill:none\" points=\"\n",
       "  156.112,1341.27 175.01,1341.27 \n",
       "  \"/>\n",
       "<polyline clip-path=\"url(#clip550)\" style=\"stroke:#000000; stroke-linecap:butt; stroke-linejoin:round; stroke-width:4; stroke-opacity:1; fill:none\" points=\"\n",
       "  156.112,1080.17 175.01,1080.17 \n",
       "  \"/>\n",
       "<polyline clip-path=\"url(#clip550)\" style=\"stroke:#000000; stroke-linecap:butt; stroke-linejoin:round; stroke-width:4; stroke-opacity:1; fill:none\" points=\"\n",
       "  156.112,819.067 175.01,819.067 \n",
       "  \"/>\n",
       "<polyline clip-path=\"url(#clip550)\" style=\"stroke:#000000; stroke-linecap:butt; stroke-linejoin:round; stroke-width:4; stroke-opacity:1; fill:none\" points=\"\n",
       "  156.112,557.963 175.01,557.963 \n",
       "  \"/>\n",
       "<polyline clip-path=\"url(#clip550)\" style=\"stroke:#000000; stroke-linecap:butt; stroke-linejoin:round; stroke-width:4; stroke-opacity:1; fill:none\" points=\"\n",
       "  156.112,296.859 175.01,296.859 \n",
       "  \"/>\n",
       "<path clip-path=\"url(#clip550)\" d=\"M62.9365 1327.07 Q59.3254 1327.07 57.4967 1330.64 Q55.6912 1334.18 55.6912 1341.31 Q55.6912 1348.42 57.4967 1351.98 Q59.3254 1355.52 62.9365 1355.52 Q66.5707 1355.52 68.3763 1351.98 Q70.205 1348.42 70.205 1341.31 Q70.205 1334.18 68.3763 1330.64 Q66.5707 1327.07 62.9365 1327.07 M62.9365 1323.37 Q68.7467 1323.37 71.8022 1327.98 Q74.8809 1332.56 74.8809 1341.31 Q74.8809 1350.04 71.8022 1354.64 Q68.7467 1359.23 62.9365 1359.23 Q57.1264 1359.23 54.0477 1354.64 Q50.9921 1350.04 50.9921 1341.31 Q50.9921 1332.56 54.0477 1327.98 Q57.1264 1323.37 62.9365 1323.37 Z\" fill=\"#000000\" fill-rule=\"evenodd\" fill-opacity=\"1\" /><path clip-path=\"url(#clip550)\" d=\"M83.0984 1352.67 L87.9827 1352.67 L87.9827 1358.55 L83.0984 1358.55 L83.0984 1352.67 Z\" fill=\"#000000\" fill-rule=\"evenodd\" fill-opacity=\"1\" /><path clip-path=\"url(#clip550)\" d=\"M108.168 1327.07 Q104.557 1327.07 102.728 1330.64 Q100.922 1334.18 100.922 1341.31 Q100.922 1348.42 102.728 1351.98 Q104.557 1355.52 108.168 1355.52 Q111.802 1355.52 113.608 1351.98 Q115.436 1348.42 115.436 1341.31 Q115.436 1334.18 113.608 1330.64 Q111.802 1327.07 108.168 1327.07 M108.168 1323.37 Q113.978 1323.37 117.033 1327.98 Q120.112 1332.56 120.112 1341.31 Q120.112 1350.04 117.033 1354.64 Q113.978 1359.23 108.168 1359.23 Q102.358 1359.23 99.2789 1354.64 Q96.2234 1350.04 96.2234 1341.31 Q96.2234 1332.56 99.2789 1327.98 Q102.358 1323.37 108.168 1323.37 Z\" fill=\"#000000\" fill-rule=\"evenodd\" fill-opacity=\"1\" /><path clip-path=\"url(#clip550)\" d=\"M63.9319 1065.97 Q60.3208 1065.97 58.4921 1069.53 Q56.6865 1073.08 56.6865 1080.21 Q56.6865 1087.31 58.4921 1090.88 Q60.3208 1094.42 63.9319 1094.42 Q67.5661 1094.42 69.3717 1090.88 Q71.2004 1087.31 71.2004 1080.21 Q71.2004 1073.08 69.3717 1069.53 Q67.5661 1065.97 63.9319 1065.97 M63.9319 1062.27 Q69.742 1062.27 72.7976 1066.87 Q75.8763 1071.46 75.8763 1080.21 Q75.8763 1088.93 72.7976 1093.54 Q69.742 1098.12 63.9319 1098.12 Q58.1217 1098.12 55.043 1093.54 Q51.9875 1088.93 51.9875 1080.21 Q51.9875 1071.46 55.043 1066.87 Q58.1217 1062.27 63.9319 1062.27 Z\" fill=\"#000000\" fill-rule=\"evenodd\" fill-opacity=\"1\" /><path clip-path=\"url(#clip550)\" d=\"M84.0938 1091.57 L88.978 1091.57 L88.978 1097.45 L84.0938 1097.45 L84.0938 1091.57 Z\" fill=\"#000000\" fill-rule=\"evenodd\" fill-opacity=\"1\" /><path clip-path=\"url(#clip550)\" d=\"M99.2095 1062.89 L117.566 1062.89 L117.566 1066.83 L103.492 1066.83 L103.492 1075.3 Q104.51 1074.95 105.529 1074.79 Q106.547 1074.6 107.566 1074.6 Q113.353 1074.6 116.733 1077.77 Q120.112 1080.95 120.112 1086.36 Q120.112 1091.94 116.64 1095.04 Q113.168 1098.12 106.848 1098.12 Q104.672 1098.12 102.404 1097.75 Q100.159 1097.38 97.7511 1096.64 L97.7511 1091.94 Q99.8345 1093.08 102.057 1093.63 Q104.279 1094.19 106.756 1094.19 Q110.76 1094.19 113.098 1092.08 Q115.436 1089.97 115.436 1086.36 Q115.436 1082.75 113.098 1080.64 Q110.76 1078.54 106.756 1078.54 Q104.881 1078.54 103.006 1078.96 Q101.154 1079.37 99.2095 1080.25 L99.2095 1062.89 Z\" fill=\"#000000\" fill-rule=\"evenodd\" fill-opacity=\"1\" /><path clip-path=\"url(#clip550)\" d=\"M53.7467 832.412 L61.3856 832.412 L61.3856 806.046 L53.0754 807.713 L53.0754 803.453 L61.3393 801.787 L66.0152 801.787 L66.0152 832.412 L73.654 832.412 L73.654 836.347 L53.7467 836.347 L53.7467 832.412 Z\" fill=\"#000000\" fill-rule=\"evenodd\" fill-opacity=\"1\" /><path clip-path=\"url(#clip550)\" d=\"M83.0984 830.467 L87.9827 830.467 L87.9827 836.347 L83.0984 836.347 L83.0984 830.467 Z\" fill=\"#000000\" fill-rule=\"evenodd\" fill-opacity=\"1\" /><path clip-path=\"url(#clip550)\" d=\"M108.168 804.865 Q104.557 804.865 102.728 808.43 Q100.922 811.972 100.922 819.101 Q100.922 826.208 102.728 829.773 Q104.557 833.314 108.168 833.314 Q111.802 833.314 113.608 829.773 Q115.436 826.208 115.436 819.101 Q115.436 811.972 113.608 808.43 Q111.802 804.865 108.168 804.865 M108.168 801.162 Q113.978 801.162 117.033 805.768 Q120.112 810.351 120.112 819.101 Q120.112 827.828 117.033 832.435 Q113.978 837.018 108.168 837.018 Q102.358 837.018 99.2789 832.435 Q96.2234 827.828 96.2234 819.101 Q96.2234 810.351 99.2789 805.768 Q102.358 801.162 108.168 801.162 Z\" fill=\"#000000\" fill-rule=\"evenodd\" fill-opacity=\"1\" /><path clip-path=\"url(#clip550)\" d=\"M54.7421 571.308 L62.381 571.308 L62.381 544.942 L54.0708 546.609 L54.0708 542.35 L62.3347 540.683 L67.0106 540.683 L67.0106 571.308 L74.6494 571.308 L74.6494 575.243 L54.7421 575.243 L54.7421 571.308 Z\" fill=\"#000000\" fill-rule=\"evenodd\" fill-opacity=\"1\" /><path clip-path=\"url(#clip550)\" d=\"M84.0938 569.363 L88.978 569.363 L88.978 575.243 L84.0938 575.243 L84.0938 569.363 Z\" fill=\"#000000\" fill-rule=\"evenodd\" fill-opacity=\"1\" /><path clip-path=\"url(#clip550)\" d=\"M99.2095 540.683 L117.566 540.683 L117.566 544.618 L103.492 544.618 L103.492 553.09 Q104.51 552.743 105.529 552.581 Q106.547 552.396 107.566 552.396 Q113.353 552.396 116.733 555.567 Q120.112 558.738 120.112 564.155 Q120.112 569.734 116.64 572.836 Q113.168 575.914 106.848 575.914 Q104.672 575.914 102.404 575.544 Q100.159 575.174 97.7511 574.433 L97.7511 569.734 Q99.8345 570.868 102.057 571.424 Q104.279 571.979 106.756 571.979 Q110.76 571.979 113.098 569.873 Q115.436 567.766 115.436 564.155 Q115.436 560.544 113.098 558.438 Q110.76 556.331 106.756 556.331 Q104.881 556.331 103.006 556.748 Q101.154 557.164 99.2095 558.044 L99.2095 540.683 Z\" fill=\"#000000\" fill-rule=\"evenodd\" fill-opacity=\"1\" /><path clip-path=\"url(#clip550)\" d=\"M56.9643 310.204 L73.2837 310.204 L73.2837 314.139 L51.3393 314.139 L51.3393 310.204 Q54.0014 307.449 58.5847 302.82 Q63.1911 298.167 64.3717 296.825 Q66.617 294.301 67.4967 292.565 Q68.3994 290.806 68.3994 289.116 Q68.3994 286.362 66.455 284.626 Q64.5337 282.889 61.4319 282.889 Q59.2328 282.889 56.7791 283.653 Q54.3486 284.417 51.5708 285.968 L51.5708 281.246 Q54.3949 280.112 56.8486 279.533 Q59.3023 278.954 61.3393 278.954 Q66.7096 278.954 69.9041 281.639 Q73.0985 284.325 73.0985 288.815 Q73.0985 290.945 72.2883 292.866 Q71.5013 294.764 69.3948 297.357 Q68.8161 298.028 65.7143 301.246 Q62.6124 304.44 56.9643 310.204 Z\" fill=\"#000000\" fill-rule=\"evenodd\" fill-opacity=\"1\" /><path clip-path=\"url(#clip550)\" d=\"M83.0984 308.26 L87.9827 308.26 L87.9827 314.139 L83.0984 314.139 L83.0984 308.26 Z\" fill=\"#000000\" fill-rule=\"evenodd\" fill-opacity=\"1\" /><path clip-path=\"url(#clip550)\" d=\"M108.168 282.658 Q104.557 282.658 102.728 286.223 Q100.922 289.764 100.922 296.894 Q100.922 304 102.728 307.565 Q104.557 311.107 108.168 311.107 Q111.802 311.107 113.608 307.565 Q115.436 304 115.436 296.894 Q115.436 289.764 113.608 286.223 Q111.802 282.658 108.168 282.658 M108.168 278.954 Q113.978 278.954 117.033 283.561 Q120.112 288.144 120.112 296.894 Q120.112 305.621 117.033 310.227 Q113.978 314.811 108.168 314.811 Q102.358 314.811 99.2789 310.227 Q96.2234 305.621 96.2234 296.894 Q96.2234 288.144 99.2789 283.561 Q102.358 278.954 108.168 278.954 Z\" fill=\"#000000\" fill-rule=\"evenodd\" fill-opacity=\"1\" /><circle clip-path=\"url(#clip552)\" cx=\"218.281\" cy=\"819.067\" r=\"28\" fill=\"#009af9\" fill-rule=\"evenodd\" fill-opacity=\"1\" stroke=\"#000000\" stroke-opacity=\"1\" stroke-width=\"3.2\"/>\n",
       "<circle clip-path=\"url(#clip552)\" cx=\"1437.28\" cy=\"87.9763\" r=\"28\" fill=\"#009af9\" fill-rule=\"evenodd\" fill-opacity=\"1\" stroke=\"#000000\" stroke-opacity=\"1\" stroke-width=\"3.2\"/>\n",
       "<circle clip-path=\"url(#clip552)\" cx=\"1924.89\" cy=\"1445.72\" r=\"28\" fill=\"#009af9\" fill-rule=\"evenodd\" fill-opacity=\"1\" stroke=\"#000000\" stroke-opacity=\"1\" stroke-width=\"3.2\"/>\n",
       "<circle clip-path=\"url(#clip552)\" cx=\"2290.59\" cy=\"662.404\" r=\"28\" fill=\"#009af9\" fill-rule=\"evenodd\" fill-opacity=\"1\" stroke=\"#000000\" stroke-opacity=\"1\" stroke-width=\"3.2\"/>\n",
       "<path clip-path=\"url(#clip550)\" d=\"\n",
       "M1956.82 250.738 L2279.53 250.738 L2279.53 95.2176 L1956.82 95.2176  Z\n",
       "  \" fill=\"#ffffff\" fill-rule=\"evenodd\" fill-opacity=\"1\"/>\n",
       "<polyline clip-path=\"url(#clip550)\" style=\"stroke:#000000; stroke-linecap:butt; stroke-linejoin:round; stroke-width:4; stroke-opacity:1; fill:none\" points=\"\n",
       "  1956.82,250.738 2279.53,250.738 2279.53,95.2176 1956.82,95.2176 1956.82,250.738 \n",
       "  \"/>\n",
       "<circle clip-path=\"url(#clip550)\" cx=\"2054.45\" cy=\"172.978\" r=\"34\" fill=\"#009af9\" fill-rule=\"evenodd\" fill-opacity=\"1\" stroke=\"#000000\" stroke-opacity=\"1\" stroke-width=\"3.84\"/>\n",
       "<path clip-path=\"url(#clip550)\" d=\"M2172.84 202.509 Q2170.13 209.453 2167.56 211.571 Q2164.99 213.689 2160.69 213.689 L2155.58 213.689 L2155.58 208.342 L2159.33 208.342 Q2161.97 208.342 2163.43 207.092 Q2164.89 205.842 2166.66 201.189 L2167.8 198.273 L2152.07 160.009 L2158.85 160.009 L2171 190.425 L2183.15 160.009 L2189.92 160.009 L2172.84 202.509 Z\" fill=\"#000000\" fill-rule=\"evenodd\" fill-opacity=\"1\" /><path clip-path=\"url(#clip550)\" d=\"M2200.86 192.995 L2212.32 192.995 L2212.32 153.446 L2199.85 155.946 L2199.85 149.558 L2212.25 147.058 L2219.26 147.058 L2219.26 192.995 L2230.72 192.995 L2230.72 198.898 L2200.86 198.898 L2200.86 192.995 Z\" fill=\"#000000\" fill-rule=\"evenodd\" fill-opacity=\"1\" /></svg>\n"
      ]
     },
     "execution_count": 69,
     "metadata": {},
     "output_type": "execute_result"
    }
   ],
   "source": [
    "x1 = [-.9, 0.1, .5, .8]\n",
    "y1 = [1, 2.4, -.2, 1.3]\n",
    "scatter(x1, y1, markersize=8)"
   ]
  },
  {
   "cell_type": "code",
   "execution_count": 82,
   "id": "62a84cfe",
   "metadata": {
    "cell_style": "split"
   },
   "outputs": [
    {
     "name": "stdout",
     "output_type": "stream",
     "text": [
      "size(V) = (4, 4)\n"
     ]
    },
    {
     "data": {
      "image/svg+xml": [
       "<?xml version=\"1.0\" encoding=\"utf-8\"?>\n",
       "<svg xmlns=\"http://www.w3.org/2000/svg\" xmlns:xlink=\"http://www.w3.org/1999/xlink\" width=\"600\" height=\"400\" viewBox=\"0 0 2400 1600\">\n",
       "<defs>\n",
       "  <clipPath id=\"clip030\">\n",
       "    <rect x=\"0\" y=\"0\" width=\"2400\" height=\"1600\"/>\n",
       "  </clipPath>\n",
       "</defs>\n",
       "<path clip-path=\"url(#clip030)\" d=\"\n",
       "M0 1600 L2400 1600 L2400 0 L0 0  Z\n",
       "  \" fill=\"#ffffff\" fill-rule=\"evenodd\" fill-opacity=\"1\"/>\n",
       "<defs>\n",
       "  <clipPath id=\"clip031\">\n",
       "    <rect x=\"480\" y=\"0\" width=\"1681\" height=\"1600\"/>\n",
       "  </clipPath>\n",
       "</defs>\n",
       "<defs>\n",
       "  <clipPath id=\"clip032\">\n",
       "    <rect x=\"156\" y=\"47\" width=\"2198\" height=\"1440\"/>\n",
       "  </clipPath>\n",
       "</defs>\n",
       "<path clip-path=\"url(#clip030)\" d=\"\n",
       "M147.108 1486.45 L2352.76 1486.45 L2352.76 47.2441 L147.108 47.2441  Z\n",
       "  \" fill=\"#ffffff\" fill-rule=\"evenodd\" fill-opacity=\"1\"/>\n",
       "<defs>\n",
       "  <clipPath id=\"clip033\">\n",
       "    <rect x=\"147\" y=\"47\" width=\"2207\" height=\"1440\"/>\n",
       "  </clipPath>\n",
       "</defs>\n",
       "<polyline clip-path=\"url(#clip033)\" style=\"stroke:#000000; stroke-linecap:butt; stroke-linejoin:round; stroke-width:2; stroke-opacity:0.1; fill:none\" points=\"\n",
       "  147.108,1486.45 147.108,47.2441 \n",
       "  \"/>\n",
       "<polyline clip-path=\"url(#clip033)\" style=\"stroke:#000000; stroke-linecap:butt; stroke-linejoin:round; stroke-width:2; stroke-opacity:0.1; fill:none\" points=\"\n",
       "  698.52,1486.45 698.52,47.2441 \n",
       "  \"/>\n",
       "<polyline clip-path=\"url(#clip033)\" style=\"stroke:#000000; stroke-linecap:butt; stroke-linejoin:round; stroke-width:2; stroke-opacity:0.1; fill:none\" points=\"\n",
       "  1249.93,1486.45 1249.93,47.2441 \n",
       "  \"/>\n",
       "<polyline clip-path=\"url(#clip033)\" style=\"stroke:#000000; stroke-linecap:butt; stroke-linejoin:round; stroke-width:2; stroke-opacity:0.1; fill:none\" points=\"\n",
       "  1801.34,1486.45 1801.34,47.2441 \n",
       "  \"/>\n",
       "<polyline clip-path=\"url(#clip033)\" style=\"stroke:#000000; stroke-linecap:butt; stroke-linejoin:round; stroke-width:2; stroke-opacity:0.1; fill:none\" points=\"\n",
       "  2352.76,1486.45 2352.76,47.2441 \n",
       "  \"/>\n",
       "<polyline clip-path=\"url(#clip030)\" style=\"stroke:#000000; stroke-linecap:butt; stroke-linejoin:round; stroke-width:4; stroke-opacity:1; fill:none\" points=\"\n",
       "  147.108,1486.45 2352.76,1486.45 \n",
       "  \"/>\n",
       "<polyline clip-path=\"url(#clip030)\" style=\"stroke:#000000; stroke-linecap:butt; stroke-linejoin:round; stroke-width:4; stroke-opacity:1; fill:none\" points=\"\n",
       "  147.108,1486.45 147.108,1467.55 \n",
       "  \"/>\n",
       "<polyline clip-path=\"url(#clip030)\" style=\"stroke:#000000; stroke-linecap:butt; stroke-linejoin:round; stroke-width:4; stroke-opacity:1; fill:none\" points=\"\n",
       "  698.52,1486.45 698.52,1467.55 \n",
       "  \"/>\n",
       "<polyline clip-path=\"url(#clip030)\" style=\"stroke:#000000; stroke-linecap:butt; stroke-linejoin:round; stroke-width:4; stroke-opacity:1; fill:none\" points=\"\n",
       "  1249.93,1486.45 1249.93,1467.55 \n",
       "  \"/>\n",
       "<polyline clip-path=\"url(#clip030)\" style=\"stroke:#000000; stroke-linecap:butt; stroke-linejoin:round; stroke-width:4; stroke-opacity:1; fill:none\" points=\"\n",
       "  1801.34,1486.45 1801.34,1467.55 \n",
       "  \"/>\n",
       "<polyline clip-path=\"url(#clip030)\" style=\"stroke:#000000; stroke-linecap:butt; stroke-linejoin:round; stroke-width:4; stroke-opacity:1; fill:none\" points=\"\n",
       "  2352.76,1486.45 2352.76,1467.55 \n",
       "  \"/>\n",
       "<path clip-path=\"url(#clip030)\" d=\"M93.6356 1532.02 L123.311 1532.02 L123.311 1535.95 L93.6356 1535.95 L93.6356 1532.02 Z\" fill=\"#000000\" fill-rule=\"evenodd\" fill-opacity=\"1\" /><path clip-path=\"url(#clip030)\" d=\"M134.214 1544.91 L141.853 1544.91 L141.853 1518.55 L133.543 1520.21 L133.543 1515.95 L141.807 1514.29 L146.483 1514.29 L146.483 1544.91 L154.121 1544.91 L154.121 1548.85 L134.214 1548.85 L134.214 1544.91 Z\" fill=\"#000000\" fill-rule=\"evenodd\" fill-opacity=\"1\" /><path clip-path=\"url(#clip030)\" d=\"M163.566 1542.97 L168.45 1542.97 L168.45 1548.85 L163.566 1548.85 L163.566 1542.97 Z\" fill=\"#000000\" fill-rule=\"evenodd\" fill-opacity=\"1\" /><path clip-path=\"url(#clip030)\" d=\"M188.635 1517.37 Q185.024 1517.37 183.195 1520.93 Q181.39 1524.47 181.39 1531.6 Q181.39 1538.71 183.195 1542.27 Q185.024 1545.82 188.635 1545.82 Q192.269 1545.82 194.075 1542.27 Q195.904 1538.71 195.904 1531.6 Q195.904 1524.47 194.075 1520.93 Q192.269 1517.37 188.635 1517.37 M188.635 1513.66 Q194.445 1513.66 197.501 1518.27 Q200.579 1522.85 200.579 1531.6 Q200.579 1540.33 197.501 1544.94 Q194.445 1549.52 188.635 1549.52 Q182.825 1549.52 179.746 1544.94 Q176.691 1540.33 176.691 1531.6 Q176.691 1522.85 179.746 1518.27 Q182.825 1513.66 188.635 1513.66 Z\" fill=\"#000000\" fill-rule=\"evenodd\" fill-opacity=\"1\" /><path clip-path=\"url(#clip030)\" d=\"M645.545 1532.02 L675.221 1532.02 L675.221 1535.95 L645.545 1535.95 L645.545 1532.02 Z\" fill=\"#000000\" fill-rule=\"evenodd\" fill-opacity=\"1\" /><path clip-path=\"url(#clip030)\" d=\"M695.314 1517.37 Q691.703 1517.37 689.874 1520.93 Q688.068 1524.47 688.068 1531.6 Q688.068 1538.71 689.874 1542.27 Q691.703 1545.82 695.314 1545.82 Q698.948 1545.82 700.753 1542.27 Q702.582 1538.71 702.582 1531.6 Q702.582 1524.47 700.753 1520.93 Q698.948 1517.37 695.314 1517.37 M695.314 1513.66 Q701.124 1513.66 704.179 1518.27 Q707.258 1522.85 707.258 1531.6 Q707.258 1540.33 704.179 1544.94 Q701.124 1549.52 695.314 1549.52 Q689.503 1549.52 686.425 1544.94 Q683.369 1540.33 683.369 1531.6 Q683.369 1522.85 686.425 1518.27 Q689.503 1513.66 695.314 1513.66 Z\" fill=\"#000000\" fill-rule=\"evenodd\" fill-opacity=\"1\" /><path clip-path=\"url(#clip030)\" d=\"M715.476 1542.97 L720.36 1542.97 L720.36 1548.85 L715.476 1548.85 L715.476 1542.97 Z\" fill=\"#000000\" fill-rule=\"evenodd\" fill-opacity=\"1\" /><path clip-path=\"url(#clip030)\" d=\"M730.591 1514.29 L748.948 1514.29 L748.948 1518.22 L734.874 1518.22 L734.874 1526.7 Q735.892 1526.35 736.911 1526.19 Q737.929 1526 738.948 1526 Q744.735 1526 748.114 1529.17 Q751.494 1532.34 751.494 1537.76 Q751.494 1543.34 748.022 1546.44 Q744.549 1549.52 738.23 1549.52 Q736.054 1549.52 733.786 1549.15 Q731.54 1548.78 729.133 1548.04 L729.133 1543.34 Q731.216 1544.47 733.438 1545.03 Q735.661 1545.58 738.137 1545.58 Q742.142 1545.58 744.48 1543.48 Q746.818 1541.37 746.818 1537.76 Q746.818 1534.15 744.48 1532.04 Q742.142 1529.94 738.137 1529.94 Q736.262 1529.94 734.387 1530.35 Q732.536 1530.77 730.591 1531.65 L730.591 1514.29 Z\" fill=\"#000000\" fill-rule=\"evenodd\" fill-opacity=\"1\" /><path clip-path=\"url(#clip030)\" d=\"M1227.32 1517.37 Q1223.71 1517.37 1221.88 1520.93 Q1220.07 1524.47 1220.07 1531.6 Q1220.07 1538.71 1221.88 1542.27 Q1223.71 1545.82 1227.32 1545.82 Q1230.95 1545.82 1232.76 1542.27 Q1234.58 1538.71 1234.58 1531.6 Q1234.58 1524.47 1232.76 1520.93 Q1230.95 1517.37 1227.32 1517.37 M1227.32 1513.66 Q1233.13 1513.66 1236.18 1518.27 Q1239.26 1522.85 1239.26 1531.6 Q1239.26 1540.33 1236.18 1544.94 Q1233.13 1549.52 1227.32 1549.52 Q1221.51 1549.52 1218.43 1544.94 Q1215.37 1540.33 1215.37 1531.6 Q1215.37 1522.85 1218.43 1518.27 Q1221.51 1513.66 1227.32 1513.66 Z\" fill=\"#000000\" fill-rule=\"evenodd\" fill-opacity=\"1\" /><path clip-path=\"url(#clip030)\" d=\"M1247.48 1542.97 L1252.36 1542.97 L1252.36 1548.85 L1247.48 1548.85 L1247.48 1542.97 Z\" fill=\"#000000\" fill-rule=\"evenodd\" fill-opacity=\"1\" /><path clip-path=\"url(#clip030)\" d=\"M1272.55 1517.37 Q1268.94 1517.37 1267.11 1520.93 Q1265.3 1524.47 1265.3 1531.6 Q1265.3 1538.71 1267.11 1542.27 Q1268.94 1545.82 1272.55 1545.82 Q1276.18 1545.82 1277.99 1542.27 Q1279.82 1538.71 1279.82 1531.6 Q1279.82 1524.47 1277.99 1520.93 Q1276.18 1517.37 1272.55 1517.37 M1272.55 1513.66 Q1278.36 1513.66 1281.41 1518.27 Q1284.49 1522.85 1284.49 1531.6 Q1284.49 1540.33 1281.41 1544.94 Q1278.36 1549.52 1272.55 1549.52 Q1266.74 1549.52 1263.66 1544.94 Q1260.6 1540.33 1260.6 1531.6 Q1260.6 1522.85 1263.66 1518.27 Q1266.74 1513.66 1272.55 1513.66 Z\" fill=\"#000000\" fill-rule=\"evenodd\" fill-opacity=\"1\" /><path clip-path=\"url(#clip030)\" d=\"M1779.23 1517.37 Q1775.61 1517.37 1773.79 1520.93 Q1771.98 1524.47 1771.98 1531.6 Q1771.98 1538.71 1773.79 1542.27 Q1775.61 1545.82 1779.23 1545.82 Q1782.86 1545.82 1784.67 1542.27 Q1786.49 1538.71 1786.49 1531.6 Q1786.49 1524.47 1784.67 1520.93 Q1782.86 1517.37 1779.23 1517.37 M1779.23 1513.66 Q1785.04 1513.66 1788.09 1518.27 Q1791.17 1522.85 1791.17 1531.6 Q1791.17 1540.33 1788.09 1544.94 Q1785.04 1549.52 1779.23 1549.52 Q1773.42 1549.52 1770.34 1544.94 Q1767.28 1540.33 1767.28 1531.6 Q1767.28 1522.85 1770.34 1518.27 Q1773.42 1513.66 1779.23 1513.66 Z\" fill=\"#000000\" fill-rule=\"evenodd\" fill-opacity=\"1\" /><path clip-path=\"url(#clip030)\" d=\"M1799.39 1542.97 L1804.27 1542.97 L1804.27 1548.85 L1799.39 1548.85 L1799.39 1542.97 Z\" fill=\"#000000\" fill-rule=\"evenodd\" fill-opacity=\"1\" /><path clip-path=\"url(#clip030)\" d=\"M1814.5 1514.29 L1832.86 1514.29 L1832.86 1518.22 L1818.79 1518.22 L1818.79 1526.7 Q1819.8 1526.35 1820.82 1526.19 Q1821.84 1526 1822.86 1526 Q1828.65 1526 1832.03 1529.17 Q1835.41 1532.34 1835.41 1537.76 Q1835.41 1543.34 1831.93 1546.44 Q1828.46 1549.52 1822.14 1549.52 Q1819.97 1549.52 1817.7 1549.15 Q1815.45 1548.78 1813.05 1548.04 L1813.05 1543.34 Q1815.13 1544.47 1817.35 1545.03 Q1819.57 1545.58 1822.05 1545.58 Q1826.05 1545.58 1828.39 1543.48 Q1830.73 1541.37 1830.73 1537.76 Q1830.73 1534.15 1828.39 1532.04 Q1826.05 1529.94 1822.05 1529.94 Q1820.17 1529.94 1818.3 1530.35 Q1816.45 1530.77 1814.5 1531.65 L1814.5 1514.29 Z\" fill=\"#000000\" fill-rule=\"evenodd\" fill-opacity=\"1\" /><path clip-path=\"url(#clip030)\" d=\"M2319.91 1544.91 L2327.55 1544.91 L2327.55 1518.55 L2319.24 1520.21 L2319.24 1515.95 L2327.5 1514.29 L2332.18 1514.29 L2332.18 1544.91 L2339.82 1544.91 L2339.82 1548.85 L2319.91 1548.85 L2319.91 1544.91 Z\" fill=\"#000000\" fill-rule=\"evenodd\" fill-opacity=\"1\" /><path clip-path=\"url(#clip030)\" d=\"M2349.26 1542.97 L2354.14 1542.97 L2354.14 1548.85 L2349.26 1548.85 L2349.26 1542.97 Z\" fill=\"#000000\" fill-rule=\"evenodd\" fill-opacity=\"1\" /><path clip-path=\"url(#clip030)\" d=\"M2374.33 1517.37 Q2370.72 1517.37 2368.89 1520.93 Q2367.08 1524.47 2367.08 1531.6 Q2367.08 1538.71 2368.89 1542.27 Q2370.72 1545.82 2374.33 1545.82 Q2377.96 1545.82 2379.77 1542.27 Q2381.6 1538.71 2381.6 1531.6 Q2381.6 1524.47 2379.77 1520.93 Q2377.96 1517.37 2374.33 1517.37 M2374.33 1513.66 Q2380.14 1513.66 2383.2 1518.27 Q2386.27 1522.85 2386.27 1531.6 Q2386.27 1540.33 2383.2 1544.94 Q2380.14 1549.52 2374.33 1549.52 Q2368.52 1549.52 2365.44 1544.94 Q2362.39 1540.33 2362.39 1531.6 Q2362.39 1522.85 2365.44 1518.27 Q2368.52 1513.66 2374.33 1513.66 Z\" fill=\"#000000\" fill-rule=\"evenodd\" fill-opacity=\"1\" /><polyline clip-path=\"url(#clip033)\" style=\"stroke:#000000; stroke-linecap:butt; stroke-linejoin:round; stroke-width:2; stroke-opacity:0.1; fill:none\" points=\"\n",
       "  147.108,1462.24 2352.76,1462.24 \n",
       "  \"/>\n",
       "<polyline clip-path=\"url(#clip033)\" style=\"stroke:#000000; stroke-linecap:butt; stroke-linejoin:round; stroke-width:2; stroke-opacity:0.1; fill:none\" points=\"\n",
       "  147.108,1121.75 2352.76,1121.75 \n",
       "  \"/>\n",
       "<polyline clip-path=\"url(#clip033)\" style=\"stroke:#000000; stroke-linecap:butt; stroke-linejoin:round; stroke-width:2; stroke-opacity:0.1; fill:none\" points=\"\n",
       "  147.108,781.258 2352.76,781.258 \n",
       "  \"/>\n",
       "<polyline clip-path=\"url(#clip033)\" style=\"stroke:#000000; stroke-linecap:butt; stroke-linejoin:round; stroke-width:2; stroke-opacity:0.1; fill:none\" points=\"\n",
       "  147.108,440.767 2352.76,440.767 \n",
       "  \"/>\n",
       "<polyline clip-path=\"url(#clip033)\" style=\"stroke:#000000; stroke-linecap:butt; stroke-linejoin:round; stroke-width:2; stroke-opacity:0.1; fill:none\" points=\"\n",
       "  147.108,100.275 2352.76,100.275 \n",
       "  \"/>\n",
       "<polyline clip-path=\"url(#clip030)\" style=\"stroke:#000000; stroke-linecap:butt; stroke-linejoin:round; stroke-width:4; stroke-opacity:1; fill:none\" points=\"\n",
       "  147.108,1486.45 147.108,47.2441 \n",
       "  \"/>\n",
       "<polyline clip-path=\"url(#clip030)\" style=\"stroke:#000000; stroke-linecap:butt; stroke-linejoin:round; stroke-width:4; stroke-opacity:1; fill:none\" points=\"\n",
       "  147.108,1462.24 166.005,1462.24 \n",
       "  \"/>\n",
       "<polyline clip-path=\"url(#clip030)\" style=\"stroke:#000000; stroke-linecap:butt; stroke-linejoin:round; stroke-width:4; stroke-opacity:1; fill:none\" points=\"\n",
       "  147.108,1121.75 166.005,1121.75 \n",
       "  \"/>\n",
       "<polyline clip-path=\"url(#clip030)\" style=\"stroke:#000000; stroke-linecap:butt; stroke-linejoin:round; stroke-width:4; stroke-opacity:1; fill:none\" points=\"\n",
       "  147.108,781.258 166.005,781.258 \n",
       "  \"/>\n",
       "<polyline clip-path=\"url(#clip030)\" style=\"stroke:#000000; stroke-linecap:butt; stroke-linejoin:round; stroke-width:4; stroke-opacity:1; fill:none\" points=\"\n",
       "  147.108,440.767 166.005,440.767 \n",
       "  \"/>\n",
       "<polyline clip-path=\"url(#clip030)\" style=\"stroke:#000000; stroke-linecap:butt; stroke-linejoin:round; stroke-width:4; stroke-opacity:1; fill:none\" points=\"\n",
       "  147.108,100.275 166.005,100.275 \n",
       "  \"/>\n",
       "<path clip-path=\"url(#clip030)\" d=\"M50.9921 1462.69 L80.6679 1462.69 L80.6679 1466.63 L50.9921 1466.63 L50.9921 1462.69 Z\" fill=\"#000000\" fill-rule=\"evenodd\" fill-opacity=\"1\" /><path clip-path=\"url(#clip030)\" d=\"M94.7882 1475.58 L111.108 1475.58 L111.108 1479.52 L89.1632 1479.52 L89.1632 1475.58 Q91.8252 1472.83 96.4085 1468.2 Q101.015 1463.55 102.196 1462.2 Q104.441 1459.68 105.321 1457.95 Q106.223 1456.19 106.223 1454.5 Q106.223 1451.74 104.279 1450.01 Q102.358 1448.27 99.2558 1448.27 Q97.0567 1448.27 94.603 1449.03 Q92.1725 1449.8 89.3947 1451.35 L89.3947 1446.63 Q92.2188 1445.49 94.6724 1444.91 Q97.1261 1444.33 99.1632 1444.33 Q104.534 1444.33 107.728 1447.02 Q110.922 1449.7 110.922 1454.2 Q110.922 1456.33 110.112 1458.25 Q109.325 1460.14 107.219 1462.74 Q106.64 1463.41 103.538 1466.63 Q100.436 1469.82 94.7882 1475.58 Z\" fill=\"#000000\" fill-rule=\"evenodd\" fill-opacity=\"1\" /><path clip-path=\"url(#clip030)\" d=\"M99.1632 1107.55 Q95.5521 1107.55 93.7234 1111.11 Q91.9178 1114.65 91.9178 1121.78 Q91.9178 1128.89 93.7234 1132.45 Q95.5521 1136 99.1632 1136 Q102.797 1136 104.603 1132.45 Q106.432 1128.89 106.432 1121.78 Q106.432 1114.65 104.603 1111.11 Q102.797 1107.55 99.1632 1107.55 M99.1632 1103.84 Q104.973 1103.84 108.029 1108.45 Q111.108 1113.03 111.108 1121.78 Q111.108 1130.51 108.029 1135.12 Q104.973 1139.7 99.1632 1139.7 Q93.353 1139.7 90.2743 1135.12 Q87.2188 1130.51 87.2188 1121.78 Q87.2188 1113.03 90.2743 1108.45 Q93.353 1103.84 99.1632 1103.84 Z\" fill=\"#000000\" fill-rule=\"evenodd\" fill-opacity=\"1\" /><path clip-path=\"url(#clip030)\" d=\"M94.7882 794.602 L111.108 794.602 L111.108 798.538 L89.1632 798.538 L89.1632 794.602 Q91.8252 791.848 96.4085 787.218 Q101.015 782.565 102.196 781.223 Q104.441 778.7 105.321 776.964 Q106.223 775.204 106.223 773.514 Q106.223 770.76 104.279 769.024 Q102.358 767.288 99.2558 767.288 Q97.0567 767.288 94.603 768.052 Q92.1725 768.815 89.3947 770.366 L89.3947 765.644 Q92.2188 764.51 94.6724 763.931 Q97.1261 763.353 99.1632 763.353 Q104.534 763.353 107.728 766.038 Q110.922 768.723 110.922 773.214 Q110.922 775.343 110.112 777.264 Q109.325 779.163 107.219 781.755 Q106.64 782.426 103.538 785.644 Q100.436 788.838 94.7882 794.602 Z\" fill=\"#000000\" fill-rule=\"evenodd\" fill-opacity=\"1\" /><path clip-path=\"url(#clip030)\" d=\"M101.524 427.561 L89.7188 446.01 L101.524 446.01 L101.524 427.561 M100.297 423.487 L106.177 423.487 L106.177 446.01 L111.108 446.01 L111.108 449.898 L106.177 449.898 L106.177 458.047 L101.524 458.047 L101.524 449.898 L85.9225 449.898 L85.9225 445.385 L100.297 423.487 Z\" fill=\"#000000\" fill-rule=\"evenodd\" fill-opacity=\"1\" /><path clip-path=\"url(#clip030)\" d=\"M99.5798 98.4121 Q96.4317 98.4121 94.5799 100.565 Q92.7512 102.718 92.7512 106.468 Q92.7512 110.194 94.5799 112.37 Q96.4317 114.523 99.5798 114.523 Q102.728 114.523 104.557 112.37 Q106.408 110.194 106.408 106.468 Q106.408 102.718 104.557 100.565 Q102.728 98.4121 99.5798 98.4121 M108.862 83.7594 L108.862 88.0186 Q107.103 87.1853 105.297 86.7455 Q103.515 86.3057 101.756 86.3057 Q97.1261 86.3057 94.6724 89.4306 Q92.2419 92.5556 91.8947 98.875 Q93.2604 96.8612 95.3206 95.7964 Q97.3808 94.7084 99.8576 94.7084 Q105.066 94.7084 108.075 97.8797 Q111.108 101.028 111.108 106.468 Q111.108 111.792 107.959 115.009 Q104.811 118.227 99.5798 118.227 Q93.5845 118.227 90.4132 113.643 Q87.2419 109.037 87.2419 100.31 Q87.2419 92.1158 91.1308 87.2547 Q95.0197 82.3705 101.571 82.3705 Q103.33 82.3705 105.112 82.7177 Q106.918 83.0649 108.862 83.7594 Z\" fill=\"#000000\" fill-rule=\"evenodd\" fill-opacity=\"1\" /><circle clip-path=\"url(#clip033)\" cx=\"257.39\" cy=\"951.503\" r=\"28\" fill=\"#009af9\" fill-rule=\"evenodd\" fill-opacity=\"1\" stroke=\"#000000\" stroke-opacity=\"1\" stroke-width=\"3.2\"/>\n",
       "<circle clip-path=\"url(#clip033)\" cx=\"1360.21\" cy=\"713.159\" r=\"28\" fill=\"#009af9\" fill-rule=\"evenodd\" fill-opacity=\"1\" stroke=\"#000000\" stroke-opacity=\"1\" stroke-width=\"3.2\"/>\n",
       "<circle clip-path=\"url(#clip033)\" cx=\"1801.34\" cy=\"1155.8\" r=\"28\" fill=\"#009af9\" fill-rule=\"evenodd\" fill-opacity=\"1\" stroke=\"#000000\" stroke-opacity=\"1\" stroke-width=\"3.2\"/>\n",
       "<circle clip-path=\"url(#clip033)\" cx=\"2132.19\" cy=\"900.429\" r=\"28\" fill=\"#009af9\" fill-rule=\"evenodd\" fill-opacity=\"1\" stroke=\"#000000\" stroke-opacity=\"1\" stroke-width=\"3.2\"/>\n",
       "<polyline clip-path=\"url(#clip033)\" style=\"stroke:#e26f46; stroke-linecap:butt; stroke-linejoin:round; stroke-width:16; stroke-opacity:1; fill:none\" stroke-dasharray=\"64, 40\" points=\"\n",
       "  147.108,1445.72 192.121,1228.01 237.134,1032.49 282.147,858.251 327.16,704.393 372.174,570.012 417.187,454.209 462.2,356.08 507.213,274.724 552.227,209.239 \n",
       "  597.24,158.724 642.253,122.276 687.266,98.9942 732.28,87.9763 777.293,88.3205 822.306,99.1252 867.319,119.488 912.332,148.508 957.346,185.283 1002.36,228.912 \n",
       "  1047.37,278.491 1092.39,333.12 1137.4,391.897 1182.41,453.92 1227.43,518.288 1272.44,584.097 1317.45,650.447 1362.46,716.436 1407.48,781.162 1452.49,843.723 \n",
       "  1497.5,903.218 1542.52,958.744 1587.53,1009.4 1632.54,1054.28 1677.56,1092.49 1722.57,1123.13 1767.58,1145.29 1812.6,1158.06 1857.61,1160.56 1902.62,1151.87 \n",
       "  1947.64,1131.1 1992.65,1097.35 2037.66,1049.7 2082.68,987.267 2127.69,909.14 2172.7,814.419 2217.72,702.203 2262.73,571.59 2307.74,421.678 2352.76,251.565 \n",
       "  \n",
       "  \"/>\n",
       "<path clip-path=\"url(#clip030)\" d=\"\n",
       "M1851.87 328.498 L2279.23 328.498 L2279.23 95.2176 L1851.87 95.2176  Z\n",
       "  \" fill=\"#ffffff\" fill-rule=\"evenodd\" fill-opacity=\"1\"/>\n",
       "<polyline clip-path=\"url(#clip030)\" style=\"stroke:#000000; stroke-linecap:butt; stroke-linejoin:round; stroke-width:4; stroke-opacity:1; fill:none\" points=\"\n",
       "  1851.87,328.498 2279.23,328.498 2279.23,95.2176 1851.87,95.2176 1851.87,328.498 \n",
       "  \"/>\n",
       "<circle clip-path=\"url(#clip030)\" cx=\"1949.9\" cy=\"172.978\" r=\"34\" fill=\"#009af9\" fill-rule=\"evenodd\" fill-opacity=\"1\" stroke=\"#000000\" stroke-opacity=\"1\" stroke-width=\"3.84\"/>\n",
       "<path clip-path=\"url(#clip030)\" d=\"M2068.69 202.509 Q2065.99 209.453 2063.42 211.571 Q2060.85 213.689 2056.54 213.689 L2051.44 213.689 L2051.44 208.342 L2055.19 208.342 Q2057.83 208.342 2059.28 207.092 Q2060.74 205.842 2062.51 201.189 L2063.66 198.273 L2047.93 160.009 L2054.7 160.009 L2066.85 190.425 L2079.01 160.009 L2085.78 160.009 L2068.69 202.509 Z\" fill=\"#000000\" fill-rule=\"evenodd\" fill-opacity=\"1\" /><path clip-path=\"url(#clip030)\" d=\"M2096.71 192.995 L2108.17 192.995 L2108.17 153.446 L2095.71 155.946 L2095.71 149.558 L2108.1 147.058 L2115.12 147.058 L2115.12 192.995 L2126.58 192.995 L2126.58 198.898 L2096.71 198.898 L2096.71 192.995 Z\" fill=\"#000000\" fill-rule=\"evenodd\" fill-opacity=\"1\" /><polyline clip-path=\"url(#clip030)\" style=\"stroke:#e26f46; stroke-linecap:butt; stroke-linejoin:round; stroke-width:6; stroke-opacity:1; fill:none\" stroke-dasharray=\"24, 15\" points=\"\n",
       "  1876.38,250.738 2023.42,250.738 \n",
       "  \"/>\n",
       "<path clip-path=\"url(#clip030)\" d=\"M2099.23 230.652 Q2099.15 231.952 2098.28 232.022 Q2096.94 232.093 2096.13 232.268 Q2095.33 232.409 2094.06 232.936 Q2092.8 233.463 2091.57 234.728 Q2090.34 235.993 2089.07 237.995 L2063.18 279.207 Q2062.72 279.98 2062.33 280.226 Q2061.98 280.507 2061.18 280.507 Q2060.44 280.507 2060.16 280.191 Q2059.88 279.91 2059.73 278.856 L2054.04 234.447 Q2053.94 233.639 2053.83 233.287 Q2053.73 232.936 2053.31 232.585 Q2052.92 232.233 2052.08 232.128 Q2051.23 232.022 2049.72 232.022 Q2049.02 232.022 2048.7 231.987 Q2048.42 231.952 2048.18 231.776 Q2047.93 231.566 2047.93 231.144 Q2047.93 230.512 2048.18 230.195 Q2048.46 229.844 2048.67 229.809 Q2048.91 229.774 2049.3 229.774 Q2049.9 229.774 2051.2 229.844 Q2052.5 229.914 2053.16 229.914 Q2053.8 229.914 2055.13 229.95 Q2056.47 229.985 2057.13 229.985 Q2058.61 229.985 2061.6 229.879 Q2064.62 229.774 2066.06 229.774 Q2067.04 229.774 2067.04 230.582 Q2067.04 231.566 2066.62 231.812 Q2066.2 232.022 2065.25 232.022 Q2062.86 232.022 2061.56 232.62 Q2060.3 233.217 2060.3 234.166 L2065.18 272.25 L2087.28 237.117 Q2088.37 235.466 2088.37 234.376 Q2088.37 232.268 2085.03 232.022 Q2083.91 232.022 2083.91 231.144 Q2083.91 230.512 2084.19 230.195 Q2084.47 229.844 2084.68 229.809 Q2084.93 229.774 2085.28 229.774 Q2086.44 229.774 2088.79 229.879 Q2091.18 229.985 2092.37 229.985 Q2093.36 229.985 2095.36 229.879 Q2097.36 229.774 2098.28 229.774 Q2099.23 229.774 2099.23 230.652 Z\" fill=\"#000000\" fill-rule=\"evenodd\" fill-opacity=\"1\" /><path clip-path=\"url(#clip030)\" d=\"M2108.74 260.937 Q2108.74 248.781 2113.27 238.979 Q2115.2 234.868 2117.91 231.425 Q2120.61 227.982 2122.41 226.471 Q2124.2 224.961 2124.69 224.961 Q2125.39 224.961 2125.43 225.663 Q2125.43 226.015 2124.48 226.893 Q2112.89 238.698 2112.92 260.937 Q2112.92 283.247 2124.2 294.595 Q2125.43 295.825 2125.43 296.212 Q2125.43 296.914 2124.69 296.914 Q2124.2 296.914 2122.48 295.474 Q2120.76 294.033 2118.09 290.731 Q2115.41 287.428 2113.48 283.388 Q2108.74 273.586 2108.74 260.937 Z\" fill=\"#000000\" fill-rule=\"evenodd\" fill-opacity=\"1\" /><path clip-path=\"url(#clip030)\" d=\"M2166.73 251.873 Q2166.73 253.84 2165.5 254.965 Q2164.27 256.054 2162.87 256.054 Q2161.53 256.054 2160.83 255.281 Q2160.13 254.508 2160.13 253.524 Q2160.13 252.189 2161.11 251.03 Q2162.1 249.87 2163.57 249.624 Q2162.13 248.711 2159.99 248.711 Q2158.58 248.711 2157.35 249.449 Q2156.16 250.187 2155.42 251.135 Q2154.72 252.084 2154.09 253.454 Q2153.49 254.789 2153.24 255.597 Q2153.03 256.37 2152.86 257.213 L2150.4 267.051 Q2149.2 271.723 2149.2 273.375 Q2149.2 275.412 2150.19 276.783 Q2151.17 278.118 2153.14 278.118 Q2153.91 278.118 2154.79 277.907 Q2155.67 277.661 2156.79 277.029 Q2157.95 276.361 2158.97 275.377 Q2160.02 274.358 2161.04 272.637 Q2162.06 270.915 2162.73 268.702 Q2162.94 267.929 2163.64 267.929 Q2164.52 267.929 2164.52 268.632 Q2164.52 269.229 2164.03 270.494 Q2163.57 271.723 2162.55 273.34 Q2161.57 274.921 2160.27 276.361 Q2158.97 277.766 2157.04 278.75 Q2155.1 279.734 2153 279.734 Q2149.97 279.734 2147.97 278.118 Q2145.97 276.502 2145.23 274.253 Q2145.06 274.569 2144.81 274.991 Q2144.56 275.412 2143.83 276.361 Q2143.12 277.275 2142.32 277.977 Q2141.51 278.645 2140.24 279.172 Q2139.01 279.734 2137.68 279.734 Q2135.99 279.734 2134.48 279.242 Q2133 278.75 2131.95 277.626 Q2130.9 276.502 2130.9 274.956 Q2130.9 273.234 2132.06 272.04 Q2133.25 270.81 2134.87 270.81 Q2135.89 270.81 2136.69 271.407 Q2137.54 272.005 2137.54 273.304 Q2137.54 274.745 2136.55 275.834 Q2135.57 276.923 2134.16 277.204 Q2135.6 278.118 2137.75 278.118 Q2140.07 278.118 2141.89 276.08 Q2143.72 274.042 2144.6 270.634 Q2146.78 262.448 2147.62 258.794 Q2148.46 255.105 2148.46 253.524 Q2148.46 252.049 2148.08 251.03 Q2147.69 250.011 2147.02 249.554 Q2146.39 249.062 2145.79 248.887 Q2145.23 248.711 2144.6 248.711 Q2143.54 248.711 2142.35 249.133 Q2141.19 249.554 2139.79 250.538 Q2138.42 251.486 2137.12 253.454 Q2135.82 255.421 2134.94 258.127 Q2134.76 258.935 2133.99 258.935 Q2133.15 258.9 2133.15 258.197 Q2133.15 257.6 2133.6 256.37 Q2134.09 255.105 2135.08 253.524 Q2136.1 251.943 2137.4 250.538 Q2138.73 249.097 2140.66 248.114 Q2142.63 247.13 2144.74 247.13 Q2145.69 247.13 2146.6 247.341 Q2147.55 247.516 2148.67 248.043 Q2149.83 248.57 2150.85 249.73 Q2151.87 250.889 2152.5 252.576 Q2152.93 251.768 2153.49 250.995 Q2154.09 250.222 2155 249.273 Q2155.95 248.289 2157.25 247.727 Q2158.58 247.13 2160.06 247.13 Q2161.5 247.13 2162.9 247.516 Q2164.31 247.868 2165.5 249.027 Q2166.73 250.151 2166.73 251.873 Z\" fill=\"#000000\" fill-rule=\"evenodd\" fill-opacity=\"1\" /><path clip-path=\"url(#clip030)\" d=\"M2173.66 296.212 Q2173.66 295.86 2174.57 294.982 Q2186.17 283.177 2186.17 260.937 Q2186.17 238.628 2175.03 227.35 Q2173.66 226.05 2173.66 225.663 Q2173.66 224.961 2174.36 224.961 Q2174.86 224.961 2176.58 226.401 Q2178.33 227.842 2180.97 231.144 Q2183.64 234.447 2185.61 238.487 Q2190.35 248.289 2190.35 260.937 Q2190.35 273.094 2185.82 282.896 Q2183.88 287.007 2181.18 290.45 Q2178.47 293.893 2176.68 295.404 Q2174.89 296.914 2174.36 296.914 Q2173.66 296.914 2173.66 296.212 Z\" fill=\"#000000\" fill-rule=\"evenodd\" fill-opacity=\"1\" /><path clip-path=\"url(#clip030)\" d=\"M2231.97 258.619 Q2231.97 263.748 2229.37 268.702 Q2226.81 273.656 2222.77 276.712 Q2218.73 279.734 2214.62 279.734 Q2212.16 279.734 2210.5 278.399 Q2208.89 277.029 2208.01 275.096 Q2207.34 277.485 2205.9 283.212 Q2204.46 288.939 2204.46 289.501 Q2204.46 289.817 2204.53 289.958 Q2204.6 290.098 2204.92 290.274 Q2205.23 290.485 2206.01 290.555 Q2206.78 290.661 2208.08 290.661 Q2208.75 290.661 2208.99 290.661 Q2209.27 290.696 2209.52 290.871 Q2209.8 291.047 2209.8 291.433 Q2209.8 292.874 2208.5 292.874 Q2207.34 292.874 2204.95 292.769 Q2202.56 292.663 2201.37 292.663 Q2200.35 292.663 2198.31 292.769 Q2196.28 292.874 2195.33 292.874 Q2194.38 292.874 2194.38 292.031 Q2194.38 291.539 2194.52 291.223 Q2194.62 290.942 2194.91 290.801 Q2195.19 290.696 2195.43 290.661 Q2195.64 290.661 2196.06 290.661 Q2197.68 290.661 2198.38 290.379 Q2199.09 290.134 2199.33 289.607 Q2199.61 289.115 2199.93 287.709 L2208.01 255.667 Q2208.5 253.524 2208.5 252.013 Q2208.5 250.116 2207.9 249.414 Q2207.31 248.711 2206.25 248.711 Q2204.43 248.711 2203.23 250.889 Q2202.04 253.067 2201.02 257.284 Q2200.7 258.443 2200.49 258.689 Q2200.32 258.935 2199.79 258.935 Q2198.91 258.9 2198.91 258.197 Q2198.91 258.021 2199.19 256.897 Q2199.47 255.738 2200 254.051 Q2200.56 252.33 2201.16 251.241 Q2201.51 250.503 2201.83 250.011 Q2202.14 249.519 2202.78 248.746 Q2203.44 247.973 2204.39 247.552 Q2205.34 247.13 2206.5 247.13 Q2208.75 247.13 2210.61 248.465 Q2212.47 249.8 2212.96 252.505 Q2214.97 250.151 2217.43 248.641 Q2219.89 247.13 2222.38 247.13 Q2226.53 247.13 2229.23 250.362 Q2231.97 253.559 2231.97 258.619 M2226.77 255.457 Q2226.77 252.259 2225.54 250.503 Q2224.35 248.711 2222.17 248.711 Q2219.46 248.711 2216.34 251.451 Q2213.25 254.051 2212.61 256.475 L2209.06 270.564 L2208.85 271.723 Q2208.85 271.934 2208.96 272.567 Q2209.1 273.164 2209.49 274.148 Q2209.91 275.131 2210.47 276.01 Q2211.07 276.853 2212.12 277.485 Q2213.21 278.118 2214.55 278.118 Q2216.69 278.118 2219.01 276.221 Q2221.36 274.323 2223.12 270.74 Q2224.21 268.421 2225.47 263.432 Q2226.77 258.408 2226.77 255.457 Z\" fill=\"#000000\" fill-rule=\"evenodd\" fill-opacity=\"1\" /></svg>\n"
      ]
     },
     "execution_count": 82,
     "metadata": {},
     "output_type": "execute_result"
    }
   ],
   "source": [
    "V = vander(x1, 4)\n",
    "@show size(V)\n",
    "p = V \\ y1 # write y1 in the polynomial basis\n",
    "scatter(x1, y1, markersize=8, xlims=(-1, 1))\n",
    "#plot!(P(p), label=\"P(p)\")\n",
    "plot!(x, vander(x, 4) * p, label=\"\\$ V(x) p\\$\", linestyle=:dash)"
   ]
  },
  {
   "cell_type": "markdown",
   "id": "17d2ea90",
   "metadata": {
    "slideshow": {
     "slide_type": "slide"
    }
   },
   "source": [
    "# Some common terminology\n",
    "\n",
    "* The **range** of $A$ is the space spanned by its columns.  This definition coincides with the range of a function $f(x)$ when $f(x) = A x$.\n",
    "* The (right) **nullspace** of $A$ is the space of vectors $x$ such that $A x = 0$.\n",
    "* The **rank** of $A$ is the dimension of its range.\n",
    "* A matrix has **full rank** if the nullspace of either $A$ or $A^T$ is empty (only the 0 vector).  Equivalently, if all the columns of $A$ (or $A^T$) are linearly independent.\n",
    "* A **nonsingular** (or **invertible**) matrix is a square matrix of full rank.  We call the inverse $A^{-1}$ and it satisfies $A^{-1} A = A A^{-1} = I$."
   ]
  },
  {
   "cell_type": "markdown",
   "id": "e5269948",
   "metadata": {
    "cell_style": "split",
    "slideshow": {
     "slide_type": "slide"
    }
   },
   "source": [
    "$\\DeclareMathOperator{\\rank}{rank} \\DeclareMathOperator{\\null}{null} $\n",
    "If $A \\in \\mathbb{R}^{m\\times m}$, which of these doesn't belong?\n",
    "1. $A$ has an inverse $A^{-1}$\n",
    "2. $\\rank (A) = m$\n",
    "3. $\\null(A) = \\{0\\}$\n",
    "4. $A A^T = A^T A$\n",
    "5. $\\det(A) \\ne 0$\n",
    "6. $A x = 0$ implies that $x = 0$"
   ]
  },
  {
   "cell_type": "code",
   "execution_count": 86,
   "id": "ecf60702",
   "metadata": {
    "cell_style": "split",
    "slideshow": {
     "slide_type": "fragment"
    }
   },
   "outputs": [
    {
     "data": {
      "text/plain": [
       "-0.08969850225286818"
      ]
     },
     "execution_count": 86,
     "metadata": {},
     "output_type": "execute_result"
    }
   ],
   "source": [
    "A = rand(4,4)\n",
    "#A' * A - A * A'\n",
    "det(A)"
   ]
  },
  {
   "cell_type": "markdown",
   "id": "efa97478",
   "metadata": {
    "slideshow": {
     "slide_type": "slide"
    }
   },
   "source": [
    "# What is an inverse?\n",
    "\n",
    "When we write $x = A^{-1} y$, we mean that $x$ is the unique vector such that $A x = y$.\n",
    "(It is rare that we explicitly compute a matrix $A^{-1}$, though [it's not as \"bad\"](https://arxiv.org/abs/1201.6035) as people may have told you.)\n",
    "A vector $y$ is equivalent to $\\sum_i e_i y_i$ where $e_i$ are columns of the identity.\n",
    "Meanwhile, $x = A^{-1} y$ means that we are expressing that same vector $y$ in the basis of the columns of $A$, i.e., $\\sum_i A_{:,i} x_i$.\n"
   ]
  },
  {
   "cell_type": "code",
   "execution_count": 27,
   "id": "f44d4a40",
   "metadata": {
    "cell_style": "split"
   },
   "outputs": [
    {
     "data": {
      "text/plain": [
       "4×4 Matrix{Float64}:\n",
       " 0.529731  0.00344266  0.0249711  0.446597\n",
       " 0.65379   0.874346    0.629848   0.296424\n",
       " 0.308001  0.687619    0.654854   0.627373\n",
       " 0.252958  0.033781    0.86887    0.405012"
      ]
     },
     "execution_count": 27,
     "metadata": {},
     "output_type": "execute_result"
    }
   ],
   "source": [
    "using LinearAlgebra\n",
    "A = rand(4, 4)"
   ]
  },
  {
   "cell_type": "code",
   "execution_count": 28,
   "id": "6d5610a3",
   "metadata": {
    "cell_style": "split"
   },
   "outputs": [
    {
     "data": {
      "text/plain": [
       "4×4 Matrix{Float64}:\n",
       "  1.0  1.69813e-16  6.45103e-17  -1.4185e-18\n",
       " -0.0  1.0          7.87401e-17  -2.28895e-17\n",
       "  0.0  0.0          1.0           3.32473e-17\n",
       "  0.0  0.0          5.25774e-17   1.0"
      ]
     },
     "execution_count": 28,
     "metadata": {},
     "output_type": "execute_result"
    }
   ],
   "source": [
    "A \\ A"
   ]
  },
  {
   "cell_type": "code",
   "execution_count": 29,
   "id": "33f6511a",
   "metadata": {
    "cell_style": "split"
   },
   "outputs": [
    {
     "data": {
      "text/plain": [
       "4×4 Matrix{Float64}:\n",
       " 1.0          2.80573e-16  4.18345e-17   1.09056e-17\n",
       " 6.36277e-17  1.0          9.18807e-17  -1.04138e-16\n",
       " 1.07459e-16  6.39634e-17  1.0           4.11885e-17\n",
       " 4.48719e-17  7.42799e-17  7.86144e-17   1.0"
      ]
     },
     "execution_count": 29,
     "metadata": {},
     "output_type": "execute_result"
    }
   ],
   "source": [
    "inv(A) * A"
   ]
  },
  {
   "cell_type": "markdown",
   "id": "7a8eb495",
   "metadata": {
    "slideshow": {
     "slide_type": "slide"
    }
   },
   "source": [
    "# Inner products and orthogonality\n",
    "\n",
    "The **inner product**\n",
    "$$ x^T y = \\sum_i x_i y_i $$\n",
    "of vectors (or columns of a matrix) tell us about their magnitude and about the angle.\n",
    "The **norm** is induced by the inner product,\n",
    "$$ \\lVert x \\rVert = \\sqrt{x^T x} $$\n",
    "and the angle $\\theta$ is defined by\n",
    "$$ \\cos \\theta = \\frac{x^T y}{\\lVert x \\rVert \\, \\lVert y \\rVert} . $$\n",
    "Inner products are **bilinear**, which means that they satisfy some convenient algebraic properties\n",
    "$$ \\begin{split}\n",
    "(x + y)^T z &= x^T z + y^T z \\\\\n",
    "x^T (y + z) &= x^T y + x^T z \\\\\n",
    "(\\alpha x)^T (\\beta y) &= \\alpha \\beta x^T y \\\\\n",
    "\\end{split} . $$"
   ]
  },
  {
   "cell_type": "markdown",
   "id": "343e1be5",
   "metadata": {
    "slideshow": {
     "slide_type": "slide"
    }
   },
   "source": [
    "# Examples with inner products"
   ]
  },
  {
   "cell_type": "code",
   "execution_count": 90,
   "id": "8d795390",
   "metadata": {
    "cell_style": "split"
   },
   "outputs": [
    {
     "name": "stdout",
     "output_type": "stream",
     "text": [
      "x' * y = 1\n",
      "y' * x = 1\n"
     ]
    }
   ],
   "source": [
    "x = [0, 1]\n",
    "y = [1, 1]\n",
    "@show x' * y\n",
    "@show y' * x;"
   ]
  },
  {
   "cell_type": "code",
   "execution_count": 35,
   "id": "58505af3",
   "metadata": {
    "cell_style": "split"
   },
   "outputs": [
    {
     "name": "stdout",
     "output_type": "stream",
     "text": [
      "cos_θ = 0.49999999999999994\n",
      "cos(ϕ - pi / 2) = 0.4999999999999999\n"
     ]
    }
   ],
   "source": [
    "ϕ = pi/6\n",
    "y = [cos(ϕ), sin(ϕ)]\n",
    "cos_θ = x'*y / (norm(x) * norm(y))\n",
    "@show cos_θ\n",
    "@show cos(ϕ-pi/2);"
   ]
  },
  {
   "cell_type": "markdown",
   "id": "239ef511",
   "metadata": {
    "slideshow": {
     "slide_type": "slide"
    }
   },
   "source": [
    "# Polynomials can be orthogonal too!\n"
   ]
  },
  {
   "cell_type": "code",
   "execution_count": 39,
   "id": "95341495",
   "metadata": {
    "cell_style": "split"
   },
   "outputs": [
    {
     "data": {
      "image/svg+xml": [
       "<?xml version=\"1.0\" encoding=\"utf-8\"?>\n",
       "<svg xmlns=\"http://www.w3.org/2000/svg\" xmlns:xlink=\"http://www.w3.org/1999/xlink\" width=\"600\" height=\"400\" viewBox=\"0 0 2400 1600\">\n",
       "<defs>\n",
       "  <clipPath id=\"clip390\">\n",
       "    <rect x=\"0\" y=\"0\" width=\"2400\" height=\"1600\"/>\n",
       "  </clipPath>\n",
       "</defs>\n",
       "<path clip-path=\"url(#clip390)\" d=\"\n",
       "M0 1600 L2400 1600 L2400 0 L0 0  Z\n",
       "  \" fill=\"#ffffff\" fill-rule=\"evenodd\" fill-opacity=\"1\"/>\n",
       "<defs>\n",
       "  <clipPath id=\"clip391\">\n",
       "    <rect x=\"480\" y=\"0\" width=\"1681\" height=\"1600\"/>\n",
       "  </clipPath>\n",
       "</defs>\n",
       "<path clip-path=\"url(#clip390)\" d=\"\n",
       "M193.936 1486.45 L2352.76 1486.45 L2352.76 47.2441 L193.936 47.2441  Z\n",
       "  \" fill=\"#ffffff\" fill-rule=\"evenodd\" fill-opacity=\"1\"/>\n",
       "<defs>\n",
       "  <clipPath id=\"clip392\">\n",
       "    <rect x=\"193\" y=\"47\" width=\"2160\" height=\"1440\"/>\n",
       "  </clipPath>\n",
       "</defs>\n",
       "<polyline clip-path=\"url(#clip392)\" style=\"stroke:#000000; stroke-linecap:butt; stroke-linejoin:round; stroke-width:2; stroke-opacity:0.1; fill:none\" points=\"\n",
       "  255.035,1486.45 255.035,47.2441 \n",
       "  \"/>\n",
       "<polyline clip-path=\"url(#clip392)\" style=\"stroke:#000000; stroke-linecap:butt; stroke-linejoin:round; stroke-width:2; stroke-opacity:0.1; fill:none\" points=\"\n",
       "  764.19,1486.45 764.19,47.2441 \n",
       "  \"/>\n",
       "<polyline clip-path=\"url(#clip392)\" style=\"stroke:#000000; stroke-linecap:butt; stroke-linejoin:round; stroke-width:2; stroke-opacity:0.1; fill:none\" points=\"\n",
       "  1273.35,1486.45 1273.35,47.2441 \n",
       "  \"/>\n",
       "<polyline clip-path=\"url(#clip392)\" style=\"stroke:#000000; stroke-linecap:butt; stroke-linejoin:round; stroke-width:2; stroke-opacity:0.1; fill:none\" points=\"\n",
       "  1782.5,1486.45 1782.5,47.2441 \n",
       "  \"/>\n",
       "<polyline clip-path=\"url(#clip392)\" style=\"stroke:#000000; stroke-linecap:butt; stroke-linejoin:round; stroke-width:2; stroke-opacity:0.1; fill:none\" points=\"\n",
       "  2291.66,1486.45 2291.66,47.2441 \n",
       "  \"/>\n",
       "<polyline clip-path=\"url(#clip390)\" style=\"stroke:#000000; stroke-linecap:butt; stroke-linejoin:round; stroke-width:4; stroke-opacity:1; fill:none\" points=\"\n",
       "  193.936,1486.45 2352.76,1486.45 \n",
       "  \"/>\n",
       "<polyline clip-path=\"url(#clip390)\" style=\"stroke:#000000; stroke-linecap:butt; stroke-linejoin:round; stroke-width:4; stroke-opacity:1; fill:none\" points=\"\n",
       "  255.035,1486.45 255.035,1467.55 \n",
       "  \"/>\n",
       "<polyline clip-path=\"url(#clip390)\" style=\"stroke:#000000; stroke-linecap:butt; stroke-linejoin:round; stroke-width:4; stroke-opacity:1; fill:none\" points=\"\n",
       "  764.19,1486.45 764.19,1467.55 \n",
       "  \"/>\n",
       "<polyline clip-path=\"url(#clip390)\" style=\"stroke:#000000; stroke-linecap:butt; stroke-linejoin:round; stroke-width:4; stroke-opacity:1; fill:none\" points=\"\n",
       "  1273.35,1486.45 1273.35,1467.55 \n",
       "  \"/>\n",
       "<polyline clip-path=\"url(#clip390)\" style=\"stroke:#000000; stroke-linecap:butt; stroke-linejoin:round; stroke-width:4; stroke-opacity:1; fill:none\" points=\"\n",
       "  1782.5,1486.45 1782.5,1467.55 \n",
       "  \"/>\n",
       "<polyline clip-path=\"url(#clip390)\" style=\"stroke:#000000; stroke-linecap:butt; stroke-linejoin:round; stroke-width:4; stroke-opacity:1; fill:none\" points=\"\n",
       "  2291.66,1486.45 2291.66,1467.55 \n",
       "  \"/>\n",
       "<path clip-path=\"url(#clip390)\" d=\"M201.563 1532.02 L231.239 1532.02 L231.239 1535.95 L201.563 1535.95 L201.563 1532.02 Z\" fill=\"#000000\" fill-rule=\"evenodd\" fill-opacity=\"1\" /><path clip-path=\"url(#clip390)\" d=\"M242.141 1544.91 L249.78 1544.91 L249.78 1518.55 L241.47 1520.21 L241.47 1515.95 L249.734 1514.29 L254.41 1514.29 L254.41 1544.91 L262.049 1544.91 L262.049 1548.85 L242.141 1548.85 L242.141 1544.91 Z\" fill=\"#000000\" fill-rule=\"evenodd\" fill-opacity=\"1\" /><path clip-path=\"url(#clip390)\" d=\"M271.493 1542.97 L276.377 1542.97 L276.377 1548.85 L271.493 1548.85 L271.493 1542.97 Z\" fill=\"#000000\" fill-rule=\"evenodd\" fill-opacity=\"1\" /><path clip-path=\"url(#clip390)\" d=\"M296.562 1517.37 Q292.951 1517.37 291.122 1520.93 Q289.317 1524.47 289.317 1531.6 Q289.317 1538.71 291.122 1542.27 Q292.951 1545.82 296.562 1545.82 Q300.196 1545.82 302.002 1542.27 Q303.831 1538.71 303.831 1531.6 Q303.831 1524.47 302.002 1520.93 Q300.196 1517.37 296.562 1517.37 M296.562 1513.66 Q302.372 1513.66 305.428 1518.27 Q308.507 1522.85 308.507 1531.6 Q308.507 1540.33 305.428 1544.94 Q302.372 1549.52 296.562 1549.52 Q290.752 1549.52 287.673 1544.94 Q284.618 1540.33 284.618 1531.6 Q284.618 1522.85 287.673 1518.27 Q290.752 1513.66 296.562 1513.66 Z\" fill=\"#000000\" fill-rule=\"evenodd\" fill-opacity=\"1\" /><path clip-path=\"url(#clip390)\" d=\"M711.216 1532.02 L740.892 1532.02 L740.892 1535.95 L711.216 1535.95 L711.216 1532.02 Z\" fill=\"#000000\" fill-rule=\"evenodd\" fill-opacity=\"1\" /><path clip-path=\"url(#clip390)\" d=\"M760.984 1517.37 Q757.373 1517.37 755.545 1520.93 Q753.739 1524.47 753.739 1531.6 Q753.739 1538.71 755.545 1542.27 Q757.373 1545.82 760.984 1545.82 Q764.619 1545.82 766.424 1542.27 Q768.253 1538.71 768.253 1531.6 Q768.253 1524.47 766.424 1520.93 Q764.619 1517.37 760.984 1517.37 M760.984 1513.66 Q766.794 1513.66 769.85 1518.27 Q772.929 1522.85 772.929 1531.6 Q772.929 1540.33 769.85 1544.94 Q766.794 1549.52 760.984 1549.52 Q755.174 1549.52 752.095 1544.94 Q749.04 1540.33 749.04 1531.6 Q749.04 1522.85 752.095 1518.27 Q755.174 1513.66 760.984 1513.66 Z\" fill=\"#000000\" fill-rule=\"evenodd\" fill-opacity=\"1\" /><path clip-path=\"url(#clip390)\" d=\"M781.146 1542.97 L786.03 1542.97 L786.03 1548.85 L781.146 1548.85 L781.146 1542.97 Z\" fill=\"#000000\" fill-rule=\"evenodd\" fill-opacity=\"1\" /><path clip-path=\"url(#clip390)\" d=\"M796.262 1514.29 L814.618 1514.29 L814.618 1518.22 L800.544 1518.22 L800.544 1526.7 Q801.563 1526.35 802.581 1526.19 Q803.6 1526 804.618 1526 Q810.405 1526 813.785 1529.17 Q817.165 1532.34 817.165 1537.76 Q817.165 1543.34 813.692 1546.44 Q810.22 1549.52 803.901 1549.52 Q801.725 1549.52 799.456 1549.15 Q797.211 1548.78 794.804 1548.04 L794.804 1543.34 Q796.887 1544.47 799.109 1545.03 Q801.331 1545.58 803.808 1545.58 Q807.813 1545.58 810.151 1543.48 Q812.489 1541.37 812.489 1537.76 Q812.489 1534.15 810.151 1532.04 Q807.813 1529.94 803.808 1529.94 Q801.933 1529.94 800.058 1530.35 Q798.206 1530.77 796.262 1531.65 L796.262 1514.29 Z\" fill=\"#000000\" fill-rule=\"evenodd\" fill-opacity=\"1\" /><path clip-path=\"url(#clip390)\" d=\"M1250.73 1517.37 Q1247.12 1517.37 1245.29 1520.93 Q1243.49 1524.47 1243.49 1531.6 Q1243.49 1538.71 1245.29 1542.27 Q1247.12 1545.82 1250.73 1545.82 Q1254.36 1545.82 1256.17 1542.27 Q1258 1538.71 1258 1531.6 Q1258 1524.47 1256.17 1520.93 Q1254.36 1517.37 1250.73 1517.37 M1250.73 1513.66 Q1256.54 1513.66 1259.6 1518.27 Q1262.67 1522.85 1262.67 1531.6 Q1262.67 1540.33 1259.6 1544.94 Q1256.54 1549.52 1250.73 1549.52 Q1244.92 1549.52 1241.84 1544.94 Q1238.79 1540.33 1238.79 1531.6 Q1238.79 1522.85 1241.84 1518.27 Q1244.92 1513.66 1250.73 1513.66 Z\" fill=\"#000000\" fill-rule=\"evenodd\" fill-opacity=\"1\" /><path clip-path=\"url(#clip390)\" d=\"M1270.89 1542.97 L1275.78 1542.97 L1275.78 1548.85 L1270.89 1548.85 L1270.89 1542.97 Z\" fill=\"#000000\" fill-rule=\"evenodd\" fill-opacity=\"1\" /><path clip-path=\"url(#clip390)\" d=\"M1295.96 1517.37 Q1292.35 1517.37 1290.52 1520.93 Q1288.72 1524.47 1288.72 1531.6 Q1288.72 1538.71 1290.52 1542.27 Q1292.35 1545.82 1295.96 1545.82 Q1299.6 1545.82 1301.4 1542.27 Q1303.23 1538.71 1303.23 1531.6 Q1303.23 1524.47 1301.4 1520.93 Q1299.6 1517.37 1295.96 1517.37 M1295.96 1513.66 Q1301.77 1513.66 1304.83 1518.27 Q1307.91 1522.85 1307.91 1531.6 Q1307.91 1540.33 1304.83 1544.94 Q1301.77 1549.52 1295.96 1549.52 Q1290.15 1549.52 1287.07 1544.94 Q1284.02 1540.33 1284.02 1531.6 Q1284.02 1522.85 1287.07 1518.27 Q1290.15 1513.66 1295.96 1513.66 Z\" fill=\"#000000\" fill-rule=\"evenodd\" fill-opacity=\"1\" /><path clip-path=\"url(#clip390)\" d=\"M1760.38 1517.37 Q1756.77 1517.37 1754.94 1520.93 Q1753.14 1524.47 1753.14 1531.6 Q1753.14 1538.71 1754.94 1542.27 Q1756.77 1545.82 1760.38 1545.82 Q1764.02 1545.82 1765.82 1542.27 Q1767.65 1538.71 1767.65 1531.6 Q1767.65 1524.47 1765.82 1520.93 Q1764.02 1517.37 1760.38 1517.37 M1760.38 1513.66 Q1766.19 1513.66 1769.25 1518.27 Q1772.33 1522.85 1772.33 1531.6 Q1772.33 1540.33 1769.25 1544.94 Q1766.19 1549.52 1760.38 1549.52 Q1754.57 1549.52 1751.49 1544.94 Q1748.44 1540.33 1748.44 1531.6 Q1748.44 1522.85 1751.49 1518.27 Q1754.57 1513.66 1760.38 1513.66 Z\" fill=\"#000000\" fill-rule=\"evenodd\" fill-opacity=\"1\" /><path clip-path=\"url(#clip390)\" d=\"M1780.55 1542.97 L1785.43 1542.97 L1785.43 1548.85 L1780.55 1548.85 L1780.55 1542.97 Z\" fill=\"#000000\" fill-rule=\"evenodd\" fill-opacity=\"1\" /><path clip-path=\"url(#clip390)\" d=\"M1795.66 1514.29 L1814.02 1514.29 L1814.02 1518.22 L1799.94 1518.22 L1799.94 1526.7 Q1800.96 1526.35 1801.98 1526.19 Q1803 1526 1804.02 1526 Q1809.8 1526 1813.18 1529.17 Q1816.56 1532.34 1816.56 1537.76 Q1816.56 1543.34 1813.09 1546.44 Q1809.62 1549.52 1803.3 1549.52 Q1801.12 1549.52 1798.86 1549.15 Q1796.61 1548.78 1794.2 1548.04 L1794.2 1543.34 Q1796.29 1544.47 1798.51 1545.03 Q1800.73 1545.58 1803.21 1545.58 Q1807.21 1545.58 1809.55 1543.48 Q1811.89 1541.37 1811.89 1537.76 Q1811.89 1534.15 1809.55 1532.04 Q1807.21 1529.94 1803.21 1529.94 Q1801.33 1529.94 1799.46 1530.35 Q1797.61 1530.77 1795.66 1531.65 L1795.66 1514.29 Z\" fill=\"#000000\" fill-rule=\"evenodd\" fill-opacity=\"1\" /><path clip-path=\"url(#clip390)\" d=\"M2258.81 1544.91 L2266.45 1544.91 L2266.45 1518.55 L2258.14 1520.21 L2258.14 1515.95 L2266.4 1514.29 L2271.08 1514.29 L2271.08 1544.91 L2278.72 1544.91 L2278.72 1548.85 L2258.81 1548.85 L2258.81 1544.91 Z\" fill=\"#000000\" fill-rule=\"evenodd\" fill-opacity=\"1\" /><path clip-path=\"url(#clip390)\" d=\"M2288.16 1542.97 L2293.05 1542.97 L2293.05 1548.85 L2288.16 1548.85 L2288.16 1542.97 Z\" fill=\"#000000\" fill-rule=\"evenodd\" fill-opacity=\"1\" /><path clip-path=\"url(#clip390)\" d=\"M2313.23 1517.37 Q2309.62 1517.37 2307.79 1520.93 Q2305.99 1524.47 2305.99 1531.6 Q2305.99 1538.71 2307.79 1542.27 Q2309.62 1545.82 2313.23 1545.82 Q2316.87 1545.82 2318.67 1542.27 Q2320.5 1538.71 2320.5 1531.6 Q2320.5 1524.47 2318.67 1520.93 Q2316.87 1517.37 2313.23 1517.37 M2313.23 1513.66 Q2319.04 1513.66 2322.1 1518.27 Q2325.18 1522.85 2325.18 1531.6 Q2325.18 1540.33 2322.1 1544.94 Q2319.04 1549.52 2313.23 1549.52 Q2307.42 1549.52 2304.34 1544.94 Q2301.29 1540.33 2301.29 1531.6 Q2301.29 1522.85 2304.34 1518.27 Q2307.42 1513.66 2313.23 1513.66 Z\" fill=\"#000000\" fill-rule=\"evenodd\" fill-opacity=\"1\" /><polyline clip-path=\"url(#clip392)\" style=\"stroke:#000000; stroke-linecap:butt; stroke-linejoin:round; stroke-width:2; stroke-opacity:0.1; fill:none\" points=\"\n",
       "  193.936,1445.72 2352.76,1445.72 \n",
       "  \"/>\n",
       "<polyline clip-path=\"url(#clip392)\" style=\"stroke:#000000; stroke-linecap:butt; stroke-linejoin:round; stroke-width:2; stroke-opacity:0.1; fill:none\" points=\"\n",
       "  193.936,1106.28 2352.76,1106.28 \n",
       "  \"/>\n",
       "<polyline clip-path=\"url(#clip392)\" style=\"stroke:#000000; stroke-linecap:butt; stroke-linejoin:round; stroke-width:2; stroke-opacity:0.1; fill:none\" points=\"\n",
       "  193.936,766.846 2352.76,766.846 \n",
       "  \"/>\n",
       "<polyline clip-path=\"url(#clip392)\" style=\"stroke:#000000; stroke-linecap:butt; stroke-linejoin:round; stroke-width:2; stroke-opacity:0.1; fill:none\" points=\"\n",
       "  193.936,427.411 2352.76,427.411 \n",
       "  \"/>\n",
       "<polyline clip-path=\"url(#clip392)\" style=\"stroke:#000000; stroke-linecap:butt; stroke-linejoin:round; stroke-width:2; stroke-opacity:0.1; fill:none\" points=\"\n",
       "  193.936,87.9763 2352.76,87.9763 \n",
       "  \"/>\n",
       "<polyline clip-path=\"url(#clip390)\" style=\"stroke:#000000; stroke-linecap:butt; stroke-linejoin:round; stroke-width:4; stroke-opacity:1; fill:none\" points=\"\n",
       "  193.936,1486.45 193.936,47.2441 \n",
       "  \"/>\n",
       "<polyline clip-path=\"url(#clip390)\" style=\"stroke:#000000; stroke-linecap:butt; stroke-linejoin:round; stroke-width:4; stroke-opacity:1; fill:none\" points=\"\n",
       "  193.936,1445.72 212.834,1445.72 \n",
       "  \"/>\n",
       "<polyline clip-path=\"url(#clip390)\" style=\"stroke:#000000; stroke-linecap:butt; stroke-linejoin:round; stroke-width:4; stroke-opacity:1; fill:none\" points=\"\n",
       "  193.936,1106.28 212.834,1106.28 \n",
       "  \"/>\n",
       "<polyline clip-path=\"url(#clip390)\" style=\"stroke:#000000; stroke-linecap:butt; stroke-linejoin:round; stroke-width:4; stroke-opacity:1; fill:none\" points=\"\n",
       "  193.936,766.846 212.834,766.846 \n",
       "  \"/>\n",
       "<polyline clip-path=\"url(#clip390)\" style=\"stroke:#000000; stroke-linecap:butt; stroke-linejoin:round; stroke-width:4; stroke-opacity:1; fill:none\" points=\"\n",
       "  193.936,427.411 212.834,427.411 \n",
       "  \"/>\n",
       "<polyline clip-path=\"url(#clip390)\" style=\"stroke:#000000; stroke-linecap:butt; stroke-linejoin:round; stroke-width:4; stroke-opacity:1; fill:none\" points=\"\n",
       "  193.936,87.9763 212.834,87.9763 \n",
       "  \"/>\n",
       "<path clip-path=\"url(#clip390)\" d=\"M50.9921 1446.17 L80.6679 1446.17 L80.6679 1450.1 L50.9921 1450.1 L50.9921 1446.17 Z\" fill=\"#000000\" fill-rule=\"evenodd\" fill-opacity=\"1\" /><path clip-path=\"url(#clip390)\" d=\"M91.5706 1459.06 L99.2095 1459.06 L99.2095 1432.69 L90.8993 1434.36 L90.8993 1430.1 L99.1632 1428.44 L103.839 1428.44 L103.839 1459.06 L111.478 1459.06 L111.478 1463 L91.5706 1463 L91.5706 1459.06 Z\" fill=\"#000000\" fill-rule=\"evenodd\" fill-opacity=\"1\" /><path clip-path=\"url(#clip390)\" d=\"M120.922 1457.12 L125.807 1457.12 L125.807 1463 L120.922 1463 L120.922 1457.12 Z\" fill=\"#000000\" fill-rule=\"evenodd\" fill-opacity=\"1\" /><path clip-path=\"url(#clip390)\" d=\"M145.992 1431.51 Q142.381 1431.51 140.552 1435.08 Q138.746 1438.62 138.746 1445.75 Q138.746 1452.86 140.552 1456.42 Q142.381 1459.96 145.992 1459.96 Q149.626 1459.96 151.431 1456.42 Q153.26 1452.86 153.26 1445.75 Q153.26 1438.62 151.431 1435.08 Q149.626 1431.51 145.992 1431.51 M145.992 1427.81 Q151.802 1427.81 154.857 1432.42 Q157.936 1437 157.936 1445.75 Q157.936 1454.48 154.857 1459.08 Q151.802 1463.67 145.992 1463.67 Q140.181 1463.67 137.103 1459.08 Q134.047 1454.48 134.047 1445.75 Q134.047 1437 137.103 1432.42 Q140.181 1427.81 145.992 1427.81 Z\" fill=\"#000000\" fill-rule=\"evenodd\" fill-opacity=\"1\" /><path clip-path=\"url(#clip390)\" d=\"M51.9875 1106.73 L81.6633 1106.73 L81.6633 1110.67 L51.9875 1110.67 L51.9875 1106.73 Z\" fill=\"#000000\" fill-rule=\"evenodd\" fill-opacity=\"1\" /><path clip-path=\"url(#clip390)\" d=\"M101.756 1092.08 Q98.1447 1092.08 96.316 1095.64 Q94.5104 1099.19 94.5104 1106.32 Q94.5104 1113.42 96.316 1116.99 Q98.1447 1120.53 101.756 1120.53 Q105.39 1120.53 107.196 1116.99 Q109.024 1113.42 109.024 1106.32 Q109.024 1099.19 107.196 1095.64 Q105.39 1092.08 101.756 1092.08 M101.756 1088.38 Q107.566 1088.38 110.621 1092.98 Q113.7 1097.57 113.7 1106.32 Q113.7 1115.04 110.621 1119.65 Q107.566 1124.23 101.756 1124.23 Q95.9456 1124.23 92.8669 1119.65 Q89.8114 1115.04 89.8114 1106.32 Q89.8114 1097.57 92.8669 1092.98 Q95.9456 1088.38 101.756 1088.38 Z\" fill=\"#000000\" fill-rule=\"evenodd\" fill-opacity=\"1\" /><path clip-path=\"url(#clip390)\" d=\"M121.918 1117.68 L126.802 1117.68 L126.802 1123.56 L121.918 1123.56 L121.918 1117.68 Z\" fill=\"#000000\" fill-rule=\"evenodd\" fill-opacity=\"1\" /><path clip-path=\"url(#clip390)\" d=\"M137.033 1089 L155.39 1089 L155.39 1092.94 L141.316 1092.94 L141.316 1101.41 Q142.334 1101.06 143.353 1100.9 Q144.371 1100.71 145.39 1100.71 Q151.177 1100.71 154.556 1103.89 Q157.936 1107.06 157.936 1112.47 Q157.936 1118.05 154.464 1121.15 Q150.992 1124.23 144.672 1124.23 Q142.496 1124.23 140.228 1123.86 Q137.982 1123.49 135.575 1122.75 L135.575 1118.05 Q137.658 1119.19 139.881 1119.74 Q142.103 1120.3 144.58 1120.3 Q148.584 1120.3 150.922 1118.19 Q153.26 1116.08 153.26 1112.47 Q153.26 1108.86 150.922 1106.76 Q148.584 1104.65 144.58 1104.65 Q142.705 1104.65 140.83 1105.07 Q138.978 1105.48 137.033 1106.36 L137.033 1089 Z\" fill=\"#000000\" fill-rule=\"evenodd\" fill-opacity=\"1\" /><path clip-path=\"url(#clip390)\" d=\"M100.76 752.645 Q97.1493 752.645 95.3206 756.209 Q93.515 759.751 93.515 766.881 Q93.515 773.987 95.3206 777.552 Q97.1493 781.094 100.76 781.094 Q104.395 781.094 106.2 777.552 Q108.029 773.987 108.029 766.881 Q108.029 759.751 106.2 756.209 Q104.395 752.645 100.76 752.645 M100.76 748.941 Q106.571 748.941 109.626 753.547 Q112.705 758.131 112.705 766.881 Q112.705 775.608 109.626 780.214 Q106.571 784.797 100.76 784.797 Q94.9502 784.797 91.8715 780.214 Q88.816 775.608 88.816 766.881 Q88.816 758.131 91.8715 753.547 Q94.9502 748.941 100.76 748.941 Z\" fill=\"#000000\" fill-rule=\"evenodd\" fill-opacity=\"1\" /><path clip-path=\"url(#clip390)\" d=\"M120.922 778.246 L125.807 778.246 L125.807 784.126 L120.922 784.126 L120.922 778.246 Z\" fill=\"#000000\" fill-rule=\"evenodd\" fill-opacity=\"1\" /><path clip-path=\"url(#clip390)\" d=\"M145.992 752.645 Q142.381 752.645 140.552 756.209 Q138.746 759.751 138.746 766.881 Q138.746 773.987 140.552 777.552 Q142.381 781.094 145.992 781.094 Q149.626 781.094 151.431 777.552 Q153.26 773.987 153.26 766.881 Q153.26 759.751 151.431 756.209 Q149.626 752.645 145.992 752.645 M145.992 748.941 Q151.802 748.941 154.857 753.547 Q157.936 758.131 157.936 766.881 Q157.936 775.608 154.857 780.214 Q151.802 784.797 145.992 784.797 Q140.181 784.797 137.103 780.214 Q134.047 775.608 134.047 766.881 Q134.047 758.131 137.103 753.547 Q140.181 748.941 145.992 748.941 Z\" fill=\"#000000\" fill-rule=\"evenodd\" fill-opacity=\"1\" /><path clip-path=\"url(#clip390)\" d=\"M101.756 413.21 Q98.1447 413.21 96.316 416.775 Q94.5104 420.316 94.5104 427.446 Q94.5104 434.552 96.316 438.117 Q98.1447 441.659 101.756 441.659 Q105.39 441.659 107.196 438.117 Q109.024 434.552 109.024 427.446 Q109.024 420.316 107.196 416.775 Q105.39 413.21 101.756 413.21 M101.756 409.506 Q107.566 409.506 110.621 414.113 Q113.7 418.696 113.7 427.446 Q113.7 436.173 110.621 440.779 Q107.566 445.362 101.756 445.362 Q95.9456 445.362 92.8669 440.779 Q89.8114 436.173 89.8114 427.446 Q89.8114 418.696 92.8669 414.113 Q95.9456 409.506 101.756 409.506 Z\" fill=\"#000000\" fill-rule=\"evenodd\" fill-opacity=\"1\" /><path clip-path=\"url(#clip390)\" d=\"M121.918 438.812 L126.802 438.812 L126.802 444.691 L121.918 444.691 L121.918 438.812 Z\" fill=\"#000000\" fill-rule=\"evenodd\" fill-opacity=\"1\" /><path clip-path=\"url(#clip390)\" d=\"M137.033 410.131 L155.39 410.131 L155.39 414.066 L141.316 414.066 L141.316 422.538 Q142.334 422.191 143.353 422.029 Q144.371 421.844 145.39 421.844 Q151.177 421.844 154.556 425.015 Q157.936 428.187 157.936 433.603 Q157.936 439.182 154.464 442.284 Q150.992 445.362 144.672 445.362 Q142.496 445.362 140.228 444.992 Q137.982 444.622 135.575 443.881 L135.575 439.182 Q137.658 440.316 139.881 440.872 Q142.103 441.427 144.58 441.427 Q148.584 441.427 150.922 439.321 Q153.26 437.214 153.26 433.603 Q153.26 429.992 150.922 427.886 Q148.584 425.779 144.58 425.779 Q142.705 425.779 140.83 426.196 Q138.978 426.613 137.033 427.492 L137.033 410.131 Z\" fill=\"#000000\" fill-rule=\"evenodd\" fill-opacity=\"1\" /><path clip-path=\"url(#clip390)\" d=\"M91.5706 101.321 L99.2095 101.321 L99.2095 74.9555 L90.8993 76.6222 L90.8993 72.3629 L99.1632 70.6963 L103.839 70.6963 L103.839 101.321 L111.478 101.321 L111.478 105.256 L91.5706 105.256 L91.5706 101.321 Z\" fill=\"#000000\" fill-rule=\"evenodd\" fill-opacity=\"1\" /><path clip-path=\"url(#clip390)\" d=\"M120.922 99.3767 L125.807 99.3767 L125.807 105.256 L120.922 105.256 L120.922 99.3767 Z\" fill=\"#000000\" fill-rule=\"evenodd\" fill-opacity=\"1\" /><path clip-path=\"url(#clip390)\" d=\"M145.992 73.775 Q142.381 73.775 140.552 77.3398 Q138.746 80.8814 138.746 88.011 Q138.746 95.1174 140.552 98.6822 Q142.381 102.224 145.992 102.224 Q149.626 102.224 151.431 98.6822 Q153.26 95.1174 153.26 88.011 Q153.26 80.8814 151.431 77.3398 Q149.626 73.775 145.992 73.775 M145.992 70.0713 Q151.802 70.0713 154.857 74.6777 Q157.936 79.261 157.936 88.011 Q157.936 96.7378 154.857 101.344 Q151.802 105.928 145.992 105.928 Q140.181 105.928 137.103 101.344 Q134.047 96.7378 134.047 88.011 Q134.047 79.261 137.103 74.6777 Q140.181 70.0713 145.992 70.0713 Z\" fill=\"#000000\" fill-rule=\"evenodd\" fill-opacity=\"1\" /><circle clip-path=\"url(#clip392)\" cx=\"255.035\" cy=\"427.411\" r=\"14\" fill=\"#009af9\" fill-rule=\"evenodd\" fill-opacity=\"1\" stroke=\"#000000\" stroke-opacity=\"1\" stroke-width=\"3.2\"/>\n",
       "<circle clip-path=\"url(#clip392)\" cx=\"296.598\" cy=\"427.411\" r=\"14\" fill=\"#009af9\" fill-rule=\"evenodd\" fill-opacity=\"1\" stroke=\"#000000\" stroke-opacity=\"1\" stroke-width=\"3.2\"/>\n",
       "<circle clip-path=\"url(#clip392)\" cx=\"338.162\" cy=\"427.411\" r=\"14\" fill=\"#009af9\" fill-rule=\"evenodd\" fill-opacity=\"1\" stroke=\"#000000\" stroke-opacity=\"1\" stroke-width=\"3.2\"/>\n",
       "<circle clip-path=\"url(#clip392)\" cx=\"379.726\" cy=\"427.411\" r=\"14\" fill=\"#009af9\" fill-rule=\"evenodd\" fill-opacity=\"1\" stroke=\"#000000\" stroke-opacity=\"1\" stroke-width=\"3.2\"/>\n",
       "<circle clip-path=\"url(#clip392)\" cx=\"421.29\" cy=\"427.411\" r=\"14\" fill=\"#009af9\" fill-rule=\"evenodd\" fill-opacity=\"1\" stroke=\"#000000\" stroke-opacity=\"1\" stroke-width=\"3.2\"/>\n",
       "<circle clip-path=\"url(#clip392)\" cx=\"462.853\" cy=\"427.411\" r=\"14\" fill=\"#009af9\" fill-rule=\"evenodd\" fill-opacity=\"1\" stroke=\"#000000\" stroke-opacity=\"1\" stroke-width=\"3.2\"/>\n",
       "<circle clip-path=\"url(#clip392)\" cx=\"504.417\" cy=\"427.411\" r=\"14\" fill=\"#009af9\" fill-rule=\"evenodd\" fill-opacity=\"1\" stroke=\"#000000\" stroke-opacity=\"1\" stroke-width=\"3.2\"/>\n",
       "<circle clip-path=\"url(#clip392)\" cx=\"545.981\" cy=\"427.411\" r=\"14\" fill=\"#009af9\" fill-rule=\"evenodd\" fill-opacity=\"1\" stroke=\"#000000\" stroke-opacity=\"1\" stroke-width=\"3.2\"/>\n",
       "<circle clip-path=\"url(#clip392)\" cx=\"587.544\" cy=\"427.411\" r=\"14\" fill=\"#009af9\" fill-rule=\"evenodd\" fill-opacity=\"1\" stroke=\"#000000\" stroke-opacity=\"1\" stroke-width=\"3.2\"/>\n",
       "<circle clip-path=\"url(#clip392)\" cx=\"629.108\" cy=\"427.411\" r=\"14\" fill=\"#009af9\" fill-rule=\"evenodd\" fill-opacity=\"1\" stroke=\"#000000\" stroke-opacity=\"1\" stroke-width=\"3.2\"/>\n",
       "<circle clip-path=\"url(#clip392)\" cx=\"670.672\" cy=\"427.411\" r=\"14\" fill=\"#009af9\" fill-rule=\"evenodd\" fill-opacity=\"1\" stroke=\"#000000\" stroke-opacity=\"1\" stroke-width=\"3.2\"/>\n",
       "<circle clip-path=\"url(#clip392)\" cx=\"712.236\" cy=\"427.411\" r=\"14\" fill=\"#009af9\" fill-rule=\"evenodd\" fill-opacity=\"1\" stroke=\"#000000\" stroke-opacity=\"1\" stroke-width=\"3.2\"/>\n",
       "<circle clip-path=\"url(#clip392)\" cx=\"753.799\" cy=\"427.411\" r=\"14\" fill=\"#009af9\" fill-rule=\"evenodd\" fill-opacity=\"1\" stroke=\"#000000\" stroke-opacity=\"1\" stroke-width=\"3.2\"/>\n",
       "<circle clip-path=\"url(#clip392)\" cx=\"795.363\" cy=\"427.411\" r=\"14\" fill=\"#009af9\" fill-rule=\"evenodd\" fill-opacity=\"1\" stroke=\"#000000\" stroke-opacity=\"1\" stroke-width=\"3.2\"/>\n",
       "<circle clip-path=\"url(#clip392)\" cx=\"836.927\" cy=\"427.411\" r=\"14\" fill=\"#009af9\" fill-rule=\"evenodd\" fill-opacity=\"1\" stroke=\"#000000\" stroke-opacity=\"1\" stroke-width=\"3.2\"/>\n",
       "<circle clip-path=\"url(#clip392)\" cx=\"878.491\" cy=\"427.411\" r=\"14\" fill=\"#009af9\" fill-rule=\"evenodd\" fill-opacity=\"1\" stroke=\"#000000\" stroke-opacity=\"1\" stroke-width=\"3.2\"/>\n",
       "<circle clip-path=\"url(#clip392)\" cx=\"920.054\" cy=\"427.411\" r=\"14\" fill=\"#009af9\" fill-rule=\"evenodd\" fill-opacity=\"1\" stroke=\"#000000\" stroke-opacity=\"1\" stroke-width=\"3.2\"/>\n",
       "<circle clip-path=\"url(#clip392)\" cx=\"961.618\" cy=\"427.411\" r=\"14\" fill=\"#009af9\" fill-rule=\"evenodd\" fill-opacity=\"1\" stroke=\"#000000\" stroke-opacity=\"1\" stroke-width=\"3.2\"/>\n",
       "<circle clip-path=\"url(#clip392)\" cx=\"1003.18\" cy=\"427.411\" r=\"14\" fill=\"#009af9\" fill-rule=\"evenodd\" fill-opacity=\"1\" stroke=\"#000000\" stroke-opacity=\"1\" stroke-width=\"3.2\"/>\n",
       "<circle clip-path=\"url(#clip392)\" cx=\"1044.75\" cy=\"427.411\" r=\"14\" fill=\"#009af9\" fill-rule=\"evenodd\" fill-opacity=\"1\" stroke=\"#000000\" stroke-opacity=\"1\" stroke-width=\"3.2\"/>\n",
       "<circle clip-path=\"url(#clip392)\" cx=\"1086.31\" cy=\"427.411\" r=\"14\" fill=\"#009af9\" fill-rule=\"evenodd\" fill-opacity=\"1\" stroke=\"#000000\" stroke-opacity=\"1\" stroke-width=\"3.2\"/>\n",
       "<circle clip-path=\"url(#clip392)\" cx=\"1127.87\" cy=\"427.411\" r=\"14\" fill=\"#009af9\" fill-rule=\"evenodd\" fill-opacity=\"1\" stroke=\"#000000\" stroke-opacity=\"1\" stroke-width=\"3.2\"/>\n",
       "<circle clip-path=\"url(#clip392)\" cx=\"1169.44\" cy=\"427.411\" r=\"14\" fill=\"#009af9\" fill-rule=\"evenodd\" fill-opacity=\"1\" stroke=\"#000000\" stroke-opacity=\"1\" stroke-width=\"3.2\"/>\n",
       "<circle clip-path=\"url(#clip392)\" cx=\"1211\" cy=\"427.411\" r=\"14\" fill=\"#009af9\" fill-rule=\"evenodd\" fill-opacity=\"1\" stroke=\"#000000\" stroke-opacity=\"1\" stroke-width=\"3.2\"/>\n",
       "<circle clip-path=\"url(#clip392)\" cx=\"1252.56\" cy=\"427.411\" r=\"14\" fill=\"#009af9\" fill-rule=\"evenodd\" fill-opacity=\"1\" stroke=\"#000000\" stroke-opacity=\"1\" stroke-width=\"3.2\"/>\n",
       "<circle clip-path=\"url(#clip392)\" cx=\"1294.13\" cy=\"427.411\" r=\"14\" fill=\"#009af9\" fill-rule=\"evenodd\" fill-opacity=\"1\" stroke=\"#000000\" stroke-opacity=\"1\" stroke-width=\"3.2\"/>\n",
       "<circle clip-path=\"url(#clip392)\" cx=\"1335.69\" cy=\"427.411\" r=\"14\" fill=\"#009af9\" fill-rule=\"evenodd\" fill-opacity=\"1\" stroke=\"#000000\" stroke-opacity=\"1\" stroke-width=\"3.2\"/>\n",
       "<circle clip-path=\"url(#clip392)\" cx=\"1377.26\" cy=\"427.411\" r=\"14\" fill=\"#009af9\" fill-rule=\"evenodd\" fill-opacity=\"1\" stroke=\"#000000\" stroke-opacity=\"1\" stroke-width=\"3.2\"/>\n",
       "<circle clip-path=\"url(#clip392)\" cx=\"1418.82\" cy=\"427.411\" r=\"14\" fill=\"#009af9\" fill-rule=\"evenodd\" fill-opacity=\"1\" stroke=\"#000000\" stroke-opacity=\"1\" stroke-width=\"3.2\"/>\n",
       "<circle clip-path=\"url(#clip392)\" cx=\"1460.38\" cy=\"427.411\" r=\"14\" fill=\"#009af9\" fill-rule=\"evenodd\" fill-opacity=\"1\" stroke=\"#000000\" stroke-opacity=\"1\" stroke-width=\"3.2\"/>\n",
       "<circle clip-path=\"url(#clip392)\" cx=\"1501.95\" cy=\"427.411\" r=\"14\" fill=\"#009af9\" fill-rule=\"evenodd\" fill-opacity=\"1\" stroke=\"#000000\" stroke-opacity=\"1\" stroke-width=\"3.2\"/>\n",
       "<circle clip-path=\"url(#clip392)\" cx=\"1543.51\" cy=\"427.411\" r=\"14\" fill=\"#009af9\" fill-rule=\"evenodd\" fill-opacity=\"1\" stroke=\"#000000\" stroke-opacity=\"1\" stroke-width=\"3.2\"/>\n",
       "<circle clip-path=\"url(#clip392)\" cx=\"1585.07\" cy=\"427.411\" r=\"14\" fill=\"#009af9\" fill-rule=\"evenodd\" fill-opacity=\"1\" stroke=\"#000000\" stroke-opacity=\"1\" stroke-width=\"3.2\"/>\n",
       "<circle clip-path=\"url(#clip392)\" cx=\"1626.64\" cy=\"427.411\" r=\"14\" fill=\"#009af9\" fill-rule=\"evenodd\" fill-opacity=\"1\" stroke=\"#000000\" stroke-opacity=\"1\" stroke-width=\"3.2\"/>\n",
       "<circle clip-path=\"url(#clip392)\" cx=\"1668.2\" cy=\"427.411\" r=\"14\" fill=\"#009af9\" fill-rule=\"evenodd\" fill-opacity=\"1\" stroke=\"#000000\" stroke-opacity=\"1\" stroke-width=\"3.2\"/>\n",
       "<circle clip-path=\"url(#clip392)\" cx=\"1709.77\" cy=\"427.411\" r=\"14\" fill=\"#009af9\" fill-rule=\"evenodd\" fill-opacity=\"1\" stroke=\"#000000\" stroke-opacity=\"1\" stroke-width=\"3.2\"/>\n",
       "<circle clip-path=\"url(#clip392)\" cx=\"1751.33\" cy=\"427.411\" r=\"14\" fill=\"#009af9\" fill-rule=\"evenodd\" fill-opacity=\"1\" stroke=\"#000000\" stroke-opacity=\"1\" stroke-width=\"3.2\"/>\n",
       "<circle clip-path=\"url(#clip392)\" cx=\"1792.89\" cy=\"427.411\" r=\"14\" fill=\"#009af9\" fill-rule=\"evenodd\" fill-opacity=\"1\" stroke=\"#000000\" stroke-opacity=\"1\" stroke-width=\"3.2\"/>\n",
       "<circle clip-path=\"url(#clip392)\" cx=\"1834.46\" cy=\"427.411\" r=\"14\" fill=\"#009af9\" fill-rule=\"evenodd\" fill-opacity=\"1\" stroke=\"#000000\" stroke-opacity=\"1\" stroke-width=\"3.2\"/>\n",
       "<circle clip-path=\"url(#clip392)\" cx=\"1876.02\" cy=\"427.411\" r=\"14\" fill=\"#009af9\" fill-rule=\"evenodd\" fill-opacity=\"1\" stroke=\"#000000\" stroke-opacity=\"1\" stroke-width=\"3.2\"/>\n",
       "<circle clip-path=\"url(#clip392)\" cx=\"1917.58\" cy=\"427.411\" r=\"14\" fill=\"#009af9\" fill-rule=\"evenodd\" fill-opacity=\"1\" stroke=\"#000000\" stroke-opacity=\"1\" stroke-width=\"3.2\"/>\n",
       "<circle clip-path=\"url(#clip392)\" cx=\"1959.15\" cy=\"427.411\" r=\"14\" fill=\"#009af9\" fill-rule=\"evenodd\" fill-opacity=\"1\" stroke=\"#000000\" stroke-opacity=\"1\" stroke-width=\"3.2\"/>\n",
       "<circle clip-path=\"url(#clip392)\" cx=\"2000.71\" cy=\"427.411\" r=\"14\" fill=\"#009af9\" fill-rule=\"evenodd\" fill-opacity=\"1\" stroke=\"#000000\" stroke-opacity=\"1\" stroke-width=\"3.2\"/>\n",
       "<circle clip-path=\"url(#clip392)\" cx=\"2042.27\" cy=\"427.411\" r=\"14\" fill=\"#009af9\" fill-rule=\"evenodd\" fill-opacity=\"1\" stroke=\"#000000\" stroke-opacity=\"1\" stroke-width=\"3.2\"/>\n",
       "<circle clip-path=\"url(#clip392)\" cx=\"2083.84\" cy=\"427.411\" r=\"14\" fill=\"#009af9\" fill-rule=\"evenodd\" fill-opacity=\"1\" stroke=\"#000000\" stroke-opacity=\"1\" stroke-width=\"3.2\"/>\n",
       "<circle clip-path=\"url(#clip392)\" cx=\"2125.4\" cy=\"427.411\" r=\"14\" fill=\"#009af9\" fill-rule=\"evenodd\" fill-opacity=\"1\" stroke=\"#000000\" stroke-opacity=\"1\" stroke-width=\"3.2\"/>\n",
       "<circle clip-path=\"url(#clip392)\" cx=\"2166.97\" cy=\"427.411\" r=\"14\" fill=\"#009af9\" fill-rule=\"evenodd\" fill-opacity=\"1\" stroke=\"#000000\" stroke-opacity=\"1\" stroke-width=\"3.2\"/>\n",
       "<circle clip-path=\"url(#clip392)\" cx=\"2208.53\" cy=\"427.411\" r=\"14\" fill=\"#009af9\" fill-rule=\"evenodd\" fill-opacity=\"1\" stroke=\"#000000\" stroke-opacity=\"1\" stroke-width=\"3.2\"/>\n",
       "<circle clip-path=\"url(#clip392)\" cx=\"2250.09\" cy=\"427.411\" r=\"14\" fill=\"#009af9\" fill-rule=\"evenodd\" fill-opacity=\"1\" stroke=\"#000000\" stroke-opacity=\"1\" stroke-width=\"3.2\"/>\n",
       "<circle clip-path=\"url(#clip392)\" cx=\"2291.66\" cy=\"427.411\" r=\"14\" fill=\"#009af9\" fill-rule=\"evenodd\" fill-opacity=\"1\" stroke=\"#000000\" stroke-opacity=\"1\" stroke-width=\"3.2\"/>\n",
       "<circle clip-path=\"url(#clip392)\" cx=\"255.035\" cy=\"1445.72\" r=\"14\" fill=\"#e26f46\" fill-rule=\"evenodd\" fill-opacity=\"1\" stroke=\"#000000\" stroke-opacity=\"1\" stroke-width=\"3.2\"/>\n",
       "<circle clip-path=\"url(#clip392)\" cx=\"296.598\" cy=\"1418.01\" r=\"14\" fill=\"#e26f46\" fill-rule=\"evenodd\" fill-opacity=\"1\" stroke=\"#000000\" stroke-opacity=\"1\" stroke-width=\"3.2\"/>\n",
       "<circle clip-path=\"url(#clip392)\" cx=\"338.162\" cy=\"1390.3\" r=\"14\" fill=\"#e26f46\" fill-rule=\"evenodd\" fill-opacity=\"1\" stroke=\"#000000\" stroke-opacity=\"1\" stroke-width=\"3.2\"/>\n",
       "<circle clip-path=\"url(#clip392)\" cx=\"379.726\" cy=\"1362.59\" r=\"14\" fill=\"#e26f46\" fill-rule=\"evenodd\" fill-opacity=\"1\" stroke=\"#000000\" stroke-opacity=\"1\" stroke-width=\"3.2\"/>\n",
       "<circle clip-path=\"url(#clip392)\" cx=\"421.29\" cy=\"1334.88\" r=\"14\" fill=\"#e26f46\" fill-rule=\"evenodd\" fill-opacity=\"1\" stroke=\"#000000\" stroke-opacity=\"1\" stroke-width=\"3.2\"/>\n",
       "<circle clip-path=\"url(#clip392)\" cx=\"462.853\" cy=\"1307.17\" r=\"14\" fill=\"#e26f46\" fill-rule=\"evenodd\" fill-opacity=\"1\" stroke=\"#000000\" stroke-opacity=\"1\" stroke-width=\"3.2\"/>\n",
       "<circle clip-path=\"url(#clip392)\" cx=\"504.417\" cy=\"1279.46\" r=\"14\" fill=\"#e26f46\" fill-rule=\"evenodd\" fill-opacity=\"1\" stroke=\"#000000\" stroke-opacity=\"1\" stroke-width=\"3.2\"/>\n",
       "<circle clip-path=\"url(#clip392)\" cx=\"545.981\" cy=\"1251.75\" r=\"14\" fill=\"#e26f46\" fill-rule=\"evenodd\" fill-opacity=\"1\" stroke=\"#000000\" stroke-opacity=\"1\" stroke-width=\"3.2\"/>\n",
       "<circle clip-path=\"url(#clip392)\" cx=\"587.544\" cy=\"1224.04\" r=\"14\" fill=\"#e26f46\" fill-rule=\"evenodd\" fill-opacity=\"1\" stroke=\"#000000\" stroke-opacity=\"1\" stroke-width=\"3.2\"/>\n",
       "<circle clip-path=\"url(#clip392)\" cx=\"629.108\" cy=\"1196.33\" r=\"14\" fill=\"#e26f46\" fill-rule=\"evenodd\" fill-opacity=\"1\" stroke=\"#000000\" stroke-opacity=\"1\" stroke-width=\"3.2\"/>\n",
       "<circle clip-path=\"url(#clip392)\" cx=\"670.672\" cy=\"1168.63\" r=\"14\" fill=\"#e26f46\" fill-rule=\"evenodd\" fill-opacity=\"1\" stroke=\"#000000\" stroke-opacity=\"1\" stroke-width=\"3.2\"/>\n",
       "<circle clip-path=\"url(#clip392)\" cx=\"712.236\" cy=\"1140.92\" r=\"14\" fill=\"#e26f46\" fill-rule=\"evenodd\" fill-opacity=\"1\" stroke=\"#000000\" stroke-opacity=\"1\" stroke-width=\"3.2\"/>\n",
       "<circle clip-path=\"url(#clip392)\" cx=\"753.799\" cy=\"1113.21\" r=\"14\" fill=\"#e26f46\" fill-rule=\"evenodd\" fill-opacity=\"1\" stroke=\"#000000\" stroke-opacity=\"1\" stroke-width=\"3.2\"/>\n",
       "<circle clip-path=\"url(#clip392)\" cx=\"795.363\" cy=\"1085.5\" r=\"14\" fill=\"#e26f46\" fill-rule=\"evenodd\" fill-opacity=\"1\" stroke=\"#000000\" stroke-opacity=\"1\" stroke-width=\"3.2\"/>\n",
       "<circle clip-path=\"url(#clip392)\" cx=\"836.927\" cy=\"1057.79\" r=\"14\" fill=\"#e26f46\" fill-rule=\"evenodd\" fill-opacity=\"1\" stroke=\"#000000\" stroke-opacity=\"1\" stroke-width=\"3.2\"/>\n",
       "<circle clip-path=\"url(#clip392)\" cx=\"878.491\" cy=\"1030.08\" r=\"14\" fill=\"#e26f46\" fill-rule=\"evenodd\" fill-opacity=\"1\" stroke=\"#000000\" stroke-opacity=\"1\" stroke-width=\"3.2\"/>\n",
       "<circle clip-path=\"url(#clip392)\" cx=\"920.054\" cy=\"1002.37\" r=\"14\" fill=\"#e26f46\" fill-rule=\"evenodd\" fill-opacity=\"1\" stroke=\"#000000\" stroke-opacity=\"1\" stroke-width=\"3.2\"/>\n",
       "<circle clip-path=\"url(#clip392)\" cx=\"961.618\" cy=\"974.663\" r=\"14\" fill=\"#e26f46\" fill-rule=\"evenodd\" fill-opacity=\"1\" stroke=\"#000000\" stroke-opacity=\"1\" stroke-width=\"3.2\"/>\n",
       "<circle clip-path=\"url(#clip392)\" cx=\"1003.18\" cy=\"946.954\" r=\"14\" fill=\"#e26f46\" fill-rule=\"evenodd\" fill-opacity=\"1\" stroke=\"#000000\" stroke-opacity=\"1\" stroke-width=\"3.2\"/>\n",
       "<circle clip-path=\"url(#clip392)\" cx=\"1044.75\" cy=\"919.245\" r=\"14\" fill=\"#e26f46\" fill-rule=\"evenodd\" fill-opacity=\"1\" stroke=\"#000000\" stroke-opacity=\"1\" stroke-width=\"3.2\"/>\n",
       "<circle clip-path=\"url(#clip392)\" cx=\"1086.31\" cy=\"891.536\" r=\"14\" fill=\"#e26f46\" fill-rule=\"evenodd\" fill-opacity=\"1\" stroke=\"#000000\" stroke-opacity=\"1\" stroke-width=\"3.2\"/>\n",
       "<circle clip-path=\"url(#clip392)\" cx=\"1127.87\" cy=\"863.827\" r=\"14\" fill=\"#e26f46\" fill-rule=\"evenodd\" fill-opacity=\"1\" stroke=\"#000000\" stroke-opacity=\"1\" stroke-width=\"3.2\"/>\n",
       "<circle clip-path=\"url(#clip392)\" cx=\"1169.44\" cy=\"836.118\" r=\"14\" fill=\"#e26f46\" fill-rule=\"evenodd\" fill-opacity=\"1\" stroke=\"#000000\" stroke-opacity=\"1\" stroke-width=\"3.2\"/>\n",
       "<circle clip-path=\"url(#clip392)\" cx=\"1211\" cy=\"808.409\" r=\"14\" fill=\"#e26f46\" fill-rule=\"evenodd\" fill-opacity=\"1\" stroke=\"#000000\" stroke-opacity=\"1\" stroke-width=\"3.2\"/>\n",
       "<circle clip-path=\"url(#clip392)\" cx=\"1252.56\" cy=\"780.7\" r=\"14\" fill=\"#e26f46\" fill-rule=\"evenodd\" fill-opacity=\"1\" stroke=\"#000000\" stroke-opacity=\"1\" stroke-width=\"3.2\"/>\n",
       "<circle clip-path=\"url(#clip392)\" cx=\"1294.13\" cy=\"752.992\" r=\"14\" fill=\"#e26f46\" fill-rule=\"evenodd\" fill-opacity=\"1\" stroke=\"#000000\" stroke-opacity=\"1\" stroke-width=\"3.2\"/>\n",
       "<circle clip-path=\"url(#clip392)\" cx=\"1335.69\" cy=\"725.283\" r=\"14\" fill=\"#e26f46\" fill-rule=\"evenodd\" fill-opacity=\"1\" stroke=\"#000000\" stroke-opacity=\"1\" stroke-width=\"3.2\"/>\n",
       "<circle clip-path=\"url(#clip392)\" cx=\"1377.26\" cy=\"697.574\" r=\"14\" fill=\"#e26f46\" fill-rule=\"evenodd\" fill-opacity=\"1\" stroke=\"#000000\" stroke-opacity=\"1\" stroke-width=\"3.2\"/>\n",
       "<circle clip-path=\"url(#clip392)\" cx=\"1418.82\" cy=\"669.865\" r=\"14\" fill=\"#e26f46\" fill-rule=\"evenodd\" fill-opacity=\"1\" stroke=\"#000000\" stroke-opacity=\"1\" stroke-width=\"3.2\"/>\n",
       "<circle clip-path=\"url(#clip392)\" cx=\"1460.38\" cy=\"642.156\" r=\"14\" fill=\"#e26f46\" fill-rule=\"evenodd\" fill-opacity=\"1\" stroke=\"#000000\" stroke-opacity=\"1\" stroke-width=\"3.2\"/>\n",
       "<circle clip-path=\"url(#clip392)\" cx=\"1501.95\" cy=\"614.447\" r=\"14\" fill=\"#e26f46\" fill-rule=\"evenodd\" fill-opacity=\"1\" stroke=\"#000000\" stroke-opacity=\"1\" stroke-width=\"3.2\"/>\n",
       "<circle clip-path=\"url(#clip392)\" cx=\"1543.51\" cy=\"586.738\" r=\"14\" fill=\"#e26f46\" fill-rule=\"evenodd\" fill-opacity=\"1\" stroke=\"#000000\" stroke-opacity=\"1\" stroke-width=\"3.2\"/>\n",
       "<circle clip-path=\"url(#clip392)\" cx=\"1585.07\" cy=\"559.029\" r=\"14\" fill=\"#e26f46\" fill-rule=\"evenodd\" fill-opacity=\"1\" stroke=\"#000000\" stroke-opacity=\"1\" stroke-width=\"3.2\"/>\n",
       "<circle clip-path=\"url(#clip392)\" cx=\"1626.64\" cy=\"531.32\" r=\"14\" fill=\"#e26f46\" fill-rule=\"evenodd\" fill-opacity=\"1\" stroke=\"#000000\" stroke-opacity=\"1\" stroke-width=\"3.2\"/>\n",
       "<circle clip-path=\"url(#clip392)\" cx=\"1668.2\" cy=\"503.611\" r=\"14\" fill=\"#e26f46\" fill-rule=\"evenodd\" fill-opacity=\"1\" stroke=\"#000000\" stroke-opacity=\"1\" stroke-width=\"3.2\"/>\n",
       "<circle clip-path=\"url(#clip392)\" cx=\"1709.77\" cy=\"475.902\" r=\"14\" fill=\"#e26f46\" fill-rule=\"evenodd\" fill-opacity=\"1\" stroke=\"#000000\" stroke-opacity=\"1\" stroke-width=\"3.2\"/>\n",
       "<circle clip-path=\"url(#clip392)\" cx=\"1751.33\" cy=\"448.193\" r=\"14\" fill=\"#e26f46\" fill-rule=\"evenodd\" fill-opacity=\"1\" stroke=\"#000000\" stroke-opacity=\"1\" stroke-width=\"3.2\"/>\n",
       "<circle clip-path=\"url(#clip392)\" cx=\"1792.89\" cy=\"420.484\" r=\"14\" fill=\"#e26f46\" fill-rule=\"evenodd\" fill-opacity=\"1\" stroke=\"#000000\" stroke-opacity=\"1\" stroke-width=\"3.2\"/>\n",
       "<circle clip-path=\"url(#clip392)\" cx=\"1834.46\" cy=\"392.775\" r=\"14\" fill=\"#e26f46\" fill-rule=\"evenodd\" fill-opacity=\"1\" stroke=\"#000000\" stroke-opacity=\"1\" stroke-width=\"3.2\"/>\n",
       "<circle clip-path=\"url(#clip392)\" cx=\"1876.02\" cy=\"365.066\" r=\"14\" fill=\"#e26f46\" fill-rule=\"evenodd\" fill-opacity=\"1\" stroke=\"#000000\" stroke-opacity=\"1\" stroke-width=\"3.2\"/>\n",
       "<circle clip-path=\"url(#clip392)\" cx=\"1917.58\" cy=\"337.357\" r=\"14\" fill=\"#e26f46\" fill-rule=\"evenodd\" fill-opacity=\"1\" stroke=\"#000000\" stroke-opacity=\"1\" stroke-width=\"3.2\"/>\n",
       "<circle clip-path=\"url(#clip392)\" cx=\"1959.15\" cy=\"309.648\" r=\"14\" fill=\"#e26f46\" fill-rule=\"evenodd\" fill-opacity=\"1\" stroke=\"#000000\" stroke-opacity=\"1\" stroke-width=\"3.2\"/>\n",
       "<circle clip-path=\"url(#clip392)\" cx=\"2000.71\" cy=\"281.939\" r=\"14\" fill=\"#e26f46\" fill-rule=\"evenodd\" fill-opacity=\"1\" stroke=\"#000000\" stroke-opacity=\"1\" stroke-width=\"3.2\"/>\n",
       "<circle clip-path=\"url(#clip392)\" cx=\"2042.27\" cy=\"254.23\" r=\"14\" fill=\"#e26f46\" fill-rule=\"evenodd\" fill-opacity=\"1\" stroke=\"#000000\" stroke-opacity=\"1\" stroke-width=\"3.2\"/>\n",
       "<circle clip-path=\"url(#clip392)\" cx=\"2083.84\" cy=\"226.521\" r=\"14\" fill=\"#e26f46\" fill-rule=\"evenodd\" fill-opacity=\"1\" stroke=\"#000000\" stroke-opacity=\"1\" stroke-width=\"3.2\"/>\n",
       "<circle clip-path=\"url(#clip392)\" cx=\"2125.4\" cy=\"198.812\" r=\"14\" fill=\"#e26f46\" fill-rule=\"evenodd\" fill-opacity=\"1\" stroke=\"#000000\" stroke-opacity=\"1\" stroke-width=\"3.2\"/>\n",
       "<circle clip-path=\"url(#clip392)\" cx=\"2166.97\" cy=\"171.103\" r=\"14\" fill=\"#e26f46\" fill-rule=\"evenodd\" fill-opacity=\"1\" stroke=\"#000000\" stroke-opacity=\"1\" stroke-width=\"3.2\"/>\n",
       "<circle clip-path=\"url(#clip392)\" cx=\"2208.53\" cy=\"143.394\" r=\"14\" fill=\"#e26f46\" fill-rule=\"evenodd\" fill-opacity=\"1\" stroke=\"#000000\" stroke-opacity=\"1\" stroke-width=\"3.2\"/>\n",
       "<circle clip-path=\"url(#clip392)\" cx=\"2250.09\" cy=\"115.685\" r=\"14\" fill=\"#e26f46\" fill-rule=\"evenodd\" fill-opacity=\"1\" stroke=\"#000000\" stroke-opacity=\"1\" stroke-width=\"3.2\"/>\n",
       "<circle clip-path=\"url(#clip392)\" cx=\"2291.66\" cy=\"87.9763\" r=\"14\" fill=\"#e26f46\" fill-rule=\"evenodd\" fill-opacity=\"1\" stroke=\"#000000\" stroke-opacity=\"1\" stroke-width=\"3.2\"/>\n",
       "<circle clip-path=\"url(#clip392)\" cx=\"255.035\" cy=\"87.9763\" r=\"14\" fill=\"#3da44d\" fill-rule=\"evenodd\" fill-opacity=\"1\" stroke=\"#000000\" stroke-opacity=\"1\" stroke-width=\"3.2\"/>\n",
       "<circle clip-path=\"url(#clip392)\" cx=\"296.598\" cy=\"142.263\" r=\"14\" fill=\"#3da44d\" fill-rule=\"evenodd\" fill-opacity=\"1\" stroke=\"#000000\" stroke-opacity=\"1\" stroke-width=\"3.2\"/>\n",
       "<circle clip-path=\"url(#clip392)\" cx=\"338.162\" cy=\"194.288\" r=\"14\" fill=\"#3da44d\" fill-rule=\"evenodd\" fill-opacity=\"1\" stroke=\"#000000\" stroke-opacity=\"1\" stroke-width=\"3.2\"/>\n",
       "<circle clip-path=\"url(#clip392)\" cx=\"379.726\" cy=\"244.051\" r=\"14\" fill=\"#3da44d\" fill-rule=\"evenodd\" fill-opacity=\"1\" stroke=\"#000000\" stroke-opacity=\"1\" stroke-width=\"3.2\"/>\n",
       "<circle clip-path=\"url(#clip392)\" cx=\"421.29\" cy=\"291.552\" r=\"14\" fill=\"#3da44d\" fill-rule=\"evenodd\" fill-opacity=\"1\" stroke=\"#000000\" stroke-opacity=\"1\" stroke-width=\"3.2\"/>\n",
       "<circle clip-path=\"url(#clip392)\" cx=\"462.853\" cy=\"336.791\" r=\"14\" fill=\"#3da44d\" fill-rule=\"evenodd\" fill-opacity=\"1\" stroke=\"#000000\" stroke-opacity=\"1\" stroke-width=\"3.2\"/>\n",
       "<circle clip-path=\"url(#clip392)\" cx=\"504.417\" cy=\"379.769\" r=\"14\" fill=\"#3da44d\" fill-rule=\"evenodd\" fill-opacity=\"1\" stroke=\"#000000\" stroke-opacity=\"1\" stroke-width=\"3.2\"/>\n",
       "<circle clip-path=\"url(#clip392)\" cx=\"545.981\" cy=\"420.484\" r=\"14\" fill=\"#3da44d\" fill-rule=\"evenodd\" fill-opacity=\"1\" stroke=\"#000000\" stroke-opacity=\"1\" stroke-width=\"3.2\"/>\n",
       "<circle clip-path=\"url(#clip392)\" cx=\"587.544\" cy=\"458.937\" r=\"14\" fill=\"#3da44d\" fill-rule=\"evenodd\" fill-opacity=\"1\" stroke=\"#000000\" stroke-opacity=\"1\" stroke-width=\"3.2\"/>\n",
       "<circle clip-path=\"url(#clip392)\" cx=\"629.108\" cy=\"495.128\" r=\"14\" fill=\"#3da44d\" fill-rule=\"evenodd\" fill-opacity=\"1\" stroke=\"#000000\" stroke-opacity=\"1\" stroke-width=\"3.2\"/>\n",
       "<circle clip-path=\"url(#clip392)\" cx=\"670.672\" cy=\"529.058\" r=\"14\" fill=\"#3da44d\" fill-rule=\"evenodd\" fill-opacity=\"1\" stroke=\"#000000\" stroke-opacity=\"1\" stroke-width=\"3.2\"/>\n",
       "<circle clip-path=\"url(#clip392)\" cx=\"712.236\" cy=\"560.725\" r=\"14\" fill=\"#3da44d\" fill-rule=\"evenodd\" fill-opacity=\"1\" stroke=\"#000000\" stroke-opacity=\"1\" stroke-width=\"3.2\"/>\n",
       "<circle clip-path=\"url(#clip392)\" cx=\"753.799\" cy=\"590.131\" r=\"14\" fill=\"#3da44d\" fill-rule=\"evenodd\" fill-opacity=\"1\" stroke=\"#000000\" stroke-opacity=\"1\" stroke-width=\"3.2\"/>\n",
       "<circle clip-path=\"url(#clip392)\" cx=\"795.363\" cy=\"617.274\" r=\"14\" fill=\"#3da44d\" fill-rule=\"evenodd\" fill-opacity=\"1\" stroke=\"#000000\" stroke-opacity=\"1\" stroke-width=\"3.2\"/>\n",
       "<circle clip-path=\"url(#clip392)\" cx=\"836.927\" cy=\"642.156\" r=\"14\" fill=\"#3da44d\" fill-rule=\"evenodd\" fill-opacity=\"1\" stroke=\"#000000\" stroke-opacity=\"1\" stroke-width=\"3.2\"/>\n",
       "<circle clip-path=\"url(#clip392)\" cx=\"878.491\" cy=\"664.775\" r=\"14\" fill=\"#3da44d\" fill-rule=\"evenodd\" fill-opacity=\"1\" stroke=\"#000000\" stroke-opacity=\"1\" stroke-width=\"3.2\"/>\n",
       "<circle clip-path=\"url(#clip392)\" cx=\"920.054\" cy=\"685.133\" r=\"14\" fill=\"#3da44d\" fill-rule=\"evenodd\" fill-opacity=\"1\" stroke=\"#000000\" stroke-opacity=\"1\" stroke-width=\"3.2\"/>\n",
       "<circle clip-path=\"url(#clip392)\" cx=\"961.618\" cy=\"703.228\" r=\"14\" fill=\"#3da44d\" fill-rule=\"evenodd\" fill-opacity=\"1\" stroke=\"#000000\" stroke-opacity=\"1\" stroke-width=\"3.2\"/>\n",
       "<circle clip-path=\"url(#clip392)\" cx=\"1003.18\" cy=\"719.062\" r=\"14\" fill=\"#3da44d\" fill-rule=\"evenodd\" fill-opacity=\"1\" stroke=\"#000000\" stroke-opacity=\"1\" stroke-width=\"3.2\"/>\n",
       "<circle clip-path=\"url(#clip392)\" cx=\"1044.75\" cy=\"732.634\" r=\"14\" fill=\"#3da44d\" fill-rule=\"evenodd\" fill-opacity=\"1\" stroke=\"#000000\" stroke-opacity=\"1\" stroke-width=\"3.2\"/>\n",
       "<circle clip-path=\"url(#clip392)\" cx=\"1086.31\" cy=\"743.944\" r=\"14\" fill=\"#3da44d\" fill-rule=\"evenodd\" fill-opacity=\"1\" stroke=\"#000000\" stroke-opacity=\"1\" stroke-width=\"3.2\"/>\n",
       "<circle clip-path=\"url(#clip392)\" cx=\"1127.87\" cy=\"752.992\" r=\"14\" fill=\"#3da44d\" fill-rule=\"evenodd\" fill-opacity=\"1\" stroke=\"#000000\" stroke-opacity=\"1\" stroke-width=\"3.2\"/>\n",
       "<circle clip-path=\"url(#clip392)\" cx=\"1169.44\" cy=\"759.777\" r=\"14\" fill=\"#3da44d\" fill-rule=\"evenodd\" fill-opacity=\"1\" stroke=\"#000000\" stroke-opacity=\"1\" stroke-width=\"3.2\"/>\n",
       "<circle clip-path=\"url(#clip392)\" cx=\"1211\" cy=\"764.301\" r=\"14\" fill=\"#3da44d\" fill-rule=\"evenodd\" fill-opacity=\"1\" stroke=\"#000000\" stroke-opacity=\"1\" stroke-width=\"3.2\"/>\n",
       "<circle clip-path=\"url(#clip392)\" cx=\"1252.56\" cy=\"766.563\" r=\"14\" fill=\"#3da44d\" fill-rule=\"evenodd\" fill-opacity=\"1\" stroke=\"#000000\" stroke-opacity=\"1\" stroke-width=\"3.2\"/>\n",
       "<circle clip-path=\"url(#clip392)\" cx=\"1294.13\" cy=\"766.563\" r=\"14\" fill=\"#3da44d\" fill-rule=\"evenodd\" fill-opacity=\"1\" stroke=\"#000000\" stroke-opacity=\"1\" stroke-width=\"3.2\"/>\n",
       "<circle clip-path=\"url(#clip392)\" cx=\"1335.69\" cy=\"764.301\" r=\"14\" fill=\"#3da44d\" fill-rule=\"evenodd\" fill-opacity=\"1\" stroke=\"#000000\" stroke-opacity=\"1\" stroke-width=\"3.2\"/>\n",
       "<circle clip-path=\"url(#clip392)\" cx=\"1377.26\" cy=\"759.777\" r=\"14\" fill=\"#3da44d\" fill-rule=\"evenodd\" fill-opacity=\"1\" stroke=\"#000000\" stroke-opacity=\"1\" stroke-width=\"3.2\"/>\n",
       "<circle clip-path=\"url(#clip392)\" cx=\"1418.82\" cy=\"752.992\" r=\"14\" fill=\"#3da44d\" fill-rule=\"evenodd\" fill-opacity=\"1\" stroke=\"#000000\" stroke-opacity=\"1\" stroke-width=\"3.2\"/>\n",
       "<circle clip-path=\"url(#clip392)\" cx=\"1460.38\" cy=\"743.944\" r=\"14\" fill=\"#3da44d\" fill-rule=\"evenodd\" fill-opacity=\"1\" stroke=\"#000000\" stroke-opacity=\"1\" stroke-width=\"3.2\"/>\n",
       "<circle clip-path=\"url(#clip392)\" cx=\"1501.95\" cy=\"732.634\" r=\"14\" fill=\"#3da44d\" fill-rule=\"evenodd\" fill-opacity=\"1\" stroke=\"#000000\" stroke-opacity=\"1\" stroke-width=\"3.2\"/>\n",
       "<circle clip-path=\"url(#clip392)\" cx=\"1543.51\" cy=\"719.062\" r=\"14\" fill=\"#3da44d\" fill-rule=\"evenodd\" fill-opacity=\"1\" stroke=\"#000000\" stroke-opacity=\"1\" stroke-width=\"3.2\"/>\n",
       "<circle clip-path=\"url(#clip392)\" cx=\"1585.07\" cy=\"703.228\" r=\"14\" fill=\"#3da44d\" fill-rule=\"evenodd\" fill-opacity=\"1\" stroke=\"#000000\" stroke-opacity=\"1\" stroke-width=\"3.2\"/>\n",
       "<circle clip-path=\"url(#clip392)\" cx=\"1626.64\" cy=\"685.133\" r=\"14\" fill=\"#3da44d\" fill-rule=\"evenodd\" fill-opacity=\"1\" stroke=\"#000000\" stroke-opacity=\"1\" stroke-width=\"3.2\"/>\n",
       "<circle clip-path=\"url(#clip392)\" cx=\"1668.2\" cy=\"664.775\" r=\"14\" fill=\"#3da44d\" fill-rule=\"evenodd\" fill-opacity=\"1\" stroke=\"#000000\" stroke-opacity=\"1\" stroke-width=\"3.2\"/>\n",
       "<circle clip-path=\"url(#clip392)\" cx=\"1709.77\" cy=\"642.156\" r=\"14\" fill=\"#3da44d\" fill-rule=\"evenodd\" fill-opacity=\"1\" stroke=\"#000000\" stroke-opacity=\"1\" stroke-width=\"3.2\"/>\n",
       "<circle clip-path=\"url(#clip392)\" cx=\"1751.33\" cy=\"617.274\" r=\"14\" fill=\"#3da44d\" fill-rule=\"evenodd\" fill-opacity=\"1\" stroke=\"#000000\" stroke-opacity=\"1\" stroke-width=\"3.2\"/>\n",
       "<circle clip-path=\"url(#clip392)\" cx=\"1792.89\" cy=\"590.131\" r=\"14\" fill=\"#3da44d\" fill-rule=\"evenodd\" fill-opacity=\"1\" stroke=\"#000000\" stroke-opacity=\"1\" stroke-width=\"3.2\"/>\n",
       "<circle clip-path=\"url(#clip392)\" cx=\"1834.46\" cy=\"560.725\" r=\"14\" fill=\"#3da44d\" fill-rule=\"evenodd\" fill-opacity=\"1\" stroke=\"#000000\" stroke-opacity=\"1\" stroke-width=\"3.2\"/>\n",
       "<circle clip-path=\"url(#clip392)\" cx=\"1876.02\" cy=\"529.058\" r=\"14\" fill=\"#3da44d\" fill-rule=\"evenodd\" fill-opacity=\"1\" stroke=\"#000000\" stroke-opacity=\"1\" stroke-width=\"3.2\"/>\n",
       "<circle clip-path=\"url(#clip392)\" cx=\"1917.58\" cy=\"495.128\" r=\"14\" fill=\"#3da44d\" fill-rule=\"evenodd\" fill-opacity=\"1\" stroke=\"#000000\" stroke-opacity=\"1\" stroke-width=\"3.2\"/>\n",
       "<circle clip-path=\"url(#clip392)\" cx=\"1959.15\" cy=\"458.937\" r=\"14\" fill=\"#3da44d\" fill-rule=\"evenodd\" fill-opacity=\"1\" stroke=\"#000000\" stroke-opacity=\"1\" stroke-width=\"3.2\"/>\n",
       "<circle clip-path=\"url(#clip392)\" cx=\"2000.71\" cy=\"420.484\" r=\"14\" fill=\"#3da44d\" fill-rule=\"evenodd\" fill-opacity=\"1\" stroke=\"#000000\" stroke-opacity=\"1\" stroke-width=\"3.2\"/>\n",
       "<circle clip-path=\"url(#clip392)\" cx=\"2042.27\" cy=\"379.769\" r=\"14\" fill=\"#3da44d\" fill-rule=\"evenodd\" fill-opacity=\"1\" stroke=\"#000000\" stroke-opacity=\"1\" stroke-width=\"3.2\"/>\n",
       "<circle clip-path=\"url(#clip392)\" cx=\"2083.84\" cy=\"336.791\" r=\"14\" fill=\"#3da44d\" fill-rule=\"evenodd\" fill-opacity=\"1\" stroke=\"#000000\" stroke-opacity=\"1\" stroke-width=\"3.2\"/>\n",
       "<circle clip-path=\"url(#clip392)\" cx=\"2125.4\" cy=\"291.552\" r=\"14\" fill=\"#3da44d\" fill-rule=\"evenodd\" fill-opacity=\"1\" stroke=\"#000000\" stroke-opacity=\"1\" stroke-width=\"3.2\"/>\n",
       "<circle clip-path=\"url(#clip392)\" cx=\"2166.97\" cy=\"244.051\" r=\"14\" fill=\"#3da44d\" fill-rule=\"evenodd\" fill-opacity=\"1\" stroke=\"#000000\" stroke-opacity=\"1\" stroke-width=\"3.2\"/>\n",
       "<circle clip-path=\"url(#clip392)\" cx=\"2208.53\" cy=\"194.288\" r=\"14\" fill=\"#3da44d\" fill-rule=\"evenodd\" fill-opacity=\"1\" stroke=\"#000000\" stroke-opacity=\"1\" stroke-width=\"3.2\"/>\n",
       "<circle clip-path=\"url(#clip392)\" cx=\"2250.09\" cy=\"142.263\" r=\"14\" fill=\"#3da44d\" fill-rule=\"evenodd\" fill-opacity=\"1\" stroke=\"#000000\" stroke-opacity=\"1\" stroke-width=\"3.2\"/>\n",
       "<circle clip-path=\"url(#clip392)\" cx=\"2291.66\" cy=\"87.9763\" r=\"14\" fill=\"#3da44d\" fill-rule=\"evenodd\" fill-opacity=\"1\" stroke=\"#000000\" stroke-opacity=\"1\" stroke-width=\"3.2\"/>\n",
       "<polyline clip-path=\"url(#clip392)\" style=\"stroke:#000000; stroke-linecap:butt; stroke-linejoin:round; stroke-width:16; stroke-opacity:1; fill:none\" points=\"\n",
       "  255.035,766.846 296.598,766.846 338.162,766.846 379.726,766.846 421.29,766.846 462.853,766.846 504.417,766.846 545.981,766.846 587.544,766.846 629.108,766.846 \n",
       "  670.672,766.846 712.236,766.846 753.799,766.846 795.363,766.846 836.927,766.846 878.491,766.846 920.054,766.846 961.618,766.846 1003.18,766.846 1044.75,766.846 \n",
       "  1086.31,766.846 1127.87,766.846 1169.44,766.846 1211,766.846 1252.56,766.846 1294.13,766.846 1335.69,766.846 1377.26,766.846 1418.82,766.846 1460.38,766.846 \n",
       "  1501.95,766.846 1543.51,766.846 1585.07,766.846 1626.64,766.846 1668.2,766.846 1709.77,766.846 1751.33,766.846 1792.89,766.846 1834.46,766.846 1876.02,766.846 \n",
       "  1917.58,766.846 1959.15,766.846 2000.71,766.846 2042.27,766.846 2083.84,766.846 2125.4,766.846 2166.97,766.846 2208.53,766.846 2250.09,766.846 2291.66,766.846 \n",
       "  \n",
       "  \"/>\n",
       "<path clip-path=\"url(#clip390)\" d=\"\n",
       "M1961.41 406.258 L2280.8 406.258 L2280.8 95.2176 L1961.41 95.2176  Z\n",
       "  \" fill=\"#ffffff\" fill-rule=\"evenodd\" fill-opacity=\"1\"/>\n",
       "<polyline clip-path=\"url(#clip390)\" style=\"stroke:#000000; stroke-linecap:butt; stroke-linejoin:round; stroke-width:4; stroke-opacity:1; fill:none\" points=\"\n",
       "  1961.41,406.258 2280.8,406.258 2280.8,95.2176 1961.41,95.2176 1961.41,406.258 \n",
       "  \"/>\n",
       "<circle clip-path=\"url(#clip390)\" cx=\"2057.36\" cy=\"172.978\" r=\"34\" fill=\"#009af9\" fill-rule=\"evenodd\" fill-opacity=\"1\" stroke=\"#000000\" stroke-opacity=\"1\" stroke-width=\"7.68\"/>\n",
       "<path clip-path=\"url(#clip390)\" d=\"M2174.07 202.509 Q2171.36 209.453 2168.79 211.571 Q2166.22 213.689 2161.92 213.689 L2156.81 213.689 L2156.81 208.342 L2160.56 208.342 Q2163.2 208.342 2164.66 207.092 Q2166.12 205.842 2167.89 201.189 L2169.04 198.273 L2153.31 160.009 L2160.08 160.009 L2172.23 190.425 L2184.38 160.009 L2191.16 160.009 L2174.07 202.509 Z\" fill=\"#000000\" fill-rule=\"evenodd\" fill-opacity=\"1\" /><path clip-path=\"url(#clip390)\" d=\"M2202.09 192.995 L2213.55 192.995 L2213.55 153.446 L2201.09 155.946 L2201.09 149.558 L2213.48 147.058 L2220.5 147.058 L2220.5 192.995 L2231.95 192.995 L2231.95 198.898 L2202.09 198.898 L2202.09 192.995 Z\" fill=\"#000000\" fill-rule=\"evenodd\" fill-opacity=\"1\" /><circle clip-path=\"url(#clip390)\" cx=\"2057.36\" cy=\"250.738\" r=\"34\" fill=\"#e26f46\" fill-rule=\"evenodd\" fill-opacity=\"1\" stroke=\"#000000\" stroke-opacity=\"1\" stroke-width=\"7.68\"/>\n",
       "<path clip-path=\"url(#clip390)\" d=\"M2174.07 280.269 Q2171.36 287.213 2168.79 289.331 Q2166.22 291.449 2161.92 291.449 L2156.81 291.449 L2156.81 286.102 L2160.56 286.102 Q2163.2 286.102 2164.66 284.852 Q2166.12 283.602 2167.89 278.949 L2169.04 276.033 L2153.31 237.769 L2160.08 237.769 L2172.23 268.185 L2184.38 237.769 L2191.16 237.769 L2174.07 280.269 Z\" fill=\"#000000\" fill-rule=\"evenodd\" fill-opacity=\"1\" /><path clip-path=\"url(#clip390)\" d=\"M2206.92 270.755 L2231.4 270.755 L2231.4 276.658 L2198.48 276.658 L2198.48 270.755 Q2202.47 266.623 2209.35 259.678 Q2216.26 252.699 2218.03 250.685 Q2221.4 246.901 2222.72 244.297 Q2224.07 241.658 2224.07 239.123 Q2224.07 234.991 2221.15 232.387 Q2218.27 229.783 2213.62 229.783 Q2210.32 229.783 2206.64 230.929 Q2203 232.074 2198.83 234.401 L2198.83 227.318 Q2203.06 225.616 2206.75 224.748 Q2210.43 223.88 2213.48 223.88 Q2221.54 223.88 2226.33 227.908 Q2231.12 231.936 2231.12 238.672 Q2231.12 241.866 2229.9 244.748 Q2228.72 247.595 2225.56 251.484 Q2224.7 252.491 2220.04 257.317 Q2215.39 262.109 2206.92 270.755 Z\" fill=\"#000000\" fill-rule=\"evenodd\" fill-opacity=\"1\" /><circle clip-path=\"url(#clip390)\" cx=\"2057.36\" cy=\"328.498\" r=\"34\" fill=\"#3da44d\" fill-rule=\"evenodd\" fill-opacity=\"1\" stroke=\"#000000\" stroke-opacity=\"1\" stroke-width=\"7.68\"/>\n",
       "<path clip-path=\"url(#clip390)\" d=\"M2174.07 358.029 Q2171.36 364.973 2168.79 367.091 Q2166.22 369.209 2161.92 369.209 L2156.81 369.209 L2156.81 363.862 L2160.56 363.862 Q2163.2 363.862 2164.66 362.612 Q2166.12 361.362 2167.89 356.709 L2169.04 353.793 L2153.31 315.529 L2160.08 315.529 L2172.23 345.945 L2184.38 315.529 L2191.16 315.529 L2174.07 358.029 Z\" fill=\"#000000\" fill-rule=\"evenodd\" fill-opacity=\"1\" /><path clip-path=\"url(#clip390)\" d=\"M2222.13 326.466 Q2227.16 327.543 2229.97 330.945 Q2232.82 334.348 2232.82 339.348 Q2232.82 347.022 2227.54 351.223 Q2222.27 355.424 2212.54 355.424 Q2209.28 355.424 2205.81 354.765 Q2202.37 354.14 2198.69 352.855 L2198.69 346.084 Q2201.61 347.786 2205.08 348.654 Q2208.55 349.522 2212.34 349.522 Q2218.93 349.522 2222.37 346.918 Q2225.84 344.313 2225.84 339.348 Q2225.84 334.765 2222.61 332.195 Q2219.42 329.591 2213.69 329.591 L2207.65 329.591 L2207.65 323.827 L2213.97 323.827 Q2219.14 323.827 2221.88 321.779 Q2224.63 319.696 2224.63 315.807 Q2224.63 311.814 2221.78 309.696 Q2218.97 307.543 2213.69 307.543 Q2210.81 307.543 2207.51 308.168 Q2204.21 308.793 2200.25 310.112 L2200.25 303.862 Q2204.25 302.751 2207.72 302.196 Q2211.22 301.64 2214.31 301.64 Q2222.3 301.64 2226.95 305.286 Q2231.61 308.897 2231.61 315.077 Q2231.61 319.383 2229.14 322.369 Q2226.68 325.32 2222.13 326.466 Z\" fill=\"#000000\" fill-rule=\"evenodd\" fill-opacity=\"1\" /></svg>\n"
      ]
     },
     "execution_count": 39,
     "metadata": {},
     "output_type": "execute_result"
    }
   ],
   "source": [
    "x = LinRange(-1, 1, 50)\n",
    "A = vander(x, 4)\n",
    "M = A * [.5 0 0 0; # 0.5\n",
    "         0  1 0 0;  # x\n",
    "         0  0 1 0]' # x^2\n",
    "scatter(x, M)\n",
    "plot!(x, 0*x, label=:none, color=:black)"
   ]
  },
  {
   "cell_type": "markdown",
   "id": "fe22f024",
   "metadata": {
    "cell_style": "split"
   },
   "source": [
    "* Which inner product will be zero?\n",
    "\n",
    "  * Which functions are even and odd?"
   ]
  },
  {
   "cell_type": "markdown",
   "id": "ffae59ed",
   "metadata": {
    "slideshow": {
     "slide_type": "slide"
    }
   },
   "source": [
    "# Polynomial inner products"
   ]
  },
  {
   "cell_type": "code",
   "execution_count": 40,
   "id": "3c8c7db8",
   "metadata": {
    "cell_style": "split"
   },
   "outputs": [
    {
     "data": {
      "text/plain": [
       "-2.220446049250313e-16"
      ]
     },
     "execution_count": 40,
     "metadata": {},
     "output_type": "execute_result"
    }
   ],
   "source": [
    "M[:,1]' * M[:,2]"
   ]
  },
  {
   "cell_type": "code",
   "execution_count": 42,
   "id": "9ee5e1f7",
   "metadata": {
    "cell_style": "split"
   },
   "outputs": [
    {
     "data": {
      "text/plain": [
       "8.673469387755102"
      ]
     },
     "execution_count": 42,
     "metadata": {},
     "output_type": "execute_result"
    }
   ],
   "source": [
    "M[:,1]' * M[:,3]"
   ]
  },
  {
   "cell_type": "code",
   "execution_count": 41,
   "id": "68ad1630",
   "metadata": {
    "cell_style": "split"
   },
   "outputs": [
    {
     "data": {
      "text/plain": [
       "-4.440892098500626e-16"
      ]
     },
     "execution_count": 41,
     "metadata": {},
     "output_type": "execute_result"
    }
   ],
   "source": [
    "M[:,2]' * M[:,3]"
   ]
  }
 ],
 "metadata": {
  "@webio": {
   "lastCommId": "cd1892c1e2064686902fbdf399e6e3e3",
   "lastKernelId": "6eae1736-6531-4224-a6c2-38e7ff163d19"
  },
  "celltoolbar": "Slideshow",
  "hide_code_all_hidden": false,
  "kernelspec": {
   "display_name": "Julia 1.7.1",
   "language": "julia",
   "name": "julia-1.7"
  },
  "language_info": {
   "file_extension": ".jl",
   "mimetype": "application/julia",
   "name": "julia",
   "version": "1.7.1"
  },
  "rise": {
   "enable_chalkboard": true
  }
 },
 "nbformat": 4,
 "nbformat_minor": 5
}
