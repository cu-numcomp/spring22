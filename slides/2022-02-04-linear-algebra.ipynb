{
 "cells": [
  {
   "cell_type": "markdown",
   "id": "4159be0e",
   "metadata": {
    "hideCode": false,
    "hidePrompt": false,
    "slideshow": {
     "slide_type": "slide"
    }
   },
   "source": [
    "# 2022-02-04 Linear Algebra\n",
    "\n",
    "\n",
    "## Last time\n",
    "\n",
    "* Breaking Newton's method\n",
    "* Exploration\n",
    "* Multiple roots\n",
    "* Conditioning of the rootfinding problem\n",
    "\n",
    "## Today\n",
    "\n",
    "* Forward and backward stability\n",
    "* Beyond IEEE double precision\n",
    "* Algebra of linear transformations"
   ]
  },
  {
   "cell_type": "code",
   "execution_count": 42,
   "id": "eb781a7a",
   "metadata": {
    "slideshow": {
     "slide_type": "skip"
    }
   },
   "outputs": [],
   "source": [
    "using Plots\n",
    "default(linewidth=4, legendfontsize=12)"
   ]
  },
  {
   "cell_type": "markdown",
   "id": "342a30e5",
   "metadata": {
    "slideshow": {
     "slide_type": "slide"
    }
   },
   "source": [
    "# Which is better to model inputs to a rootfinder?"
   ]
  },
  {
   "cell_type": "markdown",
   "id": "407303f8",
   "metadata": {
    "cell_style": "split",
    "slideshow": {
     "slide_type": ""
    }
   },
   "source": [
    "* A: coefficients $a_k$ in $$p(x) = \\prod_k (x - a_k)$$"
   ]
  },
  {
   "cell_type": "markdown",
   "id": "f368a1c7",
   "metadata": {
    "cell_style": "split",
    "slideshow": {
     "slide_type": ""
    }
   },
   "source": [
    "* B: coefficients $b_k$ in $$p(x) = \\sum_k b_k x^k$$"
   ]
  },
  {
   "cell_type": "markdown",
   "id": "c38e63b1",
   "metadata": {
    "slideshow": {
     "slide_type": ""
    }
   },
   "source": [
    "## Figure from Trefethen and Bau (1999)\n",
    "<img alt=\"Ill conditioning of roots of Wilkinson's polynomial\" src=\"../img/TB-Wilkinson.png\" width=\"90%\" />"
   ]
  },
  {
   "cell_type": "markdown",
   "id": "2fd4e416",
   "metadata": {
    "cell_style": "split",
    "slideshow": {
     "slide_type": "slide"
    }
   },
   "source": [
    "# [Forward vs backward error and stability](https://fncbook.github.io/fnc/intro/stability.html#backward-error)"
   ]
  },
  {
   "cell_type": "markdown",
   "id": "61c50caa",
   "metadata": {
    "cell_style": "split",
    "slideshow": {
     "slide_type": "slide"
    }
   },
   "source": [
    "<img src=\"https://fncbook.github.io/fnc/_images/backwarderror.svg\" width=\"90%\" />"
   ]
  },
  {
   "cell_type": "markdown",
   "id": "03bc4b23",
   "metadata": {
    "cell_style": "split",
    "slideshow": {
     "slide_type": ""
    }
   },
   "source": [
    "## Stability\n",
    "**\"nearly the right answer to nearly the right question\"**\n",
    "$$ \\frac{\\lvert \\tilde f(x) - f(\\tilde x) \\rvert}{| f(\\tilde x) |} \\in O(\\epsilon_{\\text{machine}}) $$\n",
    "for some $\\tilde x$ that is close to $x$\n",
    "\n",
    "## Backward Stability\n",
    "**\"exactly the right answer to nearly the right question\"**\n",
    "$$ \\tilde f(x) = f(\\tilde x) $$\n",
    "for some $\\tilde x$ that is close to $x$\n",
    "\n",
    "* Every backward stable algorithm is stable.\n",
    "* Not every stable algorithm is backward stable."
   ]
  },
  {
   "cell_type": "markdown",
   "id": "098bb48a",
   "metadata": {
    "slideshow": {
     "slide_type": "slide"
    }
   },
   "source": [
    "# Map angle to the unit circle"
   ]
  },
  {
   "cell_type": "code",
   "execution_count": 189,
   "id": "b90a72c5",
   "metadata": {
    "cell_style": "split"
   },
   "outputs": [
    {
     "data": {
      "image/svg+xml": [
       "<?xml version=\"1.0\" encoding=\"utf-8\"?>\n",
       "<svg xmlns=\"http://www.w3.org/2000/svg\" xmlns:xlink=\"http://www.w3.org/1999/xlink\" width=\"600\" height=\"400\" viewBox=\"0 0 2400 1600\">\n",
       "<defs>\n",
       "  <clipPath id=\"clip590\">\n",
       "    <rect x=\"0\" y=\"0\" width=\"2400\" height=\"1600\"/>\n",
       "  </clipPath>\n",
       "</defs>\n",
       "<path clip-path=\"url(#clip590)\" d=\"\n",
       "M0 1600 L2400 1600 L2400 0 L0 0  Z\n",
       "  \" fill=\"#ffffff\" fill-rule=\"evenodd\" fill-opacity=\"1\"/>\n",
       "<defs>\n",
       "  <clipPath id=\"clip591\">\n",
       "    <rect x=\"480\" y=\"0\" width=\"1681\" height=\"1600\"/>\n",
       "  </clipPath>\n",
       "</defs>\n",
       "<path clip-path=\"url(#clip590)\" d=\"\n",
       "M192.941 1486.45 L2352.76 1486.45 L2352.76 47.2441 L192.941 47.2441  Z\n",
       "  \" fill=\"#ffffff\" fill-rule=\"evenodd\" fill-opacity=\"1\"/>\n",
       "<defs>\n",
       "  <clipPath id=\"clip592\">\n",
       "    <rect x=\"192\" y=\"47\" width=\"2161\" height=\"1440\"/>\n",
       "  </clipPath>\n",
       "</defs>\n",
       "<polyline clip-path=\"url(#clip592)\" style=\"stroke:#000000; stroke-linecap:butt; stroke-linejoin:round; stroke-width:2; stroke-opacity:0.1; fill:none\" points=\"\n",
       "  291.19,1486.45 291.19,47.2441 \n",
       "  \"/>\n",
       "<polyline clip-path=\"url(#clip592)\" style=\"stroke:#000000; stroke-linecap:butt; stroke-linejoin:round; stroke-width:2; stroke-opacity:0.1; fill:none\" points=\"\n",
       "  677.616,1486.45 677.616,47.2441 \n",
       "  \"/>\n",
       "<polyline clip-path=\"url(#clip592)\" style=\"stroke:#000000; stroke-linecap:butt; stroke-linejoin:round; stroke-width:2; stroke-opacity:0.1; fill:none\" points=\"\n",
       "  1064.04,1486.45 1064.04,47.2441 \n",
       "  \"/>\n",
       "<polyline clip-path=\"url(#clip592)\" style=\"stroke:#000000; stroke-linecap:butt; stroke-linejoin:round; stroke-width:2; stroke-opacity:0.1; fill:none\" points=\"\n",
       "  1450.47,1486.45 1450.47,47.2441 \n",
       "  \"/>\n",
       "<polyline clip-path=\"url(#clip592)\" style=\"stroke:#000000; stroke-linecap:butt; stroke-linejoin:round; stroke-width:2; stroke-opacity:0.1; fill:none\" points=\"\n",
       "  1836.89,1486.45 1836.89,47.2441 \n",
       "  \"/>\n",
       "<polyline clip-path=\"url(#clip592)\" style=\"stroke:#000000; stroke-linecap:butt; stroke-linejoin:round; stroke-width:2; stroke-opacity:0.1; fill:none\" points=\"\n",
       "  2223.32,1486.45 2223.32,47.2441 \n",
       "  \"/>\n",
       "<polyline clip-path=\"url(#clip590)\" style=\"stroke:#000000; stroke-linecap:butt; stroke-linejoin:round; stroke-width:4; stroke-opacity:1; fill:none\" points=\"\n",
       "  192.941,1486.45 2352.76,1486.45 \n",
       "  \"/>\n",
       "<polyline clip-path=\"url(#clip590)\" style=\"stroke:#000000; stroke-linecap:butt; stroke-linejoin:round; stroke-width:4; stroke-opacity:1; fill:none\" points=\"\n",
       "  291.19,1486.45 291.19,1467.55 \n",
       "  \"/>\n",
       "<polyline clip-path=\"url(#clip590)\" style=\"stroke:#000000; stroke-linecap:butt; stroke-linejoin:round; stroke-width:4; stroke-opacity:1; fill:none\" points=\"\n",
       "  677.616,1486.45 677.616,1467.55 \n",
       "  \"/>\n",
       "<polyline clip-path=\"url(#clip590)\" style=\"stroke:#000000; stroke-linecap:butt; stroke-linejoin:round; stroke-width:4; stroke-opacity:1; fill:none\" points=\"\n",
       "  1064.04,1486.45 1064.04,1467.55 \n",
       "  \"/>\n",
       "<polyline clip-path=\"url(#clip590)\" style=\"stroke:#000000; stroke-linecap:butt; stroke-linejoin:round; stroke-width:4; stroke-opacity:1; fill:none\" points=\"\n",
       "  1450.47,1486.45 1450.47,1467.55 \n",
       "  \"/>\n",
       "<polyline clip-path=\"url(#clip590)\" style=\"stroke:#000000; stroke-linecap:butt; stroke-linejoin:round; stroke-width:4; stroke-opacity:1; fill:none\" points=\"\n",
       "  1836.89,1486.45 1836.89,1467.55 \n",
       "  \"/>\n",
       "<polyline clip-path=\"url(#clip590)\" style=\"stroke:#000000; stroke-linecap:butt; stroke-linejoin:round; stroke-width:4; stroke-opacity:1; fill:none\" points=\"\n",
       "  2223.32,1486.45 2223.32,1467.55 \n",
       "  \"/>\n",
       "<path clip-path=\"url(#clip590)\" d=\"M238.216 1532.02 L267.891 1532.02 L267.891 1535.95 L238.216 1535.95 L238.216 1532.02 Z\" fill=\"#000000\" fill-rule=\"evenodd\" fill-opacity=\"1\" /><path clip-path=\"url(#clip590)\" d=\"M278.794 1544.91 L286.433 1544.91 L286.433 1518.55 L278.123 1520.21 L278.123 1515.95 L286.387 1514.29 L291.063 1514.29 L291.063 1544.91 L298.701 1544.91 L298.701 1548.85 L278.794 1548.85 L278.794 1544.91 Z\" fill=\"#000000\" fill-rule=\"evenodd\" fill-opacity=\"1\" /><path clip-path=\"url(#clip590)\" d=\"M308.146 1542.97 L313.03 1542.97 L313.03 1548.85 L308.146 1548.85 L308.146 1542.97 Z\" fill=\"#000000\" fill-rule=\"evenodd\" fill-opacity=\"1\" /><path clip-path=\"url(#clip590)\" d=\"M323.262 1514.29 L341.618 1514.29 L341.618 1518.22 L327.544 1518.22 L327.544 1526.7 Q328.562 1526.35 329.581 1526.19 Q330.599 1526 331.618 1526 Q337.405 1526 340.785 1529.17 Q344.164 1532.34 344.164 1537.76 Q344.164 1543.34 340.692 1546.44 Q337.22 1549.52 330.9 1549.52 Q328.724 1549.52 326.456 1549.15 Q324.211 1548.78 321.803 1548.04 L321.803 1543.34 Q323.887 1544.47 326.109 1545.03 Q328.331 1545.58 330.808 1545.58 Q334.812 1545.58 337.15 1543.48 Q339.488 1541.37 339.488 1537.76 Q339.488 1534.15 337.15 1532.04 Q334.812 1529.94 330.808 1529.94 Q328.933 1529.94 327.058 1530.35 Q325.206 1530.77 323.262 1531.65 L323.262 1514.29 Z\" fill=\"#000000\" fill-rule=\"evenodd\" fill-opacity=\"1\" /><path clip-path=\"url(#clip590)\" d=\"M624.144 1532.02 L653.82 1532.02 L653.82 1535.95 L624.144 1535.95 L624.144 1532.02 Z\" fill=\"#000000\" fill-rule=\"evenodd\" fill-opacity=\"1\" /><path clip-path=\"url(#clip590)\" d=\"M664.723 1544.91 L672.362 1544.91 L672.362 1518.55 L664.051 1520.21 L664.051 1515.95 L672.315 1514.29 L676.991 1514.29 L676.991 1544.91 L684.63 1544.91 L684.63 1548.85 L664.723 1548.85 L664.723 1544.91 Z\" fill=\"#000000\" fill-rule=\"evenodd\" fill-opacity=\"1\" /><path clip-path=\"url(#clip590)\" d=\"M694.074 1542.97 L698.959 1542.97 L698.959 1548.85 L694.074 1548.85 L694.074 1542.97 Z\" fill=\"#000000\" fill-rule=\"evenodd\" fill-opacity=\"1\" /><path clip-path=\"url(#clip590)\" d=\"M719.144 1517.37 Q715.533 1517.37 713.704 1520.93 Q711.898 1524.47 711.898 1531.6 Q711.898 1538.71 713.704 1542.27 Q715.533 1545.82 719.144 1545.82 Q722.778 1545.82 724.583 1542.27 Q726.412 1538.71 726.412 1531.6 Q726.412 1524.47 724.583 1520.93 Q722.778 1517.37 719.144 1517.37 M719.144 1513.66 Q724.954 1513.66 728.009 1518.27 Q731.088 1522.85 731.088 1531.6 Q731.088 1540.33 728.009 1544.94 Q724.954 1549.52 719.144 1549.52 Q713.334 1549.52 710.255 1544.94 Q707.199 1540.33 707.199 1531.6 Q707.199 1522.85 710.255 1518.27 Q713.334 1513.66 719.144 1513.66 Z\" fill=\"#000000\" fill-rule=\"evenodd\" fill-opacity=\"1\" /><path clip-path=\"url(#clip590)\" d=\"M1011.07 1532.02 L1040.74 1532.02 L1040.74 1535.95 L1011.07 1535.95 L1011.07 1532.02 Z\" fill=\"#000000\" fill-rule=\"evenodd\" fill-opacity=\"1\" /><path clip-path=\"url(#clip590)\" d=\"M1060.84 1517.37 Q1057.23 1517.37 1055.4 1520.93 Q1053.59 1524.47 1053.59 1531.6 Q1053.59 1538.71 1055.4 1542.27 Q1057.23 1545.82 1060.84 1545.82 Q1064.47 1545.82 1066.28 1542.27 Q1068.1 1538.71 1068.1 1531.6 Q1068.1 1524.47 1066.28 1520.93 Q1064.47 1517.37 1060.84 1517.37 M1060.84 1513.66 Q1066.65 1513.66 1069.7 1518.27 Q1072.78 1522.85 1072.78 1531.6 Q1072.78 1540.33 1069.7 1544.94 Q1066.65 1549.52 1060.84 1549.52 Q1055.03 1549.52 1051.95 1544.94 Q1048.89 1540.33 1048.89 1531.6 Q1048.89 1522.85 1051.95 1518.27 Q1055.03 1513.66 1060.84 1513.66 Z\" fill=\"#000000\" fill-rule=\"evenodd\" fill-opacity=\"1\" /><path clip-path=\"url(#clip590)\" d=\"M1081 1542.97 L1085.88 1542.97 L1085.88 1548.85 L1081 1548.85 L1081 1542.97 Z\" fill=\"#000000\" fill-rule=\"evenodd\" fill-opacity=\"1\" /><path clip-path=\"url(#clip590)\" d=\"M1096.11 1514.29 L1114.47 1514.29 L1114.47 1518.22 L1100.4 1518.22 L1100.4 1526.7 Q1101.41 1526.35 1102.43 1526.19 Q1103.45 1526 1104.47 1526 Q1110.26 1526 1113.64 1529.17 Q1117.02 1532.34 1117.02 1537.76 Q1117.02 1543.34 1113.54 1546.44 Q1110.07 1549.52 1103.75 1549.52 Q1101.58 1549.52 1099.31 1549.15 Q1097.06 1548.78 1094.66 1548.04 L1094.66 1543.34 Q1096.74 1544.47 1098.96 1545.03 Q1101.18 1545.58 1103.66 1545.58 Q1107.66 1545.58 1110 1543.48 Q1112.34 1541.37 1112.34 1537.76 Q1112.34 1534.15 1110 1532.04 Q1107.66 1529.94 1103.66 1529.94 Q1101.79 1529.94 1099.91 1530.35 Q1098.06 1530.77 1096.11 1531.65 L1096.11 1514.29 Z\" fill=\"#000000\" fill-rule=\"evenodd\" fill-opacity=\"1\" /><path clip-path=\"url(#clip590)\" d=\"M1427.85 1517.37 Q1424.24 1517.37 1422.41 1520.93 Q1420.61 1524.47 1420.61 1531.6 Q1420.61 1538.71 1422.41 1542.27 Q1424.24 1545.82 1427.85 1545.82 Q1431.49 1545.82 1433.29 1542.27 Q1435.12 1538.71 1435.12 1531.6 Q1435.12 1524.47 1433.29 1520.93 Q1431.49 1517.37 1427.85 1517.37 M1427.85 1513.66 Q1433.66 1513.66 1436.72 1518.27 Q1439.8 1522.85 1439.8 1531.6 Q1439.8 1540.33 1436.72 1544.94 Q1433.66 1549.52 1427.85 1549.52 Q1422.04 1549.52 1418.96 1544.94 Q1415.91 1540.33 1415.91 1531.6 Q1415.91 1522.85 1418.96 1518.27 Q1422.04 1513.66 1427.85 1513.66 Z\" fill=\"#000000\" fill-rule=\"evenodd\" fill-opacity=\"1\" /><path clip-path=\"url(#clip590)\" d=\"M1448.01 1542.97 L1452.9 1542.97 L1452.9 1548.85 L1448.01 1548.85 L1448.01 1542.97 Z\" fill=\"#000000\" fill-rule=\"evenodd\" fill-opacity=\"1\" /><path clip-path=\"url(#clip590)\" d=\"M1473.08 1517.37 Q1469.47 1517.37 1467.64 1520.93 Q1465.84 1524.47 1465.84 1531.6 Q1465.84 1538.71 1467.64 1542.27 Q1469.47 1545.82 1473.08 1545.82 Q1476.72 1545.82 1478.52 1542.27 Q1480.35 1538.71 1480.35 1531.6 Q1480.35 1524.47 1478.52 1520.93 Q1476.72 1517.37 1473.08 1517.37 M1473.08 1513.66 Q1478.89 1513.66 1481.95 1518.27 Q1485.03 1522.85 1485.03 1531.6 Q1485.03 1540.33 1481.95 1544.94 Q1478.89 1549.52 1473.08 1549.52 Q1467.27 1549.52 1464.2 1544.94 Q1461.14 1540.33 1461.14 1531.6 Q1461.14 1522.85 1464.2 1518.27 Q1467.27 1513.66 1473.08 1513.66 Z\" fill=\"#000000\" fill-rule=\"evenodd\" fill-opacity=\"1\" /><path clip-path=\"url(#clip590)\" d=\"M1814.78 1517.37 Q1811.17 1517.37 1809.34 1520.93 Q1807.53 1524.47 1807.53 1531.6 Q1807.53 1538.71 1809.34 1542.27 Q1811.17 1545.82 1814.78 1545.82 Q1818.41 1545.82 1820.22 1542.27 Q1822.05 1538.71 1822.05 1531.6 Q1822.05 1524.47 1820.22 1520.93 Q1818.41 1517.37 1814.78 1517.37 M1814.78 1513.66 Q1820.59 1513.66 1823.64 1518.27 Q1826.72 1522.85 1826.72 1531.6 Q1826.72 1540.33 1823.64 1544.94 Q1820.59 1549.52 1814.78 1549.52 Q1808.97 1549.52 1805.89 1544.94 Q1802.83 1540.33 1802.83 1531.6 Q1802.83 1522.85 1805.89 1518.27 Q1808.97 1513.66 1814.78 1513.66 Z\" fill=\"#000000\" fill-rule=\"evenodd\" fill-opacity=\"1\" /><path clip-path=\"url(#clip590)\" d=\"M1834.94 1542.97 L1839.82 1542.97 L1839.82 1548.85 L1834.94 1548.85 L1834.94 1542.97 Z\" fill=\"#000000\" fill-rule=\"evenodd\" fill-opacity=\"1\" /><path clip-path=\"url(#clip590)\" d=\"M1850.05 1514.29 L1868.41 1514.29 L1868.41 1518.22 L1854.34 1518.22 L1854.34 1526.7 Q1855.36 1526.35 1856.37 1526.19 Q1857.39 1526 1858.41 1526 Q1864.2 1526 1867.58 1529.17 Q1870.96 1532.34 1870.96 1537.76 Q1870.96 1543.34 1867.48 1546.44 Q1864.01 1549.52 1857.69 1549.52 Q1855.52 1549.52 1853.25 1549.15 Q1851 1548.78 1848.6 1548.04 L1848.6 1543.34 Q1850.68 1544.47 1852.9 1545.03 Q1855.12 1545.58 1857.6 1545.58 Q1861.61 1545.58 1863.94 1543.48 Q1866.28 1541.37 1866.28 1537.76 Q1866.28 1534.15 1863.94 1532.04 Q1861.61 1529.94 1857.6 1529.94 Q1855.73 1529.94 1853.85 1530.35 Q1852 1530.77 1850.05 1531.65 L1850.05 1514.29 Z\" fill=\"#000000\" fill-rule=\"evenodd\" fill-opacity=\"1\" /><path clip-path=\"url(#clip590)\" d=\"M2190.47 1544.91 L2198.11 1544.91 L2198.11 1518.55 L2189.8 1520.21 L2189.8 1515.95 L2198.07 1514.29 L2202.74 1514.29 L2202.74 1544.91 L2210.38 1544.91 L2210.38 1548.85 L2190.47 1548.85 L2190.47 1544.91 Z\" fill=\"#000000\" fill-rule=\"evenodd\" fill-opacity=\"1\" /><path clip-path=\"url(#clip590)\" d=\"M2219.83 1542.97 L2224.71 1542.97 L2224.71 1548.85 L2219.83 1548.85 L2219.83 1542.97 Z\" fill=\"#000000\" fill-rule=\"evenodd\" fill-opacity=\"1\" /><path clip-path=\"url(#clip590)\" d=\"M2244.89 1517.37 Q2241.28 1517.37 2239.45 1520.93 Q2237.65 1524.47 2237.65 1531.6 Q2237.65 1538.71 2239.45 1542.27 Q2241.28 1545.82 2244.89 1545.82 Q2248.53 1545.82 2250.33 1542.27 Q2252.16 1538.71 2252.16 1531.6 Q2252.16 1524.47 2250.33 1520.93 Q2248.53 1517.37 2244.89 1517.37 M2244.89 1513.66 Q2250.7 1513.66 2253.76 1518.27 Q2256.84 1522.85 2256.84 1531.6 Q2256.84 1540.33 2253.76 1544.94 Q2250.7 1549.52 2244.89 1549.52 Q2239.08 1549.52 2236.01 1544.94 Q2232.95 1540.33 2232.95 1531.6 Q2232.95 1522.85 2236.01 1518.27 Q2239.08 1513.66 2244.89 1513.66 Z\" fill=\"#000000\" fill-rule=\"evenodd\" fill-opacity=\"1\" /><polyline clip-path=\"url(#clip592)\" style=\"stroke:#000000; stroke-linecap:butt; stroke-linejoin:round; stroke-width:2; stroke-opacity:0.1; fill:none\" points=\"\n",
       "  192.941,1247.25 2352.76,1247.25 \n",
       "  \"/>\n",
       "<polyline clip-path=\"url(#clip592)\" style=\"stroke:#000000; stroke-linecap:butt; stroke-linejoin:round; stroke-width:2; stroke-opacity:0.1; fill:none\" points=\"\n",
       "  192.941,860.819 2352.76,860.819 \n",
       "  \"/>\n",
       "<polyline clip-path=\"url(#clip592)\" style=\"stroke:#000000; stroke-linecap:butt; stroke-linejoin:round; stroke-width:2; stroke-opacity:0.1; fill:none\" points=\"\n",
       "  192.941,474.393 2352.76,474.393 \n",
       "  \"/>\n",
       "<polyline clip-path=\"url(#clip592)\" style=\"stroke:#000000; stroke-linecap:butt; stroke-linejoin:round; stroke-width:2; stroke-opacity:0.1; fill:none\" points=\"\n",
       "  192.941,87.9668 2352.76,87.9668 \n",
       "  \"/>\n",
       "<polyline clip-path=\"url(#clip590)\" style=\"stroke:#000000; stroke-linecap:butt; stroke-linejoin:round; stroke-width:4; stroke-opacity:1; fill:none\" points=\"\n",
       "  192.941,1486.45 192.941,47.2441 \n",
       "  \"/>\n",
       "<polyline clip-path=\"url(#clip590)\" style=\"stroke:#000000; stroke-linecap:butt; stroke-linejoin:round; stroke-width:4; stroke-opacity:1; fill:none\" points=\"\n",
       "  192.941,1247.25 211.838,1247.25 \n",
       "  \"/>\n",
       "<polyline clip-path=\"url(#clip590)\" style=\"stroke:#000000; stroke-linecap:butt; stroke-linejoin:round; stroke-width:4; stroke-opacity:1; fill:none\" points=\"\n",
       "  192.941,860.819 211.838,860.819 \n",
       "  \"/>\n",
       "<polyline clip-path=\"url(#clip590)\" style=\"stroke:#000000; stroke-linecap:butt; stroke-linejoin:round; stroke-width:4; stroke-opacity:1; fill:none\" points=\"\n",
       "  192.941,474.393 211.838,474.393 \n",
       "  \"/>\n",
       "<polyline clip-path=\"url(#clip590)\" style=\"stroke:#000000; stroke-linecap:butt; stroke-linejoin:round; stroke-width:4; stroke-opacity:1; fill:none\" points=\"\n",
       "  192.941,87.9668 211.838,87.9668 \n",
       "  \"/>\n",
       "<path clip-path=\"url(#clip590)\" d=\"M50.9921 1247.7 L80.6679 1247.7 L80.6679 1251.63 L50.9921 1251.63 L50.9921 1247.7 Z\" fill=\"#000000\" fill-rule=\"evenodd\" fill-opacity=\"1\" /><path clip-path=\"url(#clip590)\" d=\"M100.76 1233.04 Q97.1493 1233.04 95.3206 1236.61 Q93.515 1240.15 93.515 1247.28 Q93.515 1254.39 95.3206 1257.95 Q97.1493 1261.49 100.76 1261.49 Q104.395 1261.49 106.2 1257.95 Q108.029 1254.39 108.029 1247.28 Q108.029 1240.15 106.2 1236.61 Q104.395 1233.04 100.76 1233.04 M100.76 1229.34 Q106.571 1229.34 109.626 1233.95 Q112.705 1238.53 112.705 1247.28 Q112.705 1256.01 109.626 1260.61 Q106.571 1265.2 100.76 1265.2 Q94.9502 1265.2 91.8715 1260.61 Q88.816 1256.01 88.816 1247.28 Q88.816 1238.53 91.8715 1233.95 Q94.9502 1229.34 100.76 1229.34 Z\" fill=\"#000000\" fill-rule=\"evenodd\" fill-opacity=\"1\" /><path clip-path=\"url(#clip590)\" d=\"M120.922 1258.65 L125.807 1258.65 L125.807 1264.53 L120.922 1264.53 L120.922 1258.65 Z\" fill=\"#000000\" fill-rule=\"evenodd\" fill-opacity=\"1\" /><path clip-path=\"url(#clip590)\" d=\"M136.038 1229.97 L154.394 1229.97 L154.394 1233.9 L140.32 1233.9 L140.32 1242.37 Q141.339 1242.03 142.357 1241.86 Q143.376 1241.68 144.394 1241.68 Q150.181 1241.68 153.561 1244.85 Q156.941 1248.02 156.941 1253.44 Q156.941 1259.02 153.468 1262.12 Q149.996 1265.2 143.677 1265.2 Q141.501 1265.2 139.232 1264.83 Q136.987 1264.46 134.58 1263.72 L134.58 1259.02 Q136.663 1260.15 138.885 1260.71 Q141.107 1261.26 143.584 1261.26 Q147.589 1261.26 149.927 1259.15 Q152.265 1257.05 152.265 1253.44 Q152.265 1249.83 149.927 1247.72 Q147.589 1245.61 143.584 1245.61 Q141.709 1245.61 139.834 1246.03 Q137.982 1246.45 136.038 1247.33 L136.038 1229.97 Z\" fill=\"#000000\" fill-rule=\"evenodd\" fill-opacity=\"1\" /><path clip-path=\"url(#clip590)\" d=\"M99.765 846.618 Q96.1539 846.618 94.3252 850.183 Q92.5197 853.724 92.5197 860.854 Q92.5197 867.96 94.3252 871.525 Q96.1539 875.067 99.765 875.067 Q103.399 875.067 105.205 871.525 Q107.033 867.96 107.033 860.854 Q107.033 853.724 105.205 850.183 Q103.399 846.618 99.765 846.618 M99.765 842.914 Q105.575 842.914 108.631 847.521 Q111.709 852.104 111.709 860.854 Q111.709 869.581 108.631 874.187 Q105.575 878.77 99.765 878.77 Q93.9549 878.77 90.8762 874.187 Q87.8206 869.581 87.8206 860.854 Q87.8206 852.104 90.8762 847.521 Q93.9549 842.914 99.765 842.914 Z\" fill=\"#000000\" fill-rule=\"evenodd\" fill-opacity=\"1\" /><path clip-path=\"url(#clip590)\" d=\"M119.927 872.22 L124.811 872.22 L124.811 878.099 L119.927 878.099 L119.927 872.22 Z\" fill=\"#000000\" fill-rule=\"evenodd\" fill-opacity=\"1\" /><path clip-path=\"url(#clip590)\" d=\"M144.996 846.618 Q141.385 846.618 139.556 850.183 Q137.751 853.724 137.751 860.854 Q137.751 867.96 139.556 871.525 Q141.385 875.067 144.996 875.067 Q148.63 875.067 150.436 871.525 Q152.265 867.96 152.265 860.854 Q152.265 853.724 150.436 850.183 Q148.63 846.618 144.996 846.618 M144.996 842.914 Q150.806 842.914 153.862 847.521 Q156.941 852.104 156.941 860.854 Q156.941 869.581 153.862 874.187 Q150.806 878.77 144.996 878.77 Q139.186 878.77 136.107 874.187 Q133.052 869.581 133.052 860.854 Q133.052 852.104 136.107 847.521 Q139.186 842.914 144.996 842.914 Z\" fill=\"#000000\" fill-rule=\"evenodd\" fill-opacity=\"1\" /><path clip-path=\"url(#clip590)\" d=\"M100.76 460.192 Q97.1493 460.192 95.3206 463.756 Q93.515 467.298 93.515 474.428 Q93.515 481.534 95.3206 485.099 Q97.1493 488.641 100.76 488.641 Q104.395 488.641 106.2 485.099 Q108.029 481.534 108.029 474.428 Q108.029 467.298 106.2 463.756 Q104.395 460.192 100.76 460.192 M100.76 456.488 Q106.571 456.488 109.626 461.094 Q112.705 465.678 112.705 474.428 Q112.705 483.154 109.626 487.761 Q106.571 492.344 100.76 492.344 Q94.9502 492.344 91.8715 487.761 Q88.816 483.154 88.816 474.428 Q88.816 465.678 91.8715 461.094 Q94.9502 456.488 100.76 456.488 Z\" fill=\"#000000\" fill-rule=\"evenodd\" fill-opacity=\"1\" /><path clip-path=\"url(#clip590)\" d=\"M120.922 485.793 L125.807 485.793 L125.807 491.673 L120.922 491.673 L120.922 485.793 Z\" fill=\"#000000\" fill-rule=\"evenodd\" fill-opacity=\"1\" /><path clip-path=\"url(#clip590)\" d=\"M136.038 457.113 L154.394 457.113 L154.394 461.048 L140.32 461.048 L140.32 469.52 Q141.339 469.173 142.357 469.011 Q143.376 468.826 144.394 468.826 Q150.181 468.826 153.561 471.997 Q156.941 475.168 156.941 480.585 Q156.941 486.164 153.468 489.266 Q149.996 492.344 143.677 492.344 Q141.501 492.344 139.232 491.974 Q136.987 491.603 134.58 490.863 L134.58 486.164 Q136.663 487.298 138.885 487.854 Q141.107 488.409 143.584 488.409 Q147.589 488.409 149.927 486.303 Q152.265 484.196 152.265 480.585 Q152.265 476.974 149.927 474.867 Q147.589 472.761 143.584 472.761 Q141.709 472.761 139.834 473.178 Q137.982 473.594 136.038 474.474 L136.038 457.113 Z\" fill=\"#000000\" fill-rule=\"evenodd\" fill-opacity=\"1\" /><path clip-path=\"url(#clip590)\" d=\"M90.5752 101.312 L98.2141 101.312 L98.2141 74.946 L89.904 76.6127 L89.904 72.3534 L98.1678 70.6868 L102.844 70.6868 L102.844 101.312 L110.483 101.312 L110.483 105.247 L90.5752 105.247 L90.5752 101.312 Z\" fill=\"#000000\" fill-rule=\"evenodd\" fill-opacity=\"1\" /><path clip-path=\"url(#clip590)\" d=\"M119.927 99.3672 L124.811 99.3672 L124.811 105.247 L119.927 105.247 L119.927 99.3672 Z\" fill=\"#000000\" fill-rule=\"evenodd\" fill-opacity=\"1\" /><path clip-path=\"url(#clip590)\" d=\"M144.996 73.7655 Q141.385 73.7655 139.556 77.3302 Q137.751 80.8719 137.751 88.0015 Q137.751 95.1079 139.556 98.6727 Q141.385 102.214 144.996 102.214 Q148.63 102.214 150.436 98.6727 Q152.265 95.1079 152.265 88.0015 Q152.265 80.8719 150.436 77.3302 Q148.63 73.7655 144.996 73.7655 M144.996 70.0618 Q150.806 70.0618 153.862 74.6682 Q156.941 79.2515 156.941 88.0015 Q156.941 96.7283 153.862 101.335 Q150.806 105.918 144.996 105.918 Q139.186 105.918 136.107 101.335 Q133.052 96.7283 133.052 88.0015 Q133.052 79.2515 136.107 74.6682 Q139.186 70.0618 144.996 70.0618 Z\" fill=\"#000000\" fill-rule=\"evenodd\" fill-opacity=\"1\" /><circle clip-path=\"url(#clip592)\" cx=\"1868.04\" cy=\"210.486\" r=\"14\" fill=\"#009af9\" fill-rule=\"evenodd\" fill-opacity=\"1\" stroke=\"#000000\" stroke-opacity=\"1\" stroke-width=\"3.2\"/>\n",
       "<circle clip-path=\"url(#clip592)\" cx=\"1848.15\" cy=\"198.133\" r=\"14\" fill=\"#009af9\" fill-rule=\"evenodd\" fill-opacity=\"1\" stroke=\"#000000\" stroke-opacity=\"1\" stroke-width=\"3.2\"/>\n",
       "<circle clip-path=\"url(#clip592)\" cx=\"1827.89\" cy=\"186.388\" r=\"14\" fill=\"#009af9\" fill-rule=\"evenodd\" fill-opacity=\"1\" stroke=\"#000000\" stroke-opacity=\"1\" stroke-width=\"3.2\"/>\n",
       "<circle clip-path=\"url(#clip592)\" cx=\"1807.28\" cy=\"175.263\" r=\"14\" fill=\"#009af9\" fill-rule=\"evenodd\" fill-opacity=\"1\" stroke=\"#000000\" stroke-opacity=\"1\" stroke-width=\"3.2\"/>\n",
       "<circle clip-path=\"url(#clip592)\" cx=\"1786.34\" cy=\"164.767\" r=\"14\" fill=\"#009af9\" fill-rule=\"evenodd\" fill-opacity=\"1\" stroke=\"#000000\" stroke-opacity=\"1\" stroke-width=\"3.2\"/>\n",
       "<circle clip-path=\"url(#clip592)\" cx=\"1765.1\" cy=\"154.91\" r=\"14\" fill=\"#009af9\" fill-rule=\"evenodd\" fill-opacity=\"1\" stroke=\"#000000\" stroke-opacity=\"1\" stroke-width=\"3.2\"/>\n",
       "<circle clip-path=\"url(#clip592)\" cx=\"1743.57\" cy=\"145.701\" r=\"14\" fill=\"#009af9\" fill-rule=\"evenodd\" fill-opacity=\"1\" stroke=\"#000000\" stroke-opacity=\"1\" stroke-width=\"3.2\"/>\n",
       "<circle clip-path=\"url(#clip592)\" cx=\"1721.77\" cy=\"137.149\" r=\"14\" fill=\"#009af9\" fill-rule=\"evenodd\" fill-opacity=\"1\" stroke=\"#000000\" stroke-opacity=\"1\" stroke-width=\"3.2\"/>\n",
       "<circle clip-path=\"url(#clip592)\" cx=\"1699.72\" cy=\"129.261\" r=\"14\" fill=\"#009af9\" fill-rule=\"evenodd\" fill-opacity=\"1\" stroke=\"#000000\" stroke-opacity=\"1\" stroke-width=\"3.2\"/>\n",
       "<circle clip-path=\"url(#clip592)\" cx=\"1677.44\" cy=\"122.045\" r=\"14\" fill=\"#009af9\" fill-rule=\"evenodd\" fill-opacity=\"1\" stroke=\"#000000\" stroke-opacity=\"1\" stroke-width=\"3.2\"/>\n",
       "<circle clip-path=\"url(#clip592)\" cx=\"1654.95\" cy=\"115.508\" r=\"14\" fill=\"#009af9\" fill-rule=\"evenodd\" fill-opacity=\"1\" stroke=\"#000000\" stroke-opacity=\"1\" stroke-width=\"3.2\"/>\n",
       "<circle clip-path=\"url(#clip592)\" cx=\"1632.27\" cy=\"109.655\" r=\"14\" fill=\"#009af9\" fill-rule=\"evenodd\" fill-opacity=\"1\" stroke=\"#000000\" stroke-opacity=\"1\" stroke-width=\"3.2\"/>\n",
       "<circle clip-path=\"url(#clip592)\" cx=\"1609.43\" cy=\"104.491\" r=\"14\" fill=\"#009af9\" fill-rule=\"evenodd\" fill-opacity=\"1\" stroke=\"#000000\" stroke-opacity=\"1\" stroke-width=\"3.2\"/>\n",
       "<circle clip-path=\"url(#clip592)\" cx=\"1586.44\" cy=\"100.022\" r=\"14\" fill=\"#009af9\" fill-rule=\"evenodd\" fill-opacity=\"1\" stroke=\"#000000\" stroke-opacity=\"1\" stroke-width=\"3.2\"/>\n",
       "<circle clip-path=\"url(#clip592)\" cx=\"1563.33\" cy=\"96.2516\" r=\"14\" fill=\"#009af9\" fill-rule=\"evenodd\" fill-opacity=\"1\" stroke=\"#000000\" stroke-opacity=\"1\" stroke-width=\"3.2\"/>\n",
       "<circle clip-path=\"url(#clip592)\" cx=\"1540.11\" cy=\"93.1832\" r=\"14\" fill=\"#009af9\" fill-rule=\"evenodd\" fill-opacity=\"1\" stroke=\"#000000\" stroke-opacity=\"1\" stroke-width=\"3.2\"/>\n",
       "<circle clip-path=\"url(#clip592)\" cx=\"1516.81\" cy=\"90.8196\" r=\"14\" fill=\"#009af9\" fill-rule=\"evenodd\" fill-opacity=\"1\" stroke=\"#000000\" stroke-opacity=\"1\" stroke-width=\"3.2\"/>\n",
       "<circle clip-path=\"url(#clip592)\" cx=\"1493.45\" cy=\"89.163\" r=\"14\" fill=\"#009af9\" fill-rule=\"evenodd\" fill-opacity=\"1\" stroke=\"#000000\" stroke-opacity=\"1\" stroke-width=\"3.2\"/>\n",
       "<circle clip-path=\"url(#clip592)\" cx=\"1470.05\" cy=\"88.2149\" r=\"14\" fill=\"#009af9\" fill-rule=\"evenodd\" fill-opacity=\"1\" stroke=\"#000000\" stroke-opacity=\"1\" stroke-width=\"3.2\"/>\n",
       "<circle clip-path=\"url(#clip592)\" cx=\"1446.63\" cy=\"87.9763\" r=\"14\" fill=\"#009af9\" fill-rule=\"evenodd\" fill-opacity=\"1\" stroke=\"#000000\" stroke-opacity=\"1\" stroke-width=\"3.2\"/>\n",
       "<circle clip-path=\"url(#clip592)\" cx=\"1423.22\" cy=\"88.4473\" r=\"14\" fill=\"#009af9\" fill-rule=\"evenodd\" fill-opacity=\"1\" stroke=\"#000000\" stroke-opacity=\"1\" stroke-width=\"3.2\"/>\n",
       "<circle clip-path=\"url(#clip592)\" cx=\"1399.83\" cy=\"89.6274\" r=\"14\" fill=\"#009af9\" fill-rule=\"evenodd\" fill-opacity=\"1\" stroke=\"#000000\" stroke-opacity=\"1\" stroke-width=\"3.2\"/>\n",
       "<circle clip-path=\"url(#clip592)\" cx=\"1376.49\" cy=\"91.5157\" r=\"14\" fill=\"#009af9\" fill-rule=\"evenodd\" fill-opacity=\"1\" stroke=\"#000000\" stroke-opacity=\"1\" stroke-width=\"3.2\"/>\n",
       "<circle clip-path=\"url(#clip592)\" cx=\"1353.21\" cy=\"94.1104\" r=\"14\" fill=\"#009af9\" fill-rule=\"evenodd\" fill-opacity=\"1\" stroke=\"#000000\" stroke-opacity=\"1\" stroke-width=\"3.2\"/>\n",
       "<circle clip-path=\"url(#clip592)\" cx=\"1330.03\" cy=\"97.4091\" r=\"14\" fill=\"#009af9\" fill-rule=\"evenodd\" fill-opacity=\"1\" stroke=\"#000000\" stroke-opacity=\"1\" stroke-width=\"3.2\"/>\n",
       "<circle clip-path=\"url(#clip592)\" cx=\"1306.95\" cy=\"101.409\" r=\"14\" fill=\"#009af9\" fill-rule=\"evenodd\" fill-opacity=\"1\" stroke=\"#000000\" stroke-opacity=\"1\" stroke-width=\"3.2\"/>\n",
       "<circle clip-path=\"url(#clip592)\" cx=\"1284.01\" cy=\"106.106\" r=\"14\" fill=\"#009af9\" fill-rule=\"evenodd\" fill-opacity=\"1\" stroke=\"#000000\" stroke-opacity=\"1\" stroke-width=\"3.2\"/>\n",
       "<circle clip-path=\"url(#clip592)\" cx=\"1261.22\" cy=\"111.496\" r=\"14\" fill=\"#009af9\" fill-rule=\"evenodd\" fill-opacity=\"1\" stroke=\"#000000\" stroke-opacity=\"1\" stroke-width=\"3.2\"/>\n",
       "<circle clip-path=\"url(#clip592)\" cx=\"1238.6\" cy=\"117.573\" r=\"14\" fill=\"#009af9\" fill-rule=\"evenodd\" fill-opacity=\"1\" stroke=\"#000000\" stroke-opacity=\"1\" stroke-width=\"3.2\"/>\n",
       "<circle clip-path=\"url(#clip592)\" cx=\"1216.18\" cy=\"124.334\" r=\"14\" fill=\"#009af9\" fill-rule=\"evenodd\" fill-opacity=\"1\" stroke=\"#000000\" stroke-opacity=\"1\" stroke-width=\"3.2\"/>\n",
       "<circle clip-path=\"url(#clip592)\" cx=\"1193.98\" cy=\"131.77\" r=\"14\" fill=\"#009af9\" fill-rule=\"evenodd\" fill-opacity=\"1\" stroke=\"#000000\" stroke-opacity=\"1\" stroke-width=\"3.2\"/>\n",
       "<circle clip-path=\"url(#clip592)\" cx=\"1172\" cy=\"139.877\" r=\"14\" fill=\"#009af9\" fill-rule=\"evenodd\" fill-opacity=\"1\" stroke=\"#000000\" stroke-opacity=\"1\" stroke-width=\"3.2\"/>\n",
       "<circle clip-path=\"url(#clip592)\" cx=\"1150.29\" cy=\"148.645\" r=\"14\" fill=\"#009af9\" fill-rule=\"evenodd\" fill-opacity=\"1\" stroke=\"#000000\" stroke-opacity=\"1\" stroke-width=\"3.2\"/>\n",
       "<circle clip-path=\"url(#clip592)\" cx=\"1128.85\" cy=\"158.066\" r=\"14\" fill=\"#009af9\" fill-rule=\"evenodd\" fill-opacity=\"1\" stroke=\"#000000\" stroke-opacity=\"1\" stroke-width=\"3.2\"/>\n",
       "<circle clip-path=\"url(#clip592)\" cx=\"1107.7\" cy=\"168.134\" r=\"14\" fill=\"#009af9\" fill-rule=\"evenodd\" fill-opacity=\"1\" stroke=\"#000000\" stroke-opacity=\"1\" stroke-width=\"3.2\"/>\n",
       "<circle clip-path=\"url(#clip592)\" cx=\"1086.87\" cy=\"178.837\" r=\"14\" fill=\"#009af9\" fill-rule=\"evenodd\" fill-opacity=\"1\" stroke=\"#000000\" stroke-opacity=\"1\" stroke-width=\"3.2\"/>\n",
       "<circle clip-path=\"url(#clip592)\" cx=\"1066.38\" cy=\"190.166\" r=\"14\" fill=\"#009af9\" fill-rule=\"evenodd\" fill-opacity=\"1\" stroke=\"#000000\" stroke-opacity=\"1\" stroke-width=\"3.2\"/>\n",
       "<circle clip-path=\"url(#clip592)\" cx=\"1046.23\" cy=\"202.112\" r=\"14\" fill=\"#009af9\" fill-rule=\"evenodd\" fill-opacity=\"1\" stroke=\"#000000\" stroke-opacity=\"1\" stroke-width=\"3.2\"/>\n",
       "<circle clip-path=\"url(#clip592)\" cx=\"1026.46\" cy=\"214.662\" r=\"14\" fill=\"#009af9\" fill-rule=\"evenodd\" fill-opacity=\"1\" stroke=\"#000000\" stroke-opacity=\"1\" stroke-width=\"3.2\"/>\n",
       "<circle clip-path=\"url(#clip592)\" cx=\"1007.08\" cy=\"227.805\" r=\"14\" fill=\"#009af9\" fill-rule=\"evenodd\" fill-opacity=\"1\" stroke=\"#000000\" stroke-opacity=\"1\" stroke-width=\"3.2\"/>\n",
       "<circle clip-path=\"url(#clip592)\" cx=\"988.104\" cy=\"241.53\" r=\"14\" fill=\"#009af9\" fill-rule=\"evenodd\" fill-opacity=\"1\" stroke=\"#000000\" stroke-opacity=\"1\" stroke-width=\"3.2\"/>\n",
       "<circle clip-path=\"url(#clip592)\" cx=\"969.552\" cy=\"255.823\" r=\"14\" fill=\"#009af9\" fill-rule=\"evenodd\" fill-opacity=\"1\" stroke=\"#000000\" stroke-opacity=\"1\" stroke-width=\"3.2\"/>\n",
       "<circle clip-path=\"url(#clip592)\" cx=\"951.443\" cy=\"270.672\" r=\"14\" fill=\"#009af9\" fill-rule=\"evenodd\" fill-opacity=\"1\" stroke=\"#000000\" stroke-opacity=\"1\" stroke-width=\"3.2\"/>\n",
       "<circle clip-path=\"url(#clip592)\" cx=\"933.791\" cy=\"286.062\" r=\"14\" fill=\"#009af9\" fill-rule=\"evenodd\" fill-opacity=\"1\" stroke=\"#000000\" stroke-opacity=\"1\" stroke-width=\"3.2\"/>\n",
       "<circle clip-path=\"url(#clip592)\" cx=\"916.614\" cy=\"301.98\" r=\"14\" fill=\"#009af9\" fill-rule=\"evenodd\" fill-opacity=\"1\" stroke=\"#000000\" stroke-opacity=\"1\" stroke-width=\"3.2\"/>\n",
       "<circle clip-path=\"url(#clip592)\" cx=\"899.928\" cy=\"318.412\" r=\"14\" fill=\"#009af9\" fill-rule=\"evenodd\" fill-opacity=\"1\" stroke=\"#000000\" stroke-opacity=\"1\" stroke-width=\"3.2\"/>\n",
       "<circle clip-path=\"url(#clip592)\" cx=\"883.746\" cy=\"335.341\" r=\"14\" fill=\"#009af9\" fill-rule=\"evenodd\" fill-opacity=\"1\" stroke=\"#000000\" stroke-opacity=\"1\" stroke-width=\"3.2\"/>\n",
       "<circle clip-path=\"url(#clip592)\" cx=\"868.085\" cy=\"352.754\" r=\"14\" fill=\"#009af9\" fill-rule=\"evenodd\" fill-opacity=\"1\" stroke=\"#000000\" stroke-opacity=\"1\" stroke-width=\"3.2\"/>\n",
       "<circle clip-path=\"url(#clip592)\" cx=\"852.959\" cy=\"370.632\" r=\"14\" fill=\"#009af9\" fill-rule=\"evenodd\" fill-opacity=\"1\" stroke=\"#000000\" stroke-opacity=\"1\" stroke-width=\"3.2\"/>\n",
       "<circle clip-path=\"url(#clip592)\" cx=\"838.382\" cy=\"388.961\" r=\"14\" fill=\"#009af9\" fill-rule=\"evenodd\" fill-opacity=\"1\" stroke=\"#000000\" stroke-opacity=\"1\" stroke-width=\"3.2\"/>\n",
       "<circle clip-path=\"url(#clip592)\" cx=\"824.366\" cy=\"407.723\" r=\"14\" fill=\"#009af9\" fill-rule=\"evenodd\" fill-opacity=\"1\" stroke=\"#000000\" stroke-opacity=\"1\" stroke-width=\"3.2\"/>\n",
       "<circle clip-path=\"url(#clip592)\" cx=\"810.925\" cy=\"426.9\" r=\"14\" fill=\"#009af9\" fill-rule=\"evenodd\" fill-opacity=\"1\" stroke=\"#000000\" stroke-opacity=\"1\" stroke-width=\"3.2\"/>\n",
       "<circle clip-path=\"url(#clip592)\" cx=\"798.072\" cy=\"446.477\" r=\"14\" fill=\"#009af9\" fill-rule=\"evenodd\" fill-opacity=\"1\" stroke=\"#000000\" stroke-opacity=\"1\" stroke-width=\"3.2\"/>\n",
       "<circle clip-path=\"url(#clip592)\" cx=\"785.818\" cy=\"466.434\" r=\"14\" fill=\"#009af9\" fill-rule=\"evenodd\" fill-opacity=\"1\" stroke=\"#000000\" stroke-opacity=\"1\" stroke-width=\"3.2\"/>\n",
       "<circle clip-path=\"url(#clip592)\" cx=\"774.173\" cy=\"486.753\" r=\"14\" fill=\"#009af9\" fill-rule=\"evenodd\" fill-opacity=\"1\" stroke=\"#000000\" stroke-opacity=\"1\" stroke-width=\"3.2\"/>\n",
       "<circle clip-path=\"url(#clip592)\" cx=\"763.15\" cy=\"507.415\" r=\"14\" fill=\"#009af9\" fill-rule=\"evenodd\" fill-opacity=\"1\" stroke=\"#000000\" stroke-opacity=\"1\" stroke-width=\"3.2\"/>\n",
       "<circle clip-path=\"url(#clip592)\" cx=\"752.758\" cy=\"528.402\" r=\"14\" fill=\"#009af9\" fill-rule=\"evenodd\" fill-opacity=\"1\" stroke=\"#000000\" stroke-opacity=\"1\" stroke-width=\"3.2\"/>\n",
       "<circle clip-path=\"url(#clip592)\" cx=\"743.007\" cy=\"549.694\" r=\"14\" fill=\"#009af9\" fill-rule=\"evenodd\" fill-opacity=\"1\" stroke=\"#000000\" stroke-opacity=\"1\" stroke-width=\"3.2\"/>\n",
       "<circle clip-path=\"url(#clip592)\" cx=\"733.905\" cy=\"571.272\" r=\"14\" fill=\"#009af9\" fill-rule=\"evenodd\" fill-opacity=\"1\" stroke=\"#000000\" stroke-opacity=\"1\" stroke-width=\"3.2\"/>\n",
       "<circle clip-path=\"url(#clip592)\" cx=\"725.461\" cy=\"593.115\" r=\"14\" fill=\"#009af9\" fill-rule=\"evenodd\" fill-opacity=\"1\" stroke=\"#000000\" stroke-opacity=\"1\" stroke-width=\"3.2\"/>\n",
       "<circle clip-path=\"url(#clip592)\" cx=\"717.683\" cy=\"615.205\" r=\"14\" fill=\"#009af9\" fill-rule=\"evenodd\" fill-opacity=\"1\" stroke=\"#000000\" stroke-opacity=\"1\" stroke-width=\"3.2\"/>\n",
       "<circle clip-path=\"url(#clip592)\" cx=\"710.578\" cy=\"637.52\" r=\"14\" fill=\"#009af9\" fill-rule=\"evenodd\" fill-opacity=\"1\" stroke=\"#000000\" stroke-opacity=\"1\" stroke-width=\"3.2\"/>\n",
       "<circle clip-path=\"url(#clip592)\" cx=\"704.152\" cy=\"660.04\" r=\"14\" fill=\"#009af9\" fill-rule=\"evenodd\" fill-opacity=\"1\" stroke=\"#000000\" stroke-opacity=\"1\" stroke-width=\"3.2\"/>\n",
       "<circle clip-path=\"url(#clip592)\" cx=\"698.411\" cy=\"682.744\" r=\"14\" fill=\"#009af9\" fill-rule=\"evenodd\" fill-opacity=\"1\" stroke=\"#000000\" stroke-opacity=\"1\" stroke-width=\"3.2\"/>\n",
       "<circle clip-path=\"url(#clip592)\" cx=\"693.361\" cy=\"705.612\" r=\"14\" fill=\"#009af9\" fill-rule=\"evenodd\" fill-opacity=\"1\" stroke=\"#000000\" stroke-opacity=\"1\" stroke-width=\"3.2\"/>\n",
       "<circle clip-path=\"url(#clip592)\" cx=\"689.006\" cy=\"728.622\" r=\"14\" fill=\"#009af9\" fill-rule=\"evenodd\" fill-opacity=\"1\" stroke=\"#000000\" stroke-opacity=\"1\" stroke-width=\"3.2\"/>\n",
       "<circle clip-path=\"url(#clip592)\" cx=\"685.35\" cy=\"751.754\" r=\"14\" fill=\"#009af9\" fill-rule=\"evenodd\" fill-opacity=\"1\" stroke=\"#000000\" stroke-opacity=\"1\" stroke-width=\"3.2\"/>\n",
       "<circle clip-path=\"url(#clip592)\" cx=\"682.397\" cy=\"774.986\" r=\"14\" fill=\"#009af9\" fill-rule=\"evenodd\" fill-opacity=\"1\" stroke=\"#000000\" stroke-opacity=\"1\" stroke-width=\"3.2\"/>\n",
       "<circle clip-path=\"url(#clip592)\" cx=\"680.149\" cy=\"798.297\" r=\"14\" fill=\"#009af9\" fill-rule=\"evenodd\" fill-opacity=\"1\" stroke=\"#000000\" stroke-opacity=\"1\" stroke-width=\"3.2\"/>\n",
       "<circle clip-path=\"url(#clip592)\" cx=\"678.609\" cy=\"821.665\" r=\"14\" fill=\"#009af9\" fill-rule=\"evenodd\" fill-opacity=\"1\" stroke=\"#000000\" stroke-opacity=\"1\" stroke-width=\"3.2\"/>\n",
       "<circle clip-path=\"url(#clip592)\" cx=\"677.777\" cy=\"845.069\" r=\"14\" fill=\"#009af9\" fill-rule=\"evenodd\" fill-opacity=\"1\" stroke=\"#000000\" stroke-opacity=\"1\" stroke-width=\"3.2\"/>\n",
       "<circle clip-path=\"url(#clip592)\" cx=\"677.654\" cy=\"868.488\" r=\"14\" fill=\"#009af9\" fill-rule=\"evenodd\" fill-opacity=\"1\" stroke=\"#000000\" stroke-opacity=\"1\" stroke-width=\"3.2\"/>\n",
       "<circle clip-path=\"url(#clip592)\" cx=\"678.241\" cy=\"891.899\" r=\"14\" fill=\"#009af9\" fill-rule=\"evenodd\" fill-opacity=\"1\" stroke=\"#000000\" stroke-opacity=\"1\" stroke-width=\"3.2\"/>\n",
       "<circle clip-path=\"url(#clip592)\" cx=\"679.538\" cy=\"915.282\" r=\"14\" fill=\"#009af9\" fill-rule=\"evenodd\" fill-opacity=\"1\" stroke=\"#000000\" stroke-opacity=\"1\" stroke-width=\"3.2\"/>\n",
       "<circle clip-path=\"url(#clip592)\" cx=\"681.542\" cy=\"938.615\" r=\"14\" fill=\"#009af9\" fill-rule=\"evenodd\" fill-opacity=\"1\" stroke=\"#000000\" stroke-opacity=\"1\" stroke-width=\"3.2\"/>\n",
       "<circle clip-path=\"url(#clip592)\" cx=\"684.252\" cy=\"961.877\" r=\"14\" fill=\"#009af9\" fill-rule=\"evenodd\" fill-opacity=\"1\" stroke=\"#000000\" stroke-opacity=\"1\" stroke-width=\"3.2\"/>\n",
       "<circle clip-path=\"url(#clip592)\" cx=\"687.665\" cy=\"985.045\" r=\"14\" fill=\"#009af9\" fill-rule=\"evenodd\" fill-opacity=\"1\" stroke=\"#000000\" stroke-opacity=\"1\" stroke-width=\"3.2\"/>\n",
       "<circle clip-path=\"url(#clip592)\" cx=\"691.779\" cy=\"1008.1\" r=\"14\" fill=\"#009af9\" fill-rule=\"evenodd\" fill-opacity=\"1\" stroke=\"#000000\" stroke-opacity=\"1\" stroke-width=\"3.2\"/>\n",
       "<circle clip-path=\"url(#clip592)\" cx=\"696.59\" cy=\"1031.02\" r=\"14\" fill=\"#009af9\" fill-rule=\"evenodd\" fill-opacity=\"1\" stroke=\"#000000\" stroke-opacity=\"1\" stroke-width=\"3.2\"/>\n",
       "<circle clip-path=\"url(#clip592)\" cx=\"702.093\" cy=\"1053.78\" r=\"14\" fill=\"#009af9\" fill-rule=\"evenodd\" fill-opacity=\"1\" stroke=\"#000000\" stroke-opacity=\"1\" stroke-width=\"3.2\"/>\n",
       "<circle clip-path=\"url(#clip592)\" cx=\"708.283\" cy=\"1076.37\" r=\"14\" fill=\"#009af9\" fill-rule=\"evenodd\" fill-opacity=\"1\" stroke=\"#000000\" stroke-opacity=\"1\" stroke-width=\"3.2\"/>\n",
       "<circle clip-path=\"url(#clip592)\" cx=\"715.155\" cy=\"1098.76\" r=\"14\" fill=\"#009af9\" fill-rule=\"evenodd\" fill-opacity=\"1\" stroke=\"#000000\" stroke-opacity=\"1\" stroke-width=\"3.2\"/>\n",
       "<circle clip-path=\"url(#clip592)\" cx=\"722.701\" cy=\"1120.93\" r=\"14\" fill=\"#009af9\" fill-rule=\"evenodd\" fill-opacity=\"1\" stroke=\"#000000\" stroke-opacity=\"1\" stroke-width=\"3.2\"/>\n",
       "<circle clip-path=\"url(#clip592)\" cx=\"730.916\" cy=\"1142.86\" r=\"14\" fill=\"#009af9\" fill-rule=\"evenodd\" fill-opacity=\"1\" stroke=\"#000000\" stroke-opacity=\"1\" stroke-width=\"3.2\"/>\n",
       "<circle clip-path=\"url(#clip592)\" cx=\"739.792\" cy=\"1164.53\" r=\"14\" fill=\"#009af9\" fill-rule=\"evenodd\" fill-opacity=\"1\" stroke=\"#000000\" stroke-opacity=\"1\" stroke-width=\"3.2\"/>\n",
       "<circle clip-path=\"url(#clip592)\" cx=\"749.32\" cy=\"1185.92\" r=\"14\" fill=\"#009af9\" fill-rule=\"evenodd\" fill-opacity=\"1\" stroke=\"#000000\" stroke-opacity=\"1\" stroke-width=\"3.2\"/>\n",
       "<circle clip-path=\"url(#clip592)\" cx=\"759.492\" cy=\"1207.02\" r=\"14\" fill=\"#009af9\" fill-rule=\"evenodd\" fill-opacity=\"1\" stroke=\"#000000\" stroke-opacity=\"1\" stroke-width=\"3.2\"/>\n",
       "<circle clip-path=\"url(#clip592)\" cx=\"770.299\" cy=\"1227.79\" r=\"14\" fill=\"#009af9\" fill-rule=\"evenodd\" fill-opacity=\"1\" stroke=\"#000000\" stroke-opacity=\"1\" stroke-width=\"3.2\"/>\n",
       "<circle clip-path=\"url(#clip592)\" cx=\"781.73\" cy=\"1248.23\" r=\"14\" fill=\"#009af9\" fill-rule=\"evenodd\" fill-opacity=\"1\" stroke=\"#000000\" stroke-opacity=\"1\" stroke-width=\"3.2\"/>\n",
       "<circle clip-path=\"url(#clip592)\" cx=\"793.775\" cy=\"1268.32\" r=\"14\" fill=\"#009af9\" fill-rule=\"evenodd\" fill-opacity=\"1\" stroke=\"#000000\" stroke-opacity=\"1\" stroke-width=\"3.2\"/>\n",
       "<circle clip-path=\"url(#clip592)\" cx=\"806.423\" cy=\"1288.03\" r=\"14\" fill=\"#009af9\" fill-rule=\"evenodd\" fill-opacity=\"1\" stroke=\"#000000\" stroke-opacity=\"1\" stroke-width=\"3.2\"/>\n",
       "<circle clip-path=\"url(#clip592)\" cx=\"819.662\" cy=\"1307.34\" r=\"14\" fill=\"#009af9\" fill-rule=\"evenodd\" fill-opacity=\"1\" stroke=\"#000000\" stroke-opacity=\"1\" stroke-width=\"3.2\"/>\n",
       "<circle clip-path=\"url(#clip592)\" cx=\"833.48\" cy=\"1326.25\" r=\"14\" fill=\"#009af9\" fill-rule=\"evenodd\" fill-opacity=\"1\" stroke=\"#000000\" stroke-opacity=\"1\" stroke-width=\"3.2\"/>\n",
       "<circle clip-path=\"url(#clip592)\" cx=\"847.866\" cy=\"1344.73\" r=\"14\" fill=\"#009af9\" fill-rule=\"evenodd\" fill-opacity=\"1\" stroke=\"#000000\" stroke-opacity=\"1\" stroke-width=\"3.2\"/>\n",
       "<circle clip-path=\"url(#clip592)\" cx=\"862.804\" cy=\"1362.77\" r=\"14\" fill=\"#009af9\" fill-rule=\"evenodd\" fill-opacity=\"1\" stroke=\"#000000\" stroke-opacity=\"1\" stroke-width=\"3.2\"/>\n",
       "<circle clip-path=\"url(#clip592)\" cx=\"878.282\" cy=\"1380.34\" r=\"14\" fill=\"#009af9\" fill-rule=\"evenodd\" fill-opacity=\"1\" stroke=\"#000000\" stroke-opacity=\"1\" stroke-width=\"3.2\"/>\n",
       "<circle clip-path=\"url(#clip592)\" cx=\"894.285\" cy=\"1397.44\" r=\"14\" fill=\"#009af9\" fill-rule=\"evenodd\" fill-opacity=\"1\" stroke=\"#000000\" stroke-opacity=\"1\" stroke-width=\"3.2\"/>\n",
       "<circle clip-path=\"url(#clip592)\" cx=\"910.799\" cy=\"1414.04\" r=\"14\" fill=\"#009af9\" fill-rule=\"evenodd\" fill-opacity=\"1\" stroke=\"#000000\" stroke-opacity=\"1\" stroke-width=\"3.2\"/>\n",
       "<circle clip-path=\"url(#clip592)\" cx=\"927.809\" cy=\"1430.14\" r=\"14\" fill=\"#009af9\" fill-rule=\"evenodd\" fill-opacity=\"1\" stroke=\"#000000\" stroke-opacity=\"1\" stroke-width=\"3.2\"/>\n",
       "<circle clip-path=\"url(#clip592)\" cx=\"945.298\" cy=\"1445.72\" r=\"14\" fill=\"#009af9\" fill-rule=\"evenodd\" fill-opacity=\"1\" stroke=\"#000000\" stroke-opacity=\"1\" stroke-width=\"3.2\"/>\n",
       "</svg>\n"
      ]
     },
     "execution_count": 189,
     "metadata": {},
     "output_type": "execute_result"
    }
   ],
   "source": [
    "theta = 1 .+ LinRange(0, 3, 100)\n",
    "scatter(cos.(theta), sin.(theta), legend=:none, aspect_ratio=:equal)"
   ]
  },
  {
   "cell_type": "code",
   "execution_count": 179,
   "id": "cc045290",
   "metadata": {
    "cell_style": "split"
   },
   "outputs": [
    {
     "data": {
      "image/svg+xml": [
       "<?xml version=\"1.0\" encoding=\"utf-8\"?>\n",
       "<svg xmlns=\"http://www.w3.org/2000/svg\" xmlns:xlink=\"http://www.w3.org/1999/xlink\" width=\"600\" height=\"400\" viewBox=\"0 0 2400 1600\">\n",
       "<defs>\n",
       "  <clipPath id=\"clip230\">\n",
       "    <rect x=\"0\" y=\"0\" width=\"2400\" height=\"1600\"/>\n",
       "  </clipPath>\n",
       "</defs>\n",
       "<path clip-path=\"url(#clip230)\" d=\"\n",
       "M0 1600 L2400 1600 L2400 0 L0 0  Z\n",
       "  \" fill=\"#ffffff\" fill-rule=\"evenodd\" fill-opacity=\"1\"/>\n",
       "<defs>\n",
       "  <clipPath id=\"clip231\">\n",
       "    <rect x=\"480\" y=\"0\" width=\"1681\" height=\"1600\"/>\n",
       "  </clipPath>\n",
       "</defs>\n",
       "<path clip-path=\"url(#clip230)\" d=\"\n",
       "M486.181 1474.16 L2352.76 1474.16 L2352.76 47.2441 L486.181 47.2441  Z\n",
       "  \" fill=\"#ffffff\" fill-rule=\"evenodd\" fill-opacity=\"1\"/>\n",
       "<defs>\n",
       "  <clipPath id=\"clip232\">\n",
       "    <rect x=\"486\" y=\"47\" width=\"1868\" height=\"1428\"/>\n",
       "  </clipPath>\n",
       "</defs>\n",
       "<polyline clip-path=\"url(#clip232)\" style=\"stroke:#000000; stroke-linecap:butt; stroke-linejoin:round; stroke-width:2; stroke-opacity:0.1; fill:none\" points=\"\n",
       "  489.168,1474.16 489.168,47.2441 \n",
       "  \"/>\n",
       "<polyline clip-path=\"url(#clip232)\" style=\"stroke:#000000; stroke-linecap:butt; stroke-linejoin:round; stroke-width:2; stroke-opacity:0.1; fill:none\" points=\"\n",
       "  1012.33,1474.16 1012.33,47.2441 \n",
       "  \"/>\n",
       "<polyline clip-path=\"url(#clip232)\" style=\"stroke:#000000; stroke-linecap:butt; stroke-linejoin:round; stroke-width:2; stroke-opacity:0.1; fill:none\" points=\"\n",
       "  1535.5,1474.16 1535.5,47.2441 \n",
       "  \"/>\n",
       "<polyline clip-path=\"url(#clip232)\" style=\"stroke:#000000; stroke-linecap:butt; stroke-linejoin:round; stroke-width:2; stroke-opacity:0.1; fill:none\" points=\"\n",
       "  2058.66,1474.16 2058.66,47.2441 \n",
       "  \"/>\n",
       "<polyline clip-path=\"url(#clip230)\" style=\"stroke:#000000; stroke-linecap:butt; stroke-linejoin:round; stroke-width:4; stroke-opacity:1; fill:none\" points=\"\n",
       "  486.181,1474.16 2352.76,1474.16 \n",
       "  \"/>\n",
       "<polyline clip-path=\"url(#clip230)\" style=\"stroke:#000000; stroke-linecap:butt; stroke-linejoin:round; stroke-width:4; stroke-opacity:1; fill:none\" points=\"\n",
       "  489.168,1474.16 489.168,1455.27 \n",
       "  \"/>\n",
       "<polyline clip-path=\"url(#clip230)\" style=\"stroke:#000000; stroke-linecap:butt; stroke-linejoin:round; stroke-width:4; stroke-opacity:1; fill:none\" points=\"\n",
       "  1012.33,1474.16 1012.33,1455.27 \n",
       "  \"/>\n",
       "<polyline clip-path=\"url(#clip230)\" style=\"stroke:#000000; stroke-linecap:butt; stroke-linejoin:round; stroke-width:4; stroke-opacity:1; fill:none\" points=\"\n",
       "  1535.5,1474.16 1535.5,1455.27 \n",
       "  \"/>\n",
       "<polyline clip-path=\"url(#clip230)\" style=\"stroke:#000000; stroke-linecap:butt; stroke-linejoin:round; stroke-width:4; stroke-opacity:1; fill:none\" points=\"\n",
       "  2058.66,1474.16 2058.66,1455.27 \n",
       "  \"/>\n",
       "<path clip-path=\"url(#clip230)\" d=\"M306.333 1517.66 L324.689 1517.66 L324.689 1521.6 L310.615 1521.6 L310.615 1530.07 Q311.634 1529.72 312.652 1529.56 Q313.671 1529.38 314.689 1529.38 Q320.476 1529.38 323.856 1532.55 Q327.235 1535.72 327.235 1541.14 Q327.235 1546.72 323.763 1549.82 Q320.291 1552.9 313.971 1552.9 Q311.796 1552.9 309.527 1552.53 Q307.282 1552.16 304.874 1551.41 L304.874 1546.72 Q306.958 1547.85 309.18 1548.41 Q311.402 1548.96 313.879 1548.96 Q317.884 1548.96 320.221 1546.85 Q322.559 1544.75 322.559 1541.14 Q322.559 1537.53 320.221 1535.42 Q317.884 1533.31 313.879 1533.31 Q312.004 1533.31 310.129 1533.73 Q308.277 1534.15 306.333 1535.03 L306.333 1517.66 Z\" fill=\"#000000\" fill-rule=\"evenodd\" fill-opacity=\"1\" /><path clip-path=\"url(#clip230)\" d=\"M336.448 1546.35 L341.332 1546.35 L341.332 1552.22 L336.448 1552.22 L336.448 1546.35 Z\" fill=\"#000000\" fill-rule=\"evenodd\" fill-opacity=\"1\" /><path clip-path=\"url(#clip230)\" d=\"M364.365 1521.74 L352.559 1540.19 L364.365 1540.19 L364.365 1521.74 M363.138 1517.66 L369.017 1517.66 L369.017 1540.19 L373.948 1540.19 L373.948 1544.08 L369.017 1544.08 L369.017 1552.22 L364.365 1552.22 L364.365 1544.08 L348.763 1544.08 L348.763 1539.56 L363.138 1517.66 Z\" fill=\"#000000\" fill-rule=\"evenodd\" fill-opacity=\"1\" /><path clip-path=\"url(#clip230)\" d=\"M391.679 1520.74 Q388.068 1520.74 386.24 1524.31 Q384.434 1527.85 384.434 1534.98 Q384.434 1542.09 386.24 1545.65 Q388.068 1549.19 391.679 1549.19 Q395.314 1549.19 397.119 1545.65 Q398.948 1542.09 398.948 1534.98 Q398.948 1527.85 397.119 1524.31 Q395.314 1520.74 391.679 1520.74 M391.679 1517.04 Q397.49 1517.04 400.545 1521.65 Q403.624 1526.23 403.624 1534.98 Q403.624 1543.71 400.545 1548.31 Q397.49 1552.9 391.679 1552.9 Q385.869 1552.9 382.791 1548.31 Q379.735 1543.71 379.735 1534.98 Q379.735 1526.23 382.791 1521.65 Q385.869 1517.04 391.679 1517.04 Z\" fill=\"#000000\" fill-rule=\"evenodd\" fill-opacity=\"1\" /><path clip-path=\"url(#clip230)\" d=\"M415.869 1548.29 L432.188 1548.29 L432.188 1552.22 L410.244 1552.22 L410.244 1548.29 Q412.906 1545.53 417.489 1540.91 Q422.096 1536.25 423.276 1534.91 Q425.522 1532.39 426.401 1530.65 Q427.304 1528.89 427.304 1527.2 Q427.304 1524.45 425.36 1522.71 Q423.438 1520.97 420.337 1520.97 Q418.138 1520.97 415.684 1521.74 Q413.253 1522.5 410.476 1524.05 L410.476 1519.33 Q413.3 1518.2 415.753 1517.62 Q418.207 1517.04 420.244 1517.04 Q425.614 1517.04 428.809 1519.72 Q432.003 1522.41 432.003 1526.9 Q432.003 1529.03 431.193 1530.95 Q430.406 1532.85 428.3 1535.44 Q427.721 1536.11 424.619 1539.33 Q421.517 1542.53 415.869 1548.29 Z\" fill=\"#000000\" fill-rule=\"evenodd\" fill-opacity=\"1\" /><path clip-path=\"url(#clip230)\" d=\"M452.003 1535.81 Q448.67 1535.81 446.749 1537.6 Q444.85 1539.38 444.85 1542.5 Q444.85 1545.63 446.749 1547.41 Q448.67 1549.19 452.003 1549.19 Q455.336 1549.19 457.258 1547.41 Q459.179 1545.6 459.179 1542.5 Q459.179 1539.38 457.258 1537.6 Q455.36 1535.81 452.003 1535.81 M447.327 1533.82 Q444.318 1533.08 442.628 1531.02 Q440.962 1528.96 440.962 1526 Q440.962 1521.85 443.901 1519.45 Q446.864 1517.04 452.003 1517.04 Q457.165 1517.04 460.105 1519.45 Q463.045 1521.85 463.045 1526 Q463.045 1528.96 461.355 1531.02 Q459.688 1533.08 456.702 1533.82 Q460.082 1534.61 461.957 1536.9 Q463.855 1539.19 463.855 1542.5 Q463.855 1547.53 460.776 1550.21 Q457.721 1552.9 452.003 1552.9 Q446.286 1552.9 443.207 1550.21 Q440.151 1547.53 440.151 1542.5 Q440.151 1539.19 442.05 1536.9 Q443.948 1534.61 447.327 1533.82 M445.614 1526.44 Q445.614 1529.12 447.281 1530.63 Q448.971 1532.13 452.003 1532.13 Q455.012 1532.13 456.702 1530.63 Q458.415 1529.12 458.415 1526.44 Q458.415 1523.75 456.702 1522.25 Q455.012 1520.74 452.003 1520.74 Q448.971 1520.74 447.281 1522.25 Q445.614 1523.75 445.614 1526.44 Z\" fill=\"#000000\" fill-rule=\"evenodd\" fill-opacity=\"1\" /><path clip-path=\"url(#clip230)\" d=\"M472.211 1517.66 L490.568 1517.66 L490.568 1521.6 L476.494 1521.6 L476.494 1530.07 Q477.512 1529.72 478.531 1529.56 Q479.549 1529.38 480.568 1529.38 Q486.355 1529.38 489.734 1532.55 Q493.114 1535.72 493.114 1541.14 Q493.114 1546.72 489.642 1549.82 Q486.17 1552.9 479.85 1552.9 Q477.674 1552.9 475.406 1552.53 Q473.16 1552.16 470.753 1551.41 L470.753 1546.72 Q472.836 1547.85 475.059 1548.41 Q477.281 1548.96 479.758 1548.96 Q483.762 1548.96 486.1 1546.85 Q488.438 1544.75 488.438 1541.14 Q488.438 1537.53 486.1 1535.42 Q483.762 1533.31 479.758 1533.31 Q477.883 1533.31 476.008 1533.73 Q474.156 1534.15 472.211 1535.03 L472.211 1517.66 Z\" fill=\"#000000\" fill-rule=\"evenodd\" fill-opacity=\"1\" /><path clip-path=\"url(#clip230)\" d=\"M512.327 1520.74 Q508.716 1520.74 506.887 1524.31 Q505.082 1527.85 505.082 1534.98 Q505.082 1542.09 506.887 1545.65 Q508.716 1549.19 512.327 1549.19 Q515.961 1549.19 517.767 1545.65 Q519.595 1542.09 519.595 1534.98 Q519.595 1527.85 517.767 1524.31 Q515.961 1520.74 512.327 1520.74 M512.327 1517.04 Q518.137 1517.04 521.193 1521.65 Q524.271 1526.23 524.271 1534.98 Q524.271 1543.71 521.193 1548.31 Q518.137 1552.9 512.327 1552.9 Q506.517 1552.9 503.438 1548.31 Q500.383 1543.71 500.383 1534.98 Q500.383 1526.23 503.438 1521.65 Q506.517 1517.04 512.327 1517.04 Z\" fill=\"#000000\" fill-rule=\"evenodd\" fill-opacity=\"1\" /><path clip-path=\"url(#clip230)\" d=\"M560.66 1526.76 L550.081 1537.39 L560.66 1547.97 L557.905 1550.77 L547.28 1540.14 L536.655 1550.77 L533.924 1547.97 L544.48 1537.39 L533.924 1526.76 L536.655 1523.96 L547.28 1534.59 L557.905 1523.96 L560.66 1526.76 Z\" fill=\"#000000\" fill-rule=\"evenodd\" fill-opacity=\"1\" /><path clip-path=\"url(#clip230)\" d=\"M573.021 1548.29 L580.66 1548.29 L580.66 1521.92 L572.35 1523.59 L572.35 1519.33 L580.614 1517.66 L585.289 1517.66 L585.289 1548.29 L592.928 1548.29 L592.928 1552.22 L573.021 1552.22 L573.021 1548.29 Z\" fill=\"#000000\" fill-rule=\"evenodd\" fill-opacity=\"1\" /><path clip-path=\"url(#clip230)\" d=\"M612.373 1520.74 Q608.762 1520.74 606.933 1524.31 Q605.127 1527.85 605.127 1534.98 Q605.127 1542.09 606.933 1545.65 Q608.762 1549.19 612.373 1549.19 Q616.007 1549.19 617.812 1545.65 Q619.641 1542.09 619.641 1534.98 Q619.641 1527.85 617.812 1524.31 Q616.007 1520.74 612.373 1520.74 M612.373 1517.04 Q618.183 1517.04 621.238 1521.65 Q624.317 1526.23 624.317 1534.98 Q624.317 1543.71 621.238 1548.31 Q618.183 1552.9 612.373 1552.9 Q606.563 1552.9 603.484 1548.31 Q600.428 1543.71 600.428 1534.98 Q600.428 1526.23 603.484 1521.65 Q606.563 1517.04 612.373 1517.04 Z\" fill=\"#000000\" fill-rule=\"evenodd\" fill-opacity=\"1\" /><path clip-path=\"url(#clip230)\" d=\"M624.317 1511.14 L648.429 1511.14 L648.429 1514.34 L624.317 1514.34 L624.317 1511.14 Z\" fill=\"#000000\" fill-rule=\"evenodd\" fill-opacity=\"1\" /><path clip-path=\"url(#clip230)\" d=\"M657.287 1521.62 L663.494 1521.62 L663.494 1500.19 L656.742 1501.55 L656.742 1498.09 L663.456 1496.73 L667.255 1496.73 L667.255 1521.62 L673.462 1521.62 L673.462 1524.81 L657.287 1524.81 L657.287 1521.62 Z\" fill=\"#000000\" fill-rule=\"evenodd\" fill-opacity=\"1\" /><path clip-path=\"url(#clip230)\" d=\"M829.496 1517.66 L847.853 1517.66 L847.853 1521.6 L833.779 1521.6 L833.779 1530.07 Q834.797 1529.72 835.816 1529.56 Q836.834 1529.38 837.853 1529.38 Q843.64 1529.38 847.019 1532.55 Q850.399 1535.72 850.399 1541.14 Q850.399 1546.72 846.927 1549.82 Q843.455 1552.9 837.135 1552.9 Q834.959 1552.9 832.691 1552.53 Q830.445 1552.16 828.038 1551.41 L828.038 1546.72 Q830.121 1547.85 832.344 1548.41 Q834.566 1548.96 837.043 1548.96 Q841.047 1548.96 843.385 1546.85 Q845.723 1544.75 845.723 1541.14 Q845.723 1537.53 843.385 1535.42 Q841.047 1533.31 837.043 1533.31 Q835.168 1533.31 833.293 1533.73 Q831.441 1534.15 829.496 1535.03 L829.496 1517.66 Z\" fill=\"#000000\" fill-rule=\"evenodd\" fill-opacity=\"1\" /><path clip-path=\"url(#clip230)\" d=\"M859.612 1546.35 L864.496 1546.35 L864.496 1552.22 L859.612 1552.22 L859.612 1546.35 Z\" fill=\"#000000\" fill-rule=\"evenodd\" fill-opacity=\"1\" /><path clip-path=\"url(#clip230)\" d=\"M887.528 1521.74 L875.723 1540.19 L887.528 1540.19 L887.528 1521.74 M886.302 1517.66 L892.181 1517.66 L892.181 1540.19 L897.112 1540.19 L897.112 1544.08 L892.181 1544.08 L892.181 1552.22 L887.528 1552.22 L887.528 1544.08 L871.927 1544.08 L871.927 1539.56 L886.302 1517.66 Z\" fill=\"#000000\" fill-rule=\"evenodd\" fill-opacity=\"1\" /><path clip-path=\"url(#clip230)\" d=\"M914.843 1520.74 Q911.232 1520.74 909.403 1524.31 Q907.598 1527.85 907.598 1534.98 Q907.598 1542.09 909.403 1545.65 Q911.232 1549.19 914.843 1549.19 Q918.477 1549.19 920.283 1545.65 Q922.112 1542.09 922.112 1534.98 Q922.112 1527.85 920.283 1524.31 Q918.477 1520.74 914.843 1520.74 M914.843 1517.04 Q920.653 1517.04 923.709 1521.65 Q926.787 1526.23 926.787 1534.98 Q926.787 1543.71 923.709 1548.31 Q920.653 1552.9 914.843 1552.9 Q909.033 1552.9 905.954 1548.31 Q902.899 1543.71 902.899 1534.98 Q902.899 1526.23 905.954 1521.65 Q909.033 1517.04 914.843 1517.04 Z\" fill=\"#000000\" fill-rule=\"evenodd\" fill-opacity=\"1\" /><path clip-path=\"url(#clip230)\" d=\"M939.033 1548.29 L955.352 1548.29 L955.352 1552.22 L933.408 1552.22 L933.408 1548.29 Q936.07 1545.53 940.653 1540.91 Q945.26 1536.25 946.44 1534.91 Q948.685 1532.39 949.565 1530.65 Q950.468 1528.89 950.468 1527.2 Q950.468 1524.45 948.523 1522.71 Q946.602 1520.97 943.5 1520.97 Q941.301 1520.97 938.848 1521.74 Q936.417 1522.5 933.639 1524.05 L933.639 1519.33 Q936.463 1518.2 938.917 1517.62 Q941.371 1517.04 943.408 1517.04 Q948.778 1517.04 951.973 1519.72 Q955.167 1522.41 955.167 1526.9 Q955.167 1529.03 954.357 1530.95 Q953.57 1532.85 951.463 1535.44 Q950.885 1536.11 947.783 1539.33 Q944.681 1542.53 939.033 1548.29 Z\" fill=\"#000000\" fill-rule=\"evenodd\" fill-opacity=\"1\" /><path clip-path=\"url(#clip230)\" d=\"M965.306 1551.51 L965.306 1547.25 Q967.065 1548.08 968.871 1548.52 Q970.676 1548.96 972.412 1548.96 Q977.042 1548.96 979.472 1545.86 Q981.926 1542.73 982.273 1536.39 Q980.931 1538.38 978.871 1539.45 Q976.81 1540.51 974.31 1540.51 Q969.125 1540.51 966.093 1537.39 Q963.084 1534.24 963.084 1528.8 Q963.084 1523.47 966.232 1520.26 Q969.38 1517.04 974.611 1517.04 Q980.607 1517.04 983.755 1521.65 Q986.926 1526.23 986.926 1534.98 Q986.926 1543.15 983.037 1548.03 Q979.171 1552.9 972.621 1552.9 Q970.861 1552.9 969.056 1552.55 Q967.25 1552.2 965.306 1551.51 M974.611 1536.85 Q977.759 1536.85 979.588 1534.7 Q981.44 1532.55 981.44 1528.8 Q981.44 1525.07 979.588 1522.92 Q977.759 1520.74 974.611 1520.74 Q971.463 1520.74 969.611 1522.92 Q967.783 1525.07 967.783 1528.8 Q967.783 1532.55 969.611 1534.7 Q971.463 1536.85 974.611 1536.85 Z\" fill=\"#000000\" fill-rule=\"evenodd\" fill-opacity=\"1\" /><path clip-path=\"url(#clip230)\" d=\"M1005.33 1520.74 Q1001.72 1520.74 999.889 1524.31 Q998.083 1527.85 998.083 1534.98 Q998.083 1542.09 999.889 1545.65 Q1001.72 1549.19 1005.33 1549.19 Q1008.96 1549.19 1010.77 1545.65 Q1012.6 1542.09 1012.6 1534.98 Q1012.6 1527.85 1010.77 1524.31 Q1008.96 1520.74 1005.33 1520.74 M1005.33 1517.04 Q1011.14 1517.04 1014.19 1521.65 Q1017.27 1526.23 1017.27 1534.98 Q1017.27 1543.71 1014.19 1548.31 Q1011.14 1552.9 1005.33 1552.9 Q999.519 1552.9 996.44 1548.31 Q993.384 1543.71 993.384 1534.98 Q993.384 1526.23 996.44 1521.65 Q999.519 1517.04 1005.33 1517.04 Z\" fill=\"#000000\" fill-rule=\"evenodd\" fill-opacity=\"1\" /><path clip-path=\"url(#clip230)\" d=\"M1035.49 1520.74 Q1031.88 1520.74 1030.05 1524.31 Q1028.25 1527.85 1028.25 1534.98 Q1028.25 1542.09 1030.05 1545.65 Q1031.88 1549.19 1035.49 1549.19 Q1039.12 1549.19 1040.93 1545.65 Q1042.76 1542.09 1042.76 1534.98 Q1042.76 1527.85 1040.93 1524.31 Q1039.12 1520.74 1035.49 1520.74 M1035.49 1517.04 Q1041.3 1517.04 1044.36 1521.65 Q1047.43 1526.23 1047.43 1534.98 Q1047.43 1543.71 1044.36 1548.31 Q1041.3 1552.9 1035.49 1552.9 Q1029.68 1552.9 1026.6 1548.31 Q1023.55 1543.71 1023.55 1534.98 Q1023.55 1526.23 1026.6 1521.65 Q1029.68 1517.04 1035.49 1517.04 Z\" fill=\"#000000\" fill-rule=\"evenodd\" fill-opacity=\"1\" /><path clip-path=\"url(#clip230)\" d=\"M1083.82 1526.76 L1073.25 1537.39 L1083.82 1547.97 L1081.07 1550.77 L1070.44 1540.14 L1059.82 1550.77 L1057.09 1547.97 L1067.64 1537.39 L1057.09 1526.76 L1059.82 1523.96 L1070.44 1534.59 L1081.07 1523.96 L1083.82 1526.76 Z\" fill=\"#000000\" fill-rule=\"evenodd\" fill-opacity=\"1\" /><path clip-path=\"url(#clip230)\" d=\"M1096.18 1548.29 L1103.82 1548.29 L1103.82 1521.92 L1095.51 1523.59 L1095.51 1519.33 L1103.78 1517.66 L1108.45 1517.66 L1108.45 1548.29 L1116.09 1548.29 L1116.09 1552.22 L1096.18 1552.22 L1096.18 1548.29 Z\" fill=\"#000000\" fill-rule=\"evenodd\" fill-opacity=\"1\" /><path clip-path=\"url(#clip230)\" d=\"M1135.54 1520.74 Q1131.93 1520.74 1130.1 1524.31 Q1128.29 1527.85 1128.29 1534.98 Q1128.29 1542.09 1130.1 1545.65 Q1131.93 1549.19 1135.54 1549.19 Q1139.17 1549.19 1140.98 1545.65 Q1142.8 1542.09 1142.8 1534.98 Q1142.8 1527.85 1140.98 1524.31 Q1139.17 1520.74 1135.54 1520.74 M1135.54 1517.04 Q1141.35 1517.04 1144.4 1521.65 Q1147.48 1526.23 1147.48 1534.98 Q1147.48 1543.71 1144.4 1548.31 Q1141.35 1552.9 1135.54 1552.9 Q1129.73 1552.9 1126.65 1548.31 Q1123.59 1543.71 1123.59 1534.98 Q1123.59 1526.23 1126.65 1521.65 Q1129.73 1517.04 1135.54 1517.04 Z\" fill=\"#000000\" fill-rule=\"evenodd\" fill-opacity=\"1\" /><path clip-path=\"url(#clip230)\" d=\"M1147.48 1511.14 L1171.59 1511.14 L1171.59 1514.34 L1147.48 1514.34 L1147.48 1511.14 Z\" fill=\"#000000\" fill-rule=\"evenodd\" fill-opacity=\"1\" /><path clip-path=\"url(#clip230)\" d=\"M1180.45 1521.62 L1186.66 1521.62 L1186.66 1500.19 L1179.91 1501.55 L1179.91 1498.09 L1186.62 1496.73 L1190.42 1496.73 L1190.42 1521.62 L1196.63 1521.62 L1196.63 1524.81 L1180.45 1524.81 L1180.45 1521.62 Z\" fill=\"#000000\" fill-rule=\"evenodd\" fill-opacity=\"1\" /><path clip-path=\"url(#clip230)\" d=\"M1352.66 1517.66 L1371.02 1517.66 L1371.02 1521.6 L1356.94 1521.6 L1356.94 1530.07 Q1357.96 1529.72 1358.98 1529.56 Q1360 1529.38 1361.02 1529.38 Q1366.8 1529.38 1370.18 1532.55 Q1373.56 1535.72 1373.56 1541.14 Q1373.56 1546.72 1370.09 1549.82 Q1366.62 1552.9 1360.3 1552.9 Q1358.12 1552.9 1355.85 1552.53 Q1353.61 1552.16 1351.2 1551.41 L1351.2 1546.72 Q1353.28 1547.85 1355.51 1548.41 Q1357.73 1548.96 1360.21 1548.96 Q1364.21 1548.96 1366.55 1546.85 Q1368.89 1544.75 1368.89 1541.14 Q1368.89 1537.53 1366.55 1535.42 Q1364.21 1533.31 1360.21 1533.31 Q1358.33 1533.31 1356.46 1533.73 Q1354.6 1534.15 1352.66 1535.03 L1352.66 1517.66 Z\" fill=\"#000000\" fill-rule=\"evenodd\" fill-opacity=\"1\" /><path clip-path=\"url(#clip230)\" d=\"M1382.78 1546.35 L1387.66 1546.35 L1387.66 1552.22 L1382.78 1552.22 L1382.78 1546.35 Z\" fill=\"#000000\" fill-rule=\"evenodd\" fill-opacity=\"1\" /><path clip-path=\"url(#clip230)\" d=\"M1410.69 1521.74 L1398.89 1540.19 L1410.69 1540.19 L1410.69 1521.74 M1409.47 1517.66 L1415.34 1517.66 L1415.34 1540.19 L1420.28 1540.19 L1420.28 1544.08 L1415.34 1544.08 L1415.34 1552.22 L1410.69 1552.22 L1410.69 1544.08 L1395.09 1544.08 L1395.09 1539.56 L1409.47 1517.66 Z\" fill=\"#000000\" fill-rule=\"evenodd\" fill-opacity=\"1\" /><path clip-path=\"url(#clip230)\" d=\"M1438.01 1520.74 Q1434.4 1520.74 1432.57 1524.31 Q1430.76 1527.85 1430.76 1534.98 Q1430.76 1542.09 1432.57 1545.65 Q1434.4 1549.19 1438.01 1549.19 Q1441.64 1549.19 1443.45 1545.65 Q1445.28 1542.09 1445.28 1534.98 Q1445.28 1527.85 1443.45 1524.31 Q1441.64 1520.74 1438.01 1520.74 M1438.01 1517.04 Q1443.82 1517.04 1446.87 1521.65 Q1449.95 1526.23 1449.95 1534.98 Q1449.95 1543.71 1446.87 1548.31 Q1443.82 1552.9 1438.01 1552.9 Q1432.2 1552.9 1429.12 1548.31 Q1426.06 1543.71 1426.06 1534.98 Q1426.06 1526.23 1429.12 1521.65 Q1432.2 1517.04 1438.01 1517.04 Z\" fill=\"#000000\" fill-rule=\"evenodd\" fill-opacity=\"1\" /><path clip-path=\"url(#clip230)\" d=\"M1462.2 1548.29 L1478.52 1548.29 L1478.52 1552.22 L1456.57 1552.22 L1456.57 1548.29 Q1459.23 1545.53 1463.82 1540.91 Q1468.42 1536.25 1469.6 1534.91 Q1471.85 1532.39 1472.73 1530.65 Q1473.63 1528.89 1473.63 1527.2 Q1473.63 1524.45 1471.69 1522.71 Q1469.77 1520.97 1466.66 1520.97 Q1464.46 1520.97 1462.01 1521.74 Q1459.58 1522.5 1456.8 1524.05 L1456.8 1519.33 Q1459.63 1518.2 1462.08 1517.62 Q1464.53 1517.04 1466.57 1517.04 Q1471.94 1517.04 1475.14 1519.72 Q1478.33 1522.41 1478.33 1526.9 Q1478.33 1529.03 1477.52 1530.95 Q1476.73 1532.85 1474.63 1535.44 Q1474.05 1536.11 1470.95 1539.33 Q1467.84 1542.53 1462.2 1548.29 Z\" fill=\"#000000\" fill-rule=\"evenodd\" fill-opacity=\"1\" /><path clip-path=\"url(#clip230)\" d=\"M1488.47 1551.51 L1488.47 1547.25 Q1490.23 1548.08 1492.03 1548.52 Q1493.84 1548.96 1495.58 1548.96 Q1500.21 1548.96 1502.64 1545.86 Q1505.09 1542.73 1505.44 1536.39 Q1504.09 1538.38 1502.03 1539.45 Q1499.97 1540.51 1497.47 1540.51 Q1492.29 1540.51 1489.26 1537.39 Q1486.25 1534.24 1486.25 1528.8 Q1486.25 1523.47 1489.4 1520.26 Q1492.54 1517.04 1497.77 1517.04 Q1503.77 1517.04 1506.92 1521.65 Q1510.09 1526.23 1510.09 1534.98 Q1510.09 1543.15 1506.2 1548.03 Q1502.34 1552.9 1495.78 1552.9 Q1494.02 1552.9 1492.22 1552.55 Q1490.41 1552.2 1488.47 1551.51 M1497.77 1536.85 Q1500.92 1536.85 1502.75 1534.7 Q1504.6 1532.55 1504.6 1528.8 Q1504.6 1525.07 1502.75 1522.92 Q1500.92 1520.74 1497.77 1520.74 Q1494.63 1520.74 1492.77 1522.92 Q1490.95 1525.07 1490.95 1528.8 Q1490.95 1532.55 1492.77 1534.7 Q1494.63 1536.85 1497.77 1536.85 Z\" fill=\"#000000\" fill-rule=\"evenodd\" fill-opacity=\"1\" /><path clip-path=\"url(#clip230)\" d=\"M1518.54 1517.66 L1536.9 1517.66 L1536.9 1521.6 L1522.82 1521.6 L1522.82 1530.07 Q1523.84 1529.72 1524.86 1529.56 Q1525.88 1529.38 1526.9 1529.38 Q1532.68 1529.38 1536.06 1532.55 Q1539.44 1535.72 1539.44 1541.14 Q1539.44 1546.72 1535.97 1549.82 Q1532.5 1552.9 1526.18 1552.9 Q1524 1552.9 1521.73 1552.53 Q1519.49 1552.16 1517.08 1551.41 L1517.08 1546.72 Q1519.16 1547.85 1521.39 1548.41 Q1523.61 1548.96 1526.08 1548.96 Q1530.09 1548.96 1532.43 1546.85 Q1534.77 1544.75 1534.77 1541.14 Q1534.77 1537.53 1532.43 1535.42 Q1530.09 1533.31 1526.08 1533.31 Q1524.21 1533.31 1522.33 1533.73 Q1520.48 1534.15 1518.54 1535.03 L1518.54 1517.66 Z\" fill=\"#000000\" fill-rule=\"evenodd\" fill-opacity=\"1\" /><path clip-path=\"url(#clip230)\" d=\"M1558.65 1520.74 Q1555.04 1520.74 1553.21 1524.31 Q1551.41 1527.85 1551.41 1534.98 Q1551.41 1542.09 1553.21 1545.65 Q1555.04 1549.19 1558.65 1549.19 Q1562.29 1549.19 1564.09 1545.65 Q1565.92 1542.09 1565.92 1534.98 Q1565.92 1527.85 1564.09 1524.31 Q1562.29 1520.74 1558.65 1520.74 M1558.65 1517.04 Q1564.46 1517.04 1567.52 1521.65 Q1570.6 1526.23 1570.6 1534.98 Q1570.6 1543.71 1567.52 1548.31 Q1564.46 1552.9 1558.65 1552.9 Q1552.84 1552.9 1549.77 1548.31 Q1546.71 1543.71 1546.71 1534.98 Q1546.71 1526.23 1549.77 1521.65 Q1552.84 1517.04 1558.65 1517.04 Z\" fill=\"#000000\" fill-rule=\"evenodd\" fill-opacity=\"1\" /><path clip-path=\"url(#clip230)\" d=\"M1606.99 1526.76 L1596.41 1537.39 L1606.99 1547.97 L1604.23 1550.77 L1593.61 1540.14 L1582.98 1550.77 L1580.25 1547.97 L1590.81 1537.39 L1580.25 1526.76 L1582.98 1523.96 L1593.61 1534.59 L1604.23 1523.96 L1606.99 1526.76 Z\" fill=\"#000000\" fill-rule=\"evenodd\" fill-opacity=\"1\" /><path clip-path=\"url(#clip230)\" d=\"M1619.35 1548.29 L1626.99 1548.29 L1626.99 1521.92 L1618.68 1523.59 L1618.68 1519.33 L1626.94 1517.66 L1631.62 1517.66 L1631.62 1548.29 L1639.26 1548.29 L1639.26 1552.22 L1619.35 1552.22 L1619.35 1548.29 Z\" fill=\"#000000\" fill-rule=\"evenodd\" fill-opacity=\"1\" /><path clip-path=\"url(#clip230)\" d=\"M1658.7 1520.74 Q1655.09 1520.74 1653.26 1524.31 Q1651.45 1527.85 1651.45 1534.98 Q1651.45 1542.09 1653.26 1545.65 Q1655.09 1549.19 1658.7 1549.19 Q1662.33 1549.19 1664.14 1545.65 Q1665.97 1542.09 1665.97 1534.98 Q1665.97 1527.85 1664.14 1524.31 Q1662.33 1520.74 1658.7 1520.74 M1658.7 1517.04 Q1664.51 1517.04 1667.57 1521.65 Q1670.64 1526.23 1670.64 1534.98 Q1670.64 1543.71 1667.57 1548.31 Q1664.51 1552.9 1658.7 1552.9 Q1652.89 1552.9 1649.81 1548.31 Q1646.76 1543.71 1646.76 1534.98 Q1646.76 1526.23 1649.81 1521.65 Q1652.89 1517.04 1658.7 1517.04 Z\" fill=\"#000000\" fill-rule=\"evenodd\" fill-opacity=\"1\" /><path clip-path=\"url(#clip230)\" d=\"M1670.64 1511.14 L1694.76 1511.14 L1694.76 1514.34 L1670.64 1514.34 L1670.64 1511.14 Z\" fill=\"#000000\" fill-rule=\"evenodd\" fill-opacity=\"1\" /><path clip-path=\"url(#clip230)\" d=\"M1703.61 1521.62 L1709.82 1521.62 L1709.82 1500.19 L1703.07 1501.55 L1703.07 1498.09 L1709.78 1496.73 L1713.58 1496.73 L1713.58 1521.62 L1719.79 1521.62 L1719.79 1524.81 L1703.61 1524.81 L1703.61 1521.62 Z\" fill=\"#000000\" fill-rule=\"evenodd\" fill-opacity=\"1\" /><path clip-path=\"url(#clip230)\" d=\"M1875.82 1517.66 L1894.18 1517.66 L1894.18 1521.6 L1880.11 1521.6 L1880.11 1530.07 Q1881.12 1529.72 1882.14 1529.56 Q1883.16 1529.38 1884.18 1529.38 Q1889.97 1529.38 1893.35 1532.55 Q1896.73 1535.72 1896.73 1541.14 Q1896.73 1546.72 1893.25 1549.82 Q1889.78 1552.9 1883.46 1552.9 Q1881.29 1552.9 1879.02 1552.53 Q1876.77 1552.16 1874.37 1551.41 L1874.37 1546.72 Q1876.45 1547.85 1878.67 1548.41 Q1880.89 1548.96 1883.37 1548.96 Q1887.37 1548.96 1889.71 1546.85 Q1892.05 1544.75 1892.05 1541.14 Q1892.05 1537.53 1889.71 1535.42 Q1887.37 1533.31 1883.37 1533.31 Q1881.49 1533.31 1879.62 1533.73 Q1877.77 1534.15 1875.82 1535.03 L1875.82 1517.66 Z\" fill=\"#000000\" fill-rule=\"evenodd\" fill-opacity=\"1\" /><path clip-path=\"url(#clip230)\" d=\"M1905.94 1546.35 L1910.82 1546.35 L1910.82 1552.22 L1905.94 1552.22 L1905.94 1546.35 Z\" fill=\"#000000\" fill-rule=\"evenodd\" fill-opacity=\"1\" /><path clip-path=\"url(#clip230)\" d=\"M1933.86 1521.74 L1922.05 1540.19 L1933.86 1540.19 L1933.86 1521.74 M1932.63 1517.66 L1938.51 1517.66 L1938.51 1540.19 L1943.44 1540.19 L1943.44 1544.08 L1938.51 1544.08 L1938.51 1552.22 L1933.86 1552.22 L1933.86 1544.08 L1918.25 1544.08 L1918.25 1539.56 L1932.63 1517.66 Z\" fill=\"#000000\" fill-rule=\"evenodd\" fill-opacity=\"1\" /><path clip-path=\"url(#clip230)\" d=\"M1961.17 1520.74 Q1957.56 1520.74 1955.73 1524.31 Q1953.93 1527.85 1953.93 1534.98 Q1953.93 1542.09 1955.73 1545.65 Q1957.56 1549.19 1961.17 1549.19 Q1964.8 1549.19 1966.61 1545.65 Q1968.44 1542.09 1968.44 1534.98 Q1968.44 1527.85 1966.61 1524.31 Q1964.8 1520.74 1961.17 1520.74 M1961.17 1517.04 Q1966.98 1517.04 1970.04 1521.65 Q1973.11 1526.23 1973.11 1534.98 Q1973.11 1543.71 1970.04 1548.31 Q1966.98 1552.9 1961.17 1552.9 Q1955.36 1552.9 1952.28 1548.31 Q1949.23 1543.71 1949.23 1534.98 Q1949.23 1526.23 1952.28 1521.65 Q1955.36 1517.04 1961.17 1517.04 Z\" fill=\"#000000\" fill-rule=\"evenodd\" fill-opacity=\"1\" /><path clip-path=\"url(#clip230)\" d=\"M1995.5 1533.59 Q1998.86 1534.31 2000.73 1536.58 Q2002.63 1538.85 2002.63 1542.18 Q2002.63 1547.29 1999.11 1550.1 Q1995.59 1552.9 1989.11 1552.9 Q1986.93 1552.9 1984.62 1552.46 Q1982.33 1552.04 1979.87 1551.18 L1979.87 1546.67 Q1981.82 1547.8 1984.13 1548.38 Q1986.45 1548.96 1988.97 1548.96 Q1993.37 1548.96 1995.66 1547.22 Q1997.98 1545.49 1997.98 1542.18 Q1997.98 1539.12 1995.82 1537.41 Q1993.69 1535.67 1989.87 1535.67 L1985.85 1535.67 L1985.85 1531.83 L1990.06 1531.83 Q1993.51 1531.83 1995.34 1530.47 Q1997.17 1529.08 1997.17 1526.48 Q1997.17 1523.82 1995.27 1522.41 Q1993.39 1520.97 1989.87 1520.97 Q1987.95 1520.97 1985.75 1521.39 Q1983.55 1521.81 1980.92 1522.69 L1980.92 1518.52 Q1983.58 1517.78 1985.89 1517.41 Q1988.23 1517.04 1990.29 1517.04 Q1995.61 1517.04 1998.72 1519.47 Q2001.82 1521.88 2001.82 1526 Q2001.82 1528.87 2000.17 1530.86 Q1998.53 1532.83 1995.5 1533.59 Z\" fill=\"#000000\" fill-rule=\"evenodd\" fill-opacity=\"1\" /><path clip-path=\"url(#clip230)\" d=\"M2021.49 1520.74 Q2017.88 1520.74 2016.05 1524.31 Q2014.25 1527.85 2014.25 1534.98 Q2014.25 1542.09 2016.05 1545.65 Q2017.88 1549.19 2021.49 1549.19 Q2025.13 1549.19 2026.93 1545.65 Q2028.76 1542.09 2028.76 1534.98 Q2028.76 1527.85 2026.93 1524.31 Q2025.13 1520.74 2021.49 1520.74 M2021.49 1517.04 Q2027.3 1517.04 2030.36 1521.65 Q2033.44 1526.23 2033.44 1534.98 Q2033.44 1543.71 2030.36 1548.31 Q2027.3 1552.9 2021.49 1552.9 Q2015.68 1552.9 2012.61 1548.31 Q2009.55 1543.71 2009.55 1534.98 Q2009.55 1526.23 2012.61 1521.65 Q2015.68 1517.04 2021.49 1517.04 Z\" fill=\"#000000\" fill-rule=\"evenodd\" fill-opacity=\"1\" /><path clip-path=\"url(#clip230)\" d=\"M2051.66 1520.74 Q2048.04 1520.74 2046.22 1524.31 Q2044.41 1527.85 2044.41 1534.98 Q2044.41 1542.09 2046.22 1545.65 Q2048.04 1549.19 2051.66 1549.19 Q2055.29 1549.19 2057.1 1545.65 Q2058.92 1542.09 2058.92 1534.98 Q2058.92 1527.85 2057.1 1524.31 Q2055.29 1520.74 2051.66 1520.74 M2051.66 1517.04 Q2057.47 1517.04 2060.52 1521.65 Q2063.6 1526.23 2063.6 1534.98 Q2063.6 1543.71 2060.52 1548.31 Q2057.47 1552.9 2051.66 1552.9 Q2045.85 1552.9 2042.77 1548.31 Q2039.71 1543.71 2039.71 1534.98 Q2039.71 1526.23 2042.77 1521.65 Q2045.85 1517.04 2051.66 1517.04 Z\" fill=\"#000000\" fill-rule=\"evenodd\" fill-opacity=\"1\" /><path clip-path=\"url(#clip230)\" d=\"M2081.82 1520.74 Q2078.21 1520.74 2076.38 1524.31 Q2074.57 1527.85 2074.57 1534.98 Q2074.57 1542.09 2076.38 1545.65 Q2078.21 1549.19 2081.82 1549.19 Q2085.45 1549.19 2087.26 1545.65 Q2089.09 1542.09 2089.09 1534.98 Q2089.09 1527.85 2087.26 1524.31 Q2085.45 1520.74 2081.82 1520.74 M2081.82 1517.04 Q2087.63 1517.04 2090.68 1521.65 Q2093.76 1526.23 2093.76 1534.98 Q2093.76 1543.71 2090.68 1548.31 Q2087.63 1552.9 2081.82 1552.9 Q2076.01 1552.9 2072.93 1548.31 Q2069.87 1543.71 2069.87 1534.98 Q2069.87 1526.23 2072.93 1521.65 Q2076.01 1517.04 2081.82 1517.04 Z\" fill=\"#000000\" fill-rule=\"evenodd\" fill-opacity=\"1\" /><path clip-path=\"url(#clip230)\" d=\"M2130.15 1526.76 L2119.57 1537.39 L2130.15 1547.97 L2127.4 1550.77 L2116.77 1540.14 L2106.15 1550.77 L2103.42 1547.97 L2113.97 1537.39 L2103.42 1526.76 L2106.15 1523.96 L2116.77 1534.59 L2127.4 1523.96 L2130.15 1526.76 Z\" fill=\"#000000\" fill-rule=\"evenodd\" fill-opacity=\"1\" /><path clip-path=\"url(#clip230)\" d=\"M2142.51 1548.29 L2150.15 1548.29 L2150.15 1521.92 L2141.84 1523.59 L2141.84 1519.33 L2150.1 1517.66 L2154.78 1517.66 L2154.78 1548.29 L2162.42 1548.29 L2162.42 1552.22 L2142.51 1552.22 L2142.51 1548.29 Z\" fill=\"#000000\" fill-rule=\"evenodd\" fill-opacity=\"1\" /><path clip-path=\"url(#clip230)\" d=\"M2181.86 1520.74 Q2178.25 1520.74 2176.42 1524.31 Q2174.62 1527.85 2174.62 1534.98 Q2174.62 1542.09 2176.42 1545.65 Q2178.25 1549.19 2181.86 1549.19 Q2185.5 1549.19 2187.3 1545.65 Q2189.13 1542.09 2189.13 1534.98 Q2189.13 1527.85 2187.3 1524.31 Q2185.5 1520.74 2181.86 1520.74 M2181.86 1517.04 Q2187.67 1517.04 2190.73 1521.65 Q2193.81 1526.23 2193.81 1534.98 Q2193.81 1543.71 2190.73 1548.31 Q2187.67 1552.9 2181.86 1552.9 Q2176.05 1552.9 2172.97 1548.31 Q2169.92 1543.71 2169.92 1534.98 Q2169.92 1526.23 2172.97 1521.65 Q2176.05 1517.04 2181.86 1517.04 Z\" fill=\"#000000\" fill-rule=\"evenodd\" fill-opacity=\"1\" /><path clip-path=\"url(#clip230)\" d=\"M2193.81 1511.14 L2217.92 1511.14 L2217.92 1514.34 L2193.81 1514.34 L2193.81 1511.14 Z\" fill=\"#000000\" fill-rule=\"evenodd\" fill-opacity=\"1\" /><path clip-path=\"url(#clip230)\" d=\"M2226.78 1521.62 L2232.98 1521.62 L2232.98 1500.19 L2226.23 1501.55 L2226.23 1498.09 L2232.95 1496.73 L2236.75 1496.73 L2236.75 1521.62 L2242.95 1521.62 L2242.95 1524.81 L2226.78 1524.81 L2226.78 1521.62 Z\" fill=\"#000000\" fill-rule=\"evenodd\" fill-opacity=\"1\" /><polyline clip-path=\"url(#clip232)\" style=\"stroke:#000000; stroke-linecap:butt; stroke-linejoin:round; stroke-width:2; stroke-opacity:0.1; fill:none\" points=\"\n",
       "  486.181,1429.07 2352.76,1429.07 \n",
       "  \"/>\n",
       "<polyline clip-path=\"url(#clip232)\" style=\"stroke:#000000; stroke-linecap:butt; stroke-linejoin:round; stroke-width:2; stroke-opacity:0.1; fill:none\" points=\"\n",
       "  486.181,1219.81 2352.76,1219.81 \n",
       "  \"/>\n",
       "<polyline clip-path=\"url(#clip232)\" style=\"stroke:#000000; stroke-linecap:butt; stroke-linejoin:round; stroke-width:2; stroke-opacity:0.1; fill:none\" points=\"\n",
       "  486.181,1010.54 2352.76,1010.54 \n",
       "  \"/>\n",
       "<polyline clip-path=\"url(#clip232)\" style=\"stroke:#000000; stroke-linecap:butt; stroke-linejoin:round; stroke-width:2; stroke-opacity:0.1; fill:none\" points=\"\n",
       "  486.181,801.275 2352.76,801.275 \n",
       "  \"/>\n",
       "<polyline clip-path=\"url(#clip232)\" style=\"stroke:#000000; stroke-linecap:butt; stroke-linejoin:round; stroke-width:2; stroke-opacity:0.1; fill:none\" points=\"\n",
       "  486.181,592.01 2352.76,592.01 \n",
       "  \"/>\n",
       "<polyline clip-path=\"url(#clip232)\" style=\"stroke:#000000; stroke-linecap:butt; stroke-linejoin:round; stroke-width:2; stroke-opacity:0.1; fill:none\" points=\"\n",
       "  486.181,382.744 2352.76,382.744 \n",
       "  \"/>\n",
       "<polyline clip-path=\"url(#clip232)\" style=\"stroke:#000000; stroke-linecap:butt; stroke-linejoin:round; stroke-width:2; stroke-opacity:0.1; fill:none\" points=\"\n",
       "  486.181,173.479 2352.76,173.479 \n",
       "  \"/>\n",
       "<polyline clip-path=\"url(#clip230)\" style=\"stroke:#000000; stroke-linecap:butt; stroke-linejoin:round; stroke-width:4; stroke-opacity:1; fill:none\" points=\"\n",
       "  486.181,1474.16 486.181,47.2441 \n",
       "  \"/>\n",
       "<polyline clip-path=\"url(#clip230)\" style=\"stroke:#000000; stroke-linecap:butt; stroke-linejoin:round; stroke-width:4; stroke-opacity:1; fill:none\" points=\"\n",
       "  486.181,1429.07 505.079,1429.07 \n",
       "  \"/>\n",
       "<polyline clip-path=\"url(#clip230)\" style=\"stroke:#000000; stroke-linecap:butt; stroke-linejoin:round; stroke-width:4; stroke-opacity:1; fill:none\" points=\"\n",
       "  486.181,1219.81 505.079,1219.81 \n",
       "  \"/>\n",
       "<polyline clip-path=\"url(#clip230)\" style=\"stroke:#000000; stroke-linecap:butt; stroke-linejoin:round; stroke-width:4; stroke-opacity:1; fill:none\" points=\"\n",
       "  486.181,1010.54 505.079,1010.54 \n",
       "  \"/>\n",
       "<polyline clip-path=\"url(#clip230)\" style=\"stroke:#000000; stroke-linecap:butt; stroke-linejoin:round; stroke-width:4; stroke-opacity:1; fill:none\" points=\"\n",
       "  486.181,801.275 505.079,801.275 \n",
       "  \"/>\n",
       "<polyline clip-path=\"url(#clip230)\" style=\"stroke:#000000; stroke-linecap:butt; stroke-linejoin:round; stroke-width:4; stroke-opacity:1; fill:none\" points=\"\n",
       "  486.181,592.01 505.079,592.01 \n",
       "  \"/>\n",
       "<polyline clip-path=\"url(#clip230)\" style=\"stroke:#000000; stroke-linecap:butt; stroke-linejoin:round; stroke-width:4; stroke-opacity:1; fill:none\" points=\"\n",
       "  486.181,382.744 505.079,382.744 \n",
       "  \"/>\n",
       "<polyline clip-path=\"url(#clip230)\" style=\"stroke:#000000; stroke-linecap:butt; stroke-linejoin:round; stroke-width:4; stroke-opacity:1; fill:none\" points=\"\n",
       "  486.181,173.479 505.079,173.479 \n",
       "  \"/>\n",
       "<path clip-path=\"url(#clip230)\" d=\"M93.0058 1436.39 Q89.6725 1436.39 87.7512 1438.17 Q85.8531 1439.95 85.8531 1443.08 Q85.8531 1446.2 87.7512 1447.98 Q89.6725 1449.77 93.0058 1449.77 Q96.3391 1449.77 98.2604 1447.98 Q100.182 1446.18 100.182 1443.08 Q100.182 1439.95 98.2604 1438.17 Q96.3623 1436.39 93.0058 1436.39 M88.3299 1434.4 Q85.3206 1433.66 83.6308 1431.6 Q81.9642 1429.54 81.9642 1426.57 Q81.9642 1422.43 84.904 1420.02 Q87.8669 1417.61 93.0058 1417.61 Q98.1678 1417.61 101.108 1420.02 Q104.047 1422.43 104.047 1426.57 Q104.047 1429.54 102.358 1431.6 Q100.691 1433.66 97.7048 1434.4 Q101.084 1435.18 102.959 1437.48 Q104.858 1439.77 104.858 1443.08 Q104.858 1448.1 101.779 1450.79 Q98.7234 1453.47 93.0058 1453.47 Q87.2882 1453.47 84.2095 1450.79 Q81.154 1448.1 81.154 1443.08 Q81.154 1439.77 83.0521 1437.48 Q84.9503 1435.18 88.3299 1434.4 M86.6169 1427.01 Q86.6169 1429.7 88.2836 1431.2 Q89.9734 1432.71 93.0058 1432.71 Q96.015 1432.71 97.7048 1431.2 Q99.4178 1429.7 99.4178 1427.01 Q99.4178 1424.33 97.7048 1422.82 Q96.015 1421.32 93.0058 1421.32 Q89.9734 1421.32 88.2836 1422.82 Q86.6169 1424.33 86.6169 1427.01 Z\" fill=\"#000000\" fill-rule=\"evenodd\" fill-opacity=\"1\" /><path clip-path=\"url(#clip230)\" d=\"M113.168 1446.92 L118.052 1446.92 L118.052 1452.8 L113.168 1452.8 L113.168 1446.92 Z\" fill=\"#000000\" fill-rule=\"evenodd\" fill-opacity=\"1\" /><path clip-path=\"url(#clip230)\" d=\"M141.084 1422.31 L129.279 1440.76 L141.084 1440.76 L141.084 1422.31 M139.857 1418.24 L145.737 1418.24 L145.737 1440.76 L150.668 1440.76 L150.668 1444.65 L145.737 1444.65 L145.737 1452.8 L141.084 1452.8 L141.084 1444.65 L125.482 1444.65 L125.482 1440.14 L139.857 1418.24 Z\" fill=\"#000000\" fill-rule=\"evenodd\" fill-opacity=\"1\" /><path clip-path=\"url(#clip230)\" d=\"M159.209 1448.86 L166.848 1448.86 L166.848 1422.5 L158.538 1424.17 L158.538 1419.91 L166.802 1418.24 L171.478 1418.24 L171.478 1448.86 L179.116 1448.86 L179.116 1452.8 L159.209 1452.8 L159.209 1448.86 Z\" fill=\"#000000\" fill-rule=\"evenodd\" fill-opacity=\"1\" /><path clip-path=\"url(#clip230)\" d=\"M201.408 1422.31 L189.602 1440.76 L201.408 1440.76 L201.408 1422.31 M200.181 1418.24 L206.061 1418.24 L206.061 1440.76 L210.991 1440.76 L210.991 1444.65 L206.061 1444.65 L206.061 1452.8 L201.408 1452.8 L201.408 1444.65 L185.806 1444.65 L185.806 1440.14 L200.181 1418.24 Z\" fill=\"#000000\" fill-rule=\"evenodd\" fill-opacity=\"1\" /><path clip-path=\"url(#clip230)\" d=\"M217.542 1418.24 L239.764 1418.24 L239.764 1420.23 L227.218 1452.8 L222.334 1452.8 L234.139 1422.17 L217.542 1422.17 L217.542 1418.24 Z\" fill=\"#000000\" fill-rule=\"evenodd\" fill-opacity=\"1\" /><path clip-path=\"url(#clip230)\" d=\"M258.885 1421.32 Q255.273 1421.32 253.445 1424.88 Q251.639 1428.42 251.639 1435.55 Q251.639 1442.66 253.445 1446.23 Q255.273 1449.77 258.885 1449.77 Q262.519 1449.77 264.324 1446.23 Q266.153 1442.66 266.153 1435.55 Q266.153 1428.42 264.324 1424.88 Q262.519 1421.32 258.885 1421.32 M258.885 1417.61 Q264.695 1417.61 267.75 1422.22 Q270.829 1426.8 270.829 1435.55 Q270.829 1444.28 267.75 1448.89 Q264.695 1453.47 258.885 1453.47 Q253.074 1453.47 249.996 1448.89 Q246.94 1444.28 246.94 1435.55 Q246.94 1426.8 249.996 1422.22 Q253.074 1417.61 258.885 1417.61 Z\" fill=\"#000000\" fill-rule=\"evenodd\" fill-opacity=\"1\" /><path clip-path=\"url(#clip230)\" d=\"M289.046 1421.32 Q285.435 1421.32 283.607 1424.88 Q281.801 1428.42 281.801 1435.55 Q281.801 1442.66 283.607 1446.23 Q285.435 1449.77 289.046 1449.77 Q292.681 1449.77 294.486 1446.23 Q296.315 1442.66 296.315 1435.55 Q296.315 1428.42 294.486 1424.88 Q292.681 1421.32 289.046 1421.32 M289.046 1417.61 Q294.857 1417.61 297.912 1422.22 Q300.991 1426.8 300.991 1435.55 Q300.991 1444.28 297.912 1448.89 Q294.857 1453.47 289.046 1453.47 Q283.236 1453.47 280.158 1448.89 Q277.102 1444.28 277.102 1435.55 Q277.102 1426.8 280.158 1422.22 Q283.236 1417.61 289.046 1417.61 Z\" fill=\"#000000\" fill-rule=\"evenodd\" fill-opacity=\"1\" /><path clip-path=\"url(#clip230)\" d=\"M337.379 1427.34 L326.801 1437.96 L337.379 1448.54 L334.625 1451.34 L324 1440.72 L313.375 1451.34 L310.644 1448.54 L321.199 1437.96 L310.644 1427.34 L313.375 1424.54 L324 1435.16 L334.625 1424.54 L337.379 1427.34 Z\" fill=\"#000000\" fill-rule=\"evenodd\" fill-opacity=\"1\" /><path clip-path=\"url(#clip230)\" d=\"M349.741 1448.86 L357.379 1448.86 L357.379 1422.5 L349.069 1424.17 L349.069 1419.91 L357.333 1418.24 L362.009 1418.24 L362.009 1448.86 L369.648 1448.86 L369.648 1452.8 L349.741 1452.8 L349.741 1448.86 Z\" fill=\"#000000\" fill-rule=\"evenodd\" fill-opacity=\"1\" /><path clip-path=\"url(#clip230)\" d=\"M389.092 1421.32 Q385.481 1421.32 383.652 1424.88 Q381.847 1428.42 381.847 1435.55 Q381.847 1442.66 383.652 1446.23 Q385.481 1449.77 389.092 1449.77 Q392.726 1449.77 394.532 1446.23 Q396.361 1442.66 396.361 1435.55 Q396.361 1428.42 394.532 1424.88 Q392.726 1421.32 389.092 1421.32 M389.092 1417.61 Q394.902 1417.61 397.958 1422.22 Q401.037 1426.8 401.037 1435.55 Q401.037 1444.28 397.958 1448.89 Q394.902 1453.47 389.092 1453.47 Q383.282 1453.47 380.203 1448.89 Q377.148 1444.28 377.148 1435.55 Q377.148 1426.8 380.203 1422.22 Q383.282 1417.61 389.092 1417.61 Z\" fill=\"#000000\" fill-rule=\"evenodd\" fill-opacity=\"1\" /><path clip-path=\"url(#clip230)\" d=\"M401.037 1411.72 L425.148 1411.72 L425.148 1414.91 L401.037 1414.91 L401.037 1411.72 Z\" fill=\"#000000\" fill-rule=\"evenodd\" fill-opacity=\"1\" /><path clip-path=\"url(#clip230)\" d=\"M434.007 1422.19 L440.213 1422.19 L440.213 1400.77 L433.461 1402.12 L433.461 1398.66 L440.176 1397.31 L443.975 1397.31 L443.975 1422.19 L450.181 1422.19 L450.181 1425.39 L434.007 1425.39 L434.007 1422.19 Z\" fill=\"#000000\" fill-rule=\"evenodd\" fill-opacity=\"1\" /><path clip-path=\"url(#clip230)\" d=\"M93.0058 1227.12 Q89.6725 1227.12 87.7512 1228.9 Q85.8531 1230.69 85.8531 1233.81 Q85.8531 1236.94 87.7512 1238.72 Q89.6725 1240.5 93.0058 1240.5 Q96.3391 1240.5 98.2604 1238.72 Q100.182 1236.91 100.182 1233.81 Q100.182 1230.69 98.2604 1228.9 Q96.3623 1227.12 93.0058 1227.12 M88.3299 1225.13 Q85.3206 1224.39 83.6308 1222.33 Q81.9642 1220.27 81.9642 1217.31 Q81.9642 1213.16 84.904 1210.76 Q87.8669 1208.35 93.0058 1208.35 Q98.1678 1208.35 101.108 1210.76 Q104.047 1213.16 104.047 1217.31 Q104.047 1220.27 102.358 1222.33 Q100.691 1224.39 97.7048 1225.13 Q101.084 1225.92 102.959 1228.21 Q104.858 1230.5 104.858 1233.81 Q104.858 1238.83 101.779 1241.52 Q98.7234 1244.21 93.0058 1244.21 Q87.2882 1244.21 84.2095 1241.52 Q81.154 1238.83 81.154 1233.81 Q81.154 1230.5 83.0521 1228.21 Q84.9503 1225.92 88.3299 1225.13 M86.6169 1217.75 Q86.6169 1220.43 88.2836 1221.94 Q89.9734 1223.44 93.0058 1223.44 Q96.015 1223.44 97.7048 1221.94 Q99.4178 1220.43 99.4178 1217.75 Q99.4178 1215.06 97.7048 1213.56 Q96.015 1212.05 93.0058 1212.05 Q89.9734 1212.05 88.2836 1213.56 Q86.6169 1215.06 86.6169 1217.75 Z\" fill=\"#000000\" fill-rule=\"evenodd\" fill-opacity=\"1\" /><path clip-path=\"url(#clip230)\" d=\"M113.168 1237.65 L118.052 1237.65 L118.052 1243.53 L113.168 1243.53 L113.168 1237.65 Z\" fill=\"#000000\" fill-rule=\"evenodd\" fill-opacity=\"1\" /><path clip-path=\"url(#clip230)\" d=\"M141.084 1213.05 L129.279 1231.5 L141.084 1231.5 L141.084 1213.05 M139.857 1208.97 L145.737 1208.97 L145.737 1231.5 L150.668 1231.5 L150.668 1235.39 L145.737 1235.39 L145.737 1243.53 L141.084 1243.53 L141.084 1235.39 L125.482 1235.39 L125.482 1230.87 L139.857 1208.97 Z\" fill=\"#000000\" fill-rule=\"evenodd\" fill-opacity=\"1\" /><path clip-path=\"url(#clip230)\" d=\"M159.209 1239.6 L166.848 1239.6 L166.848 1213.23 L158.538 1214.9 L158.538 1210.64 L166.802 1208.97 L171.478 1208.97 L171.478 1239.6 L179.116 1239.6 L179.116 1243.53 L159.209 1243.53 L159.209 1239.6 Z\" fill=\"#000000\" fill-rule=\"evenodd\" fill-opacity=\"1\" /><path clip-path=\"url(#clip230)\" d=\"M201.408 1213.05 L189.602 1231.5 L201.408 1231.5 L201.408 1213.05 M200.181 1208.97 L206.061 1208.97 L206.061 1231.5 L210.991 1231.5 L210.991 1235.39 L206.061 1235.39 L206.061 1243.53 L201.408 1243.53 L201.408 1235.39 L185.806 1235.39 L185.806 1230.87 L200.181 1208.97 Z\" fill=\"#000000\" fill-rule=\"evenodd\" fill-opacity=\"1\" /><path clip-path=\"url(#clip230)\" d=\"M217.542 1208.97 L239.764 1208.97 L239.764 1210.96 L227.218 1243.53 L222.334 1243.53 L234.139 1212.91 L217.542 1212.91 L217.542 1208.97 Z\" fill=\"#000000\" fill-rule=\"evenodd\" fill-opacity=\"1\" /><path clip-path=\"url(#clip230)\" d=\"M252.912 1239.6 L269.232 1239.6 L269.232 1243.53 L247.287 1243.53 L247.287 1239.6 Q249.949 1236.84 254.533 1232.21 Q259.139 1227.56 260.32 1226.22 Q262.565 1223.7 263.445 1221.96 Q264.347 1220.2 264.347 1218.51 Q264.347 1215.76 262.403 1214.02 Q260.482 1212.28 257.38 1212.28 Q255.181 1212.28 252.727 1213.05 Q250.297 1213.81 247.519 1215.36 L247.519 1210.64 Q250.343 1209.51 252.797 1208.93 Q255.25 1208.35 257.287 1208.35 Q262.658 1208.35 265.852 1211.03 Q269.047 1213.72 269.047 1218.21 Q269.047 1220.34 268.236 1222.26 Q267.449 1224.16 265.343 1226.75 Q264.764 1227.42 261.662 1230.64 Q258.56 1233.83 252.912 1239.6 Z\" fill=\"#000000\" fill-rule=\"evenodd\" fill-opacity=\"1\" /><path clip-path=\"url(#clip230)\" d=\"M289.046 1212.05 Q285.435 1212.05 283.607 1215.62 Q281.801 1219.16 281.801 1226.29 Q281.801 1233.4 283.607 1236.96 Q285.435 1240.5 289.046 1240.5 Q292.681 1240.5 294.486 1236.96 Q296.315 1233.4 296.315 1226.29 Q296.315 1219.16 294.486 1215.62 Q292.681 1212.05 289.046 1212.05 M289.046 1208.35 Q294.857 1208.35 297.912 1212.96 Q300.991 1217.54 300.991 1226.29 Q300.991 1235.02 297.912 1239.62 Q294.857 1244.21 289.046 1244.21 Q283.236 1244.21 280.158 1239.62 Q277.102 1235.02 277.102 1226.29 Q277.102 1217.54 280.158 1212.96 Q283.236 1208.35 289.046 1208.35 Z\" fill=\"#000000\" fill-rule=\"evenodd\" fill-opacity=\"1\" /><path clip-path=\"url(#clip230)\" d=\"M337.379 1218.07 L326.801 1228.7 L337.379 1239.27 L334.625 1242.08 L324 1231.45 L313.375 1242.08 L310.644 1239.27 L321.199 1228.7 L310.644 1218.07 L313.375 1215.27 L324 1225.9 L334.625 1215.27 L337.379 1218.07 Z\" fill=\"#000000\" fill-rule=\"evenodd\" fill-opacity=\"1\" /><path clip-path=\"url(#clip230)\" d=\"M349.741 1239.6 L357.379 1239.6 L357.379 1213.23 L349.069 1214.9 L349.069 1210.64 L357.333 1208.97 L362.009 1208.97 L362.009 1239.6 L369.648 1239.6 L369.648 1243.53 L349.741 1243.53 L349.741 1239.6 Z\" fill=\"#000000\" fill-rule=\"evenodd\" fill-opacity=\"1\" /><path clip-path=\"url(#clip230)\" d=\"M389.092 1212.05 Q385.481 1212.05 383.652 1215.62 Q381.847 1219.16 381.847 1226.29 Q381.847 1233.4 383.652 1236.96 Q385.481 1240.5 389.092 1240.5 Q392.726 1240.5 394.532 1236.96 Q396.361 1233.4 396.361 1226.29 Q396.361 1219.16 394.532 1215.62 Q392.726 1212.05 389.092 1212.05 M389.092 1208.35 Q394.902 1208.35 397.958 1212.96 Q401.037 1217.54 401.037 1226.29 Q401.037 1235.02 397.958 1239.62 Q394.902 1244.21 389.092 1244.21 Q383.282 1244.21 380.203 1239.62 Q377.148 1235.02 377.148 1226.29 Q377.148 1217.54 380.203 1212.96 Q383.282 1208.35 389.092 1208.35 Z\" fill=\"#000000\" fill-rule=\"evenodd\" fill-opacity=\"1\" /><path clip-path=\"url(#clip230)\" d=\"M401.037 1202.45 L425.148 1202.45 L425.148 1205.65 L401.037 1205.65 L401.037 1202.45 Z\" fill=\"#000000\" fill-rule=\"evenodd\" fill-opacity=\"1\" /><path clip-path=\"url(#clip230)\" d=\"M434.007 1212.93 L440.213 1212.93 L440.213 1191.5 L433.461 1192.86 L433.461 1189.4 L440.176 1188.04 L443.975 1188.04 L443.975 1212.93 L450.181 1212.93 L450.181 1216.12 L434.007 1216.12 L434.007 1212.93 Z\" fill=\"#000000\" fill-rule=\"evenodd\" fill-opacity=\"1\" /><path clip-path=\"url(#clip230)\" d=\"M93.0058 1017.86 Q89.6725 1017.86 87.7512 1019.64 Q85.8531 1021.42 85.8531 1024.55 Q85.8531 1027.67 87.7512 1029.45 Q89.6725 1031.24 93.0058 1031.24 Q96.3391 1031.24 98.2604 1029.45 Q100.182 1027.65 100.182 1024.55 Q100.182 1021.42 98.2604 1019.64 Q96.3623 1017.86 93.0058 1017.86 M88.3299 1015.87 Q85.3206 1015.13 83.6308 1013.06 Q81.9642 1011 81.9642 1008.04 Q81.9642 1003.9 84.904 1001.49 Q87.8669 999.083 93.0058 999.083 Q98.1678 999.083 101.108 1001.49 Q104.047 1003.9 104.047 1008.04 Q104.047 1011 102.358 1013.06 Q100.691 1015.13 97.7048 1015.87 Q101.084 1016.65 102.959 1018.94 Q104.858 1021.24 104.858 1024.55 Q104.858 1029.57 101.779 1032.25 Q98.7234 1034.94 93.0058 1034.94 Q87.2882 1034.94 84.2095 1032.25 Q81.154 1029.57 81.154 1024.55 Q81.154 1021.24 83.0521 1018.94 Q84.9503 1016.65 88.3299 1015.87 M86.6169 1008.48 Q86.6169 1011.17 88.2836 1012.67 Q89.9734 1014.18 93.0058 1014.18 Q96.015 1014.18 97.7048 1012.67 Q99.4178 1011.17 99.4178 1008.48 Q99.4178 1005.8 97.7048 1004.29 Q96.015 1002.79 93.0058 1002.79 Q89.9734 1002.79 88.2836 1004.29 Q86.6169 1005.8 86.6169 1008.48 Z\" fill=\"#000000\" fill-rule=\"evenodd\" fill-opacity=\"1\" /><path clip-path=\"url(#clip230)\" d=\"M113.168 1028.39 L118.052 1028.39 L118.052 1034.27 L113.168 1034.27 L113.168 1028.39 Z\" fill=\"#000000\" fill-rule=\"evenodd\" fill-opacity=\"1\" /><path clip-path=\"url(#clip230)\" d=\"M141.084 1003.78 L129.279 1022.23 L141.084 1022.23 L141.084 1003.78 M139.857 999.708 L145.737 999.708 L145.737 1022.23 L150.668 1022.23 L150.668 1026.12 L145.737 1026.12 L145.737 1034.27 L141.084 1034.27 L141.084 1026.12 L125.482 1026.12 L125.482 1021.61 L139.857 999.708 Z\" fill=\"#000000\" fill-rule=\"evenodd\" fill-opacity=\"1\" /><path clip-path=\"url(#clip230)\" d=\"M159.209 1030.33 L166.848 1030.33 L166.848 1003.97 L158.538 1005.63 L158.538 1001.38 L166.802 999.708 L171.478 999.708 L171.478 1030.33 L179.116 1030.33 L179.116 1034.27 L159.209 1034.27 L159.209 1030.33 Z\" fill=\"#000000\" fill-rule=\"evenodd\" fill-opacity=\"1\" /><path clip-path=\"url(#clip230)\" d=\"M201.408 1003.78 L189.602 1022.23 L201.408 1022.23 L201.408 1003.78 M200.181 999.708 L206.061 999.708 L206.061 1022.23 L210.991 1022.23 L210.991 1026.12 L206.061 1026.12 L206.061 1034.27 L201.408 1034.27 L201.408 1026.12 L185.806 1026.12 L185.806 1021.61 L200.181 999.708 Z\" fill=\"#000000\" fill-rule=\"evenodd\" fill-opacity=\"1\" /><path clip-path=\"url(#clip230)\" d=\"M217.542 999.708 L239.764 999.708 L239.764 1001.7 L227.218 1034.27 L222.334 1034.27 L234.139 1003.64 L217.542 1003.64 L217.542 999.708 Z\" fill=\"#000000\" fill-rule=\"evenodd\" fill-opacity=\"1\" /><path clip-path=\"url(#clip230)\" d=\"M261.732 1003.78 L249.926 1022.23 L261.732 1022.23 L261.732 1003.78 M260.505 999.708 L266.384 999.708 L266.384 1022.23 L271.315 1022.23 L271.315 1026.12 L266.384 1026.12 L266.384 1034.27 L261.732 1034.27 L261.732 1026.12 L246.13 1026.12 L246.13 1021.61 L260.505 999.708 Z\" fill=\"#000000\" fill-rule=\"evenodd\" fill-opacity=\"1\" /><path clip-path=\"url(#clip230)\" d=\"M289.046 1002.79 Q285.435 1002.79 283.607 1006.35 Q281.801 1009.89 281.801 1017.02 Q281.801 1024.13 283.607 1027.69 Q285.435 1031.24 289.046 1031.24 Q292.681 1031.24 294.486 1027.69 Q296.315 1024.13 296.315 1017.02 Q296.315 1009.89 294.486 1006.35 Q292.681 1002.79 289.046 1002.79 M289.046 999.083 Q294.857 999.083 297.912 1003.69 Q300.991 1008.27 300.991 1017.02 Q300.991 1025.75 297.912 1030.36 Q294.857 1034.94 289.046 1034.94 Q283.236 1034.94 280.158 1030.36 Q277.102 1025.75 277.102 1017.02 Q277.102 1008.27 280.158 1003.69 Q283.236 999.083 289.046 999.083 Z\" fill=\"#000000\" fill-rule=\"evenodd\" fill-opacity=\"1\" /><path clip-path=\"url(#clip230)\" d=\"M337.379 1008.81 L326.801 1019.43 L337.379 1030.01 L334.625 1032.81 L324 1022.19 L313.375 1032.81 L310.644 1030.01 L321.199 1019.43 L310.644 1008.81 L313.375 1006 L324 1016.63 L334.625 1006 L337.379 1008.81 Z\" fill=\"#000000\" fill-rule=\"evenodd\" fill-opacity=\"1\" /><path clip-path=\"url(#clip230)\" d=\"M349.741 1030.33 L357.379 1030.33 L357.379 1003.97 L349.069 1005.63 L349.069 1001.38 L357.333 999.708 L362.009 999.708 L362.009 1030.33 L369.648 1030.33 L369.648 1034.27 L349.741 1034.27 L349.741 1030.33 Z\" fill=\"#000000\" fill-rule=\"evenodd\" fill-opacity=\"1\" /><path clip-path=\"url(#clip230)\" d=\"M389.092 1002.79 Q385.481 1002.79 383.652 1006.35 Q381.847 1009.89 381.847 1017.02 Q381.847 1024.13 383.652 1027.69 Q385.481 1031.24 389.092 1031.24 Q392.726 1031.24 394.532 1027.69 Q396.361 1024.13 396.361 1017.02 Q396.361 1009.89 394.532 1006.35 Q392.726 1002.79 389.092 1002.79 M389.092 999.083 Q394.902 999.083 397.958 1003.69 Q401.037 1008.27 401.037 1017.02 Q401.037 1025.75 397.958 1030.36 Q394.902 1034.94 389.092 1034.94 Q383.282 1034.94 380.203 1030.36 Q377.148 1025.75 377.148 1017.02 Q377.148 1008.27 380.203 1003.69 Q383.282 999.083 389.092 999.083 Z\" fill=\"#000000\" fill-rule=\"evenodd\" fill-opacity=\"1\" /><path clip-path=\"url(#clip230)\" d=\"M401.037 993.185 L425.148 993.185 L425.148 996.382 L401.037 996.382 L401.037 993.185 Z\" fill=\"#000000\" fill-rule=\"evenodd\" fill-opacity=\"1\" /><path clip-path=\"url(#clip230)\" d=\"M434.007 1003.66 L440.213 1003.66 L440.213 982.239 L433.461 983.593 L433.461 980.132 L440.176 978.778 L443.975 978.778 L443.975 1003.66 L450.181 1003.66 L450.181 1006.86 L434.007 1006.86 L434.007 1003.66 Z\" fill=\"#000000\" fill-rule=\"evenodd\" fill-opacity=\"1\" /><path clip-path=\"url(#clip230)\" d=\"M93.0058 808.591 Q89.6725 808.591 87.7512 810.373 Q85.8531 812.156 85.8531 815.281 Q85.8531 818.406 87.7512 820.188 Q89.6725 821.971 93.0058 821.971 Q96.3391 821.971 98.2604 820.188 Q100.182 818.383 100.182 815.281 Q100.182 812.156 98.2604 810.373 Q96.3623 808.591 93.0058 808.591 M88.3299 806.6 Q85.3206 805.86 83.6308 803.799 Q81.9642 801.739 81.9642 798.776 Q81.9642 794.633 84.904 792.225 Q87.8669 789.818 93.0058 789.818 Q98.1678 789.818 101.108 792.225 Q104.047 794.633 104.047 798.776 Q104.047 801.739 102.358 803.799 Q100.691 805.86 97.7048 806.6 Q101.084 807.387 102.959 809.679 Q104.858 811.971 104.858 815.281 Q104.858 820.304 101.779 822.989 Q98.7234 825.674 93.0058 825.674 Q87.2882 825.674 84.2095 822.989 Q81.154 820.304 81.154 815.281 Q81.154 811.971 83.0521 809.679 Q84.9503 807.387 88.3299 806.6 M86.6169 799.216 Q86.6169 801.901 88.2836 803.406 Q89.9734 804.911 93.0058 804.911 Q96.015 804.911 97.7048 803.406 Q99.4178 801.901 99.4178 799.216 Q99.4178 796.531 97.7048 795.026 Q96.015 793.522 93.0058 793.522 Q89.9734 793.522 88.2836 795.026 Q86.6169 796.531 86.6169 799.216 Z\" fill=\"#000000\" fill-rule=\"evenodd\" fill-opacity=\"1\" /><path clip-path=\"url(#clip230)\" d=\"M113.168 819.123 L118.052 819.123 L118.052 825.003 L113.168 825.003 L113.168 819.123 Z\" fill=\"#000000\" fill-rule=\"evenodd\" fill-opacity=\"1\" /><path clip-path=\"url(#clip230)\" d=\"M141.084 794.517 L129.279 812.966 L141.084 812.966 L141.084 794.517 M139.857 790.443 L145.737 790.443 L145.737 812.966 L150.668 812.966 L150.668 816.855 L145.737 816.855 L145.737 825.003 L141.084 825.003 L141.084 816.855 L125.482 816.855 L125.482 812.341 L139.857 790.443 Z\" fill=\"#000000\" fill-rule=\"evenodd\" fill-opacity=\"1\" /><path clip-path=\"url(#clip230)\" d=\"M159.209 821.068 L166.848 821.068 L166.848 794.702 L158.538 796.369 L158.538 792.11 L166.802 790.443 L171.478 790.443 L171.478 821.068 L179.116 821.068 L179.116 825.003 L159.209 825.003 L159.209 821.068 Z\" fill=\"#000000\" fill-rule=\"evenodd\" fill-opacity=\"1\" /><path clip-path=\"url(#clip230)\" d=\"M201.408 794.517 L189.602 812.966 L201.408 812.966 L201.408 794.517 M200.181 790.443 L206.061 790.443 L206.061 812.966 L210.991 812.966 L210.991 816.855 L206.061 816.855 L206.061 825.003 L201.408 825.003 L201.408 816.855 L185.806 816.855 L185.806 812.341 L200.181 790.443 Z\" fill=\"#000000\" fill-rule=\"evenodd\" fill-opacity=\"1\" /><path clip-path=\"url(#clip230)\" d=\"M217.542 790.443 L239.764 790.443 L239.764 792.434 L227.218 825.003 L222.334 825.003 L234.139 794.378 L217.542 794.378 L217.542 790.443 Z\" fill=\"#000000\" fill-rule=\"evenodd\" fill-opacity=\"1\" /><path clip-path=\"url(#clip230)\" d=\"M259.463 805.86 Q256.315 805.86 254.463 808.012 Q252.635 810.165 252.635 813.915 Q252.635 817.642 254.463 819.818 Q256.315 821.971 259.463 821.971 Q262.611 821.971 264.44 819.818 Q266.292 817.642 266.292 813.915 Q266.292 810.165 264.44 808.012 Q262.611 805.86 259.463 805.86 M268.746 791.207 L268.746 795.466 Q266.986 794.633 265.181 794.193 Q263.398 793.753 261.639 793.753 Q257.01 793.753 254.556 796.878 Q252.125 800.003 251.778 806.323 Q253.144 804.309 255.204 803.244 Q257.264 802.156 259.741 802.156 Q264.949 802.156 267.959 805.327 Q270.991 808.475 270.991 813.915 Q270.991 819.239 267.843 822.457 Q264.695 825.674 259.463 825.674 Q253.468 825.674 250.297 821.091 Q247.125 816.485 247.125 807.758 Q247.125 799.563 251.014 794.702 Q254.903 789.818 261.454 789.818 Q263.213 789.818 264.996 790.165 Q266.801 790.512 268.746 791.207 Z\" fill=\"#000000\" fill-rule=\"evenodd\" fill-opacity=\"1\" /><path clip-path=\"url(#clip230)\" d=\"M289.046 793.522 Q285.435 793.522 283.607 797.086 Q281.801 800.628 281.801 807.758 Q281.801 814.864 283.607 818.429 Q285.435 821.971 289.046 821.971 Q292.681 821.971 294.486 818.429 Q296.315 814.864 296.315 807.758 Q296.315 800.628 294.486 797.086 Q292.681 793.522 289.046 793.522 M289.046 789.818 Q294.857 789.818 297.912 794.424 Q300.991 799.008 300.991 807.758 Q300.991 816.485 297.912 821.091 Q294.857 825.674 289.046 825.674 Q283.236 825.674 280.158 821.091 Q277.102 816.485 277.102 807.758 Q277.102 799.008 280.158 794.424 Q283.236 789.818 289.046 789.818 Z\" fill=\"#000000\" fill-rule=\"evenodd\" fill-opacity=\"1\" /><path clip-path=\"url(#clip230)\" d=\"M337.379 799.54 L326.801 810.165 L337.379 820.744 L334.625 823.545 L324 812.92 L313.375 823.545 L310.644 820.744 L321.199 810.165 L310.644 799.54 L313.375 796.739 L324 807.364 L334.625 796.739 L337.379 799.54 Z\" fill=\"#000000\" fill-rule=\"evenodd\" fill-opacity=\"1\" /><path clip-path=\"url(#clip230)\" d=\"M349.741 821.068 L357.379 821.068 L357.379 794.702 L349.069 796.369 L349.069 792.11 L357.333 790.443 L362.009 790.443 L362.009 821.068 L369.648 821.068 L369.648 825.003 L349.741 825.003 L349.741 821.068 Z\" fill=\"#000000\" fill-rule=\"evenodd\" fill-opacity=\"1\" /><path clip-path=\"url(#clip230)\" d=\"M389.092 793.522 Q385.481 793.522 383.652 797.086 Q381.847 800.628 381.847 807.758 Q381.847 814.864 383.652 818.429 Q385.481 821.971 389.092 821.971 Q392.726 821.971 394.532 818.429 Q396.361 814.864 396.361 807.758 Q396.361 800.628 394.532 797.086 Q392.726 793.522 389.092 793.522 M389.092 789.818 Q394.902 789.818 397.958 794.424 Q401.037 799.008 401.037 807.758 Q401.037 816.485 397.958 821.091 Q394.902 825.674 389.092 825.674 Q383.282 825.674 380.203 821.091 Q377.148 816.485 377.148 807.758 Q377.148 799.008 380.203 794.424 Q383.282 789.818 389.092 789.818 Z\" fill=\"#000000\" fill-rule=\"evenodd\" fill-opacity=\"1\" /><path clip-path=\"url(#clip230)\" d=\"M401.037 783.919 L425.148 783.919 L425.148 787.117 L401.037 787.117 L401.037 783.919 Z\" fill=\"#000000\" fill-rule=\"evenodd\" fill-opacity=\"1\" /><path clip-path=\"url(#clip230)\" d=\"M434.007 794.395 L440.213 794.395 L440.213 772.973 L433.461 774.327 L433.461 770.867 L440.176 769.513 L443.975 769.513 L443.975 794.395 L450.181 794.395 L450.181 797.593 L434.007 797.593 L434.007 794.395 Z\" fill=\"#000000\" fill-rule=\"evenodd\" fill-opacity=\"1\" /><path clip-path=\"url(#clip230)\" d=\"M93.0058 599.326 Q89.6725 599.326 87.7512 601.108 Q85.8531 602.89 85.8531 606.015 Q85.8531 609.14 87.7512 610.923 Q89.6725 612.705 93.0058 612.705 Q96.3391 612.705 98.2604 610.923 Q100.182 609.117 100.182 606.015 Q100.182 602.89 98.2604 601.108 Q96.3623 599.326 93.0058 599.326 M88.3299 597.335 Q85.3206 596.594 83.6308 594.534 Q81.9642 592.474 81.9642 589.511 Q81.9642 585.367 84.904 582.96 Q87.8669 580.553 93.0058 580.553 Q98.1678 580.553 101.108 582.96 Q104.047 585.367 104.047 589.511 Q104.047 592.474 102.358 594.534 Q100.691 596.594 97.7048 597.335 Q101.084 598.122 102.959 600.414 Q104.858 602.705 104.858 606.015 Q104.858 611.038 101.779 613.724 Q98.7234 616.409 93.0058 616.409 Q87.2882 616.409 84.2095 613.724 Q81.154 611.038 81.154 606.015 Q81.154 602.705 83.0521 600.414 Q84.9503 598.122 88.3299 597.335 M86.6169 589.951 Q86.6169 592.636 88.2836 594.14 Q89.9734 595.645 93.0058 595.645 Q96.015 595.645 97.7048 594.14 Q99.4178 592.636 99.4178 589.951 Q99.4178 587.265 97.7048 585.761 Q96.015 584.256 93.0058 584.256 Q89.9734 584.256 88.2836 585.761 Q86.6169 587.265 86.6169 589.951 Z\" fill=\"#000000\" fill-rule=\"evenodd\" fill-opacity=\"1\" /><path clip-path=\"url(#clip230)\" d=\"M113.168 609.858 L118.052 609.858 L118.052 615.738 L113.168 615.738 L113.168 609.858 Z\" fill=\"#000000\" fill-rule=\"evenodd\" fill-opacity=\"1\" /><path clip-path=\"url(#clip230)\" d=\"M141.084 585.252 L129.279 603.701 L141.084 603.701 L141.084 585.252 M139.857 581.178 L145.737 581.178 L145.737 603.701 L150.668 603.701 L150.668 607.589 L145.737 607.589 L145.737 615.738 L141.084 615.738 L141.084 607.589 L125.482 607.589 L125.482 603.076 L139.857 581.178 Z\" fill=\"#000000\" fill-rule=\"evenodd\" fill-opacity=\"1\" /><path clip-path=\"url(#clip230)\" d=\"M159.209 611.802 L166.848 611.802 L166.848 585.437 L158.538 587.103 L158.538 582.844 L166.802 581.178 L171.478 581.178 L171.478 611.802 L179.116 611.802 L179.116 615.738 L159.209 615.738 L159.209 611.802 Z\" fill=\"#000000\" fill-rule=\"evenodd\" fill-opacity=\"1\" /><path clip-path=\"url(#clip230)\" d=\"M201.408 585.252 L189.602 603.701 L201.408 603.701 L201.408 585.252 M200.181 581.178 L206.061 581.178 L206.061 603.701 L210.991 603.701 L210.991 607.589 L206.061 607.589 L206.061 615.738 L201.408 615.738 L201.408 607.589 L185.806 607.589 L185.806 603.076 L200.181 581.178 Z\" fill=\"#000000\" fill-rule=\"evenodd\" fill-opacity=\"1\" /><path clip-path=\"url(#clip230)\" d=\"M217.542 581.178 L239.764 581.178 L239.764 583.168 L227.218 615.738 L222.334 615.738 L234.139 585.113 L217.542 585.113 L217.542 581.178 Z\" fill=\"#000000\" fill-rule=\"evenodd\" fill-opacity=\"1\" /><path clip-path=\"url(#clip230)\" d=\"M258.885 599.326 Q255.551 599.326 253.63 601.108 Q251.732 602.89 251.732 606.015 Q251.732 609.14 253.63 610.923 Q255.551 612.705 258.885 612.705 Q262.218 612.705 264.139 610.923 Q266.06 609.117 266.06 606.015 Q266.06 602.89 264.139 601.108 Q262.241 599.326 258.885 599.326 M254.209 597.335 Q251.199 596.594 249.51 594.534 Q247.843 592.474 247.843 589.511 Q247.843 585.367 250.783 582.96 Q253.746 580.553 258.885 580.553 Q264.047 580.553 266.986 582.96 Q269.926 585.367 269.926 589.511 Q269.926 592.474 268.236 594.534 Q266.57 596.594 263.584 597.335 Q266.963 598.122 268.838 600.414 Q270.736 602.705 270.736 606.015 Q270.736 611.038 267.658 613.724 Q264.602 616.409 258.885 616.409 Q253.167 616.409 250.088 613.724 Q247.033 611.038 247.033 606.015 Q247.033 602.705 248.931 600.414 Q250.829 598.122 254.209 597.335 M252.496 589.951 Q252.496 592.636 254.162 594.14 Q255.852 595.645 258.885 595.645 Q261.894 595.645 263.584 594.14 Q265.297 592.636 265.297 589.951 Q265.297 587.265 263.584 585.761 Q261.894 584.256 258.885 584.256 Q255.852 584.256 254.162 585.761 Q252.496 587.265 252.496 589.951 Z\" fill=\"#000000\" fill-rule=\"evenodd\" fill-opacity=\"1\" /><path clip-path=\"url(#clip230)\" d=\"M289.046 584.256 Q285.435 584.256 283.607 587.821 Q281.801 591.363 281.801 598.492 Q281.801 605.599 283.607 609.163 Q285.435 612.705 289.046 612.705 Q292.681 612.705 294.486 609.163 Q296.315 605.599 296.315 598.492 Q296.315 591.363 294.486 587.821 Q292.681 584.256 289.046 584.256 M289.046 580.553 Q294.857 580.553 297.912 585.159 Q300.991 589.742 300.991 598.492 Q300.991 607.219 297.912 611.826 Q294.857 616.409 289.046 616.409 Q283.236 616.409 280.158 611.826 Q277.102 607.219 277.102 598.492 Q277.102 589.742 280.158 585.159 Q283.236 580.553 289.046 580.553 Z\" fill=\"#000000\" fill-rule=\"evenodd\" fill-opacity=\"1\" /><path clip-path=\"url(#clip230)\" d=\"M337.379 590.275 L326.801 600.9 L337.379 611.478 L334.625 614.279 L324 603.654 L313.375 614.279 L310.644 611.478 L321.199 600.9 L310.644 590.275 L313.375 587.474 L324 598.099 L334.625 587.474 L337.379 590.275 Z\" fill=\"#000000\" fill-rule=\"evenodd\" fill-opacity=\"1\" /><path clip-path=\"url(#clip230)\" d=\"M349.741 611.802 L357.379 611.802 L357.379 585.437 L349.069 587.103 L349.069 582.844 L357.333 581.178 L362.009 581.178 L362.009 611.802 L369.648 611.802 L369.648 615.738 L349.741 615.738 L349.741 611.802 Z\" fill=\"#000000\" fill-rule=\"evenodd\" fill-opacity=\"1\" /><path clip-path=\"url(#clip230)\" d=\"M389.092 584.256 Q385.481 584.256 383.652 587.821 Q381.847 591.363 381.847 598.492 Q381.847 605.599 383.652 609.163 Q385.481 612.705 389.092 612.705 Q392.726 612.705 394.532 609.163 Q396.361 605.599 396.361 598.492 Q396.361 591.363 394.532 587.821 Q392.726 584.256 389.092 584.256 M389.092 580.553 Q394.902 580.553 397.958 585.159 Q401.037 589.742 401.037 598.492 Q401.037 607.219 397.958 611.826 Q394.902 616.409 389.092 616.409 Q383.282 616.409 380.203 611.826 Q377.148 607.219 377.148 598.492 Q377.148 589.742 380.203 585.159 Q383.282 580.553 389.092 580.553 Z\" fill=\"#000000\" fill-rule=\"evenodd\" fill-opacity=\"1\" /><path clip-path=\"url(#clip230)\" d=\"M401.037 574.654 L425.148 574.654 L425.148 577.851 L401.037 577.851 L401.037 574.654 Z\" fill=\"#000000\" fill-rule=\"evenodd\" fill-opacity=\"1\" /><path clip-path=\"url(#clip230)\" d=\"M434.007 585.13 L440.213 585.13 L440.213 563.708 L433.461 565.062 L433.461 561.601 L440.176 560.247 L443.975 560.247 L443.975 585.13 L450.181 585.13 L450.181 588.327 L434.007 588.327 L434.007 585.13 Z\" fill=\"#000000\" fill-rule=\"evenodd\" fill-opacity=\"1\" /><path clip-path=\"url(#clip230)\" d=\"M93.0058 390.06 Q89.6725 390.06 87.7512 391.843 Q85.8531 393.625 85.8531 396.75 Q85.8531 399.875 87.7512 401.657 Q89.6725 403.44 93.0058 403.44 Q96.3391 403.44 98.2604 401.657 Q100.182 399.852 100.182 396.75 Q100.182 393.625 98.2604 391.843 Q96.3623 390.06 93.0058 390.06 M88.3299 388.069 Q85.3206 387.329 83.6308 385.268 Q81.9642 383.208 81.9642 380.245 Q81.9642 376.102 84.904 373.694 Q87.8669 371.287 93.0058 371.287 Q98.1678 371.287 101.108 373.694 Q104.047 376.102 104.047 380.245 Q104.047 383.208 102.358 385.268 Q100.691 387.329 97.7048 388.069 Q101.084 388.856 102.959 391.148 Q104.858 393.44 104.858 396.75 Q104.858 401.773 101.779 404.458 Q98.7234 407.143 93.0058 407.143 Q87.2882 407.143 84.2095 404.458 Q81.154 401.773 81.154 396.75 Q81.154 393.44 83.0521 391.148 Q84.9503 388.856 88.3299 388.069 M86.6169 380.685 Q86.6169 383.37 88.2836 384.875 Q89.9734 386.38 93.0058 386.38 Q96.015 386.38 97.7048 384.875 Q99.4178 383.37 99.4178 380.685 Q99.4178 378 97.7048 376.495 Q96.015 374.991 93.0058 374.991 Q89.9734 374.991 88.2836 376.495 Q86.6169 378 86.6169 380.685 Z\" fill=\"#000000\" fill-rule=\"evenodd\" fill-opacity=\"1\" /><path clip-path=\"url(#clip230)\" d=\"M113.168 400.592 L118.052 400.592 L118.052 406.472 L113.168 406.472 L113.168 400.592 Z\" fill=\"#000000\" fill-rule=\"evenodd\" fill-opacity=\"1\" /><path clip-path=\"url(#clip230)\" d=\"M141.084 375.986 L129.279 394.435 L141.084 394.435 L141.084 375.986 M139.857 371.912 L145.737 371.912 L145.737 394.435 L150.668 394.435 L150.668 398.324 L145.737 398.324 L145.737 406.472 L141.084 406.472 L141.084 398.324 L125.482 398.324 L125.482 393.81 L139.857 371.912 Z\" fill=\"#000000\" fill-rule=\"evenodd\" fill-opacity=\"1\" /><path clip-path=\"url(#clip230)\" d=\"M159.209 402.537 L166.848 402.537 L166.848 376.171 L158.538 377.838 L158.538 373.579 L166.802 371.912 L171.478 371.912 L171.478 402.537 L179.116 402.537 L179.116 406.472 L159.209 406.472 L159.209 402.537 Z\" fill=\"#000000\" fill-rule=\"evenodd\" fill-opacity=\"1\" /><path clip-path=\"url(#clip230)\" d=\"M201.408 375.986 L189.602 394.435 L201.408 394.435 L201.408 375.986 M200.181 371.912 L206.061 371.912 L206.061 394.435 L210.991 394.435 L210.991 398.324 L206.061 398.324 L206.061 406.472 L201.408 406.472 L201.408 398.324 L185.806 398.324 L185.806 393.81 L200.181 371.912 Z\" fill=\"#000000\" fill-rule=\"evenodd\" fill-opacity=\"1\" /><path clip-path=\"url(#clip230)\" d=\"M228.723 390.06 Q225.389 390.06 223.468 391.843 Q221.57 393.625 221.57 396.75 Q221.57 399.875 223.468 401.657 Q225.389 403.44 228.723 403.44 Q232.056 403.44 233.977 401.657 Q235.899 399.852 235.899 396.75 Q235.899 393.625 233.977 391.843 Q232.079 390.06 228.723 390.06 M224.047 388.069 Q221.038 387.329 219.348 385.268 Q217.681 383.208 217.681 380.245 Q217.681 376.102 220.621 373.694 Q223.584 371.287 228.723 371.287 Q233.885 371.287 236.824 373.694 Q239.764 376.102 239.764 380.245 Q239.764 383.208 238.074 385.268 Q236.408 387.329 233.422 388.069 Q236.801 388.856 238.676 391.148 Q240.574 393.44 240.574 396.75 Q240.574 401.773 237.496 404.458 Q234.44 407.143 228.723 407.143 Q223.005 407.143 219.926 404.458 Q216.871 401.773 216.871 396.75 Q216.871 393.44 218.769 391.148 Q220.667 388.856 224.047 388.069 M222.334 380.685 Q222.334 383.37 224 384.875 Q225.69 386.38 228.723 386.38 Q231.732 386.38 233.422 384.875 Q235.135 383.37 235.135 380.685 Q235.135 378 233.422 376.495 Q231.732 374.991 228.723 374.991 Q225.69 374.991 224 376.495 Q222.334 378 222.334 380.685 Z\" fill=\"#000000\" fill-rule=\"evenodd\" fill-opacity=\"1\" /><path clip-path=\"url(#clip230)\" d=\"M258.885 374.991 Q255.273 374.991 253.445 378.556 Q251.639 382.097 251.639 389.227 Q251.639 396.333 253.445 399.898 Q255.273 403.44 258.885 403.44 Q262.519 403.44 264.324 399.898 Q266.153 396.333 266.153 389.227 Q266.153 382.097 264.324 378.556 Q262.519 374.991 258.885 374.991 M258.885 371.287 Q264.695 371.287 267.75 375.894 Q270.829 380.477 270.829 389.227 Q270.829 397.954 267.75 402.56 Q264.695 407.143 258.885 407.143 Q253.074 407.143 249.996 402.56 Q246.94 397.954 246.94 389.227 Q246.94 380.477 249.996 375.894 Q253.074 371.287 258.885 371.287 Z\" fill=\"#000000\" fill-rule=\"evenodd\" fill-opacity=\"1\" /><path clip-path=\"url(#clip230)\" d=\"M289.046 374.991 Q285.435 374.991 283.607 378.556 Q281.801 382.097 281.801 389.227 Q281.801 396.333 283.607 399.898 Q285.435 403.44 289.046 403.44 Q292.681 403.44 294.486 399.898 Q296.315 396.333 296.315 389.227 Q296.315 382.097 294.486 378.556 Q292.681 374.991 289.046 374.991 M289.046 371.287 Q294.857 371.287 297.912 375.894 Q300.991 380.477 300.991 389.227 Q300.991 397.954 297.912 402.56 Q294.857 407.143 289.046 407.143 Q283.236 407.143 280.158 402.56 Q277.102 397.954 277.102 389.227 Q277.102 380.477 280.158 375.894 Q283.236 371.287 289.046 371.287 Z\" fill=\"#000000\" fill-rule=\"evenodd\" fill-opacity=\"1\" /><path clip-path=\"url(#clip230)\" d=\"M337.379 381.009 L326.801 391.634 L337.379 402.213 L334.625 405.014 L324 394.389 L313.375 405.014 L310.644 402.213 L321.199 391.634 L310.644 381.009 L313.375 378.208 L324 388.833 L334.625 378.208 L337.379 381.009 Z\" fill=\"#000000\" fill-rule=\"evenodd\" fill-opacity=\"1\" /><path clip-path=\"url(#clip230)\" d=\"M349.741 402.537 L357.379 402.537 L357.379 376.171 L349.069 377.838 L349.069 373.579 L357.333 371.912 L362.009 371.912 L362.009 402.537 L369.648 402.537 L369.648 406.472 L349.741 406.472 L349.741 402.537 Z\" fill=\"#000000\" fill-rule=\"evenodd\" fill-opacity=\"1\" /><path clip-path=\"url(#clip230)\" d=\"M389.092 374.991 Q385.481 374.991 383.652 378.556 Q381.847 382.097 381.847 389.227 Q381.847 396.333 383.652 399.898 Q385.481 403.44 389.092 403.44 Q392.726 403.44 394.532 399.898 Q396.361 396.333 396.361 389.227 Q396.361 382.097 394.532 378.556 Q392.726 374.991 389.092 374.991 M389.092 371.287 Q394.902 371.287 397.958 375.894 Q401.037 380.477 401.037 389.227 Q401.037 397.954 397.958 402.56 Q394.902 407.143 389.092 407.143 Q383.282 407.143 380.203 402.56 Q377.148 397.954 377.148 389.227 Q377.148 380.477 380.203 375.894 Q383.282 371.287 389.092 371.287 Z\" fill=\"#000000\" fill-rule=\"evenodd\" fill-opacity=\"1\" /><path clip-path=\"url(#clip230)\" d=\"M401.037 365.388 L425.148 365.388 L425.148 368.586 L401.037 368.586 L401.037 365.388 Z\" fill=\"#000000\" fill-rule=\"evenodd\" fill-opacity=\"1\" /><path clip-path=\"url(#clip230)\" d=\"M434.007 375.864 L440.213 375.864 L440.213 354.442 L433.461 355.796 L433.461 352.336 L440.176 350.982 L443.975 350.982 L443.975 375.864 L450.181 375.864 L450.181 379.062 L434.007 379.062 L434.007 375.864 Z\" fill=\"#000000\" fill-rule=\"evenodd\" fill-opacity=\"1\" /><path clip-path=\"url(#clip230)\" d=\"M93.0058 180.795 Q89.6725 180.795 87.7512 182.577 Q85.8531 184.359 85.8531 187.484 Q85.8531 190.609 87.7512 192.392 Q89.6725 194.174 93.0058 194.174 Q96.3391 194.174 98.2604 192.392 Q100.182 190.586 100.182 187.484 Q100.182 184.359 98.2604 182.577 Q96.3623 180.795 93.0058 180.795 M88.3299 178.804 Q85.3206 178.063 83.6308 176.003 Q81.9642 173.943 81.9642 170.98 Q81.9642 166.836 84.904 164.429 Q87.8669 162.022 93.0058 162.022 Q98.1678 162.022 101.108 164.429 Q104.047 166.836 104.047 170.98 Q104.047 173.943 102.358 176.003 Q100.691 178.063 97.7048 178.804 Q101.084 179.591 102.959 181.883 Q104.858 184.174 104.858 187.484 Q104.858 192.508 101.779 195.193 Q98.7234 197.878 93.0058 197.878 Q87.2882 197.878 84.2095 195.193 Q81.154 192.508 81.154 187.484 Q81.154 184.174 83.0521 181.883 Q84.9503 179.591 88.3299 178.804 M86.6169 171.42 Q86.6169 174.105 88.2836 175.609 Q89.9734 177.114 93.0058 177.114 Q96.015 177.114 97.7048 175.609 Q99.4178 174.105 99.4178 171.42 Q99.4178 168.735 97.7048 167.23 Q96.015 165.725 93.0058 165.725 Q89.9734 165.725 88.2836 167.23 Q86.6169 168.735 86.6169 171.42 Z\" fill=\"#000000\" fill-rule=\"evenodd\" fill-opacity=\"1\" /><path clip-path=\"url(#clip230)\" d=\"M113.168 191.327 L118.052 191.327 L118.052 197.207 L113.168 197.207 L113.168 191.327 Z\" fill=\"#000000\" fill-rule=\"evenodd\" fill-opacity=\"1\" /><path clip-path=\"url(#clip230)\" d=\"M141.084 166.721 L129.279 185.17 L141.084 185.17 L141.084 166.721 M139.857 162.647 L145.737 162.647 L145.737 185.17 L150.668 185.17 L150.668 189.058 L145.737 189.058 L145.737 197.207 L141.084 197.207 L141.084 189.058 L125.482 189.058 L125.482 184.545 L139.857 162.647 Z\" fill=\"#000000\" fill-rule=\"evenodd\" fill-opacity=\"1\" /><path clip-path=\"url(#clip230)\" d=\"M159.209 193.271 L166.848 193.271 L166.848 166.906 L158.538 168.572 L158.538 164.313 L166.802 162.647 L171.478 162.647 L171.478 193.271 L179.116 193.271 L179.116 197.207 L159.209 197.207 L159.209 193.271 Z\" fill=\"#000000\" fill-rule=\"evenodd\" fill-opacity=\"1\" /><path clip-path=\"url(#clip230)\" d=\"M201.408 166.721 L189.602 185.17 L201.408 185.17 L201.408 166.721 M200.181 162.647 L206.061 162.647 L206.061 185.17 L210.991 185.17 L210.991 189.058 L206.061 189.058 L206.061 197.207 L201.408 197.207 L201.408 189.058 L185.806 189.058 L185.806 184.545 L200.181 162.647 Z\" fill=\"#000000\" fill-rule=\"evenodd\" fill-opacity=\"1\" /><path clip-path=\"url(#clip230)\" d=\"M228.723 180.795 Q225.389 180.795 223.468 182.577 Q221.57 184.359 221.57 187.484 Q221.57 190.609 223.468 192.392 Q225.389 194.174 228.723 194.174 Q232.056 194.174 233.977 192.392 Q235.899 190.586 235.899 187.484 Q235.899 184.359 233.977 182.577 Q232.079 180.795 228.723 180.795 M224.047 178.804 Q221.038 178.063 219.348 176.003 Q217.681 173.943 217.681 170.98 Q217.681 166.836 220.621 164.429 Q223.584 162.022 228.723 162.022 Q233.885 162.022 236.824 164.429 Q239.764 166.836 239.764 170.98 Q239.764 173.943 238.074 176.003 Q236.408 178.063 233.422 178.804 Q236.801 179.591 238.676 181.883 Q240.574 184.174 240.574 187.484 Q240.574 192.508 237.496 195.193 Q234.44 197.878 228.723 197.878 Q223.005 197.878 219.926 195.193 Q216.871 192.508 216.871 187.484 Q216.871 184.174 218.769 181.883 Q220.667 179.591 224.047 178.804 M222.334 171.42 Q222.334 174.105 224 175.609 Q225.69 177.114 228.723 177.114 Q231.732 177.114 233.422 175.609 Q235.135 174.105 235.135 171.42 Q235.135 168.735 233.422 167.23 Q231.732 165.725 228.723 165.725 Q225.69 165.725 224 167.23 Q222.334 168.735 222.334 171.42 Z\" fill=\"#000000\" fill-rule=\"evenodd\" fill-opacity=\"1\" /><path clip-path=\"url(#clip230)\" d=\"M252.912 193.271 L269.232 193.271 L269.232 197.207 L247.287 197.207 L247.287 193.271 Q249.949 190.517 254.533 185.887 Q259.139 181.234 260.32 179.892 Q262.565 177.369 263.445 175.633 Q264.347 173.873 264.347 172.184 Q264.347 169.429 262.403 167.693 Q260.482 165.957 257.38 165.957 Q255.181 165.957 252.727 166.721 Q250.297 167.485 247.519 169.035 L247.519 164.313 Q250.343 163.179 252.797 162.6 Q255.25 162.022 257.287 162.022 Q262.658 162.022 265.852 164.707 Q269.047 167.392 269.047 171.883 Q269.047 174.012 268.236 175.934 Q267.449 177.832 265.343 180.424 Q264.764 181.096 261.662 184.313 Q258.56 187.508 252.912 193.271 Z\" fill=\"#000000\" fill-rule=\"evenodd\" fill-opacity=\"1\" /><path clip-path=\"url(#clip230)\" d=\"M289.046 165.725 Q285.435 165.725 283.607 169.29 Q281.801 172.832 281.801 179.961 Q281.801 187.068 283.607 190.633 Q285.435 194.174 289.046 194.174 Q292.681 194.174 294.486 190.633 Q296.315 187.068 296.315 179.961 Q296.315 172.832 294.486 169.29 Q292.681 165.725 289.046 165.725 M289.046 162.022 Q294.857 162.022 297.912 166.628 Q300.991 171.211 300.991 179.961 Q300.991 188.688 297.912 193.295 Q294.857 197.878 289.046 197.878 Q283.236 197.878 280.158 193.295 Q277.102 188.688 277.102 179.961 Q277.102 171.211 280.158 166.628 Q283.236 162.022 289.046 162.022 Z\" fill=\"#000000\" fill-rule=\"evenodd\" fill-opacity=\"1\" /><path clip-path=\"url(#clip230)\" d=\"M337.379 171.744 L326.801 182.369 L337.379 192.947 L334.625 195.748 L324 185.123 L313.375 195.748 L310.644 192.947 L321.199 182.369 L310.644 171.744 L313.375 168.943 L324 179.568 L334.625 168.943 L337.379 171.744 Z\" fill=\"#000000\" fill-rule=\"evenodd\" fill-opacity=\"1\" /><path clip-path=\"url(#clip230)\" d=\"M349.741 193.271 L357.379 193.271 L357.379 166.906 L349.069 168.572 L349.069 164.313 L357.333 162.647 L362.009 162.647 L362.009 193.271 L369.648 193.271 L369.648 197.207 L349.741 197.207 L349.741 193.271 Z\" fill=\"#000000\" fill-rule=\"evenodd\" fill-opacity=\"1\" /><path clip-path=\"url(#clip230)\" d=\"M389.092 165.725 Q385.481 165.725 383.652 169.29 Q381.847 172.832 381.847 179.961 Q381.847 187.068 383.652 190.633 Q385.481 194.174 389.092 194.174 Q392.726 194.174 394.532 190.633 Q396.361 187.068 396.361 179.961 Q396.361 172.832 394.532 169.29 Q392.726 165.725 389.092 165.725 M389.092 162.022 Q394.902 162.022 397.958 166.628 Q401.037 171.211 401.037 179.961 Q401.037 188.688 397.958 193.295 Q394.902 197.878 389.092 197.878 Q383.282 197.878 380.203 193.295 Q377.148 188.688 377.148 179.961 Q377.148 171.211 380.203 166.628 Q383.282 162.022 389.092 162.022 Z\" fill=\"#000000\" fill-rule=\"evenodd\" fill-opacity=\"1\" /><path clip-path=\"url(#clip230)\" d=\"M401.037 156.123 L425.148 156.123 L425.148 159.32 L401.037 159.32 L401.037 156.123 Z\" fill=\"#000000\" fill-rule=\"evenodd\" fill-opacity=\"1\" /><path clip-path=\"url(#clip230)\" d=\"M434.007 166.599 L440.213 166.599 L440.213 145.177 L433.461 146.531 L433.461 143.07 L440.176 141.716 L443.975 141.716 L443.975 166.599 L450.181 166.599 L450.181 169.796 L434.007 169.796 L434.007 166.599 Z\" fill=\"#000000\" fill-rule=\"evenodd\" fill-opacity=\"1\" /><polyline clip-path=\"url(#clip232)\" style=\"stroke:#009af9; stroke-linecap:butt; stroke-linejoin:round; stroke-width:16; stroke-opacity:1; fill:none\" points=\"\n",
       "  2299.93,1326.03 2282.14,1314.61 2264.35,1303.19 2246.57,1291.77 2228.78,1280.35 2210.99,1268.92 2193.21,1257.5 2175.42,1246.08 2157.63,1234.66 2139.85,1223.24 \n",
       "  2122.06,1211.82 2104.27,1200.4 2086.48,1188.98 2068.7,1177.56 2050.91,1166.14 2033.12,1154.72 2015.34,1143.3 1997.55,1131.87 1979.76,1120.45 1961.98,1109.03 \n",
       "  1944.19,1097.61 1926.4,1086.19 1908.61,1074.77 1890.83,1063.35 1873.04,1051.93 1855.25,1040.51 1837.47,1029.09 1819.68,1017.67 1801.89,1006.25 1784.11,994.825 \n",
       "  1766.32,983.404 1748.53,971.983 1730.74,960.563 1712.96,949.142 1695.17,937.721 1677.38,926.3 1659.6,914.88 1641.81,903.459 1624.02,892.038 1606.24,880.617 \n",
       "  1588.45,869.197 1570.66,857.776 1552.87,846.355 1535.09,834.935 1517.3,823.514 1499.51,812.093 1481.73,800.672 1463.94,789.252 1446.15,777.831 1428.36,766.41 \n",
       "  1410.58,754.99 1392.79,743.569 1375,732.148 1357.22,720.728 1339.43,709.307 1321.64,697.886 1303.86,686.466 1286.07,675.045 1268.28,663.624 1250.49,652.204 \n",
       "  1232.71,640.783 1214.92,629.362 1197.13,617.942 1179.35,606.521 1161.56,595.1 1143.77,583.68 1125.98,572.259 1108.2,560.838 1090.41,549.418 1072.62,537.997 \n",
       "  1054.84,526.577 1037.05,515.156 1019.26,503.735 1001.47,492.315 983.688,480.894 965.9,469.473 948.113,458.053 930.326,446.632 912.539,435.212 894.752,423.791 \n",
       "  876.965,412.371 859.178,400.95 841.391,389.529 823.603,378.109 805.816,366.688 788.029,355.268 770.242,343.847 752.455,332.427 734.668,321.006 716.881,309.585 \n",
       "  699.093,298.165 681.306,286.744 663.519,275.324 645.732,263.903 627.945,252.483 610.158,241.062 592.37,229.642 574.583,218.221 556.796,206.801 539.009,195.38 \n",
       "  \n",
       "  \"/>\n",
       "<circle clip-path=\"url(#clip232)\" cx=\"2299.93\" cy=\"1298.9\" r=\"14\" fill=\"#e26f46\" fill-rule=\"evenodd\" fill-opacity=\"1\" stroke=\"#000000\" stroke-opacity=\"1\" stroke-width=\"3.2\"/>\n",
       "<circle clip-path=\"url(#clip232)\" cx=\"2282.14\" cy=\"1298.9\" r=\"14\" fill=\"#e26f46\" fill-rule=\"evenodd\" fill-opacity=\"1\" stroke=\"#000000\" stroke-opacity=\"1\" stroke-width=\"3.2\"/>\n",
       "<circle clip-path=\"url(#clip232)\" cx=\"2264.35\" cy=\"1298.9\" r=\"14\" fill=\"#e26f46\" fill-rule=\"evenodd\" fill-opacity=\"1\" stroke=\"#000000\" stroke-opacity=\"1\" stroke-width=\"3.2\"/>\n",
       "<circle clip-path=\"url(#clip232)\" cx=\"2246.57\" cy=\"1298.9\" r=\"14\" fill=\"#e26f46\" fill-rule=\"evenodd\" fill-opacity=\"1\" stroke=\"#000000\" stroke-opacity=\"1\" stroke-width=\"3.2\"/>\n",
       "<circle clip-path=\"url(#clip232)\" cx=\"2228.78\" cy=\"1298.9\" r=\"14\" fill=\"#e26f46\" fill-rule=\"evenodd\" fill-opacity=\"1\" stroke=\"#000000\" stroke-opacity=\"1\" stroke-width=\"3.2\"/>\n",
       "<circle clip-path=\"url(#clip232)\" cx=\"2210.99\" cy=\"1191.07\" r=\"14\" fill=\"#e26f46\" fill-rule=\"evenodd\" fill-opacity=\"1\" stroke=\"#000000\" stroke-opacity=\"1\" stroke-width=\"3.2\"/>\n",
       "<circle clip-path=\"url(#clip232)\" cx=\"2193.21\" cy=\"1191.07\" r=\"14\" fill=\"#e26f46\" fill-rule=\"evenodd\" fill-opacity=\"1\" stroke=\"#000000\" stroke-opacity=\"1\" stroke-width=\"3.2\"/>\n",
       "<circle clip-path=\"url(#clip232)\" cx=\"2175.42\" cy=\"1191.07\" r=\"14\" fill=\"#e26f46\" fill-rule=\"evenodd\" fill-opacity=\"1\" stroke=\"#000000\" stroke-opacity=\"1\" stroke-width=\"3.2\"/>\n",
       "<circle clip-path=\"url(#clip232)\" cx=\"2157.63\" cy=\"1191.07\" r=\"14\" fill=\"#e26f46\" fill-rule=\"evenodd\" fill-opacity=\"1\" stroke=\"#000000\" stroke-opacity=\"1\" stroke-width=\"3.2\"/>\n",
       "<circle clip-path=\"url(#clip232)\" cx=\"2139.85\" cy=\"1191.07\" r=\"14\" fill=\"#e26f46\" fill-rule=\"evenodd\" fill-opacity=\"1\" stroke=\"#000000\" stroke-opacity=\"1\" stroke-width=\"3.2\"/>\n",
       "<circle clip-path=\"url(#clip232)\" cx=\"2122.06\" cy=\"1191.07\" r=\"14\" fill=\"#e26f46\" fill-rule=\"evenodd\" fill-opacity=\"1\" stroke=\"#000000\" stroke-opacity=\"1\" stroke-width=\"3.2\"/>\n",
       "<circle clip-path=\"url(#clip232)\" cx=\"2104.27\" cy=\"1191.07\" r=\"14\" fill=\"#e26f46\" fill-rule=\"evenodd\" fill-opacity=\"1\" stroke=\"#000000\" stroke-opacity=\"1\" stroke-width=\"3.2\"/>\n",
       "<circle clip-path=\"url(#clip232)\" cx=\"2086.48\" cy=\"1191.07\" r=\"14\" fill=\"#e26f46\" fill-rule=\"evenodd\" fill-opacity=\"1\" stroke=\"#000000\" stroke-opacity=\"1\" stroke-width=\"3.2\"/>\n",
       "<circle clip-path=\"url(#clip232)\" cx=\"2068.7\" cy=\"1191.07\" r=\"14\" fill=\"#e26f46\" fill-rule=\"evenodd\" fill-opacity=\"1\" stroke=\"#000000\" stroke-opacity=\"1\" stroke-width=\"3.2\"/>\n",
       "<circle clip-path=\"url(#clip232)\" cx=\"2050.91\" cy=\"1191.07\" r=\"14\" fill=\"#e26f46\" fill-rule=\"evenodd\" fill-opacity=\"1\" stroke=\"#000000\" stroke-opacity=\"1\" stroke-width=\"3.2\"/>\n",
       "<circle clip-path=\"url(#clip232)\" cx=\"2033.12\" cy=\"1083.24\" r=\"14\" fill=\"#e26f46\" fill-rule=\"evenodd\" fill-opacity=\"1\" stroke=\"#000000\" stroke-opacity=\"1\" stroke-width=\"3.2\"/>\n",
       "<circle clip-path=\"url(#clip232)\" cx=\"2015.34\" cy=\"1083.24\" r=\"14\" fill=\"#e26f46\" fill-rule=\"evenodd\" fill-opacity=\"1\" stroke=\"#000000\" stroke-opacity=\"1\" stroke-width=\"3.2\"/>\n",
       "<circle clip-path=\"url(#clip232)\" cx=\"1997.55\" cy=\"1083.24\" r=\"14\" fill=\"#e26f46\" fill-rule=\"evenodd\" fill-opacity=\"1\" stroke=\"#000000\" stroke-opacity=\"1\" stroke-width=\"3.2\"/>\n",
       "<circle clip-path=\"url(#clip232)\" cx=\"1979.76\" cy=\"1083.24\" r=\"14\" fill=\"#e26f46\" fill-rule=\"evenodd\" fill-opacity=\"1\" stroke=\"#000000\" stroke-opacity=\"1\" stroke-width=\"3.2\"/>\n",
       "<circle clip-path=\"url(#clip232)\" cx=\"1961.98\" cy=\"1083.24\" r=\"14\" fill=\"#e26f46\" fill-rule=\"evenodd\" fill-opacity=\"1\" stroke=\"#000000\" stroke-opacity=\"1\" stroke-width=\"3.2\"/>\n",
       "<circle clip-path=\"url(#clip232)\" cx=\"1944.19\" cy=\"1083.24\" r=\"14\" fill=\"#e26f46\" fill-rule=\"evenodd\" fill-opacity=\"1\" stroke=\"#000000\" stroke-opacity=\"1\" stroke-width=\"3.2\"/>\n",
       "<circle clip-path=\"url(#clip232)\" cx=\"1926.4\" cy=\"1083.24\" r=\"14\" fill=\"#e26f46\" fill-rule=\"evenodd\" fill-opacity=\"1\" stroke=\"#000000\" stroke-opacity=\"1\" stroke-width=\"3.2\"/>\n",
       "<circle clip-path=\"url(#clip232)\" cx=\"1908.61\" cy=\"1083.24\" r=\"14\" fill=\"#e26f46\" fill-rule=\"evenodd\" fill-opacity=\"1\" stroke=\"#000000\" stroke-opacity=\"1\" stroke-width=\"3.2\"/>\n",
       "<circle clip-path=\"url(#clip232)\" cx=\"1890.83\" cy=\"1083.24\" r=\"14\" fill=\"#e26f46\" fill-rule=\"evenodd\" fill-opacity=\"1\" stroke=\"#000000\" stroke-opacity=\"1\" stroke-width=\"3.2\"/>\n",
       "<circle clip-path=\"url(#clip232)\" cx=\"1873.04\" cy=\"975.413\" r=\"14\" fill=\"#e26f46\" fill-rule=\"evenodd\" fill-opacity=\"1\" stroke=\"#000000\" stroke-opacity=\"1\" stroke-width=\"3.2\"/>\n",
       "<circle clip-path=\"url(#clip232)\" cx=\"1855.25\" cy=\"975.413\" r=\"14\" fill=\"#e26f46\" fill-rule=\"evenodd\" fill-opacity=\"1\" stroke=\"#000000\" stroke-opacity=\"1\" stroke-width=\"3.2\"/>\n",
       "<circle clip-path=\"url(#clip232)\" cx=\"1837.47\" cy=\"975.413\" r=\"14\" fill=\"#e26f46\" fill-rule=\"evenodd\" fill-opacity=\"1\" stroke=\"#000000\" stroke-opacity=\"1\" stroke-width=\"3.2\"/>\n",
       "<circle clip-path=\"url(#clip232)\" cx=\"1819.68\" cy=\"975.413\" r=\"14\" fill=\"#e26f46\" fill-rule=\"evenodd\" fill-opacity=\"1\" stroke=\"#000000\" stroke-opacity=\"1\" stroke-width=\"3.2\"/>\n",
       "<circle clip-path=\"url(#clip232)\" cx=\"1801.89\" cy=\"975.413\" r=\"14\" fill=\"#e26f46\" fill-rule=\"evenodd\" fill-opacity=\"1\" stroke=\"#000000\" stroke-opacity=\"1\" stroke-width=\"3.2\"/>\n",
       "<circle clip-path=\"url(#clip232)\" cx=\"1784.11\" cy=\"975.413\" r=\"14\" fill=\"#e26f46\" fill-rule=\"evenodd\" fill-opacity=\"1\" stroke=\"#000000\" stroke-opacity=\"1\" stroke-width=\"3.2\"/>\n",
       "<circle clip-path=\"url(#clip232)\" cx=\"1766.32\" cy=\"975.413\" r=\"14\" fill=\"#e26f46\" fill-rule=\"evenodd\" fill-opacity=\"1\" stroke=\"#000000\" stroke-opacity=\"1\" stroke-width=\"3.2\"/>\n",
       "<circle clip-path=\"url(#clip232)\" cx=\"1748.53\" cy=\"975.413\" r=\"14\" fill=\"#e26f46\" fill-rule=\"evenodd\" fill-opacity=\"1\" stroke=\"#000000\" stroke-opacity=\"1\" stroke-width=\"3.2\"/>\n",
       "<circle clip-path=\"url(#clip232)\" cx=\"1730.74\" cy=\"975.413\" r=\"14\" fill=\"#e26f46\" fill-rule=\"evenodd\" fill-opacity=\"1\" stroke=\"#000000\" stroke-opacity=\"1\" stroke-width=\"3.2\"/>\n",
       "<circle clip-path=\"url(#clip232)\" cx=\"1712.96\" cy=\"975.413\" r=\"14\" fill=\"#e26f46\" fill-rule=\"evenodd\" fill-opacity=\"1\" stroke=\"#000000\" stroke-opacity=\"1\" stroke-width=\"3.2\"/>\n",
       "<circle clip-path=\"url(#clip232)\" cx=\"1695.17\" cy=\"867.585\" r=\"14\" fill=\"#e26f46\" fill-rule=\"evenodd\" fill-opacity=\"1\" stroke=\"#000000\" stroke-opacity=\"1\" stroke-width=\"3.2\"/>\n",
       "<circle clip-path=\"url(#clip232)\" cx=\"1677.38\" cy=\"867.585\" r=\"14\" fill=\"#e26f46\" fill-rule=\"evenodd\" fill-opacity=\"1\" stroke=\"#000000\" stroke-opacity=\"1\" stroke-width=\"3.2\"/>\n",
       "<circle clip-path=\"url(#clip232)\" cx=\"1659.6\" cy=\"867.585\" r=\"14\" fill=\"#e26f46\" fill-rule=\"evenodd\" fill-opacity=\"1\" stroke=\"#000000\" stroke-opacity=\"1\" stroke-width=\"3.2\"/>\n",
       "<circle clip-path=\"url(#clip232)\" cx=\"1641.81\" cy=\"867.585\" r=\"14\" fill=\"#e26f46\" fill-rule=\"evenodd\" fill-opacity=\"1\" stroke=\"#000000\" stroke-opacity=\"1\" stroke-width=\"3.2\"/>\n",
       "<circle clip-path=\"url(#clip232)\" cx=\"1624.02\" cy=\"867.585\" r=\"14\" fill=\"#e26f46\" fill-rule=\"evenodd\" fill-opacity=\"1\" stroke=\"#000000\" stroke-opacity=\"1\" stroke-width=\"3.2\"/>\n",
       "<circle clip-path=\"url(#clip232)\" cx=\"1606.24\" cy=\"867.585\" r=\"14\" fill=\"#e26f46\" fill-rule=\"evenodd\" fill-opacity=\"1\" stroke=\"#000000\" stroke-opacity=\"1\" stroke-width=\"3.2\"/>\n",
       "<circle clip-path=\"url(#clip232)\" cx=\"1588.45\" cy=\"867.585\" r=\"14\" fill=\"#e26f46\" fill-rule=\"evenodd\" fill-opacity=\"1\" stroke=\"#000000\" stroke-opacity=\"1\" stroke-width=\"3.2\"/>\n",
       "<circle clip-path=\"url(#clip232)\" cx=\"1570.66\" cy=\"867.585\" r=\"14\" fill=\"#e26f46\" fill-rule=\"evenodd\" fill-opacity=\"1\" stroke=\"#000000\" stroke-opacity=\"1\" stroke-width=\"3.2\"/>\n",
       "<circle clip-path=\"url(#clip232)\" cx=\"1552.87\" cy=\"867.585\" r=\"14\" fill=\"#e26f46\" fill-rule=\"evenodd\" fill-opacity=\"1\" stroke=\"#000000\" stroke-opacity=\"1\" stroke-width=\"3.2\"/>\n",
       "<circle clip-path=\"url(#clip232)\" cx=\"1535.09\" cy=\"759.758\" r=\"14\" fill=\"#e26f46\" fill-rule=\"evenodd\" fill-opacity=\"1\" stroke=\"#000000\" stroke-opacity=\"1\" stroke-width=\"3.2\"/>\n",
       "<circle clip-path=\"url(#clip232)\" cx=\"1517.3\" cy=\"759.758\" r=\"14\" fill=\"#e26f46\" fill-rule=\"evenodd\" fill-opacity=\"1\" stroke=\"#000000\" stroke-opacity=\"1\" stroke-width=\"3.2\"/>\n",
       "<circle clip-path=\"url(#clip232)\" cx=\"1499.51\" cy=\"759.758\" r=\"14\" fill=\"#e26f46\" fill-rule=\"evenodd\" fill-opacity=\"1\" stroke=\"#000000\" stroke-opacity=\"1\" stroke-width=\"3.2\"/>\n",
       "<circle clip-path=\"url(#clip232)\" cx=\"1481.73\" cy=\"759.758\" r=\"14\" fill=\"#e26f46\" fill-rule=\"evenodd\" fill-opacity=\"1\" stroke=\"#000000\" stroke-opacity=\"1\" stroke-width=\"3.2\"/>\n",
       "<circle clip-path=\"url(#clip232)\" cx=\"1463.94\" cy=\"759.758\" r=\"14\" fill=\"#e26f46\" fill-rule=\"evenodd\" fill-opacity=\"1\" stroke=\"#000000\" stroke-opacity=\"1\" stroke-width=\"3.2\"/>\n",
       "<circle clip-path=\"url(#clip232)\" cx=\"1446.15\" cy=\"759.758\" r=\"14\" fill=\"#e26f46\" fill-rule=\"evenodd\" fill-opacity=\"1\" stroke=\"#000000\" stroke-opacity=\"1\" stroke-width=\"3.2\"/>\n",
       "<circle clip-path=\"url(#clip232)\" cx=\"1428.36\" cy=\"759.758\" r=\"14\" fill=\"#e26f46\" fill-rule=\"evenodd\" fill-opacity=\"1\" stroke=\"#000000\" stroke-opacity=\"1\" stroke-width=\"3.2\"/>\n",
       "<circle clip-path=\"url(#clip232)\" cx=\"1410.58\" cy=\"759.758\" r=\"14\" fill=\"#e26f46\" fill-rule=\"evenodd\" fill-opacity=\"1\" stroke=\"#000000\" stroke-opacity=\"1\" stroke-width=\"3.2\"/>\n",
       "<circle clip-path=\"url(#clip232)\" cx=\"1392.79\" cy=\"759.758\" r=\"14\" fill=\"#e26f46\" fill-rule=\"evenodd\" fill-opacity=\"1\" stroke=\"#000000\" stroke-opacity=\"1\" stroke-width=\"3.2\"/>\n",
       "<circle clip-path=\"url(#clip232)\" cx=\"1375\" cy=\"651.931\" r=\"14\" fill=\"#e26f46\" fill-rule=\"evenodd\" fill-opacity=\"1\" stroke=\"#000000\" stroke-opacity=\"1\" stroke-width=\"3.2\"/>\n",
       "<circle clip-path=\"url(#clip232)\" cx=\"1357.22\" cy=\"651.931\" r=\"14\" fill=\"#e26f46\" fill-rule=\"evenodd\" fill-opacity=\"1\" stroke=\"#000000\" stroke-opacity=\"1\" stroke-width=\"3.2\"/>\n",
       "<circle clip-path=\"url(#clip232)\" cx=\"1339.43\" cy=\"651.931\" r=\"14\" fill=\"#e26f46\" fill-rule=\"evenodd\" fill-opacity=\"1\" stroke=\"#000000\" stroke-opacity=\"1\" stroke-width=\"3.2\"/>\n",
       "<circle clip-path=\"url(#clip232)\" cx=\"1321.64\" cy=\"651.931\" r=\"14\" fill=\"#e26f46\" fill-rule=\"evenodd\" fill-opacity=\"1\" stroke=\"#000000\" stroke-opacity=\"1\" stroke-width=\"3.2\"/>\n",
       "<circle clip-path=\"url(#clip232)\" cx=\"1303.86\" cy=\"651.931\" r=\"14\" fill=\"#e26f46\" fill-rule=\"evenodd\" fill-opacity=\"1\" stroke=\"#000000\" stroke-opacity=\"1\" stroke-width=\"3.2\"/>\n",
       "<circle clip-path=\"url(#clip232)\" cx=\"1286.07\" cy=\"651.931\" r=\"14\" fill=\"#e26f46\" fill-rule=\"evenodd\" fill-opacity=\"1\" stroke=\"#000000\" stroke-opacity=\"1\" stroke-width=\"3.2\"/>\n",
       "<circle clip-path=\"url(#clip232)\" cx=\"1268.28\" cy=\"651.931\" r=\"14\" fill=\"#e26f46\" fill-rule=\"evenodd\" fill-opacity=\"1\" stroke=\"#000000\" stroke-opacity=\"1\" stroke-width=\"3.2\"/>\n",
       "<circle clip-path=\"url(#clip232)\" cx=\"1250.49\" cy=\"651.931\" r=\"14\" fill=\"#e26f46\" fill-rule=\"evenodd\" fill-opacity=\"1\" stroke=\"#000000\" stroke-opacity=\"1\" stroke-width=\"3.2\"/>\n",
       "<circle clip-path=\"url(#clip232)\" cx=\"1232.71\" cy=\"651.931\" r=\"14\" fill=\"#e26f46\" fill-rule=\"evenodd\" fill-opacity=\"1\" stroke=\"#000000\" stroke-opacity=\"1\" stroke-width=\"3.2\"/>\n",
       "<circle clip-path=\"url(#clip232)\" cx=\"1214.92\" cy=\"651.931\" r=\"14\" fill=\"#e26f46\" fill-rule=\"evenodd\" fill-opacity=\"1\" stroke=\"#000000\" stroke-opacity=\"1\" stroke-width=\"3.2\"/>\n",
       "<circle clip-path=\"url(#clip232)\" cx=\"1197.13\" cy=\"544.104\" r=\"14\" fill=\"#e26f46\" fill-rule=\"evenodd\" fill-opacity=\"1\" stroke=\"#000000\" stroke-opacity=\"1\" stroke-width=\"3.2\"/>\n",
       "<circle clip-path=\"url(#clip232)\" cx=\"1179.35\" cy=\"544.104\" r=\"14\" fill=\"#e26f46\" fill-rule=\"evenodd\" fill-opacity=\"1\" stroke=\"#000000\" stroke-opacity=\"1\" stroke-width=\"3.2\"/>\n",
       "<circle clip-path=\"url(#clip232)\" cx=\"1161.56\" cy=\"544.104\" r=\"14\" fill=\"#e26f46\" fill-rule=\"evenodd\" fill-opacity=\"1\" stroke=\"#000000\" stroke-opacity=\"1\" stroke-width=\"3.2\"/>\n",
       "<circle clip-path=\"url(#clip232)\" cx=\"1143.77\" cy=\"544.104\" r=\"14\" fill=\"#e26f46\" fill-rule=\"evenodd\" fill-opacity=\"1\" stroke=\"#000000\" stroke-opacity=\"1\" stroke-width=\"3.2\"/>\n",
       "<circle clip-path=\"url(#clip232)\" cx=\"1125.98\" cy=\"544.104\" r=\"14\" fill=\"#e26f46\" fill-rule=\"evenodd\" fill-opacity=\"1\" stroke=\"#000000\" stroke-opacity=\"1\" stroke-width=\"3.2\"/>\n",
       "<circle clip-path=\"url(#clip232)\" cx=\"1108.2\" cy=\"544.104\" r=\"14\" fill=\"#e26f46\" fill-rule=\"evenodd\" fill-opacity=\"1\" stroke=\"#000000\" stroke-opacity=\"1\" stroke-width=\"3.2\"/>\n",
       "<circle clip-path=\"url(#clip232)\" cx=\"1090.41\" cy=\"544.104\" r=\"14\" fill=\"#e26f46\" fill-rule=\"evenodd\" fill-opacity=\"1\" stroke=\"#000000\" stroke-opacity=\"1\" stroke-width=\"3.2\"/>\n",
       "<circle clip-path=\"url(#clip232)\" cx=\"1072.62\" cy=\"544.104\" r=\"14\" fill=\"#e26f46\" fill-rule=\"evenodd\" fill-opacity=\"1\" stroke=\"#000000\" stroke-opacity=\"1\" stroke-width=\"3.2\"/>\n",
       "<circle clip-path=\"url(#clip232)\" cx=\"1054.84\" cy=\"544.104\" r=\"14\" fill=\"#e26f46\" fill-rule=\"evenodd\" fill-opacity=\"1\" stroke=\"#000000\" stroke-opacity=\"1\" stroke-width=\"3.2\"/>\n",
       "<circle clip-path=\"url(#clip232)\" cx=\"1037.05\" cy=\"436.278\" r=\"14\" fill=\"#e26f46\" fill-rule=\"evenodd\" fill-opacity=\"1\" stroke=\"#000000\" stroke-opacity=\"1\" stroke-width=\"3.2\"/>\n",
       "<circle clip-path=\"url(#clip232)\" cx=\"1019.26\" cy=\"436.278\" r=\"14\" fill=\"#e26f46\" fill-rule=\"evenodd\" fill-opacity=\"1\" stroke=\"#000000\" stroke-opacity=\"1\" stroke-width=\"3.2\"/>\n",
       "<circle clip-path=\"url(#clip232)\" cx=\"1001.47\" cy=\"436.278\" r=\"14\" fill=\"#e26f46\" fill-rule=\"evenodd\" fill-opacity=\"1\" stroke=\"#000000\" stroke-opacity=\"1\" stroke-width=\"3.2\"/>\n",
       "<circle clip-path=\"url(#clip232)\" cx=\"983.688\" cy=\"436.278\" r=\"14\" fill=\"#e26f46\" fill-rule=\"evenodd\" fill-opacity=\"1\" stroke=\"#000000\" stroke-opacity=\"1\" stroke-width=\"3.2\"/>\n",
       "<circle clip-path=\"url(#clip232)\" cx=\"965.9\" cy=\"436.278\" r=\"14\" fill=\"#e26f46\" fill-rule=\"evenodd\" fill-opacity=\"1\" stroke=\"#000000\" stroke-opacity=\"1\" stroke-width=\"3.2\"/>\n",
       "<circle clip-path=\"url(#clip232)\" cx=\"948.113\" cy=\"436.278\" r=\"14\" fill=\"#e26f46\" fill-rule=\"evenodd\" fill-opacity=\"1\" stroke=\"#000000\" stroke-opacity=\"1\" stroke-width=\"3.2\"/>\n",
       "<circle clip-path=\"url(#clip232)\" cx=\"930.326\" cy=\"436.278\" r=\"14\" fill=\"#e26f46\" fill-rule=\"evenodd\" fill-opacity=\"1\" stroke=\"#000000\" stroke-opacity=\"1\" stroke-width=\"3.2\"/>\n",
       "<circle clip-path=\"url(#clip232)\" cx=\"912.539\" cy=\"436.278\" r=\"14\" fill=\"#e26f46\" fill-rule=\"evenodd\" fill-opacity=\"1\" stroke=\"#000000\" stroke-opacity=\"1\" stroke-width=\"3.2\"/>\n",
       "<circle clip-path=\"url(#clip232)\" cx=\"894.752\" cy=\"436.278\" r=\"14\" fill=\"#e26f46\" fill-rule=\"evenodd\" fill-opacity=\"1\" stroke=\"#000000\" stroke-opacity=\"1\" stroke-width=\"3.2\"/>\n",
       "<circle clip-path=\"url(#clip232)\" cx=\"876.965\" cy=\"436.278\" r=\"14\" fill=\"#e26f46\" fill-rule=\"evenodd\" fill-opacity=\"1\" stroke=\"#000000\" stroke-opacity=\"1\" stroke-width=\"3.2\"/>\n",
       "<circle clip-path=\"url(#clip232)\" cx=\"859.178\" cy=\"328.452\" r=\"14\" fill=\"#e26f46\" fill-rule=\"evenodd\" fill-opacity=\"1\" stroke=\"#000000\" stroke-opacity=\"1\" stroke-width=\"3.2\"/>\n",
       "<circle clip-path=\"url(#clip232)\" cx=\"841.391\" cy=\"328.452\" r=\"14\" fill=\"#e26f46\" fill-rule=\"evenodd\" fill-opacity=\"1\" stroke=\"#000000\" stroke-opacity=\"1\" stroke-width=\"3.2\"/>\n",
       "<circle clip-path=\"url(#clip232)\" cx=\"823.603\" cy=\"328.452\" r=\"14\" fill=\"#e26f46\" fill-rule=\"evenodd\" fill-opacity=\"1\" stroke=\"#000000\" stroke-opacity=\"1\" stroke-width=\"3.2\"/>\n",
       "<circle clip-path=\"url(#clip232)\" cx=\"805.816\" cy=\"328.452\" r=\"14\" fill=\"#e26f46\" fill-rule=\"evenodd\" fill-opacity=\"1\" stroke=\"#000000\" stroke-opacity=\"1\" stroke-width=\"3.2\"/>\n",
       "<circle clip-path=\"url(#clip232)\" cx=\"788.029\" cy=\"328.452\" r=\"14\" fill=\"#e26f46\" fill-rule=\"evenodd\" fill-opacity=\"1\" stroke=\"#000000\" stroke-opacity=\"1\" stroke-width=\"3.2\"/>\n",
       "<circle clip-path=\"url(#clip232)\" cx=\"770.242\" cy=\"328.452\" r=\"14\" fill=\"#e26f46\" fill-rule=\"evenodd\" fill-opacity=\"1\" stroke=\"#000000\" stroke-opacity=\"1\" stroke-width=\"3.2\"/>\n",
       "<circle clip-path=\"url(#clip232)\" cx=\"752.455\" cy=\"328.452\" r=\"14\" fill=\"#e26f46\" fill-rule=\"evenodd\" fill-opacity=\"1\" stroke=\"#000000\" stroke-opacity=\"1\" stroke-width=\"3.2\"/>\n",
       "<circle clip-path=\"url(#clip232)\" cx=\"734.668\" cy=\"328.452\" r=\"14\" fill=\"#e26f46\" fill-rule=\"evenodd\" fill-opacity=\"1\" stroke=\"#000000\" stroke-opacity=\"1\" stroke-width=\"3.2\"/>\n",
       "<circle clip-path=\"url(#clip232)\" cx=\"716.881\" cy=\"328.452\" r=\"14\" fill=\"#e26f46\" fill-rule=\"evenodd\" fill-opacity=\"1\" stroke=\"#000000\" stroke-opacity=\"1\" stroke-width=\"3.2\"/>\n",
       "<circle clip-path=\"url(#clip232)\" cx=\"699.093\" cy=\"220.627\" r=\"14\" fill=\"#e26f46\" fill-rule=\"evenodd\" fill-opacity=\"1\" stroke=\"#000000\" stroke-opacity=\"1\" stroke-width=\"3.2\"/>\n",
       "<circle clip-path=\"url(#clip232)\" cx=\"681.306\" cy=\"220.627\" r=\"14\" fill=\"#e26f46\" fill-rule=\"evenodd\" fill-opacity=\"1\" stroke=\"#000000\" stroke-opacity=\"1\" stroke-width=\"3.2\"/>\n",
       "<circle clip-path=\"url(#clip232)\" cx=\"663.519\" cy=\"220.627\" r=\"14\" fill=\"#e26f46\" fill-rule=\"evenodd\" fill-opacity=\"1\" stroke=\"#000000\" stroke-opacity=\"1\" stroke-width=\"3.2\"/>\n",
       "<circle clip-path=\"url(#clip232)\" cx=\"645.732\" cy=\"220.627\" r=\"14\" fill=\"#e26f46\" fill-rule=\"evenodd\" fill-opacity=\"1\" stroke=\"#000000\" stroke-opacity=\"1\" stroke-width=\"3.2\"/>\n",
       "<circle clip-path=\"url(#clip232)\" cx=\"627.945\" cy=\"220.627\" r=\"14\" fill=\"#e26f46\" fill-rule=\"evenodd\" fill-opacity=\"1\" stroke=\"#000000\" stroke-opacity=\"1\" stroke-width=\"3.2\"/>\n",
       "<circle clip-path=\"url(#clip232)\" cx=\"610.158\" cy=\"220.627\" r=\"14\" fill=\"#e26f46\" fill-rule=\"evenodd\" fill-opacity=\"1\" stroke=\"#000000\" stroke-opacity=\"1\" stroke-width=\"3.2\"/>\n",
       "<circle clip-path=\"url(#clip232)\" cx=\"592.37\" cy=\"220.627\" r=\"14\" fill=\"#e26f46\" fill-rule=\"evenodd\" fill-opacity=\"1\" stroke=\"#000000\" stroke-opacity=\"1\" stroke-width=\"3.2\"/>\n",
       "<circle clip-path=\"url(#clip232)\" cx=\"574.583\" cy=\"220.627\" r=\"14\" fill=\"#e26f46\" fill-rule=\"evenodd\" fill-opacity=\"1\" stroke=\"#000000\" stroke-opacity=\"1\" stroke-width=\"3.2\"/>\n",
       "<circle clip-path=\"url(#clip232)\" cx=\"556.796\" cy=\"220.627\" r=\"14\" fill=\"#e26f46\" fill-rule=\"evenodd\" fill-opacity=\"1\" stroke=\"#000000\" stroke-opacity=\"1\" stroke-width=\"3.2\"/>\n",
       "<circle clip-path=\"url(#clip232)\" cx=\"539.009\" cy=\"220.627\" r=\"14\" fill=\"#e26f46\" fill-rule=\"evenodd\" fill-opacity=\"1\" stroke=\"#000000\" stroke-opacity=\"1\" stroke-width=\"3.2\"/>\n",
       "<path clip-path=\"url(#clip230)\" d=\"\n",
       "M2004.49 328.088 L2290.54 328.088 L2290.54 94.8081 L2004.49 94.8081  Z\n",
       "  \" fill=\"#ffffff\" fill-rule=\"evenodd\" fill-opacity=\"1\"/>\n",
       "<polyline clip-path=\"url(#clip230)\" style=\"stroke:#000000; stroke-linecap:butt; stroke-linejoin:round; stroke-width:4; stroke-opacity:1; fill:none\" points=\"\n",
       "  2004.49,328.088 2290.54,328.088 2290.54,94.8081 2004.49,94.8081 2004.49,328.088 \n",
       "  \"/>\n",
       "<polyline clip-path=\"url(#clip230)\" style=\"stroke:#009af9; stroke-linecap:butt; stroke-linejoin:round; stroke-width:6; stroke-opacity:1; fill:none\" points=\"\n",
       "  2025.23,172.568 2149.67,172.568 \n",
       "  \"/>\n",
       "<path clip-path=\"url(#clip230)\" d=\"M2191.18 202.099 Q2188.47 209.044 2185.9 211.162 Q2183.33 213.28 2179.02 213.28 L2173.92 213.28 L2173.92 207.933 L2177.67 207.933 Q2180.31 207.933 2181.77 206.683 Q2183.22 205.433 2185 200.78 L2186.14 197.863 L2170.41 159.599 L2177.18 159.599 L2189.34 190.016 L2201.49 159.599 L2208.26 159.599 L2191.18 202.099 Z\" fill=\"#000000\" fill-rule=\"evenodd\" fill-opacity=\"1\" /><path clip-path=\"url(#clip230)\" d=\"M2219.2 192.585 L2230.65 192.585 L2230.65 153.037 L2218.19 155.537 L2218.19 149.148 L2230.59 146.648 L2237.6 146.648 L2237.6 192.585 L2249.06 192.585 L2249.06 198.488 L2219.2 198.488 L2219.2 192.585 Z\" fill=\"#000000\" fill-rule=\"evenodd\" fill-opacity=\"1\" /><circle clip-path=\"url(#clip230)\" cx=\"2087.45\" cy=\"250.328\" r=\"34\" fill=\"#e26f46\" fill-rule=\"evenodd\" fill-opacity=\"1\" stroke=\"#000000\" stroke-opacity=\"1\" stroke-width=\"7.68\"/>\n",
       "<path clip-path=\"url(#clip230)\" d=\"M2191.18 279.859 Q2188.47 286.804 2185.9 288.922 Q2183.33 291.04 2179.02 291.04 L2173.92 291.04 L2173.92 285.693 L2177.67 285.693 Q2180.31 285.693 2181.77 284.443 Q2183.22 283.193 2185 278.54 L2186.14 275.623 L2170.41 237.359 L2177.18 237.359 L2189.34 267.776 L2201.49 237.359 L2208.26 237.359 L2191.18 279.859 Z\" fill=\"#000000\" fill-rule=\"evenodd\" fill-opacity=\"1\" /><path clip-path=\"url(#clip230)\" d=\"M2224.02 270.345 L2248.5 270.345 L2248.5 276.248 L2215.59 276.248 L2215.59 270.345 Q2219.58 266.213 2226.45 259.269 Q2233.36 252.29 2235.13 250.276 Q2238.5 246.491 2239.82 243.887 Q2241.18 241.248 2241.18 238.714 Q2241.18 234.582 2238.26 231.978 Q2235.38 229.373 2230.72 229.373 Q2227.43 229.373 2223.74 230.519 Q2220.1 231.665 2215.93 233.991 L2215.93 226.908 Q2220.17 225.207 2223.85 224.339 Q2227.53 223.471 2230.59 223.471 Q2238.64 223.471 2243.43 227.498 Q2248.22 231.526 2248.22 238.262 Q2248.22 241.457 2247.01 244.339 Q2245.83 247.186 2242.67 251.075 Q2241.8 252.082 2237.15 256.908 Q2232.49 261.7 2224.02 270.345 Z\" fill=\"#000000\" fill-rule=\"evenodd\" fill-opacity=\"1\" /></svg>\n"
      ]
     },
     "execution_count": 179,
     "metadata": {},
     "output_type": "execute_result"
    }
   ],
   "source": [
    "theta = LinRange(1., 1+2e-5, 100)\n",
    "mysin(t) = cos(t - (1e10+1)*pi/2)\n",
    "plot(cos.(theta), sin.(theta), aspect_ratio=:equal)\n",
    "scatter!(cos.(theta), mysin.(theta))"
   ]
  },
  {
   "cell_type": "markdown",
   "id": "03076f27",
   "metadata": {
    "slideshow": {
     "slide_type": "fragment"
    }
   },
   "source": [
    "## Are we observing A=stabiltiy, B=backward stability, or C=neither?"
   ]
  },
  {
   "cell_type": "markdown",
   "id": "f8d2a535",
   "metadata": {
    "slideshow": {
     "slide_type": "fragment"
    }
   },
   "source": [
    "* The numbers $(\\widetilde\\cos \\theta, \\widetilde\\sin \\theta = (\\operatorname{fl}(\\cos \\theta), \\operatorname{fl}(\\sin\\theta))$ do not lie exactly on the unit circles.\n",
    "  * There does not exist a $\\tilde\\theta$ such that $(\\widetilde\\cos \\theta, \\widetilde \\sin\\theta) = (\\cos\\tilde\\theta, \\sin\\tilde\\theta)$"
   ]
  },
  {
   "cell_type": "markdown",
   "id": "365d2fcd",
   "metadata": {
    "slideshow": {
     "slide_type": "slide"
    }
   },
   "source": [
    "# Accuracy of backward stable algorithms (Theorem)\n",
    "\n",
    "A backward stable algorithm for computing $f(x)$ has relative accuracy\n",
    "$$ \\left\\lvert \\frac{\\tilde f(x) - f(x)}{f(x)} \\right\\rvert \\lesssim \\kappa(f) \\epsilon_{\\text{machine}} . $$\n",
    "Backward stability is generally the best we can hope for.\n",
    "\n",
    "In practice, it is rarely possible for a function to be backward stable when the output space is higher dimensional than the input space."
   ]
  },
  {
   "cell_type": "markdown",
   "id": "b77f17c8",
   "metadata": {
    "slideshow": {
     "slide_type": "slide"
    }
   },
   "source": [
    "# Beyond IEEE-754 double precision\n",
    "\n",
    "## Lower precision IEEE-754 and relatives\n",
    "\n",
    "The default floating point type in Python is `double` precision, which requires 8 bytes (64 bits) to store and offers $\\epsilon_{\\text{machine}} \\approx 10^{-16}$.\n",
    "\n",
    "* IEEE-754 **single precision** (`float` in C and related languages) is half the size (4 bytes = 32 bits) and has long been popular when adequate.\n",
    "* IEEE-754 **half precision** reduces both range (exponent bits) and precision (mantissa) bits.\n",
    "* **bfloat16** is a relatively new non-IEEE type that is popular in machine learning because it's easy to convert to/from single precision (just truncate/round the mantissa).\n"
   ]
  },
  {
   "cell_type": "markdown",
   "id": "5e4d5a07",
   "metadata": {
    "slideshow": {
     "slide_type": "slide"
    }
   },
   "source": [
    "| Type | $\\epsilon_{\\text{machine}}$ | exponent bits | mantissa bits | diagram |\n",
    "|-----|-----|---|---|---|\n",
    "| double | 1.11e-16 | 11 | 52 | |\n",
    "| single | 5.96e-8 | 8 | 23 | <img src=\"https://upload.wikimedia.org/wikipedia/commons/d/d2/Float_example.svg\" width=\"120%\" /> |\n",
    "| [half](https://en.wikipedia.org/wiki/Half-precision_floating-point_format) | 4.88e-4 | 5 | 10 | <img src=\"https://upload.wikimedia.org/wikipedia/commons/2/21/IEEE_754r_Half_Floating_Point_Format.svg\" width=\"100%\" /> |\n",
    "| [bfloat16](https://en.wikipedia.org/wiki/Bfloat16_floating-point_format) | 3.91e-3 | 8 | 7 | ![](https://upload.wikimedia.org/wikipedia/commons/0/0b/Bfloat16_format.svg) |"
   ]
  },
  {
   "cell_type": "markdown",
   "id": "9874c34c",
   "metadata": {
    "slideshow": {
     "slide_type": "slide"
    }
   },
   "source": [
    "# Posits\n",
    "\n",
    "<img src=\"../img/GustafsonPosits.png\" width=\"90%\" />\n",
    "\n",
    "* [Gustafson and Yonemoto: **Beating Floating Point at its Own Game: Posit Arithmetic**](http://www.johngustafson.net/pdfs/BeatingFloatingPoint.pdf)\n",
    "* [Interactive visualization](https://cse512-19s.github.io/FP-Well-Rounded/)\n",
    "* [SoftPosit.jl](https://github.com/milankl/SoftPosit.jl) Julia package"
   ]
  },
  {
   "cell_type": "markdown",
   "id": "fb12bd90",
   "metadata": {
    "slideshow": {
     "slide_type": "slide"
    }
   },
   "source": [
    "# Mixed-precision algorithms\n",
    "\n",
    "Sometimes reducing the precision (from double to single, or from single to half) compromises the quality of results (due to ill-conditioning or poor stability), but one can recover accurate results by using higher precision in a small fraction of the computation.  These are *mixed-precision algorithms*, and can be a useful optimization technique.\n",
    "\n",
    "Such techniques can give up to 2x improvement if memory bandwidth (for floating point data) or pure vectorizable flops are the bottleneck.  In case of single to half precision, the benefit can be greater than 2x when using special hardware, such as GPUs with \"tensor cores\".\n",
    "\n",
    "Warning: Premature use of mixed-precision techniques can often obscure better algorithms that can provide greater speedups and/or reliability improvements."
   ]
  },
  {
   "cell_type": "markdown",
   "id": "1f18c04a",
   "metadata": {
    "slideshow": {
     "slide_type": "slide"
    }
   },
   "source": [
    "# Matrices as linear transformations\n",
    "\n",
    "Linear algebra is the study of linear transformations on vectors, which represent points in a finite dimensional space.  The matrix-vector product $y = A x$ is a linear combination of the columns of $A$.  The familiar definition,\n",
    "\n",
    "$$ y_i = \\sum_j A_{i,j} x_j $$\n",
    "\n",
    "can also be viewed as\n",
    "\n",
    "$$ y = \\Bigg[ A_{:,1} \\Bigg| A_{:,2} \\Bigg| \\dotsm \\Bigg] \\begin{bmatrix} x_1 \\\\ x_2 \\\\ \\vdots \\end{bmatrix}\n",
    "= \\Bigg[ A_{:,1} \\Bigg] x_1 + \\Bigg[ A_{:,2} \\Bigg] x_2 + \\dotsb . $$"
   ]
  },
  {
   "cell_type": "markdown",
   "id": "47d22601",
   "metadata": {
    "slideshow": {
     "slide_type": "slide"
    }
   },
   "source": [
    "# Math and Julia Notation\n",
    "\n",
    "The notation $A_{i,j}$ corresponds to the Julia syntax `A[i,j]` and the colon `:` means the entire range (row or column).  So $A_{:,j}$ is the $j$th column and $A_{i,:}$ is the $i$th row.  The corresponding Julia syntax is `A[:,j]` and `A[i,:]`.\n",
    "\n",
    "Julia has syntax for row vectors, column vectors, and arrays."
   ]
  },
  {
   "cell_type": "code",
   "execution_count": 1,
   "id": "ff3361f2",
   "metadata": {
    "cell_style": "split"
   },
   "outputs": [
    {
     "data": {
      "text/plain": [
       "1×3 Matrix{Float64}:\n",
       " 1.0  2.0  3.0"
      ]
     },
     "execution_count": 1,
     "metadata": {},
     "output_type": "execute_result"
    }
   ],
   "source": [
    "[1. 2 3]"
   ]
  },
  {
   "cell_type": "code",
   "execution_count": 2,
   "id": "d35b1571",
   "metadata": {
    "cell_style": "split"
   },
   "outputs": [
    {
     "data": {
      "text/plain": [
       "3-element Vector{Int64}:\n",
       " 1\n",
       " 2\n",
       " 3"
      ]
     },
     "execution_count": 2,
     "metadata": {},
     "output_type": "execute_result"
    }
   ],
   "source": [
    "[1, 2, 3]"
   ]
  },
  {
   "cell_type": "code",
   "execution_count": 3,
   "id": "a32da848",
   "metadata": {
    "cell_style": "split"
   },
   "outputs": [
    {
     "data": {
      "text/plain": [
       "3×2 Matrix{Int64}:\n",
       "  1  0\n",
       "  0  2\n",
       " 10  3"
      ]
     },
     "execution_count": 3,
     "metadata": {},
     "output_type": "execute_result"
    }
   ],
   "source": [
    "[1 0; 0 2; 10 3]"
   ]
  },
  {
   "cell_type": "code",
   "execution_count": 5,
   "id": "bc208ae0",
   "metadata": {
    "cell_style": "split"
   },
   "outputs": [
    {
     "data": {
      "text/plain": [
       "1×3 adjoint(::Vector{Int64}) with eltype Int64:\n",
       " 1  2  3"
      ]
     },
     "execution_count": 5,
     "metadata": {},
     "output_type": "execute_result"
    }
   ],
   "source": [
    "[1; 2; 3]' # transpose"
   ]
  },
  {
   "cell_type": "markdown",
   "id": "5ac73ba3",
   "metadata": {
    "slideshow": {
     "slide_type": "slide"
    }
   },
   "source": [
    "# Implementing multiplication by row"
   ]
  },
  {
   "cell_type": "code",
   "execution_count": 16,
   "id": "32665740",
   "metadata": {
    "cell_style": "split"
   },
   "outputs": [
    {
     "data": {
      "text/plain": [
       "3-element Vector{Float64}:\n",
       " 10.0\n",
       " 20.0\n",
       " 30.0"
      ]
     },
     "execution_count": 16,
     "metadata": {},
     "output_type": "execute_result"
    }
   ],
   "source": [
    "function matmult1(A, x)\n",
    "    m, n = size(A)\n",
    "    y = zeros(m)\n",
    "    for i in 1:m\n",
    "        for j in 1:n\n",
    "            y[i] += A[i,j] * x[j]\n",
    "        end\n",
    "    end\n",
    "    y\n",
    "end\n",
    "\n",
    "A = reshape(1.:12, 3, 4) # 3x4 matrix\n",
    "x = [10., 0, 0, 0]\n",
    "matmult1(A, x)"
   ]
  },
  {
   "cell_type": "code",
   "execution_count": 15,
   "id": "1e791ea6",
   "metadata": {
    "cell_style": "split"
   },
   "outputs": [
    {
     "data": {
      "text/plain": [
       "20.0"
      ]
     },
     "execution_count": 15,
     "metadata": {},
     "output_type": "execute_result"
    }
   ],
   "source": [
    "# Dot product\n",
    "A[2,:]' * x"
   ]
  },
  {
   "cell_type": "code",
   "execution_count": 17,
   "id": "a0cf9482",
   "metadata": {
    "cell_style": "split"
   },
   "outputs": [
    {
     "data": {
      "text/plain": [
       "3-element Vector{Float64}:\n",
       " 10.0\n",
       " 20.0\n",
       " 30.0"
      ]
     },
     "execution_count": 17,
     "metadata": {},
     "output_type": "execute_result"
    }
   ],
   "source": [
    "function matmult2(A, x)\n",
    "    m, n = size(A)\n",
    "    y = zeros(m)\n",
    "    for i in 1:m\n",
    "        y[i] = A[i,:]' * x\n",
    "    end\n",
    "    y\n",
    "end\n",
    "\n",
    "matmult2(A, x)"
   ]
  },
  {
   "cell_type": "markdown",
   "id": "4f3af7b3",
   "metadata": {
    "slideshow": {
     "slide_type": "slide"
    }
   },
   "source": [
    "# Implementing multiplication by column\n"
   ]
  },
  {
   "cell_type": "code",
   "execution_count": 19,
   "id": "12c1dea5",
   "metadata": {
    "cell_style": "split"
   },
   "outputs": [
    {
     "data": {
      "text/plain": [
       "3-element Vector{Float64}:\n",
       " 10.0\n",
       " 20.0\n",
       " 30.0"
      ]
     },
     "execution_count": 19,
     "metadata": {},
     "output_type": "execute_result"
    }
   ],
   "source": [
    "function matmult3(A, x)\n",
    "    m, n = size(A)\n",
    "    y = zeros(m)\n",
    "    for j in 1:n\n",
    "        y += A[:, j] * x[j]\n",
    "    end\n",
    "    y\n",
    "end\n",
    "\n",
    "matmult3(A, x)"
   ]
  },
  {
   "cell_type": "code",
   "execution_count": 21,
   "id": "b573daf7",
   "metadata": {
    "cell_style": "split"
   },
   "outputs": [
    {
     "data": {
      "text/plain": [
       "3-element Vector{Float64}:\n",
       " 10.0\n",
       " 20.0\n",
       " 30.0"
      ]
     },
     "execution_count": 21,
     "metadata": {},
     "output_type": "execute_result"
    }
   ],
   "source": [
    "A * x # We'll use this version"
   ]
  },
  {
   "cell_type": "markdown",
   "id": "ffa46c2c",
   "metadata": {
    "slideshow": {
     "slide_type": "slide"
    }
   },
   "source": [
    "# Polynomial evaluation is (continuous) linear algebra\n",
    "We can evaluate polynomials using matrix-vector multiplication.\n",
    "For example,\n",
    "$$ 5x^3 - 3x = \\Bigg[ 1 \\Bigg|\\, x \\Bigg|\\, x^2 \\,\\Bigg|\\, x^3 \\Bigg] \\begin{bmatrix}0 \\\\ -3 \\\\ 0 \\\\ 5 \\end{bmatrix} . $$"
   ]
  },
  {
   "cell_type": "code",
   "execution_count": 57,
   "id": "a7e1f3dc",
   "metadata": {
    "cell_style": "split"
   },
   "outputs": [
    {
     "name": "stdout",
     "output_type": "stream",
     "text": [
      "f = Polynomial(1 - x + 3*x^2 + 9*x^3)\n",
      "P(p + q) = Polynomial(1 - x + 3*x^2 + 9*x^3)\n"
     ]
    },
    {
     "data": {
      "text/plain": [
       "3-element Vector{Float64}:\n",
       "  1.0\n",
       " 12.0\n",
       " 83.0"
      ]
     },
     "execution_count": 57,
     "metadata": {},
     "output_type": "execute_result"
    }
   ],
   "source": [
    "using Polynomials\n",
    "P(x) = Polynomial(x)\n",
    "\n",
    "p = [0, -3, 0, 5]\n",
    "q = [1, 2, 3, 4]\n",
    "f = P(p) + P(q)\n",
    "@show f\n",
    "@show P(p+q)\n",
    "x = [0., 1, 2]\n",
    "f.(x)"
   ]
  },
  {
   "cell_type": "code",
   "execution_count": 54,
   "id": "3c90d1af",
   "metadata": {
    "cell_style": "split"
   },
   "outputs": [
    {
     "data": {
      "image/svg+xml": [
       "<?xml version=\"1.0\" encoding=\"utf-8\"?>\n",
       "<svg xmlns=\"http://www.w3.org/2000/svg\" xmlns:xlink=\"http://www.w3.org/1999/xlink\" width=\"600\" height=\"400\" viewBox=\"0 0 2400 1600\">\n",
       "<defs>\n",
       "  <clipPath id=\"clip350\">\n",
       "    <rect x=\"0\" y=\"0\" width=\"2400\" height=\"1600\"/>\n",
       "  </clipPath>\n",
       "</defs>\n",
       "<path clip-path=\"url(#clip350)\" d=\"\n",
       "M0 1600 L2400 1600 L2400 0 L0 0  Z\n",
       "  \" fill=\"#ffffff\" fill-rule=\"evenodd\" fill-opacity=\"1\"/>\n",
       "<defs>\n",
       "  <clipPath id=\"clip351\">\n",
       "    <rect x=\"480\" y=\"0\" width=\"1681\" height=\"1600\"/>\n",
       "  </clipPath>\n",
       "</defs>\n",
       "<path clip-path=\"url(#clip350)\" d=\"\n",
       "M147.478 1486.45 L2352.76 1486.45 L2352.76 47.2441 L147.478 47.2441  Z\n",
       "  \" fill=\"#ffffff\" fill-rule=\"evenodd\" fill-opacity=\"1\"/>\n",
       "<defs>\n",
       "  <clipPath id=\"clip352\">\n",
       "    <rect x=\"147\" y=\"47\" width=\"2206\" height=\"1440\"/>\n",
       "  </clipPath>\n",
       "</defs>\n",
       "<polyline clip-path=\"url(#clip352)\" style=\"stroke:#000000; stroke-linecap:butt; stroke-linejoin:round; stroke-width:2; stroke-opacity:0.1; fill:none\" points=\"\n",
       "  436.638,1486.45 436.638,47.2441 \n",
       "  \"/>\n",
       "<polyline clip-path=\"url(#clip352)\" style=\"stroke:#000000; stroke-linecap:butt; stroke-linejoin:round; stroke-width:2; stroke-opacity:0.1; fill:none\" points=\"\n",
       "  888.08,1486.45 888.08,47.2441 \n",
       "  \"/>\n",
       "<polyline clip-path=\"url(#clip352)\" style=\"stroke:#000000; stroke-linecap:butt; stroke-linejoin:round; stroke-width:2; stroke-opacity:0.1; fill:none\" points=\"\n",
       "  1339.52,1486.45 1339.52,47.2441 \n",
       "  \"/>\n",
       "<polyline clip-path=\"url(#clip352)\" style=\"stroke:#000000; stroke-linecap:butt; stroke-linejoin:round; stroke-width:2; stroke-opacity:0.1; fill:none\" points=\"\n",
       "  1790.96,1486.45 1790.96,47.2441 \n",
       "  \"/>\n",
       "<polyline clip-path=\"url(#clip352)\" style=\"stroke:#000000; stroke-linecap:butt; stroke-linejoin:round; stroke-width:2; stroke-opacity:0.1; fill:none\" points=\"\n",
       "  2242.4,1486.45 2242.4,47.2441 \n",
       "  \"/>\n",
       "<polyline clip-path=\"url(#clip350)\" style=\"stroke:#000000; stroke-linecap:butt; stroke-linejoin:round; stroke-width:4; stroke-opacity:1; fill:none\" points=\"\n",
       "  147.478,1486.45 2352.76,1486.45 \n",
       "  \"/>\n",
       "<polyline clip-path=\"url(#clip350)\" style=\"stroke:#000000; stroke-linecap:butt; stroke-linejoin:round; stroke-width:4; stroke-opacity:1; fill:none\" points=\"\n",
       "  436.638,1486.45 436.638,1467.55 \n",
       "  \"/>\n",
       "<polyline clip-path=\"url(#clip350)\" style=\"stroke:#000000; stroke-linecap:butt; stroke-linejoin:round; stroke-width:4; stroke-opacity:1; fill:none\" points=\"\n",
       "  888.08,1486.45 888.08,1467.55 \n",
       "  \"/>\n",
       "<polyline clip-path=\"url(#clip350)\" style=\"stroke:#000000; stroke-linecap:butt; stroke-linejoin:round; stroke-width:4; stroke-opacity:1; fill:none\" points=\"\n",
       "  1339.52,1486.45 1339.52,1467.55 \n",
       "  \"/>\n",
       "<polyline clip-path=\"url(#clip350)\" style=\"stroke:#000000; stroke-linecap:butt; stroke-linejoin:round; stroke-width:4; stroke-opacity:1; fill:none\" points=\"\n",
       "  1790.96,1486.45 1790.96,1467.55 \n",
       "  \"/>\n",
       "<polyline clip-path=\"url(#clip350)\" style=\"stroke:#000000; stroke-linecap:butt; stroke-linejoin:round; stroke-width:4; stroke-opacity:1; fill:none\" points=\"\n",
       "  2242.4,1486.45 2242.4,1467.55 \n",
       "  \"/>\n",
       "<path clip-path=\"url(#clip350)\" d=\"M368.583 1532.02 L398.259 1532.02 L398.259 1535.95 L368.583 1535.95 L368.583 1532.02 Z\" fill=\"#000000\" fill-rule=\"evenodd\" fill-opacity=\"1\" /><path clip-path=\"url(#clip350)\" d=\"M418.351 1517.37 Q414.74 1517.37 412.912 1520.93 Q411.106 1524.47 411.106 1531.6 Q411.106 1538.71 412.912 1542.27 Q414.74 1545.82 418.351 1545.82 Q421.986 1545.82 423.791 1542.27 Q425.62 1538.71 425.62 1531.6 Q425.62 1524.47 423.791 1520.93 Q421.986 1517.37 418.351 1517.37 M418.351 1513.66 Q424.162 1513.66 427.217 1518.27 Q430.296 1522.85 430.296 1531.6 Q430.296 1540.33 427.217 1544.94 Q424.162 1549.52 418.351 1549.52 Q412.541 1549.52 409.463 1544.94 Q406.407 1540.33 406.407 1531.6 Q406.407 1522.85 409.463 1518.27 Q412.541 1513.66 418.351 1513.66 Z\" fill=\"#000000\" fill-rule=\"evenodd\" fill-opacity=\"1\" /><path clip-path=\"url(#clip350)\" d=\"M438.513 1542.97 L443.398 1542.97 L443.398 1548.85 L438.513 1548.85 L438.513 1542.97 Z\" fill=\"#000000\" fill-rule=\"evenodd\" fill-opacity=\"1\" /><path clip-path=\"url(#clip350)\" d=\"M452.402 1514.29 L474.624 1514.29 L474.624 1516.28 L462.078 1548.85 L457.194 1548.85 L468.999 1518.22 L452.402 1518.22 L452.402 1514.29 Z\" fill=\"#000000\" fill-rule=\"evenodd\" fill-opacity=\"1\" /><path clip-path=\"url(#clip350)\" d=\"M483.791 1514.29 L502.147 1514.29 L502.147 1518.22 L488.073 1518.22 L488.073 1526.7 Q489.092 1526.35 490.11 1526.19 Q491.129 1526 492.147 1526 Q497.934 1526 501.314 1529.17 Q504.694 1532.34 504.694 1537.76 Q504.694 1543.34 501.221 1546.44 Q497.749 1549.52 491.43 1549.52 Q489.254 1549.52 486.985 1549.15 Q484.74 1548.78 482.333 1548.04 L482.333 1543.34 Q484.416 1544.47 486.638 1545.03 Q488.86 1545.58 491.337 1545.58 Q495.342 1545.58 497.68 1543.48 Q500.018 1541.37 500.018 1537.76 Q500.018 1534.15 497.68 1532.04 Q495.342 1529.94 491.337 1529.94 Q489.462 1529.94 487.587 1530.35 Q485.735 1530.77 483.791 1531.65 L483.791 1514.29 Z\" fill=\"#000000\" fill-rule=\"evenodd\" fill-opacity=\"1\" /><path clip-path=\"url(#clip350)\" d=\"M819.527 1532.02 L849.203 1532.02 L849.203 1535.95 L819.527 1535.95 L819.527 1532.02 Z\" fill=\"#000000\" fill-rule=\"evenodd\" fill-opacity=\"1\" /><path clip-path=\"url(#clip350)\" d=\"M869.295 1517.37 Q865.684 1517.37 863.855 1520.93 Q862.05 1524.47 862.05 1531.6 Q862.05 1538.71 863.855 1542.27 Q865.684 1545.82 869.295 1545.82 Q872.929 1545.82 874.735 1542.27 Q876.564 1538.71 876.564 1531.6 Q876.564 1524.47 874.735 1520.93 Q872.929 1517.37 869.295 1517.37 M869.295 1513.66 Q875.105 1513.66 878.161 1518.27 Q881.239 1522.85 881.239 1531.6 Q881.239 1540.33 878.161 1544.94 Q875.105 1549.52 869.295 1549.52 Q863.485 1549.52 860.406 1544.94 Q857.351 1540.33 857.351 1531.6 Q857.351 1522.85 860.406 1518.27 Q863.485 1513.66 869.295 1513.66 Z\" fill=\"#000000\" fill-rule=\"evenodd\" fill-opacity=\"1\" /><path clip-path=\"url(#clip350)\" d=\"M889.457 1542.97 L894.341 1542.97 L894.341 1548.85 L889.457 1548.85 L889.457 1542.97 Z\" fill=\"#000000\" fill-rule=\"evenodd\" fill-opacity=\"1\" /><path clip-path=\"url(#clip350)\" d=\"M904.573 1514.29 L922.929 1514.29 L922.929 1518.22 L908.855 1518.22 L908.855 1526.7 Q909.874 1526.35 910.892 1526.19 Q911.911 1526 912.929 1526 Q918.716 1526 922.096 1529.17 Q925.475 1532.34 925.475 1537.76 Q925.475 1543.34 922.003 1546.44 Q918.531 1549.52 912.211 1549.52 Q910.036 1549.52 907.767 1549.15 Q905.522 1548.78 903.114 1548.04 L903.114 1543.34 Q905.198 1544.47 907.42 1545.03 Q909.642 1545.58 912.119 1545.58 Q916.124 1545.58 918.461 1543.48 Q920.799 1541.37 920.799 1537.76 Q920.799 1534.15 918.461 1532.04 Q916.124 1529.94 912.119 1529.94 Q910.244 1529.94 908.369 1530.35 Q906.517 1530.77 904.573 1531.65 L904.573 1514.29 Z\" fill=\"#000000\" fill-rule=\"evenodd\" fill-opacity=\"1\" /><path clip-path=\"url(#clip350)\" d=\"M944.688 1517.37 Q941.077 1517.37 939.248 1520.93 Q937.443 1524.47 937.443 1531.6 Q937.443 1538.71 939.248 1542.27 Q941.077 1545.82 944.688 1545.82 Q948.322 1545.82 950.128 1542.27 Q951.957 1538.71 951.957 1531.6 Q951.957 1524.47 950.128 1520.93 Q948.322 1517.37 944.688 1517.37 M944.688 1513.66 Q950.498 1513.66 953.554 1518.27 Q956.633 1522.85 956.633 1531.6 Q956.633 1540.33 953.554 1544.94 Q950.498 1549.52 944.688 1549.52 Q938.878 1549.52 935.799 1544.94 Q932.744 1540.33 932.744 1531.6 Q932.744 1522.85 935.799 1518.27 Q938.878 1513.66 944.688 1513.66 Z\" fill=\"#000000\" fill-rule=\"evenodd\" fill-opacity=\"1\" /><path clip-path=\"url(#clip350)\" d=\"M1271.47 1532.02 L1301.14 1532.02 L1301.14 1535.95 L1271.47 1535.95 L1271.47 1532.02 Z\" fill=\"#000000\" fill-rule=\"evenodd\" fill-opacity=\"1\" /><path clip-path=\"url(#clip350)\" d=\"M1321.23 1517.37 Q1317.62 1517.37 1315.79 1520.93 Q1313.99 1524.47 1313.99 1531.6 Q1313.99 1538.71 1315.79 1542.27 Q1317.62 1545.82 1321.23 1545.82 Q1324.87 1545.82 1326.67 1542.27 Q1328.5 1538.71 1328.5 1531.6 Q1328.5 1524.47 1326.67 1520.93 Q1324.87 1517.37 1321.23 1517.37 M1321.23 1513.66 Q1327.04 1513.66 1330.1 1518.27 Q1333.18 1522.85 1333.18 1531.6 Q1333.18 1540.33 1330.1 1544.94 Q1327.04 1549.52 1321.23 1549.52 Q1315.42 1549.52 1312.35 1544.94 Q1309.29 1540.33 1309.29 1531.6 Q1309.29 1522.85 1312.35 1518.27 Q1315.42 1513.66 1321.23 1513.66 Z\" fill=\"#000000\" fill-rule=\"evenodd\" fill-opacity=\"1\" /><path clip-path=\"url(#clip350)\" d=\"M1341.4 1542.97 L1346.28 1542.97 L1346.28 1548.85 L1341.4 1548.85 L1341.4 1542.97 Z\" fill=\"#000000\" fill-rule=\"evenodd\" fill-opacity=\"1\" /><path clip-path=\"url(#clip350)\" d=\"M1360.49 1544.91 L1376.81 1544.91 L1376.81 1548.85 L1354.87 1548.85 L1354.87 1544.91 Q1357.53 1542.16 1362.11 1537.53 Q1366.72 1532.88 1367.9 1531.53 Q1370.15 1529.01 1371.03 1527.27 Q1371.93 1525.51 1371.93 1523.82 Q1371.93 1521.07 1369.98 1519.33 Q1368.06 1517.6 1364.96 1517.6 Q1362.76 1517.6 1360.31 1518.36 Q1357.88 1519.13 1355.1 1520.68 L1355.1 1515.95 Q1357.92 1514.82 1360.38 1514.24 Q1362.83 1513.66 1364.87 1513.66 Q1370.24 1513.66 1373.43 1516.35 Q1376.63 1519.03 1376.63 1523.52 Q1376.63 1525.65 1375.82 1527.57 Q1375.03 1529.47 1372.92 1532.07 Q1372.34 1532.74 1369.24 1535.95 Q1366.14 1539.15 1360.49 1544.91 Z\" fill=\"#000000\" fill-rule=\"evenodd\" fill-opacity=\"1\" /><path clip-path=\"url(#clip350)\" d=\"M1386.67 1514.29 L1405.03 1514.29 L1405.03 1518.22 L1390.96 1518.22 L1390.96 1526.7 Q1391.97 1526.35 1392.99 1526.19 Q1394.01 1526 1395.03 1526 Q1400.82 1526 1404.2 1529.17 Q1407.58 1532.34 1407.58 1537.76 Q1407.58 1543.34 1404.1 1546.44 Q1400.63 1549.52 1394.31 1549.52 Q1392.14 1549.52 1389.87 1549.15 Q1387.62 1548.78 1385.22 1548.04 L1385.22 1543.34 Q1387.3 1544.47 1389.52 1545.03 Q1391.74 1545.58 1394.22 1545.58 Q1398.22 1545.58 1400.56 1543.48 Q1402.9 1541.37 1402.9 1537.76 Q1402.9 1534.15 1400.56 1532.04 Q1398.22 1529.94 1394.22 1529.94 Q1392.34 1529.94 1390.47 1530.35 Q1388.62 1530.77 1386.67 1531.65 L1386.67 1514.29 Z\" fill=\"#000000\" fill-rule=\"evenodd\" fill-opacity=\"1\" /><path clip-path=\"url(#clip350)\" d=\"M1753.27 1517.37 Q1749.65 1517.37 1747.83 1520.93 Q1746.02 1524.47 1746.02 1531.6 Q1746.02 1538.71 1747.83 1542.27 Q1749.65 1545.82 1753.27 1545.82 Q1756.9 1545.82 1758.71 1542.27 Q1760.53 1538.71 1760.53 1531.6 Q1760.53 1524.47 1758.71 1520.93 Q1756.9 1517.37 1753.27 1517.37 M1753.27 1513.66 Q1759.08 1513.66 1762.13 1518.27 Q1765.21 1522.85 1765.21 1531.6 Q1765.21 1540.33 1762.13 1544.94 Q1759.08 1549.52 1753.27 1549.52 Q1747.46 1549.52 1744.38 1544.94 Q1741.32 1540.33 1741.32 1531.6 Q1741.32 1522.85 1744.38 1518.27 Q1747.46 1513.66 1753.27 1513.66 Z\" fill=\"#000000\" fill-rule=\"evenodd\" fill-opacity=\"1\" /><path clip-path=\"url(#clip350)\" d=\"M1773.43 1542.97 L1778.31 1542.97 L1778.31 1548.85 L1773.43 1548.85 L1773.43 1542.97 Z\" fill=\"#000000\" fill-rule=\"evenodd\" fill-opacity=\"1\" /><path clip-path=\"url(#clip350)\" d=\"M1798.5 1517.37 Q1794.89 1517.37 1793.06 1520.93 Q1791.25 1524.47 1791.25 1531.6 Q1791.25 1538.71 1793.06 1542.27 Q1794.89 1545.82 1798.5 1545.82 Q1802.13 1545.82 1803.94 1542.27 Q1805.77 1538.71 1805.77 1531.6 Q1805.77 1524.47 1803.94 1520.93 Q1802.13 1517.37 1798.5 1517.37 M1798.5 1513.66 Q1804.31 1513.66 1807.36 1518.27 Q1810.44 1522.85 1810.44 1531.6 Q1810.44 1540.33 1807.36 1544.94 Q1804.31 1549.52 1798.5 1549.52 Q1792.69 1549.52 1789.61 1544.94 Q1786.55 1540.33 1786.55 1531.6 Q1786.55 1522.85 1789.61 1518.27 Q1792.69 1513.66 1798.5 1513.66 Z\" fill=\"#000000\" fill-rule=\"evenodd\" fill-opacity=\"1\" /><path clip-path=\"url(#clip350)\" d=\"M1828.66 1517.37 Q1825.05 1517.37 1823.22 1520.93 Q1821.41 1524.47 1821.41 1531.6 Q1821.41 1538.71 1823.22 1542.27 Q1825.05 1545.82 1828.66 1545.82 Q1832.29 1545.82 1834.1 1542.27 Q1835.93 1538.71 1835.93 1531.6 Q1835.93 1524.47 1834.1 1520.93 Q1832.29 1517.37 1828.66 1517.37 M1828.66 1513.66 Q1834.47 1513.66 1837.52 1518.27 Q1840.6 1522.85 1840.6 1531.6 Q1840.6 1540.33 1837.52 1544.94 Q1834.47 1549.52 1828.66 1549.52 Q1822.85 1549.52 1819.77 1544.94 Q1816.71 1540.33 1816.71 1531.6 Q1816.71 1522.85 1819.77 1518.27 Q1822.85 1513.66 1828.66 1513.66 Z\" fill=\"#000000\" fill-rule=\"evenodd\" fill-opacity=\"1\" /><path clip-path=\"url(#clip350)\" d=\"M2205.2 1517.37 Q2201.59 1517.37 2199.76 1520.93 Q2197.96 1524.47 2197.96 1531.6 Q2197.96 1538.71 2199.76 1542.27 Q2201.59 1545.82 2205.2 1545.82 Q2208.84 1545.82 2210.64 1542.27 Q2212.47 1538.71 2212.47 1531.6 Q2212.47 1524.47 2210.64 1520.93 Q2208.84 1517.37 2205.2 1517.37 M2205.2 1513.66 Q2211.01 1513.66 2214.07 1518.27 Q2217.15 1522.85 2217.15 1531.6 Q2217.15 1540.33 2214.07 1544.94 Q2211.01 1549.52 2205.2 1549.52 Q2199.39 1549.52 2196.32 1544.94 Q2193.26 1540.33 2193.26 1531.6 Q2193.26 1522.85 2196.32 1518.27 Q2199.39 1513.66 2205.2 1513.66 Z\" fill=\"#000000\" fill-rule=\"evenodd\" fill-opacity=\"1\" /><path clip-path=\"url(#clip350)\" d=\"M2225.37 1542.97 L2230.25 1542.97 L2230.25 1548.85 L2225.37 1548.85 L2225.37 1542.97 Z\" fill=\"#000000\" fill-rule=\"evenodd\" fill-opacity=\"1\" /><path clip-path=\"url(#clip350)\" d=\"M2244.46 1544.91 L2260.78 1544.91 L2260.78 1548.85 L2238.84 1548.85 L2238.84 1544.91 Q2241.5 1542.16 2246.08 1537.53 Q2250.69 1532.88 2251.87 1531.53 Q2254.12 1529.01 2255 1527.27 Q2255.9 1525.51 2255.9 1523.82 Q2255.9 1521.07 2253.95 1519.33 Q2252.03 1517.6 2248.93 1517.6 Q2246.73 1517.6 2244.28 1518.36 Q2241.85 1519.13 2239.07 1520.68 L2239.07 1515.95 Q2241.89 1514.82 2244.35 1514.24 Q2246.8 1513.66 2248.84 1513.66 Q2254.21 1513.66 2257.4 1516.35 Q2260.6 1519.03 2260.6 1523.52 Q2260.6 1525.65 2259.79 1527.57 Q2259 1529.47 2256.89 1532.07 Q2256.32 1532.74 2253.21 1535.95 Q2250.11 1539.15 2244.46 1544.91 Z\" fill=\"#000000\" fill-rule=\"evenodd\" fill-opacity=\"1\" /><path clip-path=\"url(#clip350)\" d=\"M2270.64 1514.29 L2289 1514.29 L2289 1518.22 L2274.93 1518.22 L2274.93 1526.7 Q2275.95 1526.35 2276.96 1526.19 Q2277.98 1526 2279 1526 Q2284.79 1526 2288.17 1529.17 Q2291.55 1532.34 2291.55 1537.76 Q2291.55 1543.34 2288.07 1546.44 Q2284.6 1549.52 2278.28 1549.52 Q2276.11 1549.52 2273.84 1549.15 Q2271.59 1548.78 2269.19 1548.04 L2269.19 1543.34 Q2271.27 1544.47 2273.49 1545.03 Q2275.71 1545.58 2278.19 1545.58 Q2282.2 1545.58 2284.53 1543.48 Q2286.87 1541.37 2286.87 1537.76 Q2286.87 1534.15 2284.53 1532.04 Q2282.2 1529.94 2278.19 1529.94 Q2276.32 1529.94 2274.44 1530.35 Q2272.59 1530.77 2270.64 1531.65 L2270.64 1514.29 Z\" fill=\"#000000\" fill-rule=\"evenodd\" fill-opacity=\"1\" /><polyline clip-path=\"url(#clip352)\" style=\"stroke:#000000; stroke-linecap:butt; stroke-linejoin:round; stroke-width:2; stroke-opacity:0.1; fill:none\" points=\"\n",
       "  147.478,1303.39 2352.76,1303.39 \n",
       "  \"/>\n",
       "<polyline clip-path=\"url(#clip352)\" style=\"stroke:#000000; stroke-linecap:butt; stroke-linejoin:round; stroke-width:2; stroke-opacity:0.1; fill:none\" points=\"\n",
       "  147.478,938.39 2352.76,938.39 \n",
       "  \"/>\n",
       "<polyline clip-path=\"url(#clip352)\" style=\"stroke:#000000; stroke-linecap:butt; stroke-linejoin:round; stroke-width:2; stroke-opacity:0.1; fill:none\" points=\"\n",
       "  147.478,573.39 2352.76,573.39 \n",
       "  \"/>\n",
       "<polyline clip-path=\"url(#clip352)\" style=\"stroke:#000000; stroke-linecap:butt; stroke-linejoin:round; stroke-width:2; stroke-opacity:0.1; fill:none\" points=\"\n",
       "  147.478,208.39 2352.76,208.39 \n",
       "  \"/>\n",
       "<polyline clip-path=\"url(#clip350)\" style=\"stroke:#000000; stroke-linecap:butt; stroke-linejoin:round; stroke-width:4; stroke-opacity:1; fill:none\" points=\"\n",
       "  147.478,1486.45 147.478,47.2441 \n",
       "  \"/>\n",
       "<polyline clip-path=\"url(#clip350)\" style=\"stroke:#000000; stroke-linecap:butt; stroke-linejoin:round; stroke-width:4; stroke-opacity:1; fill:none\" points=\"\n",
       "  147.478,1303.39 166.376,1303.39 \n",
       "  \"/>\n",
       "<polyline clip-path=\"url(#clip350)\" style=\"stroke:#000000; stroke-linecap:butt; stroke-linejoin:round; stroke-width:4; stroke-opacity:1; fill:none\" points=\"\n",
       "  147.478,938.39 166.376,938.39 \n",
       "  \"/>\n",
       "<polyline clip-path=\"url(#clip350)\" style=\"stroke:#000000; stroke-linecap:butt; stroke-linejoin:round; stroke-width:4; stroke-opacity:1; fill:none\" points=\"\n",
       "  147.478,573.39 166.376,573.39 \n",
       "  \"/>\n",
       "<polyline clip-path=\"url(#clip350)\" style=\"stroke:#000000; stroke-linecap:butt; stroke-linejoin:round; stroke-width:4; stroke-opacity:1; fill:none\" points=\"\n",
       "  147.478,208.39 166.376,208.39 \n",
       "  \"/>\n",
       "<path clip-path=\"url(#clip350)\" d=\"M51.3625 1303.84 L81.0383 1303.84 L81.0383 1307.78 L51.3625 1307.78 L51.3625 1303.84 Z\" fill=\"#000000\" fill-rule=\"evenodd\" fill-opacity=\"1\" /><path clip-path=\"url(#clip350)\" d=\"M95.1586 1316.73 L111.478 1316.73 L111.478 1320.67 L89.5336 1320.67 L89.5336 1316.73 Q92.1956 1313.98 96.7789 1309.35 Q101.385 1304.7 102.566 1303.35 Q104.811 1300.83 105.691 1299.1 Q106.594 1297.34 106.594 1295.65 Q106.594 1292.89 104.649 1291.16 Q102.728 1289.42 99.6261 1289.42 Q97.4271 1289.42 94.9734 1290.18 Q92.5428 1290.95 89.7651 1292.5 L89.7651 1287.78 Q92.5891 1286.64 95.0428 1286.06 Q97.4965 1285.48 99.5335 1285.48 Q104.904 1285.48 108.098 1288.17 Q111.293 1290.85 111.293 1295.35 Q111.293 1297.48 110.483 1299.4 Q109.696 1301.29 107.589 1303.89 Q107.01 1304.56 103.909 1307.78 Q100.807 1310.97 95.1586 1316.73 Z\" fill=\"#000000\" fill-rule=\"evenodd\" fill-opacity=\"1\" /><path clip-path=\"url(#clip350)\" d=\"M50.9921 938.841 L80.6679 938.841 L80.6679 942.776 L50.9921 942.776 L50.9921 938.841 Z\" fill=\"#000000\" fill-rule=\"evenodd\" fill-opacity=\"1\" /><path clip-path=\"url(#clip350)\" d=\"M91.5706 951.734 L99.2095 951.734 L99.2095 925.369 L90.8993 927.036 L90.8993 922.776 L99.1632 921.11 L103.839 921.11 L103.839 951.734 L111.478 951.734 L111.478 955.67 L91.5706 955.67 L91.5706 951.734 Z\" fill=\"#000000\" fill-rule=\"evenodd\" fill-opacity=\"1\" /><path clip-path=\"url(#clip350)\" d=\"M99.5335 559.188 Q95.9224 559.188 94.0937 562.753 Q92.2882 566.295 92.2882 573.425 Q92.2882 580.531 94.0937 584.096 Q95.9224 587.637 99.5335 587.637 Q103.168 587.637 104.973 584.096 Q106.802 580.531 106.802 573.425 Q106.802 566.295 104.973 562.753 Q103.168 559.188 99.5335 559.188 M99.5335 555.485 Q105.344 555.485 108.399 560.091 Q111.478 564.675 111.478 573.425 Q111.478 582.151 108.399 586.758 Q105.344 591.341 99.5335 591.341 Q93.7234 591.341 90.6447 586.758 Q87.5892 582.151 87.5892 573.425 Q87.5892 564.675 90.6447 560.091 Q93.7234 555.485 99.5335 555.485 Z\" fill=\"#000000\" fill-rule=\"evenodd\" fill-opacity=\"1\" /><path clip-path=\"url(#clip350)\" d=\"M91.5706 221.735 L99.2095 221.735 L99.2095 195.369 L90.8993 197.036 L90.8993 192.777 L99.1632 191.11 L103.839 191.11 L103.839 221.735 L111.478 221.735 L111.478 225.67 L91.5706 225.67 L91.5706 221.735 Z\" fill=\"#000000\" fill-rule=\"evenodd\" fill-opacity=\"1\" /><polyline clip-path=\"url(#clip352)\" style=\"stroke:#009af9; stroke-linecap:butt; stroke-linejoin:round; stroke-width:16; stroke-opacity:1; fill:none\" points=\"\n",
       "  147.478,1445.72 152.862,1428.48 158.246,1411.38 163.63,1394.42 169.014,1377.6 218.798,1228.52 268.582,1090.82 318.365,964.09 368.149,847.91 427.985,721.652 \n",
       "  487.82,609.323 538.411,524.689 589.001,449.066 643.957,376.624 698.912,313.75 749.576,263.782 800.24,221.038 854.557,182.741 908.874,151.709 971.806,124.137 \n",
       "  1034.74,104.764 1146.59,87.9763 1244.68,88.7061 1351.61,102.077 1459.19,124.739 1578.12,155.536 1691.29,185.46 1808.96,211.915 1908.01,226.553 1968.47,230.568 \n",
       "  2028.93,229.956 2085.77,224.499 2142.61,213.685 2233.67,183.653 2324.73,135.765 2338.74,126.649 2352.76,117.041 \n",
       "  \"/>\n",
       "<path clip-path=\"url(#clip350)\" d=\"\n",
       "M1224.53 1438.47 L2279.25 1438.47 L2279.25 1282.95 L1224.53 1282.95  Z\n",
       "  \" fill=\"#ffffff\" fill-rule=\"evenodd\" fill-opacity=\"1\"/>\n",
       "<polyline clip-path=\"url(#clip350)\" style=\"stroke:#000000; stroke-linecap:butt; stroke-linejoin:round; stroke-width:4; stroke-opacity:1; fill:none\" points=\"\n",
       "  1224.53,1438.47 2279.25,1438.47 2279.25,1282.95 1224.53,1282.95 1224.53,1438.47 \n",
       "  \"/>\n",
       "<polyline clip-path=\"url(#clip350)\" style=\"stroke:#009af9; stroke-linecap:butt; stroke-linejoin:round; stroke-width:6; stroke-opacity:1; fill:none\" points=\"\n",
       "  1249.04,1360.71 1396.05,1360.71 \n",
       "  \"/>\n",
       "<path clip-path=\"url(#clip350)\" d=\"M1421.56 1380.73 L1433.02 1380.73 L1433.02 1341.18 L1420.56 1343.68 L1420.56 1337.29 L1432.95 1334.79 L1439.97 1334.79 L1439.97 1380.73 L1451.43 1380.73 L1451.43 1386.63 L1421.56 1386.63 L1421.56 1380.73 Z\" fill=\"#000000\" fill-rule=\"evenodd\" fill-opacity=\"1\" /><path clip-path=\"url(#clip350)\" d=\"M1484.06 1364.31 L1502.78 1364.31 L1502.78 1370 L1484.06 1370 L1484.06 1364.31 Z\" fill=\"#000000\" fill-rule=\"evenodd\" fill-opacity=\"1\" /><path clip-path=\"url(#clip350)\" d=\"M1567.88 1347.75 L1553.82 1366.67 L1568.61 1386.63 L1561.08 1386.63 L1549.76 1371.36 L1538.44 1386.63 L1530.9 1386.63 L1546.01 1366.29 L1532.19 1347.75 L1539.72 1347.75 L1550.04 1361.6 L1560.35 1347.75 L1567.88 1347.75 Z\" fill=\"#000000\" fill-rule=\"evenodd\" fill-opacity=\"1\" /><path clip-path=\"url(#clip350)\" d=\"M1626.25 1342.05 L1626.25 1361.39 L1645.59 1361.39 L1645.59 1367.29 L1626.25 1367.29 L1626.25 1386.63 L1620.42 1386.63 L1620.42 1367.29 L1601.08 1367.29 L1601.08 1361.39 L1620.42 1361.39 L1620.42 1342.05 L1626.25 1342.05 Z\" fill=\"#000000\" fill-rule=\"evenodd\" fill-opacity=\"1\" /><path clip-path=\"url(#clip350)\" d=\"M1704.58 1358.68 Q1709.62 1359.76 1712.43 1363.16 Q1715.28 1366.57 1715.28 1371.57 Q1715.28 1379.24 1710 1383.44 Q1704.72 1387.64 1695 1387.64 Q1691.74 1387.64 1688.26 1386.98 Q1684.83 1386.36 1681.15 1385.07 L1681.15 1378.3 Q1684.06 1380 1687.54 1380.87 Q1691.01 1381.74 1694.79 1381.74 Q1701.39 1381.74 1704.83 1379.13 Q1708.3 1376.53 1708.3 1371.57 Q1708.3 1366.98 1705.07 1364.41 Q1701.88 1361.81 1696.15 1361.81 L1690.1 1361.81 L1690.1 1356.04 L1696.42 1356.04 Q1701.6 1356.04 1704.34 1354 Q1707.08 1351.91 1707.08 1348.02 Q1707.08 1344.03 1704.24 1341.91 Q1701.42 1339.76 1696.15 1339.76 Q1693.26 1339.76 1689.97 1340.38 Q1686.67 1341.01 1682.71 1342.33 L1682.71 1336.08 Q1686.7 1334.97 1690.17 1334.41 Q1693.68 1333.86 1696.77 1333.86 Q1704.76 1333.86 1709.41 1337.5 Q1714.06 1341.11 1714.06 1347.29 Q1714.06 1351.6 1711.6 1354.59 Q1709.13 1357.54 1704.58 1358.68 Z\" fill=\"#000000\" fill-rule=\"evenodd\" fill-opacity=\"1\" /><path clip-path=\"url(#clip350)\" d=\"M1754.41 1343.34 L1741.94 1350.07 L1754.41 1356.84 L1752.4 1360.25 L1740.73 1353.2 L1740.73 1366.29 L1736.77 1366.29 L1736.77 1353.2 L1725.1 1360.25 L1723.09 1356.84 L1735.56 1350.07 L1723.09 1343.34 L1725.1 1339.9 L1736.77 1346.95 L1736.77 1333.86 L1740.73 1333.86 L1740.73 1346.95 L1752.4 1339.9 L1754.41 1343.34 Z\" fill=\"#000000\" fill-rule=\"evenodd\" fill-opacity=\"1\" /><path clip-path=\"url(#clip350)\" d=\"M1795.56 1347.75 L1781.49 1366.67 L1796.28 1386.63 L1788.75 1386.63 L1777.43 1371.36 L1766.11 1386.63 L1758.58 1386.63 L1773.68 1366.29 L1759.86 1347.75 L1767.4 1347.75 L1777.71 1361.6 L1788.02 1347.75 L1795.56 1347.75 Z\" fill=\"#000000\" fill-rule=\"evenodd\" fill-opacity=\"1\" /><path clip-path=\"url(#clip350)\" d=\"M1831.81 1334.79 L1850.66 1354.13 L1843.68 1354.13 L1828.4 1340.42 L1813.12 1354.13 L1806.15 1354.13 L1825 1334.79 L1831.81 1334.79 Z\" fill=\"#000000\" fill-rule=\"evenodd\" fill-opacity=\"1\" /><path clip-path=\"url(#clip350)\" d=\"M1871.84 1380.73 L1896.32 1380.73 L1896.32 1386.63 L1863.4 1386.63 L1863.4 1380.73 Q1867.4 1376.6 1874.27 1369.66 Q1881.18 1362.68 1882.95 1360.66 Q1886.32 1356.88 1887.64 1354.27 Q1888.99 1351.63 1888.99 1349.1 Q1888.99 1344.97 1886.08 1342.36 Q1883.19 1339.76 1878.54 1339.76 Q1875.24 1339.76 1871.56 1340.91 Q1867.92 1342.05 1863.75 1344.38 L1863.75 1337.29 Q1867.99 1335.59 1871.67 1334.72 Q1875.35 1333.86 1878.4 1333.86 Q1886.46 1333.86 1891.25 1337.88 Q1896.04 1341.91 1896.04 1348.65 Q1896.04 1351.84 1894.83 1354.72 Q1893.65 1357.57 1890.49 1361.46 Q1889.62 1362.47 1884.96 1367.29 Q1880.31 1372.09 1871.84 1380.73 Z\" fill=\"#000000\" fill-rule=\"evenodd\" fill-opacity=\"1\" /><path clip-path=\"url(#clip350)\" d=\"M1958.75 1342.05 L1958.75 1361.39 L1978.09 1361.39 L1978.09 1367.29 L1958.75 1367.29 L1958.75 1386.63 L1952.92 1386.63 L1952.92 1367.29 L1933.58 1367.29 L1933.58 1361.39 L1952.92 1361.39 L1952.92 1342.05 L1958.75 1342.05 Z\" fill=\"#000000\" fill-rule=\"evenodd\" fill-opacity=\"1\" /><path clip-path=\"url(#clip350)\" d=\"M2016.04 1385.56 L2016.04 1379.17 Q2018.68 1380.42 2021.39 1381.08 Q2024.1 1381.74 2026.7 1381.74 Q2033.64 1381.74 2037.29 1377.09 Q2040.97 1372.4 2041.49 1362.88 Q2039.48 1365.87 2036.39 1367.47 Q2033.3 1369.07 2029.55 1369.07 Q2021.77 1369.07 2017.22 1364.38 Q2012.71 1359.66 2012.71 1351.5 Q2012.71 1343.51 2017.43 1338.68 Q2022.15 1333.86 2030 1333.86 Q2038.99 1333.86 2043.71 1340.77 Q2048.47 1347.64 2048.47 1360.77 Q2048.47 1373.02 2042.64 1380.35 Q2036.84 1387.64 2027.01 1387.64 Q2024.37 1387.64 2021.67 1387.12 Q2018.96 1386.6 2016.04 1385.56 M2030 1363.58 Q2034.72 1363.58 2037.46 1360.35 Q2040.24 1357.12 2040.24 1351.5 Q2040.24 1345.91 2037.46 1342.68 Q2034.72 1339.41 2030 1339.41 Q2025.28 1339.41 2022.5 1342.68 Q2019.76 1345.91 2019.76 1351.5 Q2019.76 1357.12 2022.5 1360.35 Q2025.28 1363.58 2030 1363.58 Z\" fill=\"#000000\" fill-rule=\"evenodd\" fill-opacity=\"1\" /><path clip-path=\"url(#clip350)\" d=\"M2086.91 1343.34 L2074.44 1350.07 L2086.91 1356.84 L2084.89 1360.25 L2073.23 1353.2 L2073.23 1366.29 L2069.27 1366.29 L2069.27 1353.2 L2057.6 1360.25 L2055.59 1356.84 L2068.05 1350.07 L2055.59 1343.34 L2057.6 1339.9 L2069.27 1346.95 L2069.27 1333.86 L2073.23 1333.86 L2073.23 1346.95 L2084.89 1339.9 L2086.91 1343.34 Z\" fill=\"#000000\" fill-rule=\"evenodd\" fill-opacity=\"1\" /><path clip-path=\"url(#clip350)\" d=\"M2128.05 1347.75 L2113.99 1366.67 L2128.78 1386.63 L2121.25 1386.63 L2109.93 1371.36 L2098.61 1386.63 L2091.07 1386.63 L2106.18 1366.29 L2092.36 1347.75 L2099.89 1347.75 L2110.21 1361.6 L2120.52 1347.75 L2128.05 1347.75 Z\" fill=\"#000000\" fill-rule=\"evenodd\" fill-opacity=\"1\" /><path clip-path=\"url(#clip350)\" d=\"M2164.3 1334.79 L2183.16 1354.13 L2176.18 1354.13 L2160.9 1340.42 L2145.62 1354.13 L2138.64 1354.13 L2157.5 1334.79 L2164.3 1334.79 Z\" fill=\"#000000\" fill-rule=\"evenodd\" fill-opacity=\"1\" /><path clip-path=\"url(#clip350)\" d=\"M2219.55 1358.68 Q2224.58 1359.76 2227.39 1363.16 Q2230.24 1366.57 2230.24 1371.57 Q2230.24 1379.24 2224.96 1383.44 Q2219.68 1387.64 2209.96 1387.64 Q2206.7 1387.64 2203.23 1386.98 Q2199.79 1386.36 2196.11 1385.07 L2196.11 1378.3 Q2199.03 1380 2202.5 1380.87 Q2205.97 1381.74 2209.75 1381.74 Q2216.35 1381.74 2219.79 1379.13 Q2223.26 1376.53 2223.26 1371.57 Q2223.26 1366.98 2220.03 1364.41 Q2216.84 1361.81 2211.11 1361.81 L2205.07 1361.81 L2205.07 1356.04 L2211.39 1356.04 Q2216.56 1356.04 2219.3 1354 Q2222.05 1351.91 2222.05 1348.02 Q2222.05 1344.03 2219.2 1341.91 Q2216.39 1339.76 2211.11 1339.76 Q2208.23 1339.76 2204.93 1340.38 Q2201.63 1341.01 2197.67 1342.33 L2197.67 1336.08 Q2201.66 1334.97 2205.14 1334.41 Q2208.64 1333.86 2211.73 1333.86 Q2219.72 1333.86 2224.37 1337.5 Q2229.03 1341.11 2229.03 1347.29 Q2229.03 1351.6 2226.56 1354.59 Q2224.09 1357.54 2219.55 1358.68 Z\" fill=\"#000000\" fill-rule=\"evenodd\" fill-opacity=\"1\" /></svg>\n"
      ]
     },
     "execution_count": 54,
     "metadata": {},
     "output_type": "execute_result"
    }
   ],
   "source": [
    "plot(f, legend=:bottomright)"
   ]
  },
  {
   "cell_type": "markdown",
   "id": "68418fd7",
   "metadata": {
    "slideshow": {
     "slide_type": "slide"
    }
   },
   "source": [
    "# Polynomial evaluation is (discrete) linear algebra"
   ]
  },
  {
   "cell_type": "code",
   "execution_count": 63,
   "id": "6fdc3793",
   "metadata": {
    "cell_style": "split"
   },
   "outputs": [
    {
     "data": {
      "text/plain": [
       "3×4 Matrix{Float64}:\n",
       " 1.0  0.0  0.0  0.0\n",
       " 1.0  1.0  1.0  1.0\n",
       " 1.0  2.0  4.0  8.0"
      ]
     },
     "execution_count": 63,
     "metadata": {},
     "output_type": "execute_result"
    }
   ],
   "source": [
    "V = [one.(x) x x.^2 x.^3]"
   ]
  },
  {
   "cell_type": "code",
   "execution_count": 61,
   "id": "a7bd6f28",
   "metadata": {
    "cell_style": "split"
   },
   "outputs": [
    {
     "data": {
      "text/plain": [
       "3-element Vector{Float64}:\n",
       "  1.0\n",
       " 12.0\n",
       " 83.0"
      ]
     },
     "execution_count": 61,
     "metadata": {},
     "output_type": "execute_result"
    }
   ],
   "source": [
    "V * p + V * q"
   ]
  },
  {
   "cell_type": "code",
   "execution_count": 62,
   "id": "c18070be",
   "metadata": {
    "cell_style": "split"
   },
   "outputs": [
    {
     "data": {
      "text/plain": [
       "3-element Vector{Float64}:\n",
       "  1.0\n",
       " 12.0\n",
       " 83.0"
      ]
     },
     "execution_count": 62,
     "metadata": {},
     "output_type": "execute_result"
    }
   ],
   "source": [
    "V * (p + q)"
   ]
  },
  {
   "cell_type": "markdown",
   "id": "bcac861a",
   "metadata": {
    "slideshow": {
     "slide_type": "slide"
    }
   },
   "source": [
    "# Vandermonde matrices\n",
    "\n",
    "A Vandermonde matrix is one whose columns are functions evaluated at discrete points.\n",
    "\n",
    "$$V(x) = \\begin{bmatrix} 1 \\Bigg| x \\Bigg| x^2 \\Bigg| x^3 \\Bigg| \\dotsb \\end{bmatrix}$$"
   ]
  },
  {
   "cell_type": "code",
   "execution_count": 40,
   "id": "55291bbf",
   "metadata": {
    "cell_style": "split"
   },
   "outputs": [
    {
     "data": {
      "text/plain": [
       "vander (generic function with 2 methods)"
      ]
     },
     "execution_count": 40,
     "metadata": {},
     "output_type": "execute_result"
    }
   ],
   "source": [
    "function vander(x, k=nothing)\n",
    "    if isnothing(k)\n",
    "        k = length(x)\n",
    "    end\n",
    "    m = length(x)\n",
    "    V = ones(m, k)\n",
    "    for j in 2:k\n",
    "        V[:, j] = V[:, j-1] .* x\n",
    "    end\n",
    "    V\n",
    "end"
   ]
  },
  {
   "cell_type": "code",
   "execution_count": 67,
   "id": "6151d57b",
   "metadata": {
    "cell_style": "split"
   },
   "outputs": [
    {
     "data": {
      "image/svg+xml": [
       "<?xml version=\"1.0\" encoding=\"utf-8\"?>\n",
       "<svg xmlns=\"http://www.w3.org/2000/svg\" xmlns:xlink=\"http://www.w3.org/1999/xlink\" width=\"600\" height=\"400\" viewBox=\"0 0 2400 1600\">\n",
       "<defs>\n",
       "  <clipPath id=\"clip510\">\n",
       "    <rect x=\"0\" y=\"0\" width=\"2400\" height=\"1600\"/>\n",
       "  </clipPath>\n",
       "</defs>\n",
       "<path clip-path=\"url(#clip510)\" d=\"\n",
       "M0 1600 L2400 1600 L2400 0 L0 0  Z\n",
       "  \" fill=\"#ffffff\" fill-rule=\"evenodd\" fill-opacity=\"1\"/>\n",
       "<defs>\n",
       "  <clipPath id=\"clip511\">\n",
       "    <rect x=\"480\" y=\"0\" width=\"1681\" height=\"1600\"/>\n",
       "  </clipPath>\n",
       "</defs>\n",
       "<path clip-path=\"url(#clip510)\" d=\"\n",
       "M193.936 1486.45 L2352.76 1486.45 L2352.76 47.2441 L193.936 47.2441  Z\n",
       "  \" fill=\"#ffffff\" fill-rule=\"evenodd\" fill-opacity=\"1\"/>\n",
       "<defs>\n",
       "  <clipPath id=\"clip512\">\n",
       "    <rect x=\"193\" y=\"47\" width=\"2160\" height=\"1440\"/>\n",
       "  </clipPath>\n",
       "</defs>\n",
       "<polyline clip-path=\"url(#clip512)\" style=\"stroke:#000000; stroke-linecap:butt; stroke-linejoin:round; stroke-width:2; stroke-opacity:0.1; fill:none\" points=\"\n",
       "  255.035,1486.45 255.035,47.2441 \n",
       "  \"/>\n",
       "<polyline clip-path=\"url(#clip512)\" style=\"stroke:#000000; stroke-linecap:butt; stroke-linejoin:round; stroke-width:2; stroke-opacity:0.1; fill:none\" points=\"\n",
       "  764.19,1486.45 764.19,47.2441 \n",
       "  \"/>\n",
       "<polyline clip-path=\"url(#clip512)\" style=\"stroke:#000000; stroke-linecap:butt; stroke-linejoin:round; stroke-width:2; stroke-opacity:0.1; fill:none\" points=\"\n",
       "  1273.35,1486.45 1273.35,47.2441 \n",
       "  \"/>\n",
       "<polyline clip-path=\"url(#clip512)\" style=\"stroke:#000000; stroke-linecap:butt; stroke-linejoin:round; stroke-width:2; stroke-opacity:0.1; fill:none\" points=\"\n",
       "  1782.5,1486.45 1782.5,47.2441 \n",
       "  \"/>\n",
       "<polyline clip-path=\"url(#clip512)\" style=\"stroke:#000000; stroke-linecap:butt; stroke-linejoin:round; stroke-width:2; stroke-opacity:0.1; fill:none\" points=\"\n",
       "  2291.66,1486.45 2291.66,47.2441 \n",
       "  \"/>\n",
       "<polyline clip-path=\"url(#clip510)\" style=\"stroke:#000000; stroke-linecap:butt; stroke-linejoin:round; stroke-width:4; stroke-opacity:1; fill:none\" points=\"\n",
       "  193.936,1486.45 2352.76,1486.45 \n",
       "  \"/>\n",
       "<polyline clip-path=\"url(#clip510)\" style=\"stroke:#000000; stroke-linecap:butt; stroke-linejoin:round; stroke-width:4; stroke-opacity:1; fill:none\" points=\"\n",
       "  255.035,1486.45 255.035,1467.55 \n",
       "  \"/>\n",
       "<polyline clip-path=\"url(#clip510)\" style=\"stroke:#000000; stroke-linecap:butt; stroke-linejoin:round; stroke-width:4; stroke-opacity:1; fill:none\" points=\"\n",
       "  764.19,1486.45 764.19,1467.55 \n",
       "  \"/>\n",
       "<polyline clip-path=\"url(#clip510)\" style=\"stroke:#000000; stroke-linecap:butt; stroke-linejoin:round; stroke-width:4; stroke-opacity:1; fill:none\" points=\"\n",
       "  1273.35,1486.45 1273.35,1467.55 \n",
       "  \"/>\n",
       "<polyline clip-path=\"url(#clip510)\" style=\"stroke:#000000; stroke-linecap:butt; stroke-linejoin:round; stroke-width:4; stroke-opacity:1; fill:none\" points=\"\n",
       "  1782.5,1486.45 1782.5,1467.55 \n",
       "  \"/>\n",
       "<polyline clip-path=\"url(#clip510)\" style=\"stroke:#000000; stroke-linecap:butt; stroke-linejoin:round; stroke-width:4; stroke-opacity:1; fill:none\" points=\"\n",
       "  2291.66,1486.45 2291.66,1467.55 \n",
       "  \"/>\n",
       "<path clip-path=\"url(#clip510)\" d=\"M201.563 1532.02 L231.239 1532.02 L231.239 1535.95 L201.563 1535.95 L201.563 1532.02 Z\" fill=\"#000000\" fill-rule=\"evenodd\" fill-opacity=\"1\" /><path clip-path=\"url(#clip510)\" d=\"M242.141 1544.91 L249.78 1544.91 L249.78 1518.55 L241.47 1520.21 L241.47 1515.95 L249.734 1514.29 L254.41 1514.29 L254.41 1544.91 L262.049 1544.91 L262.049 1548.85 L242.141 1548.85 L242.141 1544.91 Z\" fill=\"#000000\" fill-rule=\"evenodd\" fill-opacity=\"1\" /><path clip-path=\"url(#clip510)\" d=\"M271.493 1542.97 L276.377 1542.97 L276.377 1548.85 L271.493 1548.85 L271.493 1542.97 Z\" fill=\"#000000\" fill-rule=\"evenodd\" fill-opacity=\"1\" /><path clip-path=\"url(#clip510)\" d=\"M296.562 1517.37 Q292.951 1517.37 291.122 1520.93 Q289.317 1524.47 289.317 1531.6 Q289.317 1538.71 291.122 1542.27 Q292.951 1545.82 296.562 1545.82 Q300.196 1545.82 302.002 1542.27 Q303.831 1538.71 303.831 1531.6 Q303.831 1524.47 302.002 1520.93 Q300.196 1517.37 296.562 1517.37 M296.562 1513.66 Q302.372 1513.66 305.428 1518.27 Q308.507 1522.85 308.507 1531.6 Q308.507 1540.33 305.428 1544.94 Q302.372 1549.52 296.562 1549.52 Q290.752 1549.52 287.673 1544.94 Q284.618 1540.33 284.618 1531.6 Q284.618 1522.85 287.673 1518.27 Q290.752 1513.66 296.562 1513.66 Z\" fill=\"#000000\" fill-rule=\"evenodd\" fill-opacity=\"1\" /><path clip-path=\"url(#clip510)\" d=\"M711.216 1532.02 L740.892 1532.02 L740.892 1535.95 L711.216 1535.95 L711.216 1532.02 Z\" fill=\"#000000\" fill-rule=\"evenodd\" fill-opacity=\"1\" /><path clip-path=\"url(#clip510)\" d=\"M760.984 1517.37 Q757.373 1517.37 755.545 1520.93 Q753.739 1524.47 753.739 1531.6 Q753.739 1538.71 755.545 1542.27 Q757.373 1545.82 760.984 1545.82 Q764.619 1545.82 766.424 1542.27 Q768.253 1538.71 768.253 1531.6 Q768.253 1524.47 766.424 1520.93 Q764.619 1517.37 760.984 1517.37 M760.984 1513.66 Q766.794 1513.66 769.85 1518.27 Q772.929 1522.85 772.929 1531.6 Q772.929 1540.33 769.85 1544.94 Q766.794 1549.52 760.984 1549.52 Q755.174 1549.52 752.095 1544.94 Q749.04 1540.33 749.04 1531.6 Q749.04 1522.85 752.095 1518.27 Q755.174 1513.66 760.984 1513.66 Z\" fill=\"#000000\" fill-rule=\"evenodd\" fill-opacity=\"1\" /><path clip-path=\"url(#clip510)\" d=\"M781.146 1542.97 L786.03 1542.97 L786.03 1548.85 L781.146 1548.85 L781.146 1542.97 Z\" fill=\"#000000\" fill-rule=\"evenodd\" fill-opacity=\"1\" /><path clip-path=\"url(#clip510)\" d=\"M796.262 1514.29 L814.618 1514.29 L814.618 1518.22 L800.544 1518.22 L800.544 1526.7 Q801.563 1526.35 802.581 1526.19 Q803.6 1526 804.618 1526 Q810.405 1526 813.785 1529.17 Q817.165 1532.34 817.165 1537.76 Q817.165 1543.34 813.692 1546.44 Q810.22 1549.52 803.901 1549.52 Q801.725 1549.52 799.456 1549.15 Q797.211 1548.78 794.804 1548.04 L794.804 1543.34 Q796.887 1544.47 799.109 1545.03 Q801.331 1545.58 803.808 1545.58 Q807.813 1545.58 810.151 1543.48 Q812.489 1541.37 812.489 1537.76 Q812.489 1534.15 810.151 1532.04 Q807.813 1529.94 803.808 1529.94 Q801.933 1529.94 800.058 1530.35 Q798.206 1530.77 796.262 1531.65 L796.262 1514.29 Z\" fill=\"#000000\" fill-rule=\"evenodd\" fill-opacity=\"1\" /><path clip-path=\"url(#clip510)\" d=\"M1250.73 1517.37 Q1247.12 1517.37 1245.29 1520.93 Q1243.49 1524.47 1243.49 1531.6 Q1243.49 1538.71 1245.29 1542.27 Q1247.12 1545.82 1250.73 1545.82 Q1254.36 1545.82 1256.17 1542.27 Q1258 1538.71 1258 1531.6 Q1258 1524.47 1256.17 1520.93 Q1254.36 1517.37 1250.73 1517.37 M1250.73 1513.66 Q1256.54 1513.66 1259.6 1518.27 Q1262.67 1522.85 1262.67 1531.6 Q1262.67 1540.33 1259.6 1544.94 Q1256.54 1549.52 1250.73 1549.52 Q1244.92 1549.52 1241.84 1544.94 Q1238.79 1540.33 1238.79 1531.6 Q1238.79 1522.85 1241.84 1518.27 Q1244.92 1513.66 1250.73 1513.66 Z\" fill=\"#000000\" fill-rule=\"evenodd\" fill-opacity=\"1\" /><path clip-path=\"url(#clip510)\" d=\"M1270.89 1542.97 L1275.78 1542.97 L1275.78 1548.85 L1270.89 1548.85 L1270.89 1542.97 Z\" fill=\"#000000\" fill-rule=\"evenodd\" fill-opacity=\"1\" /><path clip-path=\"url(#clip510)\" d=\"M1295.96 1517.37 Q1292.35 1517.37 1290.52 1520.93 Q1288.72 1524.47 1288.72 1531.6 Q1288.72 1538.71 1290.52 1542.27 Q1292.35 1545.82 1295.96 1545.82 Q1299.6 1545.82 1301.4 1542.27 Q1303.23 1538.71 1303.23 1531.6 Q1303.23 1524.47 1301.4 1520.93 Q1299.6 1517.37 1295.96 1517.37 M1295.96 1513.66 Q1301.77 1513.66 1304.83 1518.27 Q1307.91 1522.85 1307.91 1531.6 Q1307.91 1540.33 1304.83 1544.94 Q1301.77 1549.52 1295.96 1549.52 Q1290.15 1549.52 1287.07 1544.94 Q1284.02 1540.33 1284.02 1531.6 Q1284.02 1522.85 1287.07 1518.27 Q1290.15 1513.66 1295.96 1513.66 Z\" fill=\"#000000\" fill-rule=\"evenodd\" fill-opacity=\"1\" /><path clip-path=\"url(#clip510)\" d=\"M1760.38 1517.37 Q1756.77 1517.37 1754.94 1520.93 Q1753.14 1524.47 1753.14 1531.6 Q1753.14 1538.71 1754.94 1542.27 Q1756.77 1545.82 1760.38 1545.82 Q1764.02 1545.82 1765.82 1542.27 Q1767.65 1538.71 1767.65 1531.6 Q1767.65 1524.47 1765.82 1520.93 Q1764.02 1517.37 1760.38 1517.37 M1760.38 1513.66 Q1766.19 1513.66 1769.25 1518.27 Q1772.33 1522.85 1772.33 1531.6 Q1772.33 1540.33 1769.25 1544.94 Q1766.19 1549.52 1760.38 1549.52 Q1754.57 1549.52 1751.49 1544.94 Q1748.44 1540.33 1748.44 1531.6 Q1748.44 1522.85 1751.49 1518.27 Q1754.57 1513.66 1760.38 1513.66 Z\" fill=\"#000000\" fill-rule=\"evenodd\" fill-opacity=\"1\" /><path clip-path=\"url(#clip510)\" d=\"M1780.55 1542.97 L1785.43 1542.97 L1785.43 1548.85 L1780.55 1548.85 L1780.55 1542.97 Z\" fill=\"#000000\" fill-rule=\"evenodd\" fill-opacity=\"1\" /><path clip-path=\"url(#clip510)\" d=\"M1795.66 1514.29 L1814.02 1514.29 L1814.02 1518.22 L1799.94 1518.22 L1799.94 1526.7 Q1800.96 1526.35 1801.98 1526.19 Q1803 1526 1804.02 1526 Q1809.8 1526 1813.18 1529.17 Q1816.56 1532.34 1816.56 1537.76 Q1816.56 1543.34 1813.09 1546.44 Q1809.62 1549.52 1803.3 1549.52 Q1801.12 1549.52 1798.86 1549.15 Q1796.61 1548.78 1794.2 1548.04 L1794.2 1543.34 Q1796.29 1544.47 1798.51 1545.03 Q1800.73 1545.58 1803.21 1545.58 Q1807.21 1545.58 1809.55 1543.48 Q1811.89 1541.37 1811.89 1537.76 Q1811.89 1534.15 1809.55 1532.04 Q1807.21 1529.94 1803.21 1529.94 Q1801.33 1529.94 1799.46 1530.35 Q1797.61 1530.77 1795.66 1531.65 L1795.66 1514.29 Z\" fill=\"#000000\" fill-rule=\"evenodd\" fill-opacity=\"1\" /><path clip-path=\"url(#clip510)\" d=\"M2258.81 1544.91 L2266.45 1544.91 L2266.45 1518.55 L2258.14 1520.21 L2258.14 1515.95 L2266.4 1514.29 L2271.08 1514.29 L2271.08 1544.91 L2278.72 1544.91 L2278.72 1548.85 L2258.81 1548.85 L2258.81 1544.91 Z\" fill=\"#000000\" fill-rule=\"evenodd\" fill-opacity=\"1\" /><path clip-path=\"url(#clip510)\" d=\"M2288.16 1542.97 L2293.05 1542.97 L2293.05 1548.85 L2288.16 1548.85 L2288.16 1542.97 Z\" fill=\"#000000\" fill-rule=\"evenodd\" fill-opacity=\"1\" /><path clip-path=\"url(#clip510)\" d=\"M2313.23 1517.37 Q2309.62 1517.37 2307.79 1520.93 Q2305.99 1524.47 2305.99 1531.6 Q2305.99 1538.71 2307.79 1542.27 Q2309.62 1545.82 2313.23 1545.82 Q2316.87 1545.82 2318.67 1542.27 Q2320.5 1538.71 2320.5 1531.6 Q2320.5 1524.47 2318.67 1520.93 Q2316.87 1517.37 2313.23 1517.37 M2313.23 1513.66 Q2319.04 1513.66 2322.1 1518.27 Q2325.18 1522.85 2325.18 1531.6 Q2325.18 1540.33 2322.1 1544.94 Q2319.04 1549.52 2313.23 1549.52 Q2307.42 1549.52 2304.34 1544.94 Q2301.29 1540.33 2301.29 1531.6 Q2301.29 1522.85 2304.34 1518.27 Q2307.42 1513.66 2313.23 1513.66 Z\" fill=\"#000000\" fill-rule=\"evenodd\" fill-opacity=\"1\" /><polyline clip-path=\"url(#clip512)\" style=\"stroke:#000000; stroke-linecap:butt; stroke-linejoin:round; stroke-width:2; stroke-opacity:0.1; fill:none\" points=\"\n",
       "  193.936,1445.72 2352.76,1445.72 \n",
       "  \"/>\n",
       "<polyline clip-path=\"url(#clip512)\" style=\"stroke:#000000; stroke-linecap:butt; stroke-linejoin:round; stroke-width:2; stroke-opacity:0.1; fill:none\" points=\"\n",
       "  193.936,1106.28 2352.76,1106.28 \n",
       "  \"/>\n",
       "<polyline clip-path=\"url(#clip512)\" style=\"stroke:#000000; stroke-linecap:butt; stroke-linejoin:round; stroke-width:2; stroke-opacity:0.1; fill:none\" points=\"\n",
       "  193.936,766.846 2352.76,766.846 \n",
       "  \"/>\n",
       "<polyline clip-path=\"url(#clip512)\" style=\"stroke:#000000; stroke-linecap:butt; stroke-linejoin:round; stroke-width:2; stroke-opacity:0.1; fill:none\" points=\"\n",
       "  193.936,427.411 2352.76,427.411 \n",
       "  \"/>\n",
       "<polyline clip-path=\"url(#clip512)\" style=\"stroke:#000000; stroke-linecap:butt; stroke-linejoin:round; stroke-width:2; stroke-opacity:0.1; fill:none\" points=\"\n",
       "  193.936,87.9763 2352.76,87.9763 \n",
       "  \"/>\n",
       "<polyline clip-path=\"url(#clip510)\" style=\"stroke:#000000; stroke-linecap:butt; stroke-linejoin:round; stroke-width:4; stroke-opacity:1; fill:none\" points=\"\n",
       "  193.936,1486.45 193.936,47.2441 \n",
       "  \"/>\n",
       "<polyline clip-path=\"url(#clip510)\" style=\"stroke:#000000; stroke-linecap:butt; stroke-linejoin:round; stroke-width:4; stroke-opacity:1; fill:none\" points=\"\n",
       "  193.936,1445.72 212.834,1445.72 \n",
       "  \"/>\n",
       "<polyline clip-path=\"url(#clip510)\" style=\"stroke:#000000; stroke-linecap:butt; stroke-linejoin:round; stroke-width:4; stroke-opacity:1; fill:none\" points=\"\n",
       "  193.936,1106.28 212.834,1106.28 \n",
       "  \"/>\n",
       "<polyline clip-path=\"url(#clip510)\" style=\"stroke:#000000; stroke-linecap:butt; stroke-linejoin:round; stroke-width:4; stroke-opacity:1; fill:none\" points=\"\n",
       "  193.936,766.846 212.834,766.846 \n",
       "  \"/>\n",
       "<polyline clip-path=\"url(#clip510)\" style=\"stroke:#000000; stroke-linecap:butt; stroke-linejoin:round; stroke-width:4; stroke-opacity:1; fill:none\" points=\"\n",
       "  193.936,427.411 212.834,427.411 \n",
       "  \"/>\n",
       "<polyline clip-path=\"url(#clip510)\" style=\"stroke:#000000; stroke-linecap:butt; stroke-linejoin:round; stroke-width:4; stroke-opacity:1; fill:none\" points=\"\n",
       "  193.936,87.9763 212.834,87.9763 \n",
       "  \"/>\n",
       "<path clip-path=\"url(#clip510)\" d=\"M50.9921 1446.17 L80.6679 1446.17 L80.6679 1450.1 L50.9921 1450.1 L50.9921 1446.17 Z\" fill=\"#000000\" fill-rule=\"evenodd\" fill-opacity=\"1\" /><path clip-path=\"url(#clip510)\" d=\"M91.5706 1459.06 L99.2095 1459.06 L99.2095 1432.69 L90.8993 1434.36 L90.8993 1430.1 L99.1632 1428.44 L103.839 1428.44 L103.839 1459.06 L111.478 1459.06 L111.478 1463 L91.5706 1463 L91.5706 1459.06 Z\" fill=\"#000000\" fill-rule=\"evenodd\" fill-opacity=\"1\" /><path clip-path=\"url(#clip510)\" d=\"M120.922 1457.12 L125.807 1457.12 L125.807 1463 L120.922 1463 L120.922 1457.12 Z\" fill=\"#000000\" fill-rule=\"evenodd\" fill-opacity=\"1\" /><path clip-path=\"url(#clip510)\" d=\"M145.992 1431.51 Q142.381 1431.51 140.552 1435.08 Q138.746 1438.62 138.746 1445.75 Q138.746 1452.86 140.552 1456.42 Q142.381 1459.96 145.992 1459.96 Q149.626 1459.96 151.431 1456.42 Q153.26 1452.86 153.26 1445.75 Q153.26 1438.62 151.431 1435.08 Q149.626 1431.51 145.992 1431.51 M145.992 1427.81 Q151.802 1427.81 154.857 1432.42 Q157.936 1437 157.936 1445.75 Q157.936 1454.48 154.857 1459.08 Q151.802 1463.67 145.992 1463.67 Q140.181 1463.67 137.103 1459.08 Q134.047 1454.48 134.047 1445.75 Q134.047 1437 137.103 1432.42 Q140.181 1427.81 145.992 1427.81 Z\" fill=\"#000000\" fill-rule=\"evenodd\" fill-opacity=\"1\" /><path clip-path=\"url(#clip510)\" d=\"M51.9875 1106.73 L81.6633 1106.73 L81.6633 1110.67 L51.9875 1110.67 L51.9875 1106.73 Z\" fill=\"#000000\" fill-rule=\"evenodd\" fill-opacity=\"1\" /><path clip-path=\"url(#clip510)\" d=\"M101.756 1092.08 Q98.1447 1092.08 96.316 1095.64 Q94.5104 1099.19 94.5104 1106.32 Q94.5104 1113.42 96.316 1116.99 Q98.1447 1120.53 101.756 1120.53 Q105.39 1120.53 107.196 1116.99 Q109.024 1113.42 109.024 1106.32 Q109.024 1099.19 107.196 1095.64 Q105.39 1092.08 101.756 1092.08 M101.756 1088.38 Q107.566 1088.38 110.621 1092.98 Q113.7 1097.57 113.7 1106.32 Q113.7 1115.04 110.621 1119.65 Q107.566 1124.23 101.756 1124.23 Q95.9456 1124.23 92.8669 1119.65 Q89.8114 1115.04 89.8114 1106.32 Q89.8114 1097.57 92.8669 1092.98 Q95.9456 1088.38 101.756 1088.38 Z\" fill=\"#000000\" fill-rule=\"evenodd\" fill-opacity=\"1\" /><path clip-path=\"url(#clip510)\" d=\"M121.918 1117.68 L126.802 1117.68 L126.802 1123.56 L121.918 1123.56 L121.918 1117.68 Z\" fill=\"#000000\" fill-rule=\"evenodd\" fill-opacity=\"1\" /><path clip-path=\"url(#clip510)\" d=\"M137.033 1089 L155.39 1089 L155.39 1092.94 L141.316 1092.94 L141.316 1101.41 Q142.334 1101.06 143.353 1100.9 Q144.371 1100.71 145.39 1100.71 Q151.177 1100.71 154.556 1103.89 Q157.936 1107.06 157.936 1112.47 Q157.936 1118.05 154.464 1121.15 Q150.992 1124.23 144.672 1124.23 Q142.496 1124.23 140.228 1123.86 Q137.982 1123.49 135.575 1122.75 L135.575 1118.05 Q137.658 1119.19 139.881 1119.74 Q142.103 1120.3 144.58 1120.3 Q148.584 1120.3 150.922 1118.19 Q153.26 1116.08 153.26 1112.47 Q153.26 1108.86 150.922 1106.76 Q148.584 1104.65 144.58 1104.65 Q142.705 1104.65 140.83 1105.07 Q138.978 1105.48 137.033 1106.36 L137.033 1089 Z\" fill=\"#000000\" fill-rule=\"evenodd\" fill-opacity=\"1\" /><path clip-path=\"url(#clip510)\" d=\"M100.76 752.645 Q97.1493 752.645 95.3206 756.209 Q93.515 759.751 93.515 766.881 Q93.515 773.987 95.3206 777.552 Q97.1493 781.094 100.76 781.094 Q104.395 781.094 106.2 777.552 Q108.029 773.987 108.029 766.881 Q108.029 759.751 106.2 756.209 Q104.395 752.645 100.76 752.645 M100.76 748.941 Q106.571 748.941 109.626 753.547 Q112.705 758.131 112.705 766.881 Q112.705 775.608 109.626 780.214 Q106.571 784.797 100.76 784.797 Q94.9502 784.797 91.8715 780.214 Q88.816 775.608 88.816 766.881 Q88.816 758.131 91.8715 753.547 Q94.9502 748.941 100.76 748.941 Z\" fill=\"#000000\" fill-rule=\"evenodd\" fill-opacity=\"1\" /><path clip-path=\"url(#clip510)\" d=\"M120.922 778.246 L125.807 778.246 L125.807 784.126 L120.922 784.126 L120.922 778.246 Z\" fill=\"#000000\" fill-rule=\"evenodd\" fill-opacity=\"1\" /><path clip-path=\"url(#clip510)\" d=\"M145.992 752.645 Q142.381 752.645 140.552 756.209 Q138.746 759.751 138.746 766.881 Q138.746 773.987 140.552 777.552 Q142.381 781.094 145.992 781.094 Q149.626 781.094 151.431 777.552 Q153.26 773.987 153.26 766.881 Q153.26 759.751 151.431 756.209 Q149.626 752.645 145.992 752.645 M145.992 748.941 Q151.802 748.941 154.857 753.547 Q157.936 758.131 157.936 766.881 Q157.936 775.608 154.857 780.214 Q151.802 784.797 145.992 784.797 Q140.181 784.797 137.103 780.214 Q134.047 775.608 134.047 766.881 Q134.047 758.131 137.103 753.547 Q140.181 748.941 145.992 748.941 Z\" fill=\"#000000\" fill-rule=\"evenodd\" fill-opacity=\"1\" /><path clip-path=\"url(#clip510)\" d=\"M101.756 413.21 Q98.1447 413.21 96.316 416.775 Q94.5104 420.316 94.5104 427.446 Q94.5104 434.552 96.316 438.117 Q98.1447 441.659 101.756 441.659 Q105.39 441.659 107.196 438.117 Q109.024 434.552 109.024 427.446 Q109.024 420.316 107.196 416.775 Q105.39 413.21 101.756 413.21 M101.756 409.506 Q107.566 409.506 110.621 414.113 Q113.7 418.696 113.7 427.446 Q113.7 436.173 110.621 440.779 Q107.566 445.362 101.756 445.362 Q95.9456 445.362 92.8669 440.779 Q89.8114 436.173 89.8114 427.446 Q89.8114 418.696 92.8669 414.113 Q95.9456 409.506 101.756 409.506 Z\" fill=\"#000000\" fill-rule=\"evenodd\" fill-opacity=\"1\" /><path clip-path=\"url(#clip510)\" d=\"M121.918 438.812 L126.802 438.812 L126.802 444.691 L121.918 444.691 L121.918 438.812 Z\" fill=\"#000000\" fill-rule=\"evenodd\" fill-opacity=\"1\" /><path clip-path=\"url(#clip510)\" d=\"M137.033 410.131 L155.39 410.131 L155.39 414.066 L141.316 414.066 L141.316 422.538 Q142.334 422.191 143.353 422.029 Q144.371 421.844 145.39 421.844 Q151.177 421.844 154.556 425.015 Q157.936 428.187 157.936 433.603 Q157.936 439.182 154.464 442.284 Q150.992 445.362 144.672 445.362 Q142.496 445.362 140.228 444.992 Q137.982 444.622 135.575 443.881 L135.575 439.182 Q137.658 440.316 139.881 440.872 Q142.103 441.427 144.58 441.427 Q148.584 441.427 150.922 439.321 Q153.26 437.214 153.26 433.603 Q153.26 429.992 150.922 427.886 Q148.584 425.779 144.58 425.779 Q142.705 425.779 140.83 426.196 Q138.978 426.613 137.033 427.492 L137.033 410.131 Z\" fill=\"#000000\" fill-rule=\"evenodd\" fill-opacity=\"1\" /><path clip-path=\"url(#clip510)\" d=\"M91.5706 101.321 L99.2095 101.321 L99.2095 74.9555 L90.8993 76.6222 L90.8993 72.3629 L99.1632 70.6963 L103.839 70.6963 L103.839 101.321 L111.478 101.321 L111.478 105.256 L91.5706 105.256 L91.5706 101.321 Z\" fill=\"#000000\" fill-rule=\"evenodd\" fill-opacity=\"1\" /><path clip-path=\"url(#clip510)\" d=\"M120.922 99.3767 L125.807 99.3767 L125.807 105.256 L120.922 105.256 L120.922 99.3767 Z\" fill=\"#000000\" fill-rule=\"evenodd\" fill-opacity=\"1\" /><path clip-path=\"url(#clip510)\" d=\"M145.992 73.775 Q142.381 73.775 140.552 77.3398 Q138.746 80.8814 138.746 88.011 Q138.746 95.1174 140.552 98.6822 Q142.381 102.224 145.992 102.224 Q149.626 102.224 151.431 98.6822 Q153.26 95.1174 153.26 88.011 Q153.26 80.8814 151.431 77.3398 Q149.626 73.775 145.992 73.775 M145.992 70.0713 Q151.802 70.0713 154.857 74.6777 Q157.936 79.261 157.936 88.011 Q157.936 96.7378 154.857 101.344 Q151.802 105.928 145.992 105.928 Q140.181 105.928 137.103 101.344 Q134.047 96.7378 134.047 88.011 Q134.047 79.261 137.103 74.6777 Q140.181 70.0713 145.992 70.0713 Z\" fill=\"#000000\" fill-rule=\"evenodd\" fill-opacity=\"1\" /><polyline clip-path=\"url(#clip512)\" style=\"stroke:#009af9; stroke-linecap:butt; stroke-linejoin:round; stroke-width:16; stroke-opacity:1; fill:none\" points=\"\n",
       "  255.035,87.9763 296.598,87.9763 338.162,87.9763 379.726,87.9763 421.29,87.9763 462.853,87.9763 504.417,87.9763 545.981,87.9763 587.544,87.9763 629.108,87.9763 \n",
       "  670.672,87.9763 712.236,87.9763 753.799,87.9763 795.363,87.9763 836.927,87.9763 878.491,87.9763 920.054,87.9763 961.618,87.9763 1003.18,87.9763 1044.75,87.9763 \n",
       "  1086.31,87.9763 1127.87,87.9763 1169.44,87.9763 1211,87.9763 1252.56,87.9763 1294.13,87.9763 1335.69,87.9763 1377.26,87.9763 1418.82,87.9763 1460.38,87.9763 \n",
       "  1501.95,87.9763 1543.51,87.9763 1585.07,87.9763 1626.64,87.9763 1668.2,87.9763 1709.77,87.9763 1751.33,87.9763 1792.89,87.9763 1834.46,87.9763 1876.02,87.9763 \n",
       "  1917.58,87.9763 1959.15,87.9763 2000.71,87.9763 2042.27,87.9763 2083.84,87.9763 2125.4,87.9763 2166.97,87.9763 2208.53,87.9763 2250.09,87.9763 2291.66,87.9763 \n",
       "  \n",
       "  \"/>\n",
       "<polyline clip-path=\"url(#clip512)\" style=\"stroke:#e26f46; stroke-linecap:butt; stroke-linejoin:round; stroke-width:16; stroke-opacity:1; fill:none\" points=\"\n",
       "  255.035,1445.72 296.598,1418.01 338.162,1390.3 379.726,1362.59 421.29,1334.88 462.853,1307.17 504.417,1279.46 545.981,1251.75 587.544,1224.04 629.108,1196.33 \n",
       "  670.672,1168.63 712.236,1140.92 753.799,1113.21 795.363,1085.5 836.927,1057.79 878.491,1030.08 920.054,1002.37 961.618,974.663 1003.18,946.954 1044.75,919.245 \n",
       "  1086.31,891.536 1127.87,863.827 1169.44,836.118 1211,808.409 1252.56,780.7 1294.13,752.992 1335.69,725.283 1377.26,697.574 1418.82,669.865 1460.38,642.156 \n",
       "  1501.95,614.447 1543.51,586.738 1585.07,559.029 1626.64,531.32 1668.2,503.611 1709.77,475.902 1751.33,448.193 1792.89,420.484 1834.46,392.775 1876.02,365.066 \n",
       "  1917.58,337.357 1959.15,309.648 2000.71,281.939 2042.27,254.23 2083.84,226.521 2125.4,198.812 2166.97,171.103 2208.53,143.394 2250.09,115.685 2291.66,87.9763 \n",
       "  \n",
       "  \"/>\n",
       "<polyline clip-path=\"url(#clip512)\" style=\"stroke:#3da44d; stroke-linecap:butt; stroke-linejoin:round; stroke-width:16; stroke-opacity:1; fill:none\" points=\"\n",
       "  255.035,87.9763 296.598,142.263 338.162,194.288 379.726,244.051 421.29,291.552 462.853,336.791 504.417,379.769 545.981,420.484 587.544,458.937 629.108,495.128 \n",
       "  670.672,529.058 712.236,560.725 753.799,590.131 795.363,617.274 836.927,642.156 878.491,664.775 920.054,685.133 961.618,703.228 1003.18,719.062 1044.75,732.634 \n",
       "  1086.31,743.944 1127.87,752.992 1169.44,759.777 1211,764.301 1252.56,766.563 1294.13,766.563 1335.69,764.301 1377.26,759.777 1418.82,752.992 1460.38,743.944 \n",
       "  1501.95,732.634 1543.51,719.062 1585.07,703.228 1626.64,685.133 1668.2,664.775 1709.77,642.156 1751.33,617.274 1792.89,590.131 1834.46,560.725 1876.02,529.058 \n",
       "  1917.58,495.128 1959.15,458.937 2000.71,420.484 2042.27,379.769 2083.84,336.791 2125.4,291.552 2166.97,244.051 2208.53,194.288 2250.09,142.263 2291.66,87.9763 \n",
       "  \n",
       "  \"/>\n",
       "<polyline clip-path=\"url(#clip512)\" style=\"stroke:#c271d2; stroke-linecap:butt; stroke-linejoin:round; stroke-width:16; stroke-opacity:1; fill:none\" points=\"\n",
       "  255.035,1445.72 296.598,1365.94 338.162,1292.66 379.726,1225.63 421.29,1164.54 462.853,1109.13 504.417,1059.13 545.981,1014.25 587.544,974.213 629.108,938.749 \n",
       "  670.672,907.578 712.236,880.423 753.799,857.007 795.363,837.053 836.927,820.285 878.491,806.424 920.054,795.195 961.618,786.321 1003.18,779.523 1044.75,774.526 \n",
       "  1086.31,771.053 1127.87,768.825 1169.44,767.567 1211,767.002 1252.56,766.852 1294.13,766.84 1335.69,766.69 1377.26,766.125 1418.82,764.867 1460.38,762.639 \n",
       "  1501.95,759.166 1543.51,754.169 1585.07,747.371 1626.64,738.497 1668.2,727.268 1709.77,713.407 1751.33,696.639 1792.89,676.685 1834.46,653.269 1876.02,626.114 \n",
       "  1917.58,594.943 1959.15,559.479 2000.71,519.444 2042.27,474.563 2083.84,424.558 2125.4,369.151 2166.97,308.067 2208.53,241.028 2250.09,167.756 2291.66,87.9763 \n",
       "  \n",
       "  \"/>\n",
       "<path clip-path=\"url(#clip510)\" d=\"\n",
       "M1959.71 484.018 L2280.8 484.018 L2280.8 95.2176 L1959.71 95.2176  Z\n",
       "  \" fill=\"#ffffff\" fill-rule=\"evenodd\" fill-opacity=\"1\"/>\n",
       "<polyline clip-path=\"url(#clip510)\" style=\"stroke:#000000; stroke-linecap:butt; stroke-linejoin:round; stroke-width:4; stroke-opacity:1; fill:none\" points=\"\n",
       "  1959.71,484.018 2280.8,484.018 2280.8,95.2176 1959.71,95.2176 1959.71,484.018 \n",
       "  \"/>\n",
       "<polyline clip-path=\"url(#clip510)\" style=\"stroke:#009af9; stroke-linecap:butt; stroke-linejoin:round; stroke-width:6; stroke-opacity:1; fill:none\" points=\"\n",
       "  1983.7,172.978 2127.62,172.978 \n",
       "  \"/>\n",
       "<path clip-path=\"url(#clip510)\" d=\"M2172.37 202.509 Q2169.66 209.453 2167.09 211.571 Q2164.52 213.689 2160.22 213.689 L2155.11 213.689 L2155.11 208.342 L2158.86 208.342 Q2161.5 208.342 2162.96 207.092 Q2164.42 205.842 2166.19 201.189 L2167.34 198.273 L2151.61 160.009 L2158.38 160.009 L2170.53 190.425 L2182.68 160.009 L2189.45 160.009 L2172.37 202.509 Z\" fill=\"#000000\" fill-rule=\"evenodd\" fill-opacity=\"1\" /><path clip-path=\"url(#clip510)\" d=\"M2200.39 192.995 L2211.85 192.995 L2211.85 153.446 L2199.38 155.946 L2199.38 149.558 L2211.78 147.058 L2218.79 147.058 L2218.79 192.995 L2230.25 192.995 L2230.25 198.898 L2200.39 198.898 L2200.39 192.995 Z\" fill=\"#000000\" fill-rule=\"evenodd\" fill-opacity=\"1\" /><polyline clip-path=\"url(#clip510)\" style=\"stroke:#e26f46; stroke-linecap:butt; stroke-linejoin:round; stroke-width:6; stroke-opacity:1; fill:none\" points=\"\n",
       "  1983.7,250.738 2127.62,250.738 \n",
       "  \"/>\n",
       "<path clip-path=\"url(#clip510)\" d=\"M2172.37 280.269 Q2169.66 287.213 2167.09 289.331 Q2164.52 291.449 2160.22 291.449 L2155.11 291.449 L2155.11 286.102 L2158.86 286.102 Q2161.5 286.102 2162.96 284.852 Q2164.42 283.602 2166.19 278.949 L2167.34 276.033 L2151.61 237.769 L2158.38 237.769 L2170.53 268.185 L2182.68 237.769 L2189.45 237.769 L2172.37 280.269 Z\" fill=\"#000000\" fill-rule=\"evenodd\" fill-opacity=\"1\" /><path clip-path=\"url(#clip510)\" d=\"M2205.22 270.755 L2229.7 270.755 L2229.7 276.658 L2196.78 276.658 L2196.78 270.755 Q2200.77 266.623 2207.65 259.678 Q2214.56 252.699 2216.33 250.685 Q2219.7 246.901 2221.02 244.297 Q2222.37 241.658 2222.37 239.123 Q2222.37 234.991 2219.45 232.387 Q2216.57 229.783 2211.92 229.783 Q2208.62 229.783 2204.94 230.929 Q2201.29 232.074 2197.13 234.401 L2197.13 227.318 Q2201.36 225.616 2205.04 224.748 Q2208.72 223.88 2211.78 223.88 Q2219.84 223.88 2224.63 227.908 Q2229.42 231.936 2229.42 238.672 Q2229.42 241.866 2228.2 244.748 Q2227.02 247.595 2223.86 251.484 Q2223 252.491 2218.34 257.317 Q2213.69 262.109 2205.22 270.755 Z\" fill=\"#000000\" fill-rule=\"evenodd\" fill-opacity=\"1\" /><polyline clip-path=\"url(#clip510)\" style=\"stroke:#3da44d; stroke-linecap:butt; stroke-linejoin:round; stroke-width:6; stroke-opacity:1; fill:none\" points=\"\n",
       "  1983.7,328.498 2127.62,328.498 \n",
       "  \"/>\n",
       "<path clip-path=\"url(#clip510)\" d=\"M2172.37 358.029 Q2169.66 364.973 2167.09 367.091 Q2164.52 369.209 2160.22 369.209 L2155.11 369.209 L2155.11 363.862 L2158.86 363.862 Q2161.5 363.862 2162.96 362.612 Q2164.42 361.362 2166.19 356.709 L2167.34 353.793 L2151.61 315.529 L2158.38 315.529 L2170.53 345.945 L2182.68 315.529 L2189.45 315.529 L2172.37 358.029 Z\" fill=\"#000000\" fill-rule=\"evenodd\" fill-opacity=\"1\" /><path clip-path=\"url(#clip510)\" d=\"M2220.43 326.466 Q2225.46 327.543 2228.27 330.945 Q2231.12 334.348 2231.12 339.348 Q2231.12 347.022 2225.84 351.223 Q2220.56 355.424 2210.84 355.424 Q2207.58 355.424 2204.11 354.765 Q2200.67 354.14 2196.99 352.855 L2196.99 346.084 Q2199.9 347.786 2203.38 348.654 Q2206.85 349.522 2210.63 349.522 Q2217.23 349.522 2220.67 346.918 Q2224.14 344.313 2224.14 339.348 Q2224.14 334.765 2220.91 332.195 Q2217.72 329.591 2211.99 329.591 L2205.95 329.591 L2205.95 323.827 L2212.27 323.827 Q2217.44 323.827 2220.18 321.779 Q2222.93 319.696 2222.93 315.807 Q2222.93 311.814 2220.08 309.696 Q2217.27 307.543 2211.99 307.543 Q2209.11 307.543 2205.81 308.168 Q2202.51 308.793 2198.55 310.112 L2198.55 303.862 Q2202.54 302.751 2206.02 302.196 Q2209.52 301.64 2212.61 301.64 Q2220.6 301.64 2225.25 305.286 Q2229.9 308.897 2229.9 315.077 Q2229.9 319.383 2227.44 322.369 Q2224.97 325.32 2220.43 326.466 Z\" fill=\"#000000\" fill-rule=\"evenodd\" fill-opacity=\"1\" /><polyline clip-path=\"url(#clip510)\" style=\"stroke:#c271d2; stroke-linecap:butt; stroke-linejoin:round; stroke-width:6; stroke-opacity:1; fill:none\" points=\"\n",
       "  1983.7,406.258 2127.62,406.258 \n",
       "  \"/>\n",
       "<path clip-path=\"url(#clip510)\" d=\"M2172.37 435.789 Q2169.66 442.733 2167.09 444.851 Q2164.52 446.969 2160.22 446.969 L2155.11 446.969 L2155.11 441.622 L2158.86 441.622 Q2161.5 441.622 2162.96 440.372 Q2164.42 439.122 2166.19 434.469 L2167.34 431.553 L2151.61 393.289 L2158.38 393.289 L2170.53 423.705 L2182.68 393.289 L2189.45 393.289 L2172.37 435.789 Z\" fill=\"#000000\" fill-rule=\"evenodd\" fill-opacity=\"1\" /><path clip-path=\"url(#clip510)\" d=\"M2218.45 386.449 L2200.74 414.122 L2218.45 414.122 L2218.45 386.449 M2216.61 380.338 L2225.43 380.338 L2225.43 414.122 L2232.82 414.122 L2232.82 419.955 L2225.43 419.955 L2225.43 432.178 L2218.45 432.178 L2218.45 419.955 L2195.04 419.955 L2195.04 413.185 L2216.61 380.338 Z\" fill=\"#000000\" fill-rule=\"evenodd\" fill-opacity=\"1\" /></svg>\n"
      ]
     },
     "execution_count": 67,
     "metadata": {},
     "output_type": "execute_result"
    }
   ],
   "source": [
    "x = LinRange(-1, 1, 50)\n",
    "V = vander(x, 4)\n",
    "plot(x, V)"
   ]
  },
  {
   "cell_type": "markdown",
   "id": "ce88943a",
   "metadata": {
    "slideshow": {
     "slide_type": "slide"
    }
   },
   "source": [
    "# Fitting is linear algebra\n",
    "\n",
    "$$ \\underbrace{\\begin{bmatrix} 1 \\Bigg| x \\Bigg| x^2 \\Bigg| x^3 \\Bigg| \\dotsb \\end{bmatrix}}_{V(x)} \\Big[ p \\Big] = \\Bigg[ y \\Bigg]$$"
   ]
  },
  {
   "cell_type": "code",
   "execution_count": 77,
   "id": "451865ac",
   "metadata": {
    "cell_style": "split"
   },
   "outputs": [
    {
     "data": {
      "image/svg+xml": [
       "<?xml version=\"1.0\" encoding=\"utf-8\"?>\n",
       "<svg xmlns=\"http://www.w3.org/2000/svg\" xmlns:xlink=\"http://www.w3.org/1999/xlink\" width=\"600\" height=\"400\" viewBox=\"0 0 2400 1600\">\n",
       "<defs>\n",
       "  <clipPath id=\"clip810\">\n",
       "    <rect x=\"0\" y=\"0\" width=\"2400\" height=\"1600\"/>\n",
       "  </clipPath>\n",
       "</defs>\n",
       "<path clip-path=\"url(#clip810)\" d=\"\n",
       "M0 1600 L2400 1600 L2400 0 L0 0  Z\n",
       "  \" fill=\"#ffffff\" fill-rule=\"evenodd\" fill-opacity=\"1\"/>\n",
       "<defs>\n",
       "  <clipPath id=\"clip811\">\n",
       "    <rect x=\"480\" y=\"0\" width=\"1681\" height=\"1600\"/>\n",
       "  </clipPath>\n",
       "</defs>\n",
       "<path clip-path=\"url(#clip810)\" d=\"\n",
       "M156.112 1486.45 L2352.76 1486.45 L2352.76 47.2441 L156.112 47.2441  Z\n",
       "  \" fill=\"#ffffff\" fill-rule=\"evenodd\" fill-opacity=\"1\"/>\n",
       "<defs>\n",
       "  <clipPath id=\"clip812\">\n",
       "    <rect x=\"156\" y=\"47\" width=\"2198\" height=\"1440\"/>\n",
       "  </clipPath>\n",
       "</defs>\n",
       "<polyline clip-path=\"url(#clip812)\" style=\"stroke:#000000; stroke-linecap:butt; stroke-linejoin:round; stroke-width:2; stroke-opacity:0.1; fill:none\" points=\"\n",
       "  401.132,1486.45 401.132,47.2441 \n",
       "  \"/>\n",
       "<polyline clip-path=\"url(#clip812)\" style=\"stroke:#000000; stroke-linecap:butt; stroke-linejoin:round; stroke-width:2; stroke-opacity:0.1; fill:none\" points=\"\n",
       "  705.883,1486.45 705.883,47.2441 \n",
       "  \"/>\n",
       "<polyline clip-path=\"url(#clip812)\" style=\"stroke:#000000; stroke-linecap:butt; stroke-linejoin:round; stroke-width:2; stroke-opacity:0.1; fill:none\" points=\"\n",
       "  1010.63,1486.45 1010.63,47.2441 \n",
       "  \"/>\n",
       "<polyline clip-path=\"url(#clip812)\" style=\"stroke:#000000; stroke-linecap:butt; stroke-linejoin:round; stroke-width:2; stroke-opacity:0.1; fill:none\" points=\"\n",
       "  1315.38,1486.45 1315.38,47.2441 \n",
       "  \"/>\n",
       "<polyline clip-path=\"url(#clip812)\" style=\"stroke:#000000; stroke-linecap:butt; stroke-linejoin:round; stroke-width:2; stroke-opacity:0.1; fill:none\" points=\"\n",
       "  1620.13,1486.45 1620.13,47.2441 \n",
       "  \"/>\n",
       "<polyline clip-path=\"url(#clip812)\" style=\"stroke:#000000; stroke-linecap:butt; stroke-linejoin:round; stroke-width:2; stroke-opacity:0.1; fill:none\" points=\"\n",
       "  1924.89,1486.45 1924.89,47.2441 \n",
       "  \"/>\n",
       "<polyline clip-path=\"url(#clip812)\" style=\"stroke:#000000; stroke-linecap:butt; stroke-linejoin:round; stroke-width:2; stroke-opacity:0.1; fill:none\" points=\"\n",
       "  2229.64,1486.45 2229.64,47.2441 \n",
       "  \"/>\n",
       "<polyline clip-path=\"url(#clip810)\" style=\"stroke:#000000; stroke-linecap:butt; stroke-linejoin:round; stroke-width:4; stroke-opacity:1; fill:none\" points=\"\n",
       "  156.112,1486.45 2352.76,1486.45 \n",
       "  \"/>\n",
       "<polyline clip-path=\"url(#clip810)\" style=\"stroke:#000000; stroke-linecap:butt; stroke-linejoin:round; stroke-width:4; stroke-opacity:1; fill:none\" points=\"\n",
       "  401.132,1486.45 401.132,1467.55 \n",
       "  \"/>\n",
       "<polyline clip-path=\"url(#clip810)\" style=\"stroke:#000000; stroke-linecap:butt; stroke-linejoin:round; stroke-width:4; stroke-opacity:1; fill:none\" points=\"\n",
       "  705.883,1486.45 705.883,1467.55 \n",
       "  \"/>\n",
       "<polyline clip-path=\"url(#clip810)\" style=\"stroke:#000000; stroke-linecap:butt; stroke-linejoin:round; stroke-width:4; stroke-opacity:1; fill:none\" points=\"\n",
       "  1010.63,1486.45 1010.63,1467.55 \n",
       "  \"/>\n",
       "<polyline clip-path=\"url(#clip810)\" style=\"stroke:#000000; stroke-linecap:butt; stroke-linejoin:round; stroke-width:4; stroke-opacity:1; fill:none\" points=\"\n",
       "  1315.38,1486.45 1315.38,1467.55 \n",
       "  \"/>\n",
       "<polyline clip-path=\"url(#clip810)\" style=\"stroke:#000000; stroke-linecap:butt; stroke-linejoin:round; stroke-width:4; stroke-opacity:1; fill:none\" points=\"\n",
       "  1620.13,1486.45 1620.13,1467.55 \n",
       "  \"/>\n",
       "<polyline clip-path=\"url(#clip810)\" style=\"stroke:#000000; stroke-linecap:butt; stroke-linejoin:round; stroke-width:4; stroke-opacity:1; fill:none\" points=\"\n",
       "  1924.89,1486.45 1924.89,1467.55 \n",
       "  \"/>\n",
       "<polyline clip-path=\"url(#clip810)\" style=\"stroke:#000000; stroke-linecap:butt; stroke-linejoin:round; stroke-width:4; stroke-opacity:1; fill:none\" points=\"\n",
       "  2229.64,1486.45 2229.64,1467.55 \n",
       "  \"/>\n",
       "<path clip-path=\"url(#clip810)\" d=\"M333.077 1532.02 L362.752 1532.02 L362.752 1535.95 L333.077 1535.95 L333.077 1532.02 Z\" fill=\"#000000\" fill-rule=\"evenodd\" fill-opacity=\"1\" /><path clip-path=\"url(#clip810)\" d=\"M382.845 1517.37 Q379.234 1517.37 377.405 1520.93 Q375.6 1524.47 375.6 1531.6 Q375.6 1538.71 377.405 1542.27 Q379.234 1545.82 382.845 1545.82 Q386.479 1545.82 388.285 1542.27 Q390.113 1538.71 390.113 1531.6 Q390.113 1524.47 388.285 1520.93 Q386.479 1517.37 382.845 1517.37 M382.845 1513.66 Q388.655 1513.66 391.711 1518.27 Q394.789 1522.85 394.789 1531.6 Q394.789 1540.33 391.711 1544.94 Q388.655 1549.52 382.845 1549.52 Q377.035 1549.52 373.956 1544.94 Q370.9 1540.33 370.9 1531.6 Q370.9 1522.85 373.956 1518.27 Q377.035 1513.66 382.845 1513.66 Z\" fill=\"#000000\" fill-rule=\"evenodd\" fill-opacity=\"1\" /><path clip-path=\"url(#clip810)\" d=\"M403.007 1542.97 L407.891 1542.97 L407.891 1548.85 L403.007 1548.85 L403.007 1542.97 Z\" fill=\"#000000\" fill-rule=\"evenodd\" fill-opacity=\"1\" /><path clip-path=\"url(#clip810)\" d=\"M416.896 1514.29 L439.118 1514.29 L439.118 1516.28 L426.571 1548.85 L421.687 1548.85 L433.493 1518.22 L416.896 1518.22 L416.896 1514.29 Z\" fill=\"#000000\" fill-rule=\"evenodd\" fill-opacity=\"1\" /><path clip-path=\"url(#clip810)\" d=\"M448.284 1514.29 L466.641 1514.29 L466.641 1518.22 L452.567 1518.22 L452.567 1526.7 Q453.585 1526.35 454.604 1526.19 Q455.622 1526 456.641 1526 Q462.428 1526 465.807 1529.17 Q469.187 1532.34 469.187 1537.76 Q469.187 1543.34 465.715 1546.44 Q462.243 1549.52 455.923 1549.52 Q453.747 1549.52 451.479 1549.15 Q449.233 1548.78 446.826 1548.04 L446.826 1543.34 Q448.909 1544.47 451.132 1545.03 Q453.354 1545.58 455.831 1545.58 Q459.835 1545.58 462.173 1543.48 Q464.511 1541.37 464.511 1537.76 Q464.511 1534.15 462.173 1532.04 Q459.835 1529.94 455.831 1529.94 Q453.956 1529.94 452.081 1530.35 Q450.229 1530.77 448.284 1531.65 L448.284 1514.29 Z\" fill=\"#000000\" fill-rule=\"evenodd\" fill-opacity=\"1\" /><path clip-path=\"url(#clip810)\" d=\"M637.33 1532.02 L667.005 1532.02 L667.005 1535.95 L637.33 1535.95 L637.33 1532.02 Z\" fill=\"#000000\" fill-rule=\"evenodd\" fill-opacity=\"1\" /><path clip-path=\"url(#clip810)\" d=\"M687.098 1517.37 Q683.487 1517.37 681.658 1520.93 Q679.853 1524.47 679.853 1531.6 Q679.853 1538.71 681.658 1542.27 Q683.487 1545.82 687.098 1545.82 Q690.732 1545.82 692.538 1542.27 Q694.366 1538.71 694.366 1531.6 Q694.366 1524.47 692.538 1520.93 Q690.732 1517.37 687.098 1517.37 M687.098 1513.66 Q692.908 1513.66 695.964 1518.27 Q699.042 1522.85 699.042 1531.6 Q699.042 1540.33 695.964 1544.94 Q692.908 1549.52 687.098 1549.52 Q681.288 1549.52 678.209 1544.94 Q675.154 1540.33 675.154 1531.6 Q675.154 1522.85 678.209 1518.27 Q681.288 1513.66 687.098 1513.66 Z\" fill=\"#000000\" fill-rule=\"evenodd\" fill-opacity=\"1\" /><path clip-path=\"url(#clip810)\" d=\"M707.26 1542.97 L712.144 1542.97 L712.144 1548.85 L707.26 1548.85 L707.26 1542.97 Z\" fill=\"#000000\" fill-rule=\"evenodd\" fill-opacity=\"1\" /><path clip-path=\"url(#clip810)\" d=\"M722.376 1514.29 L740.732 1514.29 L740.732 1518.22 L726.658 1518.22 L726.658 1526.7 Q727.676 1526.35 728.695 1526.19 Q729.713 1526 730.732 1526 Q736.519 1526 739.899 1529.17 Q743.278 1532.34 743.278 1537.76 Q743.278 1543.34 739.806 1546.44 Q736.334 1549.52 730.014 1549.52 Q727.838 1549.52 725.57 1549.15 Q723.325 1548.78 720.917 1548.04 L720.917 1543.34 Q723.001 1544.47 725.223 1545.03 Q727.445 1545.58 729.922 1545.58 Q733.926 1545.58 736.264 1543.48 Q738.602 1541.37 738.602 1537.76 Q738.602 1534.15 736.264 1532.04 Q733.926 1529.94 729.922 1529.94 Q728.047 1529.94 726.172 1530.35 Q724.32 1530.77 722.376 1531.65 L722.376 1514.29 Z\" fill=\"#000000\" fill-rule=\"evenodd\" fill-opacity=\"1\" /><path clip-path=\"url(#clip810)\" d=\"M762.491 1517.37 Q758.88 1517.37 757.051 1520.93 Q755.246 1524.47 755.246 1531.6 Q755.246 1538.71 757.051 1542.27 Q758.88 1545.82 762.491 1545.82 Q766.125 1545.82 767.931 1542.27 Q769.76 1538.71 769.76 1531.6 Q769.76 1524.47 767.931 1520.93 Q766.125 1517.37 762.491 1517.37 M762.491 1513.66 Q768.301 1513.66 771.357 1518.27 Q774.435 1522.85 774.435 1531.6 Q774.435 1540.33 771.357 1544.94 Q768.301 1549.52 762.491 1549.52 Q756.681 1549.52 753.602 1544.94 Q750.547 1540.33 750.547 1531.6 Q750.547 1522.85 753.602 1518.27 Q756.681 1513.66 762.491 1513.66 Z\" fill=\"#000000\" fill-rule=\"evenodd\" fill-opacity=\"1\" /><path clip-path=\"url(#clip810)\" d=\"M942.578 1532.02 L972.254 1532.02 L972.254 1535.95 L942.578 1535.95 L942.578 1532.02 Z\" fill=\"#000000\" fill-rule=\"evenodd\" fill-opacity=\"1\" /><path clip-path=\"url(#clip810)\" d=\"M992.346 1517.37 Q988.735 1517.37 986.907 1520.93 Q985.101 1524.47 985.101 1531.6 Q985.101 1538.71 986.907 1542.27 Q988.735 1545.82 992.346 1545.82 Q995.981 1545.82 997.786 1542.27 Q999.615 1538.71 999.615 1531.6 Q999.615 1524.47 997.786 1520.93 Q995.981 1517.37 992.346 1517.37 M992.346 1513.66 Q998.157 1513.66 1001.21 1518.27 Q1004.29 1522.85 1004.29 1531.6 Q1004.29 1540.33 1001.21 1544.94 Q998.157 1549.52 992.346 1549.52 Q986.536 1549.52 983.458 1544.94 Q980.402 1540.33 980.402 1531.6 Q980.402 1522.85 983.458 1518.27 Q986.536 1513.66 992.346 1513.66 Z\" fill=\"#000000\" fill-rule=\"evenodd\" fill-opacity=\"1\" /><path clip-path=\"url(#clip810)\" d=\"M1012.51 1542.97 L1017.39 1542.97 L1017.39 1548.85 L1012.51 1548.85 L1012.51 1542.97 Z\" fill=\"#000000\" fill-rule=\"evenodd\" fill-opacity=\"1\" /><path clip-path=\"url(#clip810)\" d=\"M1031.61 1544.91 L1047.92 1544.91 L1047.92 1548.85 L1025.98 1548.85 L1025.98 1544.91 Q1028.64 1542.16 1033.23 1537.53 Q1037.83 1532.88 1039.01 1531.53 Q1041.26 1529.01 1042.14 1527.27 Q1043.04 1525.51 1043.04 1523.82 Q1043.04 1521.07 1041.1 1519.33 Q1039.17 1517.6 1036.07 1517.6 Q1033.87 1517.6 1031.42 1518.36 Q1028.99 1519.13 1026.21 1520.68 L1026.21 1515.95 Q1029.04 1514.82 1031.49 1514.24 Q1033.94 1513.66 1035.98 1513.66 Q1041.35 1513.66 1044.55 1516.35 Q1047.74 1519.03 1047.74 1523.52 Q1047.74 1525.65 1046.93 1527.57 Q1046.14 1529.47 1044.04 1532.07 Q1043.46 1532.74 1040.36 1535.95 Q1037.25 1539.15 1031.61 1544.91 Z\" fill=\"#000000\" fill-rule=\"evenodd\" fill-opacity=\"1\" /><path clip-path=\"url(#clip810)\" d=\"M1057.79 1514.29 L1076.14 1514.29 L1076.14 1518.22 L1062.07 1518.22 L1062.07 1526.7 Q1063.09 1526.35 1064.11 1526.19 Q1065.12 1526 1066.14 1526 Q1071.93 1526 1075.31 1529.17 Q1078.69 1532.34 1078.69 1537.76 Q1078.69 1543.34 1075.22 1546.44 Q1071.74 1549.52 1065.42 1549.52 Q1063.25 1549.52 1060.98 1549.15 Q1058.73 1548.78 1056.33 1548.04 L1056.33 1543.34 Q1058.41 1544.47 1060.63 1545.03 Q1062.86 1545.58 1065.33 1545.58 Q1069.34 1545.58 1071.67 1543.48 Q1074.01 1541.37 1074.01 1537.76 Q1074.01 1534.15 1071.67 1532.04 Q1069.34 1529.94 1065.33 1529.94 Q1063.46 1529.94 1061.58 1530.35 Q1059.73 1530.77 1057.79 1531.65 L1057.79 1514.29 Z\" fill=\"#000000\" fill-rule=\"evenodd\" fill-opacity=\"1\" /><path clip-path=\"url(#clip810)\" d=\"M1277.69 1517.37 Q1274.08 1517.37 1272.25 1520.93 Q1270.44 1524.47 1270.44 1531.6 Q1270.44 1538.71 1272.25 1542.27 Q1274.08 1545.82 1277.69 1545.82 Q1281.32 1545.82 1283.13 1542.27 Q1284.96 1538.71 1284.96 1531.6 Q1284.96 1524.47 1283.13 1520.93 Q1281.32 1517.37 1277.69 1517.37 M1277.69 1513.66 Q1283.5 1513.66 1286.55 1518.27 Q1289.63 1522.85 1289.63 1531.6 Q1289.63 1540.33 1286.55 1544.94 Q1283.5 1549.52 1277.69 1549.52 Q1271.88 1549.52 1268.8 1544.94 Q1265.74 1540.33 1265.74 1531.6 Q1265.74 1522.85 1268.8 1518.27 Q1271.88 1513.66 1277.69 1513.66 Z\" fill=\"#000000\" fill-rule=\"evenodd\" fill-opacity=\"1\" /><path clip-path=\"url(#clip810)\" d=\"M1297.85 1542.97 L1302.73 1542.97 L1302.73 1548.85 L1297.85 1548.85 L1297.85 1542.97 Z\" fill=\"#000000\" fill-rule=\"evenodd\" fill-opacity=\"1\" /><path clip-path=\"url(#clip810)\" d=\"M1322.92 1517.37 Q1319.31 1517.37 1317.48 1520.93 Q1315.67 1524.47 1315.67 1531.6 Q1315.67 1538.71 1317.48 1542.27 Q1319.31 1545.82 1322.92 1545.82 Q1326.55 1545.82 1328.36 1542.27 Q1330.19 1538.71 1330.19 1531.6 Q1330.19 1524.47 1328.36 1520.93 Q1326.55 1517.37 1322.92 1517.37 M1322.92 1513.66 Q1328.73 1513.66 1331.78 1518.27 Q1334.86 1522.85 1334.86 1531.6 Q1334.86 1540.33 1331.78 1544.94 Q1328.73 1549.52 1322.92 1549.52 Q1317.11 1549.52 1314.03 1544.94 Q1310.97 1540.33 1310.97 1531.6 Q1310.97 1522.85 1314.03 1518.27 Q1317.11 1513.66 1322.92 1513.66 Z\" fill=\"#000000\" fill-rule=\"evenodd\" fill-opacity=\"1\" /><path clip-path=\"url(#clip810)\" d=\"M1353.08 1517.37 Q1349.47 1517.37 1347.64 1520.93 Q1345.84 1524.47 1345.84 1531.6 Q1345.84 1538.71 1347.64 1542.27 Q1349.47 1545.82 1353.08 1545.82 Q1356.71 1545.82 1358.52 1542.27 Q1360.35 1538.71 1360.35 1531.6 Q1360.35 1524.47 1358.52 1520.93 Q1356.71 1517.37 1353.08 1517.37 M1353.08 1513.66 Q1358.89 1513.66 1361.95 1518.27 Q1365.03 1522.85 1365.03 1531.6 Q1365.03 1540.33 1361.95 1544.94 Q1358.89 1549.52 1353.08 1549.52 Q1347.27 1549.52 1344.19 1544.94 Q1341.14 1540.33 1341.14 1531.6 Q1341.14 1522.85 1344.19 1518.27 Q1347.27 1513.66 1353.08 1513.66 Z\" fill=\"#000000\" fill-rule=\"evenodd\" fill-opacity=\"1\" /><path clip-path=\"url(#clip810)\" d=\"M1582.94 1517.37 Q1579.33 1517.37 1577.5 1520.93 Q1575.69 1524.47 1575.69 1531.6 Q1575.69 1538.71 1577.5 1542.27 Q1579.33 1545.82 1582.94 1545.82 Q1586.57 1545.82 1588.38 1542.27 Q1590.2 1538.71 1590.2 1531.6 Q1590.2 1524.47 1588.38 1520.93 Q1586.57 1517.37 1582.94 1517.37 M1582.94 1513.66 Q1588.75 1513.66 1591.8 1518.27 Q1594.88 1522.85 1594.88 1531.6 Q1594.88 1540.33 1591.8 1544.94 Q1588.75 1549.52 1582.94 1549.52 Q1577.13 1549.52 1574.05 1544.94 Q1570.99 1540.33 1570.99 1531.6 Q1570.99 1522.85 1574.05 1518.27 Q1577.13 1513.66 1582.94 1513.66 Z\" fill=\"#000000\" fill-rule=\"evenodd\" fill-opacity=\"1\" /><path clip-path=\"url(#clip810)\" d=\"M1603.1 1542.97 L1607.98 1542.97 L1607.98 1548.85 L1603.1 1548.85 L1603.1 1542.97 Z\" fill=\"#000000\" fill-rule=\"evenodd\" fill-opacity=\"1\" /><path clip-path=\"url(#clip810)\" d=\"M1622.2 1544.91 L1638.51 1544.91 L1638.51 1548.85 L1616.57 1548.85 L1616.57 1544.91 Q1619.23 1542.16 1623.82 1537.53 Q1628.42 1532.88 1629.6 1531.53 Q1631.85 1529.01 1632.73 1527.27 Q1633.63 1525.51 1633.63 1523.82 Q1633.63 1521.07 1631.69 1519.33 Q1629.76 1517.6 1626.66 1517.6 Q1624.46 1517.6 1622.01 1518.36 Q1619.58 1519.13 1616.8 1520.68 L1616.8 1515.95 Q1619.63 1514.82 1622.08 1514.24 Q1624.53 1513.66 1626.57 1513.66 Q1631.94 1513.66 1635.13 1516.35 Q1638.33 1519.03 1638.33 1523.52 Q1638.33 1525.65 1637.52 1527.57 Q1636.73 1529.47 1634.63 1532.07 Q1634.05 1532.74 1630.95 1535.95 Q1627.84 1539.15 1622.2 1544.91 Z\" fill=\"#000000\" fill-rule=\"evenodd\" fill-opacity=\"1\" /><path clip-path=\"url(#clip810)\" d=\"M1648.38 1514.29 L1666.73 1514.29 L1666.73 1518.22 L1652.66 1518.22 L1652.66 1526.7 Q1653.68 1526.35 1654.69 1526.19 Q1655.71 1526 1656.73 1526 Q1662.52 1526 1665.9 1529.17 Q1669.28 1532.34 1669.28 1537.76 Q1669.28 1543.34 1665.81 1546.44 Q1662.33 1549.52 1656.01 1549.52 Q1653.84 1549.52 1651.57 1549.15 Q1649.32 1548.78 1646.92 1548.04 L1646.92 1543.34 Q1649 1544.47 1651.22 1545.03 Q1653.44 1545.58 1655.92 1545.58 Q1659.93 1545.58 1662.26 1543.48 Q1664.6 1541.37 1664.6 1537.76 Q1664.6 1534.15 1662.26 1532.04 Q1659.93 1529.94 1655.92 1529.94 Q1654.05 1529.94 1652.17 1530.35 Q1650.32 1530.77 1648.38 1531.65 L1648.38 1514.29 Z\" fill=\"#000000\" fill-rule=\"evenodd\" fill-opacity=\"1\" /><path clip-path=\"url(#clip810)\" d=\"M1887.19 1517.37 Q1883.58 1517.37 1881.75 1520.93 Q1879.94 1524.47 1879.94 1531.6 Q1879.94 1538.71 1881.75 1542.27 Q1883.58 1545.82 1887.19 1545.82 Q1890.82 1545.82 1892.63 1542.27 Q1894.46 1538.71 1894.46 1531.6 Q1894.46 1524.47 1892.63 1520.93 Q1890.82 1517.37 1887.19 1517.37 M1887.19 1513.66 Q1893 1513.66 1896.05 1518.27 Q1899.13 1522.85 1899.13 1531.6 Q1899.13 1540.33 1896.05 1544.94 Q1893 1549.52 1887.19 1549.52 Q1881.38 1549.52 1878.3 1544.94 Q1875.24 1540.33 1875.24 1531.6 Q1875.24 1522.85 1878.3 1518.27 Q1881.38 1513.66 1887.19 1513.66 Z\" fill=\"#000000\" fill-rule=\"evenodd\" fill-opacity=\"1\" /><path clip-path=\"url(#clip810)\" d=\"M1907.35 1542.97 L1912.24 1542.97 L1912.24 1548.85 L1907.35 1548.85 L1907.35 1542.97 Z\" fill=\"#000000\" fill-rule=\"evenodd\" fill-opacity=\"1\" /><path clip-path=\"url(#clip810)\" d=\"M1922.47 1514.29 L1940.82 1514.29 L1940.82 1518.22 L1926.75 1518.22 L1926.75 1526.7 Q1927.77 1526.35 1928.79 1526.19 Q1929.8 1526 1930.82 1526 Q1936.61 1526 1939.99 1529.17 Q1943.37 1532.34 1943.37 1537.76 Q1943.37 1543.34 1939.9 1546.44 Q1936.43 1549.52 1930.11 1549.52 Q1927.93 1549.52 1925.66 1549.15 Q1923.42 1548.78 1921.01 1548.04 L1921.01 1543.34 Q1923.09 1544.47 1925.31 1545.03 Q1927.54 1545.58 1930.01 1545.58 Q1934.02 1545.58 1936.36 1543.48 Q1938.69 1541.37 1938.69 1537.76 Q1938.69 1534.15 1936.36 1532.04 Q1934.02 1529.94 1930.01 1529.94 Q1928.14 1529.94 1926.26 1530.35 Q1924.41 1530.77 1922.47 1531.65 L1922.47 1514.29 Z\" fill=\"#000000\" fill-rule=\"evenodd\" fill-opacity=\"1\" /><path clip-path=\"url(#clip810)\" d=\"M1962.58 1517.37 Q1958.97 1517.37 1957.14 1520.93 Q1955.34 1524.47 1955.34 1531.6 Q1955.34 1538.71 1957.14 1542.27 Q1958.97 1545.82 1962.58 1545.82 Q1966.22 1545.82 1968.02 1542.27 Q1969.85 1538.71 1969.85 1531.6 Q1969.85 1524.47 1968.02 1520.93 Q1966.22 1517.37 1962.58 1517.37 M1962.58 1513.66 Q1968.39 1513.66 1971.45 1518.27 Q1974.53 1522.85 1974.53 1531.6 Q1974.53 1540.33 1971.45 1544.94 Q1968.39 1549.52 1962.58 1549.52 Q1956.77 1549.52 1953.69 1544.94 Q1950.64 1540.33 1950.64 1531.6 Q1950.64 1522.85 1953.69 1518.27 Q1956.77 1513.66 1962.58 1513.66 Z\" fill=\"#000000\" fill-rule=\"evenodd\" fill-opacity=\"1\" /><path clip-path=\"url(#clip810)\" d=\"M2192.44 1517.37 Q2188.83 1517.37 2187 1520.93 Q2185.19 1524.47 2185.19 1531.6 Q2185.19 1538.71 2187 1542.27 Q2188.83 1545.82 2192.44 1545.82 Q2196.07 1545.82 2197.88 1542.27 Q2199.71 1538.71 2199.71 1531.6 Q2199.71 1524.47 2197.88 1520.93 Q2196.07 1517.37 2192.44 1517.37 M2192.44 1513.66 Q2198.25 1513.66 2201.3 1518.27 Q2204.38 1522.85 2204.38 1531.6 Q2204.38 1540.33 2201.3 1544.94 Q2198.25 1549.52 2192.44 1549.52 Q2186.63 1549.52 2183.55 1544.94 Q2180.49 1540.33 2180.49 1531.6 Q2180.49 1522.85 2183.55 1518.27 Q2186.63 1513.66 2192.44 1513.66 Z\" fill=\"#000000\" fill-rule=\"evenodd\" fill-opacity=\"1\" /><path clip-path=\"url(#clip810)\" d=\"M2212.6 1542.97 L2217.48 1542.97 L2217.48 1548.85 L2212.6 1548.85 L2212.6 1542.97 Z\" fill=\"#000000\" fill-rule=\"evenodd\" fill-opacity=\"1\" /><path clip-path=\"url(#clip810)\" d=\"M2226.49 1514.29 L2248.71 1514.29 L2248.71 1516.28 L2236.16 1548.85 L2231.28 1548.85 L2243.09 1518.22 L2226.49 1518.22 L2226.49 1514.29 Z\" fill=\"#000000\" fill-rule=\"evenodd\" fill-opacity=\"1\" /><path clip-path=\"url(#clip810)\" d=\"M2257.88 1514.29 L2276.23 1514.29 L2276.23 1518.22 L2262.16 1518.22 L2262.16 1526.7 Q2263.18 1526.35 2264.2 1526.19 Q2265.22 1526 2266.23 1526 Q2272.02 1526 2275.4 1529.17 Q2278.78 1532.34 2278.78 1537.76 Q2278.78 1543.34 2275.31 1546.44 Q2271.84 1549.52 2265.52 1549.52 Q2263.34 1549.52 2261.07 1549.15 Q2258.83 1548.78 2256.42 1548.04 L2256.42 1543.34 Q2258.5 1544.47 2260.72 1545.03 Q2262.95 1545.58 2265.42 1545.58 Q2269.43 1545.58 2271.77 1543.48 Q2274.1 1541.37 2274.1 1537.76 Q2274.1 1534.15 2271.77 1532.04 Q2269.43 1529.94 2265.42 1529.94 Q2263.55 1529.94 2261.67 1530.35 Q2259.82 1530.77 2257.88 1531.65 L2257.88 1514.29 Z\" fill=\"#000000\" fill-rule=\"evenodd\" fill-opacity=\"1\" /><polyline clip-path=\"url(#clip812)\" style=\"stroke:#000000; stroke-linecap:butt; stroke-linejoin:round; stroke-width:2; stroke-opacity:0.1; fill:none\" points=\"\n",
       "  156.112,1341.27 2352.76,1341.27 \n",
       "  \"/>\n",
       "<polyline clip-path=\"url(#clip812)\" style=\"stroke:#000000; stroke-linecap:butt; stroke-linejoin:round; stroke-width:2; stroke-opacity:0.1; fill:none\" points=\"\n",
       "  156.112,1080.17 2352.76,1080.17 \n",
       "  \"/>\n",
       "<polyline clip-path=\"url(#clip812)\" style=\"stroke:#000000; stroke-linecap:butt; stroke-linejoin:round; stroke-width:2; stroke-opacity:0.1; fill:none\" points=\"\n",
       "  156.112,819.067 2352.76,819.067 \n",
       "  \"/>\n",
       "<polyline clip-path=\"url(#clip812)\" style=\"stroke:#000000; stroke-linecap:butt; stroke-linejoin:round; stroke-width:2; stroke-opacity:0.1; fill:none\" points=\"\n",
       "  156.112,557.963 2352.76,557.963 \n",
       "  \"/>\n",
       "<polyline clip-path=\"url(#clip812)\" style=\"stroke:#000000; stroke-linecap:butt; stroke-linejoin:round; stroke-width:2; stroke-opacity:0.1; fill:none\" points=\"\n",
       "  156.112,296.859 2352.76,296.859 \n",
       "  \"/>\n",
       "<polyline clip-path=\"url(#clip810)\" style=\"stroke:#000000; stroke-linecap:butt; stroke-linejoin:round; stroke-width:4; stroke-opacity:1; fill:none\" points=\"\n",
       "  156.112,1486.45 156.112,47.2441 \n",
       "  \"/>\n",
       "<polyline clip-path=\"url(#clip810)\" style=\"stroke:#000000; stroke-linecap:butt; stroke-linejoin:round; stroke-width:4; stroke-opacity:1; fill:none\" points=\"\n",
       "  156.112,1341.27 175.01,1341.27 \n",
       "  \"/>\n",
       "<polyline clip-path=\"url(#clip810)\" style=\"stroke:#000000; stroke-linecap:butt; stroke-linejoin:round; stroke-width:4; stroke-opacity:1; fill:none\" points=\"\n",
       "  156.112,1080.17 175.01,1080.17 \n",
       "  \"/>\n",
       "<polyline clip-path=\"url(#clip810)\" style=\"stroke:#000000; stroke-linecap:butt; stroke-linejoin:round; stroke-width:4; stroke-opacity:1; fill:none\" points=\"\n",
       "  156.112,819.067 175.01,819.067 \n",
       "  \"/>\n",
       "<polyline clip-path=\"url(#clip810)\" style=\"stroke:#000000; stroke-linecap:butt; stroke-linejoin:round; stroke-width:4; stroke-opacity:1; fill:none\" points=\"\n",
       "  156.112,557.963 175.01,557.963 \n",
       "  \"/>\n",
       "<polyline clip-path=\"url(#clip810)\" style=\"stroke:#000000; stroke-linecap:butt; stroke-linejoin:round; stroke-width:4; stroke-opacity:1; fill:none\" points=\"\n",
       "  156.112,296.859 175.01,296.859 \n",
       "  \"/>\n",
       "<path clip-path=\"url(#clip810)\" d=\"M62.9365 1327.07 Q59.3254 1327.07 57.4967 1330.64 Q55.6912 1334.18 55.6912 1341.31 Q55.6912 1348.42 57.4967 1351.98 Q59.3254 1355.52 62.9365 1355.52 Q66.5707 1355.52 68.3763 1351.98 Q70.205 1348.42 70.205 1341.31 Q70.205 1334.18 68.3763 1330.64 Q66.5707 1327.07 62.9365 1327.07 M62.9365 1323.37 Q68.7467 1323.37 71.8022 1327.98 Q74.8809 1332.56 74.8809 1341.31 Q74.8809 1350.04 71.8022 1354.64 Q68.7467 1359.23 62.9365 1359.23 Q57.1264 1359.23 54.0477 1354.64 Q50.9921 1350.04 50.9921 1341.31 Q50.9921 1332.56 54.0477 1327.98 Q57.1264 1323.37 62.9365 1323.37 Z\" fill=\"#000000\" fill-rule=\"evenodd\" fill-opacity=\"1\" /><path clip-path=\"url(#clip810)\" d=\"M83.0984 1352.67 L87.9827 1352.67 L87.9827 1358.55 L83.0984 1358.55 L83.0984 1352.67 Z\" fill=\"#000000\" fill-rule=\"evenodd\" fill-opacity=\"1\" /><path clip-path=\"url(#clip810)\" d=\"M108.168 1327.07 Q104.557 1327.07 102.728 1330.64 Q100.922 1334.18 100.922 1341.31 Q100.922 1348.42 102.728 1351.98 Q104.557 1355.52 108.168 1355.52 Q111.802 1355.52 113.608 1351.98 Q115.436 1348.42 115.436 1341.31 Q115.436 1334.18 113.608 1330.64 Q111.802 1327.07 108.168 1327.07 M108.168 1323.37 Q113.978 1323.37 117.033 1327.98 Q120.112 1332.56 120.112 1341.31 Q120.112 1350.04 117.033 1354.64 Q113.978 1359.23 108.168 1359.23 Q102.358 1359.23 99.2789 1354.64 Q96.2234 1350.04 96.2234 1341.31 Q96.2234 1332.56 99.2789 1327.98 Q102.358 1323.37 108.168 1323.37 Z\" fill=\"#000000\" fill-rule=\"evenodd\" fill-opacity=\"1\" /><path clip-path=\"url(#clip810)\" d=\"M63.9319 1065.97 Q60.3208 1065.97 58.4921 1069.53 Q56.6865 1073.08 56.6865 1080.21 Q56.6865 1087.31 58.4921 1090.88 Q60.3208 1094.42 63.9319 1094.42 Q67.5661 1094.42 69.3717 1090.88 Q71.2004 1087.31 71.2004 1080.21 Q71.2004 1073.08 69.3717 1069.53 Q67.5661 1065.97 63.9319 1065.97 M63.9319 1062.27 Q69.742 1062.27 72.7976 1066.87 Q75.8763 1071.46 75.8763 1080.21 Q75.8763 1088.93 72.7976 1093.54 Q69.742 1098.12 63.9319 1098.12 Q58.1217 1098.12 55.043 1093.54 Q51.9875 1088.93 51.9875 1080.21 Q51.9875 1071.46 55.043 1066.87 Q58.1217 1062.27 63.9319 1062.27 Z\" fill=\"#000000\" fill-rule=\"evenodd\" fill-opacity=\"1\" /><path clip-path=\"url(#clip810)\" d=\"M84.0938 1091.57 L88.978 1091.57 L88.978 1097.45 L84.0938 1097.45 L84.0938 1091.57 Z\" fill=\"#000000\" fill-rule=\"evenodd\" fill-opacity=\"1\" /><path clip-path=\"url(#clip810)\" d=\"M99.2095 1062.89 L117.566 1062.89 L117.566 1066.83 L103.492 1066.83 L103.492 1075.3 Q104.51 1074.95 105.529 1074.79 Q106.547 1074.6 107.566 1074.6 Q113.353 1074.6 116.733 1077.77 Q120.112 1080.95 120.112 1086.36 Q120.112 1091.94 116.64 1095.04 Q113.168 1098.12 106.848 1098.12 Q104.672 1098.12 102.404 1097.75 Q100.159 1097.38 97.7511 1096.64 L97.7511 1091.94 Q99.8345 1093.08 102.057 1093.63 Q104.279 1094.19 106.756 1094.19 Q110.76 1094.19 113.098 1092.08 Q115.436 1089.97 115.436 1086.36 Q115.436 1082.75 113.098 1080.64 Q110.76 1078.54 106.756 1078.54 Q104.881 1078.54 103.006 1078.96 Q101.154 1079.37 99.2095 1080.25 L99.2095 1062.89 Z\" fill=\"#000000\" fill-rule=\"evenodd\" fill-opacity=\"1\" /><path clip-path=\"url(#clip810)\" d=\"M53.7467 832.412 L61.3856 832.412 L61.3856 806.046 L53.0754 807.713 L53.0754 803.453 L61.3393 801.787 L66.0152 801.787 L66.0152 832.412 L73.654 832.412 L73.654 836.347 L53.7467 836.347 L53.7467 832.412 Z\" fill=\"#000000\" fill-rule=\"evenodd\" fill-opacity=\"1\" /><path clip-path=\"url(#clip810)\" d=\"M83.0984 830.467 L87.9827 830.467 L87.9827 836.347 L83.0984 836.347 L83.0984 830.467 Z\" fill=\"#000000\" fill-rule=\"evenodd\" fill-opacity=\"1\" /><path clip-path=\"url(#clip810)\" d=\"M108.168 804.865 Q104.557 804.865 102.728 808.43 Q100.922 811.972 100.922 819.101 Q100.922 826.208 102.728 829.773 Q104.557 833.314 108.168 833.314 Q111.802 833.314 113.608 829.773 Q115.436 826.208 115.436 819.101 Q115.436 811.972 113.608 808.43 Q111.802 804.865 108.168 804.865 M108.168 801.162 Q113.978 801.162 117.033 805.768 Q120.112 810.351 120.112 819.101 Q120.112 827.828 117.033 832.435 Q113.978 837.018 108.168 837.018 Q102.358 837.018 99.2789 832.435 Q96.2234 827.828 96.2234 819.101 Q96.2234 810.351 99.2789 805.768 Q102.358 801.162 108.168 801.162 Z\" fill=\"#000000\" fill-rule=\"evenodd\" fill-opacity=\"1\" /><path clip-path=\"url(#clip810)\" d=\"M54.7421 571.308 L62.381 571.308 L62.381 544.942 L54.0708 546.609 L54.0708 542.35 L62.3347 540.683 L67.0106 540.683 L67.0106 571.308 L74.6494 571.308 L74.6494 575.243 L54.7421 575.243 L54.7421 571.308 Z\" fill=\"#000000\" fill-rule=\"evenodd\" fill-opacity=\"1\" /><path clip-path=\"url(#clip810)\" d=\"M84.0938 569.363 L88.978 569.363 L88.978 575.243 L84.0938 575.243 L84.0938 569.363 Z\" fill=\"#000000\" fill-rule=\"evenodd\" fill-opacity=\"1\" /><path clip-path=\"url(#clip810)\" d=\"M99.2095 540.683 L117.566 540.683 L117.566 544.618 L103.492 544.618 L103.492 553.09 Q104.51 552.743 105.529 552.581 Q106.547 552.396 107.566 552.396 Q113.353 552.396 116.733 555.567 Q120.112 558.738 120.112 564.155 Q120.112 569.734 116.64 572.836 Q113.168 575.914 106.848 575.914 Q104.672 575.914 102.404 575.544 Q100.159 575.174 97.7511 574.433 L97.7511 569.734 Q99.8345 570.868 102.057 571.424 Q104.279 571.979 106.756 571.979 Q110.76 571.979 113.098 569.873 Q115.436 567.766 115.436 564.155 Q115.436 560.544 113.098 558.438 Q110.76 556.331 106.756 556.331 Q104.881 556.331 103.006 556.748 Q101.154 557.164 99.2095 558.044 L99.2095 540.683 Z\" fill=\"#000000\" fill-rule=\"evenodd\" fill-opacity=\"1\" /><path clip-path=\"url(#clip810)\" d=\"M56.9643 310.204 L73.2837 310.204 L73.2837 314.139 L51.3393 314.139 L51.3393 310.204 Q54.0014 307.449 58.5847 302.82 Q63.1911 298.167 64.3717 296.825 Q66.617 294.301 67.4967 292.565 Q68.3994 290.806 68.3994 289.116 Q68.3994 286.362 66.455 284.626 Q64.5337 282.889 61.4319 282.889 Q59.2328 282.889 56.7791 283.653 Q54.3486 284.417 51.5708 285.968 L51.5708 281.246 Q54.3949 280.112 56.8486 279.533 Q59.3023 278.954 61.3393 278.954 Q66.7096 278.954 69.9041 281.639 Q73.0985 284.325 73.0985 288.815 Q73.0985 290.945 72.2883 292.866 Q71.5013 294.764 69.3948 297.357 Q68.8161 298.028 65.7143 301.246 Q62.6124 304.44 56.9643 310.204 Z\" fill=\"#000000\" fill-rule=\"evenodd\" fill-opacity=\"1\" /><path clip-path=\"url(#clip810)\" d=\"M83.0984 308.26 L87.9827 308.26 L87.9827 314.139 L83.0984 314.139 L83.0984 308.26 Z\" fill=\"#000000\" fill-rule=\"evenodd\" fill-opacity=\"1\" /><path clip-path=\"url(#clip810)\" d=\"M108.168 282.658 Q104.557 282.658 102.728 286.223 Q100.922 289.764 100.922 296.894 Q100.922 304 102.728 307.565 Q104.557 311.107 108.168 311.107 Q111.802 311.107 113.608 307.565 Q115.436 304 115.436 296.894 Q115.436 289.764 113.608 286.223 Q111.802 282.658 108.168 282.658 M108.168 278.954 Q113.978 278.954 117.033 283.561 Q120.112 288.144 120.112 296.894 Q120.112 305.621 117.033 310.227 Q113.978 314.811 108.168 314.811 Q102.358 314.811 99.2789 310.227 Q96.2234 305.621 96.2234 296.894 Q96.2234 288.144 99.2789 283.561 Q102.358 278.954 108.168 278.954 Z\" fill=\"#000000\" fill-rule=\"evenodd\" fill-opacity=\"1\" /><circle clip-path=\"url(#clip812)\" cx=\"218.281\" cy=\"819.067\" r=\"28\" fill=\"#009af9\" fill-rule=\"evenodd\" fill-opacity=\"1\" stroke=\"#000000\" stroke-opacity=\"1\" stroke-width=\"3.2\"/>\n",
       "<circle clip-path=\"url(#clip812)\" cx=\"1437.28\" cy=\"87.9763\" r=\"28\" fill=\"#009af9\" fill-rule=\"evenodd\" fill-opacity=\"1\" stroke=\"#000000\" stroke-opacity=\"1\" stroke-width=\"3.2\"/>\n",
       "<circle clip-path=\"url(#clip812)\" cx=\"1924.89\" cy=\"1445.72\" r=\"28\" fill=\"#009af9\" fill-rule=\"evenodd\" fill-opacity=\"1\" stroke=\"#000000\" stroke-opacity=\"1\" stroke-width=\"3.2\"/>\n",
       "<circle clip-path=\"url(#clip812)\" cx=\"2290.59\" cy=\"662.404\" r=\"28\" fill=\"#009af9\" fill-rule=\"evenodd\" fill-opacity=\"1\" stroke=\"#000000\" stroke-opacity=\"1\" stroke-width=\"3.2\"/>\n",
       "<path clip-path=\"url(#clip810)\" d=\"\n",
       "M1956.82 250.738 L2279.53 250.738 L2279.53 95.2176 L1956.82 95.2176  Z\n",
       "  \" fill=\"#ffffff\" fill-rule=\"evenodd\" fill-opacity=\"1\"/>\n",
       "<polyline clip-path=\"url(#clip810)\" style=\"stroke:#000000; stroke-linecap:butt; stroke-linejoin:round; stroke-width:4; stroke-opacity:1; fill:none\" points=\"\n",
       "  1956.82,250.738 2279.53,250.738 2279.53,95.2176 1956.82,95.2176 1956.82,250.738 \n",
       "  \"/>\n",
       "<circle clip-path=\"url(#clip810)\" cx=\"2054.45\" cy=\"172.978\" r=\"34\" fill=\"#009af9\" fill-rule=\"evenodd\" fill-opacity=\"1\" stroke=\"#000000\" stroke-opacity=\"1\" stroke-width=\"3.84\"/>\n",
       "<path clip-path=\"url(#clip810)\" d=\"M2172.84 202.509 Q2170.13 209.453 2167.56 211.571 Q2164.99 213.689 2160.69 213.689 L2155.58 213.689 L2155.58 208.342 L2159.33 208.342 Q2161.97 208.342 2163.43 207.092 Q2164.89 205.842 2166.66 201.189 L2167.8 198.273 L2152.07 160.009 L2158.85 160.009 L2171 190.425 L2183.15 160.009 L2189.92 160.009 L2172.84 202.509 Z\" fill=\"#000000\" fill-rule=\"evenodd\" fill-opacity=\"1\" /><path clip-path=\"url(#clip810)\" d=\"M2200.86 192.995 L2212.32 192.995 L2212.32 153.446 L2199.85 155.946 L2199.85 149.558 L2212.25 147.058 L2219.26 147.058 L2219.26 192.995 L2230.72 192.995 L2230.72 198.898 L2200.86 198.898 L2200.86 192.995 Z\" fill=\"#000000\" fill-rule=\"evenodd\" fill-opacity=\"1\" /></svg>\n"
      ]
     },
     "execution_count": 77,
     "metadata": {},
     "output_type": "execute_result"
    }
   ],
   "source": [
    "x1 = [-.9, 0.1, .5, .8]\n",
    "y1 = [1, 2.4, -.2, 1.3]\n",
    "scatter(x1, y1, markersize=8)"
   ]
  },
  {
   "cell_type": "code",
   "execution_count": 78,
   "id": "62a84cfe",
   "metadata": {
    "cell_style": "split"
   },
   "outputs": [
    {
     "data": {
      "image/svg+xml": [
       "<?xml version=\"1.0\" encoding=\"utf-8\"?>\n",
       "<svg xmlns=\"http://www.w3.org/2000/svg\" xmlns:xlink=\"http://www.w3.org/1999/xlink\" width=\"600\" height=\"400\" viewBox=\"0 0 2400 1600\">\n",
       "<defs>\n",
       "  <clipPath id=\"clip850\">\n",
       "    <rect x=\"0\" y=\"0\" width=\"2400\" height=\"1600\"/>\n",
       "  </clipPath>\n",
       "</defs>\n",
       "<path clip-path=\"url(#clip850)\" d=\"\n",
       "M0 1600 L2400 1600 L2400 0 L0 0  Z\n",
       "  \" fill=\"#ffffff\" fill-rule=\"evenodd\" fill-opacity=\"1\"/>\n",
       "<defs>\n",
       "  <clipPath id=\"clip851\">\n",
       "    <rect x=\"480\" y=\"0\" width=\"1681\" height=\"1600\"/>\n",
       "  </clipPath>\n",
       "</defs>\n",
       "<defs>\n",
       "  <clipPath id=\"clip852\">\n",
       "    <rect x=\"156\" y=\"47\" width=\"2198\" height=\"1440\"/>\n",
       "  </clipPath>\n",
       "</defs>\n",
       "<path clip-path=\"url(#clip850)\" d=\"\n",
       "M178.867 1486.45 L2352.76 1486.45 L2352.76 47.2441 L178.867 47.2441  Z\n",
       "  \" fill=\"#ffffff\" fill-rule=\"evenodd\" fill-opacity=\"1\"/>\n",
       "<defs>\n",
       "  <clipPath id=\"clip853\">\n",
       "    <rect x=\"178\" y=\"47\" width=\"2175\" height=\"1440\"/>\n",
       "  </clipPath>\n",
       "</defs>\n",
       "<polyline clip-path=\"url(#clip853)\" style=\"stroke:#000000; stroke-linecap:butt; stroke-linejoin:round; stroke-width:2; stroke-opacity:0.1; fill:none\" points=\"\n",
       "  428.191,1486.45 428.191,47.2441 \n",
       "  \"/>\n",
       "<polyline clip-path=\"url(#clip853)\" style=\"stroke:#000000; stroke-linecap:butt; stroke-linejoin:round; stroke-width:2; stroke-opacity:0.1; fill:none\" points=\"\n",
       "  918.555,1486.45 918.555,47.2441 \n",
       "  \"/>\n",
       "<polyline clip-path=\"url(#clip853)\" style=\"stroke:#000000; stroke-linecap:butt; stroke-linejoin:round; stroke-width:2; stroke-opacity:0.1; fill:none\" points=\"\n",
       "  1408.92,1486.45 1408.92,47.2441 \n",
       "  \"/>\n",
       "<polyline clip-path=\"url(#clip853)\" style=\"stroke:#000000; stroke-linecap:butt; stroke-linejoin:round; stroke-width:2; stroke-opacity:0.1; fill:none\" points=\"\n",
       "  1899.28,1486.45 1899.28,47.2441 \n",
       "  \"/>\n",
       "<polyline clip-path=\"url(#clip850)\" style=\"stroke:#000000; stroke-linecap:butt; stroke-linejoin:round; stroke-width:4; stroke-opacity:1; fill:none\" points=\"\n",
       "  178.867,1486.45 2352.76,1486.45 \n",
       "  \"/>\n",
       "<polyline clip-path=\"url(#clip850)\" style=\"stroke:#000000; stroke-linecap:butt; stroke-linejoin:round; stroke-width:4; stroke-opacity:1; fill:none\" points=\"\n",
       "  428.191,1486.45 428.191,1467.55 \n",
       "  \"/>\n",
       "<polyline clip-path=\"url(#clip850)\" style=\"stroke:#000000; stroke-linecap:butt; stroke-linejoin:round; stroke-width:4; stroke-opacity:1; fill:none\" points=\"\n",
       "  918.555,1486.45 918.555,1467.55 \n",
       "  \"/>\n",
       "<polyline clip-path=\"url(#clip850)\" style=\"stroke:#000000; stroke-linecap:butt; stroke-linejoin:round; stroke-width:4; stroke-opacity:1; fill:none\" points=\"\n",
       "  1408.92,1486.45 1408.92,1467.55 \n",
       "  \"/>\n",
       "<polyline clip-path=\"url(#clip850)\" style=\"stroke:#000000; stroke-linecap:butt; stroke-linejoin:round; stroke-width:4; stroke-opacity:1; fill:none\" points=\"\n",
       "  1899.28,1486.45 1899.28,1467.55 \n",
       "  \"/>\n",
       "<path clip-path=\"url(#clip850)\" d=\"M374.719 1532.02 L404.395 1532.02 L404.395 1535.95 L374.719 1535.95 L374.719 1532.02 Z\" fill=\"#000000\" fill-rule=\"evenodd\" fill-opacity=\"1\" /><path clip-path=\"url(#clip850)\" d=\"M415.298 1544.91 L422.936 1544.91 L422.936 1518.55 L414.626 1520.21 L414.626 1515.95 L422.89 1514.29 L427.566 1514.29 L427.566 1544.91 L435.205 1544.91 L435.205 1548.85 L415.298 1548.85 L415.298 1544.91 Z\" fill=\"#000000\" fill-rule=\"evenodd\" fill-opacity=\"1\" /><path clip-path=\"url(#clip850)\" d=\"M444.649 1542.97 L449.534 1542.97 L449.534 1548.85 L444.649 1548.85 L444.649 1542.97 Z\" fill=\"#000000\" fill-rule=\"evenodd\" fill-opacity=\"1\" /><path clip-path=\"url(#clip850)\" d=\"M469.719 1517.37 Q466.107 1517.37 464.279 1520.93 Q462.473 1524.47 462.473 1531.6 Q462.473 1538.71 464.279 1542.27 Q466.107 1545.82 469.719 1545.82 Q473.353 1545.82 475.158 1542.27 Q476.987 1538.71 476.987 1531.6 Q476.987 1524.47 475.158 1520.93 Q473.353 1517.37 469.719 1517.37 M469.719 1513.66 Q475.529 1513.66 478.584 1518.27 Q481.663 1522.85 481.663 1531.6 Q481.663 1540.33 478.584 1544.94 Q475.529 1549.52 469.719 1549.52 Q463.908 1549.52 460.83 1544.94 Q457.774 1540.33 457.774 1531.6 Q457.774 1522.85 460.83 1518.27 Q463.908 1513.66 469.719 1513.66 Z\" fill=\"#000000\" fill-rule=\"evenodd\" fill-opacity=\"1\" /><path clip-path=\"url(#clip850)\" d=\"M865.581 1532.02 L895.256 1532.02 L895.256 1535.95 L865.581 1535.95 L865.581 1532.02 Z\" fill=\"#000000\" fill-rule=\"evenodd\" fill-opacity=\"1\" /><path clip-path=\"url(#clip850)\" d=\"M915.349 1517.37 Q911.738 1517.37 909.909 1520.93 Q908.103 1524.47 908.103 1531.6 Q908.103 1538.71 909.909 1542.27 Q911.738 1545.82 915.349 1545.82 Q918.983 1545.82 920.789 1542.27 Q922.617 1538.71 922.617 1531.6 Q922.617 1524.47 920.789 1520.93 Q918.983 1517.37 915.349 1517.37 M915.349 1513.66 Q921.159 1513.66 924.215 1518.27 Q927.293 1522.85 927.293 1531.6 Q927.293 1540.33 924.215 1544.94 Q921.159 1549.52 915.349 1549.52 Q909.539 1549.52 906.46 1544.94 Q903.404 1540.33 903.404 1531.6 Q903.404 1522.85 906.46 1518.27 Q909.539 1513.66 915.349 1513.66 Z\" fill=\"#000000\" fill-rule=\"evenodd\" fill-opacity=\"1\" /><path clip-path=\"url(#clip850)\" d=\"M935.511 1542.97 L940.395 1542.97 L940.395 1548.85 L935.511 1548.85 L935.511 1542.97 Z\" fill=\"#000000\" fill-rule=\"evenodd\" fill-opacity=\"1\" /><path clip-path=\"url(#clip850)\" d=\"M950.626 1514.29 L968.983 1514.29 L968.983 1518.22 L954.909 1518.22 L954.909 1526.7 Q955.927 1526.35 956.946 1526.19 Q957.964 1526 958.983 1526 Q964.77 1526 968.149 1529.17 Q971.529 1532.34 971.529 1537.76 Q971.529 1543.34 968.057 1546.44 Q964.585 1549.52 958.265 1549.52 Q956.089 1549.52 953.821 1549.15 Q951.575 1548.78 949.168 1548.04 L949.168 1543.34 Q951.251 1544.47 953.474 1545.03 Q955.696 1545.58 958.173 1545.58 Q962.177 1545.58 964.515 1543.48 Q966.853 1541.37 966.853 1537.76 Q966.853 1534.15 964.515 1532.04 Q962.177 1529.94 958.173 1529.94 Q956.298 1529.94 954.423 1530.35 Q952.571 1530.77 950.626 1531.65 L950.626 1514.29 Z\" fill=\"#000000\" fill-rule=\"evenodd\" fill-opacity=\"1\" /><path clip-path=\"url(#clip850)\" d=\"M1386.3 1517.37 Q1382.69 1517.37 1380.86 1520.93 Q1379.06 1524.47 1379.06 1531.6 Q1379.06 1538.71 1380.86 1542.27 Q1382.69 1545.82 1386.3 1545.82 Q1389.94 1545.82 1391.74 1542.27 Q1393.57 1538.71 1393.57 1531.6 Q1393.57 1524.47 1391.74 1520.93 Q1389.94 1517.37 1386.3 1517.37 M1386.3 1513.66 Q1392.11 1513.66 1395.17 1518.27 Q1398.25 1522.85 1398.25 1531.6 Q1398.25 1540.33 1395.17 1544.94 Q1392.11 1549.52 1386.3 1549.52 Q1380.49 1549.52 1377.41 1544.94 Q1374.36 1540.33 1374.36 1531.6 Q1374.36 1522.85 1377.41 1518.27 Q1380.49 1513.66 1386.3 1513.66 Z\" fill=\"#000000\" fill-rule=\"evenodd\" fill-opacity=\"1\" /><path clip-path=\"url(#clip850)\" d=\"M1406.46 1542.97 L1411.35 1542.97 L1411.35 1548.85 L1406.46 1548.85 L1406.46 1542.97 Z\" fill=\"#000000\" fill-rule=\"evenodd\" fill-opacity=\"1\" /><path clip-path=\"url(#clip850)\" d=\"M1431.53 1517.37 Q1427.92 1517.37 1426.09 1520.93 Q1424.29 1524.47 1424.29 1531.6 Q1424.29 1538.71 1426.09 1542.27 Q1427.92 1545.82 1431.53 1545.82 Q1435.17 1545.82 1436.97 1542.27 Q1438.8 1538.71 1438.8 1531.6 Q1438.8 1524.47 1436.97 1520.93 Q1435.17 1517.37 1431.53 1517.37 M1431.53 1513.66 Q1437.34 1513.66 1440.4 1518.27 Q1443.48 1522.85 1443.48 1531.6 Q1443.48 1540.33 1440.4 1544.94 Q1437.34 1549.52 1431.53 1549.52 Q1425.72 1549.52 1422.65 1544.94 Q1419.59 1540.33 1419.59 1531.6 Q1419.59 1522.85 1422.65 1518.27 Q1425.72 1513.66 1431.53 1513.66 Z\" fill=\"#000000\" fill-rule=\"evenodd\" fill-opacity=\"1\" /><path clip-path=\"url(#clip850)\" d=\"M1877.16 1517.37 Q1873.55 1517.37 1871.72 1520.93 Q1869.92 1524.47 1869.92 1531.6 Q1869.92 1538.71 1871.72 1542.27 Q1873.55 1545.82 1877.16 1545.82 Q1880.8 1545.82 1882.6 1542.27 Q1884.43 1538.71 1884.43 1531.6 Q1884.43 1524.47 1882.6 1520.93 Q1880.8 1517.37 1877.16 1517.37 M1877.16 1513.66 Q1882.97 1513.66 1886.03 1518.27 Q1889.11 1522.85 1889.11 1531.6 Q1889.11 1540.33 1886.03 1544.94 Q1882.97 1549.52 1877.16 1549.52 Q1871.35 1549.52 1868.28 1544.94 Q1865.22 1540.33 1865.22 1531.6 Q1865.22 1522.85 1868.28 1518.27 Q1871.35 1513.66 1877.16 1513.66 Z\" fill=\"#000000\" fill-rule=\"evenodd\" fill-opacity=\"1\" /><path clip-path=\"url(#clip850)\" d=\"M1897.33 1542.97 L1902.21 1542.97 L1902.21 1548.85 L1897.33 1548.85 L1897.33 1542.97 Z\" fill=\"#000000\" fill-rule=\"evenodd\" fill-opacity=\"1\" /><path clip-path=\"url(#clip850)\" d=\"M1912.44 1514.29 L1930.8 1514.29 L1930.8 1518.22 L1916.72 1518.22 L1916.72 1526.7 Q1917.74 1526.35 1918.76 1526.19 Q1919.78 1526 1920.8 1526 Q1926.59 1526 1929.97 1529.17 Q1933.34 1532.34 1933.34 1537.76 Q1933.34 1543.34 1929.87 1546.44 Q1926.4 1549.52 1920.08 1549.52 Q1917.9 1549.52 1915.64 1549.15 Q1913.39 1548.78 1910.98 1548.04 L1910.98 1543.34 Q1913.07 1544.47 1915.29 1545.03 Q1917.51 1545.58 1919.99 1545.58 Q1923.99 1545.58 1926.33 1543.48 Q1928.67 1541.37 1928.67 1537.76 Q1928.67 1534.15 1926.33 1532.04 Q1923.99 1529.94 1919.99 1529.94 Q1918.11 1529.94 1916.24 1530.35 Q1914.39 1530.77 1912.44 1531.65 L1912.44 1514.29 Z\" fill=\"#000000\" fill-rule=\"evenodd\" fill-opacity=\"1\" /><polyline clip-path=\"url(#clip853)\" style=\"stroke:#000000; stroke-linecap:butt; stroke-linejoin:round; stroke-width:2; stroke-opacity:0.1; fill:none\" points=\"\n",
       "  178.867,1224.51 2352.76,1224.51 \n",
       "  \"/>\n",
       "<polyline clip-path=\"url(#clip853)\" style=\"stroke:#000000; stroke-linecap:butt; stroke-linejoin:round; stroke-width:2; stroke-opacity:0.1; fill:none\" points=\"\n",
       "  178.867,870.942 2352.76,870.942 \n",
       "  \"/>\n",
       "<polyline clip-path=\"url(#clip853)\" style=\"stroke:#000000; stroke-linecap:butt; stroke-linejoin:round; stroke-width:2; stroke-opacity:0.1; fill:none\" points=\"\n",
       "  178.867,517.37 2352.76,517.37 \n",
       "  \"/>\n",
       "<polyline clip-path=\"url(#clip853)\" style=\"stroke:#000000; stroke-linecap:butt; stroke-linejoin:round; stroke-width:2; stroke-opacity:0.1; fill:none\" points=\"\n",
       "  178.867,163.799 2352.76,163.799 \n",
       "  \"/>\n",
       "<polyline clip-path=\"url(#clip850)\" style=\"stroke:#000000; stroke-linecap:butt; stroke-linejoin:round; stroke-width:4; stroke-opacity:1; fill:none\" points=\"\n",
       "  178.867,1486.45 178.867,47.2441 \n",
       "  \"/>\n",
       "<polyline clip-path=\"url(#clip850)\" style=\"stroke:#000000; stroke-linecap:butt; stroke-linejoin:round; stroke-width:4; stroke-opacity:1; fill:none\" points=\"\n",
       "  178.867,1224.51 197.764,1224.51 \n",
       "  \"/>\n",
       "<polyline clip-path=\"url(#clip850)\" style=\"stroke:#000000; stroke-linecap:butt; stroke-linejoin:round; stroke-width:4; stroke-opacity:1; fill:none\" points=\"\n",
       "  178.867,870.942 197.764,870.942 \n",
       "  \"/>\n",
       "<polyline clip-path=\"url(#clip850)\" style=\"stroke:#000000; stroke-linecap:butt; stroke-linejoin:round; stroke-width:4; stroke-opacity:1; fill:none\" points=\"\n",
       "  178.867,517.37 197.764,517.37 \n",
       "  \"/>\n",
       "<polyline clip-path=\"url(#clip850)\" style=\"stroke:#000000; stroke-linecap:butt; stroke-linejoin:round; stroke-width:4; stroke-opacity:1; fill:none\" points=\"\n",
       "  178.867,163.799 197.764,163.799 \n",
       "  \"/>\n",
       "<path clip-path=\"url(#clip850)\" d=\"M50.9921 1224.96 L80.6679 1224.96 L80.6679 1228.9 L50.9921 1228.9 L50.9921 1224.96 Z\" fill=\"#000000\" fill-rule=\"evenodd\" fill-opacity=\"1\" /><path clip-path=\"url(#clip850)\" d=\"M91.5706 1237.86 L99.2095 1237.86 L99.2095 1211.49 L90.8993 1213.16 L90.8993 1208.9 L99.1632 1207.23 L103.839 1207.23 L103.839 1237.86 L111.478 1237.86 L111.478 1241.79 L91.5706 1241.79 L91.5706 1237.86 Z\" fill=\"#000000\" fill-rule=\"evenodd\" fill-opacity=\"1\" /><path clip-path=\"url(#clip850)\" d=\"M130.922 1210.31 Q127.311 1210.31 125.482 1213.88 Q123.677 1217.42 123.677 1224.55 Q123.677 1231.65 125.482 1235.22 Q127.311 1238.76 130.922 1238.76 Q134.556 1238.76 136.362 1235.22 Q138.191 1231.65 138.191 1224.55 Q138.191 1217.42 136.362 1213.88 Q134.556 1210.31 130.922 1210.31 M130.922 1206.61 Q136.732 1206.61 139.788 1211.21 Q142.867 1215.8 142.867 1224.55 Q142.867 1233.27 139.788 1237.88 Q136.732 1242.46 130.922 1242.46 Q125.112 1242.46 122.033 1237.88 Q118.978 1233.27 118.978 1224.55 Q118.978 1215.8 122.033 1211.21 Q125.112 1206.61 130.922 1206.61 Z\" fill=\"#000000\" fill-rule=\"evenodd\" fill-opacity=\"1\" /><path clip-path=\"url(#clip850)\" d=\"M82.1494 871.393 L111.825 871.393 L111.825 875.328 L82.1494 875.328 L82.1494 871.393 Z\" fill=\"#000000\" fill-rule=\"evenodd\" fill-opacity=\"1\" /><path clip-path=\"url(#clip850)\" d=\"M121.964 853.662 L140.32 853.662 L140.32 857.597 L126.246 857.597 L126.246 866.069 Q127.265 865.722 128.283 865.56 Q129.302 865.375 130.32 865.375 Q136.107 865.375 139.487 868.546 Q142.867 871.717 142.867 877.134 Q142.867 882.712 139.394 885.814 Q135.922 888.893 129.603 888.893 Q127.427 888.893 125.158 888.523 Q122.913 888.152 120.506 887.412 L120.506 882.712 Q122.589 883.847 124.811 884.402 Q127.033 884.958 129.51 884.958 Q133.515 884.958 135.853 882.851 Q138.191 880.745 138.191 877.134 Q138.191 873.523 135.853 871.416 Q133.515 869.31 129.51 869.31 Q127.635 869.31 125.76 869.726 Q123.908 870.143 121.964 871.023 L121.964 853.662 Z\" fill=\"#000000\" fill-rule=\"evenodd\" fill-opacity=\"1\" /><path clip-path=\"url(#clip850)\" d=\"M130.922 503.169 Q127.311 503.169 125.482 506.734 Q123.677 510.276 123.677 517.405 Q123.677 524.512 125.482 528.076 Q127.311 531.618 130.922 531.618 Q134.556 531.618 136.362 528.076 Q138.191 524.512 138.191 517.405 Q138.191 510.276 136.362 506.734 Q134.556 503.169 130.922 503.169 M130.922 499.465 Q136.732 499.465 139.788 504.072 Q142.867 508.655 142.867 517.405 Q142.867 526.132 139.788 530.738 Q136.732 535.322 130.922 535.322 Q125.112 535.322 122.033 530.738 Q118.978 526.132 118.978 517.405 Q118.978 508.655 122.033 504.072 Q125.112 499.465 130.922 499.465 Z\" fill=\"#000000\" fill-rule=\"evenodd\" fill-opacity=\"1\" /><path clip-path=\"url(#clip850)\" d=\"M121.964 146.519 L140.32 146.519 L140.32 150.454 L126.246 150.454 L126.246 158.927 Q127.265 158.579 128.283 158.417 Q129.302 158.232 130.32 158.232 Q136.107 158.232 139.487 161.403 Q142.867 164.575 142.867 169.991 Q142.867 175.57 139.394 178.672 Q135.922 181.75 129.603 181.75 Q127.427 181.75 125.158 181.38 Q122.913 181.01 120.506 180.269 L120.506 175.57 Q122.589 176.704 124.811 177.26 Q127.033 177.815 129.51 177.815 Q133.515 177.815 135.853 175.709 Q138.191 173.602 138.191 169.991 Q138.191 166.38 135.853 164.274 Q133.515 162.167 129.51 162.167 Q127.635 162.167 125.76 162.584 Q123.908 163.001 121.964 163.88 L121.964 146.519 Z\" fill=\"#000000\" fill-rule=\"evenodd\" fill-opacity=\"1\" /><circle clip-path=\"url(#clip853)\" cx=\"526.264\" cy=\"446.656\" r=\"28\" fill=\"#009af9\" fill-rule=\"evenodd\" fill-opacity=\"1\" stroke=\"#000000\" stroke-opacity=\"1\" stroke-width=\"3.2\"/>\n",
       "<circle clip-path=\"url(#clip853)\" cx=\"1506.99\" cy=\"347.656\" r=\"28\" fill=\"#009af9\" fill-rule=\"evenodd\" fill-opacity=\"1\" stroke=\"#000000\" stroke-opacity=\"1\" stroke-width=\"3.2\"/>\n",
       "<circle clip-path=\"url(#clip853)\" cx=\"1899.28\" cy=\"531.513\" r=\"28\" fill=\"#009af9\" fill-rule=\"evenodd\" fill-opacity=\"1\" stroke=\"#000000\" stroke-opacity=\"1\" stroke-width=\"3.2\"/>\n",
       "<circle clip-path=\"url(#clip853)\" cx=\"2193.5\" cy=\"425.442\" r=\"28\" fill=\"#009af9\" fill-rule=\"evenodd\" fill-opacity=\"1\" stroke=\"#000000\" stroke-opacity=\"1\" stroke-width=\"3.2\"/>\n",
       "<polyline clip-path=\"url(#clip853)\" style=\"stroke:#e26f46; stroke-linecap:butt; stroke-linejoin:round; stroke-width:16; stroke-opacity:1; fill:none\" points=\"\n",
       "  178.867,1445.72 184.174,1424.32 189.482,1403.14 194.789,1382.16 200.096,1361.39 249.172,1178.98 298.247,1013.5 347.322,864.262 396.397,730.573 425.889,657.424 \n",
       "  455.381,589.492 484.873,526.626 514.365,468.678 564.235,381.456 614.106,307.142 668.279,240.197 722.452,186.7 772.395,148.492 822.338,120.197 875.882,100.045 \n",
       "  929.426,89.5539 991.462,88.2999 1053.5,97.4169 1163.76,134.886 1260.45,184.903 1365.86,251.227 1471.91,323.633 1589.15,401.951 1700.71,466.457 1758.7,493.392 \n",
       "  1816.7,514.32 1865.52,526.446 1914.34,532.828 1973.94,531.846 2033.54,520.055 2089.57,498.011 2145.6,464.294 2190.48,428.176 2235.36,383.381 2280.25,329.382 \n",
       "  2325.13,265.651 2332.03,254.945 2338.94,243.995 2345.85,232.797 2352.76,221.351 \n",
       "  \"/>\n",
       "<polyline clip-path=\"url(#clip853)\" style=\"stroke:#3da44d; stroke-linecap:butt; stroke-linejoin:round; stroke-width:16; stroke-opacity:1; fill:none\" stroke-dasharray=\"64, 40\" points=\"\n",
       "  428.191,651.935 468.221,561.508 508.25,480.296 548.28,407.923 588.31,344.015 628.34,288.198 668.369,240.097 708.399,199.337 748.429,165.545 788.458,138.345 \n",
       "  828.488,117.362 868.518,102.223 908.547,92.5528 948.577,87.9763 988.607,88.1193 1028.64,92.6071 1068.67,101.065 1108.7,113.119 1148.73,128.394 1188.76,146.516 \n",
       "  1228.78,167.11 1268.81,189.801 1308.84,214.215 1348.87,239.977 1388.9,266.713 1428.93,294.048 1468.96,321.608 1508.99,349.017 1549.02,375.902 1589.05,401.888 \n",
       "  1629.08,426.6 1669.11,449.664 1709.14,470.705 1749.17,489.348 1789.2,505.219 1829.23,517.944 1869.26,527.147 1909.29,532.454 1949.32,533.492 1989.35,529.884 \n",
       "  2029.38,521.256 2069.41,507.235 2109.44,487.445 2149.47,461.511 2189.5,429.06 2229.53,389.716 2269.56,343.106 2309.59,288.853 2349.62,226.585 2389.65,155.926 \n",
       "  \n",
       "  \"/>\n",
       "<path clip-path=\"url(#clip850)\" d=\"\n",
       "M1856.46 406.258 L2280.29 406.258 L2280.29 95.2176 L1856.46 95.2176  Z\n",
       "  \" fill=\"#ffffff\" fill-rule=\"evenodd\" fill-opacity=\"1\"/>\n",
       "<polyline clip-path=\"url(#clip850)\" style=\"stroke:#000000; stroke-linecap:butt; stroke-linejoin:round; stroke-width:4; stroke-opacity:1; fill:none\" points=\"\n",
       "  1856.46,406.258 2280.29,406.258 2280.29,95.2176 1856.46,95.2176 1856.46,406.258 \n",
       "  \"/>\n",
       "<circle clip-path=\"url(#clip850)\" cx=\"1953.08\" cy=\"172.978\" r=\"34\" fill=\"#009af9\" fill-rule=\"evenodd\" fill-opacity=\"1\" stroke=\"#000000\" stroke-opacity=\"1\" stroke-width=\"3.84\"/>\n",
       "<path clip-path=\"url(#clip850)\" d=\"M2070.46 202.509 Q2067.75 209.453 2065.18 211.571 Q2062.61 213.689 2058.31 213.689 L2053.2 213.689 L2053.2 208.342 L2056.95 208.342 Q2059.59 208.342 2061.05 207.092 Q2062.51 205.842 2064.28 201.189 L2065.42 198.273 L2049.69 160.009 L2056.47 160.009 L2068.62 190.425 L2080.77 160.009 L2087.54 160.009 L2070.46 202.509 Z\" fill=\"#000000\" fill-rule=\"evenodd\" fill-opacity=\"1\" /><path clip-path=\"url(#clip850)\" d=\"M2098.48 192.995 L2109.94 192.995 L2109.94 153.446 L2097.47 155.946 L2097.47 149.558 L2109.87 147.058 L2116.88 147.058 L2116.88 192.995 L2128.34 192.995 L2128.34 198.898 L2098.48 198.898 L2098.48 192.995 Z\" fill=\"#000000\" fill-rule=\"evenodd\" fill-opacity=\"1\" /><polyline clip-path=\"url(#clip850)\" style=\"stroke:#e26f46; stroke-linecap:butt; stroke-linejoin:round; stroke-width:6; stroke-opacity:1; fill:none\" points=\"\n",
       "  1880.61,250.738 2025.54,250.738 \n",
       "  \"/>\n",
       "<path clip-path=\"url(#clip850)\" d=\"M2056.71 230.581 L2056.71 250.06 L2065.53 250.06 Q2070.42 250.06 2073.1 247.526 Q2075.77 244.991 2075.77 240.304 Q2075.77 235.651 2073.1 233.116 Q2070.42 230.581 2065.53 230.581 L2056.71 230.581 M2049.69 224.818 L2065.53 224.818 Q2074.24 224.818 2078.69 228.776 Q2083.17 232.699 2083.17 240.304 Q2083.17 247.977 2078.69 251.901 Q2074.24 255.824 2065.53 255.824 L2056.71 255.824 L2056.71 276.658 L2049.69 276.658 L2049.69 224.818 Z\" fill=\"#000000\" fill-rule=\"evenodd\" fill-opacity=\"1\" /><path clip-path=\"url(#clip850)\" d=\"M2107.65 222.7 Q2102.99 230.686 2100.74 238.498 Q2098.48 246.31 2098.48 254.331 Q2098.48 262.352 2100.74 270.234 Q2103.03 278.081 2107.65 286.033 L2102.09 286.033 Q2096.88 277.873 2094.28 269.991 Q2091.71 262.109 2091.71 254.331 Q2091.71 246.588 2094.28 238.741 Q2096.85 230.894 2102.09 222.7 L2107.65 222.7 Z\" fill=\"#000000\" fill-rule=\"evenodd\" fill-opacity=\"1\" /><path clip-path=\"url(#clip850)\" d=\"M2126.22 270.824 L2126.22 291.449 L2119.8 291.449 L2119.8 237.769 L2126.22 237.769 L2126.22 243.672 Q2128.24 240.199 2131.29 238.533 Q2134.38 236.831 2138.65 236.831 Q2145.74 236.831 2150.15 242.456 Q2154.59 248.081 2154.59 257.248 Q2154.59 266.415 2150.15 272.04 Q2145.74 277.664 2138.65 277.664 Q2134.38 277.664 2131.29 275.998 Q2128.24 274.296 2126.22 270.824 M2147.96 257.248 Q2147.96 250.199 2145.04 246.206 Q2142.16 242.179 2137.09 242.179 Q2132.02 242.179 2129.1 246.206 Q2126.22 250.199 2126.22 257.248 Q2126.22 264.297 2129.1 268.324 Q2132.02 272.317 2137.09 272.317 Q2142.16 272.317 2145.04 268.324 Q2147.96 264.297 2147.96 257.248 Z\" fill=\"#000000\" fill-rule=\"evenodd\" fill-opacity=\"1\" /><path clip-path=\"url(#clip850)\" d=\"M2164.17 222.7 L2169.73 222.7 Q2174.94 230.894 2177.51 238.741 Q2180.11 246.588 2180.11 254.331 Q2180.11 262.109 2177.51 269.991 Q2174.94 277.873 2169.73 286.033 L2164.17 286.033 Q2168.79 278.081 2171.05 270.234 Q2173.34 262.352 2173.34 254.331 Q2173.34 246.31 2171.05 238.498 Q2168.79 230.686 2164.17 222.7 Z\" fill=\"#000000\" fill-rule=\"evenodd\" fill-opacity=\"1\" /><polyline clip-path=\"url(#clip850)\" style=\"stroke:#3da44d; stroke-linecap:butt; stroke-linejoin:round; stroke-width:6; stroke-opacity:1; fill:none\" stroke-dasharray=\"24, 15\" points=\"\n",
       "  1880.61,328.498 2025.54,328.498 \n",
       "  \"/>\n",
       "<path clip-path=\"url(#clip850)\" d=\"M2100.99 308.412 Q2100.92 309.712 2100.04 309.782 Q2098.71 309.853 2097.9 310.028 Q2097.09 310.169 2095.82 310.696 Q2094.56 311.223 2093.33 312.488 Q2092.1 313.753 2090.84 315.755 L2064.94 356.967 Q2064.49 357.74 2064.1 357.986 Q2063.75 358.267 2062.94 358.267 Q2062.2 358.267 2061.92 357.951 Q2061.64 357.67 2061.5 356.616 L2055.81 312.207 Q2055.7 311.399 2055.6 311.047 Q2055.49 310.696 2055.07 310.345 Q2054.68 309.993 2053.84 309.888 Q2053 309.782 2051.49 309.782 Q2050.78 309.782 2050.47 309.747 Q2050.19 309.712 2049.94 309.536 Q2049.69 309.326 2049.69 308.904 Q2049.69 308.272 2049.94 307.955 Q2050.22 307.604 2050.43 307.569 Q2050.68 307.534 2051.06 307.534 Q2051.66 307.534 2052.96 307.604 Q2054.26 307.674 2054.93 307.674 Q2055.56 307.674 2056.9 307.71 Q2058.23 307.745 2058.9 307.745 Q2060.37 307.745 2063.36 307.639 Q2066.38 307.534 2067.82 307.534 Q2068.81 307.534 2068.81 308.342 Q2068.81 309.326 2068.39 309.572 Q2067.96 309.782 2067.02 309.782 Q2064.63 309.782 2063.33 310.38 Q2062.06 310.977 2062.06 311.926 L2066.94 350.01 L2089.04 314.877 Q2090.13 313.226 2090.13 312.136 Q2090.13 310.028 2086.8 309.782 Q2085.67 309.782 2085.67 308.904 Q2085.67 308.272 2085.95 307.955 Q2086.23 307.604 2086.44 307.569 Q2086.69 307.534 2087.04 307.534 Q2088.2 307.534 2090.55 307.639 Q2092.94 307.745 2094.14 307.745 Q2095.12 307.745 2097.12 307.639 Q2099.13 307.534 2100.04 307.534 Q2100.99 307.534 2100.99 308.412 Z\" fill=\"#000000\" fill-rule=\"evenodd\" fill-opacity=\"1\" /><path clip-path=\"url(#clip850)\" d=\"M2110.5 338.697 Q2110.5 326.541 2115.04 316.739 Q2116.97 312.628 2119.67 309.185 Q2122.38 305.742 2124.17 304.231 Q2125.96 302.721 2126.45 302.721 Q2127.16 302.721 2127.19 303.423 Q2127.19 303.775 2126.24 304.653 Q2114.65 316.458 2114.68 338.697 Q2114.68 361.007 2125.96 372.355 Q2127.19 373.585 2127.19 373.972 Q2127.19 374.674 2126.45 374.674 Q2125.96 374.674 2124.24 373.234 Q2122.52 371.793 2119.85 368.491 Q2117.18 365.188 2115.25 361.148 Q2110.5 351.346 2110.5 338.697 Z\" fill=\"#000000\" fill-rule=\"evenodd\" fill-opacity=\"1\" /><path clip-path=\"url(#clip850)\" d=\"M2168.5 329.633 Q2168.5 331.6 2167.27 332.725 Q2166.04 333.814 2164.63 333.814 Q2163.3 333.814 2162.6 333.041 Q2161.89 332.268 2161.89 331.284 Q2161.89 329.949 2162.88 328.79 Q2163.86 327.63 2165.34 327.384 Q2163.9 326.471 2161.75 326.471 Q2160.35 326.471 2159.12 327.209 Q2157.92 327.947 2157.18 328.895 Q2156.48 329.844 2155.85 331.214 Q2155.25 332.549 2155.01 333.357 Q2154.8 334.13 2154.62 334.973 L2152.16 344.811 Q2150.97 349.483 2150.97 351.135 Q2150.97 353.172 2151.95 354.543 Q2152.93 355.878 2154.9 355.878 Q2155.67 355.878 2156.55 355.667 Q2157.43 355.421 2158.55 354.789 Q2159.71 354.121 2160.73 353.137 Q2161.79 352.118 2162.81 350.397 Q2163.82 348.675 2164.49 346.462 Q2164.7 345.689 2165.41 345.689 Q2166.28 345.689 2166.28 346.392 Q2166.28 346.989 2165.79 348.254 Q2165.34 349.483 2164.32 351.1 Q2163.33 352.681 2162.03 354.121 Q2160.73 355.526 2158.8 356.51 Q2156.87 357.494 2154.76 357.494 Q2151.74 357.494 2149.74 355.878 Q2147.73 354.262 2147 352.013 Q2146.82 352.329 2146.57 352.751 Q2146.33 353.172 2145.59 354.121 Q2144.89 355.035 2144.08 355.737 Q2143.27 356.405 2142.01 356.932 Q2140.78 357.494 2139.44 357.494 Q2137.76 357.494 2136.24 357.002 Q2134.77 356.51 2133.72 355.386 Q2132.66 354.262 2132.66 352.716 Q2132.66 350.994 2133.82 349.8 Q2135.02 348.57 2136.63 348.57 Q2137.65 348.57 2138.46 349.167 Q2139.3 349.765 2139.3 351.064 Q2139.3 352.505 2138.32 353.594 Q2137.33 354.683 2135.93 354.964 Q2137.37 355.878 2139.51 355.878 Q2141.83 355.878 2143.66 353.84 Q2145.49 351.802 2146.36 348.394 Q2148.54 340.208 2149.38 336.554 Q2150.23 332.865 2150.23 331.284 Q2150.23 329.809 2149.84 328.79 Q2149.46 327.771 2148.79 327.314 Q2148.16 326.822 2147.56 326.647 Q2147 326.471 2146.36 326.471 Q2145.31 326.471 2144.11 326.893 Q2142.96 327.314 2141.55 328.298 Q2140.18 329.246 2138.88 331.214 Q2137.58 333.181 2136.7 335.887 Q2136.53 336.695 2135.75 336.695 Q2134.91 336.66 2134.91 335.957 Q2134.91 335.36 2135.37 334.13 Q2135.86 332.865 2136.84 331.284 Q2137.86 329.703 2139.16 328.298 Q2140.5 326.857 2142.43 325.874 Q2144.4 324.89 2146.5 324.89 Q2147.45 324.89 2148.37 325.101 Q2149.31 325.276 2150.44 325.803 Q2151.6 326.33 2152.62 327.49 Q2153.64 328.649 2154.27 330.336 Q2154.69 329.528 2155.25 328.755 Q2155.85 327.982 2156.76 327.033 Q2157.71 326.049 2159.01 325.487 Q2160.35 324.89 2161.82 324.89 Q2163.26 324.89 2164.67 325.276 Q2166.07 325.628 2167.27 326.787 Q2168.5 327.911 2168.5 329.633 Z\" fill=\"#000000\" fill-rule=\"evenodd\" fill-opacity=\"1\" /><path clip-path=\"url(#clip850)\" d=\"M2175.43 373.972 Q2175.43 373.62 2176.34 372.742 Q2187.93 360.937 2187.93 338.697 Q2187.93 316.388 2176.8 305.11 Q2175.43 303.81 2175.43 303.423 Q2175.43 302.721 2176.13 302.721 Q2176.62 302.721 2178.34 304.161 Q2180.1 305.602 2182.73 308.904 Q2185.4 312.207 2187.37 316.247 Q2192.11 326.049 2192.11 338.697 Q2192.11 350.854 2187.58 360.656 Q2185.65 364.767 2182.94 368.21 Q2180.24 371.653 2178.45 373.164 Q2176.66 374.674 2176.13 374.674 Q2175.43 374.674 2175.43 373.972 Z\" fill=\"#000000\" fill-rule=\"evenodd\" fill-opacity=\"1\" /><path clip-path=\"url(#clip850)\" d=\"M2233.74 336.379 Q2233.74 341.508 2231.14 346.462 Q2228.57 351.416 2224.53 354.472 Q2220.49 357.494 2216.38 357.494 Q2213.92 357.494 2212.27 356.159 Q2210.65 354.789 2209.77 352.856 Q2209.11 355.245 2207.67 360.972 Q2206.23 366.699 2206.23 367.261 Q2206.23 367.577 2206.3 367.718 Q2206.37 367.858 2206.68 368.034 Q2207 368.245 2207.77 368.315 Q2208.54 368.421 2209.84 368.421 Q2210.51 368.421 2210.76 368.421 Q2211.04 368.456 2211.29 368.631 Q2211.57 368.807 2211.57 369.193 Q2211.57 370.634 2210.27 370.634 Q2209.11 370.634 2206.72 370.529 Q2204.33 370.423 2203.13 370.423 Q2202.12 370.423 2200.08 370.529 Q2198.04 370.634 2197.09 370.634 Q2196.14 370.634 2196.14 369.791 Q2196.14 369.299 2196.28 368.983 Q2196.39 368.702 2196.67 368.561 Q2196.95 368.456 2197.2 368.421 Q2197.41 368.421 2197.83 368.421 Q2199.45 368.421 2200.15 368.139 Q2200.85 367.894 2201.1 367.367 Q2201.38 366.875 2201.69 365.469 L2209.77 333.427 Q2210.27 331.284 2210.27 329.773 Q2210.27 327.876 2209.67 327.174 Q2209.07 326.471 2208.02 326.471 Q2206.19 326.471 2205 328.649 Q2203.8 330.827 2202.78 335.044 Q2202.47 336.203 2202.26 336.449 Q2202.08 336.695 2201.55 336.695 Q2200.67 336.66 2200.67 335.957 Q2200.67 335.781 2200.96 334.657 Q2201.24 333.498 2201.76 331.811 Q2202.33 330.09 2202.92 329.001 Q2203.27 328.263 2203.59 327.771 Q2203.91 327.279 2204.54 326.506 Q2205.21 325.733 2206.16 325.312 Q2207.1 324.89 2208.26 324.89 Q2210.51 324.89 2212.37 326.225 Q2214.24 327.56 2214.73 330.265 Q2216.73 327.911 2219.19 326.401 Q2221.65 324.89 2224.14 324.89 Q2228.29 324.89 2231 328.122 Q2233.74 331.319 2233.74 336.379 M2228.54 333.217 Q2228.54 330.019 2227.31 328.263 Q2226.11 326.471 2223.93 326.471 Q2221.23 326.471 2218.1 329.211 Q2215.01 331.811 2214.38 334.235 L2210.83 348.324 L2210.62 349.483 Q2210.62 349.694 2210.72 350.327 Q2210.86 350.924 2211.25 351.908 Q2211.67 352.891 2212.23 353.77 Q2212.83 354.613 2213.89 355.245 Q2214.97 355.878 2216.31 355.878 Q2218.45 355.878 2220.77 353.981 Q2223.13 352.083 2224.88 348.5 Q2225.97 346.181 2227.24 341.192 Q2228.54 336.168 2228.54 333.217 Z\" fill=\"#000000\" fill-rule=\"evenodd\" fill-opacity=\"1\" /></svg>\n"
      ]
     },
     "execution_count": 78,
     "metadata": {},
     "output_type": "execute_result"
    }
   ],
   "source": [
    "V = vander(x1)\n",
    "p = V \\ y1 # write y1 in the polynomial basis\n",
    "scatter(x1, y1, markersize=8)\n",
    "plot!(P(p), label=\"P(p)\")\n",
    "plot!(x, vander(x, 4) * p, label=\"\\$ V(x) p\\$\", linestyle=:dash)"
   ]
  },
  {
   "cell_type": "markdown",
   "id": "17d2ea90",
   "metadata": {
    "slideshow": {
     "slide_type": "slide"
    }
   },
   "source": [
    "# Some common terminology\n",
    "\n",
    "* The **range** of $A$ is the space spanned by its columns.  This definition coincides with the range of a function $f(x)$ when $f(x) = A x$.\n",
    "* The (right) **nullspace** of $A$ is the space of vectors $x$ such that $A x = 0$.\n",
    "* The **rank** of $A$ is the dimension of its range.\n",
    "* A matrix has **full rank** if the nullspace of either $A$ or $A^T$ is empty (only the 0 vector).  Equivalently, if all the columns of $A$ (or $A^T$) are linearly independent.\n",
    "* A **nonsingular** (or **invertible**) matrix is a square matrix of full rank.  We call the inverse $A^{-1}$ and it satisfies $A^{-1} A = A A^{-1} = I$."
   ]
  },
  {
   "cell_type": "markdown",
   "id": "e5269948",
   "metadata": {
    "cell_style": "split",
    "slideshow": {
     "slide_type": "slide"
    }
   },
   "source": [
    "$\\DeclareMathOperator{\\rank}{rank} \\DeclareMathOperator{\\null}{null} $\n",
    "If $A \\in \\mathbb{R}^{m\\times m}$, which of these doesn't belong?\n",
    "1. $A$ has an inverse $A^{-1}$\n",
    "2. $\\rank (A) = m$\n",
    "3. $\\null(A) = \\{0\\}$\n",
    "4. $A A^T = A^T A$\n",
    "5. $\\det(A) \\ne 0$\n",
    "6. $A x = 0$ implies that $x = 0$"
   ]
  },
  {
   "cell_type": "code",
   "execution_count": 37,
   "id": "ecf60702",
   "metadata": {
    "cell_style": "split",
    "slideshow": {
     "slide_type": "fragment"
    }
   },
   "outputs": [
    {
     "data": {
      "text/plain": [
       "4×4 Matrix{Float64}:\n",
       "  0.0159134   0.0983944   0.0618018  -0.024729\n",
       "  0.0983944   0.221567   -0.104667    0.219141\n",
       "  0.0618018  -0.104667   -0.347429   -0.101233\n",
       " -0.024729    0.219141   -0.101233    0.109949"
      ]
     },
     "execution_count": 37,
     "metadata": {},
     "output_type": "execute_result"
    }
   ],
   "source": [
    "A = rand(4,4)\n",
    "A' * A - A * A'"
   ]
  },
  {
   "cell_type": "markdown",
   "id": "efa97478",
   "metadata": {
    "slideshow": {
     "slide_type": "slide"
    }
   },
   "source": [
    "# What is an inverse?\n",
    "\n",
    "When we write $x = A^{-1} y$, we mean that $x$ is the unique vector such that $A x = y$.\n",
    "(It is rare that we explicitly compute a matrix $A^{-1}$, though [it's not as \"bad\"](https://arxiv.org/abs/1201.6035) as people may have told you.)\n",
    "A vector $y$ is equivalent to $\\sum_i e_i y_i$ where $e_i$ are columns of the identity.\n",
    "Meanwhile, $x = A^{-1} y$ means that we are expressing that same vector $y$ in the basis of the columns of $A$, i.e., $\\sum_i A_{:,i} x_i$.\n"
   ]
  },
  {
   "cell_type": "code",
   "execution_count": 38,
   "id": "f44d4a40",
   "metadata": {
    "cell_style": "split"
   },
   "outputs": [
    {
     "data": {
      "text/plain": [
       "4×4 Matrix{Float64}:\n",
       " 0.171487   0.234287  0.631658  0.826556\n",
       " 0.0358488  0.205777  0.179601  0.798986\n",
       " 0.65429    0.636279  0.60436   0.843043\n",
       " 0.298519   0.384719  0.210138  0.624711"
      ]
     },
     "execution_count": 38,
     "metadata": {},
     "output_type": "execute_result"
    }
   ],
   "source": [
    "using LinearAlgebra\n",
    "A = rand(4, 4)"
   ]
  },
  {
   "cell_type": "code",
   "execution_count": 73,
   "id": "6d5610a3",
   "metadata": {
    "cell_style": "split"
   },
   "outputs": [
    {
     "data": {
      "text/plain": [
       "4×4 Matrix{Float64}:\n",
       "  1.0   0.0   1.17602e-17  -2.34622e-15\n",
       "  0.0   1.0   1.62394e-16   2.90426e-15\n",
       "  0.0   0.0   1.0           4.00911e-16\n",
       " -0.0  -0.0  -0.0           1.0"
      ]
     },
     "execution_count": 73,
     "metadata": {},
     "output_type": "execute_result"
    }
   ],
   "source": [
    "A \\ A"
   ]
  },
  {
   "cell_type": "code",
   "execution_count": 74,
   "id": "33f6511a",
   "metadata": {
    "cell_style": "split"
   },
   "outputs": [
    {
     "data": {
      "text/plain": [
       "4×4 Matrix{Float64}:\n",
       "  1.0          -1.17283e-15  -2.78331e-15  -1.33991e-15\n",
       " -1.49149e-15   1.0           1.05979e-15   3.05501e-15\n",
       "  3.84823e-16   5.99243e-16   1.0          -1.777e-16\n",
       "  3.92402e-16   4.65401e-17  -3.71916e-17   1.0"
      ]
     },
     "execution_count": 74,
     "metadata": {},
     "output_type": "execute_result"
    }
   ],
   "source": [
    "inv(A) * A"
   ]
  }
 ],
 "metadata": {
  "@webio": {
   "lastCommId": "cd1892c1e2064686902fbdf399e6e3e3",
   "lastKernelId": "6eae1736-6531-4224-a6c2-38e7ff163d19"
  },
  "celltoolbar": "Slideshow",
  "hide_code_all_hidden": false,
  "kernelspec": {
   "display_name": "Julia 1.7.1",
   "language": "julia",
   "name": "julia-1.7"
  },
  "language_info": {
   "file_extension": ".jl",
   "mimetype": "application/julia",
   "name": "julia",
   "version": "1.7.1"
  },
  "rise": {
   "enable_chalkboard": true
  }
 },
 "nbformat": 4,
 "nbformat_minor": 5
}
