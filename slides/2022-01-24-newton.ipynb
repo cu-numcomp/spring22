{
 "cells": [
  {
   "cell_type": "markdown",
   "id": "4159be0e",
   "metadata": {
    "hideCode": false,
    "hidePrompt": false,
    "slideshow": {
     "slide_type": "slide"
    }
   },
   "source": [
    "# 2022-01-24 Newton methods\n",
    "\n",
    "* Office hours: Monday 9-10pm, Tuesday 2-3pm, Thursday 2-3pm\n",
    "* This week will stay virtual. Plan is to start in-person the following Monday (Jan 31)\n",
    "\n",
    "## Last time\n",
    "\n",
    "* Forward and backward error\n",
    "* Computing volume of a polygon\n",
    "* Rootfinding examples\n",
    "* Use [Roots.jl](https://juliapackages.com/p/roots) to solve\n",
    "* Introduce Bisection\n",
    "\n",
    "## Today\n",
    "\n",
    "* Discuss rootfinding as a modeling tool\n",
    "* Limitations of bisection\n",
    "* Convergence classes\n",
    "* Newton methods\n",
    "  * convergence theory\n",
    "  * derivation via convergence theory\n",
    "  * reliability"
   ]
  },
  {
   "cell_type": "code",
   "execution_count": null,
   "id": "eb781a7a",
   "metadata": {
    "slideshow": {
     "slide_type": "skip"
    }
   },
   "outputs": [],
   "source": [
    "using Plots\n",
    "default(linewidth=4)"
   ]
  },
  {
   "cell_type": "markdown",
   "id": "6b384a37",
   "metadata": {
    "slideshow": {
     "slide_type": "slide"
    }
   },
   "source": [
    "# Stability demo: Volume of a polygon"
   ]
  },
  {
   "cell_type": "code",
   "execution_count": null,
   "id": "f45333ac",
   "metadata": {
    "cell_style": "split",
    "scrolled": true
   },
   "outputs": [],
   "source": [
    "X = [1 0; 2 1; 1 3; 0 1; -1 1.5; -2 -1; .5 -2; 1 0]\n",
    "R(θ) = [cos(θ) -sin(θ); sin(θ) cos(θ)]\n",
    "Y = X * R(deg2rad(0))' .+ [1e8 1e8]\n",
    "plot(Y[:,1], Y[:,2], seriestype=:shape, aspect_ratio=:equal)"
   ]
  },
  {
   "cell_type": "code",
   "execution_count": null,
   "id": "1ea4925d",
   "metadata": {
    "cell_style": "split"
   },
   "outputs": [],
   "source": [
    "using LinearAlgebra\n",
    "function pvolume(X)\n",
    "    n = size(X, 1)\n",
    "    vol = sum(det(X[i:i+1, :]) / 2 for i in 1:n-1)\n",
    "end\n",
    "\n",
    "@show pvolume(Y)\n",
    "[det(Y[i:i+1, :]) for i in 1:size(Y, 1)-1]"
   ]
  },
  {
   "cell_type": "markdown",
   "id": "7f7fce01",
   "metadata": {},
   "source": [
    "* Why don't we even get the first digit correct? These numbers are only $10^8$ and $\\epsilon_{\\text{machine}} \\approx 10^{-16}$ so shouldn't we get about 8 digits correct?"
   ]
  },
  {
   "cell_type": "markdown",
   "id": "cc20233c",
   "metadata": {
    "slideshow": {
     "slide_type": "slide"
    }
   },
   "source": [
    "# Rootfinding\n",
    "\n",
    "> Given $f(x)$, find $x$ such that $f(x) = 0$.\n",
    "\n",
    "We'll work with scalars ($f$ and $x$ are just numbers) for now, and revisit later when they vector-valued."
   ]
  },
  {
   "cell_type": "markdown",
   "id": "eb9574ab",
   "metadata": {
    "cell_style": "split"
   },
   "source": [
    "## Change inputs to outputs\n",
    "\n",
    "* $f(x; b) = x^2 - b$\n",
    "  * $x(b) = \\sqrt{b}$\n",
    "* $f(x; b) = \\tan x - b$\n",
    "  * $x(b) = \\arctan b$\n",
    "* $f(x) = \\cos x + x - b$\n",
    "  * $x(b) = ?$"
   ]
  },
  {
   "cell_type": "markdown",
   "id": "b7c09eb2",
   "metadata": {
    "cell_style": "split",
    "slideshow": {
     "slide_type": ""
    }
   },
   "source": [
    "We aren't given $f(x)$, but rather an algorithm `f(x)` that approximates it.\n",
    "* Sometimes we get extra information, like `fp(x)` that approximates $f'(x)$\n",
    "* If we have source code for `f(x)`, maybe it can be transformed \"automatically\""
   ]
  },
  {
   "cell_type": "markdown",
   "id": "c145ccf3",
   "metadata": {
    "slideshow": {
     "slide_type": "slide"
    }
   },
   "source": [
    "# Nesting matryoshka dolls of rootfinding"
   ]
  },
  {
   "cell_type": "markdown",
   "id": "fb0d6519",
   "metadata": {
    "cell_style": "split"
   },
   "source": [
    "* I have a function (pressure, temperature) $\\mapsto$ (density, energy)\n",
    "  * I need (density, energy) $\\mapsto$ (pressure, temperature)\n",
    "* I know what condition is satisfied across waves, but not the state on each side. \n",
    "\n",
    "![](../img/Toro-ShockOrRarefaction-2.19.png)"
   ]
  },
  {
   "cell_type": "markdown",
   "id": "356bf25d",
   "metadata": {
    "cell_style": "split"
   },
   "source": [
    "* Given a proposed state, I can measure how much (mass, momentum, energy) is not conserved.\n",
    "  * Find the solution that conserves exactly\n",
    "* I can compute lift given speed and angle of attack\n",
    "  * How much can the plane lift?\n",
    "  * How much can it lift on a short runway?\n",
    "![](../img/Boeing_A2_isoQspeed2_lowRes.png)"
   ]
  },
  {
   "cell_type": "markdown",
   "id": "dc989215",
   "metadata": {
    "cell_style": "center",
    "slideshow": {
     "slide_type": "slide"
    }
   },
   "source": [
    "\n",
    "\n",
    "# Iterative bisection"
   ]
  },
  {
   "cell_type": "code",
   "execution_count": null,
   "id": "76489e23",
   "metadata": {
    "cell_style": "split"
   },
   "outputs": [],
   "source": [
    "f(x) = cos(x) - x\n",
    "hasroot(f, a, b) = f(a) * f(b) < 0\n",
    "function bisect_iter(f, a, b, tol)\n",
    "    hist = Float64[]\n",
    "    while abs(b - a) > tol\n",
    "        mid = (a + b) / 2\n",
    "        push!(hist, mid)\n",
    "        if hasroot(f, a, mid)\n",
    "            b = mid\n",
    "        else\n",
    "            a = mid\n",
    "        end\n",
    "    end\n",
    "    hist\n",
    "end"
   ]
  },
  {
   "cell_type": "code",
   "execution_count": null,
   "id": "3bc94db0",
   "metadata": {
    "cell_style": "split"
   },
   "outputs": [],
   "source": [
    "bisect_iter(f, -1, 3, 1e-4)"
   ]
  },
  {
   "cell_type": "markdown",
   "id": "6a970a26",
   "metadata": {
    "slideshow": {
     "slide_type": "slide"
    }
   },
   "source": [
    "# Let's plot the error\n",
    "\n",
    "$$ \\lvert \\texttt{bisect}^k(f, a, b) - r \\rvert, \\quad k = 1, 2, \\dotsc $$\n",
    "\n",
    "where $r$ is the true root, $f(r) = 0$."
   ]
  },
  {
   "cell_type": "code",
   "execution_count": null,
   "id": "2ab5c98b",
   "metadata": {
    "cell_style": "split"
   },
   "outputs": [],
   "source": [
    "hist = bisect_iter(f, -1, 3, 1e-10)\n",
    "r = hist[end] # What are we trusting?\n",
    "hist = hist[1:end-1]\n",
    "scatter( abs.(hist .- r), yscale=:log10)\n",
    "ks = 1:length(hist)\n",
    "plot!(ks, 4 * (.5 .^ ks))"
   ]
  },
  {
   "cell_type": "markdown",
   "id": "4b5d448c",
   "metadata": {
    "cell_style": "split",
    "slideshow": {
     "slide_type": "fragment"
    }
   },
   "source": [
    "Evidently the error $e_k = x_k - x_*$ after $k$ bisections satisfies the bound\n",
    "$$ |e^k| \\le c 2^{-k} . $$"
   ]
  },
  {
   "cell_type": "markdown",
   "id": "0449ff50",
   "metadata": {
    "slideshow": {
     "slide_type": "slide"
    }
   },
   "source": [
    "# Convergence classes"
   ]
  },
  {
   "cell_type": "markdown",
   "id": "86dfed02",
   "metadata": {
    "cell_style": "split",
    "slideshow": {
     "slide_type": ""
    }
   },
   "source": [
    "A convergent rootfinding algorithm produces a sequence of approximations $x_k$ such that $$\\lim_{k \\to \\infty} x_k \\to x_*$$ where $f(x_*) = 0$.  For analysis, it is convenient to define the errors $e_k = x_k - x_*$. We say that an iterative algorithm is **$q$-linearly convergent** if $$\\lim_{k \\to \\infty} |e_{k+1}| / |e_k| = \\rho < 1.$$  (The $q$ is for \"quotient\".)  A smaller convergence factor $\\rho$ represents faster convergence.  A slightly weaker condition ($r$-linear convergence or just **linear convergence**) is that\n",
    "$$ |e_k| \\le \\epsilon_k $$\n",
    "for all sufficiently large $k$ when the sequence $\\{\\epsilon_k\\}$ converges $q$-linearly to 0."
   ]
  },
  {
   "cell_type": "code",
   "execution_count": null,
   "id": "cbbbb6c8",
   "metadata": {
    "cell_style": "split",
    "slideshow": {
     "slide_type": ""
    }
   },
   "outputs": [],
   "source": [
    "ρ = 0.8\n",
    "errors = [1.]\n",
    "for i in 1:30\n",
    "    next_e = errors[end] * ρ\n",
    "    push!(errors, next_e)\n",
    "end\n",
    "plot(errors, yscale=:log10)"
   ]
  },
  {
   "cell_type": "markdown",
   "id": "fab694e5",
   "metadata": {
    "slideshow": {
     "slide_type": "fragment"
    }
   },
   "source": [
    "## Bisection: A = q-linearly convergent, B = r-linearly convergent, C = neither"
   ]
  },
  {
   "cell_type": "markdown",
   "id": "49b283ed",
   "metadata": {
    "slideshow": {
     "slide_type": "slide"
    }
   },
   "source": [
    "# Remarks on bisection\n",
    "\n",
    "* Specifying an interval is often inconvenient\n",
    "* An interval in which the function changes sign guarantees convergence (robustness)\n",
    "* No derivative information is required\n",
    "* If bisection works for $f(x)$, then it works and gives the same accuracy for $f(x) \\sigma(x)$ where $\\sigma(x) > 0$.\n",
    "* Roots of even degree are problematic\n",
    "* A bound on the solution error is directly available\n",
    "* The convergence rate is modest -- one iteration per bit of accuracy"
   ]
  },
  {
   "cell_type": "markdown",
   "id": "2fdcc91c",
   "metadata": {
    "slideshow": {
     "slide_type": "slide"
    }
   },
   "source": [
    "# Newton-Raphson Method\n",
    "\n",
    "Much of numerical analysis reduces to [Taylor series](https://en.wikipedia.org/wiki/Taylor_series), the approximation\n",
    "$$ f(x) = f(x_0) + f'(x_0) (x-x_0) + f''(x_0) (x - x_0)^2 / 2 + \\underbrace{\\dotsb}_{O((x-x_0)^3)} $$\n",
    "centered on some reference point $x_0$.\n",
    "\n",
    "In numerical computation, it is exceedingly rare to look beyond the first-order approximation\n",
    "$$ \\tilde f_{x_0}(x) = f(x_0) + f'(x_0)(x - x_0) . $$\n",
    "Since $\\tilde f_{x_0}(x)$ is a linear function, we can explicitly compute the unique solution of $\\tilde f_{x_0}(x) = 0$ as\n",
    "$$ x = x_0 - f(x_0) / f'(x_0) . $$\n",
    "This is Newton's Method (aka Newton-Raphson or Newton-Raphson-Simpson) for finding the roots of differentiable functions."
   ]
  },
  {
   "cell_type": "markdown",
   "id": "1575432e",
   "metadata": {
    "slideshow": {
     "slide_type": "slide"
    }
   },
   "source": [
    "# An implementation"
   ]
  },
  {
   "cell_type": "code",
   "execution_count": null,
   "id": "f6571263",
   "metadata": {
    "cell_style": "center"
   },
   "outputs": [],
   "source": [
    "function newton(f, fp, x0; tol=1e-8, verbose=false)\n",
    "    x = x0\n",
    "    for k in 1:100 # max number of iterations\n",
    "        fx = f(x)\n",
    "        fpx = fp(x)\n",
    "        if verbose\n",
    "            println(\"[$k] x=$x  f(x)=$fx  f'(x)=$fpx\")\n",
    "        end\n",
    "        if abs(fx) < tol\n",
    "            return x, fx, k\n",
    "        end\n",
    "        x = x - fx / fpx\n",
    "    end  \n",
    "end\n",
    "\n",
    "f(x) = cos(x) - x\n",
    "fp(x) = -sin(x) - 1\n",
    "newton(f, fp, 1; tol=1e-15, verbose=true)"
   ]
  },
  {
   "cell_type": "markdown",
   "id": "e6bb7451",
   "metadata": {
    "slideshow": {
     "slide_type": "slide"
    }
   },
   "source": [
    "# That's really fast!\n",
    "\n",
    "* 10 digits of accuracy in 4 iterations.\n",
    "* How is this convergence test different from the one we used for bisection?\n",
    "* How can this break down?\n",
    "\n",
    "$$ x_{k+1} = x_k - f(x_k)/f'(x_k) $$"
   ]
  },
  {
   "cell_type": "code",
   "execution_count": null,
   "id": "e5f3f260",
   "metadata": {
    "slideshow": {
     "slide_type": "fragment"
    }
   },
   "outputs": [],
   "source": [
    "newton(f, fp, 3*pi/2; verbose=true)"
   ]
  },
  {
   "cell_type": "markdown",
   "id": "6938fb4a",
   "metadata": {
    "slideshow": {
     "slide_type": "slide"
    }
   },
   "source": [
    "# Convergence of fixed-point (by mean value theorem)"
   ]
  },
  {
   "cell_type": "markdown",
   "id": "bbe3e2a3",
   "metadata": {
    "cell_style": "split"
   },
   "source": [
    "Consider the iteration\n",
    "$$x_{k+1} = g(x_k)$$\n",
    "where $g$ is a continuously differentiable function.\n",
    "Suppose that there exists a fixed point $x_* = g(x_*)$.  By the [mean value theorem](https://en.wikipedia.org/wiki/Mean_value_theorem), we have that\n",
    "$$ x_{k+1} - x_* = g(x_k) - g(x_*) = g'(c_k) (x_k - x_*) $$\n",
    "for some $c_i$ between $x_k$ and $x_*$.\n",
    "\n",
    "Taking absolute values, $$|e_{k+1}| = |g'(c_k)| |e_k|,$$ which converges to zero if $|g'(c_k)| < 1$."
   ]
  },
  {
   "cell_type": "markdown",
   "id": "514cbb9f",
   "metadata": {
    "cell_style": "split"
   },
   "source": [
    "![](https://upload.wikimedia.org/wikipedia/commons/e/ee/Mvt2.svg)"
   ]
  },
  {
   "cell_type": "markdown",
   "id": "50d312fd",
   "metadata": {
    "slideshow": {
     "slide_type": "slide"
    }
   },
   "source": [
    "# Convergence of fixed-point (by Taylor series)"
   ]
  },
  {
   "cell_type": "markdown",
   "id": "19e5cde8",
   "metadata": {
    "cell_style": "split"
   },
   "source": [
    "Consider the iteration\n",
    "$$x_{k+1} = g(x_k)$$\n",
    "where $g$ is a continuously differentiable function.\n",
    "Suppose that there exists a fixed point $x_* = g(x_*)$. There exists a Taylor series at $x_*$,\n",
    "$$ g(x_k) = g(x_*) + g'(x_*)(x_k - x_*) + O((x_k-x_*)^2) $$\n",
    "and thus\n",
    "\\begin{align}\n",
    "x_{k+1} - x_* &= g(x_k) - g(x_*) \\\\\n",
    "&= g'(x_*) (x_k - x_*) + O((x_k - x_*)^2).\n",
    "\\end{align}"
   ]
  },
  {
   "cell_type": "markdown",
   "id": "d0402e81",
   "metadata": {
    "cell_style": "split"
   },
   "source": [
    "In terms of the error $e_k = x_k - x_*$,\n",
    "$$ \\left\\lvert \\frac{e_{k+1}}{e_k} \\right\\rvert = \\lvert g'(x_*) \\rvert + O(e_k).$$\n"
   ]
  },
  {
   "cell_type": "markdown",
   "id": "f7fe41b2",
   "metadata": {
    "slideshow": {
     "slide_type": "fragment"
    }
   },
   "source": [
    "## Poll: Is this convergence A=q-linear, B=r-linear, C=neither?"
   ]
  },
  {
   "cell_type": "markdown",
   "id": "c18c1c15",
   "metadata": {
    "slideshow": {
     "slide_type": "fragment"
    }
   },
   "source": [
    "\n",
    "Recall the definition of q-linear convergence\n",
    "$$ \\lim_{k\\to\\infty} \\left\\lvert \\frac{e_{k+1}}{e_k} \\right\\rvert = \\rho < 1. $$"
   ]
  },
  {
   "cell_type": "markdown",
   "id": "30b30aef",
   "metadata": {
    "slideshow": {
     "slide_type": "slide"
    }
   },
   "source": [
    "# Example of a fixed point iteration\n",
    "\n",
    "We wanted to solve $\\cos x - x = 0$, which occurs when $g(x) = \\cos x$ is a fixed point."
   ]
  },
  {
   "cell_type": "code",
   "execution_count": 73,
   "id": "20bc548c",
   "metadata": {
    "cell_style": "split"
   },
   "outputs": [
    {
     "name": "stdout",
     "output_type": "stream",
     "text": [
      "xstar = 0.739085133385284\n",
      "gprime = -0.6736120293089505\n"
     ]
    },
    {
     "data": {
      "image/svg+xml": [
       "<?xml version=\"1.0\" encoding=\"utf-8\"?>\n",
       "<svg xmlns=\"http://www.w3.org/2000/svg\" xmlns:xlink=\"http://www.w3.org/1999/xlink\" width=\"600\" height=\"400\" viewBox=\"0 0 2400 1600\">\n",
       "<defs>\n",
       "  <clipPath id=\"clip490\">\n",
       "    <rect x=\"0\" y=\"0\" width=\"2400\" height=\"1600\"/>\n",
       "  </clipPath>\n",
       "</defs>\n",
       "<path clip-path=\"url(#clip490)\" d=\"\n",
       "M0 1600 L2400 1600 L2400 0 L0 0  Z\n",
       "  \" fill=\"#ffffff\" fill-rule=\"evenodd\" fill-opacity=\"1\"/>\n",
       "<defs>\n",
       "  <clipPath id=\"clip491\">\n",
       "    <rect x=\"480\" y=\"0\" width=\"1681\" height=\"1600\"/>\n",
       "  </clipPath>\n",
       "</defs>\n",
       "<defs>\n",
       "  <clipPath id=\"clip492\">\n",
       "    <rect x=\"147\" y=\"47\" width=\"2206\" height=\"1440\"/>\n",
       "  </clipPath>\n",
       "</defs>\n",
       "<path clip-path=\"url(#clip490)\" d=\"\n",
       "M147.478 1486.45 L2352.76 1486.45 L2352.76 47.2441 L147.478 47.2441  Z\n",
       "  \" fill=\"#ffffff\" fill-rule=\"evenodd\" fill-opacity=\"1\"/>\n",
       "<polyline clip-path=\"url(#clip492)\" style=\"stroke:#000000; stroke-linecap:butt; stroke-linejoin:round; stroke-width:2; stroke-opacity:0.1; fill:none\" points=\"\n",
       "  147.478,1486.45 147.478,47.2441 \n",
       "  \"/>\n",
       "<polyline clip-path=\"url(#clip492)\" style=\"stroke:#000000; stroke-linecap:butt; stroke-linejoin:round; stroke-width:2; stroke-opacity:0.1; fill:none\" points=\"\n",
       "  588.534,1486.45 588.534,47.2441 \n",
       "  \"/>\n",
       "<polyline clip-path=\"url(#clip492)\" style=\"stroke:#000000; stroke-linecap:butt; stroke-linejoin:round; stroke-width:2; stroke-opacity:0.1; fill:none\" points=\"\n",
       "  1029.59,1486.45 1029.59,47.2441 \n",
       "  \"/>\n",
       "<polyline clip-path=\"url(#clip492)\" style=\"stroke:#000000; stroke-linecap:butt; stroke-linejoin:round; stroke-width:2; stroke-opacity:0.1; fill:none\" points=\"\n",
       "  1470.64,1486.45 1470.64,47.2441 \n",
       "  \"/>\n",
       "<polyline clip-path=\"url(#clip492)\" style=\"stroke:#000000; stroke-linecap:butt; stroke-linejoin:round; stroke-width:2; stroke-opacity:0.1; fill:none\" points=\"\n",
       "  1911.7,1486.45 1911.7,47.2441 \n",
       "  \"/>\n",
       "<polyline clip-path=\"url(#clip492)\" style=\"stroke:#000000; stroke-linecap:butt; stroke-linejoin:round; stroke-width:2; stroke-opacity:0.1; fill:none\" points=\"\n",
       "  2352.76,1486.45 2352.76,47.2441 \n",
       "  \"/>\n",
       "<polyline clip-path=\"url(#clip490)\" style=\"stroke:#000000; stroke-linecap:butt; stroke-linejoin:round; stroke-width:4; stroke-opacity:1; fill:none\" points=\"\n",
       "  147.478,1486.45 2352.76,1486.45 \n",
       "  \"/>\n",
       "<polyline clip-path=\"url(#clip490)\" style=\"stroke:#000000; stroke-linecap:butt; stroke-linejoin:round; stroke-width:4; stroke-opacity:1; fill:none\" points=\"\n",
       "  147.478,1486.45 147.478,1467.55 \n",
       "  \"/>\n",
       "<polyline clip-path=\"url(#clip490)\" style=\"stroke:#000000; stroke-linecap:butt; stroke-linejoin:round; stroke-width:4; stroke-opacity:1; fill:none\" points=\"\n",
       "  588.534,1486.45 588.534,1467.55 \n",
       "  \"/>\n",
       "<polyline clip-path=\"url(#clip490)\" style=\"stroke:#000000; stroke-linecap:butt; stroke-linejoin:round; stroke-width:4; stroke-opacity:1; fill:none\" points=\"\n",
       "  1029.59,1486.45 1029.59,1467.55 \n",
       "  \"/>\n",
       "<polyline clip-path=\"url(#clip490)\" style=\"stroke:#000000; stroke-linecap:butt; stroke-linejoin:round; stroke-width:4; stroke-opacity:1; fill:none\" points=\"\n",
       "  1470.64,1486.45 1470.64,1467.55 \n",
       "  \"/>\n",
       "<polyline clip-path=\"url(#clip490)\" style=\"stroke:#000000; stroke-linecap:butt; stroke-linejoin:round; stroke-width:4; stroke-opacity:1; fill:none\" points=\"\n",
       "  1911.7,1486.45 1911.7,1467.55 \n",
       "  \"/>\n",
       "<polyline clip-path=\"url(#clip490)\" style=\"stroke:#000000; stroke-linecap:butt; stroke-linejoin:round; stroke-width:4; stroke-opacity:1; fill:none\" points=\"\n",
       "  2352.76,1486.45 2352.76,1467.55 \n",
       "  \"/>\n",
       "<path clip-path=\"url(#clip490)\" d=\"M117.42 1532.02 L147.096 1532.02 L147.096 1535.95 L117.42 1535.95 L117.42 1532.02 Z\" fill=\"#000000\" fill-rule=\"evenodd\" fill-opacity=\"1\" /><path clip-path=\"url(#clip490)\" d=\"M161.216 1544.91 L177.536 1544.91 L177.536 1548.85 L155.591 1548.85 L155.591 1544.91 Q158.253 1542.16 162.837 1537.53 Q167.443 1532.88 168.624 1531.53 Q170.869 1529.01 171.749 1527.27 Q172.651 1525.51 172.651 1523.82 Q172.651 1521.07 170.707 1519.33 Q168.786 1517.6 165.684 1517.6 Q163.485 1517.6 161.031 1518.36 Q158.601 1519.13 155.823 1520.68 L155.823 1515.95 Q158.647 1514.82 161.101 1514.24 Q163.554 1513.66 165.591 1513.66 Q170.962 1513.66 174.156 1516.35 Q177.35 1519.03 177.35 1523.52 Q177.35 1525.65 176.54 1527.57 Q175.753 1529.47 173.647 1532.07 Q173.068 1532.74 169.966 1535.95 Q166.864 1539.15 161.216 1544.91 Z\" fill=\"#000000\" fill-rule=\"evenodd\" fill-opacity=\"1\" /><path clip-path=\"url(#clip490)\" d=\"M558.291 1532.02 L587.966 1532.02 L587.966 1535.95 L558.291 1535.95 L558.291 1532.02 Z\" fill=\"#000000\" fill-rule=\"evenodd\" fill-opacity=\"1\" /><path clip-path=\"url(#clip490)\" d=\"M598.869 1544.91 L606.508 1544.91 L606.508 1518.55 L598.198 1520.21 L598.198 1515.95 L606.462 1514.29 L611.138 1514.29 L611.138 1544.91 L618.776 1544.91 L618.776 1548.85 L598.869 1548.85 L598.869 1544.91 Z\" fill=\"#000000\" fill-rule=\"evenodd\" fill-opacity=\"1\" /><path clip-path=\"url(#clip490)\" d=\"M1029.59 1517.37 Q1025.98 1517.37 1024.15 1520.93 Q1022.34 1524.47 1022.34 1531.6 Q1022.34 1538.71 1024.15 1542.27 Q1025.98 1545.82 1029.59 1545.82 Q1033.22 1545.82 1035.03 1542.27 Q1036.86 1538.71 1036.86 1531.6 Q1036.86 1524.47 1035.03 1520.93 Q1033.22 1517.37 1029.59 1517.37 M1029.59 1513.66 Q1035.4 1513.66 1038.45 1518.27 Q1041.53 1522.85 1041.53 1531.6 Q1041.53 1540.33 1038.45 1544.94 Q1035.4 1549.52 1029.59 1549.52 Q1023.78 1549.52 1020.7 1544.94 Q1017.64 1540.33 1017.64 1531.6 Q1017.64 1522.85 1020.7 1518.27 Q1023.78 1513.66 1029.59 1513.66 Z\" fill=\"#000000\" fill-rule=\"evenodd\" fill-opacity=\"1\" /><path clip-path=\"url(#clip490)\" d=\"M1461.03 1544.91 L1468.67 1544.91 L1468.67 1518.55 L1460.36 1520.21 L1460.36 1515.95 L1468.62 1514.29 L1473.3 1514.29 L1473.3 1544.91 L1480.93 1544.91 L1480.93 1548.85 L1461.03 1548.85 L1461.03 1544.91 Z\" fill=\"#000000\" fill-rule=\"evenodd\" fill-opacity=\"1\" /><path clip-path=\"url(#clip490)\" d=\"M1906.35 1544.91 L1922.67 1544.91 L1922.67 1548.85 L1900.73 1548.85 L1900.73 1544.91 Q1903.39 1542.16 1907.97 1537.53 Q1912.58 1532.88 1913.76 1531.53 Q1916.01 1529.01 1916.89 1527.27 Q1917.79 1525.51 1917.79 1523.82 Q1917.79 1521.07 1915.84 1519.33 Q1913.92 1517.6 1910.82 1517.6 Q1908.62 1517.6 1906.17 1518.36 Q1903.74 1519.13 1900.96 1520.68 L1900.96 1515.95 Q1903.78 1514.82 1906.24 1514.24 Q1908.69 1513.66 1910.73 1513.66 Q1916.1 1513.66 1919.29 1516.35 Q1922.49 1519.03 1922.49 1523.52 Q1922.49 1525.65 1921.68 1527.57 Q1920.89 1529.47 1918.78 1532.07 Q1918.2 1532.74 1915.1 1535.95 Q1912 1539.15 1906.35 1544.91 Z\" fill=\"#000000\" fill-rule=\"evenodd\" fill-opacity=\"1\" /><path clip-path=\"url(#clip490)\" d=\"M2357 1530.21 Q2360.36 1530.93 2362.24 1533.2 Q2364.13 1535.47 2364.13 1538.8 Q2364.13 1543.92 2360.61 1546.72 Q2357.1 1549.52 2350.61 1549.52 Q2348.44 1549.52 2346.12 1549.08 Q2343.83 1548.66 2341.38 1547.81 L2341.38 1543.29 Q2343.32 1544.43 2345.64 1545.01 Q2347.95 1545.58 2350.48 1545.58 Q2354.87 1545.58 2357.17 1543.85 Q2359.48 1542.11 2359.48 1538.8 Q2359.48 1535.75 2357.33 1534.03 Q2355.2 1532.3 2351.38 1532.3 L2347.35 1532.3 L2347.35 1528.45 L2351.56 1528.45 Q2355.01 1528.45 2356.84 1527.09 Q2358.67 1525.7 2358.67 1523.11 Q2358.67 1520.45 2356.77 1519.03 Q2354.9 1517.6 2351.38 1517.6 Q2349.46 1517.6 2347.26 1518.01 Q2345.06 1518.43 2342.42 1519.31 L2342.42 1515.14 Q2345.08 1514.4 2347.4 1514.03 Q2349.74 1513.66 2351.8 1513.66 Q2357.12 1513.66 2360.22 1516.09 Q2363.32 1518.5 2363.32 1522.62 Q2363.32 1525.49 2361.68 1527.48 Q2360.04 1529.45 2357 1530.21 Z\" fill=\"#000000\" fill-rule=\"evenodd\" fill-opacity=\"1\" /><polyline clip-path=\"url(#clip492)\" style=\"stroke:#000000; stroke-linecap:butt; stroke-linejoin:round; stroke-width:2; stroke-opacity:0.1; fill:none\" points=\"\n",
       "  147.478,1445.72 2352.76,1445.72 \n",
       "  \"/>\n",
       "<polyline clip-path=\"url(#clip492)\" style=\"stroke:#000000; stroke-linecap:butt; stroke-linejoin:round; stroke-width:2; stroke-opacity:0.1; fill:none\" points=\"\n",
       "  147.478,1174.17 2352.76,1174.17 \n",
       "  \"/>\n",
       "<polyline clip-path=\"url(#clip492)\" style=\"stroke:#000000; stroke-linecap:butt; stroke-linejoin:round; stroke-width:2; stroke-opacity:0.1; fill:none\" points=\"\n",
       "  147.478,902.62 2352.76,902.62 \n",
       "  \"/>\n",
       "<polyline clip-path=\"url(#clip492)\" style=\"stroke:#000000; stroke-linecap:butt; stroke-linejoin:round; stroke-width:2; stroke-opacity:0.1; fill:none\" points=\"\n",
       "  147.478,631.072 2352.76,631.072 \n",
       "  \"/>\n",
       "<polyline clip-path=\"url(#clip492)\" style=\"stroke:#000000; stroke-linecap:butt; stroke-linejoin:round; stroke-width:2; stroke-opacity:0.1; fill:none\" points=\"\n",
       "  147.478,359.524 2352.76,359.524 \n",
       "  \"/>\n",
       "<polyline clip-path=\"url(#clip492)\" style=\"stroke:#000000; stroke-linecap:butt; stroke-linejoin:round; stroke-width:2; stroke-opacity:0.1; fill:none\" points=\"\n",
       "  147.478,87.9763 2352.76,87.9763 \n",
       "  \"/>\n",
       "<polyline clip-path=\"url(#clip490)\" style=\"stroke:#000000; stroke-linecap:butt; stroke-linejoin:round; stroke-width:4; stroke-opacity:1; fill:none\" points=\"\n",
       "  147.478,1486.45 147.478,47.2441 \n",
       "  \"/>\n",
       "<polyline clip-path=\"url(#clip490)\" style=\"stroke:#000000; stroke-linecap:butt; stroke-linejoin:round; stroke-width:4; stroke-opacity:1; fill:none\" points=\"\n",
       "  147.478,1445.72 166.376,1445.72 \n",
       "  \"/>\n",
       "<polyline clip-path=\"url(#clip490)\" style=\"stroke:#000000; stroke-linecap:butt; stroke-linejoin:round; stroke-width:4; stroke-opacity:1; fill:none\" points=\"\n",
       "  147.478,1174.17 166.376,1174.17 \n",
       "  \"/>\n",
       "<polyline clip-path=\"url(#clip490)\" style=\"stroke:#000000; stroke-linecap:butt; stroke-linejoin:round; stroke-width:4; stroke-opacity:1; fill:none\" points=\"\n",
       "  147.478,902.62 166.376,902.62 \n",
       "  \"/>\n",
       "<polyline clip-path=\"url(#clip490)\" style=\"stroke:#000000; stroke-linecap:butt; stroke-linejoin:round; stroke-width:4; stroke-opacity:1; fill:none\" points=\"\n",
       "  147.478,631.072 166.376,631.072 \n",
       "  \"/>\n",
       "<polyline clip-path=\"url(#clip490)\" style=\"stroke:#000000; stroke-linecap:butt; stroke-linejoin:round; stroke-width:4; stroke-opacity:1; fill:none\" points=\"\n",
       "  147.478,359.524 166.376,359.524 \n",
       "  \"/>\n",
       "<polyline clip-path=\"url(#clip490)\" style=\"stroke:#000000; stroke-linecap:butt; stroke-linejoin:round; stroke-width:4; stroke-opacity:1; fill:none\" points=\"\n",
       "  147.478,87.9763 166.376,87.9763 \n",
       "  \"/>\n",
       "<path clip-path=\"url(#clip490)\" d=\"M51.3625 1446.17 L81.0383 1446.17 L81.0383 1450.1 L51.3625 1450.1 L51.3625 1446.17 Z\" fill=\"#000000\" fill-rule=\"evenodd\" fill-opacity=\"1\" /><path clip-path=\"url(#clip490)\" d=\"M95.1586 1459.06 L111.478 1459.06 L111.478 1463 L89.5336 1463 L89.5336 1459.06 Q92.1956 1456.31 96.7789 1451.68 Q101.385 1447.02 102.566 1445.68 Q104.811 1443.16 105.691 1441.42 Q106.594 1439.66 106.594 1437.97 Q106.594 1435.22 104.649 1433.48 Q102.728 1431.75 99.6261 1431.75 Q97.4271 1431.75 94.9734 1432.51 Q92.5428 1433.27 89.7651 1434.82 L89.7651 1430.1 Q92.5891 1428.97 95.0428 1428.39 Q97.4965 1427.81 99.5335 1427.81 Q104.904 1427.81 108.098 1430.5 Q111.293 1433.18 111.293 1437.67 Q111.293 1439.8 110.483 1441.72 Q109.696 1443.62 107.589 1446.21 Q107.01 1446.88 103.909 1450.1 Q100.807 1453.3 95.1586 1459.06 Z\" fill=\"#000000\" fill-rule=\"evenodd\" fill-opacity=\"1\" /><path clip-path=\"url(#clip490)\" d=\"M50.9921 1174.62 L80.6679 1174.62 L80.6679 1178.55 L50.9921 1178.55 L50.9921 1174.62 Z\" fill=\"#000000\" fill-rule=\"evenodd\" fill-opacity=\"1\" /><path clip-path=\"url(#clip490)\" d=\"M91.5706 1187.51 L99.2095 1187.51 L99.2095 1161.15 L90.8993 1162.81 L90.8993 1158.55 L99.1632 1156.89 L103.839 1156.89 L103.839 1187.51 L111.478 1187.51 L111.478 1191.45 L91.5706 1191.45 L91.5706 1187.51 Z\" fill=\"#000000\" fill-rule=\"evenodd\" fill-opacity=\"1\" /><path clip-path=\"url(#clip490)\" d=\"M99.5335 888.419 Q95.9224 888.419 94.0937 891.983 Q92.2882 895.525 92.2882 902.655 Q92.2882 909.761 94.0937 913.326 Q95.9224 916.868 99.5335 916.868 Q103.168 916.868 104.973 913.326 Q106.802 909.761 106.802 902.655 Q106.802 895.525 104.973 891.983 Q103.168 888.419 99.5335 888.419 M99.5335 884.715 Q105.344 884.715 108.399 889.321 Q111.478 893.905 111.478 902.655 Q111.478 911.381 108.399 915.988 Q105.344 920.571 99.5335 920.571 Q93.7234 920.571 90.6447 915.988 Q87.5892 911.381 87.5892 902.655 Q87.5892 893.905 90.6447 889.321 Q93.7234 884.715 99.5335 884.715 Z\" fill=\"#000000\" fill-rule=\"evenodd\" fill-opacity=\"1\" /><path clip-path=\"url(#clip490)\" d=\"M91.5706 644.417 L99.2095 644.417 L99.2095 618.051 L90.8993 619.718 L90.8993 615.459 L99.1632 613.792 L103.839 613.792 L103.839 644.417 L111.478 644.417 L111.478 648.352 L91.5706 648.352 L91.5706 644.417 Z\" fill=\"#000000\" fill-rule=\"evenodd\" fill-opacity=\"1\" /><path clip-path=\"url(#clip490)\" d=\"M95.1586 372.869 L111.478 372.869 L111.478 376.804 L89.5336 376.804 L89.5336 372.869 Q92.1956 370.114 96.7789 365.485 Q101.385 360.832 102.566 359.489 Q104.811 356.966 105.691 355.23 Q106.594 353.471 106.594 351.781 Q106.594 349.027 104.649 347.29 Q102.728 345.554 99.6261 345.554 Q97.4271 345.554 94.9734 346.318 Q92.5428 347.082 89.7651 348.633 L89.7651 343.911 Q92.5891 342.777 95.0428 342.198 Q97.4965 341.619 99.5335 341.619 Q104.904 341.619 108.098 344.304 Q111.293 346.99 111.293 351.48 Q111.293 353.61 110.483 355.531 Q109.696 357.429 107.589 360.022 Q107.01 360.693 103.909 363.911 Q100.807 367.105 95.1586 372.869 Z\" fill=\"#000000\" fill-rule=\"evenodd\" fill-opacity=\"1\" /><path clip-path=\"url(#clip490)\" d=\"M104.348 86.6221 Q107.705 87.3397 109.58 89.6082 Q111.478 91.8767 111.478 95.21 Q111.478 100.326 107.959 103.127 Q104.441 105.928 97.9595 105.928 Q95.7836 105.928 93.4688 105.488 Q91.1771 105.071 88.7234 104.215 L88.7234 99.7008 Q90.6678 100.835 92.9826 101.414 Q95.2974 101.992 97.8206 101.992 Q102.219 101.992 104.51 100.256 Q106.825 98.5202 106.825 95.21 Q106.825 92.1545 104.672 90.4415 Q102.543 88.7054 98.7234 88.7054 L94.6956 88.7054 L94.6956 84.8629 L98.9085 84.8629 Q102.358 84.8629 104.186 83.4971 Q106.015 82.1083 106.015 79.5157 Q106.015 76.8537 104.117 75.4416 Q102.242 74.0064 98.7234 74.0064 Q96.8021 74.0064 94.603 74.4231 Q92.4039 74.8398 89.7651 75.7194 L89.7651 71.5528 Q92.4271 70.812 94.7419 70.4416 Q97.0798 70.0713 99.14 70.0713 Q104.464 70.0713 107.566 72.5018 Q110.668 74.9092 110.668 79.0296 Q110.668 81.8999 109.024 83.8907 Q107.381 85.8582 104.348 86.6221 Z\" fill=\"#000000\" fill-rule=\"evenodd\" fill-opacity=\"1\" /><polyline clip-path=\"url(#clip492)\" style=\"stroke:#009af9; stroke-linecap:butt; stroke-linejoin:round; stroke-width:16; stroke-opacity:1; fill:none\" points=\"\n",
       "  147.478,1015.62 169.014,1003.44 368.149,883.323 487.82,811.435 589.001,755.66 643.957,728.421 698.912,703.883 749.576,683.984 800.24,666.966 854.557,652.176 \n",
       "  908.874,641.179 971.806,633.399 1034.74,631.091 1090.66,633.671 1146.59,640.571 1195.63,650.089 1244.68,662.726 1298.14,679.874 1351.61,700.292 1405.4,723.826 \n",
       "  1459.19,750.017 1578.12,815.37 1691.29,883.484 1808.96,955.571 1908.01,1013.55 1968.47,1046.38 2028.93,1076.52 2085.77,1101.88 2142.61,1123.93 2188.14,1138.97 \n",
       "  2233.67,1151.49 2279.2,1161.36 2324.73,1168.47 2331.74,1169.32 2338.74,1170.1 2345.75,1170.81 2352.76,1171.45 \n",
       "  \"/>\n",
       "<polyline clip-path=\"url(#clip492)\" style=\"stroke:#e26f46; stroke-linecap:butt; stroke-linejoin:round; stroke-width:16; stroke-opacity:1; fill:none\" points=\"\n",
       "  147.478,1445.72 169.014,1432.46 368.149,1309.85 487.82,1236.17 589.001,1173.88 698.912,1106.21 800.24,1043.82 908.874,976.941 1034.74,899.45 1146.59,830.585 \n",
       "  1244.68,770.196 1351.61,704.357 1459.19,638.126 1578.12,564.899 1691.29,495.226 1808.96,422.781 1908.01,361.799 2028.93,287.346 2142.61,217.358 2324.73,105.232 \n",
       "  2352.76,87.9763 \n",
       "  \"/>\n",
       "<circle clip-path=\"url(#clip492)\" cx=\"1355.57\" cy=\"701.923\" r=\"14\" fill=\"#3da44d\" fill-rule=\"evenodd\" fill-opacity=\"1\" stroke=\"#000000\" stroke-opacity=\"1\" stroke-width=\"3.2\"/>\n",
       "<path clip-path=\"url(#clip490)\" d=\"\n",
       "M1965.07 302.578 L2279.25 302.578 L2279.25 95.2176 L1965.07 95.2176  Z\n",
       "  \" fill=\"#ffffff\" fill-rule=\"evenodd\" fill-opacity=\"1\"/>\n",
       "<polyline clip-path=\"url(#clip490)\" style=\"stroke:#000000; stroke-linecap:butt; stroke-linejoin:round; stroke-width:4; stroke-opacity:1; fill:none\" points=\"\n",
       "  1965.07,302.578 2279.25,302.578 2279.25,95.2176 1965.07,95.2176 1965.07,302.578 \n",
       "  \"/>\n",
       "<polyline clip-path=\"url(#clip490)\" style=\"stroke:#009af9; stroke-linecap:butt; stroke-linejoin:round; stroke-width:4; stroke-opacity:1; fill:none\" points=\"\n",
       "  1989.57,147.058 2136.59,147.058 \n",
       "  \"/>\n",
       "<path clip-path=\"url(#clip490)\" d=\"M2174.94 166.745 Q2173.13 171.375 2171.42 172.787 Q2169.7 174.199 2166.83 174.199 L2163.43 174.199 L2163.43 170.634 L2165.93 170.634 Q2167.69 170.634 2168.66 169.8 Q2169.63 168.967 2170.81 165.865 L2171.58 163.921 L2161.09 138.412 L2165.61 138.412 L2173.71 158.689 L2181.81 138.412 L2186.32 138.412 L2174.94 166.745 Z\" fill=\"#000000\" fill-rule=\"evenodd\" fill-opacity=\"1\" /><path clip-path=\"url(#clip490)\" d=\"M2193.62 160.402 L2201.25 160.402 L2201.25 134.037 L2192.94 135.703 L2192.94 131.444 L2201.21 129.778 L2205.88 129.778 L2205.88 160.402 L2213.52 160.402 L2213.52 164.338 L2193.62 164.338 L2193.62 160.402 Z\" fill=\"#000000\" fill-rule=\"evenodd\" fill-opacity=\"1\" /><polyline clip-path=\"url(#clip490)\" style=\"stroke:#e26f46; stroke-linecap:butt; stroke-linejoin:round; stroke-width:4; stroke-opacity:1; fill:none\" points=\"\n",
       "  1989.57,198.898 2136.59,198.898 \n",
       "  \"/>\n",
       "<path clip-path=\"url(#clip490)\" d=\"M2174.94 218.585 Q2173.13 223.215 2171.42 224.627 Q2169.7 226.039 2166.83 226.039 L2163.43 226.039 L2163.43 222.474 L2165.93 222.474 Q2167.69 222.474 2168.66 221.64 Q2169.63 220.807 2170.81 217.705 L2171.58 215.761 L2161.09 190.252 L2165.61 190.252 L2173.71 210.529 L2181.81 190.252 L2186.32 190.252 L2174.94 218.585 Z\" fill=\"#000000\" fill-rule=\"evenodd\" fill-opacity=\"1\" /><path clip-path=\"url(#clip490)\" d=\"M2196.83 212.242 L2213.15 212.242 L2213.15 216.178 L2191.21 216.178 L2191.21 212.242 Q2193.87 209.488 2198.45 204.858 Q2203.06 200.205 2204.24 198.863 Q2206.49 196.34 2207.37 194.604 Q2208.27 192.844 2208.27 191.155 Q2208.27 188.4 2206.32 186.664 Q2204.4 184.928 2201.3 184.928 Q2199.1 184.928 2196.65 185.692 Q2194.22 186.455 2191.44 188.006 L2191.44 183.284 Q2194.26 182.15 2196.72 181.571 Q2199.17 180.993 2201.21 180.993 Q2206.58 180.993 2209.77 183.678 Q2212.97 186.363 2212.97 190.854 Q2212.97 192.983 2212.16 194.905 Q2211.37 196.803 2209.26 199.395 Q2208.68 200.067 2205.58 203.284 Q2202.48 206.479 2196.83 212.242 Z\" fill=\"#000000\" fill-rule=\"evenodd\" fill-opacity=\"1\" /><circle clip-path=\"url(#clip490)\" cx=\"2063.08\" cy=\"250.738\" r=\"23\" fill=\"#3da44d\" fill-rule=\"evenodd\" fill-opacity=\"1\" stroke=\"#000000\" stroke-opacity=\"1\" stroke-width=\"5.12\"/>\n",
       "<path clip-path=\"url(#clip490)\" d=\"M2184.98 240.639 Q2184.98 241.951 2184.16 242.7 Q2183.34 243.427 2182.41 243.427 Q2181.52 243.427 2181.05 242.911 Q2180.58 242.396 2180.58 241.74 Q2180.58 240.85 2181.24 240.077 Q2181.89 239.304 2182.88 239.14 Q2181.92 238.531 2180.49 238.531 Q2179.55 238.531 2178.73 239.023 Q2177.93 239.515 2177.44 240.147 Q2176.97 240.78 2176.55 241.693 Q2176.15 242.583 2175.99 243.122 Q2175.85 243.637 2175.73 244.199 L2174.09 250.758 Q2173.3 253.873 2173.3 254.974 Q2173.3 256.332 2173.95 257.246 Q2174.61 258.136 2175.92 258.136 Q2176.43 258.136 2177.02 257.995 Q2177.61 257.831 2178.35 257.41 Q2179.13 256.965 2179.81 256.309 Q2180.51 255.63 2181.19 254.482 Q2181.87 253.334 2182.31 251.859 Q2182.45 251.343 2182.92 251.343 Q2183.51 251.343 2183.51 251.812 Q2183.51 252.21 2183.18 253.053 Q2182.88 253.873 2182.2 254.95 Q2181.54 256.004 2180.67 256.965 Q2179.81 257.902 2178.52 258.557 Q2177.23 259.213 2175.83 259.213 Q2173.81 259.213 2172.48 258.136 Q2171.14 257.058 2170.65 255.559 Q2170.53 255.77 2170.37 256.051 Q2170.2 256.332 2169.71 256.965 Q2169.24 257.574 2168.7 258.042 Q2168.17 258.487 2167.32 258.839 Q2166.5 259.213 2165.61 259.213 Q2164.49 259.213 2163.48 258.885 Q2162.5 258.557 2161.8 257.808 Q2161.09 257.058 2161.09 256.028 Q2161.09 254.88 2161.87 254.084 Q2162.66 253.264 2163.74 253.264 Q2164.42 253.264 2164.96 253.662 Q2165.52 254.06 2165.52 254.927 Q2165.52 255.887 2164.86 256.613 Q2164.21 257.339 2163.27 257.527 Q2164.23 258.136 2165.66 258.136 Q2167.21 258.136 2168.42 256.777 Q2169.64 255.419 2170.23 253.147 Q2171.68 247.689 2172.24 245.253 Q2172.8 242.794 2172.8 241.74 Q2172.8 240.756 2172.55 240.077 Q2172.29 239.398 2171.84 239.093 Q2171.42 238.765 2171.02 238.648 Q2170.65 238.531 2170.23 238.531 Q2169.52 238.531 2168.73 238.812 Q2167.96 239.093 2167.02 239.749 Q2166.11 240.382 2165.24 241.693 Q2164.37 243.005 2163.79 244.808 Q2163.67 245.347 2163.15 245.347 Q2162.59 245.324 2162.59 244.855 Q2162.59 244.457 2162.9 243.637 Q2163.22 242.794 2163.88 241.74 Q2164.56 240.686 2165.43 239.749 Q2166.32 238.789 2167.6 238.133 Q2168.92 237.477 2170.32 237.477 Q2170.95 237.477 2171.56 237.618 Q2172.19 237.735 2172.94 238.086 Q2173.72 238.438 2174.4 239.21 Q2175.08 239.983 2175.5 241.108 Q2175.78 240.569 2176.15 240.054 Q2176.55 239.538 2177.16 238.906 Q2177.79 238.25 2178.66 237.875 Q2179.55 237.477 2180.53 237.477 Q2181.49 237.477 2182.43 237.735 Q2183.37 237.969 2184.16 238.742 Q2184.98 239.492 2184.98 240.639 Z\" fill=\"#000000\" fill-rule=\"evenodd\" fill-opacity=\"1\" /><path clip-path=\"url(#clip490)\" d=\"M2199.18 262.804 Q2199.18 262.23 2199.95 261.853 L2204.63 259.639 L2199.89 257.426 Q2199.18 257.098 2199.18 256.524 Q2199.18 256.196 2199.44 255.901 Q2199.72 255.589 2200.08 255.589 Q2200.35 255.589 2200.82 255.95 L2204.99 258.967 Q2204.48 253.425 2204.49 253.261 Q2204.49 252.933 2204.74 252.687 Q2204.99 252.425 2205.4 252.425 Q2205.72 252.425 2205.99 252.671 Q2206.27 252.901 2206.27 253.261 L2205.77 258.967 L2209.5 256.213 Q2210.36 255.573 2210.68 255.589 Q2211.05 255.589 2211.31 255.885 Q2211.58 256.18 2211.58 256.524 Q2211.58 257.098 2210.81 257.459 L2206.13 259.672 L2210.87 261.902 Q2211.58 262.23 2211.58 262.804 Q2211.58 263.132 2211.3 263.443 Q2211.04 263.738 2210.68 263.738 Q2210.48 263.738 2210.13 263.541 Q2210.07 263.509 2209.36 262.984 Q2208.66 262.459 2207.56 261.656 Q2206.48 260.853 2205.77 260.344 Q2206.28 265.886 2206.27 266.05 Q2206.27 266.378 2206.02 266.64 Q2205.77 266.903 2205.36 266.903 Q2205.04 266.903 2204.76 266.673 Q2204.49 266.427 2204.49 266.05 L2204.99 260.344 L2200.3 263.738 Q2199.79 263.738 2199.51 263.492 Q2199.25 263.23 2199.21 263.082 Q2199.18 262.935 2199.18 262.804 Z\" fill=\"#000000\" fill-rule=\"evenodd\" fill-opacity=\"1\" /></svg>\n"
      ]
     },
     "execution_count": 73,
     "metadata": {},
     "output_type": "execute_result"
    }
   ],
   "source": [
    "xstar, _ = newton(f, fp, 1.)\n",
    "gprime = -sin(xstar)\n",
    "@show xstar\n",
    "@show gprime\n",
    "plot([cos, x->x], xlims=(-2, 3))\n",
    "scatter!([xstar], [xstar],\n",
    "    label=\"\\$x_*\\$\")"
   ]
  },
  {
   "cell_type": "code",
   "execution_count": 72,
   "id": "30ddaf0e",
   "metadata": {
    "cell_style": "split"
   },
   "outputs": [
    {
     "data": {
      "image/svg+xml": [
       "<?xml version=\"1.0\" encoding=\"utf-8\"?>\n",
       "<svg xmlns=\"http://www.w3.org/2000/svg\" xmlns:xlink=\"http://www.w3.org/1999/xlink\" width=\"600\" height=\"400\" viewBox=\"0 0 2400 1600\">\n",
       "<defs>\n",
       "  <clipPath id=\"clip450\">\n",
       "    <rect x=\"0\" y=\"0\" width=\"2400\" height=\"1600\"/>\n",
       "  </clipPath>\n",
       "</defs>\n",
       "<path clip-path=\"url(#clip450)\" d=\"\n",
       "M0 1600 L2400 1600 L2400 0 L0 0  Z\n",
       "  \" fill=\"#ffffff\" fill-rule=\"evenodd\" fill-opacity=\"1\"/>\n",
       "<defs>\n",
       "  <clipPath id=\"clip451\">\n",
       "    <rect x=\"480\" y=\"0\" width=\"1681\" height=\"1600\"/>\n",
       "  </clipPath>\n",
       "</defs>\n",
       "<defs>\n",
       "  <clipPath id=\"clip452\">\n",
       "    <rect x=\"147\" y=\"47\" width=\"2206\" height=\"1440\"/>\n",
       "  </clipPath>\n",
       "</defs>\n",
       "<path clip-path=\"url(#clip450)\" d=\"\n",
       "M147.478 1486.45 L2352.76 1486.45 L2352.76 47.2441 L147.478 47.2441  Z\n",
       "  \" fill=\"#ffffff\" fill-rule=\"evenodd\" fill-opacity=\"1\"/>\n",
       "<polyline clip-path=\"url(#clip452)\" style=\"stroke:#000000; stroke-linecap:butt; stroke-linejoin:round; stroke-width:2; stroke-opacity:0.1; fill:none\" points=\"\n",
       "  147.478,1486.45 147.478,47.2441 \n",
       "  \"/>\n",
       "<polyline clip-path=\"url(#clip452)\" style=\"stroke:#000000; stroke-linecap:butt; stroke-linejoin:round; stroke-width:2; stroke-opacity:0.1; fill:none\" points=\"\n",
       "  588.534,1486.45 588.534,47.2441 \n",
       "  \"/>\n",
       "<polyline clip-path=\"url(#clip452)\" style=\"stroke:#000000; stroke-linecap:butt; stroke-linejoin:round; stroke-width:2; stroke-opacity:0.1; fill:none\" points=\"\n",
       "  1029.59,1486.45 1029.59,47.2441 \n",
       "  \"/>\n",
       "<polyline clip-path=\"url(#clip452)\" style=\"stroke:#000000; stroke-linecap:butt; stroke-linejoin:round; stroke-width:2; stroke-opacity:0.1; fill:none\" points=\"\n",
       "  1470.64,1486.45 1470.64,47.2441 \n",
       "  \"/>\n",
       "<polyline clip-path=\"url(#clip452)\" style=\"stroke:#000000; stroke-linecap:butt; stroke-linejoin:round; stroke-width:2; stroke-opacity:0.1; fill:none\" points=\"\n",
       "  1911.7,1486.45 1911.7,47.2441 \n",
       "  \"/>\n",
       "<polyline clip-path=\"url(#clip452)\" style=\"stroke:#000000; stroke-linecap:butt; stroke-linejoin:round; stroke-width:2; stroke-opacity:0.1; fill:none\" points=\"\n",
       "  2352.76,1486.45 2352.76,47.2441 \n",
       "  \"/>\n",
       "<polyline clip-path=\"url(#clip450)\" style=\"stroke:#000000; stroke-linecap:butt; stroke-linejoin:round; stroke-width:4; stroke-opacity:1; fill:none\" points=\"\n",
       "  147.478,1486.45 2352.76,1486.45 \n",
       "  \"/>\n",
       "<polyline clip-path=\"url(#clip450)\" style=\"stroke:#000000; stroke-linecap:butt; stroke-linejoin:round; stroke-width:4; stroke-opacity:1; fill:none\" points=\"\n",
       "  147.478,1486.45 147.478,1467.55 \n",
       "  \"/>\n",
       "<polyline clip-path=\"url(#clip450)\" style=\"stroke:#000000; stroke-linecap:butt; stroke-linejoin:round; stroke-width:4; stroke-opacity:1; fill:none\" points=\"\n",
       "  588.534,1486.45 588.534,1467.55 \n",
       "  \"/>\n",
       "<polyline clip-path=\"url(#clip450)\" style=\"stroke:#000000; stroke-linecap:butt; stroke-linejoin:round; stroke-width:4; stroke-opacity:1; fill:none\" points=\"\n",
       "  1029.59,1486.45 1029.59,1467.55 \n",
       "  \"/>\n",
       "<polyline clip-path=\"url(#clip450)\" style=\"stroke:#000000; stroke-linecap:butt; stroke-linejoin:round; stroke-width:4; stroke-opacity:1; fill:none\" points=\"\n",
       "  1470.64,1486.45 1470.64,1467.55 \n",
       "  \"/>\n",
       "<polyline clip-path=\"url(#clip450)\" style=\"stroke:#000000; stroke-linecap:butt; stroke-linejoin:round; stroke-width:4; stroke-opacity:1; fill:none\" points=\"\n",
       "  1911.7,1486.45 1911.7,1467.55 \n",
       "  \"/>\n",
       "<polyline clip-path=\"url(#clip450)\" style=\"stroke:#000000; stroke-linecap:butt; stroke-linejoin:round; stroke-width:4; stroke-opacity:1; fill:none\" points=\"\n",
       "  2352.76,1486.45 2352.76,1467.55 \n",
       "  \"/>\n",
       "<path clip-path=\"url(#clip450)\" d=\"M117.42 1532.02 L147.096 1532.02 L147.096 1535.95 L117.42 1535.95 L117.42 1532.02 Z\" fill=\"#000000\" fill-rule=\"evenodd\" fill-opacity=\"1\" /><path clip-path=\"url(#clip450)\" d=\"M161.216 1544.91 L177.536 1544.91 L177.536 1548.85 L155.591 1548.85 L155.591 1544.91 Q158.253 1542.16 162.837 1537.53 Q167.443 1532.88 168.624 1531.53 Q170.869 1529.01 171.749 1527.27 Q172.651 1525.51 172.651 1523.82 Q172.651 1521.07 170.707 1519.33 Q168.786 1517.6 165.684 1517.6 Q163.485 1517.6 161.031 1518.36 Q158.601 1519.13 155.823 1520.68 L155.823 1515.95 Q158.647 1514.82 161.101 1514.24 Q163.554 1513.66 165.591 1513.66 Q170.962 1513.66 174.156 1516.35 Q177.35 1519.03 177.35 1523.52 Q177.35 1525.65 176.54 1527.57 Q175.753 1529.47 173.647 1532.07 Q173.068 1532.74 169.966 1535.95 Q166.864 1539.15 161.216 1544.91 Z\" fill=\"#000000\" fill-rule=\"evenodd\" fill-opacity=\"1\" /><path clip-path=\"url(#clip450)\" d=\"M558.291 1532.02 L587.966 1532.02 L587.966 1535.95 L558.291 1535.95 L558.291 1532.02 Z\" fill=\"#000000\" fill-rule=\"evenodd\" fill-opacity=\"1\" /><path clip-path=\"url(#clip450)\" d=\"M598.869 1544.91 L606.508 1544.91 L606.508 1518.55 L598.198 1520.21 L598.198 1515.95 L606.462 1514.29 L611.138 1514.29 L611.138 1544.91 L618.776 1544.91 L618.776 1548.85 L598.869 1548.85 L598.869 1544.91 Z\" fill=\"#000000\" fill-rule=\"evenodd\" fill-opacity=\"1\" /><path clip-path=\"url(#clip450)\" d=\"M1029.59 1517.37 Q1025.98 1517.37 1024.15 1520.93 Q1022.34 1524.47 1022.34 1531.6 Q1022.34 1538.71 1024.15 1542.27 Q1025.98 1545.82 1029.59 1545.82 Q1033.22 1545.82 1035.03 1542.27 Q1036.86 1538.71 1036.86 1531.6 Q1036.86 1524.47 1035.03 1520.93 Q1033.22 1517.37 1029.59 1517.37 M1029.59 1513.66 Q1035.4 1513.66 1038.45 1518.27 Q1041.53 1522.85 1041.53 1531.6 Q1041.53 1540.33 1038.45 1544.94 Q1035.4 1549.52 1029.59 1549.52 Q1023.78 1549.52 1020.7 1544.94 Q1017.64 1540.33 1017.64 1531.6 Q1017.64 1522.85 1020.7 1518.27 Q1023.78 1513.66 1029.59 1513.66 Z\" fill=\"#000000\" fill-rule=\"evenodd\" fill-opacity=\"1\" /><path clip-path=\"url(#clip450)\" d=\"M1461.03 1544.91 L1468.67 1544.91 L1468.67 1518.55 L1460.36 1520.21 L1460.36 1515.95 L1468.62 1514.29 L1473.3 1514.29 L1473.3 1544.91 L1480.93 1544.91 L1480.93 1548.85 L1461.03 1548.85 L1461.03 1544.91 Z\" fill=\"#000000\" fill-rule=\"evenodd\" fill-opacity=\"1\" /><path clip-path=\"url(#clip450)\" d=\"M1906.35 1544.91 L1922.67 1544.91 L1922.67 1548.85 L1900.73 1548.85 L1900.73 1544.91 Q1903.39 1542.16 1907.97 1537.53 Q1912.58 1532.88 1913.76 1531.53 Q1916.01 1529.01 1916.89 1527.27 Q1917.79 1525.51 1917.79 1523.82 Q1917.79 1521.07 1915.84 1519.33 Q1913.92 1517.6 1910.82 1517.6 Q1908.62 1517.6 1906.17 1518.36 Q1903.74 1519.13 1900.96 1520.68 L1900.96 1515.95 Q1903.78 1514.82 1906.24 1514.24 Q1908.69 1513.66 1910.73 1513.66 Q1916.1 1513.66 1919.29 1516.35 Q1922.49 1519.03 1922.49 1523.52 Q1922.49 1525.65 1921.68 1527.57 Q1920.89 1529.47 1918.78 1532.07 Q1918.2 1532.74 1915.1 1535.95 Q1912 1539.15 1906.35 1544.91 Z\" fill=\"#000000\" fill-rule=\"evenodd\" fill-opacity=\"1\" /><path clip-path=\"url(#clip450)\" d=\"M2357 1530.21 Q2360.36 1530.93 2362.24 1533.2 Q2364.13 1535.47 2364.13 1538.8 Q2364.13 1543.92 2360.61 1546.72 Q2357.1 1549.52 2350.61 1549.52 Q2348.44 1549.52 2346.12 1549.08 Q2343.83 1548.66 2341.38 1547.81 L2341.38 1543.29 Q2343.32 1544.43 2345.64 1545.01 Q2347.95 1545.58 2350.48 1545.58 Q2354.87 1545.58 2357.17 1543.85 Q2359.48 1542.11 2359.48 1538.8 Q2359.48 1535.75 2357.33 1534.03 Q2355.2 1532.3 2351.38 1532.3 L2347.35 1532.3 L2347.35 1528.45 L2351.56 1528.45 Q2355.01 1528.45 2356.84 1527.09 Q2358.67 1525.7 2358.67 1523.11 Q2358.67 1520.45 2356.77 1519.03 Q2354.9 1517.6 2351.38 1517.6 Q2349.46 1517.6 2347.26 1518.01 Q2345.06 1518.43 2342.42 1519.31 L2342.42 1515.14 Q2345.08 1514.4 2347.4 1514.03 Q2349.74 1513.66 2351.8 1513.66 Q2357.12 1513.66 2360.22 1516.09 Q2363.32 1518.5 2363.32 1522.62 Q2363.32 1525.49 2361.68 1527.48 Q2360.04 1529.45 2357 1530.21 Z\" fill=\"#000000\" fill-rule=\"evenodd\" fill-opacity=\"1\" /><polyline clip-path=\"url(#clip452)\" style=\"stroke:#000000; stroke-linecap:butt; stroke-linejoin:round; stroke-width:2; stroke-opacity:0.1; fill:none\" points=\"\n",
       "  147.478,1445.72 2352.76,1445.72 \n",
       "  \"/>\n",
       "<polyline clip-path=\"url(#clip452)\" style=\"stroke:#000000; stroke-linecap:butt; stroke-linejoin:round; stroke-width:2; stroke-opacity:0.1; fill:none\" points=\"\n",
       "  147.478,1174.17 2352.76,1174.17 \n",
       "  \"/>\n",
       "<polyline clip-path=\"url(#clip452)\" style=\"stroke:#000000; stroke-linecap:butt; stroke-linejoin:round; stroke-width:2; stroke-opacity:0.1; fill:none\" points=\"\n",
       "  147.478,902.62 2352.76,902.62 \n",
       "  \"/>\n",
       "<polyline clip-path=\"url(#clip452)\" style=\"stroke:#000000; stroke-linecap:butt; stroke-linejoin:round; stroke-width:2; stroke-opacity:0.1; fill:none\" points=\"\n",
       "  147.478,631.072 2352.76,631.072 \n",
       "  \"/>\n",
       "<polyline clip-path=\"url(#clip452)\" style=\"stroke:#000000; stroke-linecap:butt; stroke-linejoin:round; stroke-width:2; stroke-opacity:0.1; fill:none\" points=\"\n",
       "  147.478,359.524 2352.76,359.524 \n",
       "  \"/>\n",
       "<polyline clip-path=\"url(#clip452)\" style=\"stroke:#000000; stroke-linecap:butt; stroke-linejoin:round; stroke-width:2; stroke-opacity:0.1; fill:none\" points=\"\n",
       "  147.478,87.9763 2352.76,87.9763 \n",
       "  \"/>\n",
       "<polyline clip-path=\"url(#clip450)\" style=\"stroke:#000000; stroke-linecap:butt; stroke-linejoin:round; stroke-width:4; stroke-opacity:1; fill:none\" points=\"\n",
       "  147.478,1486.45 147.478,47.2441 \n",
       "  \"/>\n",
       "<polyline clip-path=\"url(#clip450)\" style=\"stroke:#000000; stroke-linecap:butt; stroke-linejoin:round; stroke-width:4; stroke-opacity:1; fill:none\" points=\"\n",
       "  147.478,1445.72 166.376,1445.72 \n",
       "  \"/>\n",
       "<polyline clip-path=\"url(#clip450)\" style=\"stroke:#000000; stroke-linecap:butt; stroke-linejoin:round; stroke-width:4; stroke-opacity:1; fill:none\" points=\"\n",
       "  147.478,1174.17 166.376,1174.17 \n",
       "  \"/>\n",
       "<polyline clip-path=\"url(#clip450)\" style=\"stroke:#000000; stroke-linecap:butt; stroke-linejoin:round; stroke-width:4; stroke-opacity:1; fill:none\" points=\"\n",
       "  147.478,902.62 166.376,902.62 \n",
       "  \"/>\n",
       "<polyline clip-path=\"url(#clip450)\" style=\"stroke:#000000; stroke-linecap:butt; stroke-linejoin:round; stroke-width:4; stroke-opacity:1; fill:none\" points=\"\n",
       "  147.478,631.072 166.376,631.072 \n",
       "  \"/>\n",
       "<polyline clip-path=\"url(#clip450)\" style=\"stroke:#000000; stroke-linecap:butt; stroke-linejoin:round; stroke-width:4; stroke-opacity:1; fill:none\" points=\"\n",
       "  147.478,359.524 166.376,359.524 \n",
       "  \"/>\n",
       "<polyline clip-path=\"url(#clip450)\" style=\"stroke:#000000; stroke-linecap:butt; stroke-linejoin:round; stroke-width:4; stroke-opacity:1; fill:none\" points=\"\n",
       "  147.478,87.9763 166.376,87.9763 \n",
       "  \"/>\n",
       "<path clip-path=\"url(#clip450)\" d=\"M51.3625 1446.17 L81.0383 1446.17 L81.0383 1450.1 L51.3625 1450.1 L51.3625 1446.17 Z\" fill=\"#000000\" fill-rule=\"evenodd\" fill-opacity=\"1\" /><path clip-path=\"url(#clip450)\" d=\"M95.1586 1459.06 L111.478 1459.06 L111.478 1463 L89.5336 1463 L89.5336 1459.06 Q92.1956 1456.31 96.7789 1451.68 Q101.385 1447.02 102.566 1445.68 Q104.811 1443.16 105.691 1441.42 Q106.594 1439.66 106.594 1437.97 Q106.594 1435.22 104.649 1433.48 Q102.728 1431.75 99.6261 1431.75 Q97.4271 1431.75 94.9734 1432.51 Q92.5428 1433.27 89.7651 1434.82 L89.7651 1430.1 Q92.5891 1428.97 95.0428 1428.39 Q97.4965 1427.81 99.5335 1427.81 Q104.904 1427.81 108.098 1430.5 Q111.293 1433.18 111.293 1437.67 Q111.293 1439.8 110.483 1441.72 Q109.696 1443.62 107.589 1446.21 Q107.01 1446.88 103.909 1450.1 Q100.807 1453.3 95.1586 1459.06 Z\" fill=\"#000000\" fill-rule=\"evenodd\" fill-opacity=\"1\" /><path clip-path=\"url(#clip450)\" d=\"M50.9921 1174.62 L80.6679 1174.62 L80.6679 1178.55 L50.9921 1178.55 L50.9921 1174.62 Z\" fill=\"#000000\" fill-rule=\"evenodd\" fill-opacity=\"1\" /><path clip-path=\"url(#clip450)\" d=\"M91.5706 1187.51 L99.2095 1187.51 L99.2095 1161.15 L90.8993 1162.81 L90.8993 1158.55 L99.1632 1156.89 L103.839 1156.89 L103.839 1187.51 L111.478 1187.51 L111.478 1191.45 L91.5706 1191.45 L91.5706 1187.51 Z\" fill=\"#000000\" fill-rule=\"evenodd\" fill-opacity=\"1\" /><path clip-path=\"url(#clip450)\" d=\"M99.5335 888.419 Q95.9224 888.419 94.0937 891.983 Q92.2882 895.525 92.2882 902.655 Q92.2882 909.761 94.0937 913.326 Q95.9224 916.868 99.5335 916.868 Q103.168 916.868 104.973 913.326 Q106.802 909.761 106.802 902.655 Q106.802 895.525 104.973 891.983 Q103.168 888.419 99.5335 888.419 M99.5335 884.715 Q105.344 884.715 108.399 889.321 Q111.478 893.905 111.478 902.655 Q111.478 911.381 108.399 915.988 Q105.344 920.571 99.5335 920.571 Q93.7234 920.571 90.6447 915.988 Q87.5892 911.381 87.5892 902.655 Q87.5892 893.905 90.6447 889.321 Q93.7234 884.715 99.5335 884.715 Z\" fill=\"#000000\" fill-rule=\"evenodd\" fill-opacity=\"1\" /><path clip-path=\"url(#clip450)\" d=\"M91.5706 644.417 L99.2095 644.417 L99.2095 618.051 L90.8993 619.718 L90.8993 615.459 L99.1632 613.792 L103.839 613.792 L103.839 644.417 L111.478 644.417 L111.478 648.352 L91.5706 648.352 L91.5706 644.417 Z\" fill=\"#000000\" fill-rule=\"evenodd\" fill-opacity=\"1\" /><path clip-path=\"url(#clip450)\" d=\"M95.1586 372.869 L111.478 372.869 L111.478 376.804 L89.5336 376.804 L89.5336 372.869 Q92.1956 370.114 96.7789 365.485 Q101.385 360.832 102.566 359.489 Q104.811 356.966 105.691 355.23 Q106.594 353.471 106.594 351.781 Q106.594 349.027 104.649 347.29 Q102.728 345.554 99.6261 345.554 Q97.4271 345.554 94.9734 346.318 Q92.5428 347.082 89.7651 348.633 L89.7651 343.911 Q92.5891 342.777 95.0428 342.198 Q97.4965 341.619 99.5335 341.619 Q104.904 341.619 108.098 344.304 Q111.293 346.99 111.293 351.48 Q111.293 353.61 110.483 355.531 Q109.696 357.429 107.589 360.022 Q107.01 360.693 103.909 363.911 Q100.807 367.105 95.1586 372.869 Z\" fill=\"#000000\" fill-rule=\"evenodd\" fill-opacity=\"1\" /><path clip-path=\"url(#clip450)\" d=\"M104.348 86.6221 Q107.705 87.3397 109.58 89.6082 Q111.478 91.8767 111.478 95.21 Q111.478 100.326 107.959 103.127 Q104.441 105.928 97.9595 105.928 Q95.7836 105.928 93.4688 105.488 Q91.1771 105.071 88.7234 104.215 L88.7234 99.7008 Q90.6678 100.835 92.9826 101.414 Q95.2974 101.992 97.8206 101.992 Q102.219 101.992 104.51 100.256 Q106.825 98.5202 106.825 95.21 Q106.825 92.1545 104.672 90.4415 Q102.543 88.7054 98.7234 88.7054 L94.6956 88.7054 L94.6956 84.8629 L98.9085 84.8629 Q102.358 84.8629 104.186 83.4971 Q106.015 82.1083 106.015 79.5157 Q106.015 76.8537 104.117 75.4416 Q102.242 74.0064 98.7234 74.0064 Q96.8021 74.0064 94.603 74.4231 Q92.4039 74.8398 89.7651 75.7194 L89.7651 71.5528 Q92.4271 70.812 94.7419 70.4416 Q97.0798 70.0713 99.14 70.0713 Q104.464 70.0713 107.566 72.5018 Q110.668 74.9092 110.668 79.0296 Q110.668 81.8999 109.024 83.8907 Q107.381 85.8582 104.348 86.6221 Z\" fill=\"#000000\" fill-rule=\"evenodd\" fill-opacity=\"1\" /><polyline clip-path=\"url(#clip452)\" style=\"stroke:#009af9; stroke-linecap:butt; stroke-linejoin:round; stroke-width:16; stroke-opacity:1; fill:none\" points=\"\n",
       "  147.478,1015.62 169.014,1003.44 368.149,883.323 487.82,811.435 589.001,755.66 643.957,728.421 698.912,703.883 749.576,683.984 800.24,666.966 854.557,652.176 \n",
       "  908.874,641.179 971.806,633.399 1034.74,631.091 1090.66,633.671 1146.59,640.571 1195.63,650.089 1244.68,662.726 1298.14,679.874 1351.61,700.292 1405.4,723.826 \n",
       "  1459.19,750.017 1578.12,815.37 1691.29,883.484 1808.96,955.571 1908.01,1013.55 1968.47,1046.38 2028.93,1076.52 2085.77,1101.88 2142.61,1123.93 2188.14,1138.97 \n",
       "  2233.67,1151.49 2279.2,1161.36 2324.73,1168.47 2331.74,1169.32 2338.74,1170.1 2345.75,1170.81 2352.76,1171.45 \n",
       "  \"/>\n",
       "<polyline clip-path=\"url(#clip452)\" style=\"stroke:#e26f46; stroke-linecap:butt; stroke-linejoin:round; stroke-width:16; stroke-opacity:1; fill:none\" points=\"\n",
       "  147.478,1445.72 169.014,1432.46 368.149,1309.85 487.82,1236.17 589.001,1173.88 698.912,1106.21 800.24,1043.82 908.874,976.941 1034.74,899.45 1146.59,830.585 \n",
       "  1244.68,770.196 1351.61,704.357 1459.19,638.126 1578.12,564.899 1691.29,495.226 1808.96,422.781 1908.01,361.799 2028.93,287.346 2142.61,217.358 2324.73,105.232 \n",
       "  2352.76,87.9763 \n",
       "  \"/>\n",
       "<circle clip-path=\"url(#clip452)\" cx=\"1355.57\" cy=\"701.923\" r=\"14\" fill=\"#3da44d\" fill-rule=\"evenodd\" fill-opacity=\"1\" stroke=\"#000000\" stroke-opacity=\"1\" stroke-width=\"3.2\"/>\n",
       "<polyline clip-path=\"url(#clip452)\" style=\"stroke:#c271d2; stroke-linecap:butt; stroke-linejoin:round; stroke-width:16; stroke-opacity:1; fill:none\" points=\"\n",
       "  1911.7,1015.62 846.045,654.248 1433,736.958 1298.66,680.056 1391.08,717.287 1330.61,691.9 1371.85,708.809 1344.38,697.349 1363,705.032 1350.52,699.842 \n",
       "  1358.95,703.331 1353.28,700.977 1357.1,702.561 1354.53,701.494 1356.26,702.212 1355.1,701.728 \n",
       "  \"/>\n",
       "<path clip-path=\"url(#clip452)\" d=\"M1911.7 999.624 L1895.7 1015.62 L1911.7 1031.62 L1927.7 1015.62 L1911.7 999.624 Z\" fill=\"#c271d2\" fill-rule=\"evenodd\" fill-opacity=\"1\" stroke=\"#000000\" stroke-opacity=\"1\" stroke-width=\"3.2\"/>\n",
       "<path clip-path=\"url(#clip452)\" d=\"M846.045 638.248 L830.045 654.248 L846.045 670.248 L862.045 654.248 L846.045 638.248 Z\" fill=\"#c271d2\" fill-rule=\"evenodd\" fill-opacity=\"1\" stroke=\"#000000\" stroke-opacity=\"1\" stroke-width=\"3.2\"/>\n",
       "<path clip-path=\"url(#clip452)\" d=\"M1433 720.958 L1417 736.958 L1433 752.958 L1449 736.958 L1433 720.958 Z\" fill=\"#c271d2\" fill-rule=\"evenodd\" fill-opacity=\"1\" stroke=\"#000000\" stroke-opacity=\"1\" stroke-width=\"3.2\"/>\n",
       "<path clip-path=\"url(#clip452)\" d=\"M1298.66 664.056 L1282.66 680.056 L1298.66 696.056 L1314.66 680.056 L1298.66 664.056 Z\" fill=\"#c271d2\" fill-rule=\"evenodd\" fill-opacity=\"1\" stroke=\"#000000\" stroke-opacity=\"1\" stroke-width=\"3.2\"/>\n",
       "<path clip-path=\"url(#clip452)\" d=\"M1391.08 701.287 L1375.08 717.287 L1391.08 733.287 L1407.08 717.287 L1391.08 701.287 Z\" fill=\"#c271d2\" fill-rule=\"evenodd\" fill-opacity=\"1\" stroke=\"#000000\" stroke-opacity=\"1\" stroke-width=\"3.2\"/>\n",
       "<path clip-path=\"url(#clip452)\" d=\"M1330.61 675.9 L1314.61 691.9 L1330.61 707.9 L1346.61 691.9 L1330.61 675.9 Z\" fill=\"#c271d2\" fill-rule=\"evenodd\" fill-opacity=\"1\" stroke=\"#000000\" stroke-opacity=\"1\" stroke-width=\"3.2\"/>\n",
       "<path clip-path=\"url(#clip452)\" d=\"M1371.85 692.809 L1355.85 708.809 L1371.85 724.809 L1387.85 708.809 L1371.85 692.809 Z\" fill=\"#c271d2\" fill-rule=\"evenodd\" fill-opacity=\"1\" stroke=\"#000000\" stroke-opacity=\"1\" stroke-width=\"3.2\"/>\n",
       "<path clip-path=\"url(#clip452)\" d=\"M1344.38 681.349 L1328.38 697.349 L1344.38 713.349 L1360.38 697.349 L1344.38 681.349 Z\" fill=\"#c271d2\" fill-rule=\"evenodd\" fill-opacity=\"1\" stroke=\"#000000\" stroke-opacity=\"1\" stroke-width=\"3.2\"/>\n",
       "<path clip-path=\"url(#clip452)\" d=\"M1363 689.032 L1347 705.032 L1363 721.032 L1379 705.032 L1363 689.032 Z\" fill=\"#c271d2\" fill-rule=\"evenodd\" fill-opacity=\"1\" stroke=\"#000000\" stroke-opacity=\"1\" stroke-width=\"3.2\"/>\n",
       "<path clip-path=\"url(#clip452)\" d=\"M1350.52 683.842 L1334.52 699.842 L1350.52 715.842 L1366.52 699.842 L1350.52 683.842 Z\" fill=\"#c271d2\" fill-rule=\"evenodd\" fill-opacity=\"1\" stroke=\"#000000\" stroke-opacity=\"1\" stroke-width=\"3.2\"/>\n",
       "<path clip-path=\"url(#clip452)\" d=\"M1358.95 687.331 L1342.95 703.331 L1358.95 719.331 L1374.95 703.331 L1358.95 687.331 Z\" fill=\"#c271d2\" fill-rule=\"evenodd\" fill-opacity=\"1\" stroke=\"#000000\" stroke-opacity=\"1\" stroke-width=\"3.2\"/>\n",
       "<path clip-path=\"url(#clip452)\" d=\"M1353.28 684.977 L1337.28 700.977 L1353.28 716.977 L1369.28 700.977 L1353.28 684.977 Z\" fill=\"#c271d2\" fill-rule=\"evenodd\" fill-opacity=\"1\" stroke=\"#000000\" stroke-opacity=\"1\" stroke-width=\"3.2\"/>\n",
       "<path clip-path=\"url(#clip452)\" d=\"M1357.1 686.561 L1341.1 702.561 L1357.1 718.561 L1373.1 702.561 L1357.1 686.561 Z\" fill=\"#c271d2\" fill-rule=\"evenodd\" fill-opacity=\"1\" stroke=\"#000000\" stroke-opacity=\"1\" stroke-width=\"3.2\"/>\n",
       "<path clip-path=\"url(#clip452)\" d=\"M1354.53 685.494 L1338.53 701.494 L1354.53 717.494 L1370.53 701.494 L1354.53 685.494 Z\" fill=\"#c271d2\" fill-rule=\"evenodd\" fill-opacity=\"1\" stroke=\"#000000\" stroke-opacity=\"1\" stroke-width=\"3.2\"/>\n",
       "<path clip-path=\"url(#clip452)\" d=\"M1356.26 686.212 L1340.26 702.212 L1356.26 718.212 L1372.26 702.212 L1356.26 686.212 Z\" fill=\"#c271d2\" fill-rule=\"evenodd\" fill-opacity=\"1\" stroke=\"#000000\" stroke-opacity=\"1\" stroke-width=\"3.2\"/>\n",
       "<path clip-path=\"url(#clip452)\" d=\"M1355.1 685.728 L1339.1 701.728 L1355.1 717.728 L1371.1 701.728 L1355.1 685.728 Z\" fill=\"#c271d2\" fill-rule=\"evenodd\" fill-opacity=\"1\" stroke=\"#000000\" stroke-opacity=\"1\" stroke-width=\"3.2\"/>\n",
       "<path clip-path=\"url(#clip450)\" d=\"\n",
       "M1965.07 354.418 L2279.25 354.418 L2279.25 95.2176 L1965.07 95.2176  Z\n",
       "  \" fill=\"#ffffff\" fill-rule=\"evenodd\" fill-opacity=\"1\"/>\n",
       "<polyline clip-path=\"url(#clip450)\" style=\"stroke:#000000; stroke-linecap:butt; stroke-linejoin:round; stroke-width:4; stroke-opacity:1; fill:none\" points=\"\n",
       "  1965.07,354.418 2279.25,354.418 2279.25,95.2176 1965.07,95.2176 1965.07,354.418 \n",
       "  \"/>\n",
       "<polyline clip-path=\"url(#clip450)\" style=\"stroke:#009af9; stroke-linecap:butt; stroke-linejoin:round; stroke-width:4; stroke-opacity:1; fill:none\" points=\"\n",
       "  1989.57,147.058 2136.59,147.058 \n",
       "  \"/>\n",
       "<path clip-path=\"url(#clip450)\" d=\"M2174.94 166.745 Q2173.13 171.375 2171.42 172.787 Q2169.7 174.199 2166.83 174.199 L2163.43 174.199 L2163.43 170.634 L2165.93 170.634 Q2167.69 170.634 2168.66 169.8 Q2169.63 168.967 2170.81 165.865 L2171.58 163.921 L2161.09 138.412 L2165.61 138.412 L2173.71 158.689 L2181.81 138.412 L2186.32 138.412 L2174.94 166.745 Z\" fill=\"#000000\" fill-rule=\"evenodd\" fill-opacity=\"1\" /><path clip-path=\"url(#clip450)\" d=\"M2193.62 160.402 L2201.25 160.402 L2201.25 134.037 L2192.94 135.703 L2192.94 131.444 L2201.21 129.778 L2205.88 129.778 L2205.88 160.402 L2213.52 160.402 L2213.52 164.338 L2193.62 164.338 L2193.62 160.402 Z\" fill=\"#000000\" fill-rule=\"evenodd\" fill-opacity=\"1\" /><polyline clip-path=\"url(#clip450)\" style=\"stroke:#e26f46; stroke-linecap:butt; stroke-linejoin:round; stroke-width:4; stroke-opacity:1; fill:none\" points=\"\n",
       "  1989.57,198.898 2136.59,198.898 \n",
       "  \"/>\n",
       "<path clip-path=\"url(#clip450)\" d=\"M2174.94 218.585 Q2173.13 223.215 2171.42 224.627 Q2169.7 226.039 2166.83 226.039 L2163.43 226.039 L2163.43 222.474 L2165.93 222.474 Q2167.69 222.474 2168.66 221.64 Q2169.63 220.807 2170.81 217.705 L2171.58 215.761 L2161.09 190.252 L2165.61 190.252 L2173.71 210.529 L2181.81 190.252 L2186.32 190.252 L2174.94 218.585 Z\" fill=\"#000000\" fill-rule=\"evenodd\" fill-opacity=\"1\" /><path clip-path=\"url(#clip450)\" d=\"M2196.83 212.242 L2213.15 212.242 L2213.15 216.178 L2191.21 216.178 L2191.21 212.242 Q2193.87 209.488 2198.45 204.858 Q2203.06 200.205 2204.24 198.863 Q2206.49 196.34 2207.37 194.604 Q2208.27 192.844 2208.27 191.155 Q2208.27 188.4 2206.32 186.664 Q2204.4 184.928 2201.3 184.928 Q2199.1 184.928 2196.65 185.692 Q2194.22 186.455 2191.44 188.006 L2191.44 183.284 Q2194.26 182.15 2196.72 181.571 Q2199.17 180.993 2201.21 180.993 Q2206.58 180.993 2209.77 183.678 Q2212.97 186.363 2212.97 190.854 Q2212.97 192.983 2212.16 194.905 Q2211.37 196.803 2209.26 199.395 Q2208.68 200.067 2205.58 203.284 Q2202.48 206.479 2196.83 212.242 Z\" fill=\"#000000\" fill-rule=\"evenodd\" fill-opacity=\"1\" /><circle clip-path=\"url(#clip450)\" cx=\"2063.08\" cy=\"250.738\" r=\"23\" fill=\"#3da44d\" fill-rule=\"evenodd\" fill-opacity=\"1\" stroke=\"#000000\" stroke-opacity=\"1\" stroke-width=\"5.12\"/>\n",
       "<path clip-path=\"url(#clip450)\" d=\"M2184.98 240.639 Q2184.98 241.951 2184.16 242.7 Q2183.34 243.427 2182.41 243.427 Q2181.52 243.427 2181.05 242.911 Q2180.58 242.396 2180.58 241.74 Q2180.58 240.85 2181.24 240.077 Q2181.89 239.304 2182.88 239.14 Q2181.92 238.531 2180.49 238.531 Q2179.55 238.531 2178.73 239.023 Q2177.93 239.515 2177.44 240.147 Q2176.97 240.78 2176.55 241.693 Q2176.15 242.583 2175.99 243.122 Q2175.85 243.637 2175.73 244.199 L2174.09 250.758 Q2173.3 253.873 2173.3 254.974 Q2173.3 256.332 2173.95 257.246 Q2174.61 258.136 2175.92 258.136 Q2176.43 258.136 2177.02 257.995 Q2177.61 257.831 2178.35 257.41 Q2179.13 256.965 2179.81 256.309 Q2180.51 255.63 2181.19 254.482 Q2181.87 253.334 2182.31 251.859 Q2182.45 251.343 2182.92 251.343 Q2183.51 251.343 2183.51 251.812 Q2183.51 252.21 2183.18 253.053 Q2182.88 253.873 2182.2 254.95 Q2181.54 256.004 2180.67 256.965 Q2179.81 257.902 2178.52 258.557 Q2177.23 259.213 2175.83 259.213 Q2173.81 259.213 2172.48 258.136 Q2171.14 257.058 2170.65 255.559 Q2170.53 255.77 2170.37 256.051 Q2170.2 256.332 2169.71 256.965 Q2169.24 257.574 2168.7 258.042 Q2168.17 258.487 2167.32 258.839 Q2166.5 259.213 2165.61 259.213 Q2164.49 259.213 2163.48 258.885 Q2162.5 258.557 2161.8 257.808 Q2161.09 257.058 2161.09 256.028 Q2161.09 254.88 2161.87 254.084 Q2162.66 253.264 2163.74 253.264 Q2164.42 253.264 2164.96 253.662 Q2165.52 254.06 2165.52 254.927 Q2165.52 255.887 2164.86 256.613 Q2164.21 257.339 2163.27 257.527 Q2164.23 258.136 2165.66 258.136 Q2167.21 258.136 2168.42 256.777 Q2169.64 255.419 2170.23 253.147 Q2171.68 247.689 2172.24 245.253 Q2172.8 242.794 2172.8 241.74 Q2172.8 240.756 2172.55 240.077 Q2172.29 239.398 2171.84 239.093 Q2171.42 238.765 2171.02 238.648 Q2170.65 238.531 2170.23 238.531 Q2169.52 238.531 2168.73 238.812 Q2167.96 239.093 2167.02 239.749 Q2166.11 240.382 2165.24 241.693 Q2164.37 243.005 2163.79 244.808 Q2163.67 245.347 2163.15 245.347 Q2162.59 245.324 2162.59 244.855 Q2162.59 244.457 2162.9 243.637 Q2163.22 242.794 2163.88 241.74 Q2164.56 240.686 2165.43 239.749 Q2166.32 238.789 2167.6 238.133 Q2168.92 237.477 2170.32 237.477 Q2170.95 237.477 2171.56 237.618 Q2172.19 237.735 2172.94 238.086 Q2173.72 238.438 2174.4 239.21 Q2175.08 239.983 2175.5 241.108 Q2175.78 240.569 2176.15 240.054 Q2176.55 239.538 2177.16 238.906 Q2177.79 238.25 2178.66 237.875 Q2179.55 237.477 2180.53 237.477 Q2181.49 237.477 2182.43 237.735 Q2183.37 237.969 2184.16 238.742 Q2184.98 239.492 2184.98 240.639 Z\" fill=\"#000000\" fill-rule=\"evenodd\" fill-opacity=\"1\" /><path clip-path=\"url(#clip450)\" d=\"M2199.18 262.804 Q2199.18 262.23 2199.95 261.853 L2204.63 259.639 L2199.89 257.426 Q2199.18 257.098 2199.18 256.524 Q2199.18 256.196 2199.44 255.901 Q2199.72 255.589 2200.08 255.589 Q2200.35 255.589 2200.82 255.95 L2204.99 258.967 Q2204.48 253.425 2204.49 253.261 Q2204.49 252.933 2204.74 252.687 Q2204.99 252.425 2205.4 252.425 Q2205.72 252.425 2205.99 252.671 Q2206.27 252.901 2206.27 253.261 L2205.77 258.967 L2209.5 256.213 Q2210.36 255.573 2210.68 255.589 Q2211.05 255.589 2211.31 255.885 Q2211.58 256.18 2211.58 256.524 Q2211.58 257.098 2210.81 257.459 L2206.13 259.672 L2210.87 261.902 Q2211.58 262.23 2211.58 262.804 Q2211.58 263.132 2211.3 263.443 Q2211.04 263.738 2210.68 263.738 Q2210.48 263.738 2210.13 263.541 Q2210.07 263.509 2209.36 262.984 Q2208.66 262.459 2207.56 261.656 Q2206.48 260.853 2205.77 260.344 Q2206.28 265.886 2206.27 266.05 Q2206.27 266.378 2206.02 266.64 Q2205.77 266.903 2205.36 266.903 Q2205.04 266.903 2204.76 266.673 Q2204.49 266.427 2204.49 266.05 L2204.99 260.344 L2200.3 263.738 Q2199.79 263.738 2199.51 263.492 Q2199.25 263.23 2199.21 263.082 Q2199.18 262.935 2199.18 262.804 Z\" fill=\"#000000\" fill-rule=\"evenodd\" fill-opacity=\"1\" /><polyline clip-path=\"url(#clip450)\" style=\"stroke:#c271d2; stroke-linecap:butt; stroke-linejoin:round; stroke-width:4; stroke-opacity:1; fill:none\" points=\"\n",
       "  1989.57,302.578 2136.59,302.578 \n",
       "  \"/>\n",
       "<path clip-path=\"url(#clip450)\" d=\"M2063.08 276.978 L2037.48 302.578 L2063.08 328.178 L2088.68 302.578 L2063.08 276.978 Z\" fill=\"#c271d2\" fill-rule=\"evenodd\" fill-opacity=\"1\" stroke=\"#000000\" stroke-opacity=\"1\" stroke-width=\"5.12\"/>\n",
       "<path clip-path=\"url(#clip450)\" d=\"M2174.94 322.265 Q2173.13 326.895 2171.42 328.307 Q2169.7 329.719 2166.83 329.719 L2163.43 329.719 L2163.43 326.154 L2165.93 326.154 Q2167.69 326.154 2168.66 325.32 Q2169.63 324.487 2170.81 321.385 L2171.58 319.441 L2161.09 293.932 L2165.61 293.932 L2173.71 314.209 L2181.81 293.932 L2186.32 293.932 L2174.94 322.265 Z\" fill=\"#000000\" fill-rule=\"evenodd\" fill-opacity=\"1\" /><path clip-path=\"url(#clip450)\" d=\"M2205.65 289.372 L2193.85 307.821 L2205.65 307.821 L2205.65 289.372 M2204.43 285.298 L2210.31 285.298 L2210.31 307.821 L2215.24 307.821 L2215.24 311.709 L2210.31 311.709 L2210.31 319.858 L2205.65 319.858 L2205.65 311.709 L2190.05 311.709 L2190.05 307.196 L2204.43 285.298 Z\" fill=\"#000000\" fill-rule=\"evenodd\" fill-opacity=\"1\" /></svg>\n"
      ]
     },
     "execution_count": 72,
     "metadata": {},
     "output_type": "execute_result"
    }
   ],
   "source": [
    "function fixed_point(g, x, n)\n",
    "    xs = [x]\n",
    "    for k in 1:n\n",
    "        x = g(x)\n",
    "        append!(xs, x)\n",
    "    end\n",
    "    xs\n",
    "end\n",
    "\n",
    "xs = fixed_point(cos, 2., 15)\n",
    "plot!(xs, cos.(xs), seriestype=:path, marker=:auto)"
   ]
  },
  {
   "cell_type": "markdown",
   "id": "e133e47c",
   "metadata": {
    "slideshow": {
     "slide_type": "slide"
    }
   },
   "source": [
    "# Verifying fixed point convergence theory\n",
    "\n",
    "\n",
    "$$ \\left\\lvert \\frac{e_{k+1}}{e_k} \\right\\rvert \\to \\lvert g'(x_*) \\rvert $$"
   ]
  },
  {
   "cell_type": "code",
   "execution_count": 83,
   "id": "485c2f3c",
   "metadata": {
    "cell_style": "split"
   },
   "outputs": [
    {
     "name": "stdout",
     "output_type": "stream",
     "text": [
      "gprime = -0.6736120293089505\n"
     ]
    },
    {
     "data": {
      "text/plain": [
       "15-element Vector{Float64}:\n",
       " -0.9161855415615605\n",
       " -0.15197657010596488\n",
       " -0.734870205299266\n",
       " -0.624132525531327\n",
       " -0.7026257933893496\n",
       " -0.6523498121376077\n",
       " -0.6870971782336925\n",
       " -0.664168570025122\n",
       " -0.6798044680427148\n",
       " -0.6693659427636027\n",
       " -0.6764378047956165\n",
       " -0.6716930541785153\n",
       " -0.6748976495459512\n",
       " -0.6727427617641084\n",
       " -0.6741962236114177"
      ]
     },
     "execution_count": 83,
     "metadata": {},
     "output_type": "execute_result"
    }
   ],
   "source": [
    "@show gprime\n",
    "es = xs .- xstar\n",
    "es[2:end] ./ es[1:end-1]"
   ]
  },
  {
   "cell_type": "code",
   "execution_count": 82,
   "id": "e5689d1a",
   "metadata": {
    "cell_style": "split"
   },
   "outputs": [
    {
     "data": {
      "image/svg+xml": [
       "<?xml version=\"1.0\" encoding=\"utf-8\"?>\n",
       "<svg xmlns=\"http://www.w3.org/2000/svg\" xmlns:xlink=\"http://www.w3.org/1999/xlink\" width=\"600\" height=\"400\" viewBox=\"0 0 2400 1600\">\n",
       "<defs>\n",
       "  <clipPath id=\"clip770\">\n",
       "    <rect x=\"0\" y=\"0\" width=\"2400\" height=\"1600\"/>\n",
       "  </clipPath>\n",
       "</defs>\n",
       "<path clip-path=\"url(#clip770)\" d=\"\n",
       "M0 1600 L2400 1600 L2400 0 L0 0  Z\n",
       "  \" fill=\"#ffffff\" fill-rule=\"evenodd\" fill-opacity=\"1\"/>\n",
       "<defs>\n",
       "  <clipPath id=\"clip771\">\n",
       "    <rect x=\"480\" y=\"0\" width=\"1681\" height=\"1600\"/>\n",
       "  </clipPath>\n",
       "</defs>\n",
       "<defs>\n",
       "  <clipPath id=\"clip772\">\n",
       "    <rect x=\"187\" y=\"47\" width=\"2166\" height=\"1440\"/>\n",
       "  </clipPath>\n",
       "</defs>\n",
       "<path clip-path=\"url(#clip770)\" d=\"\n",
       "M187.803 1486.45 L2352.76 1486.45 L2352.76 47.2441 L187.803 47.2441  Z\n",
       "  \" fill=\"#ffffff\" fill-rule=\"evenodd\" fill-opacity=\"1\"/>\n",
       "<polyline clip-path=\"url(#clip772)\" style=\"stroke:#000000; stroke-linecap:butt; stroke-linejoin:round; stroke-width:2; stroke-opacity:0.1; fill:none\" points=\"\n",
       "  521.397,1486.45 521.397,47.2441 \n",
       "  \"/>\n",
       "<polyline clip-path=\"url(#clip772)\" style=\"stroke:#000000; stroke-linecap:butt; stroke-linejoin:round; stroke-width:2; stroke-opacity:0.1; fill:none\" points=\"\n",
       "  929.878,1486.45 929.878,47.2441 \n",
       "  \"/>\n",
       "<polyline clip-path=\"url(#clip772)\" style=\"stroke:#000000; stroke-linecap:butt; stroke-linejoin:round; stroke-width:2; stroke-opacity:0.1; fill:none\" points=\"\n",
       "  1338.36,1486.45 1338.36,47.2441 \n",
       "  \"/>\n",
       "<polyline clip-path=\"url(#clip772)\" style=\"stroke:#000000; stroke-linecap:butt; stroke-linejoin:round; stroke-width:2; stroke-opacity:0.1; fill:none\" points=\"\n",
       "  1746.84,1486.45 1746.84,47.2441 \n",
       "  \"/>\n",
       "<polyline clip-path=\"url(#clip772)\" style=\"stroke:#000000; stroke-linecap:butt; stroke-linejoin:round; stroke-width:2; stroke-opacity:0.1; fill:none\" points=\"\n",
       "  2155.32,1486.45 2155.32,47.2441 \n",
       "  \"/>\n",
       "<polyline clip-path=\"url(#clip770)\" style=\"stroke:#000000; stroke-linecap:butt; stroke-linejoin:round; stroke-width:4; stroke-opacity:1; fill:none\" points=\"\n",
       "  187.803,1486.45 2352.76,1486.45 \n",
       "  \"/>\n",
       "<polyline clip-path=\"url(#clip770)\" style=\"stroke:#000000; stroke-linecap:butt; stroke-linejoin:round; stroke-width:4; stroke-opacity:1; fill:none\" points=\"\n",
       "  521.397,1486.45 521.397,1467.55 \n",
       "  \"/>\n",
       "<polyline clip-path=\"url(#clip770)\" style=\"stroke:#000000; stroke-linecap:butt; stroke-linejoin:round; stroke-width:4; stroke-opacity:1; fill:none\" points=\"\n",
       "  929.878,1486.45 929.878,1467.55 \n",
       "  \"/>\n",
       "<polyline clip-path=\"url(#clip770)\" style=\"stroke:#000000; stroke-linecap:butt; stroke-linejoin:round; stroke-width:4; stroke-opacity:1; fill:none\" points=\"\n",
       "  1338.36,1486.45 1338.36,1467.55 \n",
       "  \"/>\n",
       "<polyline clip-path=\"url(#clip770)\" style=\"stroke:#000000; stroke-linecap:butt; stroke-linejoin:round; stroke-width:4; stroke-opacity:1; fill:none\" points=\"\n",
       "  1746.84,1486.45 1746.84,1467.55 \n",
       "  \"/>\n",
       "<polyline clip-path=\"url(#clip770)\" style=\"stroke:#000000; stroke-linecap:butt; stroke-linejoin:round; stroke-width:4; stroke-opacity:1; fill:none\" points=\"\n",
       "  2155.32,1486.45 2155.32,1467.55 \n",
       "  \"/>\n",
       "<path clip-path=\"url(#clip770)\" d=\"M525.644 1530.21 Q529.001 1530.93 530.876 1533.2 Q532.774 1535.47 532.774 1538.8 Q532.774 1543.92 529.255 1546.72 Q525.737 1549.52 519.255 1549.52 Q517.079 1549.52 514.765 1549.08 Q512.473 1548.66 510.019 1547.81 L510.019 1543.29 Q511.964 1544.43 514.279 1545.01 Q516.593 1545.58 519.116 1545.58 Q523.515 1545.58 525.806 1543.85 Q528.121 1542.11 528.121 1538.8 Q528.121 1535.75 525.968 1534.03 Q523.839 1532.3 520.019 1532.3 L515.991 1532.3 L515.991 1528.45 L520.204 1528.45 Q523.653 1528.45 525.482 1527.09 Q527.311 1525.7 527.311 1523.11 Q527.311 1520.45 525.413 1519.03 Q523.538 1517.6 520.019 1517.6 Q518.098 1517.6 515.899 1518.01 Q513.7 1518.43 511.061 1519.31 L511.061 1515.14 Q513.723 1514.4 516.038 1514.03 Q518.376 1513.66 520.436 1513.66 Q525.76 1513.66 528.862 1516.09 Q531.964 1518.5 531.964 1522.62 Q531.964 1525.49 530.32 1527.48 Q528.677 1529.45 525.644 1530.21 Z\" fill=\"#000000\" fill-rule=\"evenodd\" fill-opacity=\"1\" /><path clip-path=\"url(#clip770)\" d=\"M930.283 1529.7 Q927.135 1529.7 925.283 1531.86 Q923.455 1534.01 923.455 1537.76 Q923.455 1541.49 925.283 1543.66 Q927.135 1545.82 930.283 1545.82 Q933.431 1545.82 935.26 1543.66 Q937.112 1541.49 937.112 1537.76 Q937.112 1534.01 935.26 1531.86 Q933.431 1529.7 930.283 1529.7 M939.566 1515.05 L939.566 1519.31 Q937.806 1518.48 936.001 1518.04 Q934.218 1517.6 932.459 1517.6 Q927.83 1517.6 925.376 1520.72 Q922.945 1523.85 922.598 1530.17 Q923.964 1528.15 926.024 1527.09 Q928.084 1526 930.561 1526 Q935.769 1526 938.779 1529.17 Q941.811 1532.32 941.811 1537.76 Q941.811 1543.08 938.663 1546.3 Q935.515 1549.52 930.283 1549.52 Q924.288 1549.52 921.117 1544.94 Q917.945 1540.33 917.945 1531.6 Q917.945 1523.41 921.834 1518.55 Q925.723 1513.66 932.274 1513.66 Q934.033 1513.66 935.816 1514.01 Q937.621 1514.36 939.566 1515.05 Z\" fill=\"#000000\" fill-rule=\"evenodd\" fill-opacity=\"1\" /><path clip-path=\"url(#clip770)\" d=\"M1328.66 1548.13 L1328.66 1543.87 Q1330.42 1544.7 1332.23 1545.14 Q1334.03 1545.58 1335.77 1545.58 Q1340.4 1545.58 1342.83 1542.48 Q1345.28 1539.36 1345.63 1533.01 Q1344.29 1535.01 1342.23 1536.07 Q1340.17 1537.13 1337.67 1537.13 Q1332.48 1537.13 1329.45 1534.01 Q1326.44 1530.86 1326.44 1525.42 Q1326.44 1520.1 1329.59 1516.88 Q1332.73 1513.66 1337.97 1513.66 Q1343.96 1513.66 1347.11 1518.27 Q1350.28 1522.85 1350.28 1531.6 Q1350.28 1539.77 1346.39 1544.66 Q1342.53 1549.52 1335.98 1549.52 Q1334.22 1549.52 1332.41 1549.17 Q1330.61 1548.82 1328.66 1548.13 M1337.97 1533.48 Q1341.11 1533.48 1342.94 1531.32 Q1344.79 1529.17 1344.79 1525.42 Q1344.79 1521.7 1342.94 1519.54 Q1341.11 1517.37 1337.97 1517.37 Q1334.82 1517.37 1332.97 1519.54 Q1331.14 1521.7 1331.14 1525.42 Q1331.14 1529.17 1332.97 1531.32 Q1334.82 1533.48 1337.97 1533.48 Z\" fill=\"#000000\" fill-rule=\"evenodd\" fill-opacity=\"1\" /><path clip-path=\"url(#clip770)\" d=\"M1722.33 1544.91 L1729.97 1544.91 L1729.97 1518.55 L1721.66 1520.21 L1721.66 1515.95 L1729.92 1514.29 L1734.6 1514.29 L1734.6 1544.91 L1742.24 1544.91 L1742.24 1548.85 L1722.33 1548.85 L1722.33 1544.91 Z\" fill=\"#000000\" fill-rule=\"evenodd\" fill-opacity=\"1\" /><path clip-path=\"url(#clip770)\" d=\"M1755.71 1544.91 L1772.03 1544.91 L1772.03 1548.85 L1750.08 1548.85 L1750.08 1544.91 Q1752.74 1542.16 1757.33 1537.53 Q1761.93 1532.88 1763.11 1531.53 Q1765.36 1529.01 1766.24 1527.27 Q1767.14 1525.51 1767.14 1523.82 Q1767.14 1521.07 1765.2 1519.33 Q1763.28 1517.6 1760.17 1517.6 Q1757.98 1517.6 1755.52 1518.36 Q1753.09 1519.13 1750.31 1520.68 L1750.31 1515.95 Q1753.14 1514.82 1755.59 1514.24 Q1758.05 1513.66 1760.08 1513.66 Q1765.45 1513.66 1768.65 1516.35 Q1771.84 1519.03 1771.84 1523.52 Q1771.84 1525.65 1771.03 1527.57 Q1770.24 1529.47 1768.14 1532.07 Q1767.56 1532.74 1764.46 1535.95 Q1761.36 1539.15 1755.71 1544.91 Z\" fill=\"#000000\" fill-rule=\"evenodd\" fill-opacity=\"1\" /><path clip-path=\"url(#clip770)\" d=\"M2130.51 1544.91 L2138.15 1544.91 L2138.15 1518.55 L2129.84 1520.21 L2129.84 1515.95 L2138.1 1514.29 L2142.78 1514.29 L2142.78 1544.91 L2150.42 1544.91 L2150.42 1548.85 L2130.51 1548.85 L2130.51 1544.91 Z\" fill=\"#000000\" fill-rule=\"evenodd\" fill-opacity=\"1\" /><path clip-path=\"url(#clip770)\" d=\"M2159.91 1514.29 L2178.26 1514.29 L2178.26 1518.22 L2164.19 1518.22 L2164.19 1526.7 Q2165.21 1526.35 2166.23 1526.19 Q2167.24 1526 2168.26 1526 Q2174.05 1526 2177.43 1529.17 Q2180.81 1532.34 2180.81 1537.76 Q2180.81 1543.34 2177.34 1546.44 Q2173.86 1549.52 2167.55 1549.52 Q2165.37 1549.52 2163.1 1549.15 Q2160.86 1548.78 2158.45 1548.04 L2158.45 1543.34 Q2160.53 1544.47 2162.75 1545.03 Q2164.98 1545.58 2167.45 1545.58 Q2171.46 1545.58 2173.8 1543.48 Q2176.13 1541.37 2176.13 1537.76 Q2176.13 1534.15 2173.8 1532.04 Q2171.46 1529.94 2167.45 1529.94 Q2165.58 1529.94 2163.7 1530.35 Q2161.85 1530.77 2159.91 1531.65 L2159.91 1514.29 Z\" fill=\"#000000\" fill-rule=\"evenodd\" fill-opacity=\"1\" /><polyline clip-path=\"url(#clip772)\" style=\"stroke:#000000; stroke-linecap:butt; stroke-linejoin:round; stroke-width:2; stroke-opacity:0.1; fill:none\" points=\"\n",
       "  187.803,1016.14 2352.76,1016.14 \n",
       "  \"/>\n",
       "<polyline clip-path=\"url(#clip772)\" style=\"stroke:#000000; stroke-linecap:butt; stroke-linejoin:round; stroke-width:2; stroke-opacity:0.1; fill:none\" points=\"\n",
       "  187.803,132.463 2352.76,132.463 \n",
       "  \"/>\n",
       "<polyline clip-path=\"url(#clip770)\" style=\"stroke:#000000; stroke-linecap:butt; stroke-linejoin:round; stroke-width:4; stroke-opacity:1; fill:none\" points=\"\n",
       "  187.803,1486.45 187.803,47.2441 \n",
       "  \"/>\n",
       "<polyline clip-path=\"url(#clip770)\" style=\"stroke:#000000; stroke-linecap:butt; stroke-linejoin:round; stroke-width:4; stroke-opacity:1; fill:none\" points=\"\n",
       "  187.803,1016.14 206.701,1016.14 \n",
       "  \"/>\n",
       "<polyline clip-path=\"url(#clip770)\" style=\"stroke:#000000; stroke-linecap:butt; stroke-linejoin:round; stroke-width:4; stroke-opacity:1; fill:none\" points=\"\n",
       "  187.803,132.463 206.701,132.463 \n",
       "  \"/>\n",
       "<path clip-path=\"url(#clip770)\" d=\"M51.6634 1035.93 L59.3023 1035.93 L59.3023 1009.57 L50.9921 1011.23 L50.9921 1006.97 L59.256 1005.31 L63.9319 1005.31 L63.9319 1035.93 L71.5707 1035.93 L71.5707 1039.87 L51.6634 1039.87 L51.6634 1035.93 Z\" fill=\"#000000\" fill-rule=\"evenodd\" fill-opacity=\"1\" /><path clip-path=\"url(#clip770)\" d=\"M91.0151 1008.39 Q87.404 1008.39 85.5753 1011.95 Q83.7697 1015.49 83.7697 1022.62 Q83.7697 1029.73 85.5753 1033.29 Q87.404 1036.84 91.0151 1036.84 Q94.6493 1036.84 96.4548 1033.29 Q98.2835 1029.73 98.2835 1022.62 Q98.2835 1015.49 96.4548 1011.95 Q94.6493 1008.39 91.0151 1008.39 M91.0151 1004.68 Q96.8252 1004.68 99.8808 1009.29 Q102.959 1013.87 102.959 1022.62 Q102.959 1031.35 99.8808 1035.96 Q96.8252 1040.54 91.0151 1040.54 Q85.2049 1040.54 82.1262 1035.96 Q79.0707 1031.35 79.0707 1022.62 Q79.0707 1013.87 82.1262 1009.29 Q85.2049 1004.68 91.0151 1004.68 Z\" fill=\"#000000\" fill-rule=\"evenodd\" fill-opacity=\"1\" /><path clip-path=\"url(#clip770)\" d=\"M102.959 998.784 L127.071 998.784 L127.071 1001.98 L102.959 1001.98 L102.959 998.784 Z\" fill=\"#000000\" fill-rule=\"evenodd\" fill-opacity=\"1\" /><path clip-path=\"url(#clip770)\" d=\"M138.544 1009.26 L151.803 1009.26 L151.803 1012.46 L133.973 1012.46 L133.973 1009.26 Q136.136 1007.02 139.86 1003.26 Q143.603 999.48 144.562 998.389 Q146.387 996.339 147.101 994.928 Q147.835 993.499 147.835 992.126 Q147.835 989.888 146.255 988.477 Q144.694 987.067 142.174 987.067 Q140.387 987.067 138.393 987.687 Q136.418 988.308 134.162 989.568 L134.162 985.731 Q136.456 984.81 138.45 984.34 Q140.443 983.869 142.098 983.869 Q146.462 983.869 149.057 986.051 Q151.653 988.233 151.653 991.882 Q151.653 993.612 150.994 995.173 Q150.355 996.715 148.644 998.822 Q148.173 999.367 145.653 1001.98 Q143.133 1004.58 138.544 1009.26 Z\" fill=\"#000000\" fill-rule=\"evenodd\" fill-opacity=\"1\" /><path clip-path=\"url(#clip770)\" d=\"M81.0976 152.256 L88.7364 152.256 L88.7364 125.89 L80.4263 127.557 L80.4263 123.297 L88.6901 121.631 L93.366 121.631 L93.366 152.256 L101.005 152.256 L101.005 156.191 L81.0976 156.191 L81.0976 152.256 Z\" fill=\"#000000\" fill-rule=\"evenodd\" fill-opacity=\"1\" /><path clip-path=\"url(#clip770)\" d=\"M120.449 124.709 Q116.838 124.709 115.009 128.274 Q113.204 131.816 113.204 138.945 Q113.204 146.052 115.009 149.617 Q116.838 153.158 120.449 153.158 Q124.083 153.158 125.889 149.617 Q127.718 146.052 127.718 138.945 Q127.718 131.816 125.889 128.274 Q124.083 124.709 120.449 124.709 M120.449 121.006 Q126.259 121.006 129.315 125.612 Q132.394 130.195 132.394 138.945 Q132.394 147.672 129.315 152.279 Q126.259 156.862 120.449 156.862 Q114.639 156.862 111.56 152.279 Q108.505 147.672 108.505 138.945 Q108.505 130.195 111.56 125.612 Q114.639 121.006 120.449 121.006 Z\" fill=\"#000000\" fill-rule=\"evenodd\" fill-opacity=\"1\" /><path clip-path=\"url(#clip770)\" d=\"M142.098 103.202 Q139.164 103.202 137.679 106.098 Q136.212 108.976 136.212 114.769 Q136.212 120.543 137.679 123.439 Q139.164 126.317 142.098 126.317 Q145.051 126.317 146.518 123.439 Q148.004 120.543 148.004 114.769 Q148.004 108.976 146.518 106.098 Q145.051 103.202 142.098 103.202 M142.098 100.193 Q146.819 100.193 149.302 103.935 Q151.803 107.659 151.803 114.769 Q151.803 121.859 149.302 125.602 Q146.819 129.326 142.098 129.326 Q137.378 129.326 134.876 125.602 Q132.394 121.859 132.394 114.769 Q132.394 107.659 134.876 103.935 Q137.378 100.193 142.098 100.193 Z\" fill=\"#000000\" fill-rule=\"evenodd\" fill-opacity=\"1\" /><circle clip-path=\"url(#clip772)\" cx=\"249.075\" cy=\"87.9763\" r=\"14\" fill=\"#009af9\" fill-rule=\"evenodd\" fill-opacity=\"1\" stroke=\"#000000\" stroke-opacity=\"1\" stroke-width=\"3.2\"/>\n",
       "<circle clip-path=\"url(#clip772)\" cx=\"385.236\" cy=\"104.773\" r=\"14\" fill=\"#009af9\" fill-rule=\"evenodd\" fill-opacity=\"1\" stroke=\"#000000\" stroke-opacity=\"1\" stroke-width=\"3.2\"/>\n",
       "<circle clip-path=\"url(#clip772)\" cx=\"521.397\" cy=\"466.296\" r=\"14\" fill=\"#009af9\" fill-rule=\"evenodd\" fill-opacity=\"1\" stroke=\"#000000\" stroke-opacity=\"1\" stroke-width=\"3.2\"/>\n",
       "<circle clip-path=\"url(#clip772)\" cx=\"657.557\" cy=\"525.409\" r=\"14\" fill=\"#009af9\" fill-rule=\"evenodd\" fill-opacity=\"1\" stroke=\"#000000\" stroke-opacity=\"1\" stroke-width=\"3.2\"/>\n",
       "<circle clip-path=\"url(#clip772)\" cx=\"793.718\" cy=\"615.864\" r=\"14\" fill=\"#009af9\" fill-rule=\"evenodd\" fill-opacity=\"1\" stroke=\"#000000\" stroke-opacity=\"1\" stroke-width=\"3.2\"/>\n",
       "<circle clip-path=\"url(#clip772)\" cx=\"929.878\" cy=\"683.587\" r=\"14\" fill=\"#009af9\" fill-rule=\"evenodd\" fill-opacity=\"1\" stroke=\"#000000\" stroke-opacity=\"1\" stroke-width=\"3.2\"/>\n",
       "<circle clip-path=\"url(#clip772)\" cx=\"1066.04\" cy=\"765.557\" r=\"14\" fill=\"#009af9\" fill-rule=\"evenodd\" fill-opacity=\"1\" stroke=\"#000000\" stroke-opacity=\"1\" stroke-width=\"3.2\"/>\n",
       "<circle clip-path=\"url(#clip772)\" cx=\"1202.2\" cy=\"837.568\" r=\"14\" fill=\"#009af9\" fill-rule=\"evenodd\" fill-opacity=\"1\" stroke=\"#000000\" stroke-opacity=\"1\" stroke-width=\"3.2\"/>\n",
       "<circle clip-path=\"url(#clip772)\" cx=\"1338.36\" cy=\"916.093\" r=\"14\" fill=\"#009af9\" fill-rule=\"evenodd\" fill-opacity=\"1\" stroke=\"#000000\" stroke-opacity=\"1\" stroke-width=\"3.2\"/>\n",
       "<circle clip-path=\"url(#clip772)\" cx=\"1474.52\" cy=\"990.152\" r=\"14\" fill=\"#009af9\" fill-rule=\"evenodd\" fill-opacity=\"1\" stroke=\"#000000\" stroke-opacity=\"1\" stroke-width=\"3.2\"/>\n",
       "<circle clip-path=\"url(#clip772)\" cx=\"1610.68\" cy=\"1067.18\" r=\"14\" fill=\"#009af9\" fill-rule=\"evenodd\" fill-opacity=\"1\" stroke=\"#000000\" stroke-opacity=\"1\" stroke-width=\"3.2\"/>\n",
       "<circle clip-path=\"url(#clip772)\" cx=\"1746.84\" cy=\"1142.19\" r=\"14\" fill=\"#009af9\" fill-rule=\"evenodd\" fill-opacity=\"1\" stroke=\"#000000\" stroke-opacity=\"1\" stroke-width=\"3.2\"/>\n",
       "<circle clip-path=\"url(#clip772)\" cx=\"1883\" cy=\"1218.55\" r=\"14\" fill=\"#009af9\" fill-rule=\"evenodd\" fill-opacity=\"1\" stroke=\"#000000\" stroke-opacity=\"1\" stroke-width=\"3.2\"/>\n",
       "<circle clip-path=\"url(#clip772)\" cx=\"2019.16\" cy=\"1294\" r=\"14\" fill=\"#009af9\" fill-rule=\"evenodd\" fill-opacity=\"1\" stroke=\"#000000\" stroke-opacity=\"1\" stroke-width=\"3.2\"/>\n",
       "<circle clip-path=\"url(#clip772)\" cx=\"2155.32\" cy=\"1370.07\" r=\"14\" fill=\"#009af9\" fill-rule=\"evenodd\" fill-opacity=\"1\" stroke=\"#000000\" stroke-opacity=\"1\" stroke-width=\"3.2\"/>\n",
       "<circle clip-path=\"url(#clip772)\" cx=\"2291.48\" cy=\"1445.72\" r=\"14\" fill=\"#009af9\" fill-rule=\"evenodd\" fill-opacity=\"1\" stroke=\"#000000\" stroke-opacity=\"1\" stroke-width=\"3.2\"/>\n",
       "<polyline clip-path=\"url(#clip772)\" style=\"stroke:#e26f46; stroke-linecap:butt; stroke-linejoin:round; stroke-width:16; stroke-opacity:1; fill:none\" points=\"\n",
       "  249.075,208.278 254.062,211.055 259.048,213.831 264.035,216.608 269.021,219.384 315.128,245.057 361.235,270.729 407.342,296.402 453.449,322.075 481.157,337.503 \n",
       "  508.866,352.931 536.574,368.359 564.282,383.788 611.136,409.876 657.99,435.965 708.887,464.304 759.784,492.644 806.706,518.771 853.628,544.897 954.239,600.918 \n",
       "  1070.81,665.824 1174.4,723.505 1265.24,774.085 1364.28,829.232 1463.91,884.706 1574.06,946.04 1678.87,1004.4 1787.85,1065.08 1879.58,1116.15 1991.58,1178.52 \n",
       "  2096.86,1237.14 2265.53,1331.05 2291.48,1345.51 \n",
       "  \"/>\n",
       "<path clip-path=\"url(#clip770)\" d=\"\n",
       "M1790.57 286.993 L2280.59 286.993 L2280.59 95.2176 L1790.57 95.2176  Z\n",
       "  \" fill=\"#ffffff\" fill-rule=\"evenodd\" fill-opacity=\"1\"/>\n",
       "<polyline clip-path=\"url(#clip770)\" style=\"stroke:#000000; stroke-linecap:butt; stroke-linejoin:round; stroke-width:4; stroke-opacity:1; fill:none\" points=\"\n",
       "  1790.57,286.993 2280.59,286.993 2280.59,95.2176 1790.57,95.2176 1790.57,286.993 \n",
       "  \"/>\n",
       "<circle clip-path=\"url(#clip770)\" cx=\"1886.79\" cy=\"159.143\" r=\"23\" fill=\"#009af9\" fill-rule=\"evenodd\" fill-opacity=\"1\" stroke=\"#000000\" stroke-opacity=\"1\" stroke-width=\"5.12\"/>\n",
       "<path clip-path=\"url(#clip770)\" d=\"M1999.52 140.404 L1999.52 143.946 L1995.44 143.946 Q1993.15 143.946 1992.25 144.872 Q1991.37 145.798 1991.37 148.205 L1991.37 150.497 L1998.38 150.497 L1998.38 153.807 L1991.37 153.807 L1991.37 176.423 L1987.09 176.423 L1987.09 153.807 L1983.01 153.807 L1983.01 150.497 L1987.09 150.497 L1987.09 148.691 Q1987.09 144.363 1989.1 142.395 Q1991.12 140.404 1995.49 140.404 L1999.52 140.404 Z\" fill=\"#000000\" fill-rule=\"evenodd\" fill-opacity=\"1\" /><path clip-path=\"url(#clip770)\" d=\"M2003.08 150.497 L2007.34 150.497 L2007.34 176.423 L2003.08 176.423 L2003.08 150.497 M2003.08 140.404 L2007.34 140.404 L2007.34 145.798 L2003.08 145.798 L2003.08 140.404 Z\" fill=\"#000000\" fill-rule=\"evenodd\" fill-opacity=\"1\" /><path clip-path=\"url(#clip770)\" d=\"M2037.81 150.497 L2028.43 163.113 L2038.29 176.423 L2033.27 176.423 L2025.72 166.238 L2018.18 176.423 L2013.15 176.423 L2023.22 162.858 L2014.01 150.497 L2019.03 150.497 L2025.91 159.733 L2032.78 150.497 L2037.81 150.497 Z\" fill=\"#000000\" fill-rule=\"evenodd\" fill-opacity=\"1\" /><path clip-path=\"url(#clip770)\" d=\"M2065.03 162.395 L2065.03 164.478 L2045.44 164.478 Q2045.72 168.876 2048.08 171.191 Q2050.47 173.483 2054.7 173.483 Q2057.16 173.483 2059.45 172.881 Q2061.76 172.279 2064.03 171.076 L2064.03 175.103 Q2061.74 176.075 2059.33 176.585 Q2056.93 177.094 2054.45 177.094 Q2048.25 177.094 2044.61 173.483 Q2041 169.872 2041 163.714 Q2041 157.349 2044.43 153.622 Q2047.88 149.872 2053.71 149.872 Q2058.94 149.872 2061.97 153.252 Q2065.03 156.608 2065.03 162.395 M2060.77 161.145 Q2060.72 157.65 2058.8 155.566 Q2056.9 153.483 2053.75 153.483 Q2050.19 153.483 2048.04 155.497 Q2045.91 157.511 2045.58 161.168 L2060.77 161.145 Z\" fill=\"#000000\" fill-rule=\"evenodd\" fill-opacity=\"1\" /><path clip-path=\"url(#clip770)\" d=\"M2089.08 154.432 L2089.08 140.404 L2093.34 140.404 L2093.34 176.423 L2089.08 176.423 L2089.08 172.534 Q2087.74 174.849 2085.68 175.983 Q2083.64 177.094 2080.77 177.094 Q2076.07 177.094 2073.11 173.344 Q2070.17 169.594 2070.17 163.483 Q2070.17 157.372 2073.11 153.622 Q2076.07 149.872 2080.77 149.872 Q2083.64 149.872 2085.68 151.006 Q2087.74 152.117 2089.08 154.432 M2074.56 163.483 Q2074.56 168.182 2076.49 170.867 Q2078.43 173.529 2081.81 173.529 Q2085.19 173.529 2087.13 170.867 Q2089.08 168.182 2089.08 163.483 Q2089.08 158.784 2087.13 156.122 Q2085.19 153.437 2081.81 153.437 Q2078.43 153.437 2076.49 156.122 Q2074.56 158.784 2074.56 163.483 Z\" fill=\"#000000\" fill-rule=\"evenodd\" fill-opacity=\"1\" /><path clip-path=\"url(#clip770)\" d=\"M2121.3 172.534 L2121.3 186.284 L2117.02 186.284 L2117.02 150.497 L2121.3 150.497 L2121.3 154.432 Q2122.64 152.117 2124.68 151.006 Q2126.74 149.872 2129.59 149.872 Q2134.31 149.872 2137.25 153.622 Q2140.21 157.372 2140.21 163.483 Q2140.21 169.594 2137.25 173.344 Q2134.31 177.094 2129.59 177.094 Q2126.74 177.094 2124.68 175.983 Q2122.64 174.849 2121.3 172.534 M2135.79 163.483 Q2135.79 158.784 2133.85 156.122 Q2131.93 153.437 2128.55 153.437 Q2125.17 153.437 2123.22 156.122 Q2121.3 158.784 2121.3 163.483 Q2121.3 168.182 2123.22 170.867 Q2125.17 173.529 2128.55 173.529 Q2131.93 173.529 2133.85 170.867 Q2135.79 168.182 2135.79 163.483 Z\" fill=\"#000000\" fill-rule=\"evenodd\" fill-opacity=\"1\" /><path clip-path=\"url(#clip770)\" d=\"M2157.32 153.483 Q2153.89 153.483 2151.9 156.168 Q2149.91 158.83 2149.91 163.483 Q2149.91 168.136 2151.88 170.821 Q2153.87 173.483 2157.32 173.483 Q2160.72 173.483 2162.71 170.798 Q2164.7 168.113 2164.7 163.483 Q2164.7 158.877 2162.71 156.191 Q2160.72 153.483 2157.32 153.483 M2157.32 149.872 Q2162.87 149.872 2166.05 153.483 Q2169.22 157.094 2169.22 163.483 Q2169.22 169.849 2166.05 173.483 Q2162.87 177.094 2157.32 177.094 Q2151.74 177.094 2148.57 173.483 Q2145.42 169.849 2145.42 163.483 Q2145.42 157.094 2148.57 153.483 Q2151.74 149.872 2157.32 149.872 Z\" fill=\"#000000\" fill-rule=\"evenodd\" fill-opacity=\"1\" /><path clip-path=\"url(#clip770)\" d=\"M2176.28 150.497 L2180.54 150.497 L2180.54 176.423 L2176.28 176.423 L2176.28 150.497 M2176.28 140.404 L2180.54 140.404 L2180.54 145.798 L2176.28 145.798 L2176.28 140.404 Z\" fill=\"#000000\" fill-rule=\"evenodd\" fill-opacity=\"1\" /><path clip-path=\"url(#clip770)\" d=\"M2211 160.775 L2211 176.423 L2206.74 176.423 L2206.74 160.914 Q2206.74 157.233 2205.3 155.404 Q2203.87 153.576 2201 153.576 Q2197.55 153.576 2195.56 155.775 Q2193.57 157.974 2193.57 161.77 L2193.57 176.423 L2189.29 176.423 L2189.29 150.497 L2193.57 150.497 L2193.57 154.525 Q2195.1 152.187 2197.16 151.029 Q2199.24 149.872 2201.95 149.872 Q2206.42 149.872 2208.71 152.65 Q2211 155.404 2211 160.775 Z\" fill=\"#000000\" fill-rule=\"evenodd\" fill-opacity=\"1\" /><path clip-path=\"url(#clip770)\" d=\"M2223.71 143.136 L2223.71 150.497 L2232.48 150.497 L2232.48 153.807 L2223.71 153.807 L2223.71 167.881 Q2223.71 171.052 2224.56 171.955 Q2225.44 172.858 2228.11 172.858 L2232.48 172.858 L2232.48 176.423 L2228.11 176.423 Q2223.18 176.423 2221.3 174.594 Q2219.43 172.742 2219.43 167.881 L2219.43 153.807 L2216.3 153.807 L2216.3 150.497 L2219.43 150.497 L2219.43 143.136 L2223.71 143.136 Z\" fill=\"#000000\" fill-rule=\"evenodd\" fill-opacity=\"1\" /><polyline clip-path=\"url(#clip770)\" style=\"stroke:#e26f46; stroke-linecap:butt; stroke-linejoin:round; stroke-width:4; stroke-opacity:1; fill:none\" points=\"\n",
       "  1814.63,223.068 1958.96,223.068 \n",
       "  \"/>\n",
       "<path clip-path=\"url(#clip770)\" d=\"M1983.01 260.631 L1983.01 215.964 Q1983.01 214.184 1983.97 214.184 Q1984.94 214.184 1984.94 215.613 L1984.94 260.28 Q1984.94 262.06 1983.97 262.06 Q1983.01 262.06 1983.01 260.631 Z\" fill=\"#000000\" fill-rule=\"evenodd\" fill-opacity=\"1\" /><path clip-path=\"url(#clip770)\" d=\"M2012.54 231.166 Q2012.54 231.189 2012.4 232.032 L2007.06 253.323 Q2006.78 254.447 2005.98 255.572 Q2005.21 256.719 2003.97 257.703 Q2002.75 258.71 2000.87 259.319 Q1999.02 259.952 1996.89 259.952 Q1993.5 259.952 1992 259.226 Q1990.52 258.523 1990.52 257.024 Q1990.52 255.712 1991.34 254.963 Q1992.16 254.237 1993.1 254.237 Q1993.99 254.237 1994.46 254.752 Q1994.93 255.267 1994.93 255.923 Q1994.93 256.649 1994.43 257.375 Q1993.94 258.125 1992.96 258.406 Q1994.53 258.898 1996.8 258.898 Q2001.6 258.898 2003.66 253.815 Q2003.71 253.745 2003.71 253.721 L2005.3 247.374 L2005.23 247.327 Q2004.83 247.795 2004.2 248.334 Q2003.59 248.85 2002.28 249.482 Q2000.97 250.114 1999.68 250.114 Q1996.99 250.114 1995.14 248.053 Q1993.31 245.969 1993.31 242.525 Q1993.31 240.019 1994.32 237.513 Q1995.35 234.983 1996.94 233.133 Q1998.56 231.259 2000.62 230.088 Q2002.7 228.917 2004.72 228.917 Q2006.12 228.917 2007.32 229.76 Q2008.51 230.58 2009.17 231.939 Q2009.28 230.814 2009.92 230.346 Q2010.57 229.877 2011.13 229.877 Q2011.77 229.877 2012.14 230.229 Q2012.54 230.557 2012.54 231.166 M2008.6 234.093 Q2008.6 233.953 2008.51 233.578 Q2008.42 233.18 2008.14 232.547 Q2007.88 231.915 2007.48 231.353 Q2007.08 230.791 2006.36 230.393 Q2005.65 229.971 2004.76 229.971 Q2003.31 229.971 2001.86 231.189 Q2000.41 232.384 1999.4 234.234 Q1998.46 236.014 1997.57 239.457 Q1996.71 242.9 1996.71 244.657 Q1996.71 246.39 1997.46 247.725 Q1998.2 249.06 1999.82 249.06 Q2001.69 249.06 2003.71 247.327 Q2005.79 245.524 2006.14 243.978 L2008.46 234.819 Q2008.6 234.257 2008.6 234.093 Z\" fill=\"#000000\" fill-rule=\"evenodd\" fill-opacity=\"1\" /><path clip-path=\"url(#clip770)\" d=\"M2016.96 218.26 Q2016.96 217.065 2017.69 216.573 Q2018.41 216.058 2019.19 216.058 Q2020.15 216.058 2020.75 216.644 Q2021.39 217.206 2021.39 218.26 Q2021.39 218.728 2021.34 218.986 L2019.75 233.461 L2018.65 233.461 L2017.01 218.986 Q2016.96 218.728 2016.96 218.26 Z\" fill=\"#000000\" fill-rule=\"evenodd\" fill-opacity=\"1\" /><path clip-path=\"url(#clip770)\" d=\"M2030.16 260.631 L2030.16 215.964 Q2030.16 214.184 2031.12 214.184 Q2032.08 214.184 2032.08 215.613 L2032.08 260.28 Q2032.08 262.06 2031.12 262.06 Q2030.16 262.06 2030.16 260.631 Z\" fill=\"#000000\" fill-rule=\"evenodd\" fill-opacity=\"1\" /><path clip-path=\"url(#clip770)\" d=\"M2052.37 208.361 Q2052.37 209.296 2051.79 209.853 Q2051.24 210.411 2050.53 210.411 Q2049.91 210.411 2049.58 210.05 Q2049.25 209.689 2049.25 209.23 Q2049.25 209.034 2049.33 208.788 Q2049.42 208.525 2049.6 208.214 Q2049.79 207.902 2050.2 207.673 Q2050.61 207.443 2051.17 207.41 Q2051.05 207.296 2051.02 207.279 Q2050.78 207.083 2050.32 207.017 Q2050.25 206.984 2050.02 206.984 Q2048.89 206.984 2047.74 207.82 Q2046.61 208.64 2045.22 210.198 Q2043.46 212.018 2042.33 212.69 Q2047.3 213.346 2047.3 216.215 Q2047.3 216.69 2047.17 217.264 Q2046.91 218.346 2046.91 219.133 Q2046.91 220.707 2047.97 220.707 Q2049.01 220.707 2049.66 219.658 Q2050.33 218.609 2050.89 216.559 Q2050.97 216.182 2051.05 216.067 Q2051.14 215.953 2051.37 215.953 Q2051.78 215.953 2051.78 216.281 Q2051.4 218.199 2050.56 219.674 Q2049.5 221.462 2047.91 221.462 Q2046.58 221.462 2045.69 220.543 Q2044.82 219.609 2044.82 218.133 Q2044.82 217.773 2044.96 216.953 Q2045.05 216.625 2045.05 216.248 Q2045.05 215.477 2044.63 214.903 Q2044.2 214.313 2043.51 214.018 Q2042.82 213.723 2042.25 213.592 Q2041.69 213.444 2041.15 213.395 Q2039.51 220.33 2039.28 220.757 Q2039.14 221.052 2038.81 221.248 Q2038.48 221.462 2038.14 221.462 Q2037.81 221.462 2037.48 221.232 Q2037.17 221.019 2037.17 220.511 Q2037.17 220.248 2037.3 219.773 L2042.17 200.426 L2042.27 199.77 Q2042.27 199.573 2042.18 199.475 Q2042.12 199.36 2041.73 199.278 Q2041.35 199.196 2040.59 199.196 Q2040.28 199.196 2040.14 199.18 Q2040 199.163 2039.89 199.081 Q2039.77 198.983 2039.77 198.786 Q2039.77 198.508 2039.89 198.36 Q2040.02 198.196 2040.12 198.163 Q2040.22 198.13 2040.41 198.114 Q2040.69 198.098 2041.63 198.016 Q2042.56 197.917 2043.37 197.852 Q2044.17 197.786 2044.51 197.786 Q2044.71 197.786 2044.81 197.885 Q2044.92 197.967 2044.94 198.065 L2044.96 198.147 L2041.46 212.313 Q2042.91 211.739 2045.19 209.198 Q2047.82 206.246 2050.09 206.246 Q2051.15 206.246 2051.76 206.902 Q2052.37 207.542 2052.37 208.361 Z\" fill=\"#000000\" fill-rule=\"evenodd\" fill-opacity=\"1\" /></svg>\n"
      ]
     },
     "execution_count": 82,
     "metadata": {},
     "output_type": "execute_result"
    }
   ],
   "source": [
    "scatter(abs.(es), yscale=:log10, label=\"fixed point\")\n",
    "plot!(k -> abs(gprime)^k, label=\"\\$|g'|^k\\$\")"
   ]
  },
  {
   "cell_type": "markdown",
   "id": "77a9ea7c",
   "metadata": {
    "slideshow": {
     "slide_type": "slide"
    }
   },
   "source": [
    "# Plotting Newton convergence"
   ]
  },
  {
   "cell_type": "code",
   "execution_count": null,
   "id": "846138a1",
   "metadata": {
    "cell_style": "split"
   },
   "outputs": [],
   "source": [
    "function newton_hist(f, fp, x0; tol=1e-12)\n",
    "    x = x0\n",
    "    hist = []\n",
    "    for k in 1:100 # max number of iterations\n",
    "        fx = f(x)\n",
    "        fpx = fp(x)\n",
    "        push!(hist, [x fx fpx])\n",
    "        if abs(fx) < tol\n",
    "            return vcat(hist...)\n",
    "        end\n",
    "        x = x - fx / fpx\n",
    "    end\n",
    "end"
   ]
  },
  {
   "cell_type": "code",
   "execution_count": null,
   "id": "f985fff8",
   "metadata": {
    "cell_style": "split"
   },
   "outputs": [],
   "source": [
    "h = newton_hist(f, fp, 1.97)\n",
    "@show x_star = h[end,1]\n",
    "plot(h[1:end-1,1] .- x_star, yscale=:log10, marker=:auto)"
   ]
  },
  {
   "cell_type": "markdown",
   "id": "f6926be7",
   "metadata": {},
   "source": [
    "## Poll: Is this convergence A=q-linear, B=r-linear, C=neither?"
   ]
  },
  {
   "cell_type": "markdown",
   "id": "7a9f3c29",
   "metadata": {
    "slideshow": {
     "slide_type": "slide"
    }
   },
   "source": [
    "# Formulations are not unique (constants)\n",
    "\n",
    "If $x = g(x)$ then $x = g(x) + c(g(x) - x)$ for any constant $c$."
   ]
  },
  {
   "cell_type": "code",
   "execution_count": 88,
   "id": "d4481d77",
   "metadata": {
    "cell_style": "split"
   },
   "outputs": [
    {
     "name": "stdout",
     "output_type": "stream",
     "text": [
      "g2p(xstar) = -1.5104180439634258\n"
     ]
    },
    {
     "data": {
      "image/svg+xml": [
       "<?xml version=\"1.0\" encoding=\"utf-8\"?>\n",
       "<svg xmlns=\"http://www.w3.org/2000/svg\" xmlns:xlink=\"http://www.w3.org/1999/xlink\" width=\"600\" height=\"400\" viewBox=\"0 0 2400 1600\">\n",
       "<defs>\n",
       "  <clipPath id=\"clip890\">\n",
       "    <rect x=\"0\" y=\"0\" width=\"2400\" height=\"1600\"/>\n",
       "  </clipPath>\n",
       "</defs>\n",
       "<path clip-path=\"url(#clip890)\" d=\"\n",
       "M0 1600 L2400 1600 L2400 0 L0 0  Z\n",
       "  \" fill=\"#ffffff\" fill-rule=\"evenodd\" fill-opacity=\"1\"/>\n",
       "<defs>\n",
       "  <clipPath id=\"clip891\">\n",
       "    <rect x=\"480\" y=\"0\" width=\"1681\" height=\"1600\"/>\n",
       "  </clipPath>\n",
       "</defs>\n",
       "<path clip-path=\"url(#clip890)\" d=\"\n",
       "M149.191 1486.45 L2352.76 1486.45 L2352.76 47.2441 L149.191 47.2441  Z\n",
       "  \" fill=\"#ffffff\" fill-rule=\"evenodd\" fill-opacity=\"1\"/>\n",
       "<defs>\n",
       "  <clipPath id=\"clip892\">\n",
       "    <rect x=\"149\" y=\"47\" width=\"2205\" height=\"1440\"/>\n",
       "  </clipPath>\n",
       "</defs>\n",
       "<polyline clip-path=\"url(#clip892)\" style=\"stroke:#000000; stroke-linecap:butt; stroke-linejoin:round; stroke-width:2; stroke-opacity:0.1; fill:none\" points=\"\n",
       "  419.439,1486.45 419.439,47.2441 \n",
       "  \"/>\n",
       "<polyline clip-path=\"url(#clip892)\" style=\"stroke:#000000; stroke-linecap:butt; stroke-linejoin:round; stroke-width:2; stroke-opacity:0.1; fill:none\" points=\"\n",
       "  835.206,1486.45 835.206,47.2441 \n",
       "  \"/>\n",
       "<polyline clip-path=\"url(#clip892)\" style=\"stroke:#000000; stroke-linecap:butt; stroke-linejoin:round; stroke-width:2; stroke-opacity:0.1; fill:none\" points=\"\n",
       "  1250.97,1486.45 1250.97,47.2441 \n",
       "  \"/>\n",
       "<polyline clip-path=\"url(#clip892)\" style=\"stroke:#000000; stroke-linecap:butt; stroke-linejoin:round; stroke-width:2; stroke-opacity:0.1; fill:none\" points=\"\n",
       "  1666.74,1486.45 1666.74,47.2441 \n",
       "  \"/>\n",
       "<polyline clip-path=\"url(#clip892)\" style=\"stroke:#000000; stroke-linecap:butt; stroke-linejoin:round; stroke-width:2; stroke-opacity:0.1; fill:none\" points=\"\n",
       "  2082.51,1486.45 2082.51,47.2441 \n",
       "  \"/>\n",
       "<polyline clip-path=\"url(#clip890)\" style=\"stroke:#000000; stroke-linecap:butt; stroke-linejoin:round; stroke-width:4; stroke-opacity:1; fill:none\" points=\"\n",
       "  149.191,1486.45 2352.76,1486.45 \n",
       "  \"/>\n",
       "<polyline clip-path=\"url(#clip890)\" style=\"stroke:#000000; stroke-linecap:butt; stroke-linejoin:round; stroke-width:4; stroke-opacity:1; fill:none\" points=\"\n",
       "  419.439,1486.45 419.439,1467.55 \n",
       "  \"/>\n",
       "<polyline clip-path=\"url(#clip890)\" style=\"stroke:#000000; stroke-linecap:butt; stroke-linejoin:round; stroke-width:4; stroke-opacity:1; fill:none\" points=\"\n",
       "  835.206,1486.45 835.206,1467.55 \n",
       "  \"/>\n",
       "<polyline clip-path=\"url(#clip890)\" style=\"stroke:#000000; stroke-linecap:butt; stroke-linejoin:round; stroke-width:4; stroke-opacity:1; fill:none\" points=\"\n",
       "  1250.97,1486.45 1250.97,1467.55 \n",
       "  \"/>\n",
       "<polyline clip-path=\"url(#clip890)\" style=\"stroke:#000000; stroke-linecap:butt; stroke-linejoin:round; stroke-width:4; stroke-opacity:1; fill:none\" points=\"\n",
       "  1666.74,1486.45 1666.74,1467.55 \n",
       "  \"/>\n",
       "<polyline clip-path=\"url(#clip890)\" style=\"stroke:#000000; stroke-linecap:butt; stroke-linejoin:round; stroke-width:4; stroke-opacity:1; fill:none\" points=\"\n",
       "  2082.51,1486.45 2082.51,1467.55 \n",
       "  \"/>\n",
       "<path clip-path=\"url(#clip890)\" d=\"M388.34 1532.02 L418.016 1532.02 L418.016 1535.95 L388.34 1535.95 L388.34 1532.02 Z\" fill=\"#000000\" fill-rule=\"evenodd\" fill-opacity=\"1\" /><path clip-path=\"url(#clip890)\" d=\"M440.955 1518.36 L429.15 1536.81 L440.955 1536.81 L440.955 1518.36 M439.729 1514.29 L445.608 1514.29 L445.608 1536.81 L450.539 1536.81 L450.539 1540.7 L445.608 1540.7 L445.608 1548.85 L440.955 1548.85 L440.955 1540.7 L425.354 1540.7 L425.354 1536.19 L439.729 1514.29 Z\" fill=\"#000000\" fill-rule=\"evenodd\" fill-opacity=\"1\" /><path clip-path=\"url(#clip890)\" d=\"M805.149 1532.02 L834.824 1532.02 L834.824 1535.95 L805.149 1535.95 L805.149 1532.02 Z\" fill=\"#000000\" fill-rule=\"evenodd\" fill-opacity=\"1\" /><path clip-path=\"url(#clip890)\" d=\"M848.945 1544.91 L865.264 1544.91 L865.264 1548.85 L843.32 1548.85 L843.32 1544.91 Q845.982 1542.16 850.565 1537.53 Q855.172 1532.88 856.352 1531.53 Q858.597 1529.01 859.477 1527.27 Q860.38 1525.51 860.38 1523.82 Q860.38 1521.07 858.435 1519.33 Q856.514 1517.6 853.412 1517.6 Q851.213 1517.6 848.76 1518.36 Q846.329 1519.13 843.551 1520.68 L843.551 1515.95 Q846.375 1514.82 848.829 1514.24 Q851.283 1513.66 853.32 1513.66 Q858.69 1513.66 861.884 1516.35 Q865.079 1519.03 865.079 1523.52 Q865.079 1525.65 864.269 1527.57 Q863.482 1529.47 861.375 1532.07 Q860.797 1532.74 857.695 1535.95 Q854.593 1539.15 848.945 1544.91 Z\" fill=\"#000000\" fill-rule=\"evenodd\" fill-opacity=\"1\" /><path clip-path=\"url(#clip890)\" d=\"M1250.97 1517.37 Q1247.36 1517.37 1245.53 1520.93 Q1243.73 1524.47 1243.73 1531.6 Q1243.73 1538.71 1245.53 1542.27 Q1247.36 1545.82 1250.97 1545.82 Q1254.61 1545.82 1256.41 1542.27 Q1258.24 1538.71 1258.24 1531.6 Q1258.24 1524.47 1256.41 1520.93 Q1254.61 1517.37 1250.97 1517.37 M1250.97 1513.66 Q1256.78 1513.66 1259.84 1518.27 Q1262.92 1522.85 1262.92 1531.6 Q1262.92 1540.33 1259.84 1544.94 Q1256.78 1549.52 1250.97 1549.52 Q1245.16 1549.52 1242.08 1544.94 Q1239.03 1540.33 1239.03 1531.6 Q1239.03 1522.85 1242.08 1518.27 Q1245.16 1513.66 1250.97 1513.66 Z\" fill=\"#000000\" fill-rule=\"evenodd\" fill-opacity=\"1\" /><path clip-path=\"url(#clip890)\" d=\"M1661.39 1544.91 L1677.71 1544.91 L1677.71 1548.85 L1655.77 1548.85 L1655.77 1544.91 Q1658.43 1542.16 1663.01 1537.53 Q1667.62 1532.88 1668.8 1531.53 Q1671.05 1529.01 1671.93 1527.27 Q1672.83 1525.51 1672.83 1523.82 Q1672.83 1521.07 1670.88 1519.33 Q1668.96 1517.6 1665.86 1517.6 Q1663.66 1517.6 1661.21 1518.36 Q1658.78 1519.13 1656 1520.68 L1656 1515.95 Q1658.82 1514.82 1661.28 1514.24 Q1663.73 1513.66 1665.77 1513.66 Q1671.14 1513.66 1674.33 1516.35 Q1677.53 1519.03 1677.53 1523.52 Q1677.53 1525.65 1676.72 1527.57 Q1675.93 1529.47 1673.82 1532.07 Q1673.24 1532.74 1670.14 1535.95 Q1667.04 1539.15 1661.39 1544.91 Z\" fill=\"#000000\" fill-rule=\"evenodd\" fill-opacity=\"1\" /><path clip-path=\"url(#clip890)\" d=\"M2085.52 1518.36 L2073.71 1536.81 L2085.52 1536.81 L2085.52 1518.36 M2084.29 1514.29 L2090.17 1514.29 L2090.17 1536.81 L2095.1 1536.81 L2095.1 1540.7 L2090.17 1540.7 L2090.17 1548.85 L2085.52 1548.85 L2085.52 1540.7 L2069.91 1540.7 L2069.91 1536.19 L2084.29 1514.29 Z\" fill=\"#000000\" fill-rule=\"evenodd\" fill-opacity=\"1\" /><polyline clip-path=\"url(#clip892)\" style=\"stroke:#000000; stroke-linecap:butt; stroke-linejoin:round; stroke-width:2; stroke-opacity:0.1; fill:none\" points=\"\n",
       "  149.191,1309.94 2352.76,1309.94 \n",
       "  \"/>\n",
       "<polyline clip-path=\"url(#clip892)\" style=\"stroke:#000000; stroke-linecap:butt; stroke-linejoin:round; stroke-width:2; stroke-opacity:0.1; fill:none\" points=\"\n",
       "  149.191,1038.39 2352.76,1038.39 \n",
       "  \"/>\n",
       "<polyline clip-path=\"url(#clip892)\" style=\"stroke:#000000; stroke-linecap:butt; stroke-linejoin:round; stroke-width:2; stroke-opacity:0.1; fill:none\" points=\"\n",
       "  149.191,766.846 2352.76,766.846 \n",
       "  \"/>\n",
       "<polyline clip-path=\"url(#clip892)\" style=\"stroke:#000000; stroke-linecap:butt; stroke-linejoin:round; stroke-width:2; stroke-opacity:0.1; fill:none\" points=\"\n",
       "  149.191,495.298 2352.76,495.298 \n",
       "  \"/>\n",
       "<polyline clip-path=\"url(#clip892)\" style=\"stroke:#000000; stroke-linecap:butt; stroke-linejoin:round; stroke-width:2; stroke-opacity:0.1; fill:none\" points=\"\n",
       "  149.191,223.75 2352.76,223.75 \n",
       "  \"/>\n",
       "<polyline clip-path=\"url(#clip890)\" style=\"stroke:#000000; stroke-linecap:butt; stroke-linejoin:round; stroke-width:4; stroke-opacity:1; fill:none\" points=\"\n",
       "  149.191,1486.45 149.191,47.2441 \n",
       "  \"/>\n",
       "<polyline clip-path=\"url(#clip890)\" style=\"stroke:#000000; stroke-linecap:butt; stroke-linejoin:round; stroke-width:4; stroke-opacity:1; fill:none\" points=\"\n",
       "  149.191,1309.94 168.089,1309.94 \n",
       "  \"/>\n",
       "<polyline clip-path=\"url(#clip890)\" style=\"stroke:#000000; stroke-linecap:butt; stroke-linejoin:round; stroke-width:4; stroke-opacity:1; fill:none\" points=\"\n",
       "  149.191,1038.39 168.089,1038.39 \n",
       "  \"/>\n",
       "<polyline clip-path=\"url(#clip890)\" style=\"stroke:#000000; stroke-linecap:butt; stroke-linejoin:round; stroke-width:4; stroke-opacity:1; fill:none\" points=\"\n",
       "  149.191,766.846 168.089,766.846 \n",
       "  \"/>\n",
       "<polyline clip-path=\"url(#clip890)\" style=\"stroke:#000000; stroke-linecap:butt; stroke-linejoin:round; stroke-width:4; stroke-opacity:1; fill:none\" points=\"\n",
       "  149.191,495.298 168.089,495.298 \n",
       "  \"/>\n",
       "<polyline clip-path=\"url(#clip890)\" style=\"stroke:#000000; stroke-linecap:butt; stroke-linejoin:round; stroke-width:4; stroke-opacity:1; fill:none\" points=\"\n",
       "  149.191,223.75 168.089,223.75 \n",
       "  \"/>\n",
       "<path clip-path=\"url(#clip890)\" d=\"M50.9921 1310.39 L80.6679 1310.39 L80.6679 1314.33 L50.9921 1314.33 L50.9921 1310.39 Z\" fill=\"#000000\" fill-rule=\"evenodd\" fill-opacity=\"1\" /><path clip-path=\"url(#clip890)\" d=\"M103.608 1296.74 L91.8021 1315.18 L103.608 1315.18 L103.608 1296.74 M102.381 1292.66 L108.26 1292.66 L108.26 1315.18 L113.191 1315.18 L113.191 1319.07 L108.26 1319.07 L108.26 1327.22 L103.608 1327.22 L103.608 1319.07 L88.0058 1319.07 L88.0058 1314.56 L102.381 1292.66 Z\" fill=\"#000000\" fill-rule=\"evenodd\" fill-opacity=\"1\" /><path clip-path=\"url(#clip890)\" d=\"M53.0754 1038.85 L82.7512 1038.85 L82.7512 1042.78 L53.0754 1042.78 L53.0754 1038.85 Z\" fill=\"#000000\" fill-rule=\"evenodd\" fill-opacity=\"1\" /><path clip-path=\"url(#clip890)\" d=\"M96.8715 1051.74 L113.191 1051.74 L113.191 1055.67 L91.2465 1055.67 L91.2465 1051.74 Q93.9086 1048.98 98.4919 1044.35 Q103.098 1039.7 104.279 1038.36 Q106.524 1035.84 107.404 1034.1 Q108.307 1032.34 108.307 1030.65 Q108.307 1027.9 106.362 1026.16 Q104.441 1024.42 101.339 1024.42 Q99.14 1024.42 96.6863 1025.19 Q94.2558 1025.95 91.478 1027.5 L91.478 1022.78 Q94.3021 1021.65 96.7558 1021.07 Q99.2095 1020.49 101.246 1020.49 Q106.617 1020.49 109.811 1023.17 Q113.006 1025.86 113.006 1030.35 Q113.006 1032.48 112.196 1034.4 Q111.408 1036.3 109.302 1038.89 Q108.723 1039.56 105.621 1042.78 Q102.52 1045.97 96.8715 1051.74 Z\" fill=\"#000000\" fill-rule=\"evenodd\" fill-opacity=\"1\" /><path clip-path=\"url(#clip890)\" d=\"M101.246 752.645 Q97.6354 752.645 95.8067 756.209 Q94.0012 759.751 94.0012 766.881 Q94.0012 773.987 95.8067 777.552 Q97.6354 781.094 101.246 781.094 Q104.881 781.094 106.686 777.552 Q108.515 773.987 108.515 766.881 Q108.515 759.751 106.686 756.209 Q104.881 752.645 101.246 752.645 M101.246 748.941 Q107.057 748.941 110.112 753.547 Q113.191 758.131 113.191 766.881 Q113.191 775.608 110.112 780.214 Q107.057 784.797 101.246 784.797 Q95.4363 784.797 92.3576 780.214 Q89.3021 775.608 89.3021 766.881 Q89.3021 758.131 92.3576 753.547 Q95.4363 748.941 101.246 748.941 Z\" fill=\"#000000\" fill-rule=\"evenodd\" fill-opacity=\"1\" /><path clip-path=\"url(#clip890)\" d=\"M96.8715 508.643 L113.191 508.643 L113.191 512.578 L91.2465 512.578 L91.2465 508.643 Q93.9086 505.888 98.4919 501.259 Q103.098 496.606 104.279 495.263 Q106.524 492.74 107.404 491.004 Q108.307 489.245 108.307 487.555 Q108.307 484.8 106.362 483.064 Q104.441 481.328 101.339 481.328 Q99.14 481.328 96.6863 482.092 Q94.2558 482.856 91.478 484.407 L91.478 479.685 Q94.3021 478.551 96.7558 477.972 Q99.2095 477.393 101.246 477.393 Q106.617 477.393 109.811 480.078 Q113.006 482.763 113.006 487.254 Q113.006 489.384 112.196 491.305 Q111.408 493.203 109.302 495.796 Q108.723 496.467 105.621 499.685 Q102.52 502.879 96.8715 508.643 Z\" fill=\"#000000\" fill-rule=\"evenodd\" fill-opacity=\"1\" /><path clip-path=\"url(#clip890)\" d=\"M103.608 210.544 L91.8021 228.993 L103.608 228.993 L103.608 210.544 M102.381 206.47 L108.26 206.47 L108.26 228.993 L113.191 228.993 L113.191 232.882 L108.26 232.882 L108.26 241.03 L103.608 241.03 L103.608 232.882 L88.0058 232.882 L88.0058 228.368 L102.381 206.47 Z\" fill=\"#000000\" fill-rule=\"evenodd\" fill-opacity=\"1\" /><polyline clip-path=\"url(#clip892)\" style=\"stroke:#009af9; stroke-linecap:butt; stroke-linejoin:round; stroke-width:16; stroke-opacity:1; fill:none\" points=\"\n",
       "  211.556,728.332 216.631,731.522 221.707,734.733 226.782,737.963 231.857,741.21 278.787,771.705 325.716,801.953 372.645,830.42 419.574,855.66 447.777,868.734 \n",
       "  475.979,879.935 504.182,889.058 532.384,895.935 556.229,899.903 580.074,902.122 603.919,902.563 627.764,901.22 653.666,897.762 679.568,892.274 705.47,884.841 \n",
       "  731.373,875.578 755.252,865.542 779.132,854.204 803.011,841.715 826.891,828.24 878.094,796.86 929.296,763.668 988.62,725.585 1047.94,690.84 1074.3,677.222 \n",
       "  1100.66,665.044 1127.02,654.5 1153.38,645.76 1176.5,639.692 1199.61,635.195 1222.73,632.323 1245.84,631.113 1271.05,631.704 1296.25,634.279 1321.45,638.8 \n",
       "  1346.65,645.2 1372,653.44 1397.35,663.364 1422.71,674.825 1448.06,687.653 1504.12,719.896 1560.17,755.533 1613.51,790.239 1666.85,823.414 1694.58,839.327 \n",
       "  1722.31,853.952 1750.04,867.03 1777.77,878.327 1801.11,886.31 1824.46,892.787 1847.8,897.678 1871.14,900.921 1899.64,902.589 1928.14,901.71 1956.64,898.3 \n",
       "  1985.14,892.424 2011.93,884.749 2038.72,875.118 2065.5,863.692 2092.29,850.66 2135.21,826.983 2178.13,800.752 2221.05,773.081 2263.97,745.145 2270.58,740.898 \n",
       "  2277.18,736.678 2283.79,732.488 2290.39,728.332 \n",
       "  \"/>\n",
       "<polyline clip-path=\"url(#clip892)\" style=\"stroke:#e26f46; stroke-linecap:butt; stroke-linejoin:round; stroke-width:16; stroke-opacity:1; fill:none\" points=\"\n",
       "  211.556,369.64 221.707,382.556 231.857,395.587 325.716,517.352 419.574,628.564 447.777,657.384 475.979,683.396 504.182,706.29 532.384,725.816 556.229,739.554 \n",
       "  580.074,750.669 603.919,759.117 627.764,764.89 679.568,768.388 731.373,760.262 779.132,743.798 826.891,720.447 878.094,690.098 929.296,657.032 988.62,619.28 \n",
       "  1047.94,586.535 1100.66,565.057 1153.38,553.348 1199.61,552.597 1245.84,561.572 1271.05,570.688 1296.25,582.781 1321.45,597.792 1346.65,615.622 1397.35,659.425 \n",
       "  1448.06,712.417 1560.17,850.85 1666.85,987.508 1722.31,1051.43 1777.77,1106.1 1824.46,1143.04 1871.14,1170.48 1899.64,1182.29 1928.14,1190.28 1956.64,1194.47 \n",
       "  1985.14,1194.96 2011.93,1192.2 2038.72,1186.5 2065.5,1178.11 2092.29,1167.31 2178.13,1120.48 2263.97,1065.1 2277.18,1056.71 2290.39,1048.51 \n",
       "  \"/>\n",
       "<polyline clip-path=\"url(#clip892)\" style=\"stroke:#3da44d; stroke-linecap:butt; stroke-linejoin:round; stroke-width:16; stroke-opacity:1; fill:none\" points=\"\n",
       "  211.556,1445.72 231.857,1432.46 419.574,1309.85 532.384,1236.17 627.764,1173.88 731.373,1106.21 826.891,1043.82 929.296,976.941 1047.94,899.45 1153.38,830.585 \n",
       "  1245.84,770.196 1346.65,704.357 1448.06,638.126 1560.17,564.899 1666.85,495.226 1777.77,422.781 1871.14,361.799 1985.14,287.346 2092.29,217.358 2263.97,105.232 \n",
       "  2290.39,87.9763 \n",
       "  \"/>\n",
       "<path clip-path=\"url(#clip890)\" d=\"\n",
       "M1981.45 302.578 L2279.3 302.578 L2279.3 95.2176 L1981.45 95.2176  Z\n",
       "  \" fill=\"#ffffff\" fill-rule=\"evenodd\" fill-opacity=\"1\"/>\n",
       "<polyline clip-path=\"url(#clip890)\" style=\"stroke:#000000; stroke-linecap:butt; stroke-linejoin:round; stroke-width:4; stroke-opacity:1; fill:none\" points=\"\n",
       "  1981.45,302.578 2279.3,302.578 2279.3,95.2176 1981.45,95.2176 1981.45,302.578 \n",
       "  \"/>\n",
       "<polyline clip-path=\"url(#clip890)\" style=\"stroke:#009af9; stroke-linecap:butt; stroke-linejoin:round; stroke-width:4; stroke-opacity:1; fill:none\" points=\"\n",
       "  2005.94,147.058 2152.84,147.058 \n",
       "  \"/>\n",
       "<path clip-path=\"url(#clip890)\" d=\"M2191.17 166.745 Q2189.36 171.375 2187.65 172.787 Q2185.94 174.199 2183.07 174.199 L2179.66 174.199 L2179.66 170.634 L2182.16 170.634 Q2183.92 170.634 2184.9 169.8 Q2185.87 168.967 2187.05 165.865 L2187.81 163.921 L2177.33 138.412 L2181.84 138.412 L2189.94 158.689 L2198.04 138.412 L2202.56 138.412 L2191.17 166.745 Z\" fill=\"#000000\" fill-rule=\"evenodd\" fill-opacity=\"1\" /><path clip-path=\"url(#clip890)\" d=\"M2209.85 160.402 L2217.49 160.402 L2217.49 134.037 L2209.18 135.703 L2209.18 131.444 L2217.44 129.778 L2222.12 129.778 L2222.12 160.402 L2229.76 160.402 L2229.76 164.338 L2209.85 164.338 L2209.85 160.402 Z\" fill=\"#000000\" fill-rule=\"evenodd\" fill-opacity=\"1\" /><polyline clip-path=\"url(#clip890)\" style=\"stroke:#e26f46; stroke-linecap:butt; stroke-linejoin:round; stroke-width:4; stroke-opacity:1; fill:none\" points=\"\n",
       "  2005.94,198.898 2152.84,198.898 \n",
       "  \"/>\n",
       "<path clip-path=\"url(#clip890)\" d=\"M2191.17 218.585 Q2189.36 223.215 2187.65 224.627 Q2185.94 226.039 2183.07 226.039 L2179.66 226.039 L2179.66 222.474 L2182.16 222.474 Q2183.92 222.474 2184.9 221.64 Q2185.87 220.807 2187.05 217.705 L2187.81 215.761 L2177.33 190.252 L2181.84 190.252 L2189.94 210.529 L2198.04 190.252 L2202.56 190.252 L2191.17 218.585 Z\" fill=\"#000000\" fill-rule=\"evenodd\" fill-opacity=\"1\" /><path clip-path=\"url(#clip890)\" d=\"M2213.07 212.242 L2229.39 212.242 L2229.39 216.178 L2207.44 216.178 L2207.44 212.242 Q2210.1 209.488 2214.69 204.858 Q2219.29 200.205 2220.47 198.863 Q2222.72 196.34 2223.6 194.604 Q2224.5 192.844 2224.5 191.155 Q2224.5 188.4 2222.56 186.664 Q2220.64 184.928 2217.53 184.928 Q2215.34 184.928 2212.88 185.692 Q2210.45 186.455 2207.67 188.006 L2207.67 183.284 Q2210.5 182.15 2212.95 181.571 Q2215.41 180.993 2217.44 180.993 Q2222.81 180.993 2226.01 183.678 Q2229.2 186.363 2229.2 190.854 Q2229.2 192.983 2228.39 194.905 Q2227.6 196.803 2225.5 199.395 Q2224.92 200.067 2221.82 203.284 Q2218.72 206.479 2213.07 212.242 Z\" fill=\"#000000\" fill-rule=\"evenodd\" fill-opacity=\"1\" /><polyline clip-path=\"url(#clip890)\" style=\"stroke:#3da44d; stroke-linecap:butt; stroke-linejoin:round; stroke-width:4; stroke-opacity:1; fill:none\" points=\"\n",
       "  2005.94,250.738 2152.84,250.738 \n",
       "  \"/>\n",
       "<path clip-path=\"url(#clip890)\" d=\"M2191.17 270.425 Q2189.36 275.055 2187.65 276.467 Q2185.94 277.879 2183.07 277.879 L2179.66 277.879 L2179.66 274.314 L2182.16 274.314 Q2183.92 274.314 2184.9 273.48 Q2185.87 272.647 2187.05 269.545 L2187.81 267.601 L2177.33 242.092 L2181.84 242.092 L2189.94 262.369 L2198.04 242.092 L2202.56 242.092 L2191.17 270.425 Z\" fill=\"#000000\" fill-rule=\"evenodd\" fill-opacity=\"1\" /><path clip-path=\"url(#clip890)\" d=\"M2223.21 249.383 Q2226.56 250.101 2228.44 252.369 Q2230.34 254.638 2230.34 257.971 Q2230.34 263.087 2226.82 265.888 Q2223.3 268.689 2216.82 268.689 Q2214.64 268.689 2212.33 268.249 Q2210.03 267.832 2207.58 266.976 L2207.58 262.462 Q2209.53 263.596 2211.84 264.175 Q2214.16 264.754 2216.68 264.754 Q2221.08 264.754 2223.37 263.018 Q2225.68 261.281 2225.68 257.971 Q2225.68 254.916 2223.53 253.203 Q2221.4 251.467 2217.58 251.467 L2213.55 251.467 L2213.55 247.624 L2217.77 247.624 Q2221.22 247.624 2223.04 246.258 Q2224.87 244.87 2224.87 242.277 Q2224.87 239.615 2222.97 238.203 Q2221.1 236.768 2217.58 236.768 Q2215.66 236.768 2213.46 237.184 Q2211.26 237.601 2208.62 238.481 L2208.62 234.314 Q2211.28 233.573 2213.6 233.203 Q2215.94 232.833 2218 232.833 Q2223.32 232.833 2226.42 235.263 Q2229.53 237.67 2229.53 241.791 Q2229.53 244.661 2227.88 246.652 Q2226.24 248.62 2223.21 249.383 Z\" fill=\"#000000\" fill-rule=\"evenodd\" fill-opacity=\"1\" /></svg>\n"
      ]
     },
     "execution_count": 88,
     "metadata": {},
     "output_type": "execute_result"
    }
   ],
   "source": [
    "c = 0.5\n",
    "g2(x) = cos(x) + c * (cos(x) - x)\n",
    "g2p(x) = -sin(x) + c * (-sin(x) - 1)\n",
    "@show g2p(xstar)\n",
    "plot([cos,\n",
    "      g2,\n",
    "      x -> x])"
   ]
  },
  {
   "cell_type": "code",
   "execution_count": 89,
   "id": "fcd1c86e",
   "metadata": {
    "cell_style": "split",
    "slideshow": {
     "slide_type": "fragment"
    }
   },
   "outputs": [
    {
     "data": {
      "text/plain": [
       "16-element Vector{Float64}:\n",
       "  0.26091486661471597\n",
       " -0.4286316745830744\n",
       "  0.533980847895856\n",
       " -0.9355913786055012\n",
       "  0.8303000345072872\n",
       " -1.521660979680616\n",
       "  0.7158522525828056\n",
       " -1.2931539564234353\n",
       "  0.813535401918768\n",
       " -1.488133214912124\n",
       "  0.7339450100692136\n",
       " -1.3291844363123972\n",
       "  0.8022926581660198\n",
       " -1.4656525910895393\n",
       "  0.7453871946625251\n",
       " -1.3519960573801981"
      ]
     },
     "execution_count": 89,
     "metadata": {},
     "output_type": "execute_result"
    }
   ],
   "source": [
    "xs = fixed_point(g2, 1., 15)\n",
    "xs .- xstar"
   ]
  },
  {
   "cell_type": "markdown",
   "id": "c099dae3",
   "metadata": {
    "slideshow": {
     "slide_type": "skip"
    }
   },
   "source": [
    "# Formulations are not unique (functions)\n",
    "\n",
    "If $x = g(x)$ then $x = x + \\big(g(x) - x\\big) h(x)$ for any $h(x) > c > 0$."
   ]
  },
  {
   "cell_type": "code",
   "execution_count": 90,
   "id": "7063cac0",
   "metadata": {
    "slideshow": {
     "slide_type": "skip"
    }
   },
   "outputs": [
    {
     "ename": "LoadError",
     "evalue": "cannot define function h; it already has a value",
     "output_type": "error",
     "traceback": [
      "cannot define function h; it already has a value",
      "",
      "Stacktrace:",
      " [1] top-level scope",
      "   @ none:0",
      " [2] top-level scope",
      "   @ In[90]:1",
      " [3] eval",
      "   @ ./boot.jl:373 [inlined]",
      " [4] include_string(mapexpr::typeof(REPL.softscope), mod::Module, code::String, filename::String)",
      "   @ Base ./loading.jl:1196"
     ]
    }
   ],
   "source": [
    "h(x) = 1 / (sin(x) + x)\n",
    "g3(x) = x + (cos(x) - x) * h(x)\n",
    "\n",
    "plot([cos,\n",
    "      g3,\n",
    "      x -> x])"
   ]
  },
  {
   "cell_type": "markdown",
   "id": "142cfca3",
   "metadata": {
    "cell_style": "center",
    "slideshow": {
     "slide_type": "slide"
    }
   },
   "source": [
    "# Next time\n",
    "\n",
    "* Derivation via convergence theory\n",
    "* Quadratic convergence!\n",
    "* Culture: fast inverse square root\n",
    "* Computing derivatives\n",
    "* Reliability\n",
    "* Globalization"
   ]
  }
 ],
 "metadata": {
  "@webio": {
   "lastCommId": "d005758a2c014970b1ecb25bdfe0e5ce",
   "lastKernelId": "6b2d1577-a396-467b-b12c-4c035d941eea"
  },
  "celltoolbar": "Slideshow",
  "hide_code_all_hidden": false,
  "kernelspec": {
   "display_name": "Julia 1.7.1",
   "language": "julia",
   "name": "julia-1.7"
  },
  "language_info": {
   "file_extension": ".jl",
   "mimetype": "application/julia",
   "name": "julia",
   "version": "1.7.1"
  },
  "rise": {
   "enable_chalkboard": true
  }
 },
 "nbformat": 4,
 "nbformat_minor": 5
}
