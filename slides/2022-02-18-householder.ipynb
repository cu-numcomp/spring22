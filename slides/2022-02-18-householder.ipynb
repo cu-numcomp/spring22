{
 "cells": [
  {
   "cell_type": "markdown",
   "id": "4159be0e",
   "metadata": {
    "hideCode": false,
    "hidePrompt": false,
    "slideshow": {
     "slide_type": "slide"
    }
   },
   "source": [
    "# 2022-02-18 Householder QR\n",
    "\n",
    "## Last time\n",
    "\n",
    "* Stability and ill conditioning\n",
    "* Intro to performance modeling\n",
    "* Classical vs Modified Gram-Schmidt\n",
    "\n",
    "## Today\n",
    "\n",
    "* Performance strategies\n",
    "* Right vs left-looking algorithms\n",
    "* Elementary reflectors\n",
    "* Householder QR"
   ]
  },
  {
   "cell_type": "code",
   "execution_count": 1,
   "id": "eb781a7a",
   "metadata": {
    "slideshow": {
     "slide_type": "skip"
    }
   },
   "outputs": [
    {
     "data": {
      "text/plain": [
       "vander (generic function with 2 methods)"
      ]
     },
     "execution_count": 1,
     "metadata": {},
     "output_type": "execute_result"
    }
   ],
   "source": [
    "using LinearAlgebra\n",
    "using Plots\n",
    "using Polynomials\n",
    "default(linewidth=4, legendfontsize=12)\n",
    "\n",
    "function vander(x, k=nothing)\n",
    "    if isnothing(k)\n",
    "        k = length(x)\n",
    "    end\n",
    "    m = length(x)\n",
    "    V = ones(m, k)\n",
    "    for j in 2:k\n",
    "        V[:, j] = V[:, j-1] .* x\n",
    "    end\n",
    "    V\n",
    "end"
   ]
  },
  {
   "cell_type": "markdown",
   "id": "efc14559",
   "metadata": {
    "slideshow": {
     "slide_type": "slide"
    }
   },
   "source": [
    "# A Gram-Schmidt with more parallelism\n",
    "\n",
    "\\begin{align}\n",
    "(I - q_2 q_2^T) (I - q_1 q_1^T) v &= (I - q_1 q_1^T - q_2 q_2^T + q_2 q_2^T q_1 q_1^T) v \\\\\n",
    "&= \\Bigg( I - \\Big[ q_1 \\Big| q_2 \\Big] \\begin{bmatrix} q_1^T \\\\ q_2^T \\end{bmatrix} \\Bigg) v\n",
    "\\end{align}"
   ]
  },
  {
   "cell_type": "code",
   "execution_count": 2,
   "id": "3ac43046",
   "metadata": {
    "cell_style": "split"
   },
   "outputs": [
    {
     "data": {
      "text/plain": [
       "gram_schmidt_classical (generic function with 1 method)"
      ]
     },
     "execution_count": 2,
     "metadata": {},
     "output_type": "execute_result"
    }
   ],
   "source": [
    "function gram_schmidt_classical(A)\n",
    "    m, n = size(A)\n",
    "    Q = zeros(m, n)\n",
    "    R = zeros(n, n)\n",
    "    for j in 1:n\n",
    "        v = A[:,j]\n",
    "        R[1:j-1,j] = Q[:,1:j-1]' * v\n",
    "        v -= Q[:,1:j-1] * R[1:j-1,j]\n",
    "        R[j,j] = norm(v)\n",
    "        Q[:,j] = v / R[j,j]\n",
    "    end\n",
    "    Q, R\n",
    "end"
   ]
  },
  {
   "cell_type": "code",
   "execution_count": 3,
   "id": "18964396",
   "metadata": {
    "cell_style": "split"
   },
   "outputs": [
    {
     "name": "stdout",
     "output_type": "stream",
     "text": [
      "norm(Q' * Q - I) = 6.339875256299394e-11\n",
      "norm(Q * R - A) = 1.217027619812654e-16\n"
     ]
    },
    {
     "data": {
      "text/plain": [
       "1.217027619812654e-16"
      ]
     },
     "execution_count": 3,
     "metadata": {},
     "output_type": "execute_result"
    }
   ],
   "source": [
    "m = 10\n",
    "x = LinRange(-1, 1, m)\n",
    "A = vander(x, m)\n",
    "Q, R = gram_schmidt_classical(A)\n",
    "@show norm(Q' * Q - I)\n",
    "@show norm(Q * R - A)"
   ]
  },
  {
   "cell_type": "markdown",
   "id": "d42aa396",
   "metadata": {
    "slideshow": {
     "slide_type": "slide"
    }
   },
   "source": [
    "# Why does order of operations matter?\n",
    "\n",
    "\\begin{align}\n",
    "(I - q_2 q_2^T) (I - q_1 q_1^T) v &= (I - q_1 q_1^T - q_2 q_2^T + q_2 q_2^T q_1 q_1^T) v \\\\\n",
    "&= \\Bigg( I - \\Big[ q_1 \\Big| q_2 \\Big] \\begin{bmatrix} q_1^T \\\\ q_2^T \\end{bmatrix} \\Bigg) v\n",
    "\\end{align}\n",
    "is not exact in finite arithmetic."
   ]
  },
  {
   "cell_type": "markdown",
   "id": "c81bbbb2",
   "metadata": {
    "cell_style": "center",
    "slideshow": {
     "slide_type": "slide"
    }
   },
   "source": [
    "# We can look at the size of what's left over\n",
    "\n",
    "We project out the components of our vectors in the directions of each $q_j$."
   ]
  },
  {
   "cell_type": "code",
   "execution_count": 4,
   "id": "f53c1ab0",
   "metadata": {
    "scrolled": false,
    "slideshow": {
     "slide_type": ""
    }
   },
   "outputs": [
    {
     "data": {
      "image/svg+xml": [
       "<?xml version=\"1.0\" encoding=\"utf-8\"?>\n",
       "<svg xmlns=\"http://www.w3.org/2000/svg\" xmlns:xlink=\"http://www.w3.org/1999/xlink\" width=\"600\" height=\"400\" viewBox=\"0 0 2400 1600\">\n",
       "<defs>\n",
       "  <clipPath id=\"clip370\">\n",
       "    <rect x=\"0\" y=\"0\" width=\"2400\" height=\"1600\"/>\n",
       "  </clipPath>\n",
       "</defs>\n",
       "<path clip-path=\"url(#clip370)\" d=\"\n",
       "M0 1600 L2400 1600 L2400 0 L0 0  Z\n",
       "  \" fill=\"#ffffff\" fill-rule=\"evenodd\" fill-opacity=\"1\"/>\n",
       "<defs>\n",
       "  <clipPath id=\"clip371\">\n",
       "    <rect x=\"480\" y=\"0\" width=\"1681\" height=\"1600\"/>\n",
       "  </clipPath>\n",
       "</defs>\n",
       "<path clip-path=\"url(#clip370)\" d=\"\n",
       "M189.496 1486.45 L2352.76 1486.45 L2352.76 47.2441 L189.496 47.2441  Z\n",
       "  \" fill=\"#ffffff\" fill-rule=\"evenodd\" fill-opacity=\"1\"/>\n",
       "<defs>\n",
       "  <clipPath id=\"clip372\">\n",
       "    <rect x=\"189\" y=\"47\" width=\"2164\" height=\"1440\"/>\n",
       "  </clipPath>\n",
       "</defs>\n",
       "<polyline clip-path=\"url(#clip372)\" style=\"stroke:#000000; stroke-linecap:butt; stroke-linejoin:round; stroke-width:2; stroke-opacity:0.1; fill:none\" points=\"\n",
       "  680.365,1486.45 680.365,47.2441 \n",
       "  \"/>\n",
       "<polyline clip-path=\"url(#clip372)\" style=\"stroke:#000000; stroke-linecap:butt; stroke-linejoin:round; stroke-width:2; stroke-opacity:0.1; fill:none\" points=\"\n",
       "  1217.42,1486.45 1217.42,47.2441 \n",
       "  \"/>\n",
       "<polyline clip-path=\"url(#clip372)\" style=\"stroke:#000000; stroke-linecap:butt; stroke-linejoin:round; stroke-width:2; stroke-opacity:0.1; fill:none\" points=\"\n",
       "  1754.48,1486.45 1754.48,47.2441 \n",
       "  \"/>\n",
       "<polyline clip-path=\"url(#clip372)\" style=\"stroke:#000000; stroke-linecap:butt; stroke-linejoin:round; stroke-width:2; stroke-opacity:0.1; fill:none\" points=\"\n",
       "  2291.53,1486.45 2291.53,47.2441 \n",
       "  \"/>\n",
       "<polyline clip-path=\"url(#clip370)\" style=\"stroke:#000000; stroke-linecap:butt; stroke-linejoin:round; stroke-width:4; stroke-opacity:1; fill:none\" points=\"\n",
       "  189.496,1486.45 2352.76,1486.45 \n",
       "  \"/>\n",
       "<polyline clip-path=\"url(#clip370)\" style=\"stroke:#000000; stroke-linecap:butt; stroke-linejoin:round; stroke-width:4; stroke-opacity:1; fill:none\" points=\"\n",
       "  680.365,1486.45 680.365,1467.55 \n",
       "  \"/>\n",
       "<polyline clip-path=\"url(#clip370)\" style=\"stroke:#000000; stroke-linecap:butt; stroke-linejoin:round; stroke-width:4; stroke-opacity:1; fill:none\" points=\"\n",
       "  1217.42,1486.45 1217.42,1467.55 \n",
       "  \"/>\n",
       "<polyline clip-path=\"url(#clip370)\" style=\"stroke:#000000; stroke-linecap:butt; stroke-linejoin:round; stroke-width:4; stroke-opacity:1; fill:none\" points=\"\n",
       "  1754.48,1486.45 1754.48,1467.55 \n",
       "  \"/>\n",
       "<polyline clip-path=\"url(#clip370)\" style=\"stroke:#000000; stroke-linecap:butt; stroke-linejoin:round; stroke-width:4; stroke-opacity:1; fill:none\" points=\"\n",
       "  2291.53,1486.45 2291.53,1467.55 \n",
       "  \"/>\n",
       "<path clip-path=\"url(#clip370)\" d=\"M670.643 1514.29 L688.999 1514.29 L688.999 1518.22 L674.925 1518.22 L674.925 1526.7 Q675.943 1526.35 676.962 1526.19 Q677.98 1526 678.999 1526 Q684.786 1526 688.166 1529.17 Q691.545 1532.34 691.545 1537.76 Q691.545 1543.34 688.073 1546.44 Q684.601 1549.52 678.281 1549.52 Q676.106 1549.52 673.837 1549.15 Q671.592 1548.78 669.184 1548.04 L669.184 1543.34 Q671.268 1544.47 673.49 1545.03 Q675.712 1545.58 678.189 1545.58 Q682.193 1545.58 684.531 1543.48 Q686.869 1541.37 686.869 1537.76 Q686.869 1534.15 684.531 1532.04 Q682.193 1529.94 678.189 1529.94 Q676.314 1529.94 674.439 1530.35 Q672.587 1530.77 670.643 1531.65 L670.643 1514.29 Z\" fill=\"#000000\" fill-rule=\"evenodd\" fill-opacity=\"1\" /><path clip-path=\"url(#clip370)\" d=\"M1192.11 1544.91 L1199.75 1544.91 L1199.75 1518.55 L1191.44 1520.21 L1191.44 1515.95 L1199.7 1514.29 L1204.38 1514.29 L1204.38 1544.91 L1212.02 1544.91 L1212.02 1548.85 L1192.11 1548.85 L1192.11 1544.91 Z\" fill=\"#000000\" fill-rule=\"evenodd\" fill-opacity=\"1\" /><path clip-path=\"url(#clip370)\" d=\"M1231.46 1517.37 Q1227.85 1517.37 1226.02 1520.93 Q1224.21 1524.47 1224.21 1531.6 Q1224.21 1538.71 1226.02 1542.27 Q1227.85 1545.82 1231.46 1545.82 Q1235.09 1545.82 1236.9 1542.27 Q1238.73 1538.71 1238.73 1531.6 Q1238.73 1524.47 1236.9 1520.93 Q1235.09 1517.37 1231.46 1517.37 M1231.46 1513.66 Q1237.27 1513.66 1240.33 1518.27 Q1243.4 1522.85 1243.4 1531.6 Q1243.4 1540.33 1240.33 1544.94 Q1237.27 1549.52 1231.46 1549.52 Q1225.65 1549.52 1222.57 1544.94 Q1219.52 1540.33 1219.52 1531.6 Q1219.52 1522.85 1222.57 1518.27 Q1225.65 1513.66 1231.46 1513.66 Z\" fill=\"#000000\" fill-rule=\"evenodd\" fill-opacity=\"1\" /><path clip-path=\"url(#clip370)\" d=\"M1729.66 1544.91 L1737.3 1544.91 L1737.3 1518.55 L1728.99 1520.21 L1728.99 1515.95 L1737.25 1514.29 L1741.93 1514.29 L1741.93 1544.91 L1749.57 1544.91 L1749.57 1548.85 L1729.66 1548.85 L1729.66 1544.91 Z\" fill=\"#000000\" fill-rule=\"evenodd\" fill-opacity=\"1\" /><path clip-path=\"url(#clip370)\" d=\"M1759.06 1514.29 L1777.42 1514.29 L1777.42 1518.22 L1763.34 1518.22 L1763.34 1526.7 Q1764.36 1526.35 1765.38 1526.19 Q1766.4 1526 1767.42 1526 Q1773.2 1526 1776.58 1529.17 Q1779.96 1532.34 1779.96 1537.76 Q1779.96 1543.34 1776.49 1546.44 Q1773.02 1549.52 1766.7 1549.52 Q1764.52 1549.52 1762.25 1549.15 Q1760.01 1548.78 1757.6 1548.04 L1757.6 1543.34 Q1759.68 1544.47 1761.91 1545.03 Q1764.13 1545.58 1766.61 1545.58 Q1770.61 1545.58 1772.95 1543.48 Q1775.29 1541.37 1775.29 1537.76 Q1775.29 1534.15 1772.95 1532.04 Q1770.61 1529.94 1766.61 1529.94 Q1764.73 1529.94 1762.86 1530.35 Q1761 1530.77 1759.06 1531.65 L1759.06 1514.29 Z\" fill=\"#000000\" fill-rule=\"evenodd\" fill-opacity=\"1\" /><path clip-path=\"url(#clip370)\" d=\"M2270.3 1544.91 L2286.62 1544.91 L2286.62 1548.85 L2264.68 1548.85 L2264.68 1544.91 Q2267.34 1542.16 2271.93 1537.53 Q2276.53 1532.88 2277.71 1531.53 Q2279.96 1529.01 2280.84 1527.27 Q2281.74 1525.51 2281.74 1523.82 Q2281.74 1521.07 2279.8 1519.33 Q2277.87 1517.6 2274.77 1517.6 Q2272.57 1517.6 2270.12 1518.36 Q2267.69 1519.13 2264.91 1520.68 L2264.91 1515.95 Q2267.74 1514.82 2270.19 1514.24 Q2272.64 1513.66 2274.68 1513.66 Q2280.05 1513.66 2283.24 1516.35 Q2286.44 1519.03 2286.44 1523.52 Q2286.44 1525.65 2285.63 1527.57 Q2284.84 1529.47 2282.74 1532.07 Q2282.16 1532.74 2279.05 1535.95 Q2275.95 1539.15 2270.3 1544.91 Z\" fill=\"#000000\" fill-rule=\"evenodd\" fill-opacity=\"1\" /><path clip-path=\"url(#clip370)\" d=\"M2306.44 1517.37 Q2302.83 1517.37 2301 1520.93 Q2299.19 1524.47 2299.19 1531.6 Q2299.19 1538.71 2301 1542.27 Q2302.83 1545.82 2306.44 1545.82 Q2310.07 1545.82 2311.88 1542.27 Q2313.71 1538.71 2313.71 1531.6 Q2313.71 1524.47 2311.88 1520.93 Q2310.07 1517.37 2306.44 1517.37 M2306.44 1513.66 Q2312.25 1513.66 2315.3 1518.27 Q2318.38 1522.85 2318.38 1531.6 Q2318.38 1540.33 2315.3 1544.94 Q2312.25 1549.52 2306.44 1549.52 Q2300.63 1549.52 2297.55 1544.94 Q2294.49 1540.33 2294.49 1531.6 Q2294.49 1522.85 2297.55 1518.27 Q2300.63 1513.66 2306.44 1513.66 Z\" fill=\"#000000\" fill-rule=\"evenodd\" fill-opacity=\"1\" /><polyline clip-path=\"url(#clip372)\" style=\"stroke:#000000; stroke-linecap:butt; stroke-linejoin:round; stroke-width:2; stroke-opacity:0.1; fill:none\" points=\"\n",
       "  189.496,1455.17 2352.76,1455.17 \n",
       "  \"/>\n",
       "<polyline clip-path=\"url(#clip372)\" style=\"stroke:#000000; stroke-linecap:butt; stroke-linejoin:round; stroke-width:2; stroke-opacity:0.1; fill:none\" points=\"\n",
       "  189.496,1249.59 2352.76,1249.59 \n",
       "  \"/>\n",
       "<polyline clip-path=\"url(#clip372)\" style=\"stroke:#000000; stroke-linecap:butt; stroke-linejoin:round; stroke-width:2; stroke-opacity:0.1; fill:none\" points=\"\n",
       "  189.496,1044.02 2352.76,1044.02 \n",
       "  \"/>\n",
       "<polyline clip-path=\"url(#clip372)\" style=\"stroke:#000000; stroke-linecap:butt; stroke-linejoin:round; stroke-width:2; stroke-opacity:0.1; fill:none\" points=\"\n",
       "  189.496,838.438 2352.76,838.438 \n",
       "  \"/>\n",
       "<polyline clip-path=\"url(#clip372)\" style=\"stroke:#000000; stroke-linecap:butt; stroke-linejoin:round; stroke-width:2; stroke-opacity:0.1; fill:none\" points=\"\n",
       "  189.496,632.861 2352.76,632.861 \n",
       "  \"/>\n",
       "<polyline clip-path=\"url(#clip372)\" style=\"stroke:#000000; stroke-linecap:butt; stroke-linejoin:round; stroke-width:2; stroke-opacity:0.1; fill:none\" points=\"\n",
       "  189.496,427.284 2352.76,427.284 \n",
       "  \"/>\n",
       "<polyline clip-path=\"url(#clip372)\" style=\"stroke:#000000; stroke-linecap:butt; stroke-linejoin:round; stroke-width:2; stroke-opacity:0.1; fill:none\" points=\"\n",
       "  189.496,221.707 2352.76,221.707 \n",
       "  \"/>\n",
       "<polyline clip-path=\"url(#clip370)\" style=\"stroke:#000000; stroke-linecap:butt; stroke-linejoin:round; stroke-width:4; stroke-opacity:1; fill:none\" points=\"\n",
       "  189.496,1486.45 189.496,47.2441 \n",
       "  \"/>\n",
       "<polyline clip-path=\"url(#clip370)\" style=\"stroke:#000000; stroke-linecap:butt; stroke-linejoin:round; stroke-width:4; stroke-opacity:1; fill:none\" points=\"\n",
       "  189.496,1455.17 208.394,1455.17 \n",
       "  \"/>\n",
       "<polyline clip-path=\"url(#clip370)\" style=\"stroke:#000000; stroke-linecap:butt; stroke-linejoin:round; stroke-width:4; stroke-opacity:1; fill:none\" points=\"\n",
       "  189.496,1249.59 208.394,1249.59 \n",
       "  \"/>\n",
       "<polyline clip-path=\"url(#clip370)\" style=\"stroke:#000000; stroke-linecap:butt; stroke-linejoin:round; stroke-width:4; stroke-opacity:1; fill:none\" points=\"\n",
       "  189.496,1044.02 208.394,1044.02 \n",
       "  \"/>\n",
       "<polyline clip-path=\"url(#clip370)\" style=\"stroke:#000000; stroke-linecap:butt; stroke-linejoin:round; stroke-width:4; stroke-opacity:1; fill:none\" points=\"\n",
       "  189.496,838.438 208.394,838.438 \n",
       "  \"/>\n",
       "<polyline clip-path=\"url(#clip370)\" style=\"stroke:#000000; stroke-linecap:butt; stroke-linejoin:round; stroke-width:4; stroke-opacity:1; fill:none\" points=\"\n",
       "  189.496,632.861 208.394,632.861 \n",
       "  \"/>\n",
       "<polyline clip-path=\"url(#clip370)\" style=\"stroke:#000000; stroke-linecap:butt; stroke-linejoin:round; stroke-width:4; stroke-opacity:1; fill:none\" points=\"\n",
       "  189.496,427.284 208.394,427.284 \n",
       "  \"/>\n",
       "<polyline clip-path=\"url(#clip370)\" style=\"stroke:#000000; stroke-linecap:butt; stroke-linejoin:round; stroke-width:4; stroke-opacity:1; fill:none\" points=\"\n",
       "  189.496,221.707 208.394,221.707 \n",
       "  \"/>\n",
       "<path clip-path=\"url(#clip370)\" d=\"M51.9267 1474.96 L59.5656 1474.96 L59.5656 1448.6 L51.2554 1450.26 L51.2554 1446 L59.5193 1444.34 L64.1952 1444.34 L64.1952 1474.96 L71.834 1474.96 L71.834 1478.9 L51.9267 1478.9 L51.9267 1474.96 Z\" fill=\"#000000\" fill-rule=\"evenodd\" fill-opacity=\"1\" /><path clip-path=\"url(#clip370)\" d=\"M91.2784 1447.42 Q87.6673 1447.42 85.8386 1450.98 Q84.033 1454.52 84.033 1461.65 Q84.033 1468.76 85.8386 1472.32 Q87.6673 1475.86 91.2784 1475.86 Q94.9126 1475.86 96.7182 1472.32 Q98.5468 1468.76 98.5468 1461.65 Q98.5468 1454.52 96.7182 1450.98 Q94.9126 1447.42 91.2784 1447.42 M91.2784 1443.71 Q97.0885 1443.71 100.144 1448.32 Q103.223 1452.9 103.223 1461.65 Q103.223 1470.38 100.144 1474.99 Q97.0885 1479.57 91.2784 1479.57 Q85.4682 1479.57 82.3895 1474.99 Q79.334 1470.38 79.334 1461.65 Q79.334 1452.9 82.3895 1448.32 Q85.4682 1443.71 91.2784 1443.71 Z\" fill=\"#000000\" fill-rule=\"evenodd\" fill-opacity=\"1\" /><path clip-path=\"url(#clip370)\" d=\"M103.223 1437.81 L127.334 1437.81 L127.334 1441.01 L103.223 1441.01 L103.223 1437.81 Z\" fill=\"#000000\" fill-rule=\"evenodd\" fill-opacity=\"1\" /><path clip-path=\"url(#clip370)\" d=\"M144.13 1435.93 Q141.572 1435.93 140.067 1437.68 Q138.581 1439.43 138.581 1442.48 Q138.581 1445.51 140.067 1447.27 Q141.572 1449.02 144.13 1449.02 Q146.688 1449.02 148.173 1447.27 Q149.678 1445.51 149.678 1442.48 Q149.678 1439.43 148.173 1437.68 Q146.688 1435.93 144.13 1435.93 M151.672 1424.03 L151.672 1427.49 Q150.242 1426.81 148.775 1426.45 Q147.327 1426.1 145.898 1426.1 Q142.136 1426.1 140.142 1428.64 Q138.168 1431.17 137.885 1436.31 Q138.995 1434.67 140.669 1433.81 Q142.343 1432.92 144.355 1432.92 Q148.587 1432.92 151.032 1435.5 Q153.496 1438.06 153.496 1442.48 Q153.496 1446.8 150.938 1449.42 Q148.38 1452.03 144.13 1452.03 Q139.258 1452.03 136.682 1448.31 Q134.105 1444.57 134.105 1437.48 Q134.105 1430.82 137.265 1426.87 Q140.425 1422.9 145.747 1422.9 Q147.177 1422.9 148.625 1423.18 Q150.092 1423.46 151.672 1424.03 Z\" fill=\"#000000\" fill-rule=\"evenodd\" fill-opacity=\"1\" /><path clip-path=\"url(#clip370)\" d=\"M52.8671 1269.39 L60.506 1269.39 L60.506 1243.02 L52.1958 1244.69 L52.1958 1240.43 L60.4597 1238.76 L65.1356 1238.76 L65.1356 1269.39 L72.7744 1269.39 L72.7744 1273.32 L52.8671 1273.32 L52.8671 1269.39 Z\" fill=\"#000000\" fill-rule=\"evenodd\" fill-opacity=\"1\" /><path clip-path=\"url(#clip370)\" d=\"M92.2188 1241.84 Q88.6077 1241.84 86.779 1245.4 Q84.9734 1248.95 84.9734 1256.07 Q84.9734 1263.18 86.779 1266.75 Q88.6077 1270.29 92.2188 1270.29 Q95.853 1270.29 97.6585 1266.75 Q99.4872 1263.18 99.4872 1256.07 Q99.4872 1248.95 97.6585 1245.4 Q95.853 1241.84 92.2188 1241.84 M92.2188 1238.14 Q98.0289 1238.14 101.084 1242.74 Q104.163 1247.32 104.163 1256.07 Q104.163 1264.8 101.084 1269.41 Q98.0289 1273.99 92.2188 1273.99 Q86.4086 1273.99 83.3299 1269.41 Q80.2744 1264.8 80.2744 1256.07 Q80.2744 1247.32 83.3299 1242.74 Q86.4086 1238.14 92.2188 1238.14 Z\" fill=\"#000000\" fill-rule=\"evenodd\" fill-opacity=\"1\" /><path clip-path=\"url(#clip370)\" d=\"M104.163 1232.24 L128.275 1232.24 L128.275 1235.43 L104.163 1235.43 L104.163 1232.24 Z\" fill=\"#000000\" fill-rule=\"evenodd\" fill-opacity=\"1\" /><path clip-path=\"url(#clip370)\" d=\"M136.513 1217.83 L151.427 1217.83 L151.427 1221.03 L139.992 1221.03 L139.992 1227.91 Q140.819 1227.63 141.647 1227.5 Q142.475 1227.35 143.302 1227.35 Q148.004 1227.35 150.75 1229.92 Q153.496 1232.5 153.496 1236.9 Q153.496 1241.43 150.675 1243.95 Q147.854 1246.46 142.719 1246.46 Q140.951 1246.46 139.108 1246.15 Q137.284 1245.85 135.328 1245.25 L135.328 1241.43 Q137.02 1242.36 138.826 1242.81 Q140.631 1243.26 142.644 1243.26 Q145.898 1243.26 147.797 1241.55 Q149.697 1239.83 149.697 1236.9 Q149.697 1233.97 147.797 1232.26 Q145.898 1230.54 142.644 1230.54 Q141.12 1230.54 139.597 1230.88 Q138.092 1231.22 136.513 1231.94 L136.513 1217.83 Z\" fill=\"#000000\" fill-rule=\"evenodd\" fill-opacity=\"1\" /><path clip-path=\"url(#clip370)\" d=\"M51.6634 1063.81 L59.3023 1063.81 L59.3023 1037.44 L50.9921 1039.11 L50.9921 1034.85 L59.256 1033.18 L63.9319 1033.18 L63.9319 1063.81 L71.5707 1063.81 L71.5707 1067.74 L51.6634 1067.74 L51.6634 1063.81 Z\" fill=\"#000000\" fill-rule=\"evenodd\" fill-opacity=\"1\" /><path clip-path=\"url(#clip370)\" d=\"M91.0151 1036.26 Q87.404 1036.26 85.5753 1039.83 Q83.7697 1043.37 83.7697 1050.5 Q83.7697 1057.6 85.5753 1061.17 Q87.404 1064.71 91.0151 1064.71 Q94.6493 1064.71 96.4548 1061.17 Q98.2835 1057.6 98.2835 1050.5 Q98.2835 1043.37 96.4548 1039.83 Q94.6493 1036.26 91.0151 1036.26 M91.0151 1032.56 Q96.8252 1032.56 99.8808 1037.16 Q102.959 1041.75 102.959 1050.5 Q102.959 1059.22 99.8808 1063.83 Q96.8252 1068.41 91.0151 1068.41 Q85.2049 1068.41 82.1262 1063.83 Q79.0707 1059.22 79.0707 1050.5 Q79.0707 1041.75 82.1262 1037.16 Q85.2049 1032.56 91.0151 1032.56 Z\" fill=\"#000000\" fill-rule=\"evenodd\" fill-opacity=\"1\" /><path clip-path=\"url(#clip370)\" d=\"M102.959 1026.66 L127.071 1026.66 L127.071 1029.86 L102.959 1029.86 L102.959 1026.66 Z\" fill=\"#000000\" fill-rule=\"evenodd\" fill-opacity=\"1\" /><path clip-path=\"url(#clip370)\" d=\"M145.71 1015.56 L136.118 1030.55 L145.71 1030.55 L145.71 1015.56 M144.713 1012.25 L149.49 1012.25 L149.49 1030.55 L153.496 1030.55 L153.496 1033.71 L149.49 1033.71 L149.49 1040.33 L145.71 1040.33 L145.71 1033.71 L133.033 1033.71 L133.033 1030.04 L144.713 1012.25 Z\" fill=\"#000000\" fill-rule=\"evenodd\" fill-opacity=\"1\" /><path clip-path=\"url(#clip370)\" d=\"M52.585 858.231 L60.2238 858.231 L60.2238 831.865 L51.9137 833.532 L51.9137 829.273 L60.1776 827.606 L64.8535 827.606 L64.8535 858.231 L72.4923 858.231 L72.4923 862.166 L52.585 862.166 L52.585 858.231 Z\" fill=\"#000000\" fill-rule=\"evenodd\" fill-opacity=\"1\" /><path clip-path=\"url(#clip370)\" d=\"M91.9366 830.685 Q88.3255 830.685 86.4969 834.25 Q84.6913 837.791 84.6913 844.921 Q84.6913 852.027 86.4969 855.592 Q88.3255 859.134 91.9366 859.134 Q95.5709 859.134 97.3764 855.592 Q99.2051 852.027 99.2051 844.921 Q99.2051 837.791 97.3764 834.25 Q95.5709 830.685 91.9366 830.685 M91.9366 826.981 Q97.7468 826.981 100.802 831.588 Q103.881 836.171 103.881 844.921 Q103.881 853.648 100.802 858.254 Q97.7468 862.837 91.9366 862.837 Q86.1265 862.837 83.0478 858.254 Q79.9923 853.648 79.9923 844.921 Q79.9923 836.171 83.0478 831.588 Q86.1265 826.981 91.9366 826.981 Z\" fill=\"#000000\" fill-rule=\"evenodd\" fill-opacity=\"1\" /><path clip-path=\"url(#clip370)\" d=\"M103.881 821.082 L127.993 821.082 L127.993 824.28 L103.881 824.28 L103.881 821.082 Z\" fill=\"#000000\" fill-rule=\"evenodd\" fill-opacity=\"1\" /><path clip-path=\"url(#clip370)\" d=\"M147.703 819.615 Q150.43 820.198 151.954 822.042 Q153.496 823.885 153.496 826.593 Q153.496 830.75 150.637 833.025 Q147.778 835.301 142.512 835.301 Q140.744 835.301 138.863 834.944 Q137.002 834.605 135.008 833.909 L135.008 830.242 Q136.588 831.163 138.469 831.634 Q140.349 832.104 142.399 832.104 Q145.973 832.104 147.835 830.693 Q149.716 829.283 149.716 826.593 Q149.716 824.11 147.966 822.719 Q146.236 821.308 143.133 821.308 L139.86 821.308 L139.86 818.186 L143.283 818.186 Q146.086 818.186 147.571 817.076 Q149.057 815.948 149.057 813.841 Q149.057 811.679 147.515 810.531 Q145.992 809.365 143.133 809.365 Q141.572 809.365 139.785 809.704 Q137.998 810.042 135.854 810.757 L135.854 807.372 Q138.017 806.77 139.898 806.469 Q141.797 806.168 143.471 806.168 Q147.797 806.168 150.317 808.143 Q152.838 810.099 152.838 813.446 Q152.838 815.779 151.502 817.396 Q150.167 818.995 147.703 819.615 Z\" fill=\"#000000\" fill-rule=\"evenodd\" fill-opacity=\"1\" /><path clip-path=\"url(#clip370)\" d=\"M53.3561 652.654 L60.995 652.654 L60.995 626.288 L52.6848 627.955 L52.6848 623.696 L60.9487 622.029 L65.6246 622.029 L65.6246 652.654 L73.2634 652.654 L73.2634 656.589 L53.3561 656.589 L53.3561 652.654 Z\" fill=\"#000000\" fill-rule=\"evenodd\" fill-opacity=\"1\" /><path clip-path=\"url(#clip370)\" d=\"M92.7078 625.108 Q89.0967 625.108 87.268 628.672 Q85.4624 632.214 85.4624 639.344 Q85.4624 646.45 87.268 650.015 Q89.0967 653.557 92.7078 653.557 Q96.342 653.557 98.1475 650.015 Q99.9762 646.45 99.9762 639.344 Q99.9762 632.214 98.1475 628.672 Q96.342 625.108 92.7078 625.108 M92.7078 621.404 Q98.5179 621.404 101.573 626.01 Q104.652 630.594 104.652 639.344 Q104.652 648.071 101.573 652.677 Q98.5179 657.26 92.7078 657.26 Q86.8976 657.26 83.8189 652.677 Q80.7634 648.071 80.7634 639.344 Q80.7634 630.594 83.8189 626.01 Q86.8976 621.404 92.7078 621.404 Z\" fill=\"#000000\" fill-rule=\"evenodd\" fill-opacity=\"1\" /><path clip-path=\"url(#clip370)\" d=\"M104.652 615.505 L128.764 615.505 L128.764 618.703 L104.652 618.703 L104.652 615.505 Z\" fill=\"#000000\" fill-rule=\"evenodd\" fill-opacity=\"1\" /><path clip-path=\"url(#clip370)\" d=\"M140.236 625.981 L153.496 625.981 L153.496 629.179 L135.666 629.179 L135.666 625.981 Q137.829 623.743 141.553 619.982 Q145.296 616.201 146.255 615.11 Q148.079 613.06 148.794 611.65 Q149.527 610.22 149.527 608.847 Q149.527 606.609 147.948 605.199 Q146.387 603.788 143.866 603.788 Q142.08 603.788 140.086 604.409 Q138.111 605.029 135.854 606.29 L135.854 602.453 Q138.149 601.531 140.142 601.061 Q142.136 600.591 143.791 600.591 Q148.155 600.591 150.75 602.772 Q153.345 604.954 153.345 608.603 Q153.345 610.333 152.687 611.894 Q152.048 613.436 150.336 615.543 Q149.866 616.088 147.346 618.703 Q144.826 621.298 140.236 625.981 Z\" fill=\"#000000\" fill-rule=\"evenodd\" fill-opacity=\"1\" /><path clip-path=\"url(#clip370)\" d=\"M53.0552 447.077 L60.694 447.077 L60.694 420.711 L52.3839 422.378 L52.3839 418.119 L60.6477 416.452 L65.3236 416.452 L65.3236 447.077 L72.9625 447.077 L72.9625 451.012 L53.0552 451.012 L53.0552 447.077 Z\" fill=\"#000000\" fill-rule=\"evenodd\" fill-opacity=\"1\" /><path clip-path=\"url(#clip370)\" d=\"M92.4068 419.531 Q88.7957 419.531 86.967 423.095 Q85.1615 426.637 85.1615 433.767 Q85.1615 440.873 86.967 444.438 Q88.7957 447.98 92.4068 447.98 Q96.0411 447.98 97.8466 444.438 Q99.6753 440.873 99.6753 433.767 Q99.6753 426.637 97.8466 423.095 Q96.0411 419.531 92.4068 419.531 M92.4068 415.827 Q98.217 415.827 101.273 420.433 Q104.351 425.017 104.351 433.767 Q104.351 442.493 101.273 447.1 Q98.217 451.683 92.4068 451.683 Q86.5967 451.683 83.518 447.1 Q80.4625 442.493 80.4625 433.767 Q80.4625 425.017 83.518 420.433 Q86.5967 415.827 92.4068 415.827 Z\" fill=\"#000000\" fill-rule=\"evenodd\" fill-opacity=\"1\" /><path clip-path=\"url(#clip370)\" d=\"M104.351 409.928 L128.463 409.928 L128.463 413.126 L104.351 413.126 L104.351 409.928 Z\" fill=\"#000000\" fill-rule=\"evenodd\" fill-opacity=\"1\" /><path clip-path=\"url(#clip370)\" d=\"M137.321 420.404 L143.528 420.404 L143.528 398.982 L136.776 400.336 L136.776 396.876 L143.49 395.522 L147.289 395.522 L147.289 420.404 L153.496 420.404 L153.496 423.602 L137.321 423.602 L137.321 420.404 Z\" fill=\"#000000\" fill-rule=\"evenodd\" fill-opacity=\"1\" /><path clip-path=\"url(#clip370)\" d=\"M82.7903 241.5 L90.4291 241.5 L90.4291 215.134 L82.119 216.801 L82.119 212.542 L90.3828 210.875 L95.0587 210.875 L95.0587 241.5 L102.698 241.5 L102.698 245.435 L82.7903 245.435 L82.7903 241.5 Z\" fill=\"#000000\" fill-rule=\"evenodd\" fill-opacity=\"1\" /><path clip-path=\"url(#clip370)\" d=\"M122.142 213.954 Q118.531 213.954 116.702 217.518 Q114.897 221.06 114.897 228.19 Q114.897 235.296 116.702 238.861 Q118.531 242.402 122.142 242.402 Q125.776 242.402 127.582 238.861 Q129.41 235.296 129.41 228.19 Q129.41 221.06 127.582 217.518 Q125.776 213.954 122.142 213.954 M122.142 210.25 Q127.952 210.25 131.008 214.856 Q134.086 219.44 134.086 228.19 Q134.086 236.916 131.008 241.523 Q127.952 246.106 122.142 246.106 Q116.332 246.106 113.253 241.523 Q110.198 236.916 110.198 228.19 Q110.198 219.44 113.253 214.856 Q116.332 210.25 122.142 210.25 Z\" fill=\"#000000\" fill-rule=\"evenodd\" fill-opacity=\"1\" /><path clip-path=\"url(#clip370)\" d=\"M143.791 192.446 Q140.857 192.446 139.371 195.342 Q137.904 198.22 137.904 204.013 Q137.904 209.787 139.371 212.683 Q140.857 215.561 143.791 215.561 Q146.744 215.561 148.211 212.683 Q149.697 209.787 149.697 204.013 Q149.697 198.22 148.211 195.342 Q146.744 192.446 143.791 192.446 M143.791 189.437 Q148.512 189.437 150.994 193.179 Q153.496 196.903 153.496 204.013 Q153.496 211.103 150.994 214.846 Q148.512 218.57 143.791 218.57 Q139.07 218.57 136.569 214.846 Q134.086 211.103 134.086 204.013 Q134.086 196.903 136.569 193.179 Q139.07 189.437 143.791 189.437 Z\" fill=\"#000000\" fill-rule=\"evenodd\" fill-opacity=\"1\" /><circle clip-path=\"url(#clip372)\" cx=\"250.72\" cy=\"87.9763\" r=\"14\" fill=\"#009af9\" fill-rule=\"evenodd\" fill-opacity=\"1\" stroke=\"#000000\" stroke-opacity=\"1\" stroke-width=\"3.2\"/>\n",
       "<circle clip-path=\"url(#clip372)\" cx=\"358.131\" cy=\"132.551\" r=\"14\" fill=\"#009af9\" fill-rule=\"evenodd\" fill-opacity=\"1\" stroke=\"#000000\" stroke-opacity=\"1\" stroke-width=\"3.2\"/>\n",
       "<circle clip-path=\"url(#clip372)\" cx=\"465.542\" cy=\"187.424\" r=\"14\" fill=\"#009af9\" fill-rule=\"evenodd\" fill-opacity=\"1\" stroke=\"#000000\" stroke-opacity=\"1\" stroke-width=\"3.2\"/>\n",
       "<circle clip-path=\"url(#clip372)\" cx=\"572.954\" cy=\"244.488\" r=\"14\" fill=\"#009af9\" fill-rule=\"evenodd\" fill-opacity=\"1\" stroke=\"#000000\" stroke-opacity=\"1\" stroke-width=\"3.2\"/>\n",
       "<circle clip-path=\"url(#clip372)\" cx=\"680.365\" cy=\"302.912\" r=\"14\" fill=\"#009af9\" fill-rule=\"evenodd\" fill-opacity=\"1\" stroke=\"#000000\" stroke-opacity=\"1\" stroke-width=\"3.2\"/>\n",
       "<circle clip-path=\"url(#clip372)\" cx=\"787.776\" cy=\"362.65\" r=\"14\" fill=\"#009af9\" fill-rule=\"evenodd\" fill-opacity=\"1\" stroke=\"#000000\" stroke-opacity=\"1\" stroke-width=\"3.2\"/>\n",
       "<circle clip-path=\"url(#clip372)\" cx=\"895.187\" cy=\"423.854\" r=\"14\" fill=\"#009af9\" fill-rule=\"evenodd\" fill-opacity=\"1\" stroke=\"#000000\" stroke-opacity=\"1\" stroke-width=\"3.2\"/>\n",
       "<circle clip-path=\"url(#clip372)\" cx=\"1002.6\" cy=\"486.765\" r=\"14\" fill=\"#009af9\" fill-rule=\"evenodd\" fill-opacity=\"1\" stroke=\"#000000\" stroke-opacity=\"1\" stroke-width=\"3.2\"/>\n",
       "<circle clip-path=\"url(#clip372)\" cx=\"1110.01\" cy=\"551.679\" r=\"14\" fill=\"#009af9\" fill-rule=\"evenodd\" fill-opacity=\"1\" stroke=\"#000000\" stroke-opacity=\"1\" stroke-width=\"3.2\"/>\n",
       "<circle clip-path=\"url(#clip372)\" cx=\"1217.42\" cy=\"618.947\" r=\"14\" fill=\"#009af9\" fill-rule=\"evenodd\" fill-opacity=\"1\" stroke=\"#000000\" stroke-opacity=\"1\" stroke-width=\"3.2\"/>\n",
       "<circle clip-path=\"url(#clip372)\" cx=\"1324.83\" cy=\"688.983\" r=\"14\" fill=\"#009af9\" fill-rule=\"evenodd\" fill-opacity=\"1\" stroke=\"#000000\" stroke-opacity=\"1\" stroke-width=\"3.2\"/>\n",
       "<circle clip-path=\"url(#clip372)\" cx=\"1432.24\" cy=\"762.278\" r=\"14\" fill=\"#009af9\" fill-rule=\"evenodd\" fill-opacity=\"1\" stroke=\"#000000\" stroke-opacity=\"1\" stroke-width=\"3.2\"/>\n",
       "<circle clip-path=\"url(#clip372)\" cx=\"1539.65\" cy=\"839.428\" r=\"14\" fill=\"#009af9\" fill-rule=\"evenodd\" fill-opacity=\"1\" stroke=\"#000000\" stroke-opacity=\"1\" stroke-width=\"3.2\"/>\n",
       "<circle clip-path=\"url(#clip372)\" cx=\"1647.06\" cy=\"921.177\" r=\"14\" fill=\"#009af9\" fill-rule=\"evenodd\" fill-opacity=\"1\" stroke=\"#000000\" stroke-opacity=\"1\" stroke-width=\"3.2\"/>\n",
       "<circle clip-path=\"url(#clip372)\" cx=\"1754.48\" cy=\"1008.48\" r=\"14\" fill=\"#009af9\" fill-rule=\"evenodd\" fill-opacity=\"1\" stroke=\"#000000\" stroke-opacity=\"1\" stroke-width=\"3.2\"/>\n",
       "<circle clip-path=\"url(#clip372)\" cx=\"1861.89\" cy=\"1102.64\" r=\"14\" fill=\"#009af9\" fill-rule=\"evenodd\" fill-opacity=\"1\" stroke=\"#000000\" stroke-opacity=\"1\" stroke-width=\"3.2\"/>\n",
       "<circle clip-path=\"url(#clip372)\" cx=\"1969.3\" cy=\"1205.51\" r=\"14\" fill=\"#009af9\" fill-rule=\"evenodd\" fill-opacity=\"1\" stroke=\"#000000\" stroke-opacity=\"1\" stroke-width=\"3.2\"/>\n",
       "<circle clip-path=\"url(#clip372)\" cx=\"2076.71\" cy=\"1319.9\" r=\"14\" fill=\"#009af9\" fill-rule=\"evenodd\" fill-opacity=\"1\" stroke=\"#000000\" stroke-opacity=\"1\" stroke-width=\"3.2\"/>\n",
       "<circle clip-path=\"url(#clip372)\" cx=\"2184.12\" cy=\"1445.72\" r=\"14\" fill=\"#009af9\" fill-rule=\"evenodd\" fill-opacity=\"1\" stroke=\"#000000\" stroke-opacity=\"1\" stroke-width=\"3.2\"/>\n",
       "<circle clip-path=\"url(#clip372)\" cx=\"2291.53\" cy=\"1164.12\" r=\"14\" fill=\"#009af9\" fill-rule=\"evenodd\" fill-opacity=\"1\" stroke=\"#000000\" stroke-opacity=\"1\" stroke-width=\"3.2\"/>\n",
       "<path clip-path=\"url(#clip370)\" d=\"\n",
       "M1961.64 250.738 L2280.65 250.738 L2280.65 95.2176 L1961.64 95.2176  Z\n",
       "  \" fill=\"#ffffff\" fill-rule=\"evenodd\" fill-opacity=\"1\"/>\n",
       "<polyline clip-path=\"url(#clip370)\" style=\"stroke:#000000; stroke-linecap:butt; stroke-linejoin:round; stroke-width:4; stroke-opacity:1; fill:none\" points=\"\n",
       "  1961.64,250.738 2280.65,250.738 2280.65,95.2176 1961.64,95.2176 1961.64,250.738 \n",
       "  \"/>\n",
       "<circle clip-path=\"url(#clip370)\" cx=\"2057.78\" cy=\"172.978\" r=\"34\" fill=\"#009af9\" fill-rule=\"evenodd\" fill-opacity=\"1\" stroke=\"#000000\" stroke-opacity=\"1\" stroke-width=\"7.68\"/>\n",
       "<path clip-path=\"url(#clip370)\" d=\"M2174.69 202.509 Q2171.98 209.453 2169.42 211.571 Q2166.85 213.689 2162.54 213.689 L2157.44 213.689 L2157.44 208.342 L2161.19 208.342 Q2163.83 208.342 2165.28 207.092 Q2166.74 205.842 2168.51 201.189 L2169.66 198.273 L2153.93 160.009 L2160.7 160.009 L2172.85 190.425 L2185.01 160.009 L2191.78 160.009 L2174.69 202.509 Z\" fill=\"#000000\" fill-rule=\"evenodd\" fill-opacity=\"1\" /><path clip-path=\"url(#clip370)\" d=\"M2202.71 192.995 L2214.17 192.995 L2214.17 153.446 L2201.71 155.946 L2201.71 149.558 L2214.1 147.058 L2221.12 147.058 L2221.12 192.995 L2232.57 192.995 L2232.57 198.898 L2202.71 198.898 L2202.71 192.995 Z\" fill=\"#000000\" fill-rule=\"evenodd\" fill-opacity=\"1\" /></svg>\n"
      ]
     },
     "execution_count": 4,
     "metadata": {},
     "output_type": "execute_result"
    }
   ],
   "source": [
    "x = LinRange(-1, 1, 20)\n",
    "A = vander(x)\n",
    "Q, R = gram_schmidt_classical(A)\n",
    "scatter(diag(R), yscale=:log10)"
   ]
  },
  {
   "cell_type": "markdown",
   "id": "4d73937f",
   "metadata": {
    "slideshow": {
     "slide_type": "slide"
    }
   },
   "source": [
    "# The next vector is almost linearly dependent"
   ]
  },
  {
   "cell_type": "code",
   "execution_count": 5,
   "id": "728cdb88",
   "metadata": {
    "scrolled": false
   },
   "outputs": [
    {
     "name": "stdout",
     "output_type": "stream",
     "text": [
      "norm(v) = 1.4245900685395503\n"
     ]
    },
    {
     "data": {
      "image/svg+xml": [
       "<?xml version=\"1.0\" encoding=\"utf-8\"?>\n",
       "<svg xmlns=\"http://www.w3.org/2000/svg\" xmlns:xlink=\"http://www.w3.org/1999/xlink\" width=\"600\" height=\"400\" viewBox=\"0 0 2400 1600\">\n",
       "<defs>\n",
       "  <clipPath id=\"clip410\">\n",
       "    <rect x=\"0\" y=\"0\" width=\"2400\" height=\"1600\"/>\n",
       "  </clipPath>\n",
       "</defs>\n",
       "<path clip-path=\"url(#clip410)\" d=\"\n",
       "M0 1600 L2400 1600 L2400 0 L0 0  Z\n",
       "  \" fill=\"#ffffff\" fill-rule=\"evenodd\" fill-opacity=\"1\"/>\n",
       "<defs>\n",
       "  <clipPath id=\"clip411\">\n",
       "    <rect x=\"480\" y=\"0\" width=\"1681\" height=\"1600\"/>\n",
       "  </clipPath>\n",
       "</defs>\n",
       "<path clip-path=\"url(#clip410)\" d=\"\n",
       "M213.607 1486.45 L2352.76 1486.45 L2352.76 47.2441 L213.607 47.2441  Z\n",
       "  \" fill=\"#ffffff\" fill-rule=\"evenodd\" fill-opacity=\"1\"/>\n",
       "<defs>\n",
       "  <clipPath id=\"clip412\">\n",
       "    <rect x=\"213\" y=\"47\" width=\"2140\" height=\"1440\"/>\n",
       "  </clipPath>\n",
       "</defs>\n",
       "<polyline clip-path=\"url(#clip412)\" style=\"stroke:#000000; stroke-linecap:butt; stroke-linejoin:round; stroke-width:2; stroke-opacity:0.1; fill:none\" points=\"\n",
       "  442.321,1486.45 442.321,47.2441 \n",
       "  \"/>\n",
       "<polyline clip-path=\"url(#clip412)\" style=\"stroke:#000000; stroke-linecap:butt; stroke-linejoin:round; stroke-width:2; stroke-opacity:0.1; fill:none\" points=\"\n",
       "  722.608,1486.45 722.608,47.2441 \n",
       "  \"/>\n",
       "<polyline clip-path=\"url(#clip412)\" style=\"stroke:#000000; stroke-linecap:butt; stroke-linejoin:round; stroke-width:2; stroke-opacity:0.1; fill:none\" points=\"\n",
       "  1002.89,1486.45 1002.89,47.2441 \n",
       "  \"/>\n",
       "<polyline clip-path=\"url(#clip412)\" style=\"stroke:#000000; stroke-linecap:butt; stroke-linejoin:round; stroke-width:2; stroke-opacity:0.1; fill:none\" points=\"\n",
       "  1283.18,1486.45 1283.18,47.2441 \n",
       "  \"/>\n",
       "<polyline clip-path=\"url(#clip412)\" style=\"stroke:#000000; stroke-linecap:butt; stroke-linejoin:round; stroke-width:2; stroke-opacity:0.1; fill:none\" points=\"\n",
       "  1563.47,1486.45 1563.47,47.2441 \n",
       "  \"/>\n",
       "<polyline clip-path=\"url(#clip412)\" style=\"stroke:#000000; stroke-linecap:butt; stroke-linejoin:round; stroke-width:2; stroke-opacity:0.1; fill:none\" points=\"\n",
       "  1843.76,1486.45 1843.76,47.2441 \n",
       "  \"/>\n",
       "<polyline clip-path=\"url(#clip412)\" style=\"stroke:#000000; stroke-linecap:butt; stroke-linejoin:round; stroke-width:2; stroke-opacity:0.1; fill:none\" points=\"\n",
       "  2124.04,1486.45 2124.04,47.2441 \n",
       "  \"/>\n",
       "<polyline clip-path=\"url(#clip410)\" style=\"stroke:#000000; stroke-linecap:butt; stroke-linejoin:round; stroke-width:4; stroke-opacity:1; fill:none\" points=\"\n",
       "  213.607,1486.45 2352.76,1486.45 \n",
       "  \"/>\n",
       "<polyline clip-path=\"url(#clip410)\" style=\"stroke:#000000; stroke-linecap:butt; stroke-linejoin:round; stroke-width:4; stroke-opacity:1; fill:none\" points=\"\n",
       "  442.321,1486.45 442.321,1467.55 \n",
       "  \"/>\n",
       "<polyline clip-path=\"url(#clip410)\" style=\"stroke:#000000; stroke-linecap:butt; stroke-linejoin:round; stroke-width:4; stroke-opacity:1; fill:none\" points=\"\n",
       "  722.608,1486.45 722.608,1467.55 \n",
       "  \"/>\n",
       "<polyline clip-path=\"url(#clip410)\" style=\"stroke:#000000; stroke-linecap:butt; stroke-linejoin:round; stroke-width:4; stroke-opacity:1; fill:none\" points=\"\n",
       "  1002.89,1486.45 1002.89,1467.55 \n",
       "  \"/>\n",
       "<polyline clip-path=\"url(#clip410)\" style=\"stroke:#000000; stroke-linecap:butt; stroke-linejoin:round; stroke-width:4; stroke-opacity:1; fill:none\" points=\"\n",
       "  1283.18,1486.45 1283.18,1467.55 \n",
       "  \"/>\n",
       "<polyline clip-path=\"url(#clip410)\" style=\"stroke:#000000; stroke-linecap:butt; stroke-linejoin:round; stroke-width:4; stroke-opacity:1; fill:none\" points=\"\n",
       "  1563.47,1486.45 1563.47,1467.55 \n",
       "  \"/>\n",
       "<polyline clip-path=\"url(#clip410)\" style=\"stroke:#000000; stroke-linecap:butt; stroke-linejoin:round; stroke-width:4; stroke-opacity:1; fill:none\" points=\"\n",
       "  1843.76,1486.45 1843.76,1467.55 \n",
       "  \"/>\n",
       "<polyline clip-path=\"url(#clip410)\" style=\"stroke:#000000; stroke-linecap:butt; stroke-linejoin:round; stroke-width:4; stroke-opacity:1; fill:none\" points=\"\n",
       "  2124.04,1486.45 2124.04,1467.55 \n",
       "  \"/>\n",
       "<path clip-path=\"url(#clip410)\" d=\"M414.058 1544.91 L430.377 1544.91 L430.377 1548.85 L408.433 1548.85 L408.433 1544.91 Q411.095 1542.16 415.678 1537.53 Q420.285 1532.88 421.465 1531.53 Q423.71 1529.01 424.59 1527.27 Q425.493 1525.51 425.493 1523.82 Q425.493 1521.07 423.548 1519.33 Q421.627 1517.6 418.525 1517.6 Q416.326 1517.6 413.873 1518.36 Q411.442 1519.13 408.664 1520.68 L408.664 1515.95 Q411.488 1514.82 413.942 1514.24 Q416.396 1513.66 418.433 1513.66 Q423.803 1513.66 426.997 1516.35 Q430.192 1519.03 430.192 1523.52 Q430.192 1525.65 429.382 1527.57 Q428.595 1529.47 426.488 1532.07 Q425.91 1532.74 422.808 1535.95 Q419.706 1539.15 414.058 1544.91 Z\" fill=\"#000000\" fill-rule=\"evenodd\" fill-opacity=\"1\" /><path clip-path=\"url(#clip410)\" d=\"M440.192 1542.97 L445.076 1542.97 L445.076 1548.85 L440.192 1548.85 L440.192 1542.97 Z\" fill=\"#000000\" fill-rule=\"evenodd\" fill-opacity=\"1\" /><path clip-path=\"url(#clip410)\" d=\"M455.308 1514.29 L473.664 1514.29 L473.664 1518.22 L459.59 1518.22 L459.59 1526.7 Q460.608 1526.35 461.627 1526.19 Q462.645 1526 463.664 1526 Q469.451 1526 472.831 1529.17 Q476.21 1532.34 476.21 1537.76 Q476.21 1543.34 472.738 1546.44 Q469.266 1549.52 462.946 1549.52 Q460.77 1549.52 458.502 1549.15 Q456.257 1548.78 453.849 1548.04 L453.849 1543.34 Q455.932 1544.47 458.155 1545.03 Q460.377 1545.58 462.854 1545.58 Q466.858 1545.58 469.196 1543.48 Q471.534 1541.37 471.534 1537.76 Q471.534 1534.15 469.196 1532.04 Q466.858 1529.94 462.854 1529.94 Q460.979 1529.94 459.104 1530.35 Q457.252 1530.77 455.308 1531.65 L455.308 1514.29 Z\" fill=\"#000000\" fill-rule=\"evenodd\" fill-opacity=\"1\" /><path clip-path=\"url(#clip410)\" d=\"M689.773 1514.29 L708.129 1514.29 L708.129 1518.22 L694.055 1518.22 L694.055 1526.7 Q695.074 1526.35 696.092 1526.19 Q697.111 1526 698.129 1526 Q703.916 1526 707.296 1529.17 Q710.675 1532.34 710.675 1537.76 Q710.675 1543.34 707.203 1546.44 Q703.731 1549.52 697.412 1549.52 Q695.236 1549.52 692.967 1549.15 Q690.722 1548.78 688.314 1548.04 L688.314 1543.34 Q690.398 1544.47 692.62 1545.03 Q694.842 1545.58 697.319 1545.58 Q701.324 1545.58 703.662 1543.48 Q705.999 1541.37 705.999 1537.76 Q705.999 1534.15 703.662 1532.04 Q701.324 1529.94 697.319 1529.94 Q695.444 1529.94 693.569 1530.35 Q691.717 1530.77 689.773 1531.65 L689.773 1514.29 Z\" fill=\"#000000\" fill-rule=\"evenodd\" fill-opacity=\"1\" /><path clip-path=\"url(#clip410)\" d=\"M719.888 1542.97 L724.773 1542.97 L724.773 1548.85 L719.888 1548.85 L719.888 1542.97 Z\" fill=\"#000000\" fill-rule=\"evenodd\" fill-opacity=\"1\" /><path clip-path=\"url(#clip410)\" d=\"M744.958 1517.37 Q741.347 1517.37 739.518 1520.93 Q737.712 1524.47 737.712 1531.6 Q737.712 1538.71 739.518 1542.27 Q741.347 1545.82 744.958 1545.82 Q748.592 1545.82 750.397 1542.27 Q752.226 1538.71 752.226 1531.6 Q752.226 1524.47 750.397 1520.93 Q748.592 1517.37 744.958 1517.37 M744.958 1513.66 Q750.768 1513.66 753.823 1518.27 Q756.902 1522.85 756.902 1531.6 Q756.902 1540.33 753.823 1544.94 Q750.768 1549.52 744.958 1549.52 Q739.147 1549.52 736.069 1544.94 Q733.013 1540.33 733.013 1531.6 Q733.013 1522.85 736.069 1518.27 Q739.147 1513.66 744.958 1513.66 Z\" fill=\"#000000\" fill-rule=\"evenodd\" fill-opacity=\"1\" /><path clip-path=\"url(#clip410)\" d=\"M969.215 1514.29 L991.437 1514.29 L991.437 1516.28 L978.89 1548.85 L974.006 1548.85 L985.812 1518.22 L969.215 1518.22 L969.215 1514.29 Z\" fill=\"#000000\" fill-rule=\"evenodd\" fill-opacity=\"1\" /><path clip-path=\"url(#clip410)\" d=\"M1000.56 1542.97 L1005.44 1542.97 L1005.44 1548.85 L1000.56 1548.85 L1000.56 1542.97 Z\" fill=\"#000000\" fill-rule=\"evenodd\" fill-opacity=\"1\" /><path clip-path=\"url(#clip410)\" d=\"M1015.67 1514.29 L1034.03 1514.29 L1034.03 1518.22 L1019.96 1518.22 L1019.96 1526.7 Q1020.97 1526.35 1021.99 1526.19 Q1023.01 1526 1024.03 1526 Q1029.82 1526 1033.2 1529.17 Q1036.58 1532.34 1036.58 1537.76 Q1036.58 1543.34 1033.1 1546.44 Q1029.63 1549.52 1023.31 1549.52 Q1021.14 1549.52 1018.87 1549.15 Q1016.62 1548.78 1014.21 1548.04 L1014.21 1543.34 Q1016.3 1544.47 1018.52 1545.03 Q1020.74 1545.58 1023.22 1545.58 Q1027.22 1545.58 1029.56 1543.48 Q1031.9 1541.37 1031.9 1537.76 Q1031.9 1534.15 1029.56 1532.04 Q1027.22 1529.94 1023.22 1529.94 Q1021.34 1529.94 1019.47 1530.35 Q1017.62 1530.77 1015.67 1531.65 L1015.67 1514.29 Z\" fill=\"#000000\" fill-rule=\"evenodd\" fill-opacity=\"1\" /><path clip-path=\"url(#clip410)\" d=\"M1235.25 1544.91 L1242.89 1544.91 L1242.89 1518.55 L1234.58 1520.21 L1234.58 1515.95 L1242.85 1514.29 L1247.52 1514.29 L1247.52 1544.91 L1255.16 1544.91 L1255.16 1548.85 L1235.25 1548.85 L1235.25 1544.91 Z\" fill=\"#000000\" fill-rule=\"evenodd\" fill-opacity=\"1\" /><path clip-path=\"url(#clip410)\" d=\"M1274.61 1517.37 Q1270.99 1517.37 1269.17 1520.93 Q1267.36 1524.47 1267.36 1531.6 Q1267.36 1538.71 1269.17 1542.27 Q1270.99 1545.82 1274.61 1545.82 Q1278.24 1545.82 1280.05 1542.27 Q1281.87 1538.71 1281.87 1531.6 Q1281.87 1524.47 1280.05 1520.93 Q1278.24 1517.37 1274.61 1517.37 M1274.61 1513.66 Q1280.42 1513.66 1283.47 1518.27 Q1286.55 1522.85 1286.55 1531.6 Q1286.55 1540.33 1283.47 1544.94 Q1280.42 1549.52 1274.61 1549.52 Q1268.8 1549.52 1265.72 1544.94 Q1262.66 1540.33 1262.66 1531.6 Q1262.66 1522.85 1265.72 1518.27 Q1268.8 1513.66 1274.61 1513.66 Z\" fill=\"#000000\" fill-rule=\"evenodd\" fill-opacity=\"1\" /><path clip-path=\"url(#clip410)\" d=\"M1294.77 1542.97 L1299.65 1542.97 L1299.65 1548.85 L1294.77 1548.85 L1294.77 1542.97 Z\" fill=\"#000000\" fill-rule=\"evenodd\" fill-opacity=\"1\" /><path clip-path=\"url(#clip410)\" d=\"M1319.84 1517.37 Q1316.23 1517.37 1314.4 1520.93 Q1312.59 1524.47 1312.59 1531.6 Q1312.59 1538.71 1314.4 1542.27 Q1316.23 1545.82 1319.84 1545.82 Q1323.47 1545.82 1325.28 1542.27 Q1327.11 1538.71 1327.11 1531.6 Q1327.11 1524.47 1325.28 1520.93 Q1323.47 1517.37 1319.84 1517.37 M1319.84 1513.66 Q1325.65 1513.66 1328.7 1518.27 Q1331.78 1522.85 1331.78 1531.6 Q1331.78 1540.33 1328.7 1544.94 Q1325.65 1549.52 1319.84 1549.52 Q1314.03 1549.52 1310.95 1544.94 Q1307.89 1540.33 1307.89 1531.6 Q1307.89 1522.85 1310.95 1518.27 Q1314.03 1513.66 1319.84 1513.66 Z\" fill=\"#000000\" fill-rule=\"evenodd\" fill-opacity=\"1\" /><path clip-path=\"url(#clip410)\" d=\"M1516.04 1544.91 L1523.68 1544.91 L1523.68 1518.55 L1515.37 1520.21 L1515.37 1515.95 L1523.63 1514.29 L1528.31 1514.29 L1528.31 1544.91 L1535.95 1544.91 L1535.95 1548.85 L1516.04 1548.85 L1516.04 1544.91 Z\" fill=\"#000000\" fill-rule=\"evenodd\" fill-opacity=\"1\" /><path clip-path=\"url(#clip410)\" d=\"M1549.42 1544.91 L1565.74 1544.91 L1565.74 1548.85 L1543.79 1548.85 L1543.79 1544.91 Q1546.45 1542.16 1551.04 1537.53 Q1555.64 1532.88 1556.82 1531.53 Q1559.07 1529.01 1559.95 1527.27 Q1560.85 1525.51 1560.85 1523.82 Q1560.85 1521.07 1558.91 1519.33 Q1556.99 1517.6 1553.89 1517.6 Q1551.69 1517.6 1549.23 1518.36 Q1546.8 1519.13 1544.02 1520.68 L1544.02 1515.95 Q1546.85 1514.82 1549.3 1514.24 Q1551.76 1513.66 1553.79 1513.66 Q1559.16 1513.66 1562.36 1516.35 Q1565.55 1519.03 1565.55 1523.52 Q1565.55 1525.65 1564.74 1527.57 Q1563.95 1529.47 1561.85 1532.07 Q1561.27 1532.74 1558.17 1535.95 Q1555.07 1539.15 1549.42 1544.91 Z\" fill=\"#000000\" fill-rule=\"evenodd\" fill-opacity=\"1\" /><path clip-path=\"url(#clip410)\" d=\"M1575.55 1542.97 L1580.44 1542.97 L1580.44 1548.85 L1575.55 1548.85 L1575.55 1542.97 Z\" fill=\"#000000\" fill-rule=\"evenodd\" fill-opacity=\"1\" /><path clip-path=\"url(#clip410)\" d=\"M1590.67 1514.29 L1609.02 1514.29 L1609.02 1518.22 L1594.95 1518.22 L1594.95 1526.7 Q1595.97 1526.35 1596.99 1526.19 Q1598.01 1526 1599.02 1526 Q1604.81 1526 1608.19 1529.17 Q1611.57 1532.34 1611.57 1537.76 Q1611.57 1543.34 1608.1 1546.44 Q1604.63 1549.52 1598.31 1549.52 Q1596.13 1549.52 1593.86 1549.15 Q1591.62 1548.78 1589.21 1548.04 L1589.21 1543.34 Q1591.29 1544.47 1593.51 1545.03 Q1595.74 1545.58 1598.21 1545.58 Q1602.22 1545.58 1604.56 1543.48 Q1606.89 1541.37 1606.89 1537.76 Q1606.89 1534.15 1604.56 1532.04 Q1602.22 1529.94 1598.21 1529.94 Q1596.34 1529.94 1594.46 1530.35 Q1592.61 1530.77 1590.67 1531.65 L1590.67 1514.29 Z\" fill=\"#000000\" fill-rule=\"evenodd\" fill-opacity=\"1\" /><path clip-path=\"url(#clip410)\" d=\"M1795.83 1544.91 L1803.47 1544.91 L1803.47 1518.55 L1795.16 1520.21 L1795.16 1515.95 L1803.42 1514.29 L1808.1 1514.29 L1808.1 1544.91 L1815.73 1544.91 L1815.73 1548.85 L1795.83 1548.85 L1795.83 1544.91 Z\" fill=\"#000000\" fill-rule=\"evenodd\" fill-opacity=\"1\" /><path clip-path=\"url(#clip410)\" d=\"M1825.23 1514.29 L1843.58 1514.29 L1843.58 1518.22 L1829.51 1518.22 L1829.51 1526.7 Q1830.53 1526.35 1831.54 1526.19 Q1832.56 1526 1833.58 1526 Q1839.37 1526 1842.75 1529.17 Q1846.13 1532.34 1846.13 1537.76 Q1846.13 1543.34 1842.66 1546.44 Q1839.18 1549.52 1832.86 1549.52 Q1830.69 1549.52 1828.42 1549.15 Q1826.17 1548.78 1823.77 1548.04 L1823.77 1543.34 Q1825.85 1544.47 1828.07 1545.03 Q1830.29 1545.58 1832.77 1545.58 Q1836.78 1545.58 1839.11 1543.48 Q1841.45 1541.37 1841.45 1537.76 Q1841.45 1534.15 1839.11 1532.04 Q1836.78 1529.94 1832.77 1529.94 Q1830.9 1529.94 1829.02 1530.35 Q1827.17 1530.77 1825.23 1531.65 L1825.23 1514.29 Z\" fill=\"#000000\" fill-rule=\"evenodd\" fill-opacity=\"1\" /><path clip-path=\"url(#clip410)\" d=\"M1855.34 1542.97 L1860.22 1542.97 L1860.22 1548.85 L1855.34 1548.85 L1855.34 1542.97 Z\" fill=\"#000000\" fill-rule=\"evenodd\" fill-opacity=\"1\" /><path clip-path=\"url(#clip410)\" d=\"M1880.41 1517.37 Q1876.8 1517.37 1874.97 1520.93 Q1873.16 1524.47 1873.16 1531.6 Q1873.16 1538.71 1874.97 1542.27 Q1876.8 1545.82 1880.41 1545.82 Q1884.04 1545.82 1885.85 1542.27 Q1887.68 1538.71 1887.68 1531.6 Q1887.68 1524.47 1885.85 1520.93 Q1884.04 1517.37 1880.41 1517.37 M1880.41 1513.66 Q1886.22 1513.66 1889.28 1518.27 Q1892.35 1522.85 1892.35 1531.6 Q1892.35 1540.33 1889.28 1544.94 Q1886.22 1549.52 1880.41 1549.52 Q1874.6 1549.52 1871.52 1544.94 Q1868.47 1540.33 1868.47 1531.6 Q1868.47 1522.85 1871.52 1518.27 Q1874.6 1513.66 1880.41 1513.66 Z\" fill=\"#000000\" fill-rule=\"evenodd\" fill-opacity=\"1\" /><path clip-path=\"url(#clip410)\" d=\"M2076.61 1544.91 L2084.25 1544.91 L2084.25 1518.55 L2075.94 1520.21 L2075.94 1515.95 L2084.2 1514.29 L2088.88 1514.29 L2088.88 1544.91 L2096.52 1544.91 L2096.52 1548.85 L2076.61 1548.85 L2076.61 1544.91 Z\" fill=\"#000000\" fill-rule=\"evenodd\" fill-opacity=\"1\" /><path clip-path=\"url(#clip410)\" d=\"M2104.78 1514.29 L2127 1514.29 L2127 1516.28 L2114.46 1548.85 L2109.57 1548.85 L2121.38 1518.22 L2104.78 1518.22 L2104.78 1514.29 Z\" fill=\"#000000\" fill-rule=\"evenodd\" fill-opacity=\"1\" /><path clip-path=\"url(#clip410)\" d=\"M2136.13 1542.97 L2141.01 1542.97 L2141.01 1548.85 L2136.13 1548.85 L2136.13 1542.97 Z\" fill=\"#000000\" fill-rule=\"evenodd\" fill-opacity=\"1\" /><path clip-path=\"url(#clip410)\" d=\"M2151.24 1514.29 L2169.6 1514.29 L2169.6 1518.22 L2155.52 1518.22 L2155.52 1526.7 Q2156.54 1526.35 2157.56 1526.19 Q2158.58 1526 2159.6 1526 Q2165.38 1526 2168.76 1529.17 Q2172.14 1532.34 2172.14 1537.76 Q2172.14 1543.34 2168.67 1546.44 Q2165.2 1549.52 2158.88 1549.52 Q2156.7 1549.52 2154.44 1549.15 Q2152.19 1548.78 2149.78 1548.04 L2149.78 1543.34 Q2151.87 1544.47 2154.09 1545.03 Q2156.31 1545.58 2158.79 1545.58 Q2162.79 1545.58 2165.13 1543.48 Q2167.47 1541.37 2167.47 1537.76 Q2167.47 1534.15 2165.13 1532.04 Q2162.79 1529.94 2158.79 1529.94 Q2156.91 1529.94 2155.04 1530.35 Q2153.19 1530.77 2151.24 1531.65 L2151.24 1514.29 Z\" fill=\"#000000\" fill-rule=\"evenodd\" fill-opacity=\"1\" /><polyline clip-path=\"url(#clip412)\" style=\"stroke:#000000; stroke-linecap:butt; stroke-linejoin:round; stroke-width:2; stroke-opacity:0.1; fill:none\" points=\"\n",
       "  213.607,921.947 2352.76,921.947 \n",
       "  \"/>\n",
       "<polyline clip-path=\"url(#clip412)\" style=\"stroke:#000000; stroke-linecap:butt; stroke-linejoin:round; stroke-width:2; stroke-opacity:0.1; fill:none\" points=\"\n",
       "  213.607,84.6688 2352.76,84.6688 \n",
       "  \"/>\n",
       "<polyline clip-path=\"url(#clip410)\" style=\"stroke:#000000; stroke-linecap:butt; stroke-linejoin:round; stroke-width:4; stroke-opacity:1; fill:none\" points=\"\n",
       "  213.607,1486.45 213.607,47.2441 \n",
       "  \"/>\n",
       "<polyline clip-path=\"url(#clip410)\" style=\"stroke:#000000; stroke-linecap:butt; stroke-linejoin:round; stroke-width:4; stroke-opacity:1; fill:none\" points=\"\n",
       "  213.607,921.947 232.505,921.947 \n",
       "  \"/>\n",
       "<polyline clip-path=\"url(#clip410)\" style=\"stroke:#000000; stroke-linecap:butt; stroke-linejoin:round; stroke-width:4; stroke-opacity:1; fill:none\" points=\"\n",
       "  213.607,84.6688 232.505,84.6688 \n",
       "  \"/>\n",
       "<path clip-path=\"url(#clip410)\" d=\"M51.6634 941.739 L59.3023 941.739 L59.3023 915.373 L50.9921 917.04 L50.9921 912.781 L59.256 911.114 L63.9319 911.114 L63.9319 941.739 L71.5707 941.739 L71.5707 945.674 L51.6634 945.674 L51.6634 941.739 Z\" fill=\"#000000\" fill-rule=\"evenodd\" fill-opacity=\"1\" /><path clip-path=\"url(#clip410)\" d=\"M91.0151 914.193 Q87.404 914.193 85.5753 917.758 Q83.7697 921.299 83.7697 928.429 Q83.7697 935.535 85.5753 939.1 Q87.404 942.642 91.0151 942.642 Q94.6493 942.642 96.4548 939.1 Q98.2835 935.535 98.2835 928.429 Q98.2835 921.299 96.4548 917.758 Q94.6493 914.193 91.0151 914.193 M91.0151 910.489 Q96.8252 910.489 99.8808 915.096 Q102.959 919.679 102.959 928.429 Q102.959 937.156 99.8808 941.762 Q96.8252 946.345 91.0151 946.345 Q85.2049 946.345 82.1262 941.762 Q79.0707 937.156 79.0707 928.429 Q79.0707 919.679 82.1262 915.096 Q85.2049 910.489 91.0151 910.489 Z\" fill=\"#000000\" fill-rule=\"evenodd\" fill-opacity=\"1\" /><path clip-path=\"url(#clip410)\" d=\"M102.959 904.591 L127.071 904.591 L127.071 907.788 L102.959 907.788 L102.959 904.591 Z\" fill=\"#000000\" fill-rule=\"evenodd\" fill-opacity=\"1\" /><path clip-path=\"url(#clip410)\" d=\"M135.929 915.066 L142.136 915.066 L142.136 893.644 L135.384 894.999 L135.384 891.538 L142.098 890.184 L145.898 890.184 L145.898 915.066 L152.104 915.066 L152.104 918.264 L135.929 918.264 L135.929 915.066 Z\" fill=\"#000000\" fill-rule=\"evenodd\" fill-opacity=\"1\" /><path clip-path=\"url(#clip410)\" d=\"M167.903 892.685 Q164.969 892.685 163.483 895.582 Q162.016 898.459 162.016 904.252 Q162.016 910.026 163.483 912.922 Q164.969 915.8 167.903 915.8 Q170.855 915.8 172.322 912.922 Q173.808 910.026 173.808 904.252 Q173.808 898.459 172.322 895.582 Q170.855 892.685 167.903 892.685 M167.903 889.676 Q172.623 889.676 175.106 893.419 Q177.607 897.143 177.607 904.252 Q177.607 911.343 175.106 915.085 Q172.623 918.809 167.903 918.809 Q163.182 918.809 160.68 915.085 Q158.198 911.343 158.198 904.252 Q158.198 897.143 160.68 893.419 Q163.182 889.676 167.903 889.676 Z\" fill=\"#000000\" fill-rule=\"evenodd\" fill-opacity=\"1\" /><path clip-path=\"url(#clip410)\" d=\"M106.902 104.461 L114.541 104.461 L114.541 78.0957 L106.231 79.7623 L106.231 75.5031 L114.494 73.8364 L119.17 73.8364 L119.17 104.461 L126.809 104.461 L126.809 108.396 L106.902 108.396 L106.902 104.461 Z\" fill=\"#000000\" fill-rule=\"evenodd\" fill-opacity=\"1\" /><path clip-path=\"url(#clip410)\" d=\"M146.253 76.9151 Q142.642 76.9151 140.814 80.4799 Q139.008 84.0216 139.008 91.1511 Q139.008 98.2576 140.814 101.822 Q142.642 105.364 146.253 105.364 Q149.888 105.364 151.693 101.822 Q153.522 98.2576 153.522 91.1511 Q153.522 84.0216 151.693 80.4799 Q149.888 76.9151 146.253 76.9151 M146.253 73.2114 Q152.064 73.2114 155.119 77.8179 Q158.198 82.4012 158.198 91.1511 Q158.198 99.878 155.119 104.484 Q152.064 109.068 146.253 109.068 Q140.443 109.068 137.365 104.484 Q134.309 99.878 134.309 91.1511 Q134.309 82.4012 137.365 77.8179 Q140.443 73.2114 146.253 73.2114 Z\" fill=\"#000000\" fill-rule=\"evenodd\" fill-opacity=\"1\" /><path clip-path=\"url(#clip410)\" d=\"M167.903 55.4075 Q164.969 55.4075 163.483 58.3039 Q162.016 61.1814 162.016 66.9742 Q162.016 72.7482 163.483 75.6446 Q164.969 78.5222 167.903 78.5222 Q170.855 78.5222 172.322 75.6446 Q173.808 72.7482 173.808 66.9742 Q173.808 61.1814 172.322 58.3039 Q170.855 55.4075 167.903 55.4075 M167.903 52.3982 Q172.623 52.3982 175.106 56.141 Q177.607 59.8649 177.607 66.9742 Q177.607 74.0648 175.106 77.8075 Q172.623 81.5314 167.903 81.5314 Q163.182 81.5314 160.68 77.8075 Q158.198 74.0648 158.198 66.9742 Q158.198 59.8649 160.68 56.141 Q163.182 52.3982 167.903 52.3982 Z\" fill=\"#000000\" fill-rule=\"evenodd\" fill-opacity=\"1\" /><circle clip-path=\"url(#clip412)\" cx=\"274.149\" cy=\"1412.4\" r=\"14\" fill=\"#009af9\" fill-rule=\"evenodd\" fill-opacity=\"1\" stroke=\"#000000\" stroke-opacity=\"1\" stroke-width=\"3.2\"/>\n",
       "<circle clip-path=\"url(#clip412)\" cx=\"386.264\" cy=\"91.7366\" r=\"14\" fill=\"#009af9\" fill-rule=\"evenodd\" fill-opacity=\"1\" stroke=\"#000000\" stroke-opacity=\"1\" stroke-width=\"3.2\"/>\n",
       "<circle clip-path=\"url(#clip412)\" cx=\"498.379\" cy=\"1445.72\" r=\"14\" fill=\"#009af9\" fill-rule=\"evenodd\" fill-opacity=\"1\" stroke=\"#000000\" stroke-opacity=\"1\" stroke-width=\"3.2\"/>\n",
       "<circle clip-path=\"url(#clip412)\" cx=\"610.494\" cy=\"87.9763\" r=\"14\" fill=\"#009af9\" fill-rule=\"evenodd\" fill-opacity=\"1\" stroke=\"#000000\" stroke-opacity=\"1\" stroke-width=\"3.2\"/>\n",
       "<circle clip-path=\"url(#clip412)\" cx=\"722.608\" cy=\"1338.65\" r=\"14\" fill=\"#009af9\" fill-rule=\"evenodd\" fill-opacity=\"1\" stroke=\"#000000\" stroke-opacity=\"1\" stroke-width=\"3.2\"/>\n",
       "<circle clip-path=\"url(#clip412)\" cx=\"834.723\" cy=\"101.022\" r=\"14\" fill=\"#009af9\" fill-rule=\"evenodd\" fill-opacity=\"1\" stroke=\"#000000\" stroke-opacity=\"1\" stroke-width=\"3.2\"/>\n",
       "<circle clip-path=\"url(#clip412)\" cx=\"946.838\" cy=\"1311.58\" r=\"14\" fill=\"#009af9\" fill-rule=\"evenodd\" fill-opacity=\"1\" stroke=\"#000000\" stroke-opacity=\"1\" stroke-width=\"3.2\"/>\n",
       "<circle clip-path=\"url(#clip412)\" cx=\"1058.95\" cy=\"126.83\" r=\"14\" fill=\"#009af9\" fill-rule=\"evenodd\" fill-opacity=\"1\" stroke=\"#000000\" stroke-opacity=\"1\" stroke-width=\"3.2\"/>\n",
       "<circle clip-path=\"url(#clip412)\" cx=\"1171.07\" cy=\"1172.02\" r=\"14\" fill=\"#009af9\" fill-rule=\"evenodd\" fill-opacity=\"1\" stroke=\"#000000\" stroke-opacity=\"1\" stroke-width=\"3.2\"/>\n",
       "<circle clip-path=\"url(#clip412)\" cx=\"1283.18\" cy=\"165.089\" r=\"14\" fill=\"#009af9\" fill-rule=\"evenodd\" fill-opacity=\"1\" stroke=\"#000000\" stroke-opacity=\"1\" stroke-width=\"3.2\"/>\n",
       "<circle clip-path=\"url(#clip412)\" cx=\"1395.3\" cy=\"1171.04\" r=\"14\" fill=\"#009af9\" fill-rule=\"evenodd\" fill-opacity=\"1\" stroke=\"#000000\" stroke-opacity=\"1\" stroke-width=\"3.2\"/>\n",
       "<circle clip-path=\"url(#clip412)\" cx=\"1507.41\" cy=\"216.748\" r=\"14\" fill=\"#009af9\" fill-rule=\"evenodd\" fill-opacity=\"1\" stroke=\"#000000\" stroke-opacity=\"1\" stroke-width=\"3.2\"/>\n",
       "<circle clip-path=\"url(#clip412)\" cx=\"1619.53\" cy=\"1041.24\" r=\"14\" fill=\"#009af9\" fill-rule=\"evenodd\" fill-opacity=\"1\" stroke=\"#000000\" stroke-opacity=\"1\" stroke-width=\"3.2\"/>\n",
       "<circle clip-path=\"url(#clip412)\" cx=\"1731.64\" cy=\"283.911\" r=\"14\" fill=\"#009af9\" fill-rule=\"evenodd\" fill-opacity=\"1\" stroke=\"#000000\" stroke-opacity=\"1\" stroke-width=\"3.2\"/>\n",
       "<circle clip-path=\"url(#clip412)\" cx=\"1843.76\" cy=\"928.357\" r=\"14\" fill=\"#009af9\" fill-rule=\"evenodd\" fill-opacity=\"1\" stroke=\"#000000\" stroke-opacity=\"1\" stroke-width=\"3.2\"/>\n",
       "<circle clip-path=\"url(#clip412)\" cx=\"1955.87\" cy=\"370.504\" r=\"14\" fill=\"#009af9\" fill-rule=\"evenodd\" fill-opacity=\"1\" stroke=\"#000000\" stroke-opacity=\"1\" stroke-width=\"3.2\"/>\n",
       "<circle clip-path=\"url(#clip412)\" cx=\"2067.98\" cy=\"928.538\" r=\"14\" fill=\"#009af9\" fill-rule=\"evenodd\" fill-opacity=\"1\" stroke=\"#000000\" stroke-opacity=\"1\" stroke-width=\"3.2\"/>\n",
       "<circle clip-path=\"url(#clip412)\" cx=\"2180.1\" cy=\"505.453\" r=\"14\" fill=\"#009af9\" fill-rule=\"evenodd\" fill-opacity=\"1\" stroke=\"#000000\" stroke-opacity=\"1\" stroke-width=\"3.2\"/>\n",
       "<circle clip-path=\"url(#clip412)\" cx=\"2292.21\" cy=\"789.541\" r=\"14\" fill=\"#009af9\" fill-rule=\"evenodd\" fill-opacity=\"1\" stroke=\"#000000\" stroke-opacity=\"1\" stroke-width=\"3.2\"/>\n",
       "<path clip-path=\"url(#clip410)\" d=\"\n",
       "M1965.12 250.738 L2281.45 250.738 L2281.45 95.2176 L1965.12 95.2176  Z\n",
       "  \" fill=\"#ffffff\" fill-rule=\"evenodd\" fill-opacity=\"1\"/>\n",
       "<polyline clip-path=\"url(#clip410)\" style=\"stroke:#000000; stroke-linecap:butt; stroke-linejoin:round; stroke-width:4; stroke-opacity:1; fill:none\" points=\"\n",
       "  1965.12,250.738 2281.45,250.738 2281.45,95.2176 1965.12,95.2176 1965.12,250.738 \n",
       "  \"/>\n",
       "<circle clip-path=\"url(#clip410)\" cx=\"2060.2\" cy=\"172.978\" r=\"34\" fill=\"#009af9\" fill-rule=\"evenodd\" fill-opacity=\"1\" stroke=\"#000000\" stroke-opacity=\"1\" stroke-width=\"7.68\"/>\n",
       "<path clip-path=\"url(#clip410)\" d=\"M2176.03 202.509 Q2173.32 209.453 2170.75 211.571 Q2168.19 213.689 2163.88 213.689 L2158.78 213.689 L2158.78 208.342 L2162.53 208.342 Q2165.16 208.342 2166.62 207.092 Q2168.08 205.842 2169.85 201.189 L2171 198.273 L2155.27 160.009 L2162.04 160.009 L2174.19 190.425 L2186.35 160.009 L2193.12 160.009 L2176.03 202.509 Z\" fill=\"#000000\" fill-rule=\"evenodd\" fill-opacity=\"1\" /><path clip-path=\"url(#clip410)\" d=\"M2204.05 192.995 L2215.51 192.995 L2215.51 153.446 L2203.05 155.946 L2203.05 149.558 L2215.44 147.058 L2222.46 147.058 L2222.46 192.995 L2233.91 192.995 L2233.91 198.898 L2204.05 198.898 L2204.05 192.995 Z\" fill=\"#000000\" fill-rule=\"evenodd\" fill-opacity=\"1\" /></svg>\n"
      ]
     },
     "execution_count": 5,
     "metadata": {},
     "output_type": "execute_result"
    }
   ],
   "source": [
    "x = LinRange(-1, 1, 20)\n",
    "A = vander(x)\n",
    "Q, _ = gram_schmidt_classical(A)\n",
    "#Q, _ = qr(A)\n",
    "v = A[:,end]\n",
    "@show norm(v)\n",
    "scatter(abs.(Q[:,1:end-1]' * v), yscale=:log10)"
   ]
  },
  {
   "cell_type": "markdown",
   "id": "e26e8171",
   "metadata": {
    "slideshow": {
     "slide_type": "slide"
    }
   },
   "source": [
    "# Cost of Gram-Schmidt?\n",
    "\n",
    "* We'll count flops (addition, multiplication, division*)\n",
    "* Inner product $\\sum_{i=1}^m x_i y_i$?\n",
    "* Vector \"axpy\": $y_i = a x_i + y_i$, $i \\in [1, 2, \\dotsc, m]$.\n",
    "* Look at the inner loop:\n",
    "```julia\n",
    "for k in 1:j-1\n",
    "    r = Q[:,k]' * v\n",
    "    v -= Q[:,k] * r\n",
    "    R[k,j] = r\n",
    "end\n",
    "```"
   ]
  },
  {
   "cell_type": "markdown",
   "id": "0b6b998b",
   "metadata": {
    "slideshow": {
     "slide_type": "slide"
    }
   },
   "source": [
    "<img src=\"../img/flop-per-byte-dp.png\" width=\"90%\" />"
   ]
  },
  {
   "cell_type": "markdown",
   "id": "1696dc21",
   "metadata": {
    "slideshow": {
     "slide_type": "slide"
    }
   },
   "source": [
    "# Counting flops is a bad model\n"
   ]
  },
  {
   "cell_type": "markdown",
   "id": "398fa704",
   "metadata": {
    "cell_style": "split"
   },
   "source": [
    "* We load a single entry (8 bytes) and do 2 flops (add + multiply). That's an **arithmetic intensity** of 0.25 flops/byte.\n",
    "* Current hardware can do about 10 flops per byte, so our best algorithms will run at about 2% efficiency.\n",
    "* Need to focus on memory bandwidth, not flops.\n",
    "\n",
    "## Dense matrix-matrix mulitply\n",
    "\n",
    "* [BLIS project](https://github.com/flame/blis/)\n",
    "* [Analytic modeling](https://www.cs.utexas.edu/users/flame/pubs/TOMS-BLIS-Analytical.pdf)"
   ]
  },
  {
   "cell_type": "markdown",
   "id": "efa58581",
   "metadata": {
    "cell_style": "split"
   },
   "source": [
    "<img src=\"../img/blis-microkernel-stack.png\" width=\"70%\" />"
   ]
  },
  {
   "cell_type": "markdown",
   "id": "ef67b53a",
   "metadata": {
    "slideshow": {
     "slide_type": "slide"
    }
   },
   "source": [
    "# Inherent data dependencies\n",
    "\n",
    "$$ \\Bigg[ q_1 \\Bigg| q_2 \\Bigg| q_3 \\Bigg| q_4 \\Bigg| q_5 \\Bigg] \\begin{bmatrix} r_{11} & r_{12} & r_{13} & r_{14} & r_{15} \\\\\n",
    " & r_{22} & r_{23} & r_{24} & r_{25} \\\\\n",
    "& & r_{33} & r_{34} & r_{35} \\\\\n",
    "&&& r_{44} & r_{45} \\\\\n",
    "&&& & r_{55}\n",
    "\\end{bmatrix}\n",
    "$$"
   ]
  },
  {
   "cell_type": "markdown",
   "id": "c5c2b82f",
   "metadata": {
    "slideshow": {
     "slide_type": "slide"
    }
   },
   "source": [
    "# Right-looking modified Gram-Schmidt"
   ]
  },
  {
   "cell_type": "code",
   "execution_count": 6,
   "id": "4eee54d5",
   "metadata": {
    "cell_style": "split"
   },
   "outputs": [
    {
     "data": {
      "text/plain": [
       "gram_schmidt_modified (generic function with 1 method)"
      ]
     },
     "execution_count": 6,
     "metadata": {},
     "output_type": "execute_result"
    }
   ],
   "source": [
    "function gram_schmidt_modified(A)\n",
    "    m, n = size(A)\n",
    "    Q = copy(A)\n",
    "    R = zeros(n, n)\n",
    "    for j in 1:n\n",
    "        R[j,j] = norm(Q[:,j])\n",
    "        Q[:,j] /= R[j,j]\n",
    "        R[j,j+1:end] = Q[:,j]'*Q[:,j+1:end]\n",
    "        Q[:,j+1:end] -= Q[:,j]*R[j,j+1:end]'\n",
    "    end\n",
    "    Q, R\n",
    "end"
   ]
  },
  {
   "cell_type": "code",
   "execution_count": 7,
   "id": "372bd8ba",
   "metadata": {
    "cell_style": "split",
    "slideshow": {
     "slide_type": "fragment"
    }
   },
   "outputs": [
    {
     "name": "stdout",
     "output_type": "stream",
     "text": [
      "norm(Q' * Q - I) = 8.486718528276085e-9\n",
      "norm(Q * R - A) = 8.709998074379606e-16\n"
     ]
    },
    {
     "data": {
      "text/plain": [
       "8.709998074379606e-16"
      ]
     },
     "execution_count": 7,
     "metadata": {},
     "output_type": "execute_result"
    }
   ],
   "source": [
    "m = 20\n",
    "x = LinRange(-1, 1, m)\n",
    "A = vander(x, m)\n",
    "Q, R = gram_schmidt_modified(A)\n",
    "@show norm(Q' * Q - I)\n",
    "@show norm(Q * R - A)"
   ]
  },
  {
   "cell_type": "markdown",
   "id": "4e8d5238",
   "metadata": {
    "slideshow": {
     "slide_type": "slide"
    }
   },
   "source": [
    "# Classical versus modified?\n",
    "\n",
    "* Classical\n",
    "  * Really unstable, orthogonality error of size $1 \\gg \\epsilon_{\\text{machine}}$\n",
    "  * Don't need to know all the vectors in advance\n",
    "* Modified\n",
    "  * Needs to be right-looking for efficiency\n",
    "  * Less unstable, but orthogonality error $10^{-9} \\gg \\epsilon_{\\text{machine}}$"
   ]
  },
  {
   "cell_type": "code",
   "execution_count": 8,
   "id": "c7afa881",
   "metadata": {
    "slideshow": {
     "slide_type": "fragment"
    }
   },
   "outputs": [
    {
     "name": "stdout",
     "output_type": "stream",
     "text": [
      "norm(Q' * Q - I) = 2.1776697623015113e-15\n"
     ]
    },
    {
     "data": {
      "text/plain": [
       "2.1776697623015113e-15"
      ]
     },
     "execution_count": 8,
     "metadata": {},
     "output_type": "execute_result"
    }
   ],
   "source": [
    "m = 10\n",
    "x = LinRange(-1, 1, m)\n",
    "A = vander(x, m)\n",
    "Q, R = qr(A)\n",
    "@show norm(Q' * Q - I)"
   ]
  },
  {
   "cell_type": "markdown",
   "id": "1d42f922",
   "metadata": {
    "slideshow": {
     "slide_type": "slide"
    }
   },
   "source": [
    "# Householder QR\n",
    "\n",
    "Gram-Schmidt constructed a triangular matrix $R$ to orthogonalize $A$ into $Q$. Each step was a projector, which is a rank-deficient operation. Householder uses orthogonal transformations (reflectors) to triangularize.\n",
    "\n",
    "$$ \\underbrace{Q_{n} \\dotsb Q_1}_{Q^T} A = R $$\n",
    "\n",
    "The structure of the algorithm is\n",
    "\n",
    "$$ \\underbrace{\\begin{bmatrix} * & * & * \\\\ * & * & * \\\\ * & * & * \\\\ * & * & * \\\\ * & * & * \\\\ \\end{bmatrix}}_{A} \\to\n",
    "\\underbrace{\\begin{bmatrix} * & * & * \\\\ 0 & * & * \\\\ 0 & * & * \\\\ 0 & * & * \\\\ 0 & * & * \\\\ \\end{bmatrix}}_{Q_1 A} \\to\n",
    "\\underbrace{\\begin{bmatrix} * & * & * \\\\ 0 & * & * \\\\ 0 & 0 & * \\\\ 0 & 0 & * \\\\ 0 & 0 & * \\\\ \\end{bmatrix}}_{Q_2 Q_1 A} \\to\n",
    "\\underbrace{\\begin{bmatrix} * & * & * \\\\ 0 & * & * \\\\ 0 & 0 & * \\\\ 0 & 0 & 0 \\\\ 0 & 0 & 0 \\\\ \\end{bmatrix}}_{Q_3 Q_2 Q_1 A}\n",
    "$$"
   ]
  },
  {
   "cell_type": "markdown",
   "id": "6e2995b5",
   "metadata": {
    "slideshow": {
     "slide_type": "slide"
    }
   },
   "source": [
    "# Constructing the $Q_j$\n",
    "\n",
    "$$ \\underbrace{Q_{n} \\dotsb Q_1}_{Q^T} A = R $$\n",
    "\n",
    "Each of our $Q_j$ will have the form\n",
    "$$Q_j = \\begin{bmatrix} I_i & 0 \\\\ 0 & F \\end{bmatrix}$$\n",
    "where $F$ is a \"reflection\" that achieves\n",
    "$$ F x = \\begin{bmatrix} \\lVert x \\rVert \\\\ 0 \\\\ 0 \\\\ \\vdots \\end{bmatrix} $$\n",
    "where $x$ is the column of $R$ from the diagonal down.\n",
    "This transformation is a reflection across a plane with normal $v = Fx - x = \\lVert x \\rVert e_1 - x$."
   ]
  },
  {
   "cell_type": "markdown",
   "id": "8cc084e7",
   "metadata": {
    "slideshow": {
     "slide_type": "slide"
    }
   },
   "source": [
    "![Householder Reflector (Trefethen and Bau, 1999)](../img/TB-Householder.png)\n",
    "\n",
    "The reflection, as depicted above by Trefethen and Bau (1999) can be written $F = I - 2 \\frac{v v^T}{v^T v}$."
   ]
  },
  {
   "cell_type": "markdown",
   "id": "0a3076fe",
   "metadata": {
    "slideshow": {
     "slide_type": "slide"
    }
   },
   "source": [
    "# Adventures in reflection"
   ]
  },
  {
   "cell_type": "code",
   "execution_count": 9,
   "id": "3d3d5dd6",
   "metadata": {},
   "outputs": [
    {
     "data": {
      "text/plain": [
       "4×4 Matrix{Float64}:\n",
       "  1.86401       2.2205       1.75312    1.52718\n",
       "  1.04161e-17   0.982175     0.901202   0.133707\n",
       "  1.6015e-16   -9.71445e-17  0.12403   -0.95277\n",
       " -1.59097e-17   0.0          1.44374    0.08136"
      ]
     },
     "execution_count": 9,
     "metadata": {},
     "output_type": "execute_result"
    }
   ],
   "source": [
    "A = rand(4, 4); A += A'\n",
    "v = copy(A[:,1])\n",
    "v[1] -= norm(v)\n",
    "v = normalize(v)\n",
    "F = I - 2 * v * v'\n",
    "B = F * A\n",
    "\n",
    "v = copy(B[2:end, 2])\n",
    "v[1] -= norm(v); v = normalize(v)\n",
    "F = I - 2 * v * v'\n",
    "B[2:end, 2:end] = F * B[2:end, 2:end]\n",
    "B"
   ]
  },
  {
   "cell_type": "markdown",
   "id": "19b7a39d",
   "metadata": {
    "slideshow": {
     "slide_type": "slide"
    }
   },
   "source": [
    "# An algorithm"
   ]
  },
  {
   "cell_type": "code",
   "execution_count": 10,
   "id": "d4a258c1",
   "metadata": {
    "cell_style": "split"
   },
   "outputs": [
    {
     "data": {
      "text/plain": [
       "qr_householder_naive (generic function with 1 method)"
      ]
     },
     "execution_count": 10,
     "metadata": {},
     "output_type": "execute_result"
    }
   ],
   "source": [
    "function qr_householder_naive(A)\n",
    "    m, n = size(A)\n",
    "    R = copy(A)\n",
    "    V = [] # list of reflectors\n",
    "    for j in 1:n\n",
    "        v = copy(R[j:end, j])\n",
    "        v[1] -= norm(v)\n",
    "        v = normalize(v)\n",
    "        R[j:end,j:end] -= 2 * v * (v' * R[j:end,j:end])\n",
    "        push!(V, v)\n",
    "    end\n",
    "    V, R\n",
    "end"
   ]
  },
  {
   "cell_type": "code",
   "execution_count": 11,
   "id": "1c2c31c1",
   "metadata": {
    "cell_style": "split",
    "slideshow": {
     "slide_type": "fragment"
    }
   },
   "outputs": [
    {
     "data": {
      "text/plain": [
       "4×4 Matrix{Float64}:\n",
       " -2.0  0.0      -1.11111      0.0\n",
       "  0.0  1.49071   1.38778e-17  1.3582\n",
       "  0.0  0.0       0.888889     9.71445e-17\n",
       "  0.0  0.0       0.0          0.397523"
      ]
     },
     "execution_count": 11,
     "metadata": {},
     "output_type": "execute_result"
    }
   ],
   "source": [
    "m = 4\n",
    "x = LinRange(-1, 1, m)\n",
    "A = vander(x, m)\n",
    "V, R = qr_householder_naive(A)\n",
    "_, R_ = qr(A)\n",
    "R_"
   ]
  },
  {
   "cell_type": "markdown",
   "id": "ac5d8568",
   "metadata": {
    "slideshow": {
     "slide_type": "slide"
    }
   },
   "source": [
    "# How to interpret $V$ as $Q$?"
   ]
  },
  {
   "cell_type": "code",
   "execution_count": 12,
   "id": "20a5daf8",
   "metadata": {
    "cell_style": "split"
   },
   "outputs": [
    {
     "data": {
      "text/plain": [
       "reflectors_to_dense (generic function with 1 method)"
      ]
     },
     "execution_count": 12,
     "metadata": {},
     "output_type": "execute_result"
    }
   ],
   "source": [
    "function reflectors_mult(V, x)\n",
    "    y = copy(x)\n",
    "    for v in reverse(V)\n",
    "        n = length(v) - 1\n",
    "        y[end-n:end] -= 2 * v * (v' * y[end-n:end])\n",
    "    end\n",
    "    y\n",
    "end\n",
    "\n",
    "function reflectors_to_dense(V)\n",
    "    m = length(V[1])\n",
    "    Q = diagm(ones(m))\n",
    "    for j in 1:m\n",
    "        Q[:,j] = reflectors_mult(V, Q[:,j])\n",
    "    end\n",
    "    Q\n",
    "end"
   ]
  },
  {
   "cell_type": "code",
   "execution_count": 13,
   "id": "86b7a9c2",
   "metadata": {
    "cell_style": "split"
   },
   "outputs": [
    {
     "name": "stdout",
     "output_type": "stream",
     "text": [
      "norm(Q' * Q - I) = 3.7994490775439526e-15\n",
      "norm(Q * R - A) = 7.562760794606217e-15\n"
     ]
    }
   ],
   "source": [
    "m = 20\n",
    "x = LinRange(-1, 1, m)\n",
    "A = vander(x, m)\n",
    "V, R = qr_householder_naive(A)\n",
    "Q = reflectors_to_dense(V)\n",
    "@show norm(Q' * Q - I)\n",
    "@show norm(Q * R - A);"
   ]
  },
  {
   "cell_type": "markdown",
   "id": "8f843e67",
   "metadata": {
    "slideshow": {
     "slide_type": "slide"
    }
   },
   "source": [
    "# Great, but we can still break it"
   ]
  },
  {
   "cell_type": "code",
   "execution_count": 14,
   "id": "a6d53e10",
   "metadata": {
    "cell_style": "split"
   },
   "outputs": [
    {
     "data": {
      "text/plain": [
       "(Any[[NaN, NaN], [NaN]], [NaN NaN; NaN NaN])"
      ]
     },
     "execution_count": 14,
     "metadata": {},
     "output_type": "execute_result"
    }
   ],
   "source": [
    "A = [1 0; 0 1.]\n",
    "V, R = qr_householder_naive(A)"
   ]
  },
  {
   "cell_type": "markdown",
   "id": "df7bd46a",
   "metadata": {
    "cell_style": "split",
    "slideshow": {
     "slide_type": "fragment"
    }
   },
   "source": [
    "We had the lines\n",
    "\n",
    "```julia\n",
    "    v = copy(R[j:end, j])\n",
    "    v[1] -= norm(v)\n",
    "    v = normalize(v)\n",
    "```\n",
    "What happens when `R` is already upper triangular?"
   ]
  },
  {
   "cell_type": "markdown",
   "id": "99b9343a",
   "metadata": {
    "slideshow": {
     "slide_type": "slide"
    }
   },
   "source": [
    "![Choosing the better of two Householder reflectors (Trefethen and Bau, 1999).](../img/TB-Householder2.png)"
   ]
  },
  {
   "cell_type": "markdown",
   "id": "df7fda5d",
   "metadata": {
    "slideshow": {
     "slide_type": "slide"
    }
   },
   "source": [
    "# An improved algorithm\n",
    "\n"
   ]
  },
  {
   "cell_type": "code",
   "execution_count": 15,
   "id": "3df5fdfb",
   "metadata": {
    "cell_style": "split"
   },
   "outputs": [
    {
     "data": {
      "text/plain": [
       "qr_householder (generic function with 1 method)"
      ]
     },
     "execution_count": 15,
     "metadata": {},
     "output_type": "execute_result"
    }
   ],
   "source": [
    "function qr_householder(A)\n",
    "    m, n = size(A)\n",
    "    R = copy(A)\n",
    "    V = [] # list of reflectors\n",
    "    for j in 1:n\n",
    "        v = copy(R[j:end, j])\n",
    "        v[1] += sign(v[1]) * norm(v) # <---\n",
    "        v = normalize(v)\n",
    "        R[j:end,j:end] -= 2 * v * v' * R[j:end,j:end]\n",
    "        push!(V, v)\n",
    "    end\n",
    "    V, R\n",
    "end"
   ]
  },
  {
   "cell_type": "code",
   "execution_count": 16,
   "id": "fbac81cb",
   "metadata": {
    "cell_style": "split"
   },
   "outputs": [
    {
     "name": "stdout",
     "output_type": "stream",
     "text": [
      "tau = [1.894427190999916, 2.0]\n",
      "V1 = [[1.0, -0.2360679774997897], [1.0]]\n"
     ]
    },
    {
     "data": {
      "text/plain": [
       "2×2 Matrix{Float64}:\n",
       " -2.23607e-10   1.78885e-10\n",
       " -1.29247e-26  -1.34164e-10"
      ]
     },
     "execution_count": 16,
     "metadata": {},
     "output_type": "execute_result"
    }
   ],
   "source": [
    "A = [2 -1; -1 2] * 1e-10\n",
    "V, R = qr_householder(A)\n",
    "tau = [2*v[1]^2 for v in V]\n",
    "@show tau\n",
    "V1 = [v ./ v[1] for v in V]\n",
    "@show V1\n",
    "R"
   ]
  },
  {
   "cell_type": "markdown",
   "id": "200d92e8",
   "metadata": {
    "slideshow": {
     "slide_type": "slide"
    }
   },
   "source": [
    "# Householder is backward stable"
   ]
  },
  {
   "cell_type": "code",
   "execution_count": 17,
   "id": "643e4f6c",
   "metadata": {
    "cell_style": "split"
   },
   "outputs": [
    {
     "name": "stdout",
     "output_type": "stream",
     "text": [
      "norm(Q' * Q - I) = 5.949301496893686e-15\n",
      "norm(Q * R - A) = 1.2090264267288813e-14\n"
     ]
    }
   ],
   "source": [
    "m = 40\n",
    "x = LinRange(-1, 1, m)\n",
    "A = vander(x, m)\n",
    "V, R = qr_householder(A)\n",
    "Q = reflectors_to_dense(V)\n",
    "@show norm(Q' * Q - I)\n",
    "@show norm(Q * R - A);"
   ]
  },
  {
   "cell_type": "code",
   "execution_count": 18,
   "id": "34c897dc",
   "metadata": {
    "cell_style": "split"
   },
   "outputs": [
    {
     "data": {
      "text/plain": [
       "LinearAlgebra.QRCompactWY{Float64, Matrix{Float64}}\n",
       "Q factor:\n",
       "2×2 LinearAlgebra.QRCompactWYQ{Float64, Matrix{Float64}}:\n",
       " 1.0  0.0\n",
       " 0.0  1.0\n",
       "R factor:\n",
       "2×2 Matrix{Float64}:\n",
       " 1.0  0.0\n",
       " 0.0  1.0"
      ]
     },
     "execution_count": 18,
     "metadata": {},
     "output_type": "execute_result"
    }
   ],
   "source": [
    "A = [1 0; 0 1.]\n",
    "V, R = qr_householder(A)\n",
    "qr(A)"
   ]
  },
  {
   "cell_type": "markdown",
   "id": "2f66cb39",
   "metadata": {
    "slideshow": {
     "slide_type": "slide"
    }
   },
   "source": [
    "# Orthogonality is preserved"
   ]
  },
  {
   "cell_type": "code",
   "execution_count": 24,
   "id": "28f90e1f",
   "metadata": {
    "cell_style": "split"
   },
   "outputs": [
    {
     "name": "stdout",
     "output_type": "stream",
     "text": [
      "norm(v) = 1.4245900685395503\n"
     ]
    },
    {
     "data": {
      "image/svg+xml": [
       "<?xml version=\"1.0\" encoding=\"utf-8\"?>\n",
       "<svg xmlns=\"http://www.w3.org/2000/svg\" xmlns:xlink=\"http://www.w3.org/1999/xlink\" width=\"600\" height=\"400\" viewBox=\"0 0 2400 1600\">\n",
       "<defs>\n",
       "  <clipPath id=\"clip650\">\n",
       "    <rect x=\"0\" y=\"0\" width=\"2400\" height=\"1600\"/>\n",
       "  </clipPath>\n",
       "</defs>\n",
       "<path clip-path=\"url(#clip650)\" d=\"\n",
       "M0 1600 L2400 1600 L2400 0 L0 0  Z\n",
       "  \" fill=\"#ffffff\" fill-rule=\"evenodd\" fill-opacity=\"1\"/>\n",
       "<defs>\n",
       "  <clipPath id=\"clip651\">\n",
       "    <rect x=\"480\" y=\"0\" width=\"1681\" height=\"1600\"/>\n",
       "  </clipPath>\n",
       "</defs>\n",
       "<path clip-path=\"url(#clip650)\" d=\"\n",
       "M213.607 1486.45 L2352.76 1486.45 L2352.76 123.472 L213.607 123.472  Z\n",
       "  \" fill=\"#ffffff\" fill-rule=\"evenodd\" fill-opacity=\"1\"/>\n",
       "<defs>\n",
       "  <clipPath id=\"clip652\">\n",
       "    <rect x=\"213\" y=\"123\" width=\"2140\" height=\"1364\"/>\n",
       "  </clipPath>\n",
       "</defs>\n",
       "<polyline clip-path=\"url(#clip652)\" style=\"stroke:#000000; stroke-linecap:butt; stroke-linejoin:round; stroke-width:2; stroke-opacity:0.1; fill:none\" points=\"\n",
       "  442.321,1486.45 442.321,123.472 \n",
       "  \"/>\n",
       "<polyline clip-path=\"url(#clip652)\" style=\"stroke:#000000; stroke-linecap:butt; stroke-linejoin:round; stroke-width:2; stroke-opacity:0.1; fill:none\" points=\"\n",
       "  722.608,1486.45 722.608,123.472 \n",
       "  \"/>\n",
       "<polyline clip-path=\"url(#clip652)\" style=\"stroke:#000000; stroke-linecap:butt; stroke-linejoin:round; stroke-width:2; stroke-opacity:0.1; fill:none\" points=\"\n",
       "  1002.89,1486.45 1002.89,123.472 \n",
       "  \"/>\n",
       "<polyline clip-path=\"url(#clip652)\" style=\"stroke:#000000; stroke-linecap:butt; stroke-linejoin:round; stroke-width:2; stroke-opacity:0.1; fill:none\" points=\"\n",
       "  1283.18,1486.45 1283.18,123.472 \n",
       "  \"/>\n",
       "<polyline clip-path=\"url(#clip652)\" style=\"stroke:#000000; stroke-linecap:butt; stroke-linejoin:round; stroke-width:2; stroke-opacity:0.1; fill:none\" points=\"\n",
       "  1563.47,1486.45 1563.47,123.472 \n",
       "  \"/>\n",
       "<polyline clip-path=\"url(#clip652)\" style=\"stroke:#000000; stroke-linecap:butt; stroke-linejoin:round; stroke-width:2; stroke-opacity:0.1; fill:none\" points=\"\n",
       "  1843.76,1486.45 1843.76,123.472 \n",
       "  \"/>\n",
       "<polyline clip-path=\"url(#clip652)\" style=\"stroke:#000000; stroke-linecap:butt; stroke-linejoin:round; stroke-width:2; stroke-opacity:0.1; fill:none\" points=\"\n",
       "  2124.04,1486.45 2124.04,123.472 \n",
       "  \"/>\n",
       "<polyline clip-path=\"url(#clip650)\" style=\"stroke:#000000; stroke-linecap:butt; stroke-linejoin:round; stroke-width:4; stroke-opacity:1; fill:none\" points=\"\n",
       "  213.607,1486.45 2352.76,1486.45 \n",
       "  \"/>\n",
       "<polyline clip-path=\"url(#clip650)\" style=\"stroke:#000000; stroke-linecap:butt; stroke-linejoin:round; stroke-width:4; stroke-opacity:1; fill:none\" points=\"\n",
       "  442.321,1486.45 442.321,1467.55 \n",
       "  \"/>\n",
       "<polyline clip-path=\"url(#clip650)\" style=\"stroke:#000000; stroke-linecap:butt; stroke-linejoin:round; stroke-width:4; stroke-opacity:1; fill:none\" points=\"\n",
       "  722.608,1486.45 722.608,1467.55 \n",
       "  \"/>\n",
       "<polyline clip-path=\"url(#clip650)\" style=\"stroke:#000000; stroke-linecap:butt; stroke-linejoin:round; stroke-width:4; stroke-opacity:1; fill:none\" points=\"\n",
       "  1002.89,1486.45 1002.89,1467.55 \n",
       "  \"/>\n",
       "<polyline clip-path=\"url(#clip650)\" style=\"stroke:#000000; stroke-linecap:butt; stroke-linejoin:round; stroke-width:4; stroke-opacity:1; fill:none\" points=\"\n",
       "  1283.18,1486.45 1283.18,1467.55 \n",
       "  \"/>\n",
       "<polyline clip-path=\"url(#clip650)\" style=\"stroke:#000000; stroke-linecap:butt; stroke-linejoin:round; stroke-width:4; stroke-opacity:1; fill:none\" points=\"\n",
       "  1563.47,1486.45 1563.47,1467.55 \n",
       "  \"/>\n",
       "<polyline clip-path=\"url(#clip650)\" style=\"stroke:#000000; stroke-linecap:butt; stroke-linejoin:round; stroke-width:4; stroke-opacity:1; fill:none\" points=\"\n",
       "  1843.76,1486.45 1843.76,1467.55 \n",
       "  \"/>\n",
       "<polyline clip-path=\"url(#clip650)\" style=\"stroke:#000000; stroke-linecap:butt; stroke-linejoin:round; stroke-width:4; stroke-opacity:1; fill:none\" points=\"\n",
       "  2124.04,1486.45 2124.04,1467.55 \n",
       "  \"/>\n",
       "<path clip-path=\"url(#clip650)\" d=\"M414.058 1544.91 L430.377 1544.91 L430.377 1548.85 L408.433 1548.85 L408.433 1544.91 Q411.095 1542.16 415.678 1537.53 Q420.285 1532.88 421.465 1531.53 Q423.71 1529.01 424.59 1527.27 Q425.493 1525.51 425.493 1523.82 Q425.493 1521.07 423.548 1519.33 Q421.627 1517.6 418.525 1517.6 Q416.326 1517.6 413.873 1518.36 Q411.442 1519.13 408.664 1520.68 L408.664 1515.95 Q411.488 1514.82 413.942 1514.24 Q416.396 1513.66 418.433 1513.66 Q423.803 1513.66 426.997 1516.35 Q430.192 1519.03 430.192 1523.52 Q430.192 1525.65 429.382 1527.57 Q428.595 1529.47 426.488 1532.07 Q425.91 1532.74 422.808 1535.95 Q419.706 1539.15 414.058 1544.91 Z\" fill=\"#000000\" fill-rule=\"evenodd\" fill-opacity=\"1\" /><path clip-path=\"url(#clip650)\" d=\"M440.192 1542.97 L445.076 1542.97 L445.076 1548.85 L440.192 1548.85 L440.192 1542.97 Z\" fill=\"#000000\" fill-rule=\"evenodd\" fill-opacity=\"1\" /><path clip-path=\"url(#clip650)\" d=\"M455.308 1514.29 L473.664 1514.29 L473.664 1518.22 L459.59 1518.22 L459.59 1526.7 Q460.608 1526.35 461.627 1526.19 Q462.645 1526 463.664 1526 Q469.451 1526 472.831 1529.17 Q476.21 1532.34 476.21 1537.76 Q476.21 1543.34 472.738 1546.44 Q469.266 1549.52 462.946 1549.52 Q460.77 1549.52 458.502 1549.15 Q456.257 1548.78 453.849 1548.04 L453.849 1543.34 Q455.932 1544.47 458.155 1545.03 Q460.377 1545.58 462.854 1545.58 Q466.858 1545.58 469.196 1543.48 Q471.534 1541.37 471.534 1537.76 Q471.534 1534.15 469.196 1532.04 Q466.858 1529.94 462.854 1529.94 Q460.979 1529.94 459.104 1530.35 Q457.252 1530.77 455.308 1531.65 L455.308 1514.29 Z\" fill=\"#000000\" fill-rule=\"evenodd\" fill-opacity=\"1\" /><path clip-path=\"url(#clip650)\" d=\"M689.773 1514.29 L708.129 1514.29 L708.129 1518.22 L694.055 1518.22 L694.055 1526.7 Q695.074 1526.35 696.092 1526.19 Q697.111 1526 698.129 1526 Q703.916 1526 707.296 1529.17 Q710.675 1532.34 710.675 1537.76 Q710.675 1543.34 707.203 1546.44 Q703.731 1549.52 697.412 1549.52 Q695.236 1549.52 692.967 1549.15 Q690.722 1548.78 688.314 1548.04 L688.314 1543.34 Q690.398 1544.47 692.62 1545.03 Q694.842 1545.58 697.319 1545.58 Q701.324 1545.58 703.662 1543.48 Q705.999 1541.37 705.999 1537.76 Q705.999 1534.15 703.662 1532.04 Q701.324 1529.94 697.319 1529.94 Q695.444 1529.94 693.569 1530.35 Q691.717 1530.77 689.773 1531.65 L689.773 1514.29 Z\" fill=\"#000000\" fill-rule=\"evenodd\" fill-opacity=\"1\" /><path clip-path=\"url(#clip650)\" d=\"M719.888 1542.97 L724.773 1542.97 L724.773 1548.85 L719.888 1548.85 L719.888 1542.97 Z\" fill=\"#000000\" fill-rule=\"evenodd\" fill-opacity=\"1\" /><path clip-path=\"url(#clip650)\" d=\"M744.958 1517.37 Q741.347 1517.37 739.518 1520.93 Q737.712 1524.47 737.712 1531.6 Q737.712 1538.71 739.518 1542.27 Q741.347 1545.82 744.958 1545.82 Q748.592 1545.82 750.397 1542.27 Q752.226 1538.71 752.226 1531.6 Q752.226 1524.47 750.397 1520.93 Q748.592 1517.37 744.958 1517.37 M744.958 1513.66 Q750.768 1513.66 753.823 1518.27 Q756.902 1522.85 756.902 1531.6 Q756.902 1540.33 753.823 1544.94 Q750.768 1549.52 744.958 1549.52 Q739.147 1549.52 736.069 1544.94 Q733.013 1540.33 733.013 1531.6 Q733.013 1522.85 736.069 1518.27 Q739.147 1513.66 744.958 1513.66 Z\" fill=\"#000000\" fill-rule=\"evenodd\" fill-opacity=\"1\" /><path clip-path=\"url(#clip650)\" d=\"M969.215 1514.29 L991.437 1514.29 L991.437 1516.28 L978.89 1548.85 L974.006 1548.85 L985.812 1518.22 L969.215 1518.22 L969.215 1514.29 Z\" fill=\"#000000\" fill-rule=\"evenodd\" fill-opacity=\"1\" /><path clip-path=\"url(#clip650)\" d=\"M1000.56 1542.97 L1005.44 1542.97 L1005.44 1548.85 L1000.56 1548.85 L1000.56 1542.97 Z\" fill=\"#000000\" fill-rule=\"evenodd\" fill-opacity=\"1\" /><path clip-path=\"url(#clip650)\" d=\"M1015.67 1514.29 L1034.03 1514.29 L1034.03 1518.22 L1019.96 1518.22 L1019.96 1526.7 Q1020.97 1526.35 1021.99 1526.19 Q1023.01 1526 1024.03 1526 Q1029.82 1526 1033.2 1529.17 Q1036.58 1532.34 1036.58 1537.76 Q1036.58 1543.34 1033.1 1546.44 Q1029.63 1549.52 1023.31 1549.52 Q1021.14 1549.52 1018.87 1549.15 Q1016.62 1548.78 1014.21 1548.04 L1014.21 1543.34 Q1016.3 1544.47 1018.52 1545.03 Q1020.74 1545.58 1023.22 1545.58 Q1027.22 1545.58 1029.56 1543.48 Q1031.9 1541.37 1031.9 1537.76 Q1031.9 1534.15 1029.56 1532.04 Q1027.22 1529.94 1023.22 1529.94 Q1021.34 1529.94 1019.47 1530.35 Q1017.62 1530.77 1015.67 1531.65 L1015.67 1514.29 Z\" fill=\"#000000\" fill-rule=\"evenodd\" fill-opacity=\"1\" /><path clip-path=\"url(#clip650)\" d=\"M1235.25 1544.91 L1242.89 1544.91 L1242.89 1518.55 L1234.58 1520.21 L1234.58 1515.95 L1242.85 1514.29 L1247.52 1514.29 L1247.52 1544.91 L1255.16 1544.91 L1255.16 1548.85 L1235.25 1548.85 L1235.25 1544.91 Z\" fill=\"#000000\" fill-rule=\"evenodd\" fill-opacity=\"1\" /><path clip-path=\"url(#clip650)\" d=\"M1274.61 1517.37 Q1270.99 1517.37 1269.17 1520.93 Q1267.36 1524.47 1267.36 1531.6 Q1267.36 1538.71 1269.17 1542.27 Q1270.99 1545.82 1274.61 1545.82 Q1278.24 1545.82 1280.05 1542.27 Q1281.87 1538.71 1281.87 1531.6 Q1281.87 1524.47 1280.05 1520.93 Q1278.24 1517.37 1274.61 1517.37 M1274.61 1513.66 Q1280.42 1513.66 1283.47 1518.27 Q1286.55 1522.85 1286.55 1531.6 Q1286.55 1540.33 1283.47 1544.94 Q1280.42 1549.52 1274.61 1549.52 Q1268.8 1549.52 1265.72 1544.94 Q1262.66 1540.33 1262.66 1531.6 Q1262.66 1522.85 1265.72 1518.27 Q1268.8 1513.66 1274.61 1513.66 Z\" fill=\"#000000\" fill-rule=\"evenodd\" fill-opacity=\"1\" /><path clip-path=\"url(#clip650)\" d=\"M1294.77 1542.97 L1299.65 1542.97 L1299.65 1548.85 L1294.77 1548.85 L1294.77 1542.97 Z\" fill=\"#000000\" fill-rule=\"evenodd\" fill-opacity=\"1\" /><path clip-path=\"url(#clip650)\" d=\"M1319.84 1517.37 Q1316.23 1517.37 1314.4 1520.93 Q1312.59 1524.47 1312.59 1531.6 Q1312.59 1538.71 1314.4 1542.27 Q1316.23 1545.82 1319.84 1545.82 Q1323.47 1545.82 1325.28 1542.27 Q1327.11 1538.71 1327.11 1531.6 Q1327.11 1524.47 1325.28 1520.93 Q1323.47 1517.37 1319.84 1517.37 M1319.84 1513.66 Q1325.65 1513.66 1328.7 1518.27 Q1331.78 1522.85 1331.78 1531.6 Q1331.78 1540.33 1328.7 1544.94 Q1325.65 1549.52 1319.84 1549.52 Q1314.03 1549.52 1310.95 1544.94 Q1307.89 1540.33 1307.89 1531.6 Q1307.89 1522.85 1310.95 1518.27 Q1314.03 1513.66 1319.84 1513.66 Z\" fill=\"#000000\" fill-rule=\"evenodd\" fill-opacity=\"1\" /><path clip-path=\"url(#clip650)\" d=\"M1516.04 1544.91 L1523.68 1544.91 L1523.68 1518.55 L1515.37 1520.21 L1515.37 1515.95 L1523.63 1514.29 L1528.31 1514.29 L1528.31 1544.91 L1535.95 1544.91 L1535.95 1548.85 L1516.04 1548.85 L1516.04 1544.91 Z\" fill=\"#000000\" fill-rule=\"evenodd\" fill-opacity=\"1\" /><path clip-path=\"url(#clip650)\" d=\"M1549.42 1544.91 L1565.74 1544.91 L1565.74 1548.85 L1543.79 1548.85 L1543.79 1544.91 Q1546.45 1542.16 1551.04 1537.53 Q1555.64 1532.88 1556.82 1531.53 Q1559.07 1529.01 1559.95 1527.27 Q1560.85 1525.51 1560.85 1523.82 Q1560.85 1521.07 1558.91 1519.33 Q1556.99 1517.6 1553.89 1517.6 Q1551.69 1517.6 1549.23 1518.36 Q1546.8 1519.13 1544.02 1520.68 L1544.02 1515.95 Q1546.85 1514.82 1549.3 1514.24 Q1551.76 1513.66 1553.79 1513.66 Q1559.16 1513.66 1562.36 1516.35 Q1565.55 1519.03 1565.55 1523.52 Q1565.55 1525.65 1564.74 1527.57 Q1563.95 1529.47 1561.85 1532.07 Q1561.27 1532.74 1558.17 1535.95 Q1555.07 1539.15 1549.42 1544.91 Z\" fill=\"#000000\" fill-rule=\"evenodd\" fill-opacity=\"1\" /><path clip-path=\"url(#clip650)\" d=\"M1575.55 1542.97 L1580.44 1542.97 L1580.44 1548.85 L1575.55 1548.85 L1575.55 1542.97 Z\" fill=\"#000000\" fill-rule=\"evenodd\" fill-opacity=\"1\" /><path clip-path=\"url(#clip650)\" d=\"M1590.67 1514.29 L1609.02 1514.29 L1609.02 1518.22 L1594.95 1518.22 L1594.95 1526.7 Q1595.97 1526.35 1596.99 1526.19 Q1598.01 1526 1599.02 1526 Q1604.81 1526 1608.19 1529.17 Q1611.57 1532.34 1611.57 1537.76 Q1611.57 1543.34 1608.1 1546.44 Q1604.63 1549.52 1598.31 1549.52 Q1596.13 1549.52 1593.86 1549.15 Q1591.62 1548.78 1589.21 1548.04 L1589.21 1543.34 Q1591.29 1544.47 1593.51 1545.03 Q1595.74 1545.58 1598.21 1545.58 Q1602.22 1545.58 1604.56 1543.48 Q1606.89 1541.37 1606.89 1537.76 Q1606.89 1534.15 1604.56 1532.04 Q1602.22 1529.94 1598.21 1529.94 Q1596.34 1529.94 1594.46 1530.35 Q1592.61 1530.77 1590.67 1531.65 L1590.67 1514.29 Z\" fill=\"#000000\" fill-rule=\"evenodd\" fill-opacity=\"1\" /><path clip-path=\"url(#clip650)\" d=\"M1795.83 1544.91 L1803.47 1544.91 L1803.47 1518.55 L1795.16 1520.21 L1795.16 1515.95 L1803.42 1514.29 L1808.1 1514.29 L1808.1 1544.91 L1815.73 1544.91 L1815.73 1548.85 L1795.83 1548.85 L1795.83 1544.91 Z\" fill=\"#000000\" fill-rule=\"evenodd\" fill-opacity=\"1\" /><path clip-path=\"url(#clip650)\" d=\"M1825.23 1514.29 L1843.58 1514.29 L1843.58 1518.22 L1829.51 1518.22 L1829.51 1526.7 Q1830.53 1526.35 1831.54 1526.19 Q1832.56 1526 1833.58 1526 Q1839.37 1526 1842.75 1529.17 Q1846.13 1532.34 1846.13 1537.76 Q1846.13 1543.34 1842.66 1546.44 Q1839.18 1549.52 1832.86 1549.52 Q1830.69 1549.52 1828.42 1549.15 Q1826.17 1548.78 1823.77 1548.04 L1823.77 1543.34 Q1825.85 1544.47 1828.07 1545.03 Q1830.29 1545.58 1832.77 1545.58 Q1836.78 1545.58 1839.11 1543.48 Q1841.45 1541.37 1841.45 1537.76 Q1841.45 1534.15 1839.11 1532.04 Q1836.78 1529.94 1832.77 1529.94 Q1830.9 1529.94 1829.02 1530.35 Q1827.17 1530.77 1825.23 1531.65 L1825.23 1514.29 Z\" fill=\"#000000\" fill-rule=\"evenodd\" fill-opacity=\"1\" /><path clip-path=\"url(#clip650)\" d=\"M1855.34 1542.97 L1860.22 1542.97 L1860.22 1548.85 L1855.34 1548.85 L1855.34 1542.97 Z\" fill=\"#000000\" fill-rule=\"evenodd\" fill-opacity=\"1\" /><path clip-path=\"url(#clip650)\" d=\"M1880.41 1517.37 Q1876.8 1517.37 1874.97 1520.93 Q1873.16 1524.47 1873.16 1531.6 Q1873.16 1538.71 1874.97 1542.27 Q1876.8 1545.82 1880.41 1545.82 Q1884.04 1545.82 1885.85 1542.27 Q1887.68 1538.71 1887.68 1531.6 Q1887.68 1524.47 1885.85 1520.93 Q1884.04 1517.37 1880.41 1517.37 M1880.41 1513.66 Q1886.22 1513.66 1889.28 1518.27 Q1892.35 1522.85 1892.35 1531.6 Q1892.35 1540.33 1889.28 1544.94 Q1886.22 1549.52 1880.41 1549.52 Q1874.6 1549.52 1871.52 1544.94 Q1868.47 1540.33 1868.47 1531.6 Q1868.47 1522.85 1871.52 1518.27 Q1874.6 1513.66 1880.41 1513.66 Z\" fill=\"#000000\" fill-rule=\"evenodd\" fill-opacity=\"1\" /><path clip-path=\"url(#clip650)\" d=\"M2076.61 1544.91 L2084.25 1544.91 L2084.25 1518.55 L2075.94 1520.21 L2075.94 1515.95 L2084.2 1514.29 L2088.88 1514.29 L2088.88 1544.91 L2096.52 1544.91 L2096.52 1548.85 L2076.61 1548.85 L2076.61 1544.91 Z\" fill=\"#000000\" fill-rule=\"evenodd\" fill-opacity=\"1\" /><path clip-path=\"url(#clip650)\" d=\"M2104.78 1514.29 L2127 1514.29 L2127 1516.28 L2114.46 1548.85 L2109.57 1548.85 L2121.38 1518.22 L2104.78 1518.22 L2104.78 1514.29 Z\" fill=\"#000000\" fill-rule=\"evenodd\" fill-opacity=\"1\" /><path clip-path=\"url(#clip650)\" d=\"M2136.13 1542.97 L2141.01 1542.97 L2141.01 1548.85 L2136.13 1548.85 L2136.13 1542.97 Z\" fill=\"#000000\" fill-rule=\"evenodd\" fill-opacity=\"1\" /><path clip-path=\"url(#clip650)\" d=\"M2151.24 1514.29 L2169.6 1514.29 L2169.6 1518.22 L2155.52 1518.22 L2155.52 1526.7 Q2156.54 1526.35 2157.56 1526.19 Q2158.58 1526 2159.6 1526 Q2165.38 1526 2168.76 1529.17 Q2172.14 1532.34 2172.14 1537.76 Q2172.14 1543.34 2168.67 1546.44 Q2165.2 1549.52 2158.88 1549.52 Q2156.7 1549.52 2154.44 1549.15 Q2152.19 1548.78 2149.78 1548.04 L2149.78 1543.34 Q2151.87 1544.47 2154.09 1545.03 Q2156.31 1545.58 2158.79 1545.58 Q2162.79 1545.58 2165.13 1543.48 Q2167.47 1541.37 2167.47 1537.76 Q2167.47 1534.15 2165.13 1532.04 Q2162.79 1529.94 2158.79 1529.94 Q2156.91 1529.94 2155.04 1530.35 Q2153.19 1530.77 2151.24 1531.65 L2151.24 1514.29 Z\" fill=\"#000000\" fill-rule=\"evenodd\" fill-opacity=\"1\" /><polyline clip-path=\"url(#clip652)\" style=\"stroke:#000000; stroke-linecap:butt; stroke-linejoin:round; stroke-width:2; stroke-opacity:0.1; fill:none\" points=\"\n",
       "  213.607,951.846 2352.76,951.846 \n",
       "  \"/>\n",
       "<polyline clip-path=\"url(#clip652)\" style=\"stroke:#000000; stroke-linecap:butt; stroke-linejoin:round; stroke-width:2; stroke-opacity:0.1; fill:none\" points=\"\n",
       "  213.607,158.915 2352.76,158.915 \n",
       "  \"/>\n",
       "<polyline clip-path=\"url(#clip650)\" style=\"stroke:#000000; stroke-linecap:butt; stroke-linejoin:round; stroke-width:4; stroke-opacity:1; fill:none\" points=\"\n",
       "  213.607,1486.45 213.607,123.472 \n",
       "  \"/>\n",
       "<polyline clip-path=\"url(#clip650)\" style=\"stroke:#000000; stroke-linecap:butt; stroke-linejoin:round; stroke-width:4; stroke-opacity:1; fill:none\" points=\"\n",
       "  213.607,951.846 232.505,951.846 \n",
       "  \"/>\n",
       "<polyline clip-path=\"url(#clip650)\" style=\"stroke:#000000; stroke-linecap:butt; stroke-linejoin:round; stroke-width:4; stroke-opacity:1; fill:none\" points=\"\n",
       "  213.607,158.915 232.505,158.915 \n",
       "  \"/>\n",
       "<path clip-path=\"url(#clip650)\" d=\"M51.6634 971.638 L59.3023 971.638 L59.3023 945.272 L50.9921 946.939 L50.9921 942.68 L59.256 941.013 L63.9319 941.013 L63.9319 971.638 L71.5707 971.638 L71.5707 975.573 L51.6634 975.573 L51.6634 971.638 Z\" fill=\"#000000\" fill-rule=\"evenodd\" fill-opacity=\"1\" /><path clip-path=\"url(#clip650)\" d=\"M91.0151 944.092 Q87.404 944.092 85.5753 947.657 Q83.7697 951.198 83.7697 958.328 Q83.7697 965.434 85.5753 968.999 Q87.404 972.541 91.0151 972.541 Q94.6493 972.541 96.4548 968.999 Q98.2835 965.434 98.2835 958.328 Q98.2835 951.198 96.4548 947.657 Q94.6493 944.092 91.0151 944.092 M91.0151 940.388 Q96.8252 940.388 99.8808 944.995 Q102.959 949.578 102.959 958.328 Q102.959 967.055 99.8808 971.661 Q96.8252 976.245 91.0151 976.245 Q85.2049 976.245 82.1262 971.661 Q79.0707 967.055 79.0707 958.328 Q79.0707 949.578 82.1262 944.995 Q85.2049 940.388 91.0151 940.388 Z\" fill=\"#000000\" fill-rule=\"evenodd\" fill-opacity=\"1\" /><path clip-path=\"url(#clip650)\" d=\"M102.959 934.49 L127.071 934.49 L127.071 937.687 L102.959 937.687 L102.959 934.49 Z\" fill=\"#000000\" fill-rule=\"evenodd\" fill-opacity=\"1\" /><path clip-path=\"url(#clip650)\" d=\"M135.929 944.965 L142.136 944.965 L142.136 923.543 L135.384 924.898 L135.384 921.437 L142.098 920.083 L145.898 920.083 L145.898 944.965 L152.104 944.965 L152.104 948.163 L135.929 948.163 L135.929 944.965 Z\" fill=\"#000000\" fill-rule=\"evenodd\" fill-opacity=\"1\" /><path clip-path=\"url(#clip650)\" d=\"M167.903 922.584 Q164.969 922.584 163.483 925.481 Q162.016 928.358 162.016 934.151 Q162.016 939.925 163.483 942.821 Q164.969 945.699 167.903 945.699 Q170.855 945.699 172.322 942.821 Q173.808 939.925 173.808 934.151 Q173.808 928.358 172.322 925.481 Q170.855 922.584 167.903 922.584 M167.903 919.575 Q172.623 919.575 175.106 923.318 Q177.607 927.042 177.607 934.151 Q177.607 941.242 175.106 944.984 Q172.623 948.708 167.903 948.708 Q163.182 948.708 160.68 944.984 Q158.198 941.242 158.198 934.151 Q158.198 927.042 160.68 923.318 Q163.182 919.575 167.903 919.575 Z\" fill=\"#000000\" fill-rule=\"evenodd\" fill-opacity=\"1\" /><path clip-path=\"url(#clip650)\" d=\"M106.902 178.707 L114.541 178.707 L114.541 152.341 L106.231 154.008 L106.231 149.749 L114.494 148.082 L119.17 148.082 L119.17 178.707 L126.809 178.707 L126.809 182.642 L106.902 182.642 L106.902 178.707 Z\" fill=\"#000000\" fill-rule=\"evenodd\" fill-opacity=\"1\" /><path clip-path=\"url(#clip650)\" d=\"M146.253 151.161 Q142.642 151.161 140.814 154.726 Q139.008 158.267 139.008 165.397 Q139.008 172.503 140.814 176.068 Q142.642 179.61 146.253 179.61 Q149.888 179.61 151.693 176.068 Q153.522 172.503 153.522 165.397 Q153.522 158.267 151.693 154.726 Q149.888 151.161 146.253 151.161 M146.253 147.457 Q152.064 147.457 155.119 152.064 Q158.198 156.647 158.198 165.397 Q158.198 174.124 155.119 178.73 Q152.064 183.314 146.253 183.314 Q140.443 183.314 137.365 178.73 Q134.309 174.124 134.309 165.397 Q134.309 156.647 137.365 152.064 Q140.443 147.457 146.253 147.457 Z\" fill=\"#000000\" fill-rule=\"evenodd\" fill-opacity=\"1\" /><path clip-path=\"url(#clip650)\" d=\"M167.903 129.653 Q164.969 129.653 163.483 132.55 Q162.016 135.427 162.016 141.22 Q162.016 146.994 163.483 149.89 Q164.969 152.768 167.903 152.768 Q170.855 152.768 172.322 149.89 Q173.808 146.994 173.808 141.22 Q173.808 135.427 172.322 132.55 Q170.855 129.653 167.903 129.653 M167.903 126.644 Q172.623 126.644 175.106 130.387 Q177.607 134.111 177.607 141.22 Q177.607 148.311 175.106 152.053 Q172.623 155.777 167.903 155.777 Q163.182 155.777 160.68 152.053 Q158.198 148.311 158.198 141.22 Q158.198 134.111 160.68 130.387 Q163.182 126.644 167.903 126.644 Z\" fill=\"#000000\" fill-rule=\"evenodd\" fill-opacity=\"1\" /><path clip-path=\"url(#clip650)\" d=\"M841.734 16.7545 L841.734 25.383 Q837.602 21.5346 832.903 19.6307 Q828.245 17.7268 822.979 17.7268 Q812.608 17.7268 807.099 24.0867 Q801.59 30.4061 801.59 42.3968 Q801.59 54.3469 807.099 60.7069 Q812.608 67.0263 822.979 67.0263 Q828.245 67.0263 832.903 65.1223 Q837.602 63.2184 841.734 59.3701 L841.734 67.9175 Q837.44 70.8341 832.62 72.2924 Q827.84 73.7508 822.493 73.7508 Q808.76 73.7508 800.861 65.3654 Q792.962 56.9395 792.962 42.3968 Q792.962 27.8135 800.861 19.4281 Q808.76 11.0023 822.493 11.0023 Q827.921 11.0023 832.701 12.4606 Q837.521 13.8784 841.734 16.7545 Z\" fill=\"#000000\" fill-rule=\"evenodd\" fill-opacity=\"1\" /><path clip-path=\"url(#clip650)\" d=\"M854.049 9.54393 L861.503 9.54393 L861.503 72.576 L854.049 72.576 L854.049 9.54393 Z\" fill=\"#000000\" fill-rule=\"evenodd\" fill-opacity=\"1\" /><path clip-path=\"url(#clip650)\" d=\"M897.718 49.7694 Q888.684 49.7694 885.201 51.8354 Q881.717 53.9013 881.717 58.8839 Q881.717 62.8538 884.309 65.2034 Q886.942 67.5124 891.439 67.5124 Q897.637 67.5124 901.364 63.1374 Q905.131 58.7219 905.131 51.4303 L905.131 49.7694 L897.718 49.7694 M912.585 46.6907 L912.585 72.576 L905.131 72.576 L905.131 65.6895 Q902.579 69.8214 898.771 71.8063 Q894.963 73.7508 889.454 73.7508 Q882.487 73.7508 878.355 69.8619 Q874.263 65.9325 874.263 59.3701 Q874.263 51.7138 879.367 47.825 Q884.512 43.9361 894.68 43.9361 L905.131 43.9361 L905.131 43.2069 Q905.131 38.0623 901.728 35.2672 Q898.366 32.4315 892.249 32.4315 Q888.36 32.4315 884.674 33.3632 Q880.988 34.295 877.585 36.1584 L877.585 29.2718 Q881.676 27.692 885.525 26.9223 Q889.373 26.1121 893.019 26.1121 Q902.863 26.1121 907.724 31.2163 Q912.585 36.3204 912.585 46.6907 Z\" fill=\"#000000\" fill-rule=\"evenodd\" fill-opacity=\"1\" /><path clip-path=\"url(#clip650)\" d=\"M956.861 28.5427 L956.861 35.5912 Q953.701 33.9709 950.299 33.1607 Q946.896 32.3505 943.25 32.3505 Q937.7 32.3505 934.905 34.0519 Q932.151 35.7533 932.151 39.156 Q932.151 41.7486 934.136 43.2475 Q936.12 44.7058 942.116 46.0426 L944.668 46.6097 Q952.608 48.3111 955.929 51.4303 Q959.292 54.509 959.292 60.0587 Q959.292 66.3781 954.269 70.0644 Q949.286 73.7508 940.536 73.7508 Q936.89 73.7508 932.92 73.0216 Q928.991 72.3329 924.616 70.9151 L924.616 63.2184 Q928.748 65.3654 932.758 66.4591 Q936.769 67.5124 940.698 67.5124 Q945.964 67.5124 948.8 65.73 Q951.635 63.9071 951.635 60.6258 Q951.635 57.5877 949.569 55.9673 Q947.544 54.3469 940.617 52.8481 L938.024 52.2405 Q931.097 50.7821 928.019 47.7845 Q924.94 44.7463 924.94 39.4801 Q924.94 33.0797 929.477 29.5959 Q934.014 26.1121 942.359 26.1121 Q946.491 26.1121 950.137 26.7198 Q953.782 27.3274 956.861 28.5427 Z\" fill=\"#000000\" fill-rule=\"evenodd\" fill-opacity=\"1\" /><path clip-path=\"url(#clip650)\" d=\"M1000.08 28.5427 L1000.08 35.5912 Q996.925 33.9709 993.522 33.1607 Q990.119 32.3505 986.473 32.3505 Q980.923 32.3505 978.128 34.0519 Q975.374 35.7533 975.374 39.156 Q975.374 41.7486 977.359 43.2475 Q979.344 44.7058 985.339 46.0426 L987.891 46.6097 Q995.831 48.3111 999.153 51.4303 Q1002.51 54.509 1002.51 60.0587 Q1002.51 66.3781 997.492 70.0644 Q992.509 73.7508 983.759 73.7508 Q980.113 73.7508 976.143 73.0216 Q972.214 72.3329 967.839 70.9151 L967.839 63.2184 Q971.971 65.3654 975.981 66.4591 Q979.992 67.5124 983.921 67.5124 Q989.187 67.5124 992.023 65.73 Q994.859 63.9071 994.859 60.6258 Q994.859 57.5877 992.793 55.9673 Q990.767 54.3469 983.84 52.8481 L981.248 52.2405 Q974.32 50.7821 971.242 47.7845 Q968.163 44.7463 968.163 39.4801 Q968.163 33.0797 972.7 29.5959 Q977.237 26.1121 985.582 26.1121 Q989.714 26.1121 993.36 26.7198 Q997.006 27.3274 1000.08 28.5427 Z\" fill=\"#000000\" fill-rule=\"evenodd\" fill-opacity=\"1\" /><path clip-path=\"url(#clip650)\" d=\"M1014.38 27.2059 L1021.84 27.2059 L1021.84 72.576 L1014.38 72.576 L1014.38 27.2059 M1014.38 9.54393 L1021.84 9.54393 L1021.84 18.9825 L1014.38 18.9825 L1014.38 9.54393 Z\" fill=\"#000000\" fill-rule=\"evenodd\" fill-opacity=\"1\" /><path clip-path=\"url(#clip650)\" d=\"M1070.08 28.9478 L1070.08 35.9153 Q1066.92 34.1734 1063.72 33.3227 Q1060.56 32.4315 1057.32 32.4315 Q1050.07 32.4315 1046.06 37.0496 Q1042.05 41.6271 1042.05 49.9314 Q1042.05 58.2358 1046.06 62.8538 Q1050.07 67.4314 1057.32 67.4314 Q1060.56 67.4314 1063.72 66.5807 Q1066.92 65.6895 1070.08 63.9476 L1070.08 70.8341 Q1066.96 72.2924 1063.6 73.0216 Q1060.28 73.7508 1056.51 73.7508 Q1046.26 73.7508 1040.23 67.3098 Q1034.19 60.8689 1034.19 49.9314 Q1034.19 38.832 1040.27 32.472 Q1046.39 26.1121 1057 26.1121 Q1060.44 26.1121 1063.72 26.8413 Q1067.01 27.5299 1070.08 28.9478 Z\" fill=\"#000000\" fill-rule=\"evenodd\" fill-opacity=\"1\" /><path clip-path=\"url(#clip650)\" d=\"M1103.67 49.7694 Q1094.63 49.7694 1091.15 51.8354 Q1087.66 53.9013 1087.66 58.8839 Q1087.66 62.8538 1090.26 65.2034 Q1092.89 67.5124 1097.39 67.5124 Q1103.58 67.5124 1107.31 63.1374 Q1111.08 58.7219 1111.08 51.4303 L1111.08 49.7694 L1103.67 49.7694 M1118.53 46.6907 L1118.53 72.576 L1111.08 72.576 L1111.08 65.6895 Q1108.53 69.8214 1104.72 71.8063 Q1100.91 73.7508 1095.4 73.7508 Q1088.43 73.7508 1084.3 69.8619 Q1080.21 65.9325 1080.21 59.3701 Q1080.21 51.7138 1085.32 47.825 Q1090.46 43.9361 1100.63 43.9361 L1111.08 43.9361 L1111.08 43.2069 Q1111.08 38.0623 1107.68 35.2672 Q1104.31 32.4315 1098.2 32.4315 Q1094.31 32.4315 1090.62 33.3632 Q1086.94 34.295 1083.53 36.1584 L1083.53 29.2718 Q1087.62 27.692 1091.47 26.9223 Q1095.32 26.1121 1098.97 26.1121 Q1108.81 26.1121 1113.67 31.2163 Q1118.53 36.3204 1118.53 46.6907 Z\" fill=\"#000000\" fill-rule=\"evenodd\" fill-opacity=\"1\" /><path clip-path=\"url(#clip650)\" d=\"M1133.89 9.54393 L1141.34 9.54393 L1141.34 72.576 L1133.89 72.576 L1133.89 9.54393 Z\" fill=\"#000000\" fill-rule=\"evenodd\" fill-opacity=\"1\" /><path clip-path=\"url(#clip650)\" d=\"M1224.87 63.9476 L1224.87 47.7034 L1211.5 47.7034 L1211.5 40.9789 L1232.97 40.9789 L1232.97 66.9452 Q1228.23 70.3075 1222.52 72.0494 Q1216.81 73.7508 1210.33 73.7508 Q1196.15 73.7508 1188.13 65.4869 Q1180.15 57.1826 1180.15 42.3968 Q1180.15 27.5705 1188.13 19.3066 Q1196.15 11.0023 1210.33 11.0023 Q1216.24 11.0023 1221.55 12.4606 Q1226.89 13.9189 1231.39 16.7545 L1231.39 25.464 Q1226.85 21.6156 1221.75 19.6712 Q1216.65 17.7268 1211.01 17.7268 Q1199.92 17.7268 1194.33 23.9246 Q1188.78 30.1225 1188.78 42.3968 Q1188.78 54.6305 1194.33 60.8284 Q1199.92 67.0263 1211.01 67.0263 Q1215.35 67.0263 1218.75 66.2971 Q1222.15 65.5274 1224.87 63.9476 Z\" fill=\"#000000\" fill-rule=\"evenodd\" fill-opacity=\"1\" /><path clip-path=\"url(#clip650)\" d=\"M1273.88 34.1734 Q1272.63 33.4443 1271.13 33.1202 Q1269.67 32.7556 1267.89 32.7556 Q1261.57 32.7556 1258.17 36.8875 Q1254.81 40.9789 1254.81 48.6757 L1254.81 72.576 L1247.31 72.576 L1247.31 27.2059 L1254.81 27.2059 L1254.81 34.2544 Q1257.15 30.1225 1260.92 28.1376 Q1264.69 26.1121 1270.08 26.1121 Q1270.85 26.1121 1271.78 26.2337 Q1272.71 26.3147 1273.84 26.5172 L1273.88 34.1734 Z\" fill=\"#000000\" fill-rule=\"evenodd\" fill-opacity=\"1\" /><path clip-path=\"url(#clip650)\" d=\"M1302.32 49.7694 Q1293.29 49.7694 1289.8 51.8354 Q1286.32 53.9013 1286.32 58.8839 Q1286.32 62.8538 1288.91 65.2034 Q1291.55 67.5124 1296.04 67.5124 Q1302.24 67.5124 1305.97 63.1374 Q1309.74 58.7219 1309.74 51.4303 L1309.74 49.7694 L1302.32 49.7694 M1317.19 46.6907 L1317.19 72.576 L1309.74 72.576 L1309.74 65.6895 Q1307.18 69.8214 1303.38 71.8063 Q1299.57 73.7508 1294.06 73.7508 Q1287.09 73.7508 1282.96 69.8619 Q1278.87 65.9325 1278.87 59.3701 Q1278.87 51.7138 1283.97 47.825 Q1289.12 43.9361 1299.28 43.9361 L1309.74 43.9361 L1309.74 43.2069 Q1309.74 38.0623 1306.33 35.2672 Q1302.97 32.4315 1296.85 32.4315 Q1292.96 32.4315 1289.28 33.3632 Q1285.59 34.295 1282.19 36.1584 L1282.19 29.2718 Q1286.28 27.692 1290.13 26.9223 Q1293.98 26.1121 1297.62 26.1121 Q1307.47 26.1121 1312.33 31.2163 Q1317.19 36.3204 1317.19 46.6907 Z\" fill=\"#000000\" fill-rule=\"evenodd\" fill-opacity=\"1\" /><path clip-path=\"url(#clip650)\" d=\"M1367.87 35.9153 Q1370.66 30.8922 1374.55 28.5022 Q1378.44 26.1121 1383.7 26.1121 Q1390.79 26.1121 1394.64 31.0947 Q1398.49 36.0368 1398.49 45.1919 L1398.49 72.576 L1391 72.576 L1391 45.4349 Q1391 38.913 1388.69 35.7533 Q1386.38 32.5936 1381.64 32.5936 Q1375.85 32.5936 1372.48 36.4419 Q1369.12 40.2903 1369.12 46.9338 L1369.12 72.576 L1361.63 72.576 L1361.63 45.4349 Q1361.63 38.8725 1359.32 35.7533 Q1357.01 32.5936 1352.19 32.5936 Q1346.48 32.5936 1343.11 36.4824 Q1339.75 40.3308 1339.75 46.9338 L1339.75 72.576 L1332.26 72.576 L1332.26 27.2059 L1339.75 27.2059 L1339.75 34.2544 Q1342.3 30.082 1345.87 28.0971 Q1349.43 26.1121 1354.34 26.1121 Q1359.28 26.1121 1362.72 28.6237 Q1366.2 31.1352 1367.87 35.9153 Z\" fill=\"#000000\" fill-rule=\"evenodd\" fill-opacity=\"1\" /><path clip-path=\"url(#clip650)\" d=\"M1409.59 46.5287 L1431.42 46.5287 L1431.42 53.1722 L1409.59 53.1722 L1409.59 46.5287 Z\" fill=\"#000000\" fill-rule=\"evenodd\" fill-opacity=\"1\" /><path clip-path=\"url(#clip650)\" d=\"M1479.87 14.0809 L1479.87 22.0612 Q1475.21 19.8332 1471.08 18.7395 Q1466.95 17.6457 1463.1 17.6457 Q1456.42 17.6457 1452.77 20.2383 Q1449.17 22.8309 1449.17 27.611 Q1449.17 31.6214 1451.56 33.6873 Q1453.99 35.7128 1460.71 36.9686 L1465.65 37.9813 Q1474.81 39.7232 1479.14 44.1387 Q1483.52 48.5136 1483.52 55.8863 Q1483.52 64.6767 1477.6 69.2137 Q1471.73 73.7508 1460.35 73.7508 Q1456.05 73.7508 1451.19 72.7785 Q1446.37 71.8063 1441.19 69.9024 L1441.19 61.4765 Q1446.17 64.2716 1450.95 65.6895 Q1455.73 67.1073 1460.35 67.1073 Q1467.36 67.1073 1471.16 64.3527 Q1474.97 61.598 1474.97 56.4939 Q1474.97 52.0379 1472.22 49.5264 Q1469.5 47.0148 1463.26 45.759 L1458.28 44.7868 Q1449.13 42.9639 1445.04 39.075 Q1440.94 35.1862 1440.94 28.2591 Q1440.94 20.2383 1446.57 15.6203 Q1452.25 11.0023 1462.17 11.0023 Q1466.42 11.0023 1470.84 11.7719 Q1475.26 12.5416 1479.87 14.0809 Z\" fill=\"#000000\" fill-rule=\"evenodd\" fill-opacity=\"1\" /><path clip-path=\"url(#clip650)\" d=\"M1528.61 28.9478 L1528.61 35.9153 Q1525.45 34.1734 1522.25 33.3227 Q1519.09 32.4315 1515.85 32.4315 Q1508.59 32.4315 1504.58 37.0496 Q1500.57 41.6271 1500.57 49.9314 Q1500.57 58.2358 1504.58 62.8538 Q1508.59 67.4314 1515.85 67.4314 Q1519.09 67.4314 1522.25 66.5807 Q1525.45 65.6895 1528.61 63.9476 L1528.61 70.8341 Q1525.49 72.2924 1522.12 73.0216 Q1518.8 73.7508 1515.04 73.7508 Q1504.79 73.7508 1498.75 67.3098 Q1492.71 60.8689 1492.71 49.9314 Q1492.71 38.832 1498.79 32.472 Q1504.91 26.1121 1515.52 26.1121 Q1518.96 26.1121 1522.25 26.8413 Q1525.53 27.5299 1528.61 28.9478 Z\" fill=\"#000000\" fill-rule=\"evenodd\" fill-opacity=\"1\" /><path clip-path=\"url(#clip650)\" d=\"M1579.28 45.1919 L1579.28 72.576 L1571.83 72.576 L1571.83 45.4349 Q1571.83 38.994 1569.32 35.7938 Q1566.81 32.5936 1561.78 32.5936 Q1555.75 32.5936 1552.26 36.4419 Q1548.78 40.2903 1548.78 46.9338 L1548.78 72.576 L1541.29 72.576 L1541.29 9.54393 L1548.78 9.54393 L1548.78 34.2544 Q1551.45 30.163 1555.06 28.1376 Q1558.7 26.1121 1563.44 26.1121 Q1571.26 26.1121 1575.27 30.9732 Q1579.28 35.7938 1579.28 45.1919 Z\" fill=\"#000000\" fill-rule=\"evenodd\" fill-opacity=\"1\" /><path clip-path=\"url(#clip650)\" d=\"M1629.47 35.9153 Q1632.27 30.8922 1636.16 28.5022 Q1640.05 26.1121 1645.31 26.1121 Q1652.4 26.1121 1656.25 31.0947 Q1660.1 36.0368 1660.1 45.1919 L1660.1 72.576 L1652.6 72.576 L1652.6 45.4349 Q1652.6 38.913 1650.29 35.7533 Q1647.99 32.5936 1643.25 32.5936 Q1637.45 32.5936 1634.09 36.4419 Q1630.73 40.2903 1630.73 46.9338 L1630.73 72.576 L1623.23 72.576 L1623.23 45.4349 Q1623.23 38.8725 1620.93 35.7533 Q1618.62 32.5936 1613.8 32.5936 Q1608.08 32.5936 1604.72 36.4824 Q1601.36 40.3308 1601.36 46.9338 L1601.36 72.576 L1593.87 72.576 L1593.87 27.2059 L1601.36 27.2059 L1601.36 34.2544 Q1603.91 30.082 1607.48 28.0971 Q1611.04 26.1121 1615.94 26.1121 Q1620.89 26.1121 1624.33 28.6237 Q1627.81 31.1352 1629.47 35.9153 Z\" fill=\"#000000\" fill-rule=\"evenodd\" fill-opacity=\"1\" /><path clip-path=\"url(#clip650)\" d=\"M1674.96 27.2059 L1682.42 27.2059 L1682.42 72.576 L1674.96 72.576 L1674.96 27.2059 M1674.96 9.54393 L1682.42 9.54393 L1682.42 18.9825 L1674.96 18.9825 L1674.96 9.54393 Z\" fill=\"#000000\" fill-rule=\"evenodd\" fill-opacity=\"1\" /><path clip-path=\"url(#clip650)\" d=\"M1727.87 34.0924 L1727.87 9.54393 L1735.32 9.54393 L1735.32 72.576 L1727.87 72.576 L1727.87 65.7705 Q1725.52 69.8214 1721.91 71.8063 Q1718.35 73.7508 1713.33 73.7508 Q1705.1 73.7508 1699.92 67.1883 Q1694.77 60.6258 1694.77 49.9314 Q1694.77 39.2371 1699.92 32.6746 Q1705.1 26.1121 1713.33 26.1121 Q1718.35 26.1121 1721.91 28.0971 Q1725.52 30.0415 1727.87 34.0924 M1702.47 49.9314 Q1702.47 58.1548 1705.83 62.8538 Q1709.24 67.5124 1715.15 67.5124 Q1721.06 67.5124 1724.47 62.8538 Q1727.87 58.1548 1727.87 49.9314 Q1727.87 41.7081 1724.47 37.0496 Q1721.06 32.3505 1715.15 32.3505 Q1709.24 32.3505 1705.83 37.0496 Q1702.47 41.7081 1702.47 49.9314 Z\" fill=\"#000000\" fill-rule=\"evenodd\" fill-opacity=\"1\" /><path clip-path=\"url(#clip650)\" d=\"M1758.05 14.324 L1758.05 27.2059 L1773.4 27.2059 L1773.4 32.9987 L1758.05 32.9987 L1758.05 57.6282 Q1758.05 63.1779 1759.55 64.7578 Q1761.09 66.3376 1765.75 66.3376 L1773.4 66.3376 L1773.4 72.576 L1765.75 72.576 Q1757.12 72.576 1753.84 69.3758 Q1750.55 66.1351 1750.55 57.6282 L1750.55 32.9987 L1745.09 32.9987 L1745.09 27.2059 L1750.55 27.2059 L1750.55 14.324 L1758.05 14.324 Z\" fill=\"#000000\" fill-rule=\"evenodd\" fill-opacity=\"1\" /><circle clip-path=\"url(#clip652)\" cx=\"274.149\" cy=\"1416.32\" r=\"14\" fill=\"#009af9\" fill-rule=\"evenodd\" fill-opacity=\"1\" stroke=\"#000000\" stroke-opacity=\"1\" stroke-width=\"3.2\"/>\n",
       "<circle clip-path=\"url(#clip652)\" cx=\"386.264\" cy=\"165.608\" r=\"14\" fill=\"#009af9\" fill-rule=\"evenodd\" fill-opacity=\"1\" stroke=\"#000000\" stroke-opacity=\"1\" stroke-width=\"3.2\"/>\n",
       "<circle clip-path=\"url(#clip652)\" cx=\"498.379\" cy=\"1447.87\" r=\"14\" fill=\"#009af9\" fill-rule=\"evenodd\" fill-opacity=\"1\" stroke=\"#000000\" stroke-opacity=\"1\" stroke-width=\"3.2\"/>\n",
       "<circle clip-path=\"url(#clip652)\" cx=\"610.494\" cy=\"162.047\" r=\"14\" fill=\"#009af9\" fill-rule=\"evenodd\" fill-opacity=\"1\" stroke=\"#000000\" stroke-opacity=\"1\" stroke-width=\"3.2\"/>\n",
       "<circle clip-path=\"url(#clip652)\" cx=\"722.608\" cy=\"1346.48\" r=\"14\" fill=\"#009af9\" fill-rule=\"evenodd\" fill-opacity=\"1\" stroke=\"#000000\" stroke-opacity=\"1\" stroke-width=\"3.2\"/>\n",
       "<circle clip-path=\"url(#clip652)\" cx=\"834.723\" cy=\"174.402\" r=\"14\" fill=\"#009af9\" fill-rule=\"evenodd\" fill-opacity=\"1\" stroke=\"#000000\" stroke-opacity=\"1\" stroke-width=\"3.2\"/>\n",
       "<circle clip-path=\"url(#clip652)\" cx=\"946.838\" cy=\"1320.84\" r=\"14\" fill=\"#009af9\" fill-rule=\"evenodd\" fill-opacity=\"1\" stroke=\"#000000\" stroke-opacity=\"1\" stroke-width=\"3.2\"/>\n",
       "<circle clip-path=\"url(#clip652)\" cx=\"1058.95\" cy=\"198.843\" r=\"14\" fill=\"#009af9\" fill-rule=\"evenodd\" fill-opacity=\"1\" stroke=\"#000000\" stroke-opacity=\"1\" stroke-width=\"3.2\"/>\n",
       "<circle clip-path=\"url(#clip652)\" cx=\"1171.07\" cy=\"1188.67\" r=\"14\" fill=\"#009af9\" fill-rule=\"evenodd\" fill-opacity=\"1\" stroke=\"#000000\" stroke-opacity=\"1\" stroke-width=\"3.2\"/>\n",
       "<circle clip-path=\"url(#clip652)\" cx=\"1283.18\" cy=\"235.075\" r=\"14\" fill=\"#009af9\" fill-rule=\"evenodd\" fill-opacity=\"1\" stroke=\"#000000\" stroke-opacity=\"1\" stroke-width=\"3.2\"/>\n",
       "<circle clip-path=\"url(#clip652)\" cx=\"1395.3\" cy=\"1187.74\" r=\"14\" fill=\"#009af9\" fill-rule=\"evenodd\" fill-opacity=\"1\" stroke=\"#000000\" stroke-opacity=\"1\" stroke-width=\"3.2\"/>\n",
       "<circle clip-path=\"url(#clip652)\" cx=\"1507.41\" cy=\"283.999\" r=\"14\" fill=\"#009af9\" fill-rule=\"evenodd\" fill-opacity=\"1\" stroke=\"#000000\" stroke-opacity=\"1\" stroke-width=\"3.2\"/>\n",
       "<circle clip-path=\"url(#clip652)\" cx=\"1619.53\" cy=\"1064.82\" r=\"14\" fill=\"#009af9\" fill-rule=\"evenodd\" fill-opacity=\"1\" stroke=\"#000000\" stroke-opacity=\"1\" stroke-width=\"3.2\"/>\n",
       "<circle clip-path=\"url(#clip652)\" cx=\"1731.64\" cy=\"347.604\" r=\"14\" fill=\"#009af9\" fill-rule=\"evenodd\" fill-opacity=\"1\" stroke=\"#000000\" stroke-opacity=\"1\" stroke-width=\"3.2\"/>\n",
       "<circle clip-path=\"url(#clip652)\" cx=\"1843.76\" cy=\"957.917\" r=\"14\" fill=\"#009af9\" fill-rule=\"evenodd\" fill-opacity=\"1\" stroke=\"#000000\" stroke-opacity=\"1\" stroke-width=\"3.2\"/>\n",
       "<circle clip-path=\"url(#clip652)\" cx=\"1955.87\" cy=\"429.61\" r=\"14\" fill=\"#009af9\" fill-rule=\"evenodd\" fill-opacity=\"1\" stroke=\"#000000\" stroke-opacity=\"1\" stroke-width=\"3.2\"/>\n",
       "<circle clip-path=\"url(#clip652)\" cx=\"2067.98\" cy=\"958.088\" r=\"14\" fill=\"#009af9\" fill-rule=\"evenodd\" fill-opacity=\"1\" stroke=\"#000000\" stroke-opacity=\"1\" stroke-width=\"3.2\"/>\n",
       "<circle clip-path=\"url(#clip652)\" cx=\"2180.1\" cy=\"557.411\" r=\"14\" fill=\"#009af9\" fill-rule=\"evenodd\" fill-opacity=\"1\" stroke=\"#000000\" stroke-opacity=\"1\" stroke-width=\"3.2\"/>\n",
       "<circle clip-path=\"url(#clip652)\" cx=\"2292.21\" cy=\"826.453\" r=\"14\" fill=\"#009af9\" fill-rule=\"evenodd\" fill-opacity=\"1\" stroke=\"#000000\" stroke-opacity=\"1\" stroke-width=\"3.2\"/>\n",
       "<path clip-path=\"url(#clip650)\" d=\"\n",
       "M1965.12 324.425 L2281.45 324.425 L2281.45 168.905 L1965.12 168.905  Z\n",
       "  \" fill=\"#ffffff\" fill-rule=\"evenodd\" fill-opacity=\"1\"/>\n",
       "<polyline clip-path=\"url(#clip650)\" style=\"stroke:#000000; stroke-linecap:butt; stroke-linejoin:round; stroke-width:4; stroke-opacity:1; fill:none\" points=\"\n",
       "  1965.12,324.425 2281.45,324.425 2281.45,168.905 1965.12,168.905 1965.12,324.425 \n",
       "  \"/>\n",
       "<circle clip-path=\"url(#clip650)\" cx=\"2060.2\" cy=\"246.665\" r=\"34\" fill=\"#009af9\" fill-rule=\"evenodd\" fill-opacity=\"1\" stroke=\"#000000\" stroke-opacity=\"1\" stroke-width=\"7.68\"/>\n",
       "<path clip-path=\"url(#clip650)\" d=\"M2176.03 276.196 Q2173.32 283.14 2170.75 285.258 Q2168.19 287.376 2163.88 287.376 L2158.78 287.376 L2158.78 282.029 L2162.53 282.029 Q2165.16 282.029 2166.62 280.779 Q2168.08 279.529 2169.85 274.876 L2171 271.96 L2155.27 233.696 L2162.04 233.696 L2174.19 264.112 L2186.35 233.696 L2193.12 233.696 L2176.03 276.196 Z\" fill=\"#000000\" fill-rule=\"evenodd\" fill-opacity=\"1\" /><path clip-path=\"url(#clip650)\" d=\"M2204.05 266.682 L2215.51 266.682 L2215.51 227.134 L2203.05 229.633 L2203.05 223.245 L2215.44 220.745 L2222.46 220.745 L2222.46 266.682 L2233.91 266.682 L2233.91 272.585 L2204.05 272.585 L2204.05 266.682 Z\" fill=\"#000000\" fill-rule=\"evenodd\" fill-opacity=\"1\" /></svg>\n"
      ]
     },
     "execution_count": 24,
     "metadata": {},
     "output_type": "execute_result"
    }
   ],
   "source": [
    "x = LinRange(-1, 1, 20)\n",
    "A = vander(x)\n",
    "Q, _ = gram_schmidt_classical(A)\n",
    "v = A[:,end]\n",
    "@show norm(v)\n",
    "scatter(abs.(Q[:,1:end-1]' * v), yscale=:log10, title=\"Classical Gram-Schmidt\")"
   ]
  },
  {
   "cell_type": "code",
   "execution_count": 25,
   "id": "f79de86b",
   "metadata": {
    "cell_style": "split"
   },
   "outputs": [
    {
     "data": {
      "image/svg+xml": [
       "<?xml version=\"1.0\" encoding=\"utf-8\"?>\n",
       "<svg xmlns=\"http://www.w3.org/2000/svg\" xmlns:xlink=\"http://www.w3.org/1999/xlink\" width=\"600\" height=\"400\" viewBox=\"0 0 2400 1600\">\n",
       "<defs>\n",
       "  <clipPath id=\"clip690\">\n",
       "    <rect x=\"0\" y=\"0\" width=\"2400\" height=\"1600\"/>\n",
       "  </clipPath>\n",
       "</defs>\n",
       "<path clip-path=\"url(#clip690)\" d=\"\n",
       "M0 1600 L2400 1600 L2400 0 L0 0  Z\n",
       "  \" fill=\"#ffffff\" fill-rule=\"evenodd\" fill-opacity=\"1\"/>\n",
       "<defs>\n",
       "  <clipPath id=\"clip691\">\n",
       "    <rect x=\"480\" y=\"0\" width=\"1681\" height=\"1600\"/>\n",
       "  </clipPath>\n",
       "</defs>\n",
       "<path clip-path=\"url(#clip690)\" d=\"\n",
       "M213.607 1486.45 L2352.76 1486.45 L2352.76 123.472 L213.607 123.472  Z\n",
       "  \" fill=\"#ffffff\" fill-rule=\"evenodd\" fill-opacity=\"1\"/>\n",
       "<defs>\n",
       "  <clipPath id=\"clip692\">\n",
       "    <rect x=\"213\" y=\"123\" width=\"2140\" height=\"1364\"/>\n",
       "  </clipPath>\n",
       "</defs>\n",
       "<polyline clip-path=\"url(#clip692)\" style=\"stroke:#000000; stroke-linecap:butt; stroke-linejoin:round; stroke-width:2; stroke-opacity:0.1; fill:none\" points=\"\n",
       "  442.321,1486.45 442.321,123.472 \n",
       "  \"/>\n",
       "<polyline clip-path=\"url(#clip692)\" style=\"stroke:#000000; stroke-linecap:butt; stroke-linejoin:round; stroke-width:2; stroke-opacity:0.1; fill:none\" points=\"\n",
       "  722.608,1486.45 722.608,123.472 \n",
       "  \"/>\n",
       "<polyline clip-path=\"url(#clip692)\" style=\"stroke:#000000; stroke-linecap:butt; stroke-linejoin:round; stroke-width:2; stroke-opacity:0.1; fill:none\" points=\"\n",
       "  1002.89,1486.45 1002.89,123.472 \n",
       "  \"/>\n",
       "<polyline clip-path=\"url(#clip692)\" style=\"stroke:#000000; stroke-linecap:butt; stroke-linejoin:round; stroke-width:2; stroke-opacity:0.1; fill:none\" points=\"\n",
       "  1283.18,1486.45 1283.18,123.472 \n",
       "  \"/>\n",
       "<polyline clip-path=\"url(#clip692)\" style=\"stroke:#000000; stroke-linecap:butt; stroke-linejoin:round; stroke-width:2; stroke-opacity:0.1; fill:none\" points=\"\n",
       "  1563.47,1486.45 1563.47,123.472 \n",
       "  \"/>\n",
       "<polyline clip-path=\"url(#clip692)\" style=\"stroke:#000000; stroke-linecap:butt; stroke-linejoin:round; stroke-width:2; stroke-opacity:0.1; fill:none\" points=\"\n",
       "  1843.76,1486.45 1843.76,123.472 \n",
       "  \"/>\n",
       "<polyline clip-path=\"url(#clip692)\" style=\"stroke:#000000; stroke-linecap:butt; stroke-linejoin:round; stroke-width:2; stroke-opacity:0.1; fill:none\" points=\"\n",
       "  2124.04,1486.45 2124.04,123.472 \n",
       "  \"/>\n",
       "<polyline clip-path=\"url(#clip690)\" style=\"stroke:#000000; stroke-linecap:butt; stroke-linejoin:round; stroke-width:4; stroke-opacity:1; fill:none\" points=\"\n",
       "  213.607,1486.45 2352.76,1486.45 \n",
       "  \"/>\n",
       "<polyline clip-path=\"url(#clip690)\" style=\"stroke:#000000; stroke-linecap:butt; stroke-linejoin:round; stroke-width:4; stroke-opacity:1; fill:none\" points=\"\n",
       "  442.321,1486.45 442.321,1467.55 \n",
       "  \"/>\n",
       "<polyline clip-path=\"url(#clip690)\" style=\"stroke:#000000; stroke-linecap:butt; stroke-linejoin:round; stroke-width:4; stroke-opacity:1; fill:none\" points=\"\n",
       "  722.608,1486.45 722.608,1467.55 \n",
       "  \"/>\n",
       "<polyline clip-path=\"url(#clip690)\" style=\"stroke:#000000; stroke-linecap:butt; stroke-linejoin:round; stroke-width:4; stroke-opacity:1; fill:none\" points=\"\n",
       "  1002.89,1486.45 1002.89,1467.55 \n",
       "  \"/>\n",
       "<polyline clip-path=\"url(#clip690)\" style=\"stroke:#000000; stroke-linecap:butt; stroke-linejoin:round; stroke-width:4; stroke-opacity:1; fill:none\" points=\"\n",
       "  1283.18,1486.45 1283.18,1467.55 \n",
       "  \"/>\n",
       "<polyline clip-path=\"url(#clip690)\" style=\"stroke:#000000; stroke-linecap:butt; stroke-linejoin:round; stroke-width:4; stroke-opacity:1; fill:none\" points=\"\n",
       "  1563.47,1486.45 1563.47,1467.55 \n",
       "  \"/>\n",
       "<polyline clip-path=\"url(#clip690)\" style=\"stroke:#000000; stroke-linecap:butt; stroke-linejoin:round; stroke-width:4; stroke-opacity:1; fill:none\" points=\"\n",
       "  1843.76,1486.45 1843.76,1467.55 \n",
       "  \"/>\n",
       "<polyline clip-path=\"url(#clip690)\" style=\"stroke:#000000; stroke-linecap:butt; stroke-linejoin:round; stroke-width:4; stroke-opacity:1; fill:none\" points=\"\n",
       "  2124.04,1486.45 2124.04,1467.55 \n",
       "  \"/>\n",
       "<path clip-path=\"url(#clip690)\" d=\"M414.058 1544.91 L430.377 1544.91 L430.377 1548.85 L408.433 1548.85 L408.433 1544.91 Q411.095 1542.16 415.678 1537.53 Q420.285 1532.88 421.465 1531.53 Q423.71 1529.01 424.59 1527.27 Q425.493 1525.51 425.493 1523.82 Q425.493 1521.07 423.548 1519.33 Q421.627 1517.6 418.525 1517.6 Q416.326 1517.6 413.873 1518.36 Q411.442 1519.13 408.664 1520.68 L408.664 1515.95 Q411.488 1514.82 413.942 1514.24 Q416.396 1513.66 418.433 1513.66 Q423.803 1513.66 426.997 1516.35 Q430.192 1519.03 430.192 1523.52 Q430.192 1525.65 429.382 1527.57 Q428.595 1529.47 426.488 1532.07 Q425.91 1532.74 422.808 1535.95 Q419.706 1539.15 414.058 1544.91 Z\" fill=\"#000000\" fill-rule=\"evenodd\" fill-opacity=\"1\" /><path clip-path=\"url(#clip690)\" d=\"M440.192 1542.97 L445.076 1542.97 L445.076 1548.85 L440.192 1548.85 L440.192 1542.97 Z\" fill=\"#000000\" fill-rule=\"evenodd\" fill-opacity=\"1\" /><path clip-path=\"url(#clip690)\" d=\"M455.308 1514.29 L473.664 1514.29 L473.664 1518.22 L459.59 1518.22 L459.59 1526.7 Q460.608 1526.35 461.627 1526.19 Q462.645 1526 463.664 1526 Q469.451 1526 472.831 1529.17 Q476.21 1532.34 476.21 1537.76 Q476.21 1543.34 472.738 1546.44 Q469.266 1549.52 462.946 1549.52 Q460.77 1549.52 458.502 1549.15 Q456.257 1548.78 453.849 1548.04 L453.849 1543.34 Q455.932 1544.47 458.155 1545.03 Q460.377 1545.58 462.854 1545.58 Q466.858 1545.58 469.196 1543.48 Q471.534 1541.37 471.534 1537.76 Q471.534 1534.15 469.196 1532.04 Q466.858 1529.94 462.854 1529.94 Q460.979 1529.94 459.104 1530.35 Q457.252 1530.77 455.308 1531.65 L455.308 1514.29 Z\" fill=\"#000000\" fill-rule=\"evenodd\" fill-opacity=\"1\" /><path clip-path=\"url(#clip690)\" d=\"M689.773 1514.29 L708.129 1514.29 L708.129 1518.22 L694.055 1518.22 L694.055 1526.7 Q695.074 1526.35 696.092 1526.19 Q697.111 1526 698.129 1526 Q703.916 1526 707.296 1529.17 Q710.675 1532.34 710.675 1537.76 Q710.675 1543.34 707.203 1546.44 Q703.731 1549.52 697.412 1549.52 Q695.236 1549.52 692.967 1549.15 Q690.722 1548.78 688.314 1548.04 L688.314 1543.34 Q690.398 1544.47 692.62 1545.03 Q694.842 1545.58 697.319 1545.58 Q701.324 1545.58 703.662 1543.48 Q705.999 1541.37 705.999 1537.76 Q705.999 1534.15 703.662 1532.04 Q701.324 1529.94 697.319 1529.94 Q695.444 1529.94 693.569 1530.35 Q691.717 1530.77 689.773 1531.65 L689.773 1514.29 Z\" fill=\"#000000\" fill-rule=\"evenodd\" fill-opacity=\"1\" /><path clip-path=\"url(#clip690)\" d=\"M719.888 1542.97 L724.773 1542.97 L724.773 1548.85 L719.888 1548.85 L719.888 1542.97 Z\" fill=\"#000000\" fill-rule=\"evenodd\" fill-opacity=\"1\" /><path clip-path=\"url(#clip690)\" d=\"M744.958 1517.37 Q741.347 1517.37 739.518 1520.93 Q737.712 1524.47 737.712 1531.6 Q737.712 1538.71 739.518 1542.27 Q741.347 1545.82 744.958 1545.82 Q748.592 1545.82 750.397 1542.27 Q752.226 1538.71 752.226 1531.6 Q752.226 1524.47 750.397 1520.93 Q748.592 1517.37 744.958 1517.37 M744.958 1513.66 Q750.768 1513.66 753.823 1518.27 Q756.902 1522.85 756.902 1531.6 Q756.902 1540.33 753.823 1544.94 Q750.768 1549.52 744.958 1549.52 Q739.147 1549.52 736.069 1544.94 Q733.013 1540.33 733.013 1531.6 Q733.013 1522.85 736.069 1518.27 Q739.147 1513.66 744.958 1513.66 Z\" fill=\"#000000\" fill-rule=\"evenodd\" fill-opacity=\"1\" /><path clip-path=\"url(#clip690)\" d=\"M969.215 1514.29 L991.437 1514.29 L991.437 1516.28 L978.89 1548.85 L974.006 1548.85 L985.812 1518.22 L969.215 1518.22 L969.215 1514.29 Z\" fill=\"#000000\" fill-rule=\"evenodd\" fill-opacity=\"1\" /><path clip-path=\"url(#clip690)\" d=\"M1000.56 1542.97 L1005.44 1542.97 L1005.44 1548.85 L1000.56 1548.85 L1000.56 1542.97 Z\" fill=\"#000000\" fill-rule=\"evenodd\" fill-opacity=\"1\" /><path clip-path=\"url(#clip690)\" d=\"M1015.67 1514.29 L1034.03 1514.29 L1034.03 1518.22 L1019.96 1518.22 L1019.96 1526.7 Q1020.97 1526.35 1021.99 1526.19 Q1023.01 1526 1024.03 1526 Q1029.82 1526 1033.2 1529.17 Q1036.58 1532.34 1036.58 1537.76 Q1036.58 1543.34 1033.1 1546.44 Q1029.63 1549.52 1023.31 1549.52 Q1021.14 1549.52 1018.87 1549.15 Q1016.62 1548.78 1014.21 1548.04 L1014.21 1543.34 Q1016.3 1544.47 1018.52 1545.03 Q1020.74 1545.58 1023.22 1545.58 Q1027.22 1545.58 1029.56 1543.48 Q1031.9 1541.37 1031.9 1537.76 Q1031.9 1534.15 1029.56 1532.04 Q1027.22 1529.94 1023.22 1529.94 Q1021.34 1529.94 1019.47 1530.35 Q1017.62 1530.77 1015.67 1531.65 L1015.67 1514.29 Z\" fill=\"#000000\" fill-rule=\"evenodd\" fill-opacity=\"1\" /><path clip-path=\"url(#clip690)\" d=\"M1235.25 1544.91 L1242.89 1544.91 L1242.89 1518.55 L1234.58 1520.21 L1234.58 1515.95 L1242.85 1514.29 L1247.52 1514.29 L1247.52 1544.91 L1255.16 1544.91 L1255.16 1548.85 L1235.25 1548.85 L1235.25 1544.91 Z\" fill=\"#000000\" fill-rule=\"evenodd\" fill-opacity=\"1\" /><path clip-path=\"url(#clip690)\" d=\"M1274.61 1517.37 Q1270.99 1517.37 1269.17 1520.93 Q1267.36 1524.47 1267.36 1531.6 Q1267.36 1538.71 1269.17 1542.27 Q1270.99 1545.82 1274.61 1545.82 Q1278.24 1545.82 1280.05 1542.27 Q1281.87 1538.71 1281.87 1531.6 Q1281.87 1524.47 1280.05 1520.93 Q1278.24 1517.37 1274.61 1517.37 M1274.61 1513.66 Q1280.42 1513.66 1283.47 1518.27 Q1286.55 1522.85 1286.55 1531.6 Q1286.55 1540.33 1283.47 1544.94 Q1280.42 1549.52 1274.61 1549.52 Q1268.8 1549.52 1265.72 1544.94 Q1262.66 1540.33 1262.66 1531.6 Q1262.66 1522.85 1265.72 1518.27 Q1268.8 1513.66 1274.61 1513.66 Z\" fill=\"#000000\" fill-rule=\"evenodd\" fill-opacity=\"1\" /><path clip-path=\"url(#clip690)\" d=\"M1294.77 1542.97 L1299.65 1542.97 L1299.65 1548.85 L1294.77 1548.85 L1294.77 1542.97 Z\" fill=\"#000000\" fill-rule=\"evenodd\" fill-opacity=\"1\" /><path clip-path=\"url(#clip690)\" d=\"M1319.84 1517.37 Q1316.23 1517.37 1314.4 1520.93 Q1312.59 1524.47 1312.59 1531.6 Q1312.59 1538.71 1314.4 1542.27 Q1316.23 1545.82 1319.84 1545.82 Q1323.47 1545.82 1325.28 1542.27 Q1327.11 1538.71 1327.11 1531.6 Q1327.11 1524.47 1325.28 1520.93 Q1323.47 1517.37 1319.84 1517.37 M1319.84 1513.66 Q1325.65 1513.66 1328.7 1518.27 Q1331.78 1522.85 1331.78 1531.6 Q1331.78 1540.33 1328.7 1544.94 Q1325.65 1549.52 1319.84 1549.52 Q1314.03 1549.52 1310.95 1544.94 Q1307.89 1540.33 1307.89 1531.6 Q1307.89 1522.85 1310.95 1518.27 Q1314.03 1513.66 1319.84 1513.66 Z\" fill=\"#000000\" fill-rule=\"evenodd\" fill-opacity=\"1\" /><path clip-path=\"url(#clip690)\" d=\"M1516.04 1544.91 L1523.68 1544.91 L1523.68 1518.55 L1515.37 1520.21 L1515.37 1515.95 L1523.63 1514.29 L1528.31 1514.29 L1528.31 1544.91 L1535.95 1544.91 L1535.95 1548.85 L1516.04 1548.85 L1516.04 1544.91 Z\" fill=\"#000000\" fill-rule=\"evenodd\" fill-opacity=\"1\" /><path clip-path=\"url(#clip690)\" d=\"M1549.42 1544.91 L1565.74 1544.91 L1565.74 1548.85 L1543.79 1548.85 L1543.79 1544.91 Q1546.45 1542.16 1551.04 1537.53 Q1555.64 1532.88 1556.82 1531.53 Q1559.07 1529.01 1559.95 1527.27 Q1560.85 1525.51 1560.85 1523.82 Q1560.85 1521.07 1558.91 1519.33 Q1556.99 1517.6 1553.89 1517.6 Q1551.69 1517.6 1549.23 1518.36 Q1546.8 1519.13 1544.02 1520.68 L1544.02 1515.95 Q1546.85 1514.82 1549.3 1514.24 Q1551.76 1513.66 1553.79 1513.66 Q1559.16 1513.66 1562.36 1516.35 Q1565.55 1519.03 1565.55 1523.52 Q1565.55 1525.65 1564.74 1527.57 Q1563.95 1529.47 1561.85 1532.07 Q1561.27 1532.74 1558.17 1535.95 Q1555.07 1539.15 1549.42 1544.91 Z\" fill=\"#000000\" fill-rule=\"evenodd\" fill-opacity=\"1\" /><path clip-path=\"url(#clip690)\" d=\"M1575.55 1542.97 L1580.44 1542.97 L1580.44 1548.85 L1575.55 1548.85 L1575.55 1542.97 Z\" fill=\"#000000\" fill-rule=\"evenodd\" fill-opacity=\"1\" /><path clip-path=\"url(#clip690)\" d=\"M1590.67 1514.29 L1609.02 1514.29 L1609.02 1518.22 L1594.95 1518.22 L1594.95 1526.7 Q1595.97 1526.35 1596.99 1526.19 Q1598.01 1526 1599.02 1526 Q1604.81 1526 1608.19 1529.17 Q1611.57 1532.34 1611.57 1537.76 Q1611.57 1543.34 1608.1 1546.44 Q1604.63 1549.52 1598.31 1549.52 Q1596.13 1549.52 1593.86 1549.15 Q1591.62 1548.78 1589.21 1548.04 L1589.21 1543.34 Q1591.29 1544.47 1593.51 1545.03 Q1595.74 1545.58 1598.21 1545.58 Q1602.22 1545.58 1604.56 1543.48 Q1606.89 1541.37 1606.89 1537.76 Q1606.89 1534.15 1604.56 1532.04 Q1602.22 1529.94 1598.21 1529.94 Q1596.34 1529.94 1594.46 1530.35 Q1592.61 1530.77 1590.67 1531.65 L1590.67 1514.29 Z\" fill=\"#000000\" fill-rule=\"evenodd\" fill-opacity=\"1\" /><path clip-path=\"url(#clip690)\" d=\"M1795.83 1544.91 L1803.47 1544.91 L1803.47 1518.55 L1795.16 1520.21 L1795.16 1515.95 L1803.42 1514.29 L1808.1 1514.29 L1808.1 1544.91 L1815.73 1544.91 L1815.73 1548.85 L1795.83 1548.85 L1795.83 1544.91 Z\" fill=\"#000000\" fill-rule=\"evenodd\" fill-opacity=\"1\" /><path clip-path=\"url(#clip690)\" d=\"M1825.23 1514.29 L1843.58 1514.29 L1843.58 1518.22 L1829.51 1518.22 L1829.51 1526.7 Q1830.53 1526.35 1831.54 1526.19 Q1832.56 1526 1833.58 1526 Q1839.37 1526 1842.75 1529.17 Q1846.13 1532.34 1846.13 1537.76 Q1846.13 1543.34 1842.66 1546.44 Q1839.18 1549.52 1832.86 1549.52 Q1830.69 1549.52 1828.42 1549.15 Q1826.17 1548.78 1823.77 1548.04 L1823.77 1543.34 Q1825.85 1544.47 1828.07 1545.03 Q1830.29 1545.58 1832.77 1545.58 Q1836.78 1545.58 1839.11 1543.48 Q1841.45 1541.37 1841.45 1537.76 Q1841.45 1534.15 1839.11 1532.04 Q1836.78 1529.94 1832.77 1529.94 Q1830.9 1529.94 1829.02 1530.35 Q1827.17 1530.77 1825.23 1531.65 L1825.23 1514.29 Z\" fill=\"#000000\" fill-rule=\"evenodd\" fill-opacity=\"1\" /><path clip-path=\"url(#clip690)\" d=\"M1855.34 1542.97 L1860.22 1542.97 L1860.22 1548.85 L1855.34 1548.85 L1855.34 1542.97 Z\" fill=\"#000000\" fill-rule=\"evenodd\" fill-opacity=\"1\" /><path clip-path=\"url(#clip690)\" d=\"M1880.41 1517.37 Q1876.8 1517.37 1874.97 1520.93 Q1873.16 1524.47 1873.16 1531.6 Q1873.16 1538.71 1874.97 1542.27 Q1876.8 1545.82 1880.41 1545.82 Q1884.04 1545.82 1885.85 1542.27 Q1887.68 1538.71 1887.68 1531.6 Q1887.68 1524.47 1885.85 1520.93 Q1884.04 1517.37 1880.41 1517.37 M1880.41 1513.66 Q1886.22 1513.66 1889.28 1518.27 Q1892.35 1522.85 1892.35 1531.6 Q1892.35 1540.33 1889.28 1544.94 Q1886.22 1549.52 1880.41 1549.52 Q1874.6 1549.52 1871.52 1544.94 Q1868.47 1540.33 1868.47 1531.6 Q1868.47 1522.85 1871.52 1518.27 Q1874.6 1513.66 1880.41 1513.66 Z\" fill=\"#000000\" fill-rule=\"evenodd\" fill-opacity=\"1\" /><path clip-path=\"url(#clip690)\" d=\"M2076.61 1544.91 L2084.25 1544.91 L2084.25 1518.55 L2075.94 1520.21 L2075.94 1515.95 L2084.2 1514.29 L2088.88 1514.29 L2088.88 1544.91 L2096.52 1544.91 L2096.52 1548.85 L2076.61 1548.85 L2076.61 1544.91 Z\" fill=\"#000000\" fill-rule=\"evenodd\" fill-opacity=\"1\" /><path clip-path=\"url(#clip690)\" d=\"M2104.78 1514.29 L2127 1514.29 L2127 1516.28 L2114.46 1548.85 L2109.57 1548.85 L2121.38 1518.22 L2104.78 1518.22 L2104.78 1514.29 Z\" fill=\"#000000\" fill-rule=\"evenodd\" fill-opacity=\"1\" /><path clip-path=\"url(#clip690)\" d=\"M2136.13 1542.97 L2141.01 1542.97 L2141.01 1548.85 L2136.13 1548.85 L2136.13 1542.97 Z\" fill=\"#000000\" fill-rule=\"evenodd\" fill-opacity=\"1\" /><path clip-path=\"url(#clip690)\" d=\"M2151.24 1514.29 L2169.6 1514.29 L2169.6 1518.22 L2155.52 1518.22 L2155.52 1526.7 Q2156.54 1526.35 2157.56 1526.19 Q2158.58 1526 2159.6 1526 Q2165.38 1526 2168.76 1529.17 Q2172.14 1532.34 2172.14 1537.76 Q2172.14 1543.34 2168.67 1546.44 Q2165.2 1549.52 2158.88 1549.52 Q2156.7 1549.52 2154.44 1549.15 Q2152.19 1548.78 2149.78 1548.04 L2149.78 1543.34 Q2151.87 1544.47 2154.09 1545.03 Q2156.31 1545.58 2158.79 1545.58 Q2162.79 1545.58 2165.13 1543.48 Q2167.47 1541.37 2167.47 1537.76 Q2167.47 1534.15 2165.13 1532.04 Q2162.79 1529.94 2158.79 1529.94 Q2156.91 1529.94 2155.04 1530.35 Q2153.19 1530.77 2151.24 1531.65 L2151.24 1514.29 Z\" fill=\"#000000\" fill-rule=\"evenodd\" fill-opacity=\"1\" /><polyline clip-path=\"url(#clip692)\" style=\"stroke:#000000; stroke-linecap:butt; stroke-linejoin:round; stroke-width:2; stroke-opacity:0.1; fill:none\" points=\"\n",
       "  213.607,960.516 2352.76,960.516 \n",
       "  \"/>\n",
       "<polyline clip-path=\"url(#clip692)\" style=\"stroke:#000000; stroke-linecap:butt; stroke-linejoin:round; stroke-width:2; stroke-opacity:0.1; fill:none\" points=\"\n",
       "  213.607,158.88 2352.76,158.88 \n",
       "  \"/>\n",
       "<polyline clip-path=\"url(#clip690)\" style=\"stroke:#000000; stroke-linecap:butt; stroke-linejoin:round; stroke-width:4; stroke-opacity:1; fill:none\" points=\"\n",
       "  213.607,1486.45 213.607,123.472 \n",
       "  \"/>\n",
       "<polyline clip-path=\"url(#clip690)\" style=\"stroke:#000000; stroke-linecap:butt; stroke-linejoin:round; stroke-width:4; stroke-opacity:1; fill:none\" points=\"\n",
       "  213.607,960.516 232.505,960.516 \n",
       "  \"/>\n",
       "<polyline clip-path=\"url(#clip690)\" style=\"stroke:#000000; stroke-linecap:butt; stroke-linejoin:round; stroke-width:4; stroke-opacity:1; fill:none\" points=\"\n",
       "  213.607,158.88 232.505,158.88 \n",
       "  \"/>\n",
       "<path clip-path=\"url(#clip690)\" d=\"M51.6634 980.309 L59.3023 980.309 L59.3023 953.943 L50.9921 955.61 L50.9921 951.35 L59.256 949.684 L63.9319 949.684 L63.9319 980.309 L71.5707 980.309 L71.5707 984.244 L51.6634 984.244 L51.6634 980.309 Z\" fill=\"#000000\" fill-rule=\"evenodd\" fill-opacity=\"1\" /><path clip-path=\"url(#clip690)\" d=\"M91.0151 952.763 Q87.404 952.763 85.5753 956.327 Q83.7697 959.869 83.7697 966.999 Q83.7697 974.105 85.5753 977.67 Q87.404 981.211 91.0151 981.211 Q94.6493 981.211 96.4548 977.67 Q98.2835 974.105 98.2835 966.999 Q98.2835 959.869 96.4548 956.327 Q94.6493 952.763 91.0151 952.763 M91.0151 949.059 Q96.8252 949.059 99.8808 953.665 Q102.959 958.249 102.959 966.999 Q102.959 975.725 99.8808 980.332 Q96.8252 984.915 91.0151 984.915 Q85.2049 984.915 82.1262 980.332 Q79.0707 975.725 79.0707 966.999 Q79.0707 958.249 82.1262 953.665 Q85.2049 949.059 91.0151 949.059 Z\" fill=\"#000000\" fill-rule=\"evenodd\" fill-opacity=\"1\" /><path clip-path=\"url(#clip690)\" d=\"M102.959 943.16 L127.071 943.16 L127.071 946.357 L102.959 946.357 L102.959 943.16 Z\" fill=\"#000000\" fill-rule=\"evenodd\" fill-opacity=\"1\" /><path clip-path=\"url(#clip690)\" d=\"M135.929 953.636 L142.136 953.636 L142.136 932.214 L135.384 933.568 L135.384 930.108 L142.098 928.753 L145.898 928.753 L145.898 953.636 L152.104 953.636 L152.104 956.833 L135.929 956.833 L135.929 953.636 Z\" fill=\"#000000\" fill-rule=\"evenodd\" fill-opacity=\"1\" /><path clip-path=\"url(#clip690)\" d=\"M167.903 931.255 Q164.969 931.255 163.483 934.151 Q162.016 937.029 162.016 942.822 Q162.016 948.596 163.483 951.492 Q164.969 954.37 167.903 954.37 Q170.855 954.37 172.322 951.492 Q173.808 948.596 173.808 942.822 Q173.808 937.029 172.322 934.151 Q170.855 931.255 167.903 931.255 M167.903 928.246 Q172.623 928.246 175.106 931.988 Q177.607 935.712 177.607 942.822 Q177.607 949.912 175.106 953.655 Q172.623 957.379 167.903 957.379 Q163.182 957.379 160.68 953.655 Q158.198 949.912 158.198 942.822 Q158.198 935.712 160.68 931.988 Q163.182 928.246 167.903 928.246 Z\" fill=\"#000000\" fill-rule=\"evenodd\" fill-opacity=\"1\" /><path clip-path=\"url(#clip690)\" d=\"M106.902 178.673 L114.541 178.673 L114.541 152.307 L106.231 153.974 L106.231 149.715 L114.494 148.048 L119.17 148.048 L119.17 178.673 L126.809 178.673 L126.809 182.608 L106.902 182.608 L106.902 178.673 Z\" fill=\"#000000\" fill-rule=\"evenodd\" fill-opacity=\"1\" /><path clip-path=\"url(#clip690)\" d=\"M146.253 151.127 Q142.642 151.127 140.814 154.691 Q139.008 158.233 139.008 165.363 Q139.008 172.469 140.814 176.034 Q142.642 179.575 146.253 179.575 Q149.888 179.575 151.693 176.034 Q153.522 172.469 153.522 165.363 Q153.522 158.233 151.693 154.691 Q149.888 151.127 146.253 151.127 M146.253 147.423 Q152.064 147.423 155.119 152.029 Q158.198 156.613 158.198 165.363 Q158.198 174.089 155.119 178.696 Q152.064 183.279 146.253 183.279 Q140.443 183.279 137.365 178.696 Q134.309 174.089 134.309 165.363 Q134.309 156.613 137.365 152.029 Q140.443 147.423 146.253 147.423 Z\" fill=\"#000000\" fill-rule=\"evenodd\" fill-opacity=\"1\" /><path clip-path=\"url(#clip690)\" d=\"M167.903 129.619 Q164.969 129.619 163.483 132.515 Q162.016 135.393 162.016 141.186 Q162.016 146.96 163.483 149.856 Q164.969 152.734 167.903 152.734 Q170.855 152.734 172.322 149.856 Q173.808 146.96 173.808 141.186 Q173.808 135.393 172.322 132.515 Q170.855 129.619 167.903 129.619 M167.903 126.61 Q172.623 126.61 175.106 130.352 Q177.607 134.076 177.607 141.186 Q177.607 148.276 175.106 152.019 Q172.623 155.743 167.903 155.743 Q163.182 155.743 160.68 152.019 Q158.198 148.276 158.198 141.186 Q158.198 134.076 160.68 130.352 Q163.182 126.61 167.903 126.61 Z\" fill=\"#000000\" fill-rule=\"evenodd\" fill-opacity=\"1\" /><path clip-path=\"url(#clip690)\" d=\"M951.696 12.096 L959.879 12.096 L959.879 36.8875 L989.613 36.8875 L989.613 12.096 L997.795 12.096 L997.795 72.576 L989.613 72.576 L989.613 43.7741 L959.879 43.7741 L959.879 72.576 L951.696 72.576 L951.696 12.096 Z\" fill=\"#000000\" fill-rule=\"evenodd\" fill-opacity=\"1\" /><path clip-path=\"url(#clip690)\" d=\"M1031.34 32.4315 Q1025.34 32.4315 1021.86 37.1306 Q1018.37 41.7891 1018.37 49.9314 Q1018.37 58.0738 1021.82 62.7728 Q1025.3 67.4314 1031.34 67.4314 Q1037.29 67.4314 1040.78 62.7323 Q1044.26 58.0333 1044.26 49.9314 Q1044.26 41.8701 1040.78 37.1711 Q1037.29 32.4315 1031.34 32.4315 M1031.34 26.1121 Q1041.06 26.1121 1046.61 32.4315 Q1052.16 38.7509 1052.16 49.9314 Q1052.16 61.0714 1046.61 67.4314 Q1041.06 73.7508 1031.34 73.7508 Q1021.57 73.7508 1016.02 67.4314 Q1010.52 61.0714 1010.52 49.9314 Q1010.52 38.7509 1016.02 32.4315 Q1021.57 26.1121 1031.34 26.1121 Z\" fill=\"#000000\" fill-rule=\"evenodd\" fill-opacity=\"1\" /><path clip-path=\"url(#clip690)\" d=\"M1063.74 54.671 L1063.74 27.2059 L1071.2 27.2059 L1071.2 54.3874 Q1071.2 60.8284 1073.71 64.0691 Q1076.22 67.2693 1081.24 67.2693 Q1087.28 67.2693 1090.76 63.421 Q1094.29 59.5726 1094.29 52.9291 L1094.29 27.2059 L1101.74 27.2059 L1101.74 72.576 L1094.29 72.576 L1094.29 65.6084 Q1091.57 69.7404 1087.97 71.7658 Q1084.4 73.7508 1079.66 73.7508 Q1071.85 73.7508 1067.8 68.8897 Q1063.74 64.0286 1063.74 54.671 M1082.5 26.1121 L1082.5 26.1121 Z\" fill=\"#000000\" fill-rule=\"evenodd\" fill-opacity=\"1\" /><path clip-path=\"url(#clip690)\" d=\"M1146.02 28.5427 L1146.02 35.5912 Q1142.86 33.9709 1139.46 33.1607 Q1136.05 32.3505 1132.41 32.3505 Q1126.86 32.3505 1124.06 34.0519 Q1121.31 35.7533 1121.31 39.156 Q1121.31 41.7486 1123.29 43.2475 Q1125.28 44.7058 1131.27 46.0426 L1133.82 46.6097 Q1141.76 48.3111 1145.09 51.4303 Q1148.45 54.509 1148.45 60.0587 Q1148.45 66.3781 1143.43 70.0644 Q1138.44 73.7508 1129.69 73.7508 Q1126.05 73.7508 1122.08 73.0216 Q1118.15 72.3329 1113.77 70.9151 L1113.77 63.2184 Q1117.9 65.3654 1121.92 66.4591 Q1125.93 67.5124 1129.85 67.5124 Q1135.12 67.5124 1137.96 65.73 Q1140.79 63.9071 1140.79 60.6258 Q1140.79 57.5877 1138.73 55.9673 Q1136.7 54.3469 1129.77 52.8481 L1127.18 52.2405 Q1120.25 50.7821 1117.18 47.7845 Q1114.1 44.7463 1114.1 39.4801 Q1114.1 33.0797 1118.63 29.5959 Q1123.17 26.1121 1131.52 26.1121 Q1135.65 26.1121 1139.29 26.7198 Q1142.94 27.3274 1146.02 28.5427 Z\" fill=\"#000000\" fill-rule=\"evenodd\" fill-opacity=\"1\" /><path clip-path=\"url(#clip690)\" d=\"M1199.13 48.0275 L1199.13 51.6733 L1164.85 51.6733 Q1165.34 59.3701 1169.47 63.421 Q1173.65 67.4314 1181.06 67.4314 Q1185.35 67.4314 1189.36 66.3781 Q1193.41 65.3249 1197.38 63.2184 L1197.38 70.267 Q1193.37 71.9684 1189.16 72.8596 Q1184.95 73.7508 1180.61 73.7508 Q1169.76 73.7508 1163.4 67.4314 Q1157.08 61.1119 1157.08 50.3365 Q1157.08 39.1965 1163.07 32.6746 Q1169.11 26.1121 1179.32 26.1121 Q1188.47 26.1121 1193.78 32.0264 Q1199.13 37.9003 1199.13 48.0275 M1191.67 45.84 Q1191.59 39.7232 1188.23 36.0774 Q1184.91 32.4315 1179.4 32.4315 Q1173.16 32.4315 1169.39 35.9558 Q1165.66 39.4801 1165.1 45.8805 L1191.67 45.84 Z\" fill=\"#000000\" fill-rule=\"evenodd\" fill-opacity=\"1\" /><path clip-path=\"url(#clip690)\" d=\"M1249.07 45.1919 L1249.07 72.576 L1241.62 72.576 L1241.62 45.4349 Q1241.62 38.994 1239.11 35.7938 Q1236.6 32.5936 1231.57 32.5936 Q1225.54 32.5936 1222.05 36.4419 Q1218.57 40.2903 1218.57 46.9338 L1218.57 72.576 L1211.08 72.576 L1211.08 9.54393 L1218.57 9.54393 L1218.57 34.2544 Q1221.24 30.163 1224.85 28.1376 Q1228.49 26.1121 1233.23 26.1121 Q1241.05 26.1121 1245.06 30.9732 Q1249.07 35.7938 1249.07 45.1919 Z\" fill=\"#000000\" fill-rule=\"evenodd\" fill-opacity=\"1\" /><path clip-path=\"url(#clip690)\" d=\"M1281.52 32.4315 Q1275.53 32.4315 1272.04 37.1306 Q1268.56 41.7891 1268.56 49.9314 Q1268.56 58.0738 1272 62.7728 Q1275.48 67.4314 1281.52 67.4314 Q1287.48 67.4314 1290.96 62.7323 Q1294.44 58.0333 1294.44 49.9314 Q1294.44 41.8701 1290.96 37.1711 Q1287.48 32.4315 1281.52 32.4315 M1281.52 26.1121 Q1291.24 26.1121 1296.79 32.4315 Q1302.34 38.7509 1302.34 49.9314 Q1302.34 61.0714 1296.79 67.4314 Q1291.24 73.7508 1281.52 73.7508 Q1271.76 73.7508 1266.21 67.4314 Q1260.7 61.0714 1260.7 49.9314 Q1260.7 38.7509 1266.21 32.4315 Q1271.76 26.1121 1281.52 26.1121 Z\" fill=\"#000000\" fill-rule=\"evenodd\" fill-opacity=\"1\" /><path clip-path=\"url(#clip690)\" d=\"M1314.7 9.54393 L1322.15 9.54393 L1322.15 72.576 L1314.7 72.576 L1314.7 9.54393 Z\" fill=\"#000000\" fill-rule=\"evenodd\" fill-opacity=\"1\" /><path clip-path=\"url(#clip690)\" d=\"M1367.6 34.0924 L1367.6 9.54393 L1375.06 9.54393 L1375.06 72.576 L1367.6 72.576 L1367.6 65.7705 Q1365.25 69.8214 1361.65 71.8063 Q1358.08 73.7508 1353.06 73.7508 Q1344.84 73.7508 1339.65 67.1883 Q1334.51 60.6258 1334.51 49.9314 Q1334.51 39.2371 1339.65 32.6746 Q1344.84 26.1121 1353.06 26.1121 Q1358.08 26.1121 1361.65 28.0971 Q1365.25 30.0415 1367.6 34.0924 M1342.2 49.9314 Q1342.2 58.1548 1345.57 62.8538 Q1348.97 67.5124 1354.88 67.5124 Q1360.8 67.5124 1364.2 62.8538 Q1367.6 58.1548 1367.6 49.9314 Q1367.6 41.7081 1364.2 37.0496 Q1360.8 32.3505 1354.88 32.3505 Q1348.97 32.3505 1345.57 37.0496 Q1342.2 41.7081 1342.2 49.9314 Z\" fill=\"#000000\" fill-rule=\"evenodd\" fill-opacity=\"1\" /><path clip-path=\"url(#clip690)\" d=\"M1429.22 48.0275 L1429.22 51.6733 L1394.95 51.6733 Q1395.43 59.3701 1399.56 63.421 Q1403.74 67.4314 1411.15 67.4314 Q1415.44 67.4314 1419.45 66.3781 Q1423.51 65.3249 1427.47 63.2184 L1427.47 70.267 Q1423.46 71.9684 1419.25 72.8596 Q1415.04 73.7508 1410.7 73.7508 Q1399.85 73.7508 1393.49 67.4314 Q1387.17 61.1119 1387.17 50.3365 Q1387.17 39.1965 1393.16 32.6746 Q1399.2 26.1121 1409.41 26.1121 Q1418.56 26.1121 1423.87 32.0264 Q1429.22 37.9003 1429.22 48.0275 M1421.76 45.84 Q1421.68 39.7232 1418.32 36.0774 Q1415 32.4315 1409.49 32.4315 Q1403.25 32.4315 1399.48 35.9558 Q1395.76 39.4801 1395.19 45.8805 L1421.76 45.84 Z\" fill=\"#000000\" fill-rule=\"evenodd\" fill-opacity=\"1\" /><path clip-path=\"url(#clip690)\" d=\"M1467.74 34.1734 Q1466.49 33.4443 1464.99 33.1202 Q1463.53 32.7556 1461.75 32.7556 Q1455.43 32.7556 1452.02 36.8875 Q1448.66 40.9789 1448.66 48.6757 L1448.66 72.576 L1441.17 72.576 L1441.17 27.2059 L1448.66 27.2059 L1448.66 34.2544 Q1451.01 30.1225 1454.78 28.1376 Q1458.55 26.1121 1463.93 26.1121 Q1464.7 26.1121 1465.63 26.2337 Q1466.57 26.3147 1467.7 26.5172 L1467.74 34.1734 Z\" fill=\"#000000\" fill-rule=\"evenodd\" fill-opacity=\"1\" /><path clip-path=\"url(#clip690)\" d=\"M1526.8 17.6457 Q1517.89 17.6457 1512.62 24.2892 Q1507.4 30.9327 1507.4 42.3968 Q1507.4 53.8203 1512.62 60.4638 Q1517.89 67.1073 1526.8 67.1073 Q1535.72 67.1073 1540.9 60.4638 Q1546.13 53.8203 1546.13 42.3968 Q1546.13 30.9327 1540.9 24.2892 Q1535.72 17.6457 1526.8 17.6457 M1538.27 71.4823 L1549.04 83.2704 L1539.16 83.2704 L1530.21 73.5887 Q1528.87 73.6697 1528.14 73.7103 Q1527.45 73.7508 1526.8 73.7508 Q1514.04 73.7508 1506.39 65.2439 Q1498.77 56.6965 1498.77 42.3968 Q1498.77 28.0566 1506.39 19.5497 Q1514.04 11.0023 1526.8 11.0023 Q1539.52 11.0023 1547.14 19.5497 Q1554.75 28.0566 1554.75 42.3968 Q1554.75 52.9291 1550.5 60.4233 Q1546.29 67.9175 1538.27 71.4823 Z\" fill=\"#000000\" fill-rule=\"evenodd\" fill-opacity=\"1\" /><path clip-path=\"url(#clip690)\" d=\"M1596.24 44.2197 Q1598.87 45.1109 1601.34 48.0275 Q1603.85 50.9442 1606.36 56.0483 L1614.67 72.576 L1605.88 72.576 L1598.14 57.061 Q1595.14 50.9847 1592.31 48.9997 Q1589.51 47.0148 1584.65 47.0148 L1575.74 47.0148 L1575.74 72.576 L1567.56 72.576 L1567.56 12.096 L1586.03 12.096 Q1596.4 12.096 1601.5 16.4305 Q1606.61 20.7649 1606.61 29.5149 Q1606.61 35.2267 1603.93 38.994 Q1601.3 42.7613 1596.24 44.2197 M1575.74 18.8205 L1575.74 40.2903 L1586.03 40.2903 Q1591.94 40.2903 1594.94 37.5762 Q1597.98 34.8216 1597.98 29.5149 Q1597.98 24.2082 1594.94 21.5346 Q1591.94 18.8205 1586.03 18.8205 L1575.74 18.8205 Z\" fill=\"#000000\" fill-rule=\"evenodd\" fill-opacity=\"1\" /><circle clip-path=\"url(#clip692)\" cx=\"274.149\" cy=\"1447.87\" r=\"14\" fill=\"#009af9\" fill-rule=\"evenodd\" fill-opacity=\"1\" stroke=\"#000000\" stroke-opacity=\"1\" stroke-width=\"3.2\"/>\n",
       "<circle clip-path=\"url(#clip692)\" cx=\"386.264\" cy=\"165.647\" r=\"14\" fill=\"#009af9\" fill-rule=\"evenodd\" fill-opacity=\"1\" stroke=\"#000000\" stroke-opacity=\"1\" stroke-width=\"3.2\"/>\n",
       "<circle clip-path=\"url(#clip692)\" cx=\"498.379\" cy=\"1405.96\" r=\"14\" fill=\"#009af9\" fill-rule=\"evenodd\" fill-opacity=\"1\" stroke=\"#000000\" stroke-opacity=\"1\" stroke-width=\"3.2\"/>\n",
       "<circle clip-path=\"url(#clip692)\" cx=\"610.494\" cy=\"162.047\" r=\"14\" fill=\"#009af9\" fill-rule=\"evenodd\" fill-opacity=\"1\" stroke=\"#000000\" stroke-opacity=\"1\" stroke-width=\"3.2\"/>\n",
       "<circle clip-path=\"url(#clip692)\" cx=\"722.608\" cy=\"1423.74\" r=\"14\" fill=\"#009af9\" fill-rule=\"evenodd\" fill-opacity=\"1\" stroke=\"#000000\" stroke-opacity=\"1\" stroke-width=\"3.2\"/>\n",
       "<circle clip-path=\"url(#clip692)\" cx=\"834.723\" cy=\"174.538\" r=\"14\" fill=\"#009af9\" fill-rule=\"evenodd\" fill-opacity=\"1\" stroke=\"#000000\" stroke-opacity=\"1\" stroke-width=\"3.2\"/>\n",
       "<circle clip-path=\"url(#clip692)\" cx=\"946.838\" cy=\"1413.73\" r=\"14\" fill=\"#009af9\" fill-rule=\"evenodd\" fill-opacity=\"1\" stroke=\"#000000\" stroke-opacity=\"1\" stroke-width=\"3.2\"/>\n",
       "<circle clip-path=\"url(#clip692)\" cx=\"1058.95\" cy=\"199.247\" r=\"14\" fill=\"#009af9\" fill-rule=\"evenodd\" fill-opacity=\"1\" stroke=\"#000000\" stroke-opacity=\"1\" stroke-width=\"3.2\"/>\n",
       "<circle clip-path=\"url(#clip692)\" cx=\"1171.07\" cy=\"1333.13\" r=\"14\" fill=\"#009af9\" fill-rule=\"evenodd\" fill-opacity=\"1\" stroke=\"#000000\" stroke-opacity=\"1\" stroke-width=\"3.2\"/>\n",
       "<circle clip-path=\"url(#clip692)\" cx=\"1283.18\" cy=\"235.877\" r=\"14\" fill=\"#009af9\" fill-rule=\"evenodd\" fill-opacity=\"1\" stroke=\"#000000\" stroke-opacity=\"1\" stroke-width=\"3.2\"/>\n",
       "<circle clip-path=\"url(#clip692)\" cx=\"1395.3\" cy=\"1363.87\" r=\"14\" fill=\"#009af9\" fill-rule=\"evenodd\" fill-opacity=\"1\" stroke=\"#000000\" stroke-opacity=\"1\" stroke-width=\"3.2\"/>\n",
       "<circle clip-path=\"url(#clip692)\" cx=\"1507.41\" cy=\"285.337\" r=\"14\" fill=\"#009af9\" fill-rule=\"evenodd\" fill-opacity=\"1\" stroke=\"#000000\" stroke-opacity=\"1\" stroke-width=\"3.2\"/>\n",
       "<circle clip-path=\"url(#clip692)\" cx=\"1619.53\" cy=\"1366.85\" r=\"14\" fill=\"#009af9\" fill-rule=\"evenodd\" fill-opacity=\"1\" stroke=\"#000000\" stroke-opacity=\"1\" stroke-width=\"3.2\"/>\n",
       "<circle clip-path=\"url(#clip692)\" cx=\"1731.64\" cy=\"349.641\" r=\"14\" fill=\"#009af9\" fill-rule=\"evenodd\" fill-opacity=\"1\" stroke=\"#000000\" stroke-opacity=\"1\" stroke-width=\"3.2\"/>\n",
       "<circle clip-path=\"url(#clip692)\" cx=\"1843.76\" cy=\"1354.38\" r=\"14\" fill=\"#009af9\" fill-rule=\"evenodd\" fill-opacity=\"1\" stroke=\"#000000\" stroke-opacity=\"1\" stroke-width=\"3.2\"/>\n",
       "<circle clip-path=\"url(#clip692)\" cx=\"1955.87\" cy=\"432.578\" r=\"14\" fill=\"#009af9\" fill-rule=\"evenodd\" fill-opacity=\"1\" stroke=\"#000000\" stroke-opacity=\"1\" stroke-width=\"3.2\"/>\n",
       "<circle clip-path=\"url(#clip692)\" cx=\"2067.98\" cy=\"1401.31\" r=\"14\" fill=\"#009af9\" fill-rule=\"evenodd\" fill-opacity=\"1\" stroke=\"#000000\" stroke-opacity=\"1\" stroke-width=\"3.2\"/>\n",
       "<circle clip-path=\"url(#clip692)\" cx=\"2180.1\" cy=\"542.011\" r=\"14\" fill=\"#009af9\" fill-rule=\"evenodd\" fill-opacity=\"1\" stroke=\"#000000\" stroke-opacity=\"1\" stroke-width=\"3.2\"/>\n",
       "<circle clip-path=\"url(#clip692)\" cx=\"2292.21\" cy=\"1414.13\" r=\"14\" fill=\"#009af9\" fill-rule=\"evenodd\" fill-opacity=\"1\" stroke=\"#000000\" stroke-opacity=\"1\" stroke-width=\"3.2\"/>\n",
       "<path clip-path=\"url(#clip690)\" d=\"\n",
       "M1965.12 324.425 L2281.45 324.425 L2281.45 168.905 L1965.12 168.905  Z\n",
       "  \" fill=\"#ffffff\" fill-rule=\"evenodd\" fill-opacity=\"1\"/>\n",
       "<polyline clip-path=\"url(#clip690)\" style=\"stroke:#000000; stroke-linecap:butt; stroke-linejoin:round; stroke-width:4; stroke-opacity:1; fill:none\" points=\"\n",
       "  1965.12,324.425 2281.45,324.425 2281.45,168.905 1965.12,168.905 1965.12,324.425 \n",
       "  \"/>\n",
       "<circle clip-path=\"url(#clip690)\" cx=\"2060.2\" cy=\"246.665\" r=\"34\" fill=\"#009af9\" fill-rule=\"evenodd\" fill-opacity=\"1\" stroke=\"#000000\" stroke-opacity=\"1\" stroke-width=\"7.68\"/>\n",
       "<path clip-path=\"url(#clip690)\" d=\"M2176.03 276.196 Q2173.32 283.14 2170.75 285.258 Q2168.19 287.376 2163.88 287.376 L2158.78 287.376 L2158.78 282.029 L2162.53 282.029 Q2165.16 282.029 2166.62 280.779 Q2168.08 279.529 2169.85 274.876 L2171 271.96 L2155.27 233.696 L2162.04 233.696 L2174.19 264.112 L2186.35 233.696 L2193.12 233.696 L2176.03 276.196 Z\" fill=\"#000000\" fill-rule=\"evenodd\" fill-opacity=\"1\" /><path clip-path=\"url(#clip690)\" d=\"M2204.05 266.682 L2215.51 266.682 L2215.51 227.134 L2203.05 229.633 L2203.05 223.245 L2215.44 220.745 L2222.46 220.745 L2222.46 266.682 L2233.91 266.682 L2233.91 272.585 L2204.05 272.585 L2204.05 266.682 Z\" fill=\"#000000\" fill-rule=\"evenodd\" fill-opacity=\"1\" /></svg>\n"
      ]
     },
     "execution_count": 25,
     "metadata": {},
     "output_type": "execute_result"
    }
   ],
   "source": [
    "Q = reflectors_to_dense(qr_householder(A)[1])\n",
    "scatter(abs.(Q[:,1:end-1]' * v), yscale=:log10, title=\"Householder QR\")"
   ]
  }
 ],
 "metadata": {
  "@webio": {
   "lastCommId": null,
   "lastKernelId": null
  },
  "celltoolbar": "Slideshow",
  "hide_code_all_hidden": false,
  "kernelspec": {
   "display_name": "Julia 1.7.1",
   "language": "julia",
   "name": "julia-1.7"
  },
  "language_info": {
   "file_extension": ".jl",
   "mimetype": "application/julia",
   "name": "julia",
   "version": "1.7.2"
  },
  "rise": {
   "enable_chalkboard": true
  }
 },
 "nbformat": 4,
 "nbformat_minor": 5
}
