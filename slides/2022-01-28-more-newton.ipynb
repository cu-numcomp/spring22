{
 "cells": [
  {
   "cell_type": "markdown",
   "id": "4159be0e",
   "metadata": {
    "hideCode": false,
    "hidePrompt": false,
    "slideshow": {
     "slide_type": "slide"
    }
   },
   "source": [
    "# 2022-01-28 More Newton\n",
    "\n",
    "Monday (Jan 31) is virtual.\n",
    "\n",
    "## Last time\n",
    "\n",
    "* Newton's method via Taylor series\n",
    "* Convergence theory for fixed point methods\n",
    "\n",
    "## Today\n",
    "\n",
    "* Derive Newton's method via fixed point convergence theory\n",
    "* Newton methods in computing culture\n",
    "* Breaking Newton's method\n",
    "* Exploration"
   ]
  },
  {
   "cell_type": "code",
   "execution_count": 3,
   "id": "eb781a7a",
   "metadata": {
    "slideshow": {
     "slide_type": "skip"
    }
   },
   "outputs": [
    {
     "data": {
      "text/plain": [
       "fp (generic function with 1 method)"
      ]
     },
     "execution_count": 3,
     "metadata": {},
     "output_type": "execute_result"
    }
   ],
   "source": [
    "using Plots\n",
    "default(linewidth=4, legendfontsize=12)\n",
    "\n",
    "function newton(f, fp, x0; tol=1e-8, verbose=false)\n",
    "    x = x0\n",
    "    for k in 1:100 # max number of iterations\n",
    "        fx = f(x)\n",
    "        fpx = fp(x)\n",
    "        if verbose\n",
    "            println(\"[$k] x=$x  f(x)=$fx  f'(x)=$fpx\")\n",
    "        end\n",
    "        if abs(fx) < tol\n",
    "            return x, fx, k\n",
    "        end\n",
    "        x = x - fx / fpx\n",
    "    end  \n",
    "end\n",
    "\n",
    "f(x) = cos(x) - x\n",
    "fp(x) = -sin(x) - 1"
   ]
  },
  {
   "cell_type": "markdown",
   "id": "ca87ee9c",
   "metadata": {
    "slideshow": {
     "slide_type": "slide"
    }
   },
   "source": [
    "# Newton-Raphson Method (by Taylor Series)\n",
    "\n",
    "Much of numerical analysis reduces to [Taylor series](https://en.wikipedia.org/wiki/Taylor_series), the approximation\n",
    "$$ f(x) = f(x_0) + f'(x_0) (x-x_0) + f''(x_0) (x - x_0)^2 / 2 + \\underbrace{\\dotsb}_{O((x-x_0)^3)} $$\n",
    "centered on some reference point $x_0$.\n",
    "\n",
    "In numerical computation, it is exceedingly rare to look beyond the first-order approximation\n",
    "$$ \\tilde f_{x_0}(x) = f(x_0) + f'(x_0)(x - x_0) . $$\n",
    "Since $\\tilde f_{x_0}(x)$ is a linear function, we can explicitly compute the unique solution of $\\tilde f_{x_0}(x) = 0$ as\n",
    "$$ x = x_0 - \\frac{f(x_0)}{f'(x_0)} . $$\n",
    "This is Newton's Method (aka Newton-Raphson or Newton-Raphson-Simpson) for finding the roots of differentiable functions."
   ]
  },
  {
   "cell_type": "markdown",
   "id": "28c45386",
   "metadata": {
    "slideshow": {
     "slide_type": "slide"
    }
   },
   "source": [
    "# Convergence of fixed-point (by Taylor Series)"
   ]
  },
  {
   "cell_type": "markdown",
   "id": "5b341cff",
   "metadata": {
    "cell_style": "split"
   },
   "source": [
    "Consider the iteration\n",
    "$$x_{k+1} = g(x_k)$$\n",
    "where $g$ is a continuously differentiable function.\n",
    "Suppose that there exists a fixed point $x_* = g(x_*)$. There exists a Taylor series at $x_*$,\n",
    "$$ g(x_k) = g(x_*) + g'(x_*)(x_k - x_*) + O((x_k-x_*)^2) $$\n",
    "and thus\n",
    "\\begin{align}\n",
    "x_{k+1} - x_* &= g(x_k) - g(x_*) \\\\\n",
    "&= g'(x_*) (x_k - x_*) + O((x_k - x_*)^2).\n",
    "\\end{align}"
   ]
  },
  {
   "cell_type": "markdown",
   "id": "a489e86f",
   "metadata": {
    "cell_style": "split"
   },
   "source": [
    "In terms of the error $e_k = x_k - x_*$,\n",
    "$$ \\left\\lvert \\frac{e_{k+1}}{e_k} \\right\\rvert = \\lvert g'(x_*) \\rvert + O(e_k).$$\n",
    "\n",
    "\n",
    "\n",
    "Recall the definition of q-linear convergence\n",
    "$$ \\lim_{k\\to\\infty} \\left\\lvert \\frac{e_{k+1}}{e_k} \\right\\rvert = \\rho < 1. $$"
   ]
  },
  {
   "cell_type": "markdown",
   "id": "ebfdc94f",
   "metadata": {
    "slideshow": {
     "slide_type": "slide"
    }
   },
   "source": [
    "# Example of a fixed point iteration\n",
    "\n",
    "We wanted to solve $\\cos x - x = 0$, which occurs when $g(x) = \\cos x$ is a fixed point."
   ]
  },
  {
   "cell_type": "code",
   "execution_count": 4,
   "id": "1fafaa6b",
   "metadata": {
    "cell_style": "split"
   },
   "outputs": [
    {
     "name": "stdout",
     "output_type": "stream",
     "text": [
      "xstar = 0.739085133385284\n",
      "gp(xstar) = -0.6736120293089505\n"
     ]
    },
    {
     "data": {
      "image/svg+xml": [
       "<?xml version=\"1.0\" encoding=\"utf-8\"?>\n",
       "<svg xmlns=\"http://www.w3.org/2000/svg\" xmlns:xlink=\"http://www.w3.org/1999/xlink\" width=\"600\" height=\"400\" viewBox=\"0 0 2400 1600\">\n",
       "<defs>\n",
       "  <clipPath id=\"clip760\">\n",
       "    <rect x=\"0\" y=\"0\" width=\"2400\" height=\"1600\"/>\n",
       "  </clipPath>\n",
       "</defs>\n",
       "<path clip-path=\"url(#clip760)\" d=\"\n",
       "M0 1600 L2400 1600 L2400 0 L0 0  Z\n",
       "  \" fill=\"#ffffff\" fill-rule=\"evenodd\" fill-opacity=\"1\"/>\n",
       "<defs>\n",
       "  <clipPath id=\"clip761\">\n",
       "    <rect x=\"480\" y=\"0\" width=\"1681\" height=\"1600\"/>\n",
       "  </clipPath>\n",
       "</defs>\n",
       "<path clip-path=\"url(#clip760)\" d=\"\n",
       "M147.478 1486.45 L2352.76 1486.45 L2352.76 47.2441 L147.478 47.2441  Z\n",
       "  \" fill=\"#ffffff\" fill-rule=\"evenodd\" fill-opacity=\"1\"/>\n",
       "<defs>\n",
       "  <clipPath id=\"clip762\">\n",
       "    <rect x=\"147\" y=\"47\" width=\"2206\" height=\"1440\"/>\n",
       "  </clipPath>\n",
       "</defs>\n",
       "<polyline clip-path=\"url(#clip762)\" style=\"stroke:#000000; stroke-linecap:butt; stroke-linejoin:round; stroke-width:2; stroke-opacity:0.1; fill:none\" points=\"\n",
       "  147.478,1486.45 147.478,47.2441 \n",
       "  \"/>\n",
       "<polyline clip-path=\"url(#clip762)\" style=\"stroke:#000000; stroke-linecap:butt; stroke-linejoin:round; stroke-width:2; stroke-opacity:0.1; fill:none\" points=\"\n",
       "  588.534,1486.45 588.534,47.2441 \n",
       "  \"/>\n",
       "<polyline clip-path=\"url(#clip762)\" style=\"stroke:#000000; stroke-linecap:butt; stroke-linejoin:round; stroke-width:2; stroke-opacity:0.1; fill:none\" points=\"\n",
       "  1029.59,1486.45 1029.59,47.2441 \n",
       "  \"/>\n",
       "<polyline clip-path=\"url(#clip762)\" style=\"stroke:#000000; stroke-linecap:butt; stroke-linejoin:round; stroke-width:2; stroke-opacity:0.1; fill:none\" points=\"\n",
       "  1470.64,1486.45 1470.64,47.2441 \n",
       "  \"/>\n",
       "<polyline clip-path=\"url(#clip762)\" style=\"stroke:#000000; stroke-linecap:butt; stroke-linejoin:round; stroke-width:2; stroke-opacity:0.1; fill:none\" points=\"\n",
       "  1911.7,1486.45 1911.7,47.2441 \n",
       "  \"/>\n",
       "<polyline clip-path=\"url(#clip762)\" style=\"stroke:#000000; stroke-linecap:butt; stroke-linejoin:round; stroke-width:2; stroke-opacity:0.1; fill:none\" points=\"\n",
       "  2352.76,1486.45 2352.76,47.2441 \n",
       "  \"/>\n",
       "<polyline clip-path=\"url(#clip760)\" style=\"stroke:#000000; stroke-linecap:butt; stroke-linejoin:round; stroke-width:4; stroke-opacity:1; fill:none\" points=\"\n",
       "  147.478,1486.45 2352.76,1486.45 \n",
       "  \"/>\n",
       "<polyline clip-path=\"url(#clip760)\" style=\"stroke:#000000; stroke-linecap:butt; stroke-linejoin:round; stroke-width:4; stroke-opacity:1; fill:none\" points=\"\n",
       "  147.478,1486.45 147.478,1467.55 \n",
       "  \"/>\n",
       "<polyline clip-path=\"url(#clip760)\" style=\"stroke:#000000; stroke-linecap:butt; stroke-linejoin:round; stroke-width:4; stroke-opacity:1; fill:none\" points=\"\n",
       "  588.534,1486.45 588.534,1467.55 \n",
       "  \"/>\n",
       "<polyline clip-path=\"url(#clip760)\" style=\"stroke:#000000; stroke-linecap:butt; stroke-linejoin:round; stroke-width:4; stroke-opacity:1; fill:none\" points=\"\n",
       "  1029.59,1486.45 1029.59,1467.55 \n",
       "  \"/>\n",
       "<polyline clip-path=\"url(#clip760)\" style=\"stroke:#000000; stroke-linecap:butt; stroke-linejoin:round; stroke-width:4; stroke-opacity:1; fill:none\" points=\"\n",
       "  1470.64,1486.45 1470.64,1467.55 \n",
       "  \"/>\n",
       "<polyline clip-path=\"url(#clip760)\" style=\"stroke:#000000; stroke-linecap:butt; stroke-linejoin:round; stroke-width:4; stroke-opacity:1; fill:none\" points=\"\n",
       "  1911.7,1486.45 1911.7,1467.55 \n",
       "  \"/>\n",
       "<polyline clip-path=\"url(#clip760)\" style=\"stroke:#000000; stroke-linecap:butt; stroke-linejoin:round; stroke-width:4; stroke-opacity:1; fill:none\" points=\"\n",
       "  2352.76,1486.45 2352.76,1467.55 \n",
       "  \"/>\n",
       "<path clip-path=\"url(#clip760)\" d=\"M117.42 1532.02 L147.096 1532.02 L147.096 1535.95 L117.42 1535.95 L117.42 1532.02 Z\" fill=\"#000000\" fill-rule=\"evenodd\" fill-opacity=\"1\" /><path clip-path=\"url(#clip760)\" d=\"M161.216 1544.91 L177.536 1544.91 L177.536 1548.85 L155.591 1548.85 L155.591 1544.91 Q158.253 1542.16 162.837 1537.53 Q167.443 1532.88 168.624 1531.53 Q170.869 1529.01 171.749 1527.27 Q172.651 1525.51 172.651 1523.82 Q172.651 1521.07 170.707 1519.33 Q168.786 1517.6 165.684 1517.6 Q163.485 1517.6 161.031 1518.36 Q158.601 1519.13 155.823 1520.68 L155.823 1515.95 Q158.647 1514.82 161.101 1514.24 Q163.554 1513.66 165.591 1513.66 Q170.962 1513.66 174.156 1516.35 Q177.35 1519.03 177.35 1523.52 Q177.35 1525.65 176.54 1527.57 Q175.753 1529.47 173.647 1532.07 Q173.068 1532.74 169.966 1535.95 Q166.864 1539.15 161.216 1544.91 Z\" fill=\"#000000\" fill-rule=\"evenodd\" fill-opacity=\"1\" /><path clip-path=\"url(#clip760)\" d=\"M558.291 1532.02 L587.966 1532.02 L587.966 1535.95 L558.291 1535.95 L558.291 1532.02 Z\" fill=\"#000000\" fill-rule=\"evenodd\" fill-opacity=\"1\" /><path clip-path=\"url(#clip760)\" d=\"M598.869 1544.91 L606.508 1544.91 L606.508 1518.55 L598.198 1520.21 L598.198 1515.95 L606.462 1514.29 L611.138 1514.29 L611.138 1544.91 L618.776 1544.91 L618.776 1548.85 L598.869 1548.85 L598.869 1544.91 Z\" fill=\"#000000\" fill-rule=\"evenodd\" fill-opacity=\"1\" /><path clip-path=\"url(#clip760)\" d=\"M1029.59 1517.37 Q1025.98 1517.37 1024.15 1520.93 Q1022.34 1524.47 1022.34 1531.6 Q1022.34 1538.71 1024.15 1542.27 Q1025.98 1545.82 1029.59 1545.82 Q1033.22 1545.82 1035.03 1542.27 Q1036.86 1538.71 1036.86 1531.6 Q1036.86 1524.47 1035.03 1520.93 Q1033.22 1517.37 1029.59 1517.37 M1029.59 1513.66 Q1035.4 1513.66 1038.45 1518.27 Q1041.53 1522.85 1041.53 1531.6 Q1041.53 1540.33 1038.45 1544.94 Q1035.4 1549.52 1029.59 1549.52 Q1023.78 1549.52 1020.7 1544.94 Q1017.64 1540.33 1017.64 1531.6 Q1017.64 1522.85 1020.7 1518.27 Q1023.78 1513.66 1029.59 1513.66 Z\" fill=\"#000000\" fill-rule=\"evenodd\" fill-opacity=\"1\" /><path clip-path=\"url(#clip760)\" d=\"M1461.03 1544.91 L1468.67 1544.91 L1468.67 1518.55 L1460.36 1520.21 L1460.36 1515.95 L1468.62 1514.29 L1473.3 1514.29 L1473.3 1544.91 L1480.93 1544.91 L1480.93 1548.85 L1461.03 1548.85 L1461.03 1544.91 Z\" fill=\"#000000\" fill-rule=\"evenodd\" fill-opacity=\"1\" /><path clip-path=\"url(#clip760)\" d=\"M1906.35 1544.91 L1922.67 1544.91 L1922.67 1548.85 L1900.73 1548.85 L1900.73 1544.91 Q1903.39 1542.16 1907.97 1537.53 Q1912.58 1532.88 1913.76 1531.53 Q1916.01 1529.01 1916.89 1527.27 Q1917.79 1525.51 1917.79 1523.82 Q1917.79 1521.07 1915.84 1519.33 Q1913.92 1517.6 1910.82 1517.6 Q1908.62 1517.6 1906.17 1518.36 Q1903.74 1519.13 1900.96 1520.68 L1900.96 1515.95 Q1903.78 1514.82 1906.24 1514.24 Q1908.69 1513.66 1910.73 1513.66 Q1916.1 1513.66 1919.29 1516.35 Q1922.49 1519.03 1922.49 1523.52 Q1922.49 1525.65 1921.68 1527.57 Q1920.89 1529.47 1918.78 1532.07 Q1918.2 1532.74 1915.1 1535.95 Q1912 1539.15 1906.35 1544.91 Z\" fill=\"#000000\" fill-rule=\"evenodd\" fill-opacity=\"1\" /><path clip-path=\"url(#clip760)\" d=\"M2357 1530.21 Q2360.36 1530.93 2362.24 1533.2 Q2364.13 1535.47 2364.13 1538.8 Q2364.13 1543.92 2360.61 1546.72 Q2357.1 1549.52 2350.61 1549.52 Q2348.44 1549.52 2346.12 1549.08 Q2343.83 1548.66 2341.38 1547.81 L2341.38 1543.29 Q2343.32 1544.43 2345.64 1545.01 Q2347.95 1545.58 2350.48 1545.58 Q2354.87 1545.58 2357.17 1543.85 Q2359.48 1542.11 2359.48 1538.8 Q2359.48 1535.75 2357.33 1534.03 Q2355.2 1532.3 2351.38 1532.3 L2347.35 1532.3 L2347.35 1528.45 L2351.56 1528.45 Q2355.01 1528.45 2356.84 1527.09 Q2358.67 1525.7 2358.67 1523.11 Q2358.67 1520.45 2356.77 1519.03 Q2354.9 1517.6 2351.38 1517.6 Q2349.46 1517.6 2347.26 1518.01 Q2345.06 1518.43 2342.42 1519.31 L2342.42 1515.14 Q2345.08 1514.4 2347.4 1514.03 Q2349.74 1513.66 2351.8 1513.66 Q2357.12 1513.66 2360.22 1516.09 Q2363.32 1518.5 2363.32 1522.62 Q2363.32 1525.49 2361.68 1527.48 Q2360.04 1529.45 2357 1530.21 Z\" fill=\"#000000\" fill-rule=\"evenodd\" fill-opacity=\"1\" /><polyline clip-path=\"url(#clip762)\" style=\"stroke:#000000; stroke-linecap:butt; stroke-linejoin:round; stroke-width:2; stroke-opacity:0.1; fill:none\" points=\"\n",
       "  147.478,1445.72 2352.76,1445.72 \n",
       "  \"/>\n",
       "<polyline clip-path=\"url(#clip762)\" style=\"stroke:#000000; stroke-linecap:butt; stroke-linejoin:round; stroke-width:2; stroke-opacity:0.1; fill:none\" points=\"\n",
       "  147.478,1174.17 2352.76,1174.17 \n",
       "  \"/>\n",
       "<polyline clip-path=\"url(#clip762)\" style=\"stroke:#000000; stroke-linecap:butt; stroke-linejoin:round; stroke-width:2; stroke-opacity:0.1; fill:none\" points=\"\n",
       "  147.478,902.62 2352.76,902.62 \n",
       "  \"/>\n",
       "<polyline clip-path=\"url(#clip762)\" style=\"stroke:#000000; stroke-linecap:butt; stroke-linejoin:round; stroke-width:2; stroke-opacity:0.1; fill:none\" points=\"\n",
       "  147.478,631.072 2352.76,631.072 \n",
       "  \"/>\n",
       "<polyline clip-path=\"url(#clip762)\" style=\"stroke:#000000; stroke-linecap:butt; stroke-linejoin:round; stroke-width:2; stroke-opacity:0.1; fill:none\" points=\"\n",
       "  147.478,359.524 2352.76,359.524 \n",
       "  \"/>\n",
       "<polyline clip-path=\"url(#clip762)\" style=\"stroke:#000000; stroke-linecap:butt; stroke-linejoin:round; stroke-width:2; stroke-opacity:0.1; fill:none\" points=\"\n",
       "  147.478,87.9763 2352.76,87.9763 \n",
       "  \"/>\n",
       "<polyline clip-path=\"url(#clip760)\" style=\"stroke:#000000; stroke-linecap:butt; stroke-linejoin:round; stroke-width:4; stroke-opacity:1; fill:none\" points=\"\n",
       "  147.478,1486.45 147.478,47.2441 \n",
       "  \"/>\n",
       "<polyline clip-path=\"url(#clip760)\" style=\"stroke:#000000; stroke-linecap:butt; stroke-linejoin:round; stroke-width:4; stroke-opacity:1; fill:none\" points=\"\n",
       "  147.478,1445.72 166.376,1445.72 \n",
       "  \"/>\n",
       "<polyline clip-path=\"url(#clip760)\" style=\"stroke:#000000; stroke-linecap:butt; stroke-linejoin:round; stroke-width:4; stroke-opacity:1; fill:none\" points=\"\n",
       "  147.478,1174.17 166.376,1174.17 \n",
       "  \"/>\n",
       "<polyline clip-path=\"url(#clip760)\" style=\"stroke:#000000; stroke-linecap:butt; stroke-linejoin:round; stroke-width:4; stroke-opacity:1; fill:none\" points=\"\n",
       "  147.478,902.62 166.376,902.62 \n",
       "  \"/>\n",
       "<polyline clip-path=\"url(#clip760)\" style=\"stroke:#000000; stroke-linecap:butt; stroke-linejoin:round; stroke-width:4; stroke-opacity:1; fill:none\" points=\"\n",
       "  147.478,631.072 166.376,631.072 \n",
       "  \"/>\n",
       "<polyline clip-path=\"url(#clip760)\" style=\"stroke:#000000; stroke-linecap:butt; stroke-linejoin:round; stroke-width:4; stroke-opacity:1; fill:none\" points=\"\n",
       "  147.478,359.524 166.376,359.524 \n",
       "  \"/>\n",
       "<polyline clip-path=\"url(#clip760)\" style=\"stroke:#000000; stroke-linecap:butt; stroke-linejoin:round; stroke-width:4; stroke-opacity:1; fill:none\" points=\"\n",
       "  147.478,87.9763 166.376,87.9763 \n",
       "  \"/>\n",
       "<path clip-path=\"url(#clip760)\" d=\"M51.3625 1446.17 L81.0383 1446.17 L81.0383 1450.1 L51.3625 1450.1 L51.3625 1446.17 Z\" fill=\"#000000\" fill-rule=\"evenodd\" fill-opacity=\"1\" /><path clip-path=\"url(#clip760)\" d=\"M95.1586 1459.06 L111.478 1459.06 L111.478 1463 L89.5336 1463 L89.5336 1459.06 Q92.1956 1456.31 96.7789 1451.68 Q101.385 1447.02 102.566 1445.68 Q104.811 1443.16 105.691 1441.42 Q106.594 1439.66 106.594 1437.97 Q106.594 1435.22 104.649 1433.48 Q102.728 1431.75 99.6261 1431.75 Q97.4271 1431.75 94.9734 1432.51 Q92.5428 1433.27 89.7651 1434.82 L89.7651 1430.1 Q92.5891 1428.97 95.0428 1428.39 Q97.4965 1427.81 99.5335 1427.81 Q104.904 1427.81 108.098 1430.5 Q111.293 1433.18 111.293 1437.67 Q111.293 1439.8 110.483 1441.72 Q109.696 1443.62 107.589 1446.21 Q107.01 1446.88 103.909 1450.1 Q100.807 1453.3 95.1586 1459.06 Z\" fill=\"#000000\" fill-rule=\"evenodd\" fill-opacity=\"1\" /><path clip-path=\"url(#clip760)\" d=\"M50.9921 1174.62 L80.6679 1174.62 L80.6679 1178.55 L50.9921 1178.55 L50.9921 1174.62 Z\" fill=\"#000000\" fill-rule=\"evenodd\" fill-opacity=\"1\" /><path clip-path=\"url(#clip760)\" d=\"M91.5706 1187.51 L99.2095 1187.51 L99.2095 1161.15 L90.8993 1162.81 L90.8993 1158.55 L99.1632 1156.89 L103.839 1156.89 L103.839 1187.51 L111.478 1187.51 L111.478 1191.45 L91.5706 1191.45 L91.5706 1187.51 Z\" fill=\"#000000\" fill-rule=\"evenodd\" fill-opacity=\"1\" /><path clip-path=\"url(#clip760)\" d=\"M99.5335 888.419 Q95.9224 888.419 94.0937 891.983 Q92.2882 895.525 92.2882 902.655 Q92.2882 909.761 94.0937 913.326 Q95.9224 916.868 99.5335 916.868 Q103.168 916.868 104.973 913.326 Q106.802 909.761 106.802 902.655 Q106.802 895.525 104.973 891.983 Q103.168 888.419 99.5335 888.419 M99.5335 884.715 Q105.344 884.715 108.399 889.321 Q111.478 893.905 111.478 902.655 Q111.478 911.381 108.399 915.988 Q105.344 920.571 99.5335 920.571 Q93.7234 920.571 90.6447 915.988 Q87.5892 911.381 87.5892 902.655 Q87.5892 893.905 90.6447 889.321 Q93.7234 884.715 99.5335 884.715 Z\" fill=\"#000000\" fill-rule=\"evenodd\" fill-opacity=\"1\" /><path clip-path=\"url(#clip760)\" d=\"M91.5706 644.417 L99.2095 644.417 L99.2095 618.051 L90.8993 619.718 L90.8993 615.459 L99.1632 613.792 L103.839 613.792 L103.839 644.417 L111.478 644.417 L111.478 648.352 L91.5706 648.352 L91.5706 644.417 Z\" fill=\"#000000\" fill-rule=\"evenodd\" fill-opacity=\"1\" /><path clip-path=\"url(#clip760)\" d=\"M95.1586 372.869 L111.478 372.869 L111.478 376.804 L89.5336 376.804 L89.5336 372.869 Q92.1956 370.114 96.7789 365.485 Q101.385 360.832 102.566 359.489 Q104.811 356.966 105.691 355.23 Q106.594 353.471 106.594 351.781 Q106.594 349.027 104.649 347.29 Q102.728 345.554 99.6261 345.554 Q97.4271 345.554 94.9734 346.318 Q92.5428 347.082 89.7651 348.633 L89.7651 343.911 Q92.5891 342.777 95.0428 342.198 Q97.4965 341.619 99.5335 341.619 Q104.904 341.619 108.098 344.304 Q111.293 346.99 111.293 351.48 Q111.293 353.61 110.483 355.531 Q109.696 357.429 107.589 360.022 Q107.01 360.693 103.909 363.911 Q100.807 367.105 95.1586 372.869 Z\" fill=\"#000000\" fill-rule=\"evenodd\" fill-opacity=\"1\" /><path clip-path=\"url(#clip760)\" d=\"M104.348 86.6221 Q107.705 87.3397 109.58 89.6082 Q111.478 91.8767 111.478 95.21 Q111.478 100.326 107.959 103.127 Q104.441 105.928 97.9595 105.928 Q95.7836 105.928 93.4688 105.488 Q91.1771 105.071 88.7234 104.215 L88.7234 99.7008 Q90.6678 100.835 92.9826 101.414 Q95.2974 101.992 97.8206 101.992 Q102.219 101.992 104.51 100.256 Q106.825 98.5202 106.825 95.21 Q106.825 92.1545 104.672 90.4415 Q102.543 88.7054 98.7234 88.7054 L94.6956 88.7054 L94.6956 84.8629 L98.9085 84.8629 Q102.358 84.8629 104.186 83.4971 Q106.015 82.1083 106.015 79.5157 Q106.015 76.8537 104.117 75.4416 Q102.242 74.0064 98.7234 74.0064 Q96.8021 74.0064 94.603 74.4231 Q92.4039 74.8398 89.7651 75.7194 L89.7651 71.5528 Q92.4271 70.812 94.7419 70.4416 Q97.0798 70.0713 99.14 70.0713 Q104.464 70.0713 107.566 72.5018 Q110.668 74.9092 110.668 79.0296 Q110.668 81.8999 109.024 83.8907 Q107.381 85.8582 104.348 86.6221 Z\" fill=\"#000000\" fill-rule=\"evenodd\" fill-opacity=\"1\" /><polyline clip-path=\"url(#clip762)\" style=\"stroke:#009af9; stroke-linecap:butt; stroke-linejoin:round; stroke-width:16; stroke-opacity:1; fill:none\" points=\"\n",
       "  147.478,1445.72 169.014,1432.46 368.149,1309.85 487.82,1236.17 589.001,1173.88 698.912,1106.21 800.24,1043.82 908.874,976.941 1034.74,899.45 1146.59,830.585 \n",
       "  1244.68,770.196 1351.61,704.357 1459.19,638.126 1578.12,564.899 1691.29,495.226 1808.96,422.781 1908.01,361.799 2028.93,287.346 2142.61,217.358 2324.73,105.232 \n",
       "  2352.76,87.9763 \n",
       "  \"/>\n",
       "<polyline clip-path=\"url(#clip762)\" style=\"stroke:#e26f46; stroke-linecap:butt; stroke-linejoin:round; stroke-width:16; stroke-opacity:1; fill:none\" points=\"\n",
       "  147.478,1015.62 169.014,1003.44 368.149,883.323 487.82,811.435 589.001,755.66 643.957,728.421 698.912,703.883 749.576,683.984 800.24,666.966 854.557,652.176 \n",
       "  908.874,641.179 971.806,633.399 1034.74,631.091 1090.66,633.671 1146.59,640.571 1195.63,650.089 1244.68,662.726 1298.14,679.874 1351.61,700.292 1405.4,723.826 \n",
       "  1459.19,750.017 1578.12,815.37 1691.29,883.484 1808.96,955.571 1908.01,1013.55 1968.47,1046.38 2028.93,1076.52 2085.77,1101.88 2142.61,1123.93 2188.14,1138.97 \n",
       "  2233.67,1151.49 2279.2,1161.36 2324.73,1168.47 2331.74,1169.32 2338.74,1170.1 2345.75,1170.81 2352.76,1171.45 \n",
       "  \"/>\n",
       "<circle clip-path=\"url(#clip762)\" cx=\"1355.57\" cy=\"701.923\" r=\"14\" fill=\"#3da44d\" fill-rule=\"evenodd\" fill-opacity=\"1\" stroke=\"#000000\" stroke-opacity=\"1\" stroke-width=\"3.2\"/>\n",
       "<path clip-path=\"url(#clip760)\" d=\"\n",
       "M1930.48 406.258 L2279.25 406.258 L2279.25 95.2176 L1930.48 95.2176  Z\n",
       "  \" fill=\"#ffffff\" fill-rule=\"evenodd\" fill-opacity=\"1\"/>\n",
       "<polyline clip-path=\"url(#clip760)\" style=\"stroke:#000000; stroke-linecap:butt; stroke-linejoin:round; stroke-width:4; stroke-opacity:1; fill:none\" points=\"\n",
       "  1930.48,406.258 2279.25,406.258 2279.25,95.2176 1930.48,95.2176 1930.48,406.258 \n",
       "  \"/>\n",
       "<polyline clip-path=\"url(#clip760)\" style=\"stroke:#009af9; stroke-linecap:butt; stroke-linejoin:round; stroke-width:6; stroke-opacity:1; fill:none\" points=\"\n",
       "  1954.99,172.978 2102,172.978 \n",
       "  \"/>\n",
       "<path clip-path=\"url(#clip760)\" d=\"M2147.27 202.509 Q2144.56 209.453 2141.99 211.571 Q2139.42 213.689 2135.12 213.689 L2130.01 213.689 L2130.01 208.342 L2133.76 208.342 Q2136.4 208.342 2137.86 207.092 Q2139.32 205.842 2141.09 201.189 L2142.24 198.273 L2126.51 160.009 L2133.28 160.009 L2145.43 190.425 L2157.58 160.009 L2164.35 160.009 L2147.27 202.509 Z\" fill=\"#000000\" fill-rule=\"evenodd\" fill-opacity=\"1\" /><path clip-path=\"url(#clip760)\" d=\"M2175.29 192.995 L2186.75 192.995 L2186.75 153.446 L2174.28 155.946 L2174.28 149.558 L2186.68 147.058 L2193.69 147.058 L2193.69 192.995 L2205.15 192.995 L2205.15 198.898 L2175.29 198.898 L2175.29 192.995 Z\" fill=\"#000000\" fill-rule=\"evenodd\" fill-opacity=\"1\" /><polyline clip-path=\"url(#clip760)\" style=\"stroke:#e26f46; stroke-linecap:butt; stroke-linejoin:round; stroke-width:6; stroke-opacity:1; fill:none\" points=\"\n",
       "  1954.99,250.738 2102,250.738 \n",
       "  \"/>\n",
       "<path clip-path=\"url(#clip760)\" d=\"M2147.27 280.269 Q2144.56 287.213 2141.99 289.331 Q2139.42 291.449 2135.12 291.449 L2130.01 291.449 L2130.01 286.102 L2133.76 286.102 Q2136.4 286.102 2137.86 284.852 Q2139.32 283.602 2141.09 278.949 L2142.24 276.033 L2126.51 237.769 L2133.28 237.769 L2145.43 268.185 L2157.58 237.769 L2164.35 237.769 L2147.27 280.269 Z\" fill=\"#000000\" fill-rule=\"evenodd\" fill-opacity=\"1\" /><path clip-path=\"url(#clip760)\" d=\"M2180.12 270.755 L2204.6 270.755 L2204.6 276.658 L2171.68 276.658 L2171.68 270.755 Q2175.67 266.623 2182.55 259.678 Q2189.46 252.699 2191.23 250.685 Q2194.6 246.901 2195.92 244.297 Q2197.27 241.658 2197.27 239.123 Q2197.27 234.991 2194.35 232.387 Q2191.47 229.783 2186.82 229.783 Q2183.52 229.783 2179.84 230.929 Q2176.19 232.074 2172.03 234.401 L2172.03 227.318 Q2176.26 225.616 2179.94 224.748 Q2183.62 223.88 2186.68 223.88 Q2194.74 223.88 2199.53 227.908 Q2204.32 231.936 2204.32 238.672 Q2204.32 241.866 2203.1 244.748 Q2201.92 247.595 2198.76 251.484 Q2197.9 252.491 2193.24 257.317 Q2188.59 262.109 2180.12 270.755 Z\" fill=\"#000000\" fill-rule=\"evenodd\" fill-opacity=\"1\" /><circle clip-path=\"url(#clip760)\" cx=\"2028.49\" cy=\"328.498\" r=\"34\" fill=\"#3da44d\" fill-rule=\"evenodd\" fill-opacity=\"1\" stroke=\"#000000\" stroke-opacity=\"1\" stroke-width=\"7.68\"/>\n",
       "<path clip-path=\"url(#clip760)\" d=\"M2162.34 313.351 Q2162.34 315.318 2161.11 316.443 Q2159.88 317.532 2158.48 317.532 Q2157.14 317.532 2156.44 316.759 Q2155.74 315.986 2155.74 315.002 Q2155.74 313.667 2156.72 312.508 Q2157.71 311.348 2159.18 311.102 Q2157.74 310.189 2155.6 310.189 Q2154.19 310.189 2152.96 310.927 Q2151.77 311.664 2151.03 312.613 Q2150.33 313.562 2149.7 314.932 Q2149.1 316.267 2148.85 317.075 Q2148.64 317.848 2148.47 318.691 L2146.01 328.528 Q2144.81 333.201 2144.81 334.853 Q2144.81 336.89 2145.8 338.261 Q2146.78 339.596 2148.75 339.596 Q2149.52 339.596 2150.4 339.385 Q2151.28 339.139 2152.4 338.506 Q2153.56 337.839 2154.58 336.855 Q2155.63 335.836 2156.65 334.115 Q2157.67 332.393 2158.34 330.18 Q2158.55 329.407 2159.25 329.407 Q2160.13 329.407 2160.13 330.11 Q2160.13 330.707 2159.64 331.972 Q2159.18 333.201 2158.16 334.817 Q2157.18 336.398 2155.88 337.839 Q2154.58 339.244 2152.65 340.228 Q2150.71 341.212 2148.61 341.212 Q2145.58 341.212 2143.58 339.596 Q2141.58 337.979 2140.84 335.731 Q2140.67 336.047 2140.42 336.469 Q2140.17 336.89 2139.44 337.839 Q2138.73 338.752 2137.93 339.455 Q2137.12 340.123 2135.85 340.65 Q2134.62 341.212 2133.29 341.212 Q2131.6 341.212 2130.09 340.72 Q2128.61 340.228 2127.56 339.104 Q2126.51 337.979 2126.51 336.434 Q2126.51 334.712 2127.67 333.517 Q2128.86 332.288 2130.48 332.288 Q2131.5 332.288 2132.3 332.885 Q2133.15 333.482 2133.15 334.782 Q2133.15 336.223 2132.16 337.312 Q2131.18 338.401 2129.77 338.682 Q2131.21 339.596 2133.36 339.596 Q2135.68 339.596 2137.5 337.558 Q2139.33 335.52 2140.21 332.112 Q2142.39 323.926 2143.23 320.272 Q2144.07 316.583 2144.07 315.002 Q2144.07 313.526 2143.69 312.508 Q2143.3 311.489 2142.63 311.032 Q2142 310.54 2141.4 310.364 Q2140.84 310.189 2140.21 310.189 Q2139.15 310.189 2137.96 310.61 Q2136.8 311.032 2135.4 312.016 Q2134.03 312.964 2132.73 314.932 Q2131.43 316.899 2130.55 319.605 Q2130.37 320.413 2129.6 320.413 Q2128.76 320.377 2128.76 319.675 Q2128.76 319.078 2129.21 317.848 Q2129.7 316.583 2130.69 315.002 Q2131.71 313.421 2133.01 312.016 Q2134.34 310.575 2136.27 309.591 Q2138.24 308.608 2140.35 308.608 Q2141.3 308.608 2142.21 308.819 Q2143.16 308.994 2144.28 309.521 Q2145.44 310.048 2146.46 311.208 Q2147.48 312.367 2148.11 314.053 Q2148.54 313.245 2149.1 312.472 Q2149.7 311.699 2150.61 310.751 Q2151.56 309.767 2152.86 309.205 Q2154.19 308.608 2155.67 308.608 Q2157.11 308.608 2158.51 308.994 Q2159.92 309.346 2161.11 310.505 Q2162.34 311.629 2162.34 313.351 Z\" fill=\"#000000\" fill-rule=\"evenodd\" fill-opacity=\"1\" /><path clip-path=\"url(#clip760)\" d=\"M2183.64 346.604 Q2183.64 345.743 2184.8 345.177 L2191.81 341.857 L2184.7 338.537 Q2183.64 338.045 2183.64 337.184 Q2183.64 336.693 2184.04 336.25 Q2184.46 335.783 2185 335.783 Q2185.39 335.783 2186.1 336.324 L2192.35 340.849 Q2191.59 332.536 2191.61 332.29 Q2191.61 331.798 2191.98 331.43 Q2192.35 331.036 2192.97 331.036 Q2193.46 331.036 2193.85 331.405 Q2194.27 331.749 2194.27 332.29 L2193.53 340.849 L2199.11 336.717 Q2200.42 335.758 2200.88 335.783 Q2201.45 335.783 2201.84 336.225 Q2202.24 336.668 2202.24 337.184 Q2202.24 338.045 2201.08 338.586 L2194.07 341.906 L2201.18 345.251 Q2202.24 345.743 2202.24 346.604 Q2202.24 347.096 2201.82 347.563 Q2201.43 348.006 2200.88 348.006 Q2200.59 348.006 2200.07 347.711 Q2199.97 347.661 2198.92 346.874 Q2197.86 346.087 2196.21 344.882 Q2194.59 343.677 2193.53 342.915 Q2194.29 351.227 2194.27 351.473 Q2194.27 351.965 2193.9 352.359 Q2193.53 352.752 2192.92 352.752 Q2192.42 352.752 2192.01 352.408 Q2191.61 352.039 2191.61 351.473 L2192.35 342.915 L2185.32 348.006 Q2184.55 348.006 2184.14 347.637 Q2183.74 347.243 2183.69 347.022 Q2183.64 346.801 2183.64 346.604 Z\" fill=\"#000000\" fill-rule=\"evenodd\" fill-opacity=\"1\" /></svg>\n"
      ]
     },
     "execution_count": 4,
     "metadata": {},
     "output_type": "execute_result"
    }
   ],
   "source": [
    "xstar, _ = newton(f, fp, 1.)\n",
    "g(x) = cos(x)\n",
    "gp(x) = -sin(x)\n",
    "@show xstar\n",
    "@show gp(xstar)\n",
    "plot([x->x, g], xlims=(-2, 3))\n",
    "scatter!([xstar], [xstar],\n",
    "    label=\"\\$x_*\\$\")"
   ]
  },
  {
   "cell_type": "code",
   "execution_count": 7,
   "id": "72c73e83",
   "metadata": {
    "cell_style": "split"
   },
   "outputs": [
    {
     "data": {
      "image/svg+xml": [
       "<?xml version=\"1.0\" encoding=\"utf-8\"?>\n",
       "<svg xmlns=\"http://www.w3.org/2000/svg\" xmlns:xlink=\"http://www.w3.org/1999/xlink\" width=\"600\" height=\"400\" viewBox=\"0 0 2400 1600\">\n",
       "<defs>\n",
       "  <clipPath id=\"clip880\">\n",
       "    <rect x=\"0\" y=\"0\" width=\"2400\" height=\"1600\"/>\n",
       "  </clipPath>\n",
       "</defs>\n",
       "<path clip-path=\"url(#clip880)\" d=\"\n",
       "M0 1600 L2400 1600 L2400 0 L0 0  Z\n",
       "  \" fill=\"#ffffff\" fill-rule=\"evenodd\" fill-opacity=\"1\"/>\n",
       "<defs>\n",
       "  <clipPath id=\"clip881\">\n",
       "    <rect x=\"480\" y=\"0\" width=\"1681\" height=\"1600\"/>\n",
       "  </clipPath>\n",
       "</defs>\n",
       "<defs>\n",
       "  <clipPath id=\"clip882\">\n",
       "    <rect x=\"147\" y=\"47\" width=\"2206\" height=\"1440\"/>\n",
       "  </clipPath>\n",
       "</defs>\n",
       "<path clip-path=\"url(#clip880)\" d=\"\n",
       "M147.478 1486.45 L2352.76 1486.45 L2352.76 47.2441 L147.478 47.2441  Z\n",
       "  \" fill=\"#ffffff\" fill-rule=\"evenodd\" fill-opacity=\"1\"/>\n",
       "<polyline clip-path=\"url(#clip882)\" style=\"stroke:#000000; stroke-linecap:butt; stroke-linejoin:round; stroke-width:2; stroke-opacity:0.1; fill:none\" points=\"\n",
       "  147.478,1486.45 147.478,47.2441 \n",
       "  \"/>\n",
       "<polyline clip-path=\"url(#clip882)\" style=\"stroke:#000000; stroke-linecap:butt; stroke-linejoin:round; stroke-width:2; stroke-opacity:0.1; fill:none\" points=\"\n",
       "  588.534,1486.45 588.534,47.2441 \n",
       "  \"/>\n",
       "<polyline clip-path=\"url(#clip882)\" style=\"stroke:#000000; stroke-linecap:butt; stroke-linejoin:round; stroke-width:2; stroke-opacity:0.1; fill:none\" points=\"\n",
       "  1029.59,1486.45 1029.59,47.2441 \n",
       "  \"/>\n",
       "<polyline clip-path=\"url(#clip882)\" style=\"stroke:#000000; stroke-linecap:butt; stroke-linejoin:round; stroke-width:2; stroke-opacity:0.1; fill:none\" points=\"\n",
       "  1470.64,1486.45 1470.64,47.2441 \n",
       "  \"/>\n",
       "<polyline clip-path=\"url(#clip882)\" style=\"stroke:#000000; stroke-linecap:butt; stroke-linejoin:round; stroke-width:2; stroke-opacity:0.1; fill:none\" points=\"\n",
       "  1911.7,1486.45 1911.7,47.2441 \n",
       "  \"/>\n",
       "<polyline clip-path=\"url(#clip882)\" style=\"stroke:#000000; stroke-linecap:butt; stroke-linejoin:round; stroke-width:2; stroke-opacity:0.1; fill:none\" points=\"\n",
       "  2352.76,1486.45 2352.76,47.2441 \n",
       "  \"/>\n",
       "<polyline clip-path=\"url(#clip880)\" style=\"stroke:#000000; stroke-linecap:butt; stroke-linejoin:round; stroke-width:4; stroke-opacity:1; fill:none\" points=\"\n",
       "  147.478,1486.45 2352.76,1486.45 \n",
       "  \"/>\n",
       "<polyline clip-path=\"url(#clip880)\" style=\"stroke:#000000; stroke-linecap:butt; stroke-linejoin:round; stroke-width:4; stroke-opacity:1; fill:none\" points=\"\n",
       "  147.478,1486.45 147.478,1467.55 \n",
       "  \"/>\n",
       "<polyline clip-path=\"url(#clip880)\" style=\"stroke:#000000; stroke-linecap:butt; stroke-linejoin:round; stroke-width:4; stroke-opacity:1; fill:none\" points=\"\n",
       "  588.534,1486.45 588.534,1467.55 \n",
       "  \"/>\n",
       "<polyline clip-path=\"url(#clip880)\" style=\"stroke:#000000; stroke-linecap:butt; stroke-linejoin:round; stroke-width:4; stroke-opacity:1; fill:none\" points=\"\n",
       "  1029.59,1486.45 1029.59,1467.55 \n",
       "  \"/>\n",
       "<polyline clip-path=\"url(#clip880)\" style=\"stroke:#000000; stroke-linecap:butt; stroke-linejoin:round; stroke-width:4; stroke-opacity:1; fill:none\" points=\"\n",
       "  1470.64,1486.45 1470.64,1467.55 \n",
       "  \"/>\n",
       "<polyline clip-path=\"url(#clip880)\" style=\"stroke:#000000; stroke-linecap:butt; stroke-linejoin:round; stroke-width:4; stroke-opacity:1; fill:none\" points=\"\n",
       "  1911.7,1486.45 1911.7,1467.55 \n",
       "  \"/>\n",
       "<polyline clip-path=\"url(#clip880)\" style=\"stroke:#000000; stroke-linecap:butt; stroke-linejoin:round; stroke-width:4; stroke-opacity:1; fill:none\" points=\"\n",
       "  2352.76,1486.45 2352.76,1467.55 \n",
       "  \"/>\n",
       "<path clip-path=\"url(#clip880)\" d=\"M117.42 1532.02 L147.096 1532.02 L147.096 1535.95 L117.42 1535.95 L117.42 1532.02 Z\" fill=\"#000000\" fill-rule=\"evenodd\" fill-opacity=\"1\" /><path clip-path=\"url(#clip880)\" d=\"M161.216 1544.91 L177.536 1544.91 L177.536 1548.85 L155.591 1548.85 L155.591 1544.91 Q158.253 1542.16 162.837 1537.53 Q167.443 1532.88 168.624 1531.53 Q170.869 1529.01 171.749 1527.27 Q172.651 1525.51 172.651 1523.82 Q172.651 1521.07 170.707 1519.33 Q168.786 1517.6 165.684 1517.6 Q163.485 1517.6 161.031 1518.36 Q158.601 1519.13 155.823 1520.68 L155.823 1515.95 Q158.647 1514.82 161.101 1514.24 Q163.554 1513.66 165.591 1513.66 Q170.962 1513.66 174.156 1516.35 Q177.35 1519.03 177.35 1523.52 Q177.35 1525.65 176.54 1527.57 Q175.753 1529.47 173.647 1532.07 Q173.068 1532.74 169.966 1535.95 Q166.864 1539.15 161.216 1544.91 Z\" fill=\"#000000\" fill-rule=\"evenodd\" fill-opacity=\"1\" /><path clip-path=\"url(#clip880)\" d=\"M558.291 1532.02 L587.966 1532.02 L587.966 1535.95 L558.291 1535.95 L558.291 1532.02 Z\" fill=\"#000000\" fill-rule=\"evenodd\" fill-opacity=\"1\" /><path clip-path=\"url(#clip880)\" d=\"M598.869 1544.91 L606.508 1544.91 L606.508 1518.55 L598.198 1520.21 L598.198 1515.95 L606.462 1514.29 L611.138 1514.29 L611.138 1544.91 L618.776 1544.91 L618.776 1548.85 L598.869 1548.85 L598.869 1544.91 Z\" fill=\"#000000\" fill-rule=\"evenodd\" fill-opacity=\"1\" /><path clip-path=\"url(#clip880)\" d=\"M1029.59 1517.37 Q1025.98 1517.37 1024.15 1520.93 Q1022.34 1524.47 1022.34 1531.6 Q1022.34 1538.71 1024.15 1542.27 Q1025.98 1545.82 1029.59 1545.82 Q1033.22 1545.82 1035.03 1542.27 Q1036.86 1538.71 1036.86 1531.6 Q1036.86 1524.47 1035.03 1520.93 Q1033.22 1517.37 1029.59 1517.37 M1029.59 1513.66 Q1035.4 1513.66 1038.45 1518.27 Q1041.53 1522.85 1041.53 1531.6 Q1041.53 1540.33 1038.45 1544.94 Q1035.4 1549.52 1029.59 1549.52 Q1023.78 1549.52 1020.7 1544.94 Q1017.64 1540.33 1017.64 1531.6 Q1017.64 1522.85 1020.7 1518.27 Q1023.78 1513.66 1029.59 1513.66 Z\" fill=\"#000000\" fill-rule=\"evenodd\" fill-opacity=\"1\" /><path clip-path=\"url(#clip880)\" d=\"M1461.03 1544.91 L1468.67 1544.91 L1468.67 1518.55 L1460.36 1520.21 L1460.36 1515.95 L1468.62 1514.29 L1473.3 1514.29 L1473.3 1544.91 L1480.93 1544.91 L1480.93 1548.85 L1461.03 1548.85 L1461.03 1544.91 Z\" fill=\"#000000\" fill-rule=\"evenodd\" fill-opacity=\"1\" /><path clip-path=\"url(#clip880)\" d=\"M1906.35 1544.91 L1922.67 1544.91 L1922.67 1548.85 L1900.73 1548.85 L1900.73 1544.91 Q1903.39 1542.16 1907.97 1537.53 Q1912.58 1532.88 1913.76 1531.53 Q1916.01 1529.01 1916.89 1527.27 Q1917.79 1525.51 1917.79 1523.82 Q1917.79 1521.07 1915.84 1519.33 Q1913.92 1517.6 1910.82 1517.6 Q1908.62 1517.6 1906.17 1518.36 Q1903.74 1519.13 1900.96 1520.68 L1900.96 1515.95 Q1903.78 1514.82 1906.24 1514.24 Q1908.69 1513.66 1910.73 1513.66 Q1916.1 1513.66 1919.29 1516.35 Q1922.49 1519.03 1922.49 1523.52 Q1922.49 1525.65 1921.68 1527.57 Q1920.89 1529.47 1918.78 1532.07 Q1918.2 1532.74 1915.1 1535.95 Q1912 1539.15 1906.35 1544.91 Z\" fill=\"#000000\" fill-rule=\"evenodd\" fill-opacity=\"1\" /><path clip-path=\"url(#clip880)\" d=\"M2357 1530.21 Q2360.36 1530.93 2362.24 1533.2 Q2364.13 1535.47 2364.13 1538.8 Q2364.13 1543.92 2360.61 1546.72 Q2357.1 1549.52 2350.61 1549.52 Q2348.44 1549.52 2346.12 1549.08 Q2343.83 1548.66 2341.38 1547.81 L2341.38 1543.29 Q2343.32 1544.43 2345.64 1545.01 Q2347.95 1545.58 2350.48 1545.58 Q2354.87 1545.58 2357.17 1543.85 Q2359.48 1542.11 2359.48 1538.8 Q2359.48 1535.75 2357.33 1534.03 Q2355.2 1532.3 2351.38 1532.3 L2347.35 1532.3 L2347.35 1528.45 L2351.56 1528.45 Q2355.01 1528.45 2356.84 1527.09 Q2358.67 1525.7 2358.67 1523.11 Q2358.67 1520.45 2356.77 1519.03 Q2354.9 1517.6 2351.38 1517.6 Q2349.46 1517.6 2347.26 1518.01 Q2345.06 1518.43 2342.42 1519.31 L2342.42 1515.14 Q2345.08 1514.4 2347.4 1514.03 Q2349.74 1513.66 2351.8 1513.66 Q2357.12 1513.66 2360.22 1516.09 Q2363.32 1518.5 2363.32 1522.62 Q2363.32 1525.49 2361.68 1527.48 Q2360.04 1529.45 2357 1530.21 Z\" fill=\"#000000\" fill-rule=\"evenodd\" fill-opacity=\"1\" /><polyline clip-path=\"url(#clip882)\" style=\"stroke:#000000; stroke-linecap:butt; stroke-linejoin:round; stroke-width:2; stroke-opacity:0.1; fill:none\" points=\"\n",
       "  147.478,1445.72 2352.76,1445.72 \n",
       "  \"/>\n",
       "<polyline clip-path=\"url(#clip882)\" style=\"stroke:#000000; stroke-linecap:butt; stroke-linejoin:round; stroke-width:2; stroke-opacity:0.1; fill:none\" points=\"\n",
       "  147.478,1174.17 2352.76,1174.17 \n",
       "  \"/>\n",
       "<polyline clip-path=\"url(#clip882)\" style=\"stroke:#000000; stroke-linecap:butt; stroke-linejoin:round; stroke-width:2; stroke-opacity:0.1; fill:none\" points=\"\n",
       "  147.478,902.62 2352.76,902.62 \n",
       "  \"/>\n",
       "<polyline clip-path=\"url(#clip882)\" style=\"stroke:#000000; stroke-linecap:butt; stroke-linejoin:round; stroke-width:2; stroke-opacity:0.1; fill:none\" points=\"\n",
       "  147.478,631.072 2352.76,631.072 \n",
       "  \"/>\n",
       "<polyline clip-path=\"url(#clip882)\" style=\"stroke:#000000; stroke-linecap:butt; stroke-linejoin:round; stroke-width:2; stroke-opacity:0.1; fill:none\" points=\"\n",
       "  147.478,359.524 2352.76,359.524 \n",
       "  \"/>\n",
       "<polyline clip-path=\"url(#clip882)\" style=\"stroke:#000000; stroke-linecap:butt; stroke-linejoin:round; stroke-width:2; stroke-opacity:0.1; fill:none\" points=\"\n",
       "  147.478,87.9763 2352.76,87.9763 \n",
       "  \"/>\n",
       "<polyline clip-path=\"url(#clip880)\" style=\"stroke:#000000; stroke-linecap:butt; stroke-linejoin:round; stroke-width:4; stroke-opacity:1; fill:none\" points=\"\n",
       "  147.478,1486.45 147.478,47.2441 \n",
       "  \"/>\n",
       "<polyline clip-path=\"url(#clip880)\" style=\"stroke:#000000; stroke-linecap:butt; stroke-linejoin:round; stroke-width:4; stroke-opacity:1; fill:none\" points=\"\n",
       "  147.478,1445.72 166.376,1445.72 \n",
       "  \"/>\n",
       "<polyline clip-path=\"url(#clip880)\" style=\"stroke:#000000; stroke-linecap:butt; stroke-linejoin:round; stroke-width:4; stroke-opacity:1; fill:none\" points=\"\n",
       "  147.478,1174.17 166.376,1174.17 \n",
       "  \"/>\n",
       "<polyline clip-path=\"url(#clip880)\" style=\"stroke:#000000; stroke-linecap:butt; stroke-linejoin:round; stroke-width:4; stroke-opacity:1; fill:none\" points=\"\n",
       "  147.478,902.62 166.376,902.62 \n",
       "  \"/>\n",
       "<polyline clip-path=\"url(#clip880)\" style=\"stroke:#000000; stroke-linecap:butt; stroke-linejoin:round; stroke-width:4; stroke-opacity:1; fill:none\" points=\"\n",
       "  147.478,631.072 166.376,631.072 \n",
       "  \"/>\n",
       "<polyline clip-path=\"url(#clip880)\" style=\"stroke:#000000; stroke-linecap:butt; stroke-linejoin:round; stroke-width:4; stroke-opacity:1; fill:none\" points=\"\n",
       "  147.478,359.524 166.376,359.524 \n",
       "  \"/>\n",
       "<polyline clip-path=\"url(#clip880)\" style=\"stroke:#000000; stroke-linecap:butt; stroke-linejoin:round; stroke-width:4; stroke-opacity:1; fill:none\" points=\"\n",
       "  147.478,87.9763 166.376,87.9763 \n",
       "  \"/>\n",
       "<path clip-path=\"url(#clip880)\" d=\"M51.3625 1446.17 L81.0383 1446.17 L81.0383 1450.1 L51.3625 1450.1 L51.3625 1446.17 Z\" fill=\"#000000\" fill-rule=\"evenodd\" fill-opacity=\"1\" /><path clip-path=\"url(#clip880)\" d=\"M95.1586 1459.06 L111.478 1459.06 L111.478 1463 L89.5336 1463 L89.5336 1459.06 Q92.1956 1456.31 96.7789 1451.68 Q101.385 1447.02 102.566 1445.68 Q104.811 1443.16 105.691 1441.42 Q106.594 1439.66 106.594 1437.97 Q106.594 1435.22 104.649 1433.48 Q102.728 1431.75 99.6261 1431.75 Q97.4271 1431.75 94.9734 1432.51 Q92.5428 1433.27 89.7651 1434.82 L89.7651 1430.1 Q92.5891 1428.97 95.0428 1428.39 Q97.4965 1427.81 99.5335 1427.81 Q104.904 1427.81 108.098 1430.5 Q111.293 1433.18 111.293 1437.67 Q111.293 1439.8 110.483 1441.72 Q109.696 1443.62 107.589 1446.21 Q107.01 1446.88 103.909 1450.1 Q100.807 1453.3 95.1586 1459.06 Z\" fill=\"#000000\" fill-rule=\"evenodd\" fill-opacity=\"1\" /><path clip-path=\"url(#clip880)\" d=\"M50.9921 1174.62 L80.6679 1174.62 L80.6679 1178.55 L50.9921 1178.55 L50.9921 1174.62 Z\" fill=\"#000000\" fill-rule=\"evenodd\" fill-opacity=\"1\" /><path clip-path=\"url(#clip880)\" d=\"M91.5706 1187.51 L99.2095 1187.51 L99.2095 1161.15 L90.8993 1162.81 L90.8993 1158.55 L99.1632 1156.89 L103.839 1156.89 L103.839 1187.51 L111.478 1187.51 L111.478 1191.45 L91.5706 1191.45 L91.5706 1187.51 Z\" fill=\"#000000\" fill-rule=\"evenodd\" fill-opacity=\"1\" /><path clip-path=\"url(#clip880)\" d=\"M99.5335 888.419 Q95.9224 888.419 94.0937 891.983 Q92.2882 895.525 92.2882 902.655 Q92.2882 909.761 94.0937 913.326 Q95.9224 916.868 99.5335 916.868 Q103.168 916.868 104.973 913.326 Q106.802 909.761 106.802 902.655 Q106.802 895.525 104.973 891.983 Q103.168 888.419 99.5335 888.419 M99.5335 884.715 Q105.344 884.715 108.399 889.321 Q111.478 893.905 111.478 902.655 Q111.478 911.381 108.399 915.988 Q105.344 920.571 99.5335 920.571 Q93.7234 920.571 90.6447 915.988 Q87.5892 911.381 87.5892 902.655 Q87.5892 893.905 90.6447 889.321 Q93.7234 884.715 99.5335 884.715 Z\" fill=\"#000000\" fill-rule=\"evenodd\" fill-opacity=\"1\" /><path clip-path=\"url(#clip880)\" d=\"M91.5706 644.417 L99.2095 644.417 L99.2095 618.051 L90.8993 619.718 L90.8993 615.459 L99.1632 613.792 L103.839 613.792 L103.839 644.417 L111.478 644.417 L111.478 648.352 L91.5706 648.352 L91.5706 644.417 Z\" fill=\"#000000\" fill-rule=\"evenodd\" fill-opacity=\"1\" /><path clip-path=\"url(#clip880)\" d=\"M95.1586 372.869 L111.478 372.869 L111.478 376.804 L89.5336 376.804 L89.5336 372.869 Q92.1956 370.114 96.7789 365.485 Q101.385 360.832 102.566 359.489 Q104.811 356.966 105.691 355.23 Q106.594 353.471 106.594 351.781 Q106.594 349.027 104.649 347.29 Q102.728 345.554 99.6261 345.554 Q97.4271 345.554 94.9734 346.318 Q92.5428 347.082 89.7651 348.633 L89.7651 343.911 Q92.5891 342.777 95.0428 342.198 Q97.4965 341.619 99.5335 341.619 Q104.904 341.619 108.098 344.304 Q111.293 346.99 111.293 351.48 Q111.293 353.61 110.483 355.531 Q109.696 357.429 107.589 360.022 Q107.01 360.693 103.909 363.911 Q100.807 367.105 95.1586 372.869 Z\" fill=\"#000000\" fill-rule=\"evenodd\" fill-opacity=\"1\" /><path clip-path=\"url(#clip880)\" d=\"M104.348 86.6221 Q107.705 87.3397 109.58 89.6082 Q111.478 91.8767 111.478 95.21 Q111.478 100.326 107.959 103.127 Q104.441 105.928 97.9595 105.928 Q95.7836 105.928 93.4688 105.488 Q91.1771 105.071 88.7234 104.215 L88.7234 99.7008 Q90.6678 100.835 92.9826 101.414 Q95.2974 101.992 97.8206 101.992 Q102.219 101.992 104.51 100.256 Q106.825 98.5202 106.825 95.21 Q106.825 92.1545 104.672 90.4415 Q102.543 88.7054 98.7234 88.7054 L94.6956 88.7054 L94.6956 84.8629 L98.9085 84.8629 Q102.358 84.8629 104.186 83.4971 Q106.015 82.1083 106.015 79.5157 Q106.015 76.8537 104.117 75.4416 Q102.242 74.0064 98.7234 74.0064 Q96.8021 74.0064 94.603 74.4231 Q92.4039 74.8398 89.7651 75.7194 L89.7651 71.5528 Q92.4271 70.812 94.7419 70.4416 Q97.0798 70.0713 99.14 70.0713 Q104.464 70.0713 107.566 72.5018 Q110.668 74.9092 110.668 79.0296 Q110.668 81.8999 109.024 83.8907 Q107.381 85.8582 104.348 86.6221 Z\" fill=\"#000000\" fill-rule=\"evenodd\" fill-opacity=\"1\" /><polyline clip-path=\"url(#clip882)\" style=\"stroke:#009af9; stroke-linecap:butt; stroke-linejoin:round; stroke-width:16; stroke-opacity:1; fill:none\" points=\"\n",
       "  147.478,1445.72 169.014,1432.46 368.149,1309.85 487.82,1236.17 589.001,1173.88 698.912,1106.21 800.24,1043.82 908.874,976.941 1034.74,899.45 1146.59,830.585 \n",
       "  1244.68,770.196 1351.61,704.357 1459.19,638.126 1578.12,564.899 1691.29,495.226 1808.96,422.781 1908.01,361.799 2028.93,287.346 2142.61,217.358 2324.73,105.232 \n",
       "  2352.76,87.9763 \n",
       "  \"/>\n",
       "<polyline clip-path=\"url(#clip882)\" style=\"stroke:#e26f46; stroke-linecap:butt; stroke-linejoin:round; stroke-width:16; stroke-opacity:1; fill:none\" points=\"\n",
       "  147.478,1015.62 169.014,1003.44 368.149,883.323 487.82,811.435 589.001,755.66 643.957,728.421 698.912,703.883 749.576,683.984 800.24,666.966 854.557,652.176 \n",
       "  908.874,641.179 971.806,633.399 1034.74,631.091 1090.66,633.671 1146.59,640.571 1195.63,650.089 1244.68,662.726 1298.14,679.874 1351.61,700.292 1405.4,723.826 \n",
       "  1459.19,750.017 1578.12,815.37 1691.29,883.484 1808.96,955.571 1908.01,1013.55 1968.47,1046.38 2028.93,1076.52 2085.77,1101.88 2142.61,1123.93 2188.14,1138.97 \n",
       "  2233.67,1151.49 2279.2,1161.36 2324.73,1168.47 2331.74,1169.32 2338.74,1170.1 2345.75,1170.81 2352.76,1171.45 \n",
       "  \"/>\n",
       "<circle clip-path=\"url(#clip882)\" cx=\"1355.57\" cy=\"701.923\" r=\"14\" fill=\"#3da44d\" fill-rule=\"evenodd\" fill-opacity=\"1\" stroke=\"#000000\" stroke-opacity=\"1\" stroke-width=\"3.2\"/>\n",
       "<polyline clip-path=\"url(#clip882)\" style=\"stroke:#c271d2; stroke-linecap:butt; stroke-linejoin:round; stroke-width:16; stroke-opacity:1; fill:none\" points=\"\n",
       "  1911.7,1015.62 846.045,654.248 1433,736.958 1298.66,680.056 1391.08,717.287 1330.61,691.9 1371.85,708.809 1344.38,697.349 1363,705.032 1350.52,699.842 \n",
       "  1358.95,703.331 1353.28,700.977 1357.1,702.561 1354.53,701.494 1356.26,702.212 1355.1,701.728 \n",
       "  \"/>\n",
       "<path clip-path=\"url(#clip882)\" d=\"M1911.7 999.624 L1895.7 1015.62 L1911.7 1031.62 L1927.7 1015.62 L1911.7 999.624 Z\" fill=\"#c271d2\" fill-rule=\"evenodd\" fill-opacity=\"1\" stroke=\"#000000\" stroke-opacity=\"1\" stroke-width=\"3.2\"/>\n",
       "<path clip-path=\"url(#clip882)\" d=\"M846.045 638.248 L830.045 654.248 L846.045 670.248 L862.045 654.248 L846.045 638.248 Z\" fill=\"#c271d2\" fill-rule=\"evenodd\" fill-opacity=\"1\" stroke=\"#000000\" stroke-opacity=\"1\" stroke-width=\"3.2\"/>\n",
       "<path clip-path=\"url(#clip882)\" d=\"M1433 720.958 L1417 736.958 L1433 752.958 L1449 736.958 L1433 720.958 Z\" fill=\"#c271d2\" fill-rule=\"evenodd\" fill-opacity=\"1\" stroke=\"#000000\" stroke-opacity=\"1\" stroke-width=\"3.2\"/>\n",
       "<path clip-path=\"url(#clip882)\" d=\"M1298.66 664.056 L1282.66 680.056 L1298.66 696.056 L1314.66 680.056 L1298.66 664.056 Z\" fill=\"#c271d2\" fill-rule=\"evenodd\" fill-opacity=\"1\" stroke=\"#000000\" stroke-opacity=\"1\" stroke-width=\"3.2\"/>\n",
       "<path clip-path=\"url(#clip882)\" d=\"M1391.08 701.287 L1375.08 717.287 L1391.08 733.287 L1407.08 717.287 L1391.08 701.287 Z\" fill=\"#c271d2\" fill-rule=\"evenodd\" fill-opacity=\"1\" stroke=\"#000000\" stroke-opacity=\"1\" stroke-width=\"3.2\"/>\n",
       "<path clip-path=\"url(#clip882)\" d=\"M1330.61 675.9 L1314.61 691.9 L1330.61 707.9 L1346.61 691.9 L1330.61 675.9 Z\" fill=\"#c271d2\" fill-rule=\"evenodd\" fill-opacity=\"1\" stroke=\"#000000\" stroke-opacity=\"1\" stroke-width=\"3.2\"/>\n",
       "<path clip-path=\"url(#clip882)\" d=\"M1371.85 692.809 L1355.85 708.809 L1371.85 724.809 L1387.85 708.809 L1371.85 692.809 Z\" fill=\"#c271d2\" fill-rule=\"evenodd\" fill-opacity=\"1\" stroke=\"#000000\" stroke-opacity=\"1\" stroke-width=\"3.2\"/>\n",
       "<path clip-path=\"url(#clip882)\" d=\"M1344.38 681.349 L1328.38 697.349 L1344.38 713.349 L1360.38 697.349 L1344.38 681.349 Z\" fill=\"#c271d2\" fill-rule=\"evenodd\" fill-opacity=\"1\" stroke=\"#000000\" stroke-opacity=\"1\" stroke-width=\"3.2\"/>\n",
       "<path clip-path=\"url(#clip882)\" d=\"M1363 689.032 L1347 705.032 L1363 721.032 L1379 705.032 L1363 689.032 Z\" fill=\"#c271d2\" fill-rule=\"evenodd\" fill-opacity=\"1\" stroke=\"#000000\" stroke-opacity=\"1\" stroke-width=\"3.2\"/>\n",
       "<path clip-path=\"url(#clip882)\" d=\"M1350.52 683.842 L1334.52 699.842 L1350.52 715.842 L1366.52 699.842 L1350.52 683.842 Z\" fill=\"#c271d2\" fill-rule=\"evenodd\" fill-opacity=\"1\" stroke=\"#000000\" stroke-opacity=\"1\" stroke-width=\"3.2\"/>\n",
       "<path clip-path=\"url(#clip882)\" d=\"M1358.95 687.331 L1342.95 703.331 L1358.95 719.331 L1374.95 703.331 L1358.95 687.331 Z\" fill=\"#c271d2\" fill-rule=\"evenodd\" fill-opacity=\"1\" stroke=\"#000000\" stroke-opacity=\"1\" stroke-width=\"3.2\"/>\n",
       "<path clip-path=\"url(#clip882)\" d=\"M1353.28 684.977 L1337.28 700.977 L1353.28 716.977 L1369.28 700.977 L1353.28 684.977 Z\" fill=\"#c271d2\" fill-rule=\"evenodd\" fill-opacity=\"1\" stroke=\"#000000\" stroke-opacity=\"1\" stroke-width=\"3.2\"/>\n",
       "<path clip-path=\"url(#clip882)\" d=\"M1357.1 686.561 L1341.1 702.561 L1357.1 718.561 L1373.1 702.561 L1357.1 686.561 Z\" fill=\"#c271d2\" fill-rule=\"evenodd\" fill-opacity=\"1\" stroke=\"#000000\" stroke-opacity=\"1\" stroke-width=\"3.2\"/>\n",
       "<path clip-path=\"url(#clip882)\" d=\"M1354.53 685.494 L1338.53 701.494 L1354.53 717.494 L1370.53 701.494 L1354.53 685.494 Z\" fill=\"#c271d2\" fill-rule=\"evenodd\" fill-opacity=\"1\" stroke=\"#000000\" stroke-opacity=\"1\" stroke-width=\"3.2\"/>\n",
       "<path clip-path=\"url(#clip882)\" d=\"M1356.26 686.212 L1340.26 702.212 L1356.26 718.212 L1372.26 702.212 L1356.26 686.212 Z\" fill=\"#c271d2\" fill-rule=\"evenodd\" fill-opacity=\"1\" stroke=\"#000000\" stroke-opacity=\"1\" stroke-width=\"3.2\"/>\n",
       "<path clip-path=\"url(#clip882)\" d=\"M1355.1 685.728 L1339.1 701.728 L1355.1 717.728 L1371.1 701.728 L1355.1 685.728 Z\" fill=\"#c271d2\" fill-rule=\"evenodd\" fill-opacity=\"1\" stroke=\"#000000\" stroke-opacity=\"1\" stroke-width=\"3.2\"/>\n",
       "<polyline clip-path=\"url(#clip882)\" style=\"stroke:#ac8d18; stroke-linecap:butt; stroke-linejoin:round; stroke-width:16; stroke-opacity:1; fill:none\" points=\"\n",
       "  11173.9,1047.31 794.58,668.716 1409.5,725.734 1316.89,686.675 1380.33,712.505 1338.38,694.949 1366.89,706.686 1347.83,698.745 1360.73,704.077 1352.07,700.478 \n",
       "  1357.91,702.899 1353.98,701.267 1356.63,702.366 1354.85,701.625 1356.05,702.124 1355.24,701.788 \n",
       "  \"/>\n",
       "<path clip-path=\"url(#clip882)\" d=\"M794.58 684.716 L780.724 676.716 L780.724 660.716 L794.58 652.716 L808.436 660.716 L808.436 676.716 Z\" fill=\"#ac8d18\" fill-rule=\"evenodd\" fill-opacity=\"1\" stroke=\"#000000\" stroke-opacity=\"1\" stroke-width=\"3.2\"/>\n",
       "<path clip-path=\"url(#clip882)\" d=\"M1409.5 741.734 L1395.65 733.734 L1395.65 717.734 L1409.5 709.734 L1423.36 717.734 L1423.36 733.734 Z\" fill=\"#ac8d18\" fill-rule=\"evenodd\" fill-opacity=\"1\" stroke=\"#000000\" stroke-opacity=\"1\" stroke-width=\"3.2\"/>\n",
       "<path clip-path=\"url(#clip882)\" d=\"M1316.89 702.675 L1303.04 694.675 L1303.04 678.675 L1316.89 670.675 L1330.75 678.675 L1330.75 694.675 Z\" fill=\"#ac8d18\" fill-rule=\"evenodd\" fill-opacity=\"1\" stroke=\"#000000\" stroke-opacity=\"1\" stroke-width=\"3.2\"/>\n",
       "<path clip-path=\"url(#clip882)\" d=\"M1380.33 728.505 L1366.48 720.505 L1366.48 704.505 L1380.33 696.505 L1394.19 704.505 L1394.19 720.505 Z\" fill=\"#ac8d18\" fill-rule=\"evenodd\" fill-opacity=\"1\" stroke=\"#000000\" stroke-opacity=\"1\" stroke-width=\"3.2\"/>\n",
       "<path clip-path=\"url(#clip882)\" d=\"M1338.38 710.949 L1324.52 702.949 L1324.52 686.949 L1338.38 678.949 L1352.23 686.949 L1352.23 702.949 Z\" fill=\"#ac8d18\" fill-rule=\"evenodd\" fill-opacity=\"1\" stroke=\"#000000\" stroke-opacity=\"1\" stroke-width=\"3.2\"/>\n",
       "<path clip-path=\"url(#clip882)\" d=\"M1366.89 722.686 L1353.04 714.686 L1353.04 698.686 L1366.89 690.686 L1380.75 698.686 L1380.75 714.686 Z\" fill=\"#ac8d18\" fill-rule=\"evenodd\" fill-opacity=\"1\" stroke=\"#000000\" stroke-opacity=\"1\" stroke-width=\"3.2\"/>\n",
       "<path clip-path=\"url(#clip882)\" d=\"M1347.83 714.745 L1333.97 706.745 L1333.97 690.745 L1347.83 682.745 L1361.69 690.745 L1361.69 706.745 Z\" fill=\"#ac8d18\" fill-rule=\"evenodd\" fill-opacity=\"1\" stroke=\"#000000\" stroke-opacity=\"1\" stroke-width=\"3.2\"/>\n",
       "<path clip-path=\"url(#clip882)\" d=\"M1360.73 720.077 L1346.87 712.077 L1346.87 696.077 L1360.73 688.077 L1374.58 696.077 L1374.58 712.077 Z\" fill=\"#ac8d18\" fill-rule=\"evenodd\" fill-opacity=\"1\" stroke=\"#000000\" stroke-opacity=\"1\" stroke-width=\"3.2\"/>\n",
       "<path clip-path=\"url(#clip882)\" d=\"M1352.07 716.478 L1338.21 708.478 L1338.21 692.478 L1352.07 684.478 L1365.92 692.478 L1365.92 708.478 Z\" fill=\"#ac8d18\" fill-rule=\"evenodd\" fill-opacity=\"1\" stroke=\"#000000\" stroke-opacity=\"1\" stroke-width=\"3.2\"/>\n",
       "<path clip-path=\"url(#clip882)\" d=\"M1357.91 718.899 L1344.06 710.899 L1344.06 694.899 L1357.91 686.899 L1371.77 694.899 L1371.77 710.899 Z\" fill=\"#ac8d18\" fill-rule=\"evenodd\" fill-opacity=\"1\" stroke=\"#000000\" stroke-opacity=\"1\" stroke-width=\"3.2\"/>\n",
       "<path clip-path=\"url(#clip882)\" d=\"M1353.98 717.267 L1340.13 709.267 L1340.13 693.267 L1353.98 685.267 L1367.84 693.267 L1367.84 709.267 Z\" fill=\"#ac8d18\" fill-rule=\"evenodd\" fill-opacity=\"1\" stroke=\"#000000\" stroke-opacity=\"1\" stroke-width=\"3.2\"/>\n",
       "<path clip-path=\"url(#clip882)\" d=\"M1356.63 718.366 L1342.78 710.366 L1342.78 694.366 L1356.63 686.366 L1370.49 694.366 L1370.49 710.366 Z\" fill=\"#ac8d18\" fill-rule=\"evenodd\" fill-opacity=\"1\" stroke=\"#000000\" stroke-opacity=\"1\" stroke-width=\"3.2\"/>\n",
       "<path clip-path=\"url(#clip882)\" d=\"M1354.85 717.625 L1340.99 709.625 L1340.99 693.625 L1354.85 685.625 L1368.7 693.625 L1368.7 709.625 Z\" fill=\"#ac8d18\" fill-rule=\"evenodd\" fill-opacity=\"1\" stroke=\"#000000\" stroke-opacity=\"1\" stroke-width=\"3.2\"/>\n",
       "<path clip-path=\"url(#clip882)\" d=\"M1356.05 718.124 L1342.19 710.124 L1342.19 694.124 L1356.05 686.124 L1369.91 694.124 L1369.91 710.124 Z\" fill=\"#ac8d18\" fill-rule=\"evenodd\" fill-opacity=\"1\" stroke=\"#000000\" stroke-opacity=\"1\" stroke-width=\"3.2\"/>\n",
       "<path clip-path=\"url(#clip882)\" d=\"M1355.24 717.788 L1341.38 709.788 L1341.38 693.788 L1355.24 685.788 L1369.1 693.788 L1369.1 709.788 Z\" fill=\"#ac8d18\" fill-rule=\"evenodd\" fill-opacity=\"1\" stroke=\"#000000\" stroke-opacity=\"1\" stroke-width=\"3.2\"/>\n",
       "<polyline clip-path=\"url(#clip882)\" style=\"stroke:#00a9ad; stroke-linecap:butt; stroke-linejoin:round; stroke-width:16; stroke-opacity:1; fill:none\" points=\"\n",
       "  1029.59,631.072 1470.64,755.902 1267.89,669.753 1407.82,724.949 1318.17,687.152 1379.56,712.165 1338.93,695.168 1366.54,706.535 1348.08,698.846 1360.57,704.009 \n",
       "  1352.18,700.524 1357.84,702.868 1354.03,701.288 1356.6,702.351 1354.87,701.634 1356.04,702.117 \n",
       "  \"/>\n",
       "<line clip-path=\"url(#clip882)\" x1=\"1029.59\" y1=\"631.072\" x2=\"1029.59\" y2=\"615.072\" style=\"stroke:#00a9ad; stroke-width:3.2; stroke-opacity:1\"/>\n",
       "<line clip-path=\"url(#clip882)\" x1=\"1029.59\" y1=\"631.072\" x2=\"1013.59\" y2=\"631.072\" style=\"stroke:#00a9ad; stroke-width:3.2; stroke-opacity:1\"/>\n",
       "<line clip-path=\"url(#clip882)\" x1=\"1029.59\" y1=\"631.072\" x2=\"1029.59\" y2=\"647.072\" style=\"stroke:#00a9ad; stroke-width:3.2; stroke-opacity:1\"/>\n",
       "<line clip-path=\"url(#clip882)\" x1=\"1029.59\" y1=\"631.072\" x2=\"1045.59\" y2=\"631.072\" style=\"stroke:#00a9ad; stroke-width:3.2; stroke-opacity:1\"/>\n",
       "<line clip-path=\"url(#clip882)\" x1=\"1470.64\" y1=\"755.902\" x2=\"1470.64\" y2=\"739.902\" style=\"stroke:#00a9ad; stroke-width:3.2; stroke-opacity:1\"/>\n",
       "<line clip-path=\"url(#clip882)\" x1=\"1470.64\" y1=\"755.902\" x2=\"1454.64\" y2=\"755.902\" style=\"stroke:#00a9ad; stroke-width:3.2; stroke-opacity:1\"/>\n",
       "<line clip-path=\"url(#clip882)\" x1=\"1470.64\" y1=\"755.902\" x2=\"1470.64\" y2=\"771.902\" style=\"stroke:#00a9ad; stroke-width:3.2; stroke-opacity:1\"/>\n",
       "<line clip-path=\"url(#clip882)\" x1=\"1470.64\" y1=\"755.902\" x2=\"1486.64\" y2=\"755.902\" style=\"stroke:#00a9ad; stroke-width:3.2; stroke-opacity:1\"/>\n",
       "<line clip-path=\"url(#clip882)\" x1=\"1267.89\" y1=\"669.753\" x2=\"1267.89\" y2=\"653.753\" style=\"stroke:#00a9ad; stroke-width:3.2; stroke-opacity:1\"/>\n",
       "<line clip-path=\"url(#clip882)\" x1=\"1267.89\" y1=\"669.753\" x2=\"1251.89\" y2=\"669.753\" style=\"stroke:#00a9ad; stroke-width:3.2; stroke-opacity:1\"/>\n",
       "<line clip-path=\"url(#clip882)\" x1=\"1267.89\" y1=\"669.753\" x2=\"1267.89\" y2=\"685.753\" style=\"stroke:#00a9ad; stroke-width:3.2; stroke-opacity:1\"/>\n",
       "<line clip-path=\"url(#clip882)\" x1=\"1267.89\" y1=\"669.753\" x2=\"1283.89\" y2=\"669.753\" style=\"stroke:#00a9ad; stroke-width:3.2; stroke-opacity:1\"/>\n",
       "<line clip-path=\"url(#clip882)\" x1=\"1407.82\" y1=\"724.949\" x2=\"1407.82\" y2=\"708.949\" style=\"stroke:#00a9ad; stroke-width:3.2; stroke-opacity:1\"/>\n",
       "<line clip-path=\"url(#clip882)\" x1=\"1407.82\" y1=\"724.949\" x2=\"1391.82\" y2=\"724.949\" style=\"stroke:#00a9ad; stroke-width:3.2; stroke-opacity:1\"/>\n",
       "<line clip-path=\"url(#clip882)\" x1=\"1407.82\" y1=\"724.949\" x2=\"1407.82\" y2=\"740.949\" style=\"stroke:#00a9ad; stroke-width:3.2; stroke-opacity:1\"/>\n",
       "<line clip-path=\"url(#clip882)\" x1=\"1407.82\" y1=\"724.949\" x2=\"1423.82\" y2=\"724.949\" style=\"stroke:#00a9ad; stroke-width:3.2; stroke-opacity:1\"/>\n",
       "<line clip-path=\"url(#clip882)\" x1=\"1318.17\" y1=\"687.152\" x2=\"1318.17\" y2=\"671.152\" style=\"stroke:#00a9ad; stroke-width:3.2; stroke-opacity:1\"/>\n",
       "<line clip-path=\"url(#clip882)\" x1=\"1318.17\" y1=\"687.152\" x2=\"1302.17\" y2=\"687.152\" style=\"stroke:#00a9ad; stroke-width:3.2; stroke-opacity:1\"/>\n",
       "<line clip-path=\"url(#clip882)\" x1=\"1318.17\" y1=\"687.152\" x2=\"1318.17\" y2=\"703.152\" style=\"stroke:#00a9ad; stroke-width:3.2; stroke-opacity:1\"/>\n",
       "<line clip-path=\"url(#clip882)\" x1=\"1318.17\" y1=\"687.152\" x2=\"1334.17\" y2=\"687.152\" style=\"stroke:#00a9ad; stroke-width:3.2; stroke-opacity:1\"/>\n",
       "<line clip-path=\"url(#clip882)\" x1=\"1379.56\" y1=\"712.165\" x2=\"1379.56\" y2=\"696.165\" style=\"stroke:#00a9ad; stroke-width:3.2; stroke-opacity:1\"/>\n",
       "<line clip-path=\"url(#clip882)\" x1=\"1379.56\" y1=\"712.165\" x2=\"1363.56\" y2=\"712.165\" style=\"stroke:#00a9ad; stroke-width:3.2; stroke-opacity:1\"/>\n",
       "<line clip-path=\"url(#clip882)\" x1=\"1379.56\" y1=\"712.165\" x2=\"1379.56\" y2=\"728.165\" style=\"stroke:#00a9ad; stroke-width:3.2; stroke-opacity:1\"/>\n",
       "<line clip-path=\"url(#clip882)\" x1=\"1379.56\" y1=\"712.165\" x2=\"1395.56\" y2=\"712.165\" style=\"stroke:#00a9ad; stroke-width:3.2; stroke-opacity:1\"/>\n",
       "<line clip-path=\"url(#clip882)\" x1=\"1338.93\" y1=\"695.168\" x2=\"1338.93\" y2=\"679.168\" style=\"stroke:#00a9ad; stroke-width:3.2; stroke-opacity:1\"/>\n",
       "<line clip-path=\"url(#clip882)\" x1=\"1338.93\" y1=\"695.168\" x2=\"1322.93\" y2=\"695.168\" style=\"stroke:#00a9ad; stroke-width:3.2; stroke-opacity:1\"/>\n",
       "<line clip-path=\"url(#clip882)\" x1=\"1338.93\" y1=\"695.168\" x2=\"1338.93\" y2=\"711.168\" style=\"stroke:#00a9ad; stroke-width:3.2; stroke-opacity:1\"/>\n",
       "<line clip-path=\"url(#clip882)\" x1=\"1338.93\" y1=\"695.168\" x2=\"1354.93\" y2=\"695.168\" style=\"stroke:#00a9ad; stroke-width:3.2; stroke-opacity:1\"/>\n",
       "<line clip-path=\"url(#clip882)\" x1=\"1366.54\" y1=\"706.535\" x2=\"1366.54\" y2=\"690.535\" style=\"stroke:#00a9ad; stroke-width:3.2; stroke-opacity:1\"/>\n",
       "<line clip-path=\"url(#clip882)\" x1=\"1366.54\" y1=\"706.535\" x2=\"1350.54\" y2=\"706.535\" style=\"stroke:#00a9ad; stroke-width:3.2; stroke-opacity:1\"/>\n",
       "<line clip-path=\"url(#clip882)\" x1=\"1366.54\" y1=\"706.535\" x2=\"1366.54\" y2=\"722.535\" style=\"stroke:#00a9ad; stroke-width:3.2; stroke-opacity:1\"/>\n",
       "<line clip-path=\"url(#clip882)\" x1=\"1366.54\" y1=\"706.535\" x2=\"1382.54\" y2=\"706.535\" style=\"stroke:#00a9ad; stroke-width:3.2; stroke-opacity:1\"/>\n",
       "<line clip-path=\"url(#clip882)\" x1=\"1348.08\" y1=\"698.846\" x2=\"1348.08\" y2=\"682.846\" style=\"stroke:#00a9ad; stroke-width:3.2; stroke-opacity:1\"/>\n",
       "<line clip-path=\"url(#clip882)\" x1=\"1348.08\" y1=\"698.846\" x2=\"1332.08\" y2=\"698.846\" style=\"stroke:#00a9ad; stroke-width:3.2; stroke-opacity:1\"/>\n",
       "<line clip-path=\"url(#clip882)\" x1=\"1348.08\" y1=\"698.846\" x2=\"1348.08\" y2=\"714.846\" style=\"stroke:#00a9ad; stroke-width:3.2; stroke-opacity:1\"/>\n",
       "<line clip-path=\"url(#clip882)\" x1=\"1348.08\" y1=\"698.846\" x2=\"1364.08\" y2=\"698.846\" style=\"stroke:#00a9ad; stroke-width:3.2; stroke-opacity:1\"/>\n",
       "<line clip-path=\"url(#clip882)\" x1=\"1360.57\" y1=\"704.009\" x2=\"1360.57\" y2=\"688.009\" style=\"stroke:#00a9ad; stroke-width:3.2; stroke-opacity:1\"/>\n",
       "<line clip-path=\"url(#clip882)\" x1=\"1360.57\" y1=\"704.009\" x2=\"1344.57\" y2=\"704.009\" style=\"stroke:#00a9ad; stroke-width:3.2; stroke-opacity:1\"/>\n",
       "<line clip-path=\"url(#clip882)\" x1=\"1360.57\" y1=\"704.009\" x2=\"1360.57\" y2=\"720.009\" style=\"stroke:#00a9ad; stroke-width:3.2; stroke-opacity:1\"/>\n",
       "<line clip-path=\"url(#clip882)\" x1=\"1360.57\" y1=\"704.009\" x2=\"1376.57\" y2=\"704.009\" style=\"stroke:#00a9ad; stroke-width:3.2; stroke-opacity:1\"/>\n",
       "<line clip-path=\"url(#clip882)\" x1=\"1352.18\" y1=\"700.524\" x2=\"1352.18\" y2=\"684.524\" style=\"stroke:#00a9ad; stroke-width:3.2; stroke-opacity:1\"/>\n",
       "<line clip-path=\"url(#clip882)\" x1=\"1352.18\" y1=\"700.524\" x2=\"1336.18\" y2=\"700.524\" style=\"stroke:#00a9ad; stroke-width:3.2; stroke-opacity:1\"/>\n",
       "<line clip-path=\"url(#clip882)\" x1=\"1352.18\" y1=\"700.524\" x2=\"1352.18\" y2=\"716.524\" style=\"stroke:#00a9ad; stroke-width:3.2; stroke-opacity:1\"/>\n",
       "<line clip-path=\"url(#clip882)\" x1=\"1352.18\" y1=\"700.524\" x2=\"1368.18\" y2=\"700.524\" style=\"stroke:#00a9ad; stroke-width:3.2; stroke-opacity:1\"/>\n",
       "<line clip-path=\"url(#clip882)\" x1=\"1357.84\" y1=\"702.868\" x2=\"1357.84\" y2=\"686.868\" style=\"stroke:#00a9ad; stroke-width:3.2; stroke-opacity:1\"/>\n",
       "<line clip-path=\"url(#clip882)\" x1=\"1357.84\" y1=\"702.868\" x2=\"1341.84\" y2=\"702.868\" style=\"stroke:#00a9ad; stroke-width:3.2; stroke-opacity:1\"/>\n",
       "<line clip-path=\"url(#clip882)\" x1=\"1357.84\" y1=\"702.868\" x2=\"1357.84\" y2=\"718.868\" style=\"stroke:#00a9ad; stroke-width:3.2; stroke-opacity:1\"/>\n",
       "<line clip-path=\"url(#clip882)\" x1=\"1357.84\" y1=\"702.868\" x2=\"1373.84\" y2=\"702.868\" style=\"stroke:#00a9ad; stroke-width:3.2; stroke-opacity:1\"/>\n",
       "<line clip-path=\"url(#clip882)\" x1=\"1354.03\" y1=\"701.288\" x2=\"1354.03\" y2=\"685.288\" style=\"stroke:#00a9ad; stroke-width:3.2; stroke-opacity:1\"/>\n",
       "<line clip-path=\"url(#clip882)\" x1=\"1354.03\" y1=\"701.288\" x2=\"1338.03\" y2=\"701.288\" style=\"stroke:#00a9ad; stroke-width:3.2; stroke-opacity:1\"/>\n",
       "<line clip-path=\"url(#clip882)\" x1=\"1354.03\" y1=\"701.288\" x2=\"1354.03\" y2=\"717.288\" style=\"stroke:#00a9ad; stroke-width:3.2; stroke-opacity:1\"/>\n",
       "<line clip-path=\"url(#clip882)\" x1=\"1354.03\" y1=\"701.288\" x2=\"1370.03\" y2=\"701.288\" style=\"stroke:#00a9ad; stroke-width:3.2; stroke-opacity:1\"/>\n",
       "<line clip-path=\"url(#clip882)\" x1=\"1356.6\" y1=\"702.351\" x2=\"1356.6\" y2=\"686.351\" style=\"stroke:#00a9ad; stroke-width:3.2; stroke-opacity:1\"/>\n",
       "<line clip-path=\"url(#clip882)\" x1=\"1356.6\" y1=\"702.351\" x2=\"1340.6\" y2=\"702.351\" style=\"stroke:#00a9ad; stroke-width:3.2; stroke-opacity:1\"/>\n",
       "<line clip-path=\"url(#clip882)\" x1=\"1356.6\" y1=\"702.351\" x2=\"1356.6\" y2=\"718.351\" style=\"stroke:#00a9ad; stroke-width:3.2; stroke-opacity:1\"/>\n",
       "<line clip-path=\"url(#clip882)\" x1=\"1356.6\" y1=\"702.351\" x2=\"1372.6\" y2=\"702.351\" style=\"stroke:#00a9ad; stroke-width:3.2; stroke-opacity:1\"/>\n",
       "<line clip-path=\"url(#clip882)\" x1=\"1354.87\" y1=\"701.634\" x2=\"1354.87\" y2=\"685.634\" style=\"stroke:#00a9ad; stroke-width:3.2; stroke-opacity:1\"/>\n",
       "<line clip-path=\"url(#clip882)\" x1=\"1354.87\" y1=\"701.634\" x2=\"1338.87\" y2=\"701.634\" style=\"stroke:#00a9ad; stroke-width:3.2; stroke-opacity:1\"/>\n",
       "<line clip-path=\"url(#clip882)\" x1=\"1354.87\" y1=\"701.634\" x2=\"1354.87\" y2=\"717.634\" style=\"stroke:#00a9ad; stroke-width:3.2; stroke-opacity:1\"/>\n",
       "<line clip-path=\"url(#clip882)\" x1=\"1354.87\" y1=\"701.634\" x2=\"1370.87\" y2=\"701.634\" style=\"stroke:#00a9ad; stroke-width:3.2; stroke-opacity:1\"/>\n",
       "<line clip-path=\"url(#clip882)\" x1=\"1356.04\" y1=\"702.117\" x2=\"1356.04\" y2=\"686.117\" style=\"stroke:#00a9ad; stroke-width:3.2; stroke-opacity:1\"/>\n",
       "<line clip-path=\"url(#clip882)\" x1=\"1356.04\" y1=\"702.117\" x2=\"1340.04\" y2=\"702.117\" style=\"stroke:#00a9ad; stroke-width:3.2; stroke-opacity:1\"/>\n",
       "<line clip-path=\"url(#clip882)\" x1=\"1356.04\" y1=\"702.117\" x2=\"1356.04\" y2=\"718.117\" style=\"stroke:#00a9ad; stroke-width:3.2; stroke-opacity:1\"/>\n",
       "<line clip-path=\"url(#clip882)\" x1=\"1356.04\" y1=\"702.117\" x2=\"1372.04\" y2=\"702.117\" style=\"stroke:#00a9ad; stroke-width:3.2; stroke-opacity:1\"/>\n",
       "<path clip-path=\"url(#clip880)\" d=\"\n",
       "M1930.48 639.538 L2279.25 639.538 L2279.25 95.2176 L1930.48 95.2176  Z\n",
       "  \" fill=\"#ffffff\" fill-rule=\"evenodd\" fill-opacity=\"1\"/>\n",
       "<polyline clip-path=\"url(#clip880)\" style=\"stroke:#000000; stroke-linecap:butt; stroke-linejoin:round; stroke-width:4; stroke-opacity:1; fill:none\" points=\"\n",
       "  1930.48,639.538 2279.25,639.538 2279.25,95.2176 1930.48,95.2176 1930.48,639.538 \n",
       "  \"/>\n",
       "<polyline clip-path=\"url(#clip880)\" style=\"stroke:#009af9; stroke-linecap:butt; stroke-linejoin:round; stroke-width:6; stroke-opacity:1; fill:none\" points=\"\n",
       "  1954.99,172.978 2102,172.978 \n",
       "  \"/>\n",
       "<path clip-path=\"url(#clip880)\" d=\"M2147.27 202.509 Q2144.56 209.453 2141.99 211.571 Q2139.42 213.689 2135.12 213.689 L2130.01 213.689 L2130.01 208.342 L2133.76 208.342 Q2136.4 208.342 2137.86 207.092 Q2139.32 205.842 2141.09 201.189 L2142.24 198.273 L2126.51 160.009 L2133.28 160.009 L2145.43 190.425 L2157.58 160.009 L2164.35 160.009 L2147.27 202.509 Z\" fill=\"#000000\" fill-rule=\"evenodd\" fill-opacity=\"1\" /><path clip-path=\"url(#clip880)\" d=\"M2175.29 192.995 L2186.75 192.995 L2186.75 153.446 L2174.28 155.946 L2174.28 149.558 L2186.68 147.058 L2193.69 147.058 L2193.69 192.995 L2205.15 192.995 L2205.15 198.898 L2175.29 198.898 L2175.29 192.995 Z\" fill=\"#000000\" fill-rule=\"evenodd\" fill-opacity=\"1\" /><polyline clip-path=\"url(#clip880)\" style=\"stroke:#e26f46; stroke-linecap:butt; stroke-linejoin:round; stroke-width:6; stroke-opacity:1; fill:none\" points=\"\n",
       "  1954.99,250.738 2102,250.738 \n",
       "  \"/>\n",
       "<path clip-path=\"url(#clip880)\" d=\"M2147.27 280.269 Q2144.56 287.213 2141.99 289.331 Q2139.42 291.449 2135.12 291.449 L2130.01 291.449 L2130.01 286.102 L2133.76 286.102 Q2136.4 286.102 2137.86 284.852 Q2139.32 283.602 2141.09 278.949 L2142.24 276.033 L2126.51 237.769 L2133.28 237.769 L2145.43 268.185 L2157.58 237.769 L2164.35 237.769 L2147.27 280.269 Z\" fill=\"#000000\" fill-rule=\"evenodd\" fill-opacity=\"1\" /><path clip-path=\"url(#clip880)\" d=\"M2180.12 270.755 L2204.6 270.755 L2204.6 276.658 L2171.68 276.658 L2171.68 270.755 Q2175.67 266.623 2182.55 259.678 Q2189.46 252.699 2191.23 250.685 Q2194.6 246.901 2195.92 244.297 Q2197.27 241.658 2197.27 239.123 Q2197.27 234.991 2194.35 232.387 Q2191.47 229.783 2186.82 229.783 Q2183.52 229.783 2179.84 230.929 Q2176.19 232.074 2172.03 234.401 L2172.03 227.318 Q2176.26 225.616 2179.94 224.748 Q2183.62 223.88 2186.68 223.88 Q2194.74 223.88 2199.53 227.908 Q2204.32 231.936 2204.32 238.672 Q2204.32 241.866 2203.1 244.748 Q2201.92 247.595 2198.76 251.484 Q2197.9 252.491 2193.24 257.317 Q2188.59 262.109 2180.12 270.755 Z\" fill=\"#000000\" fill-rule=\"evenodd\" fill-opacity=\"1\" /><circle clip-path=\"url(#clip880)\" cx=\"2028.49\" cy=\"328.498\" r=\"34\" fill=\"#3da44d\" fill-rule=\"evenodd\" fill-opacity=\"1\" stroke=\"#000000\" stroke-opacity=\"1\" stroke-width=\"7.68\"/>\n",
       "<path clip-path=\"url(#clip880)\" d=\"M2162.34 313.351 Q2162.34 315.318 2161.11 316.443 Q2159.88 317.532 2158.48 317.532 Q2157.14 317.532 2156.44 316.759 Q2155.74 315.986 2155.74 315.002 Q2155.74 313.667 2156.72 312.508 Q2157.71 311.348 2159.18 311.102 Q2157.74 310.189 2155.6 310.189 Q2154.19 310.189 2152.96 310.927 Q2151.77 311.664 2151.03 312.613 Q2150.33 313.562 2149.7 314.932 Q2149.1 316.267 2148.85 317.075 Q2148.64 317.848 2148.47 318.691 L2146.01 328.528 Q2144.81 333.201 2144.81 334.853 Q2144.81 336.89 2145.8 338.261 Q2146.78 339.596 2148.75 339.596 Q2149.52 339.596 2150.4 339.385 Q2151.28 339.139 2152.4 338.506 Q2153.56 337.839 2154.58 336.855 Q2155.63 335.836 2156.65 334.115 Q2157.67 332.393 2158.34 330.18 Q2158.55 329.407 2159.25 329.407 Q2160.13 329.407 2160.13 330.11 Q2160.13 330.707 2159.64 331.972 Q2159.18 333.201 2158.16 334.817 Q2157.18 336.398 2155.88 337.839 Q2154.58 339.244 2152.65 340.228 Q2150.71 341.212 2148.61 341.212 Q2145.58 341.212 2143.58 339.596 Q2141.58 337.979 2140.84 335.731 Q2140.67 336.047 2140.42 336.469 Q2140.17 336.89 2139.44 337.839 Q2138.73 338.752 2137.93 339.455 Q2137.12 340.123 2135.85 340.65 Q2134.62 341.212 2133.29 341.212 Q2131.6 341.212 2130.09 340.72 Q2128.61 340.228 2127.56 339.104 Q2126.51 337.979 2126.51 336.434 Q2126.51 334.712 2127.67 333.517 Q2128.86 332.288 2130.48 332.288 Q2131.5 332.288 2132.3 332.885 Q2133.15 333.482 2133.15 334.782 Q2133.15 336.223 2132.16 337.312 Q2131.18 338.401 2129.77 338.682 Q2131.21 339.596 2133.36 339.596 Q2135.68 339.596 2137.5 337.558 Q2139.33 335.52 2140.21 332.112 Q2142.39 323.926 2143.23 320.272 Q2144.07 316.583 2144.07 315.002 Q2144.07 313.526 2143.69 312.508 Q2143.3 311.489 2142.63 311.032 Q2142 310.54 2141.4 310.364 Q2140.84 310.189 2140.21 310.189 Q2139.15 310.189 2137.96 310.61 Q2136.8 311.032 2135.4 312.016 Q2134.03 312.964 2132.73 314.932 Q2131.43 316.899 2130.55 319.605 Q2130.37 320.413 2129.6 320.413 Q2128.76 320.377 2128.76 319.675 Q2128.76 319.078 2129.21 317.848 Q2129.7 316.583 2130.69 315.002 Q2131.71 313.421 2133.01 312.016 Q2134.34 310.575 2136.27 309.591 Q2138.24 308.608 2140.35 308.608 Q2141.3 308.608 2142.21 308.819 Q2143.16 308.994 2144.28 309.521 Q2145.44 310.048 2146.46 311.208 Q2147.48 312.367 2148.11 314.053 Q2148.54 313.245 2149.1 312.472 Q2149.7 311.699 2150.61 310.751 Q2151.56 309.767 2152.86 309.205 Q2154.19 308.608 2155.67 308.608 Q2157.11 308.608 2158.51 308.994 Q2159.92 309.346 2161.11 310.505 Q2162.34 311.629 2162.34 313.351 Z\" fill=\"#000000\" fill-rule=\"evenodd\" fill-opacity=\"1\" /><path clip-path=\"url(#clip880)\" d=\"M2183.64 346.604 Q2183.64 345.743 2184.8 345.177 L2191.81 341.857 L2184.7 338.537 Q2183.64 338.045 2183.64 337.184 Q2183.64 336.693 2184.04 336.25 Q2184.46 335.783 2185 335.783 Q2185.39 335.783 2186.1 336.324 L2192.35 340.849 Q2191.59 332.536 2191.61 332.29 Q2191.61 331.798 2191.98 331.43 Q2192.35 331.036 2192.97 331.036 Q2193.46 331.036 2193.85 331.405 Q2194.27 331.749 2194.27 332.29 L2193.53 340.849 L2199.11 336.717 Q2200.42 335.758 2200.88 335.783 Q2201.45 335.783 2201.84 336.225 Q2202.24 336.668 2202.24 337.184 Q2202.24 338.045 2201.08 338.586 L2194.07 341.906 L2201.18 345.251 Q2202.24 345.743 2202.24 346.604 Q2202.24 347.096 2201.82 347.563 Q2201.43 348.006 2200.88 348.006 Q2200.59 348.006 2200.07 347.711 Q2199.97 347.661 2198.92 346.874 Q2197.86 346.087 2196.21 344.882 Q2194.59 343.677 2193.53 342.915 Q2194.29 351.227 2194.27 351.473 Q2194.27 351.965 2193.9 352.359 Q2193.53 352.752 2192.92 352.752 Q2192.42 352.752 2192.01 352.408 Q2191.61 352.039 2191.61 351.473 L2192.35 342.915 L2185.32 348.006 Q2184.55 348.006 2184.14 347.637 Q2183.74 347.243 2183.69 347.022 Q2183.64 346.801 2183.64 346.604 Z\" fill=\"#000000\" fill-rule=\"evenodd\" fill-opacity=\"1\" /><polyline clip-path=\"url(#clip880)\" style=\"stroke:#c271d2; stroke-linecap:butt; stroke-linejoin:round; stroke-width:6; stroke-opacity:1; fill:none\" points=\"\n",
       "  1954.99,406.258 2102,406.258 \n",
       "  \"/>\n",
       "<path clip-path=\"url(#clip880)\" d=\"M2028.49 367.858 L1990.09 406.258 L2028.49 444.658 L2066.89 406.258 L2028.49 367.858 Z\" fill=\"#c271d2\" fill-rule=\"evenodd\" fill-opacity=\"1\" stroke=\"#000000\" stroke-opacity=\"1\" stroke-width=\"7.68\"/>\n",
       "<path clip-path=\"url(#clip880)\" d=\"M2147.27 435.789 Q2144.56 442.733 2141.99 444.851 Q2139.42 446.969 2135.12 446.969 L2130.01 446.969 L2130.01 441.622 L2133.76 441.622 Q2136.4 441.622 2137.86 440.372 Q2139.32 439.122 2141.09 434.469 L2142.24 431.553 L2126.51 393.289 L2133.28 393.289 L2145.43 423.705 L2157.58 393.289 L2164.35 393.289 L2147.27 435.789 Z\" fill=\"#000000\" fill-rule=\"evenodd\" fill-opacity=\"1\" /><path clip-path=\"url(#clip880)\" d=\"M2193.35 386.449 L2175.64 414.122 L2193.35 414.122 L2193.35 386.449 M2191.51 380.338 L2200.33 380.338 L2200.33 414.122 L2207.72 414.122 L2207.72 419.955 L2200.33 419.955 L2200.33 432.178 L2193.35 432.178 L2193.35 419.955 L2169.94 419.955 L2169.94 413.185 L2191.51 380.338 Z\" fill=\"#000000\" fill-rule=\"evenodd\" fill-opacity=\"1\" /><polyline clip-path=\"url(#clip880)\" style=\"stroke:#ac8d18; stroke-linecap:butt; stroke-linejoin:round; stroke-width:6; stroke-opacity:1; fill:none\" points=\"\n",
       "  1954.99,484.018 2102,484.018 \n",
       "  \"/>\n",
       "<path clip-path=\"url(#clip880)\" d=\"M2028.49 522.418 L1995.24 503.218 L1995.24 464.818 L2028.49 445.618 L2061.75 464.818 L2061.75 503.218 Z\" fill=\"#ac8d18\" fill-rule=\"evenodd\" fill-opacity=\"1\" stroke=\"#000000\" stroke-opacity=\"1\" stroke-width=\"7.68\"/>\n",
       "<path clip-path=\"url(#clip880)\" d=\"M2147.27 513.549 Q2144.56 520.493 2141.99 522.611 Q2139.42 524.729 2135.12 524.729 L2130.01 524.729 L2130.01 519.382 L2133.76 519.382 Q2136.4 519.382 2137.86 518.132 Q2139.32 516.882 2141.09 512.229 L2142.24 509.313 L2126.51 471.049 L2133.28 471.049 L2145.43 501.465 L2157.58 471.049 L2164.35 471.049 L2147.27 513.549 Z\" fill=\"#000000\" fill-rule=\"evenodd\" fill-opacity=\"1\" /><path clip-path=\"url(#clip880)\" d=\"M2174.15 458.098 L2201.68 458.098 L2201.68 464 L2180.57 464 L2180.57 476.709 Q2182.1 476.188 2183.62 475.945 Q2185.15 475.667 2186.68 475.667 Q2195.36 475.667 2200.43 480.424 Q2205.5 485.181 2205.5 493.306 Q2205.5 501.674 2200.29 506.326 Q2195.08 510.944 2185.6 510.944 Q2182.34 510.944 2178.94 510.389 Q2175.57 509.833 2171.96 508.722 L2171.96 501.674 Q2175.08 503.375 2178.42 504.208 Q2181.75 505.042 2185.46 505.042 Q2191.47 505.042 2194.98 501.882 Q2198.49 498.722 2198.49 493.306 Q2198.49 487.889 2194.98 484.729 Q2191.47 481.57 2185.46 481.57 Q2182.65 481.57 2179.84 482.195 Q2177.06 482.82 2174.15 484.139 L2174.15 458.098 Z\" fill=\"#000000\" fill-rule=\"evenodd\" fill-opacity=\"1\" /><polyline clip-path=\"url(#clip880)\" style=\"stroke:#00a9ad; stroke-linecap:butt; stroke-linejoin:round; stroke-width:6; stroke-opacity:1; fill:none\" points=\"\n",
       "  1954.99,561.778 2102,561.778 \n",
       "  \"/>\n",
       "<line clip-path=\"url(#clip880)\" x1=\"2028.49\" y1=\"561.778\" x2=\"2028.49\" y2=\"523.378\" style=\"stroke:#00a9ad; stroke-width:3.2; stroke-opacity:1\"/>\n",
       "<line clip-path=\"url(#clip880)\" x1=\"2028.49\" y1=\"561.778\" x2=\"1990.09\" y2=\"561.778\" style=\"stroke:#00a9ad; stroke-width:3.2; stroke-opacity:1\"/>\n",
       "<line clip-path=\"url(#clip880)\" x1=\"2028.49\" y1=\"561.778\" x2=\"2028.49\" y2=\"600.178\" style=\"stroke:#00a9ad; stroke-width:3.2; stroke-opacity:1\"/>\n",
       "<line clip-path=\"url(#clip880)\" x1=\"2028.49\" y1=\"561.778\" x2=\"2066.89\" y2=\"561.778\" style=\"stroke:#00a9ad; stroke-width:3.2; stroke-opacity:1\"/>\n",
       "<path clip-path=\"url(#clip880)\" d=\"M2147.27 591.309 Q2144.56 598.253 2141.99 600.371 Q2139.42 602.489 2135.12 602.489 L2130.01 602.489 L2130.01 597.142 L2133.76 597.142 Q2136.4 597.142 2137.86 595.892 Q2139.32 594.642 2141.09 589.989 L2142.24 587.073 L2126.51 548.809 L2133.28 548.809 L2145.43 579.225 L2157.58 548.809 L2164.35 548.809 L2147.27 591.309 Z\" fill=\"#000000\" fill-rule=\"evenodd\" fill-opacity=\"1\" /><path clip-path=\"url(#clip880)\" d=\"M2189.94 558.982 Q2185.22 558.982 2182.44 562.212 Q2179.7 565.441 2179.7 571.066 Q2179.7 576.656 2182.44 579.92 Q2185.22 583.149 2189.94 583.149 Q2194.67 583.149 2197.41 579.92 Q2200.19 576.656 2200.19 571.066 Q2200.19 565.441 2197.41 562.212 Q2194.67 558.982 2189.94 558.982 M2203.87 537.003 L2203.87 543.392 Q2201.23 542.142 2198.52 541.483 Q2195.85 540.823 2193.21 540.823 Q2186.26 540.823 2182.58 545.51 Q2178.94 550.198 2178.42 559.677 Q2180.46 556.656 2183.56 555.059 Q2186.65 553.427 2190.36 553.427 Q2198.17 553.427 2202.69 558.184 Q2207.24 562.906 2207.24 571.066 Q2207.24 579.052 2202.51 583.878 Q2197.79 588.704 2189.94 588.704 Q2180.95 588.704 2176.19 581.83 Q2171.44 574.92 2171.44 561.83 Q2171.44 549.538 2177.27 542.246 Q2183.1 534.92 2192.93 534.92 Q2195.57 534.92 2198.24 535.441 Q2200.95 535.962 2203.87 537.003 Z\" fill=\"#000000\" fill-rule=\"evenodd\" fill-opacity=\"1\" /></svg>\n"
      ]
     },
     "execution_count": 7,
     "metadata": {},
     "output_type": "execute_result"
    }
   ],
   "source": [
    "function fixed_point(g, x, n)\n",
    "    xs = [x]\n",
    "    for k in 1:n\n",
    "        x = g(x)\n",
    "        append!(xs, x)\n",
    "    end\n",
    "    xs\n",
    "end\n",
    "\n",
    "xs = fixed_point(g, 0., 15)\n",
    "plot!(xs, g.(xs), seriestype=:path, marker=:auto)"
   ]
  },
  {
   "cell_type": "markdown",
   "id": "26eda74e",
   "metadata": {
    "slideshow": {
     "slide_type": "slide"
    }
   },
   "source": [
    "# Verifying fixed point convergence theory\n",
    "\n",
    "\n",
    "$$ \\left\\lvert \\frac{e_{k+1}}{e_k} \\right\\rvert \\to \\lvert g'(x_*) \\rvert $$"
   ]
  },
  {
   "cell_type": "code",
   "execution_count": 8,
   "id": "ba29642e",
   "metadata": {
    "cell_style": "split"
   },
   "outputs": [
    {
     "name": "stdout",
     "output_type": "stream",
     "text": [
      "gp(xstar) = -0.6736120293089505\n"
     ]
    },
    {
     "data": {
      "text/plain": [
       "15-element Vector{Float64}:\n",
       " -0.3530241034880909\n",
       " -0.7618685362635164\n",
       " -0.5959673878312852\n",
       " -0.7157653025686597\n",
       " -0.6414883589709152\n",
       " -0.6933762938713267\n",
       " -0.6595161800339986\n",
       " -0.6827343083372247\n",
       " -0.667303950535869\n",
       " -0.677785479788835\n",
       " -0.670766892391035\n",
       " -0.6755130653097281\n",
       " -0.6723244355324894\n",
       " -0.6744762481989985\n",
       " -0.6730283414604459"
      ]
     },
     "execution_count": 8,
     "metadata": {},
     "output_type": "execute_result"
    }
   ],
   "source": [
    "@show gp(xstar)\n",
    "es = xs .- xstar\n",
    "es[2:end] ./ es[1:end-1]"
   ]
  },
  {
   "cell_type": "code",
   "execution_count": 9,
   "id": "b353d06d",
   "metadata": {
    "cell_style": "split"
   },
   "outputs": [
    {
     "data": {
      "image/svg+xml": [
       "<?xml version=\"1.0\" encoding=\"utf-8\"?>\n",
       "<svg xmlns=\"http://www.w3.org/2000/svg\" xmlns:xlink=\"http://www.w3.org/1999/xlink\" width=\"600\" height=\"400\" viewBox=\"0 0 2400 1600\">\n",
       "<defs>\n",
       "  <clipPath id=\"clip920\">\n",
       "    <rect x=\"0\" y=\"0\" width=\"2400\" height=\"1600\"/>\n",
       "  </clipPath>\n",
       "</defs>\n",
       "<path clip-path=\"url(#clip920)\" d=\"\n",
       "M0 1600 L2400 1600 L2400 0 L0 0  Z\n",
       "  \" fill=\"#ffffff\" fill-rule=\"evenodd\" fill-opacity=\"1\"/>\n",
       "<defs>\n",
       "  <clipPath id=\"clip921\">\n",
       "    <rect x=\"480\" y=\"0\" width=\"1681\" height=\"1600\"/>\n",
       "  </clipPath>\n",
       "</defs>\n",
       "<defs>\n",
       "  <clipPath id=\"clip922\">\n",
       "    <rect x=\"147\" y=\"47\" width=\"2206\" height=\"1440\"/>\n",
       "  </clipPath>\n",
       "</defs>\n",
       "<path clip-path=\"url(#clip920)\" d=\"\n",
       "M188.574 1486.45 L2352.76 1486.45 L2352.76 47.2441 L188.574 47.2441  Z\n",
       "  \" fill=\"#ffffff\" fill-rule=\"evenodd\" fill-opacity=\"1\"/>\n",
       "<defs>\n",
       "  <clipPath id=\"clip923\">\n",
       "    <rect x=\"188\" y=\"47\" width=\"2165\" height=\"1440\"/>\n",
       "  </clipPath>\n",
       "</defs>\n",
       "<polyline clip-path=\"url(#clip923)\" style=\"stroke:#000000; stroke-linecap:butt; stroke-linejoin:round; stroke-width:2; stroke-opacity:0.1; fill:none\" points=\"\n",
       "  522.049,1486.45 522.049,47.2441 \n",
       "  \"/>\n",
       "<polyline clip-path=\"url(#clip923)\" style=\"stroke:#000000; stroke-linecap:butt; stroke-linejoin:round; stroke-width:2; stroke-opacity:0.1; fill:none\" points=\"\n",
       "  930.385,1486.45 930.385,47.2441 \n",
       "  \"/>\n",
       "<polyline clip-path=\"url(#clip923)\" style=\"stroke:#000000; stroke-linecap:butt; stroke-linejoin:round; stroke-width:2; stroke-opacity:0.1; fill:none\" points=\"\n",
       "  1338.72,1486.45 1338.72,47.2441 \n",
       "  \"/>\n",
       "<polyline clip-path=\"url(#clip923)\" style=\"stroke:#000000; stroke-linecap:butt; stroke-linejoin:round; stroke-width:2; stroke-opacity:0.1; fill:none\" points=\"\n",
       "  1747.06,1486.45 1747.06,47.2441 \n",
       "  \"/>\n",
       "<polyline clip-path=\"url(#clip923)\" style=\"stroke:#000000; stroke-linecap:butt; stroke-linejoin:round; stroke-width:2; stroke-opacity:0.1; fill:none\" points=\"\n",
       "  2155.39,1486.45 2155.39,47.2441 \n",
       "  \"/>\n",
       "<polyline clip-path=\"url(#clip920)\" style=\"stroke:#000000; stroke-linecap:butt; stroke-linejoin:round; stroke-width:4; stroke-opacity:1; fill:none\" points=\"\n",
       "  188.574,1486.45 2352.76,1486.45 \n",
       "  \"/>\n",
       "<polyline clip-path=\"url(#clip920)\" style=\"stroke:#000000; stroke-linecap:butt; stroke-linejoin:round; stroke-width:4; stroke-opacity:1; fill:none\" points=\"\n",
       "  522.049,1486.45 522.049,1467.55 \n",
       "  \"/>\n",
       "<polyline clip-path=\"url(#clip920)\" style=\"stroke:#000000; stroke-linecap:butt; stroke-linejoin:round; stroke-width:4; stroke-opacity:1; fill:none\" points=\"\n",
       "  930.385,1486.45 930.385,1467.55 \n",
       "  \"/>\n",
       "<polyline clip-path=\"url(#clip920)\" style=\"stroke:#000000; stroke-linecap:butt; stroke-linejoin:round; stroke-width:4; stroke-opacity:1; fill:none\" points=\"\n",
       "  1338.72,1486.45 1338.72,1467.55 \n",
       "  \"/>\n",
       "<polyline clip-path=\"url(#clip920)\" style=\"stroke:#000000; stroke-linecap:butt; stroke-linejoin:round; stroke-width:4; stroke-opacity:1; fill:none\" points=\"\n",
       "  1747.06,1486.45 1747.06,1467.55 \n",
       "  \"/>\n",
       "<polyline clip-path=\"url(#clip920)\" style=\"stroke:#000000; stroke-linecap:butt; stroke-linejoin:round; stroke-width:4; stroke-opacity:1; fill:none\" points=\"\n",
       "  2155.39,1486.45 2155.39,1467.55 \n",
       "  \"/>\n",
       "<path clip-path=\"url(#clip920)\" d=\"M526.297 1530.21 Q529.653 1530.93 531.528 1533.2 Q533.426 1535.47 533.426 1538.8 Q533.426 1543.92 529.908 1546.72 Q526.389 1549.52 519.908 1549.52 Q517.732 1549.52 515.417 1549.08 Q513.125 1548.66 510.672 1547.81 L510.672 1543.29 Q512.616 1544.43 514.931 1545.01 Q517.246 1545.58 519.769 1545.58 Q524.167 1545.58 526.459 1543.85 Q528.773 1542.11 528.773 1538.8 Q528.773 1535.75 526.621 1534.03 Q524.491 1532.3 520.672 1532.3 L516.644 1532.3 L516.644 1528.45 L520.857 1528.45 Q524.306 1528.45 526.134 1527.09 Q527.963 1525.7 527.963 1523.11 Q527.963 1520.45 526.065 1519.03 Q524.19 1517.6 520.672 1517.6 Q518.75 1517.6 516.551 1518.01 Q514.352 1518.43 511.713 1519.31 L511.713 1515.14 Q514.375 1514.4 516.69 1514.03 Q519.028 1513.66 521.088 1513.66 Q526.412 1513.66 529.514 1516.09 Q532.616 1518.5 532.616 1522.62 Q532.616 1525.49 530.972 1527.48 Q529.329 1529.45 526.297 1530.21 Z\" fill=\"#000000\" fill-rule=\"evenodd\" fill-opacity=\"1\" /><path clip-path=\"url(#clip920)\" d=\"M930.79 1529.7 Q927.642 1529.7 925.79 1531.86 Q923.961 1534.01 923.961 1537.76 Q923.961 1541.49 925.79 1543.66 Q927.642 1545.82 930.79 1545.82 Q933.938 1545.82 935.767 1543.66 Q937.619 1541.49 937.619 1537.76 Q937.619 1534.01 935.767 1531.86 Q933.938 1529.7 930.79 1529.7 M940.072 1515.05 L940.072 1519.31 Q938.313 1518.48 936.508 1518.04 Q934.725 1517.6 932.966 1517.6 Q928.336 1517.6 925.883 1520.72 Q923.452 1523.85 923.105 1530.17 Q924.471 1528.15 926.531 1527.09 Q928.591 1526 931.068 1526 Q936.276 1526 939.285 1529.17 Q942.318 1532.32 942.318 1537.76 Q942.318 1543.08 939.17 1546.3 Q936.022 1549.52 930.79 1549.52 Q924.795 1549.52 921.623 1544.94 Q918.452 1540.33 918.452 1531.6 Q918.452 1523.41 922.341 1518.55 Q926.23 1513.66 932.781 1513.66 Q934.54 1513.66 936.322 1514.01 Q938.128 1514.36 940.072 1515.05 Z\" fill=\"#000000\" fill-rule=\"evenodd\" fill-opacity=\"1\" /><path clip-path=\"url(#clip920)\" d=\"M1329.02 1548.13 L1329.02 1543.87 Q1330.78 1544.7 1332.59 1545.14 Q1334.39 1545.58 1336.13 1545.58 Q1340.76 1545.58 1343.19 1542.48 Q1345.64 1539.36 1345.99 1533.01 Q1344.65 1535.01 1342.59 1536.07 Q1340.53 1537.13 1338.03 1537.13 Q1332.84 1537.13 1329.81 1534.01 Q1326.8 1530.86 1326.8 1525.42 Q1326.8 1520.1 1329.95 1516.88 Q1333.1 1513.66 1338.33 1513.66 Q1344.32 1513.66 1347.47 1518.27 Q1350.64 1522.85 1350.64 1531.6 Q1350.64 1539.77 1346.75 1544.66 Q1342.89 1549.52 1336.34 1549.52 Q1334.58 1549.52 1332.77 1549.17 Q1330.97 1548.82 1329.02 1548.13 M1338.33 1533.48 Q1341.48 1533.48 1343.3 1531.32 Q1345.16 1529.17 1345.16 1525.42 Q1345.16 1521.7 1343.3 1519.54 Q1341.48 1517.37 1338.33 1517.37 Q1335.18 1517.37 1333.33 1519.54 Q1331.5 1521.7 1331.5 1525.42 Q1331.5 1529.17 1333.33 1531.32 Q1335.18 1533.48 1338.33 1533.48 Z\" fill=\"#000000\" fill-rule=\"evenodd\" fill-opacity=\"1\" /><path clip-path=\"url(#clip920)\" d=\"M1722.54 1544.91 L1730.18 1544.91 L1730.18 1518.55 L1721.87 1520.21 L1721.87 1515.95 L1730.14 1514.29 L1734.81 1514.29 L1734.81 1544.91 L1742.45 1544.91 L1742.45 1548.85 L1722.54 1548.85 L1722.54 1544.91 Z\" fill=\"#000000\" fill-rule=\"evenodd\" fill-opacity=\"1\" /><path clip-path=\"url(#clip920)\" d=\"M1755.92 1544.91 L1772.24 1544.91 L1772.24 1548.85 L1750.3 1548.85 L1750.3 1544.91 Q1752.96 1542.16 1757.54 1537.53 Q1762.15 1532.88 1763.33 1531.53 Q1765.58 1529.01 1766.46 1527.27 Q1767.36 1525.51 1767.36 1523.82 Q1767.36 1521.07 1765.41 1519.33 Q1763.49 1517.6 1760.39 1517.6 Q1758.19 1517.6 1755.74 1518.36 Q1753.31 1519.13 1750.53 1520.68 L1750.53 1515.95 Q1753.35 1514.82 1755.81 1514.24 Q1758.26 1513.66 1760.3 1513.66 Q1765.67 1513.66 1768.86 1516.35 Q1772.06 1519.03 1772.06 1523.52 Q1772.06 1525.65 1771.25 1527.57 Q1770.46 1529.47 1768.35 1532.07 Q1767.77 1532.74 1764.67 1535.95 Q1761.57 1539.15 1755.92 1544.91 Z\" fill=\"#000000\" fill-rule=\"evenodd\" fill-opacity=\"1\" /><path clip-path=\"url(#clip920)\" d=\"M2130.58 1544.91 L2138.22 1544.91 L2138.22 1518.55 L2129.91 1520.21 L2129.91 1515.95 L2138.17 1514.29 L2142.85 1514.29 L2142.85 1544.91 L2150.49 1544.91 L2150.49 1548.85 L2130.58 1548.85 L2130.58 1544.91 Z\" fill=\"#000000\" fill-rule=\"evenodd\" fill-opacity=\"1\" /><path clip-path=\"url(#clip920)\" d=\"M2159.98 1514.29 L2178.33 1514.29 L2178.33 1518.22 L2164.26 1518.22 L2164.26 1526.7 Q2165.28 1526.35 2166.3 1526.19 Q2167.31 1526 2168.33 1526 Q2174.12 1526 2177.5 1529.17 Q2180.88 1532.34 2180.88 1537.76 Q2180.88 1543.34 2177.41 1546.44 Q2173.94 1549.52 2167.62 1549.52 Q2165.44 1549.52 2163.17 1549.15 Q2160.93 1548.78 2158.52 1548.04 L2158.52 1543.34 Q2160.6 1544.47 2162.82 1545.03 Q2165.05 1545.58 2167.52 1545.58 Q2171.53 1545.58 2173.87 1543.48 Q2176.2 1541.37 2176.2 1537.76 Q2176.2 1534.15 2173.87 1532.04 Q2171.53 1529.94 2167.52 1529.94 Q2165.65 1529.94 2163.77 1530.35 Q2161.92 1530.77 2159.98 1531.65 L2159.98 1514.29 Z\" fill=\"#000000\" fill-rule=\"evenodd\" fill-opacity=\"1\" /><polyline clip-path=\"url(#clip923)\" style=\"stroke:#000000; stroke-linecap:butt; stroke-linejoin:round; stroke-width:2; stroke-opacity:0.1; fill:none\" points=\"\n",
       "  188.574,1458.23 2352.76,1458.23 \n",
       "  \"/>\n",
       "<polyline clip-path=\"url(#clip923)\" style=\"stroke:#000000; stroke-linecap:butt; stroke-linejoin:round; stroke-width:2; stroke-opacity:0.1; fill:none\" points=\"\n",
       "  188.574,980.575 2352.76,980.575 \n",
       "  \"/>\n",
       "<polyline clip-path=\"url(#clip923)\" style=\"stroke:#000000; stroke-linecap:butt; stroke-linejoin:round; stroke-width:2; stroke-opacity:0.1; fill:none\" points=\"\n",
       "  188.574,502.916 2352.76,502.916 \n",
       "  \"/>\n",
       "<polyline clip-path=\"url(#clip920)\" style=\"stroke:#000000; stroke-linecap:butt; stroke-linejoin:round; stroke-width:4; stroke-opacity:1; fill:none\" points=\"\n",
       "  188.574,1486.45 188.574,47.2441 \n",
       "  \"/>\n",
       "<polyline clip-path=\"url(#clip920)\" style=\"stroke:#000000; stroke-linecap:butt; stroke-linejoin:round; stroke-width:4; stroke-opacity:1; fill:none\" points=\"\n",
       "  188.574,1458.23 207.472,1458.23 \n",
       "  \"/>\n",
       "<polyline clip-path=\"url(#clip920)\" style=\"stroke:#000000; stroke-linecap:butt; stroke-linejoin:round; stroke-width:4; stroke-opacity:1; fill:none\" points=\"\n",
       "  188.574,980.575 207.472,980.575 \n",
       "  \"/>\n",
       "<polyline clip-path=\"url(#clip920)\" style=\"stroke:#000000; stroke-linecap:butt; stroke-linejoin:round; stroke-width:4; stroke-opacity:1; fill:none\" points=\"\n",
       "  188.574,502.916 207.472,502.916 \n",
       "  \"/>\n",
       "<path clip-path=\"url(#clip920)\" d=\"M51.6634 1478.03 L59.3023 1478.03 L59.3023 1451.66 L50.9921 1453.33 L50.9921 1449.07 L59.256 1447.4 L63.9319 1447.4 L63.9319 1478.03 L71.5707 1478.03 L71.5707 1481.96 L51.6634 1481.96 L51.6634 1478.03 Z\" fill=\"#000000\" fill-rule=\"evenodd\" fill-opacity=\"1\" /><path clip-path=\"url(#clip920)\" d=\"M91.0151 1450.48 Q87.404 1450.48 85.5753 1454.04 Q83.7697 1457.59 83.7697 1464.72 Q83.7697 1471.82 85.5753 1475.39 Q87.404 1478.93 91.0151 1478.93 Q94.6493 1478.93 96.4548 1475.39 Q98.2835 1471.82 98.2835 1464.72 Q98.2835 1457.59 96.4548 1454.04 Q94.6493 1450.48 91.0151 1450.48 M91.0151 1446.78 Q96.8252 1446.78 99.8808 1451.38 Q102.959 1455.97 102.959 1464.72 Q102.959 1473.44 99.8808 1478.05 Q96.8252 1482.63 91.0151 1482.63 Q85.2049 1482.63 82.1262 1478.05 Q79.0707 1473.44 79.0707 1464.72 Q79.0707 1455.97 82.1262 1451.38 Q85.2049 1446.78 91.0151 1446.78 Z\" fill=\"#000000\" fill-rule=\"evenodd\" fill-opacity=\"1\" /><path clip-path=\"url(#clip920)\" d=\"M102.959 1440.88 L127.071 1440.88 L127.071 1444.08 L102.959 1444.08 L102.959 1440.88 Z\" fill=\"#000000\" fill-rule=\"evenodd\" fill-opacity=\"1\" /><path clip-path=\"url(#clip920)\" d=\"M146.782 1439.41 Q149.509 1439.99 151.032 1441.84 Q152.574 1443.68 152.574 1446.39 Q152.574 1450.54 149.716 1452.82 Q146.857 1455.1 141.591 1455.1 Q139.823 1455.1 137.942 1454.74 Q136.08 1454.4 134.086 1453.7 L134.086 1450.04 Q135.666 1450.96 137.547 1451.43 Q139.428 1451.9 141.478 1451.9 Q145.051 1451.9 146.913 1450.49 Q148.794 1449.08 148.794 1446.39 Q148.794 1443.91 147.045 1442.51 Q145.315 1441.1 142.211 1441.1 L138.939 1441.1 L138.939 1437.98 L142.362 1437.98 Q145.164 1437.98 146.65 1436.87 Q148.136 1435.74 148.136 1433.64 Q148.136 1431.47 146.593 1430.33 Q145.07 1429.16 142.211 1429.16 Q140.65 1429.16 138.863 1429.5 Q137.077 1429.84 134.933 1430.55 L134.933 1427.17 Q137.096 1426.57 138.976 1426.26 Q140.876 1425.96 142.55 1425.96 Q146.876 1425.96 149.396 1427.94 Q151.916 1429.89 151.916 1433.24 Q151.916 1435.57 150.581 1437.19 Q149.245 1438.79 146.782 1439.41 Z\" fill=\"#000000\" fill-rule=\"evenodd\" fill-opacity=\"1\" /><path clip-path=\"url(#clip920)\" d=\"M52.4345 1000.37 L60.0734 1000.37 L60.0734 974.002 L51.7632 975.668 L51.7632 971.409 L60.0271 969.742 L64.703 969.742 L64.703 1000.37 L72.3418 1000.37 L72.3418 1004.3 L52.4345 1004.3 L52.4345 1000.37 Z\" fill=\"#000000\" fill-rule=\"evenodd\" fill-opacity=\"1\" /><path clip-path=\"url(#clip920)\" d=\"M91.7862 972.821 Q88.1751 972.821 86.3464 976.386 Q84.5408 979.928 84.5408 987.057 Q84.5408 994.164 86.3464 997.728 Q88.1751 1001.27 91.7862 1001.27 Q95.4204 1001.27 97.226 997.728 Q99.0547 994.164 99.0547 987.057 Q99.0547 979.928 97.226 976.386 Q95.4204 972.821 91.7862 972.821 M91.7862 969.117 Q97.5963 969.117 100.652 973.724 Q103.731 978.307 103.731 987.057 Q103.731 995.784 100.652 1000.39 Q97.5963 1004.97 91.7862 1004.97 Q85.976 1004.97 82.8973 1000.39 Q79.8418 995.784 79.8418 987.057 Q79.8418 978.307 82.8973 973.724 Q85.976 969.117 91.7862 969.117 Z\" fill=\"#000000\" fill-rule=\"evenodd\" fill-opacity=\"1\" /><path clip-path=\"url(#clip920)\" d=\"M103.731 963.219 L127.842 963.219 L127.842 966.416 L103.731 966.416 L103.731 963.219 Z\" fill=\"#000000\" fill-rule=\"evenodd\" fill-opacity=\"1\" /><path clip-path=\"url(#clip920)\" d=\"M139.315 973.695 L152.574 973.695 L152.574 976.892 L134.745 976.892 L134.745 973.695 Q136.907 971.457 140.631 967.695 Q144.374 963.915 145.333 962.824 Q147.158 960.774 147.872 959.363 Q148.606 957.934 148.606 956.561 Q148.606 954.323 147.026 952.912 Q145.465 951.502 142.945 951.502 Q141.158 951.502 139.164 952.122 Q137.19 952.743 134.933 954.003 L134.933 950.166 Q137.227 949.245 139.221 948.774 Q141.214 948.304 142.87 948.304 Q147.233 948.304 149.828 950.486 Q152.424 952.668 152.424 956.316 Q152.424 958.047 151.766 959.608 Q151.126 961.15 149.415 963.256 Q148.944 963.802 146.424 966.416 Q143.904 969.012 139.315 973.695 Z\" fill=\"#000000\" fill-rule=\"evenodd\" fill-opacity=\"1\" /><path clip-path=\"url(#clip920)\" d=\"M52.1336 522.708 L59.7725 522.708 L59.7725 496.343 L51.4623 498.009 L51.4623 493.75 L59.7262 492.084 L64.4021 492.084 L64.4021 522.708 L72.0409 522.708 L72.0409 526.644 L52.1336 526.644 L52.1336 522.708 Z\" fill=\"#000000\" fill-rule=\"evenodd\" fill-opacity=\"1\" /><path clip-path=\"url(#clip920)\" d=\"M91.4853 495.162 Q87.8742 495.162 86.0455 498.727 Q84.2399 502.269 84.2399 509.398 Q84.2399 516.505 86.0455 520.07 Q87.8742 523.611 91.4853 523.611 Q95.1195 523.611 96.925 520.07 Q98.7537 516.505 98.7537 509.398 Q98.7537 502.269 96.925 498.727 Q95.1195 495.162 91.4853 495.162 M91.4853 491.459 Q97.2954 491.459 100.351 496.065 Q103.43 500.648 103.43 509.398 Q103.43 518.125 100.351 522.732 Q97.2954 527.315 91.4853 527.315 Q85.6751 527.315 82.5964 522.732 Q79.5409 518.125 79.5409 509.398 Q79.5409 500.648 82.5964 496.065 Q85.6751 491.459 91.4853 491.459 Z\" fill=\"#000000\" fill-rule=\"evenodd\" fill-opacity=\"1\" /><path clip-path=\"url(#clip920)\" d=\"M103.43 485.56 L127.541 485.56 L127.541 488.757 L103.43 488.757 L103.43 485.56 Z\" fill=\"#000000\" fill-rule=\"evenodd\" fill-opacity=\"1\" /><path clip-path=\"url(#clip920)\" d=\"M136.4 496.036 L142.606 496.036 L142.606 474.614 L135.854 475.968 L135.854 472.507 L142.569 471.153 L146.368 471.153 L146.368 496.036 L152.574 496.036 L152.574 499.233 L136.4 499.233 L136.4 496.036 Z\" fill=\"#000000\" fill-rule=\"evenodd\" fill-opacity=\"1\" /><circle clip-path=\"url(#clip923)\" cx=\"249.825\" cy=\"87.9763\" r=\"14\" fill=\"#009af9\" fill-rule=\"evenodd\" fill-opacity=\"1\" stroke=\"#000000\" stroke-opacity=\"1\" stroke-width=\"3.2\"/>\n",
       "<circle clip-path=\"url(#clip923)\" cx=\"385.937\" cy=\"303.972\" r=\"14\" fill=\"#009af9\" fill-rule=\"evenodd\" fill-opacity=\"1\" stroke=\"#000000\" stroke-opacity=\"1\" stroke-width=\"3.2\"/>\n",
       "<circle clip-path=\"url(#clip923)\" cx=\"522.049\" cy=\"360.393\" r=\"14\" fill=\"#009af9\" fill-rule=\"evenodd\" fill-opacity=\"1\" stroke=\"#000000\" stroke-opacity=\"1\" stroke-width=\"3.2\"/>\n",
       "<circle clip-path=\"url(#clip923)\" cx=\"658.161\" cy=\"467.76\" r=\"14\" fill=\"#009af9\" fill-rule=\"evenodd\" fill-opacity=\"1\" stroke=\"#000000\" stroke-opacity=\"1\" stroke-width=\"3.2\"/>\n",
       "<circle clip-path=\"url(#clip923)\" cx=\"794.273\" cy=\"537.13\" r=\"14\" fill=\"#009af9\" fill-rule=\"evenodd\" fill-opacity=\"1\" stroke=\"#000000\" stroke-opacity=\"1\" stroke-width=\"3.2\"/>\n",
       "<circle clip-path=\"url(#clip923)\" cx=\"930.385\" cy=\"629.228\" r=\"14\" fill=\"#009af9\" fill-rule=\"evenodd\" fill-opacity=\"1\" stroke=\"#000000\" stroke-opacity=\"1\" stroke-width=\"3.2\"/>\n",
       "<circle clip-path=\"url(#clip923)\" cx=\"1066.5\" cy=\"705.19\" r=\"14\" fill=\"#009af9\" fill-rule=\"evenodd\" fill-opacity=\"1\" stroke=\"#000000\" stroke-opacity=\"1\" stroke-width=\"3.2\"/>\n",
       "<circle clip-path=\"url(#clip923)\" cx=\"1202.61\" cy=\"791.539\" r=\"14\" fill=\"#009af9\" fill-rule=\"evenodd\" fill-opacity=\"1\" stroke=\"#000000\" stroke-opacity=\"1\" stroke-width=\"3.2\"/>\n",
       "<circle clip-path=\"url(#clip923)\" cx=\"1338.72\" cy=\"870.71\" r=\"14\" fill=\"#009af9\" fill-rule=\"evenodd\" fill-opacity=\"1\" stroke=\"#000000\" stroke-opacity=\"1\" stroke-width=\"3.2\"/>\n",
       "<circle clip-path=\"url(#clip923)\" cx=\"1474.83\" cy=\"954.623\" r=\"14\" fill=\"#009af9\" fill-rule=\"evenodd\" fill-opacity=\"1\" stroke=\"#000000\" stroke-opacity=\"1\" stroke-width=\"3.2\"/>\n",
       "<circle clip-path=\"url(#clip923)\" cx=\"1610.95\" cy=\"1035.3\" r=\"14\" fill=\"#009af9\" fill-rule=\"evenodd\" fill-opacity=\"1\" stroke=\"#000000\" stroke-opacity=\"1\" stroke-width=\"3.2\"/>\n",
       "<circle clip-path=\"url(#clip923)\" cx=\"1747.06\" cy=\"1118.14\" r=\"14\" fill=\"#009af9\" fill-rule=\"evenodd\" fill-opacity=\"1\" stroke=\"#000000\" stroke-opacity=\"1\" stroke-width=\"3.2\"/>\n",
       "<circle clip-path=\"url(#clip923)\" cx=\"1883.17\" cy=\"1199.52\" r=\"14\" fill=\"#009af9\" fill-rule=\"evenodd\" fill-opacity=\"1\" stroke=\"#000000\" stroke-opacity=\"1\" stroke-width=\"3.2\"/>\n",
       "<circle clip-path=\"url(#clip923)\" cx=\"2019.28\" cy=\"1281.88\" r=\"14\" fill=\"#009af9\" fill-rule=\"evenodd\" fill-opacity=\"1\" stroke=\"#000000\" stroke-opacity=\"1\" stroke-width=\"3.2\"/>\n",
       "<circle clip-path=\"url(#clip923)\" cx=\"2155.39\" cy=\"1363.57\" r=\"14\" fill=\"#009af9\" fill-rule=\"evenodd\" fill-opacity=\"1\" stroke=\"#000000\" stroke-opacity=\"1\" stroke-width=\"3.2\"/>\n",
       "<circle clip-path=\"url(#clip923)\" cx=\"2291.51\" cy=\"1445.72\" r=\"14\" fill=\"#009af9\" fill-rule=\"evenodd\" fill-opacity=\"1\" stroke=\"#000000\" stroke-opacity=\"1\" stroke-width=\"3.2\"/>\n",
       "<polyline clip-path=\"url(#clip923)\" style=\"stroke:#e26f46; stroke-linecap:butt; stroke-linejoin:round; stroke-width:16; stroke-opacity:1; fill:none\" points=\"\n",
       "  249.825,107.219 254.809,110.22 259.794,113.222 264.779,116.223 269.763,119.225 315.854,146.979 361.944,174.733 408.035,202.487 454.125,230.241 481.824,246.92 \n",
       "  509.522,263.599 537.221,280.278 564.919,296.957 611.757,325.16 658.594,353.364 709.473,384.001 760.351,414.638 807.257,442.883 854.162,471.128 954.737,531.691 \n",
       "  1071.26,601.858 1174.82,664.215 1265.63,718.897 1364.63,778.514 1464.23,838.486 1574.34,904.792 1679.11,967.881 1788.05,1033.48 1879.75,1088.7 1991.71,1156.11 \n",
       "  2096.95,1219.49 2265.56,1321.02 2291.51,1336.64 \n",
       "  \"/>\n",
       "<path clip-path=\"url(#clip920)\" d=\"\n",
       "M1665.95 382.962 L2280.62 382.962 L2280.62 95.2176 L1665.95 95.2176  Z\n",
       "  \" fill=\"#ffffff\" fill-rule=\"evenodd\" fill-opacity=\"1\"/>\n",
       "<polyline clip-path=\"url(#clip920)\" style=\"stroke:#000000; stroke-linecap:butt; stroke-linejoin:round; stroke-width:4; stroke-opacity:1; fill:none\" points=\"\n",
       "  1665.95,382.962 2280.62,382.962 2280.62,95.2176 1665.95,95.2176 1665.95,382.962 \n",
       "  \"/>\n",
       "<circle clip-path=\"url(#clip920)\" cx=\"1762.14\" cy=\"191.132\" r=\"34\" fill=\"#009af9\" fill-rule=\"evenodd\" fill-opacity=\"1\" stroke=\"#000000\" stroke-opacity=\"1\" stroke-width=\"7.68\"/>\n",
       "<path clip-path=\"url(#clip920)\" d=\"M1883.08 163.025 L1883.08 168.337 L1876.97 168.337 Q1873.53 168.337 1872.18 169.726 Q1870.86 171.115 1870.86 174.726 L1870.86 178.164 L1881.38 178.164 L1881.38 183.129 L1870.86 183.129 L1870.86 217.052 L1864.44 217.052 L1864.44 183.129 L1858.32 183.129 L1858.32 178.164 L1864.44 178.164 L1864.44 175.455 Q1864.44 168.962 1867.46 166.011 Q1870.48 163.025 1877.04 163.025 L1883.08 163.025 Z\" fill=\"#000000\" fill-rule=\"evenodd\" fill-opacity=\"1\" /><path clip-path=\"url(#clip920)\" d=\"M1888.43 178.164 L1894.82 178.164 L1894.82 217.052 L1888.43 217.052 L1888.43 178.164 M1888.43 163.025 L1894.82 163.025 L1894.82 171.115 L1888.43 171.115 L1888.43 163.025 Z\" fill=\"#000000\" fill-rule=\"evenodd\" fill-opacity=\"1\" /><path clip-path=\"url(#clip920)\" d=\"M1940.51 178.164 L1926.45 197.087 L1941.24 217.052 L1933.71 217.052 L1922.39 201.775 L1911.07 217.052 L1903.53 217.052 L1918.64 196.705 L1904.82 178.164 L1912.35 178.164 L1922.66 192.018 L1932.98 178.164 L1940.51 178.164 Z\" fill=\"#000000\" fill-rule=\"evenodd\" fill-opacity=\"1\" /><path clip-path=\"url(#clip920)\" d=\"M1981.34 196.011 L1981.34 199.136 L1951.97 199.136 Q1952.39 205.733 1955.93 209.205 Q1959.5 212.643 1965.86 212.643 Q1969.54 212.643 1972.98 211.74 Q1976.45 210.837 1979.85 209.032 L1979.85 215.073 Q1976.41 216.532 1972.8 217.295 Q1969.19 218.059 1965.48 218.059 Q1956.17 218.059 1950.72 212.643 Q1945.3 207.226 1945.3 197.99 Q1945.3 188.441 1950.44 182.851 Q1955.62 177.226 1964.37 177.226 Q1972.21 177.226 1976.76 182.296 Q1981.34 187.33 1981.34 196.011 M1974.96 194.136 Q1974.89 188.893 1972 185.768 Q1969.16 182.643 1964.43 182.643 Q1959.09 182.643 1955.86 185.664 Q1952.66 188.684 1952.18 194.171 L1974.96 194.136 Z\" fill=\"#000000\" fill-rule=\"evenodd\" fill-opacity=\"1\" /><path clip-path=\"url(#clip920)\" d=\"M2017.42 184.066 L2017.42 163.025 L2023.81 163.025 L2023.81 217.052 L2017.42 217.052 L2017.42 211.219 Q2015.41 214.691 2012.32 216.393 Q2009.26 218.059 2004.96 218.059 Q1997.91 218.059 1993.46 212.434 Q1989.05 206.809 1989.05 197.643 Q1989.05 188.476 1993.46 182.851 Q1997.91 177.226 2004.96 177.226 Q2009.26 177.226 2012.32 178.928 Q2015.41 180.594 2017.42 184.066 M1995.65 197.643 Q1995.65 204.691 1998.53 208.719 Q2001.45 212.712 2006.52 212.712 Q2011.59 212.712 2014.5 208.719 Q2017.42 204.691 2017.42 197.643 Q2017.42 190.594 2014.5 186.601 Q2011.59 182.573 2006.52 182.573 Q2001.45 182.573 1998.53 186.601 Q1995.65 190.594 1995.65 197.643 Z\" fill=\"#000000\" fill-rule=\"evenodd\" fill-opacity=\"1\" /><path clip-path=\"url(#clip920)\" d=\"M2065.75 211.219 L2065.75 231.844 L2059.33 231.844 L2059.33 178.164 L2065.75 178.164 L2065.75 184.066 Q2067.77 180.594 2070.82 178.928 Q2073.91 177.226 2078.18 177.226 Q2085.27 177.226 2089.68 182.851 Q2094.12 188.476 2094.12 197.643 Q2094.12 206.809 2089.68 212.434 Q2085.27 218.059 2078.18 218.059 Q2073.91 218.059 2070.82 216.393 Q2067.77 214.691 2065.75 211.219 M2087.49 197.643 Q2087.49 190.594 2084.57 186.601 Q2081.69 182.573 2076.62 182.573 Q2071.55 182.573 2068.64 186.601 Q2065.75 190.594 2065.75 197.643 Q2065.75 204.691 2068.64 208.719 Q2071.55 212.712 2076.62 212.712 Q2081.69 212.712 2084.57 208.719 Q2087.49 204.691 2087.49 197.643 Z\" fill=\"#000000\" fill-rule=\"evenodd\" fill-opacity=\"1\" /><path clip-path=\"url(#clip920)\" d=\"M2119.78 182.643 Q2114.64 182.643 2111.66 186.671 Q2108.67 190.664 2108.67 197.643 Q2108.67 204.622 2111.62 208.65 Q2114.61 212.643 2119.78 212.643 Q2124.89 212.643 2127.87 208.615 Q2130.86 204.587 2130.86 197.643 Q2130.86 190.733 2127.87 186.705 Q2124.89 182.643 2119.78 182.643 M2119.78 177.226 Q2128.11 177.226 2132.87 182.643 Q2137.63 188.059 2137.63 197.643 Q2137.63 207.191 2132.87 212.643 Q2128.11 218.059 2119.78 218.059 Q2111.41 218.059 2106.66 212.643 Q2101.93 207.191 2101.93 197.643 Q2101.93 188.059 2106.66 182.643 Q2111.41 177.226 2119.78 177.226 Z\" fill=\"#000000\" fill-rule=\"evenodd\" fill-opacity=\"1\" /><path clip-path=\"url(#clip920)\" d=\"M2148.22 178.164 L2154.61 178.164 L2154.61 217.052 L2148.22 217.052 L2148.22 178.164 M2148.22 163.025 L2154.61 163.025 L2154.61 171.115 L2148.22 171.115 L2148.22 163.025 Z\" fill=\"#000000\" fill-rule=\"evenodd\" fill-opacity=\"1\" /><path clip-path=\"url(#clip920)\" d=\"M2200.3 193.58 L2200.3 217.052 L2193.91 217.052 L2193.91 193.789 Q2193.91 188.268 2191.76 185.525 Q2189.61 182.782 2185.3 182.782 Q2180.13 182.782 2177.14 186.08 Q2174.16 189.379 2174.16 195.073 L2174.16 217.052 L2167.73 217.052 L2167.73 178.164 L2174.16 178.164 L2174.16 184.205 Q2176.45 180.698 2179.54 178.962 Q2182.66 177.226 2186.73 177.226 Q2193.43 177.226 2196.86 181.393 Q2200.3 185.525 2200.3 193.58 Z\" fill=\"#000000\" fill-rule=\"evenodd\" fill-opacity=\"1\" /><path clip-path=\"url(#clip920)\" d=\"M2219.36 167.122 L2219.36 178.164 L2232.52 178.164 L2232.52 183.129 L2219.36 183.129 L2219.36 204.24 Q2219.36 208.997 2220.65 210.351 Q2221.97 211.705 2225.96 211.705 L2232.52 211.705 L2232.52 217.052 L2225.96 217.052 Q2218.57 217.052 2215.75 214.309 Q2212.94 211.532 2212.94 204.24 L2212.94 183.129 L2208.25 183.129 L2208.25 178.164 L2212.94 178.164 L2212.94 167.122 L2219.36 167.122 Z\" fill=\"#000000\" fill-rule=\"evenodd\" fill-opacity=\"1\" /><polyline clip-path=\"url(#clip920)\" style=\"stroke:#e26f46; stroke-linecap:butt; stroke-linejoin:round; stroke-width:6; stroke-opacity:1; fill:none\" points=\"\n",
       "  1690,287.047 1834.28,287.047 \n",
       "  \"/>\n",
       "<path clip-path=\"url(#clip920)\" d=\"M1858.32 343.398 L1858.32 276.398 Q1858.32 273.728 1859.76 273.728 Q1861.21 273.728 1861.21 275.871 L1861.21 342.871 Q1861.21 345.541 1859.76 345.541 Q1858.32 345.541 1858.32 343.398 Z\" fill=\"#000000\" fill-rule=\"evenodd\" fill-opacity=\"1\" /><path clip-path=\"url(#clip920)\" d=\"M1902.62 299.2 Q1902.62 299.235 1902.41 300.499 L1894.4 332.436 Q1893.97 334.122 1892.78 335.809 Q1891.62 337.53 1889.76 339.006 Q1887.93 340.517 1885.12 341.43 Q1882.35 342.379 1879.15 342.379 Q1874.05 342.379 1871.81 341.29 Q1869.59 340.236 1869.59 337.987 Q1869.59 336.02 1870.82 334.895 Q1872.05 333.806 1873.46 333.806 Q1874.79 333.806 1875.49 334.579 Q1876.2 335.352 1876.2 336.336 Q1876.2 337.425 1875.46 338.514 Q1874.72 339.638 1873.25 340.06 Q1875.6 340.798 1879.01 340.798 Q1886.21 340.798 1889.3 333.174 Q1889.37 333.068 1889.37 333.033 L1891.76 323.512 L1891.66 323.442 Q1891.06 324.144 1890.11 324.953 Q1889.2 325.725 1887.23 326.674 Q1885.26 327.623 1883.33 327.623 Q1879.29 327.623 1876.51 324.531 Q1873.77 321.404 1873.77 316.239 Q1873.77 312.48 1875.28 308.721 Q1876.83 304.926 1879.22 302.151 Q1881.64 299.34 1884.73 297.583 Q1887.86 295.827 1890.88 295.827 Q1892.99 295.827 1894.78 297.092 Q1896.57 298.321 1897.56 300.359 Q1897.73 298.673 1898.68 297.97 Q1899.67 297.267 1900.51 297.267 Q1901.46 297.267 1902.02 297.794 Q1902.62 298.286 1902.62 299.2 M1896.72 303.591 Q1896.72 303.38 1896.57 302.818 Q1896.43 302.221 1896.01 301.272 Q1895.63 300.324 1895.03 299.481 Q1894.43 298.637 1893.34 298.04 Q1892.29 297.408 1890.95 297.408 Q1888.77 297.408 1886.6 299.235 Q1884.42 301.026 1882.91 303.802 Q1881.5 306.472 1880.17 311.637 Q1878.87 316.801 1878.87 319.437 Q1878.87 322.036 1879.99 324.039 Q1881.12 326.042 1883.54 326.042 Q1886.35 326.042 1889.37 323.442 Q1892.5 320.736 1893.03 318.418 L1896.5 304.68 Q1896.72 303.837 1896.72 303.591 Z\" fill=\"#000000\" fill-rule=\"evenodd\" fill-opacity=\"1\" /><path clip-path=\"url(#clip920)\" d=\"M1909.26 279.841 Q1909.26 278.049 1910.35 277.311 Q1911.44 276.538 1912.6 276.538 Q1914.04 276.538 1914.95 277.417 Q1915.9 278.26 1915.9 279.841 Q1915.9 280.544 1915.83 280.93 L1913.44 302.643 L1911.79 302.643 L1909.33 280.93 Q1909.26 280.544 1909.26 279.841 Z\" fill=\"#000000\" fill-rule=\"evenodd\" fill-opacity=\"1\" /><path clip-path=\"url(#clip920)\" d=\"M1929.06 343.398 L1929.06 276.398 Q1929.06 273.728 1930.5 273.728 Q1931.94 273.728 1931.94 275.871 L1931.94 342.871 Q1931.94 345.541 1930.5 345.541 Q1929.06 345.541 1929.06 343.398 Z\" fill=\"#000000\" fill-rule=\"evenodd\" fill-opacity=\"1\" /><path clip-path=\"url(#clip920)\" d=\"M1962.38 264.99 Q1962.38 266.392 1961.52 267.228 Q1960.68 268.065 1959.63 268.065 Q1958.69 268.065 1958.2 267.524 Q1957.71 266.982 1957.71 266.294 Q1957.71 265.999 1957.83 265.63 Q1957.95 265.236 1958.22 264.769 Q1958.52 264.302 1959.13 263.957 Q1959.75 263.613 1960.58 263.564 Q1960.41 263.392 1960.36 263.367 Q1959.99 263.072 1959.31 262.974 Q1959.21 262.925 1958.86 262.925 Q1957.17 262.925 1955.44 264.179 Q1953.75 265.408 1951.66 267.745 Q1949.03 270.475 1947.33 271.483 Q1954.78 272.467 1954.78 276.771 Q1954.78 277.484 1954.58 278.345 Q1954.19 279.968 1954.19 281.148 Q1954.19 283.509 1955.79 283.509 Q1957.34 283.509 1958.32 281.935 Q1959.33 280.361 1960.17 277.287 Q1960.29 276.722 1960.41 276.549 Q1960.54 276.377 1960.88 276.377 Q1961.49 276.377 1961.49 276.869 Q1960.93 279.747 1959.67 281.96 Q1958.08 284.641 1955.69 284.641 Q1953.7 284.641 1952.37 283.263 Q1951.07 281.862 1951.07 279.648 Q1951.07 279.107 1951.26 277.877 Q1951.41 277.386 1951.41 276.82 Q1951.41 275.664 1950.77 274.803 Q1950.13 273.918 1949.1 273.475 Q1948.07 273.032 1947.21 272.836 Q1946.37 272.614 1945.56 272.541 Q1943.1 282.944 1942.75 283.583 Q1942.53 284.026 1942.04 284.321 Q1941.55 284.641 1941.03 284.641 Q1940.54 284.641 1940.05 284.296 Q1939.58 283.977 1939.58 283.214 Q1939.58 282.821 1939.78 282.108 L1947.08 253.087 L1947.23 252.103 Q1947.23 251.808 1947.11 251.661 Q1947.01 251.489 1946.42 251.366 Q1945.85 251.243 1944.72 251.243 Q1944.25 251.243 1944.03 251.218 Q1943.84 251.193 1943.66 251.07 Q1943.49 250.923 1943.49 250.628 Q1943.49 250.21 1943.66 249.988 Q1943.86 249.742 1944.01 249.693 Q1944.16 249.644 1944.45 249.619 Q1944.87 249.595 1946.27 249.472 Q1947.67 249.324 1948.88 249.226 Q1950.08 249.128 1950.6 249.128 Q1950.89 249.128 1951.04 249.275 Q1951.21 249.398 1951.24 249.546 L1951.26 249.669 L1946.02 270.917 Q1948.19 270.057 1951.61 266.245 Q1955.57 261.818 1958.96 261.818 Q1960.56 261.818 1961.47 262.802 Q1962.38 263.761 1962.38 264.99 Z\" fill=\"#000000\" fill-rule=\"evenodd\" fill-opacity=\"1\" /></svg>\n"
      ]
     },
     "execution_count": 9,
     "metadata": {},
     "output_type": "execute_result"
    }
   ],
   "source": [
    "scatter(abs.(es), yscale=:log10, label=\"fixed point\")\n",
    "plot!(k -> abs(gp(xstar))^k, label=\"\\$|g'|^k\\$\")"
   ]
  },
  {
   "cell_type": "markdown",
   "id": "265cad05",
   "metadata": {
    "slideshow": {
     "slide_type": "slide"
    }
   },
   "source": [
    "# Plotting Newton convergence"
   ]
  },
  {
   "cell_type": "code",
   "execution_count": 10,
   "id": "a67b8eff",
   "metadata": {
    "cell_style": "split"
   },
   "outputs": [
    {
     "data": {
      "text/plain": [
       "newton_hist (generic function with 1 method)"
      ]
     },
     "execution_count": 10,
     "metadata": {},
     "output_type": "execute_result"
    }
   ],
   "source": [
    "function newton_hist(f, fp, x0; tol=1e-12)\n",
    "    x = x0\n",
    "    hist = []\n",
    "    for k in 1:100 # max number of iterations\n",
    "        fx = f(x)\n",
    "        fpx = fp(x)\n",
    "        push!(hist, [x fx fpx])\n",
    "        if abs(fx) < tol\n",
    "            return vcat(hist...)\n",
    "        end\n",
    "        x = x - fx / fpx\n",
    "    end\n",
    "end"
   ]
  },
  {
   "cell_type": "code",
   "execution_count": 22,
   "id": "2ed9af8b",
   "metadata": {
    "cell_style": "split"
   },
   "outputs": [
    {
     "name": "stdout",
     "output_type": "stream",
     "text": [
      "x_star = xs[end, 1] = 0.7390851332151607\n"
     ]
    },
    {
     "data": {
      "image/svg+xml": [
       "<?xml version=\"1.0\" encoding=\"utf-8\"?>\n",
       "<svg xmlns=\"http://www.w3.org/2000/svg\" xmlns:xlink=\"http://www.w3.org/1999/xlink\" width=\"600\" height=\"400\" viewBox=\"0 0 2400 1600\">\n",
       "<defs>\n",
       "  <clipPath id=\"clip280\">\n",
       "    <rect x=\"0\" y=\"0\" width=\"2400\" height=\"1600\"/>\n",
       "  </clipPath>\n",
       "</defs>\n",
       "<path clip-path=\"url(#clip280)\" d=\"\n",
       "M0 1600 L2400 1600 L2400 0 L0 0  Z\n",
       "  \" fill=\"#ffffff\" fill-rule=\"evenodd\" fill-opacity=\"1\"/>\n",
       "<defs>\n",
       "  <clipPath id=\"clip281\">\n",
       "    <rect x=\"480\" y=\"0\" width=\"1681\" height=\"1600\"/>\n",
       "  </clipPath>\n",
       "</defs>\n",
       "<path clip-path=\"url(#clip280)\" d=\"\n",
       "M213.607 1486.45 L2352.76 1486.45 L2352.76 47.2441 L213.607 47.2441  Z\n",
       "  \" fill=\"#ffffff\" fill-rule=\"evenodd\" fill-opacity=\"1\"/>\n",
       "<defs>\n",
       "  <clipPath id=\"clip282\">\n",
       "    <rect x=\"213\" y=\"47\" width=\"2140\" height=\"1440\"/>\n",
       "  </clipPath>\n",
       "</defs>\n",
       "<polyline clip-path=\"url(#clip282)\" style=\"stroke:#000000; stroke-linecap:butt; stroke-linejoin:round; stroke-width:2; stroke-opacity:0.1; fill:none\" points=\"\n",
       "  274.149,1486.45 274.149,47.2441 \n",
       "  \"/>\n",
       "<polyline clip-path=\"url(#clip282)\" style=\"stroke:#000000; stroke-linecap:butt; stroke-linejoin:round; stroke-width:2; stroke-opacity:0.1; fill:none\" points=\"\n",
       "  946.838,1486.45 946.838,47.2441 \n",
       "  \"/>\n",
       "<polyline clip-path=\"url(#clip282)\" style=\"stroke:#000000; stroke-linecap:butt; stroke-linejoin:round; stroke-width:2; stroke-opacity:0.1; fill:none\" points=\"\n",
       "  1619.53,1486.45 1619.53,47.2441 \n",
       "  \"/>\n",
       "<polyline clip-path=\"url(#clip282)\" style=\"stroke:#000000; stroke-linecap:butt; stroke-linejoin:round; stroke-width:2; stroke-opacity:0.1; fill:none\" points=\"\n",
       "  2292.21,1486.45 2292.21,47.2441 \n",
       "  \"/>\n",
       "<polyline clip-path=\"url(#clip280)\" style=\"stroke:#000000; stroke-linecap:butt; stroke-linejoin:round; stroke-width:4; stroke-opacity:1; fill:none\" points=\"\n",
       "  213.607,1486.45 2352.76,1486.45 \n",
       "  \"/>\n",
       "<polyline clip-path=\"url(#clip280)\" style=\"stroke:#000000; stroke-linecap:butt; stroke-linejoin:round; stroke-width:4; stroke-opacity:1; fill:none\" points=\"\n",
       "  274.149,1486.45 274.149,1467.55 \n",
       "  \"/>\n",
       "<polyline clip-path=\"url(#clip280)\" style=\"stroke:#000000; stroke-linecap:butt; stroke-linejoin:round; stroke-width:4; stroke-opacity:1; fill:none\" points=\"\n",
       "  946.838,1486.45 946.838,1467.55 \n",
       "  \"/>\n",
       "<polyline clip-path=\"url(#clip280)\" style=\"stroke:#000000; stroke-linecap:butt; stroke-linejoin:round; stroke-width:4; stroke-opacity:1; fill:none\" points=\"\n",
       "  1619.53,1486.45 1619.53,1467.55 \n",
       "  \"/>\n",
       "<polyline clip-path=\"url(#clip280)\" style=\"stroke:#000000; stroke-linecap:butt; stroke-linejoin:round; stroke-width:4; stroke-opacity:1; fill:none\" points=\"\n",
       "  2292.21,1486.45 2292.21,1467.55 \n",
       "  \"/>\n",
       "<path clip-path=\"url(#clip280)\" d=\"M264.531 1544.91 L272.17 1544.91 L272.17 1518.55 L263.86 1520.21 L263.86 1515.95 L272.124 1514.29 L276.8 1514.29 L276.8 1544.91 L284.439 1544.91 L284.439 1548.85 L264.531 1548.85 L264.531 1544.91 Z\" fill=\"#000000\" fill-rule=\"evenodd\" fill-opacity=\"1\" /><path clip-path=\"url(#clip280)\" d=\"M941.49 1544.91 L957.81 1544.91 L957.81 1548.85 L935.865 1548.85 L935.865 1544.91 Q938.527 1542.16 943.111 1537.53 Q947.717 1532.88 948.898 1531.53 Q951.143 1529.01 952.023 1527.27 Q952.926 1525.51 952.926 1523.82 Q952.926 1521.07 950.981 1519.33 Q949.06 1517.6 945.958 1517.6 Q943.759 1517.6 941.305 1518.36 Q938.875 1519.13 936.097 1520.68 L936.097 1515.95 Q938.921 1514.82 941.375 1514.24 Q943.828 1513.66 945.865 1513.66 Q951.236 1513.66 954.43 1516.35 Q957.625 1519.03 957.625 1523.52 Q957.625 1525.65 956.814 1527.57 Q956.027 1529.47 953.921 1532.07 Q953.342 1532.74 950.24 1535.95 Q947.139 1539.15 941.49 1544.91 Z\" fill=\"#000000\" fill-rule=\"evenodd\" fill-opacity=\"1\" /><path clip-path=\"url(#clip280)\" d=\"M1623.77 1530.21 Q1627.13 1530.93 1629 1533.2 Q1630.9 1535.47 1630.9 1538.8 Q1630.9 1543.92 1627.38 1546.72 Q1623.87 1549.52 1617.38 1549.52 Q1615.21 1549.52 1612.89 1549.08 Q1610.6 1548.66 1608.15 1547.81 L1608.15 1543.29 Q1610.09 1544.43 1612.41 1545.01 Q1614.72 1545.58 1617.25 1545.58 Q1621.64 1545.58 1623.94 1543.85 Q1626.25 1542.11 1626.25 1538.8 Q1626.25 1535.75 1624.1 1534.03 Q1621.97 1532.3 1618.15 1532.3 L1614.12 1532.3 L1614.12 1528.45 L1618.33 1528.45 Q1621.78 1528.45 1623.61 1527.09 Q1625.44 1525.7 1625.44 1523.11 Q1625.44 1520.45 1623.54 1519.03 Q1621.67 1517.6 1618.15 1517.6 Q1616.23 1517.6 1614.03 1518.01 Q1611.83 1518.43 1609.19 1519.31 L1609.19 1515.14 Q1611.85 1514.4 1614.17 1514.03 Q1616.5 1513.66 1618.57 1513.66 Q1623.89 1513.66 1626.99 1516.09 Q1630.09 1518.5 1630.09 1522.62 Q1630.09 1525.49 1628.45 1527.48 Q1626.81 1529.45 1623.77 1530.21 Z\" fill=\"#000000\" fill-rule=\"evenodd\" fill-opacity=\"1\" /><path clip-path=\"url(#clip280)\" d=\"M2295.22 1518.36 L2283.42 1536.81 L2295.22 1536.81 L2295.22 1518.36 M2294 1514.29 L2299.88 1514.29 L2299.88 1536.81 L2304.81 1536.81 L2304.81 1540.7 L2299.88 1540.7 L2299.88 1548.85 L2295.22 1548.85 L2295.22 1540.7 L2279.62 1540.7 L2279.62 1536.19 L2294 1514.29 Z\" fill=\"#000000\" fill-rule=\"evenodd\" fill-opacity=\"1\" /><polyline clip-path=\"url(#clip282)\" style=\"stroke:#000000; stroke-linecap:butt; stroke-linejoin:round; stroke-width:2; stroke-opacity:0.1; fill:none\" points=\"\n",
       "  213.607,1231.34 2352.76,1231.34 \n",
       "  \"/>\n",
       "<polyline clip-path=\"url(#clip282)\" style=\"stroke:#000000; stroke-linecap:butt; stroke-linejoin:round; stroke-width:2; stroke-opacity:0.1; fill:none\" points=\"\n",
       "  213.607,664.771 2352.76,664.771 \n",
       "  \"/>\n",
       "<polyline clip-path=\"url(#clip282)\" style=\"stroke:#000000; stroke-linecap:butt; stroke-linejoin:round; stroke-width:2; stroke-opacity:0.1; fill:none\" points=\"\n",
       "  213.607,98.2004 2352.76,98.2004 \n",
       "  \"/>\n",
       "<polyline clip-path=\"url(#clip280)\" style=\"stroke:#000000; stroke-linecap:butt; stroke-linejoin:round; stroke-width:4; stroke-opacity:1; fill:none\" points=\"\n",
       "  213.607,1486.45 213.607,47.2441 \n",
       "  \"/>\n",
       "<polyline clip-path=\"url(#clip280)\" style=\"stroke:#000000; stroke-linecap:butt; stroke-linejoin:round; stroke-width:4; stroke-opacity:1; fill:none\" points=\"\n",
       "  213.607,1231.34 232.505,1231.34 \n",
       "  \"/>\n",
       "<polyline clip-path=\"url(#clip280)\" style=\"stroke:#000000; stroke-linecap:butt; stroke-linejoin:round; stroke-width:4; stroke-opacity:1; fill:none\" points=\"\n",
       "  213.607,664.771 232.505,664.771 \n",
       "  \"/>\n",
       "<polyline clip-path=\"url(#clip280)\" style=\"stroke:#000000; stroke-linecap:butt; stroke-linejoin:round; stroke-width:4; stroke-opacity:1; fill:none\" points=\"\n",
       "  213.607,98.2004 232.505,98.2004 \n",
       "  \"/>\n",
       "<path clip-path=\"url(#clip280)\" d=\"M51.6634 1251.13 L59.3023 1251.13 L59.3023 1224.77 L50.9921 1226.44 L50.9921 1222.18 L59.256 1220.51 L63.9319 1220.51 L63.9319 1251.13 L71.5707 1251.13 L71.5707 1255.07 L51.6634 1255.07 L51.6634 1251.13 Z\" fill=\"#000000\" fill-rule=\"evenodd\" fill-opacity=\"1\" /><path clip-path=\"url(#clip280)\" d=\"M91.0151 1223.59 Q87.404 1223.59 85.5753 1227.15 Q83.7697 1230.69 83.7697 1237.82 Q83.7697 1244.93 85.5753 1248.5 Q87.404 1252.04 91.0151 1252.04 Q94.6493 1252.04 96.4548 1248.5 Q98.2835 1244.93 98.2835 1237.82 Q98.2835 1230.69 96.4548 1227.15 Q94.6493 1223.59 91.0151 1223.59 M91.0151 1219.88 Q96.8252 1219.88 99.8808 1224.49 Q102.959 1229.07 102.959 1237.82 Q102.959 1246.55 99.8808 1251.16 Q96.8252 1255.74 91.0151 1255.74 Q85.2049 1255.74 82.1262 1251.16 Q79.0707 1246.55 79.0707 1237.82 Q79.0707 1229.07 82.1262 1224.49 Q85.2049 1219.88 91.0151 1219.88 Z\" fill=\"#000000\" fill-rule=\"evenodd\" fill-opacity=\"1\" /><path clip-path=\"url(#clip280)\" d=\"M102.959 1213.99 L127.071 1213.99 L127.071 1217.18 L102.959 1217.18 L102.959 1213.99 Z\" fill=\"#000000\" fill-rule=\"evenodd\" fill-opacity=\"1\" /><path clip-path=\"url(#clip280)\" d=\"M135.929 1224.46 L142.136 1224.46 L142.136 1203.04 L135.384 1204.39 L135.384 1200.93 L142.098 1199.58 L145.898 1199.58 L145.898 1224.46 L152.104 1224.46 L152.104 1227.66 L135.929 1227.66 L135.929 1224.46 Z\" fill=\"#000000\" fill-rule=\"evenodd\" fill-opacity=\"1\" /><path clip-path=\"url(#clip280)\" d=\"M167.903 1202.08 Q164.969 1202.08 163.483 1204.98 Q162.016 1207.85 162.016 1213.65 Q162.016 1219.42 163.483 1222.32 Q164.969 1225.19 167.903 1225.19 Q170.855 1225.19 172.322 1222.32 Q173.808 1219.42 173.808 1213.65 Q173.808 1207.85 172.322 1204.98 Q170.855 1202.08 167.903 1202.08 M167.903 1199.07 Q172.623 1199.07 175.106 1202.81 Q177.607 1206.54 177.607 1213.65 Q177.607 1220.74 175.106 1224.48 Q172.623 1228.2 167.903 1228.2 Q163.182 1228.2 160.68 1224.48 Q158.198 1220.74 158.198 1213.65 Q158.198 1206.54 160.68 1202.81 Q163.182 1199.07 167.903 1199.07 Z\" fill=\"#000000\" fill-rule=\"evenodd\" fill-opacity=\"1\" /><path clip-path=\"url(#clip280)\" d=\"M76.9787 684.563 L84.6175 684.563 L84.6175 658.198 L76.3074 659.864 L76.3074 655.605 L84.5712 653.939 L89.2471 653.939 L89.2471 684.563 L96.886 684.563 L96.886 688.499 L76.9787 688.499 L76.9787 684.563 Z\" fill=\"#000000\" fill-rule=\"evenodd\" fill-opacity=\"1\" /><path clip-path=\"url(#clip280)\" d=\"M116.33 657.017 Q112.719 657.017 110.891 660.582 Q109.085 664.124 109.085 671.253 Q109.085 678.36 110.891 681.925 Q112.719 685.466 116.33 685.466 Q119.965 685.466 121.77 681.925 Q123.599 678.36 123.599 671.253 Q123.599 664.124 121.77 660.582 Q119.965 657.017 116.33 657.017 M116.33 653.314 Q122.14 653.314 125.196 657.92 Q128.275 662.503 128.275 671.253 Q128.275 679.98 125.196 684.587 Q122.14 689.17 116.33 689.17 Q110.52 689.17 107.441 684.587 Q104.386 679.98 104.386 671.253 Q104.386 662.503 107.441 657.92 Q110.52 653.314 116.33 653.314 Z\" fill=\"#000000\" fill-rule=\"evenodd\" fill-opacity=\"1\" /><path clip-path=\"url(#clip280)\" d=\"M128.275 647.415 L152.386 647.415 L152.386 650.612 L128.275 650.612 L128.275 647.415 Z\" fill=\"#000000\" fill-rule=\"evenodd\" fill-opacity=\"1\" /><path clip-path=\"url(#clip280)\" d=\"M160.624 633.008 L175.539 633.008 L175.539 636.205 L164.103 636.205 L164.103 643.089 Q164.931 642.807 165.759 642.675 Q166.586 642.525 167.414 642.525 Q172.116 642.525 174.862 645.102 Q177.607 647.678 177.607 652.079 Q177.607 656.612 174.786 659.132 Q171.965 661.634 166.831 661.634 Q165.063 661.634 163.22 661.333 Q161.395 661.032 159.439 660.43 L159.439 656.612 Q161.132 657.533 162.937 657.985 Q164.743 658.436 166.755 658.436 Q170.009 658.436 171.909 656.725 Q173.808 655.013 173.808 652.079 Q173.808 649.145 171.909 647.434 Q170.009 645.722 166.755 645.722 Q165.232 645.722 163.709 646.061 Q162.204 646.399 160.624 647.114 L160.624 633.008 Z\" fill=\"#000000\" fill-rule=\"evenodd\" fill-opacity=\"1\" /><path clip-path=\"url(#clip280)\" d=\"M106.902 117.993 L114.541 117.993 L114.541 91.6272 L106.231 93.2939 L106.231 89.0346 L114.494 87.368 L119.17 87.368 L119.17 117.993 L126.809 117.993 L126.809 121.928 L106.902 121.928 L106.902 117.993 Z\" fill=\"#000000\" fill-rule=\"evenodd\" fill-opacity=\"1\" /><path clip-path=\"url(#clip280)\" d=\"M146.253 90.4467 Q142.642 90.4467 140.814 94.0115 Q139.008 97.5531 139.008 104.683 Q139.008 111.789 140.814 115.354 Q142.642 118.896 146.253 118.896 Q149.888 118.896 151.693 115.354 Q153.522 111.789 153.522 104.683 Q153.522 97.5531 151.693 94.0115 Q149.888 90.4467 146.253 90.4467 M146.253 86.743 Q152.064 86.743 155.119 91.3494 Q158.198 95.9328 158.198 104.683 Q158.198 113.41 155.119 118.016 Q152.064 122.599 146.253 122.599 Q140.443 122.599 137.365 118.016 Q134.309 113.41 134.309 104.683 Q134.309 95.9328 137.365 91.3494 Q140.443 86.743 146.253 86.743 Z\" fill=\"#000000\" fill-rule=\"evenodd\" fill-opacity=\"1\" /><path clip-path=\"url(#clip280)\" d=\"M167.903 68.939 Q164.969 68.939 163.483 71.8354 Q162.016 74.713 162.016 80.5058 Q162.016 86.2798 163.483 89.1762 Q164.969 92.0538 167.903 92.0538 Q170.855 92.0538 172.322 89.1762 Q173.808 86.2798 173.808 80.5058 Q173.808 74.713 172.322 71.8354 Q170.855 68.939 167.903 68.939 M167.903 65.9298 Q172.623 65.9298 175.106 69.6725 Q177.607 73.3965 177.607 80.5058 Q177.607 87.5963 175.106 91.3391 Q172.623 95.063 167.903 95.063 Q163.182 95.063 160.68 91.3391 Q158.198 87.5963 158.198 80.5058 Q158.198 73.3965 160.68 69.6725 Q163.182 65.9298 167.903 65.9298 Z\" fill=\"#000000\" fill-rule=\"evenodd\" fill-opacity=\"1\" /><polyline clip-path=\"url(#clip282)\" style=\"stroke:#009af9; stroke-linecap:butt; stroke-linejoin:round; stroke-width:16; stroke-opacity:1; fill:none\" points=\"\n",
       "  274.149,87.9763 946.838,379.244 1619.53,734.791 2292.21,1445.72 \n",
       "  \"/>\n",
       "<circle clip-path=\"url(#clip282)\" cx=\"274.149\" cy=\"87.9763\" r=\"14\" fill=\"#009af9\" fill-rule=\"evenodd\" fill-opacity=\"1\" stroke=\"#000000\" stroke-opacity=\"1\" stroke-width=\"3.2\"/>\n",
       "<circle clip-path=\"url(#clip282)\" cx=\"946.838\" cy=\"379.244\" r=\"14\" fill=\"#009af9\" fill-rule=\"evenodd\" fill-opacity=\"1\" stroke=\"#000000\" stroke-opacity=\"1\" stroke-width=\"3.2\"/>\n",
       "<circle clip-path=\"url(#clip282)\" cx=\"1619.53\" cy=\"734.791\" r=\"14\" fill=\"#009af9\" fill-rule=\"evenodd\" fill-opacity=\"1\" stroke=\"#000000\" stroke-opacity=\"1\" stroke-width=\"3.2\"/>\n",
       "<circle clip-path=\"url(#clip282)\" cx=\"2292.21\" cy=\"1445.72\" r=\"14\" fill=\"#009af9\" fill-rule=\"evenodd\" fill-opacity=\"1\" stroke=\"#000000\" stroke-opacity=\"1\" stroke-width=\"3.2\"/>\n",
       "<path clip-path=\"url(#clip280)\" d=\"\n",
       "M1965.12 250.738 L2281.45 250.738 L2281.45 95.2176 L1965.12 95.2176  Z\n",
       "  \" fill=\"#ffffff\" fill-rule=\"evenodd\" fill-opacity=\"1\"/>\n",
       "<polyline clip-path=\"url(#clip280)\" style=\"stroke:#000000; stroke-linecap:butt; stroke-linejoin:round; stroke-width:4; stroke-opacity:1; fill:none\" points=\"\n",
       "  1965.12,250.738 2281.45,250.738 2281.45,95.2176 1965.12,95.2176 1965.12,250.738 \n",
       "  \"/>\n",
       "<polyline clip-path=\"url(#clip280)\" style=\"stroke:#009af9; stroke-linecap:butt; stroke-linejoin:round; stroke-width:6; stroke-opacity:1; fill:none\" points=\"\n",
       "  1988.89,172.978 2131.5,172.978 \n",
       "  \"/>\n",
       "<circle clip-path=\"url(#clip280)\" cx=\"2060.2\" cy=\"172.978\" r=\"34\" fill=\"#009af9\" fill-rule=\"evenodd\" fill-opacity=\"1\" stroke=\"#000000\" stroke-opacity=\"1\" stroke-width=\"7.68\"/>\n",
       "<path clip-path=\"url(#clip280)\" d=\"M2176.03 202.509 Q2173.32 209.453 2170.75 211.571 Q2168.19 213.689 2163.88 213.689 L2158.78 213.689 L2158.78 208.342 L2162.53 208.342 Q2165.16 208.342 2166.62 207.092 Q2168.08 205.842 2169.85 201.189 L2171 198.273 L2155.27 160.009 L2162.04 160.009 L2174.19 190.425 L2186.35 160.009 L2193.12 160.009 L2176.03 202.509 Z\" fill=\"#000000\" fill-rule=\"evenodd\" fill-opacity=\"1\" /><path clip-path=\"url(#clip280)\" d=\"M2204.05 192.995 L2215.51 192.995 L2215.51 153.446 L2203.05 155.946 L2203.05 149.558 L2215.44 147.058 L2222.46 147.058 L2222.46 192.995 L2233.91 192.995 L2233.91 198.898 L2204.05 198.898 L2204.05 192.995 Z\" fill=\"#000000\" fill-rule=\"evenodd\" fill-opacity=\"1\" /></svg>\n"
      ]
     },
     "execution_count": 22,
     "metadata": {},
     "output_type": "execute_result"
    }
   ],
   "source": [
    "xs = newton_hist(f, fp, 1.97)\n",
    "@show x_star = xs[end,1]\n",
    "plot(xs[1:end-1,1] .- x_star, yscale=:log10, marker=:auto)"
   ]
  },
  {
   "cell_type": "markdown",
   "id": "51533606",
   "metadata": {},
   "source": [
    "## Poll: Is this convergence A=q-linear, B=r-linear, C=neither?"
   ]
  },
  {
   "cell_type": "markdown",
   "id": "d9a040d3",
   "metadata": {
    "slideshow": {
     "slide_type": "slide"
    }
   },
   "source": [
    "# Formulations are not unique (constants)\n",
    "\n",
    "If $x = g(x)$ then\n",
    "$$x = \\underbrace{x + c(g(x) - x)}_{g_2}$$\n",
    "for any constant $c \\ne 0$. Can we choose $c$ to make $\\lvert g_2'(x_*) \\rvert$ small?"
   ]
  },
  {
   "cell_type": "code",
   "execution_count": 28,
   "id": "b6f9472b",
   "metadata": {
    "cell_style": "split"
   },
   "outputs": [
    {
     "name": "stdout",
     "output_type": "stream",
     "text": [
      "g2p(xstar) = 0.0\n"
     ]
    },
    {
     "data": {
      "image/svg+xml": [
       "<?xml version=\"1.0\" encoding=\"utf-8\"?>\n",
       "<svg xmlns=\"http://www.w3.org/2000/svg\" xmlns:xlink=\"http://www.w3.org/1999/xlink\" width=\"600\" height=\"400\" viewBox=\"0 0 2400 1600\">\n",
       "<defs>\n",
       "  <clipPath id=\"clip480\">\n",
       "    <rect x=\"0\" y=\"0\" width=\"2400\" height=\"1600\"/>\n",
       "  </clipPath>\n",
       "</defs>\n",
       "<path clip-path=\"url(#clip480)\" d=\"\n",
       "M0 1600 L2400 1600 L2400 0 L0 0  Z\n",
       "  \" fill=\"#ffffff\" fill-rule=\"evenodd\" fill-opacity=\"1\"/>\n",
       "<defs>\n",
       "  <clipPath id=\"clip481\">\n",
       "    <rect x=\"480\" y=\"0\" width=\"1681\" height=\"1600\"/>\n",
       "  </clipPath>\n",
       "</defs>\n",
       "<path clip-path=\"url(#clip480)\" d=\"\n",
       "M193.936 1486.45 L2352.76 1486.45 L2352.76 47.2441 L193.936 47.2441  Z\n",
       "  \" fill=\"#ffffff\" fill-rule=\"evenodd\" fill-opacity=\"1\"/>\n",
       "<defs>\n",
       "  <clipPath id=\"clip482\">\n",
       "    <rect x=\"193\" y=\"47\" width=\"2160\" height=\"1440\"/>\n",
       "  </clipPath>\n",
       "</defs>\n",
       "<polyline clip-path=\"url(#clip482)\" style=\"stroke:#000000; stroke-linecap:butt; stroke-linejoin:round; stroke-width:2; stroke-opacity:0.1; fill:none\" points=\"\n",
       "  458.697,1486.45 458.697,47.2441 \n",
       "  \"/>\n",
       "<polyline clip-path=\"url(#clip482)\" style=\"stroke:#000000; stroke-linecap:butt; stroke-linejoin:round; stroke-width:2; stroke-opacity:0.1; fill:none\" points=\"\n",
       "  866.021,1486.45 866.021,47.2441 \n",
       "  \"/>\n",
       "<polyline clip-path=\"url(#clip482)\" style=\"stroke:#000000; stroke-linecap:butt; stroke-linejoin:round; stroke-width:2; stroke-opacity:0.1; fill:none\" points=\"\n",
       "  1273.35,1486.45 1273.35,47.2441 \n",
       "  \"/>\n",
       "<polyline clip-path=\"url(#clip482)\" style=\"stroke:#000000; stroke-linecap:butt; stroke-linejoin:round; stroke-width:2; stroke-opacity:0.1; fill:none\" points=\"\n",
       "  1680.67,1486.45 1680.67,47.2441 \n",
       "  \"/>\n",
       "<polyline clip-path=\"url(#clip482)\" style=\"stroke:#000000; stroke-linecap:butt; stroke-linejoin:round; stroke-width:2; stroke-opacity:0.1; fill:none\" points=\"\n",
       "  2087.99,1486.45 2087.99,47.2441 \n",
       "  \"/>\n",
       "<polyline clip-path=\"url(#clip480)\" style=\"stroke:#000000; stroke-linecap:butt; stroke-linejoin:round; stroke-width:4; stroke-opacity:1; fill:none\" points=\"\n",
       "  193.936,1486.45 2352.76,1486.45 \n",
       "  \"/>\n",
       "<polyline clip-path=\"url(#clip480)\" style=\"stroke:#000000; stroke-linecap:butt; stroke-linejoin:round; stroke-width:4; stroke-opacity:1; fill:none\" points=\"\n",
       "  458.697,1486.45 458.697,1467.55 \n",
       "  \"/>\n",
       "<polyline clip-path=\"url(#clip480)\" style=\"stroke:#000000; stroke-linecap:butt; stroke-linejoin:round; stroke-width:4; stroke-opacity:1; fill:none\" points=\"\n",
       "  866.021,1486.45 866.021,1467.55 \n",
       "  \"/>\n",
       "<polyline clip-path=\"url(#clip480)\" style=\"stroke:#000000; stroke-linecap:butt; stroke-linejoin:round; stroke-width:4; stroke-opacity:1; fill:none\" points=\"\n",
       "  1273.35,1486.45 1273.35,1467.55 \n",
       "  \"/>\n",
       "<polyline clip-path=\"url(#clip480)\" style=\"stroke:#000000; stroke-linecap:butt; stroke-linejoin:round; stroke-width:4; stroke-opacity:1; fill:none\" points=\"\n",
       "  1680.67,1486.45 1680.67,1467.55 \n",
       "  \"/>\n",
       "<polyline clip-path=\"url(#clip480)\" style=\"stroke:#000000; stroke-linecap:butt; stroke-linejoin:round; stroke-width:4; stroke-opacity:1; fill:none\" points=\"\n",
       "  2087.99,1486.45 2087.99,1467.55 \n",
       "  \"/>\n",
       "<path clip-path=\"url(#clip480)\" d=\"M427.598 1532.02 L457.273 1532.02 L457.273 1535.95 L427.598 1535.95 L427.598 1532.02 Z\" fill=\"#000000\" fill-rule=\"evenodd\" fill-opacity=\"1\" /><path clip-path=\"url(#clip480)\" d=\"M480.213 1518.36 L468.408 1536.81 L480.213 1536.81 L480.213 1518.36 M478.986 1514.29 L484.866 1514.29 L484.866 1536.81 L489.796 1536.81 L489.796 1540.7 L484.866 1540.7 L484.866 1548.85 L480.213 1548.85 L480.213 1540.7 L464.611 1540.7 L464.611 1536.19 L478.986 1514.29 Z\" fill=\"#000000\" fill-rule=\"evenodd\" fill-opacity=\"1\" /><path clip-path=\"url(#clip480)\" d=\"M835.964 1532.02 L865.639 1532.02 L865.639 1535.95 L835.964 1535.95 L835.964 1532.02 Z\" fill=\"#000000\" fill-rule=\"evenodd\" fill-opacity=\"1\" /><path clip-path=\"url(#clip480)\" d=\"M879.76 1544.91 L896.079 1544.91 L896.079 1548.85 L874.135 1548.85 L874.135 1544.91 Q876.797 1542.16 881.38 1537.53 Q885.987 1532.88 887.167 1531.53 Q889.413 1529.01 890.292 1527.27 Q891.195 1525.51 891.195 1523.82 Q891.195 1521.07 889.25 1519.33 Q887.329 1517.6 884.227 1517.6 Q882.028 1517.6 879.575 1518.36 Q877.144 1519.13 874.366 1520.68 L874.366 1515.95 Q877.19 1514.82 879.644 1514.24 Q882.098 1513.66 884.135 1513.66 Q889.505 1513.66 892.7 1516.35 Q895.894 1519.03 895.894 1523.52 Q895.894 1525.65 895.084 1527.57 Q894.297 1529.47 892.19 1532.07 Q891.612 1532.74 888.51 1535.95 Q885.408 1539.15 879.76 1544.91 Z\" fill=\"#000000\" fill-rule=\"evenodd\" fill-opacity=\"1\" /><path clip-path=\"url(#clip480)\" d=\"M1273.35 1517.37 Q1269.73 1517.37 1267.91 1520.93 Q1266.1 1524.47 1266.1 1531.6 Q1266.1 1538.71 1267.91 1542.27 Q1269.73 1545.82 1273.35 1545.82 Q1276.98 1545.82 1278.79 1542.27 Q1280.61 1538.71 1280.61 1531.6 Q1280.61 1524.47 1278.79 1520.93 Q1276.98 1517.37 1273.35 1517.37 M1273.35 1513.66 Q1279.16 1513.66 1282.21 1518.27 Q1285.29 1522.85 1285.29 1531.6 Q1285.29 1540.33 1282.21 1544.94 Q1279.16 1549.52 1273.35 1549.52 Q1267.54 1549.52 1264.46 1544.94 Q1261.4 1540.33 1261.4 1531.6 Q1261.4 1522.85 1264.46 1518.27 Q1267.54 1513.66 1273.35 1513.66 Z\" fill=\"#000000\" fill-rule=\"evenodd\" fill-opacity=\"1\" /><path clip-path=\"url(#clip480)\" d=\"M1675.32 1544.91 L1691.64 1544.91 L1691.64 1548.85 L1669.7 1548.85 L1669.7 1544.91 Q1672.36 1542.16 1676.94 1537.53 Q1681.55 1532.88 1682.73 1531.53 Q1684.98 1529.01 1685.86 1527.27 Q1686.76 1525.51 1686.76 1523.82 Q1686.76 1521.07 1684.81 1519.33 Q1682.89 1517.6 1679.79 1517.6 Q1677.59 1517.6 1675.14 1518.36 Q1672.71 1519.13 1669.93 1520.68 L1669.93 1515.95 Q1672.75 1514.82 1675.21 1514.24 Q1677.66 1513.66 1679.7 1513.66 Q1685.07 1513.66 1688.26 1516.35 Q1691.46 1519.03 1691.46 1523.52 Q1691.46 1525.65 1690.65 1527.57 Q1689.86 1529.47 1687.75 1532.07 Q1687.18 1532.74 1684.07 1535.95 Q1680.97 1539.15 1675.32 1544.91 Z\" fill=\"#000000\" fill-rule=\"evenodd\" fill-opacity=\"1\" /><path clip-path=\"url(#clip480)\" d=\"M2091 1518.36 L2079.2 1536.81 L2091 1536.81 L2091 1518.36 M2089.78 1514.29 L2095.66 1514.29 L2095.66 1536.81 L2100.59 1536.81 L2100.59 1540.7 L2095.66 1540.7 L2095.66 1548.85 L2091 1548.85 L2091 1540.7 L2075.4 1540.7 L2075.4 1536.19 L2089.78 1514.29 Z\" fill=\"#000000\" fill-rule=\"evenodd\" fill-opacity=\"1\" /><polyline clip-path=\"url(#clip482)\" style=\"stroke:#000000; stroke-linecap:butt; stroke-linejoin:round; stroke-width:2; stroke-opacity:0.1; fill:none\" points=\"\n",
       "  193.936,1486.45 2352.76,1486.45 \n",
       "  \"/>\n",
       "<polyline clip-path=\"url(#clip482)\" style=\"stroke:#000000; stroke-linecap:butt; stroke-linejoin:round; stroke-width:2; stroke-opacity:0.1; fill:none\" points=\"\n",
       "  193.936,1126.65 2352.76,1126.65 \n",
       "  \"/>\n",
       "<polyline clip-path=\"url(#clip482)\" style=\"stroke:#000000; stroke-linecap:butt; stroke-linejoin:round; stroke-width:2; stroke-opacity:0.1; fill:none\" points=\"\n",
       "  193.936,766.846 2352.76,766.846 \n",
       "  \"/>\n",
       "<polyline clip-path=\"url(#clip482)\" style=\"stroke:#000000; stroke-linecap:butt; stroke-linejoin:round; stroke-width:2; stroke-opacity:0.1; fill:none\" points=\"\n",
       "  193.936,407.045 2352.76,407.045 \n",
       "  \"/>\n",
       "<polyline clip-path=\"url(#clip482)\" style=\"stroke:#000000; stroke-linecap:butt; stroke-linejoin:round; stroke-width:2; stroke-opacity:0.1; fill:none\" points=\"\n",
       "  193.936,47.2441 2352.76,47.2441 \n",
       "  \"/>\n",
       "<polyline clip-path=\"url(#clip480)\" style=\"stroke:#000000; stroke-linecap:butt; stroke-linejoin:round; stroke-width:4; stroke-opacity:1; fill:none\" points=\"\n",
       "  193.936,1486.45 193.936,47.2441 \n",
       "  \"/>\n",
       "<polyline clip-path=\"url(#clip480)\" style=\"stroke:#000000; stroke-linecap:butt; stroke-linejoin:round; stroke-width:4; stroke-opacity:1; fill:none\" points=\"\n",
       "  193.936,1486.45 212.834,1486.45 \n",
       "  \"/>\n",
       "<polyline clip-path=\"url(#clip480)\" style=\"stroke:#000000; stroke-linecap:butt; stroke-linejoin:round; stroke-width:4; stroke-opacity:1; fill:none\" points=\"\n",
       "  193.936,1126.65 212.834,1126.65 \n",
       "  \"/>\n",
       "<polyline clip-path=\"url(#clip480)\" style=\"stroke:#000000; stroke-linecap:butt; stroke-linejoin:round; stroke-width:4; stroke-opacity:1; fill:none\" points=\"\n",
       "  193.936,766.846 212.834,766.846 \n",
       "  \"/>\n",
       "<polyline clip-path=\"url(#clip480)\" style=\"stroke:#000000; stroke-linecap:butt; stroke-linejoin:round; stroke-width:4; stroke-opacity:1; fill:none\" points=\"\n",
       "  193.936,407.045 212.834,407.045 \n",
       "  \"/>\n",
       "<polyline clip-path=\"url(#clip480)\" style=\"stroke:#000000; stroke-linecap:butt; stroke-linejoin:round; stroke-width:4; stroke-opacity:1; fill:none\" points=\"\n",
       "  193.936,47.2441 212.834,47.2441 \n",
       "  \"/>\n",
       "<path clip-path=\"url(#clip480)\" d=\"M50.9921 1486.9 L80.6679 1486.9 L80.6679 1490.83 L50.9921 1490.83 L50.9921 1486.9 Z\" fill=\"#000000\" fill-rule=\"evenodd\" fill-opacity=\"1\" /><path clip-path=\"url(#clip480)\" d=\"M90.8067 1469.17 L109.163 1469.17 L109.163 1473.1 L95.0891 1473.1 L95.0891 1481.58 Q96.1076 1481.23 97.1261 1481.07 Q98.1447 1480.88 99.1632 1480.88 Q104.95 1480.88 108.33 1484.05 Q111.709 1487.22 111.709 1492.64 Q111.709 1498.22 108.237 1501.32 Q104.765 1504.4 98.4456 1504.4 Q96.2697 1504.4 94.0012 1504.03 Q91.7558 1503.66 89.3484 1502.92 L89.3484 1498.22 Q91.4317 1499.35 93.6539 1499.91 Q95.8761 1500.46 98.353 1500.46 Q102.358 1500.46 104.696 1498.36 Q107.033 1496.25 107.033 1492.64 Q107.033 1489.03 104.696 1486.92 Q102.358 1484.82 98.353 1484.82 Q96.478 1484.82 94.603 1485.23 Q92.7512 1485.65 90.8067 1486.53 L90.8067 1469.17 Z\" fill=\"#000000\" fill-rule=\"evenodd\" fill-opacity=\"1\" /><path clip-path=\"url(#clip480)\" d=\"M120.922 1497.85 L125.807 1497.85 L125.807 1503.73 L120.922 1503.73 L120.922 1497.85 Z\" fill=\"#000000\" fill-rule=\"evenodd\" fill-opacity=\"1\" /><path clip-path=\"url(#clip480)\" d=\"M145.992 1472.25 Q142.381 1472.25 140.552 1475.81 Q138.746 1479.35 138.746 1486.48 Q138.746 1493.59 140.552 1497.15 Q142.381 1500.7 145.992 1500.7 Q149.626 1500.7 151.431 1497.15 Q153.26 1493.59 153.26 1486.48 Q153.26 1479.35 151.431 1475.81 Q149.626 1472.25 145.992 1472.25 M145.992 1468.54 Q151.802 1468.54 154.857 1473.15 Q157.936 1477.73 157.936 1486.48 Q157.936 1495.21 154.857 1499.82 Q151.802 1504.4 145.992 1504.4 Q140.181 1504.4 137.103 1499.82 Q134.047 1495.21 134.047 1486.48 Q134.047 1477.73 137.103 1473.15 Q140.181 1468.54 145.992 1468.54 Z\" fill=\"#000000\" fill-rule=\"evenodd\" fill-opacity=\"1\" /><path clip-path=\"url(#clip480)\" d=\"M51.9875 1127.1 L81.6633 1127.1 L81.6633 1131.03 L51.9875 1131.03 L51.9875 1127.1 Z\" fill=\"#000000\" fill-rule=\"evenodd\" fill-opacity=\"1\" /><path clip-path=\"url(#clip480)\" d=\"M95.7836 1139.99 L112.103 1139.99 L112.103 1143.93 L90.1586 1143.93 L90.1586 1139.99 Q92.8206 1137.24 97.4039 1132.61 Q102.01 1127.95 103.191 1126.61 Q105.436 1124.09 106.316 1122.35 Q107.219 1120.59 107.219 1118.9 Q107.219 1116.15 105.274 1114.41 Q103.353 1112.68 100.251 1112.68 Q98.0521 1112.68 95.5984 1113.44 Q93.1678 1114.2 90.3901 1115.76 L90.3901 1111.03 Q93.2141 1109.9 95.6678 1109.32 Q98.1215 1108.74 100.159 1108.74 Q105.529 1108.74 108.723 1111.43 Q111.918 1114.11 111.918 1118.6 Q111.918 1120.73 111.108 1122.65 Q110.321 1124.55 108.214 1127.14 Q107.635 1127.82 104.534 1131.03 Q101.432 1134.23 95.7836 1139.99 Z\" fill=\"#000000\" fill-rule=\"evenodd\" fill-opacity=\"1\" /><path clip-path=\"url(#clip480)\" d=\"M121.918 1138.05 L126.802 1138.05 L126.802 1143.93 L121.918 1143.93 L121.918 1138.05 Z\" fill=\"#000000\" fill-rule=\"evenodd\" fill-opacity=\"1\" /><path clip-path=\"url(#clip480)\" d=\"M137.033 1109.37 L155.39 1109.37 L155.39 1113.3 L141.316 1113.3 L141.316 1121.77 Q142.334 1121.43 143.353 1121.27 Q144.371 1121.08 145.39 1121.08 Q151.177 1121.08 154.556 1124.25 Q157.936 1127.42 157.936 1132.84 Q157.936 1138.42 154.464 1141.52 Q150.992 1144.6 144.672 1144.6 Q142.496 1144.6 140.228 1144.23 Q137.982 1143.86 135.575 1143.12 L135.575 1138.42 Q137.658 1139.55 139.881 1140.11 Q142.103 1140.66 144.58 1140.66 Q148.584 1140.66 150.922 1138.56 Q153.26 1136.45 153.26 1132.84 Q153.26 1129.23 150.922 1127.12 Q148.584 1125.01 144.58 1125.01 Q142.705 1125.01 140.83 1125.43 Q138.978 1125.85 137.033 1126.73 L137.033 1109.37 Z\" fill=\"#000000\" fill-rule=\"evenodd\" fill-opacity=\"1\" /><path clip-path=\"url(#clip480)\" d=\"M100.76 752.645 Q97.1493 752.645 95.3206 756.209 Q93.515 759.751 93.515 766.881 Q93.515 773.987 95.3206 777.552 Q97.1493 781.094 100.76 781.094 Q104.395 781.094 106.2 777.552 Q108.029 773.987 108.029 766.881 Q108.029 759.751 106.2 756.209 Q104.395 752.645 100.76 752.645 M100.76 748.941 Q106.571 748.941 109.626 753.547 Q112.705 758.131 112.705 766.881 Q112.705 775.608 109.626 780.214 Q106.571 784.797 100.76 784.797 Q94.9502 784.797 91.8715 780.214 Q88.816 775.608 88.816 766.881 Q88.816 758.131 91.8715 753.547 Q94.9502 748.941 100.76 748.941 Z\" fill=\"#000000\" fill-rule=\"evenodd\" fill-opacity=\"1\" /><path clip-path=\"url(#clip480)\" d=\"M120.922 778.246 L125.807 778.246 L125.807 784.126 L120.922 784.126 L120.922 778.246 Z\" fill=\"#000000\" fill-rule=\"evenodd\" fill-opacity=\"1\" /><path clip-path=\"url(#clip480)\" d=\"M145.992 752.645 Q142.381 752.645 140.552 756.209 Q138.746 759.751 138.746 766.881 Q138.746 773.987 140.552 777.552 Q142.381 781.094 145.992 781.094 Q149.626 781.094 151.431 777.552 Q153.26 773.987 153.26 766.881 Q153.26 759.751 151.431 756.209 Q149.626 752.645 145.992 752.645 M145.992 748.941 Q151.802 748.941 154.857 753.547 Q157.936 758.131 157.936 766.881 Q157.936 775.608 154.857 780.214 Q151.802 784.797 145.992 784.797 Q140.181 784.797 137.103 780.214 Q134.047 775.608 134.047 766.881 Q134.047 758.131 137.103 753.547 Q140.181 748.941 145.992 748.941 Z\" fill=\"#000000\" fill-rule=\"evenodd\" fill-opacity=\"1\" /><path clip-path=\"url(#clip480)\" d=\"M95.7836 420.39 L112.103 420.39 L112.103 424.325 L90.1586 424.325 L90.1586 420.39 Q92.8206 417.635 97.4039 413.006 Q102.01 408.353 103.191 407.01 Q105.436 404.487 106.316 402.751 Q107.219 400.992 107.219 399.302 Q107.219 396.547 105.274 394.811 Q103.353 393.075 100.251 393.075 Q98.0521 393.075 95.5984 393.839 Q93.1678 394.603 90.3901 396.154 L90.3901 391.432 Q93.2141 390.297 95.6678 389.719 Q98.1215 389.14 100.159 389.14 Q105.529 389.14 108.723 391.825 Q111.918 394.51 111.918 399.001 Q111.918 401.131 111.108 403.052 Q110.321 404.95 108.214 407.543 Q107.635 408.214 104.534 411.432 Q101.432 414.626 95.7836 420.39 Z\" fill=\"#000000\" fill-rule=\"evenodd\" fill-opacity=\"1\" /><path clip-path=\"url(#clip480)\" d=\"M121.918 418.445 L126.802 418.445 L126.802 424.325 L121.918 424.325 L121.918 418.445 Z\" fill=\"#000000\" fill-rule=\"evenodd\" fill-opacity=\"1\" /><path clip-path=\"url(#clip480)\" d=\"M137.033 389.765 L155.39 389.765 L155.39 393.7 L141.316 393.7 L141.316 402.172 Q142.334 401.825 143.353 401.663 Q144.371 401.478 145.39 401.478 Q151.177 401.478 154.556 404.649 Q157.936 407.82 157.936 413.237 Q157.936 418.816 154.464 421.918 Q150.992 424.996 144.672 424.996 Q142.496 424.996 140.228 424.626 Q137.982 424.256 135.575 423.515 L135.575 418.816 Q137.658 419.95 139.881 420.506 Q142.103 421.061 144.58 421.061 Q148.584 421.061 150.922 418.955 Q153.26 416.848 153.26 413.237 Q153.26 409.626 150.922 407.52 Q148.584 405.413 144.58 405.413 Q142.705 405.413 140.83 405.83 Q138.978 406.246 137.033 407.126 L137.033 389.765 Z\" fill=\"#000000\" fill-rule=\"evenodd\" fill-opacity=\"1\" /><path clip-path=\"url(#clip480)\" d=\"M90.8067 29.9641 L109.163 29.9641 L109.163 33.8993 L95.0891 33.8993 L95.0891 42.3714 Q96.1076 42.0242 97.1261 41.8622 Q98.1447 41.677 99.1632 41.677 Q104.95 41.677 108.33 44.8483 Q111.709 48.0196 111.709 53.4362 Q111.709 59.0149 108.237 62.1167 Q104.765 65.1954 98.4456 65.1954 Q96.2697 65.1954 94.0012 64.825 Q91.7558 64.4547 89.3484 63.7139 L89.3484 59.0149 Q91.4317 60.1491 93.6539 60.7047 Q95.8761 61.2602 98.353 61.2602 Q102.358 61.2602 104.696 59.1538 Q107.033 57.0473 107.033 53.4362 Q107.033 49.8251 104.696 47.7186 Q102.358 45.6122 98.353 45.6122 Q96.478 45.6122 94.603 46.0288 Q92.7512 46.4455 90.8067 47.3251 L90.8067 29.9641 Z\" fill=\"#000000\" fill-rule=\"evenodd\" fill-opacity=\"1\" /><path clip-path=\"url(#clip480)\" d=\"M120.922 58.6445 L125.807 58.6445 L125.807 64.5241 L120.922 64.5241 L120.922 58.6445 Z\" fill=\"#000000\" fill-rule=\"evenodd\" fill-opacity=\"1\" /><path clip-path=\"url(#clip480)\" d=\"M145.992 33.0428 Q142.381 33.0428 140.552 36.6076 Q138.746 40.1492 138.746 47.2788 Q138.746 54.3853 140.552 57.9501 Q142.381 61.4917 145.992 61.4917 Q149.626 61.4917 151.431 57.9501 Q153.26 54.3853 153.26 47.2788 Q153.26 40.1492 151.431 36.6076 Q149.626 33.0428 145.992 33.0428 M145.992 29.3391 Q151.802 29.3391 154.857 33.9456 Q157.936 38.5289 157.936 47.2788 Q157.936 56.0056 154.857 60.6121 Q151.802 65.1954 145.992 65.1954 Q140.181 65.1954 137.103 60.6121 Q134.047 56.0056 134.047 47.2788 Q134.047 38.5289 137.103 33.9456 Q140.181 29.3391 145.992 29.3391 Z\" fill=\"#000000\" fill-rule=\"evenodd\" fill-opacity=\"1\" /><polyline clip-path=\"url(#clip482)\" style=\"stroke:#009af9; stroke-linecap:butt; stroke-linejoin:round; stroke-width:16; stroke-opacity:1; fill:none\" points=\"\n",
       "  255.035,1486.45 274.924,1472.39 458.829,1342.43 569.348,1264.33 662.791,1198.3 764.296,1126.57 857.875,1060.44 958.201,989.547 1074.44,907.406 1177.74,834.409 \n",
       "  1268.32,770.397 1367.08,700.607 1466.43,630.403 1576.27,552.782 1680.78,478.928 1789.45,402.137 1880.92,337.496 1992.6,258.576 2097.58,184.389 2265.77,65.5351 \n",
       "  2291.66,47.2441 \n",
       "  \"/>\n",
       "<polyline clip-path=\"url(#clip482)\" style=\"stroke:#e26f46; stroke-linecap:butt; stroke-linejoin:round; stroke-width:16; stroke-opacity:1; fill:none\" points=\"\n",
       "  255.035,726.021 260.007,729.402 264.979,732.806 269.952,736.23 274.924,739.672 320.9,771.997 366.877,804.06 412.853,834.234 458.829,860.989 486.459,874.847 \n",
       "  514.089,886.721 541.719,896.391 569.348,903.681 592.709,907.886 616.07,910.238 639.431,910.706 662.791,909.283 688.167,905.617 713.544,899.799 738.92,891.92 \n",
       "  764.296,882.102 787.691,871.463 811.085,859.446 834.48,846.208 857.875,831.923 908.038,798.661 958.201,763.478 1016.32,723.11 1074.44,686.279 1100.26,671.845 \n",
       "  1126.09,658.936 1151.91,647.759 1177.74,638.495 1200.38,632.063 1223.03,627.296 1245.67,624.252 1268.32,622.969 1293.01,623.596 1317.7,626.325 1342.39,631.117 \n",
       "  1367.08,637.901 1391.92,646.635 1416.75,657.155 1441.59,669.304 1466.43,682.902 1521.35,717.079 1576.27,754.854 1628.52,791.643 1680.78,826.808 1707.95,843.676 \n",
       "  1735.11,859.178 1762.28,873.041 1789.45,885.016 1812.31,893.477 1835.18,900.343 1858.05,905.528 1880.92,908.966 1908.84,910.734 1936.76,909.802 1964.68,906.188 \n",
       "  1992.6,899.958 2018.85,891.823 2045.09,881.614 2071.34,869.503 2097.58,855.688 2139.63,830.591 2181.68,802.786 2223.73,773.455 2265.77,743.843 2272.24,739.341 \n",
       "  2278.72,734.868 2285.19,730.426 2291.66,726.021 \n",
       "  \"/>\n",
       "<polyline clip-path=\"url(#clip482)\" style=\"stroke:#3da44d; stroke-linecap:butt; stroke-linejoin:round; stroke-width:16; stroke-opacity:1; fill:none\" points=\"\n",
       "  255.035,1032.09 264.979,1033.31 274.924,1034.58 366.877,1046.9 458.829,1054.77 514.089,1054.42 569.348,1048.84 616.07,1039.47 662.791,1025.61 713.544,1005.51 \n",
       "  764.296,980.499 811.085,953.653 857.875,923.901 958.201,854.468 1074.44,775.281 1126.09,744.252 1177.74,717.349 1223.03,697.775 1268.32,682.308 1317.7,670.268 \n",
       "  1367.08,663.14 1416.75,660.516 1466.43,661.771 1576.27,673.522 1680.78,686.79 1735.11,690.678 1789.45,690.662 1835.18,686.812 1880.92,678.955 1936.76,663.572 \n",
       "  1992.6,641.808 2045.09,615.918 2097.58,585.497 2181.68,529.969 2265.77,470.831 2278.72,461.787 2291.66,452.82 \n",
       "  \"/>\n",
       "<path clip-path=\"url(#clip480)\" d=\"\n",
       "M1961.59 406.258 L2280.8 406.258 L2280.8 95.2176 L1961.59 95.2176  Z\n",
       "  \" fill=\"#ffffff\" fill-rule=\"evenodd\" fill-opacity=\"1\"/>\n",
       "<polyline clip-path=\"url(#clip480)\" style=\"stroke:#000000; stroke-linecap:butt; stroke-linejoin:round; stroke-width:4; stroke-opacity:1; fill:none\" points=\"\n",
       "  1961.59,406.258 2280.8,406.258 2280.8,95.2176 1961.59,95.2176 1961.59,406.258 \n",
       "  \"/>\n",
       "<polyline clip-path=\"url(#clip480)\" style=\"stroke:#009af9; stroke-linecap:butt; stroke-linejoin:round; stroke-width:6; stroke-opacity:1; fill:none\" points=\"\n",
       "  1985.57,172.978 2129.49,172.978 \n",
       "  \"/>\n",
       "<path clip-path=\"url(#clip480)\" d=\"M2190.46 160.009 L2176.4 178.932 L2191.19 198.898 L2183.66 198.898 L2172.34 183.62 L2161.02 198.898 L2153.48 198.898 L2168.59 178.55 L2154.77 160.009 L2162.3 160.009 L2172.61 173.863 L2182.93 160.009 L2190.46 160.009 Z\" fill=\"#000000\" fill-rule=\"evenodd\" fill-opacity=\"1\" /><polyline clip-path=\"url(#clip480)\" style=\"stroke:#e26f46; stroke-linecap:butt; stroke-linejoin:round; stroke-width:6; stroke-opacity:1; fill:none\" points=\"\n",
       "  1985.57,250.738 2129.49,250.738 \n",
       "  \"/>\n",
       "<path clip-path=\"url(#clip480)\" d=\"M2181.85 256.762 Q2181.85 249.817 2178.97 245.998 Q2176.12 242.179 2170.95 242.179 Q2165.81 242.179 2162.93 245.998 Q2160.08 249.817 2160.08 256.762 Q2160.08 263.672 2162.93 267.491 Q2165.81 271.31 2170.95 271.31 Q2176.12 271.31 2178.97 267.491 Q2181.85 263.672 2181.85 256.762 M2188.24 271.831 Q2188.24 281.762 2183.83 286.588 Q2179.42 291.449 2170.32 291.449 Q2166.95 291.449 2163.97 290.928 Q2160.98 290.442 2158.17 289.401 L2158.17 283.185 Q2160.98 284.713 2163.72 285.442 Q2166.47 286.171 2169.31 286.171 Q2175.6 286.171 2178.72 282.873 Q2181.85 279.609 2181.85 272.977 L2181.85 269.817 Q2179.87 273.255 2176.78 274.956 Q2173.69 276.658 2169.38 276.658 Q2162.23 276.658 2157.86 271.206 Q2153.48 265.755 2153.48 256.762 Q2153.48 247.734 2157.86 242.283 Q2162.23 236.831 2169.38 236.831 Q2173.69 236.831 2176.78 238.533 Q2179.87 240.234 2181.85 243.672 L2181.85 237.769 L2188.24 237.769 L2188.24 271.831 Z\" fill=\"#000000\" fill-rule=\"evenodd\" fill-opacity=\"1\" /><polyline clip-path=\"url(#clip480)\" style=\"stroke:#3da44d; stroke-linecap:butt; stroke-linejoin:round; stroke-width:6; stroke-opacity:1; fill:none\" points=\"\n",
       "  1985.57,328.498 2129.49,328.498 \n",
       "  \"/>\n",
       "<path clip-path=\"url(#clip480)\" d=\"M2181.85 334.522 Q2181.85 327.577 2178.97 323.758 Q2176.12 319.939 2170.95 319.939 Q2165.81 319.939 2162.93 323.758 Q2160.08 327.577 2160.08 334.522 Q2160.08 341.432 2162.93 345.251 Q2165.81 349.07 2170.95 349.07 Q2176.12 349.07 2178.97 345.251 Q2181.85 341.432 2181.85 334.522 M2188.24 349.591 Q2188.24 359.522 2183.83 364.348 Q2179.42 369.209 2170.32 369.209 Q2166.95 369.209 2163.97 368.688 Q2160.98 368.202 2158.17 367.161 L2158.17 360.945 Q2160.98 362.473 2163.72 363.202 Q2166.47 363.931 2169.31 363.931 Q2175.6 363.931 2178.72 360.633 Q2181.85 357.369 2181.85 350.737 L2181.85 347.577 Q2179.87 351.015 2176.78 352.716 Q2173.69 354.418 2169.38 354.418 Q2162.23 354.418 2157.86 348.966 Q2153.48 343.515 2153.48 334.522 Q2153.48 325.494 2157.86 320.043 Q2162.23 314.591 2169.38 314.591 Q2173.69 314.591 2176.78 316.293 Q2179.87 317.994 2181.85 321.432 L2181.85 315.529 L2188.24 315.529 L2188.24 349.591 Z\" fill=\"#000000\" fill-rule=\"evenodd\" fill-opacity=\"1\" /><path clip-path=\"url(#clip480)\" d=\"M2208.34 348.515 L2232.82 348.515 L2232.82 354.418 L2199.9 354.418 L2199.9 348.515 Q2203.9 344.383 2210.77 337.438 Q2217.68 330.459 2219.45 328.445 Q2222.82 324.661 2224.14 322.057 Q2225.5 319.418 2225.5 316.883 Q2225.5 312.751 2222.58 310.147 Q2219.7 307.543 2215.04 307.543 Q2211.75 307.543 2208.06 308.689 Q2204.42 309.834 2200.25 312.161 L2200.25 305.078 Q2204.49 303.376 2208.17 302.508 Q2211.85 301.64 2214.9 301.64 Q2222.96 301.64 2227.75 305.668 Q2232.54 309.696 2232.54 316.432 Q2232.54 319.626 2231.33 322.508 Q2230.15 325.355 2226.99 329.244 Q2226.12 330.251 2221.47 335.077 Q2216.81 339.869 2208.34 348.515 Z\" fill=\"#000000\" fill-rule=\"evenodd\" fill-opacity=\"1\" /></svg>\n"
      ]
     },
     "execution_count": 28,
     "metadata": {},
     "output_type": "execute_result"
    }
   ],
   "source": [
    "c = -1 / (gp(xstar) - 1)\n",
    "g2(x) = x + c * (cos(x) - x)\n",
    "g2p(x) = 1 + c * (-sin(x) - 1)\n",
    "@show g2p(xstar)\n",
    "plot([x->x, g, g2], ylims=(-5, 5), label=[\"x\" \"g\" \"g2\"])"
   ]
  },
  {
   "cell_type": "code",
   "execution_count": 29,
   "id": "c7ee64b2",
   "metadata": {
    "cell_style": "split",
    "slideshow": {
     "slide_type": "fragment"
    }
   },
   "outputs": [
    {
     "data": {
      "text/plain": [
       "16-element Vector{Float64}:\n",
       "  0.26091486661471597\n",
       " -0.013759123582207766\n",
       " -4.1975680750594435e-5\n",
       " -5.591781482294778e-10\n",
       " -1.7012335984389892e-10\n",
       " -1.7012335984389892e-10\n",
       " -1.7012335984389892e-10\n",
       " -1.7012335984389892e-10\n",
       " -1.7012335984389892e-10\n",
       " -1.7012335984389892e-10\n",
       " -1.7012335984389892e-10\n",
       " -1.7012335984389892e-10\n",
       " -1.7012335984389892e-10\n",
       " -1.7012335984389892e-10\n",
       " -1.7012335984389892e-10\n",
       " -1.7012335984389892e-10"
      ]
     },
     "execution_count": 29,
     "metadata": {},
     "output_type": "execute_result"
    }
   ],
   "source": [
    "xs = fixed_point(g2, 1., 15)\n",
    "xs .- xstar"
   ]
  },
  {
   "cell_type": "markdown",
   "id": "71c6fde1",
   "metadata": {
    "slideshow": {
     "slide_type": "slide"
    }
   },
   "source": [
    "# Formulations are not unique (functions)\n",
    "\n",
    "If $x = g(x)$ then\n",
    "$$x = \\underbrace{x + h(x) \\big(g(x) - x\\big)}_{g_3(x)}$$\n",
    "for any smooth $h(x) \\ne 0$. Can we choose $h(x)$ to make $\\lvert g_3'(x) \\rvert$ small?"
   ]
  },
  {
   "cell_type": "code",
   "execution_count": 30,
   "id": "8fd20aa4",
   "metadata": {
    "cell_style": "split",
    "scrolled": false,
    "slideshow": {
     "slide_type": ""
    }
   },
   "outputs": [
    {
     "data": {
      "image/svg+xml": [
       "<?xml version=\"1.0\" encoding=\"utf-8\"?>\n",
       "<svg xmlns=\"http://www.w3.org/2000/svg\" xmlns:xlink=\"http://www.w3.org/1999/xlink\" width=\"600\" height=\"400\" viewBox=\"0 0 2400 1600\">\n",
       "<defs>\n",
       "  <clipPath id=\"clip520\">\n",
       "    <rect x=\"0\" y=\"0\" width=\"2400\" height=\"1600\"/>\n",
       "  </clipPath>\n",
       "</defs>\n",
       "<path clip-path=\"url(#clip520)\" d=\"\n",
       "M0 1600 L2400 1600 L2400 0 L0 0  Z\n",
       "  \" fill=\"#ffffff\" fill-rule=\"evenodd\" fill-opacity=\"1\"/>\n",
       "<defs>\n",
       "  <clipPath id=\"clip521\">\n",
       "    <rect x=\"480\" y=\"0\" width=\"1681\" height=\"1600\"/>\n",
       "  </clipPath>\n",
       "</defs>\n",
       "<path clip-path=\"url(#clip520)\" d=\"\n",
       "M193.936 1486.45 L2352.76 1486.45 L2352.76 47.2441 L193.936 47.2441  Z\n",
       "  \" fill=\"#ffffff\" fill-rule=\"evenodd\" fill-opacity=\"1\"/>\n",
       "<defs>\n",
       "  <clipPath id=\"clip522\">\n",
       "    <rect x=\"193\" y=\"47\" width=\"2160\" height=\"1440\"/>\n",
       "  </clipPath>\n",
       "</defs>\n",
       "<polyline clip-path=\"url(#clip522)\" style=\"stroke:#000000; stroke-linecap:butt; stroke-linejoin:round; stroke-width:2; stroke-opacity:0.1; fill:none\" points=\"\n",
       "  458.697,1486.45 458.697,47.2441 \n",
       "  \"/>\n",
       "<polyline clip-path=\"url(#clip522)\" style=\"stroke:#000000; stroke-linecap:butt; stroke-linejoin:round; stroke-width:2; stroke-opacity:0.1; fill:none\" points=\"\n",
       "  866.021,1486.45 866.021,47.2441 \n",
       "  \"/>\n",
       "<polyline clip-path=\"url(#clip522)\" style=\"stroke:#000000; stroke-linecap:butt; stroke-linejoin:round; stroke-width:2; stroke-opacity:0.1; fill:none\" points=\"\n",
       "  1273.35,1486.45 1273.35,47.2441 \n",
       "  \"/>\n",
       "<polyline clip-path=\"url(#clip522)\" style=\"stroke:#000000; stroke-linecap:butt; stroke-linejoin:round; stroke-width:2; stroke-opacity:0.1; fill:none\" points=\"\n",
       "  1680.67,1486.45 1680.67,47.2441 \n",
       "  \"/>\n",
       "<polyline clip-path=\"url(#clip522)\" style=\"stroke:#000000; stroke-linecap:butt; stroke-linejoin:round; stroke-width:2; stroke-opacity:0.1; fill:none\" points=\"\n",
       "  2087.99,1486.45 2087.99,47.2441 \n",
       "  \"/>\n",
       "<polyline clip-path=\"url(#clip520)\" style=\"stroke:#000000; stroke-linecap:butt; stroke-linejoin:round; stroke-width:4; stroke-opacity:1; fill:none\" points=\"\n",
       "  193.936,1486.45 2352.76,1486.45 \n",
       "  \"/>\n",
       "<polyline clip-path=\"url(#clip520)\" style=\"stroke:#000000; stroke-linecap:butt; stroke-linejoin:round; stroke-width:4; stroke-opacity:1; fill:none\" points=\"\n",
       "  458.697,1486.45 458.697,1467.55 \n",
       "  \"/>\n",
       "<polyline clip-path=\"url(#clip520)\" style=\"stroke:#000000; stroke-linecap:butt; stroke-linejoin:round; stroke-width:4; stroke-opacity:1; fill:none\" points=\"\n",
       "  866.021,1486.45 866.021,1467.55 \n",
       "  \"/>\n",
       "<polyline clip-path=\"url(#clip520)\" style=\"stroke:#000000; stroke-linecap:butt; stroke-linejoin:round; stroke-width:4; stroke-opacity:1; fill:none\" points=\"\n",
       "  1273.35,1486.45 1273.35,1467.55 \n",
       "  \"/>\n",
       "<polyline clip-path=\"url(#clip520)\" style=\"stroke:#000000; stroke-linecap:butt; stroke-linejoin:round; stroke-width:4; stroke-opacity:1; fill:none\" points=\"\n",
       "  1680.67,1486.45 1680.67,1467.55 \n",
       "  \"/>\n",
       "<polyline clip-path=\"url(#clip520)\" style=\"stroke:#000000; stroke-linecap:butt; stroke-linejoin:round; stroke-width:4; stroke-opacity:1; fill:none\" points=\"\n",
       "  2087.99,1486.45 2087.99,1467.55 \n",
       "  \"/>\n",
       "<path clip-path=\"url(#clip520)\" d=\"M427.598 1532.02 L457.273 1532.02 L457.273 1535.95 L427.598 1535.95 L427.598 1532.02 Z\" fill=\"#000000\" fill-rule=\"evenodd\" fill-opacity=\"1\" /><path clip-path=\"url(#clip520)\" d=\"M480.213 1518.36 L468.408 1536.81 L480.213 1536.81 L480.213 1518.36 M478.986 1514.29 L484.866 1514.29 L484.866 1536.81 L489.796 1536.81 L489.796 1540.7 L484.866 1540.7 L484.866 1548.85 L480.213 1548.85 L480.213 1540.7 L464.611 1540.7 L464.611 1536.19 L478.986 1514.29 Z\" fill=\"#000000\" fill-rule=\"evenodd\" fill-opacity=\"1\" /><path clip-path=\"url(#clip520)\" d=\"M835.964 1532.02 L865.639 1532.02 L865.639 1535.95 L835.964 1535.95 L835.964 1532.02 Z\" fill=\"#000000\" fill-rule=\"evenodd\" fill-opacity=\"1\" /><path clip-path=\"url(#clip520)\" d=\"M879.76 1544.91 L896.079 1544.91 L896.079 1548.85 L874.135 1548.85 L874.135 1544.91 Q876.797 1542.16 881.38 1537.53 Q885.987 1532.88 887.167 1531.53 Q889.413 1529.01 890.292 1527.27 Q891.195 1525.51 891.195 1523.82 Q891.195 1521.07 889.25 1519.33 Q887.329 1517.6 884.227 1517.6 Q882.028 1517.6 879.575 1518.36 Q877.144 1519.13 874.366 1520.68 L874.366 1515.95 Q877.19 1514.82 879.644 1514.24 Q882.098 1513.66 884.135 1513.66 Q889.505 1513.66 892.7 1516.35 Q895.894 1519.03 895.894 1523.52 Q895.894 1525.65 895.084 1527.57 Q894.297 1529.47 892.19 1532.07 Q891.612 1532.74 888.51 1535.95 Q885.408 1539.15 879.76 1544.91 Z\" fill=\"#000000\" fill-rule=\"evenodd\" fill-opacity=\"1\" /><path clip-path=\"url(#clip520)\" d=\"M1273.35 1517.37 Q1269.73 1517.37 1267.91 1520.93 Q1266.1 1524.47 1266.1 1531.6 Q1266.1 1538.71 1267.91 1542.27 Q1269.73 1545.82 1273.35 1545.82 Q1276.98 1545.82 1278.79 1542.27 Q1280.61 1538.71 1280.61 1531.6 Q1280.61 1524.47 1278.79 1520.93 Q1276.98 1517.37 1273.35 1517.37 M1273.35 1513.66 Q1279.16 1513.66 1282.21 1518.27 Q1285.29 1522.85 1285.29 1531.6 Q1285.29 1540.33 1282.21 1544.94 Q1279.16 1549.52 1273.35 1549.52 Q1267.54 1549.52 1264.46 1544.94 Q1261.4 1540.33 1261.4 1531.6 Q1261.4 1522.85 1264.46 1518.27 Q1267.54 1513.66 1273.35 1513.66 Z\" fill=\"#000000\" fill-rule=\"evenodd\" fill-opacity=\"1\" /><path clip-path=\"url(#clip520)\" d=\"M1675.32 1544.91 L1691.64 1544.91 L1691.64 1548.85 L1669.7 1548.85 L1669.7 1544.91 Q1672.36 1542.16 1676.94 1537.53 Q1681.55 1532.88 1682.73 1531.53 Q1684.98 1529.01 1685.86 1527.27 Q1686.76 1525.51 1686.76 1523.82 Q1686.76 1521.07 1684.81 1519.33 Q1682.89 1517.6 1679.79 1517.6 Q1677.59 1517.6 1675.14 1518.36 Q1672.71 1519.13 1669.93 1520.68 L1669.93 1515.95 Q1672.75 1514.82 1675.21 1514.24 Q1677.66 1513.66 1679.7 1513.66 Q1685.07 1513.66 1688.26 1516.35 Q1691.46 1519.03 1691.46 1523.52 Q1691.46 1525.65 1690.65 1527.57 Q1689.86 1529.47 1687.75 1532.07 Q1687.18 1532.74 1684.07 1535.95 Q1680.97 1539.15 1675.32 1544.91 Z\" fill=\"#000000\" fill-rule=\"evenodd\" fill-opacity=\"1\" /><path clip-path=\"url(#clip520)\" d=\"M2091 1518.36 L2079.2 1536.81 L2091 1536.81 L2091 1518.36 M2089.78 1514.29 L2095.66 1514.29 L2095.66 1536.81 L2100.59 1536.81 L2100.59 1540.7 L2095.66 1540.7 L2095.66 1548.85 L2091 1548.85 L2091 1540.7 L2075.4 1540.7 L2075.4 1536.19 L2089.78 1514.29 Z\" fill=\"#000000\" fill-rule=\"evenodd\" fill-opacity=\"1\" /><polyline clip-path=\"url(#clip522)\" style=\"stroke:#000000; stroke-linecap:butt; stroke-linejoin:round; stroke-width:2; stroke-opacity:0.1; fill:none\" points=\"\n",
       "  193.936,1486.45 2352.76,1486.45 \n",
       "  \"/>\n",
       "<polyline clip-path=\"url(#clip522)\" style=\"stroke:#000000; stroke-linecap:butt; stroke-linejoin:round; stroke-width:2; stroke-opacity:0.1; fill:none\" points=\"\n",
       "  193.936,1126.65 2352.76,1126.65 \n",
       "  \"/>\n",
       "<polyline clip-path=\"url(#clip522)\" style=\"stroke:#000000; stroke-linecap:butt; stroke-linejoin:round; stroke-width:2; stroke-opacity:0.1; fill:none\" points=\"\n",
       "  193.936,766.846 2352.76,766.846 \n",
       "  \"/>\n",
       "<polyline clip-path=\"url(#clip522)\" style=\"stroke:#000000; stroke-linecap:butt; stroke-linejoin:round; stroke-width:2; stroke-opacity:0.1; fill:none\" points=\"\n",
       "  193.936,407.045 2352.76,407.045 \n",
       "  \"/>\n",
       "<polyline clip-path=\"url(#clip522)\" style=\"stroke:#000000; stroke-linecap:butt; stroke-linejoin:round; stroke-width:2; stroke-opacity:0.1; fill:none\" points=\"\n",
       "  193.936,47.2441 2352.76,47.2441 \n",
       "  \"/>\n",
       "<polyline clip-path=\"url(#clip520)\" style=\"stroke:#000000; stroke-linecap:butt; stroke-linejoin:round; stroke-width:4; stroke-opacity:1; fill:none\" points=\"\n",
       "  193.936,1486.45 193.936,47.2441 \n",
       "  \"/>\n",
       "<polyline clip-path=\"url(#clip520)\" style=\"stroke:#000000; stroke-linecap:butt; stroke-linejoin:round; stroke-width:4; stroke-opacity:1; fill:none\" points=\"\n",
       "  193.936,1486.45 212.834,1486.45 \n",
       "  \"/>\n",
       "<polyline clip-path=\"url(#clip520)\" style=\"stroke:#000000; stroke-linecap:butt; stroke-linejoin:round; stroke-width:4; stroke-opacity:1; fill:none\" points=\"\n",
       "  193.936,1126.65 212.834,1126.65 \n",
       "  \"/>\n",
       "<polyline clip-path=\"url(#clip520)\" style=\"stroke:#000000; stroke-linecap:butt; stroke-linejoin:round; stroke-width:4; stroke-opacity:1; fill:none\" points=\"\n",
       "  193.936,766.846 212.834,766.846 \n",
       "  \"/>\n",
       "<polyline clip-path=\"url(#clip520)\" style=\"stroke:#000000; stroke-linecap:butt; stroke-linejoin:round; stroke-width:4; stroke-opacity:1; fill:none\" points=\"\n",
       "  193.936,407.045 212.834,407.045 \n",
       "  \"/>\n",
       "<polyline clip-path=\"url(#clip520)\" style=\"stroke:#000000; stroke-linecap:butt; stroke-linejoin:round; stroke-width:4; stroke-opacity:1; fill:none\" points=\"\n",
       "  193.936,47.2441 212.834,47.2441 \n",
       "  \"/>\n",
       "<path clip-path=\"url(#clip520)\" d=\"M50.9921 1486.9 L80.6679 1486.9 L80.6679 1490.83 L50.9921 1490.83 L50.9921 1486.9 Z\" fill=\"#000000\" fill-rule=\"evenodd\" fill-opacity=\"1\" /><path clip-path=\"url(#clip520)\" d=\"M90.8067 1469.17 L109.163 1469.17 L109.163 1473.1 L95.0891 1473.1 L95.0891 1481.58 Q96.1076 1481.23 97.1261 1481.07 Q98.1447 1480.88 99.1632 1480.88 Q104.95 1480.88 108.33 1484.05 Q111.709 1487.22 111.709 1492.64 Q111.709 1498.22 108.237 1501.32 Q104.765 1504.4 98.4456 1504.4 Q96.2697 1504.4 94.0012 1504.03 Q91.7558 1503.66 89.3484 1502.92 L89.3484 1498.22 Q91.4317 1499.35 93.6539 1499.91 Q95.8761 1500.46 98.353 1500.46 Q102.358 1500.46 104.696 1498.36 Q107.033 1496.25 107.033 1492.64 Q107.033 1489.03 104.696 1486.92 Q102.358 1484.82 98.353 1484.82 Q96.478 1484.82 94.603 1485.23 Q92.7512 1485.65 90.8067 1486.53 L90.8067 1469.17 Z\" fill=\"#000000\" fill-rule=\"evenodd\" fill-opacity=\"1\" /><path clip-path=\"url(#clip520)\" d=\"M120.922 1497.85 L125.807 1497.85 L125.807 1503.73 L120.922 1503.73 L120.922 1497.85 Z\" fill=\"#000000\" fill-rule=\"evenodd\" fill-opacity=\"1\" /><path clip-path=\"url(#clip520)\" d=\"M145.992 1472.25 Q142.381 1472.25 140.552 1475.81 Q138.746 1479.35 138.746 1486.48 Q138.746 1493.59 140.552 1497.15 Q142.381 1500.7 145.992 1500.7 Q149.626 1500.7 151.431 1497.15 Q153.26 1493.59 153.26 1486.48 Q153.26 1479.35 151.431 1475.81 Q149.626 1472.25 145.992 1472.25 M145.992 1468.54 Q151.802 1468.54 154.857 1473.15 Q157.936 1477.73 157.936 1486.48 Q157.936 1495.21 154.857 1499.82 Q151.802 1504.4 145.992 1504.4 Q140.181 1504.4 137.103 1499.82 Q134.047 1495.21 134.047 1486.48 Q134.047 1477.73 137.103 1473.15 Q140.181 1468.54 145.992 1468.54 Z\" fill=\"#000000\" fill-rule=\"evenodd\" fill-opacity=\"1\" /><path clip-path=\"url(#clip520)\" d=\"M51.9875 1127.1 L81.6633 1127.1 L81.6633 1131.03 L51.9875 1131.03 L51.9875 1127.1 Z\" fill=\"#000000\" fill-rule=\"evenodd\" fill-opacity=\"1\" /><path clip-path=\"url(#clip520)\" d=\"M95.7836 1139.99 L112.103 1139.99 L112.103 1143.93 L90.1586 1143.93 L90.1586 1139.99 Q92.8206 1137.24 97.4039 1132.61 Q102.01 1127.95 103.191 1126.61 Q105.436 1124.09 106.316 1122.35 Q107.219 1120.59 107.219 1118.9 Q107.219 1116.15 105.274 1114.41 Q103.353 1112.68 100.251 1112.68 Q98.0521 1112.68 95.5984 1113.44 Q93.1678 1114.2 90.3901 1115.76 L90.3901 1111.03 Q93.2141 1109.9 95.6678 1109.32 Q98.1215 1108.74 100.159 1108.74 Q105.529 1108.74 108.723 1111.43 Q111.918 1114.11 111.918 1118.6 Q111.918 1120.73 111.108 1122.65 Q110.321 1124.55 108.214 1127.14 Q107.635 1127.82 104.534 1131.03 Q101.432 1134.23 95.7836 1139.99 Z\" fill=\"#000000\" fill-rule=\"evenodd\" fill-opacity=\"1\" /><path clip-path=\"url(#clip520)\" d=\"M121.918 1138.05 L126.802 1138.05 L126.802 1143.93 L121.918 1143.93 L121.918 1138.05 Z\" fill=\"#000000\" fill-rule=\"evenodd\" fill-opacity=\"1\" /><path clip-path=\"url(#clip520)\" d=\"M137.033 1109.37 L155.39 1109.37 L155.39 1113.3 L141.316 1113.3 L141.316 1121.77 Q142.334 1121.43 143.353 1121.27 Q144.371 1121.08 145.39 1121.08 Q151.177 1121.08 154.556 1124.25 Q157.936 1127.42 157.936 1132.84 Q157.936 1138.42 154.464 1141.52 Q150.992 1144.6 144.672 1144.6 Q142.496 1144.6 140.228 1144.23 Q137.982 1143.86 135.575 1143.12 L135.575 1138.42 Q137.658 1139.55 139.881 1140.11 Q142.103 1140.66 144.58 1140.66 Q148.584 1140.66 150.922 1138.56 Q153.26 1136.45 153.26 1132.84 Q153.26 1129.23 150.922 1127.12 Q148.584 1125.01 144.58 1125.01 Q142.705 1125.01 140.83 1125.43 Q138.978 1125.85 137.033 1126.73 L137.033 1109.37 Z\" fill=\"#000000\" fill-rule=\"evenodd\" fill-opacity=\"1\" /><path clip-path=\"url(#clip520)\" d=\"M100.76 752.645 Q97.1493 752.645 95.3206 756.209 Q93.515 759.751 93.515 766.881 Q93.515 773.987 95.3206 777.552 Q97.1493 781.094 100.76 781.094 Q104.395 781.094 106.2 777.552 Q108.029 773.987 108.029 766.881 Q108.029 759.751 106.2 756.209 Q104.395 752.645 100.76 752.645 M100.76 748.941 Q106.571 748.941 109.626 753.547 Q112.705 758.131 112.705 766.881 Q112.705 775.608 109.626 780.214 Q106.571 784.797 100.76 784.797 Q94.9502 784.797 91.8715 780.214 Q88.816 775.608 88.816 766.881 Q88.816 758.131 91.8715 753.547 Q94.9502 748.941 100.76 748.941 Z\" fill=\"#000000\" fill-rule=\"evenodd\" fill-opacity=\"1\" /><path clip-path=\"url(#clip520)\" d=\"M120.922 778.246 L125.807 778.246 L125.807 784.126 L120.922 784.126 L120.922 778.246 Z\" fill=\"#000000\" fill-rule=\"evenodd\" fill-opacity=\"1\" /><path clip-path=\"url(#clip520)\" d=\"M145.992 752.645 Q142.381 752.645 140.552 756.209 Q138.746 759.751 138.746 766.881 Q138.746 773.987 140.552 777.552 Q142.381 781.094 145.992 781.094 Q149.626 781.094 151.431 777.552 Q153.26 773.987 153.26 766.881 Q153.26 759.751 151.431 756.209 Q149.626 752.645 145.992 752.645 M145.992 748.941 Q151.802 748.941 154.857 753.547 Q157.936 758.131 157.936 766.881 Q157.936 775.608 154.857 780.214 Q151.802 784.797 145.992 784.797 Q140.181 784.797 137.103 780.214 Q134.047 775.608 134.047 766.881 Q134.047 758.131 137.103 753.547 Q140.181 748.941 145.992 748.941 Z\" fill=\"#000000\" fill-rule=\"evenodd\" fill-opacity=\"1\" /><path clip-path=\"url(#clip520)\" d=\"M95.7836 420.39 L112.103 420.39 L112.103 424.325 L90.1586 424.325 L90.1586 420.39 Q92.8206 417.635 97.4039 413.006 Q102.01 408.353 103.191 407.01 Q105.436 404.487 106.316 402.751 Q107.219 400.992 107.219 399.302 Q107.219 396.547 105.274 394.811 Q103.353 393.075 100.251 393.075 Q98.0521 393.075 95.5984 393.839 Q93.1678 394.603 90.3901 396.154 L90.3901 391.432 Q93.2141 390.297 95.6678 389.719 Q98.1215 389.14 100.159 389.14 Q105.529 389.14 108.723 391.825 Q111.918 394.51 111.918 399.001 Q111.918 401.131 111.108 403.052 Q110.321 404.95 108.214 407.543 Q107.635 408.214 104.534 411.432 Q101.432 414.626 95.7836 420.39 Z\" fill=\"#000000\" fill-rule=\"evenodd\" fill-opacity=\"1\" /><path clip-path=\"url(#clip520)\" d=\"M121.918 418.445 L126.802 418.445 L126.802 424.325 L121.918 424.325 L121.918 418.445 Z\" fill=\"#000000\" fill-rule=\"evenodd\" fill-opacity=\"1\" /><path clip-path=\"url(#clip520)\" d=\"M137.033 389.765 L155.39 389.765 L155.39 393.7 L141.316 393.7 L141.316 402.172 Q142.334 401.825 143.353 401.663 Q144.371 401.478 145.39 401.478 Q151.177 401.478 154.556 404.649 Q157.936 407.82 157.936 413.237 Q157.936 418.816 154.464 421.918 Q150.992 424.996 144.672 424.996 Q142.496 424.996 140.228 424.626 Q137.982 424.256 135.575 423.515 L135.575 418.816 Q137.658 419.95 139.881 420.506 Q142.103 421.061 144.58 421.061 Q148.584 421.061 150.922 418.955 Q153.26 416.848 153.26 413.237 Q153.26 409.626 150.922 407.52 Q148.584 405.413 144.58 405.413 Q142.705 405.413 140.83 405.83 Q138.978 406.246 137.033 407.126 L137.033 389.765 Z\" fill=\"#000000\" fill-rule=\"evenodd\" fill-opacity=\"1\" /><path clip-path=\"url(#clip520)\" d=\"M90.8067 29.9641 L109.163 29.9641 L109.163 33.8993 L95.0891 33.8993 L95.0891 42.3714 Q96.1076 42.0242 97.1261 41.8622 Q98.1447 41.677 99.1632 41.677 Q104.95 41.677 108.33 44.8483 Q111.709 48.0196 111.709 53.4362 Q111.709 59.0149 108.237 62.1167 Q104.765 65.1954 98.4456 65.1954 Q96.2697 65.1954 94.0012 64.825 Q91.7558 64.4547 89.3484 63.7139 L89.3484 59.0149 Q91.4317 60.1491 93.6539 60.7047 Q95.8761 61.2602 98.353 61.2602 Q102.358 61.2602 104.696 59.1538 Q107.033 57.0473 107.033 53.4362 Q107.033 49.8251 104.696 47.7186 Q102.358 45.6122 98.353 45.6122 Q96.478 45.6122 94.603 46.0288 Q92.7512 46.4455 90.8067 47.3251 L90.8067 29.9641 Z\" fill=\"#000000\" fill-rule=\"evenodd\" fill-opacity=\"1\" /><path clip-path=\"url(#clip520)\" d=\"M120.922 58.6445 L125.807 58.6445 L125.807 64.5241 L120.922 64.5241 L120.922 58.6445 Z\" fill=\"#000000\" fill-rule=\"evenodd\" fill-opacity=\"1\" /><path clip-path=\"url(#clip520)\" d=\"M145.992 33.0428 Q142.381 33.0428 140.552 36.6076 Q138.746 40.1492 138.746 47.2788 Q138.746 54.3853 140.552 57.9501 Q142.381 61.4917 145.992 61.4917 Q149.626 61.4917 151.431 57.9501 Q153.26 54.3853 153.26 47.2788 Q153.26 40.1492 151.431 36.6076 Q149.626 33.0428 145.992 33.0428 M145.992 29.3391 Q151.802 29.3391 154.857 33.9456 Q157.936 38.5289 157.936 47.2788 Q157.936 56.0056 154.857 60.6121 Q151.802 65.1954 145.992 65.1954 Q140.181 65.1954 137.103 60.6121 Q134.047 56.0056 134.047 47.2788 Q134.047 38.5289 137.103 33.9456 Q140.181 29.3391 145.992 29.3391 Z\" fill=\"#000000\" fill-rule=\"evenodd\" fill-opacity=\"1\" /><polyline clip-path=\"url(#clip522)\" style=\"stroke:#009af9; stroke-linecap:butt; stroke-linejoin:round; stroke-width:16; stroke-opacity:1; fill:none\" points=\"\n",
       "  255.035,1486.45 274.924,1472.39 458.829,1342.43 569.348,1264.33 662.791,1198.3 764.296,1126.57 857.875,1060.44 958.201,989.547 1074.44,907.406 1177.74,834.409 \n",
       "  1268.32,770.397 1367.08,700.607 1466.43,630.403 1576.27,552.782 1680.78,478.928 1789.45,402.137 1880.92,337.496 1992.6,258.576 2097.58,184.389 2265.77,65.5351 \n",
       "  2291.66,47.2441 \n",
       "  \"/>\n",
       "<polyline clip-path=\"url(#clip522)\" style=\"stroke:#e26f46; stroke-linecap:butt; stroke-linejoin:round; stroke-width:16; stroke-opacity:1; fill:none\" points=\"\n",
       "  255.035,726.021 260.007,729.402 264.979,732.806 269.952,736.23 274.924,739.672 320.9,771.997 366.877,804.06 412.853,834.234 458.829,860.989 486.459,874.847 \n",
       "  514.089,886.721 541.719,896.391 569.348,903.681 592.709,907.886 616.07,910.238 639.431,910.706 662.791,909.283 688.167,905.617 713.544,899.799 738.92,891.92 \n",
       "  764.296,882.102 787.691,871.463 811.085,859.446 834.48,846.208 857.875,831.923 908.038,798.661 958.201,763.478 1016.32,723.11 1074.44,686.279 1100.26,671.845 \n",
       "  1126.09,658.936 1151.91,647.759 1177.74,638.495 1200.38,632.063 1223.03,627.296 1245.67,624.252 1268.32,622.969 1293.01,623.596 1317.7,626.325 1342.39,631.117 \n",
       "  1367.08,637.901 1391.92,646.635 1416.75,657.155 1441.59,669.304 1466.43,682.902 1521.35,717.079 1576.27,754.854 1628.52,791.643 1680.78,826.808 1707.95,843.676 \n",
       "  1735.11,859.178 1762.28,873.041 1789.45,885.016 1812.31,893.477 1835.18,900.343 1858.05,905.528 1880.92,908.966 1908.84,910.734 1936.76,909.802 1964.68,906.188 \n",
       "  1992.6,899.958 2018.85,891.823 2045.09,881.614 2071.34,869.503 2097.58,855.688 2139.63,830.591 2181.68,802.786 2223.73,773.455 2265.77,743.843 2272.24,739.341 \n",
       "  2278.72,734.868 2285.19,730.426 2291.66,726.021 \n",
       "  \"/>\n",
       "<polyline clip-path=\"url(#clip522)\" style=\"stroke:#3da44d; stroke-linecap:butt; stroke-linejoin:round; stroke-width:16; stroke-opacity:1; fill:none\" points=\"\n",
       "  255.035,1032.09 264.979,1033.31 274.924,1034.58 366.877,1046.9 458.829,1054.77 514.089,1054.42 569.348,1048.84 616.07,1039.47 662.791,1025.61 713.544,1005.51 \n",
       "  764.296,980.499 811.085,953.653 857.875,923.901 958.201,854.468 1074.44,775.281 1126.09,744.252 1177.74,717.349 1223.03,697.775 1268.32,682.308 1317.7,670.268 \n",
       "  1367.08,663.14 1416.75,660.516 1466.43,661.771 1576.27,673.522 1680.78,686.79 1735.11,690.678 1789.45,690.662 1835.18,686.812 1880.92,678.955 1936.76,663.572 \n",
       "  1992.6,641.808 2045.09,615.918 2097.58,585.497 2181.68,529.969 2265.77,470.831 2278.72,461.787 2291.66,452.82 \n",
       "  \"/>\n",
       "<polyline clip-path=\"url(#clip522)\" style=\"stroke:#c271d2; stroke-linecap:butt; stroke-linejoin:round; stroke-width:16; stroke-opacity:1; fill:none\" points=\"\n",
       "  255.035,1098.26 274.924,1102.71 458.829,1068.32 569.348,989.007 662.791,860.97 713.544,736.85 764.296,517.091 811.085,95.2821 857.875,-1054.08 882.956,-2787.48 \n",
       "  908.038,-8123.76 914.308,-11277.3 920.579,-16402.5 926.849,-25567.2 933.119,-44479 936.255,-62580.6 939.39,-94119.3 940.957,-119513 942.525,-156625 944.093,-213953 \n",
       "  945.66,-309366 947.228,-485929 948.795,-870609 949.579,-1.26106e+06 950.363,-1.98745e+06 951.147,-3.58368e+06 951.931,-8.29529e+06 952.714,-3.62048e+07 953.498,-4.56605e+09 954.282,-2.60857e+07 \n",
       "  955.066,-7.04307e+06 955.85,-3.21334e+06 956.633,-1.83131e+06 957.417,-1.18115e+06 958.201,-824373 960.017,-431794 961.833,-264880 963.65,-178760 965.466,-128600 969.098,-75484.8 \n",
       "  972.731,-49419.3 979.995,-25639.4 987.26,-15450.9 1001.79,-7087.96 1016.32,-3816.82 1045.38,-1306.7 1074.44,-382.929 1126.09,244.374 1177.74,476.644 1223.03,570.609 \n",
       "  1268.32,619.24 1367.08,657.187 1466.43,659.371 1576.27,653.994 1680.78,661.152 1789.45,709.545 1880.92,831.128 1992.6,1293.4 2097.58,3331.98 2265.77,52829 \n",
       "  2291.66,16572.3 \n",
       "  \"/>\n",
       "<path clip-path=\"url(#clip520)\" d=\"\n",
       "M1959.71 484.018 L2280.8 484.018 L2280.8 95.2176 L1959.71 95.2176  Z\n",
       "  \" fill=\"#ffffff\" fill-rule=\"evenodd\" fill-opacity=\"1\"/>\n",
       "<polyline clip-path=\"url(#clip520)\" style=\"stroke:#000000; stroke-linecap:butt; stroke-linejoin:round; stroke-width:4; stroke-opacity:1; fill:none\" points=\"\n",
       "  1959.71,484.018 2280.8,484.018 2280.8,95.2176 1959.71,95.2176 1959.71,484.018 \n",
       "  \"/>\n",
       "<polyline clip-path=\"url(#clip520)\" style=\"stroke:#009af9; stroke-linecap:butt; stroke-linejoin:round; stroke-width:6; stroke-opacity:1; fill:none\" points=\"\n",
       "  1983.7,172.978 2127.62,172.978 \n",
       "  \"/>\n",
       "<path clip-path=\"url(#clip520)\" d=\"M2172.37 202.509 Q2169.66 209.453 2167.09 211.571 Q2164.52 213.689 2160.22 213.689 L2155.11 213.689 L2155.11 208.342 L2158.86 208.342 Q2161.5 208.342 2162.96 207.092 Q2164.42 205.842 2166.19 201.189 L2167.34 198.273 L2151.61 160.009 L2158.38 160.009 L2170.53 190.425 L2182.68 160.009 L2189.45 160.009 L2172.37 202.509 Z\" fill=\"#000000\" fill-rule=\"evenodd\" fill-opacity=\"1\" /><path clip-path=\"url(#clip520)\" d=\"M2200.39 192.995 L2211.85 192.995 L2211.85 153.446 L2199.38 155.946 L2199.38 149.558 L2211.78 147.058 L2218.79 147.058 L2218.79 192.995 L2230.25 192.995 L2230.25 198.898 L2200.39 198.898 L2200.39 192.995 Z\" fill=\"#000000\" fill-rule=\"evenodd\" fill-opacity=\"1\" /><polyline clip-path=\"url(#clip520)\" style=\"stroke:#e26f46; stroke-linecap:butt; stroke-linejoin:round; stroke-width:6; stroke-opacity:1; fill:none\" points=\"\n",
       "  1983.7,250.738 2127.62,250.738 \n",
       "  \"/>\n",
       "<path clip-path=\"url(#clip520)\" d=\"M2172.37 280.269 Q2169.66 287.213 2167.09 289.331 Q2164.52 291.449 2160.22 291.449 L2155.11 291.449 L2155.11 286.102 L2158.86 286.102 Q2161.5 286.102 2162.96 284.852 Q2164.42 283.602 2166.19 278.949 L2167.34 276.033 L2151.61 237.769 L2158.38 237.769 L2170.53 268.185 L2182.68 237.769 L2189.45 237.769 L2172.37 280.269 Z\" fill=\"#000000\" fill-rule=\"evenodd\" fill-opacity=\"1\" /><path clip-path=\"url(#clip520)\" d=\"M2205.22 270.755 L2229.7 270.755 L2229.7 276.658 L2196.78 276.658 L2196.78 270.755 Q2200.77 266.623 2207.65 259.678 Q2214.56 252.699 2216.33 250.685 Q2219.7 246.901 2221.02 244.297 Q2222.37 241.658 2222.37 239.123 Q2222.37 234.991 2219.45 232.387 Q2216.57 229.783 2211.92 229.783 Q2208.62 229.783 2204.94 230.929 Q2201.29 232.074 2197.13 234.401 L2197.13 227.318 Q2201.36 225.616 2205.04 224.748 Q2208.72 223.88 2211.78 223.88 Q2219.84 223.88 2224.63 227.908 Q2229.42 231.936 2229.42 238.672 Q2229.42 241.866 2228.2 244.748 Q2227.02 247.595 2223.86 251.484 Q2223 252.491 2218.34 257.317 Q2213.69 262.109 2205.22 270.755 Z\" fill=\"#000000\" fill-rule=\"evenodd\" fill-opacity=\"1\" /><polyline clip-path=\"url(#clip520)\" style=\"stroke:#3da44d; stroke-linecap:butt; stroke-linejoin:round; stroke-width:6; stroke-opacity:1; fill:none\" points=\"\n",
       "  1983.7,328.498 2127.62,328.498 \n",
       "  \"/>\n",
       "<path clip-path=\"url(#clip520)\" d=\"M2172.37 358.029 Q2169.66 364.973 2167.09 367.091 Q2164.52 369.209 2160.22 369.209 L2155.11 369.209 L2155.11 363.862 L2158.86 363.862 Q2161.5 363.862 2162.96 362.612 Q2164.42 361.362 2166.19 356.709 L2167.34 353.793 L2151.61 315.529 L2158.38 315.529 L2170.53 345.945 L2182.68 315.529 L2189.45 315.529 L2172.37 358.029 Z\" fill=\"#000000\" fill-rule=\"evenodd\" fill-opacity=\"1\" /><path clip-path=\"url(#clip520)\" d=\"M2220.43 326.466 Q2225.46 327.543 2228.27 330.945 Q2231.12 334.348 2231.12 339.348 Q2231.12 347.022 2225.84 351.223 Q2220.56 355.424 2210.84 355.424 Q2207.58 355.424 2204.11 354.765 Q2200.67 354.14 2196.99 352.855 L2196.99 346.084 Q2199.9 347.786 2203.38 348.654 Q2206.85 349.522 2210.63 349.522 Q2217.23 349.522 2220.67 346.918 Q2224.14 344.313 2224.14 339.348 Q2224.14 334.765 2220.91 332.195 Q2217.72 329.591 2211.99 329.591 L2205.95 329.591 L2205.95 323.827 L2212.27 323.827 Q2217.44 323.827 2220.18 321.779 Q2222.93 319.696 2222.93 315.807 Q2222.93 311.814 2220.08 309.696 Q2217.27 307.543 2211.99 307.543 Q2209.11 307.543 2205.81 308.168 Q2202.51 308.793 2198.55 310.112 L2198.55 303.862 Q2202.54 302.751 2206.02 302.196 Q2209.52 301.64 2212.61 301.64 Q2220.6 301.64 2225.25 305.286 Q2229.9 308.897 2229.9 315.077 Q2229.9 319.383 2227.44 322.369 Q2224.97 325.32 2220.43 326.466 Z\" fill=\"#000000\" fill-rule=\"evenodd\" fill-opacity=\"1\" /><polyline clip-path=\"url(#clip520)\" style=\"stroke:#c271d2; stroke-linecap:butt; stroke-linejoin:round; stroke-width:6; stroke-opacity:1; fill:none\" points=\"\n",
       "  1983.7,406.258 2127.62,406.258 \n",
       "  \"/>\n",
       "<path clip-path=\"url(#clip520)\" d=\"M2172.37 435.789 Q2169.66 442.733 2167.09 444.851 Q2164.52 446.969 2160.22 446.969 L2155.11 446.969 L2155.11 441.622 L2158.86 441.622 Q2161.5 441.622 2162.96 440.372 Q2164.42 439.122 2166.19 434.469 L2167.34 431.553 L2151.61 393.289 L2158.38 393.289 L2170.53 423.705 L2182.68 393.289 L2189.45 393.289 L2172.37 435.789 Z\" fill=\"#000000\" fill-rule=\"evenodd\" fill-opacity=\"1\" /><path clip-path=\"url(#clip520)\" d=\"M2218.45 386.449 L2200.74 414.122 L2218.45 414.122 L2218.45 386.449 M2216.61 380.338 L2225.43 380.338 L2225.43 414.122 L2232.82 414.122 L2232.82 419.955 L2225.43 419.955 L2225.43 432.178 L2218.45 432.178 L2218.45 419.955 L2195.04 419.955 L2195.04 413.185 L2216.61 380.338 Z\" fill=\"#000000\" fill-rule=\"evenodd\" fill-opacity=\"1\" /></svg>\n"
      ]
     },
     "execution_count": 30,
     "metadata": {},
     "output_type": "execute_result"
    }
   ],
   "source": [
    "h(x) = -1 / (gp(x) - 1)\n",
    "g3(x) = x + h(x) * (g(x) - x)\n",
    "plot([x-> x, cos, g2, g3], ylims=(-5, 5))"
   ]
  },
  {
   "cell_type": "markdown",
   "id": "b01ca4b8",
   "metadata": {
    "cell_style": "split"
   },
   "source": [
    "* We don't know $g'(x_*)$ in advance because we don't know $x_*$ yet.\n",
    "* This method converges very fast\n",
    "* We actually just derived Newton's method."
   ]
  },
  {
   "cell_type": "markdown",
   "id": "6ff62d33",
   "metadata": {
    "slideshow": {
     "slide_type": "slide"
    }
   },
   "source": [
    "# A fresh derivation of Newton's method\n",
    "\n",
    "* A rootfinding problem $f(x) = 0$ can be converted to a fixed point problem $$x = x + f(x) =: g(x)$$ but there is no guarantee that $g'(x_*) = 1 + f'(x_*)$ will have magnitude less than 1.\n",
    "* Problem-specific algebraic manipulation can be used to make $|g'(x_*)|$ small.\n",
    "* $x = x + h(x) f(x)$ is also a valid formulation for any $h(x)$ bounded away from $0$.\n",
    "* Can we choose $h(x)$ such that $$ g'(x) = 1 + h'(x) f(x) + h(x) f'(x) = 0$$ when $f(x) = 0$?\n",
    "\n",
    "In other words,\n",
    "$$ x_{k+1} = x_k + \\underbrace{\\frac{-1}{f'(x_k)}}_{h(x_k)} f(x_k)  . $$"
   ]
  },
  {
   "cell_type": "markdown",
   "id": "e0f835bc",
   "metadata": {
    "slideshow": {
     "slide_type": "slide"
    }
   },
   "source": [
    "# Quadratic convergence!\n",
    "\n",
    "$$ \\left\\lvert \\frac{e_{k+1}}{e_k} \\right\\rvert \\to \\lvert g'(x_*) \\rvert $$\n",
    "\n",
    "* What does it mean that $g'(x_*) = 0$?\n",
    "* It turns out that Newton's method has _locally quadratic_ convergence to simple roots,\n",
    "$$\\lim_{k \\to \\infty} \\frac{|e_{k+1}|}{|e_k|^2} < \\infty.$$\n",
    "* \"The number of correct digits doubles each iteration.\"\n",
    "* Now that we know how to make a good guess accurate, the effort lies in getting a good guess."
   ]
  },
  {
   "cell_type": "markdown",
   "id": "6f47e2cc",
   "metadata": {
    "slideshow": {
     "slide_type": "slide"
    }
   },
   "source": [
    "# Culture: fast inverse square root\n",
    "\n",
    "The following code appeared literally (including comments) in the Quake III Arena source code (late 1990s).\n",
    "\n",
    "```C\n",
    "float Q_rsqrt( float number )\n",
    "{\n",
    "\tlong i;\n",
    "\tfloat x2, y;\n",
    "\tconst float threehalfs = 1.5F;\n",
    "\n",
    "\tx2 = number * 0.5F;\n",
    "\ty  = number;\n",
    "\ti  = * ( long * ) &y;                       // evil floating point bit level hacking\n",
    "\ti  = 0x5f3759df - ( i >> 1 );               // what the fuck? \n",
    "\ty  = * ( float * ) &i;\n",
    "    y  = y * ( threehalfs - ( x2 * y * y ) );   // 1st iteration\n",
    "//  y  = y * ( threehalfs - ( x2 * y * y ) );   // 2nd iteration, this can be removed\n",
    "\n",
    "\treturn y;\n",
    "}\n",
    "```\n",
    "\n",
    "We now have [vector instructions](https://software.intel.com/sites/landingpage/IntrinsicsGuide/#text=rsqrt&expand=2989,1224,4470) for approximate inverse square root.\n",
    "More at https://en.wikipedia.org/wiki/Fast_inverse_square_root"
   ]
  },
  {
   "cell_type": "markdown",
   "id": "1d438c27",
   "metadata": {
    "slideshow": {
     "slide_type": "slide"
    }
   },
   "source": [
    "# How does it work?\n",
    "\n",
    "Let's look at the last line\n",
    "```c\n",
    "y  = y * ( threehalfs - ( x2 * y * y ) );   // 1st iteration\n",
    "```"
   ]
  },
  {
   "cell_type": "markdown",
   "id": "bfc55b58",
   "metadata": {
    "cell_style": "split"
   },
   "source": [
    "We want a function $f(y)$ such that $f(1/\\sqrt{x}) = 0$. One such function is\n",
    "$$ f(y) = 1/y^2 - x, \\quad f'(y) = -2/y^3.$$\n",
    "\n",
    "There are others, e.g.,\n",
    "$$f_1(y) = y^2 - 1/x,\\quad f'(y) = 2 y,$$\n",
    "but this would require a division."
   ]
  },
  {
   "cell_type": "markdown",
   "id": "2acdd512",
   "metadata": {
    "cell_style": "split"
   },
   "source": [
    "Newton's method is\n",
    "\\begin{align}\n",
    "y_{k+1} &= y_k - \\frac{f(y_k)}{f'(y_k)} \\\\\n",
    "&= y_k - \\frac{1/y_k^2 - x}{-2/y_k^3} \\\\\n",
    "&= y_k + \\frac 1 2 (y_k - x y_k^3) \\\\\n",
    "&= y_k \\left(\\frac 3 2 - \\frac 1 2 x y_k^2\\right)\n",
    "\\end{align}"
   ]
  },
  {
   "cell_type": "markdown",
   "id": "350da54a",
   "metadata": {
    "slideshow": {
     "slide_type": "slide"
    }
   },
   "source": [
    "# Rootfinding outlook\n",
    "\n",
    "* Newton methods are immensely successful\n",
    "  * Convergence theory is local; we need good initial guesses (activity)\n",
    "  * Computing the derivative $f'(x)$ is *intrusive*\n",
    "    * Avoided by secant methods (approximate the derivative; activity)\n",
    "    * Algorithmic or numerical differentiation (future topics)\n",
    "  * Bisection is robust when conditions are met\n",
    "  * Line search (activity)\n",
    "  * When does Newton diverge?\n",
    "\n",
    "* More topics\n",
    "  * Find *all* the roots\n",
    "  * Use Newton-type methods with bounds\n",
    "  * Times when Newton converges slowly"
   ]
  },
  {
   "cell_type": "markdown",
   "id": "9b7fc5b6",
   "metadata": {
    "slideshow": {
     "slide_type": "slide"
    }
   },
   "source": [
    "# Exploratory rootfinding\n",
    "\n",
    "* Find a function $f(x)$ that models something you're interested in. You could consider nonlinear physical models (aerodynamic drag, nonlinear elasticity), behavioral models, probability distributions, or anything else that that catches your interest. Implement the function in Julia or another language.\n",
    "\n",
    "* Consider how you might know the output of such functions, but not an input. Think from the position of different stakeholders: is the equation used differently by an experimentalist collecting data versus by someone making predictions through simulation? How about a company or government reasoning about people versus the people their decisions may impact?\n",
    "\n",
    "* Formulate the map from known to desired data as a rootfinding problem and try one or more methods (Newton, bisection, etc., or use a rootfinding library).\n",
    "\n",
    "* Plot the inverse function (output versus input) from the standpoint of one or more stakeholder. Are there interesting inflection points? Are the methods reliable?\n",
    "\n",
    "* If there are a hierarchy of models for the application you're interested in, consider using a simpler model to provide an initial guess to a more complicated model."
   ]
  },
  {
   "cell_type": "markdown",
   "id": "9bf4fb6c",
   "metadata": {
    "slideshow": {
     "slide_type": "slide"
    }
   },
   "source": [
    "# Equation of state example\n",
    "\n",
    "Consider an [equation of state](https://en.wikipedia.org/wiki/Real_gas#Beattie%E2%80%93Bridgeman_model) for a real gas, which might provide pressure $p(T, \\rho)$ as a function of temperature $T$ and density $\\rho = 1/v$.\n",
    "\n",
    "* An experimentalist can measure temperature and pressure, and will need to solve for density (which is difficult to measure directly).\n",
    "* A simulation might know (at each cell or mesh point, at each time step) the density and internal energy, and need to compute pressure (and maybe temperature).\n",
    "* An analyst might have access to simulation output and wish to compute entropy (a thermodynamic property whose change reflects irreversible processes, and can be used to assess accuracy/stability of a simulation or efficiency of a machine).\n",
    "\n",
    "The above highlights how many equations are incomplete, failing to model how related quantities (internal energy and entropy in this case) depend on the other quantities. Standardization bodies (such as NIST, here in Boulder) and practitioners often prefer models that intrinsically provide a complete set of consistent relations. An elegent methodology for equations of state for gasses and fluids is by way of the [Helmholtz free energy](http://www.coolprop.org/fluid_properties/PurePseudoPure.html#pure-and-pseudo-pure-fluid-properties), which is not observable, but whose partial derivatives define a complete set of thermodynamic properties. The [CoolProp](http://www.coolprop.org) software has highly accurate models for many gasses, and practitioners often build less expensive models for narrower ranges of theromdynamic conditions."
   ]
  }
 ],
 "metadata": {
  "@webio": {
   "lastCommId": "cd1892c1e2064686902fbdf399e6e3e3",
   "lastKernelId": "6eae1736-6531-4224-a6c2-38e7ff163d19"
  },
  "celltoolbar": "Slideshow",
  "hide_code_all_hidden": false,
  "kernelspec": {
   "display_name": "Julia 1.7.1",
   "language": "julia",
   "name": "julia-1.7"
  },
  "language_info": {
   "file_extension": ".jl",
   "mimetype": "application/julia",
   "name": "julia",
   "version": "1.7.1"
  },
  "rise": {
   "enable_chalkboard": true
  }
 },
 "nbformat": 4,
 "nbformat_minor": 5
}
